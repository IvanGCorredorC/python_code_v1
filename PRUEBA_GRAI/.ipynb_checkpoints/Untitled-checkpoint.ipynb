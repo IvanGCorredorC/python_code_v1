{
 "cells": [
  {
   "cell_type": "code",
   "execution_count": null,
   "id": "cddfd2aa-23fd-4466-81a8-90ab6859e6be",
   "metadata": {},
   "outputs": [],
   "source": [
    "import pandas as pd\n",
    "import numpy as np\n",
    "# rutas\n",
    "p1 = \"D:/one_drive_unal/OneDrive - Universidad Nacional de Colombia/2025/prueba_JEP/Prueba_Tecnica/input/\"\n",
    "p2 = \"D:/one_drive_unal/OneDrive - Universidad Nacional de Colombia/2025/prueba_JEP/Prueba_Tecnica/output\"\n",
    "\n",
    "# cargar datos\n",
    "entidad_a = pd.read_excel(p1 + \"A.xlsx\",  decimal=\",\")\n",
    "entidad_b = pd.read_excel(p1 + \"B.xlsx\",  decimal=\",\")\n",
    "\n",
    "# crear variable FUENTE\n",
    "entidad_a[\"FUENTE\"] = \"A\"\n",
    "entidad_b[\"FUENTE\"] = \"B\"\n",
    "\n",
    "# crear llave única en A\n",
    "entidad_a[\"IDENTIFICADOR\"] = entidad_a[['NOMBRE1', 'NOMBRE2', 'APELLIDO1', 'APELLIDO2', 'NUMERO_DOCUMENTO']].apply(\n",
    "    #concatena las variables de indetificación y crea un valor de 4 digitos\n",
    "    lambda row: 1000 + abs(hash('_'.join(row.dropna().astype(str)))) % 9000, axis=1\n",
    ")\n",
    "# crear llave única en B\n",
    "entidad_b[\"IDENTIFICADOR\"] = entidad_b[['NOMBRE1', 'NOMBRE2', 'APELLIDO1', 'APELLIDO2', 'NUMERO_DOCUMENTO']].apply(\n",
    "    #concatena las variables de indetificación y crea un valor de 4 digitos\n",
    "    lambda row: 1000 + abs(hash('_'.join(row.dropna().astype(str)))) % 9000, axis=1\n",
    ")\n",
    "## append\n",
    "tabla_c = pd.concat([entidad_a, entidad_b], axis = 0).reset_index(drop=True)\n",
    "\n",
    "# generar tabla resumen\n",
    "resumen = tabla_c.groupby([\"IDENTIFICADOR\"])[\"FUENTE\"].size().reset_index(name=\"CANTIDAD_FUENTES\").sort_values(by=\"CANTIDAD_FUENTES\", ascending =False).reset_index(drop=True)\n",
    "resumen\n",
    "\n",
    "# Generar la gráfica de barras\n",
    "a = sns.countplot(x=\"IDENTIFICADOR\", data= tabla_c)\n",
    "\n",
    "import seaborn as sns\n",
    "import matplotlib.pyplot as plt\n",
    "\n",
    "# Configurar títulos y etiquetas\n",
    "plt.xlabel(\"Identificador personal\", fontsize=12)  # Título del eje X\n",
    "plt.ylabel(\"Número de fuentes\", fontsize=12)     # Título del eje Y\n",
    "plt.title(\"Personas por fuente\", fontsize=14)  # Título del gráfico\n",
    "\n",
    "# Rotar etiquetas del eje X\n",
    "plt.xticks(rotation=90, ha='center', fontsize=10)\n",
    "\n",
    "# Mostrar el gráfico\n",
    "plt.tight_layout()\n",
    "plt.show()\n",
    "\n",
    "# exportar la gráfica a pdf\n",
    "plt.savefig(p2 + \"personas_fuente.png\", bbox_inches=\"tight\")"
   ]
  }
 ],
 "metadata": {
  "kernelspec": {
   "display_name": "Python 3 (ipykernel)",
   "language": "python",
   "name": "python3"
  },
  "language_info": {
   "codemirror_mode": {
    "name": "ipython",
    "version": 3
   },
   "file_extension": ".py",
   "mimetype": "text/x-python",
   "name": "python",
   "nbconvert_exporter": "python",
   "pygments_lexer": "ipython3",
   "version": "3.12.7"
  }
 },
 "nbformat": 4,
 "nbformat_minor": 5
}
