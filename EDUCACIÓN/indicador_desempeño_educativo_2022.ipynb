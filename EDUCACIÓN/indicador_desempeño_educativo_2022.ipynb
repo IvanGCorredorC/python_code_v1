{
 "cells": [
  {
   "cell_type": "code",
   "execution_count": 93,
   "metadata": {},
   "outputs": [],
   "source": [
    "import pandas as pd\n",
    "import numpy as np"
   ]
  },
  {
   "cell_type": "code",
   "execution_count": 94,
   "metadata": {},
   "outputs": [],
   "source": [
    "icfes_f = pd.read_csv(\"C:/Users/Estadistico/Desktop/BACKUP_07_07_2022/ivan/informes/bases/RUV_SIMAT_ICFES_FINAL.dsv\", sep= \";\", encoding= \"latin-1\", low_memory=False) "
   ]
  },
  {
   "cell_type": "code",
   "execution_count": 4,
   "metadata": {},
   "outputs": [
    {
     "data": {
      "text/plain": [
       "0    450055\n",
       "1     91435\n",
       "Name: VICTIMA, dtype: int64"
      ]
     },
     "execution_count": 4,
     "metadata": {},
     "output_type": "execute_result"
    }
   ],
   "source": [
    "icfes_f[\"VICTIMA\"].value_counts()"
   ]
  },
  {
   "cell_type": "code",
   "execution_count": 95,
   "metadata": {
    "scrolled": true
   },
   "outputs": [
    {
     "name": "stdout",
     "output_type": "stream",
     "text": [
      "<class 'pandas.core.frame.DataFrame'>\n",
      "RangeIndex: 541490 entries, 0 to 541489\n",
      "Data columns (total 25 columns):\n",
      " #   Column                       Non-Null Count   Dtype  \n",
      "---  ------                       --------------   -----  \n",
      " 0   ESTU_PRIMERNOMBRE            541490 non-null  object \n",
      " 1   ESTU_SEGUNDONOMBRE           541490 non-null  object \n",
      " 2   ESTU_PRIMERAPELLIDO          541490 non-null  object \n",
      " 3   ESTU_SEGUNDOAPELLIDO         538729 non-null  object \n",
      " 4   ESTU_TIPODOCUMENTO           541490 non-null  object \n",
      " 5   ESTU_DOCUMENTO               541490 non-null  object \n",
      " 6   ESTU_GENERO                  541395 non-null  object \n",
      " 7   ESTU_FECHANACIMIENTO         541490 non-null  object \n",
      " 8   COLE_NOMBRE_ESTABLECIMIENTO  541490 non-null  object \n",
      " 9   COLE_NATURALEZA              541490 non-null  object \n",
      " 10  COLE_AREA_UBICACION          541490 non-null  object \n",
      " 11  GENERO_HOM                   91435 non-null   object \n",
      " 12  EDAD                         91435 non-null   float64\n",
      " 13  CICLO_VITAL                  91435 non-null   object \n",
      " 14  PERT_ETNICA                  91435 non-null   object \n",
      " 15  DISCAP                       91435 non-null   float64\n",
      " 16  DEPARTAMENTO                 88902 non-null   object \n",
      " 17  MUNICIPIO                    88902 non-null   object \n",
      " 18  ESTU_DEPTO_RESIDE            541329 non-null  object \n",
      " 19  ESTU_MCPIO_RESIDE            541329 non-null  object \n",
      " 20  HV5                          91435 non-null   float64\n",
      " 21  VICTIMA                      541490 non-null  int64  \n",
      " 22  NO_VICTIMA                   541490 non-null  int64  \n",
      " 23  PUNT_GLOBAL                  541490 non-null  int64  \n",
      " 24  PERCENTIL_GLOBAL             535371 non-null  float64\n",
      "dtypes: float64(4), int64(3), object(18)\n",
      "memory usage: 103.3+ MB\n"
     ]
    }
   ],
   "source": [
    "icfes_f.info()"
   ]
  },
  {
   "cell_type": "markdown",
   "metadata": {},
   "source": [
    "#### Numerador"
   ]
  },
  {
   "cell_type": "code",
   "execution_count": 11,
   "metadata": {},
   "outputs": [],
   "source": [
    "#Promedio víctimas\n",
    "x = icfes_f[icfes_f[\"VICTIMA\"]==1][\"PUNT_GLOBAL\"].mean()"
   ]
  },
  {
   "cell_type": "code",
   "execution_count": 53,
   "metadata": {},
   "outputs": [
    {
     "data": {
      "text/plain": [
       "226.6884781538798"
      ]
     },
     "execution_count": 53,
     "metadata": {},
     "output_type": "execute_result"
    }
   ],
   "source": [
    "x"
   ]
  },
  {
   "cell_type": "code",
   "execution_count": 12,
   "metadata": {},
   "outputs": [],
   "source": [
    "#Promedio no víctimas\n",
    "y = icfes_f[icfes_f[\"VICTIMA\"]==0][\"PUNT_GLOBAL\"].mean()"
   ]
  },
  {
   "cell_type": "code",
   "execution_count": 54,
   "metadata": {},
   "outputs": [
    {
     "data": {
      "text/plain": [
       "249.73381031207296"
      ]
     },
     "execution_count": 54,
     "metadata": {},
     "output_type": "execute_result"
    }
   ],
   "source": [
    "y"
   ]
  },
  {
   "cell_type": "code",
   "execution_count": 51,
   "metadata": {
    "scrolled": true
   },
   "outputs": [
    {
     "data": {
      "text/plain": [
       "23.045332158193162"
      ]
     },
     "execution_count": 51,
     "metadata": {},
     "output_type": "execute_result"
    }
   ],
   "source": [
    "#numerador\n",
    "n = y - x\n",
    "n"
   ]
  },
  {
   "cell_type": "markdown",
   "metadata": {},
   "source": [
    "#### Denominador"
   ]
  },
  {
   "cell_type": "code",
   "execution_count": 45,
   "metadata": {},
   "outputs": [],
   "source": [
    "# varianza víctimas\n",
    "#icfes_f[\"n_var_vic\"] = (icfes_f[icfes_f[\"VICTIMA\"]==1][\"PUNT_GLOBAL\"]) - x\n",
    "var_v = (icfes_f[icfes_f[\"VICTIMA\"]==1][\"PUNT_GLOBAL\"]).var(ddof=1)"
   ]
  },
  {
   "cell_type": "code",
   "execution_count": 55,
   "metadata": {},
   "outputs": [
    {
     "data": {
      "text/plain": [
       "1920.6652296928935"
      ]
     },
     "execution_count": 55,
     "metadata": {},
     "output_type": "execute_result"
    }
   ],
   "source": [
    "var_v "
   ]
  },
  {
   "cell_type": "code",
   "execution_count": 46,
   "metadata": {},
   "outputs": [],
   "source": [
    "# varianza no víctimas\n",
    "var_nv = (icfes_f[icfes_f[\"VICTIMA\"]==0][\"PUNT_GLOBAL\"]).var(ddof=1)"
   ]
  },
  {
   "cell_type": "code",
   "execution_count": 56,
   "metadata": {},
   "outputs": [
    {
     "data": {
      "text/plain": [
       "2605.0781427907373"
      ]
     },
     "execution_count": 56,
     "metadata": {},
     "output_type": "execute_result"
    }
   ],
   "source": [
    "var_nv "
   ]
  },
  {
   "cell_type": "code",
   "execution_count": 57,
   "metadata": {},
   "outputs": [],
   "source": [
    "#(icfes_f[icfes_f[\"VICTIMA\"]==1][\"PUNT_GLOBAL\"]).std(ddof=1)\n",
    "# var_v = np.sqrt(np.sum(icfes_f[\"n_var_vic\"]) / (91435 - 1))\n",
    "#pow(var_v,2)"
   ]
  },
  {
   "cell_type": "code",
   "execution_count": 58,
   "metadata": {},
   "outputs": [
    {
     "data": {
      "text/plain": [
       "49.894992545252244"
      ]
     },
     "execution_count": 58,
     "metadata": {},
     "output_type": "execute_result"
    }
   ],
   "source": [
    "s = np.sqrt((((91435 - 1)* var_v) + ((450055 - 1) * var_nv)) / (91435 + 450055 - 2))\n",
    "s"
   ]
  },
  {
   "cell_type": "code",
   "execution_count": 59,
   "metadata": {
    "scrolled": true
   },
   "outputs": [
    {
     "data": {
      "text/plain": [
       "0.4618766529986392"
      ]
     },
     "execution_count": 59,
     "metadata": {},
     "output_type": "execute_result"
    }
   ],
   "source": [
    "g = n/s\n",
    "g"
   ]
  },
  {
   "cell_type": "markdown",
   "metadata": {},
   "source": [
    "### Genero"
   ]
  },
  {
   "cell_type": "code",
   "execution_count": 61,
   "metadata": {
    "scrolled": false
   },
   "outputs": [
    {
     "data": {
      "text/plain": [
       "Mujer     52818\n",
       "Hombre    38593\n",
       "LGBTI        24\n",
       "Name: GENERO_HOM, dtype: int64"
      ]
     },
     "execution_count": 61,
     "metadata": {},
     "output_type": "execute_result"
    }
   ],
   "source": [
    "icfes_f[\"GENERO_HOM\"].value_counts()"
   ]
  },
  {
   "cell_type": "code",
   "execution_count": 74,
   "metadata": {},
   "outputs": [
    {
     "data": {
      "text/plain": [
       "F    294761\n",
       "M    246634\n",
       "Name: ESTU_GENERO, dtype: int64"
      ]
     },
     "execution_count": 74,
     "metadata": {},
     "output_type": "execute_result"
    }
   ],
   "source": [
    "icfes_f[\"ESTU_GENERO\"].value_counts()"
   ]
  },
  {
   "cell_type": "code",
   "execution_count": 73,
   "metadata": {},
   "outputs": [
    {
     "data": {
      "text/plain": [
       "0    450055\n",
       "1     91435\n",
       "Name: VICTIMA, dtype: int64"
      ]
     },
     "execution_count": 73,
     "metadata": {},
     "output_type": "execute_result"
    }
   ],
   "source": [
    "icfes_f[\"VICTIMA\"].value_counts()"
   ]
  },
  {
   "cell_type": "code",
   "execution_count": 81,
   "metadata": {},
   "outputs": [
    {
     "name": "stdout",
     "output_type": "stream",
     "text": [
      "229.88544554711996 224.35156575409897\n"
     ]
    }
   ],
   "source": [
    "#Promedio víctimas HOMGRES Y MUJERES\n",
    "x_m = icfes_f[(icfes_f[\"VICTIMA\"]==1) & (icfes_f[\"GENERO_HOM\"]==\"Mujer\")][\"PUNT_GLOBAL\"].mean()\n",
    "x_h = icfes_f[(icfes_f[\"VICTIMA\"]==1) & (icfes_f[\"GENERO_HOM\"]==\"Hombre\")][\"PUNT_GLOBAL\"].mean()\n",
    "print(x_h, x_m)"
   ]
  },
  {
   "cell_type": "code",
   "execution_count": 89,
   "metadata": {},
   "outputs": [
    {
     "name": "stdout",
     "output_type": "stream",
     "text": [
      "253.67290691627665 246.35712310505224\n"
     ]
    }
   ],
   "source": [
    "#Promedio no víctimas HOMGRES Y MUJERES\n",
    "y_m = icfes_f[(icfes_f[\"VICTIMA\"]==0) & (icfes_f[\"ESTU_GENERO\"]==\"F\")][\"PUNT_GLOBAL\"].mean()\n",
    "y_h = icfes_f[(icfes_f[\"VICTIMA\"]==0) & (icfes_f[\"ESTU_GENERO\"]==\"M\")][\"PUNT_GLOBAL\"].mean()\n",
    "print(y_h, y_m)"
   ]
  },
  {
   "cell_type": "code",
   "execution_count": 90,
   "metadata": {
    "scrolled": true
   },
   "outputs": [
    {
     "name": "stdout",
     "output_type": "stream",
     "text": [
      "23.787461369156688 22.005557350953268\n"
     ]
    }
   ],
   "source": [
    "#numerador\n",
    "n_m = y_m - x_m\n",
    "n_h = y_h - x_h\n",
    "print(n_h, n_m)"
   ]
  },
  {
   "cell_type": "markdown",
   "metadata": {},
   "source": [
    "#### Denominador"
   ]
  },
  {
   "cell_type": "code",
   "execution_count": 84,
   "metadata": {},
   "outputs": [],
   "source": [
    "# varianza víctimas hmbres y mujeres \n",
    "var_v_m  = (icfes_f[(icfes_f[\"VICTIMA\"]==1) & (icfes_f[\"GENERO_HOM\"]==\"Mujer\")][\"PUNT_GLOBAL\"]).var(ddof=1)\n",
    "var_v_h  = (icfes_f[(icfes_f[\"VICTIMA\"]==1) & (icfes_f[\"GENERO_HOM\"]==\"Hombre\")][\"PUNT_GLOBAL\"]).var(ddof=1)"
   ]
  },
  {
   "cell_type": "code",
   "execution_count": 85,
   "metadata": {},
   "outputs": [],
   "source": [
    "#var no viíctimas hombres y mujeres \n",
    "var_nv_m = (icfes_f[(icfes_f[\"VICTIMA\"]==0) & (icfes_f[\"ESTU_GENERO\"]==\"F\")][\"PUNT_GLOBAL\"]).var(ddof=1)\n",
    "var_nv_h = (icfes_f[(icfes_f[\"VICTIMA\"]==0) & (icfes_f[\"ESTU_GENERO\"]==\"M\")][\"PUNT_GLOBAL\"]).var(ddof=1)"
   ]
  },
  {
   "cell_type": "code",
   "execution_count": 86,
   "metadata": {},
   "outputs": [
    {
     "name": "stdout",
     "output_type": "stream",
     "text": [
      "1756.432110409748 2127.5482108925203 2461.913376680125 2743.601661728014\n"
     ]
    }
   ],
   "source": [
    "print(var_v_m, var_v_h, var_nv_m, var_nv_h)"
   ]
  },
  {
   "cell_type": "code",
   "execution_count": 87,
   "metadata": {},
   "outputs": [
    {
     "name": "stdout",
     "output_type": "stream",
     "text": [
      "48.525354909518676 51.577585691370345\n"
     ]
    }
   ],
   "source": [
    "s_m = np.sqrt((((52818 - 1)* var_v_m) + ((294761 - 1) * var_nv_m)) / (52818 + 294761 - 2))\n",
    "s_h = np.sqrt((((38593 - 1)* var_v_h) + ((246634 - 1) * var_nv_h)) / (38593  + 246634 - 2))\n",
    "print(s_m, s_h)"
   ]
  },
  {
   "cell_type": "code",
   "execution_count": 91,
   "metadata": {},
   "outputs": [
    {
     "name": "stdout",
     "output_type": "stream",
     "text": [
      "0.46119765107843474 0.45348575795035934\n"
     ]
    }
   ],
   "source": [
    "g_m = n_m/s_m\n",
    "g_h = n_h/s_h\n",
    "print(g_h, g_m)"
   ]
  }
 ],
 "metadata": {
  "kernelspec": {
   "display_name": "Python 3",
   "language": "python",
   "name": "python3"
  },
  "language_info": {
   "codemirror_mode": {
    "name": "ipython",
    "version": 3
   },
   "file_extension": ".py",
   "mimetype": "text/x-python",
   "name": "python",
   "nbconvert_exporter": "python",
   "pygments_lexer": "ipython3",
   "version": "3.8.3"
  }
 },
 "nbformat": 4,
 "nbformat_minor": 4
}
