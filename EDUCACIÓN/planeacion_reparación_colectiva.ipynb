{
 "cells": [
  {
   "cell_type": "code",
   "execution_count": 2,
   "id": "b2249b90",
   "metadata": {},
   "outputs": [],
   "source": [
    "import pandas as pd\n",
    "import numpy as np"
   ]
  },
  {
   "cell_type": "code",
   "execution_count": 273,
   "id": "b41a37db",
   "metadata": {},
   "outputs": [],
   "source": [
    "df_repara = pd.read_excel(\"C:/Users/ivan.corredor/reparación_colectiva_2023/CRITERIOS CRUCE_SRC_SRI_MEDIDAS_10COMP_V2 _procesamiento.xlsx\",\n",
    "                          sheet_name=\"Componente_V2\", header = 0)"
   ]
  },
  {
   "cell_type": "code",
   "execution_count": 29,
   "id": "2efb54c3",
   "metadata": {},
   "outputs": [],
   "source": [
    "#del df_repara"
   ]
  },
  {
   "cell_type": "code",
   "execution_count": 274,
   "id": "e754e690",
   "metadata": {},
   "outputs": [
    {
     "data": {
      "text/plain": [
       "['dane_municipio',\n",
       " 'PDET',\n",
       " 'SUBREGIÓN',\n",
       " 'CUENTA CON CITREP',\n",
       " 'NOMBRE DIRECCIÓN TERRITORIAL',\n",
       " 'Departamento',\n",
       " 'Municipio',\n",
       " 'LONGITUD',\n",
       " 'LATITUD',\n",
       " 'TOTAL_GIROS_INDEMNI',\n",
       " 'TOTAL_PERSONAS_INDEMNI',\n",
       " 'INDEMNIZA_MILLONES',\n",
       " 'Total Censo',\n",
       " 'Total Censo Rural',\n",
       " 'Total Víctimas',\n",
       " 'Total Víctimas sujetos de atención',\n",
       " 'c1_v1',\n",
       " 'V1',\n",
       " 'Total Víctimas (Rural)',\n",
       " 'Total Víctimas sujetos de atención (Rural)',\n",
       " 'Total Víctimas (Étnicos)',\n",
       " 'Total Víctimas sujetos de atención (Étnicos)',\n",
       " 'c1_v2',\n",
       " 'V2',\n",
       " 'Medición IRV 2021',\n",
       " 'V3',\n",
       " 'Confinamiento',\n",
       " 'V4',\n",
       " 'RESULTADO C1',\n",
       " 'Nivel de Priorización',\n",
       " 'Cobertura acueducto municipal',\n",
       " 'C2_V1',\n",
       " 'Cobertura acueducto\\nUrbana',\n",
       " 'C2_V2',\n",
       " 'Cobertura acueducto\\nRural (Centros Poblados y Fincas y Viviendas Dispersa)',\n",
       " 'C2_V3',\n",
       " 'Cobertura acueducto\\nCentros Poblados',\n",
       " 'C2_V4',\n",
       " 'Cobertura acueducto\\nZona Rural Dispersa',\n",
       " 'C2_V5',\n",
       " 'Cobertura alcantarillado municipal',\n",
       " 'C2_V6',\n",
       " 'Cobertura alcantarillado\\nUrbana',\n",
       " 'C2_V7',\n",
       " 'Cobertura alcantarillado\\nRural (Centros Poblados y Fincas y Viviendas Dispersa)',\n",
       " 'C2_V8',\n",
       " 'Cobertura alcantarillado\\nCentros Poblados',\n",
       " 'C2_V9',\n",
       " 'Cobertura alcantarillado\\nZona Rural Dispersa',\n",
       " 'C2_V10',\n",
       " 'RESULTADO C2',\n",
       " 'Nivel de Priorización.1',\n",
       " 'Ubicación sedes educativas en la EETT',\n",
       " 'Sedes Oficiales',\n",
       " 'C3_V1',\n",
       " 'Sedes No Oficiales',\n",
       " 'Kilómetros de vías fluviales reportadas por el IGAC',\n",
       " 'Kilómetros de Vías principales por municipio reportadas por IGAC',\n",
       " 'R_VIAS',\n",
       " 'RESULTADO C3',\n",
       " 'Nivel de Priorización ',\n",
       " 'Número de planes de RyR en la EETT',\n",
       " 'C4_V1',\n",
       " 'APROBADO',\n",
       " 'C4_V2',\n",
       " 'CERRADO/PENDIENTE ACTO ADMINISTRATIVO',\n",
       " 'EN ACTUALIZACION',\n",
       " 'EN FORMULACION',\n",
       " 'RESULTADO C4',\n",
       " 'Nivel de Priorización.2',\n",
       " 'Número de Sujetos de Reparación Colectiva ubicados en la EETT',\n",
       " 'C5_V1',\n",
       " 'ALISTAMIENTO',\n",
       " 'CARACTERIZACIÓN DEL DAÑO',\n",
       " 'DIAGNÓSTICO DEL DAÑO',\n",
       " 'DISEÑO Y FORMULACIÓN',\n",
       " 'IDENTIFICACIÓN',\n",
       " 'IMPLEMENTACIÓN',\n",
       " 'IMPLEMENTADO',\n",
       " 'ET',\n",
       " 'RESULTADO C5',\n",
       " 'Nivel de Priorización.3',\n",
       " 'ZONA',\n",
       " 'ENTORNO',\n",
       " 'ATENTADOS',\n",
       " 'GRUPOS',\n",
       " 'MINAS',\n",
       " 'CULTIVOS',\n",
       " 'INFORME',\n",
       " 'ALERTAS',\n",
       " 'RIESGO',\n",
       " 'ESTADO PRINCIPIO',\n",
       " 'RESULTADO C6',\n",
       " 'Nivel de Priorización.4',\n",
       " 'EEAC',\n",
       " 'ETNICO',\n",
       " 'NO ETNICO',\n",
       " 'RESULTADO C7',\n",
       " 'Nivel de Priorización.5',\n",
       " 'DER IDENTIFICACION \\nCUMPLE',\n",
       " 'DER IDENTIFICACION \\nNO CUMPLE',\n",
       " 'DER IDENTIFICACION \\nNO DETERMINADO',\n",
       " 'C8_V1',\n",
       " 'DER SALUD\\nCUMPLE',\n",
       " 'DER SALUD\\nNO CUMPLE',\n",
       " 'C8_V2',\n",
       " 'ATEN PSICO\\nCUMPLE',\n",
       " 'ATEN PSICO\\nNO CUMPLE',\n",
       " 'ATEN PSICO\\nNO APLICA',\n",
       " 'C8_V3',\n",
       " 'DER EDUCACION\\nCUMPLE',\n",
       " 'DER EDUCACION\\nNO CUMPLE',\n",
       " 'DER EDUCACION\\nNO APLICA',\n",
       " 'C8_V4',\n",
       " 'DER ALIMENTACION\\nCUMPLE',\n",
       " 'DER ALIMENTACION\\nNO CUMPLE',\n",
       " 'DER ALIMENTACION\\nNO DETERMINADO',\n",
       " 'C8_V5',\n",
       " 'DER REUNI FAMILIAR\\nCUMPLE',\n",
       " 'DER REUNI FAMILIAR\\nNO CUMPLE',\n",
       " 'DER REUNI FAMILIAR\\nNO APLICA',\n",
       " 'C8_V6',\n",
       " 'DER VIVIENDA\\nCUMPLE',\n",
       " 'DER VIVIENDA\\nNO CUMPLE',\n",
       " 'DER VIVIENDA\\nNO DETERMINADO',\n",
       " 'C8_V7',\n",
       " 'DER GEN INGRESOS\\nCUMPLE',\n",
       " 'DER GEN INGRESOS\\nNO CUMPLE',\n",
       " 'DER GEN INGRESOS\\nNO DETERMINADO',\n",
       " 'C8_V8',\n",
       " 'SSV \\nSUPERA',\n",
       " 'SSV \\nNO SUPERA',\n",
       " 'Prom',\n",
       " 'RESULTADO C8',\n",
       " 'Nivel de Priorización.6',\n",
       " 'Número de programas caracterizados en SIGO - VIVANTO por la EETT',\n",
       " 'RESULTADO C9',\n",
       " 'Nivel de Priorización.7',\n",
       " 'Número de emprendimientos caracterizados por EETT',\n",
       " 'C10_v1',\n",
       " 'Fortalecimiento a emprendimientos ENCADENAMIENTO',\n",
       " 'Fortalecimiento a emprendimientos FORTALECIMIENTO',\n",
       " 'Fortalecimiento a emprendimientos GESTION DE BIENES',\n",
       " 'c10_v2',\n",
       " 'RESULTADO C10',\n",
       " 'Nivel de Priorización.8',\n",
       " 'SC',\n",
       " 'RI',\n",
       " 'resultado del indice',\n",
       " 'Nivel de priorización ',\n",
       " 'resultado del indice.1',\n",
       " 'Nivel de priorización .1']"
      ]
     },
     "execution_count": 274,
     "metadata": {},
     "output_type": "execute_result"
    }
   ],
   "source": [
    "list(df_repara.columns)"
   ]
  },
  {
   "cell_type": "code",
   "execution_count": 250,
   "id": "1b05d579",
   "metadata": {},
   "outputs": [],
   "source": [
    "df_repara = df_repara.rename(columns={'Nivel de Priorización': 'Nivel c1', 'Nivel de Priorización.1': 'Nivel c2', \n",
    "                                      'Nivel de Priorización ': 'Nivel c3', 'Nivel de Priorización.2': 'Nivel c4', \n",
    "                                      'Nivel de Priorización.3': 'Nivel c5', 'Nivel de Priorización.4': 'Nivel c6',\n",
    "                                      'Nivel de Priorización.5': 'Nivel c7',  'Nivel de Priorización.6': 'Nivel c8', \n",
    "                                      'Nivel de Priorización.7': 'Nivel c9', 'Nivel de Priorización.8': 'Nivel c10',\n",
    "                                     'Nivel de priorización .1': 'Nivel Resultado General'})"
   ]
  },
  {
   "cell_type": "markdown",
   "id": "7dff5f89",
   "metadata": {},
   "source": [
    "## Consulta"
   ]
  },
  {
   "cell_type": "code",
   "execution_count": 192,
   "id": "e5b3baeb",
   "metadata": {},
   "outputs": [],
   "source": [
    "#pd.options.display.max_info_rows= None\n",
    "pd.options.display.max_columns= None"
   ]
  },
  {
   "cell_type": "code",
   "execution_count": 271,
   "id": "6849d711",
   "metadata": {
    "scrolled": false
   },
   "outputs": [
    {
     "data": {
      "text/html": [
       "<div>\n",
       "<style scoped>\n",
       "    .dataframe tbody tr th:only-of-type {\n",
       "        vertical-align: middle;\n",
       "    }\n",
       "\n",
       "    .dataframe tbody tr th {\n",
       "        vertical-align: top;\n",
       "    }\n",
       "\n",
       "    .dataframe thead th {\n",
       "        text-align: right;\n",
       "    }\n",
       "</style>\n",
       "<table border=\"1\" class=\"dataframe\">\n",
       "  <thead>\n",
       "    <tr style=\"text-align: right;\">\n",
       "      <th></th>\n",
       "      <th>dane_municipio</th>\n",
       "      <th>PDET</th>\n",
       "      <th>SUBREGIÓN</th>\n",
       "      <th>CUENTA CON CITREP</th>\n",
       "      <th>NOMBRE DIRECCIÓN TERRITORIAL</th>\n",
       "      <th>Departamento</th>\n",
       "      <th>Municipio</th>\n",
       "      <th>LONGITUD</th>\n",
       "      <th>LATITUD</th>\n",
       "      <th>Total Censo</th>\n",
       "      <th>Total Censo Rural</th>\n",
       "      <th>Total Víctimas</th>\n",
       "      <th>Total Víctimas sujetos de atención</th>\n",
       "      <th>c1_v1</th>\n",
       "      <th>V1</th>\n",
       "      <th>Total Víctimas (Rural)</th>\n",
       "      <th>Total Víctimas sujetos de atención (Rural)</th>\n",
       "      <th>Total Víctimas (Étnicos)</th>\n",
       "      <th>Total Víctimas sujetos de atención (Étnicos)</th>\n",
       "      <th>V2</th>\n",
       "      <th>Unnamed: 20</th>\n",
       "      <th>Medición IRV 2021</th>\n",
       "      <th>V3</th>\n",
       "      <th>Confinamiento</th>\n",
       "      <th>V4</th>\n",
       "      <th>RESULTADO C1</th>\n",
       "      <th>Nivel c1</th>\n",
       "      <th>Cobertura acueducto municipal</th>\n",
       "      <th>C2_V1</th>\n",
       "      <th>Cobertura acueducto\\nUrbana</th>\n",
       "      <th>C2_V2</th>\n",
       "      <th>Cobertura acueducto\\nRural (Centros Poblados y Fincas y Viviendas Dispersa)</th>\n",
       "      <th>C2_V3</th>\n",
       "      <th>Cobertura acueducto\\nCentros Poblados</th>\n",
       "      <th>C2_V4</th>\n",
       "      <th>Cobertura acueducto\\nZona Rural Dispersa</th>\n",
       "      <th>C2_V5</th>\n",
       "      <th>Cobertura alcantarillado municipal</th>\n",
       "      <th>C2_V6</th>\n",
       "      <th>Cobertura alcantarillado\\nUrbana</th>\n",
       "      <th>C2_V7</th>\n",
       "      <th>Cobertura alcantarillado\\nRural (Centros Poblados y Fincas y Viviendas Dispersa)</th>\n",
       "      <th>C2_V8</th>\n",
       "      <th>Cobertura alcantarillado\\nCentros Poblados</th>\n",
       "      <th>C2_V9</th>\n",
       "      <th>Cobertura alcantarillado\\nZona Rural Dispersa</th>\n",
       "      <th>C2_V10</th>\n",
       "      <th>RESULTADO C2</th>\n",
       "      <th>Nivel c2</th>\n",
       "      <th>Ubicación sedes educativas en la EETT</th>\n",
       "      <th>Sedes Oficiales</th>\n",
       "      <th>C3_V1</th>\n",
       "      <th>Sedes No Oficiales</th>\n",
       "      <th>Kilómetros de vías fluviales reportadas por el IGAC</th>\n",
       "      <th>Kilómetros de Vías principales por municipio reportadas por IGAC</th>\n",
       "      <th>R_VIAS</th>\n",
       "      <th>RESULTADO C3</th>\n",
       "      <th>Nivel c3</th>\n",
       "      <th>Número de planes de RyR en la EETT</th>\n",
       "      <th>C4_V1</th>\n",
       "      <th>APROBADO</th>\n",
       "      <th>C4_V2</th>\n",
       "      <th>CERRADO/PENDIENTE ACTO ADMINISTRATIVO</th>\n",
       "      <th>EN ACTUALIZACION</th>\n",
       "      <th>EN FORMULACION</th>\n",
       "      <th>RESULTADO C4</th>\n",
       "      <th>Nivel c4</th>\n",
       "      <th>Número de Sujetos de Reparación Colectiva ubicados en la EETT</th>\n",
       "      <th>C5_V1</th>\n",
       "      <th>ALISTAMIENTO</th>\n",
       "      <th>CARACTERIZACIÓN DEL DAÑO</th>\n",
       "      <th>DIAGNÓSTICO DEL DAÑO</th>\n",
       "      <th>DISEÑO Y FORMULACIÓN</th>\n",
       "      <th>IDENTIFICACIÓN</th>\n",
       "      <th>IMPLEMENTACIÓN</th>\n",
       "      <th>IMPLEMENTADO</th>\n",
       "      <th>ET</th>\n",
       "      <th>RESULTADO C5</th>\n",
       "      <th>Nivel c5</th>\n",
       "      <th>ZONA</th>\n",
       "      <th>ENTORNO</th>\n",
       "      <th>ATENTADOS</th>\n",
       "      <th>GRUPOS</th>\n",
       "      <th>MINAS</th>\n",
       "      <th>CULTIVOS</th>\n",
       "      <th>INFORME</th>\n",
       "      <th>ALERTAS</th>\n",
       "      <th>RIESGO</th>\n",
       "      <th>ESTADO PRINCIPIO</th>\n",
       "      <th>RESULTADO C6</th>\n",
       "      <th>Nivel c6</th>\n",
       "      <th>EEAC</th>\n",
       "      <th>ETNICO</th>\n",
       "      <th>NO ETNICO</th>\n",
       "      <th>RESULTADO C7</th>\n",
       "      <th>Nivel c7</th>\n",
       "      <th>DER IDENTIFICACION \\nCUMPLE</th>\n",
       "      <th>DER IDENTIFICACION \\nNO CUMPLE</th>\n",
       "      <th>DER IDENTIFICACION \\nNO DETERMINADO</th>\n",
       "      <th>C8_V1</th>\n",
       "      <th>DER SALUD\\nCUMPLE</th>\n",
       "      <th>DER SALUD\\nNO CUMPLE</th>\n",
       "      <th>C8_V2</th>\n",
       "      <th>ATEN PSICO\\nCUMPLE</th>\n",
       "      <th>ATEN PSICO\\nNO CUMPLE</th>\n",
       "      <th>ATEN PSICO\\nNO APLICA</th>\n",
       "      <th>C8_V3</th>\n",
       "      <th>DER EDUCACION\\nCUMPLE</th>\n",
       "      <th>DER EDUCACION\\nNO CUMPLE</th>\n",
       "      <th>DER EDUCACION\\nNO APLICA</th>\n",
       "      <th>C8_V4</th>\n",
       "      <th>DER ALIMENTACION\\nCUMPLE</th>\n",
       "      <th>DER ALIMENTACION\\nNO CUMPLE</th>\n",
       "      <th>DER ALIMENTACION\\nNO DETERMINADO</th>\n",
       "      <th>C8_V5</th>\n",
       "      <th>DER REUNI FAMILIAR\\nCUMPLE</th>\n",
       "      <th>DER REUNI FAMILIAR\\nNO CUMPLE</th>\n",
       "      <th>DER REUNI FAMILIAR\\nNO APLICA</th>\n",
       "      <th>C8_V6</th>\n",
       "      <th>DER VIVIENDA\\nCUMPLE</th>\n",
       "      <th>DER VIVIENDA\\nNO CUMPLE</th>\n",
       "      <th>DER VIVIENDA\\nNO DETERMINADO</th>\n",
       "      <th>C8_V7</th>\n",
       "      <th>DER GEN INGRESOS\\nCUMPLE</th>\n",
       "      <th>DER GEN INGRESOS\\nNO CUMPLE</th>\n",
       "      <th>DER GEN INGRESOS\\nNO DETERMINADO</th>\n",
       "      <th>C8_V8</th>\n",
       "      <th>SSV \\nSUPERA</th>\n",
       "      <th>SSV \\nNO SUPERA</th>\n",
       "      <th>Prom</th>\n",
       "      <th>RESULTADO C8</th>\n",
       "      <th>Nivel c8</th>\n",
       "      <th>Número de programas caracterizados en SIGO - VIVANTO por la EETT</th>\n",
       "      <th>RESULTADO C9</th>\n",
       "      <th>Nivel c9</th>\n",
       "      <th>Número de emprendimientos caracterizados por EETT</th>\n",
       "      <th>C10_v1</th>\n",
       "      <th>Fortalecimiento a emprendimientos ENCADENAMIENTO</th>\n",
       "      <th>Fortalecimiento a emprendimientos FORTALECIMIENTO</th>\n",
       "      <th>Fortalecimiento a emprendimientos GESTION DE BIENES</th>\n",
       "      <th>c10_v2</th>\n",
       "      <th>RESULTADO C10</th>\n",
       "      <th>Nivel c10</th>\n",
       "      <th>SC</th>\n",
       "      <th>RI</th>\n",
       "      <th>resultado del indice</th>\n",
       "      <th>Nivel de priorización</th>\n",
       "      <th>resultado del indice.1</th>\n",
       "      <th>Nivel Resultado General</th>\n",
       "    </tr>\n",
       "  </thead>\n",
       "  <tbody>\n",
       "    <tr>\n",
       "      <th>578</th>\n",
       "      <td>27073</td>\n",
       "      <td>NO</td>\n",
       "      <td>NaN</td>\n",
       "      <td>NaN</td>\n",
       "      <td>D.T. Chocó</td>\n",
       "      <td>Choco</td>\n",
       "      <td>Bagado</td>\n",
       "      <td>-76.415293</td>\n",
       "      <td>5.410555</td>\n",
       "      <td>10553</td>\n",
       "      <td>8014</td>\n",
       "      <td>5889</td>\n",
       "      <td>5756</td>\n",
       "      <td>0.545437</td>\n",
       "      <td>0.6</td>\n",
       "      <td>3891</td>\n",
       "      <td>3830</td>\n",
       "      <td>5335</td>\n",
       "      <td>5238</td>\n",
       "      <td>0.910007</td>\n",
       "      <td>1.0</td>\n",
       "      <td>Medio Alto</td>\n",
       "      <td>0.75</td>\n",
       "      <td>NO</td>\n",
       "      <td>0</td>\n",
       "      <td>0.7755</td>\n",
       "      <td>ALTA</td>\n",
       "      <td>SIN INFORMACIÓN</td>\n",
       "      <td>SIN INFORMACIÓN</td>\n",
       "      <td>SIN INFORMACIÓN</td>\n",
       "      <td>SIN INFORMACIÓN</td>\n",
       "      <td>SIN INFORMACIÓN</td>\n",
       "      <td>SIN INFORMACIÓN</td>\n",
       "      <td>SIN INFORMACIÓN</td>\n",
       "      <td>SIN INFORMACIÓN</td>\n",
       "      <td>SIN INFORMACIÓN</td>\n",
       "      <td>SIN INFORMACIÓN</td>\n",
       "      <td>SIN INFORMACIÓN</td>\n",
       "      <td>SIN INFORMACIÓN</td>\n",
       "      <td>SIN INFORMACIÓN</td>\n",
       "      <td>SIN INFORMACIÓN</td>\n",
       "      <td>SIN INFORMACIÓN</td>\n",
       "      <td>SIN INFORMACIÓN</td>\n",
       "      <td>SIN INFORMACIÓN</td>\n",
       "      <td>SIN INFORMACIÓN</td>\n",
       "      <td>SIN INFORMACIÓN</td>\n",
       "      <td>SIN INFORMACIÓN</td>\n",
       "      <td>NaN</td>\n",
       "      <td>NaN</td>\n",
       "      <td>46</td>\n",
       "      <td>46</td>\n",
       "      <td>0</td>\n",
       "      <td>0.0</td>\n",
       "      <td>0.0</td>\n",
       "      <td>1.20866</td>\n",
       "      <td>0</td>\n",
       "      <td>0.0</td>\n",
       "      <td>BAJA</td>\n",
       "      <td>16</td>\n",
       "      <td>0.75</td>\n",
       "      <td>0</td>\n",
       "      <td>0.75</td>\n",
       "      <td>0</td>\n",
       "      <td>16</td>\n",
       "      <td>0</td>\n",
       "      <td>0.75</td>\n",
       "      <td>ALTA</td>\n",
       "      <td>2</td>\n",
       "      <td>0.25</td>\n",
       "      <td>0</td>\n",
       "      <td>1</td>\n",
       "      <td>0</td>\n",
       "      <td>0</td>\n",
       "      <td>0</td>\n",
       "      <td>1</td>\n",
       "      <td>0</td>\n",
       "      <td>0.9</td>\n",
       "      <td>0.575</td>\n",
       "      <td>MEDIA</td>\n",
       "      <td>TODO EL MUNICIPIO</td>\n",
       "      <td>TODO EL MUNICIPIO</td>\n",
       "      <td>NO PRESENCIA</td>\n",
       "      <td>PRESENCIA</td>\n",
       "      <td>NO PRESENCIA</td>\n",
       "      <td>NO PRESENCIA</td>\n",
       "      <td>NO PRESENCIA</td>\n",
       "      <td>PRESENCIA</td>\n",
       "      <td>SIN DATO</td>\n",
       "      <td>BAJO</td>\n",
       "      <td>0</td>\n",
       "      <td>BAJA</td>\n",
       "      <td>1</td>\n",
       "      <td>1</td>\n",
       "      <td>0</td>\n",
       "      <td>0</td>\n",
       "      <td>BAJA</td>\n",
       "      <td>4351</td>\n",
       "      <td>21</td>\n",
       "      <td>14</td>\n",
       "      <td>0.004803</td>\n",
       "      <td>3958</td>\n",
       "      <td>428</td>\n",
       "      <td>0.098278</td>\n",
       "      <td>397</td>\n",
       "      <td>311</td>\n",
       "      <td>3678</td>\n",
       "      <td>0.439266</td>\n",
       "      <td>1199</td>\n",
       "      <td>164</td>\n",
       "      <td>3023</td>\n",
       "      <td>0.120323</td>\n",
       "      <td>1894.0</td>\n",
       "      <td>1819.0</td>\n",
       "      <td>673.0</td>\n",
       "      <td>0.4899</td>\n",
       "      <td>8</td>\n",
       "      <td>6</td>\n",
       "      <td>4372</td>\n",
       "      <td>0.428571</td>\n",
       "      <td>1004</td>\n",
       "      <td>3006</td>\n",
       "      <td>376</td>\n",
       "      <td>0.749626</td>\n",
       "      <td>1554</td>\n",
       "      <td>1075</td>\n",
       "      <td>1757</td>\n",
       "      <td>0.408901</td>\n",
       "      <td>812.0</td>\n",
       "      <td>3574.0</td>\n",
       "      <td>0.342458</td>\n",
       "      <td>0.8</td>\n",
       "      <td>ALTA</td>\n",
       "      <td>2</td>\n",
       "      <td>0.75</td>\n",
       "      <td>ALTA</td>\n",
       "      <td>1</td>\n",
       "      <td>0</td>\n",
       "      <td>0</td>\n",
       "      <td>0</td>\n",
       "      <td>0</td>\n",
       "      <td>1</td>\n",
       "      <td>0.5</td>\n",
       "      <td>MEDIA</td>\n",
       "      <td>NaN</td>\n",
       "      <td>NaN</td>\n",
       "      <td>0.41505</td>\n",
       "      <td>MEDIA</td>\n",
       "      <td>4</td>\n",
       "      <td>MEDIA</td>\n",
       "    </tr>\n",
       "  </tbody>\n",
       "</table>\n",
       "</div>"
      ],
      "text/plain": [
       "     dane_municipio PDET SUBREGIÓN CUENTA CON CITREP  \\\n",
       "578           27073   NO       NaN               NaN   \n",
       "\n",
       "    NOMBRE DIRECCIÓN TERRITORIAL Departamento Municipio   LONGITUD   LATITUD  \\\n",
       "578                   D.T. Chocó        Choco    Bagado -76.415293  5.410555   \n",
       "\n",
       "     Total Censo  Total Censo Rural  Total Víctimas  \\\n",
       "578        10553               8014            5889   \n",
       "\n",
       "     Total Víctimas sujetos de atención     c1_v1   V1  \\\n",
       "578                                5756  0.545437  0.6   \n",
       "\n",
       "     Total Víctimas (Rural)  Total Víctimas sujetos de atención (Rural)  \\\n",
       "578                    3891                                        3830   \n",
       "\n",
       "     Total Víctimas (Étnicos)  Total Víctimas sujetos de atención (Étnicos)  \\\n",
       "578                      5335                                          5238   \n",
       "\n",
       "           V2  Unnamed: 20 Medición IRV 2021    V3 Confinamiento  V4  \\\n",
       "578  0.910007          1.0        Medio Alto  0.75            NO   0   \n",
       "\n",
       "     RESULTADO C1 Nivel c1 Cobertura acueducto municipal            C2_V1  \\\n",
       "578        0.7755     ALTA               SIN INFORMACIÓN  SIN INFORMACIÓN   \n",
       "\n",
       "    Cobertura acueducto\\nUrbana            C2_V2  \\\n",
       "578             SIN INFORMACIÓN  SIN INFORMACIÓN   \n",
       "\n",
       "    Cobertura acueducto\\nRural (Centros Poblados y Fincas y Viviendas Dispersa)  \\\n",
       "578                                    SIN INFORMACIÓN                            \n",
       "\n",
       "               C2_V3 Cobertura acueducto\\nCentros Poblados            C2_V4  \\\n",
       "578  SIN INFORMACIÓN                       SIN INFORMACIÓN  SIN INFORMACIÓN   \n",
       "\n",
       "    Cobertura acueducto\\nZona Rural Dispersa            C2_V5  \\\n",
       "578                          SIN INFORMACIÓN  SIN INFORMACIÓN   \n",
       "\n",
       "    Cobertura alcantarillado municipal            C2_V6  \\\n",
       "578                    SIN INFORMACIÓN  SIN INFORMACIÓN   \n",
       "\n",
       "    Cobertura alcantarillado\\nUrbana            C2_V7  \\\n",
       "578                  SIN INFORMACIÓN  SIN INFORMACIÓN   \n",
       "\n",
       "    Cobertura alcantarillado\\nRural (Centros Poblados y Fincas y Viviendas Dispersa)  \\\n",
       "578                                    SIN INFORMACIÓN                                 \n",
       "\n",
       "               C2_V8 Cobertura alcantarillado\\nCentros Poblados  \\\n",
       "578  SIN INFORMACIÓN                            SIN INFORMACIÓN   \n",
       "\n",
       "               C2_V9 Cobertura alcantarillado\\nZona Rural Dispersa  \\\n",
       "578  SIN INFORMACIÓN                               SIN INFORMACIÓN   \n",
       "\n",
       "              C2_V10  RESULTADO C2 Nivel c2  \\\n",
       "578  SIN INFORMACIÓN           NaN      NaN   \n",
       "\n",
       "    Ubicación sedes educativas en la EETT Sedes Oficiales C3_V1  \\\n",
       "578                                    46              46     0   \n",
       "\n",
       "     Sedes No Oficiales  Kilómetros de vías fluviales reportadas por el IGAC  \\\n",
       "578                 0.0                                                0.0     \n",
       "\n",
       "     Kilómetros de Vías principales por municipio reportadas por IGAC  R_VIAS  \\\n",
       "578                                            1.20866                      0   \n",
       "\n",
       "     RESULTADO C3 Nivel c3  Número de planes de RyR en la EETT  C4_V1  \\\n",
       "578           0.0     BAJA                                  16   0.75   \n",
       "\n",
       "     APROBADO  C4_V2  CERRADO/PENDIENTE ACTO ADMINISTRATIVO  EN ACTUALIZACION  \\\n",
       "578         0   0.75                                      0                16   \n",
       "\n",
       "     EN FORMULACION  RESULTADO C4 Nivel c4  \\\n",
       "578               0          0.75     ALTA   \n",
       "\n",
       "     Número de Sujetos de Reparación Colectiva ubicados en la EETT  C5_V1  \\\n",
       "578                                                  2               0.25   \n",
       "\n",
       "     ALISTAMIENTO  CARACTERIZACIÓN DEL DAÑO  DIAGNÓSTICO DEL DAÑO  \\\n",
       "578             0                         1                     0   \n",
       "\n",
       "     DISEÑO Y FORMULACIÓN  IDENTIFICACIÓN  IMPLEMENTACIÓN  IMPLEMENTADO   ET  \\\n",
       "578                     0               0               1             0  0.9   \n",
       "\n",
       "     RESULTADO C5 Nivel c5               ZONA            ENTORNO  \\\n",
       "578         0.575    MEDIA  TODO EL MUNICIPIO  TODO EL MUNICIPIO   \n",
       "\n",
       "        ATENTADOS     GRUPOS         MINAS      CULTIVOS       INFORME  \\\n",
       "578  NO PRESENCIA  PRESENCIA  NO PRESENCIA  NO PRESENCIA  NO PRESENCIA   \n",
       "\n",
       "       ALERTAS    RIESGO ESTADO PRINCIPIO RESULTADO C6 Nivel c6  EEAC  ETNICO  \\\n",
       "578  PRESENCIA  SIN DATO             BAJO            0     BAJA     1       1   \n",
       "\n",
       "     NO ETNICO  RESULTADO C7 Nivel c7  DER IDENTIFICACION \\nCUMPLE  \\\n",
       "578          0             0     BAJA                         4351   \n",
       "\n",
       "     DER IDENTIFICACION \\nNO CUMPLE  DER IDENTIFICACION \\nNO DETERMINADO  \\\n",
       "578                              21                                   14   \n",
       "\n",
       "        C8_V1  DER SALUD\\nCUMPLE  DER SALUD\\nNO CUMPLE     C8_V2  \\\n",
       "578  0.004803               3958                   428  0.098278   \n",
       "\n",
       "     ATEN PSICO\\nCUMPLE  ATEN PSICO\\nNO CUMPLE  ATEN PSICO\\nNO APLICA  \\\n",
       "578                 397                    311                   3678   \n",
       "\n",
       "        C8_V3  DER EDUCACION\\nCUMPLE  DER EDUCACION\\nNO CUMPLE  \\\n",
       "578  0.439266                   1199                       164   \n",
       "\n",
       "     DER EDUCACION\\nNO APLICA     C8_V4  DER ALIMENTACION\\nCUMPLE  \\\n",
       "578                      3023  0.120323                    1894.0   \n",
       "\n",
       "     DER ALIMENTACION\\nNO CUMPLE  DER ALIMENTACION\\nNO DETERMINADO   C8_V5  \\\n",
       "578                       1819.0                             673.0  0.4899   \n",
       "\n",
       "     DER REUNI FAMILIAR\\nCUMPLE  DER REUNI FAMILIAR\\nNO CUMPLE  \\\n",
       "578                           8                              6   \n",
       "\n",
       "     DER REUNI FAMILIAR\\nNO APLICA     C8_V6  DER VIVIENDA\\nCUMPLE  \\\n",
       "578                           4372  0.428571                  1004   \n",
       "\n",
       "     DER VIVIENDA\\nNO CUMPLE  DER VIVIENDA\\nNO DETERMINADO     C8_V7  \\\n",
       "578                     3006                           376  0.749626   \n",
       "\n",
       "     DER GEN INGRESOS\\nCUMPLE  DER GEN INGRESOS\\nNO CUMPLE  \\\n",
       "578                      1554                         1075   \n",
       "\n",
       "     DER GEN INGRESOS\\nNO DETERMINADO     C8_V8  SSV \\nSUPERA  \\\n",
       "578                              1757  0.408901         812.0   \n",
       "\n",
       "     SSV \\nNO SUPERA      Prom  RESULTADO C8 Nivel c8  \\\n",
       "578           3574.0  0.342458           0.8     ALTA   \n",
       "\n",
       "     Número de programas caracterizados en SIGO - VIVANTO por la EETT  \\\n",
       "578                                                  2                  \n",
       "\n",
       "     RESULTADO C9 Nivel c9  Número de emprendimientos caracterizados por EETT  \\\n",
       "578          0.75     ALTA                                                  1   \n",
       "\n",
       "     C10_v1  Fortalecimiento a emprendimientos ENCADENAMIENTO  \\\n",
       "578       0                                                 0   \n",
       "\n",
       "     Fortalecimiento a emprendimientos FORTALECIMIENTO  \\\n",
       "578                                                  0   \n",
       "\n",
       "     Fortalecimiento a emprendimientos GESTION DE BIENES  c10_v2  \\\n",
       "578                                                  0         1   \n",
       "\n",
       "     RESULTADO C10 Nivel c10  SC  RI  resultado del indice  \\\n",
       "578            0.5     MEDIA NaN NaN               0.41505   \n",
       "\n",
       "    Nivel de priorización   resultado del indice.1 Nivel Resultado General  \n",
       "578                  MEDIA                       4                   MEDIA  "
      ]
     },
     "execution_count": 271,
     "metadata": {},
     "output_type": "execute_result"
    }
   ],
   "source": [
    "Consulta_nombre = df_repara[df_repara['Municipio'] == 'Bagado']\n",
    "Consulta_nombre"
   ]
  },
  {
   "cell_type": "code",
   "execution_count": 272,
   "id": "fbdc9570",
   "metadata": {},
   "outputs": [
    {
     "data": {
      "text/html": [
       "<div>\n",
       "<style scoped>\n",
       "    .dataframe tbody tr th:only-of-type {\n",
       "        vertical-align: middle;\n",
       "    }\n",
       "\n",
       "    .dataframe tbody tr th {\n",
       "        vertical-align: top;\n",
       "    }\n",
       "\n",
       "    .dataframe thead th {\n",
       "        text-align: right;\n",
       "    }\n",
       "</style>\n",
       "<table border=\"1\" class=\"dataframe\">\n",
       "  <thead>\n",
       "    <tr style=\"text-align: right;\">\n",
       "      <th></th>\n",
       "      <th>dane_municipio</th>\n",
       "      <th>PDET</th>\n",
       "      <th>SUBREGIÓN</th>\n",
       "      <th>CUENTA CON CITREP</th>\n",
       "      <th>NOMBRE DIRECCIÓN TERRITORIAL</th>\n",
       "      <th>Departamento</th>\n",
       "      <th>Municipio</th>\n",
       "      <th>LONGITUD</th>\n",
       "      <th>LATITUD</th>\n",
       "      <th>Total Censo</th>\n",
       "      <th>Total Censo Rural</th>\n",
       "      <th>Total Víctimas</th>\n",
       "      <th>Total Víctimas sujetos de atención</th>\n",
       "      <th>c1_v1</th>\n",
       "      <th>V1</th>\n",
       "      <th>Total Víctimas (Rural)</th>\n",
       "      <th>Total Víctimas sujetos de atención (Rural)</th>\n",
       "      <th>Total Víctimas (Étnicos)</th>\n",
       "      <th>Total Víctimas sujetos de atención (Étnicos)</th>\n",
       "      <th>V2</th>\n",
       "      <th>Unnamed: 20</th>\n",
       "      <th>Medición IRV 2021</th>\n",
       "      <th>V3</th>\n",
       "      <th>Confinamiento</th>\n",
       "      <th>V4</th>\n",
       "      <th>RESULTADO C1</th>\n",
       "      <th>Nivel c1</th>\n",
       "      <th>Cobertura acueducto municipal</th>\n",
       "      <th>C2_V1</th>\n",
       "      <th>Cobertura acueducto\\nUrbana</th>\n",
       "      <th>C2_V2</th>\n",
       "      <th>Cobertura acueducto\\nRural (Centros Poblados y Fincas y Viviendas Dispersa)</th>\n",
       "      <th>C2_V3</th>\n",
       "      <th>Cobertura acueducto\\nCentros Poblados</th>\n",
       "      <th>C2_V4</th>\n",
       "      <th>Cobertura acueducto\\nZona Rural Dispersa</th>\n",
       "      <th>C2_V5</th>\n",
       "      <th>Cobertura alcantarillado municipal</th>\n",
       "      <th>C2_V6</th>\n",
       "      <th>Cobertura alcantarillado\\nUrbana</th>\n",
       "      <th>C2_V7</th>\n",
       "      <th>Cobertura alcantarillado\\nRural (Centros Poblados y Fincas y Viviendas Dispersa)</th>\n",
       "      <th>C2_V8</th>\n",
       "      <th>Cobertura alcantarillado\\nCentros Poblados</th>\n",
       "      <th>C2_V9</th>\n",
       "      <th>Cobertura alcantarillado\\nZona Rural Dispersa</th>\n",
       "      <th>C2_V10</th>\n",
       "      <th>RESULTADO C2</th>\n",
       "      <th>Nivel c2</th>\n",
       "      <th>Ubicación sedes educativas en la EETT</th>\n",
       "      <th>Sedes Oficiales</th>\n",
       "      <th>C3_V1</th>\n",
       "      <th>Sedes No Oficiales</th>\n",
       "      <th>Kilómetros de vías fluviales reportadas por el IGAC</th>\n",
       "      <th>Kilómetros de Vías principales por municipio reportadas por IGAC</th>\n",
       "      <th>R_VIAS</th>\n",
       "      <th>RESULTADO C3</th>\n",
       "      <th>Nivel c3</th>\n",
       "      <th>Número de planes de RyR en la EETT</th>\n",
       "      <th>C4_V1</th>\n",
       "      <th>APROBADO</th>\n",
       "      <th>C4_V2</th>\n",
       "      <th>CERRADO/PENDIENTE ACTO ADMINISTRATIVO</th>\n",
       "      <th>EN ACTUALIZACION</th>\n",
       "      <th>EN FORMULACION</th>\n",
       "      <th>RESULTADO C4</th>\n",
       "      <th>Nivel c4</th>\n",
       "      <th>Número de Sujetos de Reparación Colectiva ubicados en la EETT</th>\n",
       "      <th>C5_V1</th>\n",
       "      <th>ALISTAMIENTO</th>\n",
       "      <th>CARACTERIZACIÓN DEL DAÑO</th>\n",
       "      <th>DIAGNÓSTICO DEL DAÑO</th>\n",
       "      <th>DISEÑO Y FORMULACIÓN</th>\n",
       "      <th>IDENTIFICACIÓN</th>\n",
       "      <th>IMPLEMENTACIÓN</th>\n",
       "      <th>IMPLEMENTADO</th>\n",
       "      <th>ET</th>\n",
       "      <th>RESULTADO C5</th>\n",
       "      <th>Nivel c5</th>\n",
       "      <th>ZONA</th>\n",
       "      <th>ENTORNO</th>\n",
       "      <th>ATENTADOS</th>\n",
       "      <th>GRUPOS</th>\n",
       "      <th>MINAS</th>\n",
       "      <th>CULTIVOS</th>\n",
       "      <th>INFORME</th>\n",
       "      <th>ALERTAS</th>\n",
       "      <th>RIESGO</th>\n",
       "      <th>ESTADO PRINCIPIO</th>\n",
       "      <th>RESULTADO C6</th>\n",
       "      <th>Nivel c6</th>\n",
       "      <th>EEAC</th>\n",
       "      <th>ETNICO</th>\n",
       "      <th>NO ETNICO</th>\n",
       "      <th>RESULTADO C7</th>\n",
       "      <th>Nivel c7</th>\n",
       "      <th>DER IDENTIFICACION \\nCUMPLE</th>\n",
       "      <th>DER IDENTIFICACION \\nNO CUMPLE</th>\n",
       "      <th>DER IDENTIFICACION \\nNO DETERMINADO</th>\n",
       "      <th>C8_V1</th>\n",
       "      <th>DER SALUD\\nCUMPLE</th>\n",
       "      <th>DER SALUD\\nNO CUMPLE</th>\n",
       "      <th>C8_V2</th>\n",
       "      <th>ATEN PSICO\\nCUMPLE</th>\n",
       "      <th>ATEN PSICO\\nNO CUMPLE</th>\n",
       "      <th>ATEN PSICO\\nNO APLICA</th>\n",
       "      <th>C8_V3</th>\n",
       "      <th>DER EDUCACION\\nCUMPLE</th>\n",
       "      <th>DER EDUCACION\\nNO CUMPLE</th>\n",
       "      <th>DER EDUCACION\\nNO APLICA</th>\n",
       "      <th>C8_V4</th>\n",
       "      <th>DER ALIMENTACION\\nCUMPLE</th>\n",
       "      <th>DER ALIMENTACION\\nNO CUMPLE</th>\n",
       "      <th>DER ALIMENTACION\\nNO DETERMINADO</th>\n",
       "      <th>C8_V5</th>\n",
       "      <th>DER REUNI FAMILIAR\\nCUMPLE</th>\n",
       "      <th>DER REUNI FAMILIAR\\nNO CUMPLE</th>\n",
       "      <th>DER REUNI FAMILIAR\\nNO APLICA</th>\n",
       "      <th>C8_V6</th>\n",
       "      <th>DER VIVIENDA\\nCUMPLE</th>\n",
       "      <th>DER VIVIENDA\\nNO CUMPLE</th>\n",
       "      <th>DER VIVIENDA\\nNO DETERMINADO</th>\n",
       "      <th>C8_V7</th>\n",
       "      <th>DER GEN INGRESOS\\nCUMPLE</th>\n",
       "      <th>DER GEN INGRESOS\\nNO CUMPLE</th>\n",
       "      <th>DER GEN INGRESOS\\nNO DETERMINADO</th>\n",
       "      <th>C8_V8</th>\n",
       "      <th>SSV \\nSUPERA</th>\n",
       "      <th>SSV \\nNO SUPERA</th>\n",
       "      <th>Prom</th>\n",
       "      <th>RESULTADO C8</th>\n",
       "      <th>Nivel c8</th>\n",
       "      <th>Número de programas caracterizados en SIGO - VIVANTO por la EETT</th>\n",
       "      <th>RESULTADO C9</th>\n",
       "      <th>Nivel c9</th>\n",
       "      <th>Número de emprendimientos caracterizados por EETT</th>\n",
       "      <th>C10_v1</th>\n",
       "      <th>Fortalecimiento a emprendimientos ENCADENAMIENTO</th>\n",
       "      <th>Fortalecimiento a emprendimientos FORTALECIMIENTO</th>\n",
       "      <th>Fortalecimiento a emprendimientos GESTION DE BIENES</th>\n",
       "      <th>c10_v2</th>\n",
       "      <th>RESULTADO C10</th>\n",
       "      <th>Nivel c10</th>\n",
       "      <th>SC</th>\n",
       "      <th>RI</th>\n",
       "      <th>resultado del indice</th>\n",
       "      <th>Nivel de priorización</th>\n",
       "      <th>resultado del indice.1</th>\n",
       "      <th>Nivel Resultado General</th>\n",
       "    </tr>\n",
       "  </thead>\n",
       "  <tbody>\n",
       "    <tr>\n",
       "      <th>578</th>\n",
       "      <td>27073</td>\n",
       "      <td>NO</td>\n",
       "      <td>NaN</td>\n",
       "      <td>NaN</td>\n",
       "      <td>D.T. Chocó</td>\n",
       "      <td>Choco</td>\n",
       "      <td>Bagado</td>\n",
       "      <td>-76.415293</td>\n",
       "      <td>5.410555</td>\n",
       "      <td>10553</td>\n",
       "      <td>8014</td>\n",
       "      <td>5889</td>\n",
       "      <td>5756</td>\n",
       "      <td>0.545437</td>\n",
       "      <td>0.6</td>\n",
       "      <td>3891</td>\n",
       "      <td>3830</td>\n",
       "      <td>5335</td>\n",
       "      <td>5238</td>\n",
       "      <td>0.910007</td>\n",
       "      <td>1.0</td>\n",
       "      <td>Medio Alto</td>\n",
       "      <td>0.75</td>\n",
       "      <td>NO</td>\n",
       "      <td>0</td>\n",
       "      <td>0.7755</td>\n",
       "      <td>ALTA</td>\n",
       "      <td>SIN INFORMACIÓN</td>\n",
       "      <td>SIN INFORMACIÓN</td>\n",
       "      <td>SIN INFORMACIÓN</td>\n",
       "      <td>SIN INFORMACIÓN</td>\n",
       "      <td>SIN INFORMACIÓN</td>\n",
       "      <td>SIN INFORMACIÓN</td>\n",
       "      <td>SIN INFORMACIÓN</td>\n",
       "      <td>SIN INFORMACIÓN</td>\n",
       "      <td>SIN INFORMACIÓN</td>\n",
       "      <td>SIN INFORMACIÓN</td>\n",
       "      <td>SIN INFORMACIÓN</td>\n",
       "      <td>SIN INFORMACIÓN</td>\n",
       "      <td>SIN INFORMACIÓN</td>\n",
       "      <td>SIN INFORMACIÓN</td>\n",
       "      <td>SIN INFORMACIÓN</td>\n",
       "      <td>SIN INFORMACIÓN</td>\n",
       "      <td>SIN INFORMACIÓN</td>\n",
       "      <td>SIN INFORMACIÓN</td>\n",
       "      <td>SIN INFORMACIÓN</td>\n",
       "      <td>SIN INFORMACIÓN</td>\n",
       "      <td>NaN</td>\n",
       "      <td>NaN</td>\n",
       "      <td>46</td>\n",
       "      <td>46</td>\n",
       "      <td>0</td>\n",
       "      <td>0.0</td>\n",
       "      <td>0.0</td>\n",
       "      <td>1.20866</td>\n",
       "      <td>0</td>\n",
       "      <td>0.0</td>\n",
       "      <td>BAJA</td>\n",
       "      <td>16</td>\n",
       "      <td>0.75</td>\n",
       "      <td>0</td>\n",
       "      <td>0.75</td>\n",
       "      <td>0</td>\n",
       "      <td>16</td>\n",
       "      <td>0</td>\n",
       "      <td>0.75</td>\n",
       "      <td>ALTA</td>\n",
       "      <td>2</td>\n",
       "      <td>0.25</td>\n",
       "      <td>0</td>\n",
       "      <td>1</td>\n",
       "      <td>0</td>\n",
       "      <td>0</td>\n",
       "      <td>0</td>\n",
       "      <td>1</td>\n",
       "      <td>0</td>\n",
       "      <td>0.9</td>\n",
       "      <td>0.575</td>\n",
       "      <td>MEDIA</td>\n",
       "      <td>TODO EL MUNICIPIO</td>\n",
       "      <td>TODO EL MUNICIPIO</td>\n",
       "      <td>NO PRESENCIA</td>\n",
       "      <td>PRESENCIA</td>\n",
       "      <td>NO PRESENCIA</td>\n",
       "      <td>NO PRESENCIA</td>\n",
       "      <td>NO PRESENCIA</td>\n",
       "      <td>PRESENCIA</td>\n",
       "      <td>SIN DATO</td>\n",
       "      <td>BAJO</td>\n",
       "      <td>0</td>\n",
       "      <td>BAJA</td>\n",
       "      <td>1</td>\n",
       "      <td>1</td>\n",
       "      <td>0</td>\n",
       "      <td>0</td>\n",
       "      <td>BAJA</td>\n",
       "      <td>4351</td>\n",
       "      <td>21</td>\n",
       "      <td>14</td>\n",
       "      <td>0.004803</td>\n",
       "      <td>3958</td>\n",
       "      <td>428</td>\n",
       "      <td>0.098278</td>\n",
       "      <td>397</td>\n",
       "      <td>311</td>\n",
       "      <td>3678</td>\n",
       "      <td>0.439266</td>\n",
       "      <td>1199</td>\n",
       "      <td>164</td>\n",
       "      <td>3023</td>\n",
       "      <td>0.120323</td>\n",
       "      <td>1894.0</td>\n",
       "      <td>1819.0</td>\n",
       "      <td>673.0</td>\n",
       "      <td>0.4899</td>\n",
       "      <td>8</td>\n",
       "      <td>6</td>\n",
       "      <td>4372</td>\n",
       "      <td>0.428571</td>\n",
       "      <td>1004</td>\n",
       "      <td>3006</td>\n",
       "      <td>376</td>\n",
       "      <td>0.749626</td>\n",
       "      <td>1554</td>\n",
       "      <td>1075</td>\n",
       "      <td>1757</td>\n",
       "      <td>0.408901</td>\n",
       "      <td>812.0</td>\n",
       "      <td>3574.0</td>\n",
       "      <td>0.342458</td>\n",
       "      <td>0.8</td>\n",
       "      <td>ALTA</td>\n",
       "      <td>2</td>\n",
       "      <td>0.75</td>\n",
       "      <td>ALTA</td>\n",
       "      <td>1</td>\n",
       "      <td>0</td>\n",
       "      <td>0</td>\n",
       "      <td>0</td>\n",
       "      <td>0</td>\n",
       "      <td>1</td>\n",
       "      <td>0.5</td>\n",
       "      <td>MEDIA</td>\n",
       "      <td>NaN</td>\n",
       "      <td>NaN</td>\n",
       "      <td>0.41505</td>\n",
       "      <td>MEDIA</td>\n",
       "      <td>4</td>\n",
       "      <td>MEDIA</td>\n",
       "    </tr>\n",
       "  </tbody>\n",
       "</table>\n",
       "</div>"
      ],
      "text/plain": [
       "     dane_municipio PDET SUBREGIÓN CUENTA CON CITREP  \\\n",
       "578           27073   NO       NaN               NaN   \n",
       "\n",
       "    NOMBRE DIRECCIÓN TERRITORIAL Departamento Municipio   LONGITUD   LATITUD  \\\n",
       "578                   D.T. Chocó        Choco    Bagado -76.415293  5.410555   \n",
       "\n",
       "     Total Censo  Total Censo Rural  Total Víctimas  \\\n",
       "578        10553               8014            5889   \n",
       "\n",
       "     Total Víctimas sujetos de atención     c1_v1   V1  \\\n",
       "578                                5756  0.545437  0.6   \n",
       "\n",
       "     Total Víctimas (Rural)  Total Víctimas sujetos de atención (Rural)  \\\n",
       "578                    3891                                        3830   \n",
       "\n",
       "     Total Víctimas (Étnicos)  Total Víctimas sujetos de atención (Étnicos)  \\\n",
       "578                      5335                                          5238   \n",
       "\n",
       "           V2  Unnamed: 20 Medición IRV 2021    V3 Confinamiento  V4  \\\n",
       "578  0.910007          1.0        Medio Alto  0.75            NO   0   \n",
       "\n",
       "     RESULTADO C1 Nivel c1 Cobertura acueducto municipal            C2_V1  \\\n",
       "578        0.7755     ALTA               SIN INFORMACIÓN  SIN INFORMACIÓN   \n",
       "\n",
       "    Cobertura acueducto\\nUrbana            C2_V2  \\\n",
       "578             SIN INFORMACIÓN  SIN INFORMACIÓN   \n",
       "\n",
       "    Cobertura acueducto\\nRural (Centros Poblados y Fincas y Viviendas Dispersa)  \\\n",
       "578                                    SIN INFORMACIÓN                            \n",
       "\n",
       "               C2_V3 Cobertura acueducto\\nCentros Poblados            C2_V4  \\\n",
       "578  SIN INFORMACIÓN                       SIN INFORMACIÓN  SIN INFORMACIÓN   \n",
       "\n",
       "    Cobertura acueducto\\nZona Rural Dispersa            C2_V5  \\\n",
       "578                          SIN INFORMACIÓN  SIN INFORMACIÓN   \n",
       "\n",
       "    Cobertura alcantarillado municipal            C2_V6  \\\n",
       "578                    SIN INFORMACIÓN  SIN INFORMACIÓN   \n",
       "\n",
       "    Cobertura alcantarillado\\nUrbana            C2_V7  \\\n",
       "578                  SIN INFORMACIÓN  SIN INFORMACIÓN   \n",
       "\n",
       "    Cobertura alcantarillado\\nRural (Centros Poblados y Fincas y Viviendas Dispersa)  \\\n",
       "578                                    SIN INFORMACIÓN                                 \n",
       "\n",
       "               C2_V8 Cobertura alcantarillado\\nCentros Poblados  \\\n",
       "578  SIN INFORMACIÓN                            SIN INFORMACIÓN   \n",
       "\n",
       "               C2_V9 Cobertura alcantarillado\\nZona Rural Dispersa  \\\n",
       "578  SIN INFORMACIÓN                               SIN INFORMACIÓN   \n",
       "\n",
       "              C2_V10  RESULTADO C2 Nivel c2  \\\n",
       "578  SIN INFORMACIÓN           NaN      NaN   \n",
       "\n",
       "    Ubicación sedes educativas en la EETT Sedes Oficiales C3_V1  \\\n",
       "578                                    46              46     0   \n",
       "\n",
       "     Sedes No Oficiales  Kilómetros de vías fluviales reportadas por el IGAC  \\\n",
       "578                 0.0                                                0.0     \n",
       "\n",
       "     Kilómetros de Vías principales por municipio reportadas por IGAC  R_VIAS  \\\n",
       "578                                            1.20866                      0   \n",
       "\n",
       "     RESULTADO C3 Nivel c3  Número de planes de RyR en la EETT  C4_V1  \\\n",
       "578           0.0     BAJA                                  16   0.75   \n",
       "\n",
       "     APROBADO  C4_V2  CERRADO/PENDIENTE ACTO ADMINISTRATIVO  EN ACTUALIZACION  \\\n",
       "578         0   0.75                                      0                16   \n",
       "\n",
       "     EN FORMULACION  RESULTADO C4 Nivel c4  \\\n",
       "578               0          0.75     ALTA   \n",
       "\n",
       "     Número de Sujetos de Reparación Colectiva ubicados en la EETT  C5_V1  \\\n",
       "578                                                  2               0.25   \n",
       "\n",
       "     ALISTAMIENTO  CARACTERIZACIÓN DEL DAÑO  DIAGNÓSTICO DEL DAÑO  \\\n",
       "578             0                         1                     0   \n",
       "\n",
       "     DISEÑO Y FORMULACIÓN  IDENTIFICACIÓN  IMPLEMENTACIÓN  IMPLEMENTADO   ET  \\\n",
       "578                     0               0               1             0  0.9   \n",
       "\n",
       "     RESULTADO C5 Nivel c5               ZONA            ENTORNO  \\\n",
       "578         0.575    MEDIA  TODO EL MUNICIPIO  TODO EL MUNICIPIO   \n",
       "\n",
       "        ATENTADOS     GRUPOS         MINAS      CULTIVOS       INFORME  \\\n",
       "578  NO PRESENCIA  PRESENCIA  NO PRESENCIA  NO PRESENCIA  NO PRESENCIA   \n",
       "\n",
       "       ALERTAS    RIESGO ESTADO PRINCIPIO RESULTADO C6 Nivel c6  EEAC  ETNICO  \\\n",
       "578  PRESENCIA  SIN DATO             BAJO            0     BAJA     1       1   \n",
       "\n",
       "     NO ETNICO  RESULTADO C7 Nivel c7  DER IDENTIFICACION \\nCUMPLE  \\\n",
       "578          0             0     BAJA                         4351   \n",
       "\n",
       "     DER IDENTIFICACION \\nNO CUMPLE  DER IDENTIFICACION \\nNO DETERMINADO  \\\n",
       "578                              21                                   14   \n",
       "\n",
       "        C8_V1  DER SALUD\\nCUMPLE  DER SALUD\\nNO CUMPLE     C8_V2  \\\n",
       "578  0.004803               3958                   428  0.098278   \n",
       "\n",
       "     ATEN PSICO\\nCUMPLE  ATEN PSICO\\nNO CUMPLE  ATEN PSICO\\nNO APLICA  \\\n",
       "578                 397                    311                   3678   \n",
       "\n",
       "        C8_V3  DER EDUCACION\\nCUMPLE  DER EDUCACION\\nNO CUMPLE  \\\n",
       "578  0.439266                   1199                       164   \n",
       "\n",
       "     DER EDUCACION\\nNO APLICA     C8_V4  DER ALIMENTACION\\nCUMPLE  \\\n",
       "578                      3023  0.120323                    1894.0   \n",
       "\n",
       "     DER ALIMENTACION\\nNO CUMPLE  DER ALIMENTACION\\nNO DETERMINADO   C8_V5  \\\n",
       "578                       1819.0                             673.0  0.4899   \n",
       "\n",
       "     DER REUNI FAMILIAR\\nCUMPLE  DER REUNI FAMILIAR\\nNO CUMPLE  \\\n",
       "578                           8                              6   \n",
       "\n",
       "     DER REUNI FAMILIAR\\nNO APLICA     C8_V6  DER VIVIENDA\\nCUMPLE  \\\n",
       "578                           4372  0.428571                  1004   \n",
       "\n",
       "     DER VIVIENDA\\nNO CUMPLE  DER VIVIENDA\\nNO DETERMINADO     C8_V7  \\\n",
       "578                     3006                           376  0.749626   \n",
       "\n",
       "     DER GEN INGRESOS\\nCUMPLE  DER GEN INGRESOS\\nNO CUMPLE  \\\n",
       "578                      1554                         1075   \n",
       "\n",
       "     DER GEN INGRESOS\\nNO DETERMINADO     C8_V8  SSV \\nSUPERA  \\\n",
       "578                              1757  0.408901         812.0   \n",
       "\n",
       "     SSV \\nNO SUPERA      Prom  RESULTADO C8 Nivel c8  \\\n",
       "578           3574.0  0.342458           0.8     ALTA   \n",
       "\n",
       "     Número de programas caracterizados en SIGO - VIVANTO por la EETT  \\\n",
       "578                                                  2                  \n",
       "\n",
       "     RESULTADO C9 Nivel c9  Número de emprendimientos caracterizados por EETT  \\\n",
       "578          0.75     ALTA                                                  1   \n",
       "\n",
       "     C10_v1  Fortalecimiento a emprendimientos ENCADENAMIENTO  \\\n",
       "578       0                                                 0   \n",
       "\n",
       "     Fortalecimiento a emprendimientos FORTALECIMIENTO  \\\n",
       "578                                                  0   \n",
       "\n",
       "     Fortalecimiento a emprendimientos GESTION DE BIENES  c10_v2  \\\n",
       "578                                                  0         1   \n",
       "\n",
       "     RESULTADO C10 Nivel c10  SC  RI  resultado del indice  \\\n",
       "578            0.5     MEDIA NaN NaN               0.41505   \n",
       "\n",
       "    Nivel de priorización   resultado del indice.1 Nivel Resultado General  \n",
       "578                  MEDIA                       4                   MEDIA  "
      ]
     },
     "execution_count": 272,
     "metadata": {},
     "output_type": "execute_result"
    }
   ],
   "source": [
    "Consulta_codigo = df_repara[df_repara['dane_municipio'] == 27073]\n",
    "Consulta_codigo"
   ]
  },
  {
   "cell_type": "code",
   "execution_count": 163,
   "id": "85280dc7",
   "metadata": {},
   "outputs": [
    {
     "data": {
      "text/plain": [
       "7723606"
      ]
     },
     "execution_count": 163,
     "metadata": {},
     "output_type": "execute_result"
    }
   ],
   "source": [
    "sum(df_repara['Total Víctimas sujetos de atención'])"
   ]
  },
  {
   "cell_type": "code",
   "execution_count": 165,
   "id": "48b295c9",
   "metadata": {},
   "outputs": [
    {
     "data": {
      "text/plain": [
       "1539332"
      ]
     },
     "execution_count": 165,
     "metadata": {},
     "output_type": "execute_result"
    }
   ],
   "source": [
    "sum(df_repara['Total Víctimas sujetos de atención (Étnicos)'])"
   ]
  },
  {
   "cell_type": "code",
   "execution_count": 166,
   "id": "1dbf9fa5",
   "metadata": {},
   "outputs": [
    {
     "data": {
      "text/plain": [
       "872"
      ]
     },
     "execution_count": 166,
     "metadata": {},
     "output_type": "execute_result"
    }
   ],
   "source": [
    " sum(df_repara['Número de Sujetos de Reparación Colectiva ubicados en la EETT'])"
   ]
  },
  {
   "cell_type": "code",
   "execution_count": 318,
   "id": "199e9db6",
   "metadata": {
    "scrolled": true
   },
   "outputs": [
    {
     "data": {
      "text/plain": [
       "BAJA     574\n",
       "MEDIA    522\n",
       "ALTA      25\n",
       "Name: Nivel de priorización .1, dtype: int64"
      ]
     },
     "execution_count": 318,
     "metadata": {},
     "output_type": "execute_result"
    }
   ],
   "source": [
    "df_repara['Nivel de priorización .1'].value_counts()"
   ]
  },
  {
   "cell_type": "code",
   "execution_count": 65,
   "id": "39fad7de",
   "metadata": {},
   "outputs": [
    {
     "data": {
      "text/plain": [
       "NO    1105\n",
       "SI      16\n",
       "Name: Confinamiento, dtype: int64"
      ]
     },
     "execution_count": 65,
     "metadata": {},
     "output_type": "execute_result"
    }
   ],
   "source": [
    "df_repara['Confinamiento'].value_counts()"
   ]
  },
  {
   "cell_type": "code",
   "execution_count": 45,
   "id": "03190730",
   "metadata": {
    "scrolled": true
   },
   "outputs": [
    {
     "name": "stdout",
     "output_type": "stream",
     "text": [
      "<class 'pandas.core.frame.DataFrame'>\n",
      "RangeIndex: 1121 entries, 0 to 1120\n",
      "Data columns (total 149 columns):\n",
      " #    Column                                                                           Dtype  \n",
      "---   ------                                                                           -----  \n",
      " 0    dane_municipio                                                                   int64  \n",
      " 1    PDET                                                                             object \n",
      " 2    SUBREGIÓN                                                                        object \n",
      " 3    CUENTA CON CITREP                                                                object \n",
      " 4    NOMBRE DIRECCIÓN TERRITORIAL                                                     object \n",
      " 5    Departamento                                                                     object \n",
      " 6    Municipio                                                                        object \n",
      " 7    LONGITUD                                                                         float64\n",
      " 8    LATITUD                                                                          float64\n",
      " 9    Total Censo                                                                      int64  \n",
      " 10   Total Censo Rural                                                                int64  \n",
      " 11   Total Víctimas                                                                   int64  \n",
      " 12   Total Víctimas sujetos de atención                                               int64  \n",
      " 13   c1_v1                                                                            float64\n",
      " 14   V1                                                                               float64\n",
      " 15   Total Víctimas (Rural)                                                           int64  \n",
      " 16   Total Víctimas sujetos de atención (Rural)                                       int64  \n",
      " 17   Total Víctimas (Étnicos)                                                         int64  \n",
      " 18   Total Víctimas sujetos de atención (Étnicos)                                     int64  \n",
      " 19   V2                                                                               float64\n",
      " 20   Unnamed: 20                                                                      float64\n",
      " 21   Medición IRV 2021                                                                object \n",
      " 22   V3                                                                               object \n",
      " 23   Confinamiento                                                                    object \n",
      " 24   V4                                                                               int64  \n",
      " 25   RESULTADO C1                                                                     float64\n",
      " 26   Nivel de Priorización                                                            object \n",
      " 27   Cobertura acueducto municipal                                                    object \n",
      " 28   C2_V1                                                                            object \n",
      " 29   Cobertura acueducto\n",
      "Urbana                                                       object \n",
      " 30   C2_V2                                                                            object \n",
      " 31   Cobertura acueducto\n",
      "Rural (Centros Poblados y Fincas y Viviendas Dispersa)       object \n",
      " 32   C2_V3                                                                            object \n",
      " 33   Cobertura acueducto\n",
      "Centros Poblados                                             object \n",
      " 34   C2_V4                                                                            object \n",
      " 35   Cobertura acueducto\n",
      "Zona Rural Dispersa                                          object \n",
      " 36   C2_V5                                                                            object \n",
      " 37   Cobertura alcantarillado municipal                                               object \n",
      " 38   C2_V6                                                                            object \n",
      " 39   Cobertura alcantarillado\n",
      "Urbana                                                  object \n",
      " 40   C2_V7                                                                            object \n",
      " 41   Cobertura alcantarillado\n",
      "Rural (Centros Poblados y Fincas y Viviendas Dispersa)  object \n",
      " 42   C2_V8                                                                            object \n",
      " 43   Cobertura alcantarillado\n",
      "Centros Poblados                                        object \n",
      " 44   C2_V9                                                                            object \n",
      " 45   Cobertura alcantarillado\n",
      "Zona Rural Dispersa                                     object \n",
      " 46   C2_V10                                                                           object \n",
      " 47   RESULTADO C2                                                                     float64\n",
      " 48   Nivel de Priorización.1                                                          object \n",
      " 49   Ubicación sedes educativas en la EETT                                            object \n",
      " 50   Sedes Oficiales                                                                  object \n",
      " 51   C3_V1                                                                            object \n",
      " 52   Sedes No Oficiales                                                               float64\n",
      " 53   Kilómetros de vías fluviales reportadas por el IGAC                              float64\n",
      " 54   Kilómetros de Vías principales por municipio reportadas por IGAC                 float64\n",
      " 55   R_VIAS                                                                           int64  \n",
      " 56   RESULTADO C3                                                                     float64\n",
      " 57   Nivel de Priorización                                                            object \n",
      " 58   Número de planes de RyR en la EETT                                               int64  \n",
      " 59   C4_V1                                                                            float64\n",
      " 60   APROBADO                                                                         int64  \n",
      " 61   C4_V2                                                                            float64\n",
      " 62   CERRADO/PENDIENTE ACTO ADMINISTRATIVO                                            int64  \n",
      " 63   EN ACTUALIZACION                                                                 int64  \n",
      " 64   EN FORMULACION                                                                   int64  \n",
      " 65   RESULTADO C4                                                                     float64\n",
      " 66   Nivel de Priorización.2                                                          object \n",
      " 67   Número de Sujetos de Reparación Colectiva ubicados en la EETT                    int64  \n",
      " 68   C5_V1                                                                            float64\n",
      " 69   ALISTAMIENTO                                                                     int64  \n",
      " 70   CARACTERIZACIÓN DEL DAÑO                                                         int64  \n",
      " 71   DIAGNÓSTICO DEL DAÑO                                                             int64  \n",
      " 72   DISEÑO Y FORMULACIÓN                                                             int64  \n",
      " 73   IDENTIFICACIÓN                                                                   int64  \n",
      " 74   IMPLEMENTACIÓN                                                                   int64  \n",
      " 75   IMPLEMENTADO                                                                     int64  \n",
      " 76   ET                                                                               float64\n",
      " 77   RESULTADO C5                                                                     float64\n",
      " 78   Nivel de Priorización.3                                                          object \n",
      " 79   ZONA                                                                             object \n",
      " 80   ENTORNO                                                                          object \n",
      " 81   ATENTADOS                                                                        object \n",
      " 82   GRUPOS                                                                           object \n",
      " 83   MINAS                                                                            object \n",
      " 84   CULTIVOS                                                                         object \n",
      " 85   INFORME                                                                          object \n",
      " 86   ALERTAS                                                                          object \n",
      " 87   RIESGO                                                                           object \n",
      " 88   ESTADO PRINCIPIO                                                                 object \n",
      " 89   RESULTADO C6                                                                     object \n",
      " 90   Nivel de Priorización.4                                                          object \n",
      " 91   EEAC                                                                             int64  \n",
      " 92   ETNICO                                                                           int64  \n",
      " 93   NO ETNICO                                                                        int64  \n",
      " 94   RESULTADO C7                                                                     int64  \n",
      " 95   Nivel de Priorización.5                                                          object \n",
      " 96   DER IDENTIFICACION \n",
      "CUMPLE                                                       int64  \n",
      " 97   DER IDENTIFICACION \n",
      "NO CUMPLE                                                    int64  \n",
      " 98   DER IDENTIFICACION \n",
      "NO DETERMINADO                                               int64  \n",
      " 99   C8_V1                                                                            float64\n",
      " 100  DER SALUD\n",
      "CUMPLE                                                                 int64  \n",
      " 101  DER SALUD\n",
      "NO CUMPLE                                                              int64  \n",
      " 102  C8_V2                                                                            float64\n",
      " 103  ATEN PSICO\n",
      "CUMPLE                                                                int64  \n",
      " 104  ATEN PSICO\n",
      "NO CUMPLE                                                             int64  \n",
      " 105  ATEN PSICO\n",
      "NO APLICA                                                             int64  \n",
      " 106  C8_V3                                                                            float64\n",
      " 107  DER EDUCACION\n",
      "CUMPLE                                                             int64  \n",
      " 108  DER EDUCACION\n",
      "NO CUMPLE                                                          int64  \n",
      " 109  DER EDUCACION\n",
      "NO APLICA                                                          int64  \n",
      " 110  C8_V4                                                                            float64\n",
      " 111  DER ALIMENTACION\n",
      "CUMPLE                                                          float64\n",
      " 112  DER ALIMENTACION\n",
      "NO CUMPLE                                                       float64\n",
      " 113  DER ALIMENTACION\n",
      "NO DETERMINADO                                                  float64\n",
      " 114  C8_V5                                                                            float64\n",
      " 115  DER REUNI FAMILIAR\n",
      "CUMPLE                                                        int64  \n",
      " 116  DER REUNI FAMILIAR\n",
      "NO CUMPLE                                                     int64  \n",
      " 117  DER REUNI FAMILIAR\n",
      "NO APLICA                                                     int64  \n",
      " 118  C8_V6                                                                            float64\n",
      " 119  DER VIVIENDA\n",
      "CUMPLE                                                              int64  \n",
      " 120  DER VIVIENDA\n",
      "NO CUMPLE                                                           int64  \n",
      " 121  DER VIVIENDA\n",
      "NO DETERMINADO                                                      int64  \n",
      " 122  C8_V7                                                                            float64\n",
      " 123  DER GEN INGRESOS\n",
      "CUMPLE                                                          int64  \n",
      " 124  DER GEN INGRESOS\n",
      "NO CUMPLE                                                       int64  \n",
      " 125  DER GEN INGRESOS\n",
      "NO DETERMINADO                                                  int64  \n",
      " 126  C8_V8                                                                            float64\n",
      " 127  SSV \n",
      "SUPERA                                                                      float64\n",
      " 128  SSV \n",
      "NO SUPERA                                                                   float64\n",
      " 129  Prom                                                                             float64\n",
      " 130  RESULTADO C8                                                                     float64\n",
      " 131  Nivel de Priorización.6                                                          object \n",
      " 132  Número de programas caracterizados en SIGO - VIVANTO por la EETT                 int64  \n",
      " 133  RESULTADO C9                                                                     float64\n",
      " 134  Nivel de Priorización.7                                                          object \n",
      " 135  Número de emprendimientos caracterizados por EETT                                int64  \n",
      " 136  C10_v1                                                                           int64  \n",
      " 137  Fortalecimiento a emprendimientos ENCADENAMIENTO                                 int64  \n",
      " 138  Fortalecimiento a emprendimientos FORTALECIMIENTO                                int64  \n",
      " 139  Fortalecimiento a emprendimientos GESTION DE BIENES                              int64  \n",
      " 140  c10_v2                                                                           int64  \n",
      " 141  RESULTADO C10                                                                    float64\n",
      " 142  Nivel de Priorización.8                                                          object \n",
      " 143  SC                                                                               float64\n",
      " 144  RI                                                                               float64\n",
      " 145  resultado del indice                                                             float64\n",
      " 146  Nivel de priorización                                                            object \n",
      " 147  resultado del indice.1                                                           int64  \n",
      " 148  Nivel de priorización .1                                                         object \n",
      "dtypes: float64(38), int64(56), object(55)\n",
      "memory usage: 1.3+ MB\n"
     ]
    }
   ],
   "source": [
    "df_repara.info(verbose=True)"
   ]
  },
  {
   "cell_type": "code",
   "execution_count": 66,
   "id": "3f0e4cee",
   "metadata": {},
   "outputs": [],
   "source": [
    "deptos_alta = df_repara[[\"NOMBRE DIRECCIÓN TERRITORIAL\", \"Departamento\", \"Municipio\", \"resultado del indice.1\", \"Total Víctimas sujetos de atención\", \"Total Víctimas sujetos de atención (Étnicos)\", \"Número de Sujetos de Reparación Colectiva ubicados en la EETT\"]][df_repara[\"Nivel de priorización .1\"]==\"ALTA\"]"
   ]
  },
  {
   "cell_type": "code",
   "execution_count": 161,
   "id": "1655526b",
   "metadata": {},
   "outputs": [
    {
     "name": "stdout",
     "output_type": "stream",
     "text": [
      "     NOMBRE DIRECCIÓN TERRITORIAL     Departamento             Municipio  \\\n",
      "1011                   D.T. Valle  Valle del Cauca          Buenaventura   \n",
      "755                   D.T. Nariño           Nariño         Olaya Herrera   \n",
      "731                   D.T. Nariño           Nariño             El Charco   \n",
      "598                    D.T. Uraba            Choco              Riosucio   \n",
      "374                    D.T. Cauca            Cauca                 Guapi   \n",
      "396                    D.T. Cauca            Cauca                Suarez   \n",
      "588                    D.T. Chocó            Choco               Istmina   \n",
      "763                   D.T. Nariño           Nariño              Ricaurte   \n",
      "580                    D.T. Chocó            Choco            Bajo Baudo   \n",
      "592                    D.T. Chocó            Choco           Medio Baudo   \n",
      "841             D.T. Eje Cafetero        Risaralda           Pueblo Rico   \n",
      "746                   D.T. Nariño           Nariño               La Tola   \n",
      "583                    D.T. Uraba            Choco     Carmen Del Darien   \n",
      "753                   D.T. Nariño           Nariño              Mosquera   \n",
      "757                   D.T. Nariño           Nariño     Francisco Pizarro   \n",
      "70                     D.T. Uraba        Antioquia               Murindo   \n",
      "600                    D.T. Chocó            Choco                  Sipi   \n",
      "752                   D.T. Nariño           Nariño               Mallama   \n",
      "124                D.T. Antioquia        Antioquia              Zaragoza   \n",
      "772                   D.T. Nariño           Nariño             Santacruz   \n",
      "594                    D.T. Chocó            Choco                Novita   \n",
      "676                D.T. Magdalena        Magdalena  Sabanas de San Angel   \n",
      "108                D.T. Antioquia        Antioquia                Taraza   \n",
      "363                    D.T. Cauca            Cauca               Argelia   \n",
      "599                    D.T. Chocó            Choco   San Jose Del Palmar   \n",
      "\n",
      "      resultado del indice.1  Total Víctimas sujetos de atención  \\\n",
      "1011                       6                              180809   \n",
      "755                        5                               17260   \n",
      "731                        5                               17997   \n",
      "598                        5                               20286   \n",
      "374                        5                               13857   \n",
      "396                        5                               15673   \n",
      "588                        5                               13235   \n",
      "763                        5                               11988   \n",
      "580                        5                               10904   \n",
      "592                        5                                8545   \n",
      "841                        5                               10312   \n",
      "746                        5                                5684   \n",
      "583                        5                                7054   \n",
      "753                        5                                4210   \n",
      "757                        6                                3829   \n",
      "70                         5                                3180   \n",
      "600                        5                                2863   \n",
      "752                        5                                2557   \n",
      "124                        5                                8578   \n",
      "772                        6                                2336   \n",
      "594                        5                                1770   \n",
      "676                        5                                9703   \n",
      "108                        6                               14839   \n",
      "363                        5                               14754   \n",
      "599                        6                                2216   \n",
      "\n",
      "      Total Víctimas sujetos de atención (Étnicos)  \\\n",
      "1011                                        123563   \n",
      "755                                          15904   \n",
      "731                                          15264   \n",
      "598                                          12558   \n",
      "374                                          12172   \n",
      "396                                          11225   \n",
      "588                                          10327   \n",
      "763                                           9374   \n",
      "580                                           7930   \n",
      "592                                           7744   \n",
      "841                                           7550   \n",
      "746                                           5028   \n",
      "583                                           4958   \n",
      "753                                           3659   \n",
      "757                                           2916   \n",
      "70                                            2893   \n",
      "600                                           2537   \n",
      "752                                           2310   \n",
      "124                                           1985   \n",
      "772                                           1911   \n",
      "594                                           1382   \n",
      "676                                            983   \n",
      "108                                            719   \n",
      "363                                            620   \n",
      "599                                            610   \n",
      "\n",
      "      Número de Sujetos de Reparación Colectiva ubicados en la EETT  \n",
      "1011                                                 19              \n",
      "755                                                   1              \n",
      "731                                                   0              \n",
      "598                                                  12              \n",
      "374                                                   3              \n",
      "396                                                   8              \n",
      "588                                                   0              \n",
      "763                                                  10              \n",
      "580                                                  12              \n",
      "592                                                   7              \n",
      "841                                                   6              \n",
      "746                                                   0              \n",
      "583                                                   9              \n",
      "753                                                   0              \n",
      "757                                                   0              \n",
      "70                                                    0              \n",
      "600                                                   2              \n",
      "752                                                   0              \n",
      "124                                                   2              \n",
      "772                                                   2              \n",
      "594                                                   0              \n",
      "676                                                   0              \n",
      "108                                                   1              \n",
      "363                                                   1              \n",
      "599                                                   1              \n"
     ]
    }
   ],
   "source": [
    "print(deptos_alta.sort_values(by = \"Total Víctimas sujetos de atención (Étnicos)\", ascending = False))"
   ]
  },
  {
   "cell_type": "code",
   "execution_count": 63,
   "id": "efcc21ad",
   "metadata": {
    "scrolled": true
   },
   "outputs": [
    {
     "name": "stdout",
     "output_type": "stream",
     "text": [
      "     NOMBRE DIRECCIÓN TERRITORIAL     Departamento             Municipio  \\\n",
      "599                    D.T. Chocó            Choco   San Jose Del Palmar   \n",
      "108                D.T. Antioquia        Antioquia                Taraza   \n",
      "772                   D.T. Nariño           Nariño             Santacruz   \n",
      "757                   D.T. Nariño           Nariño     Francisco Pizarro   \n",
      "1011                   D.T. Valle  Valle del Cauca          Buenaventura   \n",
      "396                    D.T. Cauca            Cauca                Suarez   \n",
      "580                    D.T. Chocó            Choco            Bajo Baudo   \n",
      "841             D.T. Eje Cafetero        Risaralda           Pueblo Rico   \n",
      "124                D.T. Antioquia        Antioquia              Zaragoza   \n",
      "763                   D.T. Nariño           Nariño              Ricaurte   \n",
      "363                    D.T. Cauca            Cauca               Argelia   \n",
      "755                   D.T. Nariño           Nariño         Olaya Herrera   \n",
      "753                   D.T. Nariño           Nariño              Mosquera   \n",
      "752                   D.T. Nariño           Nariño               Mallama   \n",
      "746                   D.T. Nariño           Nariño               La Tola   \n",
      "731                   D.T. Nariño           Nariño             El Charco   \n",
      "676                D.T. Magdalena        Magdalena  Sabanas de San Angel   \n",
      "600                    D.T. Chocó            Choco                  Sipi   \n",
      "374                    D.T. Cauca            Cauca                 Guapi   \n",
      "598                    D.T. Uraba            Choco              Riosucio   \n",
      "594                    D.T. Chocó            Choco                Novita   \n",
      "592                    D.T. Chocó            Choco           Medio Baudo   \n",
      "588                    D.T. Chocó            Choco               Istmina   \n",
      "583                    D.T. Uraba            Choco     Carmen Del Darien   \n",
      "70                     D.T. Uraba        Antioquia               Murindo   \n",
      "\n",
      "      resultado del indice.1  \n",
      "599                        6  \n",
      "108                        6  \n",
      "772                        6  \n",
      "757                        6  \n",
      "1011                       6  \n",
      "396                        5  \n",
      "580                        5  \n",
      "841                        5  \n",
      "124                        5  \n",
      "763                        5  \n",
      "363                        5  \n",
      "755                        5  \n",
      "753                        5  \n",
      "752                        5  \n",
      "746                        5  \n",
      "731                        5  \n",
      "676                        5  \n",
      "600                        5  \n",
      "374                        5  \n",
      "598                        5  \n",
      "594                        5  \n",
      "592                        5  \n",
      "588                        5  \n",
      "583                        5  \n",
      "70                         5  \n"
     ]
    }
   ],
   "source": [
    "print(deptos_alta.sort_values(by= \"resultado del indice.1\", ascending = False))"
   ]
  },
  {
   "cell_type": "code",
   "execution_count": 275,
   "id": "dfc1b59e",
   "metadata": {},
   "outputs": [
    {
     "data": {
      "text/html": [
       "        <script type=\"text/javascript\">\n",
       "        window.PlotlyConfig = {MathJaxConfig: 'local'};\n",
       "        if (window.MathJax && window.MathJax.Hub && window.MathJax.Hub.Config) {window.MathJax.Hub.Config({SVG: {font: \"STIX-Web\"}});}\n",
       "        if (typeof require !== 'undefined') {\n",
       "        require.undef(\"plotly\");\n",
       "        requirejs.config({\n",
       "            paths: {\n",
       "                'plotly': ['https://cdn.plot.ly/plotly-2.12.1.min']\n",
       "            }\n",
       "        });\n",
       "        require(['plotly'], function(Plotly) {\n",
       "            window._Plotly = Plotly;\n",
       "        });\n",
       "        }\n",
       "        </script>\n",
       "        "
      ]
     },
     "metadata": {},
     "output_type": "display_data"
    },
    {
     "name": "stdout",
     "output_type": "stream",
     "text": [
      "Niveles de priorización =  3\n"
     ]
    },
    {
     "data": {
      "application/vnd.plotly.v1+json": {
       "config": {
        "linkText": "Export to plot.ly",
        "plotlyServerURL": "https://plot.ly",
        "showLink": false
       },
       "data": [
        {
         "marker": {
          "color": "#4682b4"
         },
         "text": [
          "574 (51.2%)",
          "522 (46.6%)",
          "25 (2.2%)"
         ],
         "textposition": "outside",
         "type": "bar",
         "width": 0.4,
         "x": [
          "BAJA",
          "MEDIA",
          "ALTA"
         ],
         "y": [
          574,
          522,
          25
         ]
        }
       ],
       "layout": {
        "font": {
         "size": 12
        },
        "legend": {
         "x": 0.1,
         "y": 0.5
        },
        "margin": {
         "b": 120,
         "l": 60,
         "pad": 4,
         "r": 400,
         "t": 100
        },
        "template": {
         "data": {
          "bar": [
           {
            "error_x": {
             "color": "#2a3f5f"
            },
            "error_y": {
             "color": "#2a3f5f"
            },
            "marker": {
             "line": {
              "color": "#E5ECF6",
              "width": 0.5
             },
             "pattern": {
              "fillmode": "overlay",
              "size": 10,
              "solidity": 0.2
             }
            },
            "type": "bar"
           }
          ],
          "barpolar": [
           {
            "marker": {
             "line": {
              "color": "#E5ECF6",
              "width": 0.5
             },
             "pattern": {
              "fillmode": "overlay",
              "size": 10,
              "solidity": 0.2
             }
            },
            "type": "barpolar"
           }
          ],
          "carpet": [
           {
            "aaxis": {
             "endlinecolor": "#2a3f5f",
             "gridcolor": "white",
             "linecolor": "white",
             "minorgridcolor": "white",
             "startlinecolor": "#2a3f5f"
            },
            "baxis": {
             "endlinecolor": "#2a3f5f",
             "gridcolor": "white",
             "linecolor": "white",
             "minorgridcolor": "white",
             "startlinecolor": "#2a3f5f"
            },
            "type": "carpet"
           }
          ],
          "choropleth": [
           {
            "colorbar": {
             "outlinewidth": 0,
             "ticks": ""
            },
            "type": "choropleth"
           }
          ],
          "contour": [
           {
            "colorbar": {
             "outlinewidth": 0,
             "ticks": ""
            },
            "colorscale": [
             [
              0,
              "#0d0887"
             ],
             [
              0.1111111111111111,
              "#46039f"
             ],
             [
              0.2222222222222222,
              "#7201a8"
             ],
             [
              0.3333333333333333,
              "#9c179e"
             ],
             [
              0.4444444444444444,
              "#bd3786"
             ],
             [
              0.5555555555555556,
              "#d8576b"
             ],
             [
              0.6666666666666666,
              "#ed7953"
             ],
             [
              0.7777777777777778,
              "#fb9f3a"
             ],
             [
              0.8888888888888888,
              "#fdca26"
             ],
             [
              1,
              "#f0f921"
             ]
            ],
            "type": "contour"
           }
          ],
          "contourcarpet": [
           {
            "colorbar": {
             "outlinewidth": 0,
             "ticks": ""
            },
            "type": "contourcarpet"
           }
          ],
          "heatmap": [
           {
            "colorbar": {
             "outlinewidth": 0,
             "ticks": ""
            },
            "colorscale": [
             [
              0,
              "#0d0887"
             ],
             [
              0.1111111111111111,
              "#46039f"
             ],
             [
              0.2222222222222222,
              "#7201a8"
             ],
             [
              0.3333333333333333,
              "#9c179e"
             ],
             [
              0.4444444444444444,
              "#bd3786"
             ],
             [
              0.5555555555555556,
              "#d8576b"
             ],
             [
              0.6666666666666666,
              "#ed7953"
             ],
             [
              0.7777777777777778,
              "#fb9f3a"
             ],
             [
              0.8888888888888888,
              "#fdca26"
             ],
             [
              1,
              "#f0f921"
             ]
            ],
            "type": "heatmap"
           }
          ],
          "heatmapgl": [
           {
            "colorbar": {
             "outlinewidth": 0,
             "ticks": ""
            },
            "colorscale": [
             [
              0,
              "#0d0887"
             ],
             [
              0.1111111111111111,
              "#46039f"
             ],
             [
              0.2222222222222222,
              "#7201a8"
             ],
             [
              0.3333333333333333,
              "#9c179e"
             ],
             [
              0.4444444444444444,
              "#bd3786"
             ],
             [
              0.5555555555555556,
              "#d8576b"
             ],
             [
              0.6666666666666666,
              "#ed7953"
             ],
             [
              0.7777777777777778,
              "#fb9f3a"
             ],
             [
              0.8888888888888888,
              "#fdca26"
             ],
             [
              1,
              "#f0f921"
             ]
            ],
            "type": "heatmapgl"
           }
          ],
          "histogram": [
           {
            "marker": {
             "pattern": {
              "fillmode": "overlay",
              "size": 10,
              "solidity": 0.2
             }
            },
            "type": "histogram"
           }
          ],
          "histogram2d": [
           {
            "colorbar": {
             "outlinewidth": 0,
             "ticks": ""
            },
            "colorscale": [
             [
              0,
              "#0d0887"
             ],
             [
              0.1111111111111111,
              "#46039f"
             ],
             [
              0.2222222222222222,
              "#7201a8"
             ],
             [
              0.3333333333333333,
              "#9c179e"
             ],
             [
              0.4444444444444444,
              "#bd3786"
             ],
             [
              0.5555555555555556,
              "#d8576b"
             ],
             [
              0.6666666666666666,
              "#ed7953"
             ],
             [
              0.7777777777777778,
              "#fb9f3a"
             ],
             [
              0.8888888888888888,
              "#fdca26"
             ],
             [
              1,
              "#f0f921"
             ]
            ],
            "type": "histogram2d"
           }
          ],
          "histogram2dcontour": [
           {
            "colorbar": {
             "outlinewidth": 0,
             "ticks": ""
            },
            "colorscale": [
             [
              0,
              "#0d0887"
             ],
             [
              0.1111111111111111,
              "#46039f"
             ],
             [
              0.2222222222222222,
              "#7201a8"
             ],
             [
              0.3333333333333333,
              "#9c179e"
             ],
             [
              0.4444444444444444,
              "#bd3786"
             ],
             [
              0.5555555555555556,
              "#d8576b"
             ],
             [
              0.6666666666666666,
              "#ed7953"
             ],
             [
              0.7777777777777778,
              "#fb9f3a"
             ],
             [
              0.8888888888888888,
              "#fdca26"
             ],
             [
              1,
              "#f0f921"
             ]
            ],
            "type": "histogram2dcontour"
           }
          ],
          "mesh3d": [
           {
            "colorbar": {
             "outlinewidth": 0,
             "ticks": ""
            },
            "type": "mesh3d"
           }
          ],
          "parcoords": [
           {
            "line": {
             "colorbar": {
              "outlinewidth": 0,
              "ticks": ""
             }
            },
            "type": "parcoords"
           }
          ],
          "pie": [
           {
            "automargin": true,
            "type": "pie"
           }
          ],
          "scatter": [
           {
            "fillpattern": {
             "fillmode": "overlay",
             "size": 10,
             "solidity": 0.2
            },
            "type": "scatter"
           }
          ],
          "scatter3d": [
           {
            "line": {
             "colorbar": {
              "outlinewidth": 0,
              "ticks": ""
             }
            },
            "marker": {
             "colorbar": {
              "outlinewidth": 0,
              "ticks": ""
             }
            },
            "type": "scatter3d"
           }
          ],
          "scattercarpet": [
           {
            "marker": {
             "colorbar": {
              "outlinewidth": 0,
              "ticks": ""
             }
            },
            "type": "scattercarpet"
           }
          ],
          "scattergeo": [
           {
            "marker": {
             "colorbar": {
              "outlinewidth": 0,
              "ticks": ""
             }
            },
            "type": "scattergeo"
           }
          ],
          "scattergl": [
           {
            "marker": {
             "colorbar": {
              "outlinewidth": 0,
              "ticks": ""
             }
            },
            "type": "scattergl"
           }
          ],
          "scattermapbox": [
           {
            "marker": {
             "colorbar": {
              "outlinewidth": 0,
              "ticks": ""
             }
            },
            "type": "scattermapbox"
           }
          ],
          "scatterpolar": [
           {
            "marker": {
             "colorbar": {
              "outlinewidth": 0,
              "ticks": ""
             }
            },
            "type": "scatterpolar"
           }
          ],
          "scatterpolargl": [
           {
            "marker": {
             "colorbar": {
              "outlinewidth": 0,
              "ticks": ""
             }
            },
            "type": "scatterpolargl"
           }
          ],
          "scatterternary": [
           {
            "marker": {
             "colorbar": {
              "outlinewidth": 0,
              "ticks": ""
             }
            },
            "type": "scatterternary"
           }
          ],
          "surface": [
           {
            "colorbar": {
             "outlinewidth": 0,
             "ticks": ""
            },
            "colorscale": [
             [
              0,
              "#0d0887"
             ],
             [
              0.1111111111111111,
              "#46039f"
             ],
             [
              0.2222222222222222,
              "#7201a8"
             ],
             [
              0.3333333333333333,
              "#9c179e"
             ],
             [
              0.4444444444444444,
              "#bd3786"
             ],
             [
              0.5555555555555556,
              "#d8576b"
             ],
             [
              0.6666666666666666,
              "#ed7953"
             ],
             [
              0.7777777777777778,
              "#fb9f3a"
             ],
             [
              0.8888888888888888,
              "#fdca26"
             ],
             [
              1,
              "#f0f921"
             ]
            ],
            "type": "surface"
           }
          ],
          "table": [
           {
            "cells": {
             "fill": {
              "color": "#EBF0F8"
             },
             "line": {
              "color": "white"
             }
            },
            "header": {
             "fill": {
              "color": "#C8D4E3"
             },
             "line": {
              "color": "white"
             }
            },
            "type": "table"
           }
          ]
         },
         "layout": {
          "annotationdefaults": {
           "arrowcolor": "#2a3f5f",
           "arrowhead": 0,
           "arrowwidth": 1
          },
          "autotypenumbers": "strict",
          "coloraxis": {
           "colorbar": {
            "outlinewidth": 0,
            "ticks": ""
           }
          },
          "colorscale": {
           "diverging": [
            [
             0,
             "#8e0152"
            ],
            [
             0.1,
             "#c51b7d"
            ],
            [
             0.2,
             "#de77ae"
            ],
            [
             0.3,
             "#f1b6da"
            ],
            [
             0.4,
             "#fde0ef"
            ],
            [
             0.5,
             "#f7f7f7"
            ],
            [
             0.6,
             "#e6f5d0"
            ],
            [
             0.7,
             "#b8e186"
            ],
            [
             0.8,
             "#7fbc41"
            ],
            [
             0.9,
             "#4d9221"
            ],
            [
             1,
             "#276419"
            ]
           ],
           "sequential": [
            [
             0,
             "#0d0887"
            ],
            [
             0.1111111111111111,
             "#46039f"
            ],
            [
             0.2222222222222222,
             "#7201a8"
            ],
            [
             0.3333333333333333,
             "#9c179e"
            ],
            [
             0.4444444444444444,
             "#bd3786"
            ],
            [
             0.5555555555555556,
             "#d8576b"
            ],
            [
             0.6666666666666666,
             "#ed7953"
            ],
            [
             0.7777777777777778,
             "#fb9f3a"
            ],
            [
             0.8888888888888888,
             "#fdca26"
            ],
            [
             1,
             "#f0f921"
            ]
           ],
           "sequentialminus": [
            [
             0,
             "#0d0887"
            ],
            [
             0.1111111111111111,
             "#46039f"
            ],
            [
             0.2222222222222222,
             "#7201a8"
            ],
            [
             0.3333333333333333,
             "#9c179e"
            ],
            [
             0.4444444444444444,
             "#bd3786"
            ],
            [
             0.5555555555555556,
             "#d8576b"
            ],
            [
             0.6666666666666666,
             "#ed7953"
            ],
            [
             0.7777777777777778,
             "#fb9f3a"
            ],
            [
             0.8888888888888888,
             "#fdca26"
            ],
            [
             1,
             "#f0f921"
            ]
           ]
          },
          "colorway": [
           "#636efa",
           "#EF553B",
           "#00cc96",
           "#ab63fa",
           "#FFA15A",
           "#19d3f3",
           "#FF6692",
           "#B6E880",
           "#FF97FF",
           "#FECB52"
          ],
          "font": {
           "color": "#2a3f5f"
          },
          "geo": {
           "bgcolor": "white",
           "lakecolor": "white",
           "landcolor": "#E5ECF6",
           "showlakes": true,
           "showland": true,
           "subunitcolor": "white"
          },
          "hoverlabel": {
           "align": "left"
          },
          "hovermode": "closest",
          "mapbox": {
           "style": "light"
          },
          "paper_bgcolor": "white",
          "plot_bgcolor": "#E5ECF6",
          "polar": {
           "angularaxis": {
            "gridcolor": "white",
            "linecolor": "white",
            "ticks": ""
           },
           "bgcolor": "#E5ECF6",
           "radialaxis": {
            "gridcolor": "white",
            "linecolor": "white",
            "ticks": ""
           }
          },
          "scene": {
           "xaxis": {
            "backgroundcolor": "#E5ECF6",
            "gridcolor": "white",
            "gridwidth": 2,
            "linecolor": "white",
            "showbackground": true,
            "ticks": "",
            "zerolinecolor": "white"
           },
           "yaxis": {
            "backgroundcolor": "#E5ECF6",
            "gridcolor": "white",
            "gridwidth": 2,
            "linecolor": "white",
            "showbackground": true,
            "ticks": "",
            "zerolinecolor": "white"
           },
           "zaxis": {
            "backgroundcolor": "#E5ECF6",
            "gridcolor": "white",
            "gridwidth": 2,
            "linecolor": "white",
            "showbackground": true,
            "ticks": "",
            "zerolinecolor": "white"
           }
          },
          "shapedefaults": {
           "line": {
            "color": "#2a3f5f"
           }
          },
          "ternary": {
           "aaxis": {
            "gridcolor": "white",
            "linecolor": "white",
            "ticks": ""
           },
           "baxis": {
            "gridcolor": "white",
            "linecolor": "white",
            "ticks": ""
           },
           "bgcolor": "#E5ECF6",
           "caxis": {
            "gridcolor": "white",
            "linecolor": "white",
            "ticks": ""
           }
          },
          "title": {
           "x": 0.05
          },
          "xaxis": {
           "automargin": true,
           "gridcolor": "white",
           "linecolor": "white",
           "ticks": "",
           "title": {
            "standoff": 15
           },
           "zerolinecolor": "white",
           "zerolinewidth": 2
          },
          "yaxis": {
           "automargin": true,
           "gridcolor": "white",
           "linecolor": "white",
           "ticks": "",
           "title": {
            "standoff": 15
           },
           "zerolinecolor": "white",
           "zerolinewidth": 2
          }
         }
        },
        "xaxis": {
         "title": {
          "text": "Nivel de Priorización"
         }
        },
        "yaxis": {
         "title": {
          "text": "Número de Municipios"
         }
        }
       }
      },
      "text/html": [
       "<div>                            <div id=\"3a4671d3-292f-4ae7-9731-1ac18e9d6b96\" class=\"plotly-graph-div\" style=\"height:525px; width:100%;\"></div>            <script type=\"text/javascript\">                require([\"plotly\"], function(Plotly) {                    window.PLOTLYENV=window.PLOTLYENV || {};                                    if (document.getElementById(\"3a4671d3-292f-4ae7-9731-1ac18e9d6b96\")) {                    Plotly.newPlot(                        \"3a4671d3-292f-4ae7-9731-1ac18e9d6b96\",                        [{\"marker\":{\"color\":\"#4682b4\"},\"text\":[\"574 (51.2%)\",\"522 (46.6%)\",\"25 (2.2%)\"],\"textposition\":\"outside\",\"width\":0.4,\"x\":[\"BAJA\",\"MEDIA\",\"ALTA\"],\"y\":[574,522,25],\"type\":\"bar\"}],                        {\"font\":{\"size\":12},\"legend\":{\"x\":0.1,\"y\":0.5},\"margin\":{\"b\":120,\"l\":60,\"pad\":4,\"r\":400,\"t\":100},\"template\":{\"data\":{\"barpolar\":[{\"marker\":{\"line\":{\"color\":\"#E5ECF6\",\"width\":0.5},\"pattern\":{\"fillmode\":\"overlay\",\"size\":10,\"solidity\":0.2}},\"type\":\"barpolar\"}],\"bar\":[{\"error_x\":{\"color\":\"#2a3f5f\"},\"error_y\":{\"color\":\"#2a3f5f\"},\"marker\":{\"line\":{\"color\":\"#E5ECF6\",\"width\":0.5},\"pattern\":{\"fillmode\":\"overlay\",\"size\":10,\"solidity\":0.2}},\"type\":\"bar\"}],\"carpet\":[{\"aaxis\":{\"endlinecolor\":\"#2a3f5f\",\"gridcolor\":\"white\",\"linecolor\":\"white\",\"minorgridcolor\":\"white\",\"startlinecolor\":\"#2a3f5f\"},\"baxis\":{\"endlinecolor\":\"#2a3f5f\",\"gridcolor\":\"white\",\"linecolor\":\"white\",\"minorgridcolor\":\"white\",\"startlinecolor\":\"#2a3f5f\"},\"type\":\"carpet\"}],\"choropleth\":[{\"colorbar\":{\"outlinewidth\":0,\"ticks\":\"\"},\"type\":\"choropleth\"}],\"contourcarpet\":[{\"colorbar\":{\"outlinewidth\":0,\"ticks\":\"\"},\"type\":\"contourcarpet\"}],\"contour\":[{\"colorbar\":{\"outlinewidth\":0,\"ticks\":\"\"},\"colorscale\":[[0.0,\"#0d0887\"],[0.1111111111111111,\"#46039f\"],[0.2222222222222222,\"#7201a8\"],[0.3333333333333333,\"#9c179e\"],[0.4444444444444444,\"#bd3786\"],[0.5555555555555556,\"#d8576b\"],[0.6666666666666666,\"#ed7953\"],[0.7777777777777778,\"#fb9f3a\"],[0.8888888888888888,\"#fdca26\"],[1.0,\"#f0f921\"]],\"type\":\"contour\"}],\"heatmapgl\":[{\"colorbar\":{\"outlinewidth\":0,\"ticks\":\"\"},\"colorscale\":[[0.0,\"#0d0887\"],[0.1111111111111111,\"#46039f\"],[0.2222222222222222,\"#7201a8\"],[0.3333333333333333,\"#9c179e\"],[0.4444444444444444,\"#bd3786\"],[0.5555555555555556,\"#d8576b\"],[0.6666666666666666,\"#ed7953\"],[0.7777777777777778,\"#fb9f3a\"],[0.8888888888888888,\"#fdca26\"],[1.0,\"#f0f921\"]],\"type\":\"heatmapgl\"}],\"heatmap\":[{\"colorbar\":{\"outlinewidth\":0,\"ticks\":\"\"},\"colorscale\":[[0.0,\"#0d0887\"],[0.1111111111111111,\"#46039f\"],[0.2222222222222222,\"#7201a8\"],[0.3333333333333333,\"#9c179e\"],[0.4444444444444444,\"#bd3786\"],[0.5555555555555556,\"#d8576b\"],[0.6666666666666666,\"#ed7953\"],[0.7777777777777778,\"#fb9f3a\"],[0.8888888888888888,\"#fdca26\"],[1.0,\"#f0f921\"]],\"type\":\"heatmap\"}],\"histogram2dcontour\":[{\"colorbar\":{\"outlinewidth\":0,\"ticks\":\"\"},\"colorscale\":[[0.0,\"#0d0887\"],[0.1111111111111111,\"#46039f\"],[0.2222222222222222,\"#7201a8\"],[0.3333333333333333,\"#9c179e\"],[0.4444444444444444,\"#bd3786\"],[0.5555555555555556,\"#d8576b\"],[0.6666666666666666,\"#ed7953\"],[0.7777777777777778,\"#fb9f3a\"],[0.8888888888888888,\"#fdca26\"],[1.0,\"#f0f921\"]],\"type\":\"histogram2dcontour\"}],\"histogram2d\":[{\"colorbar\":{\"outlinewidth\":0,\"ticks\":\"\"},\"colorscale\":[[0.0,\"#0d0887\"],[0.1111111111111111,\"#46039f\"],[0.2222222222222222,\"#7201a8\"],[0.3333333333333333,\"#9c179e\"],[0.4444444444444444,\"#bd3786\"],[0.5555555555555556,\"#d8576b\"],[0.6666666666666666,\"#ed7953\"],[0.7777777777777778,\"#fb9f3a\"],[0.8888888888888888,\"#fdca26\"],[1.0,\"#f0f921\"]],\"type\":\"histogram2d\"}],\"histogram\":[{\"marker\":{\"pattern\":{\"fillmode\":\"overlay\",\"size\":10,\"solidity\":0.2}},\"type\":\"histogram\"}],\"mesh3d\":[{\"colorbar\":{\"outlinewidth\":0,\"ticks\":\"\"},\"type\":\"mesh3d\"}],\"parcoords\":[{\"line\":{\"colorbar\":{\"outlinewidth\":0,\"ticks\":\"\"}},\"type\":\"parcoords\"}],\"pie\":[{\"automargin\":true,\"type\":\"pie\"}],\"scatter3d\":[{\"line\":{\"colorbar\":{\"outlinewidth\":0,\"ticks\":\"\"}},\"marker\":{\"colorbar\":{\"outlinewidth\":0,\"ticks\":\"\"}},\"type\":\"scatter3d\"}],\"scattercarpet\":[{\"marker\":{\"colorbar\":{\"outlinewidth\":0,\"ticks\":\"\"}},\"type\":\"scattercarpet\"}],\"scattergeo\":[{\"marker\":{\"colorbar\":{\"outlinewidth\":0,\"ticks\":\"\"}},\"type\":\"scattergeo\"}],\"scattergl\":[{\"marker\":{\"colorbar\":{\"outlinewidth\":0,\"ticks\":\"\"}},\"type\":\"scattergl\"}],\"scattermapbox\":[{\"marker\":{\"colorbar\":{\"outlinewidth\":0,\"ticks\":\"\"}},\"type\":\"scattermapbox\"}],\"scatterpolargl\":[{\"marker\":{\"colorbar\":{\"outlinewidth\":0,\"ticks\":\"\"}},\"type\":\"scatterpolargl\"}],\"scatterpolar\":[{\"marker\":{\"colorbar\":{\"outlinewidth\":0,\"ticks\":\"\"}},\"type\":\"scatterpolar\"}],\"scatter\":[{\"fillpattern\":{\"fillmode\":\"overlay\",\"size\":10,\"solidity\":0.2},\"type\":\"scatter\"}],\"scatterternary\":[{\"marker\":{\"colorbar\":{\"outlinewidth\":0,\"ticks\":\"\"}},\"type\":\"scatterternary\"}],\"surface\":[{\"colorbar\":{\"outlinewidth\":0,\"ticks\":\"\"},\"colorscale\":[[0.0,\"#0d0887\"],[0.1111111111111111,\"#46039f\"],[0.2222222222222222,\"#7201a8\"],[0.3333333333333333,\"#9c179e\"],[0.4444444444444444,\"#bd3786\"],[0.5555555555555556,\"#d8576b\"],[0.6666666666666666,\"#ed7953\"],[0.7777777777777778,\"#fb9f3a\"],[0.8888888888888888,\"#fdca26\"],[1.0,\"#f0f921\"]],\"type\":\"surface\"}],\"table\":[{\"cells\":{\"fill\":{\"color\":\"#EBF0F8\"},\"line\":{\"color\":\"white\"}},\"header\":{\"fill\":{\"color\":\"#C8D4E3\"},\"line\":{\"color\":\"white\"}},\"type\":\"table\"}]},\"layout\":{\"annotationdefaults\":{\"arrowcolor\":\"#2a3f5f\",\"arrowhead\":0,\"arrowwidth\":1},\"autotypenumbers\":\"strict\",\"coloraxis\":{\"colorbar\":{\"outlinewidth\":0,\"ticks\":\"\"}},\"colorscale\":{\"diverging\":[[0,\"#8e0152\"],[0.1,\"#c51b7d\"],[0.2,\"#de77ae\"],[0.3,\"#f1b6da\"],[0.4,\"#fde0ef\"],[0.5,\"#f7f7f7\"],[0.6,\"#e6f5d0\"],[0.7,\"#b8e186\"],[0.8,\"#7fbc41\"],[0.9,\"#4d9221\"],[1,\"#276419\"]],\"sequential\":[[0.0,\"#0d0887\"],[0.1111111111111111,\"#46039f\"],[0.2222222222222222,\"#7201a8\"],[0.3333333333333333,\"#9c179e\"],[0.4444444444444444,\"#bd3786\"],[0.5555555555555556,\"#d8576b\"],[0.6666666666666666,\"#ed7953\"],[0.7777777777777778,\"#fb9f3a\"],[0.8888888888888888,\"#fdca26\"],[1.0,\"#f0f921\"]],\"sequentialminus\":[[0.0,\"#0d0887\"],[0.1111111111111111,\"#46039f\"],[0.2222222222222222,\"#7201a8\"],[0.3333333333333333,\"#9c179e\"],[0.4444444444444444,\"#bd3786\"],[0.5555555555555556,\"#d8576b\"],[0.6666666666666666,\"#ed7953\"],[0.7777777777777778,\"#fb9f3a\"],[0.8888888888888888,\"#fdca26\"],[1.0,\"#f0f921\"]]},\"colorway\":[\"#636efa\",\"#EF553B\",\"#00cc96\",\"#ab63fa\",\"#FFA15A\",\"#19d3f3\",\"#FF6692\",\"#B6E880\",\"#FF97FF\",\"#FECB52\"],\"font\":{\"color\":\"#2a3f5f\"},\"geo\":{\"bgcolor\":\"white\",\"lakecolor\":\"white\",\"landcolor\":\"#E5ECF6\",\"showlakes\":true,\"showland\":true,\"subunitcolor\":\"white\"},\"hoverlabel\":{\"align\":\"left\"},\"hovermode\":\"closest\",\"mapbox\":{\"style\":\"light\"},\"paper_bgcolor\":\"white\",\"plot_bgcolor\":\"#E5ECF6\",\"polar\":{\"angularaxis\":{\"gridcolor\":\"white\",\"linecolor\":\"white\",\"ticks\":\"\"},\"bgcolor\":\"#E5ECF6\",\"radialaxis\":{\"gridcolor\":\"white\",\"linecolor\":\"white\",\"ticks\":\"\"}},\"scene\":{\"xaxis\":{\"backgroundcolor\":\"#E5ECF6\",\"gridcolor\":\"white\",\"gridwidth\":2,\"linecolor\":\"white\",\"showbackground\":true,\"ticks\":\"\",\"zerolinecolor\":\"white\"},\"yaxis\":{\"backgroundcolor\":\"#E5ECF6\",\"gridcolor\":\"white\",\"gridwidth\":2,\"linecolor\":\"white\",\"showbackground\":true,\"ticks\":\"\",\"zerolinecolor\":\"white\"},\"zaxis\":{\"backgroundcolor\":\"#E5ECF6\",\"gridcolor\":\"white\",\"gridwidth\":2,\"linecolor\":\"white\",\"showbackground\":true,\"ticks\":\"\",\"zerolinecolor\":\"white\"}},\"shapedefaults\":{\"line\":{\"color\":\"#2a3f5f\"}},\"ternary\":{\"aaxis\":{\"gridcolor\":\"white\",\"linecolor\":\"white\",\"ticks\":\"\"},\"baxis\":{\"gridcolor\":\"white\",\"linecolor\":\"white\",\"ticks\":\"\"},\"bgcolor\":\"#E5ECF6\",\"caxis\":{\"gridcolor\":\"white\",\"linecolor\":\"white\",\"ticks\":\"\"}},\"title\":{\"x\":0.05},\"xaxis\":{\"automargin\":true,\"gridcolor\":\"white\",\"linecolor\":\"white\",\"ticks\":\"\",\"title\":{\"standoff\":15},\"zerolinecolor\":\"white\",\"zerolinewidth\":2},\"yaxis\":{\"automargin\":true,\"gridcolor\":\"white\",\"linecolor\":\"white\",\"ticks\":\"\",\"title\":{\"standoff\":15},\"zerolinecolor\":\"white\",\"zerolinewidth\":2}}},\"xaxis\":{\"title\":{\"text\":\"Nivel de Priorizaci\\u00f3n\"}},\"yaxis\":{\"title\":{\"text\":\"N\\u00famero de Municipios\"}}},                        {\"responsive\": true}                    ).then(function(){\n",
       "                            \n",
       "var gd = document.getElementById('3a4671d3-292f-4ae7-9731-1ac18e9d6b96');\n",
       "var x = new MutationObserver(function (mutations, observer) {{\n",
       "        var display = window.getComputedStyle(gd).display;\n",
       "        if (!display || display === 'none') {{\n",
       "            console.log([gd, 'removed!']);\n",
       "            Plotly.purge(gd);\n",
       "            observer.disconnect();\n",
       "        }}\n",
       "}});\n",
       "\n",
       "// Listen for the removal of the full notebook cells\n",
       "var notebookContainer = gd.closest('#notebook-container');\n",
       "if (notebookContainer) {{\n",
       "    x.observe(notebookContainer, {childList: true});\n",
       "}}\n",
       "\n",
       "// Listen for the clearing of the current output cell\n",
       "var outputEl = gd.closest('.output');\n",
       "if (outputEl) {{\n",
       "    x.observe(outputEl, {childList: true});\n",
       "}}\n",
       "\n",
       "                        })                };                });            </script>        </div>"
      ]
     },
     "metadata": {},
     "output_type": "display_data"
    }
   ],
   "source": [
    "import plotly\n",
    "plotly.offline.init_notebook_mode(connected=True)\n",
    "import plotly.graph_objs as go\n",
    "\n",
    "# # Print the total number of unique categories\n",
    "niveles = len(df_repara[\"Nivel de priorización .1\"].unique())\n",
    "print('Niveles de priorización = ', niveles)\n",
    "\n",
    "# Count the number of apps in each 'Category'. \n",
    "frecu_niveles = df_repara[\"Nivel de priorización .1\"].value_counts()\n",
    "\n",
    "# Sort num_apps_in_category in descending order based on the count of apps in each category\n",
    "sorted_frecu_niveles= frecu_niveles.sort_values(ascending = False)\n",
    "\n",
    "colors = ['green', 'yellow', 'red']\n",
    "\n",
    "data = [go.Bar(\n",
    "        x = frecu_niveles.index, \n",
    "        y = frecu_niveles.values, width = 0.4,\n",
    "        #text = frecu_niveles.values, \n",
    "        textposition=\"outside\",\n",
    "        marker = dict(color = '#4682b4'),\n",
    "        text = [\"{:.0f} ({:.1%})\".format(value, value/sum(frecu_niveles.values)) for value in frecu_niveles.values],\n",
    ")]\n",
    "#width=800, height=600\n",
    "layout = go.Layout( margin=dict(l=60, r=400, b=120, t=100, pad=4),\n",
    "    font=dict(size=12),\n",
    "    legend=dict(x=0.1, y=0.5),  xaxis=dict(title='Nivel de Priorización'),\n",
    "    yaxis=dict(title='Número de Municipios'))\n",
    "fig = go.Figure(data=data, layout=layout)\n",
    "plotly.offline.iplot(fig)"
   ]
  },
  {
   "cell_type": "code",
   "execution_count": 64,
   "id": "ae818ec3",
   "metadata": {
    "scrolled": true
   },
   "outputs": [
    {
     "data": {
      "text/plain": [
       "D.T. Nariño          8\n",
       "D.T. Chocó           6\n",
       "D.T. Uraba           3\n",
       "D.T. Cauca           3\n",
       "D.T. Antioquia       2\n",
       "D.T. Magdalena       1\n",
       "D.T. Eje Cafetero    1\n",
       "D.T. Valle           1\n",
       "Name: NOMBRE DIRECCIÓN TERRITORIAL, dtype: int64"
      ]
     },
     "execution_count": 64,
     "metadata": {},
     "output_type": "execute_result"
    }
   ],
   "source": [
    "deptos_alta[\"NOMBRE DIRECCIÓN TERRITORIAL\"].value_counts()"
   ]
  },
  {
   "cell_type": "markdown",
   "id": "b341ac95",
   "metadata": {},
   "source": [
    "### \n",
    "La tabla 3 muestra los resultados por componentes para los municipios de Ituango Antioquía (El Aro), los municipios del Guaviare, Bagadó Chocó (alto Andágueda), Segovia Antioquia (Machucha) y  Puerto Carreño (Vichada). "
   ]
  },
  {
   "cell_type": "code",
   "execution_count": 263,
   "id": "cc2f3994",
   "metadata": {},
   "outputs": [],
   "source": [
    "zonas_especiales = df_repara[[\"NOMBRE DIRECCIÓN TERRITORIAL\", \"Departamento\", \"Municipio\", \"resultado del indice.1\", \n",
    "                              \"Total Víctimas sujetos de atención\", \"Total Víctimas sujetos de atención (Étnicos)\", \n",
    "                              \"Número de Sujetos de Reparación Colectiva ubicados en la EETT\",'Nivel c1',\n",
    "                              'Nivel c2','Nivel c3','Nivel c4','Nivel c5','Nivel c6','Nivel c7','Nivel c8','Nivel c9', \n",
    "                              'Nivel c10', 'resultado del indice.1', 'Nivel Resultado General']]"
   ]
  },
  {
   "cell_type": "code",
   "execution_count": 264,
   "id": "86fd6cb8",
   "metadata": {},
   "outputs": [],
   "source": [
    "zonas_especiales_1 = zonas_especiales[(zonas_especiales[\"Departamento\"]=='Guaviare') | (zonas_especiales[\"Municipio\"].isin(['Ituango', 'Bagado', 'Segovia', 'Puerto Carreño']))]"
   ]
  },
  {
   "cell_type": "code",
   "execution_count": 265,
   "id": "e33320f9",
   "metadata": {},
   "outputs": [
    {
     "name": "stderr",
     "output_type": "stream",
     "text": [
      "C:\\Users\\ivan.corredor\\AppData\\Local\\Temp\\2\\ipykernel_1200\\1543375066.py:1: SettingWithCopyWarning:\n",
      "\n",
      "\n",
      "A value is trying to be set on a copy of a slice from a DataFrame.\n",
      "Try using .loc[row_indexer,col_indexer] = value instead\n",
      "\n",
      "See the caveats in the documentation: https://pandas.pydata.org/pandas-docs/stable/user_guide/indexing.html#returning-a-view-versus-a-copy\n",
      "\n"
     ]
    }
   ],
   "source": [
    "zonas_especiales_1[\"Municipio\"]= zonas_especiales_1[\"Municipio\"].str.replace('Bagado', 'Bagadó')"
   ]
  },
  {
   "cell_type": "code",
   "execution_count": 266,
   "id": "e9f4b96b",
   "metadata": {},
   "outputs": [],
   "source": [
    "zonas_especiales_1_t = zonas_especiales_1.set_index('Municipio').transpose()"
   ]
  },
  {
   "cell_type": "code",
   "execution_count": 267,
   "id": "98bc6ce9",
   "metadata": {
    "scrolled": false
   },
   "outputs": [
    {
     "data": {
      "text/html": [
       "<div>\n",
       "<style scoped>\n",
       "    .dataframe tbody tr th:only-of-type {\n",
       "        vertical-align: middle;\n",
       "    }\n",
       "\n",
       "    .dataframe tbody tr th {\n",
       "        vertical-align: top;\n",
       "    }\n",
       "\n",
       "    .dataframe thead th {\n",
       "        text-align: right;\n",
       "    }\n",
       "</style>\n",
       "<table border=\"1\" class=\"dataframe\">\n",
       "  <thead>\n",
       "    <tr style=\"text-align: right;\">\n",
       "      <th>Municipio</th>\n",
       "      <th>Ituango</th>\n",
       "      <th>Segovia</th>\n",
       "      <th>Bagadó</th>\n",
       "      <th>San Jose Del Guaviare</th>\n",
       "      <th>Calamar</th>\n",
       "      <th>El Retorno</th>\n",
       "      <th>Miraflores</th>\n",
       "      <th>Puerto Carreño</th>\n",
       "    </tr>\n",
       "  </thead>\n",
       "  <tbody>\n",
       "    <tr>\n",
       "      <th>NOMBRE DIRECCIÓN TERRITORIAL</th>\n",
       "      <td>D.T. Antioquia</td>\n",
       "      <td>D.T. Antioquia</td>\n",
       "      <td>D.T. Chocó</td>\n",
       "      <td>D.T. Meta y Llanos Orientales</td>\n",
       "      <td>D.T. Meta y Llanos Orientales</td>\n",
       "      <td>D.T. Meta y Llanos Orientales</td>\n",
       "      <td>D.T. Meta y Llanos Orientales</td>\n",
       "      <td>D.T. Meta y Llanos Orientales</td>\n",
       "    </tr>\n",
       "    <tr>\n",
       "      <th>Departamento</th>\n",
       "      <td>Antioquia</td>\n",
       "      <td>Antioquia</td>\n",
       "      <td>Choco</td>\n",
       "      <td>Guaviare</td>\n",
       "      <td>Guaviare</td>\n",
       "      <td>Guaviare</td>\n",
       "      <td>Guaviare</td>\n",
       "      <td>Vichada</td>\n",
       "    </tr>\n",
       "    <tr>\n",
       "      <th>resultado del indice.1</th>\n",
       "      <td>3</td>\n",
       "      <td>2</td>\n",
       "      <td>4</td>\n",
       "      <td>1</td>\n",
       "      <td>3</td>\n",
       "      <td>2</td>\n",
       "      <td>3</td>\n",
       "      <td>2</td>\n",
       "    </tr>\n",
       "    <tr>\n",
       "      <th>Total Víctimas sujetos de atención</th>\n",
       "      <td>13922</td>\n",
       "      <td>9632</td>\n",
       "      <td>5756</td>\n",
       "      <td>25976</td>\n",
       "      <td>2996</td>\n",
       "      <td>3403</td>\n",
       "      <td>761</td>\n",
       "      <td>3689</td>\n",
       "    </tr>\n",
       "    <tr>\n",
       "      <th>Total Víctimas sujetos de atención (Étnicos)</th>\n",
       "      <td>384</td>\n",
       "      <td>716</td>\n",
       "      <td>5238</td>\n",
       "      <td>3837</td>\n",
       "      <td>487</td>\n",
       "      <td>340</td>\n",
       "      <td>376</td>\n",
       "      <td>801</td>\n",
       "    </tr>\n",
       "    <tr>\n",
       "      <th>Número de Sujetos de Reparación Colectiva ubicados en la EETT</th>\n",
       "      <td>4</td>\n",
       "      <td>3</td>\n",
       "      <td>2</td>\n",
       "      <td>7</td>\n",
       "      <td>1</td>\n",
       "      <td>1</td>\n",
       "      <td>2</td>\n",
       "      <td>3</td>\n",
       "    </tr>\n",
       "    <tr>\n",
       "      <th>Nivel c1</th>\n",
       "      <td>MEDIA</td>\n",
       "      <td>MEDIA</td>\n",
       "      <td>ALTA</td>\n",
       "      <td>MEDIA</td>\n",
       "      <td>MEDIA</td>\n",
       "      <td>MEDIA</td>\n",
       "      <td>MEDIA</td>\n",
       "      <td>BAJA</td>\n",
       "    </tr>\n",
       "    <tr>\n",
       "      <th>Nivel c2</th>\n",
       "      <td>NaN</td>\n",
       "      <td>NaN</td>\n",
       "      <td>NaN</td>\n",
       "      <td>NaN</td>\n",
       "      <td>NaN</td>\n",
       "      <td>NaN</td>\n",
       "      <td>NaN</td>\n",
       "      <td>NaN</td>\n",
       "    </tr>\n",
       "    <tr>\n",
       "      <th>Nivel c3</th>\n",
       "      <td>BAJA</td>\n",
       "      <td>BAJA</td>\n",
       "      <td>BAJA</td>\n",
       "      <td>BAJA</td>\n",
       "      <td>BAJA</td>\n",
       "      <td>BAJA</td>\n",
       "      <td>BAJA</td>\n",
       "      <td>BAJA</td>\n",
       "    </tr>\n",
       "    <tr>\n",
       "      <th>Nivel c4</th>\n",
       "      <td>BAJA</td>\n",
       "      <td>BAJA</td>\n",
       "      <td>ALTA</td>\n",
       "      <td>MEDIA</td>\n",
       "      <td>BAJA</td>\n",
       "      <td>BAJA</td>\n",
       "      <td>BAJA</td>\n",
       "      <td>MEDIA</td>\n",
       "    </tr>\n",
       "    <tr>\n",
       "      <th>Nivel c5</th>\n",
       "      <td>MEDIA</td>\n",
       "      <td>MEDIA</td>\n",
       "      <td>MEDIA</td>\n",
       "      <td>ALTA</td>\n",
       "      <td>MEDIA</td>\n",
       "      <td>MEDIA</td>\n",
       "      <td>MEDIA</td>\n",
       "      <td>MEDIA</td>\n",
       "    </tr>\n",
       "    <tr>\n",
       "      <th>Nivel c6</th>\n",
       "      <td>ALTA</td>\n",
       "      <td>ALTA</td>\n",
       "      <td>BAJA</td>\n",
       "      <td>BAJA</td>\n",
       "      <td>BAJA</td>\n",
       "      <td>BAJA</td>\n",
       "      <td>BAJA</td>\n",
       "      <td>BAJA</td>\n",
       "    </tr>\n",
       "    <tr>\n",
       "      <th>Nivel c7</th>\n",
       "      <td>ALTA</td>\n",
       "      <td>ALTA</td>\n",
       "      <td>BAJA</td>\n",
       "      <td>BAJA</td>\n",
       "      <td>ALTA</td>\n",
       "      <td>ALTA</td>\n",
       "      <td>ALTA</td>\n",
       "      <td>ALTA</td>\n",
       "    </tr>\n",
       "    <tr>\n",
       "      <th>Nivel c8</th>\n",
       "      <td>MEDIA</td>\n",
       "      <td>MEDIA</td>\n",
       "      <td>ALTA</td>\n",
       "      <td>MEDIA</td>\n",
       "      <td>MEDIA</td>\n",
       "      <td>MEDIA</td>\n",
       "      <td>MEDIA</td>\n",
       "      <td>MEDIA</td>\n",
       "    </tr>\n",
       "    <tr>\n",
       "      <th>Nivel c9</th>\n",
       "      <td>ALTA</td>\n",
       "      <td>MEDIA</td>\n",
       "      <td>ALTA</td>\n",
       "      <td>MEDIA</td>\n",
       "      <td>ALTA</td>\n",
       "      <td>ALTA</td>\n",
       "      <td>ALTA</td>\n",
       "      <td>ALTA</td>\n",
       "    </tr>\n",
       "    <tr>\n",
       "      <th>Nivel c10</th>\n",
       "      <td>BAJA</td>\n",
       "      <td>BAJA</td>\n",
       "      <td>MEDIA</td>\n",
       "      <td>MEDIA</td>\n",
       "      <td>ALTA</td>\n",
       "      <td>MEDIA</td>\n",
       "      <td>ALTA</td>\n",
       "      <td>MEDIA</td>\n",
       "    </tr>\n",
       "    <tr>\n",
       "      <th>resultado del indice.1</th>\n",
       "      <td>3</td>\n",
       "      <td>2</td>\n",
       "      <td>4</td>\n",
       "      <td>1</td>\n",
       "      <td>3</td>\n",
       "      <td>2</td>\n",
       "      <td>3</td>\n",
       "      <td>2</td>\n",
       "    </tr>\n",
       "    <tr>\n",
       "      <th>Nivel Resultado General</th>\n",
       "      <td>MEDIA</td>\n",
       "      <td>BAJA</td>\n",
       "      <td>MEDIA</td>\n",
       "      <td>BAJA</td>\n",
       "      <td>MEDIA</td>\n",
       "      <td>BAJA</td>\n",
       "      <td>MEDIA</td>\n",
       "      <td>BAJA</td>\n",
       "    </tr>\n",
       "  </tbody>\n",
       "</table>\n",
       "</div>"
      ],
      "text/plain": [
       "Municipio                                                  Ituango  \\\n",
       "NOMBRE DIRECCIÓN TERRITORIAL                        D.T. Antioquia   \n",
       "Departamento                                             Antioquia   \n",
       "resultado del indice.1                                           3   \n",
       "Total Víctimas sujetos de atención                           13922   \n",
       "Total Víctimas sujetos de atención (Étnicos)                   384   \n",
       "Número de Sujetos de Reparación Colectiva ubica...               4   \n",
       "Nivel c1                                                     MEDIA   \n",
       "Nivel c2                                                       NaN   \n",
       "Nivel c3                                                      BAJA   \n",
       "Nivel c4                                                      BAJA   \n",
       "Nivel c5                                                     MEDIA   \n",
       "Nivel c6                                                      ALTA   \n",
       "Nivel c7                                                      ALTA   \n",
       "Nivel c8                                                     MEDIA   \n",
       "Nivel c9                                                      ALTA   \n",
       "Nivel c10                                                     BAJA   \n",
       "resultado del indice.1                                           3   \n",
       "Nivel Resultado General                                      MEDIA   \n",
       "\n",
       "Municipio                                                  Segovia  \\\n",
       "NOMBRE DIRECCIÓN TERRITORIAL                        D.T. Antioquia   \n",
       "Departamento                                             Antioquia   \n",
       "resultado del indice.1                                           2   \n",
       "Total Víctimas sujetos de atención                            9632   \n",
       "Total Víctimas sujetos de atención (Étnicos)                   716   \n",
       "Número de Sujetos de Reparación Colectiva ubica...               3   \n",
       "Nivel c1                                                     MEDIA   \n",
       "Nivel c2                                                       NaN   \n",
       "Nivel c3                                                      BAJA   \n",
       "Nivel c4                                                      BAJA   \n",
       "Nivel c5                                                     MEDIA   \n",
       "Nivel c6                                                      ALTA   \n",
       "Nivel c7                                                      ALTA   \n",
       "Nivel c8                                                     MEDIA   \n",
       "Nivel c9                                                     MEDIA   \n",
       "Nivel c10                                                     BAJA   \n",
       "resultado del indice.1                                           2   \n",
       "Nivel Resultado General                                       BAJA   \n",
       "\n",
       "Municipio                                               Bagadó  \\\n",
       "NOMBRE DIRECCIÓN TERRITORIAL                        D.T. Chocó   \n",
       "Departamento                                             Choco   \n",
       "resultado del indice.1                                       4   \n",
       "Total Víctimas sujetos de atención                        5756   \n",
       "Total Víctimas sujetos de atención (Étnicos)              5238   \n",
       "Número de Sujetos de Reparación Colectiva ubica...           2   \n",
       "Nivel c1                                                  ALTA   \n",
       "Nivel c2                                                   NaN   \n",
       "Nivel c3                                                  BAJA   \n",
       "Nivel c4                                                  ALTA   \n",
       "Nivel c5                                                 MEDIA   \n",
       "Nivel c6                                                  BAJA   \n",
       "Nivel c7                                                  BAJA   \n",
       "Nivel c8                                                  ALTA   \n",
       "Nivel c9                                                  ALTA   \n",
       "Nivel c10                                                MEDIA   \n",
       "resultado del indice.1                                       4   \n",
       "Nivel Resultado General                                  MEDIA   \n",
       "\n",
       "Municipio                                                   San Jose Del Guaviare  \\\n",
       "NOMBRE DIRECCIÓN TERRITORIAL                        D.T. Meta y Llanos Orientales   \n",
       "Departamento                                                             Guaviare   \n",
       "resultado del indice.1                                                          1   \n",
       "Total Víctimas sujetos de atención                                          25976   \n",
       "Total Víctimas sujetos de atención (Étnicos)                                 3837   \n",
       "Número de Sujetos de Reparación Colectiva ubica...                              7   \n",
       "Nivel c1                                                                    MEDIA   \n",
       "Nivel c2                                                                      NaN   \n",
       "Nivel c3                                                                     BAJA   \n",
       "Nivel c4                                                                    MEDIA   \n",
       "Nivel c5                                                                     ALTA   \n",
       "Nivel c6                                                                     BAJA   \n",
       "Nivel c7                                                                     BAJA   \n",
       "Nivel c8                                                                    MEDIA   \n",
       "Nivel c9                                                                    MEDIA   \n",
       "Nivel c10                                                                   MEDIA   \n",
       "resultado del indice.1                                                          1   \n",
       "Nivel Resultado General                                                      BAJA   \n",
       "\n",
       "Municipio                                                                 Calamar  \\\n",
       "NOMBRE DIRECCIÓN TERRITORIAL                        D.T. Meta y Llanos Orientales   \n",
       "Departamento                                                             Guaviare   \n",
       "resultado del indice.1                                                          3   \n",
       "Total Víctimas sujetos de atención                                           2996   \n",
       "Total Víctimas sujetos de atención (Étnicos)                                  487   \n",
       "Número de Sujetos de Reparación Colectiva ubica...                              1   \n",
       "Nivel c1                                                                    MEDIA   \n",
       "Nivel c2                                                                      NaN   \n",
       "Nivel c3                                                                     BAJA   \n",
       "Nivel c4                                                                     BAJA   \n",
       "Nivel c5                                                                    MEDIA   \n",
       "Nivel c6                                                                     BAJA   \n",
       "Nivel c7                                                                     ALTA   \n",
       "Nivel c8                                                                    MEDIA   \n",
       "Nivel c9                                                                     ALTA   \n",
       "Nivel c10                                                                    ALTA   \n",
       "resultado del indice.1                                                          3   \n",
       "Nivel Resultado General                                                     MEDIA   \n",
       "\n",
       "Municipio                                                              El Retorno  \\\n",
       "NOMBRE DIRECCIÓN TERRITORIAL                        D.T. Meta y Llanos Orientales   \n",
       "Departamento                                                             Guaviare   \n",
       "resultado del indice.1                                                          2   \n",
       "Total Víctimas sujetos de atención                                           3403   \n",
       "Total Víctimas sujetos de atención (Étnicos)                                  340   \n",
       "Número de Sujetos de Reparación Colectiva ubica...                              1   \n",
       "Nivel c1                                                                    MEDIA   \n",
       "Nivel c2                                                                      NaN   \n",
       "Nivel c3                                                                     BAJA   \n",
       "Nivel c4                                                                     BAJA   \n",
       "Nivel c5                                                                    MEDIA   \n",
       "Nivel c6                                                                     BAJA   \n",
       "Nivel c7                                                                     ALTA   \n",
       "Nivel c8                                                                    MEDIA   \n",
       "Nivel c9                                                                     ALTA   \n",
       "Nivel c10                                                                   MEDIA   \n",
       "resultado del indice.1                                                          2   \n",
       "Nivel Resultado General                                                      BAJA   \n",
       "\n",
       "Municipio                                                              Miraflores  \\\n",
       "NOMBRE DIRECCIÓN TERRITORIAL                        D.T. Meta y Llanos Orientales   \n",
       "Departamento                                                             Guaviare   \n",
       "resultado del indice.1                                                          3   \n",
       "Total Víctimas sujetos de atención                                            761   \n",
       "Total Víctimas sujetos de atención (Étnicos)                                  376   \n",
       "Número de Sujetos de Reparación Colectiva ubica...                              2   \n",
       "Nivel c1                                                                    MEDIA   \n",
       "Nivel c2                                                                      NaN   \n",
       "Nivel c3                                                                     BAJA   \n",
       "Nivel c4                                                                     BAJA   \n",
       "Nivel c5                                                                    MEDIA   \n",
       "Nivel c6                                                                     BAJA   \n",
       "Nivel c7                                                                     ALTA   \n",
       "Nivel c8                                                                    MEDIA   \n",
       "Nivel c9                                                                     ALTA   \n",
       "Nivel c10                                                                    ALTA   \n",
       "resultado del indice.1                                                          3   \n",
       "Nivel Resultado General                                                     MEDIA   \n",
       "\n",
       "Municipio                                                          Puerto Carreño  \n",
       "NOMBRE DIRECCIÓN TERRITORIAL                        D.T. Meta y Llanos Orientales  \n",
       "Departamento                                                              Vichada  \n",
       "resultado del indice.1                                                          2  \n",
       "Total Víctimas sujetos de atención                                           3689  \n",
       "Total Víctimas sujetos de atención (Étnicos)                                  801  \n",
       "Número de Sujetos de Reparación Colectiva ubica...                              3  \n",
       "Nivel c1                                                                     BAJA  \n",
       "Nivel c2                                                                      NaN  \n",
       "Nivel c3                                                                     BAJA  \n",
       "Nivel c4                                                                    MEDIA  \n",
       "Nivel c5                                                                    MEDIA  \n",
       "Nivel c6                                                                     BAJA  \n",
       "Nivel c7                                                                     ALTA  \n",
       "Nivel c8                                                                    MEDIA  \n",
       "Nivel c9                                                                     ALTA  \n",
       "Nivel c10                                                                   MEDIA  \n",
       "resultado del indice.1                                                          2  \n",
       "Nivel Resultado General                                                      BAJA  "
      ]
     },
     "execution_count": 267,
     "metadata": {},
     "output_type": "execute_result"
    }
   ],
   "source": [
    "zonas_especiales_1_t"
   ]
  },
  {
   "cell_type": "code",
   "execution_count": 295,
   "id": "17bbe884",
   "metadata": {},
   "outputs": [
    {
     "data": {
      "text/plain": [
       "Text(0.5, 1.0, 'Monto de indemnizaciones en municipios con prioridad alta')"
      ]
     },
     "execution_count": 295,
     "metadata": {},
     "output_type": "execute_result"
    },
    {
     "data": {
      "image/png": "[encoded data removed]",
      "text/plain": [
       "<Figure size 1500x800 with 1 Axes>"
      ]
     },
     "metadata": {},
     "output_type": "display_data"
    }
   ],
   "source": [
    "%matplotlib inline\n",
    "import seaborn as sns\n",
    "sns.set_style(\"darkgrid\")\n",
    "import matplotlib.pyplot as plt\n",
    "fig, ax = plt.subplots()\n",
    "fig.set_size_inches(15, 8)\n",
    "\n",
    "# Select a few popular app categories\n",
    "df_repara_alta = df_repara[df_repara['Nivel de priorización .1'].isin(['ALTA'])]\n",
    "\n",
    "# Examine the price trend by plotting Price vs Category\n",
    "ax = sns.stripplot(x = df_repara_alta ['INDEMNIZA_MILLONES'],y = df_repara_alta [\"Municipio\"], jitter=True, linewidth=1)\n",
    "ax.set_title('Monto de indemnizaciones en municipios con prioridad alta')\n"
   ]
  },
  {
   "cell_type": "code",
   "execution_count": 321,
   "id": "c8295e15",
   "metadata": {},
   "outputs": [
    {
     "data": {
      "image/png": "[encoded data removed]",
      "text/plain": [
       "<Figure size 640x480 with 1 Axes>"
      ]
     },
     "metadata": {},
     "output_type": "display_data"
    }
   ],
   "source": [
    "## personas y monto de las indemnizaciones\n",
    "pi = sns.scatterplot(x=\"TOTAL_PERSONAS_INDEMNI\", y = 'INDEMNIZA_MILLONES', data=df_repara_alta, hue = 'Municipio',\n",
    "                     s=100, \n",
    "                     alpha=0.7)               \n",
    "pi.set_title('Histórico de Personas Indemnizadas en Municipios priorizados. Colombia 2006-2021.')\n",
    "\n",
    "#para colocar etiquetas en cada punto:\n",
    "# for i, row in df_repara_alta.iterrows():\n",
    "#     plt.annotate(row[\"Municipio\"], (row[\"TOTAL_PERSONAS_INDEMNI\"], \n",
    "#                                 row[\"INDEMNIZA_MILLONES\"]), textcoords=\"offset points\", xytext=(10,0), ha='left', fontsize=8)\n",
    "\n",
    "#plt.show()\n",
    "\n",
    "##para colocar leyenda:\n",
    "plt.legend(bbox_to_anchor=(1.05, 1), loc=2, borderaxespad=0.)\n",
    "plt.xlabel('Personas indemnizadas', fontsize=12)\n",
    "plt.ylabel('$ Indemnización (millones)', fontsize=12)\n",
    "plt.show()\n"
   ]
  },
  {
   "cell_type": "code",
   "execution_count": 323,
   "id": "ac3301ad",
   "metadata": {},
   "outputs": [
    {
     "name": "stdout",
     "output_type": "stream",
     "text": [
      "['green', 'green', 'green', 'green', 'blue', 'blue', 'blue', 'blue', 'blue', 'green']\n"
     ]
    },
    {
     "data": {
      "image/png": "[encoded data removed]",
      "text/plain": [
       "<Figure size 1200x800 with 1 Axes>"
      ]
     },
     "metadata": {},
     "output_type": "display_data"
    }
   ],
   "source": [
    "colors = []\n",
    "\n",
    "# Iterate over rows of netflix_movies_col_subset\n",
    "for i,j in df_repara.iterrows():\n",
    "    if j['Nivel de priorización .1'] ==\"ALTA\":\n",
    "        colors.append(\"red\")\n",
    "    elif j['Nivel de priorización .1'] ==\"MEDIA\" :\n",
    "        colors.append(\"blue\")\n",
    "    elif j['Nivel de priorización .1'] ==\"BAJA\" :\n",
    "        colors.append(\"green\")\n",
    "    else:\n",
    "        colors.append(\"black\")\n",
    "        \n",
    "# Inspect the first 10 values in your list        \n",
    "print(colors[0:10])\n",
    "\n",
    "# Set the figure style and initalize a new figure\n",
    "plt.style.use('fivethirtyeight')\n",
    "fig = plt.figure(figsize=(12,8))\n",
    "\n",
    "# Create a scatter plot of duration versus release_year\n",
    "plt.scatter(df_repara[\"TOTAL_PERSONAS_INDEMNI\"], df_repara['INDEMNIZA_MILLONES'], c= colors)\n",
    "\n",
    "# Create a title and axis labels\n",
    "plt.title(\"Indemnización personas por nivel de prioriazción\")\n",
    "plt.xlabel(\"Personas Indemnizadas\")\n",
    "plt.ylabel(\"Valor indemnización (Millones)\")\n",
    "# Show the plot\n",
    "plt.show()"
   ]
  }
 ],
 "metadata": {
  "kernelspec": {
   "display_name": "Python 3 (ipykernel)",
   "language": "python",
   "name": "python3"
  },
  "language_info": {
   "codemirror_mode": {
    "name": "ipython",
    "version": 3
   },
   "file_extension": ".py",
   "mimetype": "text/x-python",
   "name": "python",
   "nbconvert_exporter": "python",
   "pygments_lexer": "ipython3",
   "version": "3.9.13"
  }
 },
 "nbformat": 4,
 "nbformat_minor": 5
}
