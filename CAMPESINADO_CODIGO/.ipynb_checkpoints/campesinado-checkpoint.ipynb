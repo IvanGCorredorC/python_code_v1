{
 "cells": [
  {
   "cell_type": "markdown",
   "id": "54b57275-ed8d-49a2-af43-7832756921bd",
   "metadata": {},
   "source": [
    "Creado por Ivan Gabriel corredor castillo \\\n",
    "30-05-2024"
   ]
  },
  {
   "cell_type": "code",
   "execution_count": 2,
   "id": "5d3fc869-604d-4ca7-84a6-206f15e3e14b",
   "metadata": {},
   "outputs": [],
   "source": [
    "import pandas as pd\n",
    "import numpy as np\n",
    "import time"
   ]
  },
  {
   "cell_type": "code",
   "execution_count": 3,
   "id": "912b7b81-245d-4641-84b6-28faec0ab1bc",
   "metadata": {},
   "outputs": [],
   "source": [
    "#instalar themas\n",
    "#pip install jupyterlab-night\n",
    "#https://github.com/topics/jupyterlab-theme\n",
    "#https://jupyter-notebook.readthedocs.io/en/latest/migrating/custom-themes.html\n",
    "#!jupyter --version"
   ]
  },
  {
   "cell_type": "markdown",
   "id": "5f632da9-3b62-4ddb-ba90-2b8bee4a7905",
   "metadata": {},
   "source": [
    "## Consolidar base geih por año"
   ]
  },
  {
   "cell_type": "code",
   "execution_count": 5,
   "id": "0eeefa46-9f16-427f-b87d-2e6f76b295ec",
   "metadata": {},
   "outputs": [],
   "source": [
    "# rutas\n",
    "## ruta entrada\n",
    "p1 = \"E:/GEIH/2022/\" \n",
    "## ruta salida\n",
    "p2 = \"E:/GEIH/salidas/\""
   ]
  },
  {
   "cell_type": "code",
   "execution_count": 6,
   "id": "2aeb4c2d-dca8-41d2-894a-9d46282b1af0",
   "metadata": {},
   "outputs": [],
   "source": [
    "pd.options.display.max_columns = None"
   ]
  },
  {
   "cell_type": "code",
   "execution_count": 14,
   "id": "b372a9bb-0282-4228-a0b4-fd4ac1a90b85",
   "metadata": {
    "scrolled": true
   },
   "outputs": [
    {
     "name": "stdout",
     "output_type": "stream",
     "text": [
      "tiempo de ejecución : 62.0 segundos\n",
      "\n"
     ]
    }
   ],
   "source": [
    "# medir tiempo de ejecución\n",
    "#tiempo ejecición\n",
    "start_time = time.time()\n",
    "# libreria para pegar dataframes en serie\n",
    "from functools import reduce\n",
    "\n",
    "# 1. Crear listas tablas de entrada, salida y variables\n",
    "\n",
    "# tablas de personas, 80115 registros\n",
    "tab_in = [\"Características generales, seguridad social en salud y educación\",\n",
    "             \"Fuerza de trabajo\", \"Ocupados\", \"No ocupados\", \"Datos del hogar y la vivienda\"]\n",
    "# tablas de salida\n",
    "meses = [\"Enero\", \"Febrero\", \"Marzo\", \"Abril\", \"Mayo\", \"Junio\",\n",
    "         \"Julio\", \"Agosto\", \"Septiembre\", \"Octubre\", \"Noviembre\", \"Diciembre\"]\n",
    "# separadores\n",
    "sep = [\",\", \";\", \";\", \";\", \";\", \";\",\n",
    "       \";\", \";\", \";\", \";\", \";\", \";\"]\n",
    "\n",
    "# variables de pegue\n",
    "key_columns = ['DIRECTORIO', 'SECUENCIA_P', 'ORDEN']\n",
    "\n",
    "#lista vacia para almacenar cada dfs por mes\n",
    "frames_mes = []\n",
    "for h, k in zip(meses, sep):\n",
    "    # 2. cargue de las bases\n",
    "    for i, j in zip(range(1,6), tab_in):\n",
    "        df1 = pd.read_csv(p1 + f\"{h}/CSV/{j}.csv\", \n",
    "                          sep= k, decimal= \",\", encoding=\"latin1\", low_memory=False)\n",
    "        df1.columns= df1.columns.str.upper()    \n",
    "        exec(f\"{h}_{i} = df1.copy()\")\n",
    "        del df1\n",
    "\n",
    "    # 3. Get it non key common variables in both dataframes\n",
    "    common_columns = list(set(eval(f\"{h}_1\").columns).intersection(set(eval(f\"{h}_2\").columns)).\n",
    "                          intersection(set(eval(f\"{h}_3\").columns)).\n",
    "                          intersection(set(eval(f\"{h}_4\").columns)).\n",
    "                          intersection(set(eval(f\"{h}_5\").columns))- set(key_columns))\n",
    "\n",
    "    # 4. Drop common columns from dataframes except características generales, before merging\n",
    "    for i in range(2,6):\n",
    "        eval(f\"{h}_{i}\").drop(columns=common_columns, inplace=True)\n",
    "\n",
    "    # List of DataFrames\n",
    "    frames_s = [eval(f\"{h}_1\"), eval(f\"{h}_2\"), eval(f\"{h}_3\"), eval(f\"{h}_4\")]\n",
    "    # 5. Pegue modulos personas\n",
    "    df2 = reduce(lambda left, right: pd.merge(left, right, on= key_columns, \n",
    "                                              how=\"left\", \n",
    "                                              validate=\"1:1\", #suffixes=(\"_l\", \"_R\")\n",
    "                                                ), frames_s)\n",
    "    exec(f\"{h}_per = df2.copy()\")\n",
    "    #borrar elemntos de cache\n",
    "    del df2\n",
    "    # 6. merge personas -hogares\n",
    "    df3 =  pd.merge(left= eval(f\"{h}_per\"), right = eval(f\"{h}_5\"),\n",
    "                            left_on=['DIRECTORIO',  'SECUENCIA_P'], \n",
    "                            right_on=['DIRECTORIO', 'SECUENCIA_P'],\n",
    "                            how='left', sort=False, validate='m:1',\n",
    "                            #suffixes=('_P', '_H'), \n",
    "                            indicator = 'INDICATOR_COLUMN')\n",
    "    exec(f\"{h}_22 = df3.copy()\") \n",
    "    # borrar elementos de cache\n",
    "    for i in range(1, 6):\n",
    "        del globals()[f\"{h}_{i}\"] \n",
    "    del df3, globals()[f\"{h}_per\"]\n",
    "\n",
    "    # 7. llenar la lista con los dfs por meses\n",
    "    frames_mes.append(eval(f\"{h}_22\"))\n",
    "# 8. Concatenar los meses\n",
    "geih_22 = pd.concat(frames_mes, axis=0, ignore_index=True)\n",
    "# tiempo final\n",
    "end_time = time.time()\n",
    "execution_time = end_time - start_time\n",
    "print(\"tiempo de ejecución :\", np.round(execution_time), \"segundos\\n\")"
   ]
  },
  {
   "cell_type": "code",
   "execution_count": 100,
   "id": "a762f495-5949-479b-9b36-49c09e148f64",
   "metadata": {},
   "outputs": [
    {
     "data": {
      "text/plain": [
       "MES\n",
       "1     80116\n",
       "2     79783\n",
       "3     78595\n",
       "6     77999\n",
       "4     77679\n",
       "5     77380\n",
       "8     76625\n",
       "7     75963\n",
       "9     75382\n",
       "11    73614\n",
       "10    73477\n",
       "12    72846\n",
       "Name: count, dtype: int64"
      ]
     },
     "execution_count": 100,
     "metadata": {},
     "output_type": "execute_result"
    }
   ],
   "source": [
    "geih_22[\"MES\"].value_counts()"
   ]
  },
  {
   "cell_type": "code",
   "execution_count": 20,
   "id": "71b571c5-bf9a-4217-a91a-ac3be5e01278",
   "metadata": {
    "scrolled": true
   },
   "outputs": [
    {
     "name": "stdout",
     "output_type": "stream",
     "text": [
      "población nacional: 50297750.33333716\n",
      "población campesina: 14460983.610993758\n"
     ]
    }
   ],
   "source": [
    "#prueba para el trimestre\n",
    "print(\"población nacional:\", (pd.to_numeric(Enero_22['FEX_C18']).sum() + \n",
    " pd.to_numeric(Febrero_22['FEX_C18']).sum() + \n",
    " pd.to_numeric(Marzo_22['FEX_C18']).sum())/3 )\n",
    "#pd.to_numeric(Enero_22[Enero_22['P6240']==1]['FEX_C18']).mean()\n",
    "\n",
    "# prueba población campesina\n",
    "print(\"población campesina:\", \n",
    "((pd.to_numeric(Enero_22[(Enero_22[\"P2057\"]==1) & (Enero_22[\"P2061\"]==1)]['FEX_C18']).sum()) +\n",
    "(pd.to_numeric(Febrero_22[(Febrero_22[\"P2057\"]==1) & (Febrero_22[\"P2061\"]==1)]['FEX_C18']).sum()) +\n",
    "(pd.to_numeric(Marzo_22[(Marzo_22[\"P2057\"]==1) & (Marzo_22[\"P2061\"]==1)]['FEX_C18']).sum()) \n",
    ")/ 3 )"
   ]
  },
  {
   "cell_type": "code",
   "execution_count": 25,
   "id": "796a3db8-542f-4d43-b0c2-16c4e1d26b86",
   "metadata": {},
   "outputs": [
    {
     "data": {
      "text/plain": [
       "640.6648305254095"
      ]
     },
     "execution_count": 25,
     "metadata": {},
     "output_type": "execute_result"
    }
   ],
   "source": [
    "# Pruebas para corroborar pegue de modulos\n",
    "pd.to_numeric(Enero_22[Enero_22['P6240']==1]['FEX_C18']).mean()\n",
    "#pd.to_numeric(Enero_2['FEX_C18']).mean()\n",
    "# mean: mod_2['P6240']: 640.6648305254095, \n",
    "# mean: personas['P6240']: 640.6648305254095"
   ]
  },
  {
   "cell_type": "markdown",
   "id": "3f6467a0-a14c-4753-be22-661b3ded5271",
   "metadata": {},
   "source": [
    "## Base víctimas con geih"
   ]
  },
  {
   "cell_type": "code",
   "execution_count": 24,
   "id": "16bdd1d0-0f0b-42c6-b17b-d333e284dedf",
   "metadata": {},
   "outputs": [],
   "source": [
    "#rutas\n",
    "p1 = \"C:/Users/ivan.corredor/pobreza_calculos_2019_2022/2023/pobreza monetaria/\""
   ]
  },
  {
   "cell_type": "code",
   "execution_count": 46,
   "id": "1be543d7-3c77-4b4d-8a95-99c84625fc8b",
   "metadata": {},
   "outputs": [],
   "source": [
    "# Cargue de tabla 2022\n",
    "vic_22 = pd.read_stata(p1 + \"Victimas_GEIH_2022.dta\")\n",
    "# convertir a mayúsculas los nombres de las columnas\n",
    "vic_22.columns= vic_22.columns.str.upper()\n",
    "#convertir variable mes a numero para pegue\n",
    "vic_22[\"MES\"] = pd.to_numeric(vic_22[\"MES\"], errors='coerce')"
   ]
  },
  {
   "cell_type": "code",
   "execution_count": 48,
   "id": "77c2a57d-f7c5-42b5-994d-a6e61322c628",
   "metadata": {
    "scrolled": true
   },
   "outputs": [],
   "source": [
    "# Merge geih con víctimas\n",
    "geih_vic_22 = pd.merge(left = geih_22, \n",
    "                          right= vic_22, \n",
    "                          left_on=[\"DIRECTORIO\", \"SECUENCIA_P\", \"ORDEN\", \"MES\"], \n",
    "                          right_on=[\"DIRECTORIO\", \"SECUENCIA_P\", \"ORDEN\", \"MES\"], \n",
    "                          how='left', sort=False, validate='1:1')\n",
    "                          #, suffixes=(\"_ph\", \"_v\"), indicator = 'indicator_column_vhp'))"
   ]
  },
  {
   "cell_type": "code",
   "execution_count": 52,
   "id": "910514fc-8e74-440d-8e15-0ad7207a3df5",
   "metadata": {},
   "outputs": [],
   "source": [
    "# crear variable de no víctima\n",
    "def novic(df):\n",
    "    if df[\"ES_VICTIMA\"]!=1:\n",
    "        x = 1\n",
    "    else:\n",
    "        x= 0\n",
    "    return(x)\n",
    "geih_vic_22[\"NO_VICTIMA\"] = geih_vic_22.apply(novic, axis = 1)"
   ]
  },
  {
   "cell_type": "code",
   "execution_count": 60,
   "id": "1d8244a5-6f5f-437d-8d5e-32a1ccad9e2f",
   "metadata": {},
   "outputs": [
    {
     "name": "stdout",
     "output_type": "stream",
     "text": [
      "<class 'pandas.core.frame.DataFrame'>\n",
      "RangeIndex: 919459 entries, 0 to 919458\n",
      "Columns: 363 entries, DIRECTORIO to NO_VICTIMA\n",
      "dtypes: category(1), float64(290), int64(48), object(24)\n",
      "memory usage: 2.5+ GB\n"
     ]
    }
   ],
   "source": [
    "geih_vic_22.info()"
   ]
  },
  {
   "cell_type": "code",
   "execution_count": 56,
   "id": "d2d0f332-466d-46d6-ad1d-4b1cf22f5c38",
   "metadata": {},
   "outputs": [
    {
     "data": {
      "text/plain": [
       "ES_VICTIMA\n",
       "1.0    123269\n",
       "Name: count, dtype: int64"
      ]
     },
     "execution_count": 56,
     "metadata": {},
     "output_type": "execute_result"
    }
   ],
   "source": [
    "geih_vic_22[\"ES_VICTIMA\"].value_counts()"
   ]
  },
  {
   "cell_type": "code",
   "execution_count": 58,
   "id": "ba806080-8578-4622-9cb6-906967dc2419",
   "metadata": {
    "scrolled": true
   },
   "outputs": [
    {
     "data": {
      "text/plain": [
       "NO_VICTIMA\n",
       "1    796190\n",
       "0    123269\n",
       "Name: count, dtype: int64"
      ]
     },
     "execution_count": 58,
     "metadata": {},
     "output_type": "execute_result"
    }
   ],
   "source": [
    "geih_vic_22[\"NO_VICTIMA\"].value_counts()"
   ]
  },
  {
   "cell_type": "markdown",
   "id": "1b7f2914-2d55-4f56-9145-2ad50f0295c4",
   "metadata": {},
   "source": [
    "## Estadísticas de validación"
   ]
  },
  {
   "cell_type": "code",
   "execution_count": 73,
   "id": "db80b1a9-8d21-40b1-99f3-39a62390848c",
   "metadata": {},
   "outputs": [
    {
     "name": "stdout",
     "output_type": "stream",
     "text": [
      "['DIRECTORIO', 'SECUENCIA_P', 'ORDEN', 'P6016', 'P3271', 'P6030S1', 'P6030S3', 'P6040', 'P6050', 'P6083', 'P6083S1', 'P6081', 'P6081S1', 'P2057', 'P2059', 'P2061', 'P6080', 'P6080S1', 'P6080S1A1', 'P6070', 'P6071', 'P6071S1', 'P3147S1', 'P3147S2', 'P3147S3', 'P3147S4', 'P3147S5', 'P3147S6', 'P3147S7', 'P3147S8', 'P3147S9', 'P3147S10', 'P3147S11', 'P3147S10A1', 'P6090', 'P6100', 'P6110', 'P6120', 'P1906S1', 'P1906S2', 'P1906S3', 'P1906S4', 'P1906S5', 'P1906S6', 'P1906S7', 'P1906S8', 'P6160', 'P6170', 'P3041', 'P3042', 'P3042S1', 'P3042S2', 'P3043', 'P3043S1', 'HOGAR', 'CLASE', 'P3038', 'P3039', 'AREA', 'MES', 'PERIODO', 'DPTO', 'PT', 'FEX_C18', 'LGB_NUMERICA', 'LGB_SECTORES', 'TRANS_NUMERICA', 'LGBT_NUMERICA', 'DISCAPACIDAD', 'DIFICULTAD', 'CAMPESINA', 'POB_MAY18', 'PER', 'REGIS', 'P6240', 'P6240S1', 'P6250', 'P6260', 'P6260S1', 'P6260S1A1', 'P6260S2', 'P6270', 'P6280', 'P6290', 'P6300', 'P6310', 'P6310S1', 'P6320', 'P6330', 'P6340', 'P6350', 'P6351', 'P6240S2', 'P3362S1', 'P3362S2', 'P3362S3', 'P3362S4', 'P3362S5', 'P3362S6', 'P3362S7', 'P3362S8', 'P3362S7A1', 'FT_x', 'FFT_x', 'PET', 'P3044', 'P6440', 'P6450', 'P6460', 'P6460S1', 'P6400', 'P6410', 'P6422', 'P6424S1', 'P6424S2', 'P6424S3', 'P6424S5', 'P6426', 'P6430S1', 'P3045S1', 'P3045S2', 'P3045S3', 'P3046', 'P9440', 'P6500', 'P6510', 'P6510S1', 'P6510S2', 'P6590', 'P6590S1', 'P6600', 'P6600S1', 'P6610', 'P6610S1', 'P6620', 'P6620S1', 'P6585S1', 'P6585S1A1', 'P6585S1A2', 'P6585S2', 'P6585S2A1', 'P6585S2A2', 'P6585S3', 'P6585S3A1', 'P6585S3A2', 'P6585S4', 'P6585S4A1', 'P6585S4A2', 'P6545', 'P6545S1', 'P6545S2', 'P6580', 'P6580S1', 'P6580S2', 'P6630S1', 'P6630S1A1', 'P6630S2', 'P6630S2A1', 'P6630S3', 'P6630S3A1', 'P6630S4', 'P6630S4A1', 'P6630S6', 'P6630S6A1', 'P6640', 'P3047', 'P3048', 'P3049', 'P6765', 'P6765S1', 'P3053', 'P3054', 'P3055', 'P3056', 'P6760', 'P3061', 'P3063', 'P3064', 'P3065', 'P3066', 'P3067', 'P3067S1', 'P3067S2', 'P6775', 'P3068', 'P6750', 'P3073', 'P550', 'P6780', 'P6780S1', 'P1879', 'P1805', 'P6790', 'P6800', 'P6810', 'P6810S1', 'P6850', 'P6830', 'P6830S1', 'P3069', 'P6880', 'P6880S1', 'P6915', 'P6915S1', 'P6920', 'P6930', 'P6940', 'P6960', 'P6990', 'P9450', 'P7020', 'P760', 'P7026', 'P7028', 'P7028S1', 'P1880', 'P1880S1', 'P7040', 'P7045', 'P7050', 'P7070', 'P7075', 'P7077', 'P7090', 'P7100', 'P7110', 'P7120', 'P7130', 'P7140S1', 'P7140S2', 'P7140S3', 'P7140S4', 'P7140S5', 'P7140S6', 'P7140S7', 'P7140S8', 'P7140S9', 'P7150', 'P7160', 'P7170S1', 'P7170S5', 'P7170S6', 'P7180', 'P514', 'P515', 'P1881', 'P1882', 'P7240', 'OCI', 'P6430', 'RAMA4D_R4', 'OFICIO_C8', 'RAMA2D_R4', 'FT_y', 'INGLABO', 'P3363', 'P3364', 'P3364S1', 'P6640S1', 'P1800', 'P1800S1', 'P1801S1', 'P1801S2', 'P1801S3', 'P1802', 'P3051', 'P3051S1', 'P3052', 'P3052S1', 'P3365', 'P3365S1', 'P3054S1', 'P3055S1', 'P3057', 'P3058S1', 'P3058S2', 'P3058S3', 'P3058S4', 'P3058S5', 'P3059', 'P3062S1', 'P3062S2', 'P3062S3', 'P3062S4', 'P3062S5', 'P3062S6', 'P3062S7', 'P3062S8', 'P3062S9', 'P3063S1', 'P3064S1', 'P3366', 'P7250', 'P7280', 'P744', 'P3074', 'P7260', 'P1806', 'P7430', 'P7440S1', 'P7440S2', 'P7450', 'P7330', 'P7350', 'P7360', 'P9460', 'P1519', 'P1883', 'P7422', 'P7422S1', 'P7440', 'DSI', 'FFT_y', 'RAMA4D_D_R4', 'RAMA2D_D_R4', 'OFICIO1_C8', 'OFICIO2_C8', 'DSCY', 'P4000', 'P4010', 'P4020', 'P4030S1', 'P4030S1A1', 'P4030S2', 'P4030S3', 'P4030S4', 'P4030S4A1', 'P4030S5', 'P70', 'P5000', 'P5010', 'P5020', 'P5030', 'P5040', 'P5050', 'P5070', 'P5080', 'P5090', 'P5090S1', 'P5100', 'P5110', 'P5130', 'P5140', 'P5222S1', 'P5222S2', 'P5222S3', 'P5222S4', 'P5222S5', 'P5222S6', 'P5222S7', 'P5222S8', 'P5222S9', 'P5222S10', 'P5222S8A1', 'P6008', 'INDICATOR_COLUMN', 'P3044S2', 'P6420S2', 'ES_VICTIMA', 'ES_DESPLAZADO', 'DECADA_VIC', 'FEX_C_VIV', 'NO_VICTIMA']\n"
     ]
    }
   ],
   "source": [
    "print(list(geih_vic_22.columns))"
   ]
  },
  {
   "cell_type": "code",
   "execution_count": 69,
   "id": "61bbda3b-29c5-4fb1-b5c6-f87bc56a13a7",
   "metadata": {},
   "outputs": [
    {
     "name": "stdout",
     "output_type": "stream",
     "text": [
      "población nacional: 50297750.33333716\n",
      "población campesina: 14460983.610993758\n"
     ]
    }
   ],
   "source": [
    "#prueba para el primer trimestre 2022\n",
    "print(\"población nacional:\", (pd.to_numeric(geih_vic_22[geih_vic_22[\"MES\"]==1]['FEX_C18']).sum() + \n",
    " pd.to_numeric(geih_vic_22[geih_vic_22[\"MES\"]==2]['FEX_C18']).sum() + \n",
    " pd.to_numeric(geih_vic_22[geih_vic_22[\"MES\"]==3]['FEX_C18']).sum())/3 )\n",
    "#pd.to_numeric(Enero_22[Enero_22['P6240']==1]['FEX_C18']).mean()\n",
    "\n",
    "# prueba población campesina\n",
    "print(\"población campesina:\", \n",
    "((pd.to_numeric(geih_vic_22[(geih_vic_22[\"MES\"]==1) & (geih_vic_22[\"P2057\"]==1) & (geih_vic_22[\"P2061\"]==1)]['FEX_C18']).sum()) +\n",
    "(pd.to_numeric(geih_vic_22[(geih_vic_22[\"MES\"]==2) & (geih_vic_22[\"P2057\"]==1) & (geih_vic_22[\"P2061\"]==1)]['FEX_C18']).sum()) +\n",
    "(pd.to_numeric(geih_vic_22[(geih_vic_22[\"MES\"]==3) & (geih_vic_22[\"P2057\"]==1) & (geih_vic_22[\"P2061\"]==1)]['FEX_C18']).sum()) \n",
    ")/ 3 )"
   ]
  },
  {
   "cell_type": "code",
   "execution_count": 83,
   "id": "7ab3476b-bc46-4345-8e0b-04fa23054840",
   "metadata": {},
   "outputs": [
    {
     "name": "stdout",
     "output_type": "stream",
     "text": [
      "población campesina: 15545069.667519398\n"
     ]
    }
   ],
   "source": [
    "# prueba población campesina con variable campesina\n",
    "print(\"población campesina:\", \n",
    "((pd.to_numeric(geih_vic_22[(geih_vic_22[\"MES\"]==10) & (geih_vic_22[\"CAMPESINA\"]==1)]['FEX_C18']).sum()) +\n",
    "(pd.to_numeric(geih_vic_22[(geih_vic_22[\"MES\"]==11) & (geih_vic_22[\"CAMPESINA\"]==1)]['FEX_C18']).sum()) +\n",
    "(pd.to_numeric(geih_vic_22[(geih_vic_22[\"MES\"]==12) & (geih_vic_22[\"CAMPESINA\"]==1)]['FEX_C18']).sum()) \n",
    ")/ 3 )"
   ]
  },
  {
   "cell_type": "code",
   "execution_count": 75,
   "id": "0fdd9039-37cd-46b8-948e-7283a91044c9",
   "metadata": {},
   "outputs": [
    {
     "data": {
      "text/plain": [
       "CAMPESINA\n",
       "0    738952\n",
       "1    172923\n",
       "9      7584\n",
       "Name: count, dtype: int64"
      ]
     },
     "execution_count": 75,
     "metadata": {},
     "output_type": "execute_result"
    }
   ],
   "source": [
    "geih_vic_22['CAMPESINA'].value_counts()"
   ]
  },
  {
   "cell_type": "markdown",
   "id": "ecea30e5-f98e-4875-8cd4-191938ee0993",
   "metadata": {},
   "source": [
    "## Exportar base datos"
   ]
  },
  {
   "cell_type": "code",
   "execution_count": 92,
   "id": "f3e28393-5771-44fa-abfe-520cb2de95c0",
   "metadata": {},
   "outputs": [
    {
     "data": {
      "text/plain": [
       "'E:/GEIH/2022/salidas/'"
      ]
     },
     "execution_count": 92,
     "metadata": {},
     "output_type": "execute_result"
    }
   ],
   "source": [
    "\"E:/GEIH/2022/salidas/geih_vic_22.csv\""
   ]
  },
  {
   "cell_type": "code",
   "execution_count": 96,
   "id": "46456f4f-232a-4bca-bca5-3e5eee61d9de",
   "metadata": {},
   "outputs": [],
   "source": [
    "# geih 2022\n",
    "geih_vic_22.to_csv(p2 + \"geih_vic_22.csv\", sep= \";\", index= False)"
   ]
  },
  {
   "cell_type": "code",
   "execution_count": null,
   "id": "e761f8f5-1380-4c20-bf73-15bcc7e6bf7c",
   "metadata": {},
   "outputs": [],
   "source": [
    "# renombrar variables\n",
    "#geih_vic_22.rename(columns = {\"P3271\":\"SEXO\", \"P6040\":\"EDAD\"}, inplace = True)"
   ]
  }
 ],
 "metadata": {
  "kernelspec": {
   "display_name": "Python 3 (ipykernel)",
   "language": "python",
   "name": "python3"
  },
  "language_info": {
   "codemirror_mode": {
    "name": "ipython",
    "version": 3
   },
   "file_extension": ".py",
   "mimetype": "text/x-python",
   "name": "python",
   "nbconvert_exporter": "python",
   "pygments_lexer": "ipython3",
   "version": "3.11.7"
  }
 },
 "nbformat": 4,
 "nbformat_minor": 5
}
