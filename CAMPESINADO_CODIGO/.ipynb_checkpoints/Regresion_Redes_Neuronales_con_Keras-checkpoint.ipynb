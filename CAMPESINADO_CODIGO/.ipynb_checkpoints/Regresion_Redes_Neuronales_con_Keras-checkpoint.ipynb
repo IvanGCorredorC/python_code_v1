{
 "cells": [
  {
   "cell_type": "markdown",
   "metadata": {
    "id": "CETdeq-RT7JU"
   },
   "source": [
    "# Creación de regresión con la API secuencial\n",
    "\n",
    "Ejemplo sencillo para resolver el dateset de California simplificado con redes neuronales usando Keras"
   ]
  },
  {
   "cell_type": "code",
   "execution_count": null,
   "metadata": {
    "id": "J-cxMoCmRs1F"
   },
   "outputs": [],
   "source": [
    "from sklearn.datasets import fetch_california_housing\n",
    "from sklearn.metrics import mean_squared_error\n",
    "from sklearn.model_selection import train_test_split\n",
    "\n",
    "housing = fetch_california_housing()\n",
    "X_train_full, X_test, y_train_full, y_test = train_test_split(\n",
    "    housing.data, housing.target, random_state=42)\n",
    "X_train, X_valid, y_train, y_valid = train_test_split(\n",
    "    X_train_full, y_train_full, random_state=42)"
   ]
  },
  {
   "cell_type": "code",
   "execution_count": null,
   "metadata": {
    "colab": {
     "base_uri": "https://localhost:8080/"
    },
    "executionInfo": {
     "elapsed": 270,
     "status": "ok",
     "timestamp": 1718311317371,
     "user": {
      "displayName": "Gabriel Narváez",
      "userId": "00215126040562476601"
     },
     "user_tz": 300
    },
    "id": "FXay7dG3Vamm",
    "outputId": "3b2fcddd-f3f7-493e-b7e6-31761548bd3e"
   },
   "outputs": [
    {
     "data": {
      "text/plain": [
       "['MedInc',\n",
       " 'HouseAge',\n",
       " 'AveRooms',\n",
       " 'AveBedrms',\n",
       " 'Population',\n",
       " 'AveOccup',\n",
       " 'Latitude',\n",
       " 'Longitude']"
      ]
     },
     "execution_count": 17,
     "metadata": {},
     "output_type": "execute_result"
    }
   ],
   "source": [
    "housing.feature_names"
   ]
  },
  {
   "cell_type": "code",
   "execution_count": null,
   "metadata": {
    "colab": {
     "base_uri": "https://localhost:8080/"
    },
    "executionInfo": {
     "elapsed": 262,
     "status": "ok",
     "timestamp": 1718311282980,
     "user": {
      "displayName": "Gabriel Narváez",
      "userId": "00215126040562476601"
     },
     "user_tz": 300
    },
    "id": "P8r-SmbQVU_d",
    "outputId": "c9166c5e-f73d-4229-cccd-a5530ee520be"
   },
   "outputs": [
    {
     "data": {
      "text/plain": [
       "(11610, 8)"
      ]
     },
     "execution_count": 15,
     "metadata": {},
     "output_type": "execute_result"
    }
   ],
   "source": [
    "X_train.shape"
   ]
  },
  {
   "cell_type": "code",
   "execution_count": null,
   "metadata": {
    "id": "hX6Me7z_T_-D"
   },
   "outputs": [],
   "source": [
    "import tensorflow as tf\n",
    "\n",
    "tf.random.set_seed(42)\n",
    "norm_layer = tf.keras.layers.Normalization(input_shape=X_train.shape[1:])\n",
    "model = tf.keras.Sequential([\n",
    "    norm_layer,\n",
    "    tf.keras.layers.Dense(50, activation=\"relu\"),\n",
    "    tf.keras.layers.Dense(50, activation=\"relu\"),\n",
    "    tf.keras.layers.Dense(50, activation=\"relu\"),\n",
    "    tf.keras.layers.Dense(1)\n",
    "])"
   ]
  },
  {
   "cell_type": "code",
   "execution_count": null,
   "metadata": {
    "colab": {
     "base_uri": "https://localhost:8080/"
    },
    "executionInfo": {
     "elapsed": 273,
     "status": "ok",
     "timestamp": 1718311047259,
     "user": {
      "displayName": "Gabriel Narváez",
      "userId": "00215126040562476601"
     },
     "user_tz": 300
    },
    "id": "D8o6TxQEUcYh",
    "outputId": "7e6923be-0bba-45f9-d595-3a47c598effa"
   },
   "outputs": [
    {
     "name": "stdout",
     "output_type": "stream",
     "text": [
      "Model: \"sequential\"\n",
      "_________________________________________________________________\n",
      " Layer (type)                Output Shape              Param #   \n",
      "=================================================================\n",
      " normalization (Normalizati  (None, 8)                 17        \n",
      " on)                                                             \n",
      "                                                                 \n",
      " dense (Dense)               (None, 50)                450       \n",
      "                                                                 \n",
      " dense_1 (Dense)             (None, 50)                2550      \n",
      "                                                                 \n",
      " dense_2 (Dense)             (None, 50)                2550      \n",
      "                                                                 \n",
      " dense_3 (Dense)             (None, 1)                 51        \n",
      "                                                                 \n",
      "=================================================================\n",
      "Total params: 5618 (21.95 KB)\n",
      "Trainable params: 5601 (21.88 KB)\n",
      "Non-trainable params: 17 (72.00 Byte)\n",
      "_________________________________________________________________\n"
     ]
    }
   ],
   "source": [
    "model.summary()"
   ]
  },
  {
   "cell_type": "code",
   "execution_count": null,
   "metadata": {
    "colab": {
     "base_uri": "https://localhost:8080/",
     "height": 644
    },
    "executionInfo": {
     "elapsed": 808,
     "status": "ok",
     "timestamp": 1718311075666,
     "user": {
      "displayName": "Gabriel Narváez",
      "userId": "00215126040562476601"
     },
     "user_tz": 300
    },
    "id": "hp5Q9RQSUc4a",
    "outputId": "36d8da03-5c86-448c-ade3-82879eb9c09f"
   },
   "outputs": [
    {
     "data": {
      "image/png": "[encoded data removed]",
      "text/plain": [
       "<IPython.core.display.Image object>"
      ]
     },
     "execution_count": 5,
     "metadata": {},
     "output_type": "execute_result"
    }
   ],
   "source": [
    "tf.keras.utils.plot_model(model, \"California_Regression_Model.png\", show_shapes=True)"
   ]
  },
  {
   "cell_type": "code",
   "execution_count": null,
   "metadata": {
    "id": "oQKeBZU5W45z"
   },
   "outputs": [],
   "source": [
    "model.compile(loss=\"mse\", optimizer='Adam', metrics=[\"RootMeanSquaredError\"])\n",
    "norm_layer.adapt(X_train)       # Normalizar los datos antes de entrenar"
   ]
  },
  {
   "cell_type": "code",
   "execution_count": null,
   "metadata": {
    "colab": {
     "base_uri": "https://localhost:8080/"
    },
    "executionInfo": {
     "elapsed": 20743,
     "status": "ok",
     "timestamp": 1718311106976,
     "user": {
      "displayName": "Gabriel Narváez",
      "userId": "00215126040562476601"
     },
     "user_tz": 300
    },
    "id": "yxkvB1oiUOnB",
    "outputId": "df677306-e445-43b0-ee82-e077fa07a58c"
   },
   "outputs": [
    {
     "name": "stdout",
     "output_type": "stream",
     "text": [
      "Epoch 1/20\n",
      "363/363 [==============================] - 2s 3ms/step - loss: 0.8793 - root_mean_squared_error: 0.9377 - val_loss: 0.5426 - val_root_mean_squared_error: 0.7366\n",
      "Epoch 2/20\n",
      "363/363 [==============================] - 1s 2ms/step - loss: 0.3722 - root_mean_squared_error: 0.6101 - val_loss: 1.0349 - val_root_mean_squared_error: 1.0173\n",
      "Epoch 3/20\n",
      "363/363 [==============================] - 1s 2ms/step - loss: 0.3568 - root_mean_squared_error: 0.5973 - val_loss: 0.3181 - val_root_mean_squared_error: 0.5640\n",
      "Epoch 4/20\n",
      "363/363 [==============================] - 1s 2ms/step - loss: 0.3397 - root_mean_squared_error: 0.5829 - val_loss: 0.5294 - val_root_mean_squared_error: 0.7276\n",
      "Epoch 5/20\n",
      "363/363 [==============================] - 1s 3ms/step - loss: 0.3268 - root_mean_squared_error: 0.5717 - val_loss: 0.3888 - val_root_mean_squared_error: 0.6235\n",
      "Epoch 6/20\n",
      "363/363 [==============================] - 1s 4ms/step - loss: 0.3168 - root_mean_squared_error: 0.5629 - val_loss: 0.2985 - val_root_mean_squared_error: 0.5463\n",
      "Epoch 7/20\n",
      "363/363 [==============================] - 1s 2ms/step - loss: 0.3137 - root_mean_squared_error: 0.5601 - val_loss: 0.3684 - val_root_mean_squared_error: 0.6069\n",
      "Epoch 8/20\n",
      "363/363 [==============================] - 1s 3ms/step - loss: 0.3038 - root_mean_squared_error: 0.5511 - val_loss: 1.9651 - val_root_mean_squared_error: 1.4018\n",
      "Epoch 9/20\n",
      "363/363 [==============================] - 1s 3ms/step - loss: 0.3092 - root_mean_squared_error: 0.5561 - val_loss: 0.9764 - val_root_mean_squared_error: 0.9881\n",
      "Epoch 10/20\n",
      "363/363 [==============================] - 1s 4ms/step - loss: 0.3006 - root_mean_squared_error: 0.5483 - val_loss: 0.3249 - val_root_mean_squared_error: 0.5700\n",
      "Epoch 11/20\n",
      "363/363 [==============================] - 1s 4ms/step - loss: 0.2876 - root_mean_squared_error: 0.5363 - val_loss: 0.2810 - val_root_mean_squared_error: 0.5301\n",
      "Epoch 12/20\n",
      "363/363 [==============================] - 1s 2ms/step - loss: 0.2928 - root_mean_squared_error: 0.5411 - val_loss: 0.5620 - val_root_mean_squared_error: 0.7496\n",
      "Epoch 13/20\n",
      "363/363 [==============================] - 1s 2ms/step - loss: 0.2835 - root_mean_squared_error: 0.5324 - val_loss: 0.2818 - val_root_mean_squared_error: 0.5309\n",
      "Epoch 14/20\n",
      "363/363 [==============================] - 1s 2ms/step - loss: 0.2830 - root_mean_squared_error: 0.5320 - val_loss: 0.3069 - val_root_mean_squared_error: 0.5540\n",
      "Epoch 15/20\n",
      "363/363 [==============================] - 1s 2ms/step - loss: 0.2796 - root_mean_squared_error: 0.5288 - val_loss: 0.2754 - val_root_mean_squared_error: 0.5248\n",
      "Epoch 16/20\n",
      "363/363 [==============================] - 1s 3ms/step - loss: 0.2771 - root_mean_squared_error: 0.5264 - val_loss: 0.3297 - val_root_mean_squared_error: 0.5742\n",
      "Epoch 17/20\n",
      "363/363 [==============================] - 1s 2ms/step - loss: 0.2759 - root_mean_squared_error: 0.5253 - val_loss: 0.9601 - val_root_mean_squared_error: 0.9798\n",
      "Epoch 18/20\n",
      "363/363 [==============================] - 1s 2ms/step - loss: 0.2727 - root_mean_squared_error: 0.5222 - val_loss: 0.3186 - val_root_mean_squared_error: 0.5645\n",
      "Epoch 19/20\n",
      "363/363 [==============================] - 1s 2ms/step - loss: 0.2686 - root_mean_squared_error: 0.5183 - val_loss: 0.7070 - val_root_mean_squared_error: 0.8408\n",
      "Epoch 20/20\n",
      "363/363 [==============================] - 1s 2ms/step - loss: 0.2740 - root_mean_squared_error: 0.5235 - val_loss: 0.3237 - val_root_mean_squared_error: 0.5689\n"
     ]
    }
   ],
   "source": [
    "history = model.fit(X_train, y_train, epochs=20,\n",
    "                    validation_data=(X_valid, y_valid))"
   ]
  },
  {
   "cell_type": "code",
   "execution_count": null,
   "metadata": {
    "colab": {
     "base_uri": "https://localhost:8080/"
    },
    "executionInfo": {
     "elapsed": 702,
     "status": "ok",
     "timestamp": 1718311123437,
     "user": {
      "displayName": "Gabriel Narváez",
      "userId": "00215126040562476601"
     },
     "user_tz": 300
    },
    "id": "kWCTWtrUUP7x",
    "outputId": "7c43e2b1-754b-4017-a0ca-2412cd6d2367"
   },
   "outputs": [
    {
     "name": "stdout",
     "output_type": "stream",
     "text": [
      "162/162 [==============================] - 0s 2ms/step - loss: 0.2792 - root_mean_squared_error: 0.5284\n",
      "MSE: 0.2791731357574463, RMSE: 0.528368353843689\n"
     ]
    }
   ],
   "source": [
    "mse_test, rmse_test = model.evaluate(X_test, y_test)\n",
    "\n",
    "print(f\"MSE: {mse_test}, RMSE: {rmse_test}\")"
   ]
  },
  {
   "cell_type": "code",
   "execution_count": null,
   "metadata": {
    "colab": {
     "base_uri": "https://localhost:8080/"
    },
    "executionInfo": {
     "elapsed": 257,
     "status": "ok",
     "timestamp": 1718311174446,
     "user": {
      "displayName": "Gabriel Narváez",
      "userId": "00215126040562476601"
     },
     "user_tz": 300
    },
    "id": "NwztSqu0UsoM",
    "outputId": "9b6d3107-599f-41a9-d9f2-02c85ab6a436"
   },
   "outputs": [
    {
     "name": "stdout",
     "output_type": "stream",
     "text": [
      "1/1 [==============================] - 0s 31ms/step\n",
      "Predictions:\n",
      " [[0.4740252]\n",
      " [0.9682503]\n",
      " [5.062681 ]]\n",
      "\n",
      "Labels: [0.477, 0.458, 5.00001]\n"
     ]
    }
   ],
   "source": [
    "X_new = X_test[:3]\n",
    "y_pred = model.predict(X_new)\n",
    "print(f\"Predictions:\\n {y_pred}\\n\")\n",
    "print(f\"Labels: {list(y_test[:3])}\")"
   ]
  },
  {
   "cell_type": "code",
   "execution_count": null,
   "metadata": {
    "id": "p_TM-Z4DUwj6"
   },
   "outputs": [],
   "source": []
  }
 ],
 "metadata": {
  "colab": {
   "provenance": []
  },
  "kernelspec": {
   "display_name": "Python 3 (ipykernel)",
   "language": "python",
   "name": "python3"
  },
  "language_info": {
   "codemirror_mode": {
    "name": "ipython",
    "version": 3
   },
   "file_extension": ".py",
   "mimetype": "text/x-python",
   "name": "python",
   "nbconvert_exporter": "python",
   "pygments_lexer": "ipython3",
   "version": "3.11.7"
  }
 },
 "nbformat": 4,
 "nbformat_minor": 4
}
