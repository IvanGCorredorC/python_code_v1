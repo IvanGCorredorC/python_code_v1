{
 "cells": [
  {
   "cell_type": "code",
   "execution_count": 1,
   "metadata": {},
   "outputs": [],
   "source": [
    "#series de tiempo. EL oreden de las observaciones si importa.\n",
    "import numpy as np\n",
    "import pandas as pd\n",
    "import matplotlib.pyplot as plt\n",
    "import statsmodels.api as sm"
   ]
  },
  {
   "cell_type": "code",
   "execution_count": 2,
   "metadata": {},
   "outputs": [],
   "source": [
    "data = pd.read_csv(\"Gujarati223.csv\")"
   ]
  },
  {
   "cell_type": "code",
   "execution_count": 3,
   "metadata": {},
   "outputs": [
    {
     "data": {
      "text/html": [
       "<div>\n",
       "<style scoped>\n",
       "    .dataframe tbody tr th:only-of-type {\n",
       "        vertical-align: middle;\n",
       "    }\n",
       "\n",
       "    .dataframe tbody tr th {\n",
       "        vertical-align: top;\n",
       "    }\n",
       "\n",
       "    .dataframe thead th {\n",
       "        text-align: right;\n",
       "    }\n",
       "</style>\n",
       "<table border=\"1\" class=\"dataframe\">\n",
       "  <thead>\n",
       "    <tr style=\"text-align: right;\">\n",
       "      <th></th>\n",
       "      <th>DATE</th>\n",
       "      <th>GDPC1</th>\n",
       "    </tr>\n",
       "  </thead>\n",
       "  <tbody>\n",
       "    <tr>\n",
       "      <th>0</th>\n",
       "      <td>1947-04-01</td>\n",
       "      <td>2027.639</td>\n",
       "    </tr>\n",
       "    <tr>\n",
       "      <th>1</th>\n",
       "      <td>1947-07-01</td>\n",
       "      <td>2023.452</td>\n",
       "    </tr>\n",
       "    <tr>\n",
       "      <th>2</th>\n",
       "      <td>1947-10-01</td>\n",
       "      <td>2055.103</td>\n",
       "    </tr>\n",
       "    <tr>\n",
       "      <th>3</th>\n",
       "      <td>1948-01-01</td>\n",
       "      <td>2086.017</td>\n",
       "    </tr>\n",
       "    <tr>\n",
       "      <th>4</th>\n",
       "      <td>1948-04-01</td>\n",
       "      <td>2120.450</td>\n",
       "    </tr>\n",
       "  </tbody>\n",
       "</table>\n",
       "</div>"
      ],
      "text/plain": [
       "         DATE     GDPC1\n",
       "0  1947-04-01  2027.639\n",
       "1  1947-07-01  2023.452\n",
       "2  1947-10-01  2055.103\n",
       "3  1948-01-01  2086.017\n",
       "4  1948-04-01  2120.450"
      ]
     },
     "execution_count": 3,
     "metadata": {},
     "output_type": "execute_result"
    }
   ],
   "source": [
    "data.head()"
   ]
  },
  {
   "cell_type": "code",
   "execution_count": 4,
   "metadata": {},
   "outputs": [],
   "source": [
    "data = data.rename(columns = {\"DATE\":\"FECHA\", \"GDPC1\":\"PIB\"})"
   ]
  },
  {
   "cell_type": "code",
   "execution_count": 5,
   "metadata": {},
   "outputs": [],
   "source": [
    "data[\"LPIB\"] = np.log(data[\"PIB\"]) #logaritmo"
   ]
  },
  {
   "cell_type": "code",
   "execution_count": 6,
   "metadata": {},
   "outputs": [
    {
     "data": {
      "text/plain": [
       "FECHA     object\n",
       "PIB      float64\n",
       "LPIB     float64\n",
       "dtype: object"
      ]
     },
     "execution_count": 6,
     "metadata": {},
     "output_type": "execute_result"
    }
   ],
   "source": [
    "data.dtypes"
   ]
  },
  {
   "cell_type": "code",
   "execution_count": 7,
   "metadata": {},
   "outputs": [],
   "source": [
    "#transformar la fecha a formato fecha, nuve variable temporal\n",
    "data[\"var_temp\"] = sm.tsa.datetools.dates_from_str(data[\"FECHA\"])"
   ]
  },
  {
   "cell_type": "code",
   "execution_count": 8,
   "metadata": {},
   "outputs": [],
   "source": [
    "#otra forma\n",
    "data[\"var_temp_1\"] = pd.to_datetime(data[\"FECHA\"])"
   ]
  },
  {
   "cell_type": "code",
   "execution_count": 9,
   "metadata": {},
   "outputs": [
    {
     "data": {
      "text/plain": [
       "FECHA                 object\n",
       "PIB                  float64\n",
       "LPIB                 float64\n",
       "var_temp      datetime64[ns]\n",
       "var_temp_1    datetime64[ns]\n",
       "dtype: object"
      ]
     },
     "execution_count": 9,
     "metadata": {},
     "output_type": "execute_result"
    }
   ],
   "source": [
    "data.dtypes"
   ]
  },
  {
   "cell_type": "code",
   "execution_count": 10,
   "metadata": {},
   "outputs": [],
   "source": [
    "#crear nueva variable temporal\n",
    "data[\"var_tempo_alter\"] = pd.date_range(start = \"1947q2\",\n",
    "                                        end = \"2008q1\",\n",
    "                                       freq = \"QS\") #QS: frecuencia igual al comienzo del trimestre"
   ]
  },
  {
   "cell_type": "code",
   "execution_count": 11,
   "metadata": {},
   "outputs": [
    {
     "data": {
      "text/html": [
       "<div>\n",
       "<style scoped>\n",
       "    .dataframe tbody tr th:only-of-type {\n",
       "        vertical-align: middle;\n",
       "    }\n",
       "\n",
       "    .dataframe tbody tr th {\n",
       "        vertical-align: top;\n",
       "    }\n",
       "\n",
       "    .dataframe thead th {\n",
       "        text-align: right;\n",
       "    }\n",
       "</style>\n",
       "<table border=\"1\" class=\"dataframe\">\n",
       "  <thead>\n",
       "    <tr style=\"text-align: right;\">\n",
       "      <th></th>\n",
       "      <th>FECHA</th>\n",
       "      <th>PIB</th>\n",
       "      <th>LPIB</th>\n",
       "      <th>var_temp</th>\n",
       "      <th>var_temp_1</th>\n",
       "      <th>var_tempo_alter</th>\n",
       "    </tr>\n",
       "  </thead>\n",
       "  <tbody>\n",
       "    <tr>\n",
       "      <th>0</th>\n",
       "      <td>1947-04-01</td>\n",
       "      <td>2027.639</td>\n",
       "      <td>7.614627</td>\n",
       "      <td>1947-04-01</td>\n",
       "      <td>1947-04-01</td>\n",
       "      <td>1947-04-01</td>\n",
       "    </tr>\n",
       "    <tr>\n",
       "      <th>1</th>\n",
       "      <td>1947-07-01</td>\n",
       "      <td>2023.452</td>\n",
       "      <td>7.612560</td>\n",
       "      <td>1947-07-01</td>\n",
       "      <td>1947-07-01</td>\n",
       "      <td>1947-07-01</td>\n",
       "    </tr>\n",
       "    <tr>\n",
       "      <th>2</th>\n",
       "      <td>1947-10-01</td>\n",
       "      <td>2055.103</td>\n",
       "      <td>7.628081</td>\n",
       "      <td>1947-10-01</td>\n",
       "      <td>1947-10-01</td>\n",
       "      <td>1947-10-01</td>\n",
       "    </tr>\n",
       "    <tr>\n",
       "      <th>3</th>\n",
       "      <td>1948-01-01</td>\n",
       "      <td>2086.017</td>\n",
       "      <td>7.643012</td>\n",
       "      <td>1948-01-01</td>\n",
       "      <td>1948-01-01</td>\n",
       "      <td>1948-01-01</td>\n",
       "    </tr>\n",
       "    <tr>\n",
       "      <th>4</th>\n",
       "      <td>1948-04-01</td>\n",
       "      <td>2120.450</td>\n",
       "      <td>7.659384</td>\n",
       "      <td>1948-04-01</td>\n",
       "      <td>1948-04-01</td>\n",
       "      <td>1948-04-01</td>\n",
       "    </tr>\n",
       "  </tbody>\n",
       "</table>\n",
       "</div>"
      ],
      "text/plain": [
       "        FECHA       PIB      LPIB   var_temp var_temp_1 var_tempo_alter\n",
       "0  1947-04-01  2027.639  7.614627 1947-04-01 1947-04-01      1947-04-01\n",
       "1  1947-07-01  2023.452  7.612560 1947-07-01 1947-07-01      1947-07-01\n",
       "2  1947-10-01  2055.103  7.628081 1947-10-01 1947-10-01      1947-10-01\n",
       "3  1948-01-01  2086.017  7.643012 1948-01-01 1948-01-01      1948-01-01\n",
       "4  1948-04-01  2120.450  7.659384 1948-04-01 1948-04-01      1948-04-01"
      ]
     },
     "execution_count": 11,
     "metadata": {},
     "output_type": "execute_result"
    }
   ],
   "source": [
    "data.head()"
   ]
  },
  {
   "cell_type": "code",
   "execution_count": 12,
   "metadata": {},
   "outputs": [],
   "source": [
    "#los index son la fila: colocar los index como variable temporal\n",
    "timeseriesdata = data.set_index(\"var_temp_1\")"
   ]
  },
  {
   "cell_type": "code",
   "execution_count": 13,
   "metadata": {},
   "outputs": [
    {
     "data": {
      "image/png": "[encoded data removed]",
      "text/plain": [
       "<Figure size 576x288 with 1 Axes>"
      ]
     },
     "metadata": {
      "needs_background": "light"
     },
     "output_type": "display_data"
    }
   ],
   "source": [
    "#gráficar\n",
    "fig, ax = plt.subplots(figsize = (8, 4))\n",
    "ax.set_title(\"Evolución del PIB Real\", fontsize = 22, \n",
    "             color = \"darkblue\")\n",
    "ax.plot(\"PIB\", data=timeseriesdata)\n",
    "ax.set_xlabel(\"Año\", fontsize = 15)\n",
    "ax.set_ylabel(\"PIB Real\", fontsize = 15)\n",
    "plt.show()"
   ]
  },
  {
   "cell_type": "code",
   "execution_count": 14,
   "metadata": {},
   "outputs": [
    {
     "data": {
      "image/png": "[encoded data removed]",
      "text/plain": [
       "<Figure size 576x288 with 1 Axes>"
      ]
     },
     "metadata": {
      "needs_background": "light"
     },
     "output_type": "display_data"
    }
   ],
   "source": [
    "#identificación\n",
    "fig, ax = plt.subplots(figsize = (8,4))\n",
    "sm.graphics.tsa.plot_acf(timeseriesdata[\"LPIB\"], lags = 25, ax = ax)\n",
    "plt.show()\n",
    "#serie no estacionaria porque decrece lentamente y adicionalmente está por fuera de la región sombreada (bandas de barlet: rezagos no significactivos)"
   ]
  },
  {
   "cell_type": "code",
   "execution_count": 15,
   "metadata": {},
   "outputs": [
    {
     "data": {
      "image/png": "[encoded data removed]",
      "text/plain": [
       "<Figure size 576x288 with 1 Axes>"
      ]
     },
     "metadata": {
      "needs_background": "light"
     },
     "output_type": "display_data"
    }
   ],
   "source": [
    "#sin embargo para capturar el efecto de cada rezago por aparte, ya que puede que el primer rezago incluya la influencia de los demás rezagos.\n",
    "fig, ax = plt.subplots(figsize = (8,4))\n",
    "sm.graphics.tsa.plot_pacf(timeseriesdata[\"LPIB\"], lags = 25, ax = ax)\n",
    "plt.show()\n",
    "#el primer rezago siempre es 1, se observa que el primer rezago es el que tiene la autocorrelacion."
   ]
  },
  {
   "cell_type": "code",
   "execution_count": 16,
   "metadata": {},
   "outputs": [
    {
     "data": {
      "text/plain": [
       "(-1.3081722249574301,\n",
       " 0.625425266571843,\n",
       " 3,\n",
       " 240,\n",
       " {'1%': -3.4578942529658563,\n",
       "  '5%': -2.8736593200231484,\n",
       "  '10%': -2.573228767361111},\n",
       " -1514.2641823682843)"
      ]
     },
     "execution_count": 16,
     "metadata": {},
     "output_type": "execute_result"
    }
   ],
   "source": [
    "#tes de dickey-fuller aumentado (raíz unitaria)\n",
    "#ho: la serie no es estacionaria\n",
    "#H1: la serie es estacionaria\n",
    "sm.tsa.stattools.adfuller(timeseriesdata[\"LPIB\"]) #tsa: modulo  series de tiempo\n",
    "#el p value es 0.6, es decir, no se rechaza la ho."
   ]
  },
  {
   "cell_type": "code",
   "execution_count": 17,
   "metadata": {},
   "outputs": [
    {
     "data": {
      "text/plain": [
       "[9, 8, 7, 6, 5, 4, 3, 2, 1, 0]"
      ]
     },
     "execution_count": 17,
     "metadata": {},
     "output_type": "execute_result"
    }
   ],
   "source": [
    "#diferenciamos la serie para volverla estacionaria\n",
    "list(reversed(range(0,10)))\n"
   ]
  },
  {
   "cell_type": "code",
   "execution_count": 18,
   "metadata": {},
   "outputs": [
    {
     "data": {
      "text/html": [
       "<div>\n",
       "<style scoped>\n",
       "    .dataframe tbody tr th:only-of-type {\n",
       "        vertical-align: middle;\n",
       "    }\n",
       "\n",
       "    .dataframe tbody tr th {\n",
       "        vertical-align: top;\n",
       "    }\n",
       "\n",
       "    .dataframe thead th {\n",
       "        text-align: right;\n",
       "    }\n",
       "</style>\n",
       "<table border=\"1\" class=\"dataframe\">\n",
       "  <thead>\n",
       "    <tr style=\"text-align: right;\">\n",
       "      <th></th>\n",
       "      <th>FECHA</th>\n",
       "      <th>PIB</th>\n",
       "      <th>LPIB</th>\n",
       "      <th>var_temp</th>\n",
       "      <th>var_tempo_alter</th>\n",
       "    </tr>\n",
       "    <tr>\n",
       "      <th>var_temp_1</th>\n",
       "      <th></th>\n",
       "      <th></th>\n",
       "      <th></th>\n",
       "      <th></th>\n",
       "      <th></th>\n",
       "    </tr>\n",
       "  </thead>\n",
       "  <tbody>\n",
       "    <tr>\n",
       "      <th>1947-04-01</th>\n",
       "      <td>1947-04-01</td>\n",
       "      <td>2027.639</td>\n",
       "      <td>7.614627</td>\n",
       "      <td>1947-04-01</td>\n",
       "      <td>1947-04-01</td>\n",
       "    </tr>\n",
       "    <tr>\n",
       "      <th>1947-07-01</th>\n",
       "      <td>1947-07-01</td>\n",
       "      <td>2023.452</td>\n",
       "      <td>7.612560</td>\n",
       "      <td>1947-07-01</td>\n",
       "      <td>1947-07-01</td>\n",
       "    </tr>\n",
       "    <tr>\n",
       "      <th>1947-10-01</th>\n",
       "      <td>1947-10-01</td>\n",
       "      <td>2055.103</td>\n",
       "      <td>7.628081</td>\n",
       "      <td>1947-10-01</td>\n",
       "      <td>1947-10-01</td>\n",
       "    </tr>\n",
       "    <tr>\n",
       "      <th>1948-01-01</th>\n",
       "      <td>1948-01-01</td>\n",
       "      <td>2086.017</td>\n",
       "      <td>7.643012</td>\n",
       "      <td>1948-01-01</td>\n",
       "      <td>1948-01-01</td>\n",
       "    </tr>\n",
       "    <tr>\n",
       "      <th>1948-04-01</th>\n",
       "      <td>1948-04-01</td>\n",
       "      <td>2120.450</td>\n",
       "      <td>7.659384</td>\n",
       "      <td>1948-04-01</td>\n",
       "      <td>1948-04-01</td>\n",
       "    </tr>\n",
       "  </tbody>\n",
       "</table>\n",
       "</div>"
      ],
      "text/plain": [
       "                 FECHA       PIB      LPIB   var_temp var_tempo_alter\n",
       "var_temp_1                                                           \n",
       "1947-04-01  1947-04-01  2027.639  7.614627 1947-04-01      1947-04-01\n",
       "1947-07-01  1947-07-01  2023.452  7.612560 1947-07-01      1947-07-01\n",
       "1947-10-01  1947-10-01  2055.103  7.628081 1947-10-01      1947-10-01\n",
       "1948-01-01  1948-01-01  2086.017  7.643012 1948-01-01      1948-01-01\n",
       "1948-04-01  1948-04-01  2120.450  7.659384 1948-04-01      1948-04-01"
      ]
     },
     "execution_count": 18,
     "metadata": {},
     "output_type": "execute_result"
    }
   ],
   "source": [
    "timeseriesdata.head()"
   ]
  },
  {
   "cell_type": "code",
   "execution_count": 19,
   "metadata": {},
   "outputs": [],
   "source": [
    "timeseriesdata[\"diferencia\"] = 0.0 #nueva variable con valores iniciales de cero\n",
    "for i in reversed(range(len(timeseriesdata))): #inicia desde la última observación en la tabla ya que es la que tiene la fecha más reciente\n",
    "                  timeseriesdata.iloc[i,5] = timeseriesdata.iloc[i,2] - timeseriesdata.iloc[i-1, 2] #primeras diferencias, fila actual menos fila anterior\n"
   ]
  },
  {
   "cell_type": "code",
   "execution_count": 20,
   "metadata": {},
   "outputs": [
    {
     "data": {
      "text/html": [
       "<div>\n",
       "<style scoped>\n",
       "    .dataframe tbody tr th:only-of-type {\n",
       "        vertical-align: middle;\n",
       "    }\n",
       "\n",
       "    .dataframe tbody tr th {\n",
       "        vertical-align: top;\n",
       "    }\n",
       "\n",
       "    .dataframe thead th {\n",
       "        text-align: right;\n",
       "    }\n",
       "</style>\n",
       "<table border=\"1\" class=\"dataframe\">\n",
       "  <thead>\n",
       "    <tr style=\"text-align: right;\">\n",
       "      <th></th>\n",
       "      <th>FECHA</th>\n",
       "      <th>PIB</th>\n",
       "      <th>LPIB</th>\n",
       "      <th>var_temp</th>\n",
       "      <th>var_tempo_alter</th>\n",
       "      <th>diferencia</th>\n",
       "    </tr>\n",
       "    <tr>\n",
       "      <th>var_temp_1</th>\n",
       "      <th></th>\n",
       "      <th></th>\n",
       "      <th></th>\n",
       "      <th></th>\n",
       "      <th></th>\n",
       "      <th></th>\n",
       "    </tr>\n",
       "  </thead>\n",
       "  <tbody>\n",
       "    <tr>\n",
       "      <th>1947-04-01</th>\n",
       "      <td>1947-04-01</td>\n",
       "      <td>2027.639</td>\n",
       "      <td>7.614627</td>\n",
       "      <td>1947-04-01</td>\n",
       "      <td>1947-04-01</td>\n",
       "      <td>-2.044964</td>\n",
       "    </tr>\n",
       "    <tr>\n",
       "      <th>1947-07-01</th>\n",
       "      <td>1947-07-01</td>\n",
       "      <td>2023.452</td>\n",
       "      <td>7.612560</td>\n",
       "      <td>1947-07-01</td>\n",
       "      <td>1947-07-01</td>\n",
       "      <td>-0.002067</td>\n",
       "    </tr>\n",
       "    <tr>\n",
       "      <th>1947-10-01</th>\n",
       "      <td>1947-10-01</td>\n",
       "      <td>2055.103</td>\n",
       "      <td>7.628081</td>\n",
       "      <td>1947-10-01</td>\n",
       "      <td>1947-10-01</td>\n",
       "      <td>0.015521</td>\n",
       "    </tr>\n",
       "    <tr>\n",
       "      <th>1948-01-01</th>\n",
       "      <td>1948-01-01</td>\n",
       "      <td>2086.017</td>\n",
       "      <td>7.643012</td>\n",
       "      <td>1948-01-01</td>\n",
       "      <td>1948-01-01</td>\n",
       "      <td>0.014931</td>\n",
       "    </tr>\n",
       "    <tr>\n",
       "      <th>1948-04-01</th>\n",
       "      <td>1948-04-01</td>\n",
       "      <td>2120.450</td>\n",
       "      <td>7.659384</td>\n",
       "      <td>1948-04-01</td>\n",
       "      <td>1948-04-01</td>\n",
       "      <td>0.016372</td>\n",
       "    </tr>\n",
       "  </tbody>\n",
       "</table>\n",
       "</div>"
      ],
      "text/plain": [
       "                 FECHA       PIB      LPIB   var_temp var_tempo_alter  \\\n",
       "var_temp_1                                                              \n",
       "1947-04-01  1947-04-01  2027.639  7.614627 1947-04-01      1947-04-01   \n",
       "1947-07-01  1947-07-01  2023.452  7.612560 1947-07-01      1947-07-01   \n",
       "1947-10-01  1947-10-01  2055.103  7.628081 1947-10-01      1947-10-01   \n",
       "1948-01-01  1948-01-01  2086.017  7.643012 1948-01-01      1948-01-01   \n",
       "1948-04-01  1948-04-01  2120.450  7.659384 1948-04-01      1948-04-01   \n",
       "\n",
       "            diferencia  \n",
       "var_temp_1              \n",
       "1947-04-01   -2.044964  \n",
       "1947-07-01   -0.002067  \n",
       "1947-10-01    0.015521  \n",
       "1948-01-01    0.014931  \n",
       "1948-04-01    0.016372  "
      ]
     },
     "execution_count": 20,
     "metadata": {},
     "output_type": "execute_result"
    }
   ],
   "source": [
    "timeseriesdata.head() # la diferencia más antigua está más calculada debido a que no tiene información anterior"
   ]
  },
  {
   "cell_type": "code",
   "execution_count": 21,
   "metadata": {},
   "outputs": [],
   "source": [
    "timeseriesdata[\"DLPIB\"] = timeseriesdata[\"LPIB\"].diff() #otro metodo para la primera diferencia"
   ]
  },
  {
   "cell_type": "code",
   "execution_count": 22,
   "metadata": {},
   "outputs": [
    {
     "data": {
      "text/html": [
       "<div>\n",
       "<style scoped>\n",
       "    .dataframe tbody tr th:only-of-type {\n",
       "        vertical-align: middle;\n",
       "    }\n",
       "\n",
       "    .dataframe tbody tr th {\n",
       "        vertical-align: top;\n",
       "    }\n",
       "\n",
       "    .dataframe thead th {\n",
       "        text-align: right;\n",
       "    }\n",
       "</style>\n",
       "<table border=\"1\" class=\"dataframe\">\n",
       "  <thead>\n",
       "    <tr style=\"text-align: right;\">\n",
       "      <th></th>\n",
       "      <th>FECHA</th>\n",
       "      <th>PIB</th>\n",
       "      <th>LPIB</th>\n",
       "      <th>var_temp</th>\n",
       "      <th>var_tempo_alter</th>\n",
       "      <th>diferencia</th>\n",
       "      <th>DLPIB</th>\n",
       "    </tr>\n",
       "    <tr>\n",
       "      <th>var_temp_1</th>\n",
       "      <th></th>\n",
       "      <th></th>\n",
       "      <th></th>\n",
       "      <th></th>\n",
       "      <th></th>\n",
       "      <th></th>\n",
       "      <th></th>\n",
       "    </tr>\n",
       "  </thead>\n",
       "  <tbody>\n",
       "    <tr>\n",
       "      <th>1947-04-01</th>\n",
       "      <td>1947-04-01</td>\n",
       "      <td>2027.639</td>\n",
       "      <td>7.614627</td>\n",
       "      <td>1947-04-01</td>\n",
       "      <td>1947-04-01</td>\n",
       "      <td>-2.044964</td>\n",
       "      <td>NaN</td>\n",
       "    </tr>\n",
       "    <tr>\n",
       "      <th>1947-07-01</th>\n",
       "      <td>1947-07-01</td>\n",
       "      <td>2023.452</td>\n",
       "      <td>7.612560</td>\n",
       "      <td>1947-07-01</td>\n",
       "      <td>1947-07-01</td>\n",
       "      <td>-0.002067</td>\n",
       "      <td>-0.002067</td>\n",
       "    </tr>\n",
       "    <tr>\n",
       "      <th>1947-10-01</th>\n",
       "      <td>1947-10-01</td>\n",
       "      <td>2055.103</td>\n",
       "      <td>7.628081</td>\n",
       "      <td>1947-10-01</td>\n",
       "      <td>1947-10-01</td>\n",
       "      <td>0.015521</td>\n",
       "      <td>0.015521</td>\n",
       "    </tr>\n",
       "    <tr>\n",
       "      <th>1948-01-01</th>\n",
       "      <td>1948-01-01</td>\n",
       "      <td>2086.017</td>\n",
       "      <td>7.643012</td>\n",
       "      <td>1948-01-01</td>\n",
       "      <td>1948-01-01</td>\n",
       "      <td>0.014931</td>\n",
       "      <td>0.014931</td>\n",
       "    </tr>\n",
       "    <tr>\n",
       "      <th>1948-04-01</th>\n",
       "      <td>1948-04-01</td>\n",
       "      <td>2120.450</td>\n",
       "      <td>7.659384</td>\n",
       "      <td>1948-04-01</td>\n",
       "      <td>1948-04-01</td>\n",
       "      <td>0.016372</td>\n",
       "      <td>0.016372</td>\n",
       "    </tr>\n",
       "  </tbody>\n",
       "</table>\n",
       "</div>"
      ],
      "text/plain": [
       "                 FECHA       PIB      LPIB   var_temp var_tempo_alter  \\\n",
       "var_temp_1                                                              \n",
       "1947-04-01  1947-04-01  2027.639  7.614627 1947-04-01      1947-04-01   \n",
       "1947-07-01  1947-07-01  2023.452  7.612560 1947-07-01      1947-07-01   \n",
       "1947-10-01  1947-10-01  2055.103  7.628081 1947-10-01      1947-10-01   \n",
       "1948-01-01  1948-01-01  2086.017  7.643012 1948-01-01      1948-01-01   \n",
       "1948-04-01  1948-04-01  2120.450  7.659384 1948-04-01      1948-04-01   \n",
       "\n",
       "            diferencia     DLPIB  \n",
       "var_temp_1                        \n",
       "1947-04-01   -2.044964       NaN  \n",
       "1947-07-01   -0.002067 -0.002067  \n",
       "1947-10-01    0.015521  0.015521  \n",
       "1948-01-01    0.014931  0.014931  \n",
       "1948-04-01    0.016372  0.016372  "
      ]
     },
     "execution_count": 22,
     "metadata": {},
     "output_type": "execute_result"
    }
   ],
   "source": [
    "timeseriesdata.head()"
   ]
  },
  {
   "cell_type": "code",
   "execution_count": 23,
   "metadata": {},
   "outputs": [
    {
     "data": {
      "text/html": [
       "<div>\n",
       "<style scoped>\n",
       "    .dataframe tbody tr th:only-of-type {\n",
       "        vertical-align: middle;\n",
       "    }\n",
       "\n",
       "    .dataframe tbody tr th {\n",
       "        vertical-align: top;\n",
       "    }\n",
       "\n",
       "    .dataframe thead th {\n",
       "        text-align: right;\n",
       "    }\n",
       "</style>\n",
       "<table border=\"1\" class=\"dataframe\">\n",
       "  <thead>\n",
       "    <tr style=\"text-align: right;\">\n",
       "      <th></th>\n",
       "      <th>FECHA</th>\n",
       "      <th>PIB</th>\n",
       "      <th>LPIB</th>\n",
       "      <th>var_temp</th>\n",
       "      <th>var_tempo_alter</th>\n",
       "      <th>diferencia</th>\n",
       "      <th>DLPIB</th>\n",
       "    </tr>\n",
       "    <tr>\n",
       "      <th>var_temp_1</th>\n",
       "      <th></th>\n",
       "      <th></th>\n",
       "      <th></th>\n",
       "      <th></th>\n",
       "      <th></th>\n",
       "      <th></th>\n",
       "      <th></th>\n",
       "    </tr>\n",
       "  </thead>\n",
       "  <tbody>\n",
       "    <tr>\n",
       "      <th>1947-04-01</th>\n",
       "      <td>1947-04-01</td>\n",
       "      <td>2027.639</td>\n",
       "      <td>7.614627</td>\n",
       "      <td>1947-04-01</td>\n",
       "      <td>1947-04-01</td>\n",
       "      <td>-2.044964</td>\n",
       "      <td>NaN</td>\n",
       "    </tr>\n",
       "  </tbody>\n",
       "</table>\n",
       "</div>"
      ],
      "text/plain": [
       "                 FECHA       PIB      LPIB   var_temp var_tempo_alter  \\\n",
       "var_temp_1                                                              \n",
       "1947-04-01  1947-04-01  2027.639  7.614627 1947-04-01      1947-04-01   \n",
       "\n",
       "            diferencia  DLPIB  \n",
       "var_temp_1                     \n",
       "1947-04-01   -2.044964    NaN  "
      ]
     },
     "execution_count": 23,
     "metadata": {},
     "output_type": "execute_result"
    }
   ],
   "source": [
    "timeseriesdata[(timeseriesdata[\"diferencia\"] != timeseriesdata[\"DLPIB\"])] #extraer las filas para las cuales se cumple la condición "
   ]
  },
  {
   "cell_type": "code",
   "execution_count": 24,
   "metadata": {},
   "outputs": [
    {
     "data": {
      "image/png": "[encoded data removed]",
      "text/plain": [
       "<Figure size 576x288 with 1 Axes>"
      ]
     },
     "metadata": {
      "needs_background": "light"
     },
     "output_type": "display_data"
    }
   ],
   "source": [
    "#analizar si la serie ya es estacionaria\n",
    "fig, ax = plt.subplots(figsize = (8,4))\n",
    "sm.graphics.tsa.plot_acf(timeseriesdata.iloc[1:,6], lags = 25, ax = ax) #toma todas las filas desde la 1, y toma la columna 6\n",
    "plt.show()\n",
    "#la primera observación es un NAN. Impide que se calcule la función de autocorrelación simple.\n",
    "#no tenemso en cuenta la indexda con cero\n",
    "#los rezagos importantes son el 1 y el 2"
   ]
  },
  {
   "cell_type": "code",
   "execution_count": 25,
   "metadata": {},
   "outputs": [
    {
     "data": {
      "image/png": "[encoded data removed]",
      "text/plain": [
       "<Figure size 576x288 with 1 Axes>"
      ]
     },
     "metadata": {
      "needs_background": "light"
     },
     "output_type": "display_data"
    }
   ],
   "source": [
    "#función de autocorrelación parcial, muestra que solo el primer rezago es el significativo\n",
    "fig, ax = plt.subplots(figsize = (8,4))\n",
    "sm.graphics.tsa.plot_pacf(timeseriesdata.iloc[1:,6], lags = 25, ax = ax) #toma todas las filas desde la 1, y toma la columna 6\n",
    "plt.show()"
   ]
  },
  {
   "cell_type": "code",
   "execution_count": 26,
   "metadata": {},
   "outputs": [
    {
     "data": {
      "text/plain": [
       "(-8.033114772666982,\n",
       " 1.934432058770947e-12,\n",
       " 2,\n",
       " 240,\n",
       " {'1%': -3.4578942529658563,\n",
       "  '5%': -2.8736593200231484,\n",
       "  '10%': -2.573228767361111},\n",
       " -1508.499389140437)"
      ]
     },
     "execution_count": 26,
     "metadata": {},
     "output_type": "execute_result"
    }
   ],
   "source": [
    "#test de dickey-fuller\n",
    "sm.tsa.stattools.adfuller(timeseriesdata.iloc[1:,6]) #metodo iloc: extrae filas y columnas segun su posición, empezando por las filas\n",
    "#p value es significativo, por tanto se rechaza la ho: la serie no es estacionaria"
   ]
  },
  {
   "cell_type": "code",
   "execution_count": 27,
   "metadata": {},
   "outputs": [
    {
     "data": {
      "image/png": "[encoded data removed]",
      "text/plain": [
       "<Figure size 432x288 with 1 Axes>"
      ]
     },
     "metadata": {
      "needs_background": "light"
     },
     "output_type": "display_data"
    }
   ],
   "source": [
    "fig, ax =plt.subplots()\n",
    "ax.plot(\"DLPIB\", data = timeseriesdata)\n",
    "plt.show()\n",
    "#ya no se tiene tendencia, la varianza parece ser estable"
   ]
  },
  {
   "cell_type": "code",
   "execution_count": 28,
   "metadata": {},
   "outputs": [
    {
     "name": "stderr",
     "output_type": "stream",
     "text": [
      "/home/nbuser/anaconda3_501/lib/python3.6/site-packages/scipy/signal/signaltools.py:1341: FutureWarning: Using a non-tuple sequence for multidimensional indexing is deprecated; use `arr[tuple(seq)]` instead of `arr[seq]`. In the future this will be interpreted as an array index, `arr[np.array(seq)]`, which will result either in an error or a different result.\n",
      "  out_full[ind] += zi\n",
      "/home/nbuser/anaconda3_501/lib/python3.6/site-packages/scipy/signal/signaltools.py:1344: FutureWarning: Using a non-tuple sequence for multidimensional indexing is deprecated; use `arr[tuple(seq)]` instead of `arr[seq]`. In the future this will be interpreted as an array index, `arr[np.array(seq)]`, which will result either in an error or a different result.\n",
      "  out = out_full[ind]\n",
      "/home/nbuser/anaconda3_501/lib/python3.6/site-packages/scipy/signal/signaltools.py:1350: FutureWarning: Using a non-tuple sequence for multidimensional indexing is deprecated; use `arr[tuple(seq)]` instead of `arr[seq]`. In the future this will be interpreted as an array index, `arr[np.array(seq)]`, which will result either in an error or a different result.\n",
      "  zf = out_full[ind]\n"
     ]
    },
    {
     "name": "stdout",
     "output_type": "stream",
     "text": [
      "                              ARMA Model Results                              \n",
      "==============================================================================\n",
      "Dep. Variable:                   LPIB   No. Observations:                  244\n",
      "Model:                     ARMA(1, 0)   Log Likelihood                 712.876\n",
      "Method:                       css-mle   S.D. of innovations              0.013\n",
      "Date:                Mon, 11 May 2020   AIC                          -1419.751\n",
      "Time:                        14:20:54   BIC                          -1409.260\n",
      "Sample:                    04-01-1947   HQIC                         -1415.526\n",
      "                         - 01-01-2008                                         \n",
      "==============================================================================\n",
      "                 coef    std err          z      P>|z|      [0.025      0.975]\n",
      "------------------------------------------------------------------------------\n",
      "const          8.6378      1.011      8.542      0.000       6.656      10.620\n",
      "ar.L1.LPIB     0.9999      0.000   8923.425      0.000       1.000       1.000\n",
      "                                    Roots                                    \n",
      "=============================================================================\n",
      "                  Real          Imaginary           Modulus         Frequency\n",
      "-----------------------------------------------------------------------------\n",
      "AR.1            1.0001           +0.0000j            1.0001            0.0000\n",
      "-----------------------------------------------------------------------------\n"
     ]
    }
   ],
   "source": [
    "#Fase de estimación (ARIMA(1,0,0)) o AR (1). AR, diferencias, MA\n",
    "modeloARIMA_1_0_0 = sm.tsa.ARIMA(timeseriesdata[\"LPIB\"], order = (1,0,0), freq = \"QS\")\n",
    "results_ARIMA_1_0_0 = modeloARIMA_1_0_0.fit()\n",
    "print(results_ARIMA_1_0_0.summary())"
   ]
  },
  {
   "cell_type": "code",
   "execution_count": 29,
   "metadata": {},
   "outputs": [
    {
     "name": "stdout",
     "output_type": "stream",
     "text": [
      "                              ARMA Model Results                              \n",
      "==============================================================================\n",
      "Dep. Variable:                   LPIB   No. Observations:                  244\n",
      "Model:                     ARMA(2, 0)   Log Likelihood                 772.411\n",
      "Method:                       css-mle   S.D. of innovations              0.010\n",
      "Date:                Mon, 11 May 2020   AIC                          -1536.821\n",
      "Time:                        14:20:54   BIC                          -1522.833\n",
      "Sample:                    04-01-1947   HQIC                         -1531.188\n",
      "                         - 01-01-2008                                         \n",
      "==============================================================================\n",
      "                 coef    std err          z      P>|z|      [0.025      0.975]\n",
      "------------------------------------------------------------------------------\n",
      "const          8.6370      0.968      8.922      0.000       6.740      10.534\n",
      "ar.L1.LPIB     1.6212      0.002    800.326      0.000       1.617       1.625\n",
      "ar.L2.LPIB    -0.6213      0.002   -306.617      0.000      -0.625      -0.617\n",
      "                                    Roots                                    \n",
      "=============================================================================\n",
      "                  Real          Imaginary           Modulus         Frequency\n",
      "-----------------------------------------------------------------------------\n",
      "AR.1            1.0004           +0.0000j            1.0004            0.0000\n",
      "AR.2            1.6089           +0.0000j            1.6089            0.0000\n",
      "-----------------------------------------------------------------------------\n"
     ]
    }
   ],
   "source": [
    "#ARIMA(2,0,0)\n",
    "modeloARIMA_2_0_0 = sm.tsa.ARIMA(timeseriesdata[\"LPIB\"], order = (2,0,0), freq = \"QS\")\n",
    "results_ARIMA_2_0_0 = modeloARIMA_2_0_0.fit()\n",
    "print(results_ARIMA_2_0_0.summary())"
   ]
  },
  {
   "cell_type": "code",
   "execution_count": 30,
   "metadata": {},
   "outputs": [
    {
     "name": "stdout",
     "output_type": "stream",
     "text": [
      "                             ARIMA Model Results                              \n",
      "==============================================================================\n",
      "Dep. Variable:                 D.LPIB   No. Observations:                  243\n",
      "Model:                 ARIMA(0, 1, 2)   Log Likelihood                 799.942\n",
      "Method:                       css-mle   S.D. of innovations              0.009\n",
      "Date:                Mon, 11 May 2020   AIC                          -1591.885\n",
      "Time:                        14:20:55   BIC                          -1577.912\n",
      "Sample:                    07-01-1947   HQIC                         -1586.257\n",
      "                         - 01-01-2008                                         \n",
      "================================================================================\n",
      "                   coef    std err          z      P>|z|      [0.025      0.975]\n",
      "--------------------------------------------------------------------------------\n",
      "const            0.0084      0.001      9.589      0.000       0.007       0.010\n",
      "ma.L1.D.LPIB     0.2904      0.063      4.601      0.000       0.167       0.414\n",
      "ma.L2.D.LPIB     0.2241      0.060      3.724      0.000       0.106       0.342\n",
      "                                    Roots                                    \n",
      "=============================================================================\n",
      "                  Real          Imaginary           Modulus         Frequency\n",
      "-----------------------------------------------------------------------------\n",
      "MA.1           -0.6478           -2.0105j            2.1123           -0.2996\n",
      "MA.2           -0.6478           +2.0105j            2.1123            0.2996\n",
      "-----------------------------------------------------------------------------\n"
     ]
    }
   ],
   "source": [
    "#incluir el orden d. incluir el # de diferencias necesario para estacionarizar\n",
    "#ARIMA. (MA = 2, de acuerdo a la  función de autocorrelación simple aplicada a la serie estacionarizada)\n",
    "modeloARIMA_0_1_2 = sm.tsa.ARIMA(timeseriesdata[\"LPIB\"], order = (0,1,2), freq = \"QS\") #no lleva AR, se diferencia una vez para volverla estacionaria, MA = 2 rezagos\n",
    "resultadosARIMA_0_1_2 = modeloARIMA_0_1_2.fit()\n",
    "print(resultadosARIMA_0_1_2.summary())"
   ]
  },
  {
   "cell_type": "code",
   "execution_count": 31,
   "metadata": {},
   "outputs": [],
   "source": [
    "# se utiiza el criterio de información, entre menor sea este mejor es el modelo\n",
    "#existe una función que se llama autoarima para indetificar cuantos rezagos incluir y que modelo debe ser"
   ]
  },
  {
   "cell_type": "code",
   "execution_count": 32,
   "metadata": {},
   "outputs": [
    {
     "data": {
      "image/png": "[encoded data removed]",
      "text/plain": [
       "<Figure size 576x288 with 1 Axes>"
      ]
     },
     "metadata": {
      "needs_background": "light"
     },
     "output_type": "display_data"
    }
   ],
   "source": [
    "#verificación de diagnistico: \n",
    "#ver que los residuos no esten autocorrelacionados, sino que sean aleatorias\n",
    "fig, ax = plt.subplots(figsize = (8,4))\n",
    "sm.graphics.tsa.plot_acf(resultadosARIMA_0_1_2.resid, lags = 25, ax = ax)\n",
    "plt.show()\n",
    "#los residuos están dentro de las bandas de barlet, no están autocorrelacionados"
   ]
  },
  {
   "cell_type": "code",
   "execution_count": 33,
   "metadata": {},
   "outputs": [
    {
     "data": {
      "image/png": "[encoded data removed]",
      "text/plain": [
       "<Figure size 576x288 with 1 Axes>"
      ]
     },
     "metadata": {
      "needs_background": "light"
     },
     "output_type": "display_data"
    }
   ],
   "source": [
    "fig, ax = plt.subplots(figsize = (8,4))\n",
    "sm.graphics.tsa.plot_pacf(resultadosARIMA_0_1_2.resid, lags = 25, ax = ax)\n",
    "plt.show()\n",
    "#la autocorrelación parcial muestra que los residuos no están autocorrelacionados"
   ]
  },
  {
   "cell_type": "code",
   "execution_count": 34,
   "metadata": {},
   "outputs": [],
   "source": [
    "import statsmodels.stats.api as sms"
   ]
  },
  {
   "cell_type": "code",
   "execution_count": 35,
   "metadata": {},
   "outputs": [
    {
     "data": {
      "text/plain": [
       "(array([0.04039541]), array([0.84070945]))"
      ]
     },
     "execution_count": 35,
     "metadata": {},
     "output_type": "execute_result"
    }
   ],
   "source": [
    "#prueba de residuos aleatorios o autocorrelación: jungbox\n",
    "sms.acorr_ljungbox(resultadosARIMA_0_1_2.resid, lags = 1)\n",
    "#p valor es mayor a 0.05, no se rechaza la ho: no hay autocorrelación"
   ]
  },
  {
   "cell_type": "code",
   "execution_count": 36,
   "metadata": {},
   "outputs": [
    {
     "data": {
      "text/plain": [
       "(array([9.66370801, 9.66906536, 9.67742835, 9.68579134, 9.69415434,\n",
       "        9.70251733, 9.71088032, 9.71924332, 9.72760631, 9.7359693 ,\n",
       "        9.7443323 , 9.75269529, 9.76105828, 9.76942128, 9.77778427,\n",
       "        9.78614726, 9.79451026, 9.80287325, 9.81123624, 9.81959924,\n",
       "        9.82796223, 9.83632522, 9.84468822, 9.85305121, 9.8614142 ,\n",
       "        9.8697772 , 9.87814019, 9.88650318, 9.89486618, 9.90322917,\n",
       "        9.91159216, 9.91995516, 9.92831815, 9.93668114, 9.94504414,\n",
       "        9.95340713, 9.96177012, 9.97013311, 9.97849611, 9.9868591 ]),\n",
       " array([0.00899386, 0.01468259, 0.02002791, 0.02422098, 0.02778839,\n",
       "        0.03094726, 0.0338123 , 0.03645285, 0.03891464, 0.04122969,\n",
       "        0.0434215 , 0.04550786, 0.04750267, 0.04941702, 0.05125994,\n",
       "        0.05303885, 0.05476001, 0.05642869, 0.05804942, 0.05962612,\n",
       "        0.06116219, 0.06266061, 0.06412402, 0.06555478, 0.06695497,\n",
       "        0.06832647, 0.06967098, 0.07099002, 0.07228501, 0.07355719,\n",
       "        0.07480775, 0.07603774, 0.07724815, 0.07843988, 0.07961378,\n",
       "        0.08077062, 0.08191112, 0.08303596, 0.08414576, 0.08524111]),\n",
       " array([[ 9.64608037,  9.68133565],\n",
       "        [ 9.640288  ,  9.69784271],\n",
       "        [ 9.63817437,  9.71668233],\n",
       "        [ 9.6383191 ,  9.73326359],\n",
       "        [ 9.6396901 ,  9.74861858],\n",
       "        [ 9.64186181,  9.76317285],\n",
       "        [ 9.64460943,  9.77715122],\n",
       "        [ 9.64779704,  9.79068959],\n",
       "        [ 9.65133502,  9.8038776 ],\n",
       "        [ 9.65516059,  9.81677802],\n",
       "        [ 9.65922773,  9.82943687],\n",
       "        [ 9.66350153,  9.84188905],\n",
       "        [ 9.66795476,  9.85416181],\n",
       "        [ 9.67256569,  9.86627687],\n",
       "        [ 9.67731664,  9.8782519 ],\n",
       "        [ 9.68219303,  9.8901015 ],\n",
       "        [ 9.68718262,  9.9018379 ],\n",
       "        [ 9.69227505,  9.91347145],\n",
       "        [ 9.69746146,  9.92501102],\n",
       "        [ 9.70273419,  9.93646429],\n",
       "        [ 9.70808655,  9.94783791],\n",
       "        [ 9.71351269,  9.95913775],\n",
       "        [ 9.71900744,  9.97036899],\n",
       "        [ 9.72456621,  9.98153621],\n",
       "        [ 9.73018488,  9.99264353],\n",
       "        [ 9.73585978, 10.00369461],\n",
       "        [ 9.74158759, 10.01469279],\n",
       "        [ 9.74736529, 10.02564107],\n",
       "        [ 9.75319017, 10.03654218],\n",
       "        [ 9.75905972, 10.04739862],\n",
       "        [ 9.76497167, 10.05821266],\n",
       "        [ 9.77092392, 10.06898639],\n",
       "        [ 9.77691456, 10.07972174],\n",
       "        [ 9.78294179, 10.09042049],\n",
       "        [ 9.78900399, 10.10108428],\n",
       "        [ 9.79509963, 10.11171463],\n",
       "        [ 9.80122728, 10.12231296],\n",
       "        [ 9.80738563, 10.1328806 ],\n",
       "        [ 9.81357345, 10.14341876],\n",
       "        [ 9.81978959, 10.15392861]]))"
      ]
     },
     "execution_count": 36,
     "metadata": {},
     "output_type": "execute_result"
    }
   ],
   "source": [
    "#pronostico\n",
    "resultadosARIMA_0_1_2.forecast(40)\n",
    "#3 array de numpy: 1. predicción; 2. error estandar; 3. limite superior, limite inferior"
   ]
  },
  {
   "cell_type": "code",
   "execution_count": 37,
   "metadata": {},
   "outputs": [],
   "source": [
    "#gráficar\n",
    "pronostico = resultadosARIMA_0_1_2.forecast(40)"
   ]
  },
  {
   "cell_type": "code",
   "execution_count": 38,
   "metadata": {},
   "outputs": [],
   "source": [
    "#extraer los componentes del objeto.\n",
    "prediccion_puntual = pronostico[0]"
   ]
  },
  {
   "cell_type": "code",
   "execution_count": 39,
   "metadata": {},
   "outputs": [],
   "source": [
    "intervalo_confianza = pronostico[2]"
   ]
  },
  {
   "cell_type": "code",
   "execution_count": 40,
   "metadata": {},
   "outputs": [],
   "source": [
    "limites_inferiores= []\n",
    "for i in range(len(intervalo_confianza)):\n",
    "    limite_inferior = intervalo_confianza[i][0]\n",
    "    limites_inferiores.append(limite_inferior)"
   ]
  },
  {
   "cell_type": "code",
   "execution_count": 41,
   "metadata": {},
   "outputs": [],
   "source": [
    "limites_superiores= []\n",
    "for i in range(len(intervalo_confianza)):\n",
    "    limite_superior = intervalo_confianza[i][1]\n",
    "    limites_superiores.append(limite_superior)"
   ]
  },
  {
   "cell_type": "code",
   "execution_count": 54,
   "metadata": {},
   "outputs": [],
   "source": [
    "#organizarlo en data frame\n",
    "datapredict = pd.DataFrame({\"PredLPIB\": prediccion_puntual,\n",
    "                           \"InferiorLPIB\": limites_inferiores,\n",
    "                           \"SuperiorLPIB\": limites_superiores})"
   ]
  },
  {
   "cell_type": "code",
   "execution_count": 55,
   "metadata": {},
   "outputs": [],
   "source": [
    "#obtenemos el PIB y no el logaritmo\n",
    "datapredict[\"PredPIB\"] = np.exp(datapredict[\"PredLPIB\"])\n",
    "datapredict[\"InferiorPIB\"] = np.exp(datapredict[\"InferiorLPIB\"])\n",
    "datapredict[\"SuperiorPIB\"] = np.exp(datapredict[\"SuperiorLPIB\"])\n",
    "\n"
   ]
  },
  {
   "cell_type": "code",
   "execution_count": 56,
   "metadata": {},
   "outputs": [
    {
     "data": {
      "text/html": [
       "<div>\n",
       "<style scoped>\n",
       "    .dataframe tbody tr th:only-of-type {\n",
       "        vertical-align: middle;\n",
       "    }\n",
       "\n",
       "    .dataframe tbody tr th {\n",
       "        vertical-align: top;\n",
       "    }\n",
       "\n",
       "    .dataframe thead th {\n",
       "        text-align: right;\n",
       "    }\n",
       "</style>\n",
       "<table border=\"1\" class=\"dataframe\">\n",
       "  <thead>\n",
       "    <tr style=\"text-align: right;\">\n",
       "      <th></th>\n",
       "      <th>PredLPIB</th>\n",
       "      <th>InferiorLPIB</th>\n",
       "      <th>SuperiorLPIB</th>\n",
       "      <th>PredPIB</th>\n",
       "      <th>InferiorPIB</th>\n",
       "      <th>SuperiorPIB</th>\n",
       "    </tr>\n",
       "  </thead>\n",
       "  <tbody>\n",
       "    <tr>\n",
       "      <th>0</th>\n",
       "      <td>9.663708</td>\n",
       "      <td>9.646080</td>\n",
       "      <td>9.681336</td>\n",
       "      <td>15736.025956</td>\n",
       "      <td>15461.067518</td>\n",
       "      <td>16015.874234</td>\n",
       "    </tr>\n",
       "    <tr>\n",
       "      <th>1</th>\n",
       "      <td>9.669065</td>\n",
       "      <td>9.640288</td>\n",
       "      <td>9.697843</td>\n",
       "      <td>15820.555546</td>\n",
       "      <td>15371.770238</td>\n",
       "      <td>16282.443329</td>\n",
       "    </tr>\n",
       "    <tr>\n",
       "      <th>2</th>\n",
       "      <td>9.677428</td>\n",
       "      <td>9.638174</td>\n",
       "      <td>9.716682</td>\n",
       "      <td>15953.417533</td>\n",
       "      <td>15339.314219</td>\n",
       "      <td>16592.106227</td>\n",
       "    </tr>\n",
       "    <tr>\n",
       "      <th>3</th>\n",
       "      <td>9.685791</td>\n",
       "      <td>9.638319</td>\n",
       "      <td>9.733264</td>\n",
       "      <td>16087.395303</td>\n",
       "      <td>15341.534419</td>\n",
       "      <td>16869.517779</td>\n",
       "    </tr>\n",
       "    <tr>\n",
       "      <th>4</th>\n",
       "      <td>9.694154</td>\n",
       "      <td>9.639690</td>\n",
       "      <td>9.748619</td>\n",
       "      <td>16222.498227</td>\n",
       "      <td>15362.582107</td>\n",
       "      <td>17130.547904</td>\n",
       "    </tr>\n",
       "  </tbody>\n",
       "</table>\n",
       "</div>"
      ],
      "text/plain": [
       "   PredLPIB  InferiorLPIB  SuperiorLPIB       PredPIB   InferiorPIB  \\\n",
       "0  9.663708      9.646080      9.681336  15736.025956  15461.067518   \n",
       "1  9.669065      9.640288      9.697843  15820.555546  15371.770238   \n",
       "2  9.677428      9.638174      9.716682  15953.417533  15339.314219   \n",
       "3  9.685791      9.638319      9.733264  16087.395303  15341.534419   \n",
       "4  9.694154      9.639690      9.748619  16222.498227  15362.582107   \n",
       "\n",
       "    SuperiorPIB  \n",
       "0  16015.874234  \n",
       "1  16282.443329  \n",
       "2  16592.106227  \n",
       "3  16869.517779  \n",
       "4  17130.547904  "
      ]
     },
     "execution_count": 56,
     "metadata": {},
     "output_type": "execute_result"
    }
   ],
   "source": [
    "datapredict.head() #datos no indexados con fecha"
   ]
  },
  {
   "cell_type": "code",
   "execution_count": 57,
   "metadata": {},
   "outputs": [],
   "source": [
    "#indexar con fecha\n",
    "fecha = pd.date_range(\"2008q2\", periods = 40, freq = \"QS\")"
   ]
  },
  {
   "cell_type": "code",
   "execution_count": 58,
   "metadata": {},
   "outputs": [],
   "source": [
    "datapredict.set_index(fecha, inplace = True) #inplace es para que realice el cambio de una vez sin necesidad de crear otro objeto"
   ]
  },
  {
   "cell_type": "code",
   "execution_count": 59,
   "metadata": {},
   "outputs": [
    {
     "data": {
      "text/html": [
       "<div>\n",
       "<style scoped>\n",
       "    .dataframe tbody tr th:only-of-type {\n",
       "        vertical-align: middle;\n",
       "    }\n",
       "\n",
       "    .dataframe tbody tr th {\n",
       "        vertical-align: top;\n",
       "    }\n",
       "\n",
       "    .dataframe thead th {\n",
       "        text-align: right;\n",
       "    }\n",
       "</style>\n",
       "<table border=\"1\" class=\"dataframe\">\n",
       "  <thead>\n",
       "    <tr style=\"text-align: right;\">\n",
       "      <th></th>\n",
       "      <th>PredLPIB</th>\n",
       "      <th>InferiorLPIB</th>\n",
       "      <th>SuperiorLPIB</th>\n",
       "      <th>PredPIB</th>\n",
       "      <th>InferiorPIB</th>\n",
       "      <th>SuperiorPIB</th>\n",
       "    </tr>\n",
       "  </thead>\n",
       "  <tbody>\n",
       "    <tr>\n",
       "      <th>2008-04-01</th>\n",
       "      <td>9.663708</td>\n",
       "      <td>9.646080</td>\n",
       "      <td>9.681336</td>\n",
       "      <td>15736.025956</td>\n",
       "      <td>15461.067518</td>\n",
       "      <td>16015.874234</td>\n",
       "    </tr>\n",
       "    <tr>\n",
       "      <th>2008-07-01</th>\n",
       "      <td>9.669065</td>\n",
       "      <td>9.640288</td>\n",
       "      <td>9.697843</td>\n",
       "      <td>15820.555546</td>\n",
       "      <td>15371.770238</td>\n",
       "      <td>16282.443329</td>\n",
       "    </tr>\n",
       "    <tr>\n",
       "      <th>2008-10-01</th>\n",
       "      <td>9.677428</td>\n",
       "      <td>9.638174</td>\n",
       "      <td>9.716682</td>\n",
       "      <td>15953.417533</td>\n",
       "      <td>15339.314219</td>\n",
       "      <td>16592.106227</td>\n",
       "    </tr>\n",
       "    <tr>\n",
       "      <th>2009-01-01</th>\n",
       "      <td>9.685791</td>\n",
       "      <td>9.638319</td>\n",
       "      <td>9.733264</td>\n",
       "      <td>16087.395303</td>\n",
       "      <td>15341.534419</td>\n",
       "      <td>16869.517779</td>\n",
       "    </tr>\n",
       "    <tr>\n",
       "      <th>2009-04-01</th>\n",
       "      <td>9.694154</td>\n",
       "      <td>9.639690</td>\n",
       "      <td>9.748619</td>\n",
       "      <td>16222.498227</td>\n",
       "      <td>15362.582107</td>\n",
       "      <td>17130.547904</td>\n",
       "    </tr>\n",
       "  </tbody>\n",
       "</table>\n",
       "</div>"
      ],
      "text/plain": [
       "            PredLPIB  InferiorLPIB  SuperiorLPIB       PredPIB   InferiorPIB  \\\n",
       "2008-04-01  9.663708      9.646080      9.681336  15736.025956  15461.067518   \n",
       "2008-07-01  9.669065      9.640288      9.697843  15820.555546  15371.770238   \n",
       "2008-10-01  9.677428      9.638174      9.716682  15953.417533  15339.314219   \n",
       "2009-01-01  9.685791      9.638319      9.733264  16087.395303  15341.534419   \n",
       "2009-04-01  9.694154      9.639690      9.748619  16222.498227  15362.582107   \n",
       "\n",
       "             SuperiorPIB  \n",
       "2008-04-01  16015.874234  \n",
       "2008-07-01  16282.443329  \n",
       "2008-10-01  16592.106227  \n",
       "2009-01-01  16869.517779  \n",
       "2009-04-01  17130.547904  "
      ]
     },
     "execution_count": 59,
     "metadata": {},
     "output_type": "execute_result"
    }
   ],
   "source": [
    "datapredict.head()"
   ]
  },
  {
   "cell_type": "code",
   "execution_count": 60,
   "metadata": {},
   "outputs": [
    {
     "data": {
      "image/png": "[encoded data removed]",
      "text/plain": [
       "<Figure size 432x288 with 1 Axes>"
      ]
     },
     "metadata": {
      "needs_background": "light"
     },
     "output_type": "display_data"
    }
   ],
   "source": [
    "#graficar\n",
    "\n",
    "\n",
    "ax.plot(\"PIB\", data = timeseriesdata)\n",
    "ax.plot(\"PredPIB\", data = datapredict)\n",
    "plt.show()"
   ]
  },
  {
   "cell_type": "code",
   "execution_count": 67,
   "metadata": {},
   "outputs": [
    {
     "data": {
      "image/png": "[encoded data removed]",
      "text/plain": [
       "<Figure size 432x288 with 1 Axes>"
      ]
     },
     "metadata": {
      "needs_background": "light"
     },
     "output_type": "display_data"
    }
   ],
   "source": [
    "#gráficar con limites superiores e inferiores\n",
    "fig, ax = plt.subplots()\n",
    "ax.plot(\"PIB\", data = timeseriesdata)\n",
    "ax.plot(\"PredPIB\", data = datapredict)\n",
    "ax.plot(\"InferiorPIB\", data = datapredict)\n",
    "ax.plot(\"SuperiorPIB\", data = datapredict)\n",
    "plt.show()"
   ]
  },
  {
   "cell_type": "code",
   "execution_count": 68,
   "metadata": {},
   "outputs": [
    {
     "data": {
      "image/png": "[encoded data removed]",
      "text/plain": [
       "<Figure size 432x288 with 1 Axes>"
      ]
     },
     "metadata": {
      "needs_background": "light"
     },
     "output_type": "display_data"
    }
   ],
   "source": [
    "#gráfico con región sombreada: intervalo de confianza\n",
    "fig, ax = plt.subplots()\n",
    "ax.plot(\"PIB\", data = timeseriesdata)\n",
    "ax.plot(\"PredPIB\", data = datapredict)\n",
    "ax.fill_between(datapredict.index, datapredict[\"InferiorPIB\"], datapredict[\"SuperiorPIB\"], alpha = 0.5)\n",
    "plt.show()"
   ]
  },
  {
   "cell_type": "code",
   "execution_count": 73,
   "metadata": {},
   "outputs": [],
   "source": [
    "data_real = pd.read_csv(\"Gujarati223V.csv\")\n",
    "data_real = data_real.rename(columns = {\"DATE\":\"fecha\",\n",
    "                                       \"GDPC1\":\"PIB_Real\"})\n",
    "data_real[\"variable_tempo\"]  = sm.tsa.datetools.dates_from_str(data_real[\"fecha\"]) #crea variable temporal\n",
    "data_real = data_real.set_index(\"variable_tempo\") #asigna la variable temporal como index\n"
   ]
  },
  {
   "cell_type": "code",
   "execution_count": 84,
   "metadata": {},
   "outputs": [
    {
     "data": {
      "text/html": [
       "<div>\n",
       "<style scoped>\n",
       "    .dataframe tbody tr th:only-of-type {\n",
       "        vertical-align: middle;\n",
       "    }\n",
       "\n",
       "    .dataframe tbody tr th {\n",
       "        vertical-align: top;\n",
       "    }\n",
       "\n",
       "    .dataframe thead th {\n",
       "        text-align: right;\n",
       "    }\n",
       "</style>\n",
       "<table border=\"1\" class=\"dataframe\">\n",
       "  <thead>\n",
       "    <tr style=\"text-align: right;\">\n",
       "      <th></th>\n",
       "      <th>fecha</th>\n",
       "      <th>PIB_Real</th>\n",
       "    </tr>\n",
       "    <tr>\n",
       "      <th>variable_tempo</th>\n",
       "      <th></th>\n",
       "      <th></th>\n",
       "    </tr>\n",
       "  </thead>\n",
       "  <tbody>\n",
       "    <tr>\n",
       "      <th>2008-01-01</th>\n",
       "      <td>2008-01-01</td>\n",
       "      <td>15671.383</td>\n",
       "    </tr>\n",
       "    <tr>\n",
       "      <th>2008-04-01</th>\n",
       "      <td>2008-04-01</td>\n",
       "      <td>15752.308</td>\n",
       "    </tr>\n",
       "    <tr>\n",
       "      <th>2008-07-01</th>\n",
       "      <td>2008-07-01</td>\n",
       "      <td>15667.032</td>\n",
       "    </tr>\n",
       "    <tr>\n",
       "      <th>2008-10-01</th>\n",
       "      <td>2008-10-01</td>\n",
       "      <td>15328.027</td>\n",
       "    </tr>\n",
       "    <tr>\n",
       "      <th>2009-01-01</th>\n",
       "      <td>2009-01-01</td>\n",
       "      <td>15155.940</td>\n",
       "    </tr>\n",
       "  </tbody>\n",
       "</table>\n",
       "</div>"
      ],
      "text/plain": [
       "                     fecha   PIB_Real\n",
       "variable_tempo                       \n",
       "2008-01-01      2008-01-01  15671.383\n",
       "2008-04-01      2008-04-01  15752.308\n",
       "2008-07-01      2008-07-01  15667.032\n",
       "2008-10-01      2008-10-01  15328.027\n",
       "2009-01-01      2009-01-01  15155.940"
      ]
     },
     "execution_count": 84,
     "metadata": {},
     "output_type": "execute_result"
    }
   ],
   "source": [
    "data_real.head()"
   ]
  },
  {
   "cell_type": "code",
   "execution_count": 79,
   "metadata": {},
   "outputs": [
    {
     "data": {
      "image/png": "[encoded data removed]",
      "text/plain": [
       "<Figure size 576x288 with 1 Axes>"
      ]
     },
     "metadata": {
      "needs_background": "light"
     },
     "output_type": "display_data"
    }
   ],
   "source": [
    "#gráfico con región sombreada: intervalo de confianza y con datos reales para los 40 trimestres\n",
    "fig, ax = plt.subplots(figsize = (8,4))\n",
    "ax.set_title(\"PIB real y pronóstico USA \", fontsize = 22, \n",
    "             color = \"darkblue\")\n",
    "ax.plot(\"PIB\", data = timeseriesdata)\n",
    "ax.plot(\"PredPIB\", data = datapredict)\n",
    "ax.set_xlabel(\"Año - 1er. trim\", fontsize = 15)\n",
    "ax.fill_between(datapredict.index, datapredict[\"InferiorPIB\"], datapredict[\"SuperiorPIB\"], alpha = 0.5)\n",
    "ax.plot(\"PIB_Real\", data = data_real)\n",
    "ax.set_ylabel(\"PIB Real\", fontsize = 15)\n",
    "plt.show()\n"
   ]
  },
  {
   "cell_type": "code",
   "execution_count": 98,
   "metadata": {},
   "outputs": [],
   "source": [
    "#desviación del pórnostico\n",
    "prediccion = datapredict.iloc[-1,:][\"PredPIB\"] #extrae la última observación de la tabla para esa columna\n"
   ]
  },
  {
   "cell_type": "code",
   "execution_count": 103,
   "metadata": {},
   "outputs": [],
   "source": [
    "verdadero = data_real.iloc[-1:][\"PIB_Real\"] #extrae la última observación de la tabla para esa columna"
   ]
  },
  {
   "cell_type": "code",
   "execution_count": 104,
   "metadata": {},
   "outputs": [
    {
     "data": {
      "text/plain": [
       "variable_tempo\n",
       "2018-01-01    18323.963\n",
       "Name: PIB_Real, dtype: float64"
      ]
     },
     "execution_count": 104,
     "metadata": {},
     "output_type": "execute_result"
    }
   ],
   "source": [
    "verdadero.head()"
   ]
  },
  {
   "cell_type": "code",
   "execution_count": 107,
   "metadata": {},
   "outputs": [
    {
     "data": {
      "text/plain": [
       "variable_tempo\n",
       "2018-01-01    3414.948741\n",
       "Name: PIB_Real, dtype: float64"
      ]
     },
     "execution_count": 107,
     "metadata": {},
     "output_type": "execute_result"
    }
   ],
   "source": [
    "prediccion - verdadero"
   ]
  }
 ],
 "metadata": {
  "kernelspec": {
   "display_name": "Python 3",
   "language": "python",
   "name": "python3"
  },
  "language_info": {
   "codemirror_mode": {
    "name": "ipython",
    "version": 3
   },
   "file_extension": ".py",
   "mimetype": "text/x-python",
   "name": "python",
   "nbconvert_exporter": "python",
   "pygments_lexer": "ipython3",
   "version": "3.8.3"
  }
 },
 "nbformat": 4,
 "nbformat_minor": 2
}
