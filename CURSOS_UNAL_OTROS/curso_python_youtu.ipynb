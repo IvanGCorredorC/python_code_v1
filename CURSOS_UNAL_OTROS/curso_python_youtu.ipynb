{
 "cells": [
  {
   "cell_type": "markdown",
   "metadata": {},
   "source": [
    "# Videos 1 - 12"
   ]
  },
  {
   "cell_type": "markdown",
   "metadata": {},
   "source": [
    "## ejercicio 2\n",
    "\n",
    "El ejercicio 1 puede verse en el pdf, por simplicidad"
   ]
  },
  {
   "cell_type": "code",
   "execution_count": 1,
   "metadata": {
    "scrolled": true
   },
   "outputs": [
    {
     "name": "stdout",
     "output_type": "stream",
     "text": [
      "ivan corredor\n"
     ]
    }
   ],
   "source": [
    "Nombre= input()"
   ]
  },
  {
   "cell_type": "code",
   "execution_count": 2,
   "metadata": {},
   "outputs": [
    {
     "name": "stdout",
     "output_type": "stream",
     "text": [
      "calle 22\n"
     ]
    }
   ],
   "source": [
    "Direccion= input()"
   ]
  },
  {
   "cell_type": "code",
   "execution_count": 3,
   "metadata": {},
   "outputs": [
    {
     "name": "stdout",
     "output_type": "stream",
     "text": [
      "322\n"
     ]
    }
   ],
   "source": [
    "Telefono= input()"
   ]
  },
  {
   "cell_type": "code",
   "execution_count": 4,
   "metadata": {},
   "outputs": [],
   "source": [
    "datos= [Nombre, Direccion, Telefono]"
   ]
  },
  {
   "cell_type": "code",
   "execution_count": 11,
   "metadata": {},
   "outputs": [
    {
     "name": "stdout",
     "output_type": "stream",
     "text": [
      "Los datos personales son:ivan corredor calle 22 322 \n"
     ]
    }
   ],
   "source": [
    "print(\"Los datos personales son:\"+ datos[0] + \" \"+ datos[1] + \" \"+ datos[2] + \" \")"
   ]
  },
  {
   "cell_type": "markdown",
   "metadata": {},
   "source": [
    "## ejercicio 3"
   ]
  },
  {
   "cell_type": "code",
   "execution_count": 12,
   "metadata": {},
   "outputs": [
    {
     "name": "stdout",
     "output_type": "stream",
     "text": [
      "5\n"
     ]
    }
   ],
   "source": [
    "numero1 = int(input())"
   ]
  },
  {
   "cell_type": "code",
   "execution_count": 13,
   "metadata": {},
   "outputs": [
    {
     "name": "stdout",
     "output_type": "stream",
     "text": [
      "4\n"
     ]
    }
   ],
   "source": [
    "numero2 = int(input())"
   ]
  },
  {
   "cell_type": "code",
   "execution_count": 15,
   "metadata": {},
   "outputs": [
    {
     "name": "stdout",
     "output_type": "stream",
     "text": [
      "6\n"
     ]
    }
   ],
   "source": [
    "numero3 = int(input())"
   ]
  },
  {
   "cell_type": "code",
   "execution_count": 18,
   "metadata": {},
   "outputs": [],
   "source": [
    "def mediaa(num1,num_2,num3):\n",
    "    suma = num1+num_2+num3\n",
    "    prom = suma//3\n",
    "    return (prom)"
   ]
  },
  {
   "cell_type": "code",
   "execution_count": 19,
   "metadata": {},
   "outputs": [
    {
     "name": "stdout",
     "output_type": "stream",
     "text": [
      "media aritmetica: 5\n"
     ]
    }
   ],
   "source": [
    "print(\"media aritmetica:\", mediaa(numero1,numero2,numero3))"
   ]
  },
  {
   "cell_type": "markdown",
   "metadata": {},
   "source": [
    "## video 16 bucles"
   ]
  },
  {
   "cell_type": "markdown",
   "metadata": {},
   "source": [
    "## ejercicio 1\n",
    "Crea un programa que muestre los números impares del 1 al 100. Los números deberán\n",
    "aparecer una al lado del otro sin salto de línea"
   ]
  },
  {
   "cell_type": "code",
   "execution_count": 1,
   "metadata": {},
   "outputs": [
    {
     "name": "stdout",
     "output_type": "stream",
     "text": [
      "1 3 5 7 9 11 13 15 17 19 21 23 25 27 29 31 33 35 37 39 41 43 45 47 49 51 53 55 57 59 61 63 65 67 69 71 73 75 77 79 81 83 85 87 89 91 93 95 97 99 "
     ]
    }
   ],
   "source": [
    "for i in range(1,101,2):\n",
    "    print(i, end= \" \")"
   ]
  },
  {
   "cell_type": "markdown",
   "metadata": {},
   "source": [
    "## ejercicio 2\n",
    "Crea un programa que pida por teclado introducir una contraseña. La contraseña no\n",
    "podrá tener menos de 8 caracteres ni espacios en blanco. Si la contraseña es correcta,\n",
    "el programa imprime “Contraseña OK”. En caso contrario imprime “Contraseña\n",
    "errónea”"
   ]
  },
  {
   "cell_type": "code",
   "execution_count": 28,
   "metadata": {},
   "outputs": [
    {
     "name": "stdout",
     "output_type": "stream",
     "text": [
      "introduce tu contraseña: 123456789\n",
      "contraseña erronea\n"
     ]
    }
   ],
   "source": [
    "contrasena = input(\"introduce tu contraseña: \")\n",
    "\n",
    "contador=0\n",
    "\n",
    "for i in range(len(contrasena)):\n",
    "    \n",
    "    if(contrasena[i] == \" \"):\n",
    "        \n",
    "        contador=1\n",
    "        \n",
    "if len(contrasena) == 8 and contador !=1:\n",
    "    \n",
    "    #ver la diferencia entre & y and; entre | y or\n",
    "#if len(contrasena) <8 and contador > 0 :\n",
    "    #print(\"contrasenña erronea\")\n",
    "#else:\n",
    "    #print(\"contraseña ok\")\n",
    "        \n",
    "    print(\"contrasenña ok\")\n",
    "    \n",
    "else:\n",
    "    \n",
    "    print(\"contraseña erronea\")\n",
    "    \n",
    "        "
   ]
  },
  {
   "cell_type": "markdown",
   "metadata": {},
   "source": [
    "## Ejercicio 3:\n",
    "Crea un programa que evalúe si una dirección de correo electrónico es válida o no en\n",
    "función de si tiene “@” o “.” Hay que tener en cuenta que la dirección se considera\n",
    "correcta si solo tiene una “@” y si tiene uno o más “.”"
   ]
  },
  {
   "cell_type": "code",
   "execution_count": 65,
   "metadata": {},
   "outputs": [
    {
     "name": "stdout",
     "output_type": "stream",
     "text": [
      "escribe tu correo: richa@.gmail@.com\n",
      "el correo no es valido\n"
     ]
    }
   ],
   "source": [
    "correo = input(\"escribe tu correo: \")\n",
    "\n",
    "contador1 = 0\n",
    "contador2 = 0\n",
    "\n",
    "for i in range(len(correo)):\n",
    "    \n",
    "    if (correo[i] == \"@\"):\n",
    "        \n",
    "        contador1 += 1 #va primero el más depués el igual\n",
    "        \n",
    "for i in range(len(correo)):\n",
    "    \n",
    "    if (correo[i] == \".\"):\n",
    "        \n",
    "        contador2 = 0  #va primero el más depués el igual\n",
    "        \n",
    "if contador1 == 1 and contador2 == 0 :\n",
    "    \n",
    "    print(\"el correo es valido\")\n",
    "\n",
    "else:\n",
    "    \n",
    "    print(\"el correo no es valido\")\n"
   ]
  }
 ],
 "metadata": {
  "kernelspec": {
   "display_name": "Python 3",
   "language": "python",
   "name": "python3"
  },
  "language_info": {
   "codemirror_mode": {
    "name": "ipython",
    "version": 3
   },
   "file_extension": ".py",
   "mimetype": "text/x-python",
   "name": "python",
   "nbconvert_exporter": "python",
   "pygments_lexer": "ipython3",
   "version": "3.8.3"
  }
 },
 "nbformat": 4,
 "nbformat_minor": 4
}
