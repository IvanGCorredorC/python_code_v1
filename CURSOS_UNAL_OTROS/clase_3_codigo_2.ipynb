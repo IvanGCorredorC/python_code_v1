{
 "cells": [
  {
   "cell_type": "code",
   "execution_count": 1,
   "metadata": {},
   "outputs": [],
   "source": [
    "import pandas as pd\n",
    "import numpy as np"
   ]
  },
  {
   "cell_type": "code",
   "execution_count": 3,
   "metadata": {},
   "outputs": [],
   "source": [
    "data = pd.read_csv(\"D:/maestria_ciencias_economicas_unal/curso_python/Casos_positivos_de_COVID-19_en_Colombia.csv\")"
   ]
  },
  {
   "cell_type": "code",
   "execution_count": 168,
   "metadata": {},
   "outputs": [
    {
     "data": {
      "text/plain": [
       "0              Leve\n",
       "1              Leve\n",
       "2              Leve\n",
       "3              Leve\n",
       "4              Leve\n",
       "             ...   \n",
       "1053117        Leve\n",
       "1053118        Leve\n",
       "1053119        Leve\n",
       "1053120        Leve\n",
       "1053121    Moderado\n",
       "Name: Estado, Length: 1053122, dtype: object"
      ]
     },
     "execution_count": 168,
     "metadata": {},
     "output_type": "execute_result"
    }
   ],
   "source": [
    "data[\"Estado\"]"
   ]
  },
  {
   "cell_type": "code",
   "execution_count": 4,
   "metadata": {},
   "outputs": [
    {
     "data": {
      "text/plain": [
       "<bound method IndexOpsMixin.tolist of Index(['fecha reporte web', 'ID de caso', 'Fecha de notificación',\n",
       "       'Código DIVIPOLA departamento', 'Nombre departamento',\n",
       "       'Código DIVIPOLA municipio', 'Nombre municipio', 'Edad',\n",
       "       'Unidad de medida de edad', 'Sexo', 'Tipo de contagio',\n",
       "       'Ubicación del caso', 'Estado', 'Código ISO del país',\n",
       "       'Nombre del país', 'Recuperado', 'Fecha de inicio de síntomas',\n",
       "       'Fecha de muerte', 'Fecha de diagnóstico', 'Fecha de recuperación',\n",
       "       'Tipo de recuperación', 'Pertenencia étnica',\n",
       "       'Nombre del grupo étnico'],\n",
       "      dtype='object')>"
      ]
     },
     "execution_count": 4,
     "metadata": {},
     "output_type": "execute_result"
    }
   ],
   "source": [
    "data.columns.to_list #lista ordenada\n",
    "\n"
   ]
  },
  {
   "cell_type": "code",
   "execution_count": 5,
   "metadata": {},
   "outputs": [
    {
     "data": {
      "text/plain": [
       "fecha reporte web                object\n",
       "ID de caso                       object\n",
       "Fecha de notificación            object\n",
       "Código DIVIPOLA departamento      int64\n",
       "Nombre departamento              object\n",
       "Código DIVIPOLA municipio         int64\n",
       "Nombre municipio                 object\n",
       "Edad                             object\n",
       "Unidad de medida de edad          int64\n",
       "Sexo                             object\n",
       "Tipo de contagio                 object\n",
       "Ubicación del caso               object\n",
       "Estado                           object\n",
       "Código ISO del país             float64\n",
       "Nombre del país                  object\n",
       "Recuperado                       object\n",
       "Fecha de inicio de síntomas      object\n",
       "Fecha de muerte                  object\n",
       "Fecha de diagnóstico             object\n",
       "Fecha de recuperación            object\n",
       "Tipo de recuperación             object\n",
       "Pertenencia étnica              float64\n",
       "Nombre del grupo étnico          object\n",
       "dtype: object"
      ]
     },
     "execution_count": 5,
     "metadata": {},
     "output_type": "execute_result"
    }
   ],
   "source": [
    "#limpieza de datos\n",
    "data.dtypes"
   ]
  },
  {
   "cell_type": "code",
   "execution_count": null,
   "metadata": {},
   "outputs": [],
   "source": []
  },
  {
   "cell_type": "code",
   "execution_count": 6,
   "metadata": {
    "scrolled": true
   },
   "outputs": [
    {
     "data": {
      "text/html": [
       "<div>\n",
       "<style scoped>\n",
       "    .dataframe tbody tr th:only-of-type {\n",
       "        vertical-align: middle;\n",
       "    }\n",
       "\n",
       "    .dataframe tbody tr th {\n",
       "        vertical-align: top;\n",
       "    }\n",
       "\n",
       "    .dataframe thead th {\n",
       "        text-align: right;\n",
       "    }\n",
       "</style>\n",
       "<table border=\"1\" class=\"dataframe\">\n",
       "  <thead>\n",
       "    <tr style=\"text-align: right;\">\n",
       "      <th></th>\n",
       "      <th>Nombre departamento</th>\n",
       "      <th>Nombre municipio</th>\n",
       "      <th>Edad</th>\n",
       "      <th>Estado</th>\n",
       "    </tr>\n",
       "  </thead>\n",
       "  <tbody>\n",
       "    <tr>\n",
       "      <th>0</th>\n",
       "      <td>BOGOTA</td>\n",
       "      <td>BOGOTA</td>\n",
       "      <td>19,00</td>\n",
       "      <td>Leve</td>\n",
       "    </tr>\n",
       "    <tr>\n",
       "      <th>1</th>\n",
       "      <td>VALLE</td>\n",
       "      <td>BUGA</td>\n",
       "      <td>34,00</td>\n",
       "      <td>Leve</td>\n",
       "    </tr>\n",
       "    <tr>\n",
       "      <th>2</th>\n",
       "      <td>ANTIOQUIA</td>\n",
       "      <td>MEDELLIN</td>\n",
       "      <td>50,00</td>\n",
       "      <td>Leve</td>\n",
       "    </tr>\n",
       "    <tr>\n",
       "      <th>3</th>\n",
       "      <td>ANTIOQUIA</td>\n",
       "      <td>MEDELLIN</td>\n",
       "      <td>55,00</td>\n",
       "      <td>Leve</td>\n",
       "    </tr>\n",
       "    <tr>\n",
       "      <th>4</th>\n",
       "      <td>ANTIOQUIA</td>\n",
       "      <td>MEDELLIN</td>\n",
       "      <td>25,00</td>\n",
       "      <td>Leve</td>\n",
       "    </tr>\n",
       "    <tr>\n",
       "      <th>...</th>\n",
       "      <td>...</td>\n",
       "      <td>...</td>\n",
       "      <td>...</td>\n",
       "      <td>...</td>\n",
       "    </tr>\n",
       "    <tr>\n",
       "      <th>1053117</th>\n",
       "      <td>BOGOTA</td>\n",
       "      <td>BOGOTA</td>\n",
       "      <td>16,00</td>\n",
       "      <td>Leve</td>\n",
       "    </tr>\n",
       "    <tr>\n",
       "      <th>1053118</th>\n",
       "      <td>BOGOTA</td>\n",
       "      <td>BOGOTA</td>\n",
       "      <td>39,00</td>\n",
       "      <td>Leve</td>\n",
       "    </tr>\n",
       "    <tr>\n",
       "      <th>1053119</th>\n",
       "      <td>BOGOTA</td>\n",
       "      <td>BOGOTA</td>\n",
       "      <td>21,00</td>\n",
       "      <td>Leve</td>\n",
       "    </tr>\n",
       "    <tr>\n",
       "      <th>1053120</th>\n",
       "      <td>BOGOTA</td>\n",
       "      <td>BOGOTA</td>\n",
       "      <td>35,00</td>\n",
       "      <td>Leve</td>\n",
       "    </tr>\n",
       "    <tr>\n",
       "      <th>1053121</th>\n",
       "      <td>BOGOTA</td>\n",
       "      <td>BOGOTA</td>\n",
       "      <td>82,00</td>\n",
       "      <td>Moderado</td>\n",
       "    </tr>\n",
       "  </tbody>\n",
       "</table>\n",
       "<p>1053122 rows × 4 columns</p>\n",
       "</div>"
      ],
      "text/plain": [
       "        Nombre departamento Nombre municipio   Edad    Estado\n",
       "0                    BOGOTA           BOGOTA  19,00      Leve\n",
       "1                     VALLE             BUGA  34,00      Leve\n",
       "2                 ANTIOQUIA         MEDELLIN  50,00      Leve\n",
       "3                 ANTIOQUIA         MEDELLIN  55,00      Leve\n",
       "4                 ANTIOQUIA         MEDELLIN  25,00      Leve\n",
       "...                     ...              ...    ...       ...\n",
       "1053117              BOGOTA           BOGOTA  16,00      Leve\n",
       "1053118              BOGOTA           BOGOTA  39,00      Leve\n",
       "1053119              BOGOTA           BOGOTA  21,00      Leve\n",
       "1053120              BOGOTA           BOGOTA  35,00      Leve\n",
       "1053121              BOGOTA           BOGOTA  82,00  Moderado\n",
       "\n",
       "[1053122 rows x 4 columns]"
      ]
     },
     "execution_count": 6,
     "metadata": {},
     "output_type": "execute_result"
    }
   ],
   "source": [
    "data[[\"Nombre departamento\", \"Nombre municipio\", \"Edad\", \"Estado\"]] #doble parentesis son las columnas"
   ]
  },
  {
   "cell_type": "code",
   "execution_count": 7,
   "metadata": {},
   "outputs": [],
   "source": [
    "#pegar una base: pd.marge(df1,df2,how=\"oute\", on=\"nombre Departamento\")"
   ]
  },
  {
   "cell_type": "code",
   "execution_count": 8,
   "metadata": {},
   "outputs": [
    {
     "data": {
      "text/plain": [
       "(1053122, 23)"
      ]
     },
     "execution_count": 8,
     "metadata": {},
     "output_type": "execute_result"
    }
   ],
   "source": [
    "data.shape #filas y columnas"
   ]
  },
  {
   "cell_type": "code",
   "execution_count": 9,
   "metadata": {},
   "outputs": [
    {
     "data": {
      "text/html": [
       "<div>\n",
       "<style scoped>\n",
       "    .dataframe tbody tr th:only-of-type {\n",
       "        vertical-align: middle;\n",
       "    }\n",
       "\n",
       "    .dataframe tbody tr th {\n",
       "        vertical-align: top;\n",
       "    }\n",
       "\n",
       "    .dataframe thead th {\n",
       "        text-align: right;\n",
       "    }\n",
       "</style>\n",
       "<table border=\"1\" class=\"dataframe\">\n",
       "  <thead>\n",
       "    <tr style=\"text-align: right;\">\n",
       "      <th></th>\n",
       "      <th>Código DIVIPOLA departamento</th>\n",
       "      <th>Código DIVIPOLA municipio</th>\n",
       "      <th>Unidad de medida de edad</th>\n",
       "      <th>Código ISO del país</th>\n",
       "      <th>Pertenencia étnica</th>\n",
       "    </tr>\n",
       "  </thead>\n",
       "  <tbody>\n",
       "    <tr>\n",
       "      <th>count</th>\n",
       "      <td>1.053122e+06</td>\n",
       "      <td>1.053122e+06</td>\n",
       "      <td>1.053122e+06</td>\n",
       "      <td>933.000000</td>\n",
       "      <td>990270.000000</td>\n",
       "    </tr>\n",
       "    <tr>\n",
       "      <th>mean</th>\n",
       "      <td>1.159546e+03</td>\n",
       "      <td>2.767411e+04</td>\n",
       "      <td>1.004880e+00</td>\n",
       "      <td>602.443730</td>\n",
       "      <td>5.845071</td>\n",
       "    </tr>\n",
       "    <tr>\n",
       "      <th>std</th>\n",
       "      <td>5.384285e+03</td>\n",
       "      <td>2.592331e+04</td>\n",
       "      <td>7.782166e-02</td>\n",
       "      <td>253.314861</td>\n",
       "      <td>0.769194</td>\n",
       "    </tr>\n",
       "    <tr>\n",
       "      <th>min</th>\n",
       "      <td>5.000000e+00</td>\n",
       "      <td>5.001000e+03</td>\n",
       "      <td>1.000000e+00</td>\n",
       "      <td>32.000000</td>\n",
       "      <td>1.000000</td>\n",
       "    </tr>\n",
       "    <tr>\n",
       "      <th>25%</th>\n",
       "      <td>1.100000e+01</td>\n",
       "      <td>1.100100e+04</td>\n",
       "      <td>1.000000e+00</td>\n",
       "      <td>484.000000</td>\n",
       "      <td>6.000000</td>\n",
       "    </tr>\n",
       "    <tr>\n",
       "      <th>50%</th>\n",
       "      <td>1.500000e+01</td>\n",
       "      <td>1.100100e+04</td>\n",
       "      <td>1.000000e+00</td>\n",
       "      <td>724.000000</td>\n",
       "      <td>6.000000</td>\n",
       "    </tr>\n",
       "    <tr>\n",
       "      <th>75%</th>\n",
       "      <td>6.600000e+01</td>\n",
       "      <td>5.000100e+04</td>\n",
       "      <td>1.000000e+00</td>\n",
       "      <td>840.000000</td>\n",
       "      <td>6.000000</td>\n",
       "    </tr>\n",
       "    <tr>\n",
       "      <th>max</th>\n",
       "      <td>4.700100e+04</td>\n",
       "      <td>9.977300e+04</td>\n",
       "      <td>3.000000e+00</td>\n",
       "      <td>862.000000</td>\n",
       "      <td>6.000000</td>\n",
       "    </tr>\n",
       "  </tbody>\n",
       "</table>\n",
       "</div>"
      ],
      "text/plain": [
       "       Código DIVIPOLA departamento  Código DIVIPOLA municipio  \\\n",
       "count                  1.053122e+06               1.053122e+06   \n",
       "mean                   1.159546e+03               2.767411e+04   \n",
       "std                    5.384285e+03               2.592331e+04   \n",
       "min                    5.000000e+00               5.001000e+03   \n",
       "25%                    1.100000e+01               1.100100e+04   \n",
       "50%                    1.500000e+01               1.100100e+04   \n",
       "75%                    6.600000e+01               5.000100e+04   \n",
       "max                    4.700100e+04               9.977300e+04   \n",
       "\n",
       "       Unidad de medida de edad  Código ISO del país  Pertenencia étnica  \n",
       "count              1.053122e+06           933.000000       990270.000000  \n",
       "mean               1.004880e+00           602.443730            5.845071  \n",
       "std                7.782166e-02           253.314861            0.769194  \n",
       "min                1.000000e+00            32.000000            1.000000  \n",
       "25%                1.000000e+00           484.000000            6.000000  \n",
       "50%                1.000000e+00           724.000000            6.000000  \n",
       "75%                1.000000e+00           840.000000            6.000000  \n",
       "max                3.000000e+00           862.000000            6.000000  "
      ]
     },
     "execution_count": 9,
     "metadata": {},
     "output_type": "execute_result"
    }
   ],
   "source": [
    "data.describe()"
   ]
  },
  {
   "cell_type": "code",
   "execution_count": 10,
   "metadata": {},
   "outputs": [
    {
     "data": {
      "text/plain": [
       "array(['Leve', 'Fallecido', nan, 'leve', 'Moderado', 'Grave', 'LEVE',\n",
       "       'moderado'], dtype=object)"
      ]
     },
     "execution_count": 10,
     "metadata": {},
     "output_type": "execute_result"
    }
   ],
   "source": [
    "data[\"Estado\"].unique() #ver si la columna tiene valores unicos"
   ]
  },
  {
   "cell_type": "code",
   "execution_count": 11,
   "metadata": {},
   "outputs": [
    {
     "data": {
      "text/plain": [
       "array(['BOGOTA', 'VALLE', 'ANTIOQUIA', 'CARTAGENA', 'HUILA', 'META',\n",
       "       'RISARALDA', 'NORTE SANTANDER', 'CALDAS', 'SANTANDER',\n",
       "       'CUNDINAMARCA', 'TOLIMA', 'BARRANQUILLA', 'QUINDIO', 'CAUCA',\n",
       "       'STA MARTA D.E.', 'CESAR', 'SAN ANDRES', 'CASANARE', 'NARIÑO',\n",
       "       'ATLANTICO', 'BOYACA', 'CORDOBA', 'BOLIVAR', 'SUCRE', 'MAGDALENA',\n",
       "       'GUAJIRA', 'CHOCO', 'AMAZONAS', 'CAQUETA', 'PUTUMAYO', 'ARAUCA',\n",
       "       'VAUPES', 'GUAINIA', 'VICHADA', 'GUAVIARE'], dtype=object)"
      ]
     },
     "execution_count": 11,
     "metadata": {},
     "output_type": "execute_result"
    }
   ],
   "source": [
    "data[\"Nombre departamento\"].unique() "
   ]
  },
  {
   "cell_type": "code",
   "execution_count": 52,
   "metadata": {},
   "outputs": [
    {
     "data": {
      "text/html": [
       "<div>\n",
       "<style scoped>\n",
       "    .dataframe tbody tr th:only-of-type {\n",
       "        vertical-align: middle;\n",
       "    }\n",
       "\n",
       "    .dataframe tbody tr th {\n",
       "        vertical-align: top;\n",
       "    }\n",
       "\n",
       "    .dataframe thead th {\n",
       "        text-align: right;\n",
       "    }\n",
       "</style>\n",
       "<table border=\"1\" class=\"dataframe\">\n",
       "  <thead>\n",
       "    <tr style=\"text-align: right;\">\n",
       "      <th></th>\n",
       "      <th>Estado</th>\n",
       "    </tr>\n",
       "    <tr>\n",
       "      <th>Nombre departamento</th>\n",
       "      <th></th>\n",
       "    </tr>\n",
       "  </thead>\n",
       "  <tbody>\n",
       "    <tr>\n",
       "      <th>BOGOTA</th>\n",
       "      <td>7589</td>\n",
       "    </tr>\n",
       "    <tr>\n",
       "      <th>ANTIOQUIA</th>\n",
       "      <td>3149</td>\n",
       "    </tr>\n",
       "    <tr>\n",
       "      <th>VALLE</th>\n",
       "      <td>2771</td>\n",
       "    </tr>\n",
       "    <tr>\n",
       "      <th>BARRANQUILLA</th>\n",
       "      <td>1702</td>\n",
       "    </tr>\n",
       "    <tr>\n",
       "      <th>SANTANDER</th>\n",
       "      <td>1666</td>\n",
       "    </tr>\n",
       "    <tr>\n",
       "      <th>CORDOBA</th>\n",
       "      <td>1611</td>\n",
       "    </tr>\n",
       "    <tr>\n",
       "      <th>ATLANTICO</th>\n",
       "      <td>1423</td>\n",
       "    </tr>\n",
       "    <tr>\n",
       "      <th>CUNDINAMARCA</th>\n",
       "      <td>1199</td>\n",
       "    </tr>\n",
       "    <tr>\n",
       "      <th>NORTE SANTANDER</th>\n",
       "      <td>1069</td>\n",
       "    </tr>\n",
       "    <tr>\n",
       "      <th>CESAR</th>\n",
       "      <td>806</td>\n",
       "    </tr>\n",
       "    <tr>\n",
       "      <th>NARIÑO</th>\n",
       "      <td>760</td>\n",
       "    </tr>\n",
       "    <tr>\n",
       "      <th>HUILA</th>\n",
       "      <td>630</td>\n",
       "    </tr>\n",
       "    <tr>\n",
       "      <th>SUCRE</th>\n",
       "      <td>614</td>\n",
       "    </tr>\n",
       "    <tr>\n",
       "      <th>CARTAGENA</th>\n",
       "      <td>585</td>\n",
       "    </tr>\n",
       "    <tr>\n",
       "      <th>TOLIMA</th>\n",
       "      <td>580</td>\n",
       "    </tr>\n",
       "    <tr>\n",
       "      <th>META</th>\n",
       "      <td>517</td>\n",
       "    </tr>\n",
       "    <tr>\n",
       "      <th>STA MARTA D.E.</th>\n",
       "      <td>466</td>\n",
       "    </tr>\n",
       "    <tr>\n",
       "      <th>MAGDALENA</th>\n",
       "      <td>431</td>\n",
       "    </tr>\n",
       "    <tr>\n",
       "      <th>GUAJIRA</th>\n",
       "      <td>403</td>\n",
       "    </tr>\n",
       "    <tr>\n",
       "      <th>RISARALDA</th>\n",
       "      <td>396</td>\n",
       "    </tr>\n",
       "    <tr>\n",
       "      <th>CAQUETA</th>\n",
       "      <td>392</td>\n",
       "    </tr>\n",
       "    <tr>\n",
       "      <th>CAUCA</th>\n",
       "      <td>369</td>\n",
       "    </tr>\n",
       "    <tr>\n",
       "      <th>BOYACA</th>\n",
       "      <td>290</td>\n",
       "    </tr>\n",
       "    <tr>\n",
       "      <th>CALDAS</th>\n",
       "      <td>263</td>\n",
       "    </tr>\n",
       "    <tr>\n",
       "      <th>BOLIVAR</th>\n",
       "      <td>256</td>\n",
       "    </tr>\n",
       "    <tr>\n",
       "      <th>QUINDIO</th>\n",
       "      <td>234</td>\n",
       "    </tr>\n",
       "    <tr>\n",
       "      <th>PUTUMAYO</th>\n",
       "      <td>202</td>\n",
       "    </tr>\n",
       "    <tr>\n",
       "      <th>CHOCO</th>\n",
       "      <td>162</td>\n",
       "    </tr>\n",
       "    <tr>\n",
       "      <th>AMAZONAS</th>\n",
       "      <td>117</td>\n",
       "    </tr>\n",
       "    <tr>\n",
       "      <th>ARAUCA</th>\n",
       "      <td>94</td>\n",
       "    </tr>\n",
       "    <tr>\n",
       "      <th>CASANARE</th>\n",
       "      <td>88</td>\n",
       "    </tr>\n",
       "    <tr>\n",
       "      <th>SAN ANDRES</th>\n",
       "      <td>30</td>\n",
       "    </tr>\n",
       "    <tr>\n",
       "      <th>GUAVIARE</th>\n",
       "      <td>23</td>\n",
       "    </tr>\n",
       "    <tr>\n",
       "      <th>GUAINIA</th>\n",
       "      <td>18</td>\n",
       "    </tr>\n",
       "    <tr>\n",
       "      <th>VAUPES</th>\n",
       "      <td>12</td>\n",
       "    </tr>\n",
       "    <tr>\n",
       "      <th>VICHADA</th>\n",
       "      <td>9</td>\n",
       "    </tr>\n",
       "  </tbody>\n",
       "</table>\n",
       "</div>"
      ],
      "text/plain": [
       "                     Estado\n",
       "Nombre departamento        \n",
       "BOGOTA                 7589\n",
       "ANTIOQUIA              3149\n",
       "VALLE                  2771\n",
       "BARRANQUILLA           1702\n",
       "SANTANDER              1666\n",
       "CORDOBA                1611\n",
       "ATLANTICO              1423\n",
       "CUNDINAMARCA           1199\n",
       "NORTE SANTANDER        1069\n",
       "CESAR                   806\n",
       "NARIÑO                  760\n",
       "HUILA                   630\n",
       "SUCRE                   614\n",
       "CARTAGENA               585\n",
       "TOLIMA                  580\n",
       "META                    517\n",
       "STA MARTA D.E.          466\n",
       "MAGDALENA               431\n",
       "GUAJIRA                 403\n",
       "RISARALDA               396\n",
       "CAQUETA                 392\n",
       "CAUCA                   369\n",
       "BOYACA                  290\n",
       "CALDAS                  263\n",
       "BOLIVAR                 256\n",
       "QUINDIO                 234\n",
       "PUTUMAYO                202\n",
       "CHOCO                   162\n",
       "AMAZONAS                117\n",
       "ARAUCA                   94\n",
       "CASANARE                 88\n",
       "SAN ANDRES               30\n",
       "GUAVIARE                 23\n",
       "GUAINIA                  18\n",
       "VAUPES                   12\n",
       "VICHADA                   9"
      ]
     },
     "execution_count": 52,
     "metadata": {},
     "output_type": "execute_result"
    }
   ],
   "source": [
    "#Punto 1 quiz 2\n",
    "Est_fa = data[\"Estado\"]==\"Fallecido\"\n",
    "fallecidos = data[Est_fa][[\"Nombre departamento\", \"Estado\"]].groupby(\"Nombre departamento\"\n",
    "                                                                    ).count().sort_values(by=\"Estado\",ascending=False)\n",
    "fallecidos"
   ]
  },
  {
   "cell_type": "code",
   "execution_count": 4,
   "metadata": {},
   "outputs": [
    {
     "data": {
      "text/plain": [
       "0          19,00\n",
       "1          34,00\n",
       "2          50,00\n",
       "3          55,00\n",
       "4          25,00\n",
       "           ...  \n",
       "1053117    16,00\n",
       "1053118    39,00\n",
       "1053119    21,00\n",
       "1053120    35,00\n",
       "1053121    82,00\n",
       "Name: Edad, Length: 1053122, dtype: object"
      ]
     },
     "execution_count": 4,
     "metadata": {},
     "output_type": "execute_result"
    }
   ],
   "source": [
    "data[\"Edad\"]"
   ]
  },
  {
   "cell_type": "code",
   "execution_count": 25,
   "metadata": {},
   "outputs": [],
   "source": [
    "#Punto 2 quiz 2 #si hay puntos utilizo pd.to_numeric\n",
    "edadSerie = pd.Series(data[\"Edad\"], dtype = \"string\").str.split(',', expand = True).get(0)\n",
    "#y la ordeno"
   ]
  },
  {
   "cell_type": "code",
   "execution_count": 26,
   "metadata": {},
   "outputs": [
    {
     "data": {
      "text/plain": [
       "985222    123\n",
       "931585    115\n",
       "862781    115\n",
       "924603    115\n",
       "995066    113\n",
       "         ... \n",
       "821446      1\n",
       "352672      1\n",
       "821530      1\n",
       "121690      1\n",
       "769280      1\n",
       "Name: 0, Length: 1053122, dtype: int32"
      ]
     },
     "execution_count": 26,
     "metadata": {},
     "output_type": "execute_result"
    }
   ],
   "source": [
    "#ordenarlo\n",
    "pd.Series(edadSerie, dtype = \"int\").sort_values(ascending = False)"
   ]
  },
  {
   "cell_type": "code",
   "execution_count": 28,
   "metadata": {},
   "outputs": [],
   "source": [
    "#cambiar formato a variable\n",
    "data[\"Edad\"] = pd.Series(edadSerie, dtype = \"int\")"
   ]
  },
  {
   "cell_type": "code",
   "execution_count": null,
   "metadata": {},
   "outputs": [],
   "source": [
    "#Punto 2, forma dos\n",
    "#edadSerie = pd.Series(data[\"Edad\"], dtype = \"string\").str.rstrip(',00')"
   ]
  },
  {
   "cell_type": "code",
   "execution_count": 14,
   "metadata": {},
   "outputs": [],
   "source": [
    "#para saber si es número o caracter, diferentes de ,\n",
    "numeros = \"1234567890\"\n",
    "errores = []\n",
    "for i in data[\"Edad\"]:\n",
    "    for j in i:\n",
    "        if j not in numeros:\n",
    "            errores.append(j)"
   ]
  },
  {
   "cell_type": "code",
   "execution_count": 15,
   "metadata": {},
   "outputs": [
    {
     "data": {
      "text/plain": [
       "1053121"
      ]
     },
     "execution_count": 15,
     "metadata": {},
     "output_type": "execute_result"
    }
   ],
   "source": [
    "pd.Series(errores).duplicated().sum()"
   ]
  },
  {
   "cell_type": "code",
   "execution_count": 18,
   "metadata": {},
   "outputs": [],
   "source": [
    "errores = pd.Series(errores)"
   ]
  },
  {
   "cell_type": "code",
   "execution_count": 21,
   "metadata": {},
   "outputs": [
    {
     "data": {
      "text/plain": [
       "0    ,\n",
       "dtype: object"
      ]
     },
     "execution_count": 21,
     "metadata": {},
     "output_type": "execute_result"
    }
   ],
   "source": [
    "errores = errores.drop_duplicates(keep = 'first')\n",
    "errores"
   ]
  },
  {
   "cell_type": "code",
   "execution_count": 24,
   "metadata": {},
   "outputs": [
    {
     "data": {
      "text/plain": [
       "'0          19,00\\n1          34,00\\n2          50,00\\n3          55,00\\n4          25,00\\n           ...  \\n1053117    16,00\\n1053118    39,00\\n1053119    21,00\\n1053120    35,00\\n1053121    82,00\\nName: Edad, Length: 1053122, dtype: object'"
      ]
     },
     "execution_count": 24,
     "metadata": {},
     "output_type": "execute_result"
    }
   ],
   "source": [
    "str(edadSerie)"
   ]
  },
  {
   "cell_type": "code",
   "execution_count": 165,
   "metadata": {},
   "outputs": [
    {
     "data": {
      "text/plain": [
       "Leve         93.948944\n",
       "Fallecido     2.936602\n",
       "Moderado      2.129003\n",
       "leve          0.462340\n",
       "Grave         0.223146\n",
       "LEVE          0.000475\n",
       "moderado      0.000095\n",
       "Name: Estado, dtype: float64"
      ]
     },
     "execution_count": 165,
     "metadata": {},
     "output_type": "execute_result"
    }
   ],
   "source": [
    "#punto 3 quiz 2\n",
    "data['ID de caso'].count()\n",
    "data[\"Estado\"].value_counts()\n",
    "tasa_mort = (data[\"Estado\"].value_counts() / data[\"ID de caso\"].count())*100\n",
    "tasa_mort"
   ]
  },
  {
   "cell_type": "code",
   "execution_count": 163,
   "metadata": {
    "scrolled": true
   },
   "outputs": [
    {
     "data": {
      "text/plain": [
       "Nombre departamento\n",
       "MAGDALENA          7.375086\n",
       "CORDOBA            6.163912\n",
       "NORTE SANTANDER    5.105794\n",
       "PUTUMAYO           4.659746\n",
       "ATLANTICO          4.626439\n",
       "BARRANQUILLA       4.192841\n",
       "GUAJIRA            4.141829\n",
       "STA MARTA D.E.     4.124624\n",
       "AMAZONAS           4.030313\n",
       "SANTANDER          4.014071\n",
       "SUCRE              3.998958\n",
       "CHOCO              3.879310\n",
       "BOLIVAR            3.844998\n",
       "NARIÑO             3.532419\n",
       "CAQUETA            3.520431\n",
       "VALLE              3.393546\n",
       "CESAR              3.156205\n",
       "TOLIMA             3.080518\n",
       "ARAUCA             2.951334\n",
       "HUILA              2.918964\n",
       "CUNDINAMARCA       2.870206\n",
       "CAUCA              2.834755\n",
       "QUINDIO            2.495734\n",
       "BOGOTA             2.389205\n",
       "RISARALDA          2.338767\n",
       "META               2.329249\n",
       "CARTAGENA          2.253380\n",
       "BOYACA             2.110012\n",
       "CALDAS             2.048446\n",
       "ANTIOQUIA          1.910639\n",
       "CASANARE           1.801802\n",
       "SAN ANDRES         1.608579\n",
       "GUAVIARE           1.599444\n",
       "GUAINIA            1.597161\n",
       "VICHADA            1.140684\n",
       "VAUPES             1.126761\n",
       "Name: 0, dtype: float64"
      ]
     },
     "execution_count": 163,
     "metadata": {},
     "output_type": "execute_result"
    }
   ],
   "source": [
    "#Punto 5 departamentos\n",
    "Est_fa = data[\"Estado\"]==\"Fallecido\"\n",
    "fallecidos = data[Est_fa][[\"Nombre departamento\", \"Estado\"]].groupby(\"Nombre departamento\"\n",
    "                                                                    ).count().sort_values(by=\"Estado\",ascending=False)\n",
    "tasa_mort = (data[\"Estado\"].value_counts() / data[\"ID de caso\"].count())*100\n",
    "fallecidos_2 = fallecidos[[\"Estado\"]].sort_values(by=\"Nombre departamento\",ascending=True)\n",
    "pacientes = data.groupby(\"Nombre departamento\")[\"ID de caso\"].count()\n",
    "tasa_mor_depto = (fallecidos_2[\"Estado\"] / pacientes)*100\n",
    "tasa_mor_depto = pd.DataFrame(tasa_mor_depto)\n",
    "tasa_mor_depto.iloc[:,0].sort_values(ascending=False)"
   ]
  },
  {
   "cell_type": "code",
   "execution_count": 36,
   "metadata": {},
   "outputs": [
    {
     "data": {
      "text/plain": [
       "Nombre municipio\n",
       "NOVITA             600.0\n",
       "PUERTO PARRA       500.0\n",
       "ONZAGA             500.0\n",
       "SUPATA             500.0\n",
       "UTICA              500.0\n",
       "                   ...  \n",
       "YALI                 NaN\n",
       "YAVARATE (CD)        NaN\n",
       "ZAPATOCA             NaN\n",
       "ZIPACON              NaN\n",
       "puerto COLOMBIA      NaN\n",
       "Name: 0, Length: 1011, dtype: float64"
      ]
     },
     "execution_count": 36,
     "metadata": {},
     "output_type": "execute_result"
    }
   ],
   "source": [
    "#Punto 5 municipios\n",
    "\n",
    "Est_fa_mun = data[\"Estado\"]==\"Fallecido\"\n",
    "fallecidos_mun = data[Est_fa_mun][[\"Nombre municipio\", \"Estado\"]].groupby(\"Nombre municipio\"\n",
    "                                                                     ).count().sort_values(by=\"Estado\",ascending=False)\n",
    "fallecidos_3 = fallecidos_mun[[\"Estado\"]].sort_values(by=\"Nombre municipio\",ascending=True)\n",
    "pacientes_2 = data.groupby(\"Nombre municipio\")[\"ID de caso\"].count()\n",
    "tasa_mor_muni = (fallecidos_3[\"Estado\"] / pacientes_2)*1000\n",
    "tasa_mor_muni = pd.DataFrame(tasa_mor_muni)\n",
    "tasa_mor_muni.iloc[:,0].sort_values(ascending= False)"
   ]
  },
  {
   "cell_type": "code",
   "execution_count": 31,
   "metadata": {},
   "outputs": [
    {
     "data": {
      "text/html": [
       "<div>\n",
       "<style scoped>\n",
       "    .dataframe tbody tr th:only-of-type {\n",
       "        vertical-align: middle;\n",
       "    }\n",
       "\n",
       "    .dataframe tbody tr th {\n",
       "        vertical-align: top;\n",
       "    }\n",
       "\n",
       "    .dataframe thead th {\n",
       "        text-align: right;\n",
       "    }\n",
       "</style>\n",
       "<table border=\"1\" class=\"dataframe\">\n",
       "  <thead>\n",
       "    <tr style=\"text-align: right;\">\n",
       "      <th></th>\n",
       "      <th>Estado</th>\n",
       "    </tr>\n",
       "    <tr>\n",
       "      <th>Nombre municipio</th>\n",
       "      <th></th>\n",
       "    </tr>\n",
       "  </thead>\n",
       "  <tbody>\n",
       "    <tr>\n",
       "      <th>ABEJORRAL</th>\n",
       "      <td>56</td>\n",
       "    </tr>\n",
       "    <tr>\n",
       "      <th>ABREGO</th>\n",
       "      <td>82</td>\n",
       "    </tr>\n",
       "    <tr>\n",
       "      <th>ABRIAQUI</th>\n",
       "      <td>17</td>\n",
       "    </tr>\n",
       "    <tr>\n",
       "      <th>ACACIAS</th>\n",
       "      <td>1859</td>\n",
       "    </tr>\n",
       "    <tr>\n",
       "      <th>ACANDI</th>\n",
       "      <td>95</td>\n",
       "    </tr>\n",
       "    <tr>\n",
       "      <th>...</th>\n",
       "      <td>...</td>\n",
       "    </tr>\n",
       "    <tr>\n",
       "      <th>ZETAQUIRA</th>\n",
       "      <td>15</td>\n",
       "    </tr>\n",
       "    <tr>\n",
       "      <th>ZIPACON</th>\n",
       "      <td>23</td>\n",
       "    </tr>\n",
       "    <tr>\n",
       "      <th>ZIPAQUIRA</th>\n",
       "      <td>3461</td>\n",
       "    </tr>\n",
       "    <tr>\n",
       "      <th>ZONA BANANERA</th>\n",
       "      <td>304</td>\n",
       "    </tr>\n",
       "    <tr>\n",
       "      <th>puerto COLOMBIA</th>\n",
       "      <td>1</td>\n",
       "    </tr>\n",
       "  </tbody>\n",
       "</table>\n",
       "<p>1011 rows × 1 columns</p>\n",
       "</div>"
      ],
      "text/plain": [
       "                  Estado\n",
       "Nombre municipio        \n",
       "ABEJORRAL             56\n",
       "ABREGO                82\n",
       "ABRIAQUI              17\n",
       "ACACIAS             1859\n",
       "ACANDI                95\n",
       "...                  ...\n",
       "ZETAQUIRA             15\n",
       "ZIPACON               23\n",
       "ZIPAQUIRA           3461\n",
       "ZONA BANANERA        304\n",
       "puerto COLOMBIA        1\n",
       "\n",
       "[1011 rows x 1 columns]"
      ]
     },
     "execution_count": 31,
     "metadata": {},
     "output_type": "execute_result"
    }
   ],
   "source": [
    "# size: cuenta los valores por categoria\n",
    "\n",
    "data.groupby(\"Nombre municipio\").aggregate({\"Estado\" : np.size})"
   ]
  },
  {
   "cell_type": "code",
   "execution_count": 30,
   "metadata": {},
   "outputs": [
    {
     "data": {
      "text/html": [
       "<div>\n",
       "<style scoped>\n",
       "    .dataframe tbody tr th:only-of-type {\n",
       "        vertical-align: middle;\n",
       "    }\n",
       "\n",
       "    .dataframe tbody tr th {\n",
       "        vertical-align: top;\n",
       "    }\n",
       "\n",
       "    .dataframe thead tr th {\n",
       "        text-align: left;\n",
       "    }\n",
       "\n",
       "    .dataframe thead tr:last-of-type th {\n",
       "        text-align: right;\n",
       "    }\n",
       "</style>\n",
       "<table border=\"1\" class=\"dataframe\">\n",
       "  <thead>\n",
       "    <tr>\n",
       "      <th></th>\n",
       "      <th colspan=\"4\" halign=\"left\">Edad</th>\n",
       "    </tr>\n",
       "    <tr>\n",
       "      <th></th>\n",
       "      <th>amax</th>\n",
       "      <th>amin</th>\n",
       "      <th>mean</th>\n",
       "      <th>std</th>\n",
       "    </tr>\n",
       "    <tr>\n",
       "      <th>Nombre departamento</th>\n",
       "      <th></th>\n",
       "      <th></th>\n",
       "      <th></th>\n",
       "      <th></th>\n",
       "    </tr>\n",
       "  </thead>\n",
       "  <tbody>\n",
       "    <tr>\n",
       "      <th>AMAZONAS</th>\n",
       "      <td>95</td>\n",
       "      <td>1</td>\n",
       "      <td>36.364106</td>\n",
       "      <td>18.963167</td>\n",
       "    </tr>\n",
       "    <tr>\n",
       "      <th>ANTIOQUIA</th>\n",
       "      <td>115</td>\n",
       "      <td>1</td>\n",
       "      <td>39.189547</td>\n",
       "      <td>17.141693</td>\n",
       "    </tr>\n",
       "    <tr>\n",
       "      <th>ARAUCA</th>\n",
       "      <td>99</td>\n",
       "      <td>1</td>\n",
       "      <td>38.426060</td>\n",
       "      <td>16.648495</td>\n",
       "    </tr>\n",
       "    <tr>\n",
       "      <th>ATLANTICO</th>\n",
       "      <td>104</td>\n",
       "      <td>1</td>\n",
       "      <td>39.779830</td>\n",
       "      <td>18.524425</td>\n",
       "    </tr>\n",
       "    <tr>\n",
       "      <th>BARRANQUILLA</th>\n",
       "      <td>104</td>\n",
       "      <td>1</td>\n",
       "      <td>40.616042</td>\n",
       "      <td>18.393387</td>\n",
       "    </tr>\n",
       "    <tr>\n",
       "      <th>BOGOTA</th>\n",
       "      <td>106</td>\n",
       "      <td>1</td>\n",
       "      <td>39.115301</td>\n",
       "      <td>18.080056</td>\n",
       "    </tr>\n",
       "    <tr>\n",
       "      <th>BOLIVAR</th>\n",
       "      <td>103</td>\n",
       "      <td>1</td>\n",
       "      <td>40.126615</td>\n",
       "      <td>19.745193</td>\n",
       "    </tr>\n",
       "    <tr>\n",
       "      <th>BOYACA</th>\n",
       "      <td>115</td>\n",
       "      <td>1</td>\n",
       "      <td>39.748472</td>\n",
       "      <td>18.161675</td>\n",
       "    </tr>\n",
       "    <tr>\n",
       "      <th>CALDAS</th>\n",
       "      <td>123</td>\n",
       "      <td>1</td>\n",
       "      <td>41.644053</td>\n",
       "      <td>18.970618</td>\n",
       "    </tr>\n",
       "    <tr>\n",
       "      <th>CAQUETA</th>\n",
       "      <td>104</td>\n",
       "      <td>1</td>\n",
       "      <td>39.257027</td>\n",
       "      <td>18.225368</td>\n",
       "    </tr>\n",
       "    <tr>\n",
       "      <th>CARTAGENA</th>\n",
       "      <td>103</td>\n",
       "      <td>1</td>\n",
       "      <td>38.920920</td>\n",
       "      <td>17.673257</td>\n",
       "    </tr>\n",
       "    <tr>\n",
       "      <th>CASANARE</th>\n",
       "      <td>93</td>\n",
       "      <td>1</td>\n",
       "      <td>36.467649</td>\n",
       "      <td>16.337483</td>\n",
       "    </tr>\n",
       "    <tr>\n",
       "      <th>CAUCA</th>\n",
       "      <td>107</td>\n",
       "      <td>1</td>\n",
       "      <td>41.374280</td>\n",
       "      <td>18.261277</td>\n",
       "    </tr>\n",
       "    <tr>\n",
       "      <th>CESAR</th>\n",
       "      <td>101</td>\n",
       "      <td>1</td>\n",
       "      <td>39.131143</td>\n",
       "      <td>18.339856</td>\n",
       "    </tr>\n",
       "    <tr>\n",
       "      <th>CHOCO</th>\n",
       "      <td>102</td>\n",
       "      <td>1</td>\n",
       "      <td>38.950910</td>\n",
       "      <td>18.231045</td>\n",
       "    </tr>\n",
       "    <tr>\n",
       "      <th>CORDOBA</th>\n",
       "      <td>112</td>\n",
       "      <td>1</td>\n",
       "      <td>43.301997</td>\n",
       "      <td>19.586001</td>\n",
       "    </tr>\n",
       "    <tr>\n",
       "      <th>CUNDINAMARCA</th>\n",
       "      <td>108</td>\n",
       "      <td>1</td>\n",
       "      <td>39.080026</td>\n",
       "      <td>17.715652</td>\n",
       "    </tr>\n",
       "    <tr>\n",
       "      <th>GUAINIA</th>\n",
       "      <td>88</td>\n",
       "      <td>1</td>\n",
       "      <td>36.205856</td>\n",
       "      <td>15.682639</td>\n",
       "    </tr>\n",
       "    <tr>\n",
       "      <th>GUAJIRA</th>\n",
       "      <td>112</td>\n",
       "      <td>1</td>\n",
       "      <td>39.635457</td>\n",
       "      <td>18.860012</td>\n",
       "    </tr>\n",
       "    <tr>\n",
       "      <th>GUAVIARE</th>\n",
       "      <td>92</td>\n",
       "      <td>1</td>\n",
       "      <td>35.492350</td>\n",
       "      <td>15.652129</td>\n",
       "    </tr>\n",
       "    <tr>\n",
       "      <th>HUILA</th>\n",
       "      <td>98</td>\n",
       "      <td>1</td>\n",
       "      <td>40.122596</td>\n",
       "      <td>17.553896</td>\n",
       "    </tr>\n",
       "    <tr>\n",
       "      <th>MAGDALENA</th>\n",
       "      <td>98</td>\n",
       "      <td>1</td>\n",
       "      <td>42.352841</td>\n",
       "      <td>20.639371</td>\n",
       "    </tr>\n",
       "    <tr>\n",
       "      <th>META</th>\n",
       "      <td>108</td>\n",
       "      <td>1</td>\n",
       "      <td>38.066904</td>\n",
       "      <td>16.345153</td>\n",
       "    </tr>\n",
       "    <tr>\n",
       "      <th>NARIÑO</th>\n",
       "      <td>106</td>\n",
       "      <td>1</td>\n",
       "      <td>40.200790</td>\n",
       "      <td>18.023897</td>\n",
       "    </tr>\n",
       "    <tr>\n",
       "      <th>NORTE SANTANDER</th>\n",
       "      <td>115</td>\n",
       "      <td>1</td>\n",
       "      <td>41.170034</td>\n",
       "      <td>17.625662</td>\n",
       "    </tr>\n",
       "    <tr>\n",
       "      <th>PUTUMAYO</th>\n",
       "      <td>103</td>\n",
       "      <td>1</td>\n",
       "      <td>38.455133</td>\n",
       "      <td>17.330064</td>\n",
       "    </tr>\n",
       "    <tr>\n",
       "      <th>QUINDIO</th>\n",
       "      <td>102</td>\n",
       "      <td>1</td>\n",
       "      <td>41.692299</td>\n",
       "      <td>18.311181</td>\n",
       "    </tr>\n",
       "    <tr>\n",
       "      <th>RISARALDA</th>\n",
       "      <td>110</td>\n",
       "      <td>1</td>\n",
       "      <td>40.553863</td>\n",
       "      <td>18.167232</td>\n",
       "    </tr>\n",
       "    <tr>\n",
       "      <th>SAN ANDRES</th>\n",
       "      <td>100</td>\n",
       "      <td>1</td>\n",
       "      <td>41.055764</td>\n",
       "      <td>17.990016</td>\n",
       "    </tr>\n",
       "    <tr>\n",
       "      <th>SANTANDER</th>\n",
       "      <td>107</td>\n",
       "      <td>1</td>\n",
       "      <td>41.881096</td>\n",
       "      <td>18.447317</td>\n",
       "    </tr>\n",
       "    <tr>\n",
       "      <th>STA MARTA D.E.</th>\n",
       "      <td>110</td>\n",
       "      <td>1</td>\n",
       "      <td>40.172243</td>\n",
       "      <td>18.318465</td>\n",
       "    </tr>\n",
       "    <tr>\n",
       "      <th>SUCRE</th>\n",
       "      <td>103</td>\n",
       "      <td>1</td>\n",
       "      <td>41.690374</td>\n",
       "      <td>19.697018</td>\n",
       "    </tr>\n",
       "    <tr>\n",
       "      <th>TOLIMA</th>\n",
       "      <td>108</td>\n",
       "      <td>1</td>\n",
       "      <td>41.222488</td>\n",
       "      <td>18.402990</td>\n",
       "    </tr>\n",
       "    <tr>\n",
       "      <th>VALLE</th>\n",
       "      <td>105</td>\n",
       "      <td>1</td>\n",
       "      <td>40.916270</td>\n",
       "      <td>18.101952</td>\n",
       "    </tr>\n",
       "    <tr>\n",
       "      <th>VAUPES</th>\n",
       "      <td>90</td>\n",
       "      <td>1</td>\n",
       "      <td>38.922066</td>\n",
       "      <td>16.248960</td>\n",
       "    </tr>\n",
       "    <tr>\n",
       "      <th>VICHADA</th>\n",
       "      <td>95</td>\n",
       "      <td>1</td>\n",
       "      <td>36.269962</td>\n",
       "      <td>16.089829</td>\n",
       "    </tr>\n",
       "  </tbody>\n",
       "</table>\n",
       "</div>"
      ],
      "text/plain": [
       "                    Edad                           \n",
       "                    amax amin       mean        std\n",
       "Nombre departamento                                \n",
       "AMAZONAS              95    1  36.364106  18.963167\n",
       "ANTIOQUIA            115    1  39.189547  17.141693\n",
       "ARAUCA                99    1  38.426060  16.648495\n",
       "ATLANTICO            104    1  39.779830  18.524425\n",
       "BARRANQUILLA         104    1  40.616042  18.393387\n",
       "BOGOTA               106    1  39.115301  18.080056\n",
       "BOLIVAR              103    1  40.126615  19.745193\n",
       "BOYACA               115    1  39.748472  18.161675\n",
       "CALDAS               123    1  41.644053  18.970618\n",
       "CAQUETA              104    1  39.257027  18.225368\n",
       "CARTAGENA            103    1  38.920920  17.673257\n",
       "CASANARE              93    1  36.467649  16.337483\n",
       "CAUCA                107    1  41.374280  18.261277\n",
       "CESAR                101    1  39.131143  18.339856\n",
       "CHOCO                102    1  38.950910  18.231045\n",
       "CORDOBA              112    1  43.301997  19.586001\n",
       "CUNDINAMARCA         108    1  39.080026  17.715652\n",
       "GUAINIA               88    1  36.205856  15.682639\n",
       "GUAJIRA              112    1  39.635457  18.860012\n",
       "GUAVIARE              92    1  35.492350  15.652129\n",
       "HUILA                 98    1  40.122596  17.553896\n",
       "MAGDALENA             98    1  42.352841  20.639371\n",
       "META                 108    1  38.066904  16.345153\n",
       "NARIÑO               106    1  40.200790  18.023897\n",
       "NORTE SANTANDER      115    1  41.170034  17.625662\n",
       "PUTUMAYO             103    1  38.455133  17.330064\n",
       "QUINDIO              102    1  41.692299  18.311181\n",
       "RISARALDA            110    1  40.553863  18.167232\n",
       "SAN ANDRES           100    1  41.055764  17.990016\n",
       "SANTANDER            107    1  41.881096  18.447317\n",
       "STA MARTA D.E.       110    1  40.172243  18.318465\n",
       "SUCRE                103    1  41.690374  19.697018\n",
       "TOLIMA               108    1  41.222488  18.402990\n",
       "VALLE                105    1  40.916270  18.101952\n",
       "VAUPES                90    1  38.922066  16.248960\n",
       "VICHADA               95    1  36.269962  16.089829"
      ]
     },
     "execution_count": 30,
     "metadata": {},
     "output_type": "execute_result"
    }
   ],
   "source": [
    "#punto 4  quiz 2\n",
    "data.groupby(by=\"Nombre departamento\").aggregate(({\"Edad\":[np.max, np.min, np.mean, np.std]}))"
   ]
  },
  {
   "cell_type": "code",
   "execution_count": null,
   "metadata": {},
   "outputs": [],
   "source": [
    "data.iloc[0:20] #iloc[filax:filay,culumnax:columnay]\n"
   ]
  },
  {
   "cell_type": "code",
   "execution_count": null,
   "metadata": {},
   "outputs": [],
   "source": [
    "data.iloc[::-1] #-1: es el último dato"
   ]
  },
  {
   "cell_type": "code",
   "execution_count": null,
   "metadata": {},
   "outputs": [],
   "source": [
    "data.iloc[:20] [[\"Nombre departamento\",\"Edad\"]]"
   ]
  },
  {
   "cell_type": "code",
   "execution_count": null,
   "metadata": {},
   "outputs": [],
   "source": [
    "#muestra aleatoria\n",
    "np.random.choice(data[\"Edad\"],1000) #un vector"
   ]
  },
  {
   "cell_type": "code",
   "execution_count": null,
   "metadata": {},
   "outputs": [],
   "source": [
    "data.sample(n=10) #para toda la base de datos"
   ]
  },
  {
   "cell_type": "code",
   "execution_count": null,
   "metadata": {},
   "outputs": [],
   "source": [
    "#mascara buleana con condición\n",
    "mask = data[\"Nombre departamento\"]==\"AMAZONAS\"\n",
    "data[mask]"
   ]
  },
  {
   "cell_type": "code",
   "execution_count": null,
   "metadata": {},
   "outputs": [],
   "source": [
    "prueba = data[(data[\"Nombre departamento\"]==\"AMAZONAS\") & (data[\"Nombre municipio\"] == \"LETICIA\")]"
   ]
  },
  {
   "cell_type": "code",
   "execution_count": null,
   "metadata": {},
   "outputs": [],
   "source": [
    "edad = pd.Series(data[\"Edad\"],dtype=\"string\")\n",
    "edad = pd.Series(edad.str.split(\",\", expand = True).get(0),dtype=\"int\")"
   ]
  },
  {
   "cell_type": "code",
   "execution_count": null,
   "metadata": {},
   "outputs": [],
   "source": [
    "edad.mean()"
   ]
  },
  {
   "cell_type": "code",
   "execution_count": null,
   "metadata": {},
   "outputs": [],
   "source": [
    "data[\"Edad\"]=edad"
   ]
  },
  {
   "cell_type": "code",
   "execution_count": null,
   "metadata": {},
   "outputs": [],
   "source": [
    "data[(data[\"Nombre departamento\"]==\"AMAZONAS\") & (data[\"Nombre municipio\"] == \"LETICIA\") & (data[\"Edad\"]> 30)]"
   ]
  },
  {
   "cell_type": "code",
   "execution_count": null,
   "metadata": {},
   "outputs": [],
   "source": [
    "pd.set_option(\"display.max_columns\", 23) #máximo de columnas visibles\n",
    "pd.set_option(\"display.max_rows\", 10) #máximo de filas visibles\n"
   ]
  },
  {
   "cell_type": "code",
   "execution_count": null,
   "metadata": {},
   "outputs": [],
   "source": [
    "data.drop(\"Edad\", axis = \"columns\") #borra columnas"
   ]
  },
  {
   "cell_type": "code",
   "execution_count": null,
   "metadata": {},
   "outputs": [],
   "source": [
    "#data.drop(\"Edad\", axis = \"columns\", inplace = True) #reescribir la base"
   ]
  },
  {
   "cell_type": "code",
   "execution_count": null,
   "metadata": {
    "scrolled": true
   },
   "outputs": [],
   "source": [
    "data.drop([5], axis = \"rows\") #borrar filas"
   ]
  },
  {
   "cell_type": "code",
   "execution_count": null,
   "metadata": {},
   "outputs": [],
   "source": [
    "#agrupar por\n",
    "#data4 = data.copy()"
   ]
  },
  {
   "cell_type": "code",
   "execution_count": null,
   "metadata": {},
   "outputs": [],
   "source": [
    "casos_bogota = data.groupby(by=\"Nombre departamento\").aggregate({\"Edad\": [np.max,np.min]})\n",
    "casos_bogota"
   ]
  },
  {
   "cell_type": "code",
   "execution_count": null,
   "metadata": {},
   "outputs": [],
   "source": [
    "casos_bogota_1 = data.groupby(by=\"Nombre departamento\").aggregate({\"Edad\": np.max, \"Código DIVIPOLA departamento\":np.min})"
   ]
  },
  {
   "cell_type": "code",
   "execution_count": null,
   "metadata": {},
   "outputs": [],
   "source": [
    "casos_bogota_1"
   ]
  },
  {
   "cell_type": "code",
   "execution_count": null,
   "metadata": {},
   "outputs": [],
   "source": [
    "data.groupby(by=\"Nombre departamento\")[\"Edad\"].count()"
   ]
  },
  {
   "cell_type": "code",
   "execution_count": null,
   "metadata": {},
   "outputs": [],
   "source": [
    "data.groupby(by=[\"Nombre departamento\"])[[\"Edad\", \"Código DIVIPOLA departamento\"]].count()\n",
    "\n",
    "#corregir los valores: \"Leve, Fallecido, Moderado y Grave\""
   ]
  },
  {
   "cell_type": "code",
   "execution_count": null,
   "metadata": {},
   "outputs": [],
   "source": [
    "data[\"Edad\"].value_counts()"
   ]
  },
  {
   "cell_type": "code",
   "execution_count": null,
   "metadata": {},
   "outputs": [],
   "source": [
    "data.isnull().sum()"
   ]
  },
  {
   "cell_type": "code",
   "execution_count": null,
   "metadata": {},
   "outputs": [],
   "source": [
    "data[\"Edad\"].drop_duplicates()"
   ]
  }
 ],
 "metadata": {
  "kernelspec": {
   "display_name": "Python 3",
   "language": "python",
   "name": "python3"
  },
  "language_info": {
   "codemirror_mode": {
    "name": "ipython",
    "version": 3
   },
   "file_extension": ".py",
   "mimetype": "text/x-python",
   "name": "python",
   "nbconvert_exporter": "python",
   "pygments_lexer": "ipython3",
   "version": "3.8.3"
  }
 },
 "nbformat": 4,
 "nbformat_minor": 4
}
