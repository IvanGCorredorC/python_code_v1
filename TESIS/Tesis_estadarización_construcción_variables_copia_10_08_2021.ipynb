{
 "cells": [
  {
   "cell_type": "code",
   "execution_count": 1,
   "metadata": {},
   "outputs": [],
   "source": [
    "import pandas as pd\n",
    "import numpy as np\n",
    "from pandas_profiling import ProfileReport\n",
    "import dtale\n"
   ]
  },
  {
   "cell_type": "markdown",
   "metadata": {},
   "source": [
    "# Seleción de variables, creación, depuración y estandarización\n",
    "\n",
    "Se busca determinar las variables necesarias para el ejercicio. Para esto se seleccionan de la base df6 aquellas que tienen que ver con 9 temáticas, a saber, indetificación, periodo, control, ubicación, representatividad, composición de la vivienda y el hogar, y las condiciones de la vivienda, sociodemográficas y socioeconómicas. Posteriormente, se crean las variables de clasificación laboral, scar, remuneraciones, calidad del empleo y educación. En este proceso se depuran y  estandarizar las variables necesarias de acuerdo con diversos procedimientos, entre ellos 'gather', fomateo correcto, remoción de tíldes y espacios, string a mínusculas. "
   ]
  },
  {
   "cell_type": "markdown",
   "metadata": {},
   "source": [
    "## Selección\n",
    "Se seleccionan las variables de acuerdo con 9 grupos, las de indetificación, periodo, control, ubicación, representatividad, composición de la vivienda y el hogar, y las condiciones de la vivienda, sociodemográficas y socioeconómicas. Además, el grupo de las condiciones socioecnómicas se divide en 3  subgrupos, educación, clasificación e historia laboral. Asimismo, estos subgrupos contemplan las caracteristicas de los ocupados, las remuneraciones, la calidad del empleo y las características de los desocupados, presentes y pasadas."
   ]
  },
  {
   "cell_type": "code",
   "execution_count": 11,
   "metadata": {},
   "outputs": [],
   "source": [
    "df7 = df6[[\n",
    " #identificador\n",
    "    'ID',\n",
    " #periodo\n",
    " 'Fecha',\n",
    " 'ola_l',\n",
    " 'hogar_l',\n",
    " 'hogar_n16_l'\n",
    " #control\n",
    " 'orden',\n",
    " 'seguimiento',\n",
    " 'encuestada_2013',\n",
    " #ubicación\n",
    " 'region',\n",
    " 'RegionLb',\n",
    " 'region_2016',\n",
    " 'id_depto',\n",
    " 'id_mpio',\n",
    " 'id_mpioU',\n",
    " #representatividad\n",
    " 'riqueza_pca',\n",
    " 'tercil2010',\n",
    " 'tercil2013',\n",
    " 'tercil2016',\n",
    " 'fhog',\n",
    " 'fhog_2010',\n",
    " 'fhog_2013',\n",
    " 'fhog_2016',\n",
    " 'fexhog',\n",
    " 'fexhog_2010',\n",
    " 'fexhog_2013',\n",
    " 'fpers',\n",
    " 'fpers_2010',\n",
    " 'fpers_2013',\n",
    " 'fpers_2016',\n",
    " 'fexpers',\n",
    " 'fexpers_2010',\n",
    " 'fexpers_2013',\n",
    " #composición\n",
    " 't_hogares',\n",
    " 't_hogar',\n",
    " 't_personas',\n",
    " #condiciones de la vivienda\n",
    " 'tipo_vivienda',\n",
    " 'material_pisos',\n",
    " 'material_paredes',\n",
    " 'sp_energia',\n",
    " 'sp_estrato',\n",
    " 'sp_gasnatural',\n",
    " 'sp_acueducto',\n",
    " 'sp_alcantarillado',\n",
    " 'sp_telefono',\n",
    " 'sp_recoleccion_basura',\n",
    " 'eliminan_basura',\n",
    " #condiciones sociodemográficas\n",
    " 'sexo',\n",
    " 'edad',\n",
    " 'edad_meses',\n",
    " 'parentesco',\n",
    " 'estado_civil',\n",
    " 'vive_conyuge',\n",
    " 'orden_conyuge',\n",
    " 'etnia',\n",
    " #condiciones socieconómicas:  \n",
    " 'estrato',\n",
    " ##educación\n",
    " 'lee_escribe',\n",
    " 'estudia',\n",
    " 'nivel_educ',\n",
    " 'grado_educ',\n",
    " 'edad_dejoestudio',\n",
    " 'nivel_educ_cursa',\n",
    " 'grado_educ_cursa',\n",
    " 'anos_superior',\n",
    " 'estudiaba_2010',\n",
    " 'nivel_educ_2010',\n",
    " 'grado_educ_2010',\n",
    " 'anos_superior_2010',\n",
    " 'est_superiores',  \n",
    " ##clasificación laboral\n",
    "     ###ocupados   \n",
    " 'actividad_ppal',\n",
    " ### desocupados\n",
    " 'diligencias4',\n",
    " 'diligencias12',\n",
    " ###características de los ocupados\n",
    " 'descripcion_ciiu',\n",
    " 'descrip_oficio',\n",
    " 'cod_oficio',\n",
    " 'edad_tenia',\n",
    " 'anos_trabaja',\n",
    " 'meses_trabaja',\n",
    " 'mes_inicio',\n",
    " 'ano_inicio', \n",
    " 'ocupacion',\n",
    " 'horas_normal',\n",
    " 'cod_oficio2',\n",
    " 'tipo_contrato',\n",
    " ### remuneraciones\n",
    "'rec_otros_pago',\n",
    " 'vr_alimentos_pago',\n",
    " 'vr_vivienda_pago',\n",
    " 'vr_educ_pago',\n",
    " 'vr_subalimentacion',\n",
    " 'vr_subtransporte',\n",
    " 'vr_subfamiliar',\n",
    " 'vr_bonos',\n",
    " 'vr_ingmen_ase',\n",
    " 'vr_salario',\n",
    " 'vr_ganancia',  \n",
    " 'meses_ganancia',\n",
    " 'rec_ninguno',\n",
    " 'pagos_adicion',\n",
    " 'ingresos',\n",
    " 'ganancia_neta',\n",
    " 'vr_salario_mes',\n",
    " 'recibio_ganancia',\n",
    "    \n",
    " ### calidad del empleo\n",
    " ####salud\n",
    " 'afiliacion',\n",
    " 'seg_medico',\n",
    " 'segsoc_salud',\n",
    " 'estaba_sss',\n",
    " 'beneficiario_sss',\n",
    " 'beneficiario_orden',\n",
    " ####pensión\n",
    " 'cotiza_fp',\n",
    " 'estaba_fp',     \n",
    " 'afiliacion_fp',\n",
    " 'vr_rec_pension',\n",
    " ####tamaño\n",
    " 'tam_empresa',\n",
    " 'n_empleados',\n",
    " 'registro_mercantil',\n",
    " ####condiciones adicionales\n",
    " 'vacaciones',\n",
    " 'prima_navidad',\n",
    " 'cesantias',\n",
    " ### características de los desocupados\n",
    " 'ofertas_empleo',\n",
    " 'ofertas_emp12',\n",
    " 'ofertas_emp1',\n",
    " 'vr_salario_ofr',\n",
    " 'razon_noacepto',\n",
    " 'disponibilidad',\n",
    " 't_bustrab_a',\n",
    " 't_bustrab_m',\n",
    " 'medio_busco',\n",
    " 't_busco_trab',\n",
    " 't_dejo_trabajar',\n",
    " 'vr_rec_arriendos',\n",
    " 'vr_rec_dividendos',\n",
    " 'salario_insf',\n",
    " 'salario_nopresta',\n",
    " 'horario_nosirve',\n",
    " 'ubica_inadecuada',\n",
    " 'noapto_trabajo',\n",
    " 'razon_personal',\n",
    " \n",
    "  ## historia laboral\n",
    " ###caracterísicas ocupados\n",
    " 'edad_primert',\n",
    " 'anos_primert',\n",
    " 'horas_normal_pt',\n",
    " 'ocupacion_pt',\n",
    " 'es_ptrabajo',\n",
    " 't_trabajo_ult',\n",
    " 'trabajo_ult3',\n",
    " 'tiempo_trab',\n",
    " ###remuneración\n",
    " 'vr_recibia_pt',\n",
    " 'rango_ingreso',\n",
    " ###salud\n",
    " 'sss_pt',\n",
    " ###pensión\n",
    " 'afiliado_fp_pt',\n",
    " 'cotizando',\n",
    " ###tamaño\n",
    " 'tamano_pt',\n",
    "  ###caracterísicas desocupados\n",
    " 'desemp_ult3',\n",
    " 'tiempo_desemp',\n",
    " 'nocotiza_ult3',\n",
    " 'tiempo_ncotiza',\n",
    " 'primer_busca'\n",
    "  ]]"
   ]
  },
  {
   "cell_type": "code",
   "execution_count": 271,
   "metadata": {
    "scrolled": true
   },
   "outputs": [],
   "source": [
    "df7= pd.read_csv('D:/maestria_ciencias_economicas_unal/tesis_scarring/base datos/ELCA_FINAL/PANEL_PET_REDUC.csv', sep = \";\", index_col=[0,1], low_memory=False)\n"
   ]
  },
  {
   "cell_type": "markdown",
   "metadata": {},
   "source": [
    "## Creación variables"
   ]
  },
  {
   "cell_type": "markdown",
   "metadata": {},
   "source": [
    "### 1. Estadarizaión e implace"
   ]
  },
  {
   "cell_type": "code",
   "execution_count": 95,
   "metadata": {},
   "outputs": [],
   "source": [
    "df7 = df7.convert_dtypes()"
   ]
  },
  {
   "cell_type": "code",
   "execution_count": 3,
   "metadata": {},
   "outputs": [
    {
     "data": {
      "text/plain": [
       "x     12517\n",
       "No     4201\n",
       "Si      793\n",
       "Name: diligencias4, dtype: int64"
      ]
     },
     "execution_count": 3,
     "metadata": {},
     "output_type": "execute_result"
    }
   ],
   "source": [
    "df7['diligencias4'] = df7['diligencias4'].str.replace(\"í\", \"i\")\n",
    "df7['diligencias4'].value_counts()"
   ]
  },
  {
   "cell_type": "code",
   "execution_count": 4,
   "metadata": {},
   "outputs": [
    {
     "data": {
      "text/plain": [
       "x     13309\n",
       "No     3833\n",
       "Si      369\n",
       "Name: diligencias12, dtype: int64"
      ]
     },
     "execution_count": 4,
     "metadata": {},
     "output_type": "execute_result"
    }
   ],
   "source": [
    "df7['diligencias12'] = df7['diligencias12'].str.replace(\"í\", \"i\")\n",
    "df7['diligencias12'].value_counts()"
   ]
  },
  {
   "cell_type": "code",
   "execution_count": 270,
   "metadata": {},
   "outputs": [],
   "source": [
    "#df7.to_csv('D:/maestria_ciencias_economicas_unal/tesis_scarring/base datos/ELCA_FINAL/PANEL_PET_REDUC.csv', sep = \";\")"
   ]
  },
  {
   "cell_type": "code",
   "execution_count": 4,
   "metadata": {},
   "outputs": [
    {
     "data": {
      "text/plain": [
       "Ninguna de las anteriores                                                           4994\n",
       "Trabajó en forma remunerada por lo menos UNA hora  en una actividad que le gener    3990\n",
       "Trabajó en forma remunerada por lo menos UNA hora  en una actividad que le gene     3867\n",
       "Trabajó en forma remunerada por lo menos una hora                                   3848\n",
       "No trabajó pero tenía un empleo o trabajo por el que recibe ingresos                 254\n",
       "Trabajó como ayudante familiar sin que le pagaran  por lo menos UNA hora             144\n",
       "Es incapacitado(a) permanente para trabajar                                          106\n",
       "No trabajó pero tenía un empleo o trabajo de por lo menos una hora                    74\n",
       "Trabajó como ayudante familiar sin remuneración por lo menos una hora                 63\n",
       "x                                                                                     56\n",
       "Trabajó  por lo menos UNA HORA y buscó  trabajo                                       46\n",
       "Es incapacitado permanente para trabajar                                              36\n",
       "Trabajó por lo menos una hora y buscó trabajo                                         24\n",
       "No informa                                                                             9\n",
       "Name: actividad_ppal, dtype: int64"
      ]
     },
     "execution_count": 4,
     "metadata": {},
     "output_type": "execute_result"
    }
   ],
   "source": [
    "df7['actividad_ppal'].value_counts()"
   ]
  },
  {
   "cell_type": "code",
   "execution_count": 20,
   "metadata": {},
   "outputs": [
    {
     "data": {
      "text/plain": [
       "mujer     10254\n",
       "hombre     7257\n",
       "Name: sexo, dtype: Int64"
      ]
     },
     "execution_count": 20,
     "metadata": {},
     "output_type": "execute_result"
    }
   ],
   "source": [
    "df7[\"sexo\"].value_counts()"
   ]
  },
  {
   "cell_type": "markdown",
   "metadata": {},
   "source": [
    "### Forma 2 clasificación laboral\n",
    "\n",
    "Se encuentran problemas con los datos nulos de las variables actividad principal, diligencias 4 y diligencias 12, por tanto se procede a reemplazarlos por una \"x\". Se verifica que los datos nulos sean cero, así como el tipo de dato de la variable sea string y que cualquier condición o categoría de la variable actividad principal arroge resultados. Posteriormente se construye una función que recibe como argumento el data frame y retorna 1,2,3 si los registros cumplen con las condiciones respectivas, de lo contrario arroja valores np.nan. Finalmente, se crea la nueva variable clasif_lab en el dataframe y se aplica sobre el dataframe la función new_colum -que recibe como argumento el dataframe- a través de la función apply."
   ]
  },
  {
   "cell_type": "code",
   "execution_count": 34,
   "metadata": {},
   "outputs": [],
   "source": [
    "#hacer esto primero, convertir datos nulos a caracter string\n",
    "df7['actividad_ppal']= df7['actividad_ppal'].replace(np.nan, \"x\") \n",
    "df7['diligencias4']= df7['diligencias4'].replace(np.nan, \"x\")\n",
    "df7['diligencias12']= df7['diligencias12'].replace(np.nan, \"x\") "
   ]
  },
  {
   "cell_type": "code",
   "execution_count": 10,
   "metadata": {},
   "outputs": [
    {
     "data": {
      "text/plain": [
       "56"
      ]
     },
     "execution_count": 10,
     "metadata": {},
     "output_type": "execute_result"
    }
   ],
   "source": [
    "df7['actividad_ppal'].str.upper().isnull().sum()"
   ]
  },
  {
   "cell_type": "code",
   "execution_count": 23,
   "metadata": {},
   "outputs": [
    {
     "data": {
      "text/plain": [
       "StringDtype"
      ]
     },
     "execution_count": 23,
     "metadata": {},
     "output_type": "execute_result"
    }
   ],
   "source": [
    "df7['diligencias12'].dtypes"
   ]
  },
  {
   "cell_type": "code",
   "execution_count": 35,
   "metadata": {},
   "outputs": [],
   "source": [
    "def new_colum(df):\n",
    "    if ((df['actividad_ppal'] == \"Trabajó en forma remunerada por lo menos UNA hora  en una actividad que le gener\") or \n",
    "       (df['actividad_ppal'] == \"Trabajó en forma remunerada por lo menos UNA hora  en una actividad que le gene\") or\n",
    "       (df['actividad_ppal'] == \"Trabajó en forma remunerada por lo menos una hora\") or\n",
    "       (df['actividad_ppal'] == \"No trabajó pero tenía un empleo o trabajo por el que recibe ingresos\") or\n",
    "       (df['actividad_ppal'] == \"Trabajó como ayudante familiar sin que le pagaran  por lo menos UNA hora\") or\n",
    "       (df['actividad_ppal'] == \"No trabajó pero tenía un empleo o trabajo de por lo menos una hora\") or\n",
    "       (df['actividad_ppal'] == \"Trabajó como ayudante familiar sin remuneración por lo menos una hora\") or\n",
    "       (df['actividad_ppal'] == \"Trabajó  por lo menos UNA HORA y buscó  trabajo\") or\n",
    "       (df['actividad_ppal'] == \"Trabajó por lo menos una hora y buscó trabajo\")):\n",
    "        categoria = 1\n",
    "    elif (((df['actividad_ppal'] == \"Ninguna de las anteriores\") and (df['diligencias4'] == \"Si\")) or \n",
    "          ((df['actividad_ppal'] == \"Ninguna de las anteriores\") and (df['diligencias12'] == \"Si\"))):\n",
    "        categoria = 2\n",
    "    elif (((df['actividad_ppal'] == \"Ninguna de las anteriores\") and (df['diligencias4'] == \"No\")) or\n",
    "          ((df['actividad_ppal'] == \"Ninguna de las anteriores\") and  (df['diligencias12'] == \"No\")) or\n",
    "          (df['actividad_ppal'] == \"Es incapacitado permanente para trabajar\") or\n",
    "          (df['actividad_ppal'] == \"Es incapacitado(a) permanente para trabajar\") or\n",
    "          (df['actividad_ppal'] == \"No informa\")):\n",
    "         categoria = 3\n",
    "    else:\n",
    "        categoria = np.nan\n",
    "    return(categoria)"
   ]
  },
  {
   "cell_type": "markdown",
   "metadata": {},
   "source": [
    "### Aplicamos la función para crear la variable clasificación laboral\n",
    "\n",
    "Se realiza la verificación del procedimiento mediante value_counts sobre la variable clasif_lab, se verfican los datos nulos y se le da el respectivo formato int. "
   ]
  },
  {
   "cell_type": "code",
   "execution_count": 44,
   "metadata": {},
   "outputs": [
    {
     "data": {
      "text/plain": [
       "1.0    12310\n",
       "3.0     3984\n",
       "2.0     1161\n",
       "Name: clasif_lab, dtype: int64"
      ]
     },
     "execution_count": 44,
     "metadata": {},
     "output_type": "execute_result"
    }
   ],
   "source": [
    "df7['clasif_lab'].value_counts()"
   ]
  },
  {
   "cell_type": "code",
   "execution_count": 37,
   "metadata": {},
   "outputs": [
    {
     "data": {
      "text/plain": [
       "56"
      ]
     },
     "execution_count": 37,
     "metadata": {},
     "output_type": "execute_result"
    }
   ],
   "source": [
    "df7['clasif_lab1'].isnull().sum()"
   ]
  },
  {
   "cell_type": "code",
   "execution_count": 24,
   "metadata": {},
   "outputs": [],
   "source": [
    "df7.to_csv('D:/maestria_ciencias_economicas_unal/tesis_scarring/base datos/ELCA_FINAL/PANEL_PET_REDUC.csv', sep = \";\")"
   ]
  },
  {
   "cell_type": "markdown",
   "metadata": {},
   "source": [
    "### scar\n",
    "Se crean seis variables scar, correspondites a los seis flujos de identificación, para lo cual primero se simula el proceso y posteriormente se aplica a la base real."
   ]
  },
  {
   "cell_type": "markdown",
   "metadata": {},
   "source": [
    "### simulación"
   ]
  },
  {
   "cell_type": "code",
   "execution_count": 99,
   "metadata": {},
   "outputs": [
    {
     "data": {
      "text/html": [
       "<div>\n",
       "<style scoped>\n",
       "    .dataframe tbody tr th:only-of-type {\n",
       "        vertical-align: middle;\n",
       "    }\n",
       "\n",
       "    .dataframe tbody tr th {\n",
       "        vertical-align: top;\n",
       "    }\n",
       "\n",
       "    .dataframe thead th {\n",
       "        text-align: right;\n",
       "    }\n",
       "</style>\n",
       "<table border=\"1\" class=\"dataframe\">\n",
       "  <thead>\n",
       "    <tr style=\"text-align: right;\">\n",
       "      <th></th>\n",
       "      <th></th>\n",
       "      <th>ID</th>\n",
       "      <th>Fecha</th>\n",
       "      <th>clasif_lab</th>\n",
       "    </tr>\n",
       "    <tr>\n",
       "      <th>fecha</th>\n",
       "      <th>persona</th>\n",
       "      <th></th>\n",
       "      <th></th>\n",
       "      <th></th>\n",
       "    </tr>\n",
       "  </thead>\n",
       "  <tbody>\n",
       "    <tr>\n",
       "      <th>2010-12-31</th>\n",
       "      <th>11</th>\n",
       "      <td>11</td>\n",
       "      <td>2010-12-31</td>\n",
       "      <td>1</td>\n",
       "    </tr>\n",
       "    <tr>\n",
       "      <th>2013-12-31</th>\n",
       "      <th>11</th>\n",
       "      <td>11</td>\n",
       "      <td>2013-12-31</td>\n",
       "      <td>2</td>\n",
       "    </tr>\n",
       "    <tr>\n",
       "      <th>2016-12-31</th>\n",
       "      <th>11</th>\n",
       "      <td>11</td>\n",
       "      <td>2016-12-31</td>\n",
       "      <td>1</td>\n",
       "    </tr>\n",
       "    <tr>\n",
       "      <th>2010-12-31</th>\n",
       "      <th>12</th>\n",
       "      <td>12</td>\n",
       "      <td>2010-12-31</td>\n",
       "      <td>1</td>\n",
       "    </tr>\n",
       "    <tr>\n",
       "      <th>2013-12-31</th>\n",
       "      <th>12</th>\n",
       "      <td>12</td>\n",
       "      <td>2013-12-31</td>\n",
       "      <td>1</td>\n",
       "    </tr>\n",
       "    <tr>\n",
       "      <th>2016-12-31</th>\n",
       "      <th>12</th>\n",
       "      <td>12</td>\n",
       "      <td>2016-12-31</td>\n",
       "      <td>3</td>\n",
       "    </tr>\n",
       "    <tr>\n",
       "      <th>2010-12-31</th>\n",
       "      <th>13</th>\n",
       "      <td>13</td>\n",
       "      <td>2010-12-31</td>\n",
       "      <td>1</td>\n",
       "    </tr>\n",
       "    <tr>\n",
       "      <th>2013-12-31</th>\n",
       "      <th>13</th>\n",
       "      <td>13</td>\n",
       "      <td>2013-12-31</td>\n",
       "      <td>2</td>\n",
       "    </tr>\n",
       "    <tr>\n",
       "      <th>2016-12-31</th>\n",
       "      <th>13</th>\n",
       "      <td>13</td>\n",
       "      <td>2016-12-31</td>\n",
       "      <td>1</td>\n",
       "    </tr>\n",
       "    <tr>\n",
       "      <th>2010-12-31</th>\n",
       "      <th>14</th>\n",
       "      <td>14</td>\n",
       "      <td>2010-12-31</td>\n",
       "      <td>1</td>\n",
       "    </tr>\n",
       "    <tr>\n",
       "      <th>2013-12-31</th>\n",
       "      <th>14</th>\n",
       "      <td>14</td>\n",
       "      <td>2013-12-31</td>\n",
       "      <td>1</td>\n",
       "    </tr>\n",
       "    <tr>\n",
       "      <th>2016-12-31</th>\n",
       "      <th>14</th>\n",
       "      <td>14</td>\n",
       "      <td>2016-12-31</td>\n",
       "      <td>1</td>\n",
       "    </tr>\n",
       "    <tr>\n",
       "      <th>2010-12-31</th>\n",
       "      <th>15</th>\n",
       "      <td>15</td>\n",
       "      <td>2010-12-31</td>\n",
       "      <td>x</td>\n",
       "    </tr>\n",
       "    <tr>\n",
       "      <th>2013-12-31</th>\n",
       "      <th>15</th>\n",
       "      <td>15</td>\n",
       "      <td>2013-12-31</td>\n",
       "      <td>x</td>\n",
       "    </tr>\n",
       "    <tr>\n",
       "      <th>2016-12-31</th>\n",
       "      <th>15</th>\n",
       "      <td>15</td>\n",
       "      <td>2016-12-31</td>\n",
       "      <td>x</td>\n",
       "    </tr>\n",
       "  </tbody>\n",
       "</table>\n",
       "</div>"
      ],
      "text/plain": [
       "                    ID       Fecha clasif_lab\n",
       "fecha      persona                           \n",
       "2010-12-31 11       11  2010-12-31          1\n",
       "2013-12-31 11       11  2013-12-31          2\n",
       "2016-12-31 11       11  2016-12-31          1\n",
       "2010-12-31 12       12  2010-12-31          1\n",
       "2013-12-31 12       12  2013-12-31          1\n",
       "2016-12-31 12       12  2016-12-31          3\n",
       "2010-12-31 13       13  2010-12-31          1\n",
       "2013-12-31 13       13  2013-12-31          2\n",
       "2016-12-31 13       13  2016-12-31          1\n",
       "2010-12-31 14       14  2010-12-31          1\n",
       "2013-12-31 14       14  2013-12-31          1\n",
       "2016-12-31 14       14  2016-12-31          1\n",
       "2010-12-31 15       15  2010-12-31          x\n",
       "2013-12-31 15       15  2013-12-31          x\n",
       "2016-12-31 15       15  2016-12-31          x"
      ]
     },
     "execution_count": 99,
     "metadata": {},
     "output_type": "execute_result"
    }
   ],
   "source": [
    "arrays = [np.array([\"2010-12-31\", \"2013-12-31\", \"2016-12-31\", \"2010-12-31\", \"2013-12-31\", \"2016-12-31\", \"2010-12-31\", \"2013-12-31\", \"2016-12-31\", \"2010-12-31\", \"2013-12-31\", \"2016-12-31\", \"2010-12-31\", \"2013-12-31\", \"2016-12-31\"]),\n",
    "np.array([11, 11, 11, 12, 12, 12, 13, 13, 13, 14, 14, 14, 15, 15, 15])]\n",
    "index = pd.MultiIndex.from_arrays(arrays, names=[\"fecha\", \"persona\"])\n",
    "simul = pd.DataFrame({\"ID\":[11, 11, 11, 12, 12, 12, 13, 13, 13, 14, 14, 14, 15, 15, 15],\"Fecha\": [\"2010-12-31\", \"2013-12-31\", \"2016-12-31\", \"2010-12-31\", \"2013-12-31\", \"2016-12-31\", \"2010-12-31\", \"2013-12-31\", \"2016-12-31\", \"2010-12-31\", \"2013-12-31\", \"2016-12-31\", \"2010-12-31\", \"2013-12-31\", \"2016-12-31\"],\n",
    "\"clasif_lab\": [1, 2, 1, 1, 1, 3, 1, 2, 1, 1, 1, 1, \"x\", \"x\", \"x\"]}, index= index)\n",
    "\n",
    "simul.head(16)"
   ]
  },
  {
   "cell_type": "code",
   "execution_count": null,
   "metadata": {},
   "outputs": [],
   "source": [
    "#simul['Fecha']=[i[0] for i in simul.index.to_list()]\n",
    "#simul['ID']=[i[1] for i in simul.index.to_list()]\n"
   ]
  },
  {
   "cell_type": "code",
   "execution_count": 100,
   "metadata": {},
   "outputs": [],
   "source": [
    "def scarfs(df):\n",
    "    if (((df[\"Fecha\"]==\"2010-12-31\") and (df[\"clasif_lab\"]== 1)) or\n",
    "    ((df[\"Fecha\"]==\"2013-12-31\") and (df[\"clasif_lab\"]== 2)) or\n",
    "    ((df[\"Fecha\"]==\"2016-12-31\") and (df[\"clasif_lab\"]== 1))):\n",
    "        categoria=1\n",
    "    elif (df[\"clasif_lab\"]== \"x\"):\n",
    "         categoria= \"x\"\n",
    "    else:\n",
    "        categoria=0\n",
    "    return(categoria)\n",
    "\n"
   ]
  },
  {
   "cell_type": "code",
   "execution_count": 102,
   "metadata": {},
   "outputs": [
    {
     "data": {
      "text/html": [
       "<div>\n",
       "<style scoped>\n",
       "    .dataframe tbody tr th:only-of-type {\n",
       "        vertical-align: middle;\n",
       "    }\n",
       "\n",
       "    .dataframe tbody tr th {\n",
       "        vertical-align: top;\n",
       "    }\n",
       "\n",
       "    .dataframe thead th {\n",
       "        text-align: right;\n",
       "    }\n",
       "</style>\n",
       "<table border=\"1\" class=\"dataframe\">\n",
       "  <thead>\n",
       "    <tr style=\"text-align: right;\">\n",
       "      <th></th>\n",
       "      <th></th>\n",
       "      <th>ID</th>\n",
       "      <th>Fecha</th>\n",
       "      <th>clasif_lab</th>\n",
       "      <th>scar</th>\n",
       "    </tr>\n",
       "    <tr>\n",
       "      <th>fecha</th>\n",
       "      <th>persona</th>\n",
       "      <th></th>\n",
       "      <th></th>\n",
       "      <th></th>\n",
       "      <th></th>\n",
       "    </tr>\n",
       "  </thead>\n",
       "  <tbody>\n",
       "    <tr>\n",
       "      <th>2010-12-31</th>\n",
       "      <th>11</th>\n",
       "      <td>11</td>\n",
       "      <td>2010-12-31</td>\n",
       "      <td>1</td>\n",
       "      <td>1</td>\n",
       "    </tr>\n",
       "    <tr>\n",
       "      <th>2013-12-31</th>\n",
       "      <th>11</th>\n",
       "      <td>11</td>\n",
       "      <td>2013-12-31</td>\n",
       "      <td>2</td>\n",
       "      <td>1</td>\n",
       "    </tr>\n",
       "    <tr>\n",
       "      <th>2016-12-31</th>\n",
       "      <th>11</th>\n",
       "      <td>11</td>\n",
       "      <td>2016-12-31</td>\n",
       "      <td>1</td>\n",
       "      <td>1</td>\n",
       "    </tr>\n",
       "    <tr>\n",
       "      <th>2010-12-31</th>\n",
       "      <th>12</th>\n",
       "      <td>12</td>\n",
       "      <td>2010-12-31</td>\n",
       "      <td>1</td>\n",
       "      <td>1</td>\n",
       "    </tr>\n",
       "    <tr>\n",
       "      <th>2013-12-31</th>\n",
       "      <th>12</th>\n",
       "      <td>12</td>\n",
       "      <td>2013-12-31</td>\n",
       "      <td>1</td>\n",
       "      <td>0</td>\n",
       "    </tr>\n",
       "    <tr>\n",
       "      <th>2016-12-31</th>\n",
       "      <th>12</th>\n",
       "      <td>12</td>\n",
       "      <td>2016-12-31</td>\n",
       "      <td>3</td>\n",
       "      <td>0</td>\n",
       "    </tr>\n",
       "    <tr>\n",
       "      <th>2010-12-31</th>\n",
       "      <th>13</th>\n",
       "      <td>13</td>\n",
       "      <td>2010-12-31</td>\n",
       "      <td>1</td>\n",
       "      <td>1</td>\n",
       "    </tr>\n",
       "    <tr>\n",
       "      <th>2013-12-31</th>\n",
       "      <th>13</th>\n",
       "      <td>13</td>\n",
       "      <td>2013-12-31</td>\n",
       "      <td>2</td>\n",
       "      <td>1</td>\n",
       "    </tr>\n",
       "    <tr>\n",
       "      <th>2016-12-31</th>\n",
       "      <th>13</th>\n",
       "      <td>13</td>\n",
       "      <td>2016-12-31</td>\n",
       "      <td>1</td>\n",
       "      <td>1</td>\n",
       "    </tr>\n",
       "    <tr>\n",
       "      <th>2010-12-31</th>\n",
       "      <th>14</th>\n",
       "      <td>14</td>\n",
       "      <td>2010-12-31</td>\n",
       "      <td>1</td>\n",
       "      <td>1</td>\n",
       "    </tr>\n",
       "    <tr>\n",
       "      <th>2013-12-31</th>\n",
       "      <th>14</th>\n",
       "      <td>14</td>\n",
       "      <td>2013-12-31</td>\n",
       "      <td>1</td>\n",
       "      <td>0</td>\n",
       "    </tr>\n",
       "    <tr>\n",
       "      <th>2016-12-31</th>\n",
       "      <th>14</th>\n",
       "      <td>14</td>\n",
       "      <td>2016-12-31</td>\n",
       "      <td>1</td>\n",
       "      <td>1</td>\n",
       "    </tr>\n",
       "    <tr>\n",
       "      <th>2010-12-31</th>\n",
       "      <th>15</th>\n",
       "      <td>15</td>\n",
       "      <td>2010-12-31</td>\n",
       "      <td>x</td>\n",
       "      <td>x</td>\n",
       "    </tr>\n",
       "    <tr>\n",
       "      <th>2013-12-31</th>\n",
       "      <th>15</th>\n",
       "      <td>15</td>\n",
       "      <td>2013-12-31</td>\n",
       "      <td>x</td>\n",
       "      <td>x</td>\n",
       "    </tr>\n",
       "    <tr>\n",
       "      <th>2016-12-31</th>\n",
       "      <th>15</th>\n",
       "      <td>15</td>\n",
       "      <td>2016-12-31</td>\n",
       "      <td>x</td>\n",
       "      <td>x</td>\n",
       "    </tr>\n",
       "  </tbody>\n",
       "</table>\n",
       "</div>"
      ],
      "text/plain": [
       "                    ID       Fecha clasif_lab scar\n",
       "fecha      persona                                \n",
       "2010-12-31 11       11  2010-12-31          1    1\n",
       "2013-12-31 11       11  2013-12-31          2    1\n",
       "2016-12-31 11       11  2016-12-31          1    1\n",
       "2010-12-31 12       12  2010-12-31          1    1\n",
       "2013-12-31 12       12  2013-12-31          1    0\n",
       "2016-12-31 12       12  2016-12-31          3    0\n",
       "2010-12-31 13       13  2010-12-31          1    1\n",
       "2013-12-31 13       13  2013-12-31          2    1\n",
       "2016-12-31 13       13  2016-12-31          1    1\n",
       "2010-12-31 14       14  2010-12-31          1    1\n",
       "2013-12-31 14       14  2013-12-31          1    0\n",
       "2016-12-31 14       14  2016-12-31          1    1\n",
       "2010-12-31 15       15  2010-12-31          x    x\n",
       "2013-12-31 15       15  2013-12-31          x    x\n",
       "2016-12-31 15       15  2016-12-31          x    x"
      ]
     },
     "execution_count": 102,
     "metadata": {},
     "output_type": "execute_result"
    }
   ],
   "source": [
    "simul['scar'] = simul.apply(scarfs, axis = 1)\n",
    "simul.head(16)\n"
   ]
  },
  {
   "cell_type": "code",
   "execution_count": 103,
   "metadata": {},
   "outputs": [
    {
     "data": {
      "text/plain": [
       "9"
      ]
     },
     "execution_count": 103,
     "metadata": {},
     "output_type": "execute_result"
    }
   ],
   "source": [
    "mask_1= simul[\"scar\"] == 1\n",
    "mask_1[mask_1==True].count()\n",
    "#solo_1 = mask_1[mask_1==True].index.to_list()"
   ]
  },
  {
   "cell_type": "code",
   "execution_count": 104,
   "metadata": {},
   "outputs": [
    {
     "data": {
      "text/html": [
       "<div>\n",
       "<style scoped>\n",
       "    .dataframe tbody tr th:only-of-type {\n",
       "        vertical-align: middle;\n",
       "    }\n",
       "\n",
       "    .dataframe tbody tr th {\n",
       "        vertical-align: top;\n",
       "    }\n",
       "\n",
       "    .dataframe thead th {\n",
       "        text-align: right;\n",
       "    }\n",
       "</style>\n",
       "<table border=\"1\" class=\"dataframe\">\n",
       "  <thead>\n",
       "    <tr style=\"text-align: right;\">\n",
       "      <th></th>\n",
       "      <th></th>\n",
       "      <th>ID</th>\n",
       "      <th>Fecha</th>\n",
       "      <th>clasif_lab</th>\n",
       "      <th>scar</th>\n",
       "    </tr>\n",
       "    <tr>\n",
       "      <th>fecha</th>\n",
       "      <th>persona</th>\n",
       "      <th></th>\n",
       "      <th></th>\n",
       "      <th></th>\n",
       "      <th></th>\n",
       "    </tr>\n",
       "  </thead>\n",
       "  <tbody>\n",
       "    <tr>\n",
       "      <th>2010-12-31</th>\n",
       "      <th>11</th>\n",
       "      <td>11</td>\n",
       "      <td>2010-12-31</td>\n",
       "      <td>1</td>\n",
       "      <td>1</td>\n",
       "    </tr>\n",
       "    <tr>\n",
       "      <th>2013-12-31</th>\n",
       "      <th>11</th>\n",
       "      <td>11</td>\n",
       "      <td>2013-12-31</td>\n",
       "      <td>2</td>\n",
       "      <td>1</td>\n",
       "    </tr>\n",
       "    <tr>\n",
       "      <th>2016-12-31</th>\n",
       "      <th>11</th>\n",
       "      <td>11</td>\n",
       "      <td>2016-12-31</td>\n",
       "      <td>1</td>\n",
       "      <td>1</td>\n",
       "    </tr>\n",
       "    <tr>\n",
       "      <th rowspan=\"2\" valign=\"top\">2010-12-31</th>\n",
       "      <th>12</th>\n",
       "      <td>12</td>\n",
       "      <td>2010-12-31</td>\n",
       "      <td>1</td>\n",
       "      <td>1</td>\n",
       "    </tr>\n",
       "    <tr>\n",
       "      <th>13</th>\n",
       "      <td>13</td>\n",
       "      <td>2010-12-31</td>\n",
       "      <td>1</td>\n",
       "      <td>1</td>\n",
       "    </tr>\n",
       "    <tr>\n",
       "      <th>2013-12-31</th>\n",
       "      <th>13</th>\n",
       "      <td>13</td>\n",
       "      <td>2013-12-31</td>\n",
       "      <td>2</td>\n",
       "      <td>1</td>\n",
       "    </tr>\n",
       "    <tr>\n",
       "      <th>2016-12-31</th>\n",
       "      <th>13</th>\n",
       "      <td>13</td>\n",
       "      <td>2016-12-31</td>\n",
       "      <td>1</td>\n",
       "      <td>1</td>\n",
       "    </tr>\n",
       "    <tr>\n",
       "      <th>2010-12-31</th>\n",
       "      <th>14</th>\n",
       "      <td>14</td>\n",
       "      <td>2010-12-31</td>\n",
       "      <td>1</td>\n",
       "      <td>1</td>\n",
       "    </tr>\n",
       "    <tr>\n",
       "      <th>2016-12-31</th>\n",
       "      <th>14</th>\n",
       "      <td>14</td>\n",
       "      <td>2016-12-31</td>\n",
       "      <td>1</td>\n",
       "      <td>1</td>\n",
       "    </tr>\n",
       "  </tbody>\n",
       "</table>\n",
       "</div>"
      ],
      "text/plain": [
       "                    ID       Fecha clasif_lab scar\n",
       "fecha      persona                                \n",
       "2010-12-31 11       11  2010-12-31          1    1\n",
       "2013-12-31 11       11  2013-12-31          2    1\n",
       "2016-12-31 11       11  2016-12-31          1    1\n",
       "2010-12-31 12       12  2010-12-31          1    1\n",
       "           13       13  2010-12-31          1    1\n",
       "2013-12-31 13       13  2013-12-31          2    1\n",
       "2016-12-31 13       13  2016-12-31          1    1\n",
       "2010-12-31 14       14  2010-12-31          1    1\n",
       "2016-12-31 14       14  2016-12-31          1    1"
      ]
     },
     "execution_count": 104,
     "metadata": {},
     "output_type": "execute_result"
    }
   ],
   "source": [
    "simul2 = simul[mask_1==True]\n",
    "simul2\n"
   ]
  },
  {
   "cell_type": "code",
   "execution_count": 107,
   "metadata": {},
   "outputs": [
    {
     "data": {
      "text/plain": [
       "2"
      ]
     },
     "execution_count": 107,
     "metadata": {},
     "output_type": "execute_result"
    }
   ],
   "source": [
    "mask_2 = simul2[\"ID\"].value_counts()==3\n",
    "mask_2[mask_2==True].count()"
   ]
  },
  {
   "cell_type": "markdown",
   "metadata": {},
   "source": [
    "\n",
    "Existe un problema al filtrar los datos, ya que existen índices que se repiten tres veces y tienen el valor 0 y 1, es por ello que se deben separar las codiciones en dos tablas, dado que en una misma no se pueden cumplir las dos condiciones al mismo tiempo. Lo anterior se ejemplifica con los datos simulados, al crear los filtros mask_1 y mask_4 sobre la misma tabla, como se muestra a continuación.\n"
   ]
  },
  {
   "cell_type": "code",
   "execution_count": 108,
   "metadata": {},
   "outputs": [],
   "source": [
    "# mask_4=simul[\"ID\"].value_counts()==3\n",
    "# simul[mask_4 & mask_1] "
   ]
  },
  {
   "cell_type": "code",
   "execution_count": 109,
   "metadata": {},
   "outputs": [],
   "source": [
    "tres_veces = mask_2[mask_2==True].index.to_list()\n",
    "\n",
    "indices_tres_veces = []\n",
    "for ix, i in enumerate(simul2['ID']): #ix recorre el indice, i recorre los valores de la variable\n",
    "    if i in tres_veces:\n",
    "        indices_tres_veces.append(ix)\n",
    "\n",
    "simul2= simul2.iloc[indices_tres_veces,:]"
   ]
  },
  {
   "cell_type": "code",
   "execution_count": 111,
   "metadata": {},
   "outputs": [],
   "source": [
    "simuls = [simul, simul2]"
   ]
  },
  {
   "cell_type": "code",
   "execution_count": 112,
   "metadata": {},
   "outputs": [
    {
     "data": {
      "text/html": [
       "<div>\n",
       "<style scoped>\n",
       "    .dataframe tbody tr th:only-of-type {\n",
       "        vertical-align: middle;\n",
       "    }\n",
       "\n",
       "    .dataframe tbody tr th {\n",
       "        vertical-align: top;\n",
       "    }\n",
       "\n",
       "    .dataframe thead th {\n",
       "        text-align: right;\n",
       "    }\n",
       "</style>\n",
       "<table border=\"1\" class=\"dataframe\">\n",
       "  <thead>\n",
       "    <tr style=\"text-align: right;\">\n",
       "      <th></th>\n",
       "      <th></th>\n",
       "      <th>ID</th>\n",
       "      <th>Fecha</th>\n",
       "      <th>clasif_lab</th>\n",
       "      <th>scar</th>\n",
       "    </tr>\n",
       "    <tr>\n",
       "      <th>fecha</th>\n",
       "      <th>persona</th>\n",
       "      <th></th>\n",
       "      <th></th>\n",
       "      <th></th>\n",
       "      <th></th>\n",
       "    </tr>\n",
       "  </thead>\n",
       "  <tbody>\n",
       "    <tr>\n",
       "      <th>2010-12-31</th>\n",
       "      <th>11</th>\n",
       "      <td>11</td>\n",
       "      <td>2010-12-31</td>\n",
       "      <td>1</td>\n",
       "      <td>1</td>\n",
       "    </tr>\n",
       "    <tr>\n",
       "      <th>2013-12-31</th>\n",
       "      <th>11</th>\n",
       "      <td>11</td>\n",
       "      <td>2013-12-31</td>\n",
       "      <td>2</td>\n",
       "      <td>1</td>\n",
       "    </tr>\n",
       "    <tr>\n",
       "      <th>2016-12-31</th>\n",
       "      <th>11</th>\n",
       "      <td>11</td>\n",
       "      <td>2016-12-31</td>\n",
       "      <td>1</td>\n",
       "      <td>1</td>\n",
       "    </tr>\n",
       "    <tr>\n",
       "      <th>2010-12-31</th>\n",
       "      <th>12</th>\n",
       "      <td>12</td>\n",
       "      <td>2010-12-31</td>\n",
       "      <td>1</td>\n",
       "      <td>1</td>\n",
       "    </tr>\n",
       "    <tr>\n",
       "      <th>2013-12-31</th>\n",
       "      <th>12</th>\n",
       "      <td>12</td>\n",
       "      <td>2013-12-31</td>\n",
       "      <td>1</td>\n",
       "      <td>0</td>\n",
       "    </tr>\n",
       "    <tr>\n",
       "      <th>2016-12-31</th>\n",
       "      <th>12</th>\n",
       "      <td>12</td>\n",
       "      <td>2016-12-31</td>\n",
       "      <td>3</td>\n",
       "      <td>0</td>\n",
       "    </tr>\n",
       "    <tr>\n",
       "      <th>2010-12-31</th>\n",
       "      <th>13</th>\n",
       "      <td>13</td>\n",
       "      <td>2010-12-31</td>\n",
       "      <td>1</td>\n",
       "      <td>1</td>\n",
       "    </tr>\n",
       "    <tr>\n",
       "      <th>2013-12-31</th>\n",
       "      <th>13</th>\n",
       "      <td>13</td>\n",
       "      <td>2013-12-31</td>\n",
       "      <td>2</td>\n",
       "      <td>1</td>\n",
       "    </tr>\n",
       "    <tr>\n",
       "      <th>2016-12-31</th>\n",
       "      <th>13</th>\n",
       "      <td>13</td>\n",
       "      <td>2016-12-31</td>\n",
       "      <td>1</td>\n",
       "      <td>1</td>\n",
       "    </tr>\n",
       "    <tr>\n",
       "      <th>2010-12-31</th>\n",
       "      <th>14</th>\n",
       "      <td>14</td>\n",
       "      <td>2010-12-31</td>\n",
       "      <td>1</td>\n",
       "      <td>1</td>\n",
       "    </tr>\n",
       "    <tr>\n",
       "      <th>2013-12-31</th>\n",
       "      <th>14</th>\n",
       "      <td>14</td>\n",
       "      <td>2013-12-31</td>\n",
       "      <td>1</td>\n",
       "      <td>0</td>\n",
       "    </tr>\n",
       "    <tr>\n",
       "      <th>2016-12-31</th>\n",
       "      <th>14</th>\n",
       "      <td>14</td>\n",
       "      <td>2016-12-31</td>\n",
       "      <td>1</td>\n",
       "      <td>1</td>\n",
       "    </tr>\n",
       "    <tr>\n",
       "      <th>2010-12-31</th>\n",
       "      <th>15</th>\n",
       "      <td>15</td>\n",
       "      <td>2010-12-31</td>\n",
       "      <td>x</td>\n",
       "      <td>x</td>\n",
       "    </tr>\n",
       "    <tr>\n",
       "      <th>2013-12-31</th>\n",
       "      <th>15</th>\n",
       "      <td>15</td>\n",
       "      <td>2013-12-31</td>\n",
       "      <td>x</td>\n",
       "      <td>x</td>\n",
       "    </tr>\n",
       "    <tr>\n",
       "      <th>2016-12-31</th>\n",
       "      <th>15</th>\n",
       "      <td>15</td>\n",
       "      <td>2016-12-31</td>\n",
       "      <td>x</td>\n",
       "      <td>x</td>\n",
       "    </tr>\n",
       "    <tr>\n",
       "      <th>2010-12-31</th>\n",
       "      <th>11</th>\n",
       "      <td>11</td>\n",
       "      <td>2010-12-31</td>\n",
       "      <td>1</td>\n",
       "      <td>1</td>\n",
       "    </tr>\n",
       "    <tr>\n",
       "      <th>2013-12-31</th>\n",
       "      <th>11</th>\n",
       "      <td>11</td>\n",
       "      <td>2013-12-31</td>\n",
       "      <td>2</td>\n",
       "      <td>1</td>\n",
       "    </tr>\n",
       "    <tr>\n",
       "      <th>2016-12-31</th>\n",
       "      <th>11</th>\n",
       "      <td>11</td>\n",
       "      <td>2016-12-31</td>\n",
       "      <td>1</td>\n",
       "      <td>1</td>\n",
       "    </tr>\n",
       "    <tr>\n",
       "      <th>2010-12-31</th>\n",
       "      <th>13</th>\n",
       "      <td>13</td>\n",
       "      <td>2010-12-31</td>\n",
       "      <td>1</td>\n",
       "      <td>1</td>\n",
       "    </tr>\n",
       "    <tr>\n",
       "      <th>2013-12-31</th>\n",
       "      <th>13</th>\n",
       "      <td>13</td>\n",
       "      <td>2013-12-31</td>\n",
       "      <td>2</td>\n",
       "      <td>1</td>\n",
       "    </tr>\n",
       "    <tr>\n",
       "      <th>2016-12-31</th>\n",
       "      <th>13</th>\n",
       "      <td>13</td>\n",
       "      <td>2016-12-31</td>\n",
       "      <td>1</td>\n",
       "      <td>1</td>\n",
       "    </tr>\n",
       "  </tbody>\n",
       "</table>\n",
       "</div>"
      ],
      "text/plain": [
       "                    ID       Fecha clasif_lab scar\n",
       "fecha      persona                                \n",
       "2010-12-31 11       11  2010-12-31          1    1\n",
       "2013-12-31 11       11  2013-12-31          2    1\n",
       "2016-12-31 11       11  2016-12-31          1    1\n",
       "2010-12-31 12       12  2010-12-31          1    1\n",
       "2013-12-31 12       12  2013-12-31          1    0\n",
       "2016-12-31 12       12  2016-12-31          3    0\n",
       "2010-12-31 13       13  2010-12-31          1    1\n",
       "2013-12-31 13       13  2013-12-31          2    1\n",
       "2016-12-31 13       13  2016-12-31          1    1\n",
       "2010-12-31 14       14  2010-12-31          1    1\n",
       "2013-12-31 14       14  2013-12-31          1    0\n",
       "2016-12-31 14       14  2016-12-31          1    1\n",
       "2010-12-31 15       15  2010-12-31          x    x\n",
       "2013-12-31 15       15  2013-12-31          x    x\n",
       "2016-12-31 15       15  2016-12-31          x    x\n",
       "2010-12-31 11       11  2010-12-31          1    1\n",
       "2013-12-31 11       11  2013-12-31          2    1\n",
       "2016-12-31 11       11  2016-12-31          1    1\n",
       "2010-12-31 13       13  2010-12-31          1    1\n",
       "2013-12-31 13       13  2013-12-31          2    1\n",
       "2016-12-31 13       13  2016-12-31          1    1"
      ]
     },
     "execution_count": 112,
     "metadata": {},
     "output_type": "execute_result"
    }
   ],
   "source": [
    "otro = pd.concat(simuls)\n",
    "otro"
   ]
  },
  {
   "cell_type": "markdown",
   "metadata": {},
   "source": [
    "### Base real"
   ]
  },
  {
   "cell_type": "code",
   "execution_count": 68,
   "metadata": {},
   "outputs": [],
   "source": [
    "df7= pd.read_csv('D:/maestria_ciencias_economicas_unal/tesis_scarring/base datos/ELCA_FINAL/PANEL_PET_REDUC.csv', sep = \";\", index_col=[0,1], low_memory=False)\n",
    "dfprueba= pd.read_csv('D:/maestria_ciencias_economicas_unal/tesis_scarring/base datos/ELCA_FINAL/PET_REDUC_Trat_ctrl.csv', sep = \";\", low_memory=False)"
   ]
  },
  {
   "cell_type": "code",
   "execution_count": 134,
   "metadata": {},
   "outputs": [],
   "source": [
    "#df7= df7.drop([\"scar\"], axis = 1)\n",
    "#df7.to_csv('D:/maestria_ciencias_economicas_unal/tesis_scarring/base datos/ELCA_FINAL/PANEL_PET_REDUC.csv', sep = \";\")"
   ]
  },
  {
   "cell_type": "markdown",
   "metadata": {},
   "source": [
    "El código anterior permite conocer el número de personas que poseen el efecto scarring (1, 2, 1), a través de la creación de un filtro y arroja como resultado un dataframe con dichas personas. A continuación se crea la función que incluye los seis caminos para identificar la población suceptible del efecto. Se aplica la función junto con los filtros y se almacenan en df8, se crean las variables scar (1) y control (0). Asimismo, se crea la función para el grupo de control que incluye dos caminos, junto con los filtros y se almacena en df9; se crean las variables scar (0) y control (1). A continuación se concatenan las 2 tablas en df10.\n",
    "\n",
    "Finalmente, se crea dos tablas de salida, una para el grupo tratamiento, con el número de personas, número de episodios de desempleo y tiempo de desempleo promedio en meses y años; y otra para el grupo de control, con el número de personas, número de episodios de empleo (si es posible), tiempo de trabajo en meses y años. \n",
    "\n",
    "Otra posibilidad es explorar la creación de funciones por cada tabla y concatenarlas, lo cual haría más extenso el código, pero permitiría realizar un pivot con todas las tablas por cada uno de los caminos. "
   ]
  },
  {
   "cell_type": "code",
   "execution_count": 46,
   "metadata": {},
   "outputs": [],
   "source": [
    "# def scarf(df):\n",
    "#     if (((df[\"Fecha\"]==\"2010-12-31\") and (df[\"clasif_lab\"]== 1)) or\n",
    "#     ((df[\"Fecha\"]==\"2013-12-31\") and (df[\"clasif_lab\"]== 2)) or\n",
    "#     ((df[\"Fecha\"]==\"2016-12-31\") and (df[\"clasif_lab\"]== 1))):\n",
    "#         categoria=1\n",
    "#     elif (((df[\"Fecha\"]==\"2010-12-31\") and (df[\"clasif_lab\"]== 1)) or\n",
    "#     ((df[\"Fecha\"]==\"2013-12-31\") and (df[\"clasif_lab\"]== 1) and (df[\"desemp_ult3\"] == \"si\")) or\n",
    "#     ((df[\"Fecha\"]==\"2016-12-31\") and (df[\"clasif_lab\"]== 1))):\n",
    "#         categoria=1\n",
    "#     elif (((df[\"Fecha\"]==\"2010-12-31\") and (df[\"clasif_lab\"]== 1)) or\n",
    "#     ((df[\"Fecha\"]==\"2013-12-31\") and (df[\"clasif_lab\"]== 1) and (df[\"desemp_ult3\"] == \"no\")) or \n",
    "#     ((df[\"Fecha\"]==\"2016-12-31\") and (df[\"clasif_lab\"]== 1) and (df[\"desemp_ult3\"] == \"si\"))):\n",
    "#         categoria=1\n",
    "#     elif (((df[\"Fecha\"]==\"2010-12-31\") and (df[\"clasif_lab\"]== 2)) or\n",
    "#     ((df[\"Fecha\"]==\"2013-12-31\") and (df[\"clasif_lab\"]== 1)) or \n",
    "#     ((df[\"Fecha\"]==\"2016-12-31\") and (df[\"clasif_lab\"]== 1) and (df[\"desemp_ult3\"] == \"si\"))):\n",
    "#         categoria=1\n",
    "#     elif (((df[\"Fecha\"]==\"2010-12-31\") and (df[\"clasif_lab\"]== 2)) or\n",
    "#     ((df[\"Fecha\"]==\"2013-12-31\") and (df[\"clasif_lab\"]== 2) and (df[\"trabajo_ult3\"] == \"si\")) or \n",
    "#     ((df[\"Fecha\"]==\"2016-12-31\") and (df[\"clasif_lab\"]== 1))):\n",
    "#         categoria=1\n",
    "#     elif (df[\"clasif_lab\"]== \"x\") or (df[\"desemp_ult3\"]== \"x\") or (df[\"trabajo_ult3\"]== \"x\"):\n",
    "#          categoria= \"x\"\n",
    "#     else:\n",
    "#         categoria=0\n",
    "#     return(categoria)"
   ]
  },
  {
   "cell_type": "code",
   "execution_count": 47,
   "metadata": {},
   "outputs": [],
   "source": [
    "# df7['scar'] = df7.apply(scarf, axis = 1)"
   ]
  },
  {
   "cell_type": "markdown",
   "metadata": {},
   "source": [
    "Al realizar el análisis con la función compuesta se observa que existen registros marcados como scarring de manera incorrecta, por ejemplo ocupados en todos los tres periodos. Esto se debe al flujo de ejecución del programa, puesto que evalua la primera condición para todos los registros, entonces cuando pasa a la segunda condición los registros ya están marcados. Por ello se decide crear una función, una variable scar, un filtro, una tabla y una variable control por cada camino, y posteriormente concatenarlas, sin que existan valores duplicados. "
   ]
  },
  {
   "cell_type": "markdown",
   "metadata": {},
   "source": [
    "#### Camino 1. scarfuno"
   ]
  },
  {
   "cell_type": "code",
   "execution_count": 20,
   "metadata": {},
   "outputs": [],
   "source": [
    "def scarfuno(df):\n",
    "    if (((df[\"Fecha\"]==\"2010-12-31\") and (df[\"clasif_lab\"]== 1)) or\n",
    "        ((df[\"Fecha\"]==\"2013-12-31\") and (df[\"clasif_lab\"]== 2)) or\n",
    "        ((df[\"Fecha\"]==\"2016-12-31\") and (df[\"clasif_lab\"]== 1))):\n",
    "        categoria= 1\n",
    "    else:\n",
    "        categoria= 0     \n",
    "    return(categoria)"
   ]
  },
  {
   "cell_type": "code",
   "execution_count": 21,
   "metadata": {},
   "outputs": [],
   "source": [
    "df7['scar_uno'] = df7.apply(scarfuno, axis = 1)"
   ]
  },
  {
   "cell_type": "code",
   "execution_count": 22,
   "metadata": {},
   "outputs": [
    {
     "data": {
      "text/plain": [
       "0    9035\n",
       "1    8476\n",
       "Name: scar_uno, dtype: int64"
      ]
     },
     "execution_count": 22,
     "metadata": {},
     "output_type": "execute_result"
    }
   ],
   "source": [
    "#celda flotante para comprobaciones\n",
    "# df7[\"clasif_lab\"].value_counts(dropna = False)\n",
    "df7[\"scar_uno\"].value_counts(dropna = False)\n",
    "#df7.head()"
   ]
  },
  {
   "cell_type": "code",
   "execution_count": 23,
   "metadata": {},
   "outputs": [
    {
     "data": {
      "text/plain": [
       "8476"
      ]
     },
     "execution_count": 23,
     "metadata": {},
     "output_type": "execute_result"
    }
   ],
   "source": [
    "msk_1_s1= df7[\"scar_uno\"] == 1\n",
    "msk_1_s1[msk_1_s1==True].count()\n"
   ]
  },
  {
   "cell_type": "code",
   "execution_count": 24,
   "metadata": {},
   "outputs": [
    {
     "data": {
      "text/plain": [
       "112"
      ]
     },
     "execution_count": 24,
     "metadata": {},
     "output_type": "execute_result"
    }
   ],
   "source": [
    "df8 = df7[msk_1_s1==True]\n",
    "msk_2_s1 = df8[\"id\"].value_counts()==3\n",
    "msk_2_s1[msk_2_s1==True].count() #112 ids cuentan con el efecto scar, aparecen 3495 personas con el efecto. "
   ]
  },
  {
   "cell_type": "code",
   "execution_count": 25,
   "metadata": {},
   "outputs": [],
   "source": [
    "trs_veces1 = msk_2_s1[msk_2_s1==True].index.to_list()\n",
    "\n",
    "indices_trs_veces1 = []\n",
    "for ix,i in enumerate(df8['id']):\n",
    "    if i in trs_veces1:\n",
    "        indices_trs_veces1.append(ix)\n",
    "\n",
    "df8 = df8.iloc[indices_trs_veces1,:] # se crea el dataframe 8 con 112 personas (camino1) suceptibles del scar."
   ]
  },
  {
   "cell_type": "code",
   "execution_count": 26,
   "metadata": {},
   "outputs": [],
   "source": [
    "df8= df8.rename(columns={\"scar_uno\":\"scar\"})"
   ]
  },
  {
   "cell_type": "code",
   "execution_count": 27,
   "metadata": {},
   "outputs": [],
   "source": [
    "df8['control'] = int(0)"
   ]
  },
  {
   "cell_type": "code",
   "execution_count": 28,
   "metadata": {},
   "outputs": [],
   "source": [
    "df8['camino'] = str(\"t_uno\")"
   ]
  },
  {
   "cell_type": "markdown",
   "metadata": {},
   "source": [
    "#### Camino 2. scarf_dos"
   ]
  },
  {
   "cell_type": "code",
   "execution_count": 29,
   "metadata": {},
   "outputs": [],
   "source": [
    "def scarf_dos(df):\n",
    "    if (((df[\"Fecha\"]==\"2010-12-31\") and (df[\"clasif_lab\"]== 1)) or\n",
    "    ((df[\"Fecha\"]==\"2013-12-31\") and (df[\"clasif_lab\"]== 1) and (df[\"desemp_ult3\"] == \"si\")) or\n",
    "    ((df[\"Fecha\"]==\"2016-12-31\") and (df[\"clasif_lab\"]!= np.nan))):\n",
    "        categoria=1\n",
    "    elif (df[\"clasif_lab\"]== np.nan) or (df[\"desemp_ult3\"]== \"x\"):\n",
    "         categoria= \"x\"\n",
    "    else:\n",
    "        categoria=0\n",
    "    return(categoria)"
   ]
  },
  {
   "cell_type": "code",
   "execution_count": 30,
   "metadata": {},
   "outputs": [],
   "source": [
    "df7['scar_dos'] = df7.apply(scarf_dos, axis = 1)"
   ]
  },
  {
   "cell_type": "code",
   "execution_count": 31,
   "metadata": {},
   "outputs": [
    {
     "data": {
      "text/plain": [
       "10840"
      ]
     },
     "execution_count": 31,
     "metadata": {},
     "output_type": "execute_result"
    }
   ],
   "source": [
    "msk_1_s2= df7[\"scar_dos\"] == 1\n",
    "msk_1_s2[msk_1_s2==True].count()\n"
   ]
  },
  {
   "cell_type": "code",
   "execution_count": 32,
   "metadata": {},
   "outputs": [
    {
     "data": {
      "text/plain": [
       "718"
      ]
     },
     "execution_count": 32,
     "metadata": {},
     "output_type": "execute_result"
    }
   ],
   "source": [
    "df9 = df7[msk_1_s2==True]\n",
    "msk_2_s2= df9[\"id\"].value_counts()==3\n",
    "msk_2_s2[msk_2_s2==True].count() # 718 persons (camino 2) suceptibles de efecto scar"
   ]
  },
  {
   "cell_type": "code",
   "execution_count": 33,
   "metadata": {},
   "outputs": [],
   "source": [
    "trs_veces2 = msk_2_s2[msk_2_s2==True].index.to_list()\n",
    "\n",
    "indices_trs_veces2 = []\n",
    "for ix,i in enumerate(df9['id']):\n",
    "    if i in trs_veces2:\n",
    "        indices_trs_veces2.append(ix)\n",
    "\n",
    "df9 = df9.iloc[indices_trs_veces2,:] # se crea el dataframe 9 con las personas que tienen efecto scar."
   ]
  },
  {
   "cell_type": "code",
   "execution_count": 34,
   "metadata": {},
   "outputs": [],
   "source": [
    "df9= df9.rename(columns={\"scar_dos\":\"scar\"})"
   ]
  },
  {
   "cell_type": "code",
   "execution_count": 35,
   "metadata": {},
   "outputs": [],
   "source": [
    "df9['control'] = int(0)\n",
    "#df9= df9.rename(columns={\"control_dos\":\"control\"})\n",
    "#df7['scar'].isnull().sum()"
   ]
  },
  {
   "cell_type": "code",
   "execution_count": 36,
   "metadata": {},
   "outputs": [],
   "source": [
    "df9['camino'] = str(\"t_dos\")"
   ]
  },
  {
   "cell_type": "code",
   "execution_count": 37,
   "metadata": {},
   "outputs": [],
   "source": [
    "#df7[df7['scar']==1].count() #& (df7['scar']==1) & (df7['scar']==1)].count()\n",
    "#df7[(df7['scar']==1) & (df7['Fecha']==\"2013-12-31\")].count()"
   ]
  },
  {
   "cell_type": "markdown",
   "metadata": {},
   "source": [
    "#### Camino 3. scarf_tres"
   ]
  },
  {
   "cell_type": "code",
   "execution_count": 38,
   "metadata": {},
   "outputs": [],
   "source": [
    "def scarf_tres(df):\n",
    "    if (((df[\"Fecha\"]==\"2010-12-31\") and (df[\"clasif_lab\"]== 1)) or\n",
    "    ((df[\"Fecha\"]==\"2013-12-31\") and (df[\"clasif_lab\"]== 1) and (df[\"desemp_ult3\"] == \"no\")) or \n",
    "    ((df[\"Fecha\"]==\"2016-12-31\") and (df[\"clasif_lab\"]== 1) and (df[\"desemp_ult3\"] == \"si\"))):\n",
    "        categoria=1         \n",
    "    elif (df[\"clasif_lab\"]== np.nan) or (df[\"desemp_ult3\"]== \"x\"):\n",
    "        categoria= \"x\"\n",
    "    else:\n",
    "        categoria=0\n",
    "    return(categoria)"
   ]
  },
  {
   "cell_type": "code",
   "execution_count": 39,
   "metadata": {},
   "outputs": [],
   "source": [
    "df7['scar_tres'] = df7.apply(scarf_tres, axis = 1)"
   ]
  },
  {
   "cell_type": "code",
   "execution_count": 40,
   "metadata": {},
   "outputs": [
    {
     "data": {
      "text/plain": [
       "7629"
      ]
     },
     "execution_count": 40,
     "metadata": {},
     "output_type": "execute_result"
    }
   ],
   "source": [
    "msk_1_s3= df7[\"scar_tres\"] == 1\n",
    "msk_1_s3[msk_1_s3==True].count()\n"
   ]
  },
  {
   "cell_type": "code",
   "execution_count": 41,
   "metadata": {},
   "outputs": [
    {
     "data": {
      "text/plain": [
       "186"
      ]
     },
     "execution_count": 41,
     "metadata": {},
     "output_type": "execute_result"
    }
   ],
   "source": [
    "df10 = df7[msk_1_s3==True]\n",
    "msk_2_s3= df10[\"id\"].value_counts()==3\n",
    "msk_2_s3[msk_2_s3==True].count() # 186 persons (camino 3) suceptibles de efecto scar"
   ]
  },
  {
   "cell_type": "code",
   "execution_count": 42,
   "metadata": {},
   "outputs": [],
   "source": [
    "trs_veces3 = msk_2_s3[msk_2_s3==True].index.to_list()\n",
    "\n",
    "indices_trs_veces3 = []\n",
    "for ix,i in enumerate(df10['id']):\n",
    "    if i in trs_veces3:\n",
    "        indices_trs_veces3.append(ix)\n",
    "\n",
    "df10 = df10.iloc[indices_trs_veces3,:] # se crea el dataframe 10 con las personas que tienen efecto scar."
   ]
  },
  {
   "cell_type": "code",
   "execution_count": 43,
   "metadata": {},
   "outputs": [],
   "source": [
    "#df9.drop(\"scar_uno\", axis = 1) #probar la combinación con las dos variables"
   ]
  },
  {
   "cell_type": "code",
   "execution_count": 44,
   "metadata": {},
   "outputs": [],
   "source": [
    "df10= df10.rename(columns={\"scar_tres\":\"scar\"})"
   ]
  },
  {
   "cell_type": "code",
   "execution_count": 45,
   "metadata": {},
   "outputs": [],
   "source": [
    "df10['control'] = int(0)\n",
    "#df10= df10.rename(columns={\"control_tres\":\"control\"})\n",
    "#df7['scar'].isnull().sum()"
   ]
  },
  {
   "cell_type": "code",
   "execution_count": 46,
   "metadata": {},
   "outputs": [],
   "source": [
    "df10['camino'] = str(\"t_tres\")"
   ]
  },
  {
   "cell_type": "markdown",
   "metadata": {},
   "source": [
    "#### Camino 4. scarf_cuatro"
   ]
  },
  {
   "cell_type": "code",
   "execution_count": 47,
   "metadata": {},
   "outputs": [],
   "source": [
    "def scarf_cuatro(df):\n",
    "    if (((df[\"Fecha\"]==\"2010-12-31\") and ((df[\"clasif_lab\"]== 2) or (df[\"clasif_lab\"]== 3))) or\n",
    "    ((df[\"Fecha\"]==\"2013-12-31\") and (df[\"clasif_lab\"]== 1)) or \n",
    "    ((df[\"Fecha\"]==\"2016-12-31\") and (df[\"clasif_lab\"]== 1) and (df[\"desemp_ult3\"] == \"si\"))):\n",
    "        categoria=1\n",
    "    elif (df[\"clasif_lab\"]== np.nan) or (df[\"desemp_ult3\"]== \"x\"):\n",
    "        categoria= \"x\"\n",
    "    else:\n",
    "        categoria=0\n",
    "    return(categoria)"
   ]
  },
  {
   "cell_type": "code",
   "execution_count": 48,
   "metadata": {},
   "outputs": [],
   "source": [
    "df7['scar_cuatro'] = df7.apply(scarf_cuatro, axis = 1)"
   ]
  },
  {
   "cell_type": "code",
   "execution_count": 49,
   "metadata": {},
   "outputs": [
    {
     "data": {
      "text/plain": [
       "6511"
      ]
     },
     "execution_count": 49,
     "metadata": {},
     "output_type": "execute_result"
    }
   ],
   "source": [
    "msk_1_s4= df7[\"scar_cuatro\"] == 1\n",
    "msk_1_s4[msk_1_s4==True].count()\n"
   ]
  },
  {
   "cell_type": "code",
   "execution_count": 50,
   "metadata": {},
   "outputs": [
    {
     "data": {
      "text/plain": [
       "100"
      ]
     },
     "execution_count": 50,
     "metadata": {},
     "output_type": "execute_result"
    }
   ],
   "source": [
    "df11 = df7[msk_1_s4==True]\n",
    "msk_2_s4= df11[\"id\"].value_counts()==3\n",
    "msk_2_s4[msk_2_s4==True].count() # 100 personas (camino 4) suceptibles de efecto scar"
   ]
  },
  {
   "cell_type": "code",
   "execution_count": 51,
   "metadata": {},
   "outputs": [],
   "source": [
    "trs_veces4 = msk_2_s4[msk_2_s4==True].index.to_list()\n",
    "\n",
    "indices_trs_veces4 = []\n",
    "for ix,i in enumerate(df11['id']):\n",
    "    if i in trs_veces4:\n",
    "        indices_trs_veces4.append(ix)\n",
    "\n",
    "df11 = df11.iloc[indices_trs_veces4,:] # se crea el dataframe 11 con las personas que tienen efecto scar."
   ]
  },
  {
   "cell_type": "code",
   "execution_count": 52,
   "metadata": {},
   "outputs": [],
   "source": [
    "df11= df11.rename(columns={\"scar_cuatro\":\"scar\"})"
   ]
  },
  {
   "cell_type": "code",
   "execution_count": 53,
   "metadata": {},
   "outputs": [],
   "source": [
    "df11['control'] = int(0)\n",
    "#df7['scar'].isnull().sum()"
   ]
  },
  {
   "cell_type": "code",
   "execution_count": 54,
   "metadata": {},
   "outputs": [],
   "source": [
    "df11['camino'] = str(\"t_cuatro\")"
   ]
  },
  {
   "cell_type": "markdown",
   "metadata": {},
   "source": [
    "#### Camino 5. scarf_cinco"
   ]
  },
  {
   "cell_type": "code",
   "execution_count": 55,
   "metadata": {},
   "outputs": [],
   "source": [
    "def scarf_cinco(df):\n",
    "    if (((df[\"Fecha\"]==\"2010-12-31\") and ((df[\"clasif_lab\"]== 2) or (df[\"clasif_lab\"]== 3))) or\n",
    "    ((df[\"Fecha\"]==\"2013-12-31\") and (df[\"clasif_lab\"]== 2) and (df[\"trabajo_ult3\"] == \"si\")) or \n",
    "    ((df[\"Fecha\"]==\"2016-12-31\") and (df[\"clasif_lab\"]== 1))):\n",
    "        categoria=1        \n",
    "    elif (df[\"clasif_lab\"]== np.nan) or (df[\"trabajo_ult3\"]== \"x\"):\n",
    "        categoria= \"x\"\n",
    "    else:\n",
    "        categoria=0\n",
    "    return(categoria)"
   ]
  },
  {
   "cell_type": "code",
   "execution_count": 56,
   "metadata": {},
   "outputs": [],
   "source": [
    "df7['scar_cinco'] = df7.apply(scarf_cinco, axis = 1)"
   ]
  },
  {
   "cell_type": "code",
   "execution_count": 57,
   "metadata": {},
   "outputs": [
    {
     "data": {
      "text/plain": [
       "6154"
      ]
     },
     "execution_count": 57,
     "metadata": {},
     "output_type": "execute_result"
    }
   ],
   "source": [
    "msk_1_s5= df7[\"scar_cinco\"] == 1\n",
    "msk_1_s5[msk_1_s5==True].count()\n"
   ]
  },
  {
   "cell_type": "code",
   "execution_count": 58,
   "metadata": {},
   "outputs": [
    {
     "data": {
      "text/plain": [
       "49"
      ]
     },
     "execution_count": 58,
     "metadata": {},
     "output_type": "execute_result"
    }
   ],
   "source": [
    "df12 = df7[msk_1_s5==True]\n",
    "msk_2_s5= df12[\"id\"].value_counts()==3\n",
    "msk_2_s5[msk_2_s5==True].count() # 49 personas (camino 5) suceptibles de efecto scars"
   ]
  },
  {
   "cell_type": "code",
   "execution_count": 59,
   "metadata": {},
   "outputs": [],
   "source": [
    "trs_veces5 = msk_2_s5[msk_2_s5==True].index.to_list()\n",
    "\n",
    "indices_trs_veces5 = []\n",
    "for ix,i in enumerate(df12['id']):\n",
    "    if i in trs_veces5:\n",
    "        indices_trs_veces5.append(ix)\n",
    "\n",
    "df12 = df12.iloc[indices_trs_veces5,:] # se crea el dataframe 12 (camino 5) con las personas que tienen efecto scar."
   ]
  },
  {
   "cell_type": "code",
   "execution_count": 60,
   "metadata": {},
   "outputs": [],
   "source": [
    "df12= df12.rename(columns={\"scar_cinco\":\"scar\"})"
   ]
  },
  {
   "cell_type": "code",
   "execution_count": 61,
   "metadata": {},
   "outputs": [],
   "source": [
    "df12['control'] = int(0)\n",
    "#df7['scar'].isnull().sum()"
   ]
  },
  {
   "cell_type": "code",
   "execution_count": 62,
   "metadata": {},
   "outputs": [],
   "source": [
    "df12['camino'] = str(\"t_cinco\")"
   ]
  },
  {
   "cell_type": "markdown",
   "metadata": {},
   "source": [
    "#### Camino 6. scarf_seis\n",
    "agregar la variable de inactividad al df7"
   ]
  },
  {
   "cell_type": "code",
   "execution_count": 63,
   "metadata": {},
   "outputs": [],
   "source": [
    "#urb_per_13 = pd.read_stata(\"D:/maestria_ciencias_economicas_unal/tesis_scarring/base datos/ELCA_2013/ELCA_2013_urbano/Upersonas_2013.dta\")\n"
   ]
  },
  {
   "cell_type": "code",
   "execution_count": 64,
   "metadata": {},
   "outputs": [],
   "source": [
    "#urb_per_13= urb_per_13.rename(columns={\"llave_ID_lb\":\"ID\"})"
   ]
  },
  {
   "cell_type": "code",
   "execution_count": 65,
   "metadata": {},
   "outputs": [],
   "source": [
    "#urb_per_13[\"Fecha\"] = '2013-12-31'"
   ]
  },
  {
   "cell_type": "code",
   "execution_count": 66,
   "metadata": {},
   "outputs": [],
   "source": [
    "#urb_per_13.head()"
   ]
  },
  {
   "cell_type": "code",
   "execution_count": 67,
   "metadata": {},
   "outputs": [],
   "source": [
    "#urb_per_13 = urb_per_13[[\"Fecha\",\"ID\",\"actividad_principal\", \"t_busco_trab\"]]"
   ]
  },
  {
   "cell_type": "code",
   "execution_count": 68,
   "metadata": {},
   "outputs": [],
   "source": [
    "# df7= pd.merge(left=df7, right=urb_per_13, left_on = [\"Fecha\",\"ID\"], \n",
    "#                    right_on= [\"Fecha\",\"ID\"], how = 'left', \n",
    "#                    sort = False, indicator = 'indicator_column', \n",
    "#                    validate = '1:m', suffixes=(\"_l\", \"_r\"))"
   ]
  },
  {
   "cell_type": "code",
   "execution_count": 69,
   "metadata": {},
   "outputs": [
    {
     "data": {
      "text/plain": [
       "(17511, 175)"
      ]
     },
     "execution_count": 69,
     "metadata": {},
     "output_type": "execute_result"
    }
   ],
   "source": [
    "df7.shape"
   ]
  },
  {
   "cell_type": "code",
   "execution_count": 70,
   "metadata": {},
   "outputs": [],
   "source": [
    "#df7.to_csv('D:/maestria_ciencias_economicas_unal/tesis_scarring/base datos/ELCA_FINAL/PANEL_PET_REDUC.csv', sep = \";\")"
   ]
  },
  {
   "cell_type": "code",
   "execution_count": 71,
   "metadata": {
    "scrolled": true
   },
   "outputs": [],
   "source": [
    "#df7[\"t_busco_trab_r\"].value_counts()"
   ]
  },
  {
   "cell_type": "code",
   "execution_count": 72,
   "metadata": {
    "scrolled": true
   },
   "outputs": [],
   "source": [
    "#df7[\"t_busco_trab_l\"].value_counts()"
   ]
  },
  {
   "cell_type": "code",
   "execution_count": 73,
   "metadata": {},
   "outputs": [],
   "source": [
    "def scarf_seis(df):\n",
    "    if (((df[\"Fecha\"]==\"2010-12-31\") and (df[\"clasif_lab\"]== 1)) or\n",
    "    ((df[\"Fecha\"]==\"2013-12-31\") and (df[\"clasif_lab\"]== 3) and (df[\"t_busco_trab_r\"] == \"Menos de 6 meses\")) or\n",
    "    ((df[\"Fecha\"]==\"2013-12-31\") and (df[\"clasif_lab\"]== 3) and (df[\"t_busco_trab_r\"] == \"Entre 7 y 11 meses\")) or\n",
    "    ((df[\"Fecha\"]==\"2013-12-31\") and (df[\"clasif_lab\"]== 3) and (df[\"t_busco_trab_r\"] == \"Entre 1 y menos de 2 años\")) or \n",
    "    ((df[\"Fecha\"]==\"2016-12-31\") and (df[\"clasif_lab\"]== 1))):\n",
    "        categoria=1        \n",
    "    elif (df[\"clasif_lab\"]== np.nan) or (df[\"t_busco_trab_r\"]== np.nan):\n",
    "        categoria= \"x\"\n",
    "    else:\n",
    "        categoria=0\n",
    "    return categoria\n"
   ]
  },
  {
   "cell_type": "code",
   "execution_count": 74,
   "metadata": {},
   "outputs": [],
   "source": [
    "df7['scar_seis'] = df7.apply(scarf_seis, axis = 1)"
   ]
  },
  {
   "cell_type": "code",
   "execution_count": 75,
   "metadata": {},
   "outputs": [
    {
     "data": {
      "text/plain": [
       "8335"
      ]
     },
     "execution_count": 75,
     "metadata": {},
     "output_type": "execute_result"
    }
   ],
   "source": [
    "msk_1_s6= df7[\"scar_seis\"] == 1\n",
    "msk_1_s6[msk_1_s6==True].count()\n"
   ]
  },
  {
   "cell_type": "code",
   "execution_count": 76,
   "metadata": {},
   "outputs": [
    {
     "data": {
      "text/plain": [
       "64"
      ]
     },
     "execution_count": 76,
     "metadata": {},
     "output_type": "execute_result"
    }
   ],
   "source": [
    "df12a = df7[msk_1_s6==True]\n",
    "msk_2_s6= df12a[\"id\"].value_counts()==3\n",
    "msk_2_s6[msk_2_s6==True].count() # 64 personas (camino 6) suceptibles de efecto scar"
   ]
  },
  {
   "cell_type": "code",
   "execution_count": 77,
   "metadata": {},
   "outputs": [],
   "source": [
    "trs_veces6 = msk_2_s6[msk_2_s6==True].index.to_list()\n",
    "\n",
    "indices_trs_veces6 = []\n",
    "for ix,i in enumerate(df12a['id']):\n",
    "    if i in trs_veces6:\n",
    "        indices_trs_veces6.append(ix)\n",
    "\n",
    "df12a = df12a.iloc[indices_trs_veces6,:] # se crea el dataframe 12a (camino 6) con las 40 personas que tienen efecto scar."
   ]
  },
  {
   "cell_type": "code",
   "execution_count": 78,
   "metadata": {},
   "outputs": [],
   "source": [
    "df12a= df12a.rename(columns={\"scar_seis\":\"scar\"})"
   ]
  },
  {
   "cell_type": "code",
   "execution_count": 79,
   "metadata": {},
   "outputs": [],
   "source": [
    "df12a['control'] = int(0)\n",
    "#df12a= df12a.rename(columns={\"control_seis\":\"control\"})\n",
    "#df7['scar'].isnull().sum()"
   ]
  },
  {
   "cell_type": "code",
   "execution_count": 80,
   "metadata": {},
   "outputs": [],
   "source": [
    "df12a['camino'] = str(\"t_seis\")"
   ]
  },
  {
   "cell_type": "markdown",
   "metadata": {},
   "source": [
    "### Grupo control camino 1\n",
    "Primero se debe crear variable de tiempo en el empleo actual a partir de la pregunta 503 del formulario, la cual admite 3 tipos de respuesta, a saber, edad de inicio, fecha de inicio o tiempo que lleva, generando 5 variables en base de datos. Entonces:\n",
    "\n",
    "1. Se lleva la opción 1 a tiempo mensual, mediante:(edad - edad_tenia )*12 \n",
    "\n",
    "2.Se lleva la opción 2 a tiempo mensual, mediante: (año_encuesta - ano_inicio)* 12 + (6 - mes_inicio)\n",
    "\n",
    "3. Se lleva la opción 2 a tiempo mensual, mediante: Dado que las variables anos_trabaja y meses_trabaja son complementarias, se lleva la primera a meses, multiplicando por 12 y posteriormente se suma con las segunda. \n",
    "\n",
    "El procedimiento anterior se realiza mediante una función.\n",
    "\n",
    "Adicionalmente, se debe pasar la variable mes_inicio a número para lo cual se cpnvertir los nombres de los meses a números. "
   ]
  },
  {
   "cell_type": "code",
   "execution_count": 81,
   "metadata": {},
   "outputs": [],
   "source": [
    "def fecha_ini(df):\n",
    "    if (df[\"Fecha\"]==\"2010-12-31\"):\n",
    "        fe = 2010\n",
    "    elif (df[\"Fecha\"]==\"2013-12-31\"):\n",
    "        fe = 2013\n",
    "    elif (df[\"Fecha\"]==\"2016-12-31\"):\n",
    "        fe = 2016\n",
    "    else:\n",
    "        fe = np.nan\n",
    "    return fe"
   ]
  },
  {
   "cell_type": "code",
   "execution_count": 82,
   "metadata": {},
   "outputs": [],
   "source": [
    "df7['ano_encuesta'] = df7.apply(fecha_ini, axis = 1)"
   ]
  },
  {
   "cell_type": "code",
   "execution_count": 154,
   "metadata": {},
   "outputs": [
    {
     "data": {
      "text/plain": [
       "0"
      ]
     },
     "execution_count": 154,
     "metadata": {},
     "output_type": "execute_result"
    }
   ],
   "source": [
    "#df7[\"edad_tenia\"][df7[\"edad_tenia\"]==99].count()"
   ]
  },
  {
   "cell_type": "code",
   "execution_count": 85,
   "metadata": {},
   "outputs": [],
   "source": [
    "def t_trab_act(df):\n",
    "    \n",
    "    if ((df[\"anos_trabaja\"] > 0) or (df[\"meses_trabaja\"] > 0)):\n",
    "        op_1 = ((df[\"anos_trabaja\"]*12) + df[\"meses_trabaja\"])\n",
    "    \n",
    "    elif (df[\"edad_tenia\"] > 0 ):\n",
    "        op_1 = ((df['edad'] - df[\"edad_tenia\"])*12) \n",
    "    \n",
    "    elif  (df[\"ano_inicio\"]>0) and (df[\"mes_inicio\"]>0):\n",
    "        op_1 = (((df['ano_encuesta'] - df['ano_inicio'])*12) + (6 - df['mes_inicio'])) \n",
    "    else:\n",
    "        op_1 = np.nan\n",
    "    return op_1"
   ]
  },
  {
   "cell_type": "code",
   "execution_count": 86,
   "metadata": {},
   "outputs": [],
   "source": [
    "df7['tiempo_empleo'] = df7.apply(t_trab_act, axis = 1)"
   ]
  },
  {
   "cell_type": "code",
   "execution_count": 153,
   "metadata": {},
   "outputs": [],
   "source": [
    "#(((df7['ano_encuesta'] - df7['ano_inicio']) *12) + (6 - df7['mes_inicio'])).value_counts().sort_values(ascending = False)"
   ]
  },
  {
   "cell_type": "code",
   "execution_count": 151,
   "metadata": {},
   "outputs": [
    {
     "data": {
      "text/plain": [
       "6351"
      ]
     },
     "execution_count": 151,
     "metadata": {},
     "output_type": "execute_result"
    }
   ],
   "source": [
    "#df7[\"tiempo_empleo\"][df7[\"tiempo_empleo\"] < 36].count()"
   ]
  },
  {
   "cell_type": "code",
   "execution_count": 145,
   "metadata": {},
   "outputs": [],
   "source": [
    "#df7.boxplot(column=[\"edad_tenia\", \"meses_trabaja\", \"anos_trabaja\"], by = \"sexo\", layout = (2,2))\n",
    "#df7.boxplot(column=[\"edad_tenia\", \"meses_trabaja\", \"anos_trabaja\"])\n",
    "#df7.boxplot(column=[\"Tiempo_trab_act\"])"
   ]
  },
  {
   "cell_type": "markdown",
   "metadata": {},
   "source": [
    "\n",
    "debido a que al pegar el dataframe no se indexó por fecha, el indice automaticamente paso a ser el id, por tanto se toma el indice \"ID\" y se replica como variable \"ID\" en el dataframe."
   ]
  },
  {
   "cell_type": "code",
   "execution_count": 146,
   "metadata": {},
   "outputs": [],
   "source": [
    "#dfindex = dfindex.reset_index()\n",
    "#df7['id']=[i[1] for i in df7.index.to_list()]"
   ]
  },
  {
   "cell_type": "markdown",
   "metadata": {},
   "source": [
    "Se contruye la función de condiciones"
   ]
  },
  {
   "cell_type": "code",
   "execution_count": 91,
   "metadata": {},
   "outputs": [],
   "source": [
    "def controlf_uno(df):\n",
    "    if (((df[\"Fecha\"]==\"2010-12-31\") and (df[\"clasif_lab\"]== 1)) or\n",
    "    ((df[\"Fecha\"]==\"2013-12-31\") and (df[\"clasif_lab\"]== 1)  and (df[\"tiempo_empleo\"] < 36)\n",
    "    and (df[\"desemp_ult3\"] != \"si\")) or \n",
    "    ((df[\"Fecha\"]==\"2016-12-31\") and (df[\"clasif_lab\"]== 1) and (df[\"tiempo_empleo\"] < 36) and (df[\"desemp_ult3\"] != \"si\"))): #\n",
    "        categoria=1      \n",
    "    elif (df[\"clasif_lab\"]== np.nan) or (df[\"desemp_ult3\"]== \"x\") or (df[\"tiempo_empleo\"]== np.nan):\n",
    "        categoria= \"x\"\n",
    "    else:\n",
    "        categoria=0\n",
    "    return(categoria)"
   ]
  },
  {
   "cell_type": "code",
   "execution_count": 92,
   "metadata": {},
   "outputs": [],
   "source": [
    "df7['control_uno'] = df7.apply(controlf_uno, axis = 1)"
   ]
  },
  {
   "cell_type": "code",
   "execution_count": 93,
   "metadata": {},
   "outputs": [
    {
     "data": {
      "text/plain": [
       "8026"
      ]
     },
     "execution_count": 93,
     "metadata": {},
     "output_type": "execute_result"
    }
   ],
   "source": [
    "msk_1_c1= df7[\"control_uno\"] == 1\n",
    "msk_1_c1[msk_1_c1==True].count()\n"
   ]
  },
  {
   "cell_type": "code",
   "execution_count": 94,
   "metadata": {},
   "outputs": [
    {
     "data": {
      "text/plain": [
       "797"
      ]
     },
     "execution_count": 94,
     "metadata": {},
     "output_type": "execute_result"
    }
   ],
   "source": [
    "df13 = df7[msk_1_c1==True]\n",
    "msk_2_c1= df13[\"id\"].value_counts()==3\n",
    "msk_2_c1[msk_2_c1==True].count() # 797 personas (camino 1) grupo de control.\n"
   ]
  },
  {
   "cell_type": "code",
   "execution_count": 95,
   "metadata": {},
   "outputs": [],
   "source": [
    "trs_veces_c1 = msk_2_c1[msk_2_c1==True].index.to_list()\n",
    "\n",
    "indices_trs_veces_c1 = []\n",
    "for ix,i in enumerate(df13['id']):\n",
    "    if i in trs_veces_c1:\n",
    "        indices_trs_veces_c1.append(ix)\n",
    "\n",
    "df13 = df13.iloc[indices_trs_veces_c1,:] # se crea el dataframe 13 (camino 1) con las personas de control."
   ]
  },
  {
   "cell_type": "code",
   "execution_count": 96,
   "metadata": {},
   "outputs": [],
   "source": [
    "df13= df13.rename(columns={\"control_uno\":\"control\"})"
   ]
  },
  {
   "cell_type": "code",
   "execution_count": 97,
   "metadata": {},
   "outputs": [],
   "source": [
    "df13['scar'] = int(0)\n",
    "#df7['scar'].isnull().sum()"
   ]
  },
  {
   "cell_type": "code",
   "execution_count": 98,
   "metadata": {},
   "outputs": [],
   "source": [
    "df13['camino'] = str(\"c_uno\")"
   ]
  },
  {
   "cell_type": "markdown",
   "metadata": {},
   "source": [
    "### Grupo control camino 2"
   ]
  },
  {
   "cell_type": "code",
   "execution_count": 99,
   "metadata": {},
   "outputs": [],
   "source": [
    "def controlf_dos(df):\n",
    "    if (((df[\"Fecha\"]==\"2010-12-31\") and (df[\"clasif_lab\"]== 2)) or\n",
    "    ((df[\"Fecha\"]==\"2013-12-31\") and (df[\"clasif_lab\"]== 1) and (df[\"desemp_ult3\"] != \"si\")) or \n",
    "    ((df[\"Fecha\"]==\"2016-12-31\") and (df[\"clasif_lab\"]== 1) and (df[\"tiempo_empleo\"] < 36)\n",
    "    and (df[\"desemp_ult3\"] != \"si\"))):\n",
    "        categoria=1        \n",
    "    elif (df[\"clasif_lab\"]== np.nan) or (df[\"desemp_ult3\"]== \"x\") or (df[\"tiempo_empleo\"]== np.nan):\n",
    "        categoria= \"x\"\n",
    "    else:\n",
    "        categoria=0\n",
    "    return(categoria)"
   ]
  },
  {
   "cell_type": "code",
   "execution_count": 100,
   "metadata": {},
   "outputs": [],
   "source": [
    "df7['control_dos'] = df7.apply(controlf_dos, axis = 1)"
   ]
  },
  {
   "cell_type": "code",
   "execution_count": 101,
   "metadata": {},
   "outputs": [
    {
     "data": {
      "text/plain": [
       "5847"
      ]
     },
     "execution_count": 101,
     "metadata": {},
     "output_type": "execute_result"
    }
   ],
   "source": [
    "msk_1_c2= df7[\"control_dos\"] == 1\n",
    "msk_1_c2[msk_1_c2==True].count()\n"
   ]
  },
  {
   "cell_type": "code",
   "execution_count": 102,
   "metadata": {},
   "outputs": [
    {
     "data": {
      "text/plain": [
       "48"
      ]
     },
     "execution_count": 102,
     "metadata": {},
     "output_type": "execute_result"
    }
   ],
   "source": [
    "df14 = df7[msk_1_c2==True]\n",
    "msk_2_c2= df14[\"id\"].value_counts()==3\n",
    "msk_2_c2[msk_2_c2==True].count() # 17 personas (camino 2) grupo de control"
   ]
  },
  {
   "cell_type": "code",
   "execution_count": 103,
   "metadata": {},
   "outputs": [],
   "source": [
    "trs_veces_c2 = msk_2_c2[msk_2_c2==True].index.to_list()\n",
    "\n",
    "indices_trs_veces_c2 = []\n",
    "for ix,i in enumerate(df14['id']):\n",
    "    if i in trs_veces_c2:\n",
    "        indices_trs_veces_c2.append(ix)\n",
    "\n",
    "df14 = df14.iloc[indices_trs_veces_c2,:] # se crea el dataframe 14 (camino 2) con las personas de control."
   ]
  },
  {
   "cell_type": "code",
   "execution_count": 104,
   "metadata": {},
   "outputs": [],
   "source": [
    "df14= df14.rename(columns={\"control_dos\":\"control\"})"
   ]
  },
  {
   "cell_type": "code",
   "execution_count": 105,
   "metadata": {},
   "outputs": [],
   "source": [
    "df14['scar'] = int(0)\n",
    "#df7['scar'].isnull().sum()"
   ]
  },
  {
   "cell_type": "code",
   "execution_count": 106,
   "metadata": {},
   "outputs": [],
   "source": [
    "df14['camino'] = str(\"c_dos\")"
   ]
  },
  {
   "cell_type": "code",
   "execution_count": 107,
   "metadata": {},
   "outputs": [],
   "source": [
    "#df7.to_csv('D:/maestria_ciencias_economicas_unal/tesis_scarring/base datos/ELCA_FINAL/PANEL_PET_REDUC.csv', sep = \";\")"
   ]
  },
  {
   "cell_type": "markdown",
   "metadata": {},
   "source": [
    "### Grupo control camino 3"
   ]
  },
  {
   "cell_type": "code",
   "execution_count": 108,
   "metadata": {},
   "outputs": [],
   "source": [
    "def controlf_tres(df):\n",
    "    if (((df[\"Fecha\"]==\"2010-12-31\") and (df[\"clasif_lab\"]== 3)) or\n",
    "    ((df[\"Fecha\"]==\"2013-12-31\") and (df[\"clasif_lab\"]== 1) and (df[\"desemp_ult3\"] != \"si\")) or \n",
    "    ((df[\"Fecha\"]==\"2016-12-31\") and (df[\"clasif_lab\"]== 1) and (df[\"tiempo_empleo\"] < 36)\n",
    "    and (df[\"desemp_ult3\"] != \"si\"))):\n",
    "        categoria=1        \n",
    "    elif (df[\"clasif_lab\"]== np.nan) or (df[\"desemp_ult3\"]== \"x\") or (df[\"tiempo_empleo\"]== np.nan):\n",
    "        categoria= \"x\"\n",
    "    else:\n",
    "        categoria=0\n",
    "    return(categoria)"
   ]
  },
  {
   "cell_type": "code",
   "execution_count": 109,
   "metadata": {},
   "outputs": [],
   "source": [
    "df7['control_tres'] = df7.apply(controlf_tres, axis = 1)"
   ]
  },
  {
   "cell_type": "code",
   "execution_count": 110,
   "metadata": {},
   "outputs": [
    {
     "data": {
      "text/plain": [
       "6563"
      ]
     },
     "execution_count": 110,
     "metadata": {},
     "output_type": "execute_result"
    }
   ],
   "source": [
    "msk_1_c3= df7[\"control_tres\"] == 1\n",
    "msk_1_c3[msk_1_c3==True].count()\n"
   ]
  },
  {
   "cell_type": "code",
   "execution_count": 111,
   "metadata": {},
   "outputs": [
    {
     "data": {
      "text/plain": [
       "104"
      ]
     },
     "execution_count": 111,
     "metadata": {},
     "output_type": "execute_result"
    }
   ],
   "source": [
    "df15 = df7[msk_1_c3==True]\n",
    "msk_2_c3= df15[\"id\"].value_counts()==3\n",
    "msk_2_c3[msk_2_c3==True].count() # 23 personas (camino 3) grupo de control"
   ]
  },
  {
   "cell_type": "code",
   "execution_count": 112,
   "metadata": {},
   "outputs": [],
   "source": [
    "trs_veces_c3 = msk_2_c3[msk_2_c3==True].index.to_list()\n",
    "\n",
    "indices_trs_veces_c3 = []\n",
    "for ix,i in enumerate(df15['id']):\n",
    "    if i in trs_veces_c3:\n",
    "        indices_trs_veces_c3.append(ix)\n",
    "\n",
    "df15 = df15.iloc[indices_trs_veces_c3,:] # se crea el dataframe 14 (camino 3) con las personas de control."
   ]
  },
  {
   "cell_type": "code",
   "execution_count": 113,
   "metadata": {},
   "outputs": [],
   "source": [
    "df15= df15.rename(columns={\"control_tres\":\"control\"})"
   ]
  },
  {
   "cell_type": "code",
   "execution_count": 114,
   "metadata": {},
   "outputs": [],
   "source": [
    "df15['scar'] = int(0)\n",
    "#df7['scar'].isnull().sum()"
   ]
  },
  {
   "cell_type": "code",
   "execution_count": 115,
   "metadata": {},
   "outputs": [],
   "source": [
    "df15['camino'] = str(\"c_tres\")"
   ]
  },
  {
   "cell_type": "code",
   "execution_count": 116,
   "metadata": {},
   "outputs": [],
   "source": [
    "#df7[\"t_busco_trab_r\"].value_counts()"
   ]
  },
  {
   "cell_type": "markdown",
   "metadata": {},
   "source": [
    "### Grupo control camino 4"
   ]
  },
  {
   "cell_type": "code",
   "execution_count": 117,
   "metadata": {},
   "outputs": [],
   "source": [
    "def controlf_cuatro(df):\n",
    "    if (((df[\"Fecha\"]==\"2010-12-31\") and (df[\"clasif_lab\"]== 1)) or\n",
    "    ((df[\"Fecha\"]==\"2013-12-31\") and (df[\"clasif_lab\"]== 3) and (df[\"t_busco_trab_r\"] == \"Hace más de 5 años\")) or \n",
    "    ((df[\"Fecha\"]==\"2013-12-31\") and (df[\"clasif_lab\"]== 3) and (df[\"t_busco_trab_r\"] == \"Nunca ha buscado trabajo\")) or\n",
    "    ((df[\"Fecha\"]==\"2016-12-31\") and (df[\"clasif_lab\"]== 1) and (df[\"desemp_ult3\"] != \"si\"))):\n",
    "        categoria=1        \n",
    "    elif (df[\"clasif_lab\"]== np.nan) or (df[\"desemp_ult3\"]== \"x\") or (df[\"t_busco_trab_r\"]== np.nan):\n",
    "        categoria= \"x\"\n",
    "    else:\n",
    "        categoria=0\n",
    "    return(categoria)\n"
   ]
  },
  {
   "cell_type": "code",
   "execution_count": 118,
   "metadata": {},
   "outputs": [],
   "source": [
    "df7['control_cuatro'] = df7.apply(controlf_cuatro, axis = 1)"
   ]
  },
  {
   "cell_type": "code",
   "execution_count": 119,
   "metadata": {},
   "outputs": [
    {
     "data": {
      "text/plain": [
       "8557"
      ]
     },
     "execution_count": 119,
     "metadata": {},
     "output_type": "execute_result"
    }
   ],
   "source": [
    "msk_1_c4= df7[\"control_cuatro\"] == 1\n",
    "msk_1_c4[msk_1_c4==True].count()\n"
   ]
  },
  {
   "cell_type": "code",
   "execution_count": 120,
   "metadata": {},
   "outputs": [
    {
     "data": {
      "text/plain": [
       "62"
      ]
     },
     "execution_count": 120,
     "metadata": {},
     "output_type": "execute_result"
    }
   ],
   "source": [
    "df16 = df7[msk_1_c4==True]\n",
    "msk_2_c4= df16[\"id\"].value_counts()==3\n",
    "msk_2_c4[msk_2_c4==True].count() # 15 personas (camino 4) grupo de control"
   ]
  },
  {
   "cell_type": "code",
   "execution_count": 121,
   "metadata": {},
   "outputs": [],
   "source": [
    "trs_veces_c4 = msk_2_c4[msk_2_c4==True].index.to_list()\n",
    "\n",
    "indices_trs_veces_c4 = []\n",
    "for ix,i in enumerate(df16['id']):\n",
    "    if i in trs_veces_c4:\n",
    "        indices_trs_veces_c4.append(ix)\n",
    "\n",
    "df16 = df16.iloc[indices_trs_veces_c4,:] # se crea el dataframe 15 (camino 4) con las personas de control."
   ]
  },
  {
   "cell_type": "code",
   "execution_count": 122,
   "metadata": {},
   "outputs": [],
   "source": [
    "df16= df16.rename(columns={\"control_cuatro\":\"control\"})"
   ]
  },
  {
   "cell_type": "code",
   "execution_count": 123,
   "metadata": {},
   "outputs": [],
   "source": [
    "df16['scar'] = int(0)\n",
    "#df7['scar'].isnull().sum()"
   ]
  },
  {
   "cell_type": "code",
   "execution_count": 124,
   "metadata": {},
   "outputs": [],
   "source": [
    "df16['camino'] = str(\"c_cuatro\")"
   ]
  },
  {
   "cell_type": "markdown",
   "metadata": {},
   "source": [
    "### Grupo control camino 5"
   ]
  },
  {
   "cell_type": "code",
   "execution_count": 125,
   "metadata": {},
   "outputs": [],
   "source": [
    "def controlf_cinco(df):\n",
    "    if (((df[\"Fecha\"]==\"2010-12-31\") and (df[\"clasif_lab\"]== 1)) or\n",
    "    ((df[\"Fecha\"]==\"2013-12-31\") and (df[\"clasif_lab\"]== 1) and (df[\"tiempo_empleo\"] < 36) and (df[\"desemp_ult3\"] != \"si\")) or \n",
    "    ((df[\"Fecha\"]==\"2016-12-31\") and (df[\"clasif_lab\"]== 2) and (df[\"desemp_ult3\"] != \"si\"))):\n",
    "        categoria=1      \n",
    "    elif (df[\"clasif_lab\"]== np.nan) or (df[\"desemp_ult3\"]== \"x\") or (df[\"tiempo_empleo\"]== np.nan):\n",
    "        categoria= \"x\"\n",
    "    else:\n",
    "        categoria=0\n",
    "    return(categoria)"
   ]
  },
  {
   "cell_type": "code",
   "execution_count": 126,
   "metadata": {},
   "outputs": [],
   "source": [
    "df7['control_cinco'] = df7.apply(controlf_cinco, axis = 1)"
   ]
  },
  {
   "cell_type": "code",
   "execution_count": 127,
   "metadata": {},
   "outputs": [
    {
     "data": {
      "text/plain": [
       "6005"
      ]
     },
     "execution_count": 127,
     "metadata": {},
     "output_type": "execute_result"
    }
   ],
   "source": [
    "msk_1_c5= df7[\"control_cinco\"] == 1\n",
    "msk_1_c5[msk_1_c5==True].count()\n"
   ]
  },
  {
   "cell_type": "code",
   "execution_count": 128,
   "metadata": {},
   "outputs": [
    {
     "data": {
      "text/plain": [
       "15"
      ]
     },
     "execution_count": 128,
     "metadata": {},
     "output_type": "execute_result"
    }
   ],
   "source": [
    "df17 = df7[msk_1_c5==True]\n",
    "msk_2_c5= df17[\"id\"].value_counts()==3\n",
    "msk_2_c5[msk_2_c5==True].count() # 32 personas (camino 5) grupo de control"
   ]
  },
  {
   "cell_type": "code",
   "execution_count": 129,
   "metadata": {},
   "outputs": [],
   "source": [
    "trs_veces_c5 = msk_2_c5[msk_2_c5==True].index.to_list()\n",
    "\n",
    "indices_trs_veces_c5 = []\n",
    "for ix,i in enumerate(df17['id']):\n",
    "    if i in trs_veces_c5:\n",
    "        indices_trs_veces_c5.append(ix)\n",
    "\n",
    "df17 = df17.iloc[indices_trs_veces_c5,:] # se crea el dataframe 17 (camino 5) con las personas de control."
   ]
  },
  {
   "cell_type": "code",
   "execution_count": 130,
   "metadata": {},
   "outputs": [],
   "source": [
    "df17= df17.rename(columns={\"control_cinco\":\"control\"})"
   ]
  },
  {
   "cell_type": "code",
   "execution_count": 131,
   "metadata": {},
   "outputs": [],
   "source": [
    "df17['scar'] = int(0)\n",
    "#df7['scar'].isnull().sum()"
   ]
  },
  {
   "cell_type": "code",
   "execution_count": 132,
   "metadata": {},
   "outputs": [],
   "source": [
    "df17['camino'] = str(\"c_cinco\")"
   ]
  },
  {
   "cell_type": "markdown",
   "metadata": {},
   "source": [
    "### Grupo control camino 6"
   ]
  },
  {
   "cell_type": "code",
   "execution_count": 133,
   "metadata": {},
   "outputs": [],
   "source": [
    "def controlf_seis(df):\n",
    "    if (((df[\"Fecha\"]==\"2010-12-31\") and (df[\"clasif_lab\"]== 1)) or\n",
    "    ((df[\"Fecha\"]==\"2013-12-31\") and (df[\"clasif_lab\"]== 1) and (df[\"tiempo_empleo\"] < 36) and (df[\"desemp_ult3\"] != \"si\")) or \n",
    "    ((df[\"Fecha\"]==\"2016-12-31\") and (df[\"clasif_lab\"]== 3) and (df[\"t_busco_trab_l\"] == \"Hace más de 5 años\")) or \n",
    "    ((df[\"Fecha\"]==\"2016-12-31\") and (df[\"clasif_lab\"]== 3) and (df[\"t_busco_trab_l\"] == \"Nunca ha buscado trabajo\"))):\n",
    "        categoria=1      \n",
    "    elif (df[\"clasif_lab\"]== np.nan) or (df[\"desemp_ult3\"]== \"x\") or (df[\"tiempo_empleo\"]== np.nan) or (df[\"t_busco_trab_l\"]== np.nan):\n",
    "        categoria= \"x\"\n",
    "    else:\n",
    "        categoria=0\n",
    "    return(categoria)"
   ]
  },
  {
   "cell_type": "code",
   "execution_count": 134,
   "metadata": {},
   "outputs": [],
   "source": [
    "df7['control_seis'] = df7.apply(controlf_seis, axis = 1)"
   ]
  },
  {
   "cell_type": "code",
   "execution_count": 135,
   "metadata": {},
   "outputs": [
    {
     "data": {
      "text/plain": [
       "6269"
      ]
     },
     "execution_count": 135,
     "metadata": {},
     "output_type": "execute_result"
    }
   ],
   "source": [
    "msk_1_c6= df7[\"control_seis\"] == 1\n",
    "msk_1_c6[msk_1_c6==True].count()\n"
   ]
  },
  {
   "cell_type": "code",
   "execution_count": 136,
   "metadata": {},
   "outputs": [
    {
     "data": {
      "text/plain": [
       "18"
      ]
     },
     "execution_count": 136,
     "metadata": {},
     "output_type": "execute_result"
    }
   ],
   "source": [
    "df18 = df7[msk_1_c6==True]\n",
    "msk_2_c6= df18[\"id\"].value_counts()==3\n",
    "msk_2_c6[msk_2_c6==True].count() # 32 personas (camino 6) grupo de control"
   ]
  },
  {
   "cell_type": "code",
   "execution_count": 137,
   "metadata": {},
   "outputs": [],
   "source": [
    "trs_veces_c6 = msk_2_c6[msk_2_c6==True].index.to_list()\n",
    "\n",
    "indices_trs_veces_c6 = []\n",
    "for ix,i in enumerate(df18['id']):\n",
    "    if i in trs_veces_c6:\n",
    "        indices_trs_veces_c6.append(ix)\n",
    "\n",
    "df18 = df18.iloc[indices_trs_veces_c6,:] # se crea el dataframe 18 (camino 6) con las personas de control."
   ]
  },
  {
   "cell_type": "code",
   "execution_count": 138,
   "metadata": {},
   "outputs": [],
   "source": [
    "df18= df18.rename(columns={\"control_seis\":\"control\"})"
   ]
  },
  {
   "cell_type": "code",
   "execution_count": 139,
   "metadata": {},
   "outputs": [],
   "source": [
    "df18['scar'] = int(0)\n",
    "#df7['scar'].isnull().sum()"
   ]
  },
  {
   "cell_type": "code",
   "execution_count": 140,
   "metadata": {},
   "outputs": [],
   "source": [
    "df18['camino'] = str(\"c_seis\")"
   ]
  },
  {
   "cell_type": "code",
   "execution_count": 141,
   "metadata": {},
   "outputs": [],
   "source": [
    "#df7.to_csv('D:/maestria_ciencias_economicas_unal/tesis_scarring/base datos/ELCA_FINAL/PANEL_PET_REDUC.csv', sep = \";\")\n"
   ]
  },
  {
   "cell_type": "markdown",
   "metadata": {},
   "source": [
    "## Formateo de variables"
   ]
  },
  {
   "cell_type": "markdown",
   "metadata": {},
   "source": [
    "#### 1. variables a número o string"
   ]
  },
  {
   "cell_type": "code",
   "execution_count": 253,
   "metadata": {},
   "outputs": [
    {
     "data": {
      "text/plain": [
       "str"
      ]
     },
     "execution_count": 253,
     "metadata": {},
     "output_type": "execute_result"
    }
   ],
   "source": [
    "#clasificación laboral\n",
    "#df7['clasif_lab']=pd.to_numeric(df7['clasif_lab'])\n",
    "#df7['scar_uno']=pd.to_numeric(df7['scar_uno'])"
   ]
  },
  {
   "cell_type": "code",
   "execution_count": 29,
   "metadata": {},
   "outputs": [],
   "source": [
    "#vr_Salario\n",
    "# df7['vr_salario'] = pd.Series(df7['vr_salario'], dtype = \"string\").str.replace('No recibió', '-1')\n",
    "# df7['vr_salario'] = pd.Series(df7['vr_salario'], dtype = \"string\").str.replace('No informa', '-1')\n",
    "# df7['vr_salario'] = pd.Series(df7['vr_salario'], dtype = \"string\").str.replace('No sabe', '-1')\n",
    "# df7['vr_salario'] = pd.Series(df7['vr_salario']).replace(\"-1\", np.nan)\n",
    "#df7['vr_salario']= pd.Series(df7['vr_salario'], dtype = \"string\").str.split('.', expand = True).get(0)\n",
    "#df7['vr_salario']=pd.to_numeric(df7['vr_salario'])\n",
    "#df7[df7['vr_salario']== \"No informa\"].head()\n",
    "#df7['mes_inicio'] = pd.Series(df7['mes_inicio'], dtype = \"int\").replace(np.nan, 0)\n",
    "# df7['ano_inicio'] = pd.Series(df7['ano_inicio'], dtype = \"int\").replace(np.nan, 0)\n",
    "# df7['ano_inicio'] = pd.Series(df7['ano_inicio'], dtype = \"int\").replace(9998, 0)\n",
    "# df7['ano_inicio'] = pd.Series(df7['ano_inicio'], dtype = \"int\").replace(9999, 0)\n",
    "#df7['edad_tenia'] = pd.Series(df7['edad_tenia'], dtype = \"int\").replace(99, np.nan) "
   ]
  },
  {
   "cell_type": "code",
   "execution_count": 121,
   "metadata": {},
   "outputs": [],
   "source": [
    "##mes inicio, en el marco del proceso de creación de la variable tiempo de empleo\n",
    "\n",
    "# mapping = [ ('Enero', '1'), ('Febrero', '2'), ('Marzo', '3'), ('Abril', '4'), ('Mayo', '5'), \n",
    "#            ('Junio', '6'), ('Julio', '7'), ('Agosto', '8'), ('Septiembre', '9'), \n",
    "#            ('Octubre', '10'), ('Noviembre', '11'), ('Diciembre', '12')]\n",
    "# for k, v in mapping:\n",
    "#     df7['mes_inicio'] = pd.Series(df7['mes_inicio'], dtype = \"int\").replace(k, v)"
   ]
  },
  {
   "cell_type": "code",
   "execution_count": 122,
   "metadata": {},
   "outputs": [],
   "source": [
    "##mes inicio, paso 2, de string a  número\n",
    "# df7['mes_inicio']=pd.to_numeric(df7['mes_inicio'])\n",
    "# #import re\n",
    "# df7['mes_inicio']=df7['mes_inicio'].map(lambda x: int(re.search(r\"\\d+\", x).group(0)))\n",
    "#df7['mes_inicio'].astype(str).astype(int)\n",
    "#df7['mes_inicio'] = df7['mes_inicio'].astype(float)\n",
    "#int(float(df7['mes_inicio']))"
   ]
  },
  {
   "cell_type": "code",
   "execution_count": 87,
   "metadata": {},
   "outputs": [],
   "source": [
    "#asignar nulidad a la varable tiempo_empleo para la clasficación laboral de desocupados e inactivos.\n",
    "# def nul_tiempo_ta(df):\n",
    "#     if (((df['ano_encuesta'] == 2010) and (df['clasif_lab'] == 2)) or \n",
    "#         ((df['ano_encuesta'] == 2010) and (df['clasif_lab'] == 3))):\n",
    "#         t_ac = np.nan    \n",
    "#     else:\n",
    "#         t_ac= df['tiempo_empleo']\n",
    "#     return(t_ac)"
   ]
  },
  {
   "cell_type": "code",
   "execution_count": 88,
   "metadata": {},
   "outputs": [],
   "source": [
    "# df7['tiempo_empleo']=df7.apply(nul_tiempo_ta, axis = 1)\n",
    "#df7.drop(columns =['Tiempo_trab_act_prueba'], inplace =True)"
   ]
  },
  {
   "cell_type": "code",
   "execution_count": 89,
   "metadata": {},
   "outputs": [],
   "source": [
    "#asignar nulidad a los registros de la varable tiempo_empleo para los datos incoherentes de edad_inicio\n",
    "# def edad_inicio_1(df):\n",
    "#     if (df['edad_tenia'] > df['edad']):\n",
    "#         ed_ini = np.nan    \n",
    "#     else:\n",
    "#         ed_ini= df['tiempo_empleo']\n",
    "#     return(ed_ini)"
   ]
  },
  {
   "cell_type": "code",
   "execution_count": 90,
   "metadata": {},
   "outputs": [],
   "source": [
    "# df7['tiempo_empleo']=df7.apply(edad_inicio_1, axis = 1)\n",
    "#df7.drop(columns =['Tiempo_trab_act_prueba'], inplace =True)"
   ]
  },
  {
   "cell_type": "markdown",
   "metadata": {},
   "source": [
    "#### 2. miusculas o mayusculas\n"
   ]
  },
  {
   "cell_type": "code",
   "execution_count": 30,
   "metadata": {},
   "outputs": [],
   "source": [
    "minus = lambda x: x.str.lower() if (x.dtype == 'string') else x\n",
    "df7[\"desemp_ult3\"] = minus(df7[\"desemp_ult3\"])\n",
    "df7[\"trabajo_ult3\"] = minus(df7[\"trabajo_ult3\"])\n"
   ]
  },
  {
   "cell_type": "markdown",
   "metadata": {},
   "source": [
    "#### 3. tildes"
   ]
  },
  {
   "cell_type": "code",
   "execution_count": 33,
   "metadata": {},
   "outputs": [
    {
     "data": {
      "text/plain": [
       "x     14379\n",
       "si     2607\n",
       "no      525\n",
       "Name: trabajo_ult3, dtype: Int64"
      ]
     },
     "execution_count": 33,
     "metadata": {},
     "output_type": "execute_result"
    }
   ],
   "source": [
    "df7[\"desemp_ult3\"] = df7[\"desemp_ult3\"].str.replace(\"í\", \"i\")\n",
    "df7[\"trabajo_ult3\"] = df7[\"trabajo_ult3\"].str.replace(\"í\", \"i\")\n",
    "df7[\"trabajo_ult3\"].value_counts(dropna=False)"
   ]
  },
  {
   "cell_type": "markdown",
   "metadata": {},
   "source": [
    "#### 4. remplazar los datos nulos por \"x\" y viceversa"
   ]
  },
  {
   "cell_type": "code",
   "execution_count": 268,
   "metadata": {},
   "outputs": [],
   "source": [
    "# df7['clasif_lab']= df7['clasif_lab'].replace(np.nan, \"x\")\n",
    "# # df7['diligencias4']= df7['diligencias4'].replace(np.nan, \"x\")\n",
    "# # df7['diligencias12']= df7['diligencias12'].replace(np.nan, \"x\") \n",
    "# # df7['actividad_ppal']= df7['actividad_ppal'].replace(np.nan, \"x\")\n",
    "#df7[\"desemp_ult3\"]= df7[\"desemp_ult3\"].replace(np.nan, \"x\")\n",
    "#df7[\"Tiempo_trab_act\"]= df7[\"Tiempo_trab_act\"].replace(np.nan, \"x\")\n",
    "#df7[\"Tiempo_trab_act\"]= df7[\"Tiempo_trab_act\"].replace(\"x\", np.nan)\n",
    "#df7[\"tiempo_empleo\"]= df7[\"tiempo_empleo\"].replace(np.nan, \"x\")\n",
    "#df7[\"tiempo_empleo\"]= df7[\"tiempo_empleo\"].replace( \"x\", np.nan,)\n",
    "#df_nne[\"tiempo_empleo\"]= df_nne[\"tiempo_empleo\"].replace(\"x\", np.nan)\n",
    "#df_nne[\"tiempo_empleo\"]= df_nne[\"tiempo_empleo\"].replace(np.nan, \"x\")\n",
    "# df7[\"trabajo_ult3\"]= df7[\"trabajo_ult3\"].replace(np.nan, \"x\")\n",
    "#df7[\"mes_inicio\"]= df7[\"mes_inicio\"].replace(np.nan, \"x\")\n",
    "#viceversa\n",
    "#df7['clasif_lab']= df7['clasif_lab'].replace(\"x\", np.nan) \n",
    "# df7['diligencias4']= df7['diligencias4'].replace(\"x\", np.nan)\n",
    "# df7['diligencias12']= df7['diligencias12'].replace(\"x\", np.nan) \n",
    "# df7['actividad_ppal']= df7['actividad_ppal'].replace(\"x\", np.nan)\n",
    "#df7[\"desemp_ult3\"]= df7[\"desemp_ult3\"].replace(\"x\", np.nan)\n",
    "#df7[\"trabajo_ult3\"]= df7[\"trabajo_ult3\"].replace(\"x\", np.nan)\n",
    "#df7[\"mes_inicio\"]= df7[\"mes_inicio\"].replace(\"x\", np.nan)"
   ]
  },
  {
   "cell_type": "markdown",
   "metadata": {},
   "source": [
    "#### 5. eliminar los espacios al final y al inicio"
   ]
  },
  {
   "cell_type": "code",
   "execution_count": null,
   "metadata": {},
   "outputs": [],
   "source": [
    "#eliminar espacios al final de cada palabra y al inicio. dejar solo un espacio entre palabras"
   ]
  },
  {
   "cell_type": "markdown",
   "metadata": {},
   "source": [
    "#### 6. recategorizan las variables"
   ]
  },
  {
   "cell_type": "code",
   "execution_count": null,
   "metadata": {},
   "outputs": [],
   "source": [
    "#recategorizar variable a variable\n",
    "np.array(df7['sexo'])\n",
    "\n",
    "LabelEncoder().fit(df7['sexo']).transform(df7['sexo'])\n",
    "#encoder = encoder.fit(sexo)\n",
    "\n",
    "print(collections.Counter(LabelEncoder().fit(df7['sexo']).transform(df7['sexo'])))"
   ]
  },
  {
   "cell_type": "code",
   "execution_count": 17,
   "metadata": {},
   "outputs": [],
   "source": [
    "#df7.to_csv('D:/maestria_ciencias_economicas_unal/tesis_scarring/base datos/ELCA_FINAL/PANEL_PET_REDUC.csv', sep = \";\")"
   ]
  },
  {
   "cell_type": "markdown",
   "metadata": {},
   "source": [
    "## tablas concatenadas"
   ]
  },
  {
   "cell_type": "code",
   "execution_count": 143,
   "metadata": {},
   "outputs": [],
   "source": [
    "framesp=[df8, df9, df10, df11, df12, df12a, df13, df14, df15, df16, df17, df18]"
   ]
  },
  {
   "cell_type": "code",
   "execution_count": 144,
   "metadata": {},
   "outputs": [],
   "source": [
    "dfprueba = pd.concat(framesp, axis = 0, names = ['consecutivo','persona'], join = 'outer', sort = False)\n"
   ]
  },
  {
   "cell_type": "code",
   "execution_count": 145,
   "metadata": {},
   "outputs": [
    {
     "data": {
      "text/plain": [
       "1229"
      ]
     },
     "execution_count": 145,
     "metadata": {},
     "output_type": "execute_result"
    }
   ],
   "source": [
    "#grupo tratamiento\n",
    "msk_1_p= dfprueba[\"scar\"] == 1\n",
    "msk_1_p[msk_1_p==True].count()\n",
    "dfp = dfprueba[msk_1_p==True]\n",
    "msk_2_p= dfp[\"id\"].value_counts()==3\n",
    "msk_2_p[msk_2_p==True].count()"
   ]
  },
  {
   "cell_type": "code",
   "execution_count": 146,
   "metadata": {},
   "outputs": [
    {
     "data": {
      "text/plain": [
       "1044"
      ]
     },
     "execution_count": 146,
     "metadata": {},
     "output_type": "execute_result"
    }
   ],
   "source": [
    "#grupo control\n",
    "msk_1_c= dfprueba[\"control\"] == 1\n",
    "msk_1_c[msk_1_c==True].count()\n",
    "dfp = dfprueba[msk_1_c==True]\n",
    "msk_2_c= dfp[\"id\"].value_counts()==3\n",
    "msk_2_c[msk_2_c==True].count() # de 1630 se pasa a 1044 en grupo control, siendo estrictos"
   ]
  },
  {
   "cell_type": "code",
   "execution_count": 251,
   "metadata": {},
   "outputs": [],
   "source": [
    "# dfprueba = dfprueba.drop([\"scar_uno\",\"scar_dos\", \"scar_tres\", \"scar_cuatro\", \"scar_cinco\", \"scar_seis\", \n",
    "#                 \"control_uno\", \"control_dos\", \"control_tres\",\"control_cuatro\", \"control_cinco\", \"indicator_column\"], axis = 1)"
   ]
  },
  {
   "cell_type": "code",
   "execution_count": 253,
   "metadata": {},
   "outputs": [],
   "source": [
    "# dfprueba= dfprueba.drop(\"control_seis\", axis = 1)"
   ]
  },
  {
   "cell_type": "code",
   "execution_count": 220,
   "metadata": {},
   "outputs": [],
   "source": [
    "#dfprueba.to_csv('D:/maestria_ciencias_economicas_unal/tesis_scarring/base datos/ELCA_FINAL/PET_REDUC_Trat_ctrl.csv', sep = \";\")"
   ]
  },
  {
   "cell_type": "code",
   "execution_count": 147,
   "metadata": {},
   "outputs": [
    {
     "data": {
      "text/plain": [
       "['Fecha',\n",
       " 'ola_l',\n",
       " 'hogar_l',\n",
       " 'hogar_n16_l',\n",
       " 'orden',\n",
       " 'seguimiento',\n",
       " 'encuestada_2013',\n",
       " 'region',\n",
       " 'RegionLb',\n",
       " 'region_2016',\n",
       " 'id_depto',\n",
       " 'id_mpio',\n",
       " 'id_mpioU',\n",
       " 'riqueza_pca',\n",
       " 'tercil2010',\n",
       " 'tercil2013',\n",
       " 'tercil2016',\n",
       " 'fhog',\n",
       " 'fhog_2010',\n",
       " 'fhog_2013',\n",
       " 'fhog_2016',\n",
       " 'fexhog',\n",
       " 'fexhog_2010',\n",
       " 'fexhog_2013',\n",
       " 'fpers',\n",
       " 'fpers_2010',\n",
       " 'fpers_2013',\n",
       " 'fpers_2016',\n",
       " 'fexpers',\n",
       " 'fexpers_2010',\n",
       " 'fexpers_2013',\n",
       " 't_hogares',\n",
       " 't_hogar',\n",
       " 't_personas',\n",
       " 'tipo_vivienda',\n",
       " 'material_pisos',\n",
       " 'material_paredes',\n",
       " 'sp_energia',\n",
       " 'sp_estrato',\n",
       " 'sp_gasnatural',\n",
       " 'sp_acueducto',\n",
       " 'sp_alcantarillado',\n",
       " 'sp_telefono',\n",
       " 'sp_recoleccion_basura',\n",
       " 'eliminan_basura',\n",
       " 'sexo',\n",
       " 'edad',\n",
       " 'edad_meses',\n",
       " 'parentesco',\n",
       " 'estado_civil',\n",
       " 'vive_conyuge',\n",
       " 'orden_conyuge',\n",
       " 'etnia',\n",
       " 'estrato',\n",
       " 'lee_escribe',\n",
       " 'estudia',\n",
       " 'nivel_educ',\n",
       " 'grado_educ',\n",
       " 'edad_dejoestudio',\n",
       " 'nivel_educ_cursa',\n",
       " 'grado_educ_cursa',\n",
       " 'anos_superior',\n",
       " 'estudiaba_2010',\n",
       " 'nivel_educ_2010',\n",
       " 'grado_educ_2010',\n",
       " 'anos_superior_2010',\n",
       " 'est_superiores',\n",
       " 'actividad_ppal',\n",
       " 'diligencias4',\n",
       " 'diligencias12',\n",
       " 'descripcion_ciiu',\n",
       " 'descrip_oficio',\n",
       " 'cod_oficio',\n",
       " 'edad_tenia',\n",
       " 'anos_trabaja',\n",
       " 'meses_trabaja',\n",
       " 'mes_inicio',\n",
       " 'ano_inicio',\n",
       " 'ocupacion',\n",
       " 'horas_normal',\n",
       " 'cod_oficio2',\n",
       " 'tipo_contrato',\n",
       " 'rec_otros_pago',\n",
       " 'vr_alimentos_pago',\n",
       " 'vr_vivienda_pago',\n",
       " 'vr_educ_pago',\n",
       " 'vr_subalimentacion',\n",
       " 'vr_subtransporte',\n",
       " 'vr_subfamiliar',\n",
       " 'vr_bonos',\n",
       " 'vr_ingmen_ase',\n",
       " 'vr_salario',\n",
       " 'vr_ganancia',\n",
       " 'meses_ganancia',\n",
       " 'rec_ninguno',\n",
       " 'pagos_adicion',\n",
       " 'ingresos',\n",
       " 'ganancia_neta',\n",
       " 'vr_salario_mes',\n",
       " 'recibio_ganancia',\n",
       " 'afiliacion',\n",
       " 'seg_medico',\n",
       " 'segsoc_salud',\n",
       " 'estaba_sss',\n",
       " 'beneficiario_sss',\n",
       " 'beneficiario_orden',\n",
       " 'cotiza_fp',\n",
       " 'estaba_fp',\n",
       " 'afiliacion_fp',\n",
       " 'vr_rec_pension',\n",
       " 'tam_empresa',\n",
       " 'n_empleados',\n",
       " 'registro_mercantil',\n",
       " 'vacaciones',\n",
       " 'prima_navidad',\n",
       " 'cesantias',\n",
       " 'ofertas_empleo',\n",
       " 'ofertas_emp12',\n",
       " 'ofertas_emp1',\n",
       " 'vr_salario_ofr',\n",
       " 'razon_noacepto',\n",
       " 'disponibilidad',\n",
       " 't_bustrab_a',\n",
       " 't_bustrab_m',\n",
       " 'medio_busco',\n",
       " 't_busco_trab_l',\n",
       " 't_dejo_trabajar',\n",
       " 'vr_rec_arriendos',\n",
       " 'vr_rec_dividendos',\n",
       " 'salario_insf',\n",
       " 'salario_nopresta',\n",
       " 'horario_nosirve',\n",
       " 'ubica_inadecuada',\n",
       " 'noapto_trabajo',\n",
       " 'razon_personal',\n",
       " 'edad_primert',\n",
       " 'anos_primert',\n",
       " 'horas_normal_pt',\n",
       " 'ocupacion_pt',\n",
       " 'es_ptrabajo',\n",
       " 't_trabajo_ult',\n",
       " 'trabajo_ult3',\n",
       " 'tiempo_trab',\n",
       " 'vr_recibia_pt',\n",
       " 'rango_ingreso',\n",
       " 'sss_pt',\n",
       " 'afiliado_fp_pt',\n",
       " 'cotizando',\n",
       " 'tamano_pt',\n",
       " 'desemp_ult3',\n",
       " 'tiempo_desemp',\n",
       " 'nocotiza_ult3',\n",
       " 'tiempo_ncotiza',\n",
       " 'primer_busca',\n",
       " 'clasif_lab',\n",
       " 'scar',\n",
       " 'scar_dos',\n",
       " 'scar_tres',\n",
       " 'scar_cuatro',\n",
       " 'scar_cinco',\n",
       " 'control_uno',\n",
       " 'control_dos',\n",
       " 'actividad_principal',\n",
       " 't_busco_trab_r',\n",
       " 'indicator_column',\n",
       " 'scar_seis',\n",
       " 'tiempo_desempleo',\n",
       " 'id',\n",
       " 'control_tres',\n",
       " 'control_cuatro',\n",
       " 'control_cinco',\n",
       " 'ano_encuesta',\n",
       " 'tiempo_empleo',\n",
       " 'control_seis',\n",
       " 'not_null_empl',\n",
       " 'control',\n",
       " 'camino',\n",
       " 'scar_uno']"
      ]
     },
     "execution_count": 147,
     "metadata": {},
     "output_type": "execute_result"
    }
   ],
   "source": [
    "dfprueba.columns.to_list()"
   ]
  },
  {
   "cell_type": "markdown",
   "metadata": {},
   "source": [
    "## Análisis descriptivo"
   ]
  },
  {
   "cell_type": "markdown",
   "metadata": {},
   "source": [
    "Está sección presenta estadísticas descriptivas de la muestra, asi como de la PET, la PEA, los ocupados, los desocupados y los inactivos, con el fin de contrastar el comportamiento general con los grupos de tratamiento y control. En este sentido, se compara el tiempo promedio de desempleo y de empleo por sexo, edad, posición ocupacional, rama de actividad, educación. Posteriormente se incluyen las variables dependientes de ingreso y calidad del empleo.\n"
   ]
  },
  {
   "cell_type": "code",
   "execution_count": 18,
   "metadata": {},
   "outputs": [],
   "source": [
    "df7= pd.read_csv('D:/maestria_ciencias_economicas_unal/tesis_scarring/base datos/ELCA_FINAL/PANEL_PET_REDUC.csv', sep = \";\", index_col=[0,1], low_memory=False)"
   ]
  },
  {
   "cell_type": "code",
   "execution_count": 3,
   "metadata": {},
   "outputs": [],
   "source": [
    "dfprueba= pd.read_csv('D:/maestria_ciencias_economicas_unal/tesis_scarring/base datos/ELCA_FINAL/PET_REDUC_Trat_ctrl.csv', sep = \";\", low_memory=False)"
   ]
  },
  {
   "cell_type": "markdown",
   "metadata": {},
   "source": [
    "Se elimina la variable tiempo_empleo creada previamente en ejercicio descriptivo 1 \n",
    "y se reemplaza por la variable Tiempo_trab_act en ejercicio 2 (la línea 200 de código está en el apartado de formateo de variables. Sin embargo, debido a la programación\n",
    "se asigna nuevamente el nombre de tiempo_empleo. Asimismo, se crea la variable tiempo de desempleo para los dataframe df7 y prueba en este apartado. "
   ]
  },
  {
   "cell_type": "code",
   "execution_count": 217,
   "metadata": {},
   "outputs": [],
   "source": [
    "# df7= df7.drop(\"tiempo_empleo\", axis = 1)\n",
    "# df7= df7.rename(columns={\"Tiempo_trab_act\":\"tiempo_empleo\"}) "
   ]
  },
  {
   "cell_type": "code",
   "execution_count": 218,
   "metadata": {},
   "outputs": [],
   "source": [
    "# dfprueba= dfprueba.drop(\"tiempo_empleo\", axis = 1)\n",
    "# dfprueba= dfprueba.rename(columns={\"Tiempo_trab_act\":\"tiempo_empleo\"}) "
   ]
  },
  {
   "cell_type": "code",
   "execution_count": 148,
   "metadata": {},
   "outputs": [],
   "source": [
    "df7[\"tiempo_desempleo\"] = (df7[\"t_bustrab_a\"]*12) + (df7[\"t_bustrab_m\"])\n",
    "dfprueba[\"tiempo_desempleo\"] = (dfprueba[\"t_bustrab_a\"]*12) + (dfprueba[\"t_bustrab_m\"])\n",
    "#df7[\"tiempo_empleo\"][df7[\"tiempo_empleo\"] < 36].count()"
   ]
  },
  {
   "cell_type": "code",
   "execution_count": 149,
   "metadata": {},
   "outputs": [],
   "source": [
    "# dfprueba.to_csv('D:/maestria_ciencias_economicas_unal/tesis_scarring/base datos/ELCA_FINAL/PET_REDUC_Trat_ctrl.csv', sep = \";\")\n",
    "# df7.to_csv('D:/maestria_ciencias_economicas_unal/tesis_scarring/base datos/ELCA_FINAL/PANEL_PET_REDUC.csv', sep = \";\")"
   ]
  },
  {
   "cell_type": "markdown",
   "metadata": {},
   "source": [
    "###  Indentificación de los grupos - pivot table"
   ]
  },
  {
   "cell_type": "markdown",
   "metadata": {},
   "source": [
    "#### tratamiento y control\n"
   ]
  },
  {
   "cell_type": "code",
   "execution_count": 261,
   "metadata": {
    "scrolled": true
   },
   "outputs": [
    {
     "data": {
      "text/html": [
       "<div>\n",
       "<style scoped>\n",
       "    .dataframe tbody tr th:only-of-type {\n",
       "        vertical-align: middle;\n",
       "    }\n",
       "\n",
       "    .dataframe tbody tr th {\n",
       "        vertical-align: top;\n",
       "    }\n",
       "\n",
       "    .dataframe thead tr th {\n",
       "        text-align: left;\n",
       "    }\n",
       "\n",
       "    .dataframe thead tr:last-of-type th {\n",
       "        text-align: right;\n",
       "    }\n",
       "</style>\n",
       "<table border=\"1\" class=\"dataframe\">\n",
       "  <thead>\n",
       "    <tr>\n",
       "      <th></th>\n",
       "      <th colspan=\"3\" halign=\"left\">id</th>\n",
       "    </tr>\n",
       "    <tr>\n",
       "      <th>scar</th>\n",
       "      <th>0</th>\n",
       "      <th>1</th>\n",
       "      <th>All</th>\n",
       "    </tr>\n",
       "    <tr>\n",
       "      <th>Fecha</th>\n",
       "      <th></th>\n",
       "      <th></th>\n",
       "      <th></th>\n",
       "    </tr>\n",
       "  </thead>\n",
       "  <tbody>\n",
       "    <tr>\n",
       "      <th>2010-12-31</th>\n",
       "      <td>1630</td>\n",
       "      <td>1229</td>\n",
       "      <td>2859</td>\n",
       "    </tr>\n",
       "    <tr>\n",
       "      <th>2013-12-31</th>\n",
       "      <td>1630</td>\n",
       "      <td>1229</td>\n",
       "      <td>2859</td>\n",
       "    </tr>\n",
       "    <tr>\n",
       "      <th>2016-12-31</th>\n",
       "      <td>1630</td>\n",
       "      <td>1229</td>\n",
       "      <td>2859</td>\n",
       "    </tr>\n",
       "    <tr>\n",
       "      <th>All</th>\n",
       "      <td>4890</td>\n",
       "      <td>3687</td>\n",
       "      <td>8577</td>\n",
       "    </tr>\n",
       "  </tbody>\n",
       "</table>\n",
       "</div>"
      ],
      "text/plain": [
       "              id            \n",
       "scar           0     1   All\n",
       "Fecha                       \n",
       "2010-12-31  1630  1229  2859\n",
       "2013-12-31  1630  1229  2859\n",
       "2016-12-31  1630  1229  2859\n",
       "All         4890  3687  8577"
      ]
     },
     "execution_count": 261,
     "metadata": {},
     "output_type": "execute_result"
    }
   ],
   "source": [
    "trat_control = dfprueba.pivot_table(values= [\"id\"],\n",
    "                                  index=[\"Fecha\"],#, \"sexo\"],\n",
    "                                  columns=[\"scar\"], aggfunc= \"count\", margins = True)\n",
    "trat_control #iloc[:, [1,4]]"
   ]
  },
  {
   "cell_type": "markdown",
   "metadata": {},
   "source": [
    "#### Tratamiento"
   ]
  },
  {
   "cell_type": "code",
   "execution_count": 268,
   "metadata": {
    "scrolled": false
   },
   "outputs": [
    {
     "data": {
      "text/html": [
       "<div>\n",
       "<style scoped>\n",
       "    .dataframe tbody tr th:only-of-type {\n",
       "        vertical-align: middle;\n",
       "    }\n",
       "\n",
       "    .dataframe tbody tr th {\n",
       "        vertical-align: top;\n",
       "    }\n",
       "\n",
       "    .dataframe thead tr th {\n",
       "        text-align: left;\n",
       "    }\n",
       "\n",
       "    .dataframe thead tr:last-of-type th {\n",
       "        text-align: right;\n",
       "    }\n",
       "</style>\n",
       "<table border=\"1\" class=\"dataframe\">\n",
       "  <thead>\n",
       "    <tr>\n",
       "      <th></th>\n",
       "      <th></th>\n",
       "      <th colspan=\"3\" halign=\"left\">count</th>\n",
       "      <th colspan=\"3\" halign=\"left\">mean</th>\n",
       "    </tr>\n",
       "    <tr>\n",
       "      <th></th>\n",
       "      <th></th>\n",
       "      <th colspan=\"3\" halign=\"left\">tiempo_desempleo</th>\n",
       "      <th colspan=\"3\" halign=\"left\">tiempo_desempleo</th>\n",
       "    </tr>\n",
       "    <tr>\n",
       "      <th></th>\n",
       "      <th>sexo</th>\n",
       "      <th>hombre</th>\n",
       "      <th>mujer</th>\n",
       "      <th>All</th>\n",
       "      <th>hombre</th>\n",
       "      <th>mujer</th>\n",
       "      <th>All</th>\n",
       "    </tr>\n",
       "    <tr>\n",
       "      <th>Fecha</th>\n",
       "      <th>scar</th>\n",
       "      <th></th>\n",
       "      <th></th>\n",
       "      <th></th>\n",
       "      <th></th>\n",
       "      <th></th>\n",
       "      <th></th>\n",
       "    </tr>\n",
       "  </thead>\n",
       "  <tbody>\n",
       "    <tr>\n",
       "      <th rowspan=\"2\" valign=\"top\">2010-12-31</th>\n",
       "      <th>0</th>\n",
       "      <td>2</td>\n",
       "      <td>12</td>\n",
       "      <td>14.0</td>\n",
       "      <td>8.00</td>\n",
       "      <td>13.17</td>\n",
       "      <td>12.43</td>\n",
       "    </tr>\n",
       "    <tr>\n",
       "      <th>1</th>\n",
       "      <td>24</td>\n",
       "      <td>70</td>\n",
       "      <td>94.0</td>\n",
       "      <td>6.79</td>\n",
       "      <td>13.13</td>\n",
       "      <td>11.51</td>\n",
       "    </tr>\n",
       "    <tr>\n",
       "      <th rowspan=\"2\" valign=\"top\">2013-12-31</th>\n",
       "      <th>0</th>\n",
       "      <td>0</td>\n",
       "      <td>0</td>\n",
       "      <td>NaN</td>\n",
       "      <td>NaN</td>\n",
       "      <td>NaN</td>\n",
       "      <td>NaN</td>\n",
       "    </tr>\n",
       "    <tr>\n",
       "      <th>1</th>\n",
       "      <td>56</td>\n",
       "      <td>90</td>\n",
       "      <td>146.0</td>\n",
       "      <td>32.14</td>\n",
       "      <td>27.17</td>\n",
       "      <td>29.08</td>\n",
       "    </tr>\n",
       "    <tr>\n",
       "      <th rowspan=\"2\" valign=\"top\">2016-12-31</th>\n",
       "      <th>0</th>\n",
       "      <td>20</td>\n",
       "      <td>17</td>\n",
       "      <td>37.0</td>\n",
       "      <td>13.00</td>\n",
       "      <td>12.35</td>\n",
       "      <td>12.70</td>\n",
       "    </tr>\n",
       "    <tr>\n",
       "      <th>1</th>\n",
       "      <td>17</td>\n",
       "      <td>20</td>\n",
       "      <td>37.0</td>\n",
       "      <td>12.65</td>\n",
       "      <td>13.85</td>\n",
       "      <td>13.30</td>\n",
       "    </tr>\n",
       "    <tr>\n",
       "      <th>All</th>\n",
       "      <th></th>\n",
       "      <td>119</td>\n",
       "      <td>209</td>\n",
       "      <td>328.0</td>\n",
       "      <td>20.62</td>\n",
       "      <td>19.18</td>\n",
       "      <td>19.70</td>\n",
       "    </tr>\n",
       "  </tbody>\n",
       "</table>\n",
       "</div>"
      ],
      "text/plain": [
       "                           count                          mean              \n",
       "                tiempo_desempleo              tiempo_desempleo              \n",
       "sexo                      hombre mujer    All           hombre  mujer    All\n",
       "Fecha      scar                                                             \n",
       "2010-12-31 0                   2    12   14.0             8.00  13.17  12.43\n",
       "           1                  24    70   94.0             6.79  13.13  11.51\n",
       "2013-12-31 0                   0     0    NaN              NaN    NaN    NaN\n",
       "           1                  56    90  146.0            32.14  27.17  29.08\n",
       "2016-12-31 0                  20    17   37.0            13.00  12.35  12.70\n",
       "           1                  17    20   37.0            12.65  13.85  13.30\n",
       "All                          119   209  328.0            20.62  19.18  19.70"
      ]
     },
     "execution_count": 268,
     "metadata": {},
     "output_type": "execute_result"
    }
   ],
   "source": [
    "scar_table = dfprueba.pivot_table(values= [\"tiempo_desempleo\"],\n",
    "                                  index=[\"Fecha\",\"scar\"],\n",
    "                                  columns=\"sexo\", aggfunc= [\"count\", \"mean\"], margins = True)\n",
    "round(scar_table,2)#iloc[:, [1,4]]"
   ]
  },
  {
   "cell_type": "code",
   "execution_count": 270,
   "metadata": {},
   "outputs": [
    {
     "data": {
      "text/html": [
       "<div>\n",
       "<style scoped>\n",
       "    .dataframe tbody tr th:only-of-type {\n",
       "        vertical-align: middle;\n",
       "    }\n",
       "\n",
       "    .dataframe tbody tr th {\n",
       "        vertical-align: top;\n",
       "    }\n",
       "\n",
       "    .dataframe thead tr th {\n",
       "        text-align: left;\n",
       "    }\n",
       "\n",
       "    .dataframe thead tr:last-of-type th {\n",
       "        text-align: right;\n",
       "    }\n",
       "</style>\n",
       "<table border=\"1\" class=\"dataframe\">\n",
       "  <thead>\n",
       "    <tr>\n",
       "      <th></th>\n",
       "      <th></th>\n",
       "      <th colspan=\"12\" halign=\"left\">count</th>\n",
       "      <th colspan=\"7\" halign=\"left\">mean</th>\n",
       "    </tr>\n",
       "    <tr>\n",
       "      <th></th>\n",
       "      <th></th>\n",
       "      <th colspan=\"12\" halign=\"left\">tiempo_desempleo</th>\n",
       "      <th colspan=\"7\" halign=\"left\">tiempo_desempleo</th>\n",
       "    </tr>\n",
       "    <tr>\n",
       "      <th></th>\n",
       "      <th>camino</th>\n",
       "      <th>c_cinco</th>\n",
       "      <th>c_cuatro</th>\n",
       "      <th>c_dos</th>\n",
       "      <th>c_tres</th>\n",
       "      <th>c_uno</th>\n",
       "      <th>t_cinco</th>\n",
       "      <th>t_cuatro</th>\n",
       "      <th>t_dos</th>\n",
       "      <th>t_seis</th>\n",
       "      <th>t_tres</th>\n",
       "      <th>t_uno</th>\n",
       "      <th>All</th>\n",
       "      <th>c_dos</th>\n",
       "      <th>c_uno</th>\n",
       "      <th>t_cinco</th>\n",
       "      <th>t_cuatro</th>\n",
       "      <th>t_dos</th>\n",
       "      <th>t_uno</th>\n",
       "      <th>All</th>\n",
       "    </tr>\n",
       "    <tr>\n",
       "      <th>Fecha</th>\n",
       "      <th>sexo</th>\n",
       "      <th></th>\n",
       "      <th></th>\n",
       "      <th></th>\n",
       "      <th></th>\n",
       "      <th></th>\n",
       "      <th></th>\n",
       "      <th></th>\n",
       "      <th></th>\n",
       "      <th></th>\n",
       "      <th></th>\n",
       "      <th></th>\n",
       "      <th></th>\n",
       "      <th></th>\n",
       "      <th></th>\n",
       "      <th></th>\n",
       "      <th></th>\n",
       "      <th></th>\n",
       "      <th></th>\n",
       "      <th></th>\n",
       "    </tr>\n",
       "  </thead>\n",
       "  <tbody>\n",
       "    <tr>\n",
       "      <th rowspan=\"2\" valign=\"top\">2010-12-31</th>\n",
       "      <th>hombre</th>\n",
       "      <td>0.0</td>\n",
       "      <td>0.0</td>\n",
       "      <td>2</td>\n",
       "      <td>0.0</td>\n",
       "      <td>0</td>\n",
       "      <td>9</td>\n",
       "      <td>15</td>\n",
       "      <td>0</td>\n",
       "      <td>0.0</td>\n",
       "      <td>0.0</td>\n",
       "      <td>0</td>\n",
       "      <td>26</td>\n",
       "      <td>8.000000</td>\n",
       "      <td>NaN</td>\n",
       "      <td>6.777778</td>\n",
       "      <td>6.800000</td>\n",
       "      <td>NaN</td>\n",
       "      <td>NaN</td>\n",
       "      <td>6.884615</td>\n",
       "    </tr>\n",
       "    <tr>\n",
       "      <th>mujer</th>\n",
       "      <td>0.0</td>\n",
       "      <td>0.0</td>\n",
       "      <td>12</td>\n",
       "      <td>0.0</td>\n",
       "      <td>0</td>\n",
       "      <td>21</td>\n",
       "      <td>49</td>\n",
       "      <td>0</td>\n",
       "      <td>0.0</td>\n",
       "      <td>0.0</td>\n",
       "      <td>0</td>\n",
       "      <td>82</td>\n",
       "      <td>13.166667</td>\n",
       "      <td>NaN</td>\n",
       "      <td>17.142857</td>\n",
       "      <td>11.408163</td>\n",
       "      <td>NaN</td>\n",
       "      <td>NaN</td>\n",
       "      <td>13.134146</td>\n",
       "    </tr>\n",
       "    <tr>\n",
       "      <th rowspan=\"2\" valign=\"top\">2013-12-31</th>\n",
       "      <th>hombre</th>\n",
       "      <td>0.0</td>\n",
       "      <td>0.0</td>\n",
       "      <td>0</td>\n",
       "      <td>0.0</td>\n",
       "      <td>0</td>\n",
       "      <td>10</td>\n",
       "      <td>0</td>\n",
       "      <td>0</td>\n",
       "      <td>0.0</td>\n",
       "      <td>0.0</td>\n",
       "      <td>46</td>\n",
       "      <td>56</td>\n",
       "      <td>NaN</td>\n",
       "      <td>NaN</td>\n",
       "      <td>27.800000</td>\n",
       "      <td>NaN</td>\n",
       "      <td>NaN</td>\n",
       "      <td>33.086957</td>\n",
       "      <td>32.142857</td>\n",
       "    </tr>\n",
       "    <tr>\n",
       "      <th>mujer</th>\n",
       "      <td>0.0</td>\n",
       "      <td>0.0</td>\n",
       "      <td>0</td>\n",
       "      <td>0.0</td>\n",
       "      <td>0</td>\n",
       "      <td>39</td>\n",
       "      <td>0</td>\n",
       "      <td>0</td>\n",
       "      <td>0.0</td>\n",
       "      <td>0.0</td>\n",
       "      <td>51</td>\n",
       "      <td>90</td>\n",
       "      <td>NaN</td>\n",
       "      <td>NaN</td>\n",
       "      <td>26.128205</td>\n",
       "      <td>NaN</td>\n",
       "      <td>NaN</td>\n",
       "      <td>27.960784</td>\n",
       "      <td>27.166667</td>\n",
       "    </tr>\n",
       "    <tr>\n",
       "      <th rowspan=\"2\" valign=\"top\">2016-12-31</th>\n",
       "      <th>hombre</th>\n",
       "      <td>0.0</td>\n",
       "      <td>0.0</td>\n",
       "      <td>0</td>\n",
       "      <td>0.0</td>\n",
       "      <td>20</td>\n",
       "      <td>0</td>\n",
       "      <td>0</td>\n",
       "      <td>17</td>\n",
       "      <td>0.0</td>\n",
       "      <td>0.0</td>\n",
       "      <td>0</td>\n",
       "      <td>37</td>\n",
       "      <td>NaN</td>\n",
       "      <td>13.000000</td>\n",
       "      <td>NaN</td>\n",
       "      <td>NaN</td>\n",
       "      <td>12.647059</td>\n",
       "      <td>NaN</td>\n",
       "      <td>12.837838</td>\n",
       "    </tr>\n",
       "    <tr>\n",
       "      <th>mujer</th>\n",
       "      <td>0.0</td>\n",
       "      <td>0.0</td>\n",
       "      <td>0</td>\n",
       "      <td>0.0</td>\n",
       "      <td>17</td>\n",
       "      <td>0</td>\n",
       "      <td>0</td>\n",
       "      <td>20</td>\n",
       "      <td>0.0</td>\n",
       "      <td>0.0</td>\n",
       "      <td>0</td>\n",
       "      <td>37</td>\n",
       "      <td>NaN</td>\n",
       "      <td>12.352941</td>\n",
       "      <td>NaN</td>\n",
       "      <td>NaN</td>\n",
       "      <td>13.850000</td>\n",
       "      <td>NaN</td>\n",
       "      <td>13.162162</td>\n",
       "    </tr>\n",
       "    <tr>\n",
       "      <th>All</th>\n",
       "      <th></th>\n",
       "      <td>NaN</td>\n",
       "      <td>NaN</td>\n",
       "      <td>14</td>\n",
       "      <td>NaN</td>\n",
       "      <td>37</td>\n",
       "      <td>79</td>\n",
       "      <td>64</td>\n",
       "      <td>37</td>\n",
       "      <td>NaN</td>\n",
       "      <td>NaN</td>\n",
       "      <td>97</td>\n",
       "      <td>328</td>\n",
       "      <td>12.428571</td>\n",
       "      <td>12.702703</td>\n",
       "      <td>21.746835</td>\n",
       "      <td>10.328125</td>\n",
       "      <td>13.297297</td>\n",
       "      <td>30.391753</td>\n",
       "      <td>19.704268</td>\n",
       "    </tr>\n",
       "  </tbody>\n",
       "</table>\n",
       "</div>"
      ],
      "text/plain": [
       "                             count                                      \\\n",
       "                  tiempo_desempleo                                       \n",
       "camino                     c_cinco c_cuatro c_dos c_tres c_uno t_cinco   \n",
       "Fecha      sexo                                                          \n",
       "2010-12-31 hombre              0.0      0.0     2    0.0     0       9   \n",
       "           mujer               0.0      0.0    12    0.0     0      21   \n",
       "2013-12-31 hombre              0.0      0.0     0    0.0     0      10   \n",
       "           mujer               0.0      0.0     0    0.0     0      39   \n",
       "2016-12-31 hombre              0.0      0.0     0    0.0    20       0   \n",
       "           mujer               0.0      0.0     0    0.0    17       0   \n",
       "All                            NaN      NaN    14    NaN    37      79   \n",
       "\n",
       "                                                                      mean  \\\n",
       "                                                          tiempo_desempleo   \n",
       "camino            t_cuatro t_dos t_seis t_tres t_uno  All            c_dos   \n",
       "Fecha      sexo                                                              \n",
       "2010-12-31 hombre       15     0    0.0    0.0     0   26         8.000000   \n",
       "           mujer        49     0    0.0    0.0     0   82        13.166667   \n",
       "2013-12-31 hombre        0     0    0.0    0.0    46   56              NaN   \n",
       "           mujer         0     0    0.0    0.0    51   90              NaN   \n",
       "2016-12-31 hombre        0    17    0.0    0.0     0   37              NaN   \n",
       "           mujer         0    20    0.0    0.0     0   37              NaN   \n",
       "All                     64    37    NaN    NaN    97  328        12.428571   \n",
       "\n",
       "                                                                          \\\n",
       "                                                                           \n",
       "camino                 c_uno    t_cinco   t_cuatro      t_dos      t_uno   \n",
       "Fecha      sexo                                                            \n",
       "2010-12-31 hombre        NaN   6.777778   6.800000        NaN        NaN   \n",
       "           mujer         NaN  17.142857  11.408163        NaN        NaN   \n",
       "2013-12-31 hombre        NaN  27.800000        NaN        NaN  33.086957   \n",
       "           mujer         NaN  26.128205        NaN        NaN  27.960784   \n",
       "2016-12-31 hombre  13.000000        NaN        NaN  12.647059        NaN   \n",
       "           mujer   12.352941        NaN        NaN  13.850000        NaN   \n",
       "All                12.702703  21.746835  10.328125  13.297297  30.391753   \n",
       "\n",
       "                              \n",
       "                              \n",
       "camino                   All  \n",
       "Fecha      sexo               \n",
       "2010-12-31 hombre   6.884615  \n",
       "           mujer   13.134146  \n",
       "2013-12-31 hombre  32.142857  \n",
       "           mujer   27.166667  \n",
       "2016-12-31 hombre  12.837838  \n",
       "           mujer   13.162162  \n",
       "All                19.704268  "
      ]
     },
     "execution_count": 270,
     "metadata": {},
     "output_type": "execute_result"
    }
   ],
   "source": [
    "scar_table = dfprueba.pivot_table(values= [\"tiempo_desempleo\"],\n",
    "                                  index=[\"Fecha\",\"sexo\"],\n",
    "                                  columns=\"camino\", aggfunc= [\"count\", \"mean\"], margins = True)\n",
    "scar_table#iloc[:, [1,4]]"
   ]
  },
  {
   "cell_type": "code",
   "execution_count": 275,
   "metadata": {
    "scrolled": true
   },
   "outputs": [
    {
     "data": {
      "text/html": [
       "<div>\n",
       "<style scoped>\n",
       "    .dataframe tbody tr th:only-of-type {\n",
       "        vertical-align: middle;\n",
       "    }\n",
       "\n",
       "    .dataframe tbody tr th {\n",
       "        vertical-align: top;\n",
       "    }\n",
       "\n",
       "    .dataframe thead tr th {\n",
       "        text-align: left;\n",
       "    }\n",
       "\n",
       "    .dataframe thead tr:last-of-type th {\n",
       "        text-align: right;\n",
       "    }\n",
       "</style>\n",
       "<table border=\"1\" class=\"dataframe\">\n",
       "  <thead>\n",
       "    <tr>\n",
       "      <th></th>\n",
       "      <th colspan=\"3\" halign=\"left\">count</th>\n",
       "      <th colspan=\"3\" halign=\"left\">mean</th>\n",
       "    </tr>\n",
       "    <tr>\n",
       "      <th></th>\n",
       "      <th colspan=\"3\" halign=\"left\">tiempo_desempleo</th>\n",
       "      <th colspan=\"3\" halign=\"left\">tiempo_desempleo</th>\n",
       "    </tr>\n",
       "    <tr>\n",
       "      <th>scar</th>\n",
       "      <th>0</th>\n",
       "      <th>1</th>\n",
       "      <th>All</th>\n",
       "      <th>0</th>\n",
       "      <th>1</th>\n",
       "      <th>All</th>\n",
       "    </tr>\n",
       "    <tr>\n",
       "      <th>sexo</th>\n",
       "      <th></th>\n",
       "      <th></th>\n",
       "      <th></th>\n",
       "      <th></th>\n",
       "      <th></th>\n",
       "      <th></th>\n",
       "    </tr>\n",
       "  </thead>\n",
       "  <tbody>\n",
       "    <tr>\n",
       "      <th>hombre</th>\n",
       "      <td>22</td>\n",
       "      <td>97</td>\n",
       "      <td>119</td>\n",
       "      <td>12.55</td>\n",
       "      <td>22.45</td>\n",
       "      <td>20.62</td>\n",
       "    </tr>\n",
       "    <tr>\n",
       "      <th>mujer</th>\n",
       "      <td>29</td>\n",
       "      <td>180</td>\n",
       "      <td>209</td>\n",
       "      <td>12.69</td>\n",
       "      <td>20.23</td>\n",
       "      <td>19.18</td>\n",
       "    </tr>\n",
       "    <tr>\n",
       "      <th>All</th>\n",
       "      <td>51</td>\n",
       "      <td>277</td>\n",
       "      <td>328</td>\n",
       "      <td>12.63</td>\n",
       "      <td>21.01</td>\n",
       "      <td>19.70</td>\n",
       "    </tr>\n",
       "  </tbody>\n",
       "</table>\n",
       "</div>"
      ],
      "text/plain": [
       "                  count                       mean              \n",
       "       tiempo_desempleo           tiempo_desempleo              \n",
       "scar                  0    1  All                0      1    All\n",
       "sexo                                                            \n",
       "hombre               22   97  119            12.55  22.45  20.62\n",
       "mujer                29  180  209            12.69  20.23  19.18\n",
       "All                  51  277  328            12.63  21.01  19.70"
      ]
     },
     "execution_count": 275,
     "metadata": {},
     "output_type": "execute_result"
    }
   ],
   "source": [
    "scar_table_vert = dfprueba.pivot_table(values= [\"tiempo_desempleo\"],\n",
    "                                  index=[\"sexo\"],\n",
    "                                  columns=\"scar\", aggfunc= [\"count\", \"mean\"], margins = True)\n",
    "#scar_table= round(scar_table,2).iloc[3:,:]\n",
    "round(scar_table_vert, 2)"
   ]
  },
  {
   "cell_type": "code",
   "execution_count": 225,
   "metadata": {},
   "outputs": [
    {
     "data": {
      "text/plain": [
       "20.518900343642613"
      ]
     },
     "execution_count": 225,
     "metadata": {},
     "output_type": "execute_result"
    }
   ],
   "source": [
    "np.mean(dfprueba[\"tiempo_desempleo\"])"
   ]
  },
  {
   "cell_type": "code",
   "execution_count": 278,
   "metadata": {},
   "outputs": [
    {
     "data": {
      "text/html": [
       "<div>\n",
       "<style scoped>\n",
       "    .dataframe tbody tr th:only-of-type {\n",
       "        vertical-align: middle;\n",
       "    }\n",
       "\n",
       "    .dataframe tbody tr th {\n",
       "        vertical-align: top;\n",
       "    }\n",
       "\n",
       "    .dataframe thead tr th {\n",
       "        text-align: left;\n",
       "    }\n",
       "\n",
       "    .dataframe thead tr:last-of-type th {\n",
       "        text-align: right;\n",
       "    }\n",
       "</style>\n",
       "<table border=\"1\" class=\"dataframe\">\n",
       "  <thead>\n",
       "    <tr>\n",
       "      <th></th>\n",
       "      <th colspan=\"3\" halign=\"left\">count</th>\n",
       "      <th colspan=\"3\" halign=\"left\">mean</th>\n",
       "    </tr>\n",
       "    <tr>\n",
       "      <th></th>\n",
       "      <th colspan=\"3\" halign=\"left\">tiempo_desempleo</th>\n",
       "      <th colspan=\"3\" halign=\"left\">tiempo_desempleo</th>\n",
       "    </tr>\n",
       "    <tr>\n",
       "      <th>scar</th>\n",
       "      <th>0</th>\n",
       "      <th>1</th>\n",
       "      <th>All</th>\n",
       "      <th>0</th>\n",
       "      <th>1</th>\n",
       "      <th>All</th>\n",
       "    </tr>\n",
       "    <tr>\n",
       "      <th>Fecha</th>\n",
       "      <th></th>\n",
       "      <th></th>\n",
       "      <th></th>\n",
       "      <th></th>\n",
       "      <th></th>\n",
       "      <th></th>\n",
       "    </tr>\n",
       "  </thead>\n",
       "  <tbody>\n",
       "    <tr>\n",
       "      <th>2010-12-31</th>\n",
       "      <td>14</td>\n",
       "      <td>94</td>\n",
       "      <td>108</td>\n",
       "      <td>12.43</td>\n",
       "      <td>11.51</td>\n",
       "      <td>11.63</td>\n",
       "    </tr>\n",
       "    <tr>\n",
       "      <th>2013-12-31</th>\n",
       "      <td>0</td>\n",
       "      <td>146</td>\n",
       "      <td>146</td>\n",
       "      <td>NaN</td>\n",
       "      <td>29.08</td>\n",
       "      <td>29.08</td>\n",
       "    </tr>\n",
       "    <tr>\n",
       "      <th>2016-12-31</th>\n",
       "      <td>37</td>\n",
       "      <td>37</td>\n",
       "      <td>74</td>\n",
       "      <td>12.70</td>\n",
       "      <td>13.30</td>\n",
       "      <td>13.00</td>\n",
       "    </tr>\n",
       "    <tr>\n",
       "      <th>All</th>\n",
       "      <td>51</td>\n",
       "      <td>277</td>\n",
       "      <td>328</td>\n",
       "      <td>12.63</td>\n",
       "      <td>21.01</td>\n",
       "      <td>19.70</td>\n",
       "    </tr>\n",
       "  </tbody>\n",
       "</table>\n",
       "</div>"
      ],
      "text/plain": [
       "                      count                       mean              \n",
       "           tiempo_desempleo           tiempo_desempleo              \n",
       "scar                      0    1  All                0      1    All\n",
       "Fecha                                                               \n",
       "2010-12-31               14   94  108            12.43  11.51  11.63\n",
       "2013-12-31                0  146  146              NaN  29.08  29.08\n",
       "2016-12-31               37   37   74            12.70  13.30  13.00\n",
       "All                      51  277  328            12.63  21.01  19.70"
      ]
     },
     "execution_count": 278,
     "metadata": {},
     "output_type": "execute_result"
    }
   ],
   "source": [
    "#tiempo promedio  de desempleo por sexo y olas\n",
    "scar_table = dfprueba.pivot_table(values= [\"tiempo_desempleo\"],\n",
    "                                  index=[\"Fecha\"],\n",
    "                                  columns=\"scar\", aggfunc= [\"count\", \"mean\"], margins = True)\n",
    "#scar_table= round(scar_table,2).iloc[3:,:]\n",
    "round(scar_table, 2)"
   ]
  },
  {
   "cell_type": "code",
   "execution_count": 161,
   "metadata": {},
   "outputs": [
    {
     "data": {
      "text/plain": [
       "dtype('float64')"
      ]
     },
     "execution_count": 161,
     "metadata": {},
     "output_type": "execute_result"
    }
   ],
   "source": [
    "dfprueba[\"tiempo_desempleo\"].dtype"
   ]
  },
  {
   "cell_type": "code",
   "execution_count": 285,
   "metadata": {},
   "outputs": [],
   "source": [
    "# scar_table_1= dfprueba.groupby(by=[\"tiempo_desemp\", \"scar\"]).aggregate({\"edad\": [np.size, np.max, np.min, np.mean, np.std],\n",
    "#                                                                         \"estrato\": np.mean})\n",
    "# scar_table_1.sort_values([\"scar\"], ascending = False)"
   ]
  },
  {
   "cell_type": "code",
   "execution_count": 271,
   "metadata": {
    "scrolled": false
   },
   "outputs": [
    {
     "data": {
      "text/html": [
       "<div>\n",
       "<style scoped>\n",
       "    .dataframe tbody tr th:only-of-type {\n",
       "        vertical-align: middle;\n",
       "    }\n",
       "\n",
       "    .dataframe tbody tr th {\n",
       "        vertical-align: top;\n",
       "    }\n",
       "\n",
       "    .dataframe thead tr th {\n",
       "        text-align: left;\n",
       "    }\n",
       "\n",
       "    .dataframe thead tr:last-of-type th {\n",
       "        text-align: right;\n",
       "    }\n",
       "</style>\n",
       "<table border=\"1\" class=\"dataframe\">\n",
       "  <thead>\n",
       "    <tr>\n",
       "      <th></th>\n",
       "      <th></th>\n",
       "      <th colspan=\"2\" halign=\"left\">id</th>\n",
       "    </tr>\n",
       "    <tr>\n",
       "      <th></th>\n",
       "      <th>scar</th>\n",
       "      <th colspan=\"2\" halign=\"left\">1</th>\n",
       "    </tr>\n",
       "    <tr>\n",
       "      <th></th>\n",
       "      <th>sexo</th>\n",
       "      <th>hombre</th>\n",
       "      <th>mujer</th>\n",
       "    </tr>\n",
       "    <tr>\n",
       "      <th>Fecha</th>\n",
       "      <th>tiempo_desemp</th>\n",
       "      <th></th>\n",
       "      <th></th>\n",
       "    </tr>\n",
       "  </thead>\n",
       "  <tbody>\n",
       "    <tr>\n",
       "      <th rowspan=\"4\" valign=\"top\">2013-12-31</th>\n",
       "      <th>Entre 6 meses y 11 meses</th>\n",
       "      <td>112.0</td>\n",
       "      <td>91.0</td>\n",
       "    </tr>\n",
       "    <tr>\n",
       "      <th>Entre un (1) año y dos</th>\n",
       "      <td>79.0</td>\n",
       "      <td>110.0</td>\n",
       "    </tr>\n",
       "    <tr>\n",
       "      <th>Menos de seis (6) meses</th>\n",
       "      <td>254.0</td>\n",
       "      <td>167.0</td>\n",
       "    </tr>\n",
       "    <tr>\n",
       "      <th>Más de dos (2) años</th>\n",
       "      <td>46.0</td>\n",
       "      <td>70.0</td>\n",
       "    </tr>\n",
       "    <tr>\n",
       "      <th rowspan=\"4\" valign=\"top\">2016-12-31</th>\n",
       "      <th>Entre 1 año y 2 años</th>\n",
       "      <td>36.0</td>\n",
       "      <td>53.0</td>\n",
       "    </tr>\n",
       "    <tr>\n",
       "      <th>Entre 6 meses y 11 meses</th>\n",
       "      <td>56.0</td>\n",
       "      <td>69.0</td>\n",
       "    </tr>\n",
       "    <tr>\n",
       "      <th>Menos de 6 meses</th>\n",
       "      <td>129.0</td>\n",
       "      <td>97.0</td>\n",
       "    </tr>\n",
       "    <tr>\n",
       "      <th>Más de 2 años</th>\n",
       "      <td>18.0</td>\n",
       "      <td>34.0</td>\n",
       "    </tr>\n",
       "    <tr>\n",
       "      <th>All</th>\n",
       "      <th></th>\n",
       "      <td>730.0</td>\n",
       "      <td>691.0</td>\n",
       "    </tr>\n",
       "  </tbody>\n",
       "</table>\n",
       "</div>"
      ],
      "text/plain": [
       "                                        id       \n",
       "scar                                     1       \n",
       "sexo                                hombre  mujer\n",
       "Fecha      tiempo_desemp                         \n",
       "2013-12-31 Entre 6 meses y 11 meses  112.0   91.0\n",
       "           Entre un (1) año y dos     79.0  110.0\n",
       "           Menos de seis (6) meses   254.0  167.0\n",
       "           Más de dos (2) años        46.0   70.0\n",
       "2016-12-31 Entre 1 año y 2 años       36.0   53.0\n",
       "           Entre 6 meses y 11 meses   56.0   69.0\n",
       "           Menos de 6 meses          129.0   97.0\n",
       "           Más de 2 años              18.0   34.0\n",
       "All                                  730.0  691.0"
      ]
     },
     "execution_count": 271,
     "metadata": {},
     "output_type": "execute_result"
    }
   ],
   "source": [
    "scar_table_2 = dfprueba.pivot_table(values= [\"id\"],\n",
    "                                  index=[\"Fecha\",\"tiempo_desemp\"],\n",
    "                                  columns=[\"scar\", \"sexo\"], aggfunc= \"count\", margins = True)\n",
    "scar_table_total = scar_table_2.iloc[:, [2,3]]\n",
    "scar_table_total"
   ]
  },
  {
   "cell_type": "code",
   "execution_count": 8,
   "metadata": {},
   "outputs": [
    {
     "data": {
      "text/html": [
       "<div>\n",
       "<style scoped>\n",
       "    .dataframe tbody tr th:only-of-type {\n",
       "        vertical-align: middle;\n",
       "    }\n",
       "\n",
       "    .dataframe tbody tr th {\n",
       "        vertical-align: top;\n",
       "    }\n",
       "\n",
       "    .dataframe thead tr th {\n",
       "        text-align: left;\n",
       "    }\n",
       "\n",
       "    .dataframe thead tr:last-of-type th {\n",
       "        text-align: right;\n",
       "    }\n",
       "</style>\n",
       "<table border=\"1\" class=\"dataframe\">\n",
       "  <thead>\n",
       "    <tr>\n",
       "      <th></th>\n",
       "      <th></th>\n",
       "      <th colspan=\"2\" halign=\"left\">id</th>\n",
       "    </tr>\n",
       "    <tr>\n",
       "      <th></th>\n",
       "      <th>scar</th>\n",
       "      <th colspan=\"2\" halign=\"left\">1</th>\n",
       "    </tr>\n",
       "    <tr>\n",
       "      <th></th>\n",
       "      <th>sexo</th>\n",
       "      <th>hombre</th>\n",
       "      <th>mujer</th>\n",
       "    </tr>\n",
       "    <tr>\n",
       "      <th>Fecha</th>\n",
       "      <th>tiempo_trab</th>\n",
       "      <th></th>\n",
       "      <th></th>\n",
       "    </tr>\n",
       "  </thead>\n",
       "  <tbody>\n",
       "    <tr>\n",
       "      <th rowspan=\"4\" valign=\"top\">2013-12-31</th>\n",
       "      <th>Entre 6 meses y 11 meses</th>\n",
       "      <td>27</td>\n",
       "      <td>41</td>\n",
       "    </tr>\n",
       "    <tr>\n",
       "      <th>Entre un (1) año y dos</th>\n",
       "      <td>72</td>\n",
       "      <td>98</td>\n",
       "    </tr>\n",
       "    <tr>\n",
       "      <th>Menos de seis (6) meses</th>\n",
       "      <td>21</td>\n",
       "      <td>45</td>\n",
       "    </tr>\n",
       "    <tr>\n",
       "      <th>Más de dos (2) años</th>\n",
       "      <td>173</td>\n",
       "      <td>148</td>\n",
       "    </tr>\n",
       "    <tr>\n",
       "      <th rowspan=\"4\" valign=\"top\">2016-12-31</th>\n",
       "      <th>Entre 1 año y 2 años</th>\n",
       "      <td>69</td>\n",
       "      <td>88</td>\n",
       "    </tr>\n",
       "    <tr>\n",
       "      <th>Entre 6 meses y 11 meses</th>\n",
       "      <td>23</td>\n",
       "      <td>45</td>\n",
       "    </tr>\n",
       "    <tr>\n",
       "      <th>Menos de 6 meses</th>\n",
       "      <td>27</td>\n",
       "      <td>48</td>\n",
       "    </tr>\n",
       "    <tr>\n",
       "      <th>Más de 2 años</th>\n",
       "      <td>195</td>\n",
       "      <td>159</td>\n",
       "    </tr>\n",
       "    <tr>\n",
       "      <th>All</th>\n",
       "      <th></th>\n",
       "      <td>607</td>\n",
       "      <td>672</td>\n",
       "    </tr>\n",
       "  </tbody>\n",
       "</table>\n",
       "</div>"
      ],
      "text/plain": [
       "                                        id      \n",
       "scar                                     1      \n",
       "sexo                                hombre mujer\n",
       "Fecha      tiempo_trab                          \n",
       "2013-12-31 Entre 6 meses y 11 meses     27    41\n",
       "           Entre un (1) año y dos       72    98\n",
       "           Menos de seis (6) meses      21    45\n",
       "           Más de dos (2) años         173   148\n",
       "2016-12-31 Entre 1 año y 2 años         69    88\n",
       "           Entre 6 meses y 11 meses     23    45\n",
       "           Menos de 6 meses             27    48\n",
       "           Más de 2 años               195   159\n",
       "All                                    607   672"
      ]
     },
     "execution_count": 8,
     "metadata": {},
     "output_type": "execute_result"
    }
   ],
   "source": [
    "#tiempo de empleo intermedio tratamiento\n",
    "trat_empl = dfprueba.pivot_table(values= [\"id\"],\n",
    "                                  index=[\"Fecha\",\"tiempo_trab\"],\n",
    "                                  columns=[\"scar\", \"sexo\"], aggfunc= \"count\", margins = True)\n",
    "trat_empl = trat_empl.iloc[:, [2,3]]\n",
    "trat_empl "
   ]
  },
  {
   "cell_type": "code",
   "execution_count": 12,
   "metadata": {
    "scrolled": false
   },
   "outputs": [
    {
     "data": {
      "text/html": [
       "<div>\n",
       "<style scoped>\n",
       "    .dataframe tbody tr th:only-of-type {\n",
       "        vertical-align: middle;\n",
       "    }\n",
       "\n",
       "    .dataframe tbody tr th {\n",
       "        vertical-align: top;\n",
       "    }\n",
       "\n",
       "    .dataframe thead tr th {\n",
       "        text-align: left;\n",
       "    }\n",
       "\n",
       "    .dataframe thead tr:last-of-type th {\n",
       "        text-align: right;\n",
       "    }\n",
       "</style>\n",
       "<table border=\"1\" class=\"dataframe\">\n",
       "  <thead>\n",
       "    <tr>\n",
       "      <th></th>\n",
       "      <th></th>\n",
       "      <th colspan=\"3\" halign=\"left\">count</th>\n",
       "      <th colspan=\"3\" halign=\"left\">mean</th>\n",
       "    </tr>\n",
       "    <tr>\n",
       "      <th></th>\n",
       "      <th></th>\n",
       "      <th colspan=\"3\" halign=\"left\">tiempo_empleo</th>\n",
       "      <th colspan=\"3\" halign=\"left\">tiempo_empleo</th>\n",
       "    </tr>\n",
       "    <tr>\n",
       "      <th></th>\n",
       "      <th>scar</th>\n",
       "      <th>0</th>\n",
       "      <th>1</th>\n",
       "      <th>All</th>\n",
       "      <th>0</th>\n",
       "      <th>1</th>\n",
       "      <th>All</th>\n",
       "    </tr>\n",
       "    <tr>\n",
       "      <th>Fecha</th>\n",
       "      <th>sexo</th>\n",
       "      <th></th>\n",
       "      <th></th>\n",
       "      <th></th>\n",
       "      <th></th>\n",
       "      <th></th>\n",
       "      <th></th>\n",
       "    </tr>\n",
       "  </thead>\n",
       "  <tbody>\n",
       "    <tr>\n",
       "      <th rowspan=\"2\" valign=\"top\">2010-12-31</th>\n",
       "      <th>hombre</th>\n",
       "      <td>206</td>\n",
       "      <td>154</td>\n",
       "      <td>360</td>\n",
       "      <td>60.072816</td>\n",
       "      <td>56.662338</td>\n",
       "      <td>58.613889</td>\n",
       "    </tr>\n",
       "    <tr>\n",
       "      <th>mujer</th>\n",
       "      <td>163</td>\n",
       "      <td>116</td>\n",
       "      <td>279</td>\n",
       "      <td>62.276074</td>\n",
       "      <td>18.163793</td>\n",
       "      <td>43.935484</td>\n",
       "    </tr>\n",
       "    <tr>\n",
       "      <th rowspan=\"2\" valign=\"top\">2013-12-31</th>\n",
       "      <th>hombre</th>\n",
       "      <td>857</td>\n",
       "      <td>401</td>\n",
       "      <td>1258</td>\n",
       "      <td>13.680280</td>\n",
       "      <td>33.099751</td>\n",
       "      <td>19.870429</td>\n",
       "    </tr>\n",
       "    <tr>\n",
       "      <th>mujer</th>\n",
       "      <td>719</td>\n",
       "      <td>282</td>\n",
       "      <td>1001</td>\n",
       "      <td>12.141864</td>\n",
       "      <td>35.758865</td>\n",
       "      <td>18.795205</td>\n",
       "    </tr>\n",
       "    <tr>\n",
       "      <th rowspan=\"2\" valign=\"top\">2016-12-31</th>\n",
       "      <th>hombre</th>\n",
       "      <td>613</td>\n",
       "      <td>447</td>\n",
       "      <td>1060</td>\n",
       "      <td>32.226754</td>\n",
       "      <td>35.006711</td>\n",
       "      <td>33.399057</td>\n",
       "    </tr>\n",
       "    <tr>\n",
       "      <th>mujer</th>\n",
       "      <td>508</td>\n",
       "      <td>362</td>\n",
       "      <td>870</td>\n",
       "      <td>26.456693</td>\n",
       "      <td>29.828729</td>\n",
       "      <td>27.859770</td>\n",
       "    </tr>\n",
       "    <tr>\n",
       "      <th>All</th>\n",
       "      <th></th>\n",
       "      <td>3066</td>\n",
       "      <td>1762</td>\n",
       "      <td>4828</td>\n",
       "      <td>24.845075</td>\n",
       "      <td>34.413167</td>\n",
       "      <td>28.336993</td>\n",
       "    </tr>\n",
       "  </tbody>\n",
       "</table>\n",
       "</div>"
      ],
      "text/plain": [
       "                          count                      mean             \\\n",
       "                  tiempo_empleo             tiempo_empleo              \n",
       "scar                          0     1   All             0          1   \n",
       "Fecha      sexo                                                        \n",
       "2010-12-31 hombre           206   154   360     60.072816  56.662338   \n",
       "           mujer            163   116   279     62.276074  18.163793   \n",
       "2013-12-31 hombre           857   401  1258     13.680280  33.099751   \n",
       "           mujer            719   282  1001     12.141864  35.758865   \n",
       "2016-12-31 hombre           613   447  1060     32.226754  35.006711   \n",
       "           mujer            508   362   870     26.456693  29.828729   \n",
       "All                        3066  1762  4828     24.845075  34.413167   \n",
       "\n",
       "                              \n",
       "                              \n",
       "scar                     All  \n",
       "Fecha      sexo               \n",
       "2010-12-31 hombre  58.613889  \n",
       "           mujer   43.935484  \n",
       "2013-12-31 hombre  19.870429  \n",
       "           mujer   18.795205  \n",
       "2016-12-31 hombre  33.399057  \n",
       "           mujer   27.859770  \n",
       "All                28.336993  "
      ]
     },
     "execution_count": 12,
     "metadata": {},
     "output_type": "execute_result"
    }
   ],
   "source": [
    "scar_table_3 = dfprueba.pivot_table(values= [\"tiempo_empleo\"],\n",
    "                                  index=[\"Fecha\",\"sexo\"],\n",
    "                                  columns=\"scar\", aggfunc= [\"count\", \"mean\"], margins = True)\n",
    "scar_table_3#iloc[:, [1,4]]"
   ]
  },
  {
   "cell_type": "code",
   "execution_count": 273,
   "metadata": {
    "scrolled": true
   },
   "outputs": [
    {
     "data": {
      "text/html": [
       "<div>\n",
       "<style scoped>\n",
       "    .dataframe tbody tr th:only-of-type {\n",
       "        vertical-align: middle;\n",
       "    }\n",
       "\n",
       "    .dataframe tbody tr th {\n",
       "        vertical-align: top;\n",
       "    }\n",
       "\n",
       "    .dataframe thead tr th {\n",
       "        text-align: left;\n",
       "    }\n",
       "\n",
       "    .dataframe thead tr:last-of-type th {\n",
       "        text-align: right;\n",
       "    }\n",
       "</style>\n",
       "<table border=\"1\" class=\"dataframe\">\n",
       "  <thead>\n",
       "    <tr>\n",
       "      <th></th>\n",
       "      <th colspan=\"3\" halign=\"left\">count</th>\n",
       "      <th colspan=\"3\" halign=\"left\">mean</th>\n",
       "    </tr>\n",
       "    <tr>\n",
       "      <th></th>\n",
       "      <th colspan=\"3\" halign=\"left\">tiempo_empleo</th>\n",
       "      <th colspan=\"3\" halign=\"left\">tiempo_empleo</th>\n",
       "    </tr>\n",
       "    <tr>\n",
       "      <th>scar</th>\n",
       "      <th>0</th>\n",
       "      <th>1</th>\n",
       "      <th>All</th>\n",
       "      <th>0</th>\n",
       "      <th>1</th>\n",
       "      <th>All</th>\n",
       "    </tr>\n",
       "    <tr>\n",
       "      <th>sexo</th>\n",
       "      <th></th>\n",
       "      <th></th>\n",
       "      <th></th>\n",
       "      <th></th>\n",
       "      <th></th>\n",
       "      <th></th>\n",
       "    </tr>\n",
       "  </thead>\n",
       "  <tbody>\n",
       "    <tr>\n",
       "      <th>hombre</th>\n",
       "      <td>1712</td>\n",
       "      <td>1040</td>\n",
       "      <td>2752</td>\n",
       "      <td>26.36</td>\n",
       "      <td>37.54</td>\n",
       "      <td>30.59</td>\n",
       "    </tr>\n",
       "    <tr>\n",
       "      <th>mujer</th>\n",
       "      <td>1427</td>\n",
       "      <td>859</td>\n",
       "      <td>2286</td>\n",
       "      <td>23.68</td>\n",
       "      <td>30.52</td>\n",
       "      <td>26.25</td>\n",
       "    </tr>\n",
       "    <tr>\n",
       "      <th>All</th>\n",
       "      <td>3139</td>\n",
       "      <td>1899</td>\n",
       "      <td>5038</td>\n",
       "      <td>25.14</td>\n",
       "      <td>34.37</td>\n",
       "      <td>28.62</td>\n",
       "    </tr>\n",
       "  </tbody>\n",
       "</table>\n",
       "</div>"
      ],
      "text/plain": [
       "               count                      mean              \n",
       "       tiempo_empleo             tiempo_empleo              \n",
       "scar               0     1   All             0      1    All\n",
       "sexo                                                        \n",
       "hombre          1712  1040  2752         26.36  37.54  30.59\n",
       "mujer           1427   859  2286         23.68  30.52  26.25\n",
       "All             3139  1899  5038         25.14  34.37  28.62"
      ]
     },
     "execution_count": 273,
     "metadata": {},
     "output_type": "execute_result"
    }
   ],
   "source": [
    "#Tiempo de empleo promedio del grupo de tratamiento por sexo. 2010-2016 \n",
    "scar_table_empleo = dfprueba.pivot_table(values= [\"tiempo_empleo\"],\n",
    "                                  index=[\"sexo\"],\n",
    "                                  columns=[\"scar\"], aggfunc= [\"count\", \"mean\"], margins = True)\n",
    "round(scar_table_empleo, 2)#.iloc[:, [1,4,]]"
   ]
  },
  {
   "cell_type": "code",
   "execution_count": 274,
   "metadata": {},
   "outputs": [
    {
     "data": {
      "text/html": [
       "<div>\n",
       "<style scoped>\n",
       "    .dataframe tbody tr th:only-of-type {\n",
       "        vertical-align: middle;\n",
       "    }\n",
       "\n",
       "    .dataframe tbody tr th {\n",
       "        vertical-align: top;\n",
       "    }\n",
       "\n",
       "    .dataframe thead tr th {\n",
       "        text-align: left;\n",
       "    }\n",
       "\n",
       "    .dataframe thead tr:last-of-type th {\n",
       "        text-align: right;\n",
       "    }\n",
       "</style>\n",
       "<table border=\"1\" class=\"dataframe\">\n",
       "  <thead>\n",
       "    <tr>\n",
       "      <th></th>\n",
       "      <th>count</th>\n",
       "      <th>mean</th>\n",
       "    </tr>\n",
       "    <tr>\n",
       "      <th></th>\n",
       "      <th>tiempo_empleo</th>\n",
       "      <th>tiempo_empleo</th>\n",
       "    </tr>\n",
       "    <tr>\n",
       "      <th>scar</th>\n",
       "      <th>1</th>\n",
       "      <th>1</th>\n",
       "    </tr>\n",
       "    <tr>\n",
       "      <th>Fecha</th>\n",
       "      <th></th>\n",
       "      <th></th>\n",
       "    </tr>\n",
       "  </thead>\n",
       "  <tbody>\n",
       "    <tr>\n",
       "      <th>2010-12-31</th>\n",
       "      <td>295</td>\n",
       "      <td>39.72</td>\n",
       "    </tr>\n",
       "    <tr>\n",
       "      <th>2013-12-31</th>\n",
       "      <td>761</td>\n",
       "      <td>33.86</td>\n",
       "    </tr>\n",
       "    <tr>\n",
       "      <th>2016-12-31</th>\n",
       "      <td>843</td>\n",
       "      <td>32.95</td>\n",
       "    </tr>\n",
       "    <tr>\n",
       "      <th>All</th>\n",
       "      <td>1899</td>\n",
       "      <td>34.37</td>\n",
       "    </tr>\n",
       "  </tbody>\n",
       "</table>\n",
       "</div>"
      ],
      "text/plain": [
       "                   count          mean\n",
       "           tiempo_empleo tiempo_empleo\n",
       "scar                   1             1\n",
       "Fecha                                 \n",
       "2010-12-31           295         39.72\n",
       "2013-12-31           761         33.86\n",
       "2016-12-31           843         32.95\n",
       "All                 1899         34.37"
      ]
     },
     "execution_count": 274,
     "metadata": {},
     "output_type": "execute_result"
    }
   ],
   "source": [
    "#Tiempo de empleo promedio del grupo de tratamiento por sexo y olas. \n",
    "scar_table_empleo_año = dfprueba.pivot_table(values= [\"tiempo_empleo\"],\n",
    "                                  index=[\"Fecha\"],\n",
    "                                  columns=[\"scar\"], aggfunc= [\"count\", \"mean\"], margins = True)\n",
    "round(scar_table_empleo_año, 2).iloc[:, [1,4,]]"
   ]
  },
  {
   "cell_type": "markdown",
   "metadata": {},
   "source": [
    "#### Control"
   ]
  },
  {
   "cell_type": "code",
   "execution_count": 282,
   "metadata": {
    "scrolled": true
   },
   "outputs": [
    {
     "data": {
      "text/html": [
       "<div>\n",
       "<style scoped>\n",
       "    .dataframe tbody tr th:only-of-type {\n",
       "        vertical-align: middle;\n",
       "    }\n",
       "\n",
       "    .dataframe tbody tr th {\n",
       "        vertical-align: top;\n",
       "    }\n",
       "\n",
       "    .dataframe thead tr th {\n",
       "        text-align: left;\n",
       "    }\n",
       "\n",
       "    .dataframe thead tr:last-of-type th {\n",
       "        text-align: right;\n",
       "    }\n",
       "</style>\n",
       "<table border=\"1\" class=\"dataframe\">\n",
       "  <thead>\n",
       "    <tr>\n",
       "      <th></th>\n",
       "      <th></th>\n",
       "      <th>count</th>\n",
       "      <th>mean</th>\n",
       "    </tr>\n",
       "    <tr>\n",
       "      <th></th>\n",
       "      <th></th>\n",
       "      <th>tiempo_empleo</th>\n",
       "      <th>tiempo_empleo</th>\n",
       "    </tr>\n",
       "    <tr>\n",
       "      <th></th>\n",
       "      <th>control</th>\n",
       "      <th>1</th>\n",
       "      <th>1</th>\n",
       "    </tr>\n",
       "    <tr>\n",
       "      <th>Fecha</th>\n",
       "      <th>sexo</th>\n",
       "      <th></th>\n",
       "      <th></th>\n",
       "    </tr>\n",
       "  </thead>\n",
       "  <tbody>\n",
       "    <tr>\n",
       "      <th rowspan=\"2\" valign=\"top\">2010-12-31</th>\n",
       "      <th>hombre</th>\n",
       "      <td>210</td>\n",
       "      <td>59.04</td>\n",
       "    </tr>\n",
       "    <tr>\n",
       "      <th>mujer</th>\n",
       "      <td>168</td>\n",
       "      <td>61.85</td>\n",
       "    </tr>\n",
       "    <tr>\n",
       "      <th rowspan=\"2\" valign=\"top\">2013-12-31</th>\n",
       "      <th>hombre</th>\n",
       "      <td>873</td>\n",
       "      <td>14.72</td>\n",
       "    </tr>\n",
       "    <tr>\n",
       "      <th>mujer</th>\n",
       "      <td>735</td>\n",
       "      <td>13.45</td>\n",
       "    </tr>\n",
       "    <tr>\n",
       "      <th rowspan=\"2\" valign=\"top\">2016-12-31</th>\n",
       "      <th>hombre</th>\n",
       "      <td>629</td>\n",
       "      <td>31.61</td>\n",
       "    </tr>\n",
       "    <tr>\n",
       "      <th>mujer</th>\n",
       "      <td>524</td>\n",
       "      <td>25.81</td>\n",
       "    </tr>\n",
       "    <tr>\n",
       "      <th>All</th>\n",
       "      <th></th>\n",
       "      <td>3139</td>\n",
       "      <td>25.14</td>\n",
       "    </tr>\n",
       "  </tbody>\n",
       "</table>\n",
       "</div>"
      ],
      "text/plain": [
       "                          count          mean\n",
       "                  tiempo_empleo tiempo_empleo\n",
       "control                       1             1\n",
       "Fecha      sexo                              \n",
       "2010-12-31 hombre           210         59.04\n",
       "           mujer            168         61.85\n",
       "2013-12-31 hombre           873         14.72\n",
       "           mujer            735         13.45\n",
       "2016-12-31 hombre           629         31.61\n",
       "           mujer            524         25.81\n",
       "All                        3139         25.14"
      ]
     },
     "execution_count": 282,
     "metadata": {},
     "output_type": "execute_result"
    }
   ],
   "source": [
    "control_table_3 = dfprueba.pivot_table(values= [\"tiempo_empleo\"],\n",
    "                                  index=[\"Fecha\", \"sexo\"],\n",
    "                                  columns=[\"control\"], aggfunc= [\"count\", \"mean\"], margins = True)\n",
    "round(control_table_3, 2).iloc[:, [1,4,]]"
   ]
  },
  {
   "cell_type": "code",
   "execution_count": 276,
   "metadata": {
    "scrolled": false
   },
   "outputs": [
    {
     "data": {
      "text/html": [
       "<div>\n",
       "<style scoped>\n",
       "    .dataframe tbody tr th:only-of-type {\n",
       "        vertical-align: middle;\n",
       "    }\n",
       "\n",
       "    .dataframe tbody tr th {\n",
       "        vertical-align: top;\n",
       "    }\n",
       "\n",
       "    .dataframe thead tr th {\n",
       "        text-align: left;\n",
       "    }\n",
       "\n",
       "    .dataframe thead tr:last-of-type th {\n",
       "        text-align: right;\n",
       "    }\n",
       "</style>\n",
       "<table border=\"1\" class=\"dataframe\">\n",
       "  <thead>\n",
       "    <tr>\n",
       "      <th></th>\n",
       "      <th colspan=\"3\" halign=\"left\">count</th>\n",
       "      <th colspan=\"3\" halign=\"left\">mean</th>\n",
       "    </tr>\n",
       "    <tr>\n",
       "      <th></th>\n",
       "      <th colspan=\"3\" halign=\"left\">tiempo_empleo</th>\n",
       "      <th colspan=\"3\" halign=\"left\">tiempo_empleo</th>\n",
       "    </tr>\n",
       "    <tr>\n",
       "      <th>control</th>\n",
       "      <th>0</th>\n",
       "      <th>1</th>\n",
       "      <th>All</th>\n",
       "      <th>0</th>\n",
       "      <th>1</th>\n",
       "      <th>All</th>\n",
       "    </tr>\n",
       "    <tr>\n",
       "      <th>sexo</th>\n",
       "      <th></th>\n",
       "      <th></th>\n",
       "      <th></th>\n",
       "      <th></th>\n",
       "      <th></th>\n",
       "      <th></th>\n",
       "    </tr>\n",
       "  </thead>\n",
       "  <tbody>\n",
       "    <tr>\n",
       "      <th>hombre</th>\n",
       "      <td>1040</td>\n",
       "      <td>1712</td>\n",
       "      <td>2752</td>\n",
       "      <td>37.54</td>\n",
       "      <td>26.36</td>\n",
       "      <td>30.59</td>\n",
       "    </tr>\n",
       "    <tr>\n",
       "      <th>mujer</th>\n",
       "      <td>859</td>\n",
       "      <td>1427</td>\n",
       "      <td>2286</td>\n",
       "      <td>30.52</td>\n",
       "      <td>23.68</td>\n",
       "      <td>26.25</td>\n",
       "    </tr>\n",
       "    <tr>\n",
       "      <th>All</th>\n",
       "      <td>1899</td>\n",
       "      <td>3139</td>\n",
       "      <td>5038</td>\n",
       "      <td>34.37</td>\n",
       "      <td>25.14</td>\n",
       "      <td>28.62</td>\n",
       "    </tr>\n",
       "  </tbody>\n",
       "</table>\n",
       "</div>"
      ],
      "text/plain": [
       "                count                      mean              \n",
       "        tiempo_empleo             tiempo_empleo              \n",
       "control             0     1   All             0      1    All\n",
       "sexo                                                         \n",
       "hombre           1040  1712  2752         37.54  26.36  30.59\n",
       "mujer             859  1427  2286         30.52  23.68  26.25\n",
       "All              1899  3139  5038         34.37  25.14  28.62"
      ]
     },
     "execution_count": 276,
     "metadata": {},
     "output_type": "execute_result"
    }
   ],
   "source": [
    "#Tiempo de empleo promedio del grupo de control por sexo. 2010-2016 \n",
    "control_table_empleo= dfprueba.pivot_table(values= [\"tiempo_empleo\"],\n",
    "                                  index=[\"sexo\"],\n",
    "                                  columns=[\"control\"], aggfunc= [\"count\", \"mean\"], margins = True)\n",
    "round(control_table_empleo,2)#.iloc[:, [1,4,]]"
   ]
  },
  {
   "cell_type": "code",
   "execution_count": 277,
   "metadata": {},
   "outputs": [
    {
     "data": {
      "text/html": [
       "<div>\n",
       "<style scoped>\n",
       "    .dataframe tbody tr th:only-of-type {\n",
       "        vertical-align: middle;\n",
       "    }\n",
       "\n",
       "    .dataframe tbody tr th {\n",
       "        vertical-align: top;\n",
       "    }\n",
       "\n",
       "    .dataframe thead tr th {\n",
       "        text-align: left;\n",
       "    }\n",
       "\n",
       "    .dataframe thead tr:last-of-type th {\n",
       "        text-align: right;\n",
       "    }\n",
       "</style>\n",
       "<table border=\"1\" class=\"dataframe\">\n",
       "  <thead>\n",
       "    <tr>\n",
       "      <th></th>\n",
       "      <th colspan=\"3\" halign=\"left\">count</th>\n",
       "      <th colspan=\"3\" halign=\"left\">mean</th>\n",
       "    </tr>\n",
       "    <tr>\n",
       "      <th></th>\n",
       "      <th colspan=\"3\" halign=\"left\">tiempo_empleo</th>\n",
       "      <th colspan=\"3\" halign=\"left\">tiempo_empleo</th>\n",
       "    </tr>\n",
       "    <tr>\n",
       "      <th>control</th>\n",
       "      <th>0</th>\n",
       "      <th>1</th>\n",
       "      <th>All</th>\n",
       "      <th>0</th>\n",
       "      <th>1</th>\n",
       "      <th>All</th>\n",
       "    </tr>\n",
       "    <tr>\n",
       "      <th>Fecha</th>\n",
       "      <th></th>\n",
       "      <th></th>\n",
       "      <th></th>\n",
       "      <th></th>\n",
       "      <th></th>\n",
       "      <th></th>\n",
       "    </tr>\n",
       "  </thead>\n",
       "  <tbody>\n",
       "    <tr>\n",
       "      <th>2010-12-31</th>\n",
       "      <td>295</td>\n",
       "      <td>378</td>\n",
       "      <td>673</td>\n",
       "      <td>39.72</td>\n",
       "      <td>60.29</td>\n",
       "      <td>51.27</td>\n",
       "    </tr>\n",
       "    <tr>\n",
       "      <th>2013-12-31</th>\n",
       "      <td>761</td>\n",
       "      <td>1608</td>\n",
       "      <td>2369</td>\n",
       "      <td>33.86</td>\n",
       "      <td>14.14</td>\n",
       "      <td>20.47</td>\n",
       "    </tr>\n",
       "    <tr>\n",
       "      <th>2016-12-31</th>\n",
       "      <td>843</td>\n",
       "      <td>1153</td>\n",
       "      <td>1996</td>\n",
       "      <td>32.95</td>\n",
       "      <td>28.97</td>\n",
       "      <td>30.65</td>\n",
       "    </tr>\n",
       "    <tr>\n",
       "      <th>All</th>\n",
       "      <td>1899</td>\n",
       "      <td>3139</td>\n",
       "      <td>5038</td>\n",
       "      <td>34.37</td>\n",
       "      <td>25.14</td>\n",
       "      <td>28.62</td>\n",
       "    </tr>\n",
       "  </tbody>\n",
       "</table>\n",
       "</div>"
      ],
      "text/plain": [
       "                   count                      mean              \n",
       "           tiempo_empleo             tiempo_empleo              \n",
       "control                0     1   All             0      1    All\n",
       "Fecha                                                           \n",
       "2010-12-31           295   378   673         39.72  60.29  51.27\n",
       "2013-12-31           761  1608  2369         33.86  14.14  20.47\n",
       "2016-12-31           843  1153  1996         32.95  28.97  30.65\n",
       "All                 1899  3139  5038         34.37  25.14  28.62"
      ]
     },
     "execution_count": 277,
     "metadata": {},
     "output_type": "execute_result"
    }
   ],
   "source": [
    "#Tiempo de empleo promedio del grupo de control por olas\n",
    "control_table_empleo_año= dfprueba.pivot_table(values= [\"tiempo_empleo\"],\n",
    "                                  index=[\"Fecha\"],\n",
    "                                  columns=[\"control\"], aggfunc= [\"count\", \"mean\"], margins = True)\n",
    "round(control_table_empleo_año,2)#.iloc[:, 0:5]"
   ]
  },
  {
   "cell_type": "code",
   "execution_count": 222,
   "metadata": {},
   "outputs": [
    {
     "data": {
      "text/html": [
       "<div>\n",
       "<style scoped>\n",
       "    .dataframe tbody tr th:only-of-type {\n",
       "        vertical-align: middle;\n",
       "    }\n",
       "\n",
       "    .dataframe tbody tr th {\n",
       "        vertical-align: top;\n",
       "    }\n",
       "\n",
       "    .dataframe thead tr th {\n",
       "        text-align: left;\n",
       "    }\n",
       "\n",
       "    .dataframe thead tr:last-of-type th {\n",
       "        text-align: right;\n",
       "    }\n",
       "</style>\n",
       "<table border=\"1\" class=\"dataframe\">\n",
       "  <thead>\n",
       "    <tr>\n",
       "      <th></th>\n",
       "      <th colspan=\"3\" halign=\"left\">count</th>\n",
       "      <th colspan=\"3\" halign=\"left\">mean</th>\n",
       "    </tr>\n",
       "    <tr>\n",
       "      <th></th>\n",
       "      <th colspan=\"3\" halign=\"left\">tiempo_empleo</th>\n",
       "      <th colspan=\"3\" halign=\"left\">tiempo_empleo</th>\n",
       "    </tr>\n",
       "    <tr>\n",
       "      <th>control</th>\n",
       "      <th>0</th>\n",
       "      <th>1</th>\n",
       "      <th>All</th>\n",
       "      <th>0</th>\n",
       "      <th>1</th>\n",
       "      <th>All</th>\n",
       "    </tr>\n",
       "    <tr>\n",
       "      <th>Fecha</th>\n",
       "      <th></th>\n",
       "      <th></th>\n",
       "      <th></th>\n",
       "      <th></th>\n",
       "      <th></th>\n",
       "      <th></th>\n",
       "    </tr>\n",
       "  </thead>\n",
       "  <tbody>\n",
       "    <tr>\n",
       "      <th>2010-12-31</th>\n",
       "      <td>1075</td>\n",
       "      <td>882</td>\n",
       "      <td>1957</td>\n",
       "      <td>74.06</td>\n",
       "      <td>108.05</td>\n",
       "      <td>89.38</td>\n",
       "    </tr>\n",
       "    <tr>\n",
       "      <th>2013-12-31</th>\n",
       "      <td>996</td>\n",
       "      <td>979</td>\n",
       "      <td>1975</td>\n",
       "      <td>55.91</td>\n",
       "      <td>16.90</td>\n",
       "      <td>36.57</td>\n",
       "    </tr>\n",
       "    <tr>\n",
       "      <th>2016-12-31</th>\n",
       "      <td>1137</td>\n",
       "      <td>1011</td>\n",
       "      <td>2148</td>\n",
       "      <td>48.76</td>\n",
       "      <td>17.60</td>\n",
       "      <td>34.09</td>\n",
       "    </tr>\n",
       "    <tr>\n",
       "      <th>All</th>\n",
       "      <td>3208</td>\n",
       "      <td>2872</td>\n",
       "      <td>6080</td>\n",
       "      <td>59.46</td>\n",
       "      <td>45.14</td>\n",
       "      <td>52.69</td>\n",
       "    </tr>\n",
       "  </tbody>\n",
       "</table>\n",
       "</div>"
      ],
      "text/plain": [
       "                   count                      mean               \n",
       "           tiempo_empleo             tiempo_empleo               \n",
       "control                0     1   All             0       1    All\n",
       "Fecha                                                            \n",
       "2010-12-31          1075   882  1957         74.06  108.05  89.38\n",
       "2013-12-31           996   979  1975         55.91   16.90  36.57\n",
       "2016-12-31          1137  1011  2148         48.76   17.60  34.09\n",
       "All                 3208  2872  6080         59.46   45.14  52.69"
      ]
     },
     "execution_count": 222,
     "metadata": {},
     "output_type": "execute_result"
    }
   ],
   "source": [
    "control_table_empleo_año= dfprueba.pivot_table(values= [\"tiempo_empleo\"],\n",
    "                                  index=[\"Fecha\"],\n",
    "                                  columns=[\"control\"], aggfunc= [\"count\", \"mean\"], margins = True)\n",
    "round(control_table_empleo_año,2)#.iloc[:, 0:5]"
   ]
  },
  {
   "cell_type": "code",
   "execution_count": 218,
   "metadata": {},
   "outputs": [
    {
     "data": {
      "text/html": [
       "<div>\n",
       "<style scoped>\n",
       "    .dataframe tbody tr th:only-of-type {\n",
       "        vertical-align: middle;\n",
       "    }\n",
       "\n",
       "    .dataframe tbody tr th {\n",
       "        vertical-align: top;\n",
       "    }\n",
       "\n",
       "    .dataframe thead tr th {\n",
       "        text-align: left;\n",
       "    }\n",
       "\n",
       "    .dataframe thead tr:last-of-type th {\n",
       "        text-align: right;\n",
       "    }\n",
       "</style>\n",
       "<table border=\"1\" class=\"dataframe\">\n",
       "  <thead>\n",
       "    <tr>\n",
       "      <th></th>\n",
       "      <th colspan=\"12\" halign=\"left\">mean</th>\n",
       "    </tr>\n",
       "    <tr>\n",
       "      <th></th>\n",
       "      <th colspan=\"12\" halign=\"left\">tiempo_empleo</th>\n",
       "    </tr>\n",
       "    <tr>\n",
       "      <th>camino</th>\n",
       "      <th>c_cinco</th>\n",
       "      <th>c_cuatro</th>\n",
       "      <th>c_dos</th>\n",
       "      <th>c_tres</th>\n",
       "      <th>c_uno</th>\n",
       "      <th>t_cinco</th>\n",
       "      <th>t_cuatro</th>\n",
       "      <th>t_dos</th>\n",
       "      <th>t_seis</th>\n",
       "      <th>t_tres</th>\n",
       "      <th>t_uno</th>\n",
       "      <th>All</th>\n",
       "    </tr>\n",
       "    <tr>\n",
       "      <th>Fecha</th>\n",
       "      <th></th>\n",
       "      <th></th>\n",
       "      <th></th>\n",
       "      <th></th>\n",
       "      <th></th>\n",
       "      <th></th>\n",
       "      <th></th>\n",
       "      <th></th>\n",
       "      <th></th>\n",
       "      <th></th>\n",
       "      <th></th>\n",
       "      <th></th>\n",
       "    </tr>\n",
       "  </thead>\n",
       "  <tbody>\n",
       "    <tr>\n",
       "      <th>2010-12-31</th>\n",
       "      <td>29.33</td>\n",
       "      <td>96.00</td>\n",
       "      <td>NaN</td>\n",
       "      <td>NaN</td>\n",
       "      <td>60.95</td>\n",
       "      <td>NaN</td>\n",
       "      <td>NaN</td>\n",
       "      <td>41.09</td>\n",
       "      <td>60.28</td>\n",
       "      <td>37.66</td>\n",
       "      <td>28.00</td>\n",
       "      <td>51.89</td>\n",
       "    </tr>\n",
       "    <tr>\n",
       "      <th>2013-12-31</th>\n",
       "      <td>71.28</td>\n",
       "      <td>NaN</td>\n",
       "      <td>25.00</td>\n",
       "      <td>26.15</td>\n",
       "      <td>12.71</td>\n",
       "      <td>NaN</td>\n",
       "      <td>32.61</td>\n",
       "      <td>36.39</td>\n",
       "      <td>NaN</td>\n",
       "      <td>26.84</td>\n",
       "      <td>NaN</td>\n",
       "      <td>20.18</td>\n",
       "    </tr>\n",
       "    <tr>\n",
       "      <th>2016-12-31</th>\n",
       "      <td>6.53</td>\n",
       "      <td>45.92</td>\n",
       "      <td>7.47</td>\n",
       "      <td>7.00</td>\n",
       "      <td>30.25</td>\n",
       "      <td>26.33</td>\n",
       "      <td>43.25</td>\n",
       "      <td>30.04</td>\n",
       "      <td>29.84</td>\n",
       "      <td>37.79</td>\n",
       "      <td>36.88</td>\n",
       "      <td>30.65</td>\n",
       "    </tr>\n",
       "    <tr>\n",
       "      <th>All</th>\n",
       "      <td>37.73</td>\n",
       "      <td>49.50</td>\n",
       "      <td>15.07</td>\n",
       "      <td>15.91</td>\n",
       "      <td>24.96</td>\n",
       "      <td>26.33</td>\n",
       "      <td>38.00</td>\n",
       "      <td>34.43</td>\n",
       "      <td>38.82</td>\n",
       "      <td>32.92</td>\n",
       "      <td>34.06</td>\n",
       "      <td>28.54</td>\n",
       "    </tr>\n",
       "  </tbody>\n",
       "</table>\n",
       "</div>"
      ],
      "text/plain": [
       "                    mean                                                 \\\n",
       "           tiempo_empleo                                                  \n",
       "camino           c_cinco c_cuatro  c_dos c_tres  c_uno t_cinco t_cuatro   \n",
       "Fecha                                                                     \n",
       "2010-12-31         29.33    96.00    NaN    NaN  60.95     NaN      NaN   \n",
       "2013-12-31         71.28      NaN  25.00  26.15  12.71     NaN    32.61   \n",
       "2016-12-31          6.53    45.92   7.47   7.00  30.25   26.33    43.25   \n",
       "All                37.73    49.50  15.07  15.91  24.96   26.33    38.00   \n",
       "\n",
       "                                               \n",
       "                                               \n",
       "camino      t_dos t_seis t_tres  t_uno    All  \n",
       "Fecha                                          \n",
       "2010-12-31  41.09  60.28  37.66  28.00  51.89  \n",
       "2013-12-31  36.39    NaN  26.84    NaN  20.18  \n",
       "2016-12-31  30.04  29.84  37.79  36.88  30.65  \n",
       "All         34.43  38.82  32.92  34.06  28.54  "
      ]
     },
     "execution_count": 218,
     "metadata": {},
     "output_type": "execute_result"
    }
   ],
   "source": [
    "#Tiempo de empleo promedio del grupo de control por olas\n",
    "control_table_empleo_año= dfprueba.pivot_table(values= [\"tiempo_empleo\"],\n",
    "                                  index=[\"Fecha\"],\n",
    "                                  columns=[\"camino\"], aggfunc= [\"mean\"], margins = True)\n",
    "round(control_table_empleo_año,2)#.iloc[:, 0:5]"
   ]
  },
  {
   "cell_type": "code",
   "execution_count": 283,
   "metadata": {},
   "outputs": [
    {
     "data": {
      "text/html": [
       "<div>\n",
       "<style scoped>\n",
       "    .dataframe tbody tr th:only-of-type {\n",
       "        vertical-align: middle;\n",
       "    }\n",
       "\n",
       "    .dataframe tbody tr th {\n",
       "        vertical-align: top;\n",
       "    }\n",
       "\n",
       "    .dataframe thead tr th {\n",
       "        text-align: left;\n",
       "    }\n",
       "\n",
       "    .dataframe thead tr:last-of-type th {\n",
       "        text-align: right;\n",
       "    }\n",
       "</style>\n",
       "<table border=\"1\" class=\"dataframe\">\n",
       "  <thead>\n",
       "    <tr>\n",
       "      <th></th>\n",
       "      <th></th>\n",
       "      <th colspan=\"2\" halign=\"left\">id</th>\n",
       "    </tr>\n",
       "    <tr>\n",
       "      <th></th>\n",
       "      <th>control</th>\n",
       "      <th colspan=\"2\" halign=\"left\">1</th>\n",
       "    </tr>\n",
       "    <tr>\n",
       "      <th></th>\n",
       "      <th>sexo</th>\n",
       "      <th>hombre</th>\n",
       "      <th>mujer</th>\n",
       "    </tr>\n",
       "    <tr>\n",
       "      <th>Fecha</th>\n",
       "      <th>tiempo_trab</th>\n",
       "      <th></th>\n",
       "      <th></th>\n",
       "    </tr>\n",
       "  </thead>\n",
       "  <tbody>\n",
       "    <tr>\n",
       "      <th rowspan=\"4\" valign=\"top\">2013-12-31</th>\n",
       "      <th>Entre 6 meses y 11 meses</th>\n",
       "      <td>1</td>\n",
       "      <td>5</td>\n",
       "    </tr>\n",
       "    <tr>\n",
       "      <th>Entre un (1) año y dos</th>\n",
       "      <td>4</td>\n",
       "      <td>21</td>\n",
       "    </tr>\n",
       "    <tr>\n",
       "      <th>Menos de seis (6) meses</th>\n",
       "      <td>3</td>\n",
       "      <td>10</td>\n",
       "    </tr>\n",
       "    <tr>\n",
       "      <th>Más de dos (2) años</th>\n",
       "      <td>56</td>\n",
       "      <td>51</td>\n",
       "    </tr>\n",
       "    <tr>\n",
       "      <th rowspan=\"4\" valign=\"top\">2016-12-31</th>\n",
       "      <th>Entre 1 año y 2 años</th>\n",
       "      <td>34</td>\n",
       "      <td>48</td>\n",
       "    </tr>\n",
       "    <tr>\n",
       "      <th>Entre 6 meses y 11 meses</th>\n",
       "      <td>9</td>\n",
       "      <td>11</td>\n",
       "    </tr>\n",
       "    <tr>\n",
       "      <th>Menos de 6 meses</th>\n",
       "      <td>13</td>\n",
       "      <td>26</td>\n",
       "    </tr>\n",
       "    <tr>\n",
       "      <th>Más de 2 años</th>\n",
       "      <td>117</td>\n",
       "      <td>108</td>\n",
       "    </tr>\n",
       "    <tr>\n",
       "      <th>All</th>\n",
       "      <th></th>\n",
       "      <td>237</td>\n",
       "      <td>280</td>\n",
       "    </tr>\n",
       "  </tbody>\n",
       "</table>\n",
       "</div>"
      ],
      "text/plain": [
       "                                        id      \n",
       "control                                  1      \n",
       "sexo                                hombre mujer\n",
       "Fecha      tiempo_trab                          \n",
       "2013-12-31 Entre 6 meses y 11 meses      1     5\n",
       "           Entre un (1) año y dos        4    21\n",
       "           Menos de seis (6) meses       3    10\n",
       "           Más de dos (2) años          56    51\n",
       "2016-12-31 Entre 1 año y 2 años         34    48\n",
       "           Entre 6 meses y 11 meses      9    11\n",
       "           Menos de 6 meses             13    26\n",
       "           Más de 2 años               117   108\n",
       "All                                    237   280"
      ]
     },
     "execution_count": 283,
     "metadata": {},
     "output_type": "execute_result"
    }
   ],
   "source": [
    "control_table_1 = dfprueba.pivot_table(values= [\"id\"],\n",
    "                                  index=[\"Fecha\", \"tiempo_trab\"],\n",
    "                                  columns=[\"control\", \"sexo\"], aggfunc= \"count\", margins = True)\n",
    "round(control_table_1,2).iloc[:, [2,3]]\n",
    "\n"
   ]
  },
  {
   "cell_type": "code",
   "execution_count": 7,
   "metadata": {
    "scrolled": true
   },
   "outputs": [
    {
     "data": {
      "text/html": [
       "<div>\n",
       "<style scoped>\n",
       "    .dataframe tbody tr th:only-of-type {\n",
       "        vertical-align: middle;\n",
       "    }\n",
       "\n",
       "    .dataframe tbody tr th {\n",
       "        vertical-align: top;\n",
       "    }\n",
       "\n",
       "    .dataframe thead tr th {\n",
       "        text-align: left;\n",
       "    }\n",
       "\n",
       "    .dataframe thead tr:last-of-type th {\n",
       "        text-align: right;\n",
       "    }\n",
       "</style>\n",
       "<table border=\"1\" class=\"dataframe\">\n",
       "  <thead>\n",
       "    <tr>\n",
       "      <th></th>\n",
       "      <th></th>\n",
       "      <th colspan=\"2\" halign=\"left\">id</th>\n",
       "    </tr>\n",
       "    <tr>\n",
       "      <th></th>\n",
       "      <th>control</th>\n",
       "      <th colspan=\"2\" halign=\"left\">1</th>\n",
       "    </tr>\n",
       "    <tr>\n",
       "      <th></th>\n",
       "      <th>sexo</th>\n",
       "      <th>hombre</th>\n",
       "      <th>mujer</th>\n",
       "    </tr>\n",
       "    <tr>\n",
       "      <th>Fecha</th>\n",
       "      <th>tiempo_desemp</th>\n",
       "      <th></th>\n",
       "      <th></th>\n",
       "    </tr>\n",
       "  </thead>\n",
       "  <tbody>\n",
       "    <tr>\n",
       "      <th rowspan=\"4\" valign=\"top\">2013-12-31</th>\n",
       "      <th>Entre 6 meses y 11 meses</th>\n",
       "      <td>NaN</td>\n",
       "      <td>4.0</td>\n",
       "    </tr>\n",
       "    <tr>\n",
       "      <th>Entre un (1) año y dos</th>\n",
       "      <td>NaN</td>\n",
       "      <td>6.0</td>\n",
       "    </tr>\n",
       "    <tr>\n",
       "      <th>Menos de seis (6) meses</th>\n",
       "      <td>2.0</td>\n",
       "      <td>4.0</td>\n",
       "    </tr>\n",
       "    <tr>\n",
       "      <th>Más de dos (2) años</th>\n",
       "      <td>2.0</td>\n",
       "      <td>2.0</td>\n",
       "    </tr>\n",
       "    <tr>\n",
       "      <th rowspan=\"4\" valign=\"top\">2016-12-31</th>\n",
       "      <th>Entre 1 año y 2 años</th>\n",
       "      <td>13.0</td>\n",
       "      <td>9.0</td>\n",
       "    </tr>\n",
       "    <tr>\n",
       "      <th>Entre 6 meses y 11 meses</th>\n",
       "      <td>13.0</td>\n",
       "      <td>13.0</td>\n",
       "    </tr>\n",
       "    <tr>\n",
       "      <th>Menos de 6 meses</th>\n",
       "      <td>47.0</td>\n",
       "      <td>29.0</td>\n",
       "    </tr>\n",
       "    <tr>\n",
       "      <th>Más de 2 años</th>\n",
       "      <td>12.0</td>\n",
       "      <td>10.0</td>\n",
       "    </tr>\n",
       "    <tr>\n",
       "      <th>All</th>\n",
       "      <th></th>\n",
       "      <td>89.0</td>\n",
       "      <td>77.0</td>\n",
       "    </tr>\n",
       "  </tbody>\n",
       "</table>\n",
       "</div>"
      ],
      "text/plain": [
       "                                        id      \n",
       "control                                  1      \n",
       "sexo                                hombre mujer\n",
       "Fecha      tiempo_desemp                        \n",
       "2013-12-31 Entre 6 meses y 11 meses    NaN   4.0\n",
       "           Entre un (1) año y dos      NaN   6.0\n",
       "           Menos de seis (6) meses     2.0   4.0\n",
       "           Más de dos (2) años         2.0   2.0\n",
       "2016-12-31 Entre 1 año y 2 años       13.0   9.0\n",
       "           Entre 6 meses y 11 meses   13.0  13.0\n",
       "           Menos de 6 meses           47.0  29.0\n",
       "           Más de 2 años              12.0  10.0\n",
       "All                                   89.0  77.0"
      ]
     },
     "execution_count": 7,
     "metadata": {},
     "output_type": "execute_result"
    }
   ],
   "source": [
    "#Tiempo de desempleo control intermedio\n",
    "ctr_des_int = dfprueba.pivot_table(values= [\"id\"],\n",
    "                                  index=[\"Fecha\", \"tiempo_desemp\"],\n",
    "                                  columns=[\"control\", \"sexo\"], aggfunc= \"count\", margins = True)\n",
    "round(ctr_des_int,2).iloc[:, [2,3]]\n"
   ]
  },
  {
   "cell_type": "code",
   "execution_count": 13,
   "metadata": {
    "scrolled": true
   },
   "outputs": [
    {
     "data": {
      "text/html": [
       "<div>\n",
       "<style scoped>\n",
       "    .dataframe tbody tr th:only-of-type {\n",
       "        vertical-align: middle;\n",
       "    }\n",
       "\n",
       "    .dataframe tbody tr th {\n",
       "        vertical-align: top;\n",
       "    }\n",
       "\n",
       "    .dataframe thead tr th {\n",
       "        text-align: left;\n",
       "    }\n",
       "\n",
       "    .dataframe thead tr:last-of-type th {\n",
       "        text-align: right;\n",
       "    }\n",
       "</style>\n",
       "<table border=\"1\" class=\"dataframe\">\n",
       "  <thead>\n",
       "    <tr>\n",
       "      <th></th>\n",
       "      <th></th>\n",
       "      <th colspan=\"4\" halign=\"left\">id</th>\n",
       "    </tr>\n",
       "    <tr>\n",
       "      <th></th>\n",
       "      <th>camino</th>\n",
       "      <th>c_cinco</th>\n",
       "      <th>c_dos</th>\n",
       "      <th>c_tres</th>\n",
       "      <th>c_uno</th>\n",
       "    </tr>\n",
       "    <tr>\n",
       "      <th>Fecha</th>\n",
       "      <th>tiempo_desemp</th>\n",
       "      <th></th>\n",
       "      <th></th>\n",
       "      <th></th>\n",
       "      <th></th>\n",
       "    </tr>\n",
       "  </thead>\n",
       "  <tbody>\n",
       "    <tr>\n",
       "      <th rowspan=\"4\" valign=\"top\">2013-12-31</th>\n",
       "      <th>Entre 6 meses y 11 meses</th>\n",
       "      <td>1.0</td>\n",
       "      <td>2.0</td>\n",
       "      <td>1.0</td>\n",
       "      <td>NaN</td>\n",
       "    </tr>\n",
       "    <tr>\n",
       "      <th>Entre un (1) año y dos</th>\n",
       "      <td>2.0</td>\n",
       "      <td>3.0</td>\n",
       "      <td>1.0</td>\n",
       "      <td>NaN</td>\n",
       "    </tr>\n",
       "    <tr>\n",
       "      <th>Menos de seis (6) meses</th>\n",
       "      <td>4.0</td>\n",
       "      <td>1.0</td>\n",
       "      <td>1.0</td>\n",
       "      <td>NaN</td>\n",
       "    </tr>\n",
       "    <tr>\n",
       "      <th>Más de dos (2) años</th>\n",
       "      <td>1.0</td>\n",
       "      <td>2.0</td>\n",
       "      <td>1.0</td>\n",
       "      <td>NaN</td>\n",
       "    </tr>\n",
       "    <tr>\n",
       "      <th rowspan=\"4\" valign=\"top\">2016-12-31</th>\n",
       "      <th>Entre 1 año y 2 años</th>\n",
       "      <td>NaN</td>\n",
       "      <td>NaN</td>\n",
       "      <td>NaN</td>\n",
       "      <td>22.0</td>\n",
       "    </tr>\n",
       "    <tr>\n",
       "      <th>Entre 6 meses y 11 meses</th>\n",
       "      <td>NaN</td>\n",
       "      <td>NaN</td>\n",
       "      <td>NaN</td>\n",
       "      <td>26.0</td>\n",
       "    </tr>\n",
       "    <tr>\n",
       "      <th>Menos de 6 meses</th>\n",
       "      <td>NaN</td>\n",
       "      <td>NaN</td>\n",
       "      <td>NaN</td>\n",
       "      <td>76.0</td>\n",
       "    </tr>\n",
       "    <tr>\n",
       "      <th>Más de 2 años</th>\n",
       "      <td>NaN</td>\n",
       "      <td>NaN</td>\n",
       "      <td>NaN</td>\n",
       "      <td>22.0</td>\n",
       "    </tr>\n",
       "    <tr>\n",
       "      <th>All</th>\n",
       "      <th></th>\n",
       "      <td>8.0</td>\n",
       "      <td>8.0</td>\n",
       "      <td>4.0</td>\n",
       "      <td>146.0</td>\n",
       "    </tr>\n",
       "  </tbody>\n",
       "</table>\n",
       "</div>"
      ],
      "text/plain": [
       "                                         id                    \n",
       "camino                              c_cinco c_dos c_tres  c_uno\n",
       "Fecha      tiempo_desemp                                       \n",
       "2013-12-31 Entre 6 meses y 11 meses     1.0   2.0    1.0    NaN\n",
       "           Entre un (1) año y dos       2.0   3.0    1.0    NaN\n",
       "           Menos de seis (6) meses      4.0   1.0    1.0    NaN\n",
       "           Más de dos (2) años          1.0   2.0    1.0    NaN\n",
       "2016-12-31 Entre 1 año y 2 años         NaN   NaN    NaN   22.0\n",
       "           Entre 6 meses y 11 meses     NaN   NaN    NaN   26.0\n",
       "           Menos de 6 meses             NaN   NaN    NaN   76.0\n",
       "           Más de 2 años                NaN   NaN    NaN   22.0\n",
       "All                                     8.0   8.0    4.0  146.0"
      ]
     },
     "execution_count": 13,
     "metadata": {},
     "output_type": "execute_result"
    }
   ],
   "source": [
    "#Tiempo de desempleo intermedio caminos, control\n",
    "ctr_des_int_c = dfprueba.pivot_table(values= [\"id\"],\n",
    "                                  index=[\"Fecha\", \"tiempo_desemp\"],\n",
    "                                  columns=[\"camino\"], aggfunc= \"count\", margins = True)\n",
    "round(ctr_des_int_c,2).iloc[:, :4]\n"
   ]
  },
  {
   "cell_type": "code",
   "execution_count": 279,
   "metadata": {
    "scrolled": true
   },
   "outputs": [
    {
     "data": {
      "text/html": [
       "<div>\n",
       "<style scoped>\n",
       "    .dataframe tbody tr th:only-of-type {\n",
       "        vertical-align: middle;\n",
       "    }\n",
       "\n",
       "    .dataframe tbody tr th {\n",
       "        vertical-align: top;\n",
       "    }\n",
       "\n",
       "    .dataframe thead tr th {\n",
       "        text-align: left;\n",
       "    }\n",
       "\n",
       "    .dataframe thead tr:last-of-type th {\n",
       "        text-align: right;\n",
       "    }\n",
       "</style>\n",
       "<table border=\"1\" class=\"dataframe\">\n",
       "  <thead>\n",
       "    <tr>\n",
       "      <th></th>\n",
       "      <th colspan=\"3\" halign=\"left\">count</th>\n",
       "      <th colspan=\"3\" halign=\"left\">mean</th>\n",
       "    </tr>\n",
       "    <tr>\n",
       "      <th></th>\n",
       "      <th colspan=\"3\" halign=\"left\">tiempo_desempleo</th>\n",
       "      <th colspan=\"3\" halign=\"left\">tiempo_desempleo</th>\n",
       "    </tr>\n",
       "    <tr>\n",
       "      <th>control</th>\n",
       "      <th>0</th>\n",
       "      <th>1</th>\n",
       "      <th>All</th>\n",
       "      <th>0</th>\n",
       "      <th>1</th>\n",
       "      <th>All</th>\n",
       "    </tr>\n",
       "    <tr>\n",
       "      <th>Fecha</th>\n",
       "      <th></th>\n",
       "      <th></th>\n",
       "      <th></th>\n",
       "      <th></th>\n",
       "      <th></th>\n",
       "      <th></th>\n",
       "    </tr>\n",
       "  </thead>\n",
       "  <tbody>\n",
       "    <tr>\n",
       "      <th>2010-12-31</th>\n",
       "      <td>94</td>\n",
       "      <td>14</td>\n",
       "      <td>108</td>\n",
       "      <td>11.51</td>\n",
       "      <td>12.43</td>\n",
       "      <td>11.63</td>\n",
       "    </tr>\n",
       "    <tr>\n",
       "      <th>2013-12-31</th>\n",
       "      <td>146</td>\n",
       "      <td>0</td>\n",
       "      <td>146</td>\n",
       "      <td>29.08</td>\n",
       "      <td>NaN</td>\n",
       "      <td>29.08</td>\n",
       "    </tr>\n",
       "    <tr>\n",
       "      <th>2016-12-31</th>\n",
       "      <td>37</td>\n",
       "      <td>37</td>\n",
       "      <td>74</td>\n",
       "      <td>13.30</td>\n",
       "      <td>12.70</td>\n",
       "      <td>13.00</td>\n",
       "    </tr>\n",
       "    <tr>\n",
       "      <th>All</th>\n",
       "      <td>277</td>\n",
       "      <td>51</td>\n",
       "      <td>328</td>\n",
       "      <td>21.01</td>\n",
       "      <td>12.63</td>\n",
       "      <td>19.70</td>\n",
       "    </tr>\n",
       "  </tbody>\n",
       "</table>\n",
       "</div>"
      ],
      "text/plain": [
       "                      count                      mean              \n",
       "           tiempo_desempleo          tiempo_desempleo              \n",
       "control                   0   1  All                0      1    All\n",
       "Fecha                                                              \n",
       "2010-12-31               94  14  108            11.51  12.43  11.63\n",
       "2013-12-31              146   0  146            29.08    NaN  29.08\n",
       "2016-12-31               37  37   74            13.30  12.70  13.00\n",
       "All                     277  51  328            21.01  12.63  19.70"
      ]
     },
     "execution_count": 279,
     "metadata": {},
     "output_type": "execute_result"
    }
   ],
   "source": [
    "#Tiempo de desempleo promedio del grupo de control por olas\n",
    "control_table_desempleo_año= dfprueba.pivot_table(values= [\"tiempo_desempleo\"],\n",
    "                                  index=[\"Fecha\"],\n",
    "                                  columns=[\"control\"], aggfunc= [\"count\", \"mean\"], margins = True)\n",
    "round(control_table_desempleo_año,2)#.iloc[:, 0:5]"
   ]
  },
  {
   "cell_type": "code",
   "execution_count": 281,
   "metadata": {},
   "outputs": [
    {
     "data": {
      "text/html": [
       "<div>\n",
       "<style scoped>\n",
       "    .dataframe tbody tr th:only-of-type {\n",
       "        vertical-align: middle;\n",
       "    }\n",
       "\n",
       "    .dataframe tbody tr th {\n",
       "        vertical-align: top;\n",
       "    }\n",
       "\n",
       "    .dataframe thead tr th {\n",
       "        text-align: left;\n",
       "    }\n",
       "\n",
       "    .dataframe thead tr:last-of-type th {\n",
       "        text-align: right;\n",
       "    }\n",
       "</style>\n",
       "<table border=\"1\" class=\"dataframe\">\n",
       "  <thead>\n",
       "    <tr>\n",
       "      <th></th>\n",
       "      <th colspan=\"3\" halign=\"left\">count</th>\n",
       "      <th colspan=\"3\" halign=\"left\">mean</th>\n",
       "    </tr>\n",
       "    <tr>\n",
       "      <th></th>\n",
       "      <th colspan=\"3\" halign=\"left\">tiempo_desempleo</th>\n",
       "      <th colspan=\"3\" halign=\"left\">tiempo_desempleo</th>\n",
       "    </tr>\n",
       "    <tr>\n",
       "      <th>control</th>\n",
       "      <th>0</th>\n",
       "      <th>1</th>\n",
       "      <th>All</th>\n",
       "      <th>0</th>\n",
       "      <th>1</th>\n",
       "      <th>All</th>\n",
       "    </tr>\n",
       "    <tr>\n",
       "      <th>sexo</th>\n",
       "      <th></th>\n",
       "      <th></th>\n",
       "      <th></th>\n",
       "      <th></th>\n",
       "      <th></th>\n",
       "      <th></th>\n",
       "    </tr>\n",
       "  </thead>\n",
       "  <tbody>\n",
       "    <tr>\n",
       "      <th>hombre</th>\n",
       "      <td>97</td>\n",
       "      <td>22</td>\n",
       "      <td>119</td>\n",
       "      <td>22.45</td>\n",
       "      <td>12.55</td>\n",
       "      <td>20.62</td>\n",
       "    </tr>\n",
       "    <tr>\n",
       "      <th>mujer</th>\n",
       "      <td>180</td>\n",
       "      <td>29</td>\n",
       "      <td>209</td>\n",
       "      <td>20.23</td>\n",
       "      <td>12.69</td>\n",
       "      <td>19.18</td>\n",
       "    </tr>\n",
       "    <tr>\n",
       "      <th>All</th>\n",
       "      <td>277</td>\n",
       "      <td>51</td>\n",
       "      <td>328</td>\n",
       "      <td>21.01</td>\n",
       "      <td>12.63</td>\n",
       "      <td>19.70</td>\n",
       "    </tr>\n",
       "  </tbody>\n",
       "</table>\n",
       "</div>"
      ],
      "text/plain": [
       "                   count                      mean              \n",
       "        tiempo_desempleo          tiempo_desempleo              \n",
       "control                0   1  All                0      1    All\n",
       "sexo                                                            \n",
       "hombre                97  22  119            22.45  12.55  20.62\n",
       "mujer                180  29  209            20.23  12.69  19.18\n",
       "All                  277  51  328            21.01  12.63  19.70"
      ]
     },
     "execution_count": 281,
     "metadata": {},
     "output_type": "execute_result"
    }
   ],
   "source": [
    "#Tiempo de desempleo promedio del grupo de control por olas y sexo\n",
    "control_table_desempleo_sex= dfprueba.pivot_table(values= [\"tiempo_desempleo\"],\n",
    "                                  index=[\"sexo\"],\n",
    "                                  columns=[\"control\"], aggfunc= [\"count\", \"mean\"], margins = True)\n",
    "round(control_table_desempleo_sex,2)#.iloc[:, 0:5]"
   ]
  },
  {
   "cell_type": "code",
   "execution_count": 24,
   "metadata": {
    "scrolled": true
   },
   "outputs": [
    {
     "data": {
      "text/html": [
       "<div>\n",
       "<style scoped>\n",
       "    .dataframe tbody tr th:only-of-type {\n",
       "        vertical-align: middle;\n",
       "    }\n",
       "\n",
       "    .dataframe tbody tr th {\n",
       "        vertical-align: top;\n",
       "    }\n",
       "\n",
       "    .dataframe thead tr th {\n",
       "        text-align: left;\n",
       "    }\n",
       "\n",
       "    .dataframe thead tr:last-of-type th {\n",
       "        text-align: right;\n",
       "    }\n",
       "</style>\n",
       "<table border=\"1\" class=\"dataframe\">\n",
       "  <thead>\n",
       "    <tr>\n",
       "      <th></th>\n",
       "      <th>sexo</th>\n",
       "      <th colspan=\"3\" halign=\"left\">hombre</th>\n",
       "      <th colspan=\"3\" halign=\"left\">mujer</th>\n",
       "      <th>All</th>\n",
       "    </tr>\n",
       "    <tr>\n",
       "      <th></th>\n",
       "      <th>clasif_lab</th>\n",
       "      <th>1.0</th>\n",
       "      <th>2.0</th>\n",
       "      <th>3.0</th>\n",
       "      <th>1.0</th>\n",
       "      <th>2.0</th>\n",
       "      <th>3.0</th>\n",
       "      <th></th>\n",
       "    </tr>\n",
       "    <tr>\n",
       "      <th>Fecha</th>\n",
       "      <th>estrato</th>\n",
       "      <th></th>\n",
       "      <th></th>\n",
       "      <th></th>\n",
       "      <th></th>\n",
       "      <th></th>\n",
       "      <th></th>\n",
       "      <th></th>\n",
       "    </tr>\n",
       "  </thead>\n",
       "  <tbody>\n",
       "    <tr>\n",
       "      <th rowspan=\"4\" valign=\"top\">2010-12-31</th>\n",
       "      <th>1.0</th>\n",
       "      <td>41.750357</td>\n",
       "      <td>44.903846</td>\n",
       "      <td>55.068966</td>\n",
       "      <td>39.855446</td>\n",
       "      <td>35.050314</td>\n",
       "      <td>40.906166</td>\n",
       "      <td>40.768004</td>\n",
       "    </tr>\n",
       "    <tr>\n",
       "      <th>2.0</th>\n",
       "      <td>42.260355</td>\n",
       "      <td>47.122449</td>\n",
       "      <td>56.954545</td>\n",
       "      <td>40.201765</td>\n",
       "      <td>35.087209</td>\n",
       "      <td>44.888626</td>\n",
       "      <td>42.026417</td>\n",
       "    </tr>\n",
       "    <tr>\n",
       "      <th>3.0</th>\n",
       "      <td>44.650407</td>\n",
       "      <td>44.857143</td>\n",
       "      <td>61.692308</td>\n",
       "      <td>41.902534</td>\n",
       "      <td>40.013514</td>\n",
       "      <td>47.026119</td>\n",
       "      <td>44.493343</td>\n",
       "    </tr>\n",
       "    <tr>\n",
       "      <th>4.0</th>\n",
       "      <td>46.147727</td>\n",
       "      <td>49.200000</td>\n",
       "      <td>61.083333</td>\n",
       "      <td>43.361111</td>\n",
       "      <td>41.600000</td>\n",
       "      <td>52.479167</td>\n",
       "      <td>47.104167</td>\n",
       "    </tr>\n",
       "    <tr>\n",
       "      <th rowspan=\"4\" valign=\"top\">2013-12-31</th>\n",
       "      <th>1.0</th>\n",
       "      <td>44.907275</td>\n",
       "      <td>46.600000</td>\n",
       "      <td>60.978723</td>\n",
       "      <td>42.171141</td>\n",
       "      <td>35.677083</td>\n",
       "      <td>45.396739</td>\n",
       "      <td>44.081389</td>\n",
       "    </tr>\n",
       "    <tr>\n",
       "      <th>2.0</th>\n",
       "      <td>44.529132</td>\n",
       "      <td>48.942857</td>\n",
       "      <td>60.037975</td>\n",
       "      <td>41.855294</td>\n",
       "      <td>39.494949</td>\n",
       "      <td>48.617225</td>\n",
       "      <td>44.665805</td>\n",
       "    </tr>\n",
       "    <tr>\n",
       "      <th>3.0</th>\n",
       "      <td>47.681363</td>\n",
       "      <td>49.913043</td>\n",
       "      <td>66.235294</td>\n",
       "      <td>44.440454</td>\n",
       "      <td>43.088889</td>\n",
       "      <td>52.709343</td>\n",
       "      <td>48.262904</td>\n",
       "    </tr>\n",
       "    <tr>\n",
       "      <th>4.0</th>\n",
       "      <td>46.869565</td>\n",
       "      <td>45.000000</td>\n",
       "      <td>63.200000</td>\n",
       "      <td>45.068966</td>\n",
       "      <td>36.250000</td>\n",
       "      <td>54.176471</td>\n",
       "      <td>48.609302</td>\n",
       "    </tr>\n",
       "    <tr>\n",
       "      <th rowspan=\"4\" valign=\"top\">2016-12-31</th>\n",
       "      <th>1.0</th>\n",
       "      <td>47.860534</td>\n",
       "      <td>50.896552</td>\n",
       "      <td>64.036364</td>\n",
       "      <td>43.649832</td>\n",
       "      <td>39.104478</td>\n",
       "      <td>50.640884</td>\n",
       "      <td>47.240876</td>\n",
       "    </tr>\n",
       "    <tr>\n",
       "      <th>2.0</th>\n",
       "      <td>47.324291</td>\n",
       "      <td>47.514286</td>\n",
       "      <td>63.828283</td>\n",
       "      <td>44.648084</td>\n",
       "      <td>40.386667</td>\n",
       "      <td>52.321596</td>\n",
       "      <td>47.733853</td>\n",
       "    </tr>\n",
       "    <tr>\n",
       "      <th>3.0</th>\n",
       "      <td>49.800000</td>\n",
       "      <td>55.857143</td>\n",
       "      <td>66.909091</td>\n",
       "      <td>46.718095</td>\n",
       "      <td>44.594595</td>\n",
       "      <td>56.027586</td>\n",
       "      <td>50.925479</td>\n",
       "    </tr>\n",
       "    <tr>\n",
       "      <th>4.0</th>\n",
       "      <td>49.120879</td>\n",
       "      <td>52.750000</td>\n",
       "      <td>67.611111</td>\n",
       "      <td>47.687500</td>\n",
       "      <td>46.500000</td>\n",
       "      <td>55.913043</td>\n",
       "      <td>51.026616</td>\n",
       "    </tr>\n",
       "    <tr>\n",
       "      <th>All</th>\n",
       "      <th></th>\n",
       "      <td>45.433062</td>\n",
       "      <td>47.790323</td>\n",
       "      <td>62.590837</td>\n",
       "      <td>42.890051</td>\n",
       "      <td>37.935370</td>\n",
       "      <td>48.704246</td>\n",
       "      <td>45.481178</td>\n",
       "    </tr>\n",
       "  </tbody>\n",
       "</table>\n",
       "</div>"
      ],
      "text/plain": [
       "sexo                   hombre                            mujer             \\\n",
       "clasif_lab                1.0        2.0        3.0        1.0        2.0   \n",
       "Fecha      estrato                                                          \n",
       "2010-12-31 1.0      41.750357  44.903846  55.068966  39.855446  35.050314   \n",
       "           2.0      42.260355  47.122449  56.954545  40.201765  35.087209   \n",
       "           3.0      44.650407  44.857143  61.692308  41.902534  40.013514   \n",
       "           4.0      46.147727  49.200000  61.083333  43.361111  41.600000   \n",
       "2013-12-31 1.0      44.907275  46.600000  60.978723  42.171141  35.677083   \n",
       "           2.0      44.529132  48.942857  60.037975  41.855294  39.494949   \n",
       "           3.0      47.681363  49.913043  66.235294  44.440454  43.088889   \n",
       "           4.0      46.869565  45.000000  63.200000  45.068966  36.250000   \n",
       "2016-12-31 1.0      47.860534  50.896552  64.036364  43.649832  39.104478   \n",
       "           2.0      47.324291  47.514286  63.828283  44.648084  40.386667   \n",
       "           3.0      49.800000  55.857143  66.909091  46.718095  44.594595   \n",
       "           4.0      49.120879  52.750000  67.611111  47.687500  46.500000   \n",
       "All                 45.433062  47.790323  62.590837  42.890051  37.935370   \n",
       "\n",
       "sexo                                 All  \n",
       "clasif_lab                3.0             \n",
       "Fecha      estrato                        \n",
       "2010-12-31 1.0      40.906166  40.768004  \n",
       "           2.0      44.888626  42.026417  \n",
       "           3.0      47.026119  44.493343  \n",
       "           4.0      52.479167  47.104167  \n",
       "2013-12-31 1.0      45.396739  44.081389  \n",
       "           2.0      48.617225  44.665805  \n",
       "           3.0      52.709343  48.262904  \n",
       "           4.0      54.176471  48.609302  \n",
       "2016-12-31 1.0      50.640884  47.240876  \n",
       "           2.0      52.321596  47.733853  \n",
       "           3.0      56.027586  50.925479  \n",
       "           4.0      55.913043  51.026616  \n",
       "All                 48.704246  45.481178  "
      ]
     },
     "execution_count": 24,
     "metadata": {},
     "output_type": "execute_result"
    }
   ],
   "source": [
    "# clasif_lab_pivot= df7.pivot_table(values= \"edad\", index=[\"Fecha\", \"estrato\"], columns= [\"sexo\", \"clasif_lab\"], margins=True)\n",
    "     \n",
    "#                                   #aggfunc='first') #{'edad':np.mean,'vr_salario':np.mean})\n",
    "# #clasif_lab_pivot1 = clasif_lab_pivot.sort_values(['clasif_lab']) \n",
    "# clasif_lab_pivot"
   ]
  },
  {
   "cell_type": "code",
   "execution_count": 193,
   "metadata": {
    "scrolled": true
   },
   "outputs": [
    {
     "data": {
      "text/html": [
       "<div>\n",
       "<style scoped>\n",
       "    .dataframe tbody tr th:only-of-type {\n",
       "        vertical-align: middle;\n",
       "    }\n",
       "\n",
       "    .dataframe tbody tr th {\n",
       "        vertical-align: top;\n",
       "    }\n",
       "\n",
       "    .dataframe thead tr th {\n",
       "        text-align: left;\n",
       "    }\n",
       "\n",
       "    .dataframe thead tr:last-of-type th {\n",
       "        text-align: right;\n",
       "    }\n",
       "</style>\n",
       "<table border=\"1\" class=\"dataframe\">\n",
       "  <thead>\n",
       "    <tr>\n",
       "      <th></th>\n",
       "      <th colspan=\"3\" halign=\"left\">count</th>\n",
       "      <th colspan=\"3\" halign=\"left\">mean</th>\n",
       "    </tr>\n",
       "    <tr>\n",
       "      <th></th>\n",
       "      <th colspan=\"3\" halign=\"left\">tiempo_desempleo</th>\n",
       "      <th colspan=\"3\" halign=\"left\">tiempo_desempleo</th>\n",
       "    </tr>\n",
       "    <tr>\n",
       "      <th>sexo</th>\n",
       "      <th>hombre</th>\n",
       "      <th>mujer</th>\n",
       "      <th>All</th>\n",
       "      <th>hombre</th>\n",
       "      <th>mujer</th>\n",
       "      <th>All</th>\n",
       "    </tr>\n",
       "    <tr>\n",
       "      <th>control</th>\n",
       "      <th></th>\n",
       "      <th></th>\n",
       "      <th></th>\n",
       "      <th></th>\n",
       "      <th></th>\n",
       "      <th></th>\n",
       "    </tr>\n",
       "  </thead>\n",
       "  <tbody>\n",
       "    <tr>\n",
       "      <th>0</th>\n",
       "      <td>80</td>\n",
       "      <td>160</td>\n",
       "      <td>240</td>\n",
       "      <td>24.54</td>\n",
       "      <td>21.02</td>\n",
       "      <td>22.20</td>\n",
       "    </tr>\n",
       "    <tr>\n",
       "      <th>1</th>\n",
       "      <td>22</td>\n",
       "      <td>29</td>\n",
       "      <td>51</td>\n",
       "      <td>12.55</td>\n",
       "      <td>12.69</td>\n",
       "      <td>12.63</td>\n",
       "    </tr>\n",
       "    <tr>\n",
       "      <th>All</th>\n",
       "      <td>102</td>\n",
       "      <td>189</td>\n",
       "      <td>291</td>\n",
       "      <td>21.95</td>\n",
       "      <td>19.75</td>\n",
       "      <td>20.52</td>\n",
       "    </tr>\n",
       "  </tbody>\n",
       "</table>\n",
       "</div>"
      ],
      "text/plain": [
       "                   count                        mean              \n",
       "        tiempo_desempleo            tiempo_desempleo              \n",
       "sexo              hombre mujer  All           hombre  mujer    All\n",
       "control                                                           \n",
       "0                     80   160  240            24.54  21.02  22.20\n",
       "1                     22    29   51            12.55  12.69  12.63\n",
       "All                  102   189  291            21.95  19.75  20.52"
      ]
     },
     "execution_count": 193,
     "metadata": {},
     "output_type": "execute_result"
    }
   ],
   "source": [
    "#Tiempo de desempleo promedio del grupo de control por sexo. 2010-2016 \n",
    "control_table_des = dfprueba.pivot_table(values= [\"tiempo_desempleo\"],\n",
    "                                  index=[\"control\"],\n",
    "                                  columns=[\"sexo\"], aggfunc= [\"count\", \"mean\"], margins = True)\n",
    "round(control_table_des, 2)#.iloc[:, [1,4,]]"
   ]
  },
  {
   "cell_type": "markdown",
   "metadata": {},
   "source": [
    "#### General"
   ]
  },
  {
   "cell_type": "code",
   "execution_count": 10,
   "metadata": {},
   "outputs": [],
   "source": [
    "df7[\"tiempo_desempleo\"] = (df7[\"t_bustrab_a\"]*12) + (df7[\"t_bustrab_m\"])\n",
    "df7[\"tiempo_empleo\"] = (df7[\"anos_trabaja\"]*12) + (df7[\"meses_trabaja\"])"
   ]
  },
  {
   "cell_type": "code",
   "execution_count": 263,
   "metadata": {
    "scrolled": true
   },
   "outputs": [
    {
     "data": {
      "text/html": [
       "<div>\n",
       "<style scoped>\n",
       "    .dataframe tbody tr th:only-of-type {\n",
       "        vertical-align: middle;\n",
       "    }\n",
       "\n",
       "    .dataframe tbody tr th {\n",
       "        vertical-align: top;\n",
       "    }\n",
       "\n",
       "    .dataframe thead tr th {\n",
       "        text-align: left;\n",
       "    }\n",
       "\n",
       "    .dataframe thead tr:last-of-type th {\n",
       "        text-align: right;\n",
       "    }\n",
       "</style>\n",
       "<table border=\"1\" class=\"dataframe\">\n",
       "  <thead>\n",
       "    <tr>\n",
       "      <th></th>\n",
       "      <th colspan=\"4\" halign=\"left\">count</th>\n",
       "      <th colspan=\"2\" halign=\"left\">mean</th>\n",
       "    </tr>\n",
       "    <tr>\n",
       "      <th></th>\n",
       "      <th colspan=\"4\" halign=\"left\">tiempo_empleo</th>\n",
       "      <th colspan=\"2\" halign=\"left\">tiempo_empleo</th>\n",
       "    </tr>\n",
       "    <tr>\n",
       "      <th>clasif_lab</th>\n",
       "      <th>1.0</th>\n",
       "      <th>2.0</th>\n",
       "      <th>3.0</th>\n",
       "      <th>All</th>\n",
       "      <th>1.0</th>\n",
       "      <th>All</th>\n",
       "    </tr>\n",
       "    <tr>\n",
       "      <th>sexo</th>\n",
       "      <th></th>\n",
       "      <th></th>\n",
       "      <th></th>\n",
       "      <th></th>\n",
       "      <th></th>\n",
       "      <th></th>\n",
       "    </tr>\n",
       "  </thead>\n",
       "  <tbody>\n",
       "    <tr>\n",
       "      <th>hombre</th>\n",
       "      <td>3779</td>\n",
       "      <td>0.0</td>\n",
       "      <td>0.0</td>\n",
       "      <td>3779</td>\n",
       "      <td>38.19</td>\n",
       "      <td>38.19</td>\n",
       "    </tr>\n",
       "    <tr>\n",
       "      <th>mujer</th>\n",
       "      <td>3749</td>\n",
       "      <td>0.0</td>\n",
       "      <td>0.0</td>\n",
       "      <td>3749</td>\n",
       "      <td>32.58</td>\n",
       "      <td>32.58</td>\n",
       "    </tr>\n",
       "    <tr>\n",
       "      <th>All</th>\n",
       "      <td>7528</td>\n",
       "      <td>NaN</td>\n",
       "      <td>NaN</td>\n",
       "      <td>7528</td>\n",
       "      <td>35.40</td>\n",
       "      <td>35.40</td>\n",
       "    </tr>\n",
       "  </tbody>\n",
       "</table>\n",
       "</div>"
      ],
      "text/plain": [
       "                   count                          mean       \n",
       "           tiempo_empleo                 tiempo_empleo       \n",
       "clasif_lab           1.0  2.0  3.0   All           1.0    All\n",
       "sexo                                                         \n",
       "hombre              3779  0.0  0.0  3779         38.19  38.19\n",
       "mujer               3749  0.0  0.0  3749         32.58  32.58\n",
       "All                 7528  NaN  NaN  7528         35.40  35.40"
      ]
     },
     "execution_count": 263,
     "metadata": {},
     "output_type": "execute_result"
    }
   ],
   "source": [
    "#tiempo de empleo\n",
    "g1 = df7.pivot_table(values= [\"tiempo_empleo\"],\n",
    "                                  index=[ \"sexo\"],\n",
    "                                  columns=[\"clasif_lab\"], aggfunc= [\"count\", \"mean\"], margins = True)\n",
    "round(g1, 2)#.iloc[:, [0,4,]]"
   ]
  },
  {
   "cell_type": "code",
   "execution_count": 262,
   "metadata": {},
   "outputs": [
    {
     "data": {
      "text/html": [
       "<div>\n",
       "<style scoped>\n",
       "    .dataframe tbody tr th:only-of-type {\n",
       "        vertical-align: middle;\n",
       "    }\n",
       "\n",
       "    .dataframe tbody tr th {\n",
       "        vertical-align: top;\n",
       "    }\n",
       "\n",
       "    .dataframe thead tr th {\n",
       "        text-align: left;\n",
       "    }\n",
       "\n",
       "    .dataframe thead tr:last-of-type th {\n",
       "        text-align: right;\n",
       "    }\n",
       "</style>\n",
       "<table border=\"1\" class=\"dataframe\">\n",
       "  <thead>\n",
       "    <tr>\n",
       "      <th></th>\n",
       "      <th></th>\n",
       "      <th>count</th>\n",
       "      <th>mean</th>\n",
       "    </tr>\n",
       "    <tr>\n",
       "      <th></th>\n",
       "      <th></th>\n",
       "      <th>tiempo_empleo</th>\n",
       "      <th>tiempo_empleo</th>\n",
       "    </tr>\n",
       "    <tr>\n",
       "      <th></th>\n",
       "      <th>clasif_lab</th>\n",
       "      <th>1.0</th>\n",
       "      <th>1.0</th>\n",
       "    </tr>\n",
       "    <tr>\n",
       "      <th>Fecha</th>\n",
       "      <th>sexo</th>\n",
       "      <th></th>\n",
       "      <th></th>\n",
       "    </tr>\n",
       "  </thead>\n",
       "  <tbody>\n",
       "    <tr>\n",
       "      <th rowspan=\"2\" valign=\"top\">2010-12-31</th>\n",
       "      <th>hombre</th>\n",
       "      <td>573</td>\n",
       "      <td>72.17</td>\n",
       "    </tr>\n",
       "    <tr>\n",
       "      <th>mujer</th>\n",
       "      <td>507</td>\n",
       "      <td>48.80</td>\n",
       "    </tr>\n",
       "    <tr>\n",
       "      <th rowspan=\"2\" valign=\"top\">2013-12-31</th>\n",
       "      <th>hombre</th>\n",
       "      <td>1651</td>\n",
       "      <td>31.33</td>\n",
       "    </tr>\n",
       "    <tr>\n",
       "      <th>mujer</th>\n",
       "      <td>1653</td>\n",
       "      <td>30.72</td>\n",
       "    </tr>\n",
       "    <tr>\n",
       "      <th rowspan=\"2\" valign=\"top\">2016-12-31</th>\n",
       "      <th>hombre</th>\n",
       "      <td>1555</td>\n",
       "      <td>32.97</td>\n",
       "    </tr>\n",
       "    <tr>\n",
       "      <th>mujer</th>\n",
       "      <td>1589</td>\n",
       "      <td>29.35</td>\n",
       "    </tr>\n",
       "    <tr>\n",
       "      <th>All</th>\n",
       "      <th></th>\n",
       "      <td>7528</td>\n",
       "      <td>35.40</td>\n",
       "    </tr>\n",
       "  </tbody>\n",
       "</table>\n",
       "</div>"
      ],
      "text/plain": [
       "                          count          mean\n",
       "                  tiempo_empleo tiempo_empleo\n",
       "clasif_lab                  1.0           1.0\n",
       "Fecha      sexo                              \n",
       "2010-12-31 hombre           573         72.17\n",
       "           mujer            507         48.80\n",
       "2013-12-31 hombre          1651         31.33\n",
       "           mujer           1653         30.72\n",
       "2016-12-31 hombre          1555         32.97\n",
       "           mujer           1589         29.35\n",
       "All                        7528         35.40"
      ]
     },
     "execution_count": 262,
     "metadata": {},
     "output_type": "execute_result"
    }
   ],
   "source": [
    "#tiempo de empleo por sexo y año\n",
    "g1_año = df7.pivot_table(values= [\"tiempo_empleo\"],\n",
    "                                  index=[ \"Fecha\", \"sexo\"],\n",
    "                                  columns=[\"clasif_lab\"], aggfunc= [\"count\", \"mean\"], margins = True)\n",
    "round(g1_año, 2).iloc[:, [0,4,]]"
   ]
  },
  {
   "cell_type": "code",
   "execution_count": 265,
   "metadata": {
    "scrolled": false
   },
   "outputs": [
    {
     "data": {
      "text/html": [
       "<div>\n",
       "<style scoped>\n",
       "    .dataframe tbody tr th:only-of-type {\n",
       "        vertical-align: middle;\n",
       "    }\n",
       "\n",
       "    .dataframe tbody tr th {\n",
       "        vertical-align: top;\n",
       "    }\n",
       "\n",
       "    .dataframe thead tr th {\n",
       "        text-align: left;\n",
       "    }\n",
       "\n",
       "    .dataframe thead tr:last-of-type th {\n",
       "        text-align: right;\n",
       "    }\n",
       "</style>\n",
       "<table border=\"1\" class=\"dataframe\">\n",
       "  <thead>\n",
       "    <tr>\n",
       "      <th></th>\n",
       "      <th colspan=\"2\" halign=\"left\">count</th>\n",
       "      <th colspan=\"2\" halign=\"left\">mean</th>\n",
       "    </tr>\n",
       "    <tr>\n",
       "      <th></th>\n",
       "      <th colspan=\"2\" halign=\"left\">tiempo_empleo</th>\n",
       "      <th colspan=\"2\" halign=\"left\">tiempo_empleo</th>\n",
       "    </tr>\n",
       "    <tr>\n",
       "      <th>clasif_lab</th>\n",
       "      <th>1.0</th>\n",
       "      <th>All</th>\n",
       "      <th>1.0</th>\n",
       "      <th>All</th>\n",
       "    </tr>\n",
       "    <tr>\n",
       "      <th>Fecha</th>\n",
       "      <th></th>\n",
       "      <th></th>\n",
       "      <th></th>\n",
       "      <th></th>\n",
       "    </tr>\n",
       "  </thead>\n",
       "  <tbody>\n",
       "    <tr>\n",
       "      <th>2010-12-31</th>\n",
       "      <td>2984</td>\n",
       "      <td>2984</td>\n",
       "      <td>107.57</td>\n",
       "      <td>107.57</td>\n",
       "    </tr>\n",
       "    <tr>\n",
       "      <th>2013-12-31</th>\n",
       "      <td>2984</td>\n",
       "      <td>2984</td>\n",
       "      <td>59.47</td>\n",
       "      <td>59.47</td>\n",
       "    </tr>\n",
       "    <tr>\n",
       "      <th>2016-12-31</th>\n",
       "      <td>2984</td>\n",
       "      <td>2984</td>\n",
       "      <td>68.48</td>\n",
       "      <td>68.48</td>\n",
       "    </tr>\n",
       "    <tr>\n",
       "      <th>All</th>\n",
       "      <td>8952</td>\n",
       "      <td>8952</td>\n",
       "      <td>78.51</td>\n",
       "      <td>78.51</td>\n",
       "    </tr>\n",
       "  </tbody>\n",
       "</table>\n",
       "</div>"
      ],
      "text/plain": [
       "                   count                mean        \n",
       "           tiempo_empleo       tiempo_empleo        \n",
       "clasif_lab           1.0   All           1.0     All\n",
       "Fecha                                               \n",
       "2010-12-31          2984  2984        107.57  107.57\n",
       "2013-12-31          2984  2984         59.47   59.47\n",
       "2016-12-31          2984  2984         68.48   68.48\n",
       "All                 8952  8952         78.51   78.51"
      ]
     },
     "execution_count": 265,
     "metadata": {},
     "output_type": "execute_result"
    }
   ],
   "source": [
    "#tiempo de empleo pora las personas que están en las 3 olas\n",
    "g1_ola = df_nne.pivot_table(values= [\"tiempo_empleo\"],\n",
    "                                  index=[ \"Fecha\"],\n",
    "                                  columns=[\"clasif_lab\"], aggfunc= [\"count\", \"mean\"], margins = True)\n",
    "round(g1_ola, 2)#.iloc[:, [0,4,]"
   ]
  },
  {
   "cell_type": "code",
   "execution_count": 224,
   "metadata": {},
   "outputs": [
    {
     "data": {
      "text/html": [
       "<div>\n",
       "<style scoped>\n",
       "    .dataframe tbody tr th:only-of-type {\n",
       "        vertical-align: middle;\n",
       "    }\n",
       "\n",
       "    .dataframe tbody tr th {\n",
       "        vertical-align: top;\n",
       "    }\n",
       "\n",
       "    .dataframe thead tr th {\n",
       "        text-align: left;\n",
       "    }\n",
       "\n",
       "    .dataframe thead tr:last-of-type th {\n",
       "        text-align: right;\n",
       "    }\n",
       "</style>\n",
       "<table border=\"1\" class=\"dataframe\">\n",
       "  <thead>\n",
       "    <tr>\n",
       "      <th></th>\n",
       "      <th colspan=\"4\" halign=\"left\">count</th>\n",
       "      <th colspan=\"2\" halign=\"left\">mean</th>\n",
       "    </tr>\n",
       "    <tr>\n",
       "      <th></th>\n",
       "      <th colspan=\"4\" halign=\"left\">tiempo_empleo</th>\n",
       "      <th colspan=\"2\" halign=\"left\">tiempo_empleo</th>\n",
       "    </tr>\n",
       "    <tr>\n",
       "      <th>clasif_lab</th>\n",
       "      <th>1.0</th>\n",
       "      <th>2.0</th>\n",
       "      <th>3.0</th>\n",
       "      <th>All</th>\n",
       "      <th>1.0</th>\n",
       "      <th>All</th>\n",
       "    </tr>\n",
       "    <tr>\n",
       "      <th>Fecha</th>\n",
       "      <th></th>\n",
       "      <th></th>\n",
       "      <th></th>\n",
       "      <th></th>\n",
       "      <th></th>\n",
       "      <th></th>\n",
       "    </tr>\n",
       "  </thead>\n",
       "  <tbody>\n",
       "    <tr>\n",
       "      <th>2010-12-31</th>\n",
       "      <td>3984</td>\n",
       "      <td>0.0</td>\n",
       "      <td>0.0</td>\n",
       "      <td>3984</td>\n",
       "      <td>107.10</td>\n",
       "      <td>107.10</td>\n",
       "    </tr>\n",
       "    <tr>\n",
       "      <th>2013-12-31</th>\n",
       "      <td>4091</td>\n",
       "      <td>0.0</td>\n",
       "      <td>0.0</td>\n",
       "      <td>4091</td>\n",
       "      <td>57.77</td>\n",
       "      <td>57.77</td>\n",
       "    </tr>\n",
       "    <tr>\n",
       "      <th>2016-12-31</th>\n",
       "      <td>4115</td>\n",
       "      <td>0.0</td>\n",
       "      <td>0.0</td>\n",
       "      <td>4115</td>\n",
       "      <td>63.10</td>\n",
       "      <td>63.10</td>\n",
       "    </tr>\n",
       "    <tr>\n",
       "      <th>All</th>\n",
       "      <td>12190</td>\n",
       "      <td>NaN</td>\n",
       "      <td>NaN</td>\n",
       "      <td>12190</td>\n",
       "      <td>75.69</td>\n",
       "      <td>75.69</td>\n",
       "    </tr>\n",
       "  </tbody>\n",
       "</table>\n",
       "</div>"
      ],
      "text/plain": [
       "                   count                           mean        \n",
       "           tiempo_empleo                  tiempo_empleo        \n",
       "clasif_lab           1.0  2.0  3.0    All           1.0     All\n",
       "Fecha                                                          \n",
       "2010-12-31          3984  0.0  0.0   3984        107.10  107.10\n",
       "2013-12-31          4091  0.0  0.0   4091         57.77   57.77\n",
       "2016-12-31          4115  0.0  0.0   4115         63.10   63.10\n",
       "All                12190  NaN  NaN  12190         75.69   75.69"
      ]
     },
     "execution_count": 224,
     "metadata": {},
     "output_type": "execute_result"
    }
   ],
   "source": [
    "#tiempo de empleo por ola ejercicio 2\n",
    "g1_ola_11 = df7.pivot_table(values= [\"tiempo_empleo\"],\n",
    "                                  index=[\"Fecha\"],\n",
    "                                  columns=[\"clasif_lab\"], aggfunc= [\"count\", \"mean\"], margins = True)\n",
    "round(g1_ola_11, 2)#.iloc[:, [0,4,]]"
   ]
  },
  {
   "cell_type": "code",
   "execution_count": null,
   "metadata": {},
   "outputs": [],
   "source": [
    "###calcular el tiempo promedio de empleo para las mismas 1080 personas en las olas 2010-2013."
   ]
  },
  {
   "cell_type": "code",
   "execution_count": 248,
   "metadata": {},
   "outputs": [],
   "source": [
    "def t_empleo(df):\n",
    "    if ((df[\"Fecha\"]=='2010-12-31') and (df[\"clasif_lab\"]== 1) and (df[\"tiempo_empleo\"]!='x') or\n",
    "       (df[\"Fecha\"]=='2013-12-31') and (df[\"clasif_lab\"]== 1) and (df[\"tiempo_empleo\"]!='x') or\n",
    "       (df[\"Fecha\"]=='2016-12-31') and (df[\"clasif_lab\"]== 1) and (df[\"tiempo_empleo\"]!='x')):\n",
    "        categoria=1      \n",
    "    #elif (df[\"clasif_lab\"]== np.nan) or (df[\"tiempo_empleo\"]== np.nan):\n",
    "       # categoria= \"x\"\n",
    "    else:\n",
    "        categoria=0\n",
    "    return(categoria)"
   ]
  },
  {
   "cell_type": "code",
   "execution_count": 249,
   "metadata": {},
   "outputs": [],
   "source": [
    "df7['not_null_empl'] = df7.apply(t_empleo, axis = 1)"
   ]
  },
  {
   "cell_type": "code",
   "execution_count": 250,
   "metadata": {},
   "outputs": [
    {
     "data": {
      "text/plain": [
       "0"
      ]
     },
     "execution_count": 250,
     "metadata": {},
     "output_type": "execute_result"
    }
   ],
   "source": [
    "df7['tiempo_empleo'][(df7['tiempo_empleo']==np.nan) & (df7['Fecha']=='2010-12-31')].sum()"
   ]
  },
  {
   "cell_type": "code",
   "execution_count": 258,
   "metadata": {},
   "outputs": [
    {
     "data": {
      "text/plain": [
       "3984"
      ]
     },
     "execution_count": 258,
     "metadata": {},
     "output_type": "execute_result"
    }
   ],
   "source": [
    "snull= df7[df7['Fecha']=='2010-12-31']\n",
    "#snull['tiempo_empleo'].notna().sum()\n",
    "snull['tiempo_empleo'][snull['tiempo_empleo']!='x'].count()\n"
   ]
  },
  {
   "cell_type": "code",
   "execution_count": 259,
   "metadata": {},
   "outputs": [
    {
     "data": {
      "text/plain": [
       "12190"
      ]
     },
     "execution_count": 259,
     "metadata": {},
     "output_type": "execute_result"
    }
   ],
   "source": [
    "msk_1_nne= df7[\"not_null_empl\"]== 1\n",
    "msk_1_nne[msk_1_nne==True].count()\n"
   ]
  },
  {
   "cell_type": "code",
   "execution_count": 260,
   "metadata": {},
   "outputs": [
    {
     "data": {
      "text/plain": [
       "2984"
      ]
     },
     "execution_count": 260,
     "metadata": {},
     "output_type": "execute_result"
    }
   ],
   "source": [
    "df_nne = df7[msk_1_nne==True]\n",
    "msk_2_nne= df_nne[\"id\"].value_counts()==3\n",
    "msk_2_nne[msk_2_nne==True].count() # 2984 personas no tienen datos nulos en la pregunta tiempo empleo y apaecen en las 3 olas. "
   ]
  },
  {
   "cell_type": "code",
   "execution_count": 261,
   "metadata": {},
   "outputs": [],
   "source": [
    "trs_veces_nne = msk_2_nne[msk_2_nne==True].index.to_list()\n",
    "\n",
    "indices_trs_veces_nne = []\n",
    "for ix,i in enumerate(df_nne['id']):\n",
    "    if i in trs_veces_nne:\n",
    "        indices_trs_veces_nne.append(ix)\n",
    "\n",
    "df_nne = df_nne.iloc[indices_trs_veces_nne,:] # se crea el dataframe con los datos nulos en la pregunta tiempo empleo"
   ]
  },
  {
   "cell_type": "code",
   "execution_count": 16,
   "metadata": {
    "scrolled": true
   },
   "outputs": [
    {
     "data": {
      "text/html": [
       "<div>\n",
       "<style scoped>\n",
       "    .dataframe tbody tr th:only-of-type {\n",
       "        vertical-align: middle;\n",
       "    }\n",
       "\n",
       "    .dataframe tbody tr th {\n",
       "        vertical-align: top;\n",
       "    }\n",
       "\n",
       "    .dataframe thead tr th {\n",
       "        text-align: left;\n",
       "    }\n",
       "\n",
       "    .dataframe thead tr:last-of-type th {\n",
       "        text-align: right;\n",
       "    }\n",
       "</style>\n",
       "<table border=\"1\" class=\"dataframe\">\n",
       "  <thead>\n",
       "    <tr>\n",
       "      <th></th>\n",
       "      <th colspan=\"4\" halign=\"left\">count</th>\n",
       "    </tr>\n",
       "    <tr>\n",
       "      <th></th>\n",
       "      <th colspan=\"4\" halign=\"left\">id</th>\n",
       "    </tr>\n",
       "    <tr>\n",
       "      <th>clasif_lab</th>\n",
       "      <th>1.0</th>\n",
       "      <th>2.0</th>\n",
       "      <th>3.0</th>\n",
       "      <th>All</th>\n",
       "    </tr>\n",
       "    <tr>\n",
       "      <th>Fecha</th>\n",
       "      <th></th>\n",
       "      <th></th>\n",
       "      <th></th>\n",
       "      <th></th>\n",
       "    </tr>\n",
       "  </thead>\n",
       "  <tbody>\n",
       "    <tr>\n",
       "      <th>2010-12-31</th>\n",
       "      <td>4009</td>\n",
       "      <td>554</td>\n",
       "      <td>1270</td>\n",
       "      <td>5833</td>\n",
       "    </tr>\n",
       "    <tr>\n",
       "      <th>2013-12-31</th>\n",
       "      <td>4172</td>\n",
       "      <td>338</td>\n",
       "      <td>1323</td>\n",
       "      <td>5833</td>\n",
       "    </tr>\n",
       "    <tr>\n",
       "      <th>2016-12-31</th>\n",
       "      <td>4129</td>\n",
       "      <td>269</td>\n",
       "      <td>1391</td>\n",
       "      <td>5789</td>\n",
       "    </tr>\n",
       "    <tr>\n",
       "      <th>All</th>\n",
       "      <td>12310</td>\n",
       "      <td>1161</td>\n",
       "      <td>3984</td>\n",
       "      <td>17455</td>\n",
       "    </tr>\n",
       "  </tbody>\n",
       "</table>\n",
       "</div>"
      ],
      "text/plain": [
       "            count                   \n",
       "               id                   \n",
       "clasif_lab    1.0   2.0   3.0    All\n",
       "Fecha                               \n",
       "2010-12-31   4009   554  1270   5833\n",
       "2013-12-31   4172   338  1323   5833\n",
       "2016-12-31   4129   269  1391   5789\n",
       "All         12310  1161  3984  17455"
      ]
     },
     "execution_count": 16,
     "metadata": {},
     "output_type": "execute_result"
    }
   ],
   "source": [
    "#prueba inconsitencia tiempo de empleo ocupados 2010\n",
    "g1_ola = df7.pivot_table(values= [\"id\"],\n",
    "                                  index=[ \"Fecha\"],\n",
    "                                  columns=[\"clasif_lab\"], aggfunc= [\"count\"], margins = True)\n",
    "round(g1_ola, 2)#.iloc[:, [0,4,]]"
   ]
  },
  {
   "cell_type": "code",
   "execution_count": 265,
   "metadata": {
    "scrolled": false
   },
   "outputs": [
    {
     "data": {
      "text/html": [
       "<div>\n",
       "<style scoped>\n",
       "    .dataframe tbody tr th:only-of-type {\n",
       "        vertical-align: middle;\n",
       "    }\n",
       "\n",
       "    .dataframe tbody tr th {\n",
       "        vertical-align: top;\n",
       "    }\n",
       "\n",
       "    .dataframe thead tr th {\n",
       "        text-align: left;\n",
       "    }\n",
       "\n",
       "    .dataframe thead tr:last-of-type th {\n",
       "        text-align: right;\n",
       "    }\n",
       "</style>\n",
       "<table border=\"1\" class=\"dataframe\">\n",
       "  <thead>\n",
       "    <tr>\n",
       "      <th></th>\n",
       "      <th colspan=\"4\" halign=\"left\">count</th>\n",
       "      <th colspan=\"2\" halign=\"left\">mean</th>\n",
       "    </tr>\n",
       "    <tr>\n",
       "      <th></th>\n",
       "      <th colspan=\"4\" halign=\"left\">tiempo_desempleo</th>\n",
       "      <th colspan=\"2\" halign=\"left\">tiempo_desempleo</th>\n",
       "    </tr>\n",
       "    <tr>\n",
       "      <th>clasif_lab</th>\n",
       "      <th>1.0</th>\n",
       "      <th>2.0</th>\n",
       "      <th>3.0</th>\n",
       "      <th>All</th>\n",
       "      <th>2.0</th>\n",
       "      <th>All</th>\n",
       "    </tr>\n",
       "    <tr>\n",
       "      <th>sexo</th>\n",
       "      <th></th>\n",
       "      <th></th>\n",
       "      <th></th>\n",
       "      <th></th>\n",
       "      <th></th>\n",
       "      <th></th>\n",
       "    </tr>\n",
       "  </thead>\n",
       "  <tbody>\n",
       "    <tr>\n",
       "      <th>hombre</th>\n",
       "      <td>0.0</td>\n",
       "      <td>291</td>\n",
       "      <td>0.0</td>\n",
       "      <td>291</td>\n",
       "      <td>18.81</td>\n",
       "      <td>18.81</td>\n",
       "    </tr>\n",
       "    <tr>\n",
       "      <th>mujer</th>\n",
       "      <td>0.0</td>\n",
       "      <td>758</td>\n",
       "      <td>0.0</td>\n",
       "      <td>758</td>\n",
       "      <td>18.89</td>\n",
       "      <td>18.89</td>\n",
       "    </tr>\n",
       "    <tr>\n",
       "      <th>All</th>\n",
       "      <td>NaN</td>\n",
       "      <td>1049</td>\n",
       "      <td>NaN</td>\n",
       "      <td>1049</td>\n",
       "      <td>18.87</td>\n",
       "      <td>18.87</td>\n",
       "    </tr>\n",
       "  </tbody>\n",
       "</table>\n",
       "</div>"
      ],
      "text/plain": [
       "                      count                              mean       \n",
       "           tiempo_desempleo                  tiempo_desempleo       \n",
       "clasif_lab              1.0   2.0  3.0   All              2.0    All\n",
       "sexo                                                                \n",
       "hombre                  0.0   291  0.0   291            18.81  18.81\n",
       "mujer                   0.0   758  0.0   758            18.89  18.89\n",
       "All                     NaN  1049  NaN  1049            18.87  18.87"
      ]
     },
     "execution_count": 265,
     "metadata": {},
     "output_type": "execute_result"
    }
   ],
   "source": [
    "#tiempo de desempleo por sexo\n",
    "g2 = df7.pivot_table(values= [\"tiempo_desempleo\"],\n",
    "                                  index=[\"sexo\"],\n",
    "                                  columns=[\"clasif_lab\"], aggfunc= [\"count\", \"mean\"], margins = True)\n",
    "round(g2, 2)#.iloc[:, [1,4,]]"
   ]
  },
  {
   "cell_type": "code",
   "execution_count": 266,
   "metadata": {},
   "outputs": [
    {
     "data": {
      "text/html": [
       "<div>\n",
       "<style scoped>\n",
       "    .dataframe tbody tr th:only-of-type {\n",
       "        vertical-align: middle;\n",
       "    }\n",
       "\n",
       "    .dataframe tbody tr th {\n",
       "        vertical-align: top;\n",
       "    }\n",
       "\n",
       "    .dataframe thead tr th {\n",
       "        text-align: left;\n",
       "    }\n",
       "\n",
       "    .dataframe thead tr:last-of-type th {\n",
       "        text-align: right;\n",
       "    }\n",
       "</style>\n",
       "<table border=\"1\" class=\"dataframe\">\n",
       "  <thead>\n",
       "    <tr>\n",
       "      <th></th>\n",
       "      <th></th>\n",
       "      <th>count</th>\n",
       "      <th>mean</th>\n",
       "    </tr>\n",
       "    <tr>\n",
       "      <th></th>\n",
       "      <th></th>\n",
       "      <th>tiempo_desempleo</th>\n",
       "      <th>tiempo_desempleo</th>\n",
       "    </tr>\n",
       "    <tr>\n",
       "      <th></th>\n",
       "      <th>clasif_lab</th>\n",
       "      <th>2.0</th>\n",
       "      <th>2.0</th>\n",
       "    </tr>\n",
       "    <tr>\n",
       "      <th>Fecha</th>\n",
       "      <th>sexo</th>\n",
       "      <th></th>\n",
       "      <th></th>\n",
       "    </tr>\n",
       "  </thead>\n",
       "  <tbody>\n",
       "    <tr>\n",
       "      <th rowspan=\"2\" valign=\"top\">2010-12-31</th>\n",
       "      <th>hombre</th>\n",
       "      <td>128</td>\n",
       "      <td>12.73</td>\n",
       "    </tr>\n",
       "    <tr>\n",
       "      <th>mujer</th>\n",
       "      <td>386</td>\n",
       "      <td>16.90</td>\n",
       "    </tr>\n",
       "    <tr>\n",
       "      <th rowspan=\"2\" valign=\"top\">2013-12-31</th>\n",
       "      <th>hombre</th>\n",
       "      <td>89</td>\n",
       "      <td>33.57</td>\n",
       "    </tr>\n",
       "    <tr>\n",
       "      <th>mujer</th>\n",
       "      <td>214</td>\n",
       "      <td>28.64</td>\n",
       "    </tr>\n",
       "    <tr>\n",
       "      <th rowspan=\"2\" valign=\"top\">2016-12-31</th>\n",
       "      <th>hombre</th>\n",
       "      <td>74</td>\n",
       "      <td>11.55</td>\n",
       "    </tr>\n",
       "    <tr>\n",
       "      <th>mujer</th>\n",
       "      <td>158</td>\n",
       "      <td>10.54</td>\n",
       "    </tr>\n",
       "    <tr>\n",
       "      <th>All</th>\n",
       "      <th></th>\n",
       "      <td>1049</td>\n",
       "      <td>18.87</td>\n",
       "    </tr>\n",
       "  </tbody>\n",
       "</table>\n",
       "</div>"
      ],
      "text/plain": [
       "                             count             mean\n",
       "                  tiempo_desempleo tiempo_desempleo\n",
       "clasif_lab                     2.0              2.0\n",
       "Fecha      sexo                                    \n",
       "2010-12-31 hombre              128            12.73\n",
       "           mujer               386            16.90\n",
       "2013-12-31 hombre               89            33.57\n",
       "           mujer               214            28.64\n",
       "2016-12-31 hombre               74            11.55\n",
       "           mujer               158            10.54\n",
       "All                           1049            18.87"
      ]
     },
     "execution_count": 266,
     "metadata": {},
     "output_type": "execute_result"
    }
   ],
   "source": [
    "#tiempo de desempleo por ola y sexo\n",
    "g2_año = df7.pivot_table(values= [\"tiempo_desempleo\"],\n",
    "                                  index=[ \"Fecha\", \"sexo\"],\n",
    "                                  columns=[\"clasif_lab\"], aggfunc= [\"count\", \"mean\"], margins = True)\n",
    "round(g2_año, 2).iloc[:, [1,4,]]"
   ]
  },
  {
   "cell_type": "code",
   "execution_count": 267,
   "metadata": {
    "scrolled": false
   },
   "outputs": [
    {
     "data": {
      "text/html": [
       "<div>\n",
       "<style scoped>\n",
       "    .dataframe tbody tr th:only-of-type {\n",
       "        vertical-align: middle;\n",
       "    }\n",
       "\n",
       "    .dataframe tbody tr th {\n",
       "        vertical-align: top;\n",
       "    }\n",
       "\n",
       "    .dataframe thead tr th {\n",
       "        text-align: left;\n",
       "    }\n",
       "\n",
       "    .dataframe thead tr:last-of-type th {\n",
       "        text-align: right;\n",
       "    }\n",
       "</style>\n",
       "<table border=\"1\" class=\"dataframe\">\n",
       "  <thead>\n",
       "    <tr>\n",
       "      <th></th>\n",
       "      <th>count</th>\n",
       "      <th>mean</th>\n",
       "    </tr>\n",
       "    <tr>\n",
       "      <th></th>\n",
       "      <th>tiempo_desempleo</th>\n",
       "      <th>tiempo_desempleo</th>\n",
       "    </tr>\n",
       "    <tr>\n",
       "      <th>clasif_lab</th>\n",
       "      <th>2.0</th>\n",
       "      <th>2.0</th>\n",
       "    </tr>\n",
       "    <tr>\n",
       "      <th>Fecha</th>\n",
       "      <th></th>\n",
       "      <th></th>\n",
       "    </tr>\n",
       "  </thead>\n",
       "  <tbody>\n",
       "    <tr>\n",
       "      <th>2010-12-31</th>\n",
       "      <td>514</td>\n",
       "      <td>15.86</td>\n",
       "    </tr>\n",
       "    <tr>\n",
       "      <th>2013-12-31</th>\n",
       "      <td>303</td>\n",
       "      <td>30.09</td>\n",
       "    </tr>\n",
       "    <tr>\n",
       "      <th>2016-12-31</th>\n",
       "      <td>232</td>\n",
       "      <td>10.86</td>\n",
       "    </tr>\n",
       "    <tr>\n",
       "      <th>All</th>\n",
       "      <td>1049</td>\n",
       "      <td>18.87</td>\n",
       "    </tr>\n",
       "  </tbody>\n",
       "</table>\n",
       "</div>"
      ],
      "text/plain": [
       "                      count             mean\n",
       "           tiempo_desempleo tiempo_desempleo\n",
       "clasif_lab              2.0              2.0\n",
       "Fecha                                       \n",
       "2010-12-31              514            15.86\n",
       "2013-12-31              303            30.09\n",
       "2016-12-31              232            10.86\n",
       "All                    1049            18.87"
      ]
     },
     "execution_count": 267,
     "metadata": {},
     "output_type": "execute_result"
    }
   ],
   "source": [
    "#tiempo de desempleo por ola\n",
    "g2_ola = df7.pivot_table(values= [\"tiempo_desempleo\"],\n",
    "                                  index=[\"Fecha\"],\n",
    "                                  columns=[\"clasif_lab\"], aggfunc= [\"count\", \"mean\"], margins = True)\n",
    "round(g2_ola, 2).iloc[:, [1,4,]]"
   ]
  },
  {
   "cell_type": "markdown",
   "metadata": {},
   "source": [
    "#### Tiempo de desempleo y empleo intermedio - PEA\n"
   ]
  },
  {
   "cell_type": "code",
   "execution_count": 5,
   "metadata": {
    "scrolled": true
   },
   "outputs": [
    {
     "data": {
      "text/html": [
       "<div>\n",
       "<style scoped>\n",
       "    .dataframe tbody tr th:only-of-type {\n",
       "        vertical-align: middle;\n",
       "    }\n",
       "\n",
       "    .dataframe tbody tr th {\n",
       "        vertical-align: top;\n",
       "    }\n",
       "\n",
       "    .dataframe thead tr th {\n",
       "        text-align: left;\n",
       "    }\n",
       "\n",
       "    .dataframe thead tr:last-of-type th {\n",
       "        text-align: right;\n",
       "    }\n",
       "</style>\n",
       "<table border=\"1\" class=\"dataframe\">\n",
       "  <thead>\n",
       "    <tr>\n",
       "      <th></th>\n",
       "      <th></th>\n",
       "      <th colspan=\"3\" halign=\"left\">id</th>\n",
       "    </tr>\n",
       "    <tr>\n",
       "      <th></th>\n",
       "      <th>sexo</th>\n",
       "      <th>hombre</th>\n",
       "      <th>mujer</th>\n",
       "      <th>All</th>\n",
       "    </tr>\n",
       "    <tr>\n",
       "      <th>Fecha</th>\n",
       "      <th>tiempo_desemp</th>\n",
       "      <th></th>\n",
       "      <th></th>\n",
       "      <th></th>\n",
       "    </tr>\n",
       "  </thead>\n",
       "  <tbody>\n",
       "    <tr>\n",
       "      <th rowspan=\"4\" valign=\"top\">2013-12-31</th>\n",
       "      <th>Entre 6 meses y 11 meses</th>\n",
       "      <td>131</td>\n",
       "      <td>158</td>\n",
       "      <td>289</td>\n",
       "    </tr>\n",
       "    <tr>\n",
       "      <th>Entre un (1) año y dos</th>\n",
       "      <td>96</td>\n",
       "      <td>211</td>\n",
       "      <td>307</td>\n",
       "    </tr>\n",
       "    <tr>\n",
       "      <th>Menos de seis (6) meses</th>\n",
       "      <td>283</td>\n",
       "      <td>243</td>\n",
       "      <td>526</td>\n",
       "    </tr>\n",
       "    <tr>\n",
       "      <th>Más de dos (2) años</th>\n",
       "      <td>68</td>\n",
       "      <td>163</td>\n",
       "      <td>231</td>\n",
       "    </tr>\n",
       "    <tr>\n",
       "      <th rowspan=\"4\" valign=\"top\">2016-12-31</th>\n",
       "      <th>Entre 1 año y 2 años</th>\n",
       "      <td>60</td>\n",
       "      <td>117</td>\n",
       "      <td>177</td>\n",
       "    </tr>\n",
       "    <tr>\n",
       "      <th>Entre 6 meses y 11 meses</th>\n",
       "      <td>63</td>\n",
       "      <td>109</td>\n",
       "      <td>172</td>\n",
       "    </tr>\n",
       "    <tr>\n",
       "      <th>Menos de 6 meses</th>\n",
       "      <td>147</td>\n",
       "      <td>161</td>\n",
       "      <td>308</td>\n",
       "    </tr>\n",
       "    <tr>\n",
       "      <th>Más de 2 años</th>\n",
       "      <td>46</td>\n",
       "      <td>164</td>\n",
       "      <td>210</td>\n",
       "    </tr>\n",
       "    <tr>\n",
       "      <th>All</th>\n",
       "      <th></th>\n",
       "      <td>894</td>\n",
       "      <td>1326</td>\n",
       "      <td>2220</td>\n",
       "    </tr>\n",
       "  </tbody>\n",
       "</table>\n",
       "</div>"
      ],
      "text/plain": [
       "                                        id            \n",
       "sexo                                hombre mujer   All\n",
       "Fecha      tiempo_desemp                              \n",
       "2013-12-31 Entre 6 meses y 11 meses    131   158   289\n",
       "           Entre un (1) año y dos       96   211   307\n",
       "           Menos de seis (6) meses     283   243   526\n",
       "           Más de dos (2) años          68   163   231\n",
       "2016-12-31 Entre 1 año y 2 años         60   117   177\n",
       "           Entre 6 meses y 11 meses     63   109   172\n",
       "           Menos de 6 meses            147   161   308\n",
       "           Más de 2 años                46   164   210\n",
       "All                                    894  1326  2220"
      ]
     },
     "execution_count": 5,
     "metadata": {},
     "output_type": "execute_result"
    }
   ],
   "source": [
    "#tiempo de desempleo intermedio\n",
    "PEA_des = df7.pivot_table(values= [\"id\"],\n",
    "                                  index=[\"Fecha\",\"tiempo_desemp\"],\n",
    "                                  columns=[\"sexo\"], aggfunc= \"count\", margins = True)\n",
    "PEA_des#.iloc[:, [2,3]]"
   ]
  },
  {
   "cell_type": "code",
   "execution_count": 6,
   "metadata": {},
   "outputs": [
    {
     "data": {
      "text/html": [
       "<div>\n",
       "<style scoped>\n",
       "    .dataframe tbody tr th:only-of-type {\n",
       "        vertical-align: middle;\n",
       "    }\n",
       "\n",
       "    .dataframe tbody tr th {\n",
       "        vertical-align: top;\n",
       "    }\n",
       "\n",
       "    .dataframe thead tr th {\n",
       "        text-align: left;\n",
       "    }\n",
       "\n",
       "    .dataframe thead tr:last-of-type th {\n",
       "        text-align: right;\n",
       "    }\n",
       "</style>\n",
       "<table border=\"1\" class=\"dataframe\">\n",
       "  <thead>\n",
       "    <tr>\n",
       "      <th></th>\n",
       "      <th></th>\n",
       "      <th colspan=\"3\" halign=\"left\">id</th>\n",
       "    </tr>\n",
       "    <tr>\n",
       "      <th></th>\n",
       "      <th>sexo</th>\n",
       "      <th>hombre</th>\n",
       "      <th>mujer</th>\n",
       "      <th>All</th>\n",
       "    </tr>\n",
       "    <tr>\n",
       "      <th>Fecha</th>\n",
       "      <th>tiempo_trab</th>\n",
       "      <th></th>\n",
       "      <th></th>\n",
       "      <th></th>\n",
       "    </tr>\n",
       "  </thead>\n",
       "  <tbody>\n",
       "    <tr>\n",
       "      <th rowspan=\"4\" valign=\"top\">2013-12-31</th>\n",
       "      <th>Entre 6 meses y 11 meses</th>\n",
       "      <td>35</td>\n",
       "      <td>95</td>\n",
       "      <td>130</td>\n",
       "    </tr>\n",
       "    <tr>\n",
       "      <th>Entre un (1) año y dos</th>\n",
       "      <td>91</td>\n",
       "      <td>193</td>\n",
       "      <td>284</td>\n",
       "    </tr>\n",
       "    <tr>\n",
       "      <th>Menos de seis (6) meses</th>\n",
       "      <td>32</td>\n",
       "      <td>88</td>\n",
       "      <td>120</td>\n",
       "    </tr>\n",
       "    <tr>\n",
       "      <th>Más de dos (2) años</th>\n",
       "      <td>318</td>\n",
       "      <td>343</td>\n",
       "      <td>661</td>\n",
       "    </tr>\n",
       "    <tr>\n",
       "      <th rowspan=\"4\" valign=\"top\">2016-12-31</th>\n",
       "      <th>Entre 1 año y 2 años</th>\n",
       "      <td>110</td>\n",
       "      <td>223</td>\n",
       "      <td>333</td>\n",
       "    </tr>\n",
       "    <tr>\n",
       "      <th>Entre 6 meses y 11 meses</th>\n",
       "      <td>35</td>\n",
       "      <td>108</td>\n",
       "      <td>143</td>\n",
       "    </tr>\n",
       "    <tr>\n",
       "      <th>Menos de 6 meses</th>\n",
       "      <td>48</td>\n",
       "      <td>152</td>\n",
       "      <td>200</td>\n",
       "    </tr>\n",
       "    <tr>\n",
       "      <th>Más de 2 años</th>\n",
       "      <td>333</td>\n",
       "      <td>403</td>\n",
       "      <td>736</td>\n",
       "    </tr>\n",
       "    <tr>\n",
       "      <th>All</th>\n",
       "      <th></th>\n",
       "      <td>1002</td>\n",
       "      <td>1605</td>\n",
       "      <td>2607</td>\n",
       "    </tr>\n",
       "  </tbody>\n",
       "</table>\n",
       "</div>"
      ],
      "text/plain": [
       "                                        id            \n",
       "sexo                                hombre mujer   All\n",
       "Fecha      tiempo_trab                                \n",
       "2013-12-31 Entre 6 meses y 11 meses     35    95   130\n",
       "           Entre un (1) año y dos       91   193   284\n",
       "           Menos de seis (6) meses      32    88   120\n",
       "           Más de dos (2) años         318   343   661\n",
       "2016-12-31 Entre 1 año y 2 años        110   223   333\n",
       "           Entre 6 meses y 11 meses     35   108   143\n",
       "           Menos de 6 meses             48   152   200\n",
       "           Más de 2 años               333   403   736\n",
       "All                                   1002  1605  2607"
      ]
     },
     "execution_count": 6,
     "metadata": {},
     "output_type": "execute_result"
    }
   ],
   "source": [
    "#tiempo de empleo intermedio\n",
    "PEA_emp = df7.pivot_table(values= [\"id\"],\n",
    "                                  index=[\"Fecha\",\"tiempo_trab\"],\n",
    "                                  columns=[\"sexo\"], aggfunc= \"count\", margins = True)\n",
    "PEA_emp"
   ]
  },
  {
   "cell_type": "markdown",
   "metadata": {},
   "source": [
    "#### Tabla de salida"
   ]
  },
  {
   "cell_type": "code",
   "execution_count": 2,
   "metadata": {},
   "outputs": [],
   "source": [
    "dfprueba= pd.read_csv('D:/maestria_ciencias_economicas_unal/tesis_scarring/base datos/ELCA_FINAL/PET_REDUC_Trat_ctrl.csv', sep = \";\", index_col=[0,1], low_memory=False)"
   ]
  },
  {
   "cell_type": "code",
   "execution_count": 19,
   "metadata": {
    "scrolled": true
   },
   "outputs": [
    {
     "data": {
      "text/html": [
       "\n",
       "        <iframe\n",
       "            width=\"100%\"\n",
       "            height=\"475\"\n",
       "            src=\"http://LAPTOP-32LNM716:40000/dtale/iframe/3\"\n",
       "            frameborder=\"0\"\n",
       "            allowfullscreen\n",
       "        ></iframe>\n",
       "        "
      ],
      "text/plain": [
       "<IPython.lib.display.IFrame at 0x1eb5f33aaf0>"
      ]
     },
     "metadata": {},
     "output_type": "display_data"
    },
    {
     "data": {
      "text/plain": []
     },
     "execution_count": 19,
     "metadata": {},
     "output_type": "execute_result"
    },
    {
     "name": "stderr",
     "output_type": "stream",
     "text": [
      "2021-08-08 16:15:29,294 - INFO     - NumExpr defaulting to 8 threads.\n"
     ]
    }
   ],
   "source": [
    "d = dtale.show(df7, ignore_duplicate = True)\n",
    "d\n"
   ]
  },
  {
   "cell_type": "code",
   "execution_count": 266,
   "metadata": {},
   "outputs": [],
   "source": [
    "#df7.to_csv('D:/maestria_ciencias_economicas_unal/tesis_scarring/base datos/ELCA_FINAL/PANEL_PET_REDUC.csv', sep = \";\")"
   ]
  },
  {
   "cell_type": "code",
   "execution_count": 151,
   "metadata": {},
   "outputs": [
    {
     "data": {
      "text/html": [
       "<div>\n",
       "<style scoped>\n",
       "    .dataframe tbody tr th:only-of-type {\n",
       "        vertical-align: middle;\n",
       "    }\n",
       "\n",
       "    .dataframe tbody tr th {\n",
       "        vertical-align: top;\n",
       "    }\n",
       "\n",
       "    .dataframe thead tr th {\n",
       "        text-align: left;\n",
       "    }\n",
       "\n",
       "    .dataframe thead tr:last-of-type th {\n",
       "        text-align: right;\n",
       "    }\n",
       "</style>\n",
       "<table border=\"1\" class=\"dataframe\">\n",
       "  <thead>\n",
       "    <tr>\n",
       "      <th></th>\n",
       "      <th></th>\n",
       "      <th></th>\n",
       "      <th colspan=\"5\" halign=\"left\">edad</th>\n",
       "    </tr>\n",
       "    <tr>\n",
       "      <th></th>\n",
       "      <th></th>\n",
       "      <th></th>\n",
       "      <th>size</th>\n",
       "      <th>amax</th>\n",
       "      <th>amin</th>\n",
       "      <th>mean</th>\n",
       "      <th>std</th>\n",
       "    </tr>\n",
       "    <tr>\n",
       "      <th>Fecha</th>\n",
       "      <th>clasif_lab</th>\n",
       "      <th>desemp_ult3</th>\n",
       "      <th></th>\n",
       "      <th></th>\n",
       "      <th></th>\n",
       "      <th></th>\n",
       "      <th></th>\n",
       "    </tr>\n",
       "  </thead>\n",
       "  <tbody>\n",
       "    <tr>\n",
       "      <th rowspan=\"6\" valign=\"top\">2013-12-31</th>\n",
       "      <th rowspan=\"2\" valign=\"top\">1.0</th>\n",
       "      <th>No</th>\n",
       "      <td>3105</td>\n",
       "      <td>85</td>\n",
       "      <td>21</td>\n",
       "      <td>45.134300</td>\n",
       "      <td>10.823219</td>\n",
       "    </tr>\n",
       "    <tr>\n",
       "      <th>Sí</th>\n",
       "      <td>994</td>\n",
       "      <td>74</td>\n",
       "      <td>19</td>\n",
       "      <td>41.541247</td>\n",
       "      <td>10.323606</td>\n",
       "    </tr>\n",
       "    <tr>\n",
       "      <th rowspan=\"2\" valign=\"top\">2.0</th>\n",
       "      <th>No</th>\n",
       "      <td>62</td>\n",
       "      <td>69</td>\n",
       "      <td>24</td>\n",
       "      <td>43.580645</td>\n",
       "      <td>12.493340</td>\n",
       "    </tr>\n",
       "    <tr>\n",
       "      <th>Sí</th>\n",
       "      <td>257</td>\n",
       "      <td>72</td>\n",
       "      <td>20</td>\n",
       "      <td>41.560311</td>\n",
       "      <td>12.094568</td>\n",
       "    </tr>\n",
       "    <tr>\n",
       "      <th rowspan=\"2\" valign=\"top\">3.0</th>\n",
       "      <th>No</th>\n",
       "      <td>1137</td>\n",
       "      <td>88</td>\n",
       "      <td>19</td>\n",
       "      <td>51.995602</td>\n",
       "      <td>12.908841</td>\n",
       "    </tr>\n",
       "    <tr>\n",
       "      <th>Sí</th>\n",
       "      <td>102</td>\n",
       "      <td>67</td>\n",
       "      <td>21</td>\n",
       "      <td>40.725490</td>\n",
       "      <td>12.271804</td>\n",
       "    </tr>\n",
       "    <tr>\n",
       "      <th rowspan=\"6\" valign=\"top\">2016-12-31</th>\n",
       "      <th rowspan=\"2\" valign=\"top\">1.0</th>\n",
       "      <th>No</th>\n",
       "      <td>592</td>\n",
       "      <td>77</td>\n",
       "      <td>23</td>\n",
       "      <td>43.559122</td>\n",
       "      <td>10.958307</td>\n",
       "    </tr>\n",
       "    <tr>\n",
       "      <th>Sí</th>\n",
       "      <td>515</td>\n",
       "      <td>76</td>\n",
       "      <td>23</td>\n",
       "      <td>42.537864</td>\n",
       "      <td>10.277853</td>\n",
       "    </tr>\n",
       "    <tr>\n",
       "      <th rowspan=\"2\" valign=\"top\">2.0</th>\n",
       "      <th>No</th>\n",
       "      <td>77</td>\n",
       "      <td>71</td>\n",
       "      <td>23</td>\n",
       "      <td>44.701299</td>\n",
       "      <td>12.118999</td>\n",
       "    </tr>\n",
       "    <tr>\n",
       "      <th>Sí</th>\n",
       "      <td>175</td>\n",
       "      <td>75</td>\n",
       "      <td>23</td>\n",
       "      <td>43.525714</td>\n",
       "      <td>12.080581</td>\n",
       "    </tr>\n",
       "    <tr>\n",
       "      <th rowspan=\"2\" valign=\"top\">3.0</th>\n",
       "      <th>No</th>\n",
       "      <td>962</td>\n",
       "      <td>90</td>\n",
       "      <td>22</td>\n",
       "      <td>55.898129</td>\n",
       "      <td>12.645080</td>\n",
       "    </tr>\n",
       "    <tr>\n",
       "      <th>Sí</th>\n",
       "      <td>177</td>\n",
       "      <td>91</td>\n",
       "      <td>25</td>\n",
       "      <td>53.581921</td>\n",
       "      <td>12.873745</td>\n",
       "    </tr>\n",
       "  </tbody>\n",
       "</table>\n",
       "</div>"
      ],
      "text/plain": [
       "                                   edad                                \n",
       "                                   size amax amin       mean        std\n",
       "Fecha      clasif_lab desemp_ult3                                      \n",
       "2013-12-31 1.0        No           3105   85   21  45.134300  10.823219\n",
       "                      Sí            994   74   19  41.541247  10.323606\n",
       "           2.0        No             62   69   24  43.580645  12.493340\n",
       "                      Sí            257   72   20  41.560311  12.094568\n",
       "           3.0        No           1137   88   19  51.995602  12.908841\n",
       "                      Sí            102   67   21  40.725490  12.271804\n",
       "2016-12-31 1.0        No            592   77   23  43.559122  10.958307\n",
       "                      Sí            515   76   23  42.537864  10.277853\n",
       "           2.0        No             77   71   23  44.701299  12.118999\n",
       "                      Sí            175   75   23  43.525714  12.080581\n",
       "           3.0        No            962   90   22  55.898129  12.645080\n",
       "                      Sí            177   91   25  53.581921  12.873745"
      ]
     },
     "execution_count": 151,
     "metadata": {},
     "output_type": "execute_result"
    }
   ],
   "source": [
    "#df7.groupby(by=[\"Fecha\"]).aggregate({\"clasif_lab\": [np.size]})\n",
    "#df7.groupby(by=[\"vr_salario\"]).get_group()\n",
    "#df7.query('((fecha == \"2010-12-31\") & (clasif_lab == \"1\")) | ((fecha == \"2013-12-31\") & (clasif_lab == \"2\")) | ((fecha == \"2016-12-31\") & (clasif_lab == \"1\"))').count()\n",
    "prueba= df7.groupby(by=[\"Fecha\",\"clasif_lab\", \"desemp_ult3\"]).aggregate({\"edad\": [np.size, np.max, np.min, np.mean, np.std]})\n",
    "prueba"
   ]
  },
  {
   "cell_type": "code",
   "execution_count": 97,
   "metadata": {},
   "outputs": [
    {
     "data": {
      "text/html": [
       "<div>\n",
       "<style scoped>\n",
       "    .dataframe tbody tr th:only-of-type {\n",
       "        vertical-align: middle;\n",
       "    }\n",
       "\n",
       "    .dataframe tbody tr th {\n",
       "        vertical-align: top;\n",
       "    }\n",
       "\n",
       "    .dataframe thead tr th {\n",
       "        text-align: left;\n",
       "    }\n",
       "\n",
       "    .dataframe thead tr:last-of-type th {\n",
       "        text-align: right;\n",
       "    }\n",
       "</style>\n",
       "<table border=\"1\" class=\"dataframe\">\n",
       "  <thead>\n",
       "    <tr>\n",
       "      <th></th>\n",
       "      <th></th>\n",
       "      <th>edad</th>\n",
       "    </tr>\n",
       "    <tr>\n",
       "      <th></th>\n",
       "      <th></th>\n",
       "      <th>size</th>\n",
       "    </tr>\n",
       "    <tr>\n",
       "      <th>Fecha</th>\n",
       "      <th>clasif_lab</th>\n",
       "      <th></th>\n",
       "    </tr>\n",
       "  </thead>\n",
       "  <tbody>\n",
       "    <tr>\n",
       "      <th rowspan=\"3\" valign=\"top\">2010-12-31</th>\n",
       "      <th>1.0</th>\n",
       "      <td>4009</td>\n",
       "    </tr>\n",
       "    <tr>\n",
       "      <th>2.0</th>\n",
       "      <td>554</td>\n",
       "    </tr>\n",
       "    <tr>\n",
       "      <th>3.0</th>\n",
       "      <td>1270</td>\n",
       "    </tr>\n",
       "    <tr>\n",
       "      <th rowspan=\"3\" valign=\"top\">2013-12-31</th>\n",
       "      <th>1.0</th>\n",
       "      <td>4172</td>\n",
       "    </tr>\n",
       "    <tr>\n",
       "      <th>2.0</th>\n",
       "      <td>338</td>\n",
       "    </tr>\n",
       "    <tr>\n",
       "      <th>3.0</th>\n",
       "      <td>1323</td>\n",
       "    </tr>\n",
       "    <tr>\n",
       "      <th rowspan=\"3\" valign=\"top\">2016-12-31</th>\n",
       "      <th>1.0</th>\n",
       "      <td>4129</td>\n",
       "    </tr>\n",
       "    <tr>\n",
       "      <th>2.0</th>\n",
       "      <td>269</td>\n",
       "    </tr>\n",
       "    <tr>\n",
       "      <th>3.0</th>\n",
       "      <td>1391</td>\n",
       "    </tr>\n",
       "  </tbody>\n",
       "</table>\n",
       "</div>"
      ],
      "text/plain": [
       "                       edad\n",
       "                       size\n",
       "Fecha      clasif_lab      \n",
       "2010-12-31 1.0         4009\n",
       "           2.0          554\n",
       "           3.0         1270\n",
       "2013-12-31 1.0         4172\n",
       "           2.0          338\n",
       "           3.0         1323\n",
       "2016-12-31 1.0         4129\n",
       "           2.0          269\n",
       "           3.0         1391"
      ]
     },
     "execution_count": 97,
     "metadata": {},
     "output_type": "execute_result"
    }
   ],
   "source": [
    "tam_mtra= df7.groupby(by=[\"Fecha\",\"clasif_lab\"]).aggregate({\"edad\": [np.size]})\n",
    "tam_mtra"
   ]
  },
  {
   "cell_type": "code",
   "execution_count": 283,
   "metadata": {},
   "outputs": [],
   "source": [
    "df7.query('((sexo== \"hombre\") & (clasif_lab == \"1\"))').count()\n"
   ]
  },
  {
   "cell_type": "code",
   "execution_count": 279,
   "metadata": {},
   "outputs": [
    {
     "data": {
      "text/html": [
       "<div>\n",
       "<style scoped>\n",
       "    .dataframe tbody tr th:only-of-type {\n",
       "        vertical-align: middle;\n",
       "    }\n",
       "\n",
       "    .dataframe tbody tr th {\n",
       "        vertical-align: top;\n",
       "    }\n",
       "\n",
       "    .dataframe thead tr th {\n",
       "        text-align: left;\n",
       "    }\n",
       "\n",
       "    .dataframe thead tr:last-of-type th {\n",
       "        text-align: right;\n",
       "    }\n",
       "</style>\n",
       "<table border=\"1\" class=\"dataframe\">\n",
       "  <thead>\n",
       "    <tr>\n",
       "      <th></th>\n",
       "      <th></th>\n",
       "      <th>edad</th>\n",
       "    </tr>\n",
       "    <tr>\n",
       "      <th></th>\n",
       "      <th></th>\n",
       "      <th>size</th>\n",
       "    </tr>\n",
       "    <tr>\n",
       "      <th>Fecha</th>\n",
       "      <th>clasif_lab</th>\n",
       "      <th></th>\n",
       "    </tr>\n",
       "  </thead>\n",
       "  <tbody>\n",
       "    <tr>\n",
       "      <th rowspan=\"3\" valign=\"top\">2010-12-31</th>\n",
       "      <th>1.0</th>\n",
       "      <td>4009</td>\n",
       "    </tr>\n",
       "    <tr>\n",
       "      <th>2.0</th>\n",
       "      <td>554</td>\n",
       "    </tr>\n",
       "    <tr>\n",
       "      <th>3.0</th>\n",
       "      <td>1270</td>\n",
       "    </tr>\n",
       "    <tr>\n",
       "      <th rowspan=\"3\" valign=\"top\">2013-12-31</th>\n",
       "      <th>1.0</th>\n",
       "      <td>4172</td>\n",
       "    </tr>\n",
       "    <tr>\n",
       "      <th>2.0</th>\n",
       "      <td>338</td>\n",
       "    </tr>\n",
       "    <tr>\n",
       "      <th>3.0</th>\n",
       "      <td>1323</td>\n",
       "    </tr>\n",
       "    <tr>\n",
       "      <th rowspan=\"3\" valign=\"top\">2016-12-31</th>\n",
       "      <th>1.0</th>\n",
       "      <td>4129</td>\n",
       "    </tr>\n",
       "    <tr>\n",
       "      <th>2.0</th>\n",
       "      <td>269</td>\n",
       "    </tr>\n",
       "    <tr>\n",
       "      <th>3.0</th>\n",
       "      <td>1391</td>\n",
       "    </tr>\n",
       "  </tbody>\n",
       "</table>\n",
       "</div>"
      ],
      "text/plain": [
       "                       edad\n",
       "                       size\n",
       "Fecha      clasif_lab      \n",
       "2010-12-31 1.0         4009\n",
       "           2.0          554\n",
       "           3.0         1270\n",
       "2013-12-31 1.0         4172\n",
       "           2.0          338\n",
       "           3.0         1323\n",
       "2016-12-31 1.0         4129\n",
       "           2.0          269\n",
       "           3.0         1391"
      ]
     },
     "execution_count": 279,
     "metadata": {},
     "output_type": "execute_result"
    }
   ],
   "source": [
    "prueba2= df7.groupby(by=[\"Fecha\",\"clasif_lab\"]).aggregate({\"edad\": [np.size]})#, np.max, np.min, np.mean, np.std]})\n",
    "prueba2"
   ]
  },
  {
   "cell_type": "code",
   "execution_count": 24,
   "metadata": {
    "scrolled": true
   },
   "outputs": [
    {
     "data": {
      "text/html": [
       "<div>\n",
       "<style scoped>\n",
       "    .dataframe tbody tr th:only-of-type {\n",
       "        vertical-align: middle;\n",
       "    }\n",
       "\n",
       "    .dataframe tbody tr th {\n",
       "        vertical-align: top;\n",
       "    }\n",
       "\n",
       "    .dataframe thead tr th {\n",
       "        text-align: left;\n",
       "    }\n",
       "\n",
       "    .dataframe thead tr:last-of-type th {\n",
       "        text-align: right;\n",
       "    }\n",
       "</style>\n",
       "<table border=\"1\" class=\"dataframe\">\n",
       "  <thead>\n",
       "    <tr>\n",
       "      <th></th>\n",
       "      <th>sexo</th>\n",
       "      <th colspan=\"3\" halign=\"left\">hombre</th>\n",
       "      <th colspan=\"3\" halign=\"left\">mujer</th>\n",
       "      <th>All</th>\n",
       "    </tr>\n",
       "    <tr>\n",
       "      <th></th>\n",
       "      <th>clasif_lab</th>\n",
       "      <th>1.0</th>\n",
       "      <th>2.0</th>\n",
       "      <th>3.0</th>\n",
       "      <th>1.0</th>\n",
       "      <th>2.0</th>\n",
       "      <th>3.0</th>\n",
       "      <th></th>\n",
       "    </tr>\n",
       "    <tr>\n",
       "      <th>Fecha</th>\n",
       "      <th>estrato</th>\n",
       "      <th></th>\n",
       "      <th></th>\n",
       "      <th></th>\n",
       "      <th></th>\n",
       "      <th></th>\n",
       "      <th></th>\n",
       "      <th></th>\n",
       "    </tr>\n",
       "  </thead>\n",
       "  <tbody>\n",
       "    <tr>\n",
       "      <th rowspan=\"4\" valign=\"top\">2010-12-31</th>\n",
       "      <th>1.0</th>\n",
       "      <td>41.750357</td>\n",
       "      <td>44.903846</td>\n",
       "      <td>55.068966</td>\n",
       "      <td>39.855446</td>\n",
       "      <td>35.050314</td>\n",
       "      <td>40.906166</td>\n",
       "      <td>40.768004</td>\n",
       "    </tr>\n",
       "    <tr>\n",
       "      <th>2.0</th>\n",
       "      <td>42.260355</td>\n",
       "      <td>47.122449</td>\n",
       "      <td>56.954545</td>\n",
       "      <td>40.201765</td>\n",
       "      <td>35.087209</td>\n",
       "      <td>44.888626</td>\n",
       "      <td>42.026417</td>\n",
       "    </tr>\n",
       "    <tr>\n",
       "      <th>3.0</th>\n",
       "      <td>44.650407</td>\n",
       "      <td>44.857143</td>\n",
       "      <td>61.692308</td>\n",
       "      <td>41.902534</td>\n",
       "      <td>40.013514</td>\n",
       "      <td>47.026119</td>\n",
       "      <td>44.493343</td>\n",
       "    </tr>\n",
       "    <tr>\n",
       "      <th>4.0</th>\n",
       "      <td>46.147727</td>\n",
       "      <td>49.200000</td>\n",
       "      <td>61.083333</td>\n",
       "      <td>43.361111</td>\n",
       "      <td>41.600000</td>\n",
       "      <td>52.479167</td>\n",
       "      <td>47.104167</td>\n",
       "    </tr>\n",
       "    <tr>\n",
       "      <th rowspan=\"4\" valign=\"top\">2013-12-31</th>\n",
       "      <th>1.0</th>\n",
       "      <td>44.907275</td>\n",
       "      <td>46.600000</td>\n",
       "      <td>60.978723</td>\n",
       "      <td>42.171141</td>\n",
       "      <td>35.677083</td>\n",
       "      <td>45.396739</td>\n",
       "      <td>44.081389</td>\n",
       "    </tr>\n",
       "    <tr>\n",
       "      <th>2.0</th>\n",
       "      <td>44.529132</td>\n",
       "      <td>48.942857</td>\n",
       "      <td>60.037975</td>\n",
       "      <td>41.855294</td>\n",
       "      <td>39.494949</td>\n",
       "      <td>48.617225</td>\n",
       "      <td>44.665805</td>\n",
       "    </tr>\n",
       "    <tr>\n",
       "      <th>3.0</th>\n",
       "      <td>47.681363</td>\n",
       "      <td>49.913043</td>\n",
       "      <td>66.235294</td>\n",
       "      <td>44.440454</td>\n",
       "      <td>43.088889</td>\n",
       "      <td>52.709343</td>\n",
       "      <td>48.262904</td>\n",
       "    </tr>\n",
       "    <tr>\n",
       "      <th>4.0</th>\n",
       "      <td>46.869565</td>\n",
       "      <td>45.000000</td>\n",
       "      <td>63.200000</td>\n",
       "      <td>45.068966</td>\n",
       "      <td>36.250000</td>\n",
       "      <td>54.176471</td>\n",
       "      <td>48.609302</td>\n",
       "    </tr>\n",
       "    <tr>\n",
       "      <th rowspan=\"4\" valign=\"top\">2016-12-31</th>\n",
       "      <th>1.0</th>\n",
       "      <td>47.860534</td>\n",
       "      <td>50.896552</td>\n",
       "      <td>64.036364</td>\n",
       "      <td>43.649832</td>\n",
       "      <td>39.104478</td>\n",
       "      <td>50.640884</td>\n",
       "      <td>47.240876</td>\n",
       "    </tr>\n",
       "    <tr>\n",
       "      <th>2.0</th>\n",
       "      <td>47.324291</td>\n",
       "      <td>47.514286</td>\n",
       "      <td>63.828283</td>\n",
       "      <td>44.648084</td>\n",
       "      <td>40.386667</td>\n",
       "      <td>52.321596</td>\n",
       "      <td>47.733853</td>\n",
       "    </tr>\n",
       "    <tr>\n",
       "      <th>3.0</th>\n",
       "      <td>49.800000</td>\n",
       "      <td>55.857143</td>\n",
       "      <td>66.909091</td>\n",
       "      <td>46.718095</td>\n",
       "      <td>44.594595</td>\n",
       "      <td>56.027586</td>\n",
       "      <td>50.925479</td>\n",
       "    </tr>\n",
       "    <tr>\n",
       "      <th>4.0</th>\n",
       "      <td>49.120879</td>\n",
       "      <td>52.750000</td>\n",
       "      <td>67.611111</td>\n",
       "      <td>47.687500</td>\n",
       "      <td>46.500000</td>\n",
       "      <td>55.913043</td>\n",
       "      <td>51.026616</td>\n",
       "    </tr>\n",
       "    <tr>\n",
       "      <th>All</th>\n",
       "      <th></th>\n",
       "      <td>45.433062</td>\n",
       "      <td>47.790323</td>\n",
       "      <td>62.590837</td>\n",
       "      <td>42.890051</td>\n",
       "      <td>37.935370</td>\n",
       "      <td>48.704246</td>\n",
       "      <td>45.481178</td>\n",
       "    </tr>\n",
       "  </tbody>\n",
       "</table>\n",
       "</div>"
      ],
      "text/plain": [
       "sexo                   hombre                            mujer             \\\n",
       "clasif_lab                1.0        2.0        3.0        1.0        2.0   \n",
       "Fecha      estrato                                                          \n",
       "2010-12-31 1.0      41.750357  44.903846  55.068966  39.855446  35.050314   \n",
       "           2.0      42.260355  47.122449  56.954545  40.201765  35.087209   \n",
       "           3.0      44.650407  44.857143  61.692308  41.902534  40.013514   \n",
       "           4.0      46.147727  49.200000  61.083333  43.361111  41.600000   \n",
       "2013-12-31 1.0      44.907275  46.600000  60.978723  42.171141  35.677083   \n",
       "           2.0      44.529132  48.942857  60.037975  41.855294  39.494949   \n",
       "           3.0      47.681363  49.913043  66.235294  44.440454  43.088889   \n",
       "           4.0      46.869565  45.000000  63.200000  45.068966  36.250000   \n",
       "2016-12-31 1.0      47.860534  50.896552  64.036364  43.649832  39.104478   \n",
       "           2.0      47.324291  47.514286  63.828283  44.648084  40.386667   \n",
       "           3.0      49.800000  55.857143  66.909091  46.718095  44.594595   \n",
       "           4.0      49.120879  52.750000  67.611111  47.687500  46.500000   \n",
       "All                 45.433062  47.790323  62.590837  42.890051  37.935370   \n",
       "\n",
       "sexo                                 All  \n",
       "clasif_lab                3.0             \n",
       "Fecha      estrato                        \n",
       "2010-12-31 1.0      40.906166  40.768004  \n",
       "           2.0      44.888626  42.026417  \n",
       "           3.0      47.026119  44.493343  \n",
       "           4.0      52.479167  47.104167  \n",
       "2013-12-31 1.0      45.396739  44.081389  \n",
       "           2.0      48.617225  44.665805  \n",
       "           3.0      52.709343  48.262904  \n",
       "           4.0      54.176471  48.609302  \n",
       "2016-12-31 1.0      50.640884  47.240876  \n",
       "           2.0      52.321596  47.733853  \n",
       "           3.0      56.027586  50.925479  \n",
       "           4.0      55.913043  51.026616  \n",
       "All                 48.704246  45.481178  "
      ]
     },
     "execution_count": 24,
     "metadata": {},
     "output_type": "execute_result"
    }
   ],
   "source": [
    "clasif_lab_pivot= df7.pivot_table(values= \"edad\", index=[\"Fecha\", \"estrato\"], columns= [\"sexo\", \"clasif_lab\"], margins=True)\n",
    "     \n",
    "                                  #aggfunc='first') #{'edad':np.mean,'vr_salario':np.mean})\n",
    "#clasif_lab_pivot1 = clasif_lab_pivot.sort_values(['clasif_lab']) \n",
    "clasif_lab_pivot"
   ]
  },
  {
   "cell_type": "code",
   "execution_count": 291,
   "metadata": {},
   "outputs": [
    {
     "data": {
      "text/html": [
       "<div>\n",
       "<style scoped>\n",
       "    .dataframe tbody tr th:only-of-type {\n",
       "        vertical-align: middle;\n",
       "    }\n",
       "\n",
       "    .dataframe tbody tr th {\n",
       "        vertical-align: top;\n",
       "    }\n",
       "\n",
       "    .dataframe thead th {\n",
       "        text-align: right;\n",
       "    }\n",
       "</style>\n",
       "<table border=\"1\" class=\"dataframe\">\n",
       "  <thead>\n",
       "    <tr style=\"text-align: right;\">\n",
       "      <th></th>\n",
       "      <th></th>\n",
       "      <th>tiempo_desempleo</th>\n",
       "      <th>tiempo_empleo</th>\n",
       "    </tr>\n",
       "    <tr>\n",
       "      <th>Fecha</th>\n",
       "      <th>clasif_lab</th>\n",
       "      <th></th>\n",
       "      <th></th>\n",
       "    </tr>\n",
       "  </thead>\n",
       "  <tbody>\n",
       "    <tr>\n",
       "      <th rowspan=\"2\" valign=\"top\">2010-12-31</th>\n",
       "      <th>1.0</th>\n",
       "      <td>NaN</td>\n",
       "      <td>52.205008</td>\n",
       "    </tr>\n",
       "    <tr>\n",
       "      <th>2.0</th>\n",
       "      <td>11.629630</td>\n",
       "      <td>NaN</td>\n",
       "    </tr>\n",
       "    <tr>\n",
       "      <th rowspan=\"2\" valign=\"top\">2013-12-31</th>\n",
       "      <th>1.0</th>\n",
       "      <td>NaN</td>\n",
       "      <td>19.393980</td>\n",
       "    </tr>\n",
       "    <tr>\n",
       "      <th>2.0</th>\n",
       "      <td>30.323077</td>\n",
       "      <td>NaN</td>\n",
       "    </tr>\n",
       "    <tr>\n",
       "      <th rowspan=\"2\" valign=\"top\">2016-12-31</th>\n",
       "      <th>1.0</th>\n",
       "      <td>NaN</td>\n",
       "      <td>30.902073</td>\n",
       "    </tr>\n",
       "    <tr>\n",
       "      <th>2.0</th>\n",
       "      <td>12.702703</td>\n",
       "      <td>NaN</td>\n",
       "    </tr>\n",
       "  </tbody>\n",
       "</table>\n",
       "</div>"
      ],
      "text/plain": [
       "                       tiempo_desempleo  tiempo_empleo\n",
       "Fecha      clasif_lab                                 \n",
       "2010-12-31 1.0                      NaN      52.205008\n",
       "           2.0                11.629630            NaN\n",
       "2013-12-31 1.0                      NaN      19.393980\n",
       "           2.0                30.323077            NaN\n",
       "2016-12-31 1.0                      NaN      30.902073\n",
       "           2.0                12.702703            NaN"
      ]
     },
     "execution_count": 291,
     "metadata": {},
     "output_type": "execute_result"
    }
   ],
   "source": [
    "dfprueba.pivot_table(values = [\"tiempo_empleo\", \"tiempo_desempleo\"], index = ['Fecha', \"clasif_lab\"])#, columns = 'sexo') "
   ]
  },
  {
   "cell_type": "code",
   "execution_count": 285,
   "metadata": {
    "scrolled": true
   },
   "outputs": [],
   "source": [
    "report = ProfileReport(df7, 'Resumen Estadísitco')\n",
    "report"
   ]
  }
 ],
 "metadata": {
  "kernelspec": {
   "display_name": "Python 3",
   "language": "python",
   "name": "python3"
  },
  "language_info": {
   "codemirror_mode": {
    "name": "ipython",
    "version": 3
   },
   "file_extension": ".py",
   "mimetype": "text/x-python",
   "name": "python",
   "nbconvert_exporter": "python",
   "pygments_lexer": "ipython3",
   "version": "3.8.3"
  }
 },
 "nbformat": 4,
 "nbformat_minor": 4
}
