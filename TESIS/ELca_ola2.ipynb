{
 "cells": [
  {
   "cell_type": "code",
   "execution_count": 1,
   "metadata": {},
   "outputs": [],
   "source": [
    "import pandas as pd\n",
    "import numpy as np\n"
   ]
  },
  {
   "cell_type": "code",
   "execution_count": 2,
   "metadata": {},
   "outputs": [],
   "source": [
    "import statsmodels.api as sm\n",
    "import matplotlib.pyplot as plt\n",
    "import seaborn as sns\n",
    "import plotly.graph_objects as go\n",
    "from plotly.subplots import make_subplots "
   ]
  },
  {
   "cell_type": "code",
   "execution_count": 4,
   "metadata": {},
   "outputs": [],
   "source": [
    "import plotly.express as px\n",
    "\n",
    "#colores2 = px.colors.sequential.swatches()\n",
    "#colores2.show()"
   ]
  },
  {
   "cell_type": "code",
   "execution_count": 2,
   "metadata": {},
   "outputs": [],
   "source": [
    "## Impote de bases de datos Elca 2013 ###\n",
    "# PATH : RUTA EN LA QUE TIENE GUARADA LA BASE DE DATOS (((siempre con los slash hacia la derecha /)))/ #¡¡¡Dejar el último slash / !!!\n",
    "urb_hog_13 = pd.read_stata(\"D:/maestria_ciencias_economicas_unal/tesis_scarring/base datos/ELCA_2013/ELCA_2013_urbano/UHogar_2013.dta\")\n",
    "\n"
   ]
  },
  {
   "cell_type": "code",
   "execution_count": 4,
   "metadata": {},
   "outputs": [],
   "source": [
    "#del comando para borrar objetos.\n",
    "urb_hog_13[\"llave\"].duplicated().sum()\n"
   ]
  },
  {
   "cell_type": "code",
   "execution_count": 178,
   "metadata": {},
   "outputs": [
    {
     "data": {
      "text/plain": [
       "(4910, 468)"
      ]
     },
     "execution_count": 178,
     "metadata": {},
     "output_type": "execute_result"
    }
   ],
   "source": [
    "urb_hog_13.shape"
   ]
  },
  {
   "cell_type": "code",
   "execution_count": 25,
   "metadata": {
    "scrolled": true
   },
   "outputs": [
    {
     "data": {
      "text/plain": [
       "['ola',\n",
       " 'zona',\n",
       " 'zona_2010',\n",
       " 'region',\n",
       " 'RegionLb',\n",
       " 'id_depto',\n",
       " 'id_mpio',\n",
       " 'id_mpioU',\n",
       " 'consecutivo_c',\n",
       " 'consecutivo',\n",
       " 'hogar',\n",
       " 'llave',\n",
       " 'estrato',\n",
       " 't_personas',\n",
       " 'tipo_vivienda',\n",
       " 'material_paredes',\n",
       " 'material_pisos',\n",
       " 'sp_energia',\n",
       " 'sp_gasnatural',\n",
       " 'sp_acueducto',\n",
       " 'sp_alcantarillado',\n",
       " 'sp_telefono',\n",
       " 'sp_recoleccion_basura',\n",
       " 'n_television_cable',\n",
       " 'n_internet',\n",
       " 'sp_estrato',\n",
       " 'eliminan_basura',\n",
       " 't_hogares',\n",
       " 't_cuartos_hogar',\n",
       " 't_cuartos_dormir',\n",
       " 'servicio_sanitario',\n",
       " 'obtencion_agua',\n",
       " 'tratan_agua',\n",
       " 'metodo_agua',\n",
       " 'energia_cocinan',\n",
       " 'tenencia_vivienda',\n",
       " 'recursos_propios',\n",
       " 'credito_financiera',\n",
       " 'credito_fna',\n",
       " 'credito_cooperativa',\n",
       " 'prestamo_familiar',\n",
       " 'otro_prestamo',\n",
       " 'subsidios',\n",
       " 'otra_financiacion',\n",
       " 'otra_financiacion_cual',\n",
       " 'dcto_vivienda',\n",
       " 'valor_arriendo_pagado',\n",
       " 'inundacion',\n",
       " 'vec_inunda',\n",
       " 'mes_inunda',\n",
       " 'ano_inunda',\n",
       " 'vivien_inu',\n",
       " 'servag_inu',\n",
       " 'alcant_inu',\n",
       " 'avalancha',\n",
       " 'vec_avalancha',\n",
       " 'mes_avalancha',\n",
       " 'ano_avalancha',\n",
       " 'vivien_ava',\n",
       " 'servag_ava',\n",
       " 'alcant_ava',\n",
       " 'creciente',\n",
       " 'vec_creciente',\n",
       " 'mes_creciente',\n",
       " 'ano_creciente',\n",
       " 'vivien_cre',\n",
       " 'servag_cre',\n",
       " 'alcant_cre',\n",
       " 'hundimiento',\n",
       " 'vec_hunde',\n",
       " 'mes_hunde',\n",
       " 'ano_hunde',\n",
       " 'vivien_hun',\n",
       " 'servag_hun',\n",
       " 'alcant_hun',\n",
       " 'terremoto',\n",
       " 'vec_temblor',\n",
       " 'mes_temblor',\n",
       " 'ano_temblor',\n",
       " 'vivien_tem',\n",
       " 'servag_tem',\n",
       " 'alcant_tem',\n",
       " 'incendio',\n",
       " 'vec_incendio',\n",
       " 'mes_incendio',\n",
       " 'ano_incendio',\n",
       " 'vivien_inc',\n",
       " 'servag_inc',\n",
       " 'alcant_inc',\n",
       " 'vendaval',\n",
       " 'vec_vendaval',\n",
       " 'mes_vendaval',\n",
       " 'ano_vendaval',\n",
       " 'vivien_ven',\n",
       " 'servag_ven',\n",
       " 'alcant_ven',\n",
       " 'otro_desastre',\n",
       " 'otro_desastre_cual',\n",
       " 'vec_otro_desnat',\n",
       " 'mes_otro',\n",
       " 'ano_otro',\n",
       " 'vivien_otra',\n",
       " 'servag_otra',\n",
       " 'alcant_otra',\n",
       " 'mejoras_vivienda',\n",
       " 'cambiar_vivienda',\n",
       " 'sisben_hogar',\n",
       " 'ano_sisben',\n",
       " 'sisben_ptj',\n",
       " 'sisben_nvl',\n",
       " 'religion',\n",
       " 'religion1_2013',\n",
       " 'religion2_2013',\n",
       " 'n_neveras',\n",
       " 'n_hornos',\n",
       " 'n_licuadoras',\n",
       " 'n_lavadoras',\n",
       " 'n_secadoras',\n",
       " 'n_microondas',\n",
       " 'n_calentadores',\n",
       " 'n_duchas',\n",
       " 'n_aire_acondicionado',\n",
       " 'n_televisores',\n",
       " 'n_radios',\n",
       " 'n_equipos_sonido',\n",
       " 'n_equipos_video',\n",
       " 'n_computadores',\n",
       " 'n_celular',\n",
       " 'motocicletas',\n",
       " 'automoviles',\n",
       " 'transporte',\n",
       " 'n_bicicletas',\n",
       " 'lotes',\n",
       " 'casas',\n",
       " 'equip_oficina',\n",
       " 'equip_maq',\n",
       " 'semovientes',\n",
       " 'otro_bien_cual',\n",
       " 'n_otros_bienes',\n",
       " 'familias_accion',\n",
       " 'clfq_familias',\n",
       " 'prg_adultomayor',\n",
       " 'sena',\n",
       " 'clfq_sena',\n",
       " 'red_juntos',\n",
       " 'clfq_red',\n",
       " 'icbf',\n",
       " 'clfq_icbf',\n",
       " 'ayu_desastres_nat',\n",
       " 'ayu_desplazados',\n",
       " 'otro_programa',\n",
       " 'otro_programa_cual',\n",
       " 'dsnat_redjuntos',\n",
       " 'dsnat_predial',\n",
       " 'dsnat_salud',\n",
       " 'dsnat_sicosocial',\n",
       " 'dsnat_creditos',\n",
       " 'dsnat_bancoldex',\n",
       " 'dsnat_condona',\n",
       " 'dsnat_otro_prg',\n",
       " 'bef_otro_cual',\n",
       " 'dsnat_efectivo',\n",
       " 'quien_efectivo',\n",
       " 'dsnat_mercado',\n",
       " 'quien_mercado',\n",
       " 'dsnat_kaseo',\n",
       " 'quien_kaseo',\n",
       " 'dsnat_subsidio',\n",
       " 'quien_subsidio',\n",
       " 'dsnat_befcred',\n",
       " 'quien_credito',\n",
       " 'dsnat_repviv',\n",
       " 'quien_repviv',\n",
       " 'dsnat_subagro',\n",
       " 'quien_subagro',\n",
       " 'dsnat_oayuda',\n",
       " 'oayuda_cual',\n",
       " 'quien_otra',\n",
       " 'ayu_fam_colom',\n",
       " 'ayu_famc_dinesp',\n",
       " 'ayu_famc_vec',\n",
       " 'ayu_fc_vr',\n",
       " 'ayu_fam_ext',\n",
       " 'ayu_fame_dinesp',\n",
       " 'ayu_fame_vec',\n",
       " 'ayu_fe_vr',\n",
       " 'ayu_alimentos',\n",
       " 'ayu_ali_dinesp',\n",
       " 'ayu_ali_vec',\n",
       " 'ayu_ali_vr',\n",
       " 'ayu_orgintern',\n",
       " 'ayu_orgint_dinesp',\n",
       " 'ayu_orgint_vec',\n",
       " 'ayu_oi_vr',\n",
       " 'ayu_ong',\n",
       " 'ayu_ong_dinesp',\n",
       " 'ayu_ong_vec',\n",
       " 'ayu_ong_vr',\n",
       " 'ayu_religiosas',\n",
       " 'ayu_rel_dinesp',\n",
       " 'ayu_rel_vec',\n",
       " 'ayu_rel_vr',\n",
       " 'ayu_otra',\n",
       " 'ayu_otra_dinesp',\n",
       " 'ayu_otra_vec',\n",
       " 'ayu_otra_vr',\n",
       " 'recibio_ayu_alim',\n",
       " 'mes_ayualim',\n",
       " 'ano_ayualim',\n",
       " 'uay_comida',\n",
       " 'uay_educacion',\n",
       " 'uay_salud',\n",
       " 'uay_vivienda',\n",
       " 'uay_reconst',\n",
       " 'uay_dsnat',\n",
       " 'uay_ahorrar',\n",
       " 'uay_invertir',\n",
       " 'uay_transporte',\n",
       " 'uay_otros',\n",
       " 'uay_otros_cual',\n",
       " 'eay_fam_colom',\n",
       " 'eay_famc_dinesp',\n",
       " 'eay_famc_vec',\n",
       " 'eay_fc_vr',\n",
       " 'eay_fam_exte',\n",
       " 'eay_fame_dinesp',\n",
       " 'eay_fame_vec',\n",
       " 'eay_fe_vr',\n",
       " 'eay_alimentos',\n",
       " 'eay_ali_dinesp',\n",
       " 'eay_ali_vec',\n",
       " 'eay_ali_vr',\n",
       " 'eay_otras',\n",
       " 'eay_otras_dinesp',\n",
       " 'eay_otras_vec',\n",
       " 'eay_otras_vr',\n",
       " 'envio_ayu_alim',\n",
       " 'act_dinero',\n",
       " 'act_fondos',\n",
       " 'act_cesantias',\n",
       " 'act_boninv',\n",
       " 'act_roscas',\n",
       " 'act_prestamo',\n",
       " 'seguro_hogar',\n",
       " 'act_segvida',\n",
       " 'act_segveh',\n",
       " 'act_segviv',\n",
       " 'act_segmaq',\n",
       " 'act_segexe',\n",
       " 'act_segsal',\n",
       " 'act_segcosechas',\n",
       " 'act_segotros',\n",
       " 'act_segotros_cual',\n",
       " 'no_seguros',\n",
       " 'no_seguros_cual',\n",
       " 'act_herencias',\n",
       " 'act_herencias_vr',\n",
       " 'act_ocasional',\n",
       " 'act_ocasional_vr',\n",
       " 'act_polizas',\n",
       " 'act_polizas_vr',\n",
       " 'act_vtainm',\n",
       " 'act_vtainm_vr',\n",
       " 'act_vtaneg',\n",
       " 'act_vtaneg_vr',\n",
       " 'act_vtaotros',\n",
       " 'act_vtaotros_cual',\n",
       " 'act_vtaotros_vr',\n",
       " 'act_otrosing',\n",
       " 'act_otrosing_cual',\n",
       " 'act_otrosing_vr',\n",
       " 'ing_trabajo',\n",
       " 'ing_pensiones',\n",
       " 'ing_arriendos',\n",
       " 'ing_intereses_div',\n",
       " 'ing_ayudas',\n",
       " 'ing_otros_nrem',\n",
       " 'vr_gtos_mensuales',\n",
       " 'vr_gtos_mens_alim',\n",
       " 'tienen_creditos',\n",
       " 'cuantos_creditos',\n",
       " 'con_quien_1',\n",
       " 'conquien_cual_1',\n",
       " 'deuda_tarjeta_1',\n",
       " 'destino2013_1',\n",
       " 'destino_cual_1',\n",
       " 'fechai_mes_1',\n",
       " 'fechai_ano_1',\n",
       " 'vr_inicial_1',\n",
       " 'cuota_1',\n",
       " 'period_cuota_1',\n",
       " 'pacto_meses_1',\n",
       " 'meses_plazo_1',\n",
       " 'vr_saldo_1',\n",
       " 'cred_anombre_1',\n",
       " 'cred_aldia_1',\n",
       " 'con_quien_2',\n",
       " 'conquien_cual_2',\n",
       " 'deuda_tarjeta_2',\n",
       " 'destino2013_2',\n",
       " 'destino_cual_2',\n",
       " 'fechai_mes_2',\n",
       " 'fechai_ano_2',\n",
       " 'vr_inicial_2',\n",
       " 'cuota_2',\n",
       " 'period_cuota_2',\n",
       " 'pacto_meses_2',\n",
       " 'meses_plazo_2',\n",
       " 'vr_saldo_2',\n",
       " 'cred_anombre_2',\n",
       " 'cred_aldia_2',\n",
       " 'con_quien_3',\n",
       " 'conquien_cual_3',\n",
       " 'deuda_tarjeta_3',\n",
       " 'destino2013_3',\n",
       " 'destino_cual_3',\n",
       " 'fechai_mes_3',\n",
       " 'fechai_ano_3',\n",
       " 'vr_inicial_3',\n",
       " 'cuota_3',\n",
       " 'period_cuota_3',\n",
       " 'pacto_meses_3',\n",
       " 'meses_plazo_3',\n",
       " 'vr_saldo_3',\n",
       " 'cred_anombre_3',\n",
       " 'cred_aldia_3',\n",
       " 'con_quien_4',\n",
       " 'conquien_cual_4',\n",
       " 'deuda_tarjeta_4',\n",
       " 'destino2013_4',\n",
       " 'destino_cual_4',\n",
       " 'fechai_mes_4',\n",
       " 'fechai_ano_4',\n",
       " 'vr_inicial_4',\n",
       " 'cuota_4',\n",
       " 'period_cuota_4',\n",
       " 'pacto_meses_4',\n",
       " 'meses_plazo_4',\n",
       " 'vr_saldo_4',\n",
       " 'cred_anombre_4',\n",
       " 'cred_aldia_4',\n",
       " 'con_quien_5',\n",
       " 'conquien_cual_5',\n",
       " 'deuda_tarjeta_5',\n",
       " 'destino2013_5',\n",
       " 'destino_cual_5',\n",
       " 'fechai_mes_5',\n",
       " 'fechai_ano_5',\n",
       " 'vr_inicial_5',\n",
       " 'cuota_5',\n",
       " 'period_cuota_5',\n",
       " 'pacto_meses_5',\n",
       " 'meses_plazo_5',\n",
       " 'vr_saldo_5',\n",
       " 'cred_anombre_5',\n",
       " 'cred_aldia_5',\n",
       " 'con_quien_6',\n",
       " 'conquien_cual_6',\n",
       " 'deuda_tarjeta_6',\n",
       " 'destino2013_6',\n",
       " 'destino_cual_6',\n",
       " 'fechai_mes_6',\n",
       " 'fechai_ano_6',\n",
       " 'vr_inicial_6',\n",
       " 'cuota_6',\n",
       " 'period_cuota_6',\n",
       " 'pacto_meses_6',\n",
       " 'meses_plazo_6',\n",
       " 'vr_saldo_6',\n",
       " 'cred_anombre_6',\n",
       " 'cred_aldia_6',\n",
       " 'con_quien_7',\n",
       " 'conquien_cual_7',\n",
       " 'deuda_tarjeta_7',\n",
       " 'destino2013_7',\n",
       " 'destino_cual_7',\n",
       " 'fechai_mes_7',\n",
       " 'fechai_ano_7',\n",
       " 'vr_inicial_7',\n",
       " 'cuota_7',\n",
       " 'period_cuota_7',\n",
       " 'pacto_meses_7',\n",
       " 'meses_plazo_7',\n",
       " 'vr_saldo_7',\n",
       " 'cred_anombre_7',\n",
       " 'cred_aldia_7',\n",
       " 'con_quien_8',\n",
       " 'conquien_cual_8',\n",
       " 'deuda_tarjeta_8',\n",
       " 'destino2013_8',\n",
       " 'destino_cual_8',\n",
       " 'fechai_mes_8',\n",
       " 'fechai_ano_8',\n",
       " 'vr_inicial_8',\n",
       " 'cuota_8',\n",
       " 'period_cuota_8',\n",
       " 'pacto_meses_8',\n",
       " 'meses_plazo_8',\n",
       " 'vr_saldo_8',\n",
       " 'cred_anombre_8',\n",
       " 'cred_aldia_8',\n",
       " 'con_quien_9',\n",
       " 'conquien_cual_9',\n",
       " 'deuda_tarjeta_9',\n",
       " 'destino2013_9',\n",
       " 'destino_cual_9',\n",
       " 'fechai_mes_9',\n",
       " 'fechai_ano_9',\n",
       " 'vr_inicial_9',\n",
       " 'cuota_9',\n",
       " 'period_cuota_9',\n",
       " 'pacto_meses_9',\n",
       " 'meses_plazo_9',\n",
       " 'vr_saldo_9',\n",
       " 'cred_anombre_9',\n",
       " 'cred_aldia_9',\n",
       " 'con_quien_10',\n",
       " 'conquien_cual_10',\n",
       " 'deuda_tarjeta_10',\n",
       " 'destino2013_10',\n",
       " 'destino_cual_10',\n",
       " 'fechai_mes_10',\n",
       " 'fechai_ano_10',\n",
       " 'vr_inicial_10',\n",
       " 'cuota_10',\n",
       " 'period_cuota_10',\n",
       " 'pacto_meses_10',\n",
       " 'meses_plazo_10',\n",
       " 'vr_saldo_10',\n",
       " 'cred_anombre_10',\n",
       " 'cred_aldia_10',\n",
       " 'no_credito_sf1',\n",
       " 'no_credito_sf2',\n",
       " 'no_credito_sf3',\n",
       " 'no_credito_sf4',\n",
       " 'no_credito_sf5',\n",
       " 'no_credito_cual',\n",
       " 'trato_credito',\n",
       " 'credito_si',\n",
       " 'rechazo_credito',\n",
       " 'rechazo_cred_cual',\n",
       " 'retpag_pub',\n",
       " 'retpag_pub_vr',\n",
       " 'retpag_salud',\n",
       " 'retpag_sal_vr',\n",
       " 'retpag_educ',\n",
       " 'retpag_edu_vr',\n",
       " 'retpag_arren',\n",
       " 'retpag_arr_vr',\n",
       " 'retpag_almac',\n",
       " 'retpag_alm_vr',\n",
       " 'retpag_compra',\n",
       " 'retpag_cmp_vr',\n",
       " 'retpag_tend',\n",
       " 'retpag_ten_vr',\n",
       " 'retpag_efinan',\n",
       " 'retpag_efi_vr',\n",
       " 'retpag_otro',\n",
       " 'retpag_otro_cual',\n",
       " 'retpag_otr_vr',\n",
       " 'resultado_final',\n",
       " 'proviene_2010',\n",
       " 'fhog_2013',\n",
       " 'fexhog_2013',\n",
       " 'fhog_2010',\n",
       " 'fexhog_2010',\n",
       " 'riqueza_pca',\n",
       " 'tercil2013']"
      ]
     },
     "execution_count": 25,
     "metadata": {},
     "output_type": "execute_result"
    }
   ],
   "source": [
    "urb_hog_13.columns.to_list()"
   ]
  },
  {
   "cell_type": "code",
   "execution_count": 195,
   "metadata": {},
   "outputs": [
    {
     "data": {
      "text/html": [
       "<div>\n",
       "<style scoped>\n",
       "    .dataframe tbody tr th:only-of-type {\n",
       "        vertical-align: middle;\n",
       "    }\n",
       "\n",
       "    .dataframe tbody tr th {\n",
       "        vertical-align: top;\n",
       "    }\n",
       "\n",
       "    .dataframe thead th {\n",
       "        text-align: right;\n",
       "    }\n",
       "</style>\n",
       "<table border=\"1\" class=\"dataframe\">\n",
       "  <thead>\n",
       "    <tr style=\"text-align: right;\">\n",
       "      <th></th>\n",
       "      <th>id_mpioU</th>\n",
       "    </tr>\n",
       "  </thead>\n",
       "  <tbody>\n",
       "    <tr>\n",
       "      <th>0</th>\n",
       "      <td>21102</td>\n",
       "    </tr>\n",
       "    <tr>\n",
       "      <th>1</th>\n",
       "      <td>21102</td>\n",
       "    </tr>\n",
       "    <tr>\n",
       "      <th>2</th>\n",
       "      <td>21102</td>\n",
       "    </tr>\n",
       "    <tr>\n",
       "      <th>3</th>\n",
       "      <td>21102</td>\n",
       "    </tr>\n",
       "    <tr>\n",
       "      <th>4</th>\n",
       "      <td>21102</td>\n",
       "    </tr>\n",
       "  </tbody>\n",
       "</table>\n",
       "</div>"
      ],
      "text/plain": [
       "  id_mpioU\n",
       "0    21102\n",
       "1    21102\n",
       "2    21102\n",
       "3    21102\n",
       "4    21102"
      ]
     },
     "execution_count": 195,
     "metadata": {},
     "output_type": "execute_result"
    }
   ],
   "source": [
    "#elca_2013[\"mask_hogar\"] = elca_2013.duplicated() #observar valores duplicados hogares\n",
    "#elca_2013.groupby(\"mask_hogar\").get_group(1) \n",
    "urb_hog_13[[\"id_mpioU\"]].head()"
   ]
  },
  {
   "cell_type": "code",
   "execution_count": 5,
   "metadata": {},
   "outputs": [],
   "source": [
    "urb_per_13 = pd.read_stata(\"D:/maestria_ciencias_economicas_unal/tesis_scarring/base datos/ELCA_2013/ELCA_2013_urbano/Upersonas_2013.dta\")\n"
   ]
  },
  {
   "cell_type": "code",
   "execution_count": 7,
   "metadata": {},
   "outputs": [
    {
     "data": {
      "text/plain": [
       "Hace más de 5 años           820\n",
       "Nunca ha buscado trabajo     476\n",
       "Entre 2 y menos de 5 años    263\n",
       "Entre 1 y menos de 2 años    145\n",
       "Menos de 6 meses             124\n",
       "Entre 7 y 11 meses            71\n",
       "Name: t_busco_trab, dtype: int64"
      ]
     },
     "execution_count": 7,
     "metadata": {},
     "output_type": "execute_result"
    }
   ],
   "source": [
    "#elca_2013_personas[[\"cod_oficio2\"]] == \"Carteros y telegrafistas\"\n",
    "#elca_2013_personas[\"cod_oficio2\"].unique()\n",
    "urb_per_13[\"t_busco_trab\"].value_counts()\n"
   ]
  },
  {
   "cell_type": "code",
   "execution_count": 221,
   "metadata": {
    "collapsed": true
   },
   "outputs": [
    {
     "name": "stdout",
     "output_type": "stream",
     "text": [
      "<class 'pandas.core.frame.DataFrame'>\n",
      "Int64Index: 20574 entries, 0 to 20573\n",
      "Columns: 534 entries, ola to fpers_2010\n",
      "dtypes: category(379), float32(1), float64(115), int16(1), int32(2), int8(5), object(31)\n",
      "memory usage: 31.0+ MB\n"
     ]
    }
   ],
   "source": [
    "elca_2013_personas.info()"
   ]
  },
  {
   "cell_type": "code",
   "execution_count": 7,
   "metadata": {},
   "outputs": [
    {
     "data": {
      "text/html": [
       "<div>\n",
       "<style scoped>\n",
       "    .dataframe tbody tr th:only-of-type {\n",
       "        vertical-align: middle;\n",
       "    }\n",
       "\n",
       "    .dataframe tbody tr th {\n",
       "        vertical-align: top;\n",
       "    }\n",
       "\n",
       "    .dataframe thead th {\n",
       "        text-align: right;\n",
       "    }\n",
       "</style>\n",
       "<table border=\"1\" class=\"dataframe\">\n",
       "  <thead>\n",
       "    <tr style=\"text-align: right;\">\n",
       "      <th></th>\n",
       "      <th>grado_educ</th>\n",
       "    </tr>\n",
       "  </thead>\n",
       "  <tbody>\n",
       "    <tr>\n",
       "      <th>count</th>\n",
       "      <td>11278.000000</td>\n",
       "    </tr>\n",
       "    <tr>\n",
       "      <th>mean</th>\n",
       "      <td>6.324792</td>\n",
       "    </tr>\n",
       "    <tr>\n",
       "      <th>std</th>\n",
       "      <td>3.582708</td>\n",
       "    </tr>\n",
       "    <tr>\n",
       "      <th>min</th>\n",
       "      <td>0.000000</td>\n",
       "    </tr>\n",
       "    <tr>\n",
       "      <th>25%</th>\n",
       "      <td>3.000000</td>\n",
       "    </tr>\n",
       "    <tr>\n",
       "      <th>50%</th>\n",
       "      <td>5.000000</td>\n",
       "    </tr>\n",
       "    <tr>\n",
       "      <th>75%</th>\n",
       "      <td>11.000000</td>\n",
       "    </tr>\n",
       "    <tr>\n",
       "      <th>max</th>\n",
       "      <td>13.000000</td>\n",
       "    </tr>\n",
       "  </tbody>\n",
       "</table>\n",
       "</div>"
      ],
      "text/plain": [
       "         grado_educ\n",
       "count  11278.000000\n",
       "mean       6.324792\n",
       "std        3.582708\n",
       "min        0.000000\n",
       "25%        3.000000\n",
       "50%        5.000000\n",
       "75%       11.000000\n",
       "max       13.000000"
      ]
     },
     "execution_count": 7,
     "metadata": {},
     "output_type": "execute_result"
    }
   ],
   "source": [
    "elca_2013_personas[[\"grado_educ\"]].describe()"
   ]
  },
  {
   "cell_type": "code",
   "execution_count": 11,
   "metadata": {},
   "outputs": [
    {
     "data": {
      "text/plain": [
       "Si    10932\n",
       "No     6132\n",
       "Name: seguimiento, dtype: int64"
      ]
     },
     "execution_count": 11,
     "metadata": {},
     "output_type": "execute_result"
    }
   ],
   "source": [
    "elca_2013_personas[\"seguimiento\"].value_counts()"
   ]
  },
  {
   "cell_type": "code",
   "execution_count": 91,
   "metadata": {
    "collapsed": true
   },
   "outputs": [
    {
     "data": {
      "text/plain": [
       "62.0     1\n",
       "65.0     1\n",
       "69.0     2\n",
       "59.0     2\n",
       "63.0     2\n",
       "54.0     2\n",
       "61.0     3\n",
       "60.0     3\n",
       "56.0     3\n",
       "11.0     3\n",
       "34.0     5\n",
       "43.0     5\n",
       "58.0     5\n",
       "44.0     5\n",
       "55.0     5\n",
       "53.0     6\n",
       "41.0     7\n",
       "51.0     7\n",
       "49.0     8\n",
       "47.0     8\n",
       "39.0     9\n",
       "46.0     9\n",
       "48.0    10\n",
       "42.0    10\n",
       "37.0    12\n",
       "45.0    12\n",
       "13.0    12\n",
       "35.0    13\n",
       "29.0    13\n",
       "50.0    13\n",
       "36.0    14\n",
       "33.0    14\n",
       "26.0    15\n",
       "27.0    15\n",
       "19.0    15\n",
       "38.0    17\n",
       "31.0    17\n",
       "14.0    18\n",
       "21.0    18\n",
       "12.0    18\n",
       "10.0    19\n",
       "24.0    20\n",
       "32.0    24\n",
       "40.0    25\n",
       "17.0    25\n",
       "16.0    26\n",
       "25.0    27\n",
       "23.0    28\n",
       "28.0    31\n",
       "15.0    33\n",
       "22.0    33\n",
       "18.0    41\n",
       "20.0    42\n",
       "30.0    53\n",
       "Name: edad_tenia, dtype: int64"
      ]
     },
     "execution_count": 91,
     "metadata": {},
     "output_type": "execute_result"
    }
   ],
   "source": [
    "elca_2013_personas[\"edad_tenia\"].value_counts().sort_values(ascending= True)"
   ]
  },
  {
   "cell_type": "code",
   "execution_count": 95,
   "metadata": {},
   "outputs": [
    {
     "data": {
      "text/plain": [
       "19790"
      ]
     },
     "execution_count": 95,
     "metadata": {},
     "output_type": "execute_result"
    }
   ],
   "source": [
    "elca_2013_personas[\"edad_tenia\"].isnull().sum()"
   ]
  },
  {
   "cell_type": "code",
   "execution_count": 99,
   "metadata": {
    "collapsed": true
   },
   "outputs": [
    {
     "data": {
      "text/plain": [
       "ola              20574\n",
       "consecutivo      20574\n",
       "hogar            20574\n",
       "llave            20574\n",
       "llave_ID_lb      17064\n",
       "                 ...  \n",
       "voto_ofrecido     2697\n",
       "fpers_2013       20574\n",
       "fexpers_2013     20574\n",
       "fexpers_2010     17027\n",
       "fpers_2010       17027\n",
       "Length: 534, dtype: int64"
      ]
     },
     "execution_count": 99,
     "metadata": {},
     "output_type": "execute_result"
    }
   ],
   "source": [
    "elca_2013_personas.count() "
   ]
  },
  {
   "cell_type": "code",
   "execution_count": 100,
   "metadata": {},
   "outputs": [
    {
     "data": {
      "text/plain": [
       "784"
      ]
     },
     "execution_count": 100,
     "metadata": {},
     "output_type": "execute_result"
    }
   ],
   "source": [
    "elca_2013_personas[\"edad_tenia\"].count()"
   ]
  },
  {
   "cell_type": "code",
   "execution_count": 45,
   "metadata": {
    "collapsed": true
   },
   "outputs": [
    {
     "data": {
      "text/plain": [
       "Confeccionadores de productos de papel y cartón                                              1\n",
       "Joyeros y plateros                                                                           1\n",
       "Jefes de personal de servidumbre                                                             2\n",
       "Administradores y jefes de explotaciones agropecuarias                                       2\n",
       "Miembros de los cuerpos legislativos y personal directivo de la administración pública       2\n",
       "                                                                                          ... \n",
       "Trabajadores de la construcción                                                            271\n",
       "Trabajadores agropecuarios                                                                 319\n",
       "Conductores de vehículos de transporte                                                     374\n",
       "Personal de servidumbre no clasificado bajo otros epígrafes                                405\n",
       "Vendedores, empleados de comercio y trabajadores asimilados                               1029\n",
       "Name: cod_oficio2, Length: 78, dtype: int64"
      ]
     },
     "execution_count": 45,
     "metadata": {},
     "output_type": "execute_result"
    }
   ],
   "source": [
    "#elca_2013_personas[\"cod_oficio2\"].value_counts().sort_values(ascending = True)"
   ]
  },
  {
   "cell_type": "code",
   "execution_count": 140,
   "metadata": {},
   "outputs": [
    {
     "data": {
      "text/plain": [
       "[NaN, 850000, 589500, 5.8e+06, 800000, ..., 390000, 1.115e+06, 1.29e+06, 926000, 1.732e+06]\n",
       "Length: 337\n",
       "Categories (336, object): [No recibe pago en dinero < 5000 < 6000 < 20000 ... 8e+06 < 8.2e+06 < 9e+06 < 1e+07]"
      ]
     },
     "execution_count": 140,
     "metadata": {},
     "output_type": "execute_result"
    }
   ],
   "source": [
    "elca_2013_personas[\"vr_salario\"].unique()"
   ]
  },
  {
   "cell_type": "code",
   "execution_count": 146,
   "metadata": {
    "collapsed": true
   },
   "outputs": [
    {
     "data": {
      "text/plain": [
       "600000.0     266\n",
       "200000.0     245\n",
       "800000.0     167\n",
       "700000.0     131\n",
       "1000000.0    106\n",
       "            ... \n",
       "656000.0       1\n",
       "655000.0       1\n",
       "1288000.0      1\n",
       "1290000.0      1\n",
       "845000.0       1\n",
       "Name: vr_salario, Length: 336, dtype: int64"
      ]
     },
     "execution_count": 146,
     "metadata": {},
     "output_type": "execute_result"
    }
   ],
   "source": [
    "elca_2013_personas[\"vr_salario\"].value_counts()"
   ]
  },
  {
   "cell_type": "code",
   "execution_count": 150,
   "metadata": {
    "collapsed": true
   },
   "outputs": [
    {
     "data": {
      "text/html": [
       "<div>\n",
       "<style scoped>\n",
       "    .dataframe tbody tr th:only-of-type {\n",
       "        vertical-align: middle;\n",
       "    }\n",
       "\n",
       "    .dataframe tbody tr th {\n",
       "        vertical-align: top;\n",
       "    }\n",
       "\n",
       "    .dataframe thead th {\n",
       "        text-align: right;\n",
       "    }\n",
       "</style>\n",
       "<table border=\"1\" class=\"dataframe\">\n",
       "  <thead>\n",
       "    <tr style=\"text-align: right;\">\n",
       "      <th></th>\n",
       "      <th>pagos_adicion</th>\n",
       "    </tr>\n",
       "  </thead>\n",
       "  <tbody>\n",
       "    <tr>\n",
       "      <th>count</th>\n",
       "      <td>1070.000000</td>\n",
       "    </tr>\n",
       "    <tr>\n",
       "      <th>mean</th>\n",
       "      <td>142643.878505</td>\n",
       "    </tr>\n",
       "    <tr>\n",
       "      <th>std</th>\n",
       "      <td>170100.856101</td>\n",
       "    </tr>\n",
       "    <tr>\n",
       "      <th>min</th>\n",
       "      <td>5000.000000</td>\n",
       "    </tr>\n",
       "    <tr>\n",
       "      <th>25%</th>\n",
       "      <td>50000.000000</td>\n",
       "    </tr>\n",
       "    <tr>\n",
       "      <th>50%</th>\n",
       "      <td>90000.000000</td>\n",
       "    </tr>\n",
       "    <tr>\n",
       "      <th>75%</th>\n",
       "      <td>160000.000000</td>\n",
       "    </tr>\n",
       "    <tr>\n",
       "      <th>max</th>\n",
       "      <td>1000000.000000</td>\n",
       "    </tr>\n",
       "  </tbody>\n",
       "</table>\n",
       "</div>"
      ],
      "text/plain": [
       "        pagos_adicion\n",
       "count     1070.000000\n",
       "mean    142643.878505\n",
       "std     170100.856101\n",
       "min       5000.000000\n",
       "25%      50000.000000\n",
       "50%      90000.000000\n",
       "75%     160000.000000\n",
       "max    1000000.000000"
      ]
     },
     "execution_count": 150,
     "metadata": {},
     "output_type": "execute_result"
    }
   ],
   "source": [
    "elca_2013_personas[[\"pagos_adicion\"]].describe()"
   ]
  },
  {
   "cell_type": "code",
   "execution_count": 154,
   "metadata": {
    "collapsed": true
   },
   "outputs": [
    {
     "data": {
      "text/plain": [
       "1.0     2400\n",
       "11.0       3\n",
       "6.0        3\n",
       "3.0        2\n",
       "12.0       2\n",
       "2.0        2\n",
       "10.0       1\n",
       "Name: meses_ganancia, dtype: int64"
      ]
     },
     "execution_count": 154,
     "metadata": {},
     "output_type": "execute_result"
    }
   ],
   "source": [
    "elca_2013_personas[\"meses_ganancia\"].value_counts()#isnull().sum()"
   ]
  },
  {
   "cell_type": "code",
   "execution_count": 155,
   "metadata": {
    "collapsed": true
   },
   "outputs": [
    {
     "data": {
      "text/plain": [
       "48.0    1526\n",
       "40.0     382\n",
       "60.0     359\n",
       "50.0     233\n",
       "30.0     232\n",
       "        ... \n",
       "61.0       1\n",
       "86.0       1\n",
       "17.0       1\n",
       "67.0       1\n",
       "89.0       1\n",
       "Name: horas_normal, Length: 92, dtype: int64"
      ]
     },
     "execution_count": 155,
     "metadata": {},
     "output_type": "execute_result"
    }
   ],
   "source": [
    "elca_2013_personas[\"horas_normal\"].value_counts()#isnull().sum()"
   ]
  },
  {
   "cell_type": "code",
   "execution_count": 198,
   "metadata": {},
   "outputs": [
    {
     "data": {
      "text/plain": [
       "3509"
      ]
     },
     "execution_count": 198,
     "metadata": {},
     "output_type": "execute_result"
    }
   ],
   "source": [
    "elca_2013_personas[\"llave_ID_lb\"].duplicated().sum()\n"
   ]
  },
  {
   "cell_type": "code",
   "execution_count": 229,
   "metadata": {},
   "outputs": [
    {
     "data": {
      "text/plain": [
       "Hijo(a)                                           7649\n",
       "Jefe(a)                                           4910\n",
       "Cónyuge o compañera(o)                            3180\n",
       "Nieto(a)del jefe del hogar o de su cónyuge        1666\n",
       "Padre o madre                                      612\n",
       "Hermano(a)                                         498\n",
       "Hijastro(a)                                        492\n",
       "Sobrino(a)                                         375\n",
       "Yerno o nuera                                      304\n",
       "Otro no pariente del jefe                          286\n",
       "Otro pariente del jefe                             247\n",
       "Suegro(a)                                          192\n",
       "Bisnieto del jefe del hogar o de su cónyuge         48\n",
       "Tío(a)                                              47\n",
       "Abuelo(a)                                           26\n",
       "Padrastro o madrastra                               19\n",
       "Pensionista                                         11\n",
       "Servicio doméstico, cuidandero y sus parientes      10\n",
       "Hermanastro(a)                                       2\n",
       "Name: parentesco, dtype: int64"
      ]
     },
     "execution_count": 229,
     "metadata": {},
     "output_type": "execute_result"
    }
   ],
   "source": [
    "elca_2013_personas[\"parentesco\"].value_counts()"
   ]
  },
  {
   "cell_type": "code",
   "execution_count": 222,
   "metadata": {},
   "outputs": [],
   "source": [
    "#pd.set_option(\"display.max_columns\", 23) #máximo de columnas visibles\n",
    "#pd.set_option(\"display.max_rows\", 60) \n",
    "pd.set_option(\"display.min_rows\", 20) #máximo de filas visibles\n"
   ]
  },
  {
   "cell_type": "code",
   "execution_count": 226,
   "metadata": {},
   "outputs": [
    {
     "data": {
      "text/plain": [
       "<matplotlib.axes._subplots.AxesSubplot at 0x1ed7c68b220>"
      ]
     },
     "execution_count": 226,
     "metadata": {},
     "output_type": "execute_result"
    },
    {
     "data": {
      "image/png": "[encoded data removed]",
      "text/plain": [
       "<Figure size 432x288 with 1 Axes>"
      ]
     },
     "metadata": {
      "needs_background": "light"
     },
     "output_type": "display_data"
    }
   ],
   "source": [
    "elca_2013_personas[\"edad\"].hist()"
   ]
  },
  {
   "cell_type": "code",
   "execution_count": 231,
   "metadata": {},
   "outputs": [
    {
     "data": {
      "text/plain": [
       "Básica secundaria y media  (6 a 13)    3804\n",
       "Básica primaria (1 a 5)                1212\n",
       "Universitario sin título                513\n",
       "Ninguno                                 261\n",
       "Técnico con título                      248\n",
       "Técnico sin título                      181\n",
       "Universitario con título                171\n",
       "Tecnológico sin título                   99\n",
       "Tecnológico con título                   74\n",
       "Preescolar                               65\n",
       "Posgrado con título                      24\n",
       "Posgrado sin título                      13\n",
       "Name: nivel_educ_2010, dtype: int64"
      ]
     },
     "execution_count": 231,
     "metadata": {},
     "output_type": "execute_result"
    }
   ],
   "source": [
    "elca_2013_personas[\"nivel_educ_2010\"].value_counts()"
   ]
  },
  {
   "cell_type": "code",
   "execution_count": 69,
   "metadata": {},
   "outputs": [],
   "source": [
    "gastos_h_2013 = pd.read_stata(\"D:/maestria_ciencias_economicas_unal/tesis_scarring/base datos/ELCA_2013/ELCA_2013_urbano/UGastos_hogar.dta\") "
   ]
  }
 ],
 "metadata": {
  "kernelspec": {
   "display_name": "Python 3",
   "language": "python",
   "name": "python3"
  },
  "language_info": {
   "codemirror_mode": {
    "name": "ipython",
    "version": 3
   },
   "file_extension": ".py",
   "mimetype": "text/x-python",
   "name": "python",
   "nbconvert_exporter": "python",
   "pygments_lexer": "ipython3",
   "version": "3.8.3"
  }
 },
 "nbformat": 4,
 "nbformat_minor": 4
}
