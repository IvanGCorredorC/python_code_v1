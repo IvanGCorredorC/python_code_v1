{
 "cells": [
  {
   "cell_type": "code",
   "execution_count": 11,
   "metadata": {},
   "outputs": [],
   "source": [
    "import pandas as pd\n",
    "import numpy as np\n",
    "from pandas_profiling import ProfileReport\n",
    "import dtale\n",
    "s"
   ]
  },
  {
   "cell_type": "code",
   "execution_count": 1,
   "metadata": {},
   "outputs": [],
   "source": [
    "#%run ./formateo_variables.ipynb\n",
    "#%run ./analisis_descriptivo.ipynb\n",
    "%run ./bases_datos_tesis.ipynb"
   ]
  },
  {
   "cell_type": "code",
   "execution_count": 8,
   "metadata": {},
   "outputs": [],
   "source": [
    "#df7= pd.read_csv('D:/maestria_ciencias_economicas_unal/tesis_scarring/base datos/ELCA_FINAL/PANEL_PET_REDUC.csv', sep = \";\", index_col=[0,1], low_memory=False)"
   ]
  },
  {
   "cell_type": "code",
   "execution_count": 9,
   "metadata": {},
   "outputs": [],
   "source": [
    "#dfprueba= pd.read_csv('D:/maestria_ciencias_economicas_unal/tesis_scarring/base datos/ELCA_FINAL/PET_REDUC_Trat_ctrl.csv', sep = \";\", low_memory=False)"
   ]
  },
  {
   "cell_type": "markdown",
   "metadata": {},
   "source": [
    "# Seleción de variables, creación, depuración y estandarización\n",
    "\n",
    "Se busca determinar las variables necesarias para el ejercicio. Para esto se seleccionan de la base df6 aquellas que tienen que ver con 9 temáticas, a saber, indetificación, periodo, control, ubicación, representatividad, composición de la vivienda y el hogar, y las condiciones de la vivienda, sociodemográficas y socioeconómicas. Posteriormente, se crean las variables de clasificación laboral, scar, remuneraciones, calidad del empleo y educación. En este proceso se depuran y  estandarizar las variables necesarias de acuerdo con diversos procedimientos, entre ellos 'gather', fomateo correcto, remoción de tíldes y espacios, string a mínusculas. "
   ]
  },
  {
   "cell_type": "markdown",
   "metadata": {},
   "source": [
    "## Selección\n",
    "Se seleccionan las variables de acuerdo con 9 grupos, las de indetificación, periodo, control, ubicación, representatividad, composición de la vivienda y el hogar, y las condiciones de la vivienda, sociodemográficas y socioeconómicas. Además, el grupo de las condiciones socioecnómicas se divide en 3  subgrupos, educación, clasificación e historia laboral. Asimismo, estos subgrupos contemplan las caracteristicas de los ocupados, las remuneraciones, la calidad del empleo y las características de los desocupados, presentes y pasadas."
   ]
  },
  {
   "cell_type": "code",
   "execution_count": 11,
   "metadata": {},
   "outputs": [],
   "source": [
    "df7 = df6[[\n",
    " #identificador\n",
    "    'ID',\n",
    " #periodo\n",
    " 'Fecha',\n",
    " 'ola_l',\n",
    " 'hogar_l',\n",
    " 'hogar_n16_l'\n",
    " #control\n",
    " 'orden',\n",
    " 'seguimiento',\n",
    " 'encuestada_2013',\n",
    " #ubicación\n",
    " 'region',\n",
    " 'RegionLb',\n",
    " 'region_2016',\n",
    " 'id_depto',\n",
    " 'id_mpio',\n",
    " 'id_mpioU',\n",
    " #representatividad\n",
    " 'riqueza_pca',\n",
    " 'tercil2010',\n",
    " 'tercil2013',\n",
    " 'tercil2016',\n",
    " 'fhog',\n",
    " 'fhog_2010',\n",
    " 'fhog_2013',\n",
    " 'fhog_2016',\n",
    " 'fexhog',\n",
    " 'fexhog_2010',\n",
    " 'fexhog_2013',\n",
    " 'fpers',\n",
    " 'fpers_2010',\n",
    " 'fpers_2013',\n",
    " 'fpers_2016',\n",
    " 'fexpers',\n",
    " 'fexpers_2010',\n",
    " 'fexpers_2013',\n",
    " #composición\n",
    " 't_hogares',\n",
    " 't_hogar',\n",
    " 't_personas',\n",
    " #condiciones de la vivienda\n",
    " 'tipo_vivienda',\n",
    " 'material_pisos',\n",
    " 'material_paredes',\n",
    " 'sp_energia',\n",
    " 'sp_estrato',\n",
    " 'sp_gasnatural',\n",
    " 'sp_acueducto',\n",
    " 'sp_alcantarillado',\n",
    " 'sp_telefono',\n",
    " 'sp_recoleccion_basura',\n",
    " 'eliminan_basura',\n",
    " #condiciones sociodemográficas\n",
    " 'sexo',\n",
    " 'edad',\n",
    " 'edad_meses',\n",
    " 'parentesco',\n",
    " 'estado_civil',\n",
    " 'vive_conyuge',\n",
    " 'orden_conyuge',\n",
    " 'etnia',\n",
    " #condiciones socieconómicas:  \n",
    " 'estrato',\n",
    " ##educación\n",
    " 'lee_escribe',\n",
    " 'estudia',\n",
    " 'nivel_educ',\n",
    " 'grado_educ',\n",
    " 'edad_dejoestudio',\n",
    " 'nivel_educ_cursa',\n",
    " 'grado_educ_cursa',\n",
    " 'anos_superior',\n",
    " 'estudiaba_2010',\n",
    " 'nivel_educ_2010',\n",
    " 'grado_educ_2010',\n",
    " 'anos_superior_2010',\n",
    " 'est_superiores',  \n",
    " ##clasificación laboral\n",
    "     ###ocupados   \n",
    " 'actividad_ppal',\n",
    " ### desocupados\n",
    " 'diligencias4',\n",
    " 'diligencias12',\n",
    " ###características de los ocupados\n",
    " 'descripcion_ciiu',\n",
    " 'descrip_oficio',\n",
    " 'cod_oficio',\n",
    " 'edad_tenia',\n",
    " 'anos_trabaja',\n",
    " 'meses_trabaja',\n",
    " 'mes_inicio',\n",
    " 'ano_inicio', \n",
    " 'ocupacion',\n",
    " 'horas_normal',\n",
    " 'cod_oficio2',\n",
    " 'tipo_contrato',\n",
    " ### remuneraciones\n",
    "'rec_otros_pago',\n",
    " 'vr_alimentos_pago',\n",
    " 'vr_vivienda_pago',\n",
    " 'vr_educ_pago',\n",
    " 'vr_subalimentacion',\n",
    " 'vr_subtransporte',\n",
    " 'vr_subfamiliar',\n",
    " 'vr_bonos',\n",
    " 'vr_ingmen_ase',\n",
    " 'vr_salario',\n",
    " 'vr_ganancia',  \n",
    " 'meses_ganancia',\n",
    " 'rec_ninguno',\n",
    " 'pagos_adicion',\n",
    " 'ingresos',\n",
    " 'ganancia_neta',\n",
    " 'vr_salario_mes',\n",
    " 'recibio_ganancia',\n",
    " ### calidad del empleo\n",
    " ####salud\n",
    " 'afiliacion',\n",
    " 'seg_medico',\n",
    " 'segsoc_salud',\n",
    " 'estaba_sss',\n",
    " 'beneficiario_sss',\n",
    " 'beneficiario_orden',\n",
    " ####pensión\n",
    " 'cotiza_fp',\n",
    " 'estaba_fp',     \n",
    " 'afiliacion_fp',\n",
    " 'vr_rec_pension',\n",
    " ####tamaño\n",
    " 'tam_empresa',\n",
    " 'n_empleados',\n",
    " 'registro_mercantil',\n",
    " ####condiciones adicionales\n",
    " 'vacaciones',\n",
    " 'prima_navidad',\n",
    " 'cesantias',\n",
    " ### características de los desocupados\n",
    " 'ofertas_empleo',\n",
    " 'ofertas_emp12',\n",
    " 'ofertas_emp1',\n",
    " 'vr_salario_ofr',\n",
    " 'razon_noacepto',\n",
    " 'disponibilidad',\n",
    " 't_bustrab_a',\n",
    " 't_bustrab_m',\n",
    " 'medio_busco',\n",
    " 't_busco_trab',\n",
    " 't_dejo_trabajar',\n",
    " 'vr_rec_arriendos',\n",
    " 'vr_rec_dividendos',\n",
    " 'salario_insf',\n",
    " 'salario_nopresta',\n",
    " 'horario_nosirve',\n",
    " 'ubica_inadecuada',\n",
    " 'noapto_trabajo',\n",
    " 'razon_personal',\n",
    " \n",
    "  ## historia laboral\n",
    " ###caracterísicas ocupados\n",
    " 'edad_primert',\n",
    " 'anos_primert',\n",
    " 'horas_normal_pt',\n",
    " 'ocupacion_pt',\n",
    " 'es_ptrabajo',\n",
    " 't_trabajo_ult',\n",
    " 'trabajo_ult3',\n",
    " 'tiempo_trab',\n",
    " ###remuneración\n",
    " 'vr_recibia_pt',\n",
    " 'rango_ingreso',\n",
    " ###salud\n",
    " 'sss_pt',\n",
    " ###pensión\n",
    " 'afiliado_fp_pt',\n",
    " 'cotizando',\n",
    " ###tamaño\n",
    " 'tamano_pt',\n",
    "  ###caracterísicas desocupados\n",
    " 'desemp_ult3',\n",
    " 'tiempo_desemp',\n",
    " 'nocotiza_ult3',\n",
    " 'tiempo_ncotiza',\n",
    " 'primer_busca'\n",
    "  ]]"
   ]
  },
  {
   "cell_type": "markdown",
   "metadata": {},
   "source": [
    "## Creación variables"
   ]
  },
  {
   "cell_type": "markdown",
   "metadata": {},
   "source": [
    "### 1. Estadarizaión e implace"
   ]
  },
  {
   "cell_type": "code",
   "execution_count": 95,
   "metadata": {},
   "outputs": [],
   "source": [
    "df7 = df7.convert_dtypes()"
   ]
  },
  {
   "cell_type": "code",
   "execution_count": 3,
   "metadata": {},
   "outputs": [
    {
     "data": {
      "text/plain": [
       "x     12517\n",
       "No     4201\n",
       "Si      793\n",
       "Name: diligencias4, dtype: int64"
      ]
     },
     "execution_count": 3,
     "metadata": {},
     "output_type": "execute_result"
    }
   ],
   "source": [
    "df7['diligencias4'] = df7['diligencias4'].str.replace(\"í\", \"i\")\n",
    "df7['diligencias4'].value_counts()"
   ]
  },
  {
   "cell_type": "code",
   "execution_count": 4,
   "metadata": {},
   "outputs": [
    {
     "data": {
      "text/plain": [
       "x     13309\n",
       "No     3833\n",
       "Si      369\n",
       "Name: diligencias12, dtype: int64"
      ]
     },
     "execution_count": 4,
     "metadata": {},
     "output_type": "execute_result"
    }
   ],
   "source": [
    "df7['diligencias12'] = df7['diligencias12'].str.replace(\"í\", \"i\")\n",
    "df7['diligencias12'].value_counts()"
   ]
  },
  {
   "cell_type": "code",
   "execution_count": 270,
   "metadata": {},
   "outputs": [],
   "source": [
    "#df7.to_csv('D:/maestria_ciencias_economicas_unal/tesis_scarring/base datos/ELCA_FINAL/PANEL_PET_REDUC.csv', sep = \";\")"
   ]
  },
  {
   "cell_type": "code",
   "execution_count": 4,
   "metadata": {},
   "outputs": [
    {
     "data": {
      "text/plain": [
       "Ninguna de las anteriores                                                           4994\n",
       "Trabajó en forma remunerada por lo menos UNA hora  en una actividad que le gener    3990\n",
       "Trabajó en forma remunerada por lo menos UNA hora  en una actividad que le gene     3867\n",
       "Trabajó en forma remunerada por lo menos una hora                                   3848\n",
       "No trabajó pero tenía un empleo o trabajo por el que recibe ingresos                 254\n",
       "Trabajó como ayudante familiar sin que le pagaran  por lo menos UNA hora             144\n",
       "Es incapacitado(a) permanente para trabajar                                          106\n",
       "No trabajó pero tenía un empleo o trabajo de por lo menos una hora                    74\n",
       "Trabajó como ayudante familiar sin remuneración por lo menos una hora                 63\n",
       "x                                                                                     56\n",
       "Trabajó  por lo menos UNA HORA y buscó  trabajo                                       46\n",
       "Es incapacitado permanente para trabajar                                              36\n",
       "Trabajó por lo menos una hora y buscó trabajo                                         24\n",
       "No informa                                                                             9\n",
       "Name: actividad_ppal, dtype: int64"
      ]
     },
     "execution_count": 4,
     "metadata": {},
     "output_type": "execute_result"
    }
   ],
   "source": [
    "df7['actividad_ppal'].value_counts()"
   ]
  },
  {
   "cell_type": "code",
   "execution_count": 20,
   "metadata": {},
   "outputs": [
    {
     "data": {
      "text/plain": [
       "mujer     10254\n",
       "hombre     7257\n",
       "Name: sexo, dtype: Int64"
      ]
     },
     "execution_count": 20,
     "metadata": {},
     "output_type": "execute_result"
    }
   ],
   "source": [
    "df7[\"sexo\"].value_counts()"
   ]
  },
  {
   "cell_type": "markdown",
   "metadata": {},
   "source": [
    "### Forma 2 clasificación laboral\n",
    "\n",
    "Se encuentran problemas con los datos nulos de las variables actividad principal, diligencias 4 y diligencias 12, por tanto se procede a reemplazarlos por una \"x\". Se verifica que los datos nulos sean cero, así como el tipo de dato de la variable sea string y que cualquier condición o categoría de la variable actividad principal arroge resultados. Posteriormente se construye una función que recibe como argumento el data frame y retorna 1,2,3 si los registros cumplen con las condiciones respectivas, de lo contrario arroja valores np.nan. Finalmente, se crea la nueva variable clasif_lab en el dataframe y se aplica sobre el dataframe la función new_colum -que recibe como argumento el dataframe- a través de la función apply."
   ]
  },
  {
   "cell_type": "code",
   "execution_count": 34,
   "metadata": {},
   "outputs": [],
   "source": [
    "#hacer esto primero, convertir datos nulos a caracter string\n",
    "df7['actividad_ppal']= df7['actividad_ppal'].replace(np.nan, \"x\") \n",
    "df7['diligencias4']= df7['diligencias4'].replace(np.nan, \"x\")\n",
    "df7['diligencias12']= df7['diligencias12'].replace(np.nan, \"x\") "
   ]
  },
  {
   "cell_type": "code",
   "execution_count": 10,
   "metadata": {},
   "outputs": [
    {
     "data": {
      "text/plain": [
       "56"
      ]
     },
     "execution_count": 10,
     "metadata": {},
     "output_type": "execute_result"
    }
   ],
   "source": [
    "df7['actividad_ppal'].str.upper().isnull().sum()"
   ]
  },
  {
   "cell_type": "code",
   "execution_count": 23,
   "metadata": {},
   "outputs": [
    {
     "data": {
      "text/plain": [
       "StringDtype"
      ]
     },
     "execution_count": 23,
     "metadata": {},
     "output_type": "execute_result"
    }
   ],
   "source": [
    "df7['diligencias12'].dtypes"
   ]
  },
  {
   "cell_type": "code",
   "execution_count": 35,
   "metadata": {},
   "outputs": [],
   "source": [
    "def new_colum(df): \n",
    "    if ((df['actividad_ppal'] == \"Trabajó en forma remunerada por lo menos UNA hora  en una actividad que le gener\") or \n",
    "       (df['actividad_ppal'] == \"Trabajó en forma remunerada por lo menos UNA hora  en una actividad que le gene\") or\n",
    "       (df['actividad_ppal'] == \"Trabajó en forma remunerada por lo menos una hora\") or\n",
    "       (df['actividad_ppal'] == \"No trabajó pero tenía un empleo o trabajo por el que recibe ingresos\") or\n",
    "       (df['actividad_ppal'] == \"Trabajó como ayudante familiar sin que le pagaran  por lo menos UNA hora\") or\n",
    "       (df['actividad_ppal'] == \"No trabajó pero tenía un empleo o trabajo de por lo menos una hora\") or\n",
    "       (df['actividad_ppal'] == \"Trabajó como ayudante familiar sin remuneración por lo menos una hora\") or\n",
    "       (df['actividad_ppal'] == \"Trabajó  por lo menos UNA HORA y buscó  trabajo\") or\n",
    "       (df['actividad_ppal'] == \"Trabajó por lo menos una hora y buscó trabajo\")):\n",
    "        categoria = 1\n",
    "    elif (((df['actividad_ppal'] == \"Ninguna de las anteriores\") and (df['diligencias4'] == \"Si\")) or \n",
    "          ((df['actividad_ppal'] == \"Ninguna de las anteriores\") and (df['diligencias12'] == \"Si\"))):\n",
    "        categoria = 2\n",
    "    elif (((df['actividad_ppal'] == \"Ninguna de las anteriores\") and (df['diligencias4'] == \"No\")) or\n",
    "          ((df['actividad_ppal'] == \"Ninguna de las anteriores\") and  (df['diligencias12'] == \"No\")) or\n",
    "          (df['actividad_ppal'] == \"Es incapacitado permanente para trabajar\") or\n",
    "          (df['actividad_ppal'] == \"Es incapacitado(a) permanente para trabajar\") or\n",
    "          (df['actividad_ppal'] == \"No informa\")):\n",
    "         categoria = 3\n",
    "    else:\n",
    "        categoria = np.nan\n",
    "    return(categoria)"
   ]
  },
  {
   "cell_type": "markdown",
   "metadata": {},
   "source": [
    "### Aplicamos la función para crear la variable clasificación laboral\n",
    "\n",
    "Se realiza la verificación del procedimiento mediante value_counts sobre la variable clasif_lab, se verfican los datos nulos y se le da el respectivo formato int. "
   ]
  },
  {
   "cell_type": "code",
   "execution_count": 44,
   "metadata": {},
   "outputs": [
    {
     "data": {
      "text/plain": [
       "1.0    12310\n",
       "3.0     3984\n",
       "2.0     1161\n",
       "Name: clasif_lab, dtype: int64"
      ]
     },
     "execution_count": 44,
     "metadata": {},
     "output_type": "execute_result"
    }
   ],
   "source": [
    "df7['clasif_lab'].value_counts()"
   ]
  },
  {
   "cell_type": "code",
   "execution_count": 37,
   "metadata": {},
   "outputs": [
    {
     "data": {
      "text/plain": [
       "56"
      ]
     },
     "execution_count": 37,
     "metadata": {},
     "output_type": "execute_result"
    }
   ],
   "source": [
    "df7['clasif_lab1'].isnull().sum()"
   ]
  },
  {
   "cell_type": "code",
   "execution_count": 24,
   "metadata": {},
   "outputs": [],
   "source": [
    "#df7.to_csv('D:/maestria_ciencias_economicas_unal/tesis_scarring/base datos/ELCA_FINAL/PANEL_PET_REDUC.csv', sep = \";\")"
   ]
  },
  {
   "cell_type": "markdown",
   "metadata": {},
   "source": [
    "### scar\n",
    "Se crean seis variables scar, correspondites a los seis flujos de identificación, para lo cual primero se simula el proceso y posteriormente se aplica a la base real."
   ]
  },
  {
   "cell_type": "markdown",
   "metadata": {},
   "source": [
    "### simulación"
   ]
  },
  {
   "cell_type": "code",
   "execution_count": 10,
   "metadata": {},
   "outputs": [
    {
     "data": {
      "text/html": [
       "<div>\n",
       "<style scoped>\n",
       "    .dataframe tbody tr th:only-of-type {\n",
       "        vertical-align: middle;\n",
       "    }\n",
       "\n",
       "    .dataframe tbody tr th {\n",
       "        vertical-align: top;\n",
       "    }\n",
       "\n",
       "    .dataframe thead th {\n",
       "        text-align: right;\n",
       "    }\n",
       "</style>\n",
       "<table border=\"1\" class=\"dataframe\">\n",
       "  <thead>\n",
       "    <tr style=\"text-align: right;\">\n",
       "      <th></th>\n",
       "      <th></th>\n",
       "      <th>ID</th>\n",
       "      <th>Fecha</th>\n",
       "      <th>clasif_lab</th>\n",
       "      <th>tiempo_empleo</th>\n",
       "    </tr>\n",
       "    <tr>\n",
       "      <th>fecha</th>\n",
       "      <th>persona</th>\n",
       "      <th></th>\n",
       "      <th></th>\n",
       "      <th></th>\n",
       "      <th></th>\n",
       "    </tr>\n",
       "  </thead>\n",
       "  <tbody>\n",
       "    <tr>\n",
       "      <th>2010-12-31</th>\n",
       "      <th>11</th>\n",
       "      <td>11</td>\n",
       "      <td>2010-12-31</td>\n",
       "      <td>1</td>\n",
       "      <td>46.5</td>\n",
       "    </tr>\n",
       "    <tr>\n",
       "      <th>2013-12-31</th>\n",
       "      <th>11</th>\n",
       "      <td>11</td>\n",
       "      <td>2013-12-31</td>\n",
       "      <td>2</td>\n",
       "      <td>25.6</td>\n",
       "    </tr>\n",
       "    <tr>\n",
       "      <th>2016-12-31</th>\n",
       "      <th>11</th>\n",
       "      <td>11</td>\n",
       "      <td>2016-12-31</td>\n",
       "      <td>1</td>\n",
       "      <td>24.0</td>\n",
       "    </tr>\n",
       "    <tr>\n",
       "      <th>2010-12-31</th>\n",
       "      <th>12</th>\n",
       "      <td>12</td>\n",
       "      <td>2010-12-31</td>\n",
       "      <td>1</td>\n",
       "      <td>5.0</td>\n",
       "    </tr>\n",
       "    <tr>\n",
       "      <th>2013-12-31</th>\n",
       "      <th>12</th>\n",
       "      <td>12</td>\n",
       "      <td>2013-12-31</td>\n",
       "      <td>1</td>\n",
       "      <td>4.0</td>\n",
       "    </tr>\n",
       "    <tr>\n",
       "      <th>2016-12-31</th>\n",
       "      <th>12</th>\n",
       "      <td>12</td>\n",
       "      <td>2016-12-31</td>\n",
       "      <td>3</td>\n",
       "      <td>3.0</td>\n",
       "    </tr>\n",
       "    <tr>\n",
       "      <th>2010-12-31</th>\n",
       "      <th>13</th>\n",
       "      <td>13</td>\n",
       "      <td>2010-12-31</td>\n",
       "      <td>1</td>\n",
       "      <td>2.0</td>\n",
       "    </tr>\n",
       "    <tr>\n",
       "      <th>2013-12-31</th>\n",
       "      <th>13</th>\n",
       "      <td>13</td>\n",
       "      <td>2013-12-31</td>\n",
       "      <td>2</td>\n",
       "      <td>10.0</td>\n",
       "    </tr>\n",
       "    <tr>\n",
       "      <th>2016-12-31</th>\n",
       "      <th>13</th>\n",
       "      <td>13</td>\n",
       "      <td>2016-12-31</td>\n",
       "      <td>1</td>\n",
       "      <td>9.0</td>\n",
       "    </tr>\n",
       "    <tr>\n",
       "      <th>2010-12-31</th>\n",
       "      <th>14</th>\n",
       "      <td>14</td>\n",
       "      <td>2010-12-31</td>\n",
       "      <td>1</td>\n",
       "      <td>NaN</td>\n",
       "    </tr>\n",
       "    <tr>\n",
       "      <th>2013-12-31</th>\n",
       "      <th>14</th>\n",
       "      <td>14</td>\n",
       "      <td>2013-12-31</td>\n",
       "      <td>1</td>\n",
       "      <td>NaN</td>\n",
       "    </tr>\n",
       "    <tr>\n",
       "      <th>2016-12-31</th>\n",
       "      <th>14</th>\n",
       "      <td>14</td>\n",
       "      <td>2016-12-31</td>\n",
       "      <td>1</td>\n",
       "      <td>NaN</td>\n",
       "    </tr>\n",
       "    <tr>\n",
       "      <th>2010-12-31</th>\n",
       "      <th>15</th>\n",
       "      <td>15</td>\n",
       "      <td>2010-12-31</td>\n",
       "      <td>x</td>\n",
       "      <td>NaN</td>\n",
       "    </tr>\n",
       "    <tr>\n",
       "      <th>2013-12-31</th>\n",
       "      <th>15</th>\n",
       "      <td>15</td>\n",
       "      <td>2013-12-31</td>\n",
       "      <td>x</td>\n",
       "      <td>15.0</td>\n",
       "    </tr>\n",
       "    <tr>\n",
       "      <th>2016-12-31</th>\n",
       "      <th>15</th>\n",
       "      <td>15</td>\n",
       "      <td>2016-12-31</td>\n",
       "      <td>x</td>\n",
       "      <td>20.0</td>\n",
       "    </tr>\n",
       "  </tbody>\n",
       "</table>\n",
       "</div>"
      ],
      "text/plain": [
       "                    ID       Fecha clasif_lab  tiempo_empleo\n",
       "fecha      persona                                          \n",
       "2010-12-31 11       11  2010-12-31          1           46.5\n",
       "2013-12-31 11       11  2013-12-31          2           25.6\n",
       "2016-12-31 11       11  2016-12-31          1           24.0\n",
       "2010-12-31 12       12  2010-12-31          1            5.0\n",
       "2013-12-31 12       12  2013-12-31          1            4.0\n",
       "2016-12-31 12       12  2016-12-31          3            3.0\n",
       "2010-12-31 13       13  2010-12-31          1            2.0\n",
       "2013-12-31 13       13  2013-12-31          2           10.0\n",
       "2016-12-31 13       13  2016-12-31          1            9.0\n",
       "2010-12-31 14       14  2010-12-31          1            NaN\n",
       "2013-12-31 14       14  2013-12-31          1            NaN\n",
       "2016-12-31 14       14  2016-12-31          1            NaN\n",
       "2010-12-31 15       15  2010-12-31          x            NaN\n",
       "2013-12-31 15       15  2013-12-31          x           15.0\n",
       "2016-12-31 15       15  2016-12-31          x           20.0"
      ]
     },
     "execution_count": 10,
     "metadata": {},
     "output_type": "execute_result"
    }
   ],
   "source": [
    "darrays = [np.array([\"2010-12-31\", \"2013-12-31\", \"2016-12-31\", \"2010-12-31\", \n",
    "                    \"2013-12-31\", \"2016-12-31\", \"2010-12-31\", \"2013-12-31\", \"2016-12-31\", \n",
    "                    \"2010-12-31\", \"2013-12-31\", \"2016-12-31\", \"2010-12-31\", \"2013-12-31\", \n",
    "                    \"2016-12-31\"]),\n",
    "np.array([11, 11, 11, 12, 12, 12, 13, 13, 13, 14, 14, 14, 15, 15, 15])]\n",
    "index = pd.MultiIndex.from_arrays(darrays, names=[\"fecha\", \"persona\"])\n",
    "simul = pd.DataFrame({\"ID\":[11, 11, 11, 12, 12, 12, 13, 13, 13, 14, 14, 14, 15, 15, 15],\n",
    "                      \"Fecha\": [\"2010-12-31\", \"2013-12-31\", \"2016-12-31\", \"2010-12-31\", \n",
    "                                \"2013-12-31\", \"2016-12-31\", \"2010-12-31\", \"2013-12-31\", \n",
    "                                \"2016-12-31\", \"2010-12-31\", \"2013-12-31\", \"2016-12-31\",\n",
    "                                \"2010-12-31\", \"2013-12-31\", \"2016-12-31\"],\n",
    "\"clasif_lab\": [1, 2, 1, 1, 1, 3, 1, 2, 1, 1, 1, 1, \"x\", \"x\", \"x\"]}, index= index)\n",
    "\n",
    "simul.head(16)"
   ]
  },
  {
   "cell_type": "code",
   "execution_count": null,
   "metadata": {},
   "outputs": [],
   "source": []
  },
  {
   "cell_type": "code",
   "execution_count": null,
   "metadata": {},
   "outputs": [],
   "source": [
    "#simul['Fecha']=[i[0] for i in simul.index.to_list()]\n",
    "#simul['ID']=[i[1] for i in simul.index.to_list()]\n"
   ]
  },
  {
   "cell_type": "code",
   "execution_count": 100,
   "metadata": {},
   "outputs": [],
   "source": [
    "def scarfs(df):\n",
    "    if (((df[\"Fecha\"]==\"2010-12-31\") and (df[\"clasif_lab\"]== 1)) or\n",
    "    ((df[\"Fecha\"]==\"2013-12-31\") and (df[\"clasif_lab\"]== 2)) or\n",
    "    ((df[\"Fecha\"]==\"2016-12-31\") and (df[\"clasif_lab\"]== 1))):\n",
    "        categoria=1\n",
    "    elif (df[\"clasif_lab\"]== \"x\"):\n",
    "         categoria= \"x\"\n",
    "    else:\n",
    "        categoria=0\n",
    "    return(categoria)\n",
    "\n"
   ]
  },
  {
   "cell_type": "code",
   "execution_count": 102,
   "metadata": {},
   "outputs": [
    {
     "data": {
      "text/html": [
       "<div>\n",
       "<style scoped>\n",
       "    .dataframe tbody tr th:only-of-type {\n",
       "        vertical-align: middle;\n",
       "    }\n",
       "\n",
       "    .dataframe tbody tr th {\n",
       "        vertical-align: top;\n",
       "    }\n",
       "\n",
       "    .dataframe thead th {\n",
       "        text-align: right;\n",
       "    }\n",
       "</style>\n",
       "<table border=\"1\" class=\"dataframe\">\n",
       "  <thead>\n",
       "    <tr style=\"text-align: right;\">\n",
       "      <th></th>\n",
       "      <th></th>\n",
       "      <th>ID</th>\n",
       "      <th>Fecha</th>\n",
       "      <th>clasif_lab</th>\n",
       "      <th>scar</th>\n",
       "    </tr>\n",
       "    <tr>\n",
       "      <th>fecha</th>\n",
       "      <th>persona</th>\n",
       "      <th></th>\n",
       "      <th></th>\n",
       "      <th></th>\n",
       "      <th></th>\n",
       "    </tr>\n",
       "  </thead>\n",
       "  <tbody>\n",
       "    <tr>\n",
       "      <th>2010-12-31</th>\n",
       "      <th>11</th>\n",
       "      <td>11</td>\n",
       "      <td>2010-12-31</td>\n",
       "      <td>1</td>\n",
       "      <td>1</td>\n",
       "    </tr>\n",
       "    <tr>\n",
       "      <th>2013-12-31</th>\n",
       "      <th>11</th>\n",
       "      <td>11</td>\n",
       "      <td>2013-12-31</td>\n",
       "      <td>2</td>\n",
       "      <td>1</td>\n",
       "    </tr>\n",
       "    <tr>\n",
       "      <th>2016-12-31</th>\n",
       "      <th>11</th>\n",
       "      <td>11</td>\n",
       "      <td>2016-12-31</td>\n",
       "      <td>1</td>\n",
       "      <td>1</td>\n",
       "    </tr>\n",
       "    <tr>\n",
       "      <th>2010-12-31</th>\n",
       "      <th>12</th>\n",
       "      <td>12</td>\n",
       "      <td>2010-12-31</td>\n",
       "      <td>1</td>\n",
       "      <td>1</td>\n",
       "    </tr>\n",
       "    <tr>\n",
       "      <th>2013-12-31</th>\n",
       "      <th>12</th>\n",
       "      <td>12</td>\n",
       "      <td>2013-12-31</td>\n",
       "      <td>1</td>\n",
       "      <td>0</td>\n",
       "    </tr>\n",
       "    <tr>\n",
       "      <th>2016-12-31</th>\n",
       "      <th>12</th>\n",
       "      <td>12</td>\n",
       "      <td>2016-12-31</td>\n",
       "      <td>3</td>\n",
       "      <td>0</td>\n",
       "    </tr>\n",
       "    <tr>\n",
       "      <th>2010-12-31</th>\n",
       "      <th>13</th>\n",
       "      <td>13</td>\n",
       "      <td>2010-12-31</td>\n",
       "      <td>1</td>\n",
       "      <td>1</td>\n",
       "    </tr>\n",
       "    <tr>\n",
       "      <th>2013-12-31</th>\n",
       "      <th>13</th>\n",
       "      <td>13</td>\n",
       "      <td>2013-12-31</td>\n",
       "      <td>2</td>\n",
       "      <td>1</td>\n",
       "    </tr>\n",
       "    <tr>\n",
       "      <th>2016-12-31</th>\n",
       "      <th>13</th>\n",
       "      <td>13</td>\n",
       "      <td>2016-12-31</td>\n",
       "      <td>1</td>\n",
       "      <td>1</td>\n",
       "    </tr>\n",
       "    <tr>\n",
       "      <th>2010-12-31</th>\n",
       "      <th>14</th>\n",
       "      <td>14</td>\n",
       "      <td>2010-12-31</td>\n",
       "      <td>1</td>\n",
       "      <td>1</td>\n",
       "    </tr>\n",
       "    <tr>\n",
       "      <th>2013-12-31</th>\n",
       "      <th>14</th>\n",
       "      <td>14</td>\n",
       "      <td>2013-12-31</td>\n",
       "      <td>1</td>\n",
       "      <td>0</td>\n",
       "    </tr>\n",
       "    <tr>\n",
       "      <th>2016-12-31</th>\n",
       "      <th>14</th>\n",
       "      <td>14</td>\n",
       "      <td>2016-12-31</td>\n",
       "      <td>1</td>\n",
       "      <td>1</td>\n",
       "    </tr>\n",
       "    <tr>\n",
       "      <th>2010-12-31</th>\n",
       "      <th>15</th>\n",
       "      <td>15</td>\n",
       "      <td>2010-12-31</td>\n",
       "      <td>x</td>\n",
       "      <td>x</td>\n",
       "    </tr>\n",
       "    <tr>\n",
       "      <th>2013-12-31</th>\n",
       "      <th>15</th>\n",
       "      <td>15</td>\n",
       "      <td>2013-12-31</td>\n",
       "      <td>x</td>\n",
       "      <td>x</td>\n",
       "    </tr>\n",
       "    <tr>\n",
       "      <th>2016-12-31</th>\n",
       "      <th>15</th>\n",
       "      <td>15</td>\n",
       "      <td>2016-12-31</td>\n",
       "      <td>x</td>\n",
       "      <td>x</td>\n",
       "    </tr>\n",
       "  </tbody>\n",
       "</table>\n",
       "</div>"
      ],
      "text/plain": [
       "                    ID       Fecha clasif_lab scar\n",
       "fecha      persona                                \n",
       "2010-12-31 11       11  2010-12-31          1    1\n",
       "2013-12-31 11       11  2013-12-31          2    1\n",
       "2016-12-31 11       11  2016-12-31          1    1\n",
       "2010-12-31 12       12  2010-12-31          1    1\n",
       "2013-12-31 12       12  2013-12-31          1    0\n",
       "2016-12-31 12       12  2016-12-31          3    0\n",
       "2010-12-31 13       13  2010-12-31          1    1\n",
       "2013-12-31 13       13  2013-12-31          2    1\n",
       "2016-12-31 13       13  2016-12-31          1    1\n",
       "2010-12-31 14       14  2010-12-31          1    1\n",
       "2013-12-31 14       14  2013-12-31          1    0\n",
       "2016-12-31 14       14  2016-12-31          1    1\n",
       "2010-12-31 15       15  2010-12-31          x    x\n",
       "2013-12-31 15       15  2013-12-31          x    x\n",
       "2016-12-31 15       15  2016-12-31          x    x"
      ]
     },
     "execution_count": 102,
     "metadata": {},
     "output_type": "execute_result"
    }
   ],
   "source": [
    "simul['scar'] = simul.apply(scarfs, axis = 1)\n",
    "simul.head(16)\n"
   ]
  },
  {
   "cell_type": "code",
   "execution_count": 103,
   "metadata": {},
   "outputs": [
    {
     "data": {
      "text/plain": [
       "9"
      ]
     },
     "execution_count": 103,
     "metadata": {},
     "output_type": "execute_result"
    }
   ],
   "source": [
    "mask_1= simul[\"scar\"] == 1\n",
    "mask_1[mask_1==True].count()\n",
    "#solo_1 = mask_1[mask_1==True].index.to_list()"
   ]
  },
  {
   "cell_type": "code",
   "execution_count": 104,
   "metadata": {},
   "outputs": [
    {
     "data": {
      "text/html": [
       "<div>\n",
       "<style scoped>\n",
       "    .dataframe tbody tr th:only-of-type {\n",
       "        vertical-align: middle;\n",
       "    }\n",
       "\n",
       "    .dataframe tbody tr th {\n",
       "        vertical-align: top;\n",
       "    }\n",
       "\n",
       "    .dataframe thead th {\n",
       "        text-align: right;\n",
       "    }\n",
       "</style>\n",
       "<table border=\"1\" class=\"dataframe\">\n",
       "  <thead>\n",
       "    <tr style=\"text-align: right;\">\n",
       "      <th></th>\n",
       "      <th></th>\n",
       "      <th>ID</th>\n",
       "      <th>Fecha</th>\n",
       "      <th>clasif_lab</th>\n",
       "      <th>scar</th>\n",
       "    </tr>\n",
       "    <tr>\n",
       "      <th>fecha</th>\n",
       "      <th>persona</th>\n",
       "      <th></th>\n",
       "      <th></th>\n",
       "      <th></th>\n",
       "      <th></th>\n",
       "    </tr>\n",
       "  </thead>\n",
       "  <tbody>\n",
       "    <tr>\n",
       "      <th>2010-12-31</th>\n",
       "      <th>11</th>\n",
       "      <td>11</td>\n",
       "      <td>2010-12-31</td>\n",
       "      <td>1</td>\n",
       "      <td>1</td>\n",
       "    </tr>\n",
       "    <tr>\n",
       "      <th>2013-12-31</th>\n",
       "      <th>11</th>\n",
       "      <td>11</td>\n",
       "      <td>2013-12-31</td>\n",
       "      <td>2</td>\n",
       "      <td>1</td>\n",
       "    </tr>\n",
       "    <tr>\n",
       "      <th>2016-12-31</th>\n",
       "      <th>11</th>\n",
       "      <td>11</td>\n",
       "      <td>2016-12-31</td>\n",
       "      <td>1</td>\n",
       "      <td>1</td>\n",
       "    </tr>\n",
       "    <tr>\n",
       "      <th rowspan=\"2\" valign=\"top\">2010-12-31</th>\n",
       "      <th>12</th>\n",
       "      <td>12</td>\n",
       "      <td>2010-12-31</td>\n",
       "      <td>1</td>\n",
       "      <td>1</td>\n",
       "    </tr>\n",
       "    <tr>\n",
       "      <th>13</th>\n",
       "      <td>13</td>\n",
       "      <td>2010-12-31</td>\n",
       "      <td>1</td>\n",
       "      <td>1</td>\n",
       "    </tr>\n",
       "    <tr>\n",
       "      <th>2013-12-31</th>\n",
       "      <th>13</th>\n",
       "      <td>13</td>\n",
       "      <td>2013-12-31</td>\n",
       "      <td>2</td>\n",
       "      <td>1</td>\n",
       "    </tr>\n",
       "    <tr>\n",
       "      <th>2016-12-31</th>\n",
       "      <th>13</th>\n",
       "      <td>13</td>\n",
       "      <td>2016-12-31</td>\n",
       "      <td>1</td>\n",
       "      <td>1</td>\n",
       "    </tr>\n",
       "    <tr>\n",
       "      <th>2010-12-31</th>\n",
       "      <th>14</th>\n",
       "      <td>14</td>\n",
       "      <td>2010-12-31</td>\n",
       "      <td>1</td>\n",
       "      <td>1</td>\n",
       "    </tr>\n",
       "    <tr>\n",
       "      <th>2016-12-31</th>\n",
       "      <th>14</th>\n",
       "      <td>14</td>\n",
       "      <td>2016-12-31</td>\n",
       "      <td>1</td>\n",
       "      <td>1</td>\n",
       "    </tr>\n",
       "  </tbody>\n",
       "</table>\n",
       "</div>"
      ],
      "text/plain": [
       "                    ID       Fecha clasif_lab scar\n",
       "fecha      persona                                \n",
       "2010-12-31 11       11  2010-12-31          1    1\n",
       "2013-12-31 11       11  2013-12-31          2    1\n",
       "2016-12-31 11       11  2016-12-31          1    1\n",
       "2010-12-31 12       12  2010-12-31          1    1\n",
       "           13       13  2010-12-31          1    1\n",
       "2013-12-31 13       13  2013-12-31          2    1\n",
       "2016-12-31 13       13  2016-12-31          1    1\n",
       "2010-12-31 14       14  2010-12-31          1    1\n",
       "2016-12-31 14       14  2016-12-31          1    1"
      ]
     },
     "execution_count": 104,
     "metadata": {},
     "output_type": "execute_result"
    }
   ],
   "source": [
    "simul2 = simul[mask_1==True]\n",
    "simul2\n"
   ]
  },
  {
   "cell_type": "code",
   "execution_count": 107,
   "metadata": {},
   "outputs": [
    {
     "data": {
      "text/plain": [
       "2"
      ]
     },
     "execution_count": 107,
     "metadata": {},
     "output_type": "execute_result"
    }
   ],
   "source": [
    "mask_2 = simul2[\"ID\"].value_counts()==3\n",
    "mask_2[mask_2==True].count()"
   ]
  },
  {
   "cell_type": "markdown",
   "metadata": {},
   "source": [
    "\n",
    "Existe un problema al filtrar los datos, ya que existen índices que se repiten tres veces y tienen el valor 0 y 1, es por ello que se deben separar las codiciones en dos tablas, dado que en una misma no se pueden cumplir las dos condiciones al mismo tiempo. Lo anterior se ejemplifica con los datos simulados, al crear los filtros mask_1 y mask_4 sobre la misma tabla, como se muestra a continuación.\n"
   ]
  },
  {
   "cell_type": "code",
   "execution_count": 108,
   "metadata": {},
   "outputs": [],
   "source": [
    "# mask_4=simul[\"ID\"].value_counts()==3\n",
    "# simul[mask_4 & mask_1] "
   ]
  },
  {
   "cell_type": "code",
   "execution_count": 109,
   "metadata": {},
   "outputs": [],
   "source": [
    "tres_veces = mask_2[mask_2==True].index.to_list()\n",
    "\n",
    "indices_tres_veces = []\n",
    "for ix, i in enumerate(simul2['ID']): #ix recorre el indice, i recorre los valores de la variable\n",
    "    if i in tres_veces:\n",
    "        indices_tres_veces.append(ix)\n",
    "\n",
    "simul2= simul2.iloc[indices_tres_veces,:]"
   ]
  },
  {
   "cell_type": "code",
   "execution_count": 111,
   "metadata": {},
   "outputs": [],
   "source": [
    "simuls = [simul, simul2]"
   ]
  },
  {
   "cell_type": "code",
   "execution_count": 112,
   "metadata": {},
   "outputs": [
    {
     "data": {
      "text/html": [
       "<div>\n",
       "<style scoped>\n",
       "    .dataframe tbody tr th:only-of-type {\n",
       "        vertical-align: middle;\n",
       "    }\n",
       "\n",
       "    .dataframe tbody tr th {\n",
       "        vertical-align: top;\n",
       "    }\n",
       "\n",
       "    .dataframe thead th {\n",
       "        text-align: right;\n",
       "    }\n",
       "</style>\n",
       "<table border=\"1\" class=\"dataframe\">\n",
       "  <thead>\n",
       "    <tr style=\"text-align: right;\">\n",
       "      <th></th>\n",
       "      <th></th>\n",
       "      <th>ID</th>\n",
       "      <th>Fecha</th>\n",
       "      <th>clasif_lab</th>\n",
       "      <th>scar</th>\n",
       "    </tr>\n",
       "    <tr>\n",
       "      <th>fecha</th>\n",
       "      <th>persona</th>\n",
       "      <th></th>\n",
       "      <th></th>\n",
       "      <th></th>\n",
       "      <th></th>\n",
       "    </tr>\n",
       "  </thead>\n",
       "  <tbody>\n",
       "    <tr>\n",
       "      <th>2010-12-31</th>\n",
       "      <th>11</th>\n",
       "      <td>11</td>\n",
       "      <td>2010-12-31</td>\n",
       "      <td>1</td>\n",
       "      <td>1</td>\n",
       "    </tr>\n",
       "    <tr>\n",
       "      <th>2013-12-31</th>\n",
       "      <th>11</th>\n",
       "      <td>11</td>\n",
       "      <td>2013-12-31</td>\n",
       "      <td>2</td>\n",
       "      <td>1</td>\n",
       "    </tr>\n",
       "    <tr>\n",
       "      <th>2016-12-31</th>\n",
       "      <th>11</th>\n",
       "      <td>11</td>\n",
       "      <td>2016-12-31</td>\n",
       "      <td>1</td>\n",
       "      <td>1</td>\n",
       "    </tr>\n",
       "    <tr>\n",
       "      <th>2010-12-31</th>\n",
       "      <th>12</th>\n",
       "      <td>12</td>\n",
       "      <td>2010-12-31</td>\n",
       "      <td>1</td>\n",
       "      <td>1</td>\n",
       "    </tr>\n",
       "    <tr>\n",
       "      <th>2013-12-31</th>\n",
       "      <th>12</th>\n",
       "      <td>12</td>\n",
       "      <td>2013-12-31</td>\n",
       "      <td>1</td>\n",
       "      <td>0</td>\n",
       "    </tr>\n",
       "    <tr>\n",
       "      <th>2016-12-31</th>\n",
       "      <th>12</th>\n",
       "      <td>12</td>\n",
       "      <td>2016-12-31</td>\n",
       "      <td>3</td>\n",
       "      <td>0</td>\n",
       "    </tr>\n",
       "    <tr>\n",
       "      <th>2010-12-31</th>\n",
       "      <th>13</th>\n",
       "      <td>13</td>\n",
       "      <td>2010-12-31</td>\n",
       "      <td>1</td>\n",
       "      <td>1</td>\n",
       "    </tr>\n",
       "    <tr>\n",
       "      <th>2013-12-31</th>\n",
       "      <th>13</th>\n",
       "      <td>13</td>\n",
       "      <td>2013-12-31</td>\n",
       "      <td>2</td>\n",
       "      <td>1</td>\n",
       "    </tr>\n",
       "    <tr>\n",
       "      <th>2016-12-31</th>\n",
       "      <th>13</th>\n",
       "      <td>13</td>\n",
       "      <td>2016-12-31</td>\n",
       "      <td>1</td>\n",
       "      <td>1</td>\n",
       "    </tr>\n",
       "    <tr>\n",
       "      <th>2010-12-31</th>\n",
       "      <th>14</th>\n",
       "      <td>14</td>\n",
       "      <td>2010-12-31</td>\n",
       "      <td>1</td>\n",
       "      <td>1</td>\n",
       "    </tr>\n",
       "    <tr>\n",
       "      <th>2013-12-31</th>\n",
       "      <th>14</th>\n",
       "      <td>14</td>\n",
       "      <td>2013-12-31</td>\n",
       "      <td>1</td>\n",
       "      <td>0</td>\n",
       "    </tr>\n",
       "    <tr>\n",
       "      <th>2016-12-31</th>\n",
       "      <th>14</th>\n",
       "      <td>14</td>\n",
       "      <td>2016-12-31</td>\n",
       "      <td>1</td>\n",
       "      <td>1</td>\n",
       "    </tr>\n",
       "    <tr>\n",
       "      <th>2010-12-31</th>\n",
       "      <th>15</th>\n",
       "      <td>15</td>\n",
       "      <td>2010-12-31</td>\n",
       "      <td>x</td>\n",
       "      <td>x</td>\n",
       "    </tr>\n",
       "    <tr>\n",
       "      <th>2013-12-31</th>\n",
       "      <th>15</th>\n",
       "      <td>15</td>\n",
       "      <td>2013-12-31</td>\n",
       "      <td>x</td>\n",
       "      <td>x</td>\n",
       "    </tr>\n",
       "    <tr>\n",
       "      <th>2016-12-31</th>\n",
       "      <th>15</th>\n",
       "      <td>15</td>\n",
       "      <td>2016-12-31</td>\n",
       "      <td>x</td>\n",
       "      <td>x</td>\n",
       "    </tr>\n",
       "    <tr>\n",
       "      <th>2010-12-31</th>\n",
       "      <th>11</th>\n",
       "      <td>11</td>\n",
       "      <td>2010-12-31</td>\n",
       "      <td>1</td>\n",
       "      <td>1</td>\n",
       "    </tr>\n",
       "    <tr>\n",
       "      <th>2013-12-31</th>\n",
       "      <th>11</th>\n",
       "      <td>11</td>\n",
       "      <td>2013-12-31</td>\n",
       "      <td>2</td>\n",
       "      <td>1</td>\n",
       "    </tr>\n",
       "    <tr>\n",
       "      <th>2016-12-31</th>\n",
       "      <th>11</th>\n",
       "      <td>11</td>\n",
       "      <td>2016-12-31</td>\n",
       "      <td>1</td>\n",
       "      <td>1</td>\n",
       "    </tr>\n",
       "    <tr>\n",
       "      <th>2010-12-31</th>\n",
       "      <th>13</th>\n",
       "      <td>13</td>\n",
       "      <td>2010-12-31</td>\n",
       "      <td>1</td>\n",
       "      <td>1</td>\n",
       "    </tr>\n",
       "    <tr>\n",
       "      <th>2013-12-31</th>\n",
       "      <th>13</th>\n",
       "      <td>13</td>\n",
       "      <td>2013-12-31</td>\n",
       "      <td>2</td>\n",
       "      <td>1</td>\n",
       "    </tr>\n",
       "    <tr>\n",
       "      <th>2016-12-31</th>\n",
       "      <th>13</th>\n",
       "      <td>13</td>\n",
       "      <td>2016-12-31</td>\n",
       "      <td>1</td>\n",
       "      <td>1</td>\n",
       "    </tr>\n",
       "  </tbody>\n",
       "</table>\n",
       "</div>"
      ],
      "text/plain": [
       "                    ID       Fecha clasif_lab scar\n",
       "fecha      persona                                \n",
       "2010-12-31 11       11  2010-12-31          1    1\n",
       "2013-12-31 11       11  2013-12-31          2    1\n",
       "2016-12-31 11       11  2016-12-31          1    1\n",
       "2010-12-31 12       12  2010-12-31          1    1\n",
       "2013-12-31 12       12  2013-12-31          1    0\n",
       "2016-12-31 12       12  2016-12-31          3    0\n",
       "2010-12-31 13       13  2010-12-31          1    1\n",
       "2013-12-31 13       13  2013-12-31          2    1\n",
       "2016-12-31 13       13  2016-12-31          1    1\n",
       "2010-12-31 14       14  2010-12-31          1    1\n",
       "2013-12-31 14       14  2013-12-31          1    0\n",
       "2016-12-31 14       14  2016-12-31          1    1\n",
       "2010-12-31 15       15  2010-12-31          x    x\n",
       "2013-12-31 15       15  2013-12-31          x    x\n",
       "2016-12-31 15       15  2016-12-31          x    x\n",
       "2010-12-31 11       11  2010-12-31          1    1\n",
       "2013-12-31 11       11  2013-12-31          2    1\n",
       "2016-12-31 11       11  2016-12-31          1    1\n",
       "2010-12-31 13       13  2010-12-31          1    1\n",
       "2013-12-31 13       13  2013-12-31          2    1\n",
       "2016-12-31 13       13  2016-12-31          1    1"
      ]
     },
     "execution_count": 112,
     "metadata": {},
     "output_type": "execute_result"
    }
   ],
   "source": [
    "otro = pd.concat(simuls)\n",
    "otro"
   ]
  },
  {
   "cell_type": "markdown",
   "metadata": {},
   "source": [
    "### Base real"
   ]
  },
  {
   "cell_type": "code",
   "execution_count": 4,
   "metadata": {},
   "outputs": [],
   "source": [
    "df7= pd.read_csv('D:/maestria_ciencias_economicas_unal/tesis_scarring/base datos/ELCA_FINAL/PANEL_PET_REDUC.csv', sep = \";\", index_col=[0,1], low_memory=False)\n",
    "dfprueba= pd.read_csv('D:/maestria_ciencias_economicas_unal/tesis_scarring/base datos/ELCA_FINAL/PET_REDUC_Trat_ctrl.csv', sep = \";\", low_memory=False)"
   ]
  },
  {
   "cell_type": "code",
   "execution_count": 134,
   "metadata": {},
   "outputs": [],
   "source": [
    "#df7= df7.drop([\"scar\"], axis = 1)\n",
    "#df7.to_csv('D:/maestria_ciencias_economicas_unal/tesis_scarring/base datos/ELCA_FINAL/PANEL_PET_REDUC.csv', sep = \";\")"
   ]
  },
  {
   "cell_type": "markdown",
   "metadata": {},
   "source": [
    "El código anterior permite conocer el número de personas que poseen el efecto scarring (1, 2, 1), a través de la creación de un filtro y arroja como resultado un dataframe con dichas personas. A continuación se crea la función que incluye los seis caminos para identificar la población suceptible del efecto. Se aplica la función junto con los filtros y se almacenan en df8, se crean las variables scar (1) y control (0). Asimismo, se crea la función para el grupo de control que incluye dos caminos, junto con los filtros y se almacena en df9; se crean las variables scar (0) y control (1). A continuación se concatenan las 2 tablas en df10.\n",
    "\n",
    "Finalmente, se crea dos tablas de salida, una para el grupo tratamiento, con el número de personas, número de episodios de desempleo y tiempo de desempleo promedio en meses y años; y otra para el grupo de control, con el número de personas, número de episodios de empleo (si es posible), tiempo de trabajo en meses y años. \n",
    "\n",
    "Otra posibilidad es explorar la creación de funciones por cada tabla y concatenarlas, lo cual haría más extenso el código, pero permitiría realizar un pivot con todas las tablas por cada uno de los caminos. "
   ]
  },
  {
   "cell_type": "code",
   "execution_count": 46,
   "metadata": {},
   "outputs": [],
   "source": [
    "# def scarf(df):\n",
    "#     if (((df[\"Fecha\"]==\"2010-12-31\") and (df[\"clasif_lab\"]== 1)) or\n",
    "#     ((df[\"Fecha\"]==\"2013-12-31\") and (df[\"clasif_lab\"]== 2)) or\n",
    "#     ((df[\"Fecha\"]==\"2016-12-31\") and (df[\"clasif_lab\"]== 1))):\n",
    "#         categoria=1\n",
    "#     elif (((df[\"Fecha\"]==\"2010-12-31\") and (df[\"clasif_lab\"]== 1)) or\n",
    "#     ((df[\"Fecha\"]==\"2013-12-31\") and (df[\"clasif_lab\"]== 1) and (df[\"desemp_ult3\"] == \"si\")) or\n",
    "#     ((df[\"Fecha\"]==\"2016-12-31\") and (df[\"clasif_lab\"]== 1))):\n",
    "#         categoria=1\n",
    "#     elif (((df[\"Fecha\"]==\"2010-12-31\") and (df[\"clasif_lab\"]== 1)) or\n",
    "#     ((df[\"Fecha\"]==\"2013-12-31\") and (df[\"clasif_lab\"]== 1) and (df[\"desemp_ult3\"] == \"no\")) or \n",
    "#     ((df[\"Fecha\"]==\"2016-12-31\") and (df[\"clasif_lab\"]== 1) and (df[\"desemp_ult3\"] == \"si\"))):\n",
    "#         categoria=1\n",
    "#     elif (((df[\"Fecha\"]==\"2010-12-31\") and (df[\"clasif_lab\"]== 2)) or\n",
    "#     ((df[\"Fecha\"]==\"2013-12-31\") and (df[\"clasif_lab\"]== 1)) or \n",
    "#     ((df[\"Fecha\"]==\"2016-12-31\") and (df[\"clasif_lab\"]== 1) and (df[\"desemp_ult3\"] == \"si\"))):\n",
    "#         categoria=1\n",
    "#     elif (((df[\"Fecha\"]==\"2010-12-31\") and (df[\"clasif_lab\"]== 2)) or\n",
    "#     ((df[\"Fecha\"]==\"2013-12-31\") and (df[\"clasif_lab\"]== 2) and (df[\"trabajo_ult3\"] == \"si\")) or \n",
    "#     ((df[\"Fecha\"]==\"2016-12-31\") and (df[\"clasif_lab\"]== 1))):\n",
    "#         categoria=1\n",
    "#     elif (df[\"clasif_lab\"]== \"x\") or (df[\"desemp_ult3\"]== \"x\") or (df[\"trabajo_ult3\"]== \"x\"):\n",
    "#          categoria= \"x\"\n",
    "#     else:\n",
    "#         categoria=0\n",
    "#     return(categoria)"
   ]
  },
  {
   "cell_type": "code",
   "execution_count": 47,
   "metadata": {},
   "outputs": [],
   "source": [
    "# df7['scar'] = df7.apply(scarf, axis = 1)"
   ]
  },
  {
   "cell_type": "markdown",
   "metadata": {},
   "source": [
    "Al realizar el análisis con la función compuesta se observa que existen registros marcados como scarring de manera incorrecta, por ejemplo ocupados en todos los tres periodos. Esto se debe al flujo de ejecución del programa, puesto que evalua la primera condición para todos los registros, entonces cuando pasa a la segunda condición los registros ya están marcados. Por ello se decide crear una función, una variable scar, un filtro, una tabla y una variable control por cada camino, y posteriormente concatenarlas, sin que existan valores duplicados. "
   ]
  },
  {
   "cell_type": "markdown",
   "metadata": {},
   "source": [
    "#### Camino 1. scarfuno"
   ]
  },
  {
   "cell_type": "code",
   "execution_count": 156,
   "metadata": {},
   "outputs": [],
   "source": [
    "def scarfuno(df):\n",
    "    if (((df[\"Fecha\"]==\"2010-12-31\") and (df[\"clasif_lab\"]== 1)) or\n",
    "        ((df[\"Fecha\"]==\"2013-12-31\") and (df[\"clasif_lab\"]== 2)) or\n",
    "        ((df[\"Fecha\"]==\"2016-12-31\") and (df[\"clasif_lab\"]== 1))):\n",
    "        categoria= 1\n",
    "    else:\n",
    "        categoria= 0     \n",
    "    return(categoria)"
   ]
  },
  {
   "cell_type": "code",
   "execution_count": 157,
   "metadata": {},
   "outputs": [],
   "source": [
    "df7['scar_uno'] = df7.apply(scarfuno, axis = 1)"
   ]
  },
  {
   "cell_type": "code",
   "execution_count": 158,
   "metadata": {},
   "outputs": [
    {
     "data": {
      "text/plain": [
       "0    9035\n",
       "1    8476\n",
       "Name: scar_uno, dtype: int64"
      ]
     },
     "execution_count": 158,
     "metadata": {},
     "output_type": "execute_result"
    }
   ],
   "source": [
    "#celda flotante para comprobaciones\n",
    "# df7[\"clasif_lab\"].value_counts(dropna = False)\n",
    "df7[\"scar_uno\"].value_counts(dropna = False)\n",
    "#df7.head()"
   ]
  },
  {
   "cell_type": "code",
   "execution_count": 159,
   "metadata": {},
   "outputs": [
    {
     "data": {
      "text/plain": [
       "8476"
      ]
     },
     "execution_count": 159,
     "metadata": {},
     "output_type": "execute_result"
    }
   ],
   "source": [
    "msk_1_s1= df7[\"scar_uno\"] == 1\n",
    "msk_1_s1[msk_1_s1==True].count()\n"
   ]
  },
  {
   "cell_type": "code",
   "execution_count": 160,
   "metadata": {},
   "outputs": [
    {
     "data": {
      "text/plain": [
       "112"
      ]
     },
     "execution_count": 160,
     "metadata": {},
     "output_type": "execute_result"
    }
   ],
   "source": [
    "df8 = df7[msk_1_s1==True]\n",
    "msk_2_s1 = df8[\"id\"].value_counts()==3\n",
    "msk_2_s1[msk_2_s1==True].count() #112 ids cuentan con el efecto scar, aparecen 3495 personas con el efecto. "
   ]
  },
  {
   "cell_type": "code",
   "execution_count": 161,
   "metadata": {},
   "outputs": [],
   "source": [
    "trs_veces1 = msk_2_s1[msk_2_s1==True].index.to_list()\n",
    "\n",
    "indices_trs_veces1 = []\n",
    "for ix,i in enumerate(df8['id']):\n",
    "    if i in trs_veces1:\n",
    "        indices_trs_veces1.append(ix)\n",
    "\n",
    "df8 = df8.iloc[indices_trs_veces1,:] # se crea el dataframe 8 con 112 personas (camino1) suceptibles del scar."
   ]
  },
  {
   "cell_type": "code",
   "execution_count": 162,
   "metadata": {},
   "outputs": [],
   "source": [
    "df8= df8.rename(columns={\"scar_uno\":\"scar\"})"
   ]
  },
  {
   "cell_type": "code",
   "execution_count": 163,
   "metadata": {},
   "outputs": [],
   "source": [
    "df8['control'] = int(0)"
   ]
  },
  {
   "cell_type": "code",
   "execution_count": 164,
   "metadata": {},
   "outputs": [],
   "source": [
    "df8['camino'] = str(\"t_uno\")"
   ]
  },
  {
   "cell_type": "markdown",
   "metadata": {},
   "source": [
    "#### Camino 2. scarf_dos"
   ]
  },
  {
   "cell_type": "code",
   "execution_count": 165,
   "metadata": {},
   "outputs": [],
   "source": [
    "def scarf_dos(df):\n",
    "    if (((df[\"Fecha\"]==\"2010-12-31\") and (df[\"clasif_lab\"]== 1)) or\n",
    "    ((df[\"Fecha\"]==\"2013-12-31\") and (df[\"clasif_lab\"]== 1) and (df[\"desemp_ult3\"] == \"si\")) or\n",
    "    ((df[\"Fecha\"]==\"2016-12-31\") and (df[\"clasif_lab\"]!= np.nan))):\n",
    "        categoria=1\n",
    "    elif (df[\"clasif_lab\"]== np.nan) or (df[\"desemp_ult3\"]== \"x\"):\n",
    "         categoria= \"x\"\n",
    "    else:\n",
    "        categoria=0\n",
    "    return(categoria)"
   ]
  },
  {
   "cell_type": "code",
   "execution_count": 166,
   "metadata": {},
   "outputs": [],
   "source": [
    "df7['scar_dos'] = df7.apply(scarf_dos, axis = 1)"
   ]
  },
  {
   "cell_type": "code",
   "execution_count": 167,
   "metadata": {},
   "outputs": [
    {
     "data": {
      "text/plain": [
       "10840"
      ]
     },
     "execution_count": 167,
     "metadata": {},
     "output_type": "execute_result"
    }
   ],
   "source": [
    "msk_1_s2= df7[\"scar_dos\"] == 1\n",
    "msk_1_s2[msk_1_s2==True].count()\n"
   ]
  },
  {
   "cell_type": "code",
   "execution_count": 168,
   "metadata": {},
   "outputs": [
    {
     "data": {
      "text/plain": [
       "718"
      ]
     },
     "execution_count": 168,
     "metadata": {},
     "output_type": "execute_result"
    }
   ],
   "source": [
    "df9 = df7[msk_1_s2==True]\n",
    "msk_2_s2= df9[\"id\"].value_counts()==3\n",
    "msk_2_s2[msk_2_s2==True].count() # 718 persons (camino 2) suceptibles de efecto scar"
   ]
  },
  {
   "cell_type": "code",
   "execution_count": 169,
   "metadata": {},
   "outputs": [],
   "source": [
    "trs_veces2 = msk_2_s2[msk_2_s2==True].index.to_list()\n",
    "\n",
    "indices_trs_veces2 = []\n",
    "for ix,i in enumerate(df9['id']):\n",
    "    if i in trs_veces2:\n",
    "        indices_trs_veces2.append(ix)\n",
    "\n",
    "df9 = df9.iloc[indices_trs_veces2,:] # se crea el dataframe 9 con las personas que tienen efecto scar."
   ]
  },
  {
   "cell_type": "code",
   "execution_count": 170,
   "metadata": {},
   "outputs": [],
   "source": [
    "df9= df9.rename(columns={\"scar_dos\":\"scar\"})"
   ]
  },
  {
   "cell_type": "code",
   "execution_count": 171,
   "metadata": {},
   "outputs": [],
   "source": [
    "df9['control'] = int(0)\n",
    "#df9= df9.rename(columns={\"control_dos\":\"control\"})\n",
    "#df7['scar'].isnull().sum()"
   ]
  },
  {
   "cell_type": "code",
   "execution_count": 172,
   "metadata": {},
   "outputs": [],
   "source": [
    "df9['camino'] = str(\"t_dos\")"
   ]
  },
  {
   "cell_type": "code",
   "execution_count": 173,
   "metadata": {},
   "outputs": [],
   "source": [
    "#df7[df7['scar']==1].count() #& (df7['scar']==1) & (df7['scar']==1)].count()\n",
    "#df7[(df7['scar']==1) & (df7['Fecha']==\"2013-12-31\")].count()"
   ]
  },
  {
   "cell_type": "markdown",
   "metadata": {},
   "source": [
    "#### Camino 3. scarf_tres"
   ]
  },
  {
   "cell_type": "code",
   "execution_count": 174,
   "metadata": {},
   "outputs": [],
   "source": [
    "def scarf_tres(df):\n",
    "    if (((df[\"Fecha\"]==\"2010-12-31\") and (df[\"clasif_lab\"]== 1)) or\n",
    "    ((df[\"Fecha\"]==\"2013-12-31\") and (df[\"clasif_lab\"]== 1) and (df[\"desemp_ult3\"] == \"no\")) or \n",
    "    ((df[\"Fecha\"]==\"2016-12-31\") and (df[\"clasif_lab\"]== 1) and (df[\"desemp_ult3\"] == \"si\"))):\n",
    "        categoria=1         \n",
    "    elif (df[\"clasif_lab\"]== np.nan) or (df[\"desemp_ult3\"]== \"x\"):\n",
    "        categoria= \"x\"\n",
    "    else:\n",
    "        categoria=0\n",
    "    return(categoria)"
   ]
  },
  {
   "cell_type": "code",
   "execution_count": 175,
   "metadata": {},
   "outputs": [],
   "source": [
    "df7['scar_tres'] = df7.apply(scarf_tres, axis = 1)"
   ]
  },
  {
   "cell_type": "code",
   "execution_count": 176,
   "metadata": {},
   "outputs": [
    {
     "data": {
      "text/plain": [
       "7629"
      ]
     },
     "execution_count": 176,
     "metadata": {},
     "output_type": "execute_result"
    }
   ],
   "source": [
    "msk_1_s3= df7[\"scar_tres\"] == 1\n",
    "msk_1_s3[msk_1_s3==True].count()\n"
   ]
  },
  {
   "cell_type": "code",
   "execution_count": 177,
   "metadata": {},
   "outputs": [
    {
     "data": {
      "text/plain": [
       "186"
      ]
     },
     "execution_count": 177,
     "metadata": {},
     "output_type": "execute_result"
    }
   ],
   "source": [
    "df10 = df7[msk_1_s3==True]\n",
    "msk_2_s3= df10[\"id\"].value_counts()==3\n",
    "msk_2_s3[msk_2_s3==True].count() # 186 persons (camino 3) suceptibles de efecto scar"
   ]
  },
  {
   "cell_type": "code",
   "execution_count": 178,
   "metadata": {},
   "outputs": [],
   "source": [
    "trs_veces3 = msk_2_s3[msk_2_s3==True].index.to_list()\n",
    "\n",
    "indices_trs_veces3 = []\n",
    "for ix,i in enumerate(df10['id']):\n",
    "    if i in trs_veces3:\n",
    "        indices_trs_veces3.append(ix)\n",
    "\n",
    "df10 = df10.iloc[indices_trs_veces3,:] # se crea el dataframe 10 con las personas que tienen efecto scar."
   ]
  },
  {
   "cell_type": "code",
   "execution_count": 179,
   "metadata": {},
   "outputs": [],
   "source": [
    "#df9.drop(\"scar_uno\", axis = 1) #probar la combinación con las dos variables"
   ]
  },
  {
   "cell_type": "code",
   "execution_count": 180,
   "metadata": {},
   "outputs": [],
   "source": [
    "df10= df10.rename(columns={\"scar_tres\":\"scar\"})"
   ]
  },
  {
   "cell_type": "code",
   "execution_count": 181,
   "metadata": {},
   "outputs": [],
   "source": [
    "df10['control'] = int(0)\n",
    "#df10= df10.rename(columns={\"control_tres\":\"control\"})\n",
    "#df7['scar'].isnull().sum()"
   ]
  },
  {
   "cell_type": "code",
   "execution_count": 182,
   "metadata": {},
   "outputs": [],
   "source": [
    "df10['camino'] = str(\"t_tres\")"
   ]
  },
  {
   "cell_type": "markdown",
   "metadata": {},
   "source": [
    "#### Camino 4. scarf_cuatro"
   ]
  },
  {
   "cell_type": "code",
   "execution_count": 183,
   "metadata": {},
   "outputs": [],
   "source": [
    "def scarf_cuatro(df):\n",
    "    if (((df[\"Fecha\"]==\"2010-12-31\") and ((df[\"clasif_lab\"]== 2) or (df[\"clasif_lab\"]== 3))) or\n",
    "    ((df[\"Fecha\"]==\"2013-12-31\") and (df[\"clasif_lab\"]== 1)) or \n",
    "    ((df[\"Fecha\"]==\"2016-12-31\") and (df[\"clasif_lab\"]== 1) and (df[\"desemp_ult3\"] == \"si\"))):\n",
    "        categoria=1\n",
    "    elif (df[\"clasif_lab\"]== np.nan) or (df[\"desemp_ult3\"]== \"x\"):\n",
    "        categoria= \"x\"\n",
    "    else:\n",
    "        categoria=0\n",
    "    return(categoria)"
   ]
  },
  {
   "cell_type": "code",
   "execution_count": 184,
   "metadata": {},
   "outputs": [],
   "source": [
    "df7['scar_cuatro'] = df7.apply(scarf_cuatro, axis = 1)"
   ]
  },
  {
   "cell_type": "code",
   "execution_count": 185,
   "metadata": {},
   "outputs": [
    {
     "data": {
      "text/plain": [
       "6511"
      ]
     },
     "execution_count": 185,
     "metadata": {},
     "output_type": "execute_result"
    }
   ],
   "source": [
    "msk_1_s4= df7[\"scar_cuatro\"] == 1\n",
    "msk_1_s4[msk_1_s4==True].count()\n"
   ]
  },
  {
   "cell_type": "code",
   "execution_count": 186,
   "metadata": {},
   "outputs": [
    {
     "data": {
      "text/plain": [
       "100"
      ]
     },
     "execution_count": 186,
     "metadata": {},
     "output_type": "execute_result"
    }
   ],
   "source": [
    "df11 = df7[msk_1_s4==True]\n",
    "msk_2_s4= df11[\"id\"].value_counts()==3\n",
    "msk_2_s4[msk_2_s4==True].count() # 100 personas (camino 4) suceptibles de efecto scar"
   ]
  },
  {
   "cell_type": "code",
   "execution_count": 187,
   "metadata": {},
   "outputs": [],
   "source": [
    "trs_veces4 = msk_2_s4[msk_2_s4==True].index.to_list()\n",
    "\n",
    "indices_trs_veces4 = []\n",
    "for ix,i in enumerate(df11['id']):\n",
    "    if i in trs_veces4:\n",
    "        indices_trs_veces4.append(ix)\n",
    "\n",
    "df11 = df11.iloc[indices_trs_veces4,:] # se crea el dataframe 11 con las personas que tienen efecto scar."
   ]
  },
  {
   "cell_type": "code",
   "execution_count": 188,
   "metadata": {},
   "outputs": [],
   "source": [
    "df11= df11.rename(columns={\"scar_cuatro\":\"scar\"})"
   ]
  },
  {
   "cell_type": "code",
   "execution_count": 189,
   "metadata": {},
   "outputs": [],
   "source": [
    "df11['control'] = int(0)\n",
    "#df7['scar'].isnull().sum()"
   ]
  },
  {
   "cell_type": "code",
   "execution_count": 190,
   "metadata": {},
   "outputs": [],
   "source": [
    "df11['camino'] = str(\"t_cuatro\")"
   ]
  },
  {
   "cell_type": "markdown",
   "metadata": {},
   "source": [
    "#### Camino 5. scarf_cinco"
   ]
  },
  {
   "cell_type": "code",
   "execution_count": 191,
   "metadata": {},
   "outputs": [],
   "source": [
    "def scarf_cinco(df):\n",
    "    if (((df[\"Fecha\"]==\"2010-12-31\") and ((df[\"clasif_lab\"]== 2) or (df[\"clasif_lab\"]== 3))) or\n",
    "    ((df[\"Fecha\"]==\"2013-12-31\") and (df[\"clasif_lab\"]== 2) and (df[\"trabajo_ult3\"] == \"si\")) or \n",
    "    ((df[\"Fecha\"]==\"2016-12-31\") and (df[\"clasif_lab\"]== 1))):\n",
    "        categoria=1        \n",
    "    elif (df[\"clasif_lab\"]== np.nan) or (df[\"trabajo_ult3\"]== \"x\"):\n",
    "        categoria= \"x\"\n",
    "    else:\n",
    "        categoria=0\n",
    "    return(categoria)"
   ]
  },
  {
   "cell_type": "code",
   "execution_count": 192,
   "metadata": {},
   "outputs": [],
   "source": [
    "df7['scar_cinco'] = df7.apply(scarf_cinco, axis = 1)"
   ]
  },
  {
   "cell_type": "code",
   "execution_count": 193,
   "metadata": {},
   "outputs": [
    {
     "data": {
      "text/plain": [
       "6154"
      ]
     },
     "execution_count": 193,
     "metadata": {},
     "output_type": "execute_result"
    }
   ],
   "source": [
    "msk_1_s5= df7[\"scar_cinco\"] == 1\n",
    "msk_1_s5[msk_1_s5==True].count()\n"
   ]
  },
  {
   "cell_type": "code",
   "execution_count": 194,
   "metadata": {},
   "outputs": [
    {
     "data": {
      "text/plain": [
       "49"
      ]
     },
     "execution_count": 194,
     "metadata": {},
     "output_type": "execute_result"
    }
   ],
   "source": [
    "df12 = df7[msk_1_s5==True]\n",
    "msk_2_s5= df12[\"id\"].value_counts()==3\n",
    "msk_2_s5[msk_2_s5==True].count() # 49 personas (camino 5) suceptibles de efecto scars"
   ]
  },
  {
   "cell_type": "code",
   "execution_count": 195,
   "metadata": {},
   "outputs": [],
   "source": [
    "trs_veces5 = msk_2_s5[msk_2_s5==True].index.to_list()\n",
    "\n",
    "indices_trs_veces5 = []\n",
    "for ix,i in enumerate(df12['id']):\n",
    "    if i in trs_veces5:\n",
    "        indices_trs_veces5.append(ix)\n",
    "\n",
    "df12 = df12.iloc[indices_trs_veces5,:] # se crea el dataframe 12 (camino 5) con las personas que tienen efecto scar."
   ]
  },
  {
   "cell_type": "code",
   "execution_count": 196,
   "metadata": {},
   "outputs": [],
   "source": [
    "df12= df12.rename(columns={\"scar_cinco\":\"scar\"})"
   ]
  },
  {
   "cell_type": "code",
   "execution_count": 197,
   "metadata": {},
   "outputs": [],
   "source": [
    "df12['control'] = int(0)\n",
    "#df7['scar'].isnull().sum()"
   ]
  },
  {
   "cell_type": "code",
   "execution_count": 198,
   "metadata": {},
   "outputs": [],
   "source": [
    "df12['camino'] = str(\"t_cinco\")"
   ]
  },
  {
   "cell_type": "markdown",
   "metadata": {},
   "source": [
    "#### Camino 6. scarf_seis\n",
    "agregar la variable de inactividad al df7"
   ]
  },
  {
   "cell_type": "code",
   "execution_count": 199,
   "metadata": {},
   "outputs": [],
   "source": [
    "#urb_per_13 = pd.read_stata(\"D:/maestria_ciencias_economicas_unal/tesis_scarring/base datos/ELCA_2013/ELCA_2013_urbano/Upersonas_2013.dta\")\n"
   ]
  },
  {
   "cell_type": "code",
   "execution_count": 200,
   "metadata": {},
   "outputs": [],
   "source": [
    "#urb_per_13= urb_per_13.rename(columns={\"llave_ID_lb\":\"ID\"})"
   ]
  },
  {
   "cell_type": "code",
   "execution_count": 201,
   "metadata": {},
   "outputs": [],
   "source": [
    "#urb_per_13[\"Fecha\"] = '2013-12-31'"
   ]
  },
  {
   "cell_type": "code",
   "execution_count": 202,
   "metadata": {},
   "outputs": [],
   "source": [
    "#urb_per_13.head()"
   ]
  },
  {
   "cell_type": "code",
   "execution_count": 203,
   "metadata": {},
   "outputs": [],
   "source": [
    "#urb_per_13 = urb_per_13[[\"Fecha\",\"ID\",\"actividad_principal\", \"t_busco_trab\"]]"
   ]
  },
  {
   "cell_type": "code",
   "execution_count": 204,
   "metadata": {},
   "outputs": [],
   "source": [
    "# df7= pd.merge(left=df7, right=urb_per_13, left_on = [\"Fecha\",\"ID\"], \n",
    "#                    right_on= [\"Fecha\",\"ID\"], how = 'left', \n",
    "#                    sort = False, indicator = 'indicator_column', \n",
    "#                    validate = '1:m', suffixes=(\"_l\", \"_r\"))"
   ]
  },
  {
   "cell_type": "code",
   "execution_count": 205,
   "metadata": {},
   "outputs": [
    {
     "data": {
      "text/plain": [
       "(17511, 176)"
      ]
     },
     "execution_count": 205,
     "metadata": {},
     "output_type": "execute_result"
    }
   ],
   "source": [
    "df7.shape"
   ]
  },
  {
   "cell_type": "code",
   "execution_count": 206,
   "metadata": {},
   "outputs": [],
   "source": [
    "#df7.to_csv('D:/maestria_ciencias_economicas_unal/tesis_scarring/base datos/ELCA_FINAL/PANEL_PET_REDUC.csv', sep = \";\")"
   ]
  },
  {
   "cell_type": "code",
   "execution_count": 207,
   "metadata": {
    "scrolled": true
   },
   "outputs": [],
   "source": [
    "#df7[\"t_busco_trab_r\"].value_counts()"
   ]
  },
  {
   "cell_type": "code",
   "execution_count": 208,
   "metadata": {
    "scrolled": true
   },
   "outputs": [],
   "source": [
    "#df7[\"t_busco_trab_l\"].value_counts()"
   ]
  },
  {
   "cell_type": "code",
   "execution_count": 209,
   "metadata": {},
   "outputs": [],
   "source": [
    "def scarf_seis(df):\n",
    "    if (((df[\"Fecha\"]==\"2010-12-31\") and (df[\"clasif_lab\"]== 1)) or\n",
    "    ((df[\"Fecha\"]==\"2013-12-31\") and (df[\"clasif_lab\"]== 3) and (df[\"t_busco_trab_r\"] == \"Menos de 6 meses\")) or\n",
    "    ((df[\"Fecha\"]==\"2013-12-31\") and (df[\"clasif_lab\"]== 3) and (df[\"t_busco_trab_r\"] == \"Entre 7 y 11 meses\")) or\n",
    "    ((df[\"Fecha\"]==\"2013-12-31\") and (df[\"clasif_lab\"]== 3) and (df[\"t_busco_trab_r\"] == \"Entre 1 y menos de 2 años\")) or \n",
    "    ((df[\"Fecha\"]==\"2016-12-31\") and (df[\"clasif_lab\"]== 1))):\n",
    "        categoria=1        \n",
    "    elif (df[\"clasif_lab\"]== np.nan) or (df[\"t_busco_trab_r\"]== np.nan):\n",
    "        categoria= \"x\"\n",
    "    else:\n",
    "        categoria=0\n",
    "    return categoria\n"
   ]
  },
  {
   "cell_type": "code",
   "execution_count": 210,
   "metadata": {},
   "outputs": [],
   "source": [
    "df7['scar_seis'] = df7.apply(scarf_seis, axis = 1)"
   ]
  },
  {
   "cell_type": "code",
   "execution_count": 211,
   "metadata": {},
   "outputs": [
    {
     "data": {
      "text/plain": [
       "8335"
      ]
     },
     "execution_count": 211,
     "metadata": {},
     "output_type": "execute_result"
    }
   ],
   "source": [
    "msk_1_s6= df7[\"scar_seis\"] == 1\n",
    "msk_1_s6[msk_1_s6==True].count()\n"
   ]
  },
  {
   "cell_type": "code",
   "execution_count": 212,
   "metadata": {},
   "outputs": [
    {
     "data": {
      "text/plain": [
       "64"
      ]
     },
     "execution_count": 212,
     "metadata": {},
     "output_type": "execute_result"
    }
   ],
   "source": [
    "df12a = df7[msk_1_s6==True]\n",
    "msk_2_s6= df12a[\"id\"].value_counts()==3\n",
    "msk_2_s6[msk_2_s6==True].count() # 64 personas (camino 6) suceptibles de efecto scar"
   ]
  },
  {
   "cell_type": "code",
   "execution_count": 213,
   "metadata": {},
   "outputs": [],
   "source": [
    "trs_veces6 = msk_2_s6[msk_2_s6==True].index.to_list()\n",
    "\n",
    "indices_trs_veces6 = []\n",
    "for ix,i in enumerate(df12a['id']):\n",
    "    if i in trs_veces6:\n",
    "        indices_trs_veces6.append(ix)\n",
    "\n",
    "df12a = df12a.iloc[indices_trs_veces6,:] # se crea el dataframe 12a (camino 6) con las 40 personas que tienen efecto scar."
   ]
  },
  {
   "cell_type": "code",
   "execution_count": 214,
   "metadata": {},
   "outputs": [],
   "source": [
    "df12a= df12a.rename(columns={\"scar_seis\":\"scar\"})"
   ]
  },
  {
   "cell_type": "code",
   "execution_count": 215,
   "metadata": {},
   "outputs": [],
   "source": [
    "df12a['control'] = int(0)\n",
    "#df12a= df12a.rename(columns={\"control_seis\":\"control\"})\n",
    "#df7['scar'].isnull().sum()"
   ]
  },
  {
   "cell_type": "code",
   "execution_count": 216,
   "metadata": {},
   "outputs": [],
   "source": [
    "df12a['camino'] = str(\"t_seis\")"
   ]
  },
  {
   "cell_type": "markdown",
   "metadata": {},
   "source": [
    "### Grupo control camino 1\n",
    "Primero se debe crear variable de tiempo en el empleo actual a partir de la pregunta 503 del formulario, la cual admite 3 tipos de respuesta, a saber, edad de inicio, fecha de inicio o tiempo que lleva, generando 5 variables en base de datos. Entonces:\n",
    "\n",
    "1. Se lleva la opción 1 a tiempo mensual, mediante:(edad - edad_tenia )*12 \n",
    "\n",
    "2.Se lleva la opción 2 a tiempo mensual, mediante: (año_encuesta - ano_inicio)* 12 + (6 - mes_inicio)\n",
    "\n",
    "3. Dado que las variables anos_trabaja y meses_trabaja son complementarias, se lleva la primera a meses, multiplicando por 12 y posteriormente se suma con las segunda. \n",
    "\n",
    "El procedimiento anterior se realiza mediante una función.\n",
    "\n",
    "Adicionalmente, se debe pasar la variable mes_inicio a número para lo cual se convertir los nombres de los meses a números enteros. "
   ]
  },
  {
   "cell_type": "code",
   "execution_count": 217,
   "metadata": {},
   "outputs": [],
   "source": [
    "def fecha_ini(df):\n",
    "    if (df[\"Fecha\"]==\"2010-12-31\"):\n",
    "        fe = 2010\n",
    "    elif (df[\"Fecha\"]==\"2013-12-31\"):\n",
    "        fe = 2013\n",
    "    elif (df[\"Fecha\"]==\"2016-12-31\"):\n",
    "        fe = 2016\n",
    "    else:\n",
    "        fe = np.nan\n",
    "    return fe"
   ]
  },
  {
   "cell_type": "code",
   "execution_count": 218,
   "metadata": {},
   "outputs": [],
   "source": [
    "df7['ano_encuesta'] = df7.apply(fecha_ini, axis = 1)"
   ]
  },
  {
   "cell_type": "code",
   "execution_count": 219,
   "metadata": {},
   "outputs": [],
   "source": [
    "#df7[\"edad_tenia\"][df7[\"edad_tenia\"]==99].count()"
   ]
  },
  {
   "cell_type": "code",
   "execution_count": 220,
   "metadata": {},
   "outputs": [],
   "source": [
    "def t_trab_act(df):\n",
    "    \n",
    "    if ((df[\"anos_trabaja\"] > 0) or (df[\"meses_trabaja\"] > 0)):\n",
    "        op_1 = ((df[\"anos_trabaja\"]*12) + df[\"meses_trabaja\"])\n",
    "    \n",
    "    elif (df[\"edad_tenia\"] > 0 ):\n",
    "        op_1 = ((df['edad'] - df[\"edad_tenia\"])*12) \n",
    "    \n",
    "    elif  (df[\"ano_inicio\"]>0) and (df[\"mes_inicio\"]>0):\n",
    "        op_1 = (((df['ano_encuesta'] - df['ano_inicio'])*12) + (6 - df['mes_inicio'])) \n",
    "    else:\n",
    "        op_1 = np.nan\n",
    "    return op_1"
   ]
  },
  {
   "cell_type": "code",
   "execution_count": 221,
   "metadata": {},
   "outputs": [],
   "source": [
    "df7['tiempo_empleo'] = df7.apply(t_trab_act, axis = 1)"
   ]
  },
  {
   "cell_type": "code",
   "execution_count": 222,
   "metadata": {},
   "outputs": [],
   "source": [
    "def nul_tiempo_ta(df):\n",
    "    if (((df['ano_encuesta'] == 2010) and (df['clasif_lab'] == 2)) or \n",
    "        ((df['ano_encuesta'] == 2010) and (df['clasif_lab'] == 3))):\n",
    "        t_ac = np.nan    \n",
    "    else:\n",
    "        t_ac= df['tiempo_empleo']\n",
    "    return(t_ac)"
   ]
  },
  {
   "cell_type": "code",
   "execution_count": 223,
   "metadata": {},
   "outputs": [],
   "source": [
    "df7['tiempo_empleo']=df7.apply(nul_tiempo_ta, axis = 1)"
   ]
  },
  {
   "cell_type": "code",
   "execution_count": 224,
   "metadata": {},
   "outputs": [],
   "source": [
    "#asignar nulidad a los registros de la varable tiempo_empleo para los datos incoherentes de edad_inicio\n",
    "def edad_inicio_1(df):\n",
    "    if (df['edad_tenia'] > df['edad']):\n",
    "        ed_ini = np.nan    \n",
    "    else:\n",
    "        ed_ini= df['tiempo_empleo']\n",
    "    return(ed_ini)"
   ]
  },
  {
   "cell_type": "code",
   "execution_count": 225,
   "metadata": {},
   "outputs": [],
   "source": [
    "df7['tiempo_empleo']=df7.apply(edad_inicio_1, axis = 1)"
   ]
  },
  {
   "cell_type": "code",
   "execution_count": 226,
   "metadata": {},
   "outputs": [],
   "source": [
    "#(((df7['ano_encuesta'] - df7['ano_inicio']) *12) + (6 - df7['mes_inicio'])).value_counts().sort_values(ascending = False)"
   ]
  },
  {
   "cell_type": "code",
   "execution_count": 227,
   "metadata": {},
   "outputs": [],
   "source": [
    "#df7[\"tiempo_empleo\"][df7[\"tiempo_empleo\"] < 36].count()"
   ]
  },
  {
   "cell_type": "code",
   "execution_count": 228,
   "metadata": {},
   "outputs": [],
   "source": [
    "#df7.boxplot(column=[\"edad_tenia\", \"meses_trabaja\", \"anos_trabaja\"], by = \"sexo\", layout = (2,2))\n",
    "#df7.boxplot(column=[\"edad_tenia\", \"meses_trabaja\", \"anos_trabaja\"])\n",
    "#df7.boxplot(column=[\"Tiempo_trab_act\"])"
   ]
  },
  {
   "cell_type": "markdown",
   "metadata": {},
   "source": [
    "\n",
    "debido a que al pegar el dataframe no se indexó por fecha, el indice automaticamente paso a ser el id, por tanto se toma el indice \"ID\" y se replica como variable \"ID\" en el dataframe."
   ]
  },
  {
   "cell_type": "code",
   "execution_count": 229,
   "metadata": {},
   "outputs": [],
   "source": [
    "#dfindex = dfindex.reset_index()\n",
    "#df7['id']=[i[1] for i in df7.index.to_list()]"
   ]
  },
  {
   "cell_type": "markdown",
   "metadata": {},
   "source": [
    "Se contruye la función de condiciones"
   ]
  },
  {
   "cell_type": "code",
   "execution_count": 230,
   "metadata": {},
   "outputs": [],
   "source": [
    "def controlf_uno(df):\n",
    "    if (((df[\"Fecha\"]==\"2010-12-31\") and (df[\"clasif_lab\"]== 1)) or\n",
    "    ((df[\"Fecha\"]==\"2013-12-31\") and (df[\"clasif_lab\"]== 1)  and (df[\"tiempo_empleo\"] < 36)\n",
    "    and (df[\"desemp_ult3\"] != \"si\")) or \n",
    "    ((df[\"Fecha\"]==\"2016-12-31\") and (df[\"clasif_lab\"]== 1) and (df[\"tiempo_empleo\"] < 36) and (df[\"desemp_ult3\"] != \"si\"))): #\n",
    "        categoria=1      \n",
    "    elif (df[\"clasif_lab\"]== np.nan) or (df[\"desemp_ult3\"]== \"x\") or (df[\"tiempo_empleo\"]== np.nan):\n",
    "        categoria= \"x\"\n",
    "    else:\n",
    "        categoria=0\n",
    "    return(categoria)"
   ]
  },
  {
   "cell_type": "code",
   "execution_count": 231,
   "metadata": {},
   "outputs": [],
   "source": [
    "df7['control_uno'] = df7.apply(controlf_uno, axis = 1)"
   ]
  },
  {
   "cell_type": "code",
   "execution_count": 232,
   "metadata": {},
   "outputs": [
    {
     "data": {
      "text/plain": [
       "8026"
      ]
     },
     "execution_count": 232,
     "metadata": {},
     "output_type": "execute_result"
    }
   ],
   "source": [
    "msk_1_c1= df7[\"control_uno\"] == 1\n",
    "msk_1_c1[msk_1_c1==True].count()\n"
   ]
  },
  {
   "cell_type": "code",
   "execution_count": 233,
   "metadata": {},
   "outputs": [
    {
     "data": {
      "text/plain": [
       "797"
      ]
     },
     "execution_count": 233,
     "metadata": {},
     "output_type": "execute_result"
    }
   ],
   "source": [
    "df13 = df7[msk_1_c1==True]\n",
    "msk_2_c1= df13[\"id\"].value_counts()==3\n",
    "msk_2_c1[msk_2_c1==True].count() # 797 personas (camino 1) grupo de control.\n"
   ]
  },
  {
   "cell_type": "code",
   "execution_count": 234,
   "metadata": {},
   "outputs": [],
   "source": [
    "trs_veces_c1 = msk_2_c1[msk_2_c1==True].index.to_list()\n",
    "\n",
    "indices_trs_veces_c1 = []\n",
    "for ix,i in enumerate(df13['id']):\n",
    "    if i in trs_veces_c1:\n",
    "        indices_trs_veces_c1.append(ix)\n",
    "\n",
    "df13 = df13.iloc[indices_trs_veces_c1,:] # se crea el dataframe 13 (camino 1) con las personas de control."
   ]
  },
  {
   "cell_type": "code",
   "execution_count": 235,
   "metadata": {},
   "outputs": [],
   "source": [
    "df13= df13.rename(columns={\"control_uno\":\"control\"})"
   ]
  },
  {
   "cell_type": "code",
   "execution_count": 236,
   "metadata": {},
   "outputs": [],
   "source": [
    "df13['scar'] = int(0)\n",
    "#df7['scar'].isnull().sum()"
   ]
  },
  {
   "cell_type": "code",
   "execution_count": 237,
   "metadata": {},
   "outputs": [],
   "source": [
    "df13['camino'] = str(\"c_uno\")"
   ]
  },
  {
   "cell_type": "markdown",
   "metadata": {},
   "source": [
    "### Grupo control camino 2"
   ]
  },
  {
   "cell_type": "code",
   "execution_count": 238,
   "metadata": {},
   "outputs": [],
   "source": [
    "def controlf_dos(df):\n",
    "    if (((df[\"Fecha\"]==\"2010-12-31\") and (df[\"clasif_lab\"]== 2)) or\n",
    "    ((df[\"Fecha\"]==\"2013-12-31\") and (df[\"clasif_lab\"]== 1) and (df[\"desemp_ult3\"] != \"si\")) or \n",
    "    ((df[\"Fecha\"]==\"2016-12-31\") and (df[\"clasif_lab\"]== 1) and (df[\"tiempo_empleo\"] < 36)\n",
    "    and (df[\"desemp_ult3\"] != \"si\"))):\n",
    "        categoria=1        \n",
    "    elif (df[\"clasif_lab\"]== np.nan) or (df[\"desemp_ult3\"]== \"x\") or (df[\"tiempo_empleo\"]== np.nan):\n",
    "        categoria= \"x\"\n",
    "    else:\n",
    "        categoria=0\n",
    "    return(categoria)"
   ]
  },
  {
   "cell_type": "code",
   "execution_count": 239,
   "metadata": {},
   "outputs": [],
   "source": [
    "df7['control_dos'] = df7.apply(controlf_dos, axis = 1)"
   ]
  },
  {
   "cell_type": "code",
   "execution_count": 240,
   "metadata": {},
   "outputs": [
    {
     "data": {
      "text/plain": [
       "5847"
      ]
     },
     "execution_count": 240,
     "metadata": {},
     "output_type": "execute_result"
    }
   ],
   "source": [
    "msk_1_c2= df7[\"control_dos\"] == 1\n",
    "msk_1_c2[msk_1_c2==True].count()\n"
   ]
  },
  {
   "cell_type": "code",
   "execution_count": 241,
   "metadata": {},
   "outputs": [
    {
     "data": {
      "text/plain": [
       "48"
      ]
     },
     "execution_count": 241,
     "metadata": {},
     "output_type": "execute_result"
    }
   ],
   "source": [
    "df14 = df7[msk_1_c2==True]\n",
    "msk_2_c2= df14[\"id\"].value_counts()==3\n",
    "msk_2_c2[msk_2_c2==True].count() # 48 personas (camino 2) grupo de control"
   ]
  },
  {
   "cell_type": "code",
   "execution_count": 242,
   "metadata": {},
   "outputs": [],
   "source": [
    "trs_veces_c2 = msk_2_c2[msk_2_c2==True].index.to_list()\n",
    "\n",
    "indices_trs_veces_c2 = []\n",
    "for ix,i in enumerate(df14['id']):\n",
    "    if i in trs_veces_c2:\n",
    "        indices_trs_veces_c2.append(ix)\n",
    "\n",
    "df14 = df14.iloc[indices_trs_veces_c2,:] # se crea el dataframe 14 (camino 2) con las personas de control."
   ]
  },
  {
   "cell_type": "code",
   "execution_count": 243,
   "metadata": {},
   "outputs": [],
   "source": [
    "df14= df14.rename(columns={\"control_dos\":\"control\"})"
   ]
  },
  {
   "cell_type": "code",
   "execution_count": 244,
   "metadata": {},
   "outputs": [],
   "source": [
    "df14['scar'] = int(0)\n",
    "#df7['scar'].isnull().sum()"
   ]
  },
  {
   "cell_type": "code",
   "execution_count": 245,
   "metadata": {},
   "outputs": [],
   "source": [
    "df14['camino'] = str(\"c_dos\")"
   ]
  },
  {
   "cell_type": "code",
   "execution_count": 246,
   "metadata": {},
   "outputs": [],
   "source": [
    "#df7.to_csv('D:/maestria_ciencias_economicas_unal/tesis_scarring/base datos/ELCA_FINAL/PANEL_PET_REDUC.csv', sep = \";\")"
   ]
  },
  {
   "cell_type": "markdown",
   "metadata": {},
   "source": [
    "### Grupo control camino 3"
   ]
  },
  {
   "cell_type": "code",
   "execution_count": 247,
   "metadata": {},
   "outputs": [],
   "source": [
    "def controlf_tres(df):\n",
    "    if (((df[\"Fecha\"]==\"2010-12-31\") and (df[\"clasif_lab\"]== 3)) or\n",
    "    ((df[\"Fecha\"]==\"2013-12-31\") and (df[\"clasif_lab\"]== 1) and (df[\"desemp_ult3\"] != \"si\")) or \n",
    "    ((df[\"Fecha\"]==\"2016-12-31\") and (df[\"clasif_lab\"]== 1) and (df[\"tiempo_empleo\"] < 36)\n",
    "    and (df[\"desemp_ult3\"] != \"si\"))):\n",
    "        categoria=1        \n",
    "    elif (df[\"clasif_lab\"]== np.nan) or (df[\"desemp_ult3\"]== \"x\") or (df[\"tiempo_empleo\"]== np.nan):\n",
    "        categoria= \"x\"\n",
    "    else:\n",
    "        categoria=0\n",
    "    return(categoria)"
   ]
  },
  {
   "cell_type": "code",
   "execution_count": 248,
   "metadata": {},
   "outputs": [],
   "source": [
    "df7['control_tres'] = df7.apply(controlf_tres, axis = 1)"
   ]
  },
  {
   "cell_type": "code",
   "execution_count": 249,
   "metadata": {},
   "outputs": [
    {
     "data": {
      "text/plain": [
       "6563"
      ]
     },
     "execution_count": 249,
     "metadata": {},
     "output_type": "execute_result"
    }
   ],
   "source": [
    "msk_1_c3= df7[\"control_tres\"] == 1\n",
    "msk_1_c3[msk_1_c3==True].count()\n"
   ]
  },
  {
   "cell_type": "code",
   "execution_count": 250,
   "metadata": {},
   "outputs": [
    {
     "data": {
      "text/plain": [
       "104"
      ]
     },
     "execution_count": 250,
     "metadata": {},
     "output_type": "execute_result"
    }
   ],
   "source": [
    "df15 = df7[msk_1_c3==True]\n",
    "msk_2_c3= df15[\"id\"].value_counts()==3\n",
    "msk_2_c3[msk_2_c3==True].count() # 104 personas (camino 3) grupo de control"
   ]
  },
  {
   "cell_type": "code",
   "execution_count": 251,
   "metadata": {},
   "outputs": [],
   "source": [
    "trs_veces_c3 = msk_2_c3[msk_2_c3==True].index.to_list()\n",
    "\n",
    "indices_trs_veces_c3 = []\n",
    "for ix,i in enumerate(df15['id']):\n",
    "    if i in trs_veces_c3:\n",
    "        indices_trs_veces_c3.append(ix)\n",
    "\n",
    "df15 = df15.iloc[indices_trs_veces_c3,:] # se crea el dataframe 14 (camino 3) con las personas de control."
   ]
  },
  {
   "cell_type": "code",
   "execution_count": 252,
   "metadata": {},
   "outputs": [],
   "source": [
    "df15= df15.rename(columns={\"control_tres\":\"control\"})"
   ]
  },
  {
   "cell_type": "code",
   "execution_count": 253,
   "metadata": {},
   "outputs": [],
   "source": [
    "df15['scar'] = int(0)\n",
    "#df7['scar'].isnull().sum()"
   ]
  },
  {
   "cell_type": "code",
   "execution_count": 254,
   "metadata": {},
   "outputs": [],
   "source": [
    "df15['camino'] = str(\"c_tres\")"
   ]
  },
  {
   "cell_type": "code",
   "execution_count": 255,
   "metadata": {},
   "outputs": [],
   "source": [
    "#df7[\"t_busco_trab_r\"].value_counts()"
   ]
  },
  {
   "cell_type": "markdown",
   "metadata": {},
   "source": [
    "### Grupo control camino 4"
   ]
  },
  {
   "cell_type": "code",
   "execution_count": 256,
   "metadata": {},
   "outputs": [],
   "source": [
    "def controlf_cuatro(df):\n",
    "    if (((df[\"Fecha\"]==\"2010-12-31\") and (df[\"clasif_lab\"]== 1)) or\n",
    "    ((df[\"Fecha\"]==\"2013-12-31\") and (df[\"clasif_lab\"]== 3) and (df[\"t_busco_trab_r\"] == \"Hace más de 5 años\")) or \n",
    "    ((df[\"Fecha\"]==\"2013-12-31\") and (df[\"clasif_lab\"]== 3) and (df[\"t_busco_trab_r\"] == \"Nunca ha buscado trabajo\")) or\n",
    "    ((df[\"Fecha\"]==\"2016-12-31\") and (df[\"clasif_lab\"]== 1) and (df[\"desemp_ult3\"] != \"si\"))):\n",
    "        categoria=1        \n",
    "    elif (df[\"clasif_lab\"]== np.nan) or (df[\"desemp_ult3\"]== \"x\") or (df[\"t_busco_trab_r\"]== np.nan):\n",
    "        categoria= \"x\"\n",
    "    else:\n",
    "        categoria=0\n",
    "    return(categoria)\n"
   ]
  },
  {
   "cell_type": "code",
   "execution_count": 257,
   "metadata": {},
   "outputs": [],
   "source": [
    "df7['control_cuatro'] = df7.apply(controlf_cuatro, axis = 1)"
   ]
  },
  {
   "cell_type": "code",
   "execution_count": 258,
   "metadata": {},
   "outputs": [
    {
     "data": {
      "text/plain": [
       "8557"
      ]
     },
     "execution_count": 258,
     "metadata": {},
     "output_type": "execute_result"
    }
   ],
   "source": [
    "msk_1_c4= df7[\"control_cuatro\"] == 1\n",
    "msk_1_c4[msk_1_c4==True].count()\n"
   ]
  },
  {
   "cell_type": "code",
   "execution_count": 259,
   "metadata": {},
   "outputs": [
    {
     "data": {
      "text/plain": [
       "62"
      ]
     },
     "execution_count": 259,
     "metadata": {},
     "output_type": "execute_result"
    }
   ],
   "source": [
    "df16 = df7[msk_1_c4==True]\n",
    "msk_2_c4= df16[\"id\"].value_counts()==3\n",
    "msk_2_c4[msk_2_c4==True].count() # 62 personas (camino 4) grupo de control"
   ]
  },
  {
   "cell_type": "code",
   "execution_count": 260,
   "metadata": {},
   "outputs": [],
   "source": [
    "trs_veces_c4 = msk_2_c4[msk_2_c4==True].index.to_list()\n",
    "\n",
    "indices_trs_veces_c4 = []\n",
    "for ix,i in enumerate(df16['id']):\n",
    "    if i in trs_veces_c4:\n",
    "        indices_trs_veces_c4.append(ix)\n",
    "\n",
    "df16 = df16.iloc[indices_trs_veces_c4,:] # se crea el dataframe 15 (camino 4) con las personas de control."
   ]
  },
  {
   "cell_type": "code",
   "execution_count": 261,
   "metadata": {},
   "outputs": [],
   "source": [
    "df16= df16.rename(columns={\"control_cuatro\":\"control\"})"
   ]
  },
  {
   "cell_type": "code",
   "execution_count": 262,
   "metadata": {},
   "outputs": [],
   "source": [
    "df16['scar'] = int(0)\n",
    "#df7['scar'].isnull().sum()"
   ]
  },
  {
   "cell_type": "code",
   "execution_count": 263,
   "metadata": {},
   "outputs": [],
   "source": [
    "df16['camino'] = str(\"c_cuatro\")"
   ]
  },
  {
   "cell_type": "markdown",
   "metadata": {},
   "source": [
    "### Grupo control camino 5"
   ]
  },
  {
   "cell_type": "code",
   "execution_count": 264,
   "metadata": {},
   "outputs": [],
   "source": [
    "def controlf_cinco(df):\n",
    "    if (((df[\"Fecha\"]==\"2010-12-31\") and (df[\"clasif_lab\"]== 1)) or\n",
    "    ((df[\"Fecha\"]==\"2013-12-31\") and (df[\"clasif_lab\"]== 1) and (df[\"tiempo_empleo\"] < 36) and (df[\"desemp_ult3\"] != \"si\")) or \n",
    "    ((df[\"Fecha\"]==\"2016-12-31\") and (df[\"clasif_lab\"]== 2) and (df[\"desemp_ult3\"] != \"si\"))):\n",
    "        categoria=1      \n",
    "    elif (df[\"clasif_lab\"]== np.nan) or (df[\"desemp_ult3\"]== \"x\") or (df[\"tiempo_empleo\"]== np.nan):\n",
    "        categoria= \"x\"\n",
    "    else:\n",
    "        categoria=0\n",
    "    return(categoria)"
   ]
  },
  {
   "cell_type": "code",
   "execution_count": 265,
   "metadata": {},
   "outputs": [],
   "source": [
    "df7['control_cinco'] = df7.apply(controlf_cinco, axis = 1)"
   ]
  },
  {
   "cell_type": "code",
   "execution_count": 266,
   "metadata": {},
   "outputs": [
    {
     "data": {
      "text/plain": [
       "6005"
      ]
     },
     "execution_count": 266,
     "metadata": {},
     "output_type": "execute_result"
    }
   ],
   "source": [
    "msk_1_c5= df7[\"control_cinco\"] == 1\n",
    "msk_1_c5[msk_1_c5==True].count()\n"
   ]
  },
  {
   "cell_type": "code",
   "execution_count": 267,
   "metadata": {},
   "outputs": [
    {
     "data": {
      "text/plain": [
       "15"
      ]
     },
     "execution_count": 267,
     "metadata": {},
     "output_type": "execute_result"
    }
   ],
   "source": [
    "df17 = df7[msk_1_c5==True]\n",
    "msk_2_c5= df17[\"id\"].value_counts()==3\n",
    "msk_2_c5[msk_2_c5==True].count() # 15 personas (camino 5) grupo de control"
   ]
  },
  {
   "cell_type": "code",
   "execution_count": 268,
   "metadata": {},
   "outputs": [],
   "source": [
    "trs_veces_c5 = msk_2_c5[msk_2_c5==True].index.to_list()\n",
    "\n",
    "indices_trs_veces_c5 = []\n",
    "for ix,i in enumerate(df17['id']):\n",
    "    if i in trs_veces_c5:\n",
    "        indices_trs_veces_c5.append(ix)\n",
    "\n",
    "df17 = df17.iloc[indices_trs_veces_c5,:] # se crea el dataframe 17 (camino 5) con las personas de control."
   ]
  },
  {
   "cell_type": "code",
   "execution_count": 269,
   "metadata": {},
   "outputs": [],
   "source": [
    "df17= df17.rename(columns={\"control_cinco\":\"control\"})"
   ]
  },
  {
   "cell_type": "code",
   "execution_count": 270,
   "metadata": {},
   "outputs": [],
   "source": [
    "df17['scar'] = int(0)\n",
    "#df7['scar'].isnull().sum()"
   ]
  },
  {
   "cell_type": "code",
   "execution_count": 271,
   "metadata": {},
   "outputs": [],
   "source": [
    "df17['camino'] = str(\"c_cinco\")"
   ]
  },
  {
   "cell_type": "markdown",
   "metadata": {},
   "source": [
    "### Grupo control camino 6"
   ]
  },
  {
   "cell_type": "code",
   "execution_count": 272,
   "metadata": {},
   "outputs": [],
   "source": [
    "def controlf_seis(df):\n",
    "    if (((df[\"Fecha\"]==\"2010-12-31\") and (df[\"clasif_lab\"]== 1)) or\n",
    "    ((df[\"Fecha\"]==\"2013-12-31\") and (df[\"clasif_lab\"]== 1) and (df[\"tiempo_empleo\"] < 36) and (df[\"desemp_ult3\"] != \"si\")) or \n",
    "    ((df[\"Fecha\"]==\"2016-12-31\") and (df[\"clasif_lab\"]== 3) and (df[\"t_busco_trab_l\"] == \"Hace 3 años o más\") and (df[\"desemp_ult3\"] != \"si\")) or \n",
    "    ((df[\"Fecha\"]==\"2016-12-31\") and (df[\"clasif_lab\"]== 3) and (df[\"t_busco_trab_l\"] == \"Nunca ha buscado trabajo\") and (df[\"desemp_ult3\"] != \"si\"))):\n",
    "        categoria=1      \n",
    "    elif (df[\"clasif_lab\"]== np.nan) or (df[\"desemp_ult3\"]== \"x\") or (df[\"tiempo_empleo\"]== np.nan) or (df[\"t_busco_trab_l\"]== np.nan):\n",
    "        categoria= \"x\"\n",
    "    else:\n",
    "        categoria=0\n",
    "    return(categoria)"
   ]
  },
  {
   "cell_type": "code",
   "execution_count": 273,
   "metadata": {},
   "outputs": [],
   "source": [
    "df7['control_seis'] = df7.apply(controlf_seis, axis = 1)"
   ]
  },
  {
   "cell_type": "code",
   "execution_count": 274,
   "metadata": {},
   "outputs": [
    {
     "data": {
      "text/plain": [
       "7004"
      ]
     },
     "execution_count": 274,
     "metadata": {},
     "output_type": "execute_result"
    }
   ],
   "source": [
    "msk_1_c6= df7[\"control_seis\"] == 1\n",
    "msk_1_c6[msk_1_c6==True].count() #7004\n"
   ]
  },
  {
   "cell_type": "code",
   "execution_count": 275,
   "metadata": {},
   "outputs": [
    {
     "data": {
      "text/plain": [
       "72"
      ]
     },
     "execution_count": 275,
     "metadata": {},
     "output_type": "execute_result"
    }
   ],
   "source": [
    "df18 = df7[msk_1_c6==True]\n",
    "msk_2_c6= df18[\"id\"].value_counts()==3\n",
    "msk_2_c6[msk_2_c6==True].count() # 72 personas (camino 6) grupo de control"
   ]
  },
  {
   "cell_type": "code",
   "execution_count": 276,
   "metadata": {},
   "outputs": [],
   "source": [
    "trs_veces_c6 = msk_2_c6[msk_2_c6==True].index.to_list()\n",
    "\n",
    "indices_trs_veces_c6 = []\n",
    "for ix,i in enumerate(df18['id']):\n",
    "    if i in trs_veces_c6:\n",
    "        indices_trs_veces_c6.append(ix)\n",
    "\n",
    "df18 = df18.iloc[indices_trs_veces_c6,:] # se crea el dataframe 18 (camino 6) con las personas de control."
   ]
  },
  {
   "cell_type": "code",
   "execution_count": 277,
   "metadata": {},
   "outputs": [],
   "source": [
    "df18= df18.rename(columns={\"control_seis\":\"control\"})"
   ]
  },
  {
   "cell_type": "code",
   "execution_count": 278,
   "metadata": {},
   "outputs": [],
   "source": [
    "df18['scar'] = int(0)\n",
    "#df7['scar'].isnull().sum()"
   ]
  },
  {
   "cell_type": "code",
   "execution_count": 279,
   "metadata": {},
   "outputs": [],
   "source": [
    "df18['camino'] = str(\"c_seis\")"
   ]
  },
  {
   "cell_type": "code",
   "execution_count": 280,
   "metadata": {},
   "outputs": [],
   "source": [
    "#df7.to_csv('D:/maestria_ciencias_economicas_unal/tesis_scarring/base datos/ELCA_FINAL/PANEL_PET_REDUC.csv', sep = \";\")\n"
   ]
  },
  {
   "cell_type": "markdown",
   "metadata": {},
   "source": [
    "## tablas concatenadas"
   ]
  },
  {
   "cell_type": "code",
   "execution_count": 281,
   "metadata": {},
   "outputs": [],
   "source": [
    "framesp=[df8, df9, df10, df11, df12, df12a, df13, df14, df15, df16, df17, df18]"
   ]
  },
  {
   "cell_type": "code",
   "execution_count": 282,
   "metadata": {},
   "outputs": [],
   "source": [
    "dfprueba = pd.concat(framesp, axis = 0, join = 'outer', sort = False)"
   ]
  },
  {
   "cell_type": "code",
   "execution_count": 283,
   "metadata": {},
   "outputs": [],
   "source": [
    "# ###indexar por fecha e ID\n",
    "# id_index= [i[1] for i in dfprueba.index.to_list()]\n",
    "# dfprueba= dfprueba.set_index([\"Fecha\", pd.Index(id_index, name = \"ID\")])"
   ]
  },
  {
   "cell_type": "code",
   "execution_count": 284,
   "metadata": {
    "scrolled": true
   },
   "outputs": [
    {
     "data": {
      "text/plain": [
       "1229"
      ]
     },
     "execution_count": 284,
     "metadata": {},
     "output_type": "execute_result"
    }
   ],
   "source": [
    "#grupo tratamiento\n",
    "msk_1_p= dfprueba[\"scar\"] == 1\n",
    "msk_1_p[msk_1_p==True].count()\n",
    "dfp = dfprueba[msk_1_p==True]\n",
    "msk_2_p= dfp[\"id\"].value_counts()==3\n",
    "msk_2_p[msk_2_p==True].count() #1229"
   ]
  },
  {
   "cell_type": "code",
   "execution_count": 285,
   "metadata": {},
   "outputs": [
    {
     "data": {
      "text/plain": [
       "1098"
      ]
     },
     "execution_count": 285,
     "metadata": {},
     "output_type": "execute_result"
    }
   ],
   "source": [
    "#grupo control\n",
    "msk_1_c= dfprueba[\"control\"] == 1\n",
    "msk_1_c[msk_1_c==True].count()\n",
    "dfp = dfprueba[msk_1_c==True]\n",
    "msk_2_c= dfp[\"id\"].value_counts()==3\n",
    "msk_2_c[msk_2_c==True].count() # de 1630 se pasa a 1043 en grupo control, siendo estrictos. \n",
    "#corregido el camino 6 se pasa de 1043 a 1098, es decir 55 personas más."
   ]
  },
  {
   "cell_type": "code",
   "execution_count": 132,
   "metadata": {},
   "outputs": [],
   "source": [
    "# dfprueba = dfprueba.drop([\"scar_uno\",\"scar_dos\", \"scar_tres\", \"scar_cuatro\", \"scar_cinco\", \"scar_seis\", \n",
    "#                 \"control_uno\", \"control_dos\", \"control_tres\",\"control_cuatro\", \"control_cinco\", \"indicator_column\"], axis = 1)"
   ]
  },
  {
   "cell_type": "code",
   "execution_count": 133,
   "metadata": {},
   "outputs": [],
   "source": [
    "# dfprueba= dfprueba.drop(\"control_seis\", axis = 1)"
   ]
  },
  {
   "cell_type": "code",
   "execution_count": 153,
   "metadata": {},
   "outputs": [],
   "source": [
    "#se reescribe el dataframe dfprueba con el imputado.\n",
    "#dfprueba.to_csv('D:/maestria_ciencias_economicas_unal/tesis_scarring/base datos/ELCA_FINAL/PET_REDUC_Trat_ctrl.csv', sep = \";\")\n",
    "#se guarda el dataframe dfprueba original como PET_REDUC_Trat_ctrl_inicial, posteriormente se reescribe por el imputado. \n",
    "#dfprueba.to_csv('D:/maestria_ciencias_economicas_unal/tesis_scarring/base datos/ELCA_FINAL/PET_REDUC_Trat_ctrl_inicial.csv', sep = \";\""
   ]
  },
  {
   "cell_type": "code",
   "execution_count": 221,
   "metadata": {
    "scrolled": true
   },
   "outputs": [
    {
     "data": {
      "text/plain": [
       "['ola_l',\n",
       " 'hogar_l',\n",
       " 'hogar_n16_l',\n",
       " 'orden',\n",
       " 'seguimiento',\n",
       " 'encuestada_2013',\n",
       " 'region',\n",
       " 'RegionLb',\n",
       " 'region_2016',\n",
       " 'id_depto',\n",
       " 'id_mpio',\n",
       " 'id_mpioU',\n",
       " 'riqueza_pca',\n",
       " 'tercil2010',\n",
       " 'tercil2013',\n",
       " 'tercil2016',\n",
       " 'fhog',\n",
       " 'fhog_2010',\n",
       " 'fhog_2013',\n",
       " 'fhog_2016',\n",
       " 'fexhog',\n",
       " 'fexhog_2010',\n",
       " 'fexhog_2013',\n",
       " 'fpers',\n",
       " 'fpers_2010',\n",
       " 'fpers_2013',\n",
       " 'fpers_2016',\n",
       " 'fexpers',\n",
       " 'fexpers_2010',\n",
       " 'fexpers_2013',\n",
       " 't_hogares',\n",
       " 't_hogar',\n",
       " 't_personas',\n",
       " 'tipo_vivienda',\n",
       " 'material_pisos',\n",
       " 'material_paredes',\n",
       " 'sp_energia',\n",
       " 'sp_estrato',\n",
       " 'sp_gasnatural',\n",
       " 'sp_acueducto',\n",
       " 'sp_alcantarillado',\n",
       " 'sp_telefono',\n",
       " 'sp_recoleccion_basura',\n",
       " 'eliminan_basura',\n",
       " 'sexo',\n",
       " 'edad',\n",
       " 'edad_meses',\n",
       " 'parentesco',\n",
       " 'estado_civil',\n",
       " 'vive_conyuge',\n",
       " 'orden_conyuge',\n",
       " 'etnia',\n",
       " 'estrato',\n",
       " 'lee_escribe',\n",
       " 'estudia',\n",
       " 'nivel_educ',\n",
       " 'grado_educ',\n",
       " 'edad_dejoestudio',\n",
       " 'nivel_educ_cursa',\n",
       " 'grado_educ_cursa',\n",
       " 'anos_superior',\n",
       " 'estudiaba_2010',\n",
       " 'nivel_educ_2010',\n",
       " 'grado_educ_2010',\n",
       " 'anos_superior_2010',\n",
       " 'est_superiores',\n",
       " 'actividad_ppal',\n",
       " 'diligencias4',\n",
       " 'diligencias12',\n",
       " 'descripcion_ciiu',\n",
       " 'descrip_oficio',\n",
       " 'cod_oficio',\n",
       " 'edad_tenia',\n",
       " 'anos_trabaja',\n",
       " 'meses_trabaja',\n",
       " 'mes_inicio',\n",
       " 'ano_inicio',\n",
       " 'ocupacion',\n",
       " 'horas_normal',\n",
       " 'cod_oficio2',\n",
       " 'tipo_contrato',\n",
       " 'rec_otros_pago',\n",
       " 'vr_alimentos_pago',\n",
       " 'vr_vivienda_pago',\n",
       " 'vr_educ_pago',\n",
       " 'vr_subalimentacion',\n",
       " 'vr_subtransporte',\n",
       " 'vr_subfamiliar',\n",
       " 'vr_bonos',\n",
       " 'vr_ingmen_ase',\n",
       " 'vr_salario',\n",
       " 'vr_ganancia',\n",
       " 'meses_ganancia',\n",
       " 'rec_ninguno',\n",
       " 'pagos_adicion',\n",
       " 'ingresos',\n",
       " 'ganancia_neta',\n",
       " 'vr_salario_mes',\n",
       " 'recibio_ganancia',\n",
       " 'afiliacion',\n",
       " 'seg_medico',\n",
       " 'segsoc_salud',\n",
       " 'estaba_sss',\n",
       " 'beneficiario_sss',\n",
       " 'beneficiario_orden',\n",
       " 'cotiza_fp',\n",
       " 'estaba_fp',\n",
       " 'afiliacion_fp',\n",
       " 'vr_rec_pension',\n",
       " 'tam_empresa',\n",
       " 'n_empleados',\n",
       " 'registro_mercantil',\n",
       " 'vacaciones',\n",
       " 'prima_navidad',\n",
       " 'cesantias',\n",
       " 'ofertas_empleo',\n",
       " 'ofertas_emp12',\n",
       " 'ofertas_emp1',\n",
       " 'vr_salario_ofr',\n",
       " 'razon_noacepto',\n",
       " 'disponibilidad',\n",
       " 't_bustrab_a',\n",
       " 't_bustrab_m',\n",
       " 'medio_busco',\n",
       " 't_busco_trab_l',\n",
       " 't_dejo_trabajar',\n",
       " 'vr_rec_arriendos',\n",
       " 'vr_rec_dividendos',\n",
       " 'salario_insf',\n",
       " 'salario_nopresta',\n",
       " 'horario_nosirve',\n",
       " 'ubica_inadecuada',\n",
       " 'noapto_trabajo',\n",
       " 'razon_personal',\n",
       " 'edad_primert',\n",
       " 'anos_primert',\n",
       " 'horas_normal_pt',\n",
       " 'ocupacion_pt',\n",
       " 'es_ptrabajo',\n",
       " 't_trabajo_ult',\n",
       " 'trabajo_ult3',\n",
       " 'tiempo_trab',\n",
       " 'vr_recibia_pt',\n",
       " 'rango_ingreso',\n",
       " 'sss_pt',\n",
       " 'afiliado_fp_pt',\n",
       " 'cotizando',\n",
       " 'tamano_pt',\n",
       " 'desemp_ult3',\n",
       " 'tiempo_desemp',\n",
       " 'nocotiza_ult3',\n",
       " 'tiempo_ncotiza',\n",
       " 'primer_busca',\n",
       " 'clasif_lab',\n",
       " 'scar',\n",
       " 'scar_dos',\n",
       " 'scar_tres',\n",
       " 'scar_cuatro',\n",
       " 'scar_cinco',\n",
       " 'control_uno',\n",
       " 'control_dos',\n",
       " 'actividad_principal',\n",
       " 't_busco_trab_r',\n",
       " 'indicator_column',\n",
       " 'scar_seis',\n",
       " 'tiempo_desempleo',\n",
       " 'id',\n",
       " 'control_tres',\n",
       " 'control_cuatro',\n",
       " 'control_cinco',\n",
       " 'ano_encuesta',\n",
       " 'tiempo_empleo',\n",
       " 'control_seis',\n",
       " 'not_null_empl',\n",
       " 'rango_edad',\n",
       " 'control',\n",
       " 'camino',\n",
       " 'scar_uno']"
      ]
     },
     "execution_count": 221,
     "metadata": {},
     "output_type": "execute_result"
    }
   ],
   "source": [
    "dfprueba.columns.to_list()"
   ]
  },
  {
   "cell_type": "code",
   "execution_count": 224,
   "metadata": {},
   "outputs": [],
   "source": [
    "# dfprueba.index"
   ]
  },
  {
   "cell_type": "markdown",
   "metadata": {},
   "source": [
    "#### Tabla de salida"
   ]
  },
  {
   "cell_type": "code",
   "execution_count": 136,
   "metadata": {},
   "outputs": [],
   "source": [
    "#dfprueba= pd.read_csv('D:/maestria_ciencias_economicas_unal/tesis_scarring/base datos/ELCA_FINAL/PET_REDUC_Trat_ctrl.csv', sep = \";\", index_col=[0,1], low_memory=False)"
   ]
  },
  {
   "cell_type": "code",
   "execution_count": 139,
   "metadata": {
    "scrolled": true
   },
   "outputs": [
    {
     "data": {
      "text/html": [
       "\n",
       "        <iframe\n",
       "            width=\"100%\"\n",
       "            height=\"475\"\n",
       "            src=\"http://LAPTOP-32LNM716:40000/dtale/iframe/2\"\n",
       "            frameborder=\"0\"\n",
       "            allowfullscreen\n",
       "        ></iframe>\n",
       "        "
      ],
      "text/plain": [
       "<IPython.lib.display.IFrame at 0x27cf48da160>"
      ]
     },
     "metadata": {},
     "output_type": "display_data"
    },
    {
     "data": {
      "text/plain": []
     },
     "execution_count": 139,
     "metadata": {},
     "output_type": "execute_result"
    }
   ],
   "source": [
    "d = dtale.show(dfprueba, ignore_duplicate = True)\n",
    "d\n"
   ]
  },
  {
   "cell_type": "code",
   "execution_count": 135,
   "metadata": {},
   "outputs": [],
   "source": [
    "#df7.to_csv('D:/maestria_ciencias_economicas_unal/tesis_scarring/base datos/ELCA_FINAL/PANEL_PET_REDUC.csv', sep = \";\")"
   ]
  },
  {
   "cell_type": "code",
   "execution_count": 285,
   "metadata": {
    "scrolled": true
   },
   "outputs": [],
   "source": [
    "report = ProfileReport(df7, 'Resumen Estadísitco')\n",
    "report"
   ]
  }
 ],
 "metadata": {
  "kernelspec": {
   "display_name": "Python 3",
   "language": "python",
   "name": "python3"
  },
  "language_info": {
   "codemirror_mode": {
    "name": "ipython",
    "version": 3
   },
   "file_extension": ".py",
   "mimetype": "text/x-python",
   "name": "python",
   "nbconvert_exporter": "python",
   "pygments_lexer": "ipython3",
   "version": "3.8.3"
  }
 },
 "nbformat": 4,
 "nbformat_minor": 4
}
