{
 "cells": [
  {
   "cell_type": "code",
   "execution_count": 1,
   "metadata": {},
   "outputs": [],
   "source": [
    "import pandas as pd\n",
    "#pip install pandas --upgrade\n",
    "#pd.__version__\n",
    "import numpy as np\n",
    "#np.__version__\n",
    "# from pandas_profiling import ProfileReport\n",
    "import dtale\n",
    "#from sklearn.preprocessing import LabelEncoder,MinMaxScaler,StandardScaler"
   ]
  },
  {
   "cell_type": "code",
   "execution_count": 2,
   "metadata": {},
   "outputs": [],
   "source": [
    "# %run ./formateo_variables.ipynb\n",
    "# %run ./Tesis_estadarización_construcción_variables_2.ipynb\n",
    "%run ./bases_datos_tesis.ipynb"
   ]
  },
  {
   "cell_type": "markdown",
   "metadata": {},
   "source": [
    "#### EDAD"
   ]
  },
  {
   "cell_type": "code",
   "execution_count": 11,
   "metadata": {},
   "outputs": [],
   "source": [
    "#EDAD\n",
    "def re(df):\n",
    "    if (df[\"edad\"] < 19):\n",
    "        ed = \"< 19\"\n",
    "    elif ((df[\"edad\"] >= 19) and (df[\"edad\"] <= 25)):\n",
    "        ed = \"19-25\"\n",
    "    elif ((df[\"edad\"] > 25) and (df[\"edad\"] <= 35)):\n",
    "        ed = \"26-35\"\n",
    "    elif ((df[\"edad\"] > 35) and (df[\"edad\"] <= 45)):\n",
    "        ed = \"36-45\"\n",
    "    elif ((df[\"edad\"] > 45) and (df[\"edad\"] <= 55)):\n",
    "        ed = \"46-55\"\n",
    "    elif (df[\"edad\"] > 55):\n",
    "        ed = \"55+\"\n",
    "    else:\n",
    "        ed = np.nan\n",
    "    return(ed)"
   ]
  },
  {
   "cell_type": "code",
   "execution_count": 12,
   "metadata": {},
   "outputs": [],
   "source": [
    "df7[\"rango_edad\"] = df7.apply(re,axis = 1)"
   ]
  },
  {
   "cell_type": "code",
   "execution_count": 13,
   "metadata": {},
   "outputs": [],
   "source": [
    "dfprueba[\"rango_edad\"] = dfprueba.apply(re,axis = 1)"
   ]
  },
  {
   "cell_type": "code",
   "execution_count": 16,
   "metadata": {
    "scrolled": true
   },
   "outputs": [
    {
     "data": {
      "text/plain": [
       "6816"
      ]
     },
     "execution_count": 16,
     "metadata": {},
     "output_type": "execute_result"
    }
   ],
   "source": [
    "dfprueba[\"rango_edad\"].notna().sum()"
   ]
  },
  {
   "cell_type": "markdown",
   "metadata": {},
   "source": [
    "#### Experiencia"
   ]
  },
  {
   "cell_type": "code",
   "execution_count": 40,
   "metadata": {},
   "outputs": [],
   "source": [
    "#EDAD\n",
    "def exp(df):\n",
    "    if (df[\"exper\"] <= 1):\n",
    "        ex = \"<= 1\"\n",
    "    elif ((df[\"exper\"] > 1) and (df[\"exper\"] <= 3)):\n",
    "        ex = \">1-3\"\n",
    "    elif ((df[\"exper\"] > 3) and (df[\"exper\"] <= 5)):\n",
    "        ex = \">3-5\"\n",
    "    elif ((df[\"exper\"] > 5) and (df[\"exper\"] <= 7)):\n",
    "        ex = \">5-7\"\n",
    "    elif (df[\"exper\"] > 7 and (df[\"exper\"] <= 10)):\n",
    "        ex = \">7-10\"\n",
    "    elif (df[\"exper\"] > 10):\n",
    "        ex = \"10+\"\n",
    "    else:\n",
    "        ex = np.nan\n",
    "    return(ex)"
   ]
  },
  {
   "cell_type": "code",
   "execution_count": 41,
   "metadata": {},
   "outputs": [],
   "source": [
    "df8[\"rango_exper\"] = df8.apply(exp,axis = 1)"
   ]
  },
  {
   "cell_type": "code",
   "execution_count": 42,
   "metadata": {},
   "outputs": [],
   "source": [
    "dfgroups[\"rango_exper\"] = dfgroups.apply(exp,axis = 1)"
   ]
  },
  {
   "cell_type": "code",
   "execution_count": 43,
   "metadata": {},
   "outputs": [
    {
     "data": {
      "text/plain": [
       "<= 1     2951\n",
       ">1-3     1954\n",
       "10+       584\n",
       ">3-5      272\n",
       ">5-7      212\n",
       ">7-10     206\n",
       "Name: rango_exper, dtype: int64"
      ]
     },
     "execution_count": 43,
     "metadata": {},
     "output_type": "execute_result"
    }
   ],
   "source": [
    "dfgroups[\"rango_exper\"].value_counts()"
   ]
  },
  {
   "cell_type": "markdown",
   "metadata": {},
   "source": [
    "#### Tiempo de empleo recal trat y control "
   ]
  },
  {
   "cell_type": "code",
   "execution_count": 3,
   "metadata": {
    "scrolled": false
   },
   "outputs": [],
   "source": [
    "# d = dtale.show(df8, ignore_duplicate = True)\n",
    "# d"
   ]
  },
  {
   "cell_type": "code",
   "execution_count": 84,
   "metadata": {},
   "outputs": [
    {
     "data": {
      "text/html": [
       "\n",
       "        <iframe\n",
       "            width=\"100%\"\n",
       "            height=\"475\"\n",
       "            src=\"http://LAPTOP-32LNM716:40000/dtale/iframe/1\"\n",
       "            frameborder=\"0\"\n",
       "            allowfullscreen\n",
       "        ></iframe>\n",
       "        "
      ],
      "text/plain": [
       "<IPython.lib.display.IFrame at 0x201e03ddaf0>"
      ]
     },
     "metadata": {},
     "output_type": "display_data"
    },
    {
     "data": {
      "text/plain": []
     },
     "execution_count": 84,
     "metadata": {},
     "output_type": "execute_result"
    }
   ],
   "source": [
    "d = dtale.show(dfgroups, ignore_duplicate = True)\n",
    "d"
   ]
  },
  {
   "cell_type": "markdown",
   "metadata": {},
   "source": [
    "#### imputación"
   ]
  },
  {
   "cell_type": "code",
   "execution_count": 284,
   "metadata": {},
   "outputs": [],
   "source": [
    "#Se crean los subconjuntos de valores coherentes [a, i] y de incoherentes [j,r]\n",
    "a = dfprueba[(dfprueba[\"tiempo_empleo\"] > 0) & (dfprueba[\"tiempo_empleo\"] <= 36) & \n",
    "             (dfprueba[\"camino\"]==\"t_uno\") & (dfprueba[\"ano_encuesta\"]== 2016)]\n",
    "b = dfprueba[(dfprueba[\"tiempo_empleo\"] > 0) & (dfprueba[\"tiempo_empleo\"] <= 36) & \n",
    "             (dfprueba[\"camino\"]==\"t_dos\") & (dfprueba[\"ano_encuesta\"]== 2013)]\n",
    "c = dfprueba[(dfprueba[\"tiempo_empleo\"] > 0) & (dfprueba[\"tiempo_empleo\"] <= 36) & \n",
    "              (dfprueba[\"camino\"]==\"t_tres\") & (dfprueba[\"ano_encuesta\"]== 2016)]\n",
    "d = dfprueba[(dfprueba[\"tiempo_empleo\"] > 0) & (dfprueba[\"tiempo_empleo\"] <= 36) & \n",
    "              (dfprueba[\"camino\"]==\"t_cuatro\") & (dfprueba[\"ano_encuesta\"]== 2013)]\n",
    "e = dfprueba[(dfprueba[\"tiempo_empleo\"] > 0) & (dfprueba[\"tiempo_empleo\"] <= 36) & \n",
    "             (dfprueba[\"camino\"]==\"t_cinco\") & (dfprueba[\"ano_encuesta\"]== 2016)]\n",
    "f = dfprueba[(dfprueba[\"tiempo_empleo\"] > 0) & (dfprueba[\"tiempo_empleo\"] <= 36) & \n",
    "              (dfprueba[\"camino\"]==\"t_seis\") & (dfprueba[\"ano_encuesta\"]== 2016)]\n",
    "g = dfprueba[(dfprueba[\"tiempo_empleo\"] > 0) & (dfprueba[\"tiempo_empleo\"] <= 36) & \n",
    "              (dfprueba[\"camino\"]==\"c_dos\") & (dfprueba[\"ano_encuesta\"]== 2013)]\n",
    "h = dfprueba[(dfprueba[\"tiempo_empleo\"] > 0) & (dfprueba[\"tiempo_empleo\"] <= 36) & \n",
    "              (dfprueba[\"camino\"]==\"c_tres\") & (dfprueba[\"ano_encuesta\"]== 2013)]\n",
    "i = dfprueba[(dfprueba[\"tiempo_empleo\"] > 0) & (dfprueba[\"tiempo_empleo\"] <= 36) & \n",
    "              (dfprueba[\"camino\"]==\"c_cuatro\") & (dfprueba[\"ano_encuesta\"]== 2016)]\n",
    "j = dfprueba[(dfprueba[\"tiempo_empleo\"] > 36) & (dfprueba[\"camino\"]==\"t_uno\") & \n",
    "             (dfprueba[\"ano_encuesta\"]== 2016)]\n",
    "k = dfprueba[(dfprueba[\"tiempo_empleo\"] > 36) & (dfprueba[\"camino\"]==\"t_dos\") & \n",
    "             (dfprueba[\"ano_encuesta\"]== 2013)]\n",
    "l = dfprueba[(dfprueba[\"tiempo_empleo\"] > 36) & (dfprueba[\"camino\"]==\"t_tres\") & \n",
    "             (dfprueba[\"ano_encuesta\"]== 2016)]\n",
    "m = dfprueba[(dfprueba[\"tiempo_empleo\"] > 36) & (dfprueba[\"camino\"]==\"t_cuatro\") & \n",
    "             (dfprueba[\"ano_encuesta\"]== 2013)]\n",
    "n = dfprueba[(dfprueba[\"tiempo_empleo\"] > 36) & (dfprueba[\"camino\"]==\"t_cinco\") & \n",
    "             (dfprueba[\"ano_encuesta\"]== 2016)]\n",
    "o = dfprueba[(dfprueba[\"tiempo_empleo\"] > 36) & (dfprueba[\"camino\"]==\"t_seis\") & \n",
    "             (dfprueba[\"ano_encuesta\"]== 2016)]\n",
    "p = dfprueba[(dfprueba[\"tiempo_empleo\"] > 36) & (dfprueba[\"camino\"]==\"c_dos\") & \n",
    "             (dfprueba[\"ano_encuesta\"]== 2013)]\n",
    "q = dfprueba[(dfprueba[\"tiempo_empleo\"] > 36) & (dfprueba[\"camino\"]==\"c_tres\") & \n",
    "             (dfprueba[\"ano_encuesta\"]== 2013)]\n",
    "r = dfprueba[(dfprueba[\"tiempo_empleo\"] > 36) & (dfprueba[\"camino\"]==\"c_cuatro\") & \n",
    "             (dfprueba[\"ano_encuesta\"]== 2016)]"
   ]
  },
  {
   "cell_type": "code",
   "execution_count": 285,
   "metadata": {},
   "outputs": [],
   "source": [
    "# se calcula el promedio para los grupos [a, i]\n",
    "a1= np.mean(a[\"tiempo_empleo\"])\n",
    "b1= np.mean(b[\"tiempo_empleo\"]) \n",
    "c1= np.mean(c[\"tiempo_empleo\"])\n",
    "d1= np.mean(d[\"tiempo_empleo\"])\n",
    "e1= np.mean(e[\"tiempo_empleo\"])\n",
    "f1= np.mean(f[\"tiempo_empleo\"])\n",
    "g1= np.mean(g[\"tiempo_empleo\"])\n",
    "h1= np.mean(h[\"tiempo_empleo\"])\n",
    "i1= np.mean(i[\"tiempo_empleo\"])"
   ]
  },
  {
   "cell_type": "code",
   "execution_count": 286,
   "metadata": {},
   "outputs": [],
   "source": [
    "# aplico el promedio para los grupos [j,r]\n",
    "j.loc[:,\"tiempo_empleo\"] = a1\n",
    "k.loc[:,\"tiempo_empleo\"] = b1\n",
    "l.loc[:,\"tiempo_empleo\"] = c1\n",
    "m.loc[:,\"tiempo_empleo\"] = d1\n",
    "n.loc[:,\"tiempo_empleo\"] = e1\n",
    "o.loc[:,\"tiempo_empleo\"] = f1\n",
    "p.loc[:,\"tiempo_empleo\"] = g1\n",
    "q.loc[:,\"tiempo_empleo\"] = h1\n",
    "r.loc[:,\"tiempo_empleo\"] = i1"
   ]
  },
  {
   "cell_type": "code",
   "execution_count": 287,
   "metadata": {
    "scrolled": false
   },
   "outputs": [
    {
     "name": "stdout",
     "output_type": "stream",
     "text": [
      "(108, 179)\n",
      "(691, 179)\n",
      "(169, 179)\n",
      "(91, 179)\n",
      "(49, 179)\n",
      "(63, 179)\n",
      "(29, 179)\n",
      "(74, 179)\n",
      "(35, 179)\n"
     ]
    }
   ],
   "source": [
    "subconjunto1 = [a,b,c,d,e,f,g,h,i]\n",
    "for i in subconjunto1: ##imprime las dimensiones del conjunto coherente.\n",
    "    print(i.shape)"
   ]
  },
  {
   "cell_type": "code",
   "execution_count": 288,
   "metadata": {
    "scrolled": false
   },
   "outputs": [
    {
     "name": "stdout",
     "output_type": "stream",
     "text": [
      "(0, 179)\n",
      "(0, 179)\n",
      "(0, 179)\n",
      "(0, 179)\n",
      "(0, 179)\n",
      "(0, 179)\n",
      "(16, 179)\n",
      "(27, 179)\n",
      "(27, 179)\n"
     ]
    }
   ],
   "source": [
    "subconjunto22= [j, k, l, m, n, o, p, q, r]\n",
    "for i in subconjunto22: #imprime las dimensiones del conjunto incoherente, al cual se le imputó cada promedio del conjunto coherente\n",
    "    print(i.shape)"
   ]
  },
  {
   "cell_type": "code",
   "execution_count": 289,
   "metadata": {},
   "outputs": [
    {
     "name": "stdout",
     "output_type": "stream",
     "text": [
      "0\n",
      "0\n",
      "0\n",
      "0\n",
      "0\n",
      "0\n",
      "0\n",
      "0\n",
      "0\n"
     ]
    }
   ],
   "source": [
    "#lista de dataframe a imputar, subcojunto [q, r]\n",
    "for i in subconjunto22: #imprime los datos nulos del conjunto incoherente, al cual se le imputó cada promedio del conjunto coherente\n",
    "    print(i[\"tiempo_empleo\"].isnull().sum())"
   ]
  },
  {
   "cell_type": "code",
   "execution_count": 290,
   "metadata": {
    "scrolled": false
   },
   "outputs": [
    {
     "name": "stdout",
     "output_type": "stream",
     "text": [
      "[14.132352941176483, 13.284313725490215, 13.655172413793089, 13.327868852459012, 12.212121212121215, 13.590909090909095, 11.448275862068966, 7.986486486486487, 12.82857142857143]\n"
     ]
    }
   ],
   "source": [
    "#lista de escalares, promedios, de subcojunto [a, i]\n",
    "sub11= [a1, b1, c1, d1, e1, f1, g1, h1, i1]\n",
    "print(sub11)"
   ]
  },
  {
   "cell_type": "code",
   "execution_count": 291,
   "metadata": {},
   "outputs": [],
   "source": [
    "#imputación: inserción de subconjuntos imputados (corregidos) en la base original\n",
    "for i in subconjunto22:\n",
    "    dfprueba.update(i)"
   ]
  },
  {
   "cell_type": "code",
   "execution_count": 48,
   "metadata": {},
   "outputs": [
    {
     "name": "stdout",
     "output_type": "stream",
     "text": [
      "<class 'pandas.core.frame.DataFrame'>\n",
      "MultiIndex: 6816 entries, ('2010-12-31', 11112401) to ('2016-12-31', 21461302)\n",
      "Columns: 178 entries, ola_l to scar_uno\n",
      "dtypes: float64(73), object(105)\n",
      "memory usage: 9.4+ MB\n"
     ]
    }
   ],
   "source": [
    "dfprueba.info()"
   ]
  },
  {
   "cell_type": "code",
   "execution_count": 283,
   "metadata": {},
   "outputs": [
    {
     "data": {
      "text/plain": [
       "45.16409391771938"
      ]
     },
     "execution_count": 283,
     "metadata": {},
     "output_type": "execute_result"
    }
   ],
   "source": [
    "dfprueba[\"tiempo_empleo\"].mean()"
   ]
  },
  {
   "cell_type": "code",
   "execution_count": 292,
   "metadata": {},
   "outputs": [
    {
     "data": {
      "text/plain": [
       "43.76486734019864"
      ]
     },
     "execution_count": 292,
     "metadata": {},
     "output_type": "execute_result"
    }
   ],
   "source": [
    "dfprueba[\"tiempo_empleo\"].mean()"
   ]
  },
  {
   "cell_type": "code",
   "execution_count": 55,
   "metadata": {},
   "outputs": [],
   "source": [
    "# se guarda la base de datos imputada con otro nombre para no sobreescribir la base original.\n",
    "#dfprueba.to_csv('D:/maestria_ciencias_economicas_unal/tesis_scarring/base datos/ELCA_FINAL/PET_REDUC_Trat_ctrl_impu.csv', sep = \";\")"
   ]
  },
  {
   "cell_type": "markdown",
   "metadata": {},
   "source": [
    "### null"
   ]
  },
  {
   "cell_type": "code",
   "execution_count": 162,
   "metadata": {},
   "outputs": [],
   "source": [
    "#Se crean los subconjuntos de valores incoherentes [j,r]\n",
    "def nul(df):\n",
    "    if ((df[\"tiempo_empleo\"] > 36) & (df[\"camino\"]==\"t_uno\") & \n",
    "        (df[\"ano_encuesta\"]== 2016)):\n",
    "        nu= np.nan\n",
    "    elif ((df[\"tiempo_empleo\"] > 36) & (df[\"camino\"]==\"t_dos\") & \n",
    "          (df[\"ano_encuesta\"]== 2013)):\n",
    "        nu= np.nan\n",
    "    elif ((df[\"tiempo_empleo\"] > 36) & (df[\"camino\"]==\"t_tres\") & \n",
    "          (df[\"ano_encuesta\"]== 2016)):\n",
    "        nu= np.nan\n",
    "    elif ((df[\"tiempo_empleo\"] > 36) & (df[\"camino\"]== \"t_cuatro\") &\n",
    "          (df[\"ano_encuesta\"]== 2013)):\n",
    "        nu= np.nan    \n",
    "    elif ((df[\"tiempo_empleo\"] > 36) & (df[\"camino\"]==\"t_cinco\") &\n",
    "          (df[\"ano_encuesta\"]== 2016)):\n",
    "        nu= np.nan\n",
    "    elif ((df[\"tiempo_empleo\"] > 36) & (df[\"camino\"]==\"t_seis\") & \n",
    "          (df[\"ano_encuesta\"]== 2016)):\n",
    "        nu= np.nan\n",
    "    elif ((df[\"tiempo_empleo\"] > 36) & (df[\"camino\"]==\"c_dos\") & \n",
    "          (df[\"ano_encuesta\"]== 2013)):\n",
    "        nu= np.nan\n",
    "    elif ((df[\"tiempo_empleo\"] > 36) & (df[\"camino\"]==\"c_tres\") & \n",
    "          (df[\"ano_encuesta\"]== 2013)):\n",
    "        nu= np.nan\n",
    "    elif ((df[\"tiempo_empleo\"] > 36) & (df[\"camino\"]==\"c_cuatro\") & \n",
    "          (df[\"ano_encuesta\"]== 2016)):\n",
    "        nu= np.nan\n",
    "    elif ((df[\"tiempo_empleo\"] > 36) & ([\"camino\"]== \"t_cuatro\") & \n",
    "          (df[\"ano_encuesta\"]== 2013)):\n",
    "        nu= np.nan\n",
    "    elif ((df[\"tiempo_empleo\"] == np.nan) or (df[\"camino\"]== np.nan) or \n",
    "          (df[\"ano_encuesta\"]== np.nan)):\n",
    "        nu=np.nan\n",
    "    else:\n",
    "        nu= df[\"tiempo_empleo\"]\n",
    "    return(nu)"
   ]
  },
  {
   "cell_type": "code",
   "execution_count": 163,
   "metadata": {},
   "outputs": [],
   "source": [
    "dfprueba[\"tiempo_empleo\"] = dfprueba.apply(nul, axis = 1)"
   ]
  },
  {
   "cell_type": "code",
   "execution_count": 3,
   "metadata": {},
   "outputs": [
    {
     "data": {
      "text/plain": [
       "6070"
      ]
     },
     "execution_count": 3,
     "metadata": {},
     "output_type": "execute_result"
    }
   ],
   "source": [
    "dfprueba[\"tiempo_empleo\"].notnull().sum()"
   ]
  },
  {
   "cell_type": "code",
   "execution_count": 78,
   "metadata": {},
   "outputs": [
    {
     "data": {
      "text/plain": [
       "52.79406919275124"
      ]
     },
     "execution_count": 78,
     "metadata": {},
     "output_type": "execute_result"
    }
   ],
   "source": [
    "dfprueba[\"tiempo_empleo\"].mean()"
   ]
  },
  {
   "cell_type": "code",
   "execution_count": 163,
   "metadata": {},
   "outputs": [
    {
     "data": {
      "text/plain": [
       "43.09738307991555"
      ]
     },
     "execution_count": 163,
     "metadata": {},
     "output_type": "execute_result"
    }
   ],
   "source": [
    "dfprueba[\"tiempo_empleo\"].mean()"
   ]
  },
  {
   "cell_type": "markdown",
   "metadata": {},
   "source": [
    "#### Df7"
   ]
  },
  {
   "cell_type": "code",
   "execution_count": 295,
   "metadata": {
    "scrolled": true
   },
   "outputs": [
    {
     "data": {
      "text/html": [
       "<div>\n",
       "<style scoped>\n",
       "    .dataframe tbody tr th:only-of-type {\n",
       "        vertical-align: middle;\n",
       "    }\n",
       "\n",
       "    .dataframe tbody tr th {\n",
       "        vertical-align: top;\n",
       "    }\n",
       "\n",
       "    .dataframe thead tr th {\n",
       "        text-align: left;\n",
       "    }\n",
       "\n",
       "    .dataframe thead tr:last-of-type th {\n",
       "        text-align: right;\n",
       "    }\n",
       "</style>\n",
       "<table border=\"1\" class=\"dataframe\">\n",
       "  <thead>\n",
       "    <tr>\n",
       "      <th></th>\n",
       "      <th colspan=\"2\" halign=\"left\">count</th>\n",
       "      <th colspan=\"2\" halign=\"left\">mean</th>\n",
       "    </tr>\n",
       "    <tr>\n",
       "      <th>sexo</th>\n",
       "      <th>hombre</th>\n",
       "      <th>mujer</th>\n",
       "      <th>hombre</th>\n",
       "      <th>mujer</th>\n",
       "    </tr>\n",
       "    <tr>\n",
       "      <th>ano_encuesta</th>\n",
       "      <th></th>\n",
       "      <th></th>\n",
       "      <th></th>\n",
       "      <th></th>\n",
       "    </tr>\n",
       "  </thead>\n",
       "  <tbody>\n",
       "    <tr>\n",
       "      <th>2010</th>\n",
       "      <td>2108</td>\n",
       "      <td>1866</td>\n",
       "      <td>124.278937</td>\n",
       "      <td>88.366024</td>\n",
       "    </tr>\n",
       "    <tr>\n",
       "      <th>2013</th>\n",
       "      <td>2069</td>\n",
       "      <td>2022</td>\n",
       "      <td>68.251812</td>\n",
       "      <td>47.036103</td>\n",
       "    </tr>\n",
       "    <tr>\n",
       "      <th>2016</th>\n",
       "      <td>2034</td>\n",
       "      <td>2080</td>\n",
       "      <td>73.661750</td>\n",
       "      <td>52.805288</td>\n",
       "    </tr>\n",
       "  </tbody>\n",
       "</table>\n",
       "</div>"
      ],
      "text/plain": [
       "              count              mean           \n",
       "sexo         hombre mujer      hombre      mujer\n",
       "ano_encuesta                                    \n",
       "2010           2108  1866  124.278937  88.366024\n",
       "2013           2069  2022   68.251812  47.036103\n",
       "2016           2034  2080   73.661750  52.805288"
      ]
     },
     "execution_count": 295,
     "metadata": {},
     "output_type": "execute_result"
    }
   ],
   "source": [
    "df7.pivot_table(\"tiempo_empleo\", \"ano_encuesta\", \"sexo\", aggfunc =[\"count\", \"mean\"])"
   ]
  },
  {
   "cell_type": "code",
   "execution_count": 222,
   "metadata": {},
   "outputs": [
    {
     "data": {
      "text/html": [
       "<div>\n",
       "<style scoped>\n",
       "    .dataframe tbody tr th:only-of-type {\n",
       "        vertical-align: middle;\n",
       "    }\n",
       "\n",
       "    .dataframe tbody tr th {\n",
       "        vertical-align: top;\n",
       "    }\n",
       "\n",
       "    .dataframe thead tr th {\n",
       "        text-align: left;\n",
       "    }\n",
       "\n",
       "    .dataframe thead tr:last-of-type th {\n",
       "        text-align: right;\n",
       "    }\n",
       "</style>\n",
       "<table border=\"1\" class=\"dataframe\">\n",
       "  <thead>\n",
       "    <tr>\n",
       "      <th></th>\n",
       "      <th colspan=\"2\" halign=\"left\">count</th>\n",
       "      <th colspan=\"2\" halign=\"left\">mean</th>\n",
       "    </tr>\n",
       "    <tr>\n",
       "      <th>sexo</th>\n",
       "      <th>hombre</th>\n",
       "      <th>mujer</th>\n",
       "      <th>hombre</th>\n",
       "      <th>mujer</th>\n",
       "    </tr>\n",
       "    <tr>\n",
       "      <th>ano_encuesta</th>\n",
       "      <th></th>\n",
       "      <th></th>\n",
       "      <th></th>\n",
       "      <th></th>\n",
       "    </tr>\n",
       "  </thead>\n",
       "  <tbody>\n",
       "    <tr>\n",
       "      <th>2010.0</th>\n",
       "      <td>2108</td>\n",
       "      <td>1866</td>\n",
       "      <td>124.278937</td>\n",
       "      <td>88.366024</td>\n",
       "    </tr>\n",
       "    <tr>\n",
       "      <th>2013.0</th>\n",
       "      <td>2069</td>\n",
       "      <td>2022</td>\n",
       "      <td>54.045803</td>\n",
       "      <td>40.843886</td>\n",
       "    </tr>\n",
       "    <tr>\n",
       "      <th>2016.0</th>\n",
       "      <td>2034</td>\n",
       "      <td>2080</td>\n",
       "      <td>69.519884</td>\n",
       "      <td>48.708446</td>\n",
       "    </tr>\n",
       "  </tbody>\n",
       "</table>\n",
       "</div>"
      ],
      "text/plain": [
       "              count              mean           \n",
       "sexo         hombre mujer      hombre      mujer\n",
       "ano_encuesta                                    \n",
       "2010.0         2108  1866  124.278937  88.366024\n",
       "2013.0         2069  2022   54.045803  40.843886\n",
       "2016.0         2034  2080   69.519884  48.708446"
      ]
     },
     "execution_count": 222,
     "metadata": {},
     "output_type": "execute_result"
    }
   ],
   "source": [
    "df7.pivot_table(\"tiempo_empleo\", \"ano_encuesta\", \"sexo\", aggfunc =[\"count\", \"mean\"])"
   ]
  },
  {
   "cell_type": "code",
   "execution_count": 203,
   "metadata": {},
   "outputs": [],
   "source": [
    "# indexar por fecha e ID para que cargue update\n",
    "# el df7 tenía solo el índice \"id\" por lo que no hacía el update con el dfprueba.\n",
    "# por tanto se reeindexa con el comando .set_index que acepta multiindex en forma de variable y de indice. \n",
    "# entonces se extrae el indice del df7 \"id\" en una lista y se coloca la variable la variable \"Fecha\"\n",
    "#id_index_1= [i[1] for i in df7.index.to_list()]\n",
    "df7.set_index([\"Fecha\", pd.Index(id_index_1, name = [\"fecha\", \"ID\"])])\n"
   ]
  },
  {
   "cell_type": "code",
   "execution_count": 241,
   "metadata": {},
   "outputs": [],
   "source": [
    "#renombrar el indice y pasarlo como una variable\n",
    "df7.rename_axis(index={'Fecha': 'fecha'}, inplace = True)"
   ]
  },
  {
   "cell_type": "code",
   "execution_count": 246,
   "metadata": {},
   "outputs": [],
   "source": [
    "#crear variable Fecha para que corra el flujo de identificación\n",
    "df7['Fecha']=[i[0] for i in df7.index.to_list()]"
   ]
  },
  {
   "cell_type": "code",
   "execution_count": 297,
   "metadata": {},
   "outputs": [],
   "source": [
    "df7.update(dfprueba)"
   ]
  },
  {
   "cell_type": "markdown",
   "metadata": {},
   "source": [
    "#### Simulación"
   ]
  },
  {
   "cell_type": "code",
   "execution_count": 99,
   "metadata": {
    "scrolled": true
   },
   "outputs": [
    {
     "data": {
      "text/html": [
       "<div>\n",
       "<style scoped>\n",
       "    .dataframe tbody tr th:only-of-type {\n",
       "        vertical-align: middle;\n",
       "    }\n",
       "\n",
       "    .dataframe tbody tr th {\n",
       "        vertical-align: top;\n",
       "    }\n",
       "\n",
       "    .dataframe thead th {\n",
       "        text-align: right;\n",
       "    }\n",
       "</style>\n",
       "<table border=\"1\" class=\"dataframe\">\n",
       "  <thead>\n",
       "    <tr style=\"text-align: right;\">\n",
       "      <th></th>\n",
       "      <th></th>\n",
       "      <th>ID</th>\n",
       "      <th>Fecha</th>\n",
       "      <th>clasif_lab</th>\n",
       "      <th>tiempo_empleo</th>\n",
       "      <th>rango_edad</th>\n",
       "    </tr>\n",
       "    <tr>\n",
       "      <th>fecha</th>\n",
       "      <th>persona</th>\n",
       "      <th></th>\n",
       "      <th></th>\n",
       "      <th></th>\n",
       "      <th></th>\n",
       "      <th></th>\n",
       "    </tr>\n",
       "  </thead>\n",
       "  <tbody>\n",
       "    <tr>\n",
       "      <th>2010-12-31</th>\n",
       "      <th>11</th>\n",
       "      <td>11</td>\n",
       "      <td>2010-12-31</td>\n",
       "      <td>1</td>\n",
       "      <td>46.5</td>\n",
       "      <td>1</td>\n",
       "    </tr>\n",
       "    <tr>\n",
       "      <th>2013-12-31</th>\n",
       "      <th>11</th>\n",
       "      <td>11</td>\n",
       "      <td>2013-12-31</td>\n",
       "      <td>2</td>\n",
       "      <td>25.6</td>\n",
       "      <td>2</td>\n",
       "    </tr>\n",
       "    <tr>\n",
       "      <th>2016-12-31</th>\n",
       "      <th>11</th>\n",
       "      <td>11</td>\n",
       "      <td>2016-12-31</td>\n",
       "      <td>1</td>\n",
       "      <td>24.0</td>\n",
       "      <td>3</td>\n",
       "    </tr>\n",
       "    <tr>\n",
       "      <th>2010-12-31</th>\n",
       "      <th>12</th>\n",
       "      <td>12</td>\n",
       "      <td>2010-12-31</td>\n",
       "      <td>1</td>\n",
       "      <td>5.0</td>\n",
       "      <td>4</td>\n",
       "    </tr>\n",
       "    <tr>\n",
       "      <th>2013-12-31</th>\n",
       "      <th>12</th>\n",
       "      <td>12</td>\n",
       "      <td>2013-12-31</td>\n",
       "      <td>1</td>\n",
       "      <td>4.0</td>\n",
       "      <td>1</td>\n",
       "    </tr>\n",
       "    <tr>\n",
       "      <th>2016-12-31</th>\n",
       "      <th>12</th>\n",
       "      <td>12</td>\n",
       "      <td>2016-12-31</td>\n",
       "      <td>3</td>\n",
       "      <td>3.0</td>\n",
       "      <td>2</td>\n",
       "    </tr>\n",
       "    <tr>\n",
       "      <th>2010-12-31</th>\n",
       "      <th>13</th>\n",
       "      <td>13</td>\n",
       "      <td>2010-12-31</td>\n",
       "      <td>1</td>\n",
       "      <td>2.0</td>\n",
       "      <td>3</td>\n",
       "    </tr>\n",
       "    <tr>\n",
       "      <th>2013-12-31</th>\n",
       "      <th>13</th>\n",
       "      <td>13</td>\n",
       "      <td>2013-12-31</td>\n",
       "      <td>2</td>\n",
       "      <td>10.0</td>\n",
       "      <td>4</td>\n",
       "    </tr>\n",
       "    <tr>\n",
       "      <th>2016-12-31</th>\n",
       "      <th>13</th>\n",
       "      <td>13</td>\n",
       "      <td>2016-12-31</td>\n",
       "      <td>1</td>\n",
       "      <td>9.0</td>\n",
       "      <td>3</td>\n",
       "    </tr>\n",
       "    <tr>\n",
       "      <th>2010-12-31</th>\n",
       "      <th>14</th>\n",
       "      <td>14</td>\n",
       "      <td>2010-12-31</td>\n",
       "      <td>1</td>\n",
       "      <td>NaN</td>\n",
       "      <td>None</td>\n",
       "    </tr>\n",
       "    <tr>\n",
       "      <th>2013-12-31</th>\n",
       "      <th>14</th>\n",
       "      <td>14</td>\n",
       "      <td>2013-12-31</td>\n",
       "      <td>1</td>\n",
       "      <td>NaN</td>\n",
       "      <td>None</td>\n",
       "    </tr>\n",
       "    <tr>\n",
       "      <th>2016-12-31</th>\n",
       "      <th>14</th>\n",
       "      <td>14</td>\n",
       "      <td>2016-12-31</td>\n",
       "      <td>1</td>\n",
       "      <td>NaN</td>\n",
       "      <td>None</td>\n",
       "    </tr>\n",
       "    <tr>\n",
       "      <th>2010-12-31</th>\n",
       "      <th>15</th>\n",
       "      <td>15</td>\n",
       "      <td>2010-12-31</td>\n",
       "      <td>x</td>\n",
       "      <td>NaN</td>\n",
       "      <td>1</td>\n",
       "    </tr>\n",
       "    <tr>\n",
       "      <th>2013-12-31</th>\n",
       "      <th>15</th>\n",
       "      <td>15</td>\n",
       "      <td>2013-12-31</td>\n",
       "      <td>x</td>\n",
       "      <td>15.0</td>\n",
       "      <td>2</td>\n",
       "    </tr>\n",
       "    <tr>\n",
       "      <th>2016-12-31</th>\n",
       "      <th>15</th>\n",
       "      <td>15</td>\n",
       "      <td>2016-12-31</td>\n",
       "      <td>x</td>\n",
       "      <td>20.0</td>\n",
       "      <td>3</td>\n",
       "    </tr>\n",
       "  </tbody>\n",
       "</table>\n",
       "</div>"
      ],
      "text/plain": [
       "                    ID       Fecha clasif_lab  tiempo_empleo rango_edad\n",
       "fecha      persona                                                     \n",
       "2010-12-31 11       11  2010-12-31          1           46.5          1\n",
       "2013-12-31 11       11  2013-12-31          2           25.6          2\n",
       "2016-12-31 11       11  2016-12-31          1           24.0          3\n",
       "2010-12-31 12       12  2010-12-31          1            5.0          4\n",
       "2013-12-31 12       12  2013-12-31          1            4.0          1\n",
       "2016-12-31 12       12  2016-12-31          3            3.0          2\n",
       "2010-12-31 13       13  2010-12-31          1            2.0          3\n",
       "2013-12-31 13       13  2013-12-31          2           10.0          4\n",
       "2016-12-31 13       13  2016-12-31          1            9.0          3\n",
       "2010-12-31 14       14  2010-12-31          1            NaN       None\n",
       "2013-12-31 14       14  2013-12-31          1            NaN       None\n",
       "2016-12-31 14       14  2016-12-31          1            NaN       None\n",
       "2010-12-31 15       15  2010-12-31          x            NaN          1\n",
       "2013-12-31 15       15  2013-12-31          x           15.0          2\n",
       "2016-12-31 15       15  2016-12-31          x           20.0          3"
      ]
     },
     "execution_count": 99,
     "metadata": {},
     "output_type": "execute_result"
    }
   ],
   "source": [
    "arrays = [np.array([\"2010-12-31\", \"2013-12-31\", \"2016-12-31\", \"2010-12-31\", \n",
    "                    \"2013-12-31\", \"2016-12-31\", \"2010-12-31\", \"2013-12-31\", \"2016-12-31\", \n",
    "                    \"2010-12-31\", \"2013-12-31\", \"2016-12-31\", \"2010-12-31\", \"2013-12-31\", \n",
    "                    \"2016-12-31\"]),\n",
    "np.array([11, 11, 11, 12, 12, 12, 13, 13, 13, 14, 14, 14, 15, 15, 15])]\n",
    "index = pd.MultiIndex.from_arrays(arrays, names=[\"fecha\", \"persona\"])\n",
    "simul = pd.DataFrame({\"ID\":[11, 11, 11, 12, 12, 12, 13, 13, 13, 14, 14, 14, 15, 15, 15],\n",
    "                      \"Fecha\": [\"2010-12-31\", \"2013-12-31\", \"2016-12-31\", \"2010-12-31\", \n",
    "                                \"2013-12-31\", \"2016-12-31\", \"2010-12-31\", \"2013-12-31\", \n",
    "                                \"2016-12-31\", \"2010-12-31\", \"2013-12-31\", \"2016-12-31\",\n",
    "                                \"2010-12-31\", \"2013-12-31\", \"2016-12-31\"],\n",
    "                      \"clasif_lab\": [1, 2, 1, 1, 1, 3, 1, 2, 1, 1, 1, 1, \"x\", \"x\", \"x\"],\n",
    "                     \"tiempo_empleo\": [46.5,25.6,24,5,4,3,2,10,9,None,None, None,None,15,20],\n",
    "                     \"rango_edad\": [\"1\",\"2\",\"3\",\"4\",\"1\",\"2\",\"3\",\"4\",\"3\",None,None, None,\"1\",\"2\",\"3\"]}, index= index)\n",
    "\n",
    "simul.head(16)"
   ]
  },
  {
   "cell_type": "code",
   "execution_count": 117,
   "metadata": {
    "scrolled": true
   },
   "outputs": [
    {
     "data": {
      "text/html": [
       "<div>\n",
       "<style scoped>\n",
       "    .dataframe tbody tr th:only-of-type {\n",
       "        vertical-align: middle;\n",
       "    }\n",
       "\n",
       "    .dataframe tbody tr th {\n",
       "        vertical-align: top;\n",
       "    }\n",
       "\n",
       "    .dataframe thead th {\n",
       "        text-align: right;\n",
       "    }\n",
       "</style>\n",
       "<table border=\"1\" class=\"dataframe\">\n",
       "  <thead>\n",
       "    <tr style=\"text-align: right;\">\n",
       "      <th></th>\n",
       "      <th></th>\n",
       "      <th>ID</th>\n",
       "      <th>Fecha</th>\n",
       "      <th>clasif_lab</th>\n",
       "      <th>tiempo_empleo</th>\n",
       "      <th>tcamino</th>\n",
       "    </tr>\n",
       "    <tr>\n",
       "      <th>fecha</th>\n",
       "      <th>persona</th>\n",
       "      <th></th>\n",
       "      <th></th>\n",
       "      <th></th>\n",
       "      <th></th>\n",
       "      <th></th>\n",
       "    </tr>\n",
       "  </thead>\n",
       "  <tbody>\n",
       "    <tr>\n",
       "      <th>2010-12-31</th>\n",
       "      <th>13</th>\n",
       "      <td>13</td>\n",
       "      <td>2010-12-31</td>\n",
       "      <td>1</td>\n",
       "      <td>19.0</td>\n",
       "      <td>t_uno</td>\n",
       "    </tr>\n",
       "    <tr>\n",
       "      <th>2013-12-31</th>\n",
       "      <th>13</th>\n",
       "      <td>13</td>\n",
       "      <td>2013-12-31</td>\n",
       "      <td>2</td>\n",
       "      <td>2.0</td>\n",
       "      <td>t_uno</td>\n",
       "    </tr>\n",
       "    <tr>\n",
       "      <th>2016-12-31</th>\n",
       "      <th>13</th>\n",
       "      <td>13</td>\n",
       "      <td>2016-12-31</td>\n",
       "      <td>1</td>\n",
       "      <td>9.0</td>\n",
       "      <td>t_uno</td>\n",
       "    </tr>\n",
       "    <tr>\n",
       "      <th>2010-12-31</th>\n",
       "      <th>14</th>\n",
       "      <td>14</td>\n",
       "      <td>2010-12-31</td>\n",
       "      <td>1</td>\n",
       "      <td>46.5</td>\n",
       "      <td>c_uno</td>\n",
       "    </tr>\n",
       "    <tr>\n",
       "      <th>2013-12-31</th>\n",
       "      <th>14</th>\n",
       "      <td>14</td>\n",
       "      <td>2013-12-31</td>\n",
       "      <td>1</td>\n",
       "      <td>25.6</td>\n",
       "      <td>c_uno</td>\n",
       "    </tr>\n",
       "    <tr>\n",
       "      <th>2016-12-31</th>\n",
       "      <th>14</th>\n",
       "      <td>14</td>\n",
       "      <td>2016-12-31</td>\n",
       "      <td>1</td>\n",
       "      <td>24.0</td>\n",
       "      <td>c_uno</td>\n",
       "    </tr>\n",
       "    <tr>\n",
       "      <th>2010-12-31</th>\n",
       "      <th>15</th>\n",
       "      <td>15</td>\n",
       "      <td>2010-12-31</td>\n",
       "      <td>x</td>\n",
       "      <td>5.0</td>\n",
       "      <td>c_cuatro</td>\n",
       "    </tr>\n",
       "    <tr>\n",
       "      <th>2013-12-31</th>\n",
       "      <th>15</th>\n",
       "      <td>15</td>\n",
       "      <td>2013-12-31</td>\n",
       "      <td>x</td>\n",
       "      <td>4.0</td>\n",
       "      <td>c_cuatro</td>\n",
       "    </tr>\n",
       "    <tr>\n",
       "      <th>2016-12-31</th>\n",
       "      <th>15</th>\n",
       "      <td>15</td>\n",
       "      <td>2016-12-31</td>\n",
       "      <td>x</td>\n",
       "      <td>3.0</td>\n",
       "      <td>c_cuatro</td>\n",
       "    </tr>\n",
       "  </tbody>\n",
       "</table>\n",
       "</div>"
      ],
      "text/plain": [
       "                    ID       Fecha clasif_lab  tiempo_empleo   tcamino\n",
       "fecha      persona                                                    \n",
       "2010-12-31 13       13  2010-12-31          1           19.0     t_uno\n",
       "2013-12-31 13       13  2013-12-31          2            2.0     t_uno\n",
       "2016-12-31 13       13  2016-12-31          1            9.0     t_uno\n",
       "2010-12-31 14       14  2010-12-31          1           46.5     c_uno\n",
       "2013-12-31 14       14  2013-12-31          1           25.6     c_uno\n",
       "2016-12-31 14       14  2016-12-31          1           24.0     c_uno\n",
       "2010-12-31 15       15  2010-12-31          x            5.0  c_cuatro\n",
       "2013-12-31 15       15  2013-12-31          x            4.0  c_cuatro\n",
       "2016-12-31 15       15  2016-12-31          x            3.0  c_cuatro"
      ]
     },
     "execution_count": 117,
     "metadata": {},
     "output_type": "execute_result"
    }
   ],
   "source": [
    "arrays = [np.array([\"2010-12-31\", \"2013-12-31\", \"2016-12-31\", \n",
    "                    \"2010-12-31\", \"2013-12-31\", \"2016-12-31\", \"2010-12-31\", \"2013-12-31\", \n",
    "                    \"2016-12-31\"]),\n",
    "np.array([13, 13, 13, 14, 14, 14, 15, 15, 15])]\n",
    "index = pd.MultiIndex.from_arrays(arrays, names=[\"fecha\", \"persona\"])\n",
    "simul_2 = pd.DataFrame({\"ID\":[13, 13, 13, 14, 14, 14, 15, 15, 15],\n",
    "                      \"Fecha\": [\"2010-12-31\", \"2013-12-31\", \n",
    "                                \"2016-12-31\", \"2010-12-31\", \"2013-12-31\", \"2016-12-31\",\n",
    "                                \"2010-12-31\", \"2013-12-31\", \"2016-12-31\"],\n",
    "                        \"clasif_lab\": [1, 2, 1, 1, 1, 1, \"x\", \"x\", \"x\"],\n",
    "                       \"tiempo_empleo\": [19,2,9,46.5,25.6,24,5,4,3],\n",
    "                       \"tcamino\": [\"t_uno\",\"t_uno\",\"t_uno\", \"c_uno\",\"c_uno\",\"c_uno\",\"c_cuatro\",\"c_cuatro\",\"c_cuatro\"]}, index= index)\n",
    "simul_2"
   ]
  },
  {
   "cell_type": "code",
   "execution_count": 228,
   "metadata": {},
   "outputs": [],
   "source": [
    "simul.update(simul_2)\n",
    "#simul"
   ]
  },
  {
   "cell_type": "code",
   "execution_count": 120,
   "metadata": {},
   "outputs": [
    {
     "data": {
      "text/html": [
       "<div>\n",
       "<style scoped>\n",
       "    .dataframe tbody tr th:only-of-type {\n",
       "        vertical-align: middle;\n",
       "    }\n",
       "\n",
       "    .dataframe tbody tr th {\n",
       "        vertical-align: top;\n",
       "    }\n",
       "\n",
       "    .dataframe thead th {\n",
       "        text-align: right;\n",
       "    }\n",
       "</style>\n",
       "<table border=\"1\" class=\"dataframe\">\n",
       "  <thead>\n",
       "    <tr style=\"text-align: right;\">\n",
       "      <th></th>\n",
       "      <th></th>\n",
       "      <th>ID</th>\n",
       "      <th>Fecha</th>\n",
       "      <th>clasif_lab</th>\n",
       "      <th>tiempo_empleo</th>\n",
       "      <th>rango_edad</th>\n",
       "      <th>Fecha1</th>\n",
       "    </tr>\n",
       "    <tr>\n",
       "      <th>fecha</th>\n",
       "      <th>persona</th>\n",
       "      <th></th>\n",
       "      <th></th>\n",
       "      <th></th>\n",
       "      <th></th>\n",
       "      <th></th>\n",
       "      <th></th>\n",
       "    </tr>\n",
       "  </thead>\n",
       "  <tbody>\n",
       "    <tr>\n",
       "      <th>2010-12-31</th>\n",
       "      <th>11</th>\n",
       "      <td>11</td>\n",
       "      <td>0</td>\n",
       "      <td>1</td>\n",
       "      <td>46.5</td>\n",
       "      <td>1</td>\n",
       "      <td>0</td>\n",
       "    </tr>\n",
       "    <tr>\n",
       "      <th>2013-12-31</th>\n",
       "      <th>11</th>\n",
       "      <td>11</td>\n",
       "      <td>1</td>\n",
       "      <td>2</td>\n",
       "      <td>25.6</td>\n",
       "      <td>2</td>\n",
       "      <td>1</td>\n",
       "    </tr>\n",
       "    <tr>\n",
       "      <th>2016-12-31</th>\n",
       "      <th>11</th>\n",
       "      <td>11</td>\n",
       "      <td>2</td>\n",
       "      <td>1</td>\n",
       "      <td>24.0</td>\n",
       "      <td>3</td>\n",
       "      <td>2</td>\n",
       "    </tr>\n",
       "    <tr>\n",
       "      <th>2010-12-31</th>\n",
       "      <th>12</th>\n",
       "      <td>12</td>\n",
       "      <td>0</td>\n",
       "      <td>1</td>\n",
       "      <td>5.0</td>\n",
       "      <td>4</td>\n",
       "      <td>0</td>\n",
       "    </tr>\n",
       "    <tr>\n",
       "      <th>2013-12-31</th>\n",
       "      <th>12</th>\n",
       "      <td>12</td>\n",
       "      <td>1</td>\n",
       "      <td>1</td>\n",
       "      <td>4.0</td>\n",
       "      <td>1</td>\n",
       "      <td>1</td>\n",
       "    </tr>\n",
       "    <tr>\n",
       "      <th>2016-12-31</th>\n",
       "      <th>12</th>\n",
       "      <td>12</td>\n",
       "      <td>2</td>\n",
       "      <td>3</td>\n",
       "      <td>3.0</td>\n",
       "      <td>2</td>\n",
       "      <td>2</td>\n",
       "    </tr>\n",
       "    <tr>\n",
       "      <th>2010-12-31</th>\n",
       "      <th>13</th>\n",
       "      <td>13</td>\n",
       "      <td>0</td>\n",
       "      <td>1</td>\n",
       "      <td>2.0</td>\n",
       "      <td>3</td>\n",
       "      <td>0</td>\n",
       "    </tr>\n",
       "    <tr>\n",
       "      <th>2013-12-31</th>\n",
       "      <th>13</th>\n",
       "      <td>13</td>\n",
       "      <td>1</td>\n",
       "      <td>2</td>\n",
       "      <td>10.0</td>\n",
       "      <td>4</td>\n",
       "      <td>1</td>\n",
       "    </tr>\n",
       "    <tr>\n",
       "      <th>2016-12-31</th>\n",
       "      <th>13</th>\n",
       "      <td>13</td>\n",
       "      <td>2</td>\n",
       "      <td>1</td>\n",
       "      <td>9.0</td>\n",
       "      <td>3</td>\n",
       "      <td>2</td>\n",
       "    </tr>\n",
       "    <tr>\n",
       "      <th>2010-12-31</th>\n",
       "      <th>14</th>\n",
       "      <td>14</td>\n",
       "      <td>0</td>\n",
       "      <td>1</td>\n",
       "      <td>NaN</td>\n",
       "      <td>None</td>\n",
       "      <td>0</td>\n",
       "    </tr>\n",
       "    <tr>\n",
       "      <th>2013-12-31</th>\n",
       "      <th>14</th>\n",
       "      <td>14</td>\n",
       "      <td>1</td>\n",
       "      <td>1</td>\n",
       "      <td>NaN</td>\n",
       "      <td>None</td>\n",
       "      <td>1</td>\n",
       "    </tr>\n",
       "    <tr>\n",
       "      <th>2016-12-31</th>\n",
       "      <th>14</th>\n",
       "      <td>14</td>\n",
       "      <td>2</td>\n",
       "      <td>1</td>\n",
       "      <td>NaN</td>\n",
       "      <td>None</td>\n",
       "      <td>2</td>\n",
       "    </tr>\n",
       "    <tr>\n",
       "      <th>2010-12-31</th>\n",
       "      <th>15</th>\n",
       "      <td>15</td>\n",
       "      <td>0</td>\n",
       "      <td>x</td>\n",
       "      <td>NaN</td>\n",
       "      <td>1</td>\n",
       "      <td>0</td>\n",
       "    </tr>\n",
       "    <tr>\n",
       "      <th>2013-12-31</th>\n",
       "      <th>15</th>\n",
       "      <td>15</td>\n",
       "      <td>1</td>\n",
       "      <td>x</td>\n",
       "      <td>15.0</td>\n",
       "      <td>2</td>\n",
       "      <td>1</td>\n",
       "    </tr>\n",
       "    <tr>\n",
       "      <th>2016-12-31</th>\n",
       "      <th>15</th>\n",
       "      <td>15</td>\n",
       "      <td>2</td>\n",
       "      <td>x</td>\n",
       "      <td>20.0</td>\n",
       "      <td>3</td>\n",
       "      <td>2</td>\n",
       "    </tr>\n",
       "  </tbody>\n",
       "</table>\n",
       "</div>"
      ],
      "text/plain": [
       "                    ID  Fecha clasif_lab  tiempo_empleo rango_edad  Fecha1\n",
       "fecha      persona                                                        \n",
       "2010-12-31 11       11      0          1           46.5          1       0\n",
       "2013-12-31 11       11      1          2           25.6          2       1\n",
       "2016-12-31 11       11      2          1           24.0          3       2\n",
       "2010-12-31 12       12      0          1            5.0          4       0\n",
       "2013-12-31 12       12      1          1            4.0          1       1\n",
       "2016-12-31 12       12      2          3            3.0          2       2\n",
       "2010-12-31 13       13      0          1            2.0          3       0\n",
       "2013-12-31 13       13      1          2           10.0          4       1\n",
       "2016-12-31 13       13      2          1            9.0          3       2\n",
       "2010-12-31 14       14      0          1            NaN       None       0\n",
       "2013-12-31 14       14      1          1            NaN       None       1\n",
       "2016-12-31 14       14      2          1            NaN       None       2\n",
       "2010-12-31 15       15      0          x            NaN          1       0\n",
       "2013-12-31 15       15      1          x           15.0          2       1\n",
       "2016-12-31 15       15      2          x           20.0          3       2"
      ]
     },
     "execution_count": 120,
     "metadata": {},
     "output_type": "execute_result"
    }
   ],
   "source": [
    "#recategorizar variable a variable\n",
    "np.array(simul['Fecha'])\n",
    "simul[\"Fecha\"] = LabelEncoder().fit(simul['Fecha']).transform(simul['Fecha'])\n",
    "\n",
    "simul.head(15)\n",
    "\n",
    "#print(LabelEncoder().fit(simul['Fecha']).transform(simul['Fecha']))"
   ]
  },
  {
   "cell_type": "code",
   "execution_count": 119,
   "metadata": {},
   "outputs": [
    {
     "data": {
      "text/html": [
       "<div>\n",
       "<style scoped>\n",
       "    .dataframe tbody tr th:only-of-type {\n",
       "        vertical-align: middle;\n",
       "    }\n",
       "\n",
       "    .dataframe tbody tr th {\n",
       "        vertical-align: top;\n",
       "    }\n",
       "\n",
       "    .dataframe thead th {\n",
       "        text-align: right;\n",
       "    }\n",
       "</style>\n",
       "<table border=\"1\" class=\"dataframe\">\n",
       "  <thead>\n",
       "    <tr style=\"text-align: right;\">\n",
       "      <th></th>\n",
       "      <th></th>\n",
       "      <th>ID</th>\n",
       "      <th>Fecha</th>\n",
       "      <th>clasif_lab</th>\n",
       "      <th>tiempo_empleo</th>\n",
       "      <th>tcamino</th>\n",
       "    </tr>\n",
       "    <tr>\n",
       "      <th>fecha</th>\n",
       "      <th>persona</th>\n",
       "      <th></th>\n",
       "      <th></th>\n",
       "      <th></th>\n",
       "      <th></th>\n",
       "      <th></th>\n",
       "    </tr>\n",
       "  </thead>\n",
       "  <tbody>\n",
       "    <tr>\n",
       "      <th>2010-12-31</th>\n",
       "      <th>13</th>\n",
       "      <td>13</td>\n",
       "      <td>2010-12-31</td>\n",
       "      <td>1</td>\n",
       "      <td>19.0</td>\n",
       "      <td>2</td>\n",
       "    </tr>\n",
       "    <tr>\n",
       "      <th>2013-12-31</th>\n",
       "      <th>13</th>\n",
       "      <td>13</td>\n",
       "      <td>2013-12-31</td>\n",
       "      <td>2</td>\n",
       "      <td>2.0</td>\n",
       "      <td>2</td>\n",
       "    </tr>\n",
       "    <tr>\n",
       "      <th>2016-12-31</th>\n",
       "      <th>13</th>\n",
       "      <td>13</td>\n",
       "      <td>2016-12-31</td>\n",
       "      <td>1</td>\n",
       "      <td>9.0</td>\n",
       "      <td>2</td>\n",
       "    </tr>\n",
       "    <tr>\n",
       "      <th>2010-12-31</th>\n",
       "      <th>14</th>\n",
       "      <td>14</td>\n",
       "      <td>2010-12-31</td>\n",
       "      <td>1</td>\n",
       "      <td>46.5</td>\n",
       "      <td>1</td>\n",
       "    </tr>\n",
       "    <tr>\n",
       "      <th>2013-12-31</th>\n",
       "      <th>14</th>\n",
       "      <td>14</td>\n",
       "      <td>2013-12-31</td>\n",
       "      <td>1</td>\n",
       "      <td>25.6</td>\n",
       "      <td>1</td>\n",
       "    </tr>\n",
       "    <tr>\n",
       "      <th>2016-12-31</th>\n",
       "      <th>14</th>\n",
       "      <td>14</td>\n",
       "      <td>2016-12-31</td>\n",
       "      <td>1</td>\n",
       "      <td>24.0</td>\n",
       "      <td>1</td>\n",
       "    </tr>\n",
       "    <tr>\n",
       "      <th>2010-12-31</th>\n",
       "      <th>15</th>\n",
       "      <td>15</td>\n",
       "      <td>2010-12-31</td>\n",
       "      <td>x</td>\n",
       "      <td>5.0</td>\n",
       "      <td>0</td>\n",
       "    </tr>\n",
       "    <tr>\n",
       "      <th>2013-12-31</th>\n",
       "      <th>15</th>\n",
       "      <td>15</td>\n",
       "      <td>2013-12-31</td>\n",
       "      <td>x</td>\n",
       "      <td>4.0</td>\n",
       "      <td>0</td>\n",
       "    </tr>\n",
       "    <tr>\n",
       "      <th>2016-12-31</th>\n",
       "      <th>15</th>\n",
       "      <td>15</td>\n",
       "      <td>2016-12-31</td>\n",
       "      <td>x</td>\n",
       "      <td>3.0</td>\n",
       "      <td>0</td>\n",
       "    </tr>\n",
       "  </tbody>\n",
       "</table>\n",
       "</div>"
      ],
      "text/plain": [
       "                    ID       Fecha clasif_lab  tiempo_empleo  tcamino\n",
       "fecha      persona                                                   \n",
       "2010-12-31 13       13  2010-12-31          1           19.0        2\n",
       "2013-12-31 13       13  2013-12-31          2            2.0        2\n",
       "2016-12-31 13       13  2016-12-31          1            9.0        2\n",
       "2010-12-31 14       14  2010-12-31          1           46.5        1\n",
       "2013-12-31 14       14  2013-12-31          1           25.6        1\n",
       "2016-12-31 14       14  2016-12-31          1           24.0        1\n",
       "2010-12-31 15       15  2010-12-31          x            5.0        0\n",
       "2013-12-31 15       15  2013-12-31          x            4.0        0\n",
       "2016-12-31 15       15  2016-12-31          x            3.0        0"
      ]
     },
     "execution_count": 119,
     "metadata": {},
     "output_type": "execute_result"
    }
   ],
   "source": [
    "#recategorizar variable a variable\n",
    "np.array(simul_2['tcamino'])\n",
    "simul_2[\"tcamino\"] = LabelEncoder().fit(simul_2['tcamino']).transform(simul_2['tcamino'])\n",
    "\n",
    "simul_2.head(15)\n"
   ]
  },
  {
   "cell_type": "markdown",
   "metadata": {},
   "source": [
    "### Educación"
   ]
  },
  {
   "cell_type": "code",
   "execution_count": 84,
   "metadata": {},
   "outputs": [],
   "source": [
    "def educa(df):\n",
    "    if ((df[\"Fecha\"]!=np.nan) and (df[\"estudia\"]== \"Si\")):\n",
    "        e = df[\"nivel_educ_cursa\"]\n",
    "    elif ((df[\"Fecha\"]!=np.nan) and (df[\"estudia\"]!= \"Si\")): \n",
    "        e = df[\"nivel_educ\"]     \n",
    "    return(e)"
   ]
  },
  {
   "cell_type": "code",
   "execution_count": 85,
   "metadata": {},
   "outputs": [],
   "source": [
    "df7[\"educación\"]= df7.apply(educa,axis = 1)"
   ]
  },
  {
   "cell_type": "code",
   "execution_count": 86,
   "metadata": {},
   "outputs": [],
   "source": [
    "dfprueba[\"educación\"]= dfprueba.apply(educa,axis = 1)"
   ]
  },
  {
   "cell_type": "code",
   "execution_count": 88,
   "metadata": {},
   "outputs": [],
   "source": [
    "df7[\"educación\"]= df7[\"educación\"].fillna(method=\"ffill\")"
   ]
  },
  {
   "cell_type": "code",
   "execution_count": 89,
   "metadata": {},
   "outputs": [],
   "source": [
    "dfprueba[\"educación\"]= dfprueba[\"educación\"].fillna(method=\"ffill\")"
   ]
  },
  {
   "cell_type": "code",
   "execution_count": 95,
   "metadata": {},
   "outputs": [
    {
     "data": {
      "text/plain": [
       "Básica secundaria y media (6 a 13)    3060\n",
       "Básica primaria (1 a 5)               1890\n",
       "Técnico con título                     469\n",
       "Universitario con título               343\n",
       "Ninguno                                287\n",
       "Universitario sin título               201\n",
       "Tecnológico con título                 180\n",
       "Posgrado con título                    128\n",
       "Técnico                                104\n",
       "Universitario                          104\n",
       "Técnico sin título                      92\n",
       "Posgrado                                49\n",
       "Tecnológico                             36\n",
       "Tecnológico sin título                  26\n",
       "Posgrado sin título                     12\n",
       "Name: educación, dtype: int64"
      ]
     },
     "execution_count": 95,
     "metadata": {},
     "output_type": "execute_result"
    }
   ],
   "source": [
    "dfprueba[\"educación\"].value_counts(dropna=False)"
   ]
  },
  {
   "cell_type": "code",
   "execution_count": 96,
   "metadata": {},
   "outputs": [
    {
     "data": {
      "text/html": [
       "<div>\n",
       "<style scoped>\n",
       "    .dataframe tbody tr th:only-of-type {\n",
       "        vertical-align: middle;\n",
       "    }\n",
       "\n",
       "    .dataframe tbody tr th {\n",
       "        vertical-align: top;\n",
       "    }\n",
       "\n",
       "    .dataframe thead tr th {\n",
       "        text-align: left;\n",
       "    }\n",
       "\n",
       "    .dataframe thead tr:last-of-type th {\n",
       "        text-align: right;\n",
       "    }\n",
       "</style>\n",
       "<table border=\"1\" class=\"dataframe\">\n",
       "  <thead>\n",
       "    <tr>\n",
       "      <th></th>\n",
       "      <th colspan=\"4\" halign=\"left\">count</th>\n",
       "      <th colspan=\"4\" halign=\"left\">mean</th>\n",
       "    </tr>\n",
       "    <tr>\n",
       "      <th></th>\n",
       "      <th colspan=\"4\" halign=\"left\">tiempo_empleo</th>\n",
       "      <th colspan=\"4\" halign=\"left\">tiempo_empleo</th>\n",
       "    </tr>\n",
       "    <tr>\n",
       "      <th>Fecha</th>\n",
       "      <th>2010-12-31</th>\n",
       "      <th>2013-12-31</th>\n",
       "      <th>2016-12-31</th>\n",
       "      <th>All</th>\n",
       "      <th>2010-12-31</th>\n",
       "      <th>2013-12-31</th>\n",
       "      <th>2016-12-31</th>\n",
       "      <th>All</th>\n",
       "    </tr>\n",
       "    <tr>\n",
       "      <th>educación</th>\n",
       "      <th></th>\n",
       "      <th></th>\n",
       "      <th></th>\n",
       "      <th></th>\n",
       "      <th></th>\n",
       "      <th></th>\n",
       "      <th></th>\n",
       "      <th></th>\n",
       "    </tr>\n",
       "  </thead>\n",
       "  <tbody>\n",
       "    <tr>\n",
       "      <th>Básica primaria (1 a 5)</th>\n",
       "      <td>1101</td>\n",
       "      <td>1066</td>\n",
       "      <td>1053</td>\n",
       "      <td>3220</td>\n",
       "      <td>119.50</td>\n",
       "      <td>52.07</td>\n",
       "      <td>66.42</td>\n",
       "      <td>79.81</td>\n",
       "    </tr>\n",
       "    <tr>\n",
       "      <th>Básica secundaria y media (6 a 13)</th>\n",
       "      <td>1754</td>\n",
       "      <td>1752</td>\n",
       "      <td>1714</td>\n",
       "      <td>5220</td>\n",
       "      <td>95.48</td>\n",
       "      <td>44.13</td>\n",
       "      <td>50.89</td>\n",
       "      <td>63.60</td>\n",
       "    </tr>\n",
       "    <tr>\n",
       "      <th>Ninguno</th>\n",
       "      <td>163</td>\n",
       "      <td>159</td>\n",
       "      <td>160</td>\n",
       "      <td>482</td>\n",
       "      <td>134.69</td>\n",
       "      <td>59.76</td>\n",
       "      <td>79.23</td>\n",
       "      <td>91.56</td>\n",
       "    </tr>\n",
       "    <tr>\n",
       "      <th>Posgrado</th>\n",
       "      <td>33</td>\n",
       "      <td>22</td>\n",
       "      <td>38</td>\n",
       "      <td>93</td>\n",
       "      <td>130.27</td>\n",
       "      <td>67.68</td>\n",
       "      <td>53.71</td>\n",
       "      <td>84.18</td>\n",
       "    </tr>\n",
       "    <tr>\n",
       "      <th>Posgrado con título</th>\n",
       "      <td>77</td>\n",
       "      <td>113</td>\n",
       "      <td>118</td>\n",
       "      <td>308</td>\n",
       "      <td>170.30</td>\n",
       "      <td>70.31</td>\n",
       "      <td>117.46</td>\n",
       "      <td>113.37</td>\n",
       "    </tr>\n",
       "    <tr>\n",
       "      <th>Posgrado sin título</th>\n",
       "      <td>10</td>\n",
       "      <td>5</td>\n",
       "      <td>8</td>\n",
       "      <td>23</td>\n",
       "      <td>181.20</td>\n",
       "      <td>42.60</td>\n",
       "      <td>77.52</td>\n",
       "      <td>115.01</td>\n",
       "    </tr>\n",
       "    <tr>\n",
       "      <th>Tecnológico</th>\n",
       "      <td>18</td>\n",
       "      <td>15</td>\n",
       "      <td>19</td>\n",
       "      <td>52</td>\n",
       "      <td>97.39</td>\n",
       "      <td>28.09</td>\n",
       "      <td>38.34</td>\n",
       "      <td>55.82</td>\n",
       "    </tr>\n",
       "    <tr>\n",
       "      <th>Tecnológico con título</th>\n",
       "      <td>90</td>\n",
       "      <td>104</td>\n",
       "      <td>104</td>\n",
       "      <td>298</td>\n",
       "      <td>102.19</td>\n",
       "      <td>44.34</td>\n",
       "      <td>44.05</td>\n",
       "      <td>61.71</td>\n",
       "    </tr>\n",
       "    <tr>\n",
       "      <th>Tecnológico sin título</th>\n",
       "      <td>25</td>\n",
       "      <td>19</td>\n",
       "      <td>19</td>\n",
       "      <td>63</td>\n",
       "      <td>140.20</td>\n",
       "      <td>37.94</td>\n",
       "      <td>42.48</td>\n",
       "      <td>79.89</td>\n",
       "    </tr>\n",
       "    <tr>\n",
       "      <th>Técnico</th>\n",
       "      <td>46</td>\n",
       "      <td>42</td>\n",
       "      <td>71</td>\n",
       "      <td>159</td>\n",
       "      <td>84.37</td>\n",
       "      <td>31.54</td>\n",
       "      <td>40.39</td>\n",
       "      <td>50.78</td>\n",
       "    </tr>\n",
       "    <tr>\n",
       "      <th>Técnico con título</th>\n",
       "      <td>220</td>\n",
       "      <td>333</td>\n",
       "      <td>354</td>\n",
       "      <td>907</td>\n",
       "      <td>93.84</td>\n",
       "      <td>44.17</td>\n",
       "      <td>50.84</td>\n",
       "      <td>58.82</td>\n",
       "    </tr>\n",
       "    <tr>\n",
       "      <th>Técnico sin título</th>\n",
       "      <td>44</td>\n",
       "      <td>57</td>\n",
       "      <td>56</td>\n",
       "      <td>157</td>\n",
       "      <td>80.59</td>\n",
       "      <td>34.36</td>\n",
       "      <td>38.63</td>\n",
       "      <td>48.84</td>\n",
       "    </tr>\n",
       "    <tr>\n",
       "      <th>Universitario</th>\n",
       "      <td>53</td>\n",
       "      <td>63</td>\n",
       "      <td>70</td>\n",
       "      <td>186</td>\n",
       "      <td>70.47</td>\n",
       "      <td>25.82</td>\n",
       "      <td>49.93</td>\n",
       "      <td>47.62</td>\n",
       "    </tr>\n",
       "    <tr>\n",
       "      <th>Universitario con título</th>\n",
       "      <td>232</td>\n",
       "      <td>225</td>\n",
       "      <td>214</td>\n",
       "      <td>671</td>\n",
       "      <td>130.39</td>\n",
       "      <td>46.83</td>\n",
       "      <td>58.97</td>\n",
       "      <td>79.59</td>\n",
       "    </tr>\n",
       "    <tr>\n",
       "      <th>Universitario sin título</th>\n",
       "      <td>108</td>\n",
       "      <td>116</td>\n",
       "      <td>116</td>\n",
       "      <td>340</td>\n",
       "      <td>93.99</td>\n",
       "      <td>38.16</td>\n",
       "      <td>45.24</td>\n",
       "      <td>58.31</td>\n",
       "    </tr>\n",
       "    <tr>\n",
       "      <th>All</th>\n",
       "      <td>3974</td>\n",
       "      <td>4091</td>\n",
       "      <td>4114</td>\n",
       "      <td>12179</td>\n",
       "      <td>107.42</td>\n",
       "      <td>47.00</td>\n",
       "      <td>57.58</td>\n",
       "      <td>70.29</td>\n",
       "    </tr>\n",
       "  </tbody>\n",
       "</table>\n",
       "</div>"
      ],
      "text/plain": [
       "                                           count                               \\\n",
       "                                   tiempo_empleo                                \n",
       "Fecha                                 2010-12-31 2013-12-31 2016-12-31    All   \n",
       "educación                                                                       \n",
       "Básica primaria (1 a 5)                     1101       1066       1053   3220   \n",
       "Básica secundaria y media (6 a 13)          1754       1752       1714   5220   \n",
       "Ninguno                                      163        159        160    482   \n",
       "Posgrado                                      33         22         38     93   \n",
       "Posgrado con título                           77        113        118    308   \n",
       "Posgrado sin título                           10          5          8     23   \n",
       "Tecnológico                                   18         15         19     52   \n",
       "Tecnológico con título                        90        104        104    298   \n",
       "Tecnológico sin título                        25         19         19     63   \n",
       "Técnico                                       46         42         71    159   \n",
       "Técnico con título                           220        333        354    907   \n",
       "Técnico sin título                            44         57         56    157   \n",
       "Universitario                                 53         63         70    186   \n",
       "Universitario con título                     232        225        214    671   \n",
       "Universitario sin título                     108        116        116    340   \n",
       "All                                         3974       4091       4114  12179   \n",
       "\n",
       "                                            mean                                \n",
       "                                   tiempo_empleo                                \n",
       "Fecha                                 2010-12-31 2013-12-31 2016-12-31     All  \n",
       "educación                                                                       \n",
       "Básica primaria (1 a 5)                   119.50      52.07      66.42   79.81  \n",
       "Básica secundaria y media (6 a 13)         95.48      44.13      50.89   63.60  \n",
       "Ninguno                                   134.69      59.76      79.23   91.56  \n",
       "Posgrado                                  130.27      67.68      53.71   84.18  \n",
       "Posgrado con título                       170.30      70.31     117.46  113.37  \n",
       "Posgrado sin título                       181.20      42.60      77.52  115.01  \n",
       "Tecnológico                                97.39      28.09      38.34   55.82  \n",
       "Tecnológico con título                    102.19      44.34      44.05   61.71  \n",
       "Tecnológico sin título                    140.20      37.94      42.48   79.89  \n",
       "Técnico                                    84.37      31.54      40.39   50.78  \n",
       "Técnico con título                         93.84      44.17      50.84   58.82  \n",
       "Técnico sin título                         80.59      34.36      38.63   48.84  \n",
       "Universitario                              70.47      25.82      49.93   47.62  \n",
       "Universitario con título                  130.39      46.83      58.97   79.59  \n",
       "Universitario sin título                   93.99      38.16      45.24   58.31  \n",
       "All                                       107.42      47.00      57.58   70.29  "
      ]
     },
     "execution_count": 96,
     "metadata": {},
     "output_type": "execute_result"
    }
   ],
   "source": [
    "table_2_educ = df7.pivot_table(values= [\"tiempo_empleo\"],\n",
    "                                  index=[\"educación\"],\n",
    "                                  columns=[\"Fecha\"], aggfunc= [\"count\", \"mean\"], margins = True, dropna =True)\n",
    "round(table_2_educ,2)#, 2).iloc[:, [1,4,]]"
   ]
  },
  {
   "cell_type": "markdown",
   "metadata": {},
   "source": [
    "#### Ocupacion2"
   ]
  },
  {
   "cell_type": "code",
   "execution_count": 12,
   "metadata": {},
   "outputs": [],
   "source": [
    "#copia de ocupación df7\n",
    "df7[\"ocupacion2\"] = df7[\"ocupacion\"]"
   ]
  },
  {
   "cell_type": "code",
   "execution_count": 13,
   "metadata": {},
   "outputs": [],
   "source": [
    "#copia de ocupación dfrpueba\n",
    "dfprueba[\"ocupacion2\"] = dfprueba[\"ocupacion\"]"
   ]
  },
  {
   "cell_type": "markdown",
   "metadata": {},
   "source": [
    "#### Años de Educación superior (anos_superior2)"
   ]
  },
  {
   "cell_type": "code",
   "execution_count": 5,
   "metadata": {},
   "outputs": [],
   "source": [
    "def a_sup(df):\n",
    "    if (df[\"anos_superior\"] <=1):\n",
    "        su = \"0-1\"\n",
    "    elif ((df[\"anos_superior\"] > 1) and (df[\"anos_superior\"] <= 3)):\n",
    "        su = \"2-3\"\n",
    "    elif ((df[\"anos_superior\"] > 3) and (df[\"anos_superior\"] <= 5)):\n",
    "        su = \"4-5\"\n",
    "    elif (df[\"anos_superior\"] > 5):\n",
    "        su = \"5+\"\n",
    "    else:\n",
    "        su = np.nan\n",
    "    return(su)"
   ]
  },
  {
   "cell_type": "code",
   "execution_count": 6,
   "metadata": {},
   "outputs": [],
   "source": [
    "df7[\"anos_superior2\"] = df7.apply(a_sup,axis = 1)"
   ]
  },
  {
   "cell_type": "code",
   "execution_count": 7,
   "metadata": {},
   "outputs": [],
   "source": [
    "dfprueba[\"anos_superior2\"] = dfprueba.apply(a_sup,axis = 1)"
   ]
  },
  {
   "cell_type": "markdown",
   "metadata": {},
   "source": [
    "#### horas de trabajo"
   ]
  },
  {
   "cell_type": "code",
   "execution_count": 9,
   "metadata": {},
   "outputs": [],
   "source": [
    "def horas_t(df):\n",
    "    if (df[\"horas_normal\"] <=24):\n",
    "        ht = \"-25\"\n",
    "    elif ((df[\"horas_normal\"] > 24) and (df[\"horas_normal\"] < 48)):\n",
    "        ht = \"25-47\"\n",
    "    elif (df[\"horas_normal\"] == 48):\n",
    "        ht = \"48\"\n",
    "    elif (df[\"horas_normal\"] > 48):\n",
    "        ht = \"48+\"\n",
    "    else:\n",
    "        ht = np.nan\n",
    "    return(ht)"
   ]
  },
  {
   "cell_type": "code",
   "execution_count": 10,
   "metadata": {},
   "outputs": [],
   "source": [
    "df7[\"horas_normal_2\"] = df7.apply(horas_t,axis = 1)"
   ]
  },
  {
   "cell_type": "code",
   "execution_count": 11,
   "metadata": {},
   "outputs": [],
   "source": [
    "dfprueba[\"horas_normal_2\"] = dfprueba.apply(horas_t,axis = 1)"
   ]
  },
  {
   "cell_type": "markdown",
   "metadata": {},
   "source": [
    "#### Ingreso laboral, no laboral y total"
   ]
  },
  {
   "cell_type": "code",
   "execution_count": 61,
   "metadata": {},
   "outputs": [
    {
     "name": "stdout",
     "output_type": "stream",
     "text": [
      "NaN          11351\n",
      "800000.0       235\n",
      "600000.0       218\n",
      "700000.0       190\n",
      "1000000.0      177\n",
      "             ...  \n",
      "763000.0         1\n",
      "787500.0         1\n",
      "858000.0         1\n",
      "529500.0         1\n",
      "245000.0         1\n",
      "Name: Ingreso_laboral, Length: 1204, dtype: int64\n",
      "NaN          3935\n",
      "600000.0      120\n",
      "800000.0      112\n",
      "700000.0      108\n",
      "200000.0      106\n",
      "             ... \n",
      "612600.0        1\n",
      "423000.0        1\n",
      "634100.0        1\n",
      "8000000.0       1\n",
      "1026000.0       1\n",
      "Name: Ingreso_laboral, Length: 762, dtype: int64\n"
     ]
    }
   ],
   "source": [
    "# Ingreso laboral\n",
    "col_sum = [\"vr_salario\", \"vr_alimentos_pago\", \"vr_vivienda_pago\", \"vr_educ_pago\", \"vr_subalimentacion\", \n",
    "          \"vr_subtransporte\",\"vr_subfamiliar\",\"vr_bonos\", \"pagos_adicion\", \"vr_salario_mes\"]\n",
    "df7[\"Ingreso_laboral\"] = df7[col_sum].sum(axis=1, min_count=1) #min_count=0 deja los valores np.nan y empty como cero\n",
    "dfprueba[\"Ingreso_laboral\"] = dfprueba[col_sum].sum(axis=1, min_count=1)       \n",
    "print(df7[\"Ingreso_laboral\"].value_counts(dropna= False))\n",
    "print(dfprueba[\"Ingreso_laboral\"].value_counts(dropna= False))"
   ]
  },
  {
   "cell_type": "code",
   "execution_count": 82,
   "metadata": {},
   "outputs": [
    {
     "name": "stdout",
     "output_type": "stream",
     "text": [
      "NaN          10624\n",
      "300000.0       488\n",
      "600000.0       423\n",
      "500000.0       384\n",
      "200000.0       360\n",
      "             ...  \n",
      "1889000.0        1\n",
      "7370000.0        1\n",
      "588600.0         1\n",
      "684400.0         1\n",
      "892917.0         1\n",
      "Name: Ingreso_no_laboral, Length: 584, dtype: int64\n"
     ]
    }
   ],
   "source": [
    "# Ingreso no laboral df7 y dfprueba\n",
    "df7[\"vr_ganancia_2\"] = df7[\"vr_ganancia\"].divide(df7[\"meses_ganancia\"])\n",
    "df7[\"vr_rec_dividendos_2\"]= df7[\"vr_rec_dividendos\"].divide(12)\n",
    "dfprueba[\"vr_ganancia_2\"] = dfprueba[\"vr_ganancia\"].divide(dfprueba[\"meses_ganancia\"])\n",
    "dfprueba[\"vr_rec_dividendos_2\"]= dfprueba[\"vr_rec_dividendos\"].divide(12)\n",
    "\n",
    "col_sum_2=[\"vr_ganancia_2\",  \"vr_rec_pension\", \"vr_rec_arriendos\", \"vr_rec_dividendos_2\"]\n",
    "\n",
    "df7[\"Ingreso_no_laboral\"] = df7[col_sum_2].sum(axis=1, min_count=1)\n",
    "dfprueba[\"Ingreso_no_laboral\"] = dfprueba[col_sum_2].sum(axis=1, min_count=1)   \n",
    "\n",
    "print(df7[\"Ingreso_no_laboral\"].value_counts(dropna= False))\n",
    "print(dfprueba[\"Ingreso_no_laboral\"].value_counts(dropna= False))\n"
   ]
  },
  {
   "cell_type": "code",
   "execution_count": 92,
   "metadata": {},
   "outputs": [],
   "source": [
    "#remuneración\n",
    "col_sum_1 = [\"Ingreso_laboral\", \"Ingreso_no_laboral\"]\n",
    "df7[\"Ingreso_total\"] = df7[col_sum_1].sum(axis=1, min_count=1)\n",
    "dfprueba[\"Ingreso_total\"] = dfprueba[col_sum_1].sum(axis=1, min_count=1)\n",
    "print(df7[\"Ingreso_total\"].value_counts(dropna= False))"
   ]
  },
  {
   "cell_type": "markdown",
   "metadata": {},
   "source": [
    "#### Quintiles de ingreso"
   ]
  },
  {
   "cell_type": "code",
   "execution_count": 34,
   "metadata": {},
   "outputs": [],
   "source": [
    "list_1 = [\"Ingreso_total\", \"Ingreso_laboral\", \"Ingreso_no_laboral\"]\n",
    "list_2 = [\"q_Ingreso_total\",\"q_Ingreso_laboral\", \"q_Ingreso_no_laboral\"]\n",
    "for i, j in zip(list_1, list_2):  \n",
    "    df7[j]=pd.qcut(df7[i], 5, labels=[1,2,3,4,5])\n",
    "    dfprueba[j]=pd.qcut(dfprueba[i], 5, labels=[1,2,3,4,5])"
   ]
  },
  {
   "cell_type": "code",
   "execution_count": 3,
   "metadata": {},
   "outputs": [],
   "source": [
    "#quintiles deflactados para las nuevas bases\n",
    "list_1 = [\"Ingreso_total_dflac\", \"Ingreso_laboral_dflac\", \"Ingreso_no_laboral_dflac\"]\n",
    "list_2 = [\"q_Ingreso_total\",\"q_Ingreso_laboral\", \"q_Ingreso_no_laboral\"]\n",
    "for i, j in zip(list_1, list_2):  \n",
    "    df8[j]=pd.qcut(df8[i], 5, labels=[1,2,3,4,5])\n",
    "    dfgroups[j]=pd.qcut(dfgroups[i], 5, labels=[1,2,3,4,5])"
   ]
  },
  {
   "cell_type": "markdown",
   "metadata": {},
   "source": [
    "#### 2da Corrección Tiempo de Empleo"
   ]
  },
  {
   "cell_type": "code",
   "execution_count": 33,
   "metadata": {},
   "outputs": [],
   "source": [
    "# Ajustar los caminos del grupo de tratamiento de acuerdo con la variable retrospectiva de tiempo de empleo\n",
    "#de la siguiente manera:\n",
    "#1. más de dos años\n",
    "#Se crean los subconjuntos de valores coherentes [a, l]\n",
    "a = dfprueba[((dfprueba[\"tiempo_desemp\"]== \"Más de 2 años\") &\n",
    "             (dfprueba[\"tiempo_empleo\"] > 0) & (dfprueba[\"tiempo_empleo\"] < 12) & \n",
    "             (dfprueba[\"camino\"]==\"t_uno\") & (dfprueba[\"ano_encuesta\"]== 2013))]\n",
    "b = dfprueba[((dfprueba[\"tiempo_desemp\"]== \"Más de 2 años\") &\n",
    "             (dfprueba[\"tiempo_empleo\"] > 0) & (dfprueba[\"tiempo_empleo\"] < 12) & \n",
    "             (dfprueba[\"camino\"]==\"t_uno\") & (dfprueba[\"ano_encuesta\"]== 2016))]\n",
    "c = dfprueba[((dfprueba[\"tiempo_desemp\"]== \"Más de 2 años\") &\n",
    "             (dfprueba[\"tiempo_empleo\"] > 0) & (dfprueba[\"tiempo_empleo\"] < 12) & \n",
    "             (dfprueba[\"camino\"]==\"t_dos\") & (dfprueba[\"ano_encuesta\"]== 2013))]\n",
    "d = dfprueba[((dfprueba[\"tiempo_desemp\"]== \"Más de 2 años\") &\n",
    "             (dfprueba[\"tiempo_empleo\"] > 0) & (dfprueba[\"tiempo_empleo\"] < 12) & \n",
    "             (dfprueba[\"camino\"]==\"t_dos\") & (dfprueba[\"ano_encuesta\"]== 2016))]\n",
    "e = dfprueba[((dfprueba[\"tiempo_desemp\"]== \"Más de 2 años\") &\n",
    "             (dfprueba[\"tiempo_empleo\"] > 0) & (dfprueba[\"tiempo_empleo\"] < 12) & \n",
    "             (dfprueba[\"camino\"]==\"t_tres\") & (dfprueba[\"ano_encuesta\"]== 2013))]\n",
    "f = dfprueba[((dfprueba[\"tiempo_desemp\"]== \"Más de 2 años\") &\n",
    "             (dfprueba[\"tiempo_empleo\"] > 0) & (dfprueba[\"tiempo_empleo\"] < 12) & \n",
    "             (dfprueba[\"camino\"]==\"t_tres\") & (dfprueba[\"ano_encuesta\"]== 2016))]\n",
    "g = dfprueba[((dfprueba[\"tiempo_desemp\"]== \"Más de 2 años\") &\n",
    "             (dfprueba[\"tiempo_empleo\"] > 0) & (dfprueba[\"tiempo_empleo\"] < 12) & \n",
    "              (dfprueba[\"camino\"]==\"t_cuatro\") & (dfprueba[\"ano_encuesta\"]== 2013))]\n",
    "h = dfprueba[((dfprueba[\"tiempo_desemp\"]== \"Más de 2 años\") &\n",
    "             (dfprueba[\"tiempo_empleo\"] > 0) & (dfprueba[\"tiempo_empleo\"] < 12) & \n",
    "              (dfprueba[\"camino\"]==\"t_cuatro\") & (dfprueba[\"ano_encuesta\"]== 2016))]\n",
    "i = dfprueba[((dfprueba[\"tiempo_desemp\"]== \"Más de 2 años\") & \n",
    "               (dfprueba[\"tiempo_empleo\"] > 0) & (dfprueba[\"tiempo_empleo\"] < 12) & \n",
    "               (dfprueba[\"camino\"]==\"t_cinco\") & (dfprueba[\"ano_encuesta\"]== 2013))]\n",
    "j = dfprueba[((dfprueba[\"tiempo_desemp\"]== \"Más de 2 años\") & \n",
    "               (dfprueba[\"tiempo_empleo\"] > 0) & (dfprueba[\"tiempo_empleo\"] < 12) & \n",
    "               (dfprueba[\"camino\"]==\"t_cinco\") & (dfprueba[\"ano_encuesta\"]== 2016))]\n",
    "k = dfprueba[((dfprueba[\"tiempo_desemp\"]== \"Más de 2 años\") & \n",
    "               (dfprueba[\"tiempo_empleo\"] > 0) & (dfprueba[\"tiempo_empleo\"] < 12) & \n",
    "               (dfprueba[\"camino\"]==\"t_seis\") & (dfprueba[\"ano_encuesta\"]== 2013))]\n",
    "l =dfprueba[((dfprueba[\"tiempo_desemp\"]== \"Más de 2 años\") & \n",
    "               (dfprueba[\"tiempo_empleo\"] > 0) & (dfprueba[\"tiempo_empleo\"] < 12) & \n",
    "               (dfprueba[\"camino\"]==\"t_seis\") & (dfprueba[\"ano_encuesta\"]== 2016))]"
   ]
  },
  {
   "cell_type": "code",
   "execution_count": 34,
   "metadata": {},
   "outputs": [],
   "source": [
    "#2. Entre 1 año y 2 años\n",
    "#Se crean los subconjuntos de valores coherentes [aa, ll] \n",
    "aa = dfprueba[((dfprueba[\"tiempo_desemp\"]== \"Entre 1 año y 2 años\") &\n",
    "             (dfprueba[\"tiempo_empleo\"] > 0) & (dfprueba[\"tiempo_empleo\"] < 24) & \n",
    "             (dfprueba[\"camino\"]==\"t_uno\") & (dfprueba[\"ano_encuesta\"]== 2013))]\n",
    "bb = dfprueba[((dfprueba[\"tiempo_desemp\"]== \"Entre 1 año y 2 años\") &\n",
    "             (dfprueba[\"tiempo_empleo\"] > 0) & (dfprueba[\"tiempo_empleo\"] < 24) & \n",
    "             (dfprueba[\"camino\"]==\"t_uno\") & (dfprueba[\"ano_encuesta\"]== 2016))]\n",
    "cc = dfprueba[((dfprueba[\"tiempo_desemp\"]== \"Entre 1 año y 2 años\") &\n",
    "             (dfprueba[\"tiempo_empleo\"] > 0) & (dfprueba[\"tiempo_empleo\"] < 24) & \n",
    "             (dfprueba[\"camino\"]==\"t_dos\") & (dfprueba[\"ano_encuesta\"]== 2013))]\n",
    "dd = dfprueba[((dfprueba[\"tiempo_desemp\"]== \"Entre 1 año y 2 años\") &\n",
    "             (dfprueba[\"tiempo_empleo\"] > 0) & (dfprueba[\"tiempo_empleo\"] < 24) & \n",
    "             (dfprueba[\"camino\"]==\"t_dos\") & (dfprueba[\"ano_encuesta\"]== 2016))]\n",
    "ee = dfprueba[((dfprueba[\"tiempo_desemp\"]== \"Entre 1 año y 2 años\") &\n",
    "             (dfprueba[\"tiempo_empleo\"] > 0) & (dfprueba[\"tiempo_empleo\"] < 24) & \n",
    "             (dfprueba[\"camino\"]==\"t_tres\") & (dfprueba[\"ano_encuesta\"]== 2013))]\n",
    "ff = dfprueba[((dfprueba[\"tiempo_desemp\"]== \"Entre 1 año y 2 años\") &\n",
    "             (dfprueba[\"tiempo_empleo\"] > 0) & (dfprueba[\"tiempo_empleo\"] < 24) & \n",
    "             (dfprueba[\"camino\"]==\"t_tres\") & (dfprueba[\"ano_encuesta\"]== 2016))]\n",
    "gg = dfprueba[((dfprueba[\"tiempo_desemp\"]== \"Entre 1 año y 2 años\") &\n",
    "             (dfprueba[\"tiempo_empleo\"] > 0) & (dfprueba[\"tiempo_empleo\"] < 24) & \n",
    "              (dfprueba[\"camino\"]==\"t_cuatro\") & (dfprueba[\"ano_encuesta\"]== 2013))]\n",
    "hh = dfprueba[((dfprueba[\"tiempo_desemp\"]== \"Entre 1 año y 2 años\") &\n",
    "             (dfprueba[\"tiempo_empleo\"] > 0) & (dfprueba[\"tiempo_empleo\"] < 24) & \n",
    "              (dfprueba[\"camino\"]==\"t_cuatro\") & (dfprueba[\"ano_encuesta\"]== 2016))]\n",
    "ii = dfprueba[((dfprueba[\"tiempo_desemp\"]== \"Entre 1 año y 2 años\") & \n",
    "               (dfprueba[\"tiempo_empleo\"] > 0) & (dfprueba[\"tiempo_empleo\"] < 24) & \n",
    "               (dfprueba[\"camino\"]==\"t_cinco\") & (dfprueba[\"ano_encuesta\"]== 2013))]\n",
    "jj = dfprueba[((dfprueba[\"tiempo_desemp\"]== \"Entre 1 año y 2 años\") & \n",
    "               (dfprueba[\"tiempo_empleo\"] > 0) & (dfprueba[\"tiempo_empleo\"] < 24) & \n",
    "               (dfprueba[\"camino\"]==\"t_cinco\") & (dfprueba[\"ano_encuesta\"]== 2016))]\n",
    "kk = dfprueba[((dfprueba[\"tiempo_desemp\"]== \"Entre 1 año y 2 años\") & \n",
    "               (dfprueba[\"tiempo_empleo\"] > 0) & (dfprueba[\"tiempo_empleo\"] < 24) & \n",
    "               (dfprueba[\"camino\"]==\"t_seis\") & (dfprueba[\"ano_encuesta\"]== 2013))]\n",
    "ll =dfprueba[((dfprueba[\"tiempo_desemp\"]== \"Entre 1 año y 2 años\") & \n",
    "               (dfprueba[\"tiempo_empleo\"] > 0) & (dfprueba[\"tiempo_empleo\"] < 24) & \n",
    "               (dfprueba[\"camino\"]==\"t_seis\") & (dfprueba[\"ano_encuesta\"]== 2016))]"
   ]
  },
  {
   "cell_type": "code",
   "execution_count": 35,
   "metadata": {},
   "outputs": [],
   "source": [
    "#3. Entre 6 meses y 11 meses\n",
    "#Se crean los subconjuntos de valores coherentes [aaa, lll] y\n",
    "aaa = dfprueba[((dfprueba[\"tiempo_desemp\"]== \"Entre 6 meses y 11 meses\") &\n",
    "             (dfprueba[\"tiempo_empleo\"] > 0) & (dfprueba[\"tiempo_empleo\"] < 30) & \n",
    "             (dfprueba[\"camino\"]==\"t_uno\") & (dfprueba[\"ano_encuesta\"]== 2013))]\n",
    "bbb = dfprueba[((dfprueba[\"tiempo_desemp\"]== \"Entre 6 meses y 11 meses\") &\n",
    "             (dfprueba[\"tiempo_empleo\"] > 0) & (dfprueba[\"tiempo_empleo\"] < 30) & \n",
    "             (dfprueba[\"camino\"]==\"t_uno\") & (dfprueba[\"ano_encuesta\"]== 2016))]\n",
    "ccc = dfprueba[((dfprueba[\"tiempo_desemp\"]== \"Entre 6 meses y 11 meses\") &\n",
    "             (dfprueba[\"tiempo_empleo\"] > 0) & (dfprueba[\"tiempo_empleo\"] < 30) & \n",
    "             (dfprueba[\"camino\"]==\"t_dos\") & (dfprueba[\"ano_encuesta\"]== 2013))]\n",
    "ddd = dfprueba[((dfprueba[\"tiempo_desemp\"]== \"Entre 6 meses y 11 meses\") &\n",
    "             (dfprueba[\"tiempo_empleo\"] > 0) & (dfprueba[\"tiempo_empleo\"] < 30) & \n",
    "             (dfprueba[\"camino\"]==\"t_dos\") & (dfprueba[\"ano_encuesta\"]== 2016))]\n",
    "eee = dfprueba[((dfprueba[\"tiempo_desemp\"]== \"Entre 6 meses y 11 meses\") &\n",
    "             (dfprueba[\"tiempo_empleo\"] > 0) & (dfprueba[\"tiempo_empleo\"] < 30) & \n",
    "             (dfprueba[\"camino\"]==\"t_tres\") & (dfprueba[\"ano_encuesta\"]== 2013))]\n",
    "fff = dfprueba[((dfprueba[\"tiempo_desemp\"]== \"Entre 6 meses y 11 meses\") &\n",
    "             (dfprueba[\"tiempo_empleo\"] > 0) & (dfprueba[\"tiempo_empleo\"] < 30) & \n",
    "             (dfprueba[\"camino\"]==\"t_tres\") & (dfprueba[\"ano_encuesta\"]== 2016))]\n",
    "ggg = dfprueba[((dfprueba[\"tiempo_desemp\"]== \"Entre 6 meses y 11 meses\") &\n",
    "             (dfprueba[\"tiempo_empleo\"] > 0) & (dfprueba[\"tiempo_empleo\"] < 30) & \n",
    "              (dfprueba[\"camino\"]==\"t_cuatro\") & (dfprueba[\"ano_encuesta\"]== 2013))]\n",
    "hhh = dfprueba[((dfprueba[\"tiempo_desemp\"]== \"Entre 6 meses y 11 meses\") &\n",
    "             (dfprueba[\"tiempo_empleo\"] > 0) & (dfprueba[\"tiempo_empleo\"] < 30) & \n",
    "              (dfprueba[\"camino\"]==\"t_cuatro\") & (dfprueba[\"ano_encuesta\"]== 2016))]\n",
    "iii = dfprueba[((dfprueba[\"tiempo_desemp\"]== \"Entre 6 meses y 11 meses\") & \n",
    "               (dfprueba[\"tiempo_empleo\"] > 0) & (dfprueba[\"tiempo_empleo\"] < 30) & \n",
    "               (dfprueba[\"camino\"]==\"t_cinco\") & (dfprueba[\"ano_encuesta\"]== 2013))]\n",
    "jjj = dfprueba[((dfprueba[\"tiempo_desemp\"]== \"Entre 6 meses y 11 meses\") & \n",
    "               (dfprueba[\"tiempo_empleo\"] > 0) & (dfprueba[\"tiempo_empleo\"] < 30) & \n",
    "               (dfprueba[\"camino\"]==\"t_cinco\") & (dfprueba[\"ano_encuesta\"]== 2016))]\n",
    "kkk = dfprueba[((dfprueba[\"tiempo_desemp\"]== \"Entre 6 meses y 11 meses\") & \n",
    "               (dfprueba[\"tiempo_empleo\"] > 0) & (dfprueba[\"tiempo_empleo\"] < 30) & \n",
    "               (dfprueba[\"camino\"]==\"t_seis\") & (dfprueba[\"ano_encuesta\"]== 2013))]\n",
    "lll =dfprueba[((dfprueba[\"tiempo_desemp\"]== \"Entre 6 meses y 11 meses\") & \n",
    "               (dfprueba[\"tiempo_empleo\"] > 0) & (dfprueba[\"tiempo_empleo\"] < 30) & \n",
    "               (dfprueba[\"camino\"]==\"t_seis\") & (dfprueba[\"ano_encuesta\"]== 2016))]"
   ]
  },
  {
   "cell_type": "code",
   "execution_count": 36,
   "metadata": {},
   "outputs": [],
   "source": [
    "#4. Menos de 6 meses\n",
    "#Se crean los subconjuntos de valores coherentes [aaaa, llll] \n",
    "aaaa = dfprueba[((dfprueba[\"tiempo_desemp\"]== \"Menos de 6 meses\") &\n",
    "             (dfprueba[\"tiempo_empleo\"] > 0) & (dfprueba[\"tiempo_empleo\"] < 35) & \n",
    "             (dfprueba[\"camino\"]==\"t_uno\") & (dfprueba[\"ano_encuesta\"]== 2013))]\n",
    "bbbb = dfprueba[((dfprueba[\"tiempo_desemp\"]== \"Menos de 6 meses\") &\n",
    "             (dfprueba[\"tiempo_empleo\"] > 0) & (dfprueba[\"tiempo_empleo\"] < 35) & \n",
    "             (dfprueba[\"camino\"]==\"t_uno\") & (dfprueba[\"ano_encuesta\"]== 2016))]\n",
    "cccc = dfprueba[((dfprueba[\"tiempo_desemp\"]== \"Menos de 6 meses\") &\n",
    "             (dfprueba[\"tiempo_empleo\"] > 0) & (dfprueba[\"tiempo_empleo\"] < 35) & \n",
    "             (dfprueba[\"camino\"]==\"t_dos\") & (dfprueba[\"ano_encuesta\"]== 2013))]\n",
    "dddd = dfprueba[((dfprueba[\"tiempo_desemp\"]== \"Menos de 6 meses\") &\n",
    "             (dfprueba[\"tiempo_empleo\"] > 0) & (dfprueba[\"tiempo_empleo\"] < 35) & \n",
    "             (dfprueba[\"camino\"]==\"t_dos\") & (dfprueba[\"ano_encuesta\"]== 2016))]\n",
    "eeee = dfprueba[((dfprueba[\"tiempo_desemp\"]== \"Menos de 6 meses\") &\n",
    "             (dfprueba[\"tiempo_empleo\"] > 0) & (dfprueba[\"tiempo_empleo\"] < 35) & \n",
    "             (dfprueba[\"camino\"]==\"t_tres\") & (dfprueba[\"ano_encuesta\"]== 2013))]\n",
    "ffff = dfprueba[((dfprueba[\"tiempo_desemp\"]== \"Menos de 6 meses\") &\n",
    "             (dfprueba[\"tiempo_empleo\"] > 0) & (dfprueba[\"tiempo_empleo\"] < 35) & \n",
    "             (dfprueba[\"camino\"]==\"t_tres\") & (dfprueba[\"ano_encuesta\"]== 2016))]\n",
    "gggg = dfprueba[((dfprueba[\"tiempo_desemp\"]== \"Menos de 6 meses\") &\n",
    "             (dfprueba[\"tiempo_empleo\"] > 0) & (dfprueba[\"tiempo_empleo\"] < 35) & \n",
    "              (dfprueba[\"camino\"]==\"t_cuatro\") & (dfprueba[\"ano_encuesta\"]== 2013))]\n",
    "hhhh = dfprueba[((dfprueba[\"tiempo_desemp\"]== \"Menos de 6 meses\") &\n",
    "             (dfprueba[\"tiempo_empleo\"] > 0) & (dfprueba[\"tiempo_empleo\"] < 35) & \n",
    "              (dfprueba[\"camino\"]==\"t_cuatro\") & (dfprueba[\"ano_encuesta\"]== 2016))]\n",
    "iiii = dfprueba[((dfprueba[\"tiempo_desemp\"]== \"Menos de 6 meses\") & \n",
    "               (dfprueba[\"tiempo_empleo\"] > 0) & (dfprueba[\"tiempo_empleo\"] < 35) & \n",
    "               (dfprueba[\"camino\"]==\"t_cinco\") & (dfprueba[\"ano_encuesta\"]== 2013))]\n",
    "jjjj = dfprueba[((dfprueba[\"tiempo_desemp\"]== \"Menos de 6 meses\") & \n",
    "               (dfprueba[\"tiempo_empleo\"] > 0) & (dfprueba[\"tiempo_empleo\"] < 35) & \n",
    "               (dfprueba[\"camino\"]==\"t_cinco\") & (dfprueba[\"ano_encuesta\"]== 2016))]\n",
    "kkkk = dfprueba[((dfprueba[\"tiempo_desemp\"]== \"Menos de 6 meses\") & \n",
    "               (dfprueba[\"tiempo_empleo\"] > 0) & (dfprueba[\"tiempo_empleo\"] < 35) & \n",
    "               (dfprueba[\"camino\"]==\"t_seis\") & (dfprueba[\"ano_encuesta\"]== 2013))]\n",
    "llll =dfprueba[((dfprueba[\"tiempo_desemp\"]== \"Menos de 6 meses\") & \n",
    "               (dfprueba[\"tiempo_empleo\"] > 0) & (dfprueba[\"tiempo_empleo\"] < 35) & \n",
    "               (dfprueba[\"camino\"]==\"t_seis\") & (dfprueba[\"ano_encuesta\"]== 2016))]"
   ]
  },
  {
   "cell_type": "code",
   "execution_count": 37,
   "metadata": {},
   "outputs": [],
   "source": [
    "#1. Más de 2 años\n",
    "#Se crean los subconjuntos de valores incoherentes [m,x]\n",
    "m = dfprueba[((dfprueba[\"tiempo_desemp\"]== \"Más de 2 años\") &\n",
    "             (dfprueba[\"tiempo_empleo\"] >= 12)  & \n",
    "             (dfprueba[\"camino\"]==\"t_uno\") & (dfprueba[\"ano_encuesta\"]== 2013))]\n",
    "n = dfprueba[((dfprueba[\"tiempo_desemp\"]== \"Más de 2 años\") &\n",
    "             (dfprueba[\"tiempo_empleo\"] >= 12)  & \n",
    "             (dfprueba[\"camino\"]==\"t_uno\") & (dfprueba[\"ano_encuesta\"]== 2016))]\n",
    "o = dfprueba[((dfprueba[\"tiempo_desemp\"]== \"Más de 2 años\") &\n",
    "             (dfprueba[\"tiempo_empleo\"] >= 12)  & \n",
    "             (dfprueba[\"camino\"]==\"t_dos\") & (dfprueba[\"ano_encuesta\"]== 2013))]\n",
    "p = dfprueba[((dfprueba[\"tiempo_desemp\"]== \"Más de 2 años\") &\n",
    "             (dfprueba[\"tiempo_empleo\"] >= 12)  & \n",
    "             (dfprueba[\"camino\"]==\"t_dos\") & (dfprueba[\"ano_encuesta\"]== 2016))]\n",
    "q = dfprueba[((dfprueba[\"tiempo_desemp\"]== \"Más de 2 años\") &\n",
    "             (dfprueba[\"tiempo_empleo\"] >= 12)  & \n",
    "             (dfprueba[\"camino\"]==\"t_tres\") & (dfprueba[\"ano_encuesta\"]== 2013))]\n",
    "r = dfprueba[((dfprueba[\"tiempo_desemp\"]== \"Más de 2 años\") &\n",
    "             (dfprueba[\"tiempo_empleo\"] >= 12)  & \n",
    "             (dfprueba[\"camino\"]==\"t_tres\") & (dfprueba[\"ano_encuesta\"]== 2016))]\n",
    "s = dfprueba[((dfprueba[\"tiempo_desemp\"]== \"Más de 2 años\") &\n",
    "             (dfprueba[\"tiempo_empleo\"] >= 12)  & \n",
    "              (dfprueba[\"camino\"]==\"t_cuatro\") & (dfprueba[\"ano_encuesta\"]== 2013))]\n",
    "t = dfprueba[((dfprueba[\"tiempo_desemp\"]== \"Más de 2 años\") &\n",
    "             (dfprueba[\"tiempo_empleo\"] >= 12)  & \n",
    "              (dfprueba[\"camino\"]==\"t_cuatro\") & (dfprueba[\"ano_encuesta\"]== 2016))]\n",
    "u = dfprueba[((dfprueba[\"tiempo_desemp\"]== \"Más de 2 años\") & \n",
    "               (dfprueba[\"tiempo_empleo\"] >= 12)  & \n",
    "               (dfprueba[\"camino\"]==\"t_cinco\") & (dfprueba[\"ano_encuesta\"]== 2013))]\n",
    "v = dfprueba[((dfprueba[\"tiempo_desemp\"]== \"Más de 2 años\") & \n",
    "               (dfprueba[\"tiempo_empleo\"] >= 12)  & \n",
    "               (dfprueba[\"camino\"]==\"t_cinco\") & (dfprueba[\"ano_encuesta\"]== 2016))]\n",
    "w = dfprueba[((dfprueba[\"tiempo_desemp\"]== \"Más de 2 años\") & \n",
    "               (dfprueba[\"tiempo_empleo\"] >= 12)  & \n",
    "               (dfprueba[\"camino\"]==\"t_seis\") & (dfprueba[\"ano_encuesta\"]== 2013))]\n",
    "x =dfprueba[((dfprueba[\"tiempo_desemp\"]== \"Más de 2 años\") & \n",
    "               (dfprueba[\"tiempo_empleo\"] >= 12)  & \n",
    "               (dfprueba[\"camino\"]==\"t_seis\") & (dfprueba[\"ano_encuesta\"]== 2016))]"
   ]
  },
  {
   "cell_type": "code",
   "execution_count": 38,
   "metadata": {},
   "outputs": [],
   "source": [
    "#2. Entre 1 año y 2 años\n",
    "#Se crean los subconjuntos de valores incoherentes [mm,xx]\n",
    "mm = dfprueba[((dfprueba[\"tiempo_desemp\"]== \"Entre 1 año y 2 años\") &\n",
    "             (dfprueba[\"tiempo_empleo\"] >= 24) & \n",
    "             (dfprueba[\"camino\"]==\"t_uno\") & (dfprueba[\"ano_encuesta\"]== 2013))]\n",
    "nn = dfprueba[((dfprueba[\"tiempo_desemp\"]== \"Entre 1 año y 2 años\") &\n",
    "             (dfprueba[\"tiempo_empleo\"] >= 24) & \n",
    "             (dfprueba[\"camino\"]==\"t_uno\") & (dfprueba[\"ano_encuesta\"]== 2016))]\n",
    "oo = dfprueba[((dfprueba[\"tiempo_desemp\"]== \"Entre 1 año y 2 años\") &\n",
    "             (dfprueba[\"tiempo_empleo\"] >= 24) & \n",
    "             (dfprueba[\"camino\"]==\"t_dos\") & (dfprueba[\"ano_encuesta\"]== 2013))]\n",
    "pp = dfprueba[((dfprueba[\"tiempo_desemp\"]== \"Entre 1 año y 2 años\") &\n",
    "             (dfprueba[\"tiempo_empleo\"] >= 24) & \n",
    "             (dfprueba[\"camino\"]==\"t_dos\") & (dfprueba[\"ano_encuesta\"]== 2016))]\n",
    "qq = dfprueba[((dfprueba[\"tiempo_desemp\"]== \"Entre 1 año y 2 años\") &\n",
    "             (dfprueba[\"tiempo_empleo\"] >= 24) & \n",
    "             (dfprueba[\"camino\"]==\"t_tres\") & (dfprueba[\"ano_encuesta\"]== 2013))]\n",
    "rr = dfprueba[((dfprueba[\"tiempo_desemp\"]== \"Entre 1 año y 2 años\") &\n",
    "             (dfprueba[\"tiempo_empleo\"] >= 24) & \n",
    "             (dfprueba[\"camino\"]==\"t_tres\") & (dfprueba[\"ano_encuesta\"]== 2016))]\n",
    "ss = dfprueba[((dfprueba[\"tiempo_desemp\"]== \"Entre 1 año y 2 años\") &\n",
    "             (dfprueba[\"tiempo_empleo\"] >= 24) & \n",
    "              (dfprueba[\"camino\"]==\"t_cuatro\") & (dfprueba[\"ano_encuesta\"]== 2013))]\n",
    "tt = dfprueba[((dfprueba[\"tiempo_desemp\"]== \"Entre 1 año y 2 años\") &\n",
    "             (dfprueba[\"tiempo_empleo\"] >= 24) & \n",
    "              (dfprueba[\"camino\"]==\"t_cuatro\") & (dfprueba[\"ano_encuesta\"]== 2016))]\n",
    "uu = dfprueba[((dfprueba[\"tiempo_desemp\"]== \"Entre 1 año y 2 años\") & \n",
    "               (dfprueba[\"tiempo_empleo\"] >= 24) & \n",
    "               (dfprueba[\"camino\"]==\"t_cinco\") & (dfprueba[\"ano_encuesta\"]== 2013))]\n",
    "vv = dfprueba[((dfprueba[\"tiempo_desemp\"]== \"Entre 1 año y 2 años\") & \n",
    "               (dfprueba[\"tiempo_empleo\"] >= 24) & \n",
    "               (dfprueba[\"camino\"]==\"t_cinco\") & (dfprueba[\"ano_encuesta\"]== 2016))]\n",
    "ww = dfprueba[((dfprueba[\"tiempo_desemp\"]== \"Entre 1 año y 2 años\") & \n",
    "               (dfprueba[\"tiempo_empleo\"] >= 24) & \n",
    "               (dfprueba[\"camino\"]==\"t_seis\") & (dfprueba[\"ano_encuesta\"]== 2013))]\n",
    "xx =dfprueba[((dfprueba[\"tiempo_desemp\"]== \"Entre 1 año y 2 años\") & \n",
    "               (dfprueba[\"tiempo_empleo\"] >= 24) & \n",
    "               (dfprueba[\"camino\"]==\"t_seis\") & (dfprueba[\"ano_encuesta\"]== 2016))]"
   ]
  },
  {
   "cell_type": "code",
   "execution_count": 39,
   "metadata": {},
   "outputs": [],
   "source": [
    "#3. Entre 6 meses y 11 meses\n",
    "#Se crean los subconjuntos de valores incoherentes [mmm,xxx]\n",
    "mmm = dfprueba[((dfprueba[\"tiempo_desemp\"]== \"Entre 6 meses y 11 meses\") &\n",
    "             (dfprueba[\"tiempo_empleo\"] >= 30) & \n",
    "             (dfprueba[\"camino\"]==\"t_uno\") & (dfprueba[\"ano_encuesta\"]== 2013))]\n",
    "nnn = dfprueba[((dfprueba[\"tiempo_desemp\"]== \"Entre 6 meses y 11 meses\") &\n",
    "             (dfprueba[\"tiempo_empleo\"] >= 30) & \n",
    "             (dfprueba[\"camino\"]==\"t_uno\") & (dfprueba[\"ano_encuesta\"]== 2016))]\n",
    "ooo = dfprueba[((dfprueba[\"tiempo_desemp\"]== \"Entre 6 meses y 11 meses\") &\n",
    "             (dfprueba[\"tiempo_empleo\"] >= 30) & \n",
    "             (dfprueba[\"camino\"]==\"t_dos\") & (dfprueba[\"ano_encuesta\"]== 2013))]\n",
    "ppp = dfprueba[((dfprueba[\"tiempo_desemp\"]== \"Entre 6 meses y 11 meses\") &\n",
    "             (dfprueba[\"tiempo_empleo\"] >= 30) & \n",
    "             (dfprueba[\"camino\"]==\"t_dos\") & (dfprueba[\"ano_encuesta\"]== 2016))]\n",
    "qqq = dfprueba[((dfprueba[\"tiempo_desemp\"]== \"Entre 6 meses y 11 meses\") &\n",
    "             (dfprueba[\"tiempo_empleo\"] >= 30) & \n",
    "             (dfprueba[\"camino\"]==\"t_tres\") & (dfprueba[\"ano_encuesta\"]== 2013))]\n",
    "rrr = dfprueba[((dfprueba[\"tiempo_desemp\"]== \"Entre 6 meses y 11 meses\") &\n",
    "             (dfprueba[\"tiempo_empleo\"] >= 30) & \n",
    "             (dfprueba[\"camino\"]==\"t_tres\") & (dfprueba[\"ano_encuesta\"]== 2016))]\n",
    "sss = dfprueba[((dfprueba[\"tiempo_desemp\"]== \"Entre 6 meses y 11 meses\") &\n",
    "             (dfprueba[\"tiempo_empleo\"] >= 30) & \n",
    "              (dfprueba[\"camino\"]==\"t_cuatro\") & (dfprueba[\"ano_encuesta\"]== 2013))]\n",
    "ttt = dfprueba[((dfprueba[\"tiempo_desemp\"]== \"Entre 6 meses y 11 meses\") &\n",
    "             (dfprueba[\"tiempo_empleo\"] >= 30) & \n",
    "              (dfprueba[\"camino\"]==\"t_cuatro\") & (dfprueba[\"ano_encuesta\"]== 2016))]\n",
    "uuu = dfprueba[((dfprueba[\"tiempo_desemp\"]== \"Entre 6 meses y 11 meses\") & \n",
    "               (dfprueba[\"tiempo_empleo\"] >= 30) & \n",
    "               (dfprueba[\"camino\"]==\"t_cinco\") & (dfprueba[\"ano_encuesta\"]== 2013))]\n",
    "vvv = dfprueba[((dfprueba[\"tiempo_desemp\"]== \"Entre 6 meses y 11 meses\") & \n",
    "               (dfprueba[\"tiempo_empleo\"] >= 30) & \n",
    "               (dfprueba[\"camino\"]==\"t_cinco\") & (dfprueba[\"ano_encuesta\"]== 2016))]\n",
    "www = dfprueba[((dfprueba[\"tiempo_desemp\"]== \"Entre 6 meses y 11 meses\") & \n",
    "               (dfprueba[\"tiempo_empleo\"] >= 30) & \n",
    "               (dfprueba[\"camino\"]==\"t_seis\") & (dfprueba[\"ano_encuesta\"]== 2013))]\n",
    "xxx =dfprueba[((dfprueba[\"tiempo_desemp\"]== \"Entre 6 meses y 11 meses\") & \n",
    "               (dfprueba[\"tiempo_empleo\"] >= 30) & \n",
    "               (dfprueba[\"camino\"]==\"t_seis\") & (dfprueba[\"ano_encuesta\"]== 2016))]"
   ]
  },
  {
   "cell_type": "code",
   "execution_count": 40,
   "metadata": {},
   "outputs": [],
   "source": [
    "#4. Menos de 6 meses\n",
    "#Se crean los subconjuntos de valores incoherentes [mmmm,xxxx]\n",
    "\n",
    "mmmm = dfprueba[((dfprueba[\"tiempo_desemp\"]== \"Menos de 6 meses\") &\n",
    "             (dfprueba[\"tiempo_empleo\"] >= 35) & \n",
    "             (dfprueba[\"camino\"]==\"t_uno\") & (dfprueba[\"ano_encuesta\"]== 2013))]\n",
    "nnnn = dfprueba[((dfprueba[\"tiempo_desemp\"]== \"Menos de 6 meses\") &\n",
    "             (dfprueba[\"tiempo_empleo\"] >= 35) & \n",
    "             (dfprueba[\"camino\"]==\"t_uno\") & (dfprueba[\"ano_encuesta\"]== 2016))]\n",
    "oooo = dfprueba[((dfprueba[\"tiempo_desemp\"]== \"Menos de 6 meses\") &\n",
    "             (dfprueba[\"tiempo_empleo\"] >= 35) & \n",
    "             (dfprueba[\"camino\"]==\"t_dos\") & (dfprueba[\"ano_encuesta\"]== 2013))]\n",
    "pppp = dfprueba[((dfprueba[\"tiempo_desemp\"]== \"Menos de 6 meses\") &\n",
    "             (dfprueba[\"tiempo_empleo\"] >= 35) & \n",
    "             (dfprueba[\"camino\"]==\"t_dos\") & (dfprueba[\"ano_encuesta\"]== 2016))]\n",
    "qqqq = dfprueba[((dfprueba[\"tiempo_desemp\"]== \"Menos de 6 meses\") &\n",
    "             (dfprueba[\"tiempo_empleo\"] >= 35) & \n",
    "             (dfprueba[\"camino\"]==\"t_tres\") & (dfprueba[\"ano_encuesta\"]== 2013))]\n",
    "rrrr = dfprueba[((dfprueba[\"tiempo_desemp\"]== \"Menos de 6 meses\") &\n",
    "             (dfprueba[\"tiempo_empleo\"] >= 35) & \n",
    "             (dfprueba[\"camino\"]==\"t_tres\") & (dfprueba[\"ano_encuesta\"]== 2016))]\n",
    "ssss = dfprueba[((dfprueba[\"tiempo_desemp\"]== \"Menos de 6 meses\") &\n",
    "             (dfprueba[\"tiempo_empleo\"] >= 35) & \n",
    "              (dfprueba[\"camino\"]==\"t_cuatro\") & (dfprueba[\"ano_encuesta\"]== 2013))]\n",
    "tttt = dfprueba[((dfprueba[\"tiempo_desemp\"]== \"Menos de 6 meses\") &\n",
    "             (dfprueba[\"tiempo_empleo\"] >= 35) & \n",
    "              (dfprueba[\"camino\"]==\"t_cuatro\") & (dfprueba[\"ano_encuesta\"]== 2016))]\n",
    "uuuu = dfprueba[((dfprueba[\"tiempo_desemp\"]== \"Menos de 6 meses\") & \n",
    "               (dfprueba[\"tiempo_empleo\"] >= 35) & \n",
    "               (dfprueba[\"camino\"]==\"t_cinco\") & (dfprueba[\"ano_encuesta\"]== 2013))]\n",
    "vvvv = dfprueba[((dfprueba[\"tiempo_desemp\"]== \"Menos de 6 meses\") & \n",
    "               (dfprueba[\"tiempo_empleo\"] >= 35) & \n",
    "               (dfprueba[\"camino\"]==\"t_cinco\") & (dfprueba[\"ano_encuesta\"]== 2016))]\n",
    "wwww = dfprueba[((dfprueba[\"tiempo_desemp\"]== \"Menos de 6 meses\") & \n",
    "               (dfprueba[\"tiempo_empleo\"] >= 35) & \n",
    "               (dfprueba[\"camino\"]==\"t_seis\") & (dfprueba[\"ano_encuesta\"]== 2013))]\n",
    "xxxx =dfprueba[((dfprueba[\"tiempo_desemp\"]== \"Menos de 6 meses\") & \n",
    "               (dfprueba[\"tiempo_empleo\"] >= 35) & \n",
    "               (dfprueba[\"camino\"]==\"t_seis\") & (dfprueba[\"ano_encuesta\"]== 2016))]"
   ]
  },
  {
   "cell_type": "code",
   "execution_count": 41,
   "metadata": {},
   "outputs": [],
   "source": [
    "# se calcula el promedio para los grupos [a, l], [aa, ll], [aaa, lll], [aaaa,llll]\n",
    "a1= np.mean(a[\"tiempo_empleo\"])\n",
    "b1= np.mean(b[\"tiempo_empleo\"]) \n",
    "c1= np.mean(c[\"tiempo_empleo\"])\n",
    "d1= np.mean(d[\"tiempo_empleo\"])\n",
    "e1= np.mean(e[\"tiempo_empleo\"])\n",
    "f1= np.mean(f[\"tiempo_empleo\"]) \n",
    "g1= np.mean(g[\"tiempo_empleo\"])\n",
    "h1= np.mean(h[\"tiempo_empleo\"])\n",
    "i1= np.mean(i[\"tiempo_empleo\"])\n",
    "j1= np.mean(j[\"tiempo_empleo\"]) \n",
    "k1= np.mean(k[\"tiempo_empleo\"])\n",
    "l1= np.mean(l[\"tiempo_empleo\"])\n",
    "\n",
    "aa1= np.mean(aa[\"tiempo_empleo\"])\n",
    "bb1= np.mean(bb[\"tiempo_empleo\"]) \n",
    "cc1= np.mean(cc[\"tiempo_empleo\"])\n",
    "dd1= np.mean(dd[\"tiempo_empleo\"])\n",
    "ee1= np.mean(ee[\"tiempo_empleo\"])\n",
    "ff1= np.mean(ff[\"tiempo_empleo\"]) \n",
    "gg1= np.mean(gg[\"tiempo_empleo\"])\n",
    "hh1= np.mean(hh[\"tiempo_empleo\"])\n",
    "ii1= np.mean(ii[\"tiempo_empleo\"])\n",
    "jj1= np.mean(jj[\"tiempo_empleo\"]) \n",
    "kk1= np.mean(kk[\"tiempo_empleo\"])\n",
    "ll1= np.mean(ll[\"tiempo_empleo\"])\n",
    "\n",
    "aaa1= np.mean(aaa[\"tiempo_empleo\"])\n",
    "bbb1= np.mean(bbb[\"tiempo_empleo\"]) \n",
    "ccc1= np.mean(ccc[\"tiempo_empleo\"])\n",
    "ddd1= np.mean(ddd[\"tiempo_empleo\"])\n",
    "eee1= np.mean(eee[\"tiempo_empleo\"])\n",
    "fff1= np.mean(fff[\"tiempo_empleo\"]) \n",
    "ggg1= np.mean(ggg[\"tiempo_empleo\"])\n",
    "hhh1= np.mean(hhh[\"tiempo_empleo\"])\n",
    "iii1= np.mean(iii[\"tiempo_empleo\"])\n",
    "jjj1= np.mean(jjj[\"tiempo_empleo\"]) \n",
    "kkk1= np.mean(kkk[\"tiempo_empleo\"])\n",
    "lll1= np.mean(lll[\"tiempo_empleo\"])\n",
    "\n",
    "aaaa1= np.mean(aaaa[\"tiempo_empleo\"])\n",
    "bbbb1= np.mean(bbbb[\"tiempo_empleo\"]) \n",
    "cccc1= np.mean(cccc[\"tiempo_empleo\"])\n",
    "dddd1= np.mean(dddd[\"tiempo_empleo\"])\n",
    "eeee1= np.mean(eeee[\"tiempo_empleo\"])\n",
    "ffff1= np.mean(ffff[\"tiempo_empleo\"]) \n",
    "gggg1= np.mean(gggg[\"tiempo_empleo\"])\n",
    "hhhh1= np.mean(hhhh[\"tiempo_empleo\"])\n",
    "iiii1= np.mean(iiii[\"tiempo_empleo\"])\n",
    "jjjj1= np.mean(jjjj[\"tiempo_empleo\"]) \n",
    "kkkk1= np.mean(kkkk[\"tiempo_empleo\"])\n",
    "llll1= np.mean(llll[\"tiempo_empleo\"])"
   ]
  },
  {
   "cell_type": "code",
   "execution_count": 44,
   "metadata": {},
   "outputs": [],
   "source": [
    "# aplico el promedio para los grupos [m, x], [mm, xx], [mmm, xxx], [mmmm,xxxx]\n",
    "m.loc[:,\"tiempo_empleo\"] = a1\n",
    "n.loc[:,\"tiempo_empleo\"] = b1\n",
    "o.loc[:,\"tiempo_empleo\"] = c1\n",
    "p.loc[:,\"tiempo_empleo\"] = d1\n",
    "q.loc[:,\"tiempo_empleo\"] = e1\n",
    "r.loc[:,\"tiempo_empleo\"] = f1\n",
    "s.loc[:,\"tiempo_empleo\"] = g1\n",
    "t.loc[:,\"tiempo_empleo\"] = h1\n",
    "u.loc[:,\"tiempo_empleo\"] = i1\n",
    "v.loc[:,\"tiempo_empleo\"] = j1\n",
    "w.loc[:,\"tiempo_empleo\"] = k1\n",
    "x.loc[:,\"tiempo_empleo\"] = l1\n",
    "\n",
    "mm.loc[:,\"tiempo_empleo\"] = aa1\n",
    "nn.loc[:,\"tiempo_empleo\"] = bb1\n",
    "oo.loc[:,\"tiempo_empleo\"] = cc1\n",
    "pp.loc[:,\"tiempo_empleo\"] = dd1\n",
    "qq.loc[:,\"tiempo_empleo\"] = ee1\n",
    "rr.loc[:,\"tiempo_empleo\"] = ff1\n",
    "ss.loc[:,\"tiempo_empleo\"] = gg1\n",
    "tt.loc[:,\"tiempo_empleo\"] = hh1\n",
    "uu.loc[:,\"tiempo_empleo\"] = ii1\n",
    "vv.loc[:,\"tiempo_empleo\"] = jj1\n",
    "ww.loc[:,\"tiempo_empleo\"] = kk1\n",
    "xx.loc[:,\"tiempo_empleo\"] = ll1\n",
    "\n",
    "mmm.loc[:,\"tiempo_empleo\"] = aaa1\n",
    "nnn.loc[:,\"tiempo_empleo\"] = bbb1\n",
    "ooo.loc[:,\"tiempo_empleo\"] = ccc1\n",
    "ppp.loc[:,\"tiempo_empleo\"] = ddd1\n",
    "qqq.loc[:,\"tiempo_empleo\"] = eee1\n",
    "rrr.loc[:,\"tiempo_empleo\"] = fff1\n",
    "sss.loc[:,\"tiempo_empleo\"] = ggg1\n",
    "ttt.loc[:,\"tiempo_empleo\"] = hhh1\n",
    "uuu.loc[:,\"tiempo_empleo\"] = iii1\n",
    "vvv.loc[:,\"tiempo_empleo\"] = jjj1\n",
    "www.loc[:,\"tiempo_empleo\"] = kkk1\n",
    "xxx.loc[:,\"tiempo_empleo\"] = lll1\n",
    "\n",
    "mmmm.loc[:,\"tiempo_empleo\"] = aaaa1\n",
    "nnnn.loc[:,\"tiempo_empleo\"] = bbbb1\n",
    "oooo.loc[:,\"tiempo_empleo\"] = cccc1\n",
    "pppp.loc[:,\"tiempo_empleo\"] = dddd1\n",
    "qqqq.loc[:,\"tiempo_empleo\"] = eeee1\n",
    "rrrr.loc[:,\"tiempo_empleo\"] = ffff1\n",
    "ssss.loc[:,\"tiempo_empleo\"] = gggg1\n",
    "tttt.loc[:,\"tiempo_empleo\"] = hhhh1\n",
    "uuuu.loc[:,\"tiempo_empleo\"] = iiii1\n",
    "vvvv.loc[:,\"tiempo_empleo\"] = jjjj1\n",
    "wwww.loc[:,\"tiempo_empleo\"] = kkkk1\n",
    "xxxx.loc[:,\"tiempo_empleo\"] = llll1"
   ]
  },
  {
   "cell_type": "code",
   "execution_count": 45,
   "metadata": {
    "scrolled": false
   },
   "outputs": [
    {
     "name": "stdout",
     "output_type": "stream",
     "text": [
      "(0, 187)\n",
      "(0, 187)\n",
      "(22, 187)\n",
      "(1, 187)\n",
      "(0, 187)\n",
      "(1, 187)\n",
      "(4, 187)\n",
      "(5, 187)\n",
      "(0, 187)\n",
      "(3, 187)\n",
      "(0, 187)\n",
      "(1, 187)\n",
      "(0, 187)\n",
      "(3, 187)\n",
      "(115, 187)\n",
      "(7, 187)\n",
      "(0, 187)\n",
      "(13, 187)\n",
      "(11, 187)\n",
      "(11, 187)\n",
      "(0, 187)\n",
      "(3, 187)\n",
      "(0, 187)\n",
      "(1, 187)\n",
      "(0, 187)\n",
      "(11, 187)\n",
      "(148, 187)\n",
      "(19, 187)\n",
      "(0, 187)\n",
      "(37, 187)\n",
      "(11, 187)\n",
      "(18, 187)\n",
      "(0, 187)\n",
      "(1, 187)\n",
      "(0, 187)\n",
      "(3, 187)\n",
      "(0, 187)\n",
      "(14, 187)\n",
      "(302, 187)\n",
      "(28, 187)\n",
      "(0, 187)\n",
      "(93, 187)\n",
      "(15, 187)\n",
      "(18, 187)\n",
      "(0, 187)\n",
      "(1, 187)\n",
      "(0, 187)\n",
      "(0, 187)\n"
     ]
    }
   ],
   "source": [
    "subconjunto1 = [a,b,c,d,e,f,g,h,i,j,k,l, #más dos años\n",
    "                aa,bb,cc,dd,ee,ff,gg,hh,ii,jj,kk,l, #ntre 1 y 2 años\n",
    "                aaa,bbb,ccc,ddd,eee,fff,ggg,hhh,iii,jjj,kkk,lll, \n",
    "                aaaa,bbbb,cccc,dddd,eeee,ffff,gggg,hhhh,iiii,jjjj,kkkk,llll]\n",
    "for i in subconjunto1: ##imprime las dimensiones del conjunto coherente.\n",
    "    print(i.shape)"
   ]
  },
  {
   "cell_type": "code",
   "execution_count": 46,
   "metadata": {
    "scrolled": false
   },
   "outputs": [
    {
     "name": "stdout",
     "output_type": "stream",
     "text": [
      "(0, 187)\n",
      "(1, 187)\n",
      "(51, 187)\n",
      "(5, 187)\n",
      "(0, 187)\n",
      "(8, 187)\n",
      "(8, 187)\n",
      "(12, 187)\n",
      "(0, 187)\n",
      "(3, 187)\n",
      "(0, 187)\n",
      "(1, 187)\n",
      "(0, 187)\n",
      "(3, 187)\n",
      "(20, 187)\n",
      "(12, 187)\n",
      "(0, 187)\n",
      "(6, 187)\n",
      "(1, 187)\n",
      "(13, 187)\n",
      "(0, 187)\n",
      "(0, 187)\n",
      "(0, 187)\n",
      "(0, 187)\n",
      "(0, 187)\n",
      "(0, 187)\n",
      "(12, 187)\n",
      "(10, 187)\n",
      "(0, 187)\n",
      "(3, 187)\n",
      "(3, 187)\n",
      "(10, 187)\n",
      "(0, 187)\n",
      "(1, 187)\n",
      "(0, 187)\n",
      "(0, 187)\n",
      "(0, 187)\n",
      "(1, 187)\n",
      "(21, 187)\n",
      "(23, 187)\n",
      "(0, 187)\n",
      "(8, 187)\n",
      "(3, 187)\n",
      "(10, 187)\n",
      "(0, 187)\n",
      "(0, 187)\n",
      "(0, 187)\n",
      "(0, 187)\n"
     ]
    }
   ],
   "source": [
    "##crea la lista de  subconjuntos incoherentes e imprime las dimensiones, \n",
    "#se imputó cada promedio del conjunto coherente al subconjunto incoherente\n",
    "subconjunto2= [m,n,o,p,q,r,s,t,u,v,w,x,\n",
    "               mm,nn,oo,pp,qq,rr,ss,tt,uu,vv,ww,xx,\n",
    "               mmm,nnn,ooo,ppp,qqq,rrr,sss,ttt,uuu,vvv,www,xxx,\n",
    "               mmmm,nnnn,oooo,pppp,qqqq,rrrr,ssss,tttt,uuuu,vvvv,wwww,xxxx]\n",
    "for i in subconjunto2: \n",
    "    print(i.shape)"
   ]
  },
  {
   "cell_type": "code",
   "execution_count": 47,
   "metadata": {},
   "outputs": [
    {
     "name": "stdout",
     "output_type": "stream",
     "text": [
      "0\n",
      "1\n",
      "0\n",
      "0\n",
      "0\n",
      "0\n",
      "0\n",
      "0\n",
      "0\n",
      "0\n",
      "0\n",
      "0\n",
      "0\n",
      "0\n",
      "0\n",
      "0\n",
      "0\n",
      "0\n",
      "0\n",
      "0\n",
      "0\n",
      "0\n",
      "0\n",
      "0\n",
      "0\n",
      "0\n",
      "0\n",
      "0\n",
      "0\n",
      "0\n",
      "0\n",
      "0\n",
      "0\n",
      "0\n",
      "0\n",
      "0\n",
      "0\n",
      "0\n",
      "0\n",
      "0\n",
      "0\n",
      "0\n",
      "0\n",
      "0\n",
      "0\n",
      "0\n",
      "0\n",
      "0\n"
     ]
    }
   ],
   "source": [
    "#lista de dataframe a imputar, subcojunto [m,xxxx]\n",
    "for i in subconjunto2: #imprime los datos nulos del conjunto incoherente, al cual se le imputó cada promedio del conjunto coherente\n",
    "    print(i[\"tiempo_empleo\"].isnull().sum())"
   ]
  },
  {
   "cell_type": "code",
   "execution_count": 49,
   "metadata": {
    "scrolled": false
   },
   "outputs": [
    {
     "name": "stdout",
     "output_type": "stream",
     "text": [
      "[nan, nan, 4.5, 1.0, nan, 1.0, 3.25, 4.4, nan, 4.333333333333333, nan, 2.0, nan, 13.377450980392156, 10.07885763000852, 5.857142857142857, nan, 8.071618037135279, 8.664679582712369, 9.818181818181818, nan, 11.808080808080808, nan, 2.0, nan, 13.77540106951872, 11.350755166931629, 11.842105263157896, nan, 11.626281453867662, 10.5424739195231, 11.666666666666666, nan, 2.0, nan, 16.0, nan, 11.099789915966387, 11.968121023243768, 9.25, nan, 11.458657767890253, 11.064480874316938, 11.055555555555555, nan, 12.212121212121213, nan, nan]\n"
     ]
    }
   ],
   "source": [
    "#lista de escalares, promedios, de subcojunto [a, llll]\n",
    "sub11= [a1,b1,c1,d1,e1,f1,g1,h1,i1,j1,k1,l1, \n",
    "                aa1,bb1,cc1,dd1,ee1,ff1,gg1,hh1,ii1,jj1,kk1,l1,\n",
    "                aaa1,bbb1,ccc1,ddd1,eee1,fff1,ggg1,hhh1,iii1,jjj1,kkk1,lll1, \n",
    "                aaaa1,bbbb1,cccc1,dddd1,eeee1,ffff1,gggg1,hhhh1,iiii1,jjjj1,kkkk1,llll1]\n",
    "print(sub11)"
   ]
  },
  {
   "cell_type": "code",
   "execution_count": 50,
   "metadata": {},
   "outputs": [],
   "source": [
    "#imputación: inserción de subconjuntos imputados (corregidos) en la base original\n",
    "for i in subconjunto2:\n",
    "    dfprueba.update(i)"
   ]
  },
  {
   "cell_type": "code",
   "execution_count": 32,
   "metadata": {
    "scrolled": true
   },
   "outputs": [
    {
     "data": {
      "text/plain": [
       "43.76486734019864"
      ]
     },
     "execution_count": 32,
     "metadata": {},
     "output_type": "execute_result"
    }
   ],
   "source": [
    "dfprueba[\"tiempo_empleo\"].mean() # 1"
   ]
  },
  {
   "cell_type": "code",
   "execution_count": 51,
   "metadata": {},
   "outputs": [
    {
     "data": {
      "text/plain": [
       "42.47630064672973"
      ]
     },
     "execution_count": 51,
     "metadata": {},
     "output_type": "execute_result"
    }
   ],
   "source": [
    "dfprueba[\"tiempo_empleo\"].mean() #3"
   ]
  },
  {
   "cell_type": "code",
   "execution_count": 20,
   "metadata": {
    "scrolled": true
   },
   "outputs": [
    {
     "data": {
      "text/html": [
       "<div>\n",
       "<style scoped>\n",
       "    .dataframe tbody tr th:only-of-type {\n",
       "        vertical-align: middle;\n",
       "    }\n",
       "\n",
       "    .dataframe tbody tr th {\n",
       "        vertical-align: top;\n",
       "    }\n",
       "\n",
       "    .dataframe thead tr th {\n",
       "        text-align: left;\n",
       "    }\n",
       "\n",
       "    .dataframe thead tr:last-of-type th {\n",
       "        text-align: right;\n",
       "    }\n",
       "</style>\n",
       "<table border=\"1\" class=\"dataframe\">\n",
       "  <thead>\n",
       "    <tr>\n",
       "      <th></th>\n",
       "      <th></th>\n",
       "      <th colspan=\"6\" halign=\"left\">count</th>\n",
       "      <th colspan=\"6\" halign=\"left\">mean</th>\n",
       "    </tr>\n",
       "    <tr>\n",
       "      <th></th>\n",
       "      <th></th>\n",
       "      <th colspan=\"6\" halign=\"left\">tiempo_empleo</th>\n",
       "      <th colspan=\"6\" halign=\"left\">tiempo_empleo</th>\n",
       "    </tr>\n",
       "    <tr>\n",
       "      <th></th>\n",
       "      <th>camino</th>\n",
       "      <th>t_cinco</th>\n",
       "      <th>t_cuatro</th>\n",
       "      <th>t_dos</th>\n",
       "      <th>t_seis</th>\n",
       "      <th>t_tres</th>\n",
       "      <th>t_uno</th>\n",
       "      <th>t_cinco</th>\n",
       "      <th>t_cuatro</th>\n",
       "      <th>t_dos</th>\n",
       "      <th>t_seis</th>\n",
       "      <th>t_tres</th>\n",
       "      <th>t_uno</th>\n",
       "    </tr>\n",
       "    <tr>\n",
       "      <th>tiempo_desemp</th>\n",
       "      <th>ano_encuesta</th>\n",
       "      <th></th>\n",
       "      <th></th>\n",
       "      <th></th>\n",
       "      <th></th>\n",
       "      <th></th>\n",
       "      <th></th>\n",
       "      <th></th>\n",
       "      <th></th>\n",
       "      <th></th>\n",
       "      <th></th>\n",
       "      <th></th>\n",
       "      <th></th>\n",
       "    </tr>\n",
       "  </thead>\n",
       "  <tbody>\n",
       "    <tr>\n",
       "      <th rowspan=\"2\" valign=\"top\">Entre 1 año y 2 años</th>\n",
       "      <th>2013.0</th>\n",
       "      <td>0.0</td>\n",
       "      <td>15.0</td>\n",
       "      <td>140.0</td>\n",
       "      <td>0.0</td>\n",
       "      <td>NaN</td>\n",
       "      <td>0.0</td>\n",
       "      <td>NaN</td>\n",
       "      <td>8.75</td>\n",
       "      <td>12.43</td>\n",
       "      <td>NaN</td>\n",
       "      <td>NaN</td>\n",
       "      <td>NaN</td>\n",
       "    </tr>\n",
       "    <tr>\n",
       "      <th>2016.0</th>\n",
       "      <td>3.0</td>\n",
       "      <td>25.0</td>\n",
       "      <td>19.0</td>\n",
       "      <td>3.0</td>\n",
       "      <td>23.0</td>\n",
       "      <td>7.0</td>\n",
       "      <td>11.81</td>\n",
       "      <td>39.88</td>\n",
       "      <td>34.47</td>\n",
       "      <td>8.67</td>\n",
       "      <td>11.95</td>\n",
       "      <td>17.88</td>\n",
       "    </tr>\n",
       "    <tr>\n",
       "      <th rowspan=\"2\" valign=\"top\">Entre 6 meses y 11 meses</th>\n",
       "      <th>2013.0</th>\n",
       "      <td>0.0</td>\n",
       "      <td>14.0</td>\n",
       "      <td>166.0</td>\n",
       "      <td>0.0</td>\n",
       "      <td>NaN</td>\n",
       "      <td>0.0</td>\n",
       "      <td>NaN</td>\n",
       "      <td>16.00</td>\n",
       "      <td>12.65</td>\n",
       "      <td>NaN</td>\n",
       "      <td>NaN</td>\n",
       "      <td>NaN</td>\n",
       "    </tr>\n",
       "    <tr>\n",
       "      <th>2016.0</th>\n",
       "      <td>2.0</td>\n",
       "      <td>30.0</td>\n",
       "      <td>31.0</td>\n",
       "      <td>3.0</td>\n",
       "      <td>42.0</td>\n",
       "      <td>11.0</td>\n",
       "      <td>19.00</td>\n",
       "      <td>27.07</td>\n",
       "      <td>27.94</td>\n",
       "      <td>16.00</td>\n",
       "      <td>12.81</td>\n",
       "      <td>13.78</td>\n",
       "    </tr>\n",
       "    <tr>\n",
       "      <th rowspan=\"2\" valign=\"top\">Menos de 6 meses</th>\n",
       "      <th>2013.0</th>\n",
       "      <td>0.0</td>\n",
       "      <td>20.0</td>\n",
       "      <td>331.0</td>\n",
       "      <td>0.0</td>\n",
       "      <td>NaN</td>\n",
       "      <td>0.0</td>\n",
       "      <td>NaN</td>\n",
       "      <td>13.70</td>\n",
       "      <td>13.20</td>\n",
       "      <td>NaN</td>\n",
       "      <td>NaN</td>\n",
       "      <td>NaN</td>\n",
       "    </tr>\n",
       "    <tr>\n",
       "      <th>2016.0</th>\n",
       "      <td>1.0</td>\n",
       "      <td>28.0</td>\n",
       "      <td>54.0</td>\n",
       "      <td>NaN</td>\n",
       "      <td>107.0</td>\n",
       "      <td>15.0</td>\n",
       "      <td>12.21</td>\n",
       "      <td>33.82</td>\n",
       "      <td>37.00</td>\n",
       "      <td>NaN</td>\n",
       "      <td>12.65</td>\n",
       "      <td>12.76</td>\n",
       "    </tr>\n",
       "    <tr>\n",
       "      <th rowspan=\"2\" valign=\"top\">Más de 2 años</th>\n",
       "      <th>2013.0</th>\n",
       "      <td>0.0</td>\n",
       "      <td>13.0</td>\n",
       "      <td>76.0</td>\n",
       "      <td>0.0</td>\n",
       "      <td>NaN</td>\n",
       "      <td>0.0</td>\n",
       "      <td>NaN</td>\n",
       "      <td>12.46</td>\n",
       "      <td>12.73</td>\n",
       "      <td>NaN</td>\n",
       "      <td>NaN</td>\n",
       "      <td>NaN</td>\n",
       "    </tr>\n",
       "    <tr>\n",
       "      <th>2016.0</th>\n",
       "      <td>6.0</td>\n",
       "      <td>17.0</td>\n",
       "      <td>6.0</td>\n",
       "      <td>3.0</td>\n",
       "      <td>10.0</td>\n",
       "      <td>2.0</td>\n",
       "      <td>8.24</td>\n",
       "      <td>35.29</td>\n",
       "      <td>28.17</td>\n",
       "      <td>12.67</td>\n",
       "      <td>14.10</td>\n",
       "      <td>6.00</td>\n",
       "    </tr>\n",
       "  </tbody>\n",
       "</table>\n",
       "</div>"
      ],
      "text/plain": [
       "                                              count                         \\\n",
       "                                      tiempo_empleo                          \n",
       "camino                                      t_cinco t_cuatro  t_dos t_seis   \n",
       "tiempo_desemp            ano_encuesta                                        \n",
       "Entre 1 año y 2 años     2013.0                 0.0     15.0  140.0    0.0   \n",
       "                         2016.0                 3.0     25.0   19.0    3.0   \n",
       "Entre 6 meses y 11 meses 2013.0                 0.0     14.0  166.0    0.0   \n",
       "                         2016.0                 2.0     30.0   31.0    3.0   \n",
       "Menos de 6 meses         2013.0                 0.0     20.0  331.0    0.0   \n",
       "                         2016.0                 1.0     28.0   54.0    NaN   \n",
       "Más de 2 años            2013.0                 0.0     13.0   76.0    0.0   \n",
       "                         2016.0                 6.0     17.0    6.0    3.0   \n",
       "\n",
       "                                                            mean           \\\n",
       "                                                   tiempo_empleo            \n",
       "camino                                t_tres t_uno       t_cinco t_cuatro   \n",
       "tiempo_desemp            ano_encuesta                                       \n",
       "Entre 1 año y 2 años     2013.0          NaN   0.0           NaN     8.75   \n",
       "                         2016.0         23.0   7.0         11.81    39.88   \n",
       "Entre 6 meses y 11 meses 2013.0          NaN   0.0           NaN    16.00   \n",
       "                         2016.0         42.0  11.0         19.00    27.07   \n",
       "Menos de 6 meses         2013.0          NaN   0.0           NaN    13.70   \n",
       "                         2016.0        107.0  15.0         12.21    33.82   \n",
       "Más de 2 años            2013.0          NaN   0.0           NaN    12.46   \n",
       "                         2016.0         10.0   2.0          8.24    35.29   \n",
       "\n",
       "                                                                   \n",
       "                                                                   \n",
       "camino                                 t_dos t_seis t_tres  t_uno  \n",
       "tiempo_desemp            ano_encuesta                              \n",
       "Entre 1 año y 2 años     2013.0        12.43    NaN    NaN    NaN  \n",
       "                         2016.0        34.47   8.67  11.95  17.88  \n",
       "Entre 6 meses y 11 meses 2013.0        12.65    NaN    NaN    NaN  \n",
       "                         2016.0        27.94  16.00  12.81  13.78  \n",
       "Menos de 6 meses         2013.0        13.20    NaN    NaN    NaN  \n",
       "                         2016.0        37.00    NaN  12.65  12.76  \n",
       "Más de 2 años            2013.0        12.73    NaN    NaN    NaN  \n",
       "                         2016.0        28.17  12.67  14.10   6.00  "
      ]
     },
     "execution_count": 20,
     "metadata": {},
     "output_type": "execute_result"
    }
   ],
   "source": [
    "des_retro = dfprueba.pivot_table(values= [\"tiempo_empleo\"],\n",
    "                                  index=[\"tiempo_desemp\", \"ano_encuesta\"],\n",
    "                                  columns=[\"camino\"], aggfunc= [\"count\",\"mean\"], margins = False, sort = True)\n",
    "round(des_retro ,2)#, 2).iloc[:, [1,4,]] #1"
   ]
  },
  {
   "cell_type": "code",
   "execution_count": 52,
   "metadata": {
    "scrolled": true
   },
   "outputs": [
    {
     "data": {
      "text/html": [
       "<div>\n",
       "<style scoped>\n",
       "    .dataframe tbody tr th:only-of-type {\n",
       "        vertical-align: middle;\n",
       "    }\n",
       "\n",
       "    .dataframe tbody tr th {\n",
       "        vertical-align: top;\n",
       "    }\n",
       "\n",
       "    .dataframe thead tr th {\n",
       "        text-align: left;\n",
       "    }\n",
       "\n",
       "    .dataframe thead tr:last-of-type th {\n",
       "        text-align: right;\n",
       "    }\n",
       "</style>\n",
       "<table border=\"1\" class=\"dataframe\">\n",
       "  <thead>\n",
       "    <tr>\n",
       "      <th></th>\n",
       "      <th></th>\n",
       "      <th colspan=\"6\" halign=\"left\">count</th>\n",
       "      <th colspan=\"6\" halign=\"left\">mean</th>\n",
       "    </tr>\n",
       "    <tr>\n",
       "      <th></th>\n",
       "      <th></th>\n",
       "      <th colspan=\"6\" halign=\"left\">tiempo_empleo</th>\n",
       "      <th colspan=\"6\" halign=\"left\">tiempo_empleo</th>\n",
       "    </tr>\n",
       "    <tr>\n",
       "      <th></th>\n",
       "      <th>camino</th>\n",
       "      <th>t_cinco</th>\n",
       "      <th>t_cuatro</th>\n",
       "      <th>t_dos</th>\n",
       "      <th>t_seis</th>\n",
       "      <th>t_tres</th>\n",
       "      <th>t_uno</th>\n",
       "      <th>t_cinco</th>\n",
       "      <th>t_cuatro</th>\n",
       "      <th>t_dos</th>\n",
       "      <th>t_seis</th>\n",
       "      <th>t_tres</th>\n",
       "      <th>t_uno</th>\n",
       "    </tr>\n",
       "    <tr>\n",
       "      <th>tiempo_desemp</th>\n",
       "      <th>ano_encuesta</th>\n",
       "      <th></th>\n",
       "      <th></th>\n",
       "      <th></th>\n",
       "      <th></th>\n",
       "      <th></th>\n",
       "      <th></th>\n",
       "      <th></th>\n",
       "      <th></th>\n",
       "      <th></th>\n",
       "      <th></th>\n",
       "      <th></th>\n",
       "      <th></th>\n",
       "    </tr>\n",
       "  </thead>\n",
       "  <tbody>\n",
       "    <tr>\n",
       "      <th rowspan=\"2\" valign=\"top\">Entre 1 año y 2 años</th>\n",
       "      <th>2013.0</th>\n",
       "      <td>0.0</td>\n",
       "      <td>15.0</td>\n",
       "      <td>140.0</td>\n",
       "      <td>0.0</td>\n",
       "      <td>NaN</td>\n",
       "      <td>0.0</td>\n",
       "      <td>NaN</td>\n",
       "      <td>6.93</td>\n",
       "      <td>9.69</td>\n",
       "      <td>NaN</td>\n",
       "      <td>NaN</td>\n",
       "      <td>NaN</td>\n",
       "    </tr>\n",
       "    <tr>\n",
       "      <th>2016.0</th>\n",
       "      <td>3.0</td>\n",
       "      <td>25.0</td>\n",
       "      <td>19.0</td>\n",
       "      <td>3.0</td>\n",
       "      <td>23.0</td>\n",
       "      <td>7.0</td>\n",
       "      <td>11.81</td>\n",
       "      <td>9.43</td>\n",
       "      <td>5.86</td>\n",
       "      <td>8.67</td>\n",
       "      <td>6.67</td>\n",
       "      <td>11.47</td>\n",
       "    </tr>\n",
       "    <tr>\n",
       "      <th rowspan=\"2\" valign=\"top\">Entre 6 meses y 11 meses</th>\n",
       "      <th>2013.0</th>\n",
       "      <td>0.0</td>\n",
       "      <td>14.0</td>\n",
       "      <td>166.0</td>\n",
       "      <td>0.0</td>\n",
       "      <td>NaN</td>\n",
       "      <td>0.0</td>\n",
       "      <td>NaN</td>\n",
       "      <td>10.54</td>\n",
       "      <td>10.94</td>\n",
       "      <td>NaN</td>\n",
       "      <td>NaN</td>\n",
       "      <td>NaN</td>\n",
       "    </tr>\n",
       "    <tr>\n",
       "      <th>2016.0</th>\n",
       "      <td>2.0</td>\n",
       "      <td>30.0</td>\n",
       "      <td>31.0</td>\n",
       "      <td>3.0</td>\n",
       "      <td>42.0</td>\n",
       "      <td>11.0</td>\n",
       "      <td>2.00</td>\n",
       "      <td>10.86</td>\n",
       "      <td>11.01</td>\n",
       "      <td>16.00</td>\n",
       "      <td>11.07</td>\n",
       "      <td>13.78</td>\n",
       "    </tr>\n",
       "    <tr>\n",
       "      <th rowspan=\"2\" valign=\"top\">Menos de 6 meses</th>\n",
       "      <th>2013.0</th>\n",
       "      <td>0.0</td>\n",
       "      <td>20.0</td>\n",
       "      <td>331.0</td>\n",
       "      <td>0.0</td>\n",
       "      <td>NaN</td>\n",
       "      <td>0.0</td>\n",
       "      <td>NaN</td>\n",
       "      <td>9.96</td>\n",
       "      <td>11.68</td>\n",
       "      <td>NaN</td>\n",
       "      <td>NaN</td>\n",
       "      <td>NaN</td>\n",
       "    </tr>\n",
       "    <tr>\n",
       "      <th>2016.0</th>\n",
       "      <td>1.0</td>\n",
       "      <td>28.0</td>\n",
       "      <td>54.0</td>\n",
       "      <td>NaN</td>\n",
       "      <td>107.0</td>\n",
       "      <td>15.0</td>\n",
       "      <td>12.21</td>\n",
       "      <td>11.06</td>\n",
       "      <td>8.74</td>\n",
       "      <td>NaN</td>\n",
       "      <td>10.82</td>\n",
       "      <td>11.10</td>\n",
       "    </tr>\n",
       "    <tr>\n",
       "      <th rowspan=\"2\" valign=\"top\">Más de 2 años</th>\n",
       "      <th>2013.0</th>\n",
       "      <td>0.0</td>\n",
       "      <td>13.0</td>\n",
       "      <td>76.0</td>\n",
       "      <td>0.0</td>\n",
       "      <td>NaN</td>\n",
       "      <td>0.0</td>\n",
       "      <td>NaN</td>\n",
       "      <td>3.00</td>\n",
       "      <td>4.32</td>\n",
       "      <td>NaN</td>\n",
       "      <td>NaN</td>\n",
       "      <td>NaN</td>\n",
       "    </tr>\n",
       "    <tr>\n",
       "      <th>2016.0</th>\n",
       "      <td>6.0</td>\n",
       "      <td>17.0</td>\n",
       "      <td>6.0</td>\n",
       "      <td>3.0</td>\n",
       "      <td>10.0</td>\n",
       "      <td>2.0</td>\n",
       "      <td>4.33</td>\n",
       "      <td>4.40</td>\n",
       "      <td>1.00</td>\n",
       "      <td>1.33</td>\n",
       "      <td>0.90</td>\n",
       "      <td>6.00</td>\n",
       "    </tr>\n",
       "  </tbody>\n",
       "</table>\n",
       "</div>"
      ],
      "text/plain": [
       "                                              count                         \\\n",
       "                                      tiempo_empleo                          \n",
       "camino                                      t_cinco t_cuatro  t_dos t_seis   \n",
       "tiempo_desemp            ano_encuesta                                        \n",
       "Entre 1 año y 2 años     2013.0                 0.0     15.0  140.0    0.0   \n",
       "                         2016.0                 3.0     25.0   19.0    3.0   \n",
       "Entre 6 meses y 11 meses 2013.0                 0.0     14.0  166.0    0.0   \n",
       "                         2016.0                 2.0     30.0   31.0    3.0   \n",
       "Menos de 6 meses         2013.0                 0.0     20.0  331.0    0.0   \n",
       "                         2016.0                 1.0     28.0   54.0    NaN   \n",
       "Más de 2 años            2013.0                 0.0     13.0   76.0    0.0   \n",
       "                         2016.0                 6.0     17.0    6.0    3.0   \n",
       "\n",
       "                                                            mean           \\\n",
       "                                                   tiempo_empleo            \n",
       "camino                                t_tres t_uno       t_cinco t_cuatro   \n",
       "tiempo_desemp            ano_encuesta                                       \n",
       "Entre 1 año y 2 años     2013.0          NaN   0.0           NaN     6.93   \n",
       "                         2016.0         23.0   7.0         11.81     9.43   \n",
       "Entre 6 meses y 11 meses 2013.0          NaN   0.0           NaN    10.54   \n",
       "                         2016.0         42.0  11.0          2.00    10.86   \n",
       "Menos de 6 meses         2013.0          NaN   0.0           NaN     9.96   \n",
       "                         2016.0        107.0  15.0         12.21    11.06   \n",
       "Más de 2 años            2013.0          NaN   0.0           NaN     3.00   \n",
       "                         2016.0         10.0   2.0          4.33     4.40   \n",
       "\n",
       "                                                                   \n",
       "                                                                   \n",
       "camino                                 t_dos t_seis t_tres  t_uno  \n",
       "tiempo_desemp            ano_encuesta                              \n",
       "Entre 1 año y 2 años     2013.0         9.69    NaN    NaN    NaN  \n",
       "                         2016.0         5.86   8.67   6.67  11.47  \n",
       "Entre 6 meses y 11 meses 2013.0        10.94    NaN    NaN    NaN  \n",
       "                         2016.0        11.01  16.00  11.07  13.78  \n",
       "Menos de 6 meses         2013.0        11.68    NaN    NaN    NaN  \n",
       "                         2016.0         8.74    NaN  10.82  11.10  \n",
       "Más de 2 años            2013.0         4.32    NaN    NaN    NaN  \n",
       "                         2016.0         1.00   1.33   0.90   6.00  "
      ]
     },
     "execution_count": 52,
     "metadata": {},
     "output_type": "execute_result"
    }
   ],
   "source": [
    "des_retro = dfprueba.pivot_table(values= [\"tiempo_empleo\"],\n",
    "                                  index=[\"tiempo_desemp\", \"ano_encuesta\"],\n",
    "                                  columns=[\"camino\"], aggfunc= [\"count\",\"mean\"], margins = False, sort = True)\n",
    "round(des_retro ,2)#, 2).iloc[:, [1,4,]] #3"
   ]
  },
  {
   "cell_type": "code",
   "execution_count": 54,
   "metadata": {
    "scrolled": true
   },
   "outputs": [
    {
     "data": {
      "text/plain": [
       "70.94138396379762"
      ]
     },
     "execution_count": 54,
     "metadata": {},
     "output_type": "execute_result"
    }
   ],
   "source": [
    "df7[\"tiempo_empleo\"].mean() #1"
   ]
  },
  {
   "cell_type": "code",
   "execution_count": 55,
   "metadata": {},
   "outputs": [],
   "source": [
    "df7.update(dfprueba)"
   ]
  },
  {
   "cell_type": "code",
   "execution_count": 56,
   "metadata": {},
   "outputs": [
    {
     "data": {
      "text/plain": [
       "70.28763130767285"
      ]
     },
     "execution_count": 56,
     "metadata": {},
     "output_type": "execute_result"
    }
   ],
   "source": [
    "df7[\"tiempo_empleo\"].mean() #1"
   ]
  },
  {
   "cell_type": "code",
   "execution_count": 13,
   "metadata": {},
   "outputs": [],
   "source": [
    "###experiencia\n",
    "df8[\"exper\"]= df8[\"tiempo_empleo\"]/12\n",
    "dfgroups[\"exper\"]= dfgroups[\"tiempo_empleo\"]/12"
   ]
  },
  {
   "cell_type": "markdown",
   "metadata": {},
   "source": [
    "#### Tamaño de la Empresa"
   ]
  },
  {
   "cell_type": "code",
   "execution_count": 61,
   "metadata": {},
   "outputs": [],
   "source": [
    "def tam_e(df):\n",
    "    if ((df[\"tam_empresa\"]!=np.nan) and (df[\"ano_encuesta\"]==2010)):\n",
    "        ta=df[\"tam_empresa\"]\n",
    "    elif ((df[\"n_empleados\"]!=np.nan) and (df[\"ano_encuesta\"]!=2010)):\n",
    "        ta=df[\"n_empleados\"]\n",
    "    else:\n",
    "        ta= np.nan\n",
    "    return(ta)"
   ]
  },
  {
   "cell_type": "code",
   "execution_count": 63,
   "metadata": {},
   "outputs": [],
   "source": [
    "df7[\"ta_empresa\"]= df7.apply(tam_e,axis = 1)"
   ]
  },
  {
   "cell_type": "code",
   "execution_count": 64,
   "metadata": {},
   "outputs": [],
   "source": [
    "dfprueba[\"ta_empresa\"]= dfprueba.apply(tam_e,axis = 1)"
   ]
  },
  {
   "cell_type": "code",
   "execution_count": 10,
   "metadata": {},
   "outputs": [
    {
     "data": {
      "text/plain": [
       "Trabaja solo           1446\n",
       "De 2 a 5 personas       970\n",
       "50 personas y más       957\n",
       "De 6 a 10 personas      260\n",
       "De 20 a 49 personas     224\n",
       "De 11 a 19 personas     152\n",
       "Name: tam_empresa, dtype: int64"
      ]
     },
     "execution_count": 10,
     "metadata": {},
     "output_type": "execute_result"
    }
   ],
   "source": [
    "df7[\"tam_empresa\"].value_counts()"
   ]
  },
  {
   "cell_type": "code",
   "execution_count": 13,
   "metadata": {},
   "outputs": [
    {
     "data": {
      "text/plain": [
       "Trabaja solo           3032\n",
       "50 personas y más      1870\n",
       "De 2 a 5 personas      1808\n",
       "De 20 a 49 personas     519\n",
       "De 6 a 10 personas      493\n",
       "De 11 a 19 personas     332\n",
       "Name: n_empleados, dtype: int64"
      ]
     },
     "execution_count": 13,
     "metadata": {},
     "output_type": "execute_result"
    }
   ],
   "source": [
    "df7[\"n_empleados\"].value_counts()"
   ]
  },
  {
   "cell_type": "code",
   "execution_count": 12,
   "metadata": {},
   "outputs": [
    {
     "data": {
      "text/plain": [
       "Trabaja solo           4478\n",
       "50 personas y más      2827\n",
       "De 2 a 5 personas      2778\n",
       "De 6 a 10 personas      753\n",
       "De 20 a 49 personas     743\n",
       "De 11 a 19 personas     484\n",
       "Name: ta_empresa, dtype: int64"
      ]
     },
     "execution_count": 12,
     "metadata": {},
     "output_type": "execute_result"
    }
   ],
   "source": [
    "df8[\"ta_empresa\"].value_counts()"
   ]
  },
  {
   "cell_type": "markdown",
   "metadata": {},
   "source": [
    "#### Informalidad"
   ]
  },
  {
   "cell_type": "code",
   "execution_count": 71,
   "metadata": {},
   "outputs": [
    {
     "data": {
      "text/plain": [
       "Trabajador por cuenta propia                                                5419\n",
       "Asalariado de empresa particular                                            4576\n",
       "Asalariado del gobierno                                                      762\n",
       "Empleado doméstico                                                           522\n",
       "Jornalero o peón                                                             305\n",
       "Patrón o empleador                                                           270\n",
       "Trabajador familiar sin remuneración                                         194\n",
       "Otro                                                                         153\n",
       "Trabajador de su propia finca independientemente de la forma de tenencia     109\n",
       "Name: ocupacion2, dtype: int64"
      ]
     },
     "execution_count": 71,
     "metadata": {},
     "output_type": "execute_result"
    }
   ],
   "source": [
    "df7[\"ocupacion2\"].value_counts()"
   ]
  },
  {
   "cell_type": "code",
   "execution_count": 72,
   "metadata": {},
   "outputs": [
    {
     "data": {
      "text/plain": [
       "Trabaja solo           1446\n",
       "De 2 a 5 personas       970\n",
       "50 personas y más       957\n",
       "De 6 a 10 personas      260\n",
       "De 20 a 49 personas     224\n",
       "De 11 a 19 personas     152\n",
       "Name: tam_empresa, dtype: int64"
      ]
     },
     "execution_count": 72,
     "metadata": {},
     "output_type": "execute_result"
    }
   ],
   "source": [
    "df7[\"tam_empresa\"].value_counts()"
   ]
  },
  {
   "cell_type": "code",
   "execution_count": 124,
   "metadata": {
    "scrolled": true
   },
   "outputs": [
    {
     "data": {
      "text/plain": [
       "Básica secundaria y media (6 a 13)    7439\n",
       "Básica primaria (1 a 5)               5163\n",
       "Técnico con título                    1178\n",
       "Universitario con título               795\n",
       "Ninguno                                788\n",
       "Universitario sin título               449\n",
       "Tecnológico con título                 388\n",
       "Posgrado con título                    355\n",
       "Técnico sin título                     227\n",
       "Universitario                          227\n",
       "Técnico                                222\n",
       "Posgrado                               102\n",
       "Tecnológico sin título                  85\n",
       "Tecnológico                             67\n",
       "Posgrado sin título                     26\n",
       "Name: educación, dtype: int64"
      ]
     },
     "execution_count": 124,
     "metadata": {},
     "output_type": "execute_result"
    },
    {
     "name": "stdout",
     "output_type": "stream",
     "text": [
      "Executing shutdown due to inactivity...\n",
      "Executing shutdown due to inactivity...\n",
      "Executing shutdown due to inactivity...\n",
      "Executing shutdown due to inactivity...\n",
      "Executing shutdown due to inactivity...\n"
     ]
    },
    {
     "name": "stderr",
     "output_type": "stream",
     "text": [
      "2021-10-23 09:29:57,824 - INFO     - Executing shutdown due to inactivity...\n"
     ]
    },
    {
     "name": "stdout",
     "output_type": "stream",
     "text": [
      "Executing shutdown...\n",
      "Executing shutdown...\n",
      "Executing shutdown...\n",
      "Executing shutdown...\n",
      "Executing shutdown...\n"
     ]
    },
    {
     "name": "stderr",
     "output_type": "stream",
     "text": [
      "2021-10-23 09:30:01,930 - INFO     - Executing shutdown...\n"
     ]
    }
   ],
   "source": [
    "df7[\"educación\"].sort_values().value_counts(dropna=False)"
   ]
  },
  {
   "cell_type": "code",
   "execution_count": 44,
   "metadata": {},
   "outputs": [],
   "source": [
    "#convertir a variable discreta el nivel educativo\n",
    "def educ(df):\n",
    "    if (df[\"educación\"]==\"Ninguno\"):\n",
    "        ed=0\n",
    "    elif (df[\"educación\"]==\"Básica primaria (1 a 5)\"):\n",
    "        ed=1\n",
    "    elif (df[\"educación\"]==\"Básica secundaria y media (6 a 13)\"):\n",
    "        ed=2\n",
    "    elif (df[\"educación\"]==\"Técnico sin título\"):\n",
    "        ed=3\n",
    "    elif (df[\"educación\"]==\"Técnico con título\"):\n",
    "        ed=4\n",
    "    elif (df[\"educación\"]==\"Tecnológico sin título\"):\n",
    "        ed=5\n",
    "    elif (df[\"educación\"]==\"Tecnológico con título\"):\n",
    "        ed=6\n",
    "    elif (df[\"educación\"]==\"Universitario sin título\"):\n",
    "        ed=7\n",
    "    elif (df[\"educación\"]==\"Universitario con título\"):\n",
    "        ed=8\n",
    "    elif (df[\"educación\"]==\"Posgrado sin título\"):\n",
    "        ed=9\n",
    "    elif (df[\"educación\"]==\"Posgrado con título\"):\n",
    "        ed=10\n",
    "    else:\n",
    "        ed=np.nan\n",
    "    return(ed)"
   ]
  },
  {
   "cell_type": "code",
   "execution_count": 45,
   "metadata": {},
   "outputs": [],
   "source": [
    "df7[\"educación2\"]= df7.apply(educ,axis = 1)"
   ]
  },
  {
   "cell_type": "code",
   "execution_count": 46,
   "metadata": {},
   "outputs": [],
   "source": [
    "dfprueba[\"educación2\"]= dfprueba.apply(educ,axis = 1)"
   ]
  },
  {
   "cell_type": "code",
   "execution_count": 6,
   "metadata": {},
   "outputs": [],
   "source": [
    "#reducir niveles de educación\n",
    "def educ3(df):\n",
    "    if (df[\"educación\"]==\"Ninguno\") or (df[\"educación\"]==\"Básica primaria (1 a 5)\") or (df[\"educación\"]==\"Básica secundaria y media (6 a 13)\"):\n",
    "        ed=df[\"educación\"]\n",
    "    elif (df[\"educación\"]==\"Técnico sin título\") or (df[\"educación\"]==\"Técnico con título\"):\n",
    "        ed=\"Técnico\"\n",
    "    elif (df[\"educación\"]==\"Tecnológico sin título\") or (df[\"educación\"]==\"Tecnológico con título\"):\n",
    "        ed=\"Tecnológico\"\n",
    "    elif (df[\"educación\"]==\"Universitario sin título\") or (df[\"educación\"]==\"Universitario con título\"):        ed=\"Universitario\"\n",
    "    elif (df[\"educación\"]==\"Posgrado sin título\") or (df[\"educación\"]==\"Posgrado con título\"):\n",
    "        ed=\"Posgrado\"\n",
    "    else:\n",
    "        ed=np.nan\n",
    "    return(ed)"
   ]
  },
  {
   "cell_type": "code",
   "execution_count": 7,
   "metadata": {},
   "outputs": [],
   "source": [
    "df8[\"educación3\"]= df8.apply(educ3,axis = 1)"
   ]
  },
  {
   "cell_type": "code",
   "execution_count": 8,
   "metadata": {},
   "outputs": [],
   "source": [
    "dfgroups[\"educación3\"]= dfgroups.apply(educ3,axis = 1)"
   ]
  },
  {
   "cell_type": "code",
   "execution_count": 17,
   "metadata": {},
   "outputs": [],
   "source": [
    "#reducir variable educación 4\n",
    "def educ4(df):\n",
    "    if (df[\"educación\"]==\"Ninguno\" or df[\"educación\"]==\"Básica primaria (1 a 5)\" or\n",
    "        df[\"educación\"]==\"Básica secundaria y media (6 a 13)\"):\n",
    "        ed=df[\"educación\"]\n",
    "    elif (df[\"educación\"]==\"Técnico sin título\" or df[\"educación\"]==\"Técnico con título\" or \n",
    "          df[\"educación\"]==\"Tecnológico sin título\" or df[\"educación\"]==\"Tecnológico con título\" or \n",
    "          df[\"educación\"]==\"Universitario sin título\" or df[\"educación\"]==\"Universitario con título\" or\n",
    "          df[\"educación\"]==\"Posgrado sin título\" or df[\"educación\"]==\"Posgrado con título\"):\n",
    "        ed=\"Superior\"\n",
    "    else:\n",
    "        ed=np.nan\n",
    "    return(ed)"
   ]
  },
  {
   "cell_type": "code",
   "execution_count": 18,
   "metadata": {},
   "outputs": [],
   "source": [
    "df8[\"educación4\"]= df8.apply(educ4,axis = 1)"
   ]
  },
  {
   "cell_type": "code",
   "execution_count": 19,
   "metadata": {},
   "outputs": [],
   "source": [
    "dfgroups[\"educación4\"]= dfgroups.apply(educ4,axis = 1)"
   ]
  },
  {
   "cell_type": "code",
   "execution_count": 23,
   "metadata": {},
   "outputs": [],
   "source": [
    "#educación con y sin titulo\n",
    "def educ5(df):\n",
    "    if (df[\"educación\"]==\"Ninguno\" or df[\"educación\"]==\"Básica primaria (1 a 5)\" or\n",
    "        df[\"educación\"]==\"Básica secundaria y media (6 a 13)\"):\n",
    "        ed=df[\"educación\"]\n",
    "    elif (df[\"educación\"]==\"Técnico con título\" or \n",
    "          df[\"educación\"]==\"Tecnológico con título\" or \n",
    "          df[\"educación\"]==\"Universitario con título\" or\n",
    "          df[\"educación\"]==\"Posgrado con título\"):\n",
    "        ed=\"Superior con título\"\n",
    "    elif (df[\"educación\"]==\"Técnico sin título\" or \n",
    "          df[\"educación\"]==\"Tecnológico sin título\" or \n",
    "          df[\"educación\"]==\"Universitario sin título\" or\n",
    "          df[\"educación\"]==\"Posgrado sin título\"):    \n",
    "        ed=\"Superior sin título\"\n",
    "    else:\n",
    "        ed=np.nan\n",
    "    return(ed)"
   ]
  },
  {
   "cell_type": "code",
   "execution_count": 24,
   "metadata": {},
   "outputs": [],
   "source": [
    "df8[\"educación5\"]= df8.apply(educ5,axis = 1)"
   ]
  },
  {
   "cell_type": "code",
   "execution_count": 25,
   "metadata": {},
   "outputs": [],
   "source": [
    "dfgroups[\"educación5\"]= dfgroups.apply(educ5,axis = 1)"
   ]
  },
  {
   "cell_type": "code",
   "execution_count": 26,
   "metadata": {},
   "outputs": [
    {
     "data": {
      "text/plain": [
       "Básica secundaria y media (6 a 13)    3060\n",
       "Básica primaria (1 a 5)               1890\n",
       "Superior con título                   1120\n",
       "Superior sin título                    624\n",
       "Ninguno                                287\n",
       "Name: educación5, dtype: int64"
      ]
     },
     "execution_count": 26,
     "metadata": {},
     "output_type": "execute_result"
    }
   ],
   "source": [
    "dfgroups[\"educación5\"].value_counts(dropna=False)"
   ]
  },
  {
   "cell_type": "code",
   "execution_count": 21,
   "metadata": {},
   "outputs": [
    {
     "data": {
      "text/plain": [
       "Básica secundaria y media (6 a 13)    3060\n",
       "Básica primaria (1 a 5)               1890\n",
       "Técnico con título                     469\n",
       "Universitario con título               343\n",
       "Universitario sin título               305\n",
       "Ninguno                                287\n",
       "Técnico sin título                     196\n",
       "Tecnológico con título                 180\n",
       "Posgrado con título                    128\n",
       "Tecnológico sin título                  62\n",
       "Posgrado sin título                     61\n",
       "Name: educación, dtype: int64"
      ]
     },
     "execution_count": 21,
     "metadata": {},
     "output_type": "execute_result"
    }
   ],
   "source": [
    "dfgroups[\"educación\"].value_counts(dropna=False)"
   ]
  },
  {
   "cell_type": "markdown",
   "metadata": {},
   "source": [
    "##### Tipo de empleo"
   ]
  },
  {
   "cell_type": "code",
   "execution_count": 106,
   "metadata": {},
   "outputs": [],
   "source": [
    "df7[\"ta_empresa\"]= df7[\"ta_empresa\"].replace(np.nan, \"x\")\n",
    "dfprueba[\"ta_empresa\"]= dfprueba[\"ta_empresa\"].replace(np.nan, \"x\")\n",
    "df7[\"cotiza_fp2\"]= df7[\"cotiza_fp2\"].replace(np.nan, \"x\")\n",
    "dfprueba[\"cotiza_fp2\"]= dfprueba[\"cotiza_fp2\"].replace(np.nan, \"x\")\n",
    "df7[\"afiliacion_fp\"]= df7[\"afiliacion_fp\"].replace(np.nan, \"x\")\n",
    "dfprueba[\"afiliacion_fp\"]= dfprueba[\"afiliacion_fp\"].replace(np.nan, \"x\")"
   ]
  },
  {
   "cell_type": "code",
   "execution_count": 107,
   "metadata": {},
   "outputs": [],
   "source": [
    "#empleo informal \n",
    "#se lleva la variable cotiza_fp2 (con valores solo para el año 2010) a \"si\" y \"No\"\n",
    "#sse utiliza la variable educación2\n",
    "def e_infor(df): \n",
    "    if ((df[\"ocupacion2\"]== \"Asalariado de empresa particular\" or \n",
    "          df[\"ocupacion2\"]== \"Asalariado del gobierno\" or\n",
    "         df[\"ocupacion2\"]== \"Empleado doméstico\" or\n",
    "        df[\"ocupacion2\"]== \"Jornalero o peón\" or\n",
    "        df[\"ocupacion2\"]== \"Trabajador de su propia finca independientemente de la forma de tenencia\" or \n",
    "          df[\"ocupacion2\"]== \"Otro\") and\n",
    "        (df[\"cotiza_fp2\"]==\"No\" or df[\"afiliacion_fp\"]==\"No\")):\n",
    "        i = \"Informal\"\n",
    "    elif ((df[\"ocupacion2\"]== \"Asalariado de empresa particular\" or \n",
    "          df[\"ocupacion2\"]== \"Asalariado del gobierno\" or\n",
    "           df[\"ocupacion2\"]== \"Empleado doméstico\" or\n",
    "        df[\"ocupacion2\"]== \"Jornalero o peón\" or\n",
    "        df[\"ocupacion2\"]== \"Trabajador de su propia finca independientemente de la forma de tenencia\" or\n",
    "           df[\"ocupacion2\"]== \"Otro\") and\n",
    "        (df[\"cotiza_fp2\"]==\"x\" and df[\"afiliacion_fp\"]==\"x\")):\n",
    "         i = \"null\"\n",
    "    elif (df[\"ocupacion2\"]==\"Trabajador familiar sin remuneración\"):\n",
    "        i = \"Informal\"\n",
    "    elif ((df[\"ocupacion2\"]== \"Trabajador por cuenta propia\") and \n",
    "          (df[\"educación2\"]<8 and (df[\"ta_empresa\"]==\"x\" or df[\"ta_empresa\"]==\"Trabaja solo\" or df[\"ta_empresa\"]==\"De 2 a 5 personas\"))):\n",
    "        i = \"Informal\"\n",
    "    elif ((df[\"ocupacion2\"]== \"Patrón o empleador\") and \n",
    "          (df[\"educación2\"]<8 and (df[\"ta_empresa\"]==\"Trabaja solo\" or df[\"ta_empresa\"]==\"De 2 a 5 personas\"))):\n",
    "        i = \"Informal\"\n",
    "    elif ((df[\"ocupacion2\"]== \"Patrón o empleador\") and \n",
    "          (df[\"educación2\"]<8 and df[\"ta_empresa\"]== \"x\")):\n",
    "        i = \"null\"\n",
    "    else: \n",
    "        i = \"x\"\n",
    "    return(i)\n",
    "# hay valores nulos en la variable tam_empresa, por lo cual no los marca como informales sino como \"x\", se corrige.\n",
    "#crear la de formalidad y actualizar la variable tipo de empleo"
   ]
  },
  {
   "cell_type": "code",
   "execution_count": 108,
   "metadata": {
    "scrolled": true
   },
   "outputs": [],
   "source": [
    "df7[\"Tipo_empleo\"]= df7.apply(e_infor,axis = 1)"
   ]
  },
  {
   "cell_type": "code",
   "execution_count": 109,
   "metadata": {},
   "outputs": [],
   "source": [
    "dfprueba[\"Tipo_empleo\"]= dfprueba.apply(e_infor,axis = 1)"
   ]
  },
  {
   "cell_type": "code",
   "execution_count": 110,
   "metadata": {},
   "outputs": [],
   "source": [
    "def e_infor2(df):\n",
    "    if ((df[\"clasif_lab\"]==1) and (df[\"Tipo_empleo\"]==\"x\")):\n",
    "        f = \"Formal\"\n",
    "    else:\n",
    "        f= df[\"Tipo_empleo\"]\n",
    "    return(f)"
   ]
  },
  {
   "cell_type": "code",
   "execution_count": 111,
   "metadata": {
    "scrolled": true
   },
   "outputs": [],
   "source": [
    "df7[\"Tipo_empleo\"]= df7.apply(e_infor2,axis = 1)"
   ]
  },
  {
   "cell_type": "code",
   "execution_count": 112,
   "metadata": {},
   "outputs": [],
   "source": [
    "dfprueba[\"Tipo_empleo\"]= dfprueba.apply(e_infor2,axis = 1)"
   ]
  },
  {
   "cell_type": "code",
   "execution_count": 113,
   "metadata": {},
   "outputs": [],
   "source": [
    "df7[\"Tipo_empleo\"]= df7[\"Tipo_empleo\"].replace(\"null\", np.nan)\n",
    "dfprueba[\"Tipo_empleo\"]= dfprueba[\"Tipo_empleo\"].replace(\"null\", np.nan)\n",
    "df7[\"Tipo_empleo\"]= df7[\"Tipo_empleo\"].replace(\"x\", np.nan)\n",
    "dfprueba[\"Tipo_empleo\"]= dfprueba[\"Tipo_empleo\"].replace(\"x\", np.nan)"
   ]
  },
  {
   "cell_type": "markdown",
   "metadata": {},
   "source": [
    "#### Tipo de empleo informal 2"
   ]
  },
  {
   "cell_type": "code",
   "execution_count": 291,
   "metadata": {},
   "outputs": [],
   "source": [
    "df8[\"ta_empresa\"]= df8[\"ta_empresa\"].replace(np.nan, \"x\")\n",
    "dfgroups[\"ta_empresa\"]= dfgroups[\"ta_empresa\"].replace(np.nan, \"x\")\n",
    "df8[\"cotiza_fp2\"]= df8[\"cotiza_fp2\"].replace(np.nan, \"x\")\n",
    "dfgroups[\"cotiza_fp2\"]= dfgroups[\"cotiza_fp2\"].replace(np.nan, \"x\")\n",
    "df8[\"afiliacion_fp\"]= df8[\"afiliacion_fp\"].replace(np.nan, \"x\")\n",
    "dfgroups[\"afiliacion_fp\"]= dfgroups[\"afiliacion_fp\"].replace(np.nan, \"x\")\n",
    "# df8[\"ocupacion2\"]= df8[\"ocupacion2\"].replace(np.nan, \"x\")\n",
    "# dfgroups[\"ocupacion2\"]= dfgroups[\"ocupacion2\"].replace(np.nan, \"x\")"
   ]
  },
  {
   "cell_type": "code",
   "execution_count": 292,
   "metadata": {},
   "outputs": [],
   "source": [
    "#empleo informal \n",
    "#se lleva la variable cotiza_fp2 (con valores solo para el año 2010) a \"si\" y \"No\"\n",
    "#sse utiliza la variable educación2\n",
    "def infor_sinedu(df): \n",
    "    if ((df[\"ocupacion2\"]== \"Asalariado de empresa particular\" or \n",
    "         df[\"ocupacion2\"]== \"Asalariado del gobierno\" or\n",
    "         df[\"ocupacion2\"]== \"Empleado doméstico\" or\n",
    "         df[\"ocupacion2\"]== \"Jornalero o peón\" or\n",
    "         df[\"ocupacion2\"]== \"Trab. propia finca\" or \n",
    "         df[\"ocupacion2\"]== \"Otro\") and\n",
    "        (df[\"cotiza_fp2\"]==\"No\" or df[\"afiliacion_fp\"]==\"No\")):\n",
    "        i = \"Informal\"\n",
    "    elif ((df[\"ocupacion2\"]== \"Asalariado de empresa particular\" or \n",
    "           df[\"ocupacion2\"]== \"Asalariado del gobierno\" or\n",
    "           df[\"ocupacion2\"]== \"Empleado doméstico\" or\n",
    "           df[\"ocupacion2\"]== \"Jornalero o peón\" or\n",
    "           df[\"ocupacion2\"]== \"Trab. propia finca\" or\n",
    "           df[\"ocupacion2\"]== \"Otro\") and\n",
    "          (df[\"cotiza_fp2\"]==\"x\" and df[\"afiliacion_fp\"]==\"x\")):\n",
    "        i = \"null\"\n",
    "    elif (df[\"ocupacion2\"]==\"Trab. fam sin remun\"):\n",
    "        i = \"Informal\"\n",
    "    elif ((df[\"ocupacion2\"]== \"Trabajador por cuenta propia\") and \n",
    "          (df[\"ta_empresa\"]==\"x\" or df[\"ta_empresa\"]==\"Trabaja solo\" or df[\"ta_empresa\"]==\"De 2 a 5 personas\")):\n",
    "        i = \"Informal\"\n",
    "    elif ((df[\"ocupacion2\"]== \"Patrón o empleador\") and \n",
    "          (df[\"ta_empresa\"]==\"Trabaja solo\" or df[\"ta_empresa\"]==\"De 2 a 5 personas\")):\n",
    "        i = \"Informal\"\n",
    "    elif ((df[\"ocupacion2\"]== \"Patrón o empleador\") and df[\"ta_empresa\"]== \"x\"):\n",
    "        i = \"null\"\n",
    "    else: \n",
    "        i = \"x\"\n",
    "    return(i)\n",
    "# hay valores nulos en la variable tam_empresa, por lo cual no los marca como informales sino como \"x\", se corrige.\n",
    "#crear la de formalidad y actualizar la variable tipo de empleo"
   ]
  },
  {
   "cell_type": "code",
   "execution_count": 276,
   "metadata": {},
   "outputs": [
    {
     "name": "stdout",
     "output_type": "stream",
     "text": [
      "Trabajador por cuenta propia        2823\n",
      "Asalariado de empresa particular    2247\n",
      "x                                    760\n",
      "Asalariado del gobierno              305\n",
      "Empleado doméstico                   290\n",
      "Jornalero o peón                     189\n",
      "Patrón o empleador                   125\n",
      "Trab. fam sin remun                  103\n",
      "Otro                                  89\n",
      "Trab. propia finca                    50\n",
      "Name: ocupacion2, dtype: int64\n"
     ]
    }
   ],
   "source": [
    "print(dfgroups[\"ocupacion2\"].value_counts(dropna=False))"
   ]
  },
  {
   "cell_type": "code",
   "execution_count": 293,
   "metadata": {
    "scrolled": true
   },
   "outputs": [],
   "source": [
    "df8[\"Tipo_empleo2\"]= df8.apply(infor_sinedu,axis = 1)"
   ]
  },
  {
   "cell_type": "code",
   "execution_count": 294,
   "metadata": {},
   "outputs": [],
   "source": [
    "dfgroups[\"Tipo_empleo2\"]= dfgroups.apply(infor_sinedu,axis = 1)"
   ]
  },
  {
   "cell_type": "code",
   "execution_count": 296,
   "metadata": {},
   "outputs": [],
   "source": [
    "def infor_sinedu2(df):\n",
    "    if (df[\"clasif_lab\"]==1 and df[\"Tipo_empleo2\"]==\"x\"):\n",
    "        f = \"Formal\"\n",
    "    else:\n",
    "        f= df[\"Tipo_empleo2\"]\n",
    "    return(f)"
   ]
  },
  {
   "cell_type": "code",
   "execution_count": 297,
   "metadata": {
    "scrolled": true
   },
   "outputs": [],
   "source": [
    "df8[\"Tipo_empleo2\"]= df8.apply(infor_sinedu2,axis = 1)"
   ]
  },
  {
   "cell_type": "code",
   "execution_count": 298,
   "metadata": {},
   "outputs": [],
   "source": [
    "dfgroups[\"Tipo_empleo2\"]= dfgroups.apply(infor_sinedu2,axis = 1)"
   ]
  },
  {
   "cell_type": "code",
   "execution_count": 300,
   "metadata": {},
   "outputs": [],
   "source": [
    "df8[\"Tipo_empleo2\"]= df8[\"Tipo_empleo2\"].replace(\"null\", np.nan)\n",
    "dfgroups[\"Tipo_empleo2\"]= dfgroups[\"Tipo_empleo2\"].replace(\"null\", np.nan)\n",
    "df8[\"Tipo_empleo2\"]= df8[\"Tipo_empleo2\"].replace(\"x\", np.nan)\n",
    "dfgroups[\"Tipo_empleo2\"]= dfgroups[\"Tipo_empleo2\"].replace(\"x\", np.nan)"
   ]
  },
  {
   "cell_type": "code",
   "execution_count": 301,
   "metadata": {},
   "outputs": [
    {
     "name": "stdout",
     "output_type": "stream",
     "text": [
      "Informal    4112\n",
      "Formal      2107\n",
      "NaN          762\n",
      "Name: Tipo_empleo, dtype: int64\n",
      "Informal    4224\n",
      "Formal      1995\n",
      "NaN          762\n",
      "Name: Tipo_empleo2, dtype: int64\n"
     ]
    }
   ],
   "source": [
    "print(dfgroups[\"Tipo_empleo\"].value_counts(dropna=False))\n",
    "print(dfgroups[\"Tipo_empleo2\"].value_counts(dropna=False))"
   ]
  },
  {
   "cell_type": "markdown",
   "metadata": {},
   "source": [
    "##### Sector de empleo"
   ]
  },
  {
   "cell_type": "code",
   "execution_count": 114,
   "metadata": {},
   "outputs": [],
   "source": [
    "#sector informal \n",
    "#sse utiliza la variable educación2\n",
    "def s_infor(df):\n",
    "    if ((df[\"ocupacion2\"]== \"Trabajador por cuenta propia\") and \n",
    "          (df[\"educación2\"]<8 and (df[\"ta_empresa\"]==\"x\" or df[\"ta_empresa\"]==\"Trabaja solo\" or df[\"ta_empresa\"]==\"De 2 a 5 personas\"))):\n",
    "        i = \"S. Informal\"\n",
    "    elif ((df[\"ocupacion2\"]==\"Asalariado de empresa particular\" or \n",
    "          df[\"ocupacion2\"]==\"Asalariado del gobierno\") and \n",
    "          (df[\"ta_empresa\"]==\"Trabaja solo\" or df[\"ta_empresa\"]==\"De 2 a 5 personas\")):\n",
    "        i = \"S. Informal\"\n",
    "    elif ((df[\"ocupacion2\"]==\"Asalariado de empresa particular\" or \n",
    "          df[\"ocupacion2\"]==\"Asalariado del gobierno\") and \n",
    "          (df[\"ta_empresa\"]==\"x\")):\n",
    "        i = \"null\"\n",
    "    elif ((df[\"ocupacion2\"]==\"Trabajador familiar sin remuneración\") and \n",
    "          (df[\"ta_empresa\"]==\"x\" or df[\"ta_empresa\"]==\"Trabaja solo\" or df[\"ta_empresa\"]==\"De 2 a 5 personas\")):\n",
    "        i = \"S. Informal\"\n",
    "    elif ((df[\"ocupacion2\"]==\"Patrón o empleador\") and \n",
    "          (df[\"educación2\"]<8 and (df[\"ta_empresa\"]==\"Trabaja solo\" or df[\"ta_empresa\"]==\"De 2 a 5 personas\"))):\n",
    "        i = \"S. Informal\"\n",
    "    elif ((df[\"ocupacion2\"]==\"Patrón o empleador\") and \n",
    "          (df[\"educación2\"]<8 and df[\"ta_empresa\"]== \"x\")):\n",
    "        i = \"null\"\n",
    "    elif (df[\"ocupacion2\"]==\"Empleado doméstico\" or \n",
    "           df[\"ocupacion2\"]==\"Jornalero o peón\" or \n",
    "           df[\"ocupacion2\"]==\"Otro\"): \n",
    "        i = \"Hogar_empleador\"\n",
    "    else: \n",
    "        i = \"x\"\n",
    "    return(i)\n",
    "#se deben considerar como otra categoria de la variable, pro ejemplo \"doméstico\"? o se debe adicionar la condición del tamaño del establecimiento??"
   ]
  },
  {
   "cell_type": "code",
   "execution_count": 115,
   "metadata": {
    "scrolled": true
   },
   "outputs": [],
   "source": [
    "df7[\"tipo_sector\"]= df7.apply(s_infor,axis = 1)"
   ]
  },
  {
   "cell_type": "code",
   "execution_count": 116,
   "metadata": {},
   "outputs": [],
   "source": [
    "dfprueba[\"tipo_sector\"]= dfprueba.apply(s_infor,axis = 1)"
   ]
  },
  {
   "cell_type": "code",
   "execution_count": 117,
   "metadata": {},
   "outputs": [],
   "source": [
    "def s_infor2(df):\n",
    "    if ((df[\"clasif_lab\"]==1) and (df[\"tipo_sector\"]==\"x\")):\n",
    "        f = \"S. Formal\"\n",
    "    else:\n",
    "        f= df[\"tipo_sector\"]\n",
    "    return(f)"
   ]
  },
  {
   "cell_type": "code",
   "execution_count": 118,
   "metadata": {
    "scrolled": true
   },
   "outputs": [],
   "source": [
    "df7[\"tipo_sector\"]= df7.apply(s_infor2,axis = 1)"
   ]
  },
  {
   "cell_type": "code",
   "execution_count": 119,
   "metadata": {},
   "outputs": [],
   "source": [
    "dfprueba[\"tipo_sector\"]= dfprueba.apply(s_infor2,axis = 1)"
   ]
  },
  {
   "cell_type": "code",
   "execution_count": 120,
   "metadata": {},
   "outputs": [],
   "source": [
    "df7[\"tipo_sector\"]= df7[\"tipo_sector\"].replace( \"null\", np.nan)\n",
    "dfprueba[\"tipo_sector\"]= dfprueba[\"tipo_sector\"].replace( \"null\", np.nan)\n",
    "df7[\"tipo_sector\"]= df7[\"tipo_sector\"].replace( \"x\", np.nan)\n",
    "dfprueba[\"tipo_sector\"]= dfprueba[\"tipo_sector\"].replace( \"x\", np.nan)"
   ]
  },
  {
   "cell_type": "code",
   "execution_count": 121,
   "metadata": {},
   "outputs": [],
   "source": [
    "df7[\"ta_empresa\"]= df7[\"ta_empresa\"].replace(\"x\", np.nan)\n",
    "dfprueba[\"ta_empresa\"]= dfprueba[\"ta_empresa\"].replace(\"x\", np.nan)\n",
    "df7[\"cotiza_fp2\"]= df7[\"cotiza_fp2\"].replace(\"x\", np.nan)\n",
    "dfprueba[\"cotiza_fp2\"]= dfprueba[\"cotiza_fp2\"].replace(\"x\", np.nan)\n",
    "df7[\"afiliacion_fp\"]= df7[\"afiliacion_fp\"].replace(\"x\", np.nan)\n",
    "dfprueba[\"afiliacion_fp\"]= dfprueba[\"afiliacion_fp\"].replace(\"x\", np.nan)\n"
   ]
  },
  {
   "cell_type": "markdown",
   "metadata": {},
   "source": [
    "#### Economía informal"
   ]
  },
  {
   "cell_type": "code",
   "execution_count": 7,
   "metadata": {},
   "outputs": [],
   "source": [
    "#hussmanns mix\n",
    "def e_inf(df):\n",
    "    if (((df[\"ocupacion2\"]== \"Trabajador por cuenta propia\") and (df[\"Tipo_empleo\"]==\"Formal\") and\n",
    "        (df[\"tipo_sector\"]==\"S. Formal\")) or #a\n",
    "        ((df[\"ocupacion2\"]== \"Patrón o empleador\") and (df[\"Tipo_empleo\"]==\"Formal\") and\n",
    "        (df[\"tipo_sector\"]==\"S. Formal\")) or #b\n",
    "        ((df[\"ocupacion2\"]==\"Asalariado de empresa particular\" or \n",
    "          df[\"ocupacion2\"]==\"Asalariado del gobierno\") and (df[\"Tipo_empleo\"]==\"Formal\" and\n",
    "        df[\"tipo_sector\"]==\"S. Formal\")) or #c\n",
    "        ((df[\"ocupacion2\"]==\"Asalariado de empresa particular\" or \n",
    "          df[\"ocupacion2\"]==\"Asalariado del gobierno\") and (df[\"Tipo_empleo\"]==\"Formal\" and\n",
    "        df[\"tipo_sector\"]==\"Hogar_empleador\")) or #e\n",
    "        ((df[\"ocupacion2\"]==\"Empleado doméstico\" or \n",
    "           df[\"ocupacion2\"]==\"Jornalero o peón\" or \n",
    "           df[\"ocupacion2\"]==\"Otro\") and \n",
    "         (df[\"Tipo_empleo\"]==\"Formal\" and df[\"tipo_sector\"]==\"Hogar_empleador\"))): #f\n",
    "        e=\"Ocupacion_formal\"\n",
    "    elif (((df[\"ocupacion2\"]== \"Trabajador familiar sin remuneración\") and \n",
    "           (df[\"Tipo_empleo\"]==\"Informal\") and (df[\"tipo_sector\"]==\"S. Formal\")) or #1\n",
    "        ((df[\"ocupacion2\"]==\"Asalariado de empresa particular\" or \n",
    "          df[\"ocupacion2\"]==\"Asalariado del gobierno\") and (df[\"Tipo_empleo\"]==\"Informal\" and\n",
    "        df[\"tipo_sector\"]==\"S. Formal\")) or # 2\n",
    "        ((df[\"ocupacion2\"]==\"Asalariado de empresa particular\" or \n",
    "          df[\"ocupacion2\"]==\"Asalariado del gobierno\") and (df[\"Tipo_empleo\"]==\"Informal\" and\n",
    "        df[\"tipo_sector\"]==\"Hogar_empleador\")) or #8\n",
    "        ((df[\"ocupacion2\"]==\"Empleado doméstico\" or \n",
    "           df[\"ocupacion2\"]==\"Jornalero o peón\" or \n",
    "           df[\"ocupacion2\"]==\"Otro\") and\n",
    "         (df[\"Tipo_empleo\"]==\"Informal\" and df[\"tipo_sector\"]==\"Hogar_empleador\"))): #9\n",
    "        e=\"Ocupacion_inf_fuera_s_inf\" \n",
    "    elif (((df[\"ocupacion2\"]== \"Trabajador familiar sin remuneración\") and \n",
    "           (df[\"Tipo_empleo\"]==\"Informal\") and \n",
    "           (df[\"tipo_sector\"]==\"S. Formal\" or df[\"tipo_sector\"]==\"S. Informal\")) or #1 y 5\n",
    "        ((df[\"ocupacion2\"]==\"Asalariado de empresa particular\" or \n",
    "          df[\"ocupacion2\"]==\"Asalariado del gobierno\") and (df[\"Tipo_empleo\"]==\"Informal\" and\n",
    "        df[\"tipo_sector\"]==\"S. Formal\")) or # 2\n",
    "        ((df[\"ocupacion2\"]== \"Trabajador por cuenta propia\") and (df[\"Tipo_empleo\"]==\"Informal\") and\n",
    "        (df[\"tipo_sector\"]==\"S. Informal\")) or #3\n",
    "        ((df[\"ocupacion2\"]== \"Patrón o empleador\") and (df[\"Tipo_empleo\"]==\"Informal\") and\n",
    "        (df[\"tipo_sector\"]==\"S. Informal\")) or #4\n",
    "        ((df[\"ocupacion2\"]==\"Asalariado de empresa particular\" or \n",
    "          df[\"ocupacion2\"]==\"Asalariado del gobierno\") and (df[\"Tipo_empleo\"]==\"Informal\" and\n",
    "        df[\"tipo_sector\"]==\"S. Informal\")) or #6\n",
    "        ((df[\"ocupacion2\"]==\"Asalariado de empresa particular\" or \n",
    "          df[\"ocupacion2\"]==\"Asalariado del gobierno\") and (df[\"Tipo_empleo\"]==\"Informal\" and\n",
    "        df[\"tipo_sector\"]==\"Hogar_empleador\")) or #8\n",
    "        ((df[\"ocupacion2\"]==\"Empleado doméstico\" or \n",
    "           df[\"ocupacion2\"]==\"Jornalero o peón\" or \n",
    "           df[\"ocupacion2\"]==\"Otro\") and\n",
    "         (df[\"Tipo_empleo\"]==\"Informal\" and df[\"tipo_sector\"]==\"Hogar_empleador\"))): #9\n",
    "        e=\"Ocupacion_informal\"\n",
    "    elif (((df[\"ocupacion2\"]== \"Trabajador por cuenta propia\") and (df[\"Tipo_empleo\"]==\"Informal\") and\n",
    "        (df[\"tipo_sector\"]==\"S. Informal\")) or #3\n",
    "        ((df[\"ocupacion2\"]== \"Patrón o empleador\") and (df[\"Tipo_empleo\"]==\"Informal\") and\n",
    "        (df[\"tipo_sector\"]==\"S. Informal\")) or #4\n",
    "          ((df[\"ocupacion2\"]== \"Trabajador familiar sin remuneración\") and \n",
    "           (df[\"Tipo_empleo\"]==\"Informal\") and (df[\"tipo_sector\"]==\"S. Informal\")) or #5\n",
    "        ((df[\"ocupacion2\"]==\"Asalariado de empresa particular\" or \n",
    "          df[\"ocupacion2\"]==\"Asalariado del gobierno\") and (df[\"Tipo_empleo\"]==\"Informal\" and\n",
    "        df[\"tipo_sector\"]==\"S. Informal\")) or #6\n",
    "         ((df[\"ocupacion2\"]==\"Asalariado de empresa particular\" or \n",
    "          df[\"ocupacion2\"]==\"Asalariado del gobierno\") and (df[\"Tipo_empleo\"]==\"Formal\" and\n",
    "        df[\"tipo_sector\"]==\"S. Informal\"))): #7\n",
    "        e=\"Ocupacion_en_s_inf\"\n",
    "    else:\n",
    "        e=np.nan\n",
    "    return(e)       "
   ]
  },
  {
   "cell_type": "code",
   "execution_count": 8,
   "metadata": {},
   "outputs": [],
   "source": [
    "df7[\"hussmanns\"]= df7.apply(e_inf,axis = 1)\n",
    "dfprueba[\"hussmanns\"]= dfprueba.apply(e_inf,axis = 1)"
   ]
  },
  {
   "cell_type": "code",
   "execution_count": 3,
   "metadata": {},
   "outputs": [],
   "source": [
    "#ocupación informal y formal\n",
    "def e_inf(df):\n",
    "    if (((df[\"ocupacion2\"]== \"Trabajador por cuenta propia\") and (df[\"Tipo_empleo\"]==\"Formal\") and\n",
    "        (df[\"tipo_sector\"]==\"S. Formal\")) or #a\n",
    "        ((df[\"ocupacion2\"]== \"Patrón o empleador\") and (df[\"Tipo_empleo\"]==\"Formal\") and\n",
    "        (df[\"tipo_sector\"]==\"S. Formal\")) or #b\n",
    "        ((df[\"ocupacion2\"]==\"Asalariado de empresa particular\" or \n",
    "          df[\"ocupacion2\"]==\"Asalariado del gobierno\") and (df[\"Tipo_empleo\"]==\"Formal\" and\n",
    "        df[\"tipo_sector\"]==\"S. Formal\")) or #c\n",
    "        ((df[\"ocupacion2\"]==\"Asalariado de empresa particular\" or \n",
    "          df[\"ocupacion2\"]==\"Asalariado del gobierno\") and (df[\"Tipo_empleo\"]==\"Formal\" and\n",
    "        df[\"tipo_sector\"]==\"Hogar_empleador\")) or #e\n",
    "        ((df[\"ocupacion2\"]==\"Empleado doméstico\" or \n",
    "           df[\"ocupacion2\"]==\"Jornalero o peón\" or \n",
    "           df[\"ocupacion2\"]==\"Otro\") and \n",
    "         (df[\"Tipo_empleo\"]==\"Formal\" and df[\"tipo_sector\"]==\"Hogar_empleador\"))): #f\n",
    "        e=\"Ocupacion_formal\"\n",
    "    elif (((df[\"ocupacion2\"]== \"Trabajador familiar sin remuneración\") and \n",
    "           (df[\"Tipo_empleo\"]==\"Informal\") and \n",
    "           (df[\"tipo_sector\"]==\"S. Formal\" or df[\"tipo_sector\"]==\"S. Informal\")) or #1 y 5\n",
    "        ((df[\"ocupacion2\"]==\"Asalariado de empresa particular\" or \n",
    "          df[\"ocupacion2\"]==\"Asalariado del gobierno\") and (df[\"Tipo_empleo\"]==\"Informal\" and\n",
    "        df[\"tipo_sector\"]==\"S. Formal\")) or # 2\n",
    "        ((df[\"ocupacion2\"]== \"Trabajador por cuenta propia\") and (df[\"Tipo_empleo\"]==\"Informal\") and\n",
    "        (df[\"tipo_sector\"]==\"S. Informal\")) or #3\n",
    "        ((df[\"ocupacion2\"]== \"Patrón o empleador\") and (df[\"Tipo_empleo\"]==\"Informal\") and\n",
    "        (df[\"tipo_sector\"]==\"S. Informal\")) or #4\n",
    "        ((df[\"ocupacion2\"]==\"Asalariado de empresa particular\" or \n",
    "          df[\"ocupacion2\"]==\"Asalariado del gobierno\") and (df[\"Tipo_empleo\"]==\"Informal\" and\n",
    "        df[\"tipo_sector\"]==\"S. Informal\")) or #6\n",
    "        ((df[\"ocupacion2\"]==\"Asalariado de empresa particular\" or \n",
    "          df[\"ocupacion2\"]==\"Asalariado del gobierno\") and (df[\"Tipo_empleo\"]==\"Informal\" and\n",
    "        df[\"tipo_sector\"]==\"Hogar_empleador\")) or #8\n",
    "        ((df[\"ocupacion2\"]==\"Empleado doméstico\" or \n",
    "           df[\"ocupacion2\"]==\"Jornalero o peón\" or \n",
    "           df[\"ocupacion2\"]==\"Otro\") and\n",
    "         (df[\"Tipo_empleo\"]==\"Informal\" and df[\"tipo_sector\"]==\"Hogar_empleador\"))): #9\n",
    "        e=\"Ocupacion_informal\"\n",
    "    else:\n",
    "        e=np.nan\n",
    "    return(e)       "
   ]
  },
  {
   "cell_type": "code",
   "execution_count": 4,
   "metadata": {},
   "outputs": [],
   "source": [
    "df7[\"hussmanns_a\"]= df7.apply(e_inf,axis = 1)\n",
    "dfprueba[\"hussmanns_a\"]= dfprueba.apply(e_inf,axis = 1)"
   ]
  },
  {
   "cell_type": "code",
   "execution_count": 5,
   "metadata": {},
   "outputs": [],
   "source": [
    "#ocupación inmformal: ocupación en el sector informal y ocupación informal fuera del sector informal\n",
    "def e_inf(df):\n",
    "    if (((df[\"ocupacion2\"]== \"Trabajador familiar sin remuneración\") and \n",
    "           (df[\"Tipo_empleo\"]==\"Informal\") and (df[\"tipo_sector\"]==\"S. Formal\")) or #1\n",
    "        ((df[\"ocupacion2\"]==\"Asalariado de empresa particular\" or \n",
    "          df[\"ocupacion2\"]==\"Asalariado del gobierno\") and (df[\"Tipo_empleo\"]==\"Informal\" and\n",
    "        df[\"tipo_sector\"]==\"S. Formal\")) or # 2\n",
    "        ((df[\"ocupacion2\"]==\"Asalariado de empresa particular\" or \n",
    "          df[\"ocupacion2\"]==\"Asalariado del gobierno\") and (df[\"Tipo_empleo\"]==\"Informal\" and\n",
    "        df[\"tipo_sector\"]==\"Hogar_empleador\")) or #8\n",
    "        ((df[\"ocupacion2\"]==\"Empleado doméstico\" or \n",
    "           df[\"ocupacion2\"]==\"Jornalero o peón\" or \n",
    "           df[\"ocupacion2\"]==\"Otro\") and\n",
    "         (df[\"Tipo_empleo\"]==\"Informal\" and df[\"tipo_sector\"]==\"Hogar_empleador\"))): #9\n",
    "        e=\"Ocupacion_inf_fuera_s_inf\" \n",
    "    elif (((df[\"ocupacion2\"]== \"Trabajador por cuenta propia\") and (df[\"Tipo_empleo\"]==\"Informal\") and\n",
    "        (df[\"tipo_sector\"]==\"S. Informal\")) or #3\n",
    "        ((df[\"ocupacion2\"]== \"Patrón o empleador\") and (df[\"Tipo_empleo\"]==\"Informal\") and\n",
    "        (df[\"tipo_sector\"]==\"S. Informal\")) or #4\n",
    "          ((df[\"ocupacion2\"]== \"Trabajador familiar sin remuneración\") and \n",
    "           (df[\"Tipo_empleo\"]==\"Informal\") and (df[\"tipo_sector\"]==\"S. Informal\")) or #5\n",
    "        ((df[\"ocupacion2\"]==\"Asalariado de empresa particular\" or \n",
    "          df[\"ocupacion2\"]==\"Asalariado del gobierno\") and (df[\"Tipo_empleo\"]==\"Informal\" and\n",
    "        df[\"tipo_sector\"]==\"S. Informal\")) or #6\n",
    "         ((df[\"ocupacion2\"]==\"Asalariado de empresa particular\" or \n",
    "          df[\"ocupacion2\"]==\"Asalariado del gobierno\") and (df[\"Tipo_empleo\"]==\"Formal\" and\n",
    "        df[\"tipo_sector\"]==\"S. Informal\"))): #7\n",
    "        e=\"Ocupacion_en_s_inf\"\n",
    "    else:\n",
    "        e=np.nan\n",
    "    return(e)       "
   ]
  },
  {
   "cell_type": "code",
   "execution_count": 6,
   "metadata": {},
   "outputs": [],
   "source": [
    "df7[\"hussmanns_b\"]= df7.apply(e_inf,axis = 1)\n",
    "dfprueba[\"hussmanns_b\"]= dfprueba.apply(e_inf,axis = 1)"
   ]
  },
  {
   "cell_type": "markdown",
   "metadata": {},
   "source": [
    "#### hogar\n"
   ]
  },
  {
   "cell_type": "code",
   "execution_count": 33,
   "metadata": {},
   "outputs": [],
   "source": [
    "def hog(df):\n",
    "    if (df[\"Fecha\"]==\"2010-12-31\" and df[\"t_hogar\"]!= np.nan):\n",
    "        h=df[\"t_hogar\"]\n",
    "    elif (df[\"Fecha\"]==\"2013-12-31\" and df[\"hogar_l\"]!= np.nan):\n",
    "        h=df[\"hogar_l\"]\n",
    "    elif (df[\"Fecha\"]==\"2016-12-31\" and df[\"hogar_n16_l\"]!= np.nan):\n",
    "        h=df[\"hogar_n16_l\"]\n",
    "    else:\n",
    "        h=df[np.nan]\n",
    "    return(h)"
   ]
  },
  {
   "cell_type": "code",
   "execution_count": 34,
   "metadata": {},
   "outputs": [],
   "source": [
    "df7[\"hogar_numero\"]= df7.apply(hog,axis = 1)\n",
    "dfprueba[\"hogar_numero\"]= dfprueba.apply(hog,axis = 1)"
   ]
  },
  {
   "cell_type": "markdown",
   "metadata": {},
   "source": [
    "#### región"
   ]
  },
  {
   "cell_type": "code",
   "execution_count": 40,
   "metadata": {},
   "outputs": [],
   "source": [
    "#el id_mpiou contiene el códgio de departamento y municipio falso, dejajrlo pero no sirve.\n",
    "#Region_Lb contiene los valores de linea base de la ola anterior, por tanto, para 2010 contiene solo nulos (Dejarla en la base)\n",
    "def reg(df):\n",
    "    if ((df[\"Fecha\"]==\"2010-12-31\" or df[\"Fecha\"]==\"2013-12-31\") and (df[\"region\"]!= np.nan)):\n",
    "        r=df[\"region\"]\n",
    "    elif (df[\"Fecha\"]==\"2016-12-31\" and df[\"region_2016\"]!= np.nan):\n",
    "        r=df[\"region_2016\"]\n",
    "    else:\n",
    "        r=np.nan\n",
    "    return(r)"
   ]
  },
  {
   "cell_type": "code",
   "execution_count": 55,
   "metadata": {},
   "outputs": [],
   "source": [
    "df7[\"region_encuesta\"]= df7.apply(reg,axis = 1)\n",
    "dfprueba[\"region_encuesta\"]= dfprueba.apply(reg,axis = 1)"
   ]
  },
  {
   "cell_type": "code",
   "execution_count": 64,
   "metadata": {},
   "outputs": [],
   "source": [
    "#a 57 datos nulos en la nueva variable (\"region_encuesta\") se le asignan los valores de RegionLb\n",
    "df7[\"region_encuesta\"]= df7[\"region_encuesta\"].replace(np.nan, \"x\")\n",
    "dfprueba[\"region_encuesta\"]= dfprueba[\"region_encuesta\"].replace(np.nan, \"x\")\n",
    "\n",
    "def reg_n(df):\n",
    "    if (df[\"region_encuesta\"]== \"x\"):\n",
    "        r=df[\"RegionLb\"]\n",
    "    else:\n",
    "        r=df[\"region_encuesta\"]\n",
    "    return(r)"
   ]
  },
  {
   "cell_type": "code",
   "execution_count": 65,
   "metadata": {},
   "outputs": [],
   "source": [
    "df7[\"region_encuesta\"]= df7.apply(reg_n,axis = 1)\n",
    "dfprueba[\"region_encuesta\"]= dfprueba.apply(reg_n,axis = 1)"
   ]
  },
  {
   "cell_type": "code",
   "execution_count": 58,
   "metadata": {},
   "outputs": [],
   "source": [
    "# df7['region_encuesta']= df7['region_encuesta'].replace(\"x\", np.nan) \n",
    "# dfprueba['region_encuesta']= dfprueba['region_encuesta'].replace(\"x\", np.nan) "
   ]
  },
  {
   "cell_type": "markdown",
   "metadata": {},
   "source": [
    "#### Tercil riqueza hogar\n"
   ]
  },
  {
   "cell_type": "code",
   "execution_count": 8,
   "metadata": {},
   "outputs": [],
   "source": [
    "def ter(df):\n",
    "    if (df[\"Fecha\"]==\"2010-12-31\" and df[\"tercil2010\"]!= np.nan):\n",
    "        t=df[\"tercil2010\"]\n",
    "    elif (df[\"Fecha\"]==\"2013-12-31\" and df[\"tercil2013\"]!= np.nan):\n",
    "        t=df[\"tercil2013\"]\n",
    "    elif (df[\"Fecha\"]==\"2016-12-31\" and df[\"tercil2016\"]!= np.nan):\n",
    "        t=df[\"tercil2016\"]\n",
    "    else:\n",
    "        t=np.nan\n",
    "    return(t)"
   ]
  },
  {
   "cell_type": "code",
   "execution_count": 9,
   "metadata": {},
   "outputs": [],
   "source": [
    "df7[\"tercil\"]= df7.apply(ter,axis = 1)\n",
    "dfprueba[\"tercil\"]= dfprueba.apply(ter,axis = 1)"
   ]
  },
  {
   "cell_type": "markdown",
   "metadata": {},
   "source": [
    "#### Factor de expansión hogar"
   ]
  },
  {
   "cell_type": "code",
   "execution_count": 16,
   "metadata": {},
   "outputs": [],
   "source": [
    "#factor de expansión longitudinal\n",
    "def fexl(df):\n",
    "    if (df[\"Fecha\"]==\"2010-12-31\" and df[\"fhog\"]!= np.nan):\n",
    "        f=df[\"fhog\"]\n",
    "    elif ((df[\"Fecha\"]==\"2013-12-31\" or df[\"Fecha\"]==\"2016-12-31\") and (df[\"fhog_2010\"]!= np.nan)):\n",
    "        f=df[\"fhog_2010\"]\n",
    "    else:\n",
    "        f=np.nan\n",
    "    return(f)"
   ]
  },
  {
   "cell_type": "code",
   "execution_count": 17,
   "metadata": {},
   "outputs": [],
   "source": [
    "df7[\"factorex_hlong\"]= df7.apply(fexl,axis = 1)\n",
    "dfprueba[\"factorex_hlong\"]= dfprueba.apply(fexl,axis = 1)"
   ]
  },
  {
   "cell_type": "code",
   "execution_count": 45,
   "metadata": {},
   "outputs": [],
   "source": [
    "#factor de expansión unidad longitudinal\n",
    "def fexhl(df):\n",
    "    if (df[\"Fecha\"]==\"2010-12-31\" and df[\"fexhog\"]!= np.nan):\n",
    "        fex=df[\"fexhog\"]\n",
    "    elif ((df[\"Fecha\"]==\"2013-12-31\" or df[\"Fecha\"]==\"2016-12-31\") and (df[\"fexhog_2010\"]!= np.nan)):\n",
    "        fex=df[\"fexhog_2010\"]\n",
    "    else:\n",
    "        fex=np.nan\n",
    "    return(fex)"
   ]
  },
  {
   "cell_type": "code",
   "execution_count": 46,
   "metadata": {},
   "outputs": [],
   "source": [
    "df7[\"factorex_hlong_uni\"]= df7.apply(fexhl,axis = 1)\n",
    "dfprueba[\"factorex_hlong_uni\"]= dfprueba.apply(fexhl,axis = 1)"
   ]
  },
  {
   "cell_type": "code",
   "execution_count": 32,
   "metadata": {},
   "outputs": [],
   "source": [
    "#factor de expansión por olas\n",
    "def fexol(df):\n",
    "    if (df[\"Fecha\"]==\"2010-12-31\" and df[\"fhog\"]!= np.nan):\n",
    "        fo=df[\"fhog\"]\n",
    "    elif (df[\"Fecha\"]==\"2013-12-31\" and (df[\"fhog_2013\"]!= np.nan):\n",
    "        fo=df[\"fhog_2013\"]\n",
    "    elif (df[\"Fecha\"]==\"2016-12-31\" and df[\"fhog_2016\"]!= np.nan):\n",
    "        fo=df[\"fhog_2016\"]\n",
    "    else:\n",
    "        fo=np.nan\n",
    "    return(fo)"
   ]
  },
  {
   "cell_type": "code",
   "execution_count": 34,
   "metadata": {},
   "outputs": [],
   "source": [
    "df7[\"factorex_hola\"]df7.apply(fexol(),axis = 1)\n",
    "dfprueba[\"factorex_hola\"]= dfprueba.apply(fexol(),axis = 1)"
   ]
  },
  {
   "cell_type": "markdown",
   "metadata": {},
   "source": [
    "#### Factor de expansión persona"
   ]
  },
  {
   "cell_type": "code",
   "execution_count": 37,
   "metadata": {},
   "outputs": [],
   "source": [
    "#factor de expansión persona longitudinal\n",
    "def fexperl(df):\n",
    "    if (df[\"Fecha\"]==\"2010-12-31\" and df[\"fpers\"]!= np.nan):\n",
    "        fp=df[\"fpers\"]\n",
    "    elif ((df[\"Fecha\"]==\"2013-12-31\" or df[\"Fecha\"]==\"2016-12-31\") and (df[\"fpers_2010\"]!= np.nan)):\n",
    "        fp=df[\"fpers_2010\"]\n",
    "    else:\n",
    "        fp=np.nan\n",
    "    return(fp)"
   ]
  },
  {
   "cell_type": "code",
   "execution_count": 38,
   "metadata": {},
   "outputs": [],
   "source": [
    "df7[\"factorex_plong\"]= df7.apply(fexperl,axis = 1)\n",
    "dfprueba[\"factorex_plong\"]= dfprueba.apply(fexperl,axis = 1)"
   ]
  },
  {
   "cell_type": "code",
   "execution_count": 2,
   "metadata": {},
   "outputs": [],
   "source": [
    "df7[\"factorex_plong\"]= df7[\"factorex_plong\"].fillna(method=\"ffill\")\n",
    "dfprueba[\"factorex_plong\"]= dfprueba[\"factorex_plong\"].fillna(method=\"ffill\")"
   ]
  },
  {
   "cell_type": "code",
   "execution_count": 3,
   "metadata": {},
   "outputs": [],
   "source": [
    "df8[\"factorex_plong\"]= df8[\"factorex_plong\"].fillna(method=\"ffill\")\n",
    "dfgroups[\"factorex_plong\"]= dfgroups[\"factorex_plong\"].fillna(method=\"ffill\")"
   ]
  },
  {
   "cell_type": "code",
   "execution_count": 47,
   "metadata": {},
   "outputs": [],
   "source": [
    "#factor de expansión persona unidad longitudinal\n",
    "def fexperl_u(df):\n",
    "    if (df[\"Fecha\"]==\"2010-12-31\" and df[\"fexpers\"]!= np.nan):\n",
    "        fpu=df[\"fexpers\"]\n",
    "    elif ((df[\"Fecha\"]==\"2013-12-31\" or df[\"Fecha\"]==\"2016-12-31\") and (df[\"fexpers_2010\"]!= np.nan)):\n",
    "        fpu=df[\"fexpers_2010\"]\n",
    "    else:\n",
    "        fpu=np.nan\n",
    "    return(fpu)"
   ]
  },
  {
   "cell_type": "code",
   "execution_count": 48,
   "metadata": {},
   "outputs": [],
   "source": [
    "df7[\"factorex_plong_uni\"]= df7.apply(fexperl_u,axis = 1)\n",
    "dfprueba[\"factorex_plong_uni\"]= dfprueba.apply(fexperl_u,axis = 1)"
   ]
  },
  {
   "cell_type": "code",
   "execution_count": 40,
   "metadata": {},
   "outputs": [],
   "source": [
    "#factor de expansión persona por olas\n",
    "def fexpol(df):\n",
    "    if (df[\"Fecha\"]==\"2010-12-31\" and df[\"fpers\"]!= np.nan):\n",
    "        fpo=df[\"fpers\"]\n",
    "    elif (df[\"Fecha\"]==\"2013-12-31\" and df[\"fpers_2013\"]!= np.nan):\n",
    "        fpo=df[\"fpers_2013\"]\n",
    "    elif (df[\"Fecha\"]==\"2016-12-31\" and df[\"fpers_2016\"]!= np.nan):\n",
    "        fpo=df[\"fpers_2016\"]\n",
    "    else:\n",
    "        fpo=np.nan\n",
    "    return(fpo)"
   ]
  },
  {
   "cell_type": "code",
   "execution_count": 41,
   "metadata": {},
   "outputs": [],
   "source": [
    "df7[\"factorex_pola\"]= df7.apply(fexpol,axis = 1)\n",
    "dfprueba[\"factorex_pola\"]= dfprueba.apply(fexpol,axis = 1)"
   ]
  },
  {
   "cell_type": "code",
   "execution_count": 7,
   "metadata": {},
   "outputs": [],
   "source": [
    "# Ingreso deflactado ipc normalizado\n",
    "def ipc(df):\n",
    "    if (df[\"ano\"]==2016):\n",
    "        i=100\n",
    "    elif (df[\"ano\"]==2013):\n",
    "        i = round((79.56/93.11)*100,2)\n",
    "    elif (df[\"ano\"]==2010):\n",
    "        i = round((73.45/93.11)*100,2)\n",
    "    else:\n",
    "        i = np.nan\n",
    "    return(i)"
   ]
  },
  {
   "cell_type": "code",
   "execution_count": 8,
   "metadata": {},
   "outputs": [],
   "source": [
    "df8[\"ipc_norm\"]= df8.apply(ipc,axis = 1)\n",
    "dfgroups[\"ipc_norm\"]= dfgroups.apply(ipc,axis = 1)"
   ]
  },
  {
   "cell_type": "code",
   "execution_count": 10,
   "metadata": {},
   "outputs": [],
   "source": [
    "#deflactor\n",
    "df8[\"deflactor\"]= round((100/df8[\"ipc_norm\"]),2)\n",
    "dfgroups[\"deflactor\"]= round((100/dfgroups[\"ipc_norm\"]),2)"
   ]
  },
  {
   "cell_type": "code",
   "execution_count": 11,
   "metadata": {},
   "outputs": [],
   "source": [
    "#ingresos deflactados\n",
    "l1=[\"Ingreso_total\", \"Ingreso_laboral\", \"Ingreso_no_laboral\"]\n",
    "l2=[\"Ingreso_total_dflac\", \"Ingreso_laboral_dflac\", \"Ingreso_no_laboral_dflac\"]\n",
    "\n",
    "for i, j in zip(l1,l2):\n",
    "    df8[j]= round((df8[i]*df8[\"deflactor\"]),2)\n",
    "    dfgroups[j]= round((dfgroups[i]*dfgroups[\"deflactor\"]),2)"
   ]
  },
  {
   "cell_type": "code",
   "execution_count": 17,
   "metadata": {},
   "outputs": [
    {
     "data": {
      "text/plain": [
       "fecha       ID      \n",
       "2010-12-31  11112401    2457915.94\n",
       "2013-12-31  11112401           NaN\n",
       "2016-12-31  11112401    5000000.00\n",
       "2010-12-31  11130702      61964.27\n",
       "2013-12-31  11130702           NaN\n",
       "Name: Ingreso_total_dflac, dtype: float64"
      ]
     },
     "execution_count": 17,
     "metadata": {},
     "output_type": "execute_result"
    }
   ],
   "source": [
    "#df8[\"ipc_norm\"].value_counts()\n",
    "dfgroups[\"Ingreso_total_dflac\"].head()"
   ]
  },
  {
   "cell_type": "code",
   "execution_count": 4,
   "metadata": {},
   "outputs": [
    {
     "data": {
      "text/plain": [
       "c_uno       2391\n",
       "t_dos       2154\n",
       "t_tres       558\n",
       "t_uno        336\n",
       "c_tres       312\n",
       "t_cuatro     300\n",
       "c_seis       216\n",
       "t_seis       192\n",
       "c_cuatro     186\n",
       "t_cinco      147\n",
       "c_dos        144\n",
       "c_cinco       45\n",
       "Name: camino, dtype: int64"
      ]
     },
     "execution_count": 4,
     "metadata": {},
     "output_type": "execute_result"
    }
   ],
   "source": [
    "dfgroups[\"camino\"].value_counts()"
   ]
  },
  {
   "cell_type": "code",
   "execution_count": 6,
   "metadata": {},
   "outputs": [],
   "source": [
    "#la variable scar previamente creada no era dinámica por tanto era solo un identificador. \n",
    "#se crea enbtonces la variable scar2 dinámica para la base de grupos\n",
    "\n",
    "def scarring(df):\n",
    "    if df[\"ano\"]==2010:\n",
    "        s=0\n",
    "    elif (df[\"ano\"]==2013  and (df[\"camino\"]==\"t_uno\" or df[\"camino\"]==\"t_tres\" \n",
    "                                or df[\"camino\"]==\"t_cuatro\" or df[\"camino\"]==\"t_cinco\" \n",
    "                                or df[\"camino\"]==\"t_seis\")):\n",
    "        s=0\n",
    "    elif (df[\"ano\"]==2016  and (df[\"camino\"]==\"t_uno\" or df[\"camino\"]==\"t_tres\" \n",
    "                                or df[\"camino\"]==\"t_cuatro\" or df[\"camino\"]==\"t_cinco\"\n",
    "                                or df[\"camino\"]==\"t_seis\")):\n",
    "        s=1\n",
    "    elif (df[\"ano\"]==2013  and df[\"camino\"]==\"t_dos\"):\n",
    "        s=1\n",
    "    elif (df[\"ano\"]==2016  and df[\"camino\"]==\"t_dos\"):\n",
    "        s=1\n",
    "    else:\n",
    "        s=0\n",
    "    return(s)"
   ]
  },
  {
   "cell_type": "code",
   "execution_count": 7,
   "metadata": {},
   "outputs": [],
   "source": [
    "dfgroups[\"scar2\"]= dfgroups.apply(scarring,axis = 1)"
   ]
  },
  {
   "cell_type": "code",
   "execution_count": 3,
   "metadata": {},
   "outputs": [],
   "source": [
    "#salario horario\n",
    "l1=[\"Ingreso_total_dflac\", \"Ingreso_laboral_dflac\", \"Ingreso_no_laboral_dflac\"]\n",
    "l2=[\"Ingreso_td_hora\", \"Ingreso_ld_hora\", \"Ingreso_nld_hora\"]\n",
    "for i, j in zip(l1,l2):\n",
    "    df8[j]= round((df8[i]/(df8[\"horas_normal\"]*4)),2)\n",
    "    dfgroups[j]= round((dfgroups[i]/(dfgroups[\"horas_normal\"]*4)),2)"
   ]
  },
  {
   "cell_type": "code",
   "execution_count": 18,
   "metadata": {
    "scrolled": false
   },
   "outputs": [
    {
     "name": "stdout",
     "output_type": "stream",
     "text": [
      "6215\n",
      "3046\n"
     ]
    }
   ],
   "source": [
    "print(dfgroups[\"horas_normal\"].notnull().sum())\n",
    "print(dfgroups[\"Ingreso_laboral_dflac\"].notnull().sum())"
   ]
  },
  {
   "cell_type": "code",
   "execution_count": 158,
   "metadata": {},
   "outputs": [
    {
     "name": "stdout",
     "output_type": "stream",
     "text": [
      "1623\n"
     ]
    }
   ],
   "source": [
    "print(dfgroups[\"anos_superior_fill\"].notnull().sum())"
   ]
  },
  {
   "cell_type": "code",
   "execution_count": 156,
   "metadata": {},
   "outputs": [],
   "source": [
    "df8[\"anos_superior_fill\"] = df8.groupby(\"id\")[\"anos_superior\"].transform(lambda x: x.fillna(method=\"ffill\"))\n",
    "dfgroups[\"anos_superior_fill\"] = dfgroups.groupby(\"id\")[\"anos_superior\"].transform(lambda x: x.fillna(method=\"ffill\"))"
   ]
  },
  {
   "cell_type": "code",
   "execution_count": 123,
   "metadata": {},
   "outputs": [],
   "source": [
    "# for ix, i in enumerate(dfnulls['id']):\n",
    "#     if i not in null__3_index:\n",
    "#         null3vcs.append(ix)\n",
    "# df8[\"anos_superior_fill\"]= df8.iloc[null3vcs,22].fillna(method=\"ffill\")"
   ]
  },
  {
   "cell_type": "code",
   "execution_count": 117,
   "metadata": {},
   "outputs": [
    {
     "data": {
      "text/plain": [
       "22"
      ]
     },
     "execution_count": 117,
     "metadata": {},
     "output_type": "execute_result"
    }
   ],
   "source": [
    "#obtener el número indice de una columna con su nombre\n",
    "df8.columns.get_loc(\"anos_superior\")"
   ]
  },
  {
   "cell_type": "code",
   "execution_count": null,
   "metadata": {},
   "outputs": [],
   "source": [
    "dfgroups.groupby()"
   ]
  },
  {
   "cell_type": "code",
   "execution_count": 89,
   "metadata": {},
   "outputs": [
    {
     "data": {
      "text/plain": [
       "465"
      ]
     },
     "execution_count": 89,
     "metadata": {},
     "output_type": "execute_result"
    },
    {
     "name": "stdout",
     "output_type": "stream",
     "text": [
      "Exception occurred while processing request: min() arg is an empty sequence\n",
      "Traceback (most recent call last):\n",
      "  File \"D:\\anaconda\\lib\\site-packages\\dtale\\views.py\", line 83, in _handle_exceptions\n",
      "    return func(*args, **kwargs)\n",
      "  File \"D:\\anaconda\\lib\\site-packages\\dtale\\views.py\", line 2267, in load_filtered_ranges\n",
      "    overall_min = min([v[\"min\"] for v in filtered_ranges.values()])\n",
      "ValueError: min() arg is an empty sequence\n"
     ]
    },
    {
     "name": "stderr",
     "output_type": "stream",
     "text": [
      "2022-02-02 10:19:41,925 - ERROR    - Exception occurred while processing request: min() arg is an empty sequence\n",
      "Traceback (most recent call last):\n",
      "  File \"D:\\anaconda\\lib\\site-packages\\dtale\\views.py\", line 83, in _handle_exceptions\n",
      "    return func(*args, **kwargs)\n",
      "  File \"D:\\anaconda\\lib\\site-packages\\dtale\\views.py\", line 2267, in load_filtered_ranges\n",
      "    overall_min = min([v[\"min\"] for v in filtered_ranges.values()])\n",
      "ValueError: min() arg is an empty sequence\n"
     ]
    },
    {
     "name": "stdout",
     "output_type": "stream",
     "text": [
      "Exception occurred while processing request: min() arg is an empty sequence\n",
      "Traceback (most recent call last):\n",
      "  File \"D:\\anaconda\\lib\\site-packages\\dtale\\views.py\", line 83, in _handle_exceptions\n",
      "    return func(*args, **kwargs)\n",
      "  File \"D:\\anaconda\\lib\\site-packages\\dtale\\views.py\", line 2267, in load_filtered_ranges\n",
      "    overall_min = min([v[\"min\"] for v in filtered_ranges.values()])\n",
      "ValueError: min() arg is an empty sequence\n"
     ]
    },
    {
     "name": "stderr",
     "output_type": "stream",
     "text": [
      "2022-02-02 10:19:59,652 - ERROR    - Exception occurred while processing request: min() arg is an empty sequence\n",
      "Traceback (most recent call last):\n",
      "  File \"D:\\anaconda\\lib\\site-packages\\dtale\\views.py\", line 83, in _handle_exceptions\n",
      "    return func(*args, **kwargs)\n",
      "  File \"D:\\anaconda\\lib\\site-packages\\dtale\\views.py\", line 2267, in load_filtered_ranges\n",
      "    overall_min = min([v[\"min\"] for v in filtered_ranges.values()])\n",
      "ValueError: min() arg is an empty sequence\n"
     ]
    },
    {
     "name": "stdout",
     "output_type": "stream",
     "text": [
      "Exception occurred while processing request: min() arg is an empty sequence\n",
      "Traceback (most recent call last):\n",
      "  File \"D:\\anaconda\\lib\\site-packages\\dtale\\views.py\", line 83, in _handle_exceptions\n",
      "    return func(*args, **kwargs)\n",
      "  File \"D:\\anaconda\\lib\\site-packages\\dtale\\views.py\", line 2267, in load_filtered_ranges\n",
      "    overall_min = min([v[\"min\"] for v in filtered_ranges.values()])\n",
      "ValueError: min() arg is an empty sequence\n"
     ]
    },
    {
     "name": "stderr",
     "output_type": "stream",
     "text": [
      "2022-02-02 10:20:20,344 - ERROR    - Exception occurred while processing request: min() arg is an empty sequence\n",
      "Traceback (most recent call last):\n",
      "  File \"D:\\anaconda\\lib\\site-packages\\dtale\\views.py\", line 83, in _handle_exceptions\n",
      "    return func(*args, **kwargs)\n",
      "  File \"D:\\anaconda\\lib\\site-packages\\dtale\\views.py\", line 2267, in load_filtered_ranges\n",
      "    overall_min = min([v[\"min\"] for v in filtered_ranges.values()])\n",
      "ValueError: min() arg is an empty sequence\n"
     ]
    },
    {
     "name": "stdout",
     "output_type": "stream",
     "text": [
      "Exception occurred while processing request: min() arg is an empty sequence\n",
      "Traceback (most recent call last):\n",
      "  File \"D:\\anaconda\\lib\\site-packages\\dtale\\views.py\", line 83, in _handle_exceptions\n",
      "    return func(*args, **kwargs)\n",
      "  File \"D:\\anaconda\\lib\\site-packages\\dtale\\views.py\", line 2267, in load_filtered_ranges\n",
      "    overall_min = min([v[\"min\"] for v in filtered_ranges.values()])\n",
      "ValueError: min() arg is an empty sequence\n"
     ]
    },
    {
     "name": "stderr",
     "output_type": "stream",
     "text": [
      "2022-02-02 10:21:53,115 - ERROR    - Exception occurred while processing request: min() arg is an empty sequence\n",
      "Traceback (most recent call last):\n",
      "  File \"D:\\anaconda\\lib\\site-packages\\dtale\\views.py\", line 83, in _handle_exceptions\n",
      "    return func(*args, **kwargs)\n",
      "  File \"D:\\anaconda\\lib\\site-packages\\dtale\\views.py\", line 2267, in load_filtered_ranges\n",
      "    overall_min = min([v[\"min\"] for v in filtered_ranges.values()])\n",
      "ValueError: min() arg is an empty sequence\n"
     ]
    }
   ],
   "source": [
    "### informlalidad, cotiza_fp2, cotizando, pension, afiliacion_fp.\n",
    "dfgroups[\"id\"][(dfgroups[\"cotiza_fp2\"]==\"x\") & (dfgroups[\"afiliacion_fp\"]==\"x\")].count()\n",
    "#dfgroups.groupby(by=[\"ano\"])[dfgroups[[dfgroups[\"cotiza_fp2\"]==\"Si\"]]].count() #& (dfgroups[\"ano\"]==2010)"
   ]
  },
  {
   "cell_type": "code",
   "execution_count": 86,
   "metadata": {},
   "outputs": [
    {
     "data": {
      "text/plain": [
       "x     4654\n",
       "No    1687\n",
       "Si     640\n",
       "Name: cotiza_fp2, dtype: int64"
      ]
     },
     "execution_count": 86,
     "metadata": {},
     "output_type": "execute_result"
    }
   ],
   "source": [
    "dfgroups[\"cotiza_fp2\"].value_counts()"
   ]
  },
  {
   "cell_type": "code",
   "execution_count": 37,
   "metadata": {},
   "outputs": [],
   "source": [
    "# dfprueba.to_csv('D:/maestria_ciencias_economicas_unal/tesis_scarring/base datos/ELCA_FINAL/PET_REDUC_Trat_ctrl.csv', sep = \";\")\n",
    "# df7.to_csv('D:/maestria_ciencias_economicas_unal/tesis_scarring/base datos/ELCA_FINAL/PANEL_PET_REDUC.csv', sep = \";\")"
   ]
  },
  {
   "cell_type": "code",
   "execution_count": 5,
   "metadata": {},
   "outputs": [
    {
     "name": "stdout",
     "output_type": "stream",
     "text": [
      "Executing shutdown due to inactivity...\n"
     ]
    },
    {
     "name": "stderr",
     "output_type": "stream",
     "text": [
      "2022-01-27 22:21:33,252 - INFO     - Executing shutdown due to inactivity...\n"
     ]
    },
    {
     "name": "stdout",
     "output_type": "stream",
     "text": [
      "Executing shutdown...\n"
     ]
    },
    {
     "name": "stderr",
     "output_type": "stream",
     "text": [
      "2022-01-27 22:21:37,353 - INFO     - Executing shutdown...\n"
     ]
    }
   ],
   "source": [
    "df8.to_csv('D:/maestria_ciencias_economicas_unal/tesis_scarring/base datos/ELCA_FINAL/PANEL_MODELO.csv', sep = \";\")\n",
    "dfgroups.to_csv('D:/maestria_ciencias_economicas_unal/tesis_scarring/base datos/ELCA_FINAL/Trat_ctrl_MODELO.csv', sep = \";\")"
   ]
  },
  {
   "cell_type": "code",
   "execution_count": 9,
   "metadata": {},
   "outputs": [],
   "source": [
    "# se guarda la base de datos con nulls con otro nombre para no sobreescribir la base original. se elimina la base nulls.\n",
    "#dfprueba.to_csv('D:/maestria_ciencias_economicas_unal/tesis_scarring/base datos/ELCA_FINAL/PET_REDUC_Trat_ctrl_nulls.csv', sep = \";\")"
   ]
  },
  {
   "cell_type": "code",
   "execution_count": null,
   "metadata": {},
   "outputs": [],
   "source": [
    "# error en datapain al actualizar la versión de pandas:\n",
    "\n",
    "# Collecting pandasNote: you may need to restart the kernel to use updated packages.\n",
    "#   Downloading pandas-1.3.3-cp38-cp38-win_amd64.whl (10.2 MB)\n",
    "# Requirement already satisfied, skipping upgrade: python-dateutil>=2.7.3 in d:\\anaconda\\lib\\site-packages (from pandas) (2.8.1)\n",
    "# Requirement already satisfied, skipping upgrade: numpy>=1.17.3 in d:\\anaconda\\lib\\site-packages (from pandas) (1.18.5)\n",
    "# Requirement already satisfied, skipping upgrade: pytz>=2017.3 in d:\\anaconda\\lib\\site-packages (from pandas) (2020.1)\n",
    "# Requirement already satisfied, skipping upgrade: six>=1.5 in d:\\anaconda\\lib\\site-packages (from python-dateutil>=2.7.3->pandas) (1.15.0)\n",
    "# Installing collected packages: pandas\n",
    "#   Attempting uninstall: pandas\n",
    "#     Found existing installation: pandas 1.0.5\n",
    "#     Uninstalling pandas-1.0.5:\n",
    "#       Successfully uninstalled pandas-1.0.5\n",
    "\n",
    "# ERROR: datapane 0.8.5 has requirement ruamel.yaml<0.17.0,>=0.16.5, but you'll have ruamel-yaml 0.15.87 which is incompatible.\n",
    "# ERROR: Could not install packages due to an EnvironmentError: [WinError 5] Acceso denegado: 'D:\\\\anaconda\\\\Lib\\\\site-packages\\\\~andas\\\\_libs\\\\algos.cp38-win_amd64.pyd'\n",
    "# Consider using the `--user` option or check the permissions."
   ]
  }
 ],
 "metadata": {
  "kernelspec": {
   "display_name": "Python 3",
   "language": "python",
   "name": "python3"
  },
  "language_info": {
   "codemirror_mode": {
    "name": "ipython",
    "version": 3
   },
   "file_extension": ".py",
   "mimetype": "text/x-python",
   "name": "python",
   "nbconvert_exporter": "python",
   "pygments_lexer": "ipython3",
   "version": "3.8.3"
  }
 },
 "nbformat": 4,
 "nbformat_minor": 4
}
