{
 "cells": [
  {
   "cell_type": "code",
   "execution_count": 1,
   "metadata": {},
   "outputs": [],
   "source": [
    "import pandas as pd\n",
    "import numpy as np\n",
    "# from pandas_profiling import ProfileReport\n",
    "import dtale\n"
   ]
  },
  {
   "cell_type": "code",
   "execution_count": 4,
   "metadata": {},
   "outputs": [],
   "source": [
    "%run ./bases_datos_tesis.ipynb"
   ]
  },
  {
   "cell_type": "markdown",
   "metadata": {},
   "source": [
    "## Formateo de variables\n",
    "Se seleccionan las variables de acuerdo con 9 grupos, las de indetificación, periodo, control, ubicación, representatividad, composición de la vivienda y el hogar, y las condiciones de la vivienda, sociodemográficas y socioeconómicas. Además, el grupo de las condiciones socioecnómicas se divide en 3  subgrupos, educación, clasificación e historia laboral. Asimismo, estos subgrupos contemplan las caracteristicas de los ocupados, las remuneraciones, la calidad del empleo y las características de los desocupados, presentes y pasadas."
   ]
  },
  {
   "cell_type": "code",
   "execution_count": 11,
   "metadata": {},
   "outputs": [],
   "source": [
    "df7 = df6[[\n",
    " #identificador\n",
    "    'ID',\n",
    " #periodo\n",
    " 'Fecha',\n",
    " 'ola_l',\n",
    " 'hogar_l',\n",
    " 'hogar_n16_l'\n",
    " #control\n",
    " 'orden',\n",
    " 'seguimiento',\n",
    " 'encuestada_2013',\n",
    " #ubicación\n",
    " 'region',\n",
    " 'RegionLb',\n",
    " 'region_2016',\n",
    " 'id_depto',\n",
    " 'id_mpio',\n",
    " 'id_mpioU',\n",
    " #representatividad\n",
    " 'riqueza_pca',\n",
    " 'tercil2010',\n",
    " 'tercil2013',\n",
    " 'tercil2016',\n",
    " 'fhog',\n",
    " 'fhog_2010',\n",
    " 'fhog_2013',\n",
    " 'fhog_2016',\n",
    " 'fexhog',\n",
    " 'fexhog_2010',\n",
    " 'fexhog_2013',\n",
    " 'fpers',\n",
    " 'fpers_2010',\n",
    " 'fpers_2013',\n",
    " 'fpers_2016',\n",
    " 'fexpers',\n",
    " 'fexpers_2010',\n",
    " 'fexpers_2013',\n",
    " #composición\n",
    " 't_hogares',\n",
    " 't_hogar',\n",
    " 't_personas',\n",
    " #condiciones de la vivienda\n",
    " 'tipo_vivienda',\n",
    " 'material_pisos',\n",
    " 'material_paredes',\n",
    " 'sp_energia',\n",
    " 'sp_estrato',\n",
    " 'sp_gasnatural',\n",
    " 'sp_acueducto',\n",
    " 'sp_alcantarillado',\n",
    " 'sp_telefono',\n",
    " 'sp_recoleccion_basura',\n",
    " 'eliminan_basura',\n",
    " #condiciones sociodemográficas\n",
    " 'sexo',\n",
    " 'edad',\n",
    " 'edad_meses',\n",
    " 'parentesco',\n",
    " 'estado_civil',\n",
    " 'vive_conyuge',\n",
    " 'orden_conyuge',\n",
    " 'etnia',\n",
    " #condiciones socieconómicas:  \n",
    " 'estrato',\n",
    " ##educación\n",
    " 'lee_escribe',\n",
    " 'estudia',\n",
    " 'nivel_educ',\n",
    " 'grado_educ',\n",
    " 'edad_dejoestudio',\n",
    " 'nivel_educ_cursa',\n",
    " 'grado_educ_cursa',\n",
    " 'anos_superior',\n",
    " 'estudiaba_2010',\n",
    " 'nivel_educ_2010',\n",
    " 'grado_educ_2010',\n",
    " 'anos_superior_2010',\n",
    " 'est_superiores',  \n",
    " ##clasificación laboral\n",
    "     ###ocupados   \n",
    " 'actividad_ppal',\n",
    " ### desocupados\n",
    " 'diligencias4',\n",
    " 'diligencias12',\n",
    " ###características de los ocupados\n",
    " 'descripcion_ciiu',\n",
    " 'descrip_oficio',\n",
    " 'cod_oficio',\n",
    " 'edad_tenia',\n",
    " 'anos_trabaja',\n",
    " 'meses_trabaja',\n",
    " 'mes_inicio',\n",
    " 'ano_inicio', \n",
    " 'ocupacion',\n",
    " 'horas_normal',\n",
    " 'cod_oficio2',\n",
    " 'tipo_contrato',\n",
    " ### remuneraciones\n",
    "'rec_otros_pago',\n",
    " 'vr_alimentos_pago',\n",
    " 'vr_vivienda_pago',\n",
    " 'vr_educ_pago',\n",
    " 'vr_subalimentacion',\n",
    " 'vr_subtransporte',\n",
    " 'vr_subfamiliar',\n",
    " 'vr_bonos',\n",
    " 'vr_ingmen_ase',\n",
    " 'vr_salario',\n",
    " 'vr_ganancia',  \n",
    " 'meses_ganancia',\n",
    " 'rec_ninguno',\n",
    " 'pagos_adicion',\n",
    " 'ingresos',\n",
    " 'ganancia_neta',\n",
    " 'vr_salario_mes',\n",
    " 'recibio_ganancia',\n",
    "    \n",
    " ### calidad del empleo\n",
    " ####salud\n",
    " 'afiliacion',\n",
    " 'seg_medico',\n",
    " 'segsoc_salud',\n",
    " 'estaba_sss',\n",
    " 'beneficiario_sss',\n",
    " 'beneficiario_orden',\n",
    " ####pensión\n",
    " 'cotiza_fp',\n",
    " 'estaba_fp',     \n",
    " 'afiliacion_fp',\n",
    " 'vr_rec_pension',\n",
    " ####tamaño\n",
    " 'tam_empresa',\n",
    " 'n_empleados',\n",
    " 'registro_mercantil',\n",
    " ####condiciones adicionales\n",
    " 'vacaciones',\n",
    " 'prima_navidad',\n",
    " 'cesantias',\n",
    " ### características de los desocupados\n",
    " 'ofertas_empleo',\n",
    " 'ofertas_emp12',\n",
    " 'ofertas_emp1',\n",
    " 'vr_salario_ofr',\n",
    " 'razon_noacepto',\n",
    " 'disponibilidad',\n",
    " 't_bustrab_a',\n",
    " 't_bustrab_m',\n",
    " 'medio_busco',\n",
    " 't_busco_trab',\n",
    " 't_dejo_trabajar',\n",
    " 'vr_rec_arriendos',\n",
    " 'vr_rec_dividendos',\n",
    " 'salario_insf',\n",
    " 'salario_nopresta',\n",
    " 'horario_nosirve',\n",
    " 'ubica_inadecuada',\n",
    " 'noapto_trabajo',\n",
    " 'razon_personal',\n",
    " \n",
    "  ## historia laboral\n",
    " ###caracterísicas ocupados\n",
    " 'edad_primert',\n",
    " 'anos_primert',\n",
    " 'horas_normal_pt',\n",
    " 'ocupacion_pt',\n",
    " 'es_ptrabajo',\n",
    " 't_trabajo_ult',\n",
    " 'trabajo_ult3',\n",
    " 'tiempo_trab',\n",
    " ###remuneración\n",
    " 'vr_recibia_pt',\n",
    " 'rango_ingreso',\n",
    " ###salud\n",
    " 'sss_pt',\n",
    " ###pensión\n",
    " 'afiliado_fp_pt',\n",
    " 'cotizando',\n",
    " ###tamaño\n",
    " 'tamano_pt',\n",
    "  ###caracterísicas desocupados\n",
    " 'desemp_ult3',\n",
    " 'tiempo_desemp',\n",
    " 'nocotiza_ult3',\n",
    " 'tiempo_ncotiza',\n",
    " 'primer_busca'\n",
    "  ]]"
   ]
  },
  {
   "cell_type": "markdown",
   "metadata": {},
   "source": [
    "### Base real"
   ]
  },
  {
   "cell_type": "code",
   "execution_count": 5,
   "metadata": {},
   "outputs": [],
   "source": [
    "df7= pd.read_csv('D:/maestria_ciencias_economicas_unal/tesis_scarring/base datos/ELCA_FINAL/PANEL_PET_REDUC.csv', sep = \";\", index_col=[0,1], low_memory=False)\n",
    "dfprueba= pd.read_csv('D:/maestria_ciencias_economicas_unal/tesis_scarring/base datos/ELCA_FINAL/PET_REDUC_Trat_ctrl.csv', sep = \";\", low_memory=False)"
   ]
  },
  {
   "cell_type": "code",
   "execution_count": 176,
   "metadata": {},
   "outputs": [],
   "source": [
    "# d = dtale.show(df8, ignore_duplicate = True)\n",
    "# d"
   ]
  },
  {
   "cell_type": "markdown",
   "metadata": {},
   "source": [
    "## Formateo de variables"
   ]
  },
  {
   "cell_type": "markdown",
   "metadata": {},
   "source": [
    "#### 1. variables a número o string"
   ]
  },
  {
   "cell_type": "code",
   "execution_count": 253,
   "metadata": {},
   "outputs": [
    {
     "data": {
      "text/plain": [
       "str"
      ]
     },
     "execution_count": 253,
     "metadata": {},
     "output_type": "execute_result"
    }
   ],
   "source": [
    "#clasificación laboral\n",
    "#df7['clasif_lab']=pd.to_numeric(df7['clasif_lab'])\n",
    "#df7['scar_uno']=pd.to_numeric(df7['scar_uno'])"
   ]
  },
  {
   "cell_type": "code",
   "execution_count": 29,
   "metadata": {},
   "outputs": [],
   "source": [
    "#vr_Salario\n",
    "# df7['vr_salario'] = pd.Series(df7['vr_salario'], dtype = \"stringstr..str.replace('No recibió', '-1')\n",
    "# df7['vr_salario'] = pd.Series(df7['vr_salario'], dtype = \"string\").str.replace('No informa', '-1')\n",
    "# df7['vr_salario'] = pd.Series(df7['vr_salario'], dtype = \"string\").str.replace('No sabe', '-1')\n",
    "# df7['vr_salario'] = pd.Series(df7['vr_salario']).replace(\"-1\", np.nan)\n",
    "#df7['vr_salario']= pd.Series(df7['vr_salario'], dtype = \"string\").str.split('.', expand = True).get(0)\n",
    "#df7['vr_salario']=pd.to_numeric(df7['vr_salario'])\n",
    "#df7[df7['vr_salario']== \"No informa\"].head()\n",
    "#df7['mes_inicio'] = pd.Series(df7['mes_inicio'], dtype = \"int\").replace(np.nan, 0)\n",
    "# df7['ano_inicio'] = pd.Series(df7['ano_inicio'], dtype = \"int\").replace(np.nan, 0)\n",
    "# df7['ano_inicio'] = pd.Series(df7['ano_inicio'], dtype = \"int\").replace(9998, 0)\n",
    "# df7['ano_inicio'] = pd.Series(df7['ano_inicio'], dtype = \"int\").replace(9999, 0)\n",
    "#df7['edad_tenia'] = pd.Series(df7['edad_tenia'], dtype = \"int\").replace(99, np.nan) "
   ]
  },
  {
   "cell_type": "code",
   "execution_count": 121,
   "metadata": {},
   "outputs": [],
   "source": [
    "##mes inicio, en el marco del proceso de creación de la variable tiempo de empleo\n",
    "\n",
    "# mapping = [ ('Enero', '1'), ('Febrero', '2'), ('Marzo', '3'), ('Abril', '4'), ('Mayo', '5'), \n",
    "#            ('Junio', '6'), ('Julio', '7'), ('Agosto', '8'), ('Septiembre', '9'), \n",
    "#            ('Octubre', '10'), ('Noviembre', '11'), ('Diciembre', '12')]\n",
    "# for k, v in mapping:\n",
    "#     df7['mes_inicio'] = pd.Series(df7['mes_inicio'], dtype = \"int\").replace(k, v)"
   ]
  },
  {
   "cell_type": "code",
   "execution_count": 122,
   "metadata": {},
   "outputs": [],
   "source": [
    "##mes inicio, paso 2, de string a  número\n",
    "# df7['mes_inicio']=pd.to_numeric(df7['mes_inicio'])\n",
    "# #import re\n",
    "# df7['mes_inicio']=df7['mes_inicio'].map(lambda x: int(re.search(r\"\\d+\", x).group(0)))\n",
    "#df7['mes_inicio'].astype(str).astype(int)\n",
    "#df7['mes_inicio'] = df7['mes_inicio'].astype(float)\n",
    "#int(float(df7['mes_inicio']))"
   ]
  },
  {
   "cell_type": "code",
   "execution_count": 6,
   "metadata": {},
   "outputs": [],
   "source": [
    "#asignar nulidad a la varable tiempo_empleo para la clasficación laboral de desocupados e inactivos.\n",
    "def nul_tiempo_ta(df):\n",
    "    if (((df['ano_encuesta'] == 2010) and (df['clasif_lab'] == 2)) or \n",
    "        ((df['ano_encuesta'] == 2010) and (df['clasif_lab'] == 3))):\n",
    "        t_ac = np.nan    \n",
    "    else:\n",
    "        t_ac= df['tiempo_empleo']\n",
    "    return(t_ac)"
   ]
  },
  {
   "cell_type": "code",
   "execution_count": 7,
   "metadata": {},
   "outputs": [],
   "source": [
    "df7['tiempo_empleo']=df7.apply(nul_tiempo_ta, axis = 1)\n",
    "#df7.drop(columns =['Tiempo_trab_act_prueba'], inplace =True)"
   ]
  },
  {
   "cell_type": "code",
   "execution_count": 8,
   "metadata": {},
   "outputs": [],
   "source": [
    "#asignar nulidad a los registros de la varable tiempo_empleo para los datos incoherentes de edad_inicio\n",
    "def edad_inicio_1(df):\n",
    "    if (df['edad_tenia'] > df['edad']):\n",
    "        ed_ini = np.nan    \n",
    "    else:\n",
    "        ed_ini= df['tiempo_empleo']\n",
    "    return(ed_ini)\n"
   ]
  },
  {
   "cell_type": "code",
   "execution_count": 9,
   "metadata": {},
   "outputs": [],
   "source": [
    "df7['tiempo_empleo']=df7.apply(edad_inicio_1, axis = 1)\n",
    "#df7.drop(columns =['Tiempo_trab_act_prueba'], inplace =True)"
   ]
  },
  {
   "cell_type": "code",
   "execution_count": 104,
   "metadata": {},
   "outputs": [],
   "source": [
    "#se reemplaza categorías edad_dejo_estudio df7:\n",
    "#se debe convertir la variable a \"int\" para trasformar a nulos los valores string\n",
    "df7['edad_dejoestudio'] = pd.Series(df7['edad_dejoestudio'], dtype = \"string\").str.replace(\"No informa\", \"-1\")\n",
    "df7['edad_dejoestudio'] = pd.Series(df7['edad_dejoestudio'], dtype = \"string\").str.replace('No sabe', '-1')\n",
    "df7['edad_dejoestudio']=pd.to_numeric(df7['edad_dejoestudio'])\n",
    "df7['edad_dejoestudio'] = pd.Series(df7['edad_dejoestudio'], dtype = \"int\").replace(-1, np.nan) "
   ]
  },
  {
   "cell_type": "code",
   "execution_count": 109,
   "metadata": {},
   "outputs": [],
   "source": [
    "#se reemplaza categorías edad_dejo_estudio dfprueba\n",
    "dfprueba['edad_dejoestudio'] = pd.Series(dfprueba['edad_dejoestudio'], dtype = \"string\").str.replace('No informa', '-1')\n",
    "dfprueba['edad_dejoestudio'] = pd.Series(dfprueba['edad_dejoestudio'], dtype = \"string\").str.replace('No sabe', '-1')\n",
    "dfprueba['edad_dejoestudio']=pd.to_numeric(dfprueba['edad_dejoestudio'])\n",
    "dfprueba['edad_dejoestudio'] = pd.Series(dfprueba['edad_dejoestudio'], dtype = \"int\").replace(-1, np.nan) \n",
    "dfprueba[\"edad_dejoestudio\"].value_counts(dropna=False)"
   ]
  },
  {
   "cell_type": "code",
   "execution_count": 116,
   "metadata": {},
   "outputs": [
    {
     "data": {
      "text/plain": [
       "NaN                                   6055\n",
       "Básica secundaria y media (6 a 13)    4994\n",
       "Básica primaria (1 a 5)               3455\n",
       "Técnico con título                     800\n",
       "Universitario con título               572\n",
       "Ninguno                                531\n",
       "Universitario sin título               315\n",
       "Tecnológico con título                 273\n",
       "Posgrado con título                    266\n",
       "Técnico sin título                     162\n",
       "Tecnológico sin título                  66\n",
       "Posgrado sin título                     22\n",
       "Name: nivel_educ, dtype: Int64"
      ]
     },
     "execution_count": 116,
     "metadata": {},
     "output_type": "execute_result"
    }
   ],
   "source": [
    "#se reemplaza categorías nivel_educ df7:\n",
    "df7['nivel_educ'] = pd.Series(df7['nivel_educ'], dtype = \"string\").replace(\"No informa\", np.nan)\n",
    "df7[\"nivel_educ\"].value_counts(dropna=False)#No informa"
   ]
  },
  {
   "cell_type": "code",
   "execution_count": 117,
   "metadata": {},
   "outputs": [
    {
     "data": {
      "text/plain": [
       "NaN                                   2439\n",
       "Básica secundaria y media (6 a 13)    2055\n",
       "Básica primaria (1 a 5)               1276\n",
       "Técnico con título                     313\n",
       "Universitario con título               245\n",
       "Ninguno                                192\n",
       "Universitario sin título               140\n",
       "Tecnológico con título                 131\n",
       "Posgrado con título                     96\n",
       "Técnico sin título                      63\n",
       "Tecnológico sin título                  22\n",
       "Posgrado sin título                      9\n",
       "Name: nivel_educ, dtype: Int64"
      ]
     },
     "execution_count": 117,
     "metadata": {},
     "output_type": "execute_result"
    }
   ],
   "source": [
    "#se reemplaza categorías nivel_educ dfprueba:\n",
    "dfprueba['nivel_educ'] = pd.Series(dfprueba['nivel_educ'], dtype = \"string\").replace(\"No informa\", np.nan)\n",
    "dfprueba[\"nivel_educ\"].value_counts(dropna=False)#No informa"
   ]
  },
  {
   "cell_type": "markdown",
   "metadata": {},
   "source": [
    "#### 2. miusculas o mayusculas\n"
   ]
  },
  {
   "cell_type": "code",
   "execution_count": 30,
   "metadata": {},
   "outputs": [],
   "source": [
    "minus = lambda x: x.str.lower() if (x.dtype == 'string') else x\n",
    "df7[\"desemp_ult3\"] = minus(df7[\"desemp_ult3\"])\n",
    "df7[\"trabajo_ult3\"] = minus(df7[\"trabajo_ult3\"])\n"
   ]
  },
  {
   "cell_type": "markdown",
   "metadata": {},
   "source": [
    "#### 3. tildes"
   ]
  },
  {
   "cell_type": "code",
   "execution_count": 57,
   "metadata": {},
   "outputs": [
    {
     "data": {
      "text/plain": [
       "No     6653\n",
       "Si      318\n",
       "NaN      10\n",
       "Name: estudia, dtype: int64"
      ]
     },
     "execution_count": 57,
     "metadata": {},
     "output_type": "execute_result"
    }
   ],
   "source": [
    "# df7[\"desemp_ult3\"] = df7[\"desemp_ult3\"].str.replace(\"í\", \"i\")\n",
    "# df7[\"trabajo_ult3\"] = df7[\"trabajo_ult3\"].str.replace(\"í\", \"i\")\n",
    "#df7[\"lee_escribe\"] = df7[\"lee_escribe\"].str.replace(\"í\", \"i\")\n",
    "#dfprueba[\"lee_escribe\"] = dfprueba[\"lee_escribe\"].str.replace(\"í\", \"i\")\n",
    "#dfprueba[\"lee_escribe\"].value_counts(dropna=False)\n",
    "# df7[\"estudia\"] = df7[\"estudia\"].str.replace(\"í\", \"i\")\n",
    "# dfprueba[\"estudia\"] = dfprueba[\"estudia\"].str.replace(\"í\", \"i\")\n",
    "# dfprueba[\"estudia\"].value_counts(dropna=False)\n"
   ]
  },
  {
   "cell_type": "markdown",
   "metadata": {},
   "source": [
    "#### 4. remplazar los datos nulos por \"x\" y viceversa"
   ]
  },
  {
   "cell_type": "code",
   "execution_count": 1,
   "metadata": {},
   "outputs": [],
   "source": [
    "# df7['clasif_lab']= df7['clasif_lab'].replace(np.nan, \"x\")\n",
    "# # df7['diligencias4']= df7['diligencias4'].replace(np.nan, \"x\")\n",
    "# # df7['diligencias12']= df7['diligencias12'].replace(np.nan, \"x\") \n",
    "# # df7['actividad_ppal']= df7['actividad_ppal'].replace(np.nan, \"x\")\n",
    "#df7[\"desemp_ult3\"]= df7[\"desemp_ult3\"].replace(np.nan, \"x\")\n",
    "#df7[\"Tiempo_trab_act\"]= df7[\"Tiempo_trab_act\"].replace(np.nan, \"x\")\n",
    "#df7[\"Tiempo_trab_act\"]= df7[\"Tiempo_trab_act\"].replace(\"x\", np.nan)\n",
    "#df7[\"tiempo_empleo\"]= df7[\"tiempo_empleo\"].replace(np.nan, \"x\")\n",
    "#df7[\"tiempo_empleo\"]= df7[\"tiempo_empleo\"].replace( \"x\", np.nan,)\n",
    "#df_nne[\"tiempo_empleo\"]= df_nne[\"tiempo_empleo\"].replace(\"x\", np.nan)\n",
    "#df_nne[\"tiempo_empleo\"]= df_nne[\"tiempo_empleo\"].replace(np.nan, \"x\")\n",
    "# df7[\"trabajo_ult3\"]= df7[\"trabajo_ult3\"].replace(np.nan, \"x\")\n",
    "#df7[\"mes_inicio\"]= df7[\"mes_inicio\"].replace(np.nan, \"x\")\n",
    "#viceversa\n",
    "#df7['clasif_lab']= df7['clasif_lab'].replace(\"x\", np.nan) \n",
    "# df7['diligencias4']= df7['diligencias4'].replace(\"x\", np.nan)\n",
    "# df7['diligencias12']= df7['diligencias12'].replace(\"x\", np.nan) \n",
    "# df7['actividad_ppal']= df7['actividad_ppal'].replace(\"x\", np.nan)\n",
    "#df7[\"desemp_ult3\"]= df7[\"desemp_ult3\"].replace(\"x\", np.nan)\n",
    "#df7[\"trabajo_ult3\"]= df7[\"trabajo_ult3\"].replace(\"x\", np.nan)\n",
    "#df7[\"mes_inicio\"]= df7[\"mes_inicio\"].replace(\"x\", np.nan)"
   ]
  },
  {
   "cell_type": "code",
   "execution_count": 5,
   "metadata": {},
   "outputs": [],
   "source": [
    "ncol =[\"trabajo_ult3\", \"desemp_ult3\", \"diligencias4\",\"diligencias12\"]\n",
    "\n",
    "for h in (ncol):\n",
    "    df7[h] = df7[h].replace(\"x\", np.nan, regex = False)\n",
    "    dfprueba[h] = dfprueba[h].replace(\"x\", np.nan, regex = False)"
   ]
  },
  {
   "cell_type": "code",
   "execution_count": 6,
   "metadata": {},
   "outputs": [],
   "source": [
    "ncol1 =[\"scar_dos\", \"scar_tres\", \"scar_cuatro\",\"scar_cinco\",\n",
    "      \"control_uno\", \"control_dos\", \"control_tres\", \"control_cuatro\",\"control_cinco\", \"control_seis\"]\n",
    "\n",
    "for h in (ncol1):\n",
    "    df8[h] = df8[h].replace(\"x\", np.nan, regex = False)"
   ]
  },
  {
   "cell_type": "markdown",
   "metadata": {},
   "source": [
    "#### 5. eliminar los espacios al final y al inicio"
   ]
  },
  {
   "cell_type": "code",
   "execution_count": null,
   "metadata": {},
   "outputs": [],
   "source": [
    "#eliminar espacios al final de cada palabra y al inicio. dejar solo un espacio entre palabras"
   ]
  },
  {
   "cell_type": "markdown",
   "metadata": {},
   "source": [
    "#### 6. homogenización de categoríoas de variables"
   ]
  },
  {
   "cell_type": "code",
   "execution_count": 15,
   "metadata": {},
   "outputs": [
    {
     "data": {
      "text/plain": [
       "Casado(a)                      6927\n",
       "En unión libre                 6710\n",
       "Separado(a) o divorciado(a)    2147\n",
       "Soltero(a)                     1066\n",
       "Viudo(a)                        661\n",
       "Name: estado_civil, dtype: int64"
      ]
     },
     "execution_count": 15,
     "metadata": {},
     "output_type": "execute_result"
    }
   ],
   "source": [
    "#se reemplaza casasddo por casdo(a) df7\n",
    "#df7[\"estado_civil\"] = df7[\"estado_civil\"].str.replace(\"Casado(a)\",\"Casado\", regex = False)\n",
    "df7[\"estado_civil\"] = df7[\"estado_civil\"].str.replace(\"Casado\",\"Casado(a)\", regex = False)\n",
    "df7[\"estado_civil\"].value_counts(dropna=False)\n",
    "#recategorizar variable a variable\n",
    "# np.array(df7['sexo'])\n",
    "\n",
    "# LabelEncoder().fit(df7['sexo']).transform(df7['sexo'])\n",
    "# #encoder = encoder.fit(sexo)\n",
    "\n",
    "\n",
    "# print(collections.Counter(LabelEncoder().fit(df7['sexo']).transform(df7['sexo'])))"
   ]
  },
  {
   "cell_type": "code",
   "execution_count": 18,
   "metadata": {},
   "outputs": [
    {
     "data": {
      "text/plain": [
       "En unión libre                 2883\n",
       "Casado(a)                      2540\n",
       "Separado(a) o divorciado(a)     891\n",
       "Soltero(a)                      471\n",
       "Viudo(a)                        196\n",
       "Name: estado_civil, dtype: int64"
      ]
     },
     "execution_count": 18,
     "metadata": {},
     "output_type": "execute_result"
    }
   ],
   "source": [
    "#se reemplaza casado por casdo(a) dfprueba\n",
    "dfprueba[\"estado_civil\"] = dfprueba[\"estado_civil\"].str.replace(\"Casado(a)\",\"Casado\", regex = False)\n",
    "dfprueba[\"estado_civil\"] = dfprueba[\"estado_civil\"].str.replace(\"Casado\",\"Casado(a)\", regex = False)\n",
    "dfprueba[\"estado_civil\"].value_counts(dropna=False)\n",
    "#recategorizar variable a variable"
   ]
  },
  {
   "cell_type": "code",
   "execution_count": 23,
   "metadata": {},
   "outputs": [
    {
     "data": {
      "text/plain": [
       "Jefe(a)                                       10536\n",
       "Cónyuge o compañera(o)                         6662\n",
       "Hijo(a)                                         191\n",
       "Hermano(a)                                       28\n",
       "Padre o madre                                    27\n",
       "Yerno o nuera                                    16\n",
       "Hijastro(a)                                      13\n",
       "Otro no pariente del jefe                        12\n",
       "Suegro(a)                                        10\n",
       "Otro pariente del jefe                            9\n",
       "Nieto(a)del jefe del hogar o de su cónyuge        4\n",
       "Sobrino(a)                                        3\n",
       "Name: parentesco, dtype: int64"
      ]
     },
     "execution_count": 23,
     "metadata": {},
     "output_type": "execute_result"
    }
   ],
   "source": [
    "#se reemplaza Jefe de hogar por Jefe(a) df7\n",
    "df7[\"parentesco\"] = df7[\"parentesco\"].str.replace(\"Jefe de hogar\", \"Jefe(a)\", regex = False)\n",
    "df7[\"parentesco\"].value_counts(dropna=False)"
   ]
  },
  {
   "cell_type": "code",
   "execution_count": 25,
   "metadata": {},
   "outputs": [
    {
     "data": {
      "text/plain": [
       "Jefe(a)                                       4668\n",
       "Cónyuge o compañera(o)                        2237\n",
       "Hijo(a)                                         50\n",
       "Otro no pariente del jefe                        6\n",
       "Hermano(a)                                       5\n",
       "Yerno o nuera                                    4\n",
       "Padre o madre                                    4\n",
       "Hijastro(a)                                      2\n",
       "Nieto(a)del jefe del hogar o de su cónyuge       2\n",
       "Suegro(a)                                        2\n",
       "Sobrino(a)                                       1\n",
       "Name: parentesco, dtype: int64"
      ]
     },
     "execution_count": 25,
     "metadata": {},
     "output_type": "execute_result"
    }
   ],
   "source": [
    "#se reemplaza Jefe de hogar por Jefe(a) dfprueba\n",
    "dfprueba[\"parentesco\"] = dfprueba[\"parentesco\"].str.replace(\"Jefe de hogar\", \"Jefe(a)\", regex = False)\n",
    "dfprueba[\"parentesco\"].value_counts(dropna=False)"
   ]
  },
  {
   "cell_type": "code",
   "execution_count": 29,
   "metadata": {},
   "outputs": [
    {
     "data": {
      "text/plain": [
       "ninguno de los anteriores           7168\n",
       "NaN                                 5914\n",
       "mestizo                             2033\n",
       "blanco                              1308\n",
       "negro, mulato (afrodescendiente)     660\n",
       "indígena                             400\n",
       "rom o gitano                          21\n",
       "palenquero                             5\n",
       "no informa                             1\n",
       "raizal de archipiélago                 1\n",
       "Name: etnia, dtype: int64"
      ]
     },
     "execution_count": 29,
     "metadata": {},
     "output_type": "execute_result"
    }
   ],
   "source": [
    "#se reemplaza categorías de etnia df7\n",
    "list_et_1 = [\"ninguno de los  anteriores\", \"negro, mulato (afro descendiente)\"]\n",
    "list_et_2 = [\"ninguno de los anteriores\", \"negro, mulato (afrodescendiente)\"]\n",
    "for i, j in zip(list_et_1, list_et_2):\n",
    "    df7[\"etnia\"] = df7[\"etnia\"].str.replace(i, j, regex = False)\n",
    "df7[\"etnia\"].value_counts(dropna=False)"
   ]
  },
  {
   "cell_type": "code",
   "execution_count": 32,
   "metadata": {},
   "outputs": [
    {
     "data": {
      "text/plain": [
       "ninguno de los anteriores           2887\n",
       "NaN                                 2331\n",
       "mestizo                              802\n",
       "blanco                               510\n",
       "negro, mulato (afrodescendiente)     271\n",
       "indígena                             166\n",
       "rom o gitano                          12\n",
       "palenquero                             2\n",
       "Name: etnia, dtype: int64"
      ]
     },
     "execution_count": 32,
     "metadata": {},
     "output_type": "execute_result"
    }
   ],
   "source": [
    "#se reemplaza categorías de etnia dfprueba\n",
    "list_et_1 = [\"ninguno de los  anteriores\", \"negro, mulato (afro descendiente)\"]\n",
    "list_et_2 = [\"ninguno de los anteriores\", \"negro, mulato (afrodescendiente)\"]\n",
    "for i, j in zip(list_et_1, list_et_2):\n",
    "    dfprueba[\"etnia\"] = dfprueba[\"etnia\"].str.replace(i, j, regex = False)\n",
    "dfprueba[\"etnia\"].value_counts(dropna=False)"
   ]
  },
  {
   "cell_type": "code",
   "execution_count": 41,
   "metadata": {},
   "outputs": [
    {
     "data": {
      "text/plain": [
       "Si     13497\n",
       "NaN     3870\n",
       "No       144\n",
       "Name: vive_conyuge, dtype: int64"
      ]
     },
     "execution_count": 41,
     "metadata": {},
     "output_type": "execute_result"
    }
   ],
   "source": [
    "#se reemplaza categorías de vive conyugue df7\n",
    "list_et_1 = [\"SI\", \"NO\", \"Sí\"]\n",
    "list_et_2 = [\"Si\", \"No\", \"Si\"]\n",
    "for i, j in zip(list_et_1, list_et_2):\n",
    "    df7[\"vive_conyuge\"] = df7[\"vive_conyuge\"].str.replace(i, j, regex = False)\n",
    "df7[\"vive_conyuge\"].value_counts(dropna=False)"
   ]
  },
  {
   "cell_type": "code",
   "execution_count": 45,
   "metadata": {},
   "outputs": [
    {
     "data": {
      "text/plain": [
       "Si     5368\n",
       "NaN    1556\n",
       "No       57\n",
       "Name: vive_conyuge, dtype: int64"
      ]
     },
     "execution_count": 45,
     "metadata": {},
     "output_type": "execute_result"
    }
   ],
   "source": [
    "#se reemplaza categorías de vive conyugue dfprueba\n",
    "list_et_1 = [\"SI\", \"NO\", \"Sí\"]\n",
    "list_et_2 = [\"Si\", \"No\", \"Si\"]\n",
    "for i, j in zip(list_et_1, list_et_2):\n",
    "    dfprueba[\"vive_conyuge\"] = dfprueba[\"vive_conyuge\"].str.replace(i, j, regex = False)\n",
    "dfprueba[\"vive_conyuge\"].value_counts(dropna=False)"
   ]
  },
  {
   "cell_type": "code",
   "execution_count": 60,
   "metadata": {
    "scrolled": true
   },
   "outputs": [
    {
     "data": {
      "text/plain": [
       "NaN                                   6048\n",
       "Básica secundaria y media (6 a 13)    4994\n",
       "Básica primaria (1 a 5)               3455\n",
       "Técnico con título                     800\n",
       "Universitario con título               572\n",
       "Ninguno                                531\n",
       "Universitario sin título               315\n",
       "Tecnológico con título                 273\n",
       "Posgrado con título                    266\n",
       "Técnico sin título                     162\n",
       "Tecnológico sin título                  66\n",
       "Posgrado sin título                     22\n",
       "No informa                               7\n",
       "Name: nivel_educ, dtype: int64"
      ]
     },
     "execution_count": 60,
     "metadata": {},
     "output_type": "execute_result"
    }
   ],
   "source": [
    "#se reemplaza categorías mivel_educ df7\n",
    "df7[\"nivel_educ\"] = df7[\"nivel_educ\"].str.replace(\"Básica secundaria (6 a 13)\", \"Básica secundaria y media (6 a 13)\", regex = False)\n",
    "df7[\"nivel_educ\"].value_counts(dropna=False)"
   ]
  },
  {
   "cell_type": "code",
   "execution_count": 61,
   "metadata": {},
   "outputs": [
    {
     "data": {
      "text/plain": [
       "NaN                                   2438\n",
       "Básica secundaria y media (6 a 13)    2055\n",
       "Básica primaria (1 a 5)               1276\n",
       "Técnico con título                     313\n",
       "Universitario con título               245\n",
       "Ninguno                                192\n",
       "Universitario sin título               140\n",
       "Tecnológico con título                 131\n",
       "Posgrado con título                     96\n",
       "Técnico sin título                      63\n",
       "Tecnológico sin título                  22\n",
       "Posgrado sin título                      9\n",
       "No informa                               1\n",
       "Name: nivel_educ, dtype: int64"
      ]
     },
     "execution_count": 61,
     "metadata": {},
     "output_type": "execute_result"
    }
   ],
   "source": [
    "#se reemplaza categorías nivel_educ dfprueba\n",
    "dfprueba[\"nivel_educ\"] = dfprueba[\"nivel_educ\"].str.replace(\"Básica secundaria (6 a 13)\", \"Básica secundaria y media (6 a 13)\", regex = False)\n",
    "dfprueba[\"nivel_educ\"].value_counts(dropna=False)"
   ]
  },
  {
   "cell_type": "code",
   "execution_count": 70,
   "metadata": {},
   "outputs": [
    {
     "data": {
      "text/plain": [
       "NaN                                   16814\n",
       "Universitario                           211\n",
       "Técnico                                 189\n",
       "Básica secundaria y media (6 a 13)      117\n",
       "Posgrado                                 97\n",
       "Tecnológico                              61\n",
       "Básica primaria (1 a 5)                  22\n",
       "Name: nivel_educ_cursa, dtype: int64"
      ]
     },
     "execution_count": 70,
     "metadata": {},
     "output_type": "execute_result"
    }
   ],
   "source": [
    "#se reemplaza categorías nivel_educ_cursa df7\n",
    "df7[\"nivel_educ_cursa\"] = df7[\"nivel_educ_cursa\"].str.replace(\"Básica secundaria(6 a 13)\", \"Básica secundaria y media (6 a 13)\", regex = False)\n",
    "df7[\"nivel_educ_cursa\"].value_counts(dropna=False)"
   ]
  },
  {
   "cell_type": "code",
   "execution_count": 72,
   "metadata": {
    "scrolled": true
   },
   "outputs": [
    {
     "data": {
      "text/plain": [
       "NaN                                   6663\n",
       "Universitario                           99\n",
       "Técnico                                 85\n",
       "Básica secundaria y media (6 a 13)      49\n",
       "Posgrado                                46\n",
       "Tecnológico                             33\n",
       "Básica primaria (1 a 5)                  6\n",
       "Name: nivel_educ_cursa, dtype: int64"
      ]
     },
     "execution_count": 72,
     "metadata": {},
     "output_type": "execute_result"
    }
   ],
   "source": [
    "#se reemplaza categorías nivel_educ_cursa dfprueba\n",
    "dfprueba[\"nivel_educ_cursa\"] = dfprueba[\"nivel_educ_cursa\"].str.replace(\"Básica secundaria(6 a 13)\", \"Básica secundaria y media (6 a 13)\", regex = False)\n",
    "dfprueba[\"nivel_educ_cursa\"].value_counts(dropna=False)"
   ]
  },
  {
   "cell_type": "code",
   "execution_count": 135,
   "metadata": {
    "scrolled": true
   },
   "outputs": [
    {
     "data": {
      "text/plain": [
       "Trabajador por cuenta propia                                                5419\n",
       "NaN                                                                         5201\n",
       "Asalariado de empresa particular                                            4576\n",
       "Asalariado del gobierno                                                      762\n",
       "Empleado doméstico                                                           522\n",
       "Jornalero o peón                                                             305\n",
       "Patrón o empleador                                                           270\n",
       "Trabajador familiar sin remuneración                                         194\n",
       "Otro                                                                         153\n",
       "Trabajador de su propia finca independientemente de la forma de tenencia     109\n",
       "Name: ocupacion2, dtype: int64"
      ]
     },
     "execution_count": 135,
     "metadata": {},
     "output_type": "execute_result"
    }
   ],
   "source": [
    "#se reemplaza categorías ocupacion2 df7\n",
    "list_et_1 = [\"Asalariado de empresa particular con contrato a término indefinido\", \n",
    "             \"Asalariado de empresa particular con contrato a término fijo\",\n",
    "             \"Asalariado del Gobierno con contrato a término indefinido\", \n",
    "             \"Asalariado del Gobierno con contrato a término fijo\",\n",
    "            \"Trabajador de su propia finca (en arriendo o aparcería)\", \n",
    "             \"Trabajador sin remuneración\"]\n",
    "list_et_2 = [\"Asalariado de empresa particular\", \"Asalariado de empresa particular\", \n",
    "             \"Asalariado del gobierno\", \"Asalariado del gobierno\", \n",
    "             \"Trabajador de su propia finca independientemente de la forma de tenencia\",\n",
    "            \"Trabajador familiar sin remuneración\"]\n",
    "for i, j in zip(list_et_1, list_et_2):\n",
    "    df7[\"ocupacion2\"] = df7[\"ocupacion2\"].str.replace(i, j, regex = False)\n",
    "    dfprueba[\"ocupacion2\"] = dfprueba[\"ocupacion2\"].str.replace(i, j, regex = False)\n",
    "df7[\"ocupacion2\"].value_counts(dropna=False)"
   ]
  },
  {
   "cell_type": "code",
   "execution_count": 5,
   "metadata": {},
   "outputs": [
    {
     "data": {
      "text/plain": [
       "Trabajador por cuenta propia        2823\n",
       "Asalariado de empresa particular    2247\n",
       "NaN                                  760\n",
       "Asalariado del gobierno              305\n",
       "Empleado doméstico                   290\n",
       "Jornalero o peón                     189\n",
       "Patrón o empleador                   125\n",
       "Trab. fam sin remun                  103\n",
       "Otro                                  89\n",
       "Trab. propia finca                    50\n",
       "Name: ocupacion2, dtype: int64"
      ]
     },
     "execution_count": 5,
     "metadata": {},
     "output_type": "execute_result"
    }
   ],
   "source": [
    "#se acorta una categoria de ocupación2\n",
    "list_et_1 = [\"Trabajador de su propia finca independientemente de la forma de tenencia\",\n",
    "            \"Trabajador familiar sin remuneración\"]\n",
    "list_et_2 = [\"Trab. propia finca\", \"Trab. fam sin remun\"]\n",
    "for i, j in zip(list_et_1, list_et_2):\n",
    "    df8[\"ocupacion2\"] = df8[\"ocupacion2\"].str.replace(i, j, regex = False)\n",
    "    dfgroups[\"ocupacion2\"] = dfgroups[\"ocupacion2\"].str.replace(i, j, regex = False)\n",
    "\n",
    "dfgroups[\"ocupacion2\"].value_counts(dropna=False)"
   ]
  },
  {
   "cell_type": "code",
   "execution_count": 9,
   "metadata": {},
   "outputs": [
    {
     "data": {
      "text/plain": [
       "NaN                                                                                       0.303638\n",
       "Comercio al por mayor y al por menor; reparación de vehículos automotores y moto          0.104734\n",
       "Industrias manufactureras                                                                 0.059277\n",
       "Otras actividades de servicios                                                            0.053966\n",
       "Alojamiento y servicios de comida                                                         0.035920\n",
       "                                                                                            ...   \n",
       "Comercio al por mayor de otros productos de otros productos intermedios ncp               0.000057\n",
       "Actividades relacionadas con bases de datos                                               0.000057\n",
       "Organizaciones y órganos extraterritoriales                                               0.000057\n",
       "Comercio al por mayor de materias primas pecuarias y de animales vivos y sus productos    0.000057\n",
       "Edición de libros , folletos partituras y otras publicaciones                             0.000057\n",
       "Name: descripcion_ciiu, Length: 324, dtype: float64"
      ]
     },
     "execution_count": 9,
     "metadata": {},
     "output_type": "execute_result"
    }
   ],
   "source": [
    "#descripcion ciiu\n",
    "#se reemplaza categorías descripcion_ciiu df7\n",
    "list_et_1 = [\"Comercio al por mayor y al por menor; reparación de vehículos automotores y mo\", \n",
    "            \"Comercio al por mayor y al por menor; reparación de vehículos automotores y mototo\"]\n",
    "list_et_2 = [\"Comercio al por mayor y al por menor; reparación de vehículos automotores y moto\",\n",
    "            \"Comercio al por mayor y al por menor; reparación de vehículos automotores y moto\"]\n",
    "for i, j in zip(list_et_1, list_et_2):\n",
    "    df7[\"descripcion_ciiu\"] = df7[\"descripcion_ciiu\"].str.replace(i, j, regex = False)\n",
    "    dfprueba[\"descripcion_ciiu\"] = dfprueba[\"descripcion_ciiu\"].str.replace(i, j, regex = False)\n",
    "df7[\"descripcion_ciiu\"].value_counts(normalize= True,dropna=False)"
   ]
  },
  {
   "cell_type": "code",
   "execution_count": 82,
   "metadata": {
    "scrolled": true
   },
   "outputs": [
    {
     "name": "stdout",
     "output_type": "stream",
     "text": [
      "NaN          0.652390\n",
      "515000.0     0.020273\n",
      "600000.0     0.019531\n",
      "800000.0     0.018446\n",
      "700000.0     0.015476\n",
      "               ...   \n",
      "994000.0     0.000057\n",
      "1288000.0    0.000057\n",
      "4113000.0    0.000057\n",
      "1985000.0    0.000057\n",
      "526000.0     0.000057\n",
      "Name: vr_salario, Length: 581, dtype: float64\n",
      "NaN          0.568543\n",
      "600000.0     0.026071\n",
      "515000.0     0.023779\n",
      "200000.0     0.022490\n",
      "800000.0     0.021917\n",
      "               ...   \n",
      "526000.0     0.000143\n",
      "1578000.0    0.000143\n",
      "634000.0     0.000143\n",
      "1195000.0    0.000143\n",
      "926000.0     0.000143\n",
      "Name: vr_salario, Length: 364, dtype: float64\n"
     ]
    }
   ],
   "source": [
    "# vr_salario\n",
    "list_et_1 = [\"No informa\", \"No recibió\", \"No sabe\"]\n",
    "list_et_2 = [\"-1\", \"-1\", \"-1\"]\n",
    "\n",
    "for i, j in zip(list_et_1, list_et_2):\n",
    "    df7[\"vr_salario\"] = df7[\"vr_salario\"].str.replace(i, j, regex = False)\n",
    "    dfprueba[\"vr_salario\"] = dfprueba[\"vr_salario\"].str.replace(i, j, regex = False)\n",
    "\n",
    "df7[\"vr_salario\"] = pd.to_numeric(df7[\"vr_salario\"])\n",
    "df7['vr_salario'] = pd.Series(df7['vr_salario'], dtype = \"int\").replace(-1, np.nan) \n",
    "dfprueba[\"vr_salario\"] = pd.to_numeric(dfprueba[\"vr_salario\"])\n",
    "dfprueba['vr_salario'] = pd.Series(dfprueba['vr_salario'], dtype = \"int\").replace(-1, np.nan) \n",
    "\n",
    "print(df7[\"vr_salario\"].value_counts(normalize= True,dropna=False))\n",
    "print(dfprueba[\"vr_salario\"].value_counts(normalize= True,dropna=False))"
   ]
  },
  {
   "cell_type": "code",
   "execution_count": 107,
   "metadata": {},
   "outputs": [],
   "source": [
    "#homogenización de categorías de variables:\n",
    "#vr_alimentos_pago, vr_vivienda_pago, vr_educ_pago, vr_subalimentacion, vr_subtransporte, vr_subfamiliar,vr_bonos:\n",
    "\n",
    "n_col=[\"vr_alimentos_pago\", \"vr_vivienda_pago\", \"vr_educ_pago\", \"vr_subalimentacion\", \n",
    "       \"vr_subtransporte\",  \"vr_subfamiliar\", \"vr_bonos\"]\n",
    "\n",
    "list_et_1 = [\"No informa\", \"No sabe\"]\n",
    "list_et_2 = [\"-1\", \"-1\"]\n",
    "\n",
    "for h in (n_col):\n",
    "    \n",
    "    for i, j in zip (list_et_1, list_et_2):\n",
    "        df7[h] = df7[h].str.replace(i, j, regex = False)\n",
    "        dfprueba[h] = dfprueba[h].str.replace(i, j, regex = False)\n",
    "        \n",
    "    df7[h] = pd.to_numeric(df7[h])\n",
    "    df7[h] = pd.Series(df7[h], dtype = \"int\").replace(-1, np.nan)\n",
    "    dfprueba[h] = pd.to_numeric(dfprueba[h])\n",
    "    dfprueba[h] = pd.Series(dfprueba[h], dtype = \"int\").replace(-1, np.nan)"
   ]
  },
  {
   "cell_type": "code",
   "execution_count": 137,
   "metadata": {},
   "outputs": [],
   "source": [
    "#homogenización de categorías de variables:\n",
    "#\"vr_ganancia\", \"vr_rec_pension\", \"vr_rec_arriendos\", \"vr_rec_dividendos\"\n",
    "\n",
    "n_col=[\"vr_ganancia\", \"vr_rec_pension\", \"vr_rec_arriendos\", \"vr_rec_dividendos\"]\n",
    "\n",
    "list_et_1 = [\"No recibió\", \"No informa\", \"No sabe\"]\n",
    "list_et_2 = [\"-1\", \"-1\", \"-1\"]\n",
    "\n",
    "for h in (n_col):\n",
    "    \n",
    "    for i, j in zip (list_et_1, list_et_2):\n",
    "        df7[h] = df7[h].replace(i, j, regex = False)\n",
    "        dfprueba[h] = dfprueba[h].replace(i, j, regex = False)\n",
    "        \n",
    "    df7[h] = pd.to_numeric(df7[h])\n",
    "    df7[h] = pd.Series(df7[h], dtype = \"int\").replace(-1, np.nan)\n",
    "    dfprueba[h] = pd.to_numeric(dfprueba[h])\n",
    "    dfprueba[h] = pd.Series(dfprueba[h], dtype = \"int\").replace(-1, np.nan)"
   ]
  },
  {
   "cell_type": "code",
   "execution_count": 152,
   "metadata": {},
   "outputs": [
    {
     "name": "stdout",
     "output_type": "stream",
     "text": [
      "NaN     12130\n",
      "1.0      5353\n",
      "2.0        12\n",
      "3.0         7\n",
      "11.0        3\n",
      "4.0         3\n",
      "6.0         2\n",
      "12.0        1\n",
      "Name: meses_ganancia, dtype: int64\n",
      "NaN     4173\n",
      "1.0     2795\n",
      "3.0        5\n",
      "2.0        4\n",
      "4.0        2\n",
      "11.0       1\n",
      "12.0       1\n",
      "Name: meses_ganancia, dtype: int64\n"
     ]
    }
   ],
   "source": [
    "#meses_ganancia df7 y dfprueba(juntos en el for)\n",
    "list_et_1 = [97, 98, 99]\n",
    "list_et_2 = [np.nan, np.nan, np.nan]\n",
    "for i, j in zip(list_et_1, list_et_2):\n",
    "    df7['meses_ganancia'] = df7['mesepiis_ganancia'].replace(i, j, regex = False) \n",
    "    dfprueba['meses_ganancia'] = dfprueba['meses_ganancia'].replace(i, j, regex = False) \n",
    "print(df7[\"meses_ganancia\"].value_counts(dropna=False)) \n",
    "print(dfprueba[\"meses_ganancia\"].value_counts(dropna=False)) "
   ]
  },
  {
   "cell_type": "code",
   "execution_count": 5,
   "metadata": {},
   "outputs": [
    {
     "name": "stdout",
     "output_type": "stream",
     "text": [
      "NaN                         15291\n",
      "Menos de 6 meses              834\n",
      "Entre 1 año y 2 años          484\n",
      "Entre 6 meses y 11 meses      461\n",
      "Más de 2 años                 441\n",
      "Name: tiempo_desemp, dtype: int64\n",
      "NaN                         5560\n",
      "Menos de 6 meses             647\n",
      "Entre 6 meses y 11 meses     328\n",
      "Entre 1 año y 2 años         278\n",
      "Más de 2 años                168\n",
      "Name: tiempo_desemp, dtype: int64\n"
     ]
    }
   ],
   "source": [
    "#Tiempo de empleo retrospectivo df7 y dfprueba\n",
    "list_et_1 = [\"Más de dos (2) años\", \"Entre un (1) año y dos\", \"Menos de seis (6) meses\"]\n",
    "list_et_2 = [\"Más de 2 años\", \"Entre 1 año y 2 años\", \"Menos de 6 meses\"]\n",
    "for i, j in zip(list_et_1, list_et_2):\n",
    "    df7['tiempo_desemp'] = df7['tiempo_desemp'].replace(i, j, regex = False) \n",
    "    dfprueba['tiempo_desemp'] = dfprueba['tiempo_desemp'].replace(i, j, regex = False) \n",
    "print(df7[\"tiempo_desemp\"].value_counts(dropna=False)) \n",
    "print(dfprueba[\"tiempo_desemp\"].value_counts(dropna=False)) "
   ]
  },
  {
   "cell_type": "code",
   "execution_count": 14,
   "metadata": {},
   "outputs": [
    {
     "name": "stdout",
     "output_type": "stream",
     "text": [
      "NaN                    2888\n",
      "Trabaja solo           1565\n",
      "De 2 a 5 personas       977\n",
      "50 personas y más       837\n",
      "De 6 a 10 personas      273\n",
      "De 20 a 49 personas     252\n",
      "De 11 a 19 personas     189\n",
      "Name: n_empleados, dtype: int64\n",
      "NaN                    4955\n",
      "Trabaja solo            754\n",
      "De 2 a 5 personas       534\n",
      "50 personas y más       411\n",
      "De 6 a 10 personas      132\n",
      "De 20 a 49 personas     113\n",
      "De 11 a 19 personas      82\n",
      "Name: tam_empresa, dtype: int64\n"
     ]
    }
   ],
   "source": [
    "# tamaño de la empresa df7 y dfprueba\n",
    "list_et_1 = [\"______trabaja solo\"]\n",
    "list_et_2 = [\"Trabaja solo\"]\n",
    "for i, j in zip(list_et_1, list_et_2):\n",
    "    df7['n_empleados'] = df7['n_empleados'].replace(i, j, regex = False) \n",
    "    dfprueba['n_empleados'] = dfprueba['n_empleados'].replace(i, j, regex = False) \n",
    "print(dfprueba[\"n_empleados\"].value_counts(dropna=False))\n",
    "print(dfprueba[\"tam_empresa\"].value_counts(dropna=False))"
   ]
  },
  {
   "cell_type": "code",
   "execution_count": 3,
   "metadata": {
    "scrolled": true
   },
   "outputs": [
    {
     "name": "stdout",
     "output_type": "stream",
     "text": [
      "Básica secundaria y media (6 a 13)    3060\n",
      "Básica primaria (1 a 5)               1890\n",
      "Técnico con título                     469\n",
      "Universitario con título               343\n",
      "Universitario sin título               305\n",
      "Ninguno                                287\n",
      "Técnico sin título                     196\n",
      "Tecnológico con título                 180\n",
      "Posgrado con título                    128\n",
      "Tecnológico sin título                  62\n",
      "Posgrado sin título                     61\n",
      "Name: educación, dtype: int64\n",
      "Básica secundaria y media (6 a 13)    3060\n",
      "Básica primaria (1 a 5)               1890\n",
      "Técnico con título                     469\n",
      "Universitario con título               343\n",
      "Universitario sin título               305\n",
      "Ninguno                                287\n",
      "Técnico sin título                     196\n",
      "Tecnológico con título                 180\n",
      "Posgrado con título                    128\n",
      "Tecnológico sin título                  62\n",
      "Posgrado sin título                     61\n",
      "Name: educación, dtype: int64\n"
     ]
    }
   ],
   "source": [
    "# educación\n",
    "list_et_1 = [\"Técnico\", \"Tecnológico\", \"Universitario\", \"Posgrado\"]\n",
    "list_et_2 = [\"Técnico sin título\", \"Tecnológico sin título\", \"Universitario sin título\", \"Posgrado sin título\"]\n",
    "for i, j in zip(list_et_1, list_et_2):\n",
    "    df7['educación'] = df7['educación'].replace(i, j, regex = False) \n",
    "    dfprueba['educación'] = dfprueba['educación'].replace(i, j, regex = False) \n",
    "print(dfprueba[\"educación\"].value_counts(dropna=False))\n",
    "print(dfprueba[\"educación\"].value_counts(dropna=False))"
   ]
  },
  {
   "cell_type": "code",
   "execution_count": 5,
   "metadata": {
    "scrolled": true
   },
   "outputs": [
    {
     "name": "stdout",
     "output_type": "stream",
     "text": [
      "NaN    4654\n",
      "No     1687\n",
      "Si      640\n",
      "Name: cotiza_fp2, dtype: int64\n",
      "NaN    11678\n",
      "No      4322\n",
      "Si      1511\n",
      "Name: cotiza_fp2, dtype: int64\n"
     ]
    }
   ],
   "source": [
    "#pensión para variable informalidad\n",
    "list_et_1 = [\"Si está cotizando, pero todavía no es pensionado\", \n",
    "             \"Si está cotizando y recibe pensión\", \"No cotiza porque no tiene dinero\",\n",
    "             \"No cotiza porque no trabaja\", \"No cotiza porque no quiere o no le interesa\",\n",
    "             \"No cotiza porque está esperando cumplir la edad para pensionarse\",\n",
    "             \"No, porque ya está pensionado\",\n",
    "             \"No cotiza porque no tiene la edad legal para hacerlo\"]\n",
    "list_et_2 = [\"Si\", \"Si\", \"No\", \"No\", \"No\", \"No\", \"No\", \"No\"]\n",
    "for i, j in zip(list_et_1, list_et_2):\n",
    "    df7['cotiza_fp2'] = df7['cotiza_fp2'].replace(i, j, regex = False) \n",
    "    dfprueba['cotiza_fp2'] = dfprueba['cotiza_fp2'].replace(i, j, regex = False)\n",
    "print(dfprueba[\"cotiza_fp2\"].value_counts(dropna=False))\n",
    "print(df7[\"cotiza_fp2\"].value_counts(dropna=False))"
   ]
  },
  {
   "cell_type": "code",
   "execution_count": 7,
   "metadata": {
    "scrolled": false
   },
   "outputs": [
    {
     "name": "stdout",
     "output_type": "stream",
     "text": [
      "Atlántica    1882\n",
      "Oriental     1584\n",
      "Pacífica     1352\n",
      "Central      1165\n",
      "Bogotá        983\n",
      "NaN            15\n",
      "Name: region_encuesta, dtype: int64\n",
      "Atlántica             4397\n",
      "Oriental              3583\n",
      "Pacífica              3575\n",
      "Central               3302\n",
      "Bogotá                2595\n",
      "NaN                     57\n",
      "Orinoquía-Amazonía       2\n",
      "Name: region_encuesta, dtype: int64\n"
     ]
    }
   ],
   "source": [
    "#region_encuesta\n",
    "list_et_1 = [\"1. Atlántica\", \"2. Oriental\", \"4. Pacífica\", \"3. Central\", \"5. Bogotá\"]\n",
    "list_et_2 = [\"Atlántica\", \"Oriental\", \"Pacífica\", \"Central\", \"Bogotá\"]\n",
    "for i, j in zip(list_et_1, list_et_2):\n",
    "    df7['region_encuesta'] = df7['region_encuesta'].replace(i, j, regex = False) \n",
    "    dfprueba['region_encuesta'] = dfprueba['region_encuesta'].replace(i, j, regex = False)\n",
    "print(dfprueba[\"region_encuesta\"].value_counts(dropna=False))\n",
    "print(df7[\"region_encuesta\"].value_counts(dropna=False))"
   ]
  },
  {
   "cell_type": "markdown",
   "metadata": {},
   "source": [
    "#### Conversión de variables para el modelo (5_12_2021)"
   ]
  },
  {
   "cell_type": "code",
   "execution_count": 37,
   "metadata": {},
   "outputs": [
    {
     "data": {
      "text/plain": [
       "Jefe(a)                   4668\n",
       "Cónyuge o compañera(o)    2237\n",
       "Hijo(a)                     50\n",
       "otro                        26\n",
       "Name: parentesco2, dtype: int64"
      ]
     },
     "execution_count": 37,
     "metadata": {},
     "output_type": "execute_result"
    }
   ],
   "source": [
    "dfgroups[\"parentesco2\"].value_counts(dropna=False)"
   ]
  },
  {
   "cell_type": "code",
   "execution_count": 5,
   "metadata": {},
   "outputs": [],
   "source": [
    "#se reemplaza categorías tipo de vivienda\n",
    "list_et_1 = [\"Otro tipo de unidad de vivienda (carpa, tienda, vagón, embarcación, refugio natu\",\n",
    "             \"Otro tipo de unidad de vivienda (carpa, tienda,vagón, embarcación, refugio natural, puente, etc)\"]\n",
    "list_et_2 = [\"otro\", \"otro\"]\n",
    "for i, j in zip(list_et_1, list_et_2):\n",
    "    df8[\"tipo_vivienda\"] = df8[\"tipo_vivienda\"].str.replace(i, j, regex = False)\n",
    "    dfgroups[\"tipo_vivienda\"] = dfgroups[\"tipo_vivienda\"].str.replace(i, j, regex = False)"
   ]
  },
  {
   "cell_type": "code",
   "execution_count": 35,
   "metadata": {},
   "outputs": [],
   "source": [
    "#se reemplaza categorías parentesco\n",
    "df8[\"parentesco2\"] = df8[\"parentesco\"]\n",
    "dfgroups[\"parentesco2\"] = dfgroups[\"parentesco\"]\n",
    "\n",
    "list_et_1 = [\"Hermano(a)\", \"Padre o madre\", \"Yerno o nuera\", \"Hijastro(a)\",\n",
    "             \"Otro no pariente del jefe\",\"Suegro(a)\", \"Otro pariente del jefe\", \n",
    "             \"Nieto(a)del jefe del hogar o de su cónyuge\", \"Sobrino(a)\"]\n",
    "list_et_2 = [\"otro\", \"otro\", \"otro\", \"otro\",\"otro\", \"otro\", \"otro\", \"otro\", \"otro\"]\n",
    "for i, j in zip(list_et_1, list_et_2):\n",
    "    df8[\"parentesco2\"] = df8[\"parentesco2\"].str.replace(i, j, regex = False)\n",
    "    dfgroups[\"parentesco2\"] = dfgroups[\"parentesco2\"].str.replace(i, j, regex = False)"
   ]
  },
  {
   "cell_type": "code",
   "execution_count": 43,
   "metadata": {},
   "outputs": [],
   "source": [
    "## lee escribe df8\n",
    "df8[\"lee_escribe\"] = df8[\"lee_escribe\"].replace(\"No informa\", np.nan, regex = False)"
   ]
  },
  {
   "cell_type": "code",
   "execution_count": 47,
   "metadata": {},
   "outputs": [],
   "source": [
    "## afiliación df8\n",
    "df8[\"afiliacion\"] = df8[\"afiliacion\"].replace(\"No informa\", np.nan, regex = False)"
   ]
  },
  {
   "cell_type": "code",
   "execution_count": 57,
   "metadata": {},
   "outputs": [],
   "source": [
    "#tiempo_trab\n",
    "list_et_1 = [\"Más de dos (2) años\", \"Entre un (1) año y dos\", \"Menos de seis (6) meses\"]\n",
    "list_et_2 = [\"Más de 2 años\", \"Entre 1 año y 2 años\", \"Menos de 6 meses\"]\n",
    "for i, j in zip(list_et_1, list_et_2):\n",
    "    df8[\"tiempo_trab\"] = df8[\"tiempo_trab\"].str.replace(i, j, regex = False)\n",
    "    dfgroups[\"tiempo_trab\"] = dfgroups[\"tiempo_trab\"].str.replace(i, j, regex = False)"
   ]
  },
  {
   "cell_type": "code",
   "execution_count": 84,
   "metadata": {},
   "outputs": [],
   "source": [
    "#tipo_contrato. se adicionan categorías de 2010 a la variable tipo contrato indefinido y fijo.\n",
    "def tc(df):\n",
    "    if ((df[\"ocupacion\"]==\"Asalariado de empresa particular con contrato a término indefinido\") or\n",
    "    (df[\"ocupacion\"]==\"Asalariado del Gobierno con contrato a término indefinido\")):\n",
    "        c=\"Contrato escrito a término indefinido\"\n",
    "    elif ((df[\"ocupacion\"]==\"Asalariado de empresa particular con contrato a término fijo\") or\n",
    "    (df[\"ocupacion\"]==\"Asalariado del Gobierno con contrato a término fijo\")):\n",
    "        c=\"Contrato escrito a término fijo\"\n",
    "    else:\n",
    "        c=df[\"tipo_contrato\"]\n",
    "    return(c)"
   ]
  },
  {
   "cell_type": "code",
   "execution_count": 85,
   "metadata": {},
   "outputs": [],
   "source": [
    "dfgroups[\"tipo_contrato\"]= dfgroups.apply(tc,axis = 1)"
   ]
  },
  {
   "cell_type": "code",
   "execution_count": 88,
   "metadata": {},
   "outputs": [],
   "source": [
    "df8[\"tipo_contrato\"]= df8.apply(tc,axis = 1)"
   ]
  },
  {
   "cell_type": "code",
   "execution_count": 135,
   "metadata": {},
   "outputs": [],
   "source": [
    "#descripción_ciuu, nueva variable con solo 10 categorias ordenadas de mayor a menor por número de observaciones. \n",
    "df8['descripcion_ciiu'] = pd.Series(df8['descripcion_ciiu'], dtype = \"string\").replace(np.nan, \"x\")\n",
    "dfgroups['descripcion_ciiu'] = pd.Series(dfgroups['descripcion_ciiu'], dtype = \"string\").replace(np.nan, \"x\")\n",
    "def dciuu(df):\n",
    "    if ((df[\"descripcion_ciiu\"]== \"Comercio al por mayor y al por menor; reparación de vehículos automotores y moto\") or\n",
    "        (df[\"descripcion_ciiu\"]== \"Industrias manufactureras\") or\n",
    "        (df[\"descripcion_ciiu\"]== \"Otras actividades de servicios\") or\n",
    "        (df[\"descripcion_ciiu\"]== \"Alojamiento y servicios de comida\") or \n",
    "        (df[\"descripcion_ciiu\"]== \"Transporte y almacenamiento\") or \n",
    "        (df[\"descripcion_ciiu\"]== \"Educación\") or \n",
    "        (df[\"descripcion_ciiu\"]== \"Agricultura, ganadería, caza, silvicultura y pesca\") or\n",
    "        (df[\"descripcion_ciiu\"]== \"Construcción\") or\n",
    "        (df[\"descripcion_ciiu\"]==\"Actividades de atención de la salud humana y de asistencia social\") or\n",
    "        (df[\"descripcion_ciiu\"]==\"Actividades de los hogares individuales en calidad de empleadores;actividades no\")):\n",
    "        dc=df[\"descripcion_ciiu\"]\n",
    "    elif (df[\"descripcion_ciiu\"]==\"x\"):\n",
    "        dc=\"x\"\n",
    "    else:\n",
    "        dc= \"otra\"\n",
    "    return(dc)"
   ]
  },
  {
   "cell_type": "code",
   "execution_count": 136,
   "metadata": {},
   "outputs": [],
   "source": [
    "df8[\"descripcion_ciiu2\"] = df8.apply(dciuu,axis = 1)\n",
    "dfgroups[\"descripcion_ciiu2\"] = dfgroups.apply(dciuu,axis = 1)"
   ]
  },
  {
   "cell_type": "code",
   "execution_count": 137,
   "metadata": {},
   "outputs": [],
   "source": [
    "df8['descripcion_ciiu'] = pd.Series(df8['descripcion_ciiu'], dtype = \"string\").replace(\"x\",np.nan)\n",
    "dfgroups['descripcion_ciiu'] = pd.Series(dfgroups['descripcion_ciiu'], dtype = \"string\").replace(\"x\",np.nan)\n",
    "df8['descripcion_ciiu2'] = pd.Series(df8['descripcion_ciiu2'], dtype = \"string\").replace(\"x\",np.nan)\n",
    "dfgroups['descripcion_ciiu2'] = pd.Series(dfgroups['descripcion_ciiu2'], dtype = \"string\").replace(\"x\",np.nan)"
   ]
  },
  {
   "cell_type": "code",
   "execution_count": 142,
   "metadata": {},
   "outputs": [
    {
     "data": {
      "text/plain": [
       "NaN                              5317\n",
       "otra                             5032\n",
       "Comercio; rep. de vehículos      1834\n",
       "Industrias manufactureras        1038\n",
       "Otras act. de servicios           945\n",
       "Alojamiento y serv. de comida     629\n",
       "Transporte y almacenamiento       587\n",
       "Agri. g. caza silv. y pesca       499\n",
       "Construcción                      481\n",
       "Educación                         439\n",
       "Act. hogares empleadores          403\n",
       "Act. salud y asis. social         307\n",
       "Name: descripcion_ciiu2, dtype: Int64"
      ]
     },
     "execution_count": 142,
     "metadata": {},
     "output_type": "execute_result"
    }
   ],
   "source": [
    "df8[\"descripcion_ciiu2\"].value_counts(dropna=False)"
   ]
  },
  {
   "cell_type": "code",
   "execution_count": 140,
   "metadata": {},
   "outputs": [],
   "source": [
    "#acortar categorias descripcion_ciuu2\n",
    "list_et_1 = ['Comercio al por mayor y al por menor; reparación de vehículos automotores y moto',\n",
    "             'Industrias manufactureras', \n",
    "             'Otras actividades de servicios',\n",
    "             'Alojamiento y servicios de comida', \n",
    "             'Transporte y almacenamiento',\n",
    "             'Educación',\n",
    "             'Agricultura, ganadería, caza, silvicultura y pesca',\n",
    "             'Construcción',\n",
    "             'Actividades de atención de la salud humana y de asistencia social',\n",
    "             'Actividades de los hogares individuales en calidad de empleadores;actividades no', \n",
    "             'otra']\n",
    "list_et_2 = [\"Comercio; rep. de vehículos\", \"Industrias manufactureras\", \n",
    "             \"Otras act. de servicios\", \"Alojamiento y serv. de comida\",\n",
    "            \"Transporte y almacenamiento\", \"Educación\",\n",
    "            \"Agri. g. caza silv. y pesca\", \"Construcción\",\n",
    "            \"Act. salud y asis. social\", \n",
    "            \"Act. hogares empleadores\", \"otra\"]\n",
    "for i, j in zip(list_et_1, list_et_2):\n",
    "    df8[\"descripcion_ciiu2\"] = df8[\"descripcion_ciiu2\"].str.replace(i, j, regex = False)\n",
    "    dfgroups[\"descripcion_ciiu2\"] = dfgroups[\"descripcion_ciiu2\"].str.replace(i, j, regex = False)"
   ]
  },
  {
   "cell_type": "code",
   "execution_count": 152,
   "metadata": {},
   "outputs": [],
   "source": [
    "#cotizando a pensión\n",
    "df8[\"cotizando\"] = df8[\"cotizando\"].replace(\"No informa\", np.nan, regex = False)\n",
    "dfgroups[\"cotizando\"] = dfgroups[\"cotizando\"].replace(\"No informa\", np.nan, regex = False)"
   ]
  },
  {
   "cell_type": "code",
   "execution_count": 158,
   "metadata": {},
   "outputs": [],
   "source": [
    "df8[\"cotizando\"] = df8[\"cotizando\"].str.replace(\"í\", \"i\", regex = False)\n",
    "dfgroups[\"cotizando\"] = dfgroups[\"cotizando\"].str.replace(\"í\", \"i\", regex = False)"
   ]
  },
  {
   "cell_type": "code",
   "execution_count": 167,
   "metadata": {},
   "outputs": [],
   "source": [
    "#afiliación a pensión. unir cotiza_fp2 2010, cotizando 2013, 2016\n",
    "list_1 =[\"cotiza_fp2\",\"cotizando\"]\n",
    "for i in list_1:\n",
    "    df8[i] = pd.Series(df8[i], dtype = \"string\").replace(np.nan, \"x\")\n",
    "    dfgroups[i] = pd.Series(dfgroups[i], dtype = \"string\").replace(np.nan, \"x\")\n",
    "def pen(df):\n",
    "    if (df[\"cotiza_fp2\"]!= \"x\"):\n",
    "        p=df[\"cotiza_fp2\"]\n",
    "    elif (df[\"cotizando\"]!= \"x\"):\n",
    "        p=df[\"cotizando\"]\n",
    "    else:\n",
    "        p=\"x\"\n",
    "    return(p)"
   ]
  },
  {
   "cell_type": "code",
   "execution_count": 168,
   "metadata": {},
   "outputs": [],
   "source": [
    "df8[\"pension\"] = df8.apply(pen,axis = 1)\n",
    "dfgroups[\"pension\"] = dfgroups.apply(pen,axis = 1)"
   ]
  },
  {
   "cell_type": "code",
   "execution_count": 169,
   "metadata": {},
   "outputs": [],
   "source": [
    "list_1 =[\"cotiza_fp2\",\"cotizando\", \"pension\"]\n",
    "for i in list_1:\n",
    "    df8[i] = pd.Series(df8[i], dtype = \"string\").replace(\"x\", np.nan)\n",
    "    dfgroups[i] = pd.Series(dfgroups[i], dtype = \"string\").replace(\"x\", np.nan)"
   ]
  },
  {
   "cell_type": "code",
   "execution_count": null,
   "metadata": {},
   "outputs": [],
   "source": [
    "#prubea variable categórica a número con missing values.\n",
    "#El modelo de efectos fijos funciona cuando se convierten los valores str a número previamente.\n",
    "#No obstante, la función del modelo los toma como variables númericas y no categoricas. \n",
    "# afil = {\"Si\": 1,\"No\": 0}\n",
    "# dfg_mod[\"afiliacion\"]=dfg_mod[\"afiliacion\"].map(afil, na_action='ignore')"
   ]
  },
  {
   "cell_type": "code",
   "execution_count": null,
   "metadata": {},
   "outputs": [],
   "source": [
    "# par = {\"Jefe(a)\": 1,\"Cónyuge o compañera(o)\": 0, \"Hijo(a)\":2, \"otro\":3}\n",
    "# dfg_mod[\"parentesco2\"]=dfg_mod[\"parentesco2\"].map(par, na_action='ignore')"
   ]
  },
  {
   "cell_type": "code",
   "execution_count": 6,
   "metadata": {},
   "outputs": [],
   "source": [
    "df7.to_csv('D:/maestria_ciencias_economicas_unal/tesis_scarring/base datos/ELCA_FINAL/PANEL_PET_REDUC.csv', sep = \";\")\n",
    "# se guarda la base de datos imputada con otro nombre para no sobreescribir la base original.\n",
    "dfprueba.to_csv('D:/maestria_ciencias_economicas_unal/tesis_scarring/base datos/ELCA_FINAL/PET_REDUC_Trat_ctrl.csv', sep = \";\")"
   ]
  },
  {
   "cell_type": "code",
   "execution_count": 9,
   "metadata": {},
   "outputs": [],
   "source": [
    "df8.to_csv('D:/maestria_ciencias_economicas_unal/tesis_scarring/base datos/ELCA_FINAL/PANEL_MODELO.csv', sep = \";\")"
   ]
  },
  {
   "cell_type": "code",
   "execution_count": 8,
   "metadata": {},
   "outputs": [],
   "source": [
    "dfgroups.to_csv('D:/maestria_ciencias_economicas_unal/tesis_scarring/base datos/ELCA_FINAL/Trat_ctrl_MODELO.csv', sep = \";\")"
   ]
  }
 ],
 "metadata": {
  "kernelspec": {
   "display_name": "Python 3",
   "language": "python",
   "name": "python3"
  },
  "language_info": {
   "codemirror_mode": {
    "name": "ipython",
    "version": 3
   },
   "file_extension": ".py",
   "mimetype": "text/x-python",
   "name": "python",
   "nbconvert_exporter": "python",
   "pygments_lexer": "ipython3",
   "version": "3.8.3"
  }
 },
 "nbformat": 4,
 "nbformat_minor": 4
}
