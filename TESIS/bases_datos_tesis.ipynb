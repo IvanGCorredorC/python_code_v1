{
 "cells": [
  {
   "cell_type": "code",
   "execution_count": 2,
   "metadata": {},
   "outputs": [],
   "source": [
    "import pandas as pd\n",
    "# import numpy as np\n",
    "# from pandas_profiling import ProfileReport\n",
    "# import dtale"
   ]
  },
  {
   "cell_type": "code",
   "execution_count": 3,
   "metadata": {},
   "outputs": [],
   "source": [
    "#df7= pd.read_csv('D:/maestria_ciencias_economicas_unal/tesis_scarring/base datos/ELCA_FINAL/PANEL_PET_REDUC.csv', sep = \";\", index_col=[0,1], low_memory=False)"
   ]
  },
  {
   "cell_type": "code",
   "execution_count": 4,
   "metadata": {},
   "outputs": [],
   "source": [
    "#dfprueba= pd.read_csv('D:/maestria_ciencias_economicas_unal/tesis_scarring/base datos/ELCA_FINAL/PET_REDUC_Trat_ctrl.csv', sep = \";\",  index_col=[0,1], low_memory=False)"
   ]
  },
  {
   "cell_type": "code",
   "execution_count": null,
   "metadata": {},
   "outputs": [],
   "source": [
    "df8= pd.read_csv('D:/maestria_ciencias_economicas_unal/tesis_scarring/base datos/ELCA_FINAL/PANEL_MODELO.csv', sep = \";\", index_col=[0,1], low_memory=False)"
   ]
  },
  {
   "cell_type": "code",
   "execution_count": null,
   "metadata": {},
   "outputs": [],
   "source": [
    "dfgroups= pd.read_csv('D:/maestria_ciencias_economicas_unal/tesis_scarring/base datos/ELCA_FINAL/Trat_ctrl_MODELO.csv', sep = \";\",  index_col=[0,1], low_memory=False)"
   ]
  },
  {
   "cell_type": "code",
   "execution_count": 5,
   "metadata": {},
   "outputs": [],
   "source": [
    "#dfprueba_i= pd.read_csv('D:/maestria_ciencias_economicas_unal/tesis_scarring/base datos/ELCA_FINAL/PET_REDUC_Trat_ctrl_inicial.csv', sep = \";\",  index_col=[0,1], low_memory=False)"
   ]
  },
  {
   "cell_type": "code",
   "execution_count": 6,
   "metadata": {},
   "outputs": [],
   "source": [
    "#dfprueba_n = pd.read_csv('D:/maestria_ciencias_economicas_unal/tesis_scarring/base datos/ELCA_FINAL/PET_REDUC_Trat_ctrl_nulls.csv', sep = \";\", index_col=[0,1], low_memory=False)"
   ]
  }
 ],
 "metadata": {
  "kernelspec": {
   "display_name": "Python 3",
   "language": "python",
   "name": "python3"
  },
  "language_info": {
   "codemirror_mode": {
    "name": "ipython",
    "version": 3
   },
   "file_extension": ".py",
   "mimetype": "text/x-python",
   "name": "python",
   "nbconvert_exporter": "python",
   "pygments_lexer": "ipython3",
   "version": "3.8.3"
  }
 },
 "nbformat": 4,
 "nbformat_minor": 4
}
