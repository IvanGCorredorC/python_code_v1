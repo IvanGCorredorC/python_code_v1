{
 "cells": [
  {
   "cell_type": "markdown",
   "metadata": {
    "id": "69qwduf6D0TR"
   },
   "source": [
    "# Creación de un clasificador de imágenes mediante la API secuencial de Keras\n",
    "\n",
    "### Usando Keras para cargar el conjunto de datos\n",
    "\n",
    "Empecemos cargando el conjunto de datos MNIST de moda. Keras tiene una serie de funciones para cargar conjuntos de datos populares en `tf.keras.datasets`. El conjunto de datos ya está dividido entre un conjunto de entrenamiento (60.000 imágenes) y un conjunto de prueba (10.000 imágenes), pero puede ser útil dividir el conjunto de entrenamiento aún más para tener un conjunto de validación. Utilizaremos 55.000 imágenes para el entrenamiento y 5.000 para la validación."
   ]
  },
  {
   "cell_type": "code",
   "execution_count": 1,
   "metadata": {
    "colab": {
     "base_uri": "https://localhost:8080/"
    },
    "executionInfo": {
     "elapsed": 22857,
     "status": "ok",
     "timestamp": 1718324987826,
     "user": {
      "displayName": "Talento Tech",
      "userId": "17477515765803143194"
     },
     "user_tz": 300
    },
    "id": "yTeyK1X0DpPN",
    "outputId": "6fe3c04b-1453-4240-8707-5cb65c0644a5"
   },
   "outputs": [
    {
     "name": "stdout",
     "output_type": "stream",
     "text": [
      "Downloading data from https://storage.googleapis.com/tensorflow/tf-keras-datasets/train-labels-idx1-ubyte.gz\n",
      "29515/29515 [==============================] - 0s 0us/step\n",
      "Downloading data from https://storage.googleapis.com/tensorflow/tf-keras-datasets/train-images-idx3-ubyte.gz\n",
      "26421880/26421880 [==============================] - 2s 0us/step\n",
      "Downloading data from https://storage.googleapis.com/tensorflow/tf-keras-datasets/t10k-labels-idx1-ubyte.gz\n",
      "5148/5148 [==============================] - 0s 0us/step\n",
      "Downloading data from https://storage.googleapis.com/tensorflow/tf-keras-datasets/t10k-images-idx3-ubyte.gz\n",
      "4422102/4422102 [==============================] - 1s 0us/step\n"
     ]
    }
   ],
   "source": [
    "import tensorflow as tf\n",
    "\n",
    "fashion_mnist = tf.keras.datasets.fashion_mnist.load_data()\n",
    "(X_train_full, y_train_full), (X_test, y_test) = fashion_mnist\n",
    "X_train, y_train = X_train_full[:-5000], y_train_full[:-5000]\n",
    "X_valid, y_valid = X_train_full[-5000:], y_train_full[-5000:]"
   ]
  },
  {
   "cell_type": "code",
   "execution_count": 2,
   "metadata": {
    "colab": {
     "base_uri": "https://localhost:8080/",
     "height": 68
    },
    "executionInfo": {
     "elapsed": 55,
     "status": "ok",
     "timestamp": 1718324987829,
     "user": {
      "displayName": "Talento Tech",
      "userId": "17477515765803143194"
     },
     "user_tz": 300
    },
    "id": "JmmLnh4AOE_N",
    "outputId": "5f302dab-48fe-45bd-fd76-2698d78ce591"
   },
   "outputs": [
    {
     "data": {
      "text/html": [
       "<style>\n",
       "      .ndarray_repr .ndarray_raw_data {\n",
       "        display: none;\n",
       "      }\n",
       "      .ndarray_repr.show_array .ndarray_raw_data {\n",
       "        display: block;\n",
       "      }\n",
       "      .ndarray_repr.show_array .ndarray_image_preview {\n",
       "        display: none;\n",
       "      }\n",
       "      </style>\n",
       "      <div id=\"id-4f225bec-1ad9-467f-bb6e-6d5c6aad29b8\" class=\"ndarray_repr\"><pre>ndarray (28, 28) <button style=\"padding: 0 2px;\">show data</button></pre><img src=\"data:image/png;base64,iVBORw0KGgoAAAANSUhEUgAAABwAAAAcCAAAAABXZoBIAAACBUlEQVR4nLXSz0tUURQH8O+597373rx545g6NmNJY6TlJgozEsKFZGCrkDBoVdGmdf9BiwJ3bVr1PwhBUbQfJQcKjWZRTsjo0KDpDPV+eN+997WK0Z2bvtsPfM+Bc4D/HwJycwBZAEAE6zAyfe5RFMQfFYiRAj+CXM/c2HK82VetVMM34RGUmCxz9v7yYnW9dnWyskyHR6azi72Jwep3ScVk9c7LLhKQrpRBSiI2n76puZFT3doUwH4pcmw/zpjrU2zw3dFt4XEWdvbKhpinzTBYt5bDH4qlLYO8cbKBWHOudDHluFtiLrLD0kmM2//6q9VFS+JLLDxv9GzMPV9v3XuzYgHEGSUGCngbRCLd4W6CxPCLHTDwVMkDA0y/qEa/lFFBoF2EEME8CAD6hsZK8+djlmSatuiXXsWfNh27NU6Yelro1bytPElRbaGaO1FGPfc7zPg9HvHlIaVD8AjID9y/+bgZ/6iP9ks7J/QZevh8w/cd2PlGs8CKt92R7MQEk0yA7GtWq9ETN3zRs7fpR7FaWi/3yXaipW1IjFnbaSM70N7dsRzbzbHd8aCx7+wmKskUO5esz0sPmvXYF67gBzoNfxptxb5stxM10iLg1pOTO23NhcUptW1hE6gFYYprC8QMMPNsMM+4pamVbps/HGkSsg+1Cv4d+0Jh//Sm3DjGix4rfwFoJNh2/0cDFgAAAABJRU5ErkJggg==\" class=\"ndarray_image_preview\" /><pre class=\"ndarray_raw_data\">array([[  0,   0,   0,   0,   0,   0,   0,   0,   0,   0,   0,   0,   0,\n",
       "          0,   0,   0,   0,   0,   0,   0,   0,   0,   0,   0,   0,   0,\n",
       "          0,   0],\n",
       "       [  0,   0,   0,   0,   0,   0,   0,   0,   0,   0,   0,   0,   0,\n",
       "          0,   0,   0,   0,   0,   0,   0,   0,   0,   0,   0,   0,   0,\n",
       "          0,   0],\n",
       "       [  0,   0,   0,   0,   0,   0,   0,   0,   0,   0,   0,   0,   0,\n",
       "          0,   0,   0,   0,   0,   0,   0,   0,   0,   0,   0,   0,   0,\n",
       "          0,   0],\n",
       "       [  0,   0,   0,   0,   0,   0,   0,   0,   0,   0,   0,   0,   1,\n",
       "          0,   0,  13,  73,   0,   0,   1,   4,   0,   0,   0,   0,   1,\n",
       "          1,   0],\n",
       "       [  0,   0,   0,   0,   0,   0,   0,   0,   0,   0,   0,   0,   3,\n",
       "          0,  36, 136, 127,  62,  54,   0,   0,   0,   1,   3,   4,   0,\n",
       "          0,   3],\n",
       "       [  0,   0,   0,   0,   0,   0,   0,   0,   0,   0,   0,   0,   6,\n",
       "          0, 102, 204, 176, 134, 144, 123,  23,   0,   0,   0,   0,  12,\n",
       "         10,   0],\n",
       "       [  0,   0,   0,   0,   0,   0,   0,   0,   0,   0,   0,   0,   0,\n",
       "          0, 155, 236, 207, 178, 107, 156, 161, 109,  64,  23,  77, 130,\n",
       "         72,  15],\n",
       "       [  0,   0,   0,   0,   0,   0,   0,   0,   0,   0,   0,   1,   0,\n",
       "         69, 207, 223, 218, 216, 216, 163, 127, 121, 122, 146, 141,  88,\n",
       "        172,  66],\n",
       "       [  0,   0,   0,   0,   0,   0,   0,   0,   0,   1,   1,   1,   0,\n",
       "        200, 232, 232, 233, 229, 223, 223, 215, 213, 164, 127, 123, 196,\n",
       "        229,   0],\n",
       "       [  0,   0,   0,   0,   0,   0,   0,   0,   0,   0,   0,   0,   0,\n",
       "        183, 225, 216, 223, 228, 235, 227, 224, 222, 224, 221, 223, 245,\n",
       "        173,   0],\n",
       "       [  0,   0,   0,   0,   0,   0,   0,   0,   0,   0,   0,   0,   0,\n",
       "        193, 228, 218, 213, 198, 180, 212, 210, 211, 213, 223, 220, 243,\n",
       "        202,   0],\n",
       "       [  0,   0,   0,   0,   0,   0,   0,   0,   0,   1,   3,   0,  12,\n",
       "        219, 220, 212, 218, 192, 169, 227, 208, 218, 224, 212, 226, 197,\n",
       "        209,  52],\n",
       "       [  0,   0,   0,   0,   0,   0,   0,   0,   0,   0,   6,   0,  99,\n",
       "        244, 222, 220, 218, 203, 198, 221, 215, 213, 222, 220, 245, 119,\n",
       "        167,  56],\n",
       "       [  0,   0,   0,   0,   0,   0,   0,   0,   0,   4,   0,   0,  55,\n",
       "        236, 228, 230, 228, 240, 232, 213, 218, 223, 234, 217, 217, 209,\n",
       "         92,   0],\n",
       "       [  0,   0,   1,   4,   6,   7,   2,   0,   0,   0,   0,   0, 237,\n",
       "        226, 217, 223, 222, 219, 222, 221, 216, 223, 229, 215, 218, 255,\n",
       "         77,   0],\n",
       "       [  0,   3,   0,   0,   0,   0,   0,   0,   0,  62, 145, 204, 228,\n",
       "        207, 213, 221, 218, 208, 211, 218, 224, 223, 219, 215, 224, 244,\n",
       "        159,   0],\n",
       "       [  0,   0,   0,   0,  18,  44,  82, 107, 189, 228, 220, 222, 217,\n",
       "        226, 200, 205, 211, 230, 224, 234, 176, 188, 250, 248, 233, 238,\n",
       "        215,   0],\n",
       "       [  0,  57, 187, 208, 224, 221, 224, 208, 204, 214, 208, 209, 200,\n",
       "        159, 245, 193, 206, 223, 255, 255, 221, 234, 221, 211, 220, 232,\n",
       "        246,   0],\n",
       "       [  3, 202, 228, 224, 221, 211, 211, 214, 205, 205, 205, 220, 240,\n",
       "         80, 150, 255, 229, 221, 188, 154, 191, 210, 204, 209, 222, 228,\n",
       "        225,   0],\n",
       "       [ 98, 233, 198, 210, 222, 229, 229, 234, 249, 220, 194, 215, 217,\n",
       "        241,  65,  73, 106, 117, 168, 219, 221, 215, 217, 223, 223, 224,\n",
       "        229,  29],\n",
       "       [ 75, 204, 212, 204, 193, 205, 211, 225, 216, 185, 197, 206, 198,\n",
       "        213, 240, 195, 227, 245, 239, 223, 218, 212, 209, 222, 220, 221,\n",
       "        230,  67],\n",
       "       [ 48, 203, 183, 194, 213, 197, 185, 190, 194, 192, 202, 214, 219,\n",
       "        221, 220, 236, 225, 216, 199, 206, 186, 181, 177, 172, 181, 205,\n",
       "        206, 115],\n",
       "       [  0, 122, 219, 193, 179, 171, 183, 196, 204, 210, 213, 207, 211,\n",
       "        210, 200, 196, 194, 191, 195, 191, 198, 192, 176, 156, 167, 177,\n",
       "        210,  92],\n",
       "       [  0,   0,  74, 189, 212, 191, 175, 172, 175, 181, 185, 188, 189,\n",
       "        188, 193, 198, 204, 209, 210, 210, 211, 188, 188, 194, 192, 216,\n",
       "        170,   0],\n",
       "       [  2,   0,   0,   0,  66, 200, 222, 237, 239, 242, 246, 243, 244,\n",
       "        221, 220, 193, 191, 179, 182, 182, 181, 176, 166, 168,  99,  58,\n",
       "          0,   0],\n",
       "       [  0,   0,   0,   0,   0,   0,   0,  40,  61,  44,  72,  41,  35,\n",
       "          0,   0,   0,   0,   0,   0,   0,   0,   0,   0,   0,   0,   0,\n",
       "          0,   0],\n",
       "       [  0,   0,   0,   0,   0,   0,   0,   0,   0,   0,   0,   0,   0,\n",
       "          0,   0,   0,   0,   0,   0,   0,   0,   0,   0,   0,   0,   0,\n",
       "          0,   0],\n",
       "       [  0,   0,   0,   0,   0,   0,   0,   0,   0,   0,   0,   0,   0,\n",
       "          0,   0,   0,   0,   0,   0,   0,   0,   0,   0,   0,   0,   0,\n",
       "          0,   0]], dtype=uint8)</pre></div><script>\n",
       "      (() => {\n",
       "      const titles = ['show data', 'hide data'];\n",
       "      let index = 0\n",
       "      document.querySelector('#id-4f225bec-1ad9-467f-bb6e-6d5c6aad29b8 button').onclick = (e) => {\n",
       "        document.querySelector('#id-4f225bec-1ad9-467f-bb6e-6d5c6aad29b8').classList.toggle('show_array');\n",
       "        index = (++index) % 2;\n",
       "        document.querySelector('#id-4f225bec-1ad9-467f-bb6e-6d5c6aad29b8 button').textContent = titles[index];\n",
       "        e.preventDefault();\n",
       "        e.stopPropagation();\n",
       "      }\n",
       "      })();\n",
       "    </script>"
      ],
      "text/plain": [
       "array([[  0,   0,   0,   0,   0,   0,   0,   0,   0,   0,   0,   0,   0,\n",
       "          0,   0,   0,   0,   0,   0,   0,   0,   0,   0,   0,   0,   0,\n",
       "          0,   0],\n",
       "       [  0,   0,   0,   0,   0,   0,   0,   0,   0,   0,   0,   0,   0,\n",
       "          0,   0,   0,   0,   0,   0,   0,   0,   0,   0,   0,   0,   0,\n",
       "          0,   0],\n",
       "       [  0,   0,   0,   0,   0,   0,   0,   0,   0,   0,   0,   0,   0,\n",
       "          0,   0,   0,   0,   0,   0,   0,   0,   0,   0,   0,   0,   0,\n",
       "          0,   0],\n",
       "       [  0,   0,   0,   0,   0,   0,   0,   0,   0,   0,   0,   0,   1,\n",
       "          0,   0,  13,  73,   0,   0,   1,   4,   0,   0,   0,   0,   1,\n",
       "          1,   0],\n",
       "       [  0,   0,   0,   0,   0,   0,   0,   0,   0,   0,   0,   0,   3,\n",
       "          0,  36, 136, 127,  62,  54,   0,   0,   0,   1,   3,   4,   0,\n",
       "          0,   3],\n",
       "       [  0,   0,   0,   0,   0,   0,   0,   0,   0,   0,   0,   0,   6,\n",
       "          0, 102, 204, 176, 134, 144, 123,  23,   0,   0,   0,   0,  12,\n",
       "         10,   0],\n",
       "       [  0,   0,   0,   0,   0,   0,   0,   0,   0,   0,   0,   0,   0,\n",
       "          0, 155, 236, 207, 178, 107, 156, 161, 109,  64,  23,  77, 130,\n",
       "         72,  15],\n",
       "       [  0,   0,   0,   0,   0,   0,   0,   0,   0,   0,   0,   1,   0,\n",
       "         69, 207, 223, 218, 216, 216, 163, 127, 121, 122, 146, 141,  88,\n",
       "        172,  66],\n",
       "       [  0,   0,   0,   0,   0,   0,   0,   0,   0,   1,   1,   1,   0,\n",
       "        200, 232, 232, 233, 229, 223, 223, 215, 213, 164, 127, 123, 196,\n",
       "        229,   0],\n",
       "       [  0,   0,   0,   0,   0,   0,   0,   0,   0,   0,   0,   0,   0,\n",
       "        183, 225, 216, 223, 228, 235, 227, 224, 222, 224, 221, 223, 245,\n",
       "        173,   0],\n",
       "       [  0,   0,   0,   0,   0,   0,   0,   0,   0,   0,   0,   0,   0,\n",
       "        193, 228, 218, 213, 198, 180, 212, 210, 211, 213, 223, 220, 243,\n",
       "        202,   0],\n",
       "       [  0,   0,   0,   0,   0,   0,   0,   0,   0,   1,   3,   0,  12,\n",
       "        219, 220, 212, 218, 192, 169, 227, 208, 218, 224, 212, 226, 197,\n",
       "        209,  52],\n",
       "       [  0,   0,   0,   0,   0,   0,   0,   0,   0,   0,   6,   0,  99,\n",
       "        244, 222, 220, 218, 203, 198, 221, 215, 213, 222, 220, 245, 119,\n",
       "        167,  56],\n",
       "       [  0,   0,   0,   0,   0,   0,   0,   0,   0,   4,   0,   0,  55,\n",
       "        236, 228, 230, 228, 240, 232, 213, 218, 223, 234, 217, 217, 209,\n",
       "         92,   0],\n",
       "       [  0,   0,   1,   4,   6,   7,   2,   0,   0,   0,   0,   0, 237,\n",
       "        226, 217, 223, 222, 219, 222, 221, 216, 223, 229, 215, 218, 255,\n",
       "         77,   0],\n",
       "       [  0,   3,   0,   0,   0,   0,   0,   0,   0,  62, 145, 204, 228,\n",
       "        207, 213, 221, 218, 208, 211, 218, 224, 223, 219, 215, 224, 244,\n",
       "        159,   0],\n",
       "       [  0,   0,   0,   0,  18,  44,  82, 107, 189, 228, 220, 222, 217,\n",
       "        226, 200, 205, 211, 230, 224, 234, 176, 188, 250, 248, 233, 238,\n",
       "        215,   0],\n",
       "       [  0,  57, 187, 208, 224, 221, 224, 208, 204, 214, 208, 209, 200,\n",
       "        159, 245, 193, 206, 223, 255, 255, 221, 234, 221, 211, 220, 232,\n",
       "        246,   0],\n",
       "       [  3, 202, 228, 224, 221, 211, 211, 214, 205, 205, 205, 220, 240,\n",
       "         80, 150, 255, 229, 221, 188, 154, 191, 210, 204, 209, 222, 228,\n",
       "        225,   0],\n",
       "       [ 98, 233, 198, 210, 222, 229, 229, 234, 249, 220, 194, 215, 217,\n",
       "        241,  65,  73, 106, 117, 168, 219, 221, 215, 217, 223, 223, 224,\n",
       "        229,  29],\n",
       "       [ 75, 204, 212, 204, 193, 205, 211, 225, 216, 185, 197, 206, 198,\n",
       "        213, 240, 195, 227, 245, 239, 223, 218, 212, 209, 222, 220, 221,\n",
       "        230,  67],\n",
       "       [ 48, 203, 183, 194, 213, 197, 185, 190, 194, 192, 202, 214, 219,\n",
       "        221, 220, 236, 225, 216, 199, 206, 186, 181, 177, 172, 181, 205,\n",
       "        206, 115],\n",
       "       [  0, 122, 219, 193, 179, 171, 183, 196, 204, 210, 213, 207, 211,\n",
       "        210, 200, 196, 194, 191, 195, 191, 198, 192, 176, 156, 167, 177,\n",
       "        210,  92],\n",
       "       [  0,   0,  74, 189, 212, 191, 175, 172, 175, 181, 185, 188, 189,\n",
       "        188, 193, 198, 204, 209, 210, 210, 211, 188, 188, 194, 192, 216,\n",
       "        170,   0],\n",
       "       [  2,   0,   0,   0,  66, 200, 222, 237, 239, 242, 246, 243, 244,\n",
       "        221, 220, 193, 191, 179, 182, 182, 181, 176, 166, 168,  99,  58,\n",
       "          0,   0],\n",
       "       [  0,   0,   0,   0,   0,   0,   0,  40,  61,  44,  72,  41,  35,\n",
       "          0,   0,   0,   0,   0,   0,   0,   0,   0,   0,   0,   0,   0,\n",
       "          0,   0],\n",
       "       [  0,   0,   0,   0,   0,   0,   0,   0,   0,   0,   0,   0,   0,\n",
       "          0,   0,   0,   0,   0,   0,   0,   0,   0,   0,   0,   0,   0,\n",
       "          0,   0],\n",
       "       [  0,   0,   0,   0,   0,   0,   0,   0,   0,   0,   0,   0,   0,\n",
       "          0,   0,   0,   0,   0,   0,   0,   0,   0,   0,   0,   0,   0,\n",
       "          0,   0]], dtype=uint8)"
      ]
     },
     "execution_count": 2,
     "metadata": {},
     "output_type": "execute_result"
    }
   ],
   "source": [
    "X_train[0]"
   ]
  },
  {
   "cell_type": "code",
   "execution_count": 3,
   "metadata": {
    "colab": {
     "base_uri": "https://localhost:8080/"
    },
    "collapsed": true,
    "executionInfo": {
     "elapsed": 27,
     "status": "ok",
     "timestamp": 1718324987831,
     "user": {
      "displayName": "Talento Tech",
      "userId": "17477515765803143194"
     },
     "user_tz": 300
    },
    "id": "cS-GRTm-N593",
    "outputId": "f1fe07b9-2890-4dc2-88d0-4a83f59e2e9b"
   },
   "outputs": [
    {
     "data": {
      "text/plain": [
       "array([[  0,   0,   0,   0,   0,   0,   0,   0,   0,   0,   0,   0,   0,\n",
       "          0,   0,   0,   0,   0,   0,   0,   0,   0,   0,   0,   0,   0,\n",
       "          0,   0,   0,   0,   0,   0,   0,   0,   0,   0,   0,   0,   0,\n",
       "          0,   0,   0,   0,   0,   0,   0,   0,   0,   0,   0,   0,   0,\n",
       "          0,   0,   0,   0,   0,   0,   0,   0,   0,   0,   0,   0,   0,\n",
       "          0,   0,   0,   0,   0,   0,   0,   0,   0,   0,   0,   0,   0,\n",
       "          0,   0,   0,   0,   0,   0,   0,   0,   0,   0,   0,   0,   0,\n",
       "          0,   0,   0,   0,   0,   1,   0,   0,  13,  73,   0,   0,   1,\n",
       "          4,   0,   0,   0,   0,   1,   1,   0,   0,   0,   0,   0,   0,\n",
       "          0,   0,   0,   0,   0,   0,   0,   3,   0,  36, 136, 127,  62,\n",
       "         54,   0,   0,   0,   1,   3,   4,   0,   0,   3,   0,   0,   0,\n",
       "          0,   0,   0,   0,   0,   0,   0,   0,   0,   6,   0, 102, 204,\n",
       "        176, 134, 144, 123,  23,   0,   0,   0,   0,  12,  10,   0,   0,\n",
       "          0,   0,   0,   0,   0,   0,   0,   0,   0,   0,   0,   0,   0,\n",
       "        155, 236, 207, 178, 107, 156, 161, 109,  64,  23,  77, 130,  72,\n",
       "         15,   0,   0,   0,   0,   0,   0,   0,   0,   0,   0,   0,   1,\n",
       "          0,  69, 207, 223, 218, 216, 216, 163, 127, 121, 122, 146, 141,\n",
       "         88, 172,  66,   0,   0,   0,   0,   0,   0,   0,   0,   0,   1,\n",
       "          1,   1,   0, 200, 232, 232, 233, 229, 223, 223, 215, 213, 164,\n",
       "        127, 123, 196, 229,   0,   0,   0,   0,   0,   0,   0,   0,   0,\n",
       "          0,   0,   0,   0,   0, 183, 225, 216, 223, 228, 235, 227, 224,\n",
       "        222, 224, 221, 223, 245, 173,   0,   0,   0,   0,   0,   0,   0,\n",
       "          0,   0,   0,   0,   0,   0,   0, 193, 228, 218, 213, 198, 180,\n",
       "        212, 210, 211, 213, 223, 220, 243, 202,   0,   0,   0,   0,   0,\n",
       "          0,   0,   0,   0,   0,   1,   3,   0,  12, 219, 220, 212, 218,\n",
       "        192, 169, 227, 208, 218, 224, 212, 226, 197, 209,  52,   0,   0,\n",
       "          0,   0,   0,   0,   0,   0,   0,   0,   6,   0,  99, 244, 222,\n",
       "        220, 218, 203, 198, 221, 215, 213, 222, 220, 245, 119, 167,  56,\n",
       "          0,   0,   0,   0,   0,   0,   0,   0,   0,   4,   0,   0,  55,\n",
       "        236, 228, 230, 228, 240, 232, 213, 218, 223, 234, 217, 217, 209,\n",
       "         92,   0,   0,   0,   1,   4,   6,   7,   2,   0,   0,   0,   0,\n",
       "          0, 237, 226, 217, 223, 222, 219, 222, 221, 216, 223, 229, 215,\n",
       "        218, 255,  77,   0,   0,   3,   0,   0,   0,   0,   0,   0,   0,\n",
       "         62, 145, 204, 228, 207, 213, 221, 218, 208, 211, 218, 224, 223,\n",
       "        219, 215, 224, 244, 159,   0,   0,   0,   0,   0,  18,  44,  82,\n",
       "        107, 189, 228, 220, 222, 217, 226, 200, 205, 211, 230, 224, 234,\n",
       "        176, 188, 250, 248, 233, 238, 215,   0,   0,  57, 187, 208, 224,\n",
       "        221, 224, 208, 204, 214, 208, 209, 200, 159, 245, 193, 206, 223,\n",
       "        255, 255, 221, 234, 221, 211, 220, 232, 246,   0,   3, 202, 228,\n",
       "        224, 221, 211, 211, 214, 205, 205, 205, 220, 240,  80, 150, 255,\n",
       "        229, 221, 188, 154, 191, 210, 204, 209, 222, 228, 225,   0,  98,\n",
       "        233, 198, 210, 222, 229, 229, 234, 249, 220, 194, 215, 217, 241,\n",
       "         65,  73, 106, 117, 168, 219, 221, 215, 217, 223, 223, 224, 229,\n",
       "         29,  75, 204, 212, 204, 193, 205, 211, 225, 216, 185, 197, 206,\n",
       "        198, 213, 240, 195, 227, 245, 239, 223, 218, 212, 209, 222, 220,\n",
       "        221, 230,  67,  48, 203, 183, 194, 213, 197, 185, 190, 194, 192,\n",
       "        202, 214, 219, 221, 220, 236, 225, 216, 199, 206, 186, 181, 177,\n",
       "        172, 181, 205, 206, 115,   0, 122, 219, 193, 179, 171, 183, 196,\n",
       "        204, 210, 213, 207, 211, 210, 200, 196, 194, 191, 195, 191, 198,\n",
       "        192, 176, 156, 167, 177, 210,  92,   0,   0,  74, 189, 212, 191,\n",
       "        175, 172, 175, 181, 185, 188, 189, 188, 193, 198, 204, 209, 210,\n",
       "        210, 211, 188, 188, 194, 192, 216, 170,   0,   2,   0,   0,   0,\n",
       "         66, 200, 222, 237, 239, 242, 246, 243, 244, 221, 220, 193, 191,\n",
       "        179, 182, 182, 181, 176, 166, 168,  99,  58,   0,   0,   0,   0,\n",
       "          0,   0,   0,   0,   0,  40,  61,  44,  72,  41,  35,   0,   0,\n",
       "          0,   0,   0,   0,   0,   0,   0,   0,   0,   0,   0,   0,   0,\n",
       "          0,   0,   0,   0,   0,   0,   0,   0,   0,   0,   0,   0,   0,\n",
       "          0,   0,   0,   0,   0,   0,   0,   0,   0,   0,   0,   0,   0,\n",
       "          0,   0,   0,   0,   0,   0,   0,   0,   0,   0,   0,   0,   0,\n",
       "          0,   0,   0,   0,   0,   0,   0,   0,   0,   0,   0,   0,   0,\n",
       "          0,   0,   0,   0]], dtype=uint8)"
      ]
     },
     "execution_count": 3,
     "metadata": {},
     "output_type": "execute_result"
    }
   ],
   "source": [
    "X_train[0].reshape(-1, 784)"
   ]
  },
  {
   "cell_type": "code",
   "execution_count": 4,
   "metadata": {
    "colab": {
     "base_uri": "https://localhost:8080/"
    },
    "executionInfo": {
     "elapsed": 22,
     "status": "ok",
     "timestamp": 1718324987832,
     "user": {
      "displayName": "Talento Tech",
      "userId": "17477515765803143194"
     },
     "user_tz": 300
    },
    "id": "-KRfo0ifE6im",
    "outputId": "9280cbbc-6fc1-4aa9-bf43-ba00918889bb"
   },
   "outputs": [
    {
     "data": {
      "text/plain": [
       "(55000, 28, 28)"
      ]
     },
     "execution_count": 4,
     "metadata": {},
     "output_type": "execute_result"
    }
   ],
   "source": [
    "# El conjunto de entrenamiento contiene 55.000 imágenes en escala de grises de 28x28 píxeles cada una:\n",
    "\n",
    "X_train.shape"
   ]
  },
  {
   "cell_type": "code",
   "execution_count": 5,
   "metadata": {
    "colab": {
     "base_uri": "https://localhost:8080/"
    },
    "executionInfo": {
     "elapsed": 18,
     "status": "ok",
     "timestamp": 1718324987833,
     "user": {
      "displayName": "Talento Tech",
      "userId": "17477515765803143194"
     },
     "user_tz": 300
    },
    "id": "5fB8eYraFWTs",
    "outputId": "de53f403-ef41-4cef-dadb-00e5faedb81e"
   },
   "outputs": [
    {
     "data": {
      "text/plain": [
       "dtype('uint8')"
      ]
     },
     "execution_count": 5,
     "metadata": {},
     "output_type": "execute_result"
    }
   ],
   "source": [
    "# La intensidad de cada píxel se representa como un byte (de 0 a 255):\n",
    "\n",
    "X_train.dtype"
   ]
  },
  {
   "cell_type": "code",
   "execution_count": 6,
   "metadata": {
    "executionInfo": {
     "elapsed": 801,
     "status": "ok",
     "timestamp": 1718324988618,
     "user": {
      "displayName": "Talento Tech",
      "userId": "17477515765803143194"
     },
     "user_tz": 300
    },
    "id": "T9UCQGHbFfDd"
   },
   "outputs": [],
   "source": [
    "'''\n",
    "Por simplicidad, escalemos las intensidades de los píxeles al rango 0-1\n",
    "y convirtámoslas en flotantes, dividiendo por 255.0:\n",
    "'''\n",
    "\n",
    "X_train, X_valid, X_test = X_train / 255., X_valid / 255., X_test / 255."
   ]
  },
  {
   "cell_type": "code",
   "execution_count": 7,
   "metadata": {
    "colab": {
     "base_uri": "https://localhost:8080/",
     "height": 406
    },
    "executionInfo": {
     "elapsed": 30,
     "status": "ok",
     "timestamp": 1718324988619,
     "user": {
      "displayName": "Talento Tech",
      "userId": "17477515765803143194"
     },
     "user_tz": 300
    },
    "id": "sv3gwfV6F4zu",
    "outputId": "1a190326-adf5-41c7-f2c7-24132395208e"
   },
   "outputs": [
    {
     "data": {
      "image/png": "[encoded data removed]",
      "text/plain": [
       "<Figure size 640x480 with 1 Axes>"
      ]
     },
     "metadata": {},
     "output_type": "display_data"
    }
   ],
   "source": [
    "'''\n",
    "Grafiquemos una imagen de entrenamiento usando la función imshow()\n",
    "de Matplotlib, con un mapa de color 'binario':\n",
    "'''\n",
    "import matplotlib.pyplot as plt\n",
    "\n",
    "plt.imshow(X_train[0], cmap=\"binary\")\n",
    "plt.axis('off')\n",
    "plt.show()"
   ]
  },
  {
   "cell_type": "code",
   "execution_count": 8,
   "metadata": {
    "colab": {
     "base_uri": "https://localhost:8080/"
    },
    "executionInfo": {
     "elapsed": 24,
     "status": "ok",
     "timestamp": 1718324988619,
     "user": {
      "displayName": "Talento Tech",
      "userId": "17477515765803143194"
     },
     "user_tz": 300
    },
    "id": "9qF7GOPEGOVG",
    "outputId": "4acf5c59-e8d2-4277-d0c2-1f93de5d695d"
   },
   "outputs": [
    {
     "data": {
      "text/plain": [
       "array([9, 0, 0, ..., 9, 0, 2], dtype=uint8)"
      ]
     },
     "execution_count": 8,
     "metadata": {},
     "output_type": "execute_result"
    }
   ],
   "source": [
    "# Las etiquetas son los ID de clase (representados como uint8), de 0 a 9:\n",
    "\n",
    "y_train"
   ]
  },
  {
   "cell_type": "code",
   "execution_count": 9,
   "metadata": {
    "executionInfo": {
     "elapsed": 17,
     "status": "ok",
     "timestamp": 1718324988620,
     "user": {
      "displayName": "Talento Tech",
      "userId": "17477515765803143194"
     },
     "user_tz": 300
    },
    "id": "mmYQoCsFGasQ"
   },
   "outputs": [],
   "source": [
    "# Estos son los nombres de las clases correspondientes:\n",
    "# https://www.tensorflow.org/api_docs/python/tf/keras/datasets/fashion_mnist/load_data\n",
    "\n",
    "class_names = [\"T-shirt/top\", \"Trouser\", \"Pullover\", \"Dress\", \"Coat\",\n",
    "               \"Sandal\", \"Shirt\", \"Sneaker\", \"Bag\", \"Ankle boot\"]"
   ]
  },
  {
   "cell_type": "code",
   "execution_count": 10,
   "metadata": {
    "colab": {
     "base_uri": "https://localhost:8080/",
     "height": 35
    },
    "executionInfo": {
     "elapsed": 16,
     "status": "ok",
     "timestamp": 1718324988620,
     "user": {
      "displayName": "Talento Tech",
      "userId": "17477515765803143194"
     },
     "user_tz": 300
    },
    "id": "-oj9HZFAGwlw",
    "outputId": "93d8ad2c-42d5-4902-8ed3-61bbd0b3e8c5"
   },
   "outputs": [
    {
     "data": {
      "application/vnd.google.colaboratory.intrinsic+json": {
       "type": "string"
      },
      "text/plain": [
       "'Ankle boot'"
      ]
     },
     "execution_count": 10,
     "metadata": {},
     "output_type": "execute_result"
    }
   ],
   "source": [
    "# Verifiquemos la etiqueta la primera imagen del conjunto de entrenamiento:\n",
    "\n",
    "class_names[y_train[0]]"
   ]
  },
  {
   "cell_type": "code",
   "execution_count": 11,
   "metadata": {
    "colab": {
     "base_uri": "https://localhost:8080/",
     "height": 428
    },
    "executionInfo": {
     "elapsed": 2282,
     "status": "ok",
     "timestamp": 1718324990889,
     "user": {
      "displayName": "Talento Tech",
      "userId": "17477515765803143194"
     },
     "user_tz": 300
    },
    "id": "2sMkQuSGG2sZ",
    "outputId": "a921022d-828a-4396-9b57-1c78739c99e0"
   },
   "outputs": [
    {
     "data": {
      "image/png": "[encoded data removed]",
      "text/plain": [
       "<Figure size 1500x480 with 40 Axes>"
      ]
     },
     "metadata": {},
     "output_type": "display_data"
    }
   ],
   "source": [
    "# Veamos una muestra de las imágenes del conjunto de entrenamiento:\n",
    "\n",
    "n_rows = 4\n",
    "n_cols = 10\n",
    "plt.figure(figsize=(n_cols * 1.5, n_rows * 1.2))\n",
    "for row in range(n_rows):\n",
    "    for col in range(n_cols):\n",
    "        index = n_cols * row + col\n",
    "        plt.subplot(n_rows, n_cols, index + 1)\n",
    "        plt.imshow(X_train[index], cmap=\"binary\", interpolation=\"nearest\")\n",
    "        plt.axis('off')\n",
    "        plt.title(class_names[y_train[index]])\n",
    "plt.subplots_adjust(wspace=0.2, hspace=0.5)\n",
    "plt.show()"
   ]
  },
  {
   "cell_type": "markdown",
   "metadata": {
    "id": "Wh2Yk-0rX3ky"
   },
   "source": [
    "### Creemos el modelo mediante la API secuencial de Keras\n",
    "\n",
    "Ahora vamos a construir la red neuronal. Aquí tenemos una RNA de clasificación con dos capas ocultas:"
   ]
  },
  {
   "cell_type": "code",
   "execution_count": 12,
   "metadata": {
    "executionInfo": {
     "elapsed": 650,
     "status": "ok",
     "timestamp": 1718324991531,
     "user": {
      "displayName": "Talento Tech",
      "userId": "17477515765803143194"
     },
     "user_tz": 300
    },
    "id": "lCuup6taHiXa"
   },
   "outputs": [],
   "source": [
    "tf.random.set_seed(42)\n",
    "model = tf.keras.Sequential()\n",
    "model.add(tf.keras.layers.InputLayer(input_shape=[28, 28]))\n",
    "model.add(tf.keras.layers.Flatten())\n",
    "model.add(tf.keras.layers.Dense(300, activation=\"relu\"))\n",
    "model.add(tf.keras.layers.Dense(100, activation=\"relu\"))\n",
    "model.add(tf.keras.layers.Dense(10, activation=\"softmax\"))"
   ]
  },
  {
   "cell_type": "markdown",
   "metadata": {
    "id": "kZKL4Y1eYjAa"
   },
   "source": [
    "Revisemos este código línea por línea:\n",
    "\n",
    "\n",
    "*   En primer lugar, establece la semilla aleatoria de TensorFlow para que los resultados sean reproducibles: los pesos aleatorios de las capas ocultas y la capa de salida serán los mismos cada vez que ejecutes el código. También se puede utilizar la función `tf.keras.utils.set_random_seed()`, que establece convenientemente las semillas aleatorias para TensorFlow, Python(`random.seed()`), y NumPy (`np.random.seed()`).\n",
    "*   La siguiente línea crea un modelo `Sequential()`. Este es el tipo más simple de modelo Keras para redes neuronales que sólo están compuestas por una única pila de capas conectadas secuencialmente. Esto se llama la API secuencial.\n",
    "*   A continuación, construimos la primera capa (`InputLayer()`) y la añadimos al modelo. Especificamos la forma de la entrada, que no incluye el tamaño del lote (*batch size*), sólo la forma de las instancias. Keras necesita conocer la forma de las entradas para poder determinar la forma de la matriz de pesos de conexión de la primera capa oculta.\n",
    "*   A continuación, añadimos una capa `Flatten()`. Su función es convertir cada imagen de entrada en una matriz 1D: por ejemplo, si recibe un lote de forma [32, 28, 28], le dará la forma [32, 784]. En otras palabras, si recibe datos de entrada X, calcula `X.reshape(-1, 784)`. Esta capa no tiene ningún parámetro; sólo está ahí para hacer un simple preprocesamiento.\n",
    "*   A continuación añadimos una capa oculta `Dense()` con 300 neuronas. Utilizará la función de activación ReLU. Cada capa densa gestiona su propia matriz de pesos, que contiene todos los pesos de conexión entre las neuronas y sus entradas. También gestiona un vector de términos de sesgo (uno por neurona). Cuando recibe algunos datos de entrada, calcula la activación ($f(w^TX+b)$).\n",
    "*   A continuación, añadimos una segunda capa oculta `Dense()` con 100 neuronas, utilizando también la función de activación ReLU.\n",
    "*   Por último, añadimos una capa de salida `Dense()` con 10 neuronas (una por clase), utilizando la función de activación Softmax porque las clases son excluyentes."
   ]
  },
  {
   "cell_type": "markdown",
   "metadata": {
    "id": "CzmoxYada9D7"
   },
   "source": [
    "#### Nota\n",
    "La función ReLU es continua, pero desafortunadamente no es diferenciable en z = 0 (la pendiente cambia bruscamente, lo que puede hacer que el descenso por gradiente rebote), y su derivada es 0 para z < 0. En la práctica, sin embargo, funciona muy bien y tiene la ventaja de ser rápida de calcular, por lo que se ha convertido en la **predeterminada**. Es importante destacar que el hecho de que no tenga un valor de salida máximo ayuda a reducir algunos problemas durante el descenso de gradiente."
   ]
  },
  {
   "cell_type": "code",
   "execution_count": 13,
   "metadata": {
    "colab": {
     "base_uri": "https://localhost:8080/"
    },
    "executionInfo": {
     "elapsed": 69,
     "status": "ok",
     "timestamp": 1718324991532,
     "user": {
      "displayName": "Talento Tech",
      "userId": "17477515765803143194"
     },
     "user_tz": 300
    },
    "id": "0ElYbvdvYaXC",
    "outputId": "7c9912e8-e176-4aea-9fb0-b657088587c5"
   },
   "outputs": [
    {
     "name": "stdout",
     "output_type": "stream",
     "text": [
      "Model: \"sequential\"\n",
      "_________________________________________________________________\n",
      " Layer (type)                Output Shape              Param #   \n",
      "=================================================================\n",
      " flatten (Flatten)           (None, 784)               0         \n",
      "                                                                 \n",
      " dense (Dense)               (None, 300)               235500    \n",
      "                                                                 \n",
      " dense_1 (Dense)             (None, 100)               30100     \n",
      "                                                                 \n",
      " dense_2 (Dense)             (None, 10)                1010      \n",
      "                                                                 \n",
      "=================================================================\n",
      "Total params: 266610 (1.02 MB)\n",
      "Trainable params: 266610 (1.02 MB)\n",
      "Non-trainable params: 0 (0.00 Byte)\n",
      "_________________________________________________________________\n"
     ]
    }
   ],
   "source": [
    "model.summary()"
   ]
  },
  {
   "cell_type": "markdown",
   "metadata": {
    "id": "jagqYb3ubbnS"
   },
   "source": [
    "El método `summary()` del modelo muestra todas las capas del modelo, incluyendo el nombre de cada capa (que se genera automáticamente a menos que se establezca al crear la capa), su forma de salida (`None` significa que el tamaño del lote (*batch size*) puede ser cualquiera) y su número de parámetros. El resumen termina con el número total de parámetros, incluyendo los parámetros entrenables y no entrenables. Aquí sólo tenemos parámetros entrenables (veremos algunos parámetros no entrenables más adelante)"
   ]
  },
  {
   "cell_type": "markdown",
   "metadata": {
    "id": "BzdNwjRtKNAH"
   },
   "source": [
    "Tenga en cuenta que las capas densas suelen tener muchos parámetros. Por ejemplo, la primera capa oculta tiene 784 x 300 pesos de conexión, más 300 términos de sesgo, ¡lo que suma 235.500 parámetros! Esto da al modelo bastante flexibilidad para ajustarse a los datos de entrenamiento, pero también significa que el modelo corre el riesgo de sobreajustarse, especialmente cuando no se dispone de muchos datos de entrenamiento."
   ]
  },
  {
   "cell_type": "code",
   "execution_count": 14,
   "metadata": {
    "colab": {
     "base_uri": "https://localhost:8080/",
     "height": 533
    },
    "executionInfo": {
     "elapsed": 48,
     "status": "ok",
     "timestamp": 1718324991532,
     "user": {
      "displayName": "Talento Tech",
      "userId": "17477515765803143194"
     },
     "user_tz": 300
    },
    "id": "kmOdPl7idEBY",
    "outputId": "b3f61c79-1545-40ab-ee54-feb5fc7bdbb9"
   },
   "outputs": [
    {
     "data": {
      "image/png": "[encoded data removed]",
      "text/plain": [
       "<IPython.core.display.Image object>"
      ]
     },
     "execution_count": 14,
     "metadata": {},
     "output_type": "execute_result"
    }
   ],
   "source": [
    "# Otra forma de mostrar la arquitectura del modelo\n",
    "tf.keras.utils.plot_model(model, \"my_fashion_mnist_model.png\", show_shapes=True)"
   ]
  },
  {
   "cell_type": "markdown",
   "metadata": {
    "id": "YT9CRl-oddAX"
   },
   "source": [
    "Puede obtener fácilmente la lista de capas de un modelo utilizando el atributo `layers`, o utilizar el método `get_layer()` para acceder a una capa por su nombre:"
   ]
  },
  {
   "cell_type": "code",
   "execution_count": 15,
   "metadata": {
    "colab": {
     "base_uri": "https://localhost:8080/"
    },
    "executionInfo": {
     "elapsed": 42,
     "status": "ok",
     "timestamp": 1718324991532,
     "user": {
      "displayName": "Talento Tech",
      "userId": "17477515765803143194"
     },
     "user_tz": 300
    },
    "id": "qqRpijJidgHP",
    "outputId": "14fcdb36-a9ae-4474-e812-e459f3ccf361"
   },
   "outputs": [
    {
     "data": {
      "text/plain": [
       "[<keras.src.layers.reshaping.flatten.Flatten at 0x785004e176a0>,\n",
       " <keras.src.layers.core.dense.Dense at 0x785004e3ad70>,\n",
       " <keras.src.layers.core.dense.Dense at 0x785004e3b0d0>,\n",
       " <keras.src.layers.core.dense.Dense at 0x785004e3b1c0>]"
      ]
     },
     "execution_count": 15,
     "metadata": {},
     "output_type": "execute_result"
    }
   ],
   "source": [
    "model.layers"
   ]
  },
  {
   "cell_type": "code",
   "execution_count": 16,
   "metadata": {
    "colab": {
     "base_uri": "https://localhost:8080/",
     "height": 35
    },
    "executionInfo": {
     "elapsed": 38,
     "status": "ok",
     "timestamp": 1718324991532,
     "user": {
      "displayName": "Talento Tech",
      "userId": "17477515765803143194"
     },
     "user_tz": 300
    },
    "id": "AIEu5KAWdhov",
    "outputId": "77138b70-9559-4970-8266-a2bccb779667"
   },
   "outputs": [
    {
     "data": {
      "application/vnd.google.colaboratory.intrinsic+json": {
       "type": "string"
      },
      "text/plain": [
       "'dense'"
      ]
     },
     "execution_count": 16,
     "metadata": {},
     "output_type": "execute_result"
    }
   ],
   "source": [
    "hidden1 = model.layers[1]\n",
    "hidden1.name"
   ]
  },
  {
   "cell_type": "markdown",
   "metadata": {
    "id": "6e6fFehec6QL"
   },
   "source": [
    "Se puede acceder a todos los parámetros de una capa utilizando sus métodos `get_weights()` y `set_weights()`. Para una capa `Dense`, esto incluye tanto los pesos de conexión como los términos de sesgo:"
   ]
  },
  {
   "cell_type": "code",
   "execution_count": 17,
   "metadata": {
    "colab": {
     "base_uri": "https://localhost:8080/"
    },
    "executionInfo": {
     "elapsed": 38,
     "status": "ok",
     "timestamp": 1718324991533,
     "user": {
      "displayName": "Talento Tech",
      "userId": "17477515765803143194"
     },
     "user_tz": 300
    },
    "id": "N7dpkisKYcAB",
    "outputId": "07f45011-23ac-4875-fc9a-92a4982861e3"
   },
   "outputs": [
    {
     "data": {
      "text/plain": [
       "array([[-0.00722729,  0.02858262,  0.06430921, ...,  0.02591419,\n",
       "        -0.01508812, -0.05543471],\n",
       "       [ 0.06253549, -0.06007396,  0.01374478, ...,  0.01918443,\n",
       "        -0.02046515, -0.04272682],\n",
       "       [-0.0079222 , -0.00059304,  0.05374955, ..., -0.06789518,\n",
       "         0.03746788, -0.06971509],\n",
       "       ...,\n",
       "       [ 0.03364832,  0.01538549, -0.03147057, ..., -0.01894944,\n",
       "         0.00568996,  0.04052697],\n",
       "       [ 0.04000741,  0.04810832,  0.01191656, ..., -0.05554914,\n",
       "        -0.01744921, -0.0351795 ],\n",
       "       [ 0.05297305,  0.01870694,  0.0147975 , ...,  0.03443359,\n",
       "        -0.0346612 , -0.00369797]], dtype=float32)"
      ]
     },
     "execution_count": 17,
     "metadata": {},
     "output_type": "execute_result"
    }
   ],
   "source": [
    "weights, biases = hidden1.get_weights()\n",
    "weights"
   ]
  },
  {
   "cell_type": "code",
   "execution_count": 18,
   "metadata": {
    "colab": {
     "base_uri": "https://localhost:8080/"
    },
    "executionInfo": {
     "elapsed": 36,
     "status": "ok",
     "timestamp": 1718324991533,
     "user": {
      "displayName": "Talento Tech",
      "userId": "17477515765803143194"
     },
     "user_tz": 300
    },
    "id": "F1PuhfG3dxrM",
    "outputId": "76307c3e-f971-491b-9771-d4232874009a"
   },
   "outputs": [
    {
     "data": {
      "text/plain": [
       "(784, 300)"
      ]
     },
     "execution_count": 18,
     "metadata": {},
     "output_type": "execute_result"
    }
   ],
   "source": [
    "weights.shape"
   ]
  },
  {
   "cell_type": "code",
   "execution_count": 19,
   "metadata": {
    "colab": {
     "base_uri": "https://localhost:8080/"
    },
    "executionInfo": {
     "elapsed": 34,
     "status": "ok",
     "timestamp": 1718324991533,
     "user": {
      "displayName": "Talento Tech",
      "userId": "17477515765803143194"
     },
     "user_tz": 300
    },
    "id": "xOKk8BOMdqhg",
    "outputId": "39ca7510-2a9f-44f5-c0cb-72bda5ac21ad"
   },
   "outputs": [
    {
     "data": {
      "text/plain": [
       "array([0., 0., 0., 0., 0., 0., 0., 0., 0., 0., 0., 0., 0., 0., 0., 0., 0.,\n",
       "       0., 0., 0., 0., 0., 0., 0., 0., 0., 0., 0., 0., 0., 0., 0., 0., 0.,\n",
       "       0., 0., 0., 0., 0., 0., 0., 0., 0., 0., 0., 0., 0., 0., 0., 0., 0.,\n",
       "       0., 0., 0., 0., 0., 0., 0., 0., 0., 0., 0., 0., 0., 0., 0., 0., 0.,\n",
       "       0., 0., 0., 0., 0., 0., 0., 0., 0., 0., 0., 0., 0., 0., 0., 0., 0.,\n",
       "       0., 0., 0., 0., 0., 0., 0., 0., 0., 0., 0., 0., 0., 0., 0., 0., 0.,\n",
       "       0., 0., 0., 0., 0., 0., 0., 0., 0., 0., 0., 0., 0., 0., 0., 0., 0.,\n",
       "       0., 0., 0., 0., 0., 0., 0., 0., 0., 0., 0., 0., 0., 0., 0., 0., 0.,\n",
       "       0., 0., 0., 0., 0., 0., 0., 0., 0., 0., 0., 0., 0., 0., 0., 0., 0.,\n",
       "       0., 0., 0., 0., 0., 0., 0., 0., 0., 0., 0., 0., 0., 0., 0., 0., 0.,\n",
       "       0., 0., 0., 0., 0., 0., 0., 0., 0., 0., 0., 0., 0., 0., 0., 0., 0.,\n",
       "       0., 0., 0., 0., 0., 0., 0., 0., 0., 0., 0., 0., 0., 0., 0., 0., 0.,\n",
       "       0., 0., 0., 0., 0., 0., 0., 0., 0., 0., 0., 0., 0., 0., 0., 0., 0.,\n",
       "       0., 0., 0., 0., 0., 0., 0., 0., 0., 0., 0., 0., 0., 0., 0., 0., 0.,\n",
       "       0., 0., 0., 0., 0., 0., 0., 0., 0., 0., 0., 0., 0., 0., 0., 0., 0.,\n",
       "       0., 0., 0., 0., 0., 0., 0., 0., 0., 0., 0., 0., 0., 0., 0., 0., 0.,\n",
       "       0., 0., 0., 0., 0., 0., 0., 0., 0., 0., 0., 0., 0., 0., 0., 0., 0.,\n",
       "       0., 0., 0., 0., 0., 0., 0., 0., 0., 0., 0.], dtype=float32)"
      ]
     },
     "execution_count": 19,
     "metadata": {},
     "output_type": "execute_result"
    }
   ],
   "source": [
    "biases"
   ]
  },
  {
   "cell_type": "code",
   "execution_count": 20,
   "metadata": {
    "colab": {
     "base_uri": "https://localhost:8080/"
    },
    "executionInfo": {
     "elapsed": 32,
     "status": "ok",
     "timestamp": 1718324991534,
     "user": {
      "displayName": "Talento Tech",
      "userId": "17477515765803143194"
     },
     "user_tz": 300
    },
    "id": "6WCsyH8sdyzS",
    "outputId": "9cb557fe-5b02-44cf-81cb-b68abbc1f6d1"
   },
   "outputs": [
    {
     "data": {
      "text/plain": [
       "(300,)"
      ]
     },
     "execution_count": 20,
     "metadata": {},
     "output_type": "execute_result"
    }
   ],
   "source": [
    "biases.shape"
   ]
  },
  {
   "cell_type": "markdown",
   "metadata": {
    "id": "WGTgIwzkegh9"
   },
   "source": [
    "Observe que la capa `Dense` inicializó los pesos de conexión aleatoriamente (lo cual es necesario para romper la simetría, como se discutió anteriormente), y los sesgos se inicializaron a ceros, lo cual está bien. Si desea utilizar un método de inicialización diferente, puede establecer `kernel_initializer` (*kernel* es otro nombre para la matriz de pesos de conexión) o `bias_initializer` al crear la capa. Hablaremos de los inicializadores más adelante.\n",
    "La lista completa de *initializers* está en https://keras.io/api/layers/initializers/"
   ]
  },
  {
   "cell_type": "markdown",
   "metadata": {
    "id": "4pPyTZMZfHVH"
   },
   "source": [
    "## Compilación del modelo\n",
    "Después de crear un modelo, debe llamar a su método `compile()` para especificar la función de pérdida y el optimizador a utilizar. Opcionalmente, puede especificar una lista de métricas adicionales para calcular durante el entrenamiento y la evaluación:"
   ]
  },
  {
   "cell_type": "code",
   "execution_count": 21,
   "metadata": {
    "executionInfo": {
     "elapsed": 28,
     "status": "ok",
     "timestamp": 1718324991534,
     "user": {
      "displayName": "Talento Tech",
      "userId": "17477515765803143194"
     },
     "user_tz": 300
    },
    "id": "vNRnmbQndupQ"
   },
   "outputs": [],
   "source": [
    "model.compile(loss=\"sparse_categorical_crossentropy\",\n",
    "              optimizer=\"sgd\",\n",
    "              metrics=[\"accuracy\"])"
   ]
  },
  {
   "cell_type": "markdown",
   "metadata": {
    "id": "F3ytDlFpfvxf"
   },
   "source": [
    "Veamos una explicación del código:\n",
    "\n",
    "\n",
    "*   Utilizamos la pérdida \"`sparse_categorical_crossentropy`\" porque tenemos etiquetas dispersas (es decir, para cada instancia, sólo hay un índice de clase objetivo, de 0 a 9 en este caso), y las clases son exclusivas. Si en cambio tuviéramos una probabilidad objetivo por clase para cada instancia (como *one-hot vectors*, por ejemplo, [0., 0., 0., 1., 0., 0., 0., 0., 0., 0.] para representar la clase 3), entonces tendríamos que utilizar la pérdida \"`categorical_crossentropy`\". Si estuviéramos haciendo una clasificación binaria, entonces utilizaríamos la función de activación \"`sigmoide`\" en la capa de salida en lugar de la función de activación \"`softmax`\", y utilizaríamos la pérdida \"`binary_crossentropy`\".\n",
    "*   En cuanto al optimizador, \"`sgd`\" significa que entrenaremos el modelo utilizando el descenso de gradiente estocástico. En otras palabras, Keras ejecutará el algoritmo de *backpropagation*. Discutiremos optimizadores más eficientes luego.\n",
    "*   Por último, dado que se trata de un clasificador, es útil medir su exactitud (*accuracy*) durante el entrenamiento y la evaluación, por lo que establecemos `metrics=[\"accuracy\"]`.\n",
    "\n"
   ]
  },
  {
   "cell_type": "markdown",
   "metadata": {
    "id": "_0Rry6QrhVRT"
   },
   "source": [
    "## Entrenamiento y evaluación del modelo\n",
    "Ahora el modelo está listo para ser entrenado. Para ello sólo tenemos que llamar a su método `fit()`:"
   ]
  },
  {
   "cell_type": "code",
   "execution_count": 33,
   "metadata": {
    "colab": {
     "base_uri": "https://localhost:8080/"
    },
    "executionInfo": {
     "elapsed": 21446,
     "status": "ok",
     "timestamp": 1718325920838,
     "user": {
      "displayName": "Talento Tech",
      "userId": "17477515765803143194"
     },
     "user_tz": 300
    },
    "id": "P1o2aCTdfXgf",
    "outputId": "9e26f087-ef5a-4b23-fd91-ed96af024595"
   },
   "outputs": [
    {
     "name": "stdout",
     "output_type": "stream",
     "text": [
      "Epoch 1/3\n",
      "1719/1719 [==============================] - 7s 4ms/step - loss: 0.2211 - accuracy: 0.9207 - val_loss: 0.3312 - val_accuracy: 0.8810\n",
      "Epoch 2/3\n",
      "1719/1719 [==============================] - 6s 4ms/step - loss: 0.2181 - accuracy: 0.9213 - val_loss: 0.3238 - val_accuracy: 0.8830\n",
      "Epoch 3/3\n",
      "1719/1719 [==============================] - 6s 3ms/step - loss: 0.2131 - accuracy: 0.9227 - val_loss: 0.3160 - val_accuracy: 0.8884\n"
     ]
    }
   ],
   "source": [
    "history = model.fit(X_train, y_train, epochs=3,\n",
    "                    validation_data=(X_valid, y_valid))"
   ]
  },
  {
   "cell_type": "code",
   "execution_count": 23,
   "metadata": {
    "colab": {
     "base_uri": "https://localhost:8080/"
    },
    "executionInfo": {
     "elapsed": 20,
     "status": "ok",
     "timestamp": 1718325194940,
     "user": {
      "displayName": "Talento Tech",
      "userId": "17477515765803143194"
     },
     "user_tz": 300
    },
    "id": "k8b2UecjPu2B",
    "outputId": "34f4d4e3-240a-4582-acf7-fdb1650913bb"
   },
   "outputs": [
    {
     "data": {
      "text/plain": [
       "{'verbose': 1, 'epochs': 30, 'steps': 1719}"
      ]
     },
     "execution_count": 23,
     "metadata": {},
     "output_type": "execute_result"
    }
   ],
   "source": [
    "history.params"
   ]
  },
  {
   "cell_type": "code",
   "execution_count": 24,
   "metadata": {
    "colab": {
     "base_uri": "https://localhost:8080/"
    },
    "executionInfo": {
     "elapsed": 14,
     "status": "ok",
     "timestamp": 1718325194941,
     "user": {
      "displayName": "Talento Tech",
      "userId": "17477515765803143194"
     },
     "user_tz": 300
    },
    "id": "JbqMje6TXxOH",
    "outputId": "308034e6-c61e-4e00-a0a9-0c75859d8eb7"
   },
   "outputs": [
    {
     "name": "stdout",
     "output_type": "stream",
     "text": [
      "[0, 1, 2, 3, 4, 5, 6, 7, 8, 9, 10, 11, 12, 13, 14, 15, 16, 17, 18, 19, 20, 21, 22, 23, 24, 25, 26, 27, 28, 29]\n"
     ]
    }
   ],
   "source": [
    "print(history.epoch)"
   ]
  },
  {
   "cell_type": "markdown",
   "metadata": {
    "id": "i1iQeh2oLV7Q"
   },
   "source": [
    "#### Observemos las métricas de desempeño"
   ]
  },
  {
   "cell_type": "code",
   "execution_count": 25,
   "metadata": {
    "colab": {
     "base_uri": "https://localhost:8080/",
     "height": 467
    },
    "executionInfo": {
     "elapsed": 9,
     "status": "ok",
     "timestamp": 1718325194941,
     "user": {
      "displayName": "Talento Tech",
      "userId": "17477515765803143194"
     },
     "user_tz": 300
    },
    "id": "VnIb_InFhgNx",
    "outputId": "cad03b5c-7614-4073-bc28-409eb4676fa2"
   },
   "outputs": [
    {
     "data": {
      "image/png": "[encoded data removed]",
      "text/plain": [
       "<Figure size 640x480 with 1 Axes>"
      ]
     },
     "metadata": {},
     "output_type": "display_data"
    }
   ],
   "source": [
    "import numpy as np\n",
    "import matplotlib.pyplot as plt\n",
    "\n",
    "accuracy = history.history[\"accuracy\"]\n",
    "val_accuracy = history.history[\"val_accuracy\"]\n",
    "\n",
    "plt.plot(history.epoch, accuracy, \"r--.\", label=\"Training accuracy\")\n",
    "plt.plot(history.epoch, val_accuracy, \"b-*\", label=\"Validation accuracy\")\n",
    "\n",
    "plt.legend(fontsize=14)\n",
    "plt.xticks(fontsize=14)\n",
    "plt.yticks(fontsize=14)\n",
    "plt.xlabel(\"Epochs\",fontsize=14)\n",
    "plt.ylabel(\"Accuracy\",fontsize=14)\n",
    "plt.ylim(0,1)\n",
    "plt.grid(True)"
   ]
  },
  {
   "cell_type": "code",
   "execution_count": 26,
   "metadata": {
    "colab": {
     "base_uri": "https://localhost:8080/",
     "height": 467
    },
    "executionInfo": {
     "elapsed": 771,
     "status": "ok",
     "timestamp": 1718325195706,
     "user": {
      "displayName": "Talento Tech",
      "userId": "17477515765803143194"
     },
     "user_tz": 300
    },
    "id": "lxyHBBamTTN3",
    "outputId": "4e87cd8a-a509-4908-a258-ff2cb3818881"
   },
   "outputs": [
    {
     "data": {
      "image/png": "[encoded data removed]",
      "text/plain": [
       "<Figure size 640x480 with 1 Axes>"
      ]
     },
     "metadata": {},
     "output_type": "display_data"
    }
   ],
   "source": [
    "loss = history.history[\"loss\"]\n",
    "val_loss = history.history[\"val_loss\"]\n",
    "\n",
    "plt.plot(history.epoch, loss, \"r--.\", label=\"Training loss\")\n",
    "plt.plot(history.epoch, val_loss, \"b-*\", label=\"Validation loss\")\n",
    "\n",
    "plt.legend(fontsize=14)\n",
    "plt.legend(fontsize=14)\n",
    "plt.xticks(fontsize=14)\n",
    "plt.yticks(fontsize=14)\n",
    "plt.xlabel(\"Epochs\",fontsize=14)\n",
    "plt.ylabel(\"Loss\",fontsize=14)\n",
    "plt.ylim(0,1)\n",
    "plt.grid(True)"
   ]
  },
  {
   "cell_type": "code",
   "execution_count": 27,
   "metadata": {
    "colab": {
     "base_uri": "https://localhost:8080/",
     "height": 467
    },
    "executionInfo": {
     "elapsed": 16,
     "status": "ok",
     "timestamp": 1718325195707,
     "user": {
      "displayName": "Talento Tech",
      "userId": "17477515765803143194"
     },
     "user_tz": 300
    },
    "id": "49NwjT8YYJrw",
    "outputId": "775afef8-dadf-4a70-8a70-aa3b12e0cc9d"
   },
   "outputs": [
    {
     "data": {
      "image/png": "[encoded data removed]",
      "text/plain": [
       "<Figure size 640x480 with 1 Axes>"
      ]
     },
     "metadata": {},
     "output_type": "display_data"
    }
   ],
   "source": [
    "plt.plot(history.epoch, accuracy, \"r--.\", label=\"Training accuracy\")\n",
    "plt.plot(np.array(history.epoch)+1, val_accuracy, \"b-*\", label=\"Validation accuracy\")\n",
    "plt.plot(history.epoch, loss, \"r--.\", label=\"Training loss\")\n",
    "plt.plot(np.array(history.epoch)+1, val_loss, \"b-*\", label=\"Validation loss\")\n",
    "plt.legend(fontsize=13)\n",
    "plt.xticks(fontsize=14)\n",
    "plt.yticks(fontsize=14)\n",
    "plt.xlabel(\"Epochs\",fontsize=14)\n",
    "plt.ylim(0,1)\n",
    "plt.grid(True)"
   ]
  },
  {
   "cell_type": "markdown",
   "metadata": {
    "id": "3i4SHwjbaeIh"
   },
   "source": [
    "### Evaluación en el conjunto de prueba\n",
    "Imaginemos que, después de jugar con los hiperparámetros (número de neuronas y capas ocultas, tasa de aprendizaje, batch size) tenemos un modelo lo *suficientemente bueno*, para evaluar el modelo en el conjunto de prueba utilizamos el método `evaluate`."
   ]
  },
  {
   "cell_type": "code",
   "execution_count": 28,
   "metadata": {
    "colab": {
     "base_uri": "https://localhost:8080/"
    },
    "executionInfo": {
     "elapsed": 1315,
     "status": "ok",
     "timestamp": 1718325197008,
     "user": {
      "displayName": "Talento Tech",
      "userId": "17477515765803143194"
     },
     "user_tz": 300
    },
    "id": "DC_qLUU9aa5Q",
    "outputId": "412f18eb-125b-4619-b0d1-3d315c236769"
   },
   "outputs": [
    {
     "name": "stdout",
     "output_type": "stream",
     "text": [
      "313/313 [==============================] - 1s 2ms/step - loss: 0.3262 - accuracy: 0.8845\n"
     ]
    },
    {
     "data": {
      "text/plain": [
       "[0.32617756724357605, 0.8845000267028809]"
      ]
     },
     "execution_count": 28,
     "metadata": {},
     "output_type": "execute_result"
    }
   ],
   "source": [
    "model.evaluate(X_test, y_test)"
   ]
  },
  {
   "cell_type": "markdown",
   "metadata": {
    "id": "I2tEzavyL8ld"
   },
   "source": [
    "### Hacer predicciones\n",
    "\n",
    "Dado que no disponemos de nuevas instancias, utilizaremos las tres primeras instancias del conjunto de prueba"
   ]
  },
  {
   "cell_type": "code",
   "execution_count": 29,
   "metadata": {
    "colab": {
     "base_uri": "https://localhost:8080/"
    },
    "executionInfo": {
     "elapsed": 14,
     "status": "ok",
     "timestamp": 1718325197008,
     "user": {
      "displayName": "Talento Tech",
      "userId": "17477515765803143194"
     },
     "user_tz": 300
    },
    "id": "y6A0qI8AbGft",
    "outputId": "41a08b86-f8ba-4f75-91ac-10d9c41c291e"
   },
   "outputs": [
    {
     "name": "stdout",
     "output_type": "stream",
     "text": [
      "1/1 [==============================] - 0s 73ms/step\n"
     ]
    },
    {
     "data": {
      "text/plain": [
       "array([[0.  , 0.  , 0.  , 0.  , 0.  , 0.01, 0.  , 0.02, 0.  , 0.97],\n",
       "       [0.  , 0.  , 0.99, 0.  , 0.01, 0.  , 0.  , 0.  , 0.  , 0.  ],\n",
       "       [0.  , 1.  , 0.  , 0.  , 0.  , 0.  , 0.  , 0.  , 0.  , 0.  ]],\n",
       "      dtype=float32)"
      ]
     },
     "execution_count": 29,
     "metadata": {},
     "output_type": "execute_result"
    }
   ],
   "source": [
    "X_new = X_test[:3]\n",
    "y_proba = model.predict(X_new)\n",
    "y_proba.round(2)"
   ]
  },
  {
   "cell_type": "markdown",
   "metadata": {
    "id": "pwlZkYz3NHQD"
   },
   "source": [
    "Para cada instancia, el modelo estima una probabilidad por clase, de la clase 0 a la clase 9. Por ejemplo, para la primera imagen estima que la probabilidad de la clase 9 (*ankle boot*) es del 98%, la probabilidad de la clase 7 (*sneaker*) es del 2% y las probabilidades de las otras clases son insignificantes. En otras palabras, es altamente seguro que la primera imagen es calzado, muy probablemente botines, pero posiblemente *ankle boot* o *sneaker*.\n",
    "\n",
    " Si sólo le interesa la clase con la probabilidad estimada más alta (aunque esa probabilidad sea bastante baja), puede utilizar el método `argmax()` para obtener el índice de clase de mayor probabilidad para cada instancia:\n"
   ]
  },
  {
   "cell_type": "code",
   "execution_count": 30,
   "metadata": {
    "colab": {
     "base_uri": "https://localhost:8080/"
    },
    "executionInfo": {
     "elapsed": 12,
     "status": "ok",
     "timestamp": 1718325197009,
     "user": {
      "displayName": "Talento Tech",
      "userId": "17477515765803143194"
     },
     "user_tz": 300
    },
    "id": "-qw6F7DUYWWn",
    "outputId": "2b604094-6ed5-4853-efce-e6e691911031"
   },
   "outputs": [
    {
     "data": {
      "text/plain": [
       "array([9, 2, 1])"
      ]
     },
     "execution_count": 30,
     "metadata": {},
     "output_type": "execute_result"
    }
   ],
   "source": [
    "y_pred = y_proba.argmax(axis=-1)\n",
    "y_pred"
   ]
  },
  {
   "cell_type": "code",
   "execution_count": 31,
   "metadata": {
    "colab": {
     "base_uri": "https://localhost:8080/"
    },
    "executionInfo": {
     "elapsed": 10,
     "status": "ok",
     "timestamp": 1718325197009,
     "user": {
      "displayName": "Talento Tech",
      "userId": "17477515765803143194"
     },
     "user_tz": 300
    },
    "id": "LsL0evNEN3ms",
    "outputId": "e6e7ebdf-b29d-439d-bd6c-81e31decb3d6"
   },
   "outputs": [
    {
     "data": {
      "text/plain": [
       "array(['Ankle boot', 'Pullover', 'Trouser'], dtype='<U11')"
      ]
     },
     "execution_count": 31,
     "metadata": {},
     "output_type": "execute_result"
    }
   ],
   "source": [
    "np.array(class_names)[y_pred]"
   ]
  },
  {
   "cell_type": "code",
   "execution_count": 32,
   "metadata": {
    "colab": {
     "base_uri": "https://localhost:8080/"
    },
    "executionInfo": {
     "elapsed": 8,
     "status": "ok",
     "timestamp": 1718325197009,
     "user": {
      "displayName": "Talento Tech",
      "userId": "17477515765803143194"
     },
     "user_tz": 300
    },
    "id": "kQlgSWWBN7ep",
    "outputId": "68115e89-0757-4a25-b41a-90214a94f0d1"
   },
   "outputs": [
    {
     "data": {
      "text/plain": [
       "array([9, 2, 1], dtype=uint8)"
      ]
     },
     "execution_count": 32,
     "metadata": {},
     "output_type": "execute_result"
    }
   ],
   "source": [
    "# Verifiquemos que el modelo haya hecho las predicciones correctas\n",
    "y_test[:3]"
   ]
  },
  {
   "cell_type": "code",
   "execution_count": 32,
   "metadata": {
    "executionInfo": {
     "elapsed": 6,
     "status": "ok",
     "timestamp": 1718325197009,
     "user": {
      "displayName": "Talento Tech",
      "userId": "17477515765803143194"
     },
     "user_tz": 300
    },
    "id": "FZur0qmUOK6w"
   },
   "outputs": [],
   "source": []
  }
 ],
 "metadata": {
  "accelerator": "GPU",
  "colab": {
   "gpuType": "T4",
   "provenance": []
  },
  "kernelspec": {
   "display_name": "Python 3",
   "language": "python",
   "name": "python3"
  },
  "language_info": {
   "codemirror_mode": {
    "name": "ipython",
    "version": 3
   },
   "file_extension": ".py",
   "mimetype": "text/x-python",
   "name": "python",
   "nbconvert_exporter": "python",
   "pygments_lexer": "ipython3",
   "version": "3.8.3"
  }
 },
 "nbformat": 4,
 "nbformat_minor": 1
}
