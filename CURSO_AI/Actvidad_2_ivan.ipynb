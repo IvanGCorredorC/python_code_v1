{
 "cells": [
  {
   "cell_type": "markdown",
   "metadata": {
    "id": "P_G9VJ0lFrJv"
   },
   "source": [
    "# Conjunto de datos MNIST"
   ]
  },
  {
   "cell_type": "code",
   "execution_count": 1,
   "metadata": {
    "colab": {
     "base_uri": "https://localhost:8080/"
    },
    "executionInfo": {
     "elapsed": 43737,
     "status": "ok",
     "timestamp": 1717682185614,
     "user": {
      "displayName": "Laura Raquel Trujillo Yates",
      "userId": "09079364582354927390"
     },
     "user_tz": 300
    },
    "id": "xSYBBaid8IiC",
    "outputId": "37b79594-c550-4f5b-a520-8bcedd5699bc"
   },
   "outputs": [
    {
     "ename": "KeyboardInterrupt",
     "evalue": "",
     "output_type": "error",
     "traceback": [
      "\u001b[1;31m---------------------------------------------------------------------------\u001b[0m",
      "\u001b[1;31mKeyboardInterrupt\u001b[0m                         Traceback (most recent call last)",
      "\u001b[1;32m<ipython-input-1-41c35dd8b888>\u001b[0m in \u001b[0;36m<module>\u001b[1;34m\u001b[0m\n\u001b[0;32m      1\u001b[0m \u001b[1;32mfrom\u001b[0m \u001b[0msklearn\u001b[0m\u001b[1;33m.\u001b[0m\u001b[0mdatasets\u001b[0m \u001b[1;32mimport\u001b[0m \u001b[0mfetch_openml\u001b[0m\u001b[1;33m\u001b[0m\u001b[1;33m\u001b[0m\u001b[0m\n\u001b[0;32m      2\u001b[0m \u001b[1;33m\u001b[0m\u001b[0m\n\u001b[1;32m----> 3\u001b[1;33m \u001b[0mmnist\u001b[0m \u001b[1;33m=\u001b[0m \u001b[0mfetch_openml\u001b[0m\u001b[1;33m(\u001b[0m\u001b[1;34m'mnist_784'\u001b[0m\u001b[1;33m,\u001b[0m \u001b[0mas_frame\u001b[0m\u001b[1;33m=\u001b[0m\u001b[1;32mFalse\u001b[0m\u001b[1;33m)\u001b[0m\u001b[1;33m\u001b[0m\u001b[1;33m\u001b[0m\u001b[0m\n\u001b[0m",
      "\u001b[1;32mD:\\anaconda\\lib\\site-packages\\sklearn\\utils\\validation.py\u001b[0m in \u001b[0;36minner_f\u001b[1;34m(*args, **kwargs)\u001b[0m\n\u001b[0;32m     71\u001b[0m                           FutureWarning)\n\u001b[0;32m     72\u001b[0m         \u001b[0mkwargs\u001b[0m\u001b[1;33m.\u001b[0m\u001b[0mupdate\u001b[0m\u001b[1;33m(\u001b[0m\u001b[1;33m{\u001b[0m\u001b[0mk\u001b[0m\u001b[1;33m:\u001b[0m \u001b[0marg\u001b[0m \u001b[1;32mfor\u001b[0m \u001b[0mk\u001b[0m\u001b[1;33m,\u001b[0m \u001b[0marg\u001b[0m \u001b[1;32min\u001b[0m \u001b[0mzip\u001b[0m\u001b[1;33m(\u001b[0m\u001b[0msig\u001b[0m\u001b[1;33m.\u001b[0m\u001b[0mparameters\u001b[0m\u001b[1;33m,\u001b[0m \u001b[0margs\u001b[0m\u001b[1;33m)\u001b[0m\u001b[1;33m}\u001b[0m\u001b[1;33m)\u001b[0m\u001b[1;33m\u001b[0m\u001b[1;33m\u001b[0m\u001b[0m\n\u001b[1;32m---> 73\u001b[1;33m         \u001b[1;32mreturn\u001b[0m \u001b[0mf\u001b[0m\u001b[1;33m(\u001b[0m\u001b[1;33m**\u001b[0m\u001b[0mkwargs\u001b[0m\u001b[1;33m)\u001b[0m\u001b[1;33m\u001b[0m\u001b[1;33m\u001b[0m\u001b[0m\n\u001b[0m\u001b[0;32m     74\u001b[0m     \u001b[1;32mreturn\u001b[0m \u001b[0minner_f\u001b[0m\u001b[1;33m\u001b[0m\u001b[1;33m\u001b[0m\u001b[0m\n\u001b[0;32m     75\u001b[0m \u001b[1;33m\u001b[0m\u001b[0m\n",
      "\u001b[1;32mD:\\anaconda\\lib\\site-packages\\sklearn\\datasets\\_openml.py\u001b[0m in \u001b[0;36mfetch_openml\u001b[1;34m(name, version, data_id, data_home, target_column, cache, return_X_y, as_frame)\u001b[0m\n\u001b[0;32m    814\u001b[0m     \u001b[1;31m# obtain the data\u001b[0m\u001b[1;33m\u001b[0m\u001b[1;33m\u001b[0m\u001b[1;33m\u001b[0m\u001b[0m\n\u001b[0;32m    815\u001b[0m     \u001b[0murl\u001b[0m \u001b[1;33m=\u001b[0m \u001b[0m_DATA_FILE\u001b[0m\u001b[1;33m.\u001b[0m\u001b[0mformat\u001b[0m\u001b[1;33m(\u001b[0m\u001b[0mdata_description\u001b[0m\u001b[1;33m[\u001b[0m\u001b[1;34m'file_id'\u001b[0m\u001b[1;33m]\u001b[0m\u001b[1;33m)\u001b[0m\u001b[1;33m\u001b[0m\u001b[1;33m\u001b[0m\u001b[0m\n\u001b[1;32m--> 816\u001b[1;33m     bunch = _download_data_to_bunch(url, return_sparse, data_home,\n\u001b[0m\u001b[0;32m    817\u001b[0m                                     \u001b[0mas_frame\u001b[0m\u001b[1;33m=\u001b[0m\u001b[0mas_frame\u001b[0m\u001b[1;33m,\u001b[0m\u001b[1;33m\u001b[0m\u001b[1;33m\u001b[0m\u001b[0m\n\u001b[0;32m    818\u001b[0m                                     \u001b[0mfeatures_list\u001b[0m\u001b[1;33m=\u001b[0m\u001b[0mfeatures_list\u001b[0m\u001b[1;33m,\u001b[0m \u001b[0mshape\u001b[0m\u001b[1;33m=\u001b[0m\u001b[0mshape\u001b[0m\u001b[1;33m,\u001b[0m\u001b[1;33m\u001b[0m\u001b[1;33m\u001b[0m\u001b[0m\n",
      "\u001b[1;32mD:\\anaconda\\lib\\site-packages\\sklearn\\datasets\\_openml.py\u001b[0m in \u001b[0;36m_download_data_to_bunch\u001b[1;34m(url, sparse, data_home, as_frame, features_list, data_columns, target_columns, shape)\u001b[0m\n\u001b[0;32m    555\u001b[0m             \u001b[1;32mreturn\u001b[0m \u001b[0mX\u001b[0m\u001b[1;33m,\u001b[0m \u001b[0my\u001b[0m\u001b[1;33m,\u001b[0m \u001b[0mframe\u001b[0m\u001b[1;33m,\u001b[0m \u001b[0mnominal_attributes\u001b[0m\u001b[1;33m\u001b[0m\u001b[1;33m\u001b[0m\u001b[0m\n\u001b[0;32m    556\u001b[0m \u001b[1;33m\u001b[0m\u001b[0m\n\u001b[1;32m--> 557\u001b[1;33m     out = _retry_with_clean_cache(url, data_home)(\n\u001b[0m\u001b[0;32m    558\u001b[0m         \u001b[0m_load_arff_response\u001b[0m\u001b[1;33m)\u001b[0m\u001b[1;33m(\u001b[0m\u001b[0murl\u001b[0m\u001b[1;33m,\u001b[0m \u001b[0mdata_home\u001b[0m\u001b[1;33m,\u001b[0m\u001b[1;33m\u001b[0m\u001b[1;33m\u001b[0m\u001b[0m\n\u001b[0;32m    559\u001b[0m                              \u001b[0mreturn_type\u001b[0m\u001b[1;33m=\u001b[0m\u001b[0mreturn_type\u001b[0m\u001b[1;33m,\u001b[0m\u001b[1;33m\u001b[0m\u001b[1;33m\u001b[0m\u001b[0m\n",
      "\u001b[1;32mD:\\anaconda\\lib\\site-packages\\sklearn\\datasets\\_openml.py\u001b[0m in \u001b[0;36mwrapper\u001b[1;34m(*args, **kw)\u001b[0m\n\u001b[0;32m     51\u001b[0m                 \u001b[1;32mreturn\u001b[0m \u001b[0mf\u001b[0m\u001b[1;33m(\u001b[0m\u001b[1;33m*\u001b[0m\u001b[0margs\u001b[0m\u001b[1;33m,\u001b[0m \u001b[1;33m**\u001b[0m\u001b[0mkw\u001b[0m\u001b[1;33m)\u001b[0m\u001b[1;33m\u001b[0m\u001b[1;33m\u001b[0m\u001b[0m\n\u001b[0;32m     52\u001b[0m             \u001b[1;32mtry\u001b[0m\u001b[1;33m:\u001b[0m\u001b[1;33m\u001b[0m\u001b[1;33m\u001b[0m\u001b[0m\n\u001b[1;32m---> 53\u001b[1;33m                 \u001b[1;32mreturn\u001b[0m \u001b[0mf\u001b[0m\u001b[1;33m(\u001b[0m\u001b[1;33m*\u001b[0m\u001b[0margs\u001b[0m\u001b[1;33m,\u001b[0m \u001b[1;33m**\u001b[0m\u001b[0mkw\u001b[0m\u001b[1;33m)\u001b[0m\u001b[1;33m\u001b[0m\u001b[1;33m\u001b[0m\u001b[0m\n\u001b[0m\u001b[0;32m     54\u001b[0m             \u001b[1;32mexcept\u001b[0m \u001b[0mHTTPError\u001b[0m\u001b[1;33m:\u001b[0m\u001b[1;33m\u001b[0m\u001b[1;33m\u001b[0m\u001b[0m\n\u001b[0;32m     55\u001b[0m                 \u001b[1;32mraise\u001b[0m\u001b[1;33m\u001b[0m\u001b[1;33m\u001b[0m\u001b[0m\n",
      "\u001b[1;32mD:\\anaconda\\lib\\site-packages\\sklearn\\datasets\\_openml.py\u001b[0m in \u001b[0;36m_load_arff_response\u001b[1;34m(url, data_home, return_type, encode_nominal, parse_arff)\u001b[0m\n\u001b[0;32m    464\u001b[0m                           \u001b[0mreturn_type\u001b[0m\u001b[1;33m=\u001b[0m\u001b[0mreturn_type\u001b[0m\u001b[1;33m,\u001b[0m\u001b[1;33m\u001b[0m\u001b[1;33m\u001b[0m\u001b[0m\n\u001b[0;32m    465\u001b[0m                           encode_nominal=encode_nominal)\n\u001b[1;32m--> 466\u001b[1;33m         \u001b[1;32mreturn\u001b[0m \u001b[0mparse_arff\u001b[0m\u001b[1;33m(\u001b[0m\u001b[0marff\u001b[0m\u001b[1;33m)\u001b[0m\u001b[1;33m\u001b[0m\u001b[1;33m\u001b[0m\u001b[0m\n\u001b[0m\u001b[0;32m    467\u001b[0m \u001b[1;33m\u001b[0m\u001b[0m\n\u001b[0;32m    468\u001b[0m \u001b[1;33m\u001b[0m\u001b[0m\n",
      "\u001b[1;32mD:\\anaconda\\lib\\site-packages\\sklearn\\datasets\\_openml.py\u001b[0m in \u001b[0;36mparse_arff\u001b[1;34m(arff)\u001b[0m\n\u001b[0;32m    519\u001b[0m     \u001b[1;32melse\u001b[0m\u001b[1;33m:\u001b[0m\u001b[1;33m\u001b[0m\u001b[1;33m\u001b[0m\u001b[0m\n\u001b[0;32m    520\u001b[0m         \u001b[1;32mdef\u001b[0m \u001b[0mparse_arff\u001b[0m\u001b[1;33m(\u001b[0m\u001b[0marff\u001b[0m\u001b[1;33m)\u001b[0m\u001b[1;33m:\u001b[0m\u001b[1;33m\u001b[0m\u001b[1;33m\u001b[0m\u001b[0m\n\u001b[1;32m--> 521\u001b[1;33m             \u001b[0mX\u001b[0m\u001b[1;33m,\u001b[0m \u001b[0my\u001b[0m \u001b[1;33m=\u001b[0m \u001b[0m_convert_arff_data\u001b[0m\u001b[1;33m(\u001b[0m\u001b[0marff\u001b[0m\u001b[1;33m,\u001b[0m \u001b[0mcol_slice_x\u001b[0m\u001b[1;33m,\u001b[0m \u001b[0mcol_slice_y\u001b[0m\u001b[1;33m,\u001b[0m \u001b[0mshape\u001b[0m\u001b[1;33m)\u001b[0m\u001b[1;33m\u001b[0m\u001b[1;33m\u001b[0m\u001b[0m\n\u001b[0m\u001b[0;32m    522\u001b[0m             \u001b[1;31m# nominal attributes is a dict mapping from the attribute name to\u001b[0m\u001b[1;33m\u001b[0m\u001b[1;33m\u001b[0m\u001b[1;33m\u001b[0m\u001b[0m\n\u001b[0;32m    523\u001b[0m             \u001b[1;31m# the possible values. Includes also the target column (which will\u001b[0m\u001b[1;33m\u001b[0m\u001b[1;33m\u001b[0m\u001b[1;33m\u001b[0m\u001b[0m\n",
      "\u001b[1;32mD:\\anaconda\\lib\\site-packages\\sklearn\\datasets\\_openml.py\u001b[0m in \u001b[0;36m_convert_arff_data\u001b[1;34m(arff, col_slice_x, col_slice_y, shape)\u001b[0m\n\u001b[0;32m    250\u001b[0m         \u001b[1;32melse\u001b[0m\u001b[1;33m:\u001b[0m\u001b[1;33m\u001b[0m\u001b[1;33m\u001b[0m\u001b[0m\n\u001b[0;32m    251\u001b[0m             \u001b[0mcount\u001b[0m \u001b[1;33m=\u001b[0m \u001b[0mshape\u001b[0m\u001b[1;33m[\u001b[0m\u001b[1;36m0\u001b[0m\u001b[1;33m]\u001b[0m \u001b[1;33m*\u001b[0m \u001b[0mshape\u001b[0m\u001b[1;33m[\u001b[0m\u001b[1;36m1\u001b[0m\u001b[1;33m]\u001b[0m\u001b[1;33m\u001b[0m\u001b[1;33m\u001b[0m\u001b[0m\n\u001b[1;32m--> 252\u001b[1;33m         data = np.fromiter(itertools.chain.from_iterable(arff_data),\n\u001b[0m\u001b[0;32m    253\u001b[0m                            dtype='float64', count=count)\n\u001b[0;32m    254\u001b[0m         \u001b[0mdata\u001b[0m \u001b[1;33m=\u001b[0m \u001b[0mdata\u001b[0m\u001b[1;33m.\u001b[0m\u001b[0mreshape\u001b[0m\u001b[1;33m(\u001b[0m\u001b[1;33m*\u001b[0m\u001b[0mshape\u001b[0m\u001b[1;33m)\u001b[0m\u001b[1;33m\u001b[0m\u001b[1;33m\u001b[0m\u001b[0m\n",
      "\u001b[1;32mD:\\anaconda\\lib\\site-packages\\sklearn\\externals\\_arff.py\u001b[0m in \u001b[0;36mdecode_rows\u001b[1;34m(self, stream, conversors)\u001b[0m\n\u001b[0;32m    458\u001b[0m \u001b[1;33m\u001b[0m\u001b[0m\n\u001b[0;32m    459\u001b[0m     \u001b[1;32mdef\u001b[0m \u001b[0mdecode_rows\u001b[0m\u001b[1;33m(\u001b[0m\u001b[0mself\u001b[0m\u001b[1;33m,\u001b[0m \u001b[0mstream\u001b[0m\u001b[1;33m,\u001b[0m \u001b[0mconversors\u001b[0m\u001b[1;33m)\u001b[0m\u001b[1;33m:\u001b[0m\u001b[1;33m\u001b[0m\u001b[1;33m\u001b[0m\u001b[0m\n\u001b[1;32m--> 460\u001b[1;33m         \u001b[1;32mfor\u001b[0m \u001b[0mrow\u001b[0m \u001b[1;32min\u001b[0m \u001b[0mstream\u001b[0m\u001b[1;33m:\u001b[0m\u001b[1;33m\u001b[0m\u001b[1;33m\u001b[0m\u001b[0m\n\u001b[0m\u001b[0;32m    461\u001b[0m             \u001b[0mvalues\u001b[0m \u001b[1;33m=\u001b[0m \u001b[0m_parse_values\u001b[0m\u001b[1;33m(\u001b[0m\u001b[0mrow\u001b[0m\u001b[1;33m)\u001b[0m\u001b[1;33m\u001b[0m\u001b[1;33m\u001b[0m\u001b[0m\n\u001b[0;32m    462\u001b[0m \u001b[1;33m\u001b[0m\u001b[0m\n",
      "\u001b[1;32mD:\\anaconda\\lib\\site-packages\\sklearn\\externals\\_arff.py\u001b[0m in \u001b[0;36mstream\u001b[1;34m()\u001b[0m\n\u001b[0;32m    861\u001b[0m \u001b[1;33m\u001b[0m\u001b[0m\n\u001b[0;32m    862\u001b[0m         \u001b[1;32mdef\u001b[0m \u001b[0mstream\u001b[0m\u001b[1;33m(\u001b[0m\u001b[1;33m)\u001b[0m\u001b[1;33m:\u001b[0m\u001b[1;33m\u001b[0m\u001b[1;33m\u001b[0m\u001b[0m\n\u001b[1;32m--> 863\u001b[1;33m             \u001b[1;32mfor\u001b[0m \u001b[0mrow\u001b[0m \u001b[1;32min\u001b[0m \u001b[0ms\u001b[0m\u001b[1;33m:\u001b[0m\u001b[1;33m\u001b[0m\u001b[1;33m\u001b[0m\u001b[0m\n\u001b[0m\u001b[0;32m    864\u001b[0m                 \u001b[0mself\u001b[0m\u001b[1;33m.\u001b[0m\u001b[0m_current_line\u001b[0m \u001b[1;33m+=\u001b[0m \u001b[1;36m1\u001b[0m\u001b[1;33m\u001b[0m\u001b[1;33m\u001b[0m\u001b[0m\n\u001b[0;32m    865\u001b[0m                 \u001b[0mrow\u001b[0m \u001b[1;33m=\u001b[0m \u001b[0mrow\u001b[0m\u001b[1;33m.\u001b[0m\u001b[0mstrip\u001b[0m\u001b[1;33m(\u001b[0m\u001b[1;33m)\u001b[0m\u001b[1;33m\u001b[0m\u001b[1;33m\u001b[0m\u001b[0m\n",
      "\u001b[1;32mD:\\anaconda\\lib\\site-packages\\sklearn\\datasets\\_openml.py\u001b[0m in \u001b[0;36m<genexpr>\u001b[1;34m(.0)\u001b[0m\n\u001b[0;32m    461\u001b[0m         \u001b[1;31m# Note that if the data is dense, no reading is done until the data\u001b[0m\u001b[1;33m\u001b[0m\u001b[1;33m\u001b[0m\u001b[1;33m\u001b[0m\u001b[0m\n\u001b[0;32m    462\u001b[0m         \u001b[1;31m# generator is iterated.\u001b[0m\u001b[1;33m\u001b[0m\u001b[1;33m\u001b[0m\u001b[1;33m\u001b[0m\u001b[0m\n\u001b[1;32m--> 463\u001b[1;33m         arff = _arff.load((line.decode('utf-8') for line in response),\n\u001b[0m\u001b[0;32m    464\u001b[0m                           \u001b[0mreturn_type\u001b[0m\u001b[1;33m=\u001b[0m\u001b[0mreturn_type\u001b[0m\u001b[1;33m,\u001b[0m\u001b[1;33m\u001b[0m\u001b[1;33m\u001b[0m\u001b[0m\n\u001b[0;32m    465\u001b[0m                           encode_nominal=encode_nominal)\n",
      "\u001b[1;32mD:\\anaconda\\lib\\gzip.py\u001b[0m in \u001b[0;36mreadline\u001b[1;34m(self, size)\u001b[0m\n\u001b[0;32m    388\u001b[0m     \u001b[1;32mdef\u001b[0m \u001b[0mreadline\u001b[0m\u001b[1;33m(\u001b[0m\u001b[0mself\u001b[0m\u001b[1;33m,\u001b[0m \u001b[0msize\u001b[0m\u001b[1;33m=\u001b[0m\u001b[1;33m-\u001b[0m\u001b[1;36m1\u001b[0m\u001b[1;33m)\u001b[0m\u001b[1;33m:\u001b[0m\u001b[1;33m\u001b[0m\u001b[1;33m\u001b[0m\u001b[0m\n\u001b[0;32m    389\u001b[0m         \u001b[0mself\u001b[0m\u001b[1;33m.\u001b[0m\u001b[0m_check_not_closed\u001b[0m\u001b[1;33m(\u001b[0m\u001b[1;33m)\u001b[0m\u001b[1;33m\u001b[0m\u001b[1;33m\u001b[0m\u001b[0m\n\u001b[1;32m--> 390\u001b[1;33m         \u001b[1;32mreturn\u001b[0m \u001b[0mself\u001b[0m\u001b[1;33m.\u001b[0m\u001b[0m_buffer\u001b[0m\u001b[1;33m.\u001b[0m\u001b[0mreadline\u001b[0m\u001b[1;33m(\u001b[0m\u001b[0msize\u001b[0m\u001b[1;33m)\u001b[0m\u001b[1;33m\u001b[0m\u001b[1;33m\u001b[0m\u001b[0m\n\u001b[0m\u001b[0;32m    391\u001b[0m \u001b[1;33m\u001b[0m\u001b[0m\n\u001b[0;32m    392\u001b[0m \u001b[1;33m\u001b[0m\u001b[0m\n",
      "\u001b[1;32mD:\\anaconda\\lib\\_compression.py\u001b[0m in \u001b[0;36mreadinto\u001b[1;34m(self, b)\u001b[0m\n\u001b[0;32m     66\u001b[0m     \u001b[1;32mdef\u001b[0m \u001b[0mreadinto\u001b[0m\u001b[1;33m(\u001b[0m\u001b[0mself\u001b[0m\u001b[1;33m,\u001b[0m \u001b[0mb\u001b[0m\u001b[1;33m)\u001b[0m\u001b[1;33m:\u001b[0m\u001b[1;33m\u001b[0m\u001b[1;33m\u001b[0m\u001b[0m\n\u001b[0;32m     67\u001b[0m         \u001b[1;32mwith\u001b[0m \u001b[0mmemoryview\u001b[0m\u001b[1;33m(\u001b[0m\u001b[0mb\u001b[0m\u001b[1;33m)\u001b[0m \u001b[1;32mas\u001b[0m \u001b[0mview\u001b[0m\u001b[1;33m,\u001b[0m \u001b[0mview\u001b[0m\u001b[1;33m.\u001b[0m\u001b[0mcast\u001b[0m\u001b[1;33m(\u001b[0m\u001b[1;34m\"B\"\u001b[0m\u001b[1;33m)\u001b[0m \u001b[1;32mas\u001b[0m \u001b[0mbyte_view\u001b[0m\u001b[1;33m:\u001b[0m\u001b[1;33m\u001b[0m\u001b[1;33m\u001b[0m\u001b[0m\n\u001b[1;32m---> 68\u001b[1;33m             \u001b[0mdata\u001b[0m \u001b[1;33m=\u001b[0m \u001b[0mself\u001b[0m\u001b[1;33m.\u001b[0m\u001b[0mread\u001b[0m\u001b[1;33m(\u001b[0m\u001b[0mlen\u001b[0m\u001b[1;33m(\u001b[0m\u001b[0mbyte_view\u001b[0m\u001b[1;33m)\u001b[0m\u001b[1;33m)\u001b[0m\u001b[1;33m\u001b[0m\u001b[1;33m\u001b[0m\u001b[0m\n\u001b[0m\u001b[0;32m     69\u001b[0m             \u001b[0mbyte_view\u001b[0m\u001b[1;33m[\u001b[0m\u001b[1;33m:\u001b[0m\u001b[0mlen\u001b[0m\u001b[1;33m(\u001b[0m\u001b[0mdata\u001b[0m\u001b[1;33m)\u001b[0m\u001b[1;33m]\u001b[0m \u001b[1;33m=\u001b[0m \u001b[0mdata\u001b[0m\u001b[1;33m\u001b[0m\u001b[1;33m\u001b[0m\u001b[0m\n\u001b[0;32m     70\u001b[0m         \u001b[1;32mreturn\u001b[0m \u001b[0mlen\u001b[0m\u001b[1;33m(\u001b[0m\u001b[0mdata\u001b[0m\u001b[1;33m)\u001b[0m\u001b[1;33m\u001b[0m\u001b[1;33m\u001b[0m\u001b[0m\n",
      "\u001b[1;32mD:\\anaconda\\lib\\gzip.py\u001b[0m in \u001b[0;36mread\u001b[1;34m(self, size)\u001b[0m\n\u001b[0;32m    485\u001b[0m             \u001b[0mbuf\u001b[0m \u001b[1;33m=\u001b[0m \u001b[0mself\u001b[0m\u001b[1;33m.\u001b[0m\u001b[0m_fp\u001b[0m\u001b[1;33m.\u001b[0m\u001b[0mread\u001b[0m\u001b[1;33m(\u001b[0m\u001b[0mio\u001b[0m\u001b[1;33m.\u001b[0m\u001b[0mDEFAULT_BUFFER_SIZE\u001b[0m\u001b[1;33m)\u001b[0m\u001b[1;33m\u001b[0m\u001b[1;33m\u001b[0m\u001b[0m\n\u001b[0;32m    486\u001b[0m \u001b[1;33m\u001b[0m\u001b[0m\n\u001b[1;32m--> 487\u001b[1;33m             \u001b[0muncompress\u001b[0m \u001b[1;33m=\u001b[0m \u001b[0mself\u001b[0m\u001b[1;33m.\u001b[0m\u001b[0m_decompressor\u001b[0m\u001b[1;33m.\u001b[0m\u001b[0mdecompress\u001b[0m\u001b[1;33m(\u001b[0m\u001b[0mbuf\u001b[0m\u001b[1;33m,\u001b[0m \u001b[0msize\u001b[0m\u001b[1;33m)\u001b[0m\u001b[1;33m\u001b[0m\u001b[1;33m\u001b[0m\u001b[0m\n\u001b[0m\u001b[0;32m    488\u001b[0m             \u001b[1;32mif\u001b[0m \u001b[0mself\u001b[0m\u001b[1;33m.\u001b[0m\u001b[0m_decompressor\u001b[0m\u001b[1;33m.\u001b[0m\u001b[0munconsumed_tail\u001b[0m \u001b[1;33m!=\u001b[0m \u001b[1;34mb\"\"\u001b[0m\u001b[1;33m:\u001b[0m\u001b[1;33m\u001b[0m\u001b[1;33m\u001b[0m\u001b[0m\n\u001b[0;32m    489\u001b[0m                 \u001b[0mself\u001b[0m\u001b[1;33m.\u001b[0m\u001b[0m_fp\u001b[0m\u001b[1;33m.\u001b[0m\u001b[0mprepend\u001b[0m\u001b[1;33m(\u001b[0m\u001b[0mself\u001b[0m\u001b[1;33m.\u001b[0m\u001b[0m_decompressor\u001b[0m\u001b[1;33m.\u001b[0m\u001b[0munconsumed_tail\u001b[0m\u001b[1;33m)\u001b[0m\u001b[1;33m\u001b[0m\u001b[1;33m\u001b[0m\u001b[0m\n",
      "\u001b[1;31mKeyboardInterrupt\u001b[0m: "
     ]
    }
   ],
   "source": [
    "from sklearn.datasets import fetch_openml\n",
    "\n",
    "mnist = fetch_openml('mnist_784', as_frame=False)"
   ]
  },
  {
   "cell_type": "code",
   "execution_count": null,
   "metadata": {
    "colab": {
     "base_uri": "https://localhost:8080/"
    },
    "executionInfo": {
     "elapsed": 41,
     "status": "ok",
     "timestamp": 1717539595325,
     "user": {
      "displayName": "Talento Tech",
      "userId": "17477515765803143194"
     },
     "user_tz": 300
    },
    "id": "6uRxtEw0Fvbz",
    "outputId": "f895890a-e7f2-43b0-b003-4127ea383166"
   },
   "outputs": [],
   "source": [
    "print(mnist.DESCR)"
   ]
  },
  {
   "cell_type": "code",
   "execution_count": null,
   "metadata": {
    "colab": {
     "base_uri": "https://localhost:8080/"
    },
    "executionInfo": {
     "elapsed": 14,
     "status": "ok",
     "timestamp": 1717539595326,
     "user": {
      "displayName": "Talento Tech",
      "userId": "17477515765803143194"
     },
     "user_tz": 300
    },
    "id": "dA3HfpAKF_rB",
    "outputId": "b95b350f-4e07-4384-c9d0-bcdcce3565d3"
   },
   "outputs": [],
   "source": [
    "mnist.keys()"
   ]
  },
  {
   "cell_type": "code",
   "execution_count": null,
   "metadata": {
    "colab": {
     "base_uri": "https://localhost:8080/"
    },
    "executionInfo": {
     "elapsed": 8,
     "status": "ok",
     "timestamp": 1717546656963,
     "user": {
      "displayName": "Talento Tech",
      "userId": "17477515765803143194"
     },
     "user_tz": 300
    },
    "id": "WeQwT8qYFwey",
    "outputId": "569ecf64-82a8-411f-d1ed-68ac0ca6b264"
   },
   "outputs": [],
   "source": [
    "X, y = mnist.data, mnist.target\n",
    "X"
   ]
  },
  {
   "cell_type": "code",
   "execution_count": null,
   "metadata": {
    "colab": {
     "base_uri": "https://localhost:8080/"
    },
    "executionInfo": {
     "elapsed": 9,
     "status": "ok",
     "timestamp": 1717539595326,
     "user": {
      "displayName": "Talento Tech",
      "userId": "17477515765803143194"
     },
     "user_tz": 300
    },
    "id": "hq0CZP9NGAY-",
    "outputId": "64965e8b-dbd1-4991-fd5b-9138e437d19c"
   },
   "outputs": [],
   "source": [
    "X.shape"
   ]
  },
  {
   "cell_type": "markdown",
   "metadata": {
    "id": "9LKyCYBrHPu0"
   },
   "source": [
    "Hay 70.000 imágenes y cada una tiene 784 características. Esto se debe a que cada imagen tiene 28 × 28 píxeles, y cada característica representa simplemente la intensidad de un píxel, de 0 (blanco) a 255 (negro)."
   ]
  },
  {
   "cell_type": "code",
   "execution_count": null,
   "metadata": {
    "colab": {
     "base_uri": "https://localhost:8080/"
    },
    "executionInfo": {
     "elapsed": 8,
     "status": "ok",
     "timestamp": 1717539595326,
     "user": {
      "displayName": "Talento Tech",
      "userId": "17477515765803143194"
     },
     "user_tz": 300
    },
    "id": "GOrRwNybGDTt",
    "outputId": "8e1f7202-c82c-4577-f621-abb58e7c7564"
   },
   "outputs": [],
   "source": [
    "y"
   ]
  },
  {
   "cell_type": "code",
   "execution_count": null,
   "metadata": {
    "colab": {
     "base_uri": "https://localhost:8080/"
    },
    "executionInfo": {
     "elapsed": 6,
     "status": "ok",
     "timestamp": 1717539595326,
     "user": {
      "displayName": "Talento Tech",
      "userId": "17477515765803143194"
     },
     "user_tz": 300
    },
    "id": "fdyLw1CQHIey",
    "outputId": "a002f48b-47b8-49a9-be22-485e8e95e83f"
   },
   "outputs": [],
   "source": [
    "y.shape"
   ]
  },
  {
   "cell_type": "markdown",
   "metadata": {
    "id": "YQVIVs2EHbxo"
   },
   "source": [
    "Echemos un vistazo a un dígito del conjunto de datos. Todo lo que tenemos que hacer es tomar el vector de características de una instancia, darle forma de matriz de 28 × 28 y mostrarlo mediante la función imshow() de Matplotlib. Utilizamos cmap=«binary» para obtener un mapa de colores en escala de grises donde 0 es blanco y 255 es negro"
   ]
  },
  {
   "cell_type": "code",
   "execution_count": null,
   "metadata": {
    "colab": {
     "base_uri": "https://localhost:8080/",
     "height": 406
    },
    "executionInfo": {
     "elapsed": 260,
     "status": "ok",
     "timestamp": 1717539595581,
     "user": {
      "displayName": "Talento Tech",
      "userId": "17477515765803143194"
     },
     "user_tz": 300
    },
    "id": "ho8FpMYIHJ6p",
    "outputId": "34bd38d9-3cdf-4af3-8f9a-3e1b3864b137"
   },
   "outputs": [],
   "source": [
    "import matplotlib.pyplot as plt\n",
    "\n",
    "def plot_digit(image_data):\n",
    "    image = image_data.reshape(28, 28)\n",
    "    plt.imshow(image, cmap=\"binary\")\n",
    "    plt.axis(\"off\")\n",
    "\n",
    "primer_digito = X[0]\n",
    "plot_digit(primer_digito)\n",
    "plt.show()"
   ]
  },
  {
   "cell_type": "code",
   "execution_count": null,
   "metadata": {
    "colab": {
     "base_uri": "https://localhost:8080/",
     "height": 35
    },
    "executionInfo": {
     "elapsed": 7,
     "status": "ok",
     "timestamp": 1717539595581,
     "user": {
      "displayName": "Talento Tech",
      "userId": "17477515765803143194"
     },
     "user_tz": 300
    },
    "id": "cQJb4Kw2HrLx",
    "outputId": "20531ef2-2e12-4b12-f238-ee45741cf004"
   },
   "outputs": [],
   "source": [
    "y[0]"
   ]
  },
  {
   "cell_type": "markdown",
   "metadata": {
    "id": "BicLx-35ILKQ"
   },
   "source": [
    "Observemos las primeras 100 imágenes"
   ]
  },
  {
   "cell_type": "code",
   "execution_count": null,
   "metadata": {
    "colab": {
     "base_uri": "https://localhost:8080/",
     "height": 729
    },
    "executionInfo": {
     "elapsed": 3427,
     "status": "ok",
     "timestamp": 1717539599002,
     "user": {
      "displayName": "Talento Tech",
      "userId": "17477515765803143194"
     },
     "user_tz": 300
    },
    "id": "-L9KTOvwIO6O",
    "outputId": "b0d12304-a1c2-40df-c39f-d010b20da449"
   },
   "outputs": [],
   "source": [
    "plt.figure(figsize=(9, 9))\n",
    "for idx, image_data in enumerate(X[:100]):\n",
    "    plt.subplot(10, 10, idx + 1)\n",
    "    plot_digit(image_data)\n",
    "plt.subplots_adjust(wspace=0, hspace=0)\n",
    "plt.show()"
   ]
  },
  {
   "cell_type": "markdown",
   "metadata": {
    "id": "uko_rs5AIVS3"
   },
   "source": [
    "### Dividir en entrenamiento y prueba"
   ]
  },
  {
   "cell_type": "code",
   "execution_count": null,
   "metadata": {
    "id": "1ngTnkPWIQZS"
   },
   "outputs": [],
   "source": [
    "X_train, X_test, y_train, y_test = X[:60000], X[60000:], y[:60000], y[60000:]"
   ]
  },
  {
   "cell_type": "markdown",
   "metadata": {
    "id": "7Tw60LDtI71K"
   },
   "source": [
    "El conjunto de entrenamiento ya está barajado (como lo hace *train_test_split*), lo que es bueno porque garantiza que todos los pliegues (*folds*) de validación cruzada serán similares (no queremos que a un pliegue le falten algunos dígitos). Además, algunos algoritmos de aprendizaje son sensibles al orden de las muestras de entrenamiento y obtienen malos resultados si reciben muchas muestras similares seguidas. Barajar el conjunto de datos garantiza que esto no ocurra."
   ]
  },
  {
   "cell_type": "markdown",
   "metadata": {
    "id": "i4xX3oDWJRHu"
   },
   "source": [
    "## Empecemos por un clasificador binario\n",
    "\n",
    "Simplifiquemos el problema e intentemos identificar sólo un dígito, por ejemplo, el número **cero**. Este \"detector\" de **0**\" será un ejemplo de clasificador binario capaz de distinguir entre dos clases: **0** y **NO 0**. Primero crearemos el vector objetivo para esta tarea de clasificación:"
   ]
  },
  {
   "cell_type": "code",
   "execution_count": null,
   "metadata": {
    "id": "9rZ5LV6hIshU"
   },
   "outputs": [],
   "source": [
    "y_train_0 = (y_train == '0')  # True para todos los 0s, Falso para los demás dígitos\n",
    "y_test_0 = (y_test == '0')"
   ]
  },
  {
   "cell_type": "code",
   "execution_count": null,
   "metadata": {
    "colab": {
     "base_uri": "https://localhost:8080/"
    },
    "executionInfo": {
     "elapsed": 12,
     "status": "ok",
     "timestamp": 1717539599003,
     "user": {
      "displayName": "Talento Tech",
      "userId": "17477515765803143194"
     },
     "user_tz": 300
    },
    "id": "JRcDXyanLEuE",
    "outputId": "b22389f9-239d-4cfb-aa09-cb153627337a"
   },
   "outputs": [],
   "source": [
    "y_train_0"
   ]
  },
  {
   "cell_type": "markdown",
   "metadata": {
    "id": "1gIL_mUPLYn2"
   },
   "source": [
    "Implementemos un modelo lineal regularizado con aprendizaje por descenso de gradiente estocástico (SGD)"
   ]
  },
  {
   "cell_type": "code",
   "execution_count": null,
   "metadata": {
    "colab": {
     "base_uri": "https://localhost:8080/",
     "height": 75
    },
    "executionInfo": {
     "elapsed": 16000,
     "status": "ok",
     "timestamp": 1717539614995,
     "user": {
      "displayName": "Talento Tech",
      "userId": "17477515765803143194"
     },
     "user_tz": 300
    },
    "id": "-yC3rd9cLIcQ",
    "outputId": "76246eaa-d7fe-443c-ae93-b71fb3190b13"
   },
   "outputs": [],
   "source": [
    "from sklearn.linear_model import SGDClassifier\n",
    "\n",
    "sgd_clf = SGDClassifier(random_state=42)\n",
    "sgd_clf.fit(X_train, y_train_0)"
   ]
  },
  {
   "cell_type": "code",
   "execution_count": null,
   "metadata": {
    "colab": {
     "base_uri": "https://localhost:8080/",
     "height": 35
    },
    "executionInfo": {
     "elapsed": 17,
     "status": "ok",
     "timestamp": 1717539614995,
     "user": {
      "displayName": "Talento Tech",
      "userId": "17477515765803143194"
     },
     "user_tz": 300
    },
    "id": "IIG63Kt9LzNw",
    "outputId": "bf51f913-90a5-4f11-f46f-769840b3b4d9"
   },
   "outputs": [],
   "source": [
    "y[0]"
   ]
  },
  {
   "cell_type": "code",
   "execution_count": null,
   "metadata": {
    "colab": {
     "base_uri": "https://localhost:8080/"
    },
    "executionInfo": {
     "elapsed": 14,
     "status": "ok",
     "timestamp": 1717539614995,
     "user": {
      "displayName": "Talento Tech",
      "userId": "17477515765803143194"
     },
     "user_tz": 300
    },
    "id": "EezGiOcxLieZ",
    "outputId": "68e60adf-f603-42a9-8934-30b2673fe1d8"
   },
   "outputs": [],
   "source": [
    "sgd_clf.predict([X[0]])"
   ]
  },
  {
   "cell_type": "code",
   "execution_count": null,
   "metadata": {
    "colab": {
     "base_uri": "https://localhost:8080/",
     "height": 35
    },
    "executionInfo": {
     "elapsed": 13,
     "status": "ok",
     "timestamp": 1717539614996,
     "user": {
      "displayName": "Talento Tech",
      "userId": "17477515765803143194"
     },
     "user_tz": 300
    },
    "id": "SikcQ2OiLwic",
    "outputId": "b4634b63-b4d7-4ff6-cdd4-9763a3401359"
   },
   "outputs": [],
   "source": [
    "y[1]"
   ]
  },
  {
   "cell_type": "code",
   "execution_count": null,
   "metadata": {
    "colab": {
     "base_uri": "https://localhost:8080/"
    },
    "executionInfo": {
     "elapsed": 11,
     "status": "ok",
     "timestamp": 1717539614996,
     "user": {
      "displayName": "Talento Tech",
      "userId": "17477515765803143194"
     },
     "user_tz": 300
    },
    "id": "exNJXn3pL-H_",
    "outputId": "66348fb5-5eb6-484a-8d83-0d007350f538"
   },
   "outputs": [],
   "source": [
    "sgd_clf.predict([X[1]])"
   ]
  },
  {
   "cell_type": "markdown",
   "metadata": {
    "id": "frSvdtLsVjks"
   },
   "source": [
    "### Medición de la exactitud mediante validación cruzada"
   ]
  },
  {
   "cell_type": "code",
   "execution_count": null,
   "metadata": {
    "colab": {
     "base_uri": "https://localhost:8080/"
    },
    "executionInfo": {
     "elapsed": 28454,
     "status": "ok",
     "timestamp": 1717539643441,
     "user": {
      "displayName": "Talento Tech",
      "userId": "17477515765803143194"
     },
     "user_tz": 300
    },
    "id": "odK-ffgvL_1f",
    "outputId": "9f16185e-048a-4d36-cc68-ac442edcb1cc"
   },
   "outputs": [],
   "source": [
    "from sklearn.model_selection import cross_val_score\n",
    "\n",
    "cross_val_score(sgd_clf, X_train, y_train_0, cv=3, scoring=\"accuracy\")"
   ]
  },
  {
   "cell_type": "markdown",
   "metadata": {
    "id": "xgWuHX8okb65"
   },
   "source": [
    "### Evaluando la matriz de confusión"
   ]
  },
  {
   "cell_type": "code",
   "execution_count": null,
   "metadata": {
    "id": "tHsi7FuNkiIr"
   },
   "outputs": [],
   "source": [
    "from sklearn.model_selection import cross_val_predict\n",
    "y_train_pred = cross_val_predict(sgd_clf, X_train, y_train_0,cv=3)"
   ]
  },
  {
   "cell_type": "code",
   "execution_count": null,
   "metadata": {
    "colab": {
     "base_uri": "https://localhost:8080/"
    },
    "executionInfo": {
     "elapsed": 19,
     "status": "ok",
     "timestamp": 1717539670424,
     "user": {
      "displayName": "Talento Tech",
      "userId": "17477515765803143194"
     },
     "user_tz": 300
    },
    "id": "1YBHWsxaoHIn",
    "outputId": "46d266a2-e6f9-4f0c-9a43-271532e36d5d"
   },
   "outputs": [],
   "source": [
    "from sklearn.metrics import accuracy_score\n",
    "\n",
    "print(accuracy_score(y_train_0, y_train_pred))"
   ]
  },
  {
   "cell_type": "code",
   "execution_count": null,
   "metadata": {
    "colab": {
     "base_uri": "https://localhost:8080/"
    },
    "executionInfo": {
     "elapsed": 16,
     "status": "ok",
     "timestamp": 1717539670424,
     "user": {
      "displayName": "Talento Tech",
      "userId": "17477515765803143194"
     },
     "user_tz": 300
    },
    "id": "gLXyN_FtjIIH",
    "outputId": "b40526d3-c63a-4123-bb55-f9e3ead1447c"
   },
   "outputs": [],
   "source": [
    "from sklearn.metrics import confusion_matrix\n",
    "cm = confusion_matrix(y_train_0, y_train_pred)\n",
    "cm"
   ]
  },
  {
   "cell_type": "code",
   "execution_count": null,
   "metadata": {
    "colab": {
     "base_uri": "https://localhost:8080/"
    },
    "executionInfo": {
     "elapsed": 277,
     "status": "ok",
     "timestamp": 1717539670687,
     "user": {
      "displayName": "Talento Tech",
      "userId": "17477515765803143194"
     },
     "user_tz": 300
    },
    "id": "SwrGkOQikmwk",
    "outputId": "f6c4b3ce-72c3-4200-ea4a-339fe99ec44b"
   },
   "outputs": [],
   "source": [
    "from sklearn.metrics import classification_report\n",
    "\n",
    "print(classification_report(y_train_0, y_train_pred))"
   ]
  },
  {
   "cell_type": "markdown",
   "metadata": {
    "id": "Dcv8M7ahi12b"
   },
   "source": [
    "¿Y si creamos un modelo que clasifique todo como NO 0?"
   ]
  },
  {
   "cell_type": "code",
   "execution_count": null,
   "metadata": {
    "colab": {
     "base_uri": "https://localhost:8080/"
    },
    "executionInfo": {
     "elapsed": 16,
     "status": "ok",
     "timestamp": 1717539670688,
     "user": {
      "displayName": "Talento Tech",
      "userId": "17477515765803143194"
     },
     "user_tz": 300
    },
    "id": "02mSbLd3V5lX",
    "outputId": "d90a634a-beec-4938-acfa-4936d0ccfaef"
   },
   "outputs": [],
   "source": [
    "from sklearn.metrics import accuracy_score\n",
    "\n",
    "y_dummy = [False]*len(y_train_0) # vector False\n",
    "accuracy_score(y_dummy,y_train_0)"
   ]
  },
  {
   "cell_type": "code",
   "execution_count": null,
   "metadata": {
    "colab": {
     "base_uri": "https://localhost:8080/"
    },
    "executionInfo": {
     "elapsed": 222,
     "status": "ok",
     "timestamp": 1717539670900,
     "user": {
      "displayName": "Talento Tech",
      "userId": "17477515765803143194"
     },
     "user_tz": 300
    },
    "id": "b_eUi-MOm_5u",
    "outputId": "d3c0211d-681d-429b-9616-539dce8717be"
   },
   "outputs": [],
   "source": [
    "print(classification_report(y_train_0, y_dummy))"
   ]
  },
  {
   "cell_type": "markdown",
   "metadata": {
    "id": "GYnERaKQoj9Z"
   },
   "source": [
    "## Clasificador de múltiples etiquetas"
   ]
  },
  {
   "cell_type": "markdown",
   "metadata": {
    "id": "J34pDrRtWvcY"
   },
   "source": [
    "### Probemos con un Bosque Aleatorio"
   ]
  },
  {
   "cell_type": "code",
   "execution_count": null,
   "metadata": {
    "colab": {
     "base_uri": "https://localhost:8080/",
     "height": 152
    },
    "executionInfo": {
     "elapsed": 38313,
     "status": "ok",
     "timestamp": 1717550986656,
     "user": {
      "displayName": "Talento Tech",
      "userId": "17477515765803143194"
     },
     "user_tz": 300
    },
    "id": "PHnXkbcDWyL-",
    "outputId": "2348b634-7fb0-40fa-b45c-c501482d206f"
   },
   "outputs": [],
   "source": [
    "# Esta celda puede tardar varios minutos en ejecutarse\n",
    "\n",
    "from sklearn.ensemble import RandomForestClassifier\n",
    "from sklearn.pipeline import Pipeline\n",
    "from sklearn.model_selection import RandomizedSearchCV\n",
    "from sklearn.preprocessing import StandardScaler\n",
    "from scipy.stats import randint, uniform, geom, expon\n",
    "\n",
    "# Creemos un Pipeline que primero escale los datos y luego entrene un clasificador\n",
    "# En este caso en particular NO necesitamos hacer imputación\n",
    "\n",
    "rf_pipeline = Pipeline([\n",
    "    ('std',StandardScaler()),\n",
    "    ('rf',RandomForestClassifier(random_state=42,n_jobs=-1))\n",
    "])\n",
    "\n",
    "param_RF = {\n",
    "        'rf__n_estimators': randint(50, 300),             # Distribución entera aleatoria para n_estimators\n",
    "        'rf__max_depth': randint(3, 20),                  # Distribución entera aleatoria para max_depth\n",
    "        # 'rf__min_samples_split': randint(2, 20),          # Distribución entera aleatoria para min_samples_split\n",
    "        # 'rf__min_samples_leaf': randint(1, 20),           # Distribución entera aleatoria para min_samples_leaf\n",
    "        # 'rf__max_features': ['sqrt','log2',None],         # Raíz cuadrada, logaritmo o None para max_features\n",
    "        # 'rf__bootstrap': [True, False],                   # Lista de valores para bootstrap\n",
    "    }\n",
    "\n",
    "rnd_search_RF = RandomizedSearchCV(\n",
    "    rf_pipeline, param_distributions=param_RF, cv=3,\n",
    "    scoring='accuracy', random_state=42)\n",
    "\n",
    "rnd_search_RF.fit(X_train[:2000], y_train[:2000])"
   ]
  },
  {
   "cell_type": "code",
   "execution_count": null,
   "metadata": {
    "colab": {
     "base_uri": "https://localhost:8080/"
    },
    "executionInfo": {
     "elapsed": 563,
     "status": "ok",
     "timestamp": 1717550991738,
     "user": {
      "displayName": "Talento Tech",
      "userId": "17477515765803143194"
     },
     "user_tz": 300
    },
    "id": "i_YtdCK2YSxn",
    "outputId": "30d5ba31-0b18-4f58-b760-909f18c8a6d3"
   },
   "outputs": [],
   "source": [
    "rnd_search_RF.best_params_"
   ]
  },
  {
   "cell_type": "code",
   "execution_count": null,
   "metadata": {
    "colab": {
     "base_uri": "https://localhost:8080/",
     "height": 206
    },
    "executionInfo": {
     "elapsed": 378,
     "status": "ok",
     "timestamp": 1717550998352,
     "user": {
      "displayName": "Talento Tech",
      "userId": "17477515765803143194"
     },
     "user_tz": 300
    },
    "id": "p7c2N6DfYU4n",
    "outputId": "253014f4-fdeb-4488-d1e0-130a288f4555"
   },
   "outputs": [],
   "source": [
    "import pandas as pd\n",
    "\n",
    "cv_res = pd.DataFrame(rnd_search_RF.cv_results_)\n",
    "cv_res.sort_values(by=\"mean_test_score\", ascending=False, inplace=True)\n",
    "cv_res = cv_res[[\"split0_test_score\",\"split1_test_score\",\n",
    "                 \"split2_test_score\", \"mean_test_score\"]]\n",
    "score_cols = [\"split0\", \"split1\", \"split2\", \"mean_test_accuracy\"]\n",
    "cv_res.columns = score_cols\n",
    "cv_res[score_cols] = cv_res[score_cols].round(2)\n",
    "cv_res.head()"
   ]
  },
  {
   "cell_type": "code",
   "execution_count": null,
   "metadata": {
    "colab": {
     "base_uri": "https://localhost:8080/"
    },
    "executionInfo": {
     "elapsed": 3967,
     "status": "ok",
     "timestamp": 1717551005658,
     "user": {
      "displayName": "Talento Tech",
      "userId": "17477515765803143194"
     },
     "user_tz": 300
    },
    "id": "mG6cNlaaYXok",
    "outputId": "41d1124a-4e98-46f7-ec79-54f49aacc54c"
   },
   "outputs": [],
   "source": [
    "from sklearn.metrics import classification_report\n",
    "\n",
    "final_model_RF = rnd_search_RF.best_estimator_\n",
    "y_pred_RF = final_model_RF.predict(X_train)\n",
    "\n",
    "print(classification_report(y_train, y_pred_RF))"
   ]
  },
  {
   "cell_type": "code",
   "execution_count": null,
   "metadata": {
    "colab": {
     "base_uri": "https://localhost:8080/"
    },
    "executionInfo": {
     "elapsed": 497,
     "status": "ok",
     "timestamp": 1717551016806,
     "user": {
      "displayName": "Talento Tech",
      "userId": "17477515765803143194"
     },
     "user_tz": 300
    },
    "id": "-xvTGmjIwswQ",
    "outputId": "3645b1cd-c08a-463f-e3a3-2e521bf970ef"
   },
   "outputs": [],
   "source": [
    "from sklearn.metrics import confusion_matrix\n",
    "\n",
    "print(confusion_matrix(y_train, y_pred_RF))"
   ]
  },
  {
   "cell_type": "code",
   "execution_count": null,
   "metadata": {
    "colab": {
     "base_uri": "https://localhost:8080/",
     "height": 92
    },
    "executionInfo": {
     "elapsed": 71925,
     "status": "ok",
     "timestamp": 1717551276156,
     "user": {
      "displayName": "Talento Tech",
      "userId": "17477515765803143194"
     },
     "user_tz": 300
    },
    "id": "A6BlAV_vBKVh",
    "outputId": "b5041c1d-13cf-4656-f455-c8cb4b473b37"
   },
   "outputs": [],
   "source": [
    "rnd_final = RandomForestClassifier(random_state=42, n_jobs=-1, max_depth=14, n_estimators= 207)\n",
    "rnd_final.fit(X_train, y_train)"
   ]
  },
  {
   "cell_type": "code",
   "execution_count": null,
   "metadata": {
    "colab": {
     "base_uri": "https://localhost:8080/"
    },
    "executionInfo": {
     "elapsed": 6151,
     "status": "ok",
     "timestamp": 1717551309294,
     "user": {
      "displayName": "Talento Tech",
      "userId": "17477515765803143194"
     },
     "user_tz": 300
    },
    "id": "gGWJ8scgB5Ql",
    "outputId": "dc9e0e15-c826-451e-838e-b87fc8350633"
   },
   "outputs": [],
   "source": [
    "y_pred_RF_final = rnd_final.predict(X_train)\n",
    "\n",
    "print(classification_report(y_train, y_pred_RF_final))"
   ]
  },
  {
   "cell_type": "markdown",
   "metadata": {
    "id": "97qGo8htWtrg"
   },
   "source": [
    "# Actividad 2"
   ]
  },
  {
   "cell_type": "markdown",
   "metadata": {
    "id": "mHLLyGgDWorl"
   },
   "source": [
    "## Probar el mejor modelo en el conjunto de Prueba"
   ]
  },
  {
   "cell_type": "code",
   "execution_count": null,
   "metadata": {
    "colab": {
     "base_uri": "https://localhost:8080/"
    },
    "executionInfo": {
     "elapsed": 954,
     "status": "ok",
     "timestamp": 1717551444636,
     "user": {
      "displayName": "Talento Tech",
      "userId": "17477515765803143194"
     },
     "user_tz": 300
    },
    "id": "ds1cFu5ZCp2s",
    "outputId": "2ffcf70d-4e5c-47df-aa0a-a40839c8ad62"
   },
   "outputs": [],
   "source": [
    "y_pred_test = rnd_final.predict(X_test)\n",
    "print(classification_report(y_test, y_pred_test))"
   ]
  },
  {
   "cell_type": "code",
   "execution_count": null,
   "metadata": {},
   "outputs": [],
   "source": [
    "from sklearn.linear_model import LogisticRegression\n",
    "\n",
    "from sklearn.pipeline import Pipeline\n",
    "from sklearn.model_selection import RandomizedSearchCV\n",
    "from sklearn.preprocessing import StandardScaler\n",
    "from scipy.stats import randint, uniform, geom, expon\n",
    "\n",
    "# Creemos un Pipeline que primero escale los datos y luego entrene un clasificador\n",
    "# En este caso en particular NO necesitamos hacer imputación\n",
    "\n",
    "lr_pipeline = Pipeline([\n",
    "    ('std',StandardScaler()),\n",
    "    ('lr',LogisticRegression(random_state=42))\n",
    "])\n",
    "\n",
    "param_LR = {\n",
    "    'lr__C': randint(low=1, high=20),\n",
    "    'lr__penalty': ['l1','l2']\n",
    "}\n",
    "\n",
    "rnd_search_LR = RandomizedSearchCV(\n",
    "    lr_pipeline, param_distributions=param_LR, cv=5,\n",
    "    scoring='accuracy', random_state=42)\n",
    "\n",
    "rnd_search_LR.fit(X_train[:1000], y_train[:1000])"
   ]
  },
  {
   "cell_type": "code",
   "execution_count": null,
   "metadata": {},
   "outputs": [],
   "source": [
    "import pandas as pd\n",
    "\n",
    "cv_res = pd.DataFrame(rnd_search_LR.cv_results_)\n",
    "cv_res.sort_values(by=\"mean_test_score\", ascending=False, inplace=True)\n",
    "cv_res = cv_res[[\"split0_test_score\",\"split1_test_score\",\n",
    "                 \"split2_test_score\", \"split3_test_score\",\n",
    "                 \"split4_test_score\", \"mean_test_score\"]]\n",
    "score_cols = [\"split0\", \"split1\", \"split2\", \"split3\", \"split4\", \"mean_test_accuracy\"]\n",
    "cv_res.columns = score_cols\n",
    "cv_res[score_cols] = cv_res[score_cols].round(2)\n",
    "cv_res.head()"
   ]
  },
  {
   "cell_type": "code",
   "execution_count": null,
   "metadata": {},
   "outputs": [],
   "source": [
    "final_model_LR = rnd_search_LR.best_estimator_\n",
    "y_pred_LR = final_model_LR.predict(X_test)\n",
    "\n",
    "print(classification_report(y_test, y_pred_test))"
   ]
  },
  {
   "cell_type": "code",
   "execution_count": null,
   "metadata": {},
   "outputs": [],
   "source": [
    "from sklearn.svm import SVC\n",
    "\n",
    "# Creemos un Pipeline que primero escale los datos y luego entrene un clasificador\n",
    "# En este caso en particular NO necesitamos hacer imputación\n",
    "\n",
    "svm_pipeline = Pipeline([\n",
    "    ('std',StandardScaler()),\n",
    "    ('svm',SVC(random_state=42))\n",
    "])\n",
    "\n",
    "param_SVM = {\n",
    "    'svm__C': randint(low=1, high=20),\n",
    "    'svm__gamma': expon(scale=1.0)\n",
    "}\n",
    "\n",
    "rnd_search_SVM = RandomizedSearchCV(\n",
    "    svm_pipeline, param_distributions=param_SVM, cv=5,\n",
    "    scoring='accuracy', random_state=42)\n"
   ]
  },
  {
   "cell_type": "code",
   "execution_count": null,
   "metadata": {},
   "outputs": [],
   "source": [
    "import pandas as pd\n",
    "\n",
    "cv_res = pd.DataFrame(rnd_search_SVM.cv_results_)\n",
    "cv_res.sort_values(by=\"mean_test_score\", ascending=False, inplace=True)\n",
    "cv_res = cv_res[[\"split0_test_score\",\"split1_test_score\",\n",
    "                 \"split2_test_score\", \"split3_test_score\",\n",
    "                 \"split4_test_score\", \"mean_test_score\"]]\n",
    "score_cols = [\"split0\", \"split1\", \"split2\", \"split3\", \"split4\", \"mean_test_accuracy\"]\n",
    "cv_res.columns = score_cols\n",
    "cv_res[score_cols] = cv_res[score_cols].round(2)\n",
    "cv_res.head()"
   ]
  },
  {
   "cell_type": "code",
   "execution_count": null,
   "metadata": {},
   "outputs": [],
   "source": [
    "final_model_SVM= rnd_search_SVM.best_estimator_\n",
    "y_pred_LR = final_model_SVM.predict(X_test)\n",
    "\n",
    "print(classification_report(y_test, y_pred_test))"
   ]
  },
  {
   "cell_type": "markdown",
   "metadata": {
    "id": "e7UBFSPhJ8wf"
   },
   "source": [
    "## Probar en el conjunto de prueba de Kaggle"
   ]
  },
  {
   "cell_type": "code",
   "execution_count": null,
   "metadata": {
    "colab": {
     "base_uri": "https://localhost:8080/",
     "height": 256
    },
    "executionInfo": {
     "elapsed": 1479,
     "status": "ok",
     "timestamp": 1717552932759,
     "user": {
      "displayName": "Talento Tech",
      "userId": "17477515765803143194"
     },
     "user_tz": 300
    },
    "id": "jQfjsD_5DXju",
    "outputId": "202ca99f-8cdc-4d54-ddb3-abc569c0243f"
   },
   "outputs": [],
   "source": [
    "test_data = pd.read_csv('/content/test.csv')\n",
    "test_data.head()"
   ]
  },
  {
   "cell_type": "code",
   "execution_count": null,
   "metadata": {
    "colab": {
     "base_uri": "https://localhost:8080/"
    },
    "executionInfo": {
     "elapsed": 530,
     "status": "ok",
     "timestamp": 1717552937561,
     "user": {
      "displayName": "Talento Tech",
      "userId": "17477515765803143194"
     },
     "user_tz": 300
    },
    "id": "S84nOI57FSQF",
    "outputId": "f8e7a1af-c358-4e37-ab31-4c9d99dfa0d0"
   },
   "outputs": [],
   "source": [
    "test_data.info()"
   ]
  },
  {
   "cell_type": "code",
   "execution_count": null,
   "metadata": {
    "colab": {
     "base_uri": "https://localhost:8080/",
     "height": 350
    },
    "executionInfo": {
     "elapsed": 2432,
     "status": "ok",
     "timestamp": 1717552943553,
     "user": {
      "displayName": "Talento Tech",
      "userId": "17477515765803143194"
     },
     "user_tz": 300
    },
    "id": "22V3Jwq-FVzZ",
    "outputId": "4fefb478-b787-4f88-f96e-18df0fadc817"
   },
   "outputs": [],
   "source": [
    "test_data.describe()"
   ]
  },
  {
   "cell_type": "code",
   "execution_count": null,
   "metadata": {
    "colab": {
     "base_uri": "https://localhost:8080/",
     "height": 126
    },
    "executionInfo": {
     "elapsed": 71938,
     "status": "ok",
     "timestamp": 1717553026753,
     "user": {
      "displayName": "Talento Tech",
      "userId": "17477515765803143194"
     },
     "user_tz": 300
    },
    "id": "qCTdl2FiEu3a",
    "outputId": "9b563a7b-986c-4d3f-8aa7-e53fb6bee94a"
   },
   "outputs": [],
   "source": [
    "from sklearn.preprocessing import StandardScaler\n",
    "from sklearn.impute import SimpleImputer\n",
    "from sklearn.pipeline import make_pipeline\n",
    "\n",
    "rf_test_pipeline = make_pipeline(\n",
    "    # SimpleImputer(strategy='mean'),\n",
    "    StandardScaler(),\n",
    "    RandomForestClassifier(random_state=42,n_jobs=-1, max_depth=14, n_estimators= 207)\n",
    ")\n",
    "\n",
    "rf_test_pipeline.fit(X_train,y_train)"
   ]
  },
  {
   "cell_type": "code",
   "execution_count": null,
   "metadata": {
    "colab": {
     "base_uri": "https://localhost:8080/"
    },
    "executionInfo": {
     "elapsed": 4744,
     "status": "ok",
     "timestamp": 1717553031492,
     "user": {
      "displayName": "Talento Tech",
      "userId": "17477515765803143194"
     },
     "user_tz": 300
    },
    "id": "Ctfva75EHAzx",
    "outputId": "6afa60df-1fc8-4d44-e083-4b4fc82afbcc"
   },
   "outputs": [],
   "source": [
    "y_pred_test = rf_test_pipeline.predict(test_data)"
   ]
  },
  {
   "cell_type": "code",
   "execution_count": null,
   "metadata": {
    "id": "kOYeEPjVIxab"
   },
   "outputs": [],
   "source": [
    "import numpy as np\n",
    "\n",
    "ImageId = np.arange(1,len(y_pred_test)+1)"
   ]
  },
  {
   "cell_type": "code",
   "execution_count": null,
   "metadata": {
    "colab": {
     "base_uri": "https://localhost:8080/",
     "height": 206
    },
    "executionInfo": {
     "elapsed": 7,
     "status": "ok",
     "timestamp": 1717553175184,
     "user": {
      "displayName": "Talento Tech",
      "userId": "17477515765803143194"
     },
     "user_tz": 300
    },
    "id": "kEcoQhs_HAhS",
    "outputId": "e14a0771-45ff-4cfc-f27d-d9378ab38dbc"
   },
   "outputs": [],
   "source": [
    "data_kaggle = pd.DataFrame({'ImageId':ImageId,'Label':y_pred_test,})\n",
    "data_kaggle.head()"
   ]
  },
  {
   "cell_type": "code",
   "execution_count": null,
   "metadata": {
    "id": "Q5Y63tYrD4V9"
   },
   "outputs": [],
   "source": [
    "data_kaggle.to_csv('y_pred.csv', index=False)"
   ]
  },
  {
   "cell_type": "markdown",
   "metadata": {
    "id": "0oQieQqsWlsa"
   },
   "source": [
    "### Probar con diferentes modelos\n",
    "\n",
    "Por ejemplo: máquinas de soporte vectorial, regresión logística, árboles de decisión."
   ]
  },
  {
   "cell_type": "code",
   "execution_count": null,
   "metadata": {
    "colab": {
     "base_uri": "https://localhost:8080/"
    },
    "executionInfo": {
     "elapsed": 420,
     "status": "ok",
     "timestamp": 1717547827342,
     "user": {
      "displayName": "Talento Tech",
      "userId": "17477515765803143194"
     },
     "user_tz": 300
    },
    "id": "tib66hQC0t5o",
    "outputId": "9ddbbcf6-fefd-405c-820e-8fa3c6aeb9e7"
   },
   "outputs": [],
   "source": [
    "# Verificar los hiperparámetros del modelo\n",
    "\n",
    "# Paso 1: Importar la biblioteca\n",
    "from sklearn.linear_model import LogisticRegression\n",
    "\n",
    "# Paso 2: Crear una instancia del modelo\n",
    "lr = LogisticRegression()\n",
    "\n",
    "# Paso 3: Ver los hiperparámetros\n",
    "params = lr.get_params()\n",
    "params"
   ]
  },
  {
   "cell_type": "code",
   "execution_count": null,
   "metadata": {
    "colab": {
     "base_uri": "https://localhost:8080/",
     "height": 152
    },
    "executionInfo": {
     "elapsed": 74915,
     "status": "ok",
     "timestamp": 1717549651870,
     "user": {
      "displayName": "Talento Tech",
      "userId": "17477515765803143194"
     },
     "user_tz": 300
    },
    "id": "Xwbsh2zmVYMG",
    "outputId": "9e0065df-2b9b-4fbc-92f7-f22b14e7fa2e"
   },
   "outputs": [],
   "source": [
    "from sklearn.linear_model import LogisticRegression\n",
    "\n",
    "lr_pipeline = Pipeline([\n",
    "    ('std',StandardScaler()),\n",
    "    ('lr',LogisticRegression(random_state=42,n_jobs=-1))\n",
    "])\n",
    "\n",
    "param_lr = {\n",
    "    'lr__C': randint(low=1, high=20),\n",
    "    # 'lr__penalty': ['l1','l2']\n",
    "    }\n",
    "\n",
    "rnd_search_lr = RandomizedSearchCV(\n",
    "    lr_pipeline, param_distributions=param_lr, cv=5,\n",
    "    scoring='accuracy', random_state=42)\n",
    "\n",
    "rnd_search_lr.fit(X_train[:1000], y_train[:1000])"
   ]
  },
  {
   "cell_type": "code",
   "execution_count": null,
   "metadata": {
    "colab": {
     "base_uri": "https://localhost:8080/"
    },
    "executionInfo": {
     "elapsed": 471,
     "status": "ok",
     "timestamp": 1717549658255,
     "user": {
      "displayName": "Talento Tech",
      "userId": "17477515765803143194"
     },
     "user_tz": 300
    },
    "id": "AfaQzJph6HhG",
    "outputId": "a81b63cb-6bad-47cd-eee1-80d07096f754"
   },
   "outputs": [],
   "source": [
    "rnd_search_lr.best_params_"
   ]
  },
  {
   "cell_type": "code",
   "execution_count": null,
   "metadata": {
    "colab": {
     "base_uri": "https://localhost:8080/"
    },
    "executionInfo": {
     "elapsed": 2650,
     "status": "ok",
     "timestamp": 1717549203826,
     "user": {
      "displayName": "Talento Tech",
      "userId": "17477515765803143194"
     },
     "user_tz": 300
    },
    "id": "UzOjXrtt2Uj8",
    "outputId": "1635c813-32b2-431d-c22c-dd70fc03f856"
   },
   "outputs": [],
   "source": [
    "final_model_lr = rnd_search_lr.best_estimator_\n",
    "y_pred_lr = final_model_lr.predict(X_train)\n",
    "\n",
    "print(classification_report(y_train, y_pred_lr))"
   ]
  },
  {
   "cell_type": "code",
   "execution_count": null,
   "metadata": {
    "colab": {
     "base_uri": "https://localhost:8080/"
    },
    "executionInfo": {
     "elapsed": 889,
     "status": "ok",
     "timestamp": 1717549853229,
     "user": {
      "displayName": "Talento Tech",
      "userId": "17477515765803143194"
     },
     "user_tz": 300
    },
    "id": "pjHPFL3k8AWc",
    "outputId": "3f17b9fc-ae35-4379-8880-ba7f2a6a66d4"
   },
   "outputs": [],
   "source": [
    "from sklearn.metrics import confusion_matrix\n",
    "\n",
    "print(confusion_matrix(y_train, y_pred_lr))"
   ]
  },
  {
   "cell_type": "code",
   "execution_count": null,
   "metadata": {
    "id": "8j0tuAw5Xxct"
   },
   "outputs": [],
   "source": [
    "# Importar las librerías necesarias\n",
    "import numpy as np\n",
    "import pandas as pd\n",
    "from sklearn.datasets import fetch_openml\n",
    "from sklearn.model_selection import train_test_split\n",
    "from sklearn.preprocessing import StandardScaler\n",
    "from sklearn.svm import SVC\n",
    "from sklearn.metrics import classification_report, accuracy_score, confusion_matrix"
   ]
  },
  {
   "cell_type": "code",
   "execution_count": null,
   "metadata": {
    "colab": {
     "base_uri": "https://localhost:8080/"
    },
    "executionInfo": {
     "elapsed": 46406,
     "status": "ok",
     "timestamp": 1717613574285,
     "user": {
      "displayName": "Oscar Bautista",
      "userId": "05573016455390948993"
     },
     "user_tz": 300
    },
    "id": "pDSgMMwBvjRu",
    "outputId": "00c631af-120e-43a0-9a63-a0e540b7a256"
   },
   "outputs": [],
   "source": [
    "# Cargar el conjunto de datos MNIST\n",
    "mnist = fetch_openml('mnist_784', version=1)\n",
    "X = mnist.data\n",
    "y = mnist.target"
   ]
  },
  {
   "cell_type": "code",
   "execution_count": null,
   "metadata": {
    "id": "7YmFG92CvxRd"
   },
   "outputs": [],
   "source": [
    "# Convertir las etiquetas a enteros\n",
    "y = y.astype(np.int32)"
   ]
  },
  {
   "cell_type": "code",
   "execution_count": null,
   "metadata": {
    "id": "SK8_Va-tv329"
   },
   "outputs": [],
   "source": [
    "# Dividir el conjunto de datos en entrenamiento y prueba\n",
    "X_train, X_test, y_train, y_test = train_test_split(X, y, test_size=0.2, random_state=42)"
   ]
  },
  {
   "cell_type": "code",
   "execution_count": null,
   "metadata": {
    "id": "IZXY6p6Pv9EC"
   },
   "outputs": [],
   "source": [
    "# Estandarizar los datos\n",
    "scaler = StandardScaler()\n",
    "X_train = scaler.fit_transform(X_train)\n",
    "X_test = scaler.transform(X_test)"
   ]
  },
  {
   "cell_type": "code",
   "execution_count": null,
   "metadata": {
    "colab": {
     "base_uri": "https://localhost:8080/",
     "height": 75
    },
    "executionInfo": {
     "elapsed": 340069,
     "status": "ok",
     "timestamp": 1717614001206,
     "user": {
      "displayName": "Oscar Bautista",
      "userId": "05573016455390948993"
     },
     "user_tz": 300
    },
    "id": "oSRNT2clwEMr",
    "outputId": "ae4c7000-af93-40c3-80a8-e863fbc73c5d"
   },
   "outputs": [],
   "source": [
    "# Crear y entrenar el modelo de máquinas de soporte vectorial (SVM)\n",
    "svm_model = SVC()\n",
    "svm_model.fit(X_train, y_train)"
   ]
  },
  {
   "cell_type": "code",
   "execution_count": null,
   "metadata": {
    "id": "9Oe4t2hDwqSA"
   },
   "outputs": [],
   "source": [
    "# Hacer predicciones con el modelo SVM\n",
    "svm_pred = svm_model.predict(X_test)"
   ]
  },
  {
   "cell_type": "code",
   "execution_count": null,
   "metadata": {
    "id": "ehwYdL9nxGMd"
   },
   "outputs": [],
   "source": [
    "# Evaluar el modelo SVM\n",
    "svm_accuracy = accuracy_score(y_test, svm_pred)\n",
    "svm_conf_matrix = confusion_matrix(y_test, svm_pred)\n",
    "svm_class_report = classification_report(y_test, svm_pred)"
   ]
  },
  {
   "cell_type": "code",
   "execution_count": null,
   "metadata": {
    "colab": {
     "base_uri": "https://localhost:8080/"
    },
    "executionInfo": {
     "elapsed": 296,
     "status": "ok",
     "timestamp": 1717614312564,
     "user": {
      "displayName": "Oscar Bautista",
      "userId": "05573016455390948993"
     },
     "user_tz": 300
    },
    "id": "qNObw7yzxLRI",
    "outputId": "83483e55-5e7c-4112-c110-6500acdee539"
   },
   "outputs": [],
   "source": [
    "# Mostrar los resultados\n",
    "print('Support Vector Machine:')\n",
    "print(f'Accuracy: {svm_accuracy}')\n",
    "print('Confusion Matrix:')\n",
    "print(svm_conf_matrix)\n",
    "print('Classification Report:')\n",
    "print(svm_class_report)"
   ]
  }
 ],
 "metadata": {
  "accelerator": "GPU",
  "colab": {
   "gpuType": "T4",
   "provenance": []
  },
  "kernelspec": {
   "display_name": "Python 3",
   "language": "python",
   "name": "python3"
  },
  "language_info": {
   "codemirror_mode": {
    "name": "ipython",
    "version": 3
   },
   "file_extension": ".py",
   "mimetype": "text/x-python",
   "name": "python",
   "nbconvert_exporter": "python",
   "pygments_lexer": "ipython3",
   "version": "3.8.3"
  }
 },
 "nbformat": 4,
 "nbformat_minor": 1
}
