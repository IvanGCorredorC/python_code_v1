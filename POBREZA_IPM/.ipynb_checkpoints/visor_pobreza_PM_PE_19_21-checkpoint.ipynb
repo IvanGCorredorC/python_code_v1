{
 "cells": [
  {
   "cell_type": "code",
   "execution_count": 1,
   "metadata": {},
   "outputs": [],
   "source": [
    "import numpy as np\n",
    "import pandas as pd"
   ]
  },
  {
   "cell_type": "code",
   "execution_count": 2,
   "metadata": {
    "scrolled": true
   },
   "outputs": [],
   "source": [
    "### cargue de la base procesada\n",
    "\n",
    "vic_19_21 = pd.read_csv(\"C:/Users/ivan.corredor/visor_pobreza/vic_3_periodos.csv\",sep=\";\", low_memory=False, decimal=\",\")"
   ]
  },
  {
   "cell_type": "code",
   "execution_count": 7,
   "metadata": {},
   "outputs": [
    {
     "data": {
      "text/plain": [
       "Index(['directorio', 'secuencia_p', 'orden', 'mes', 'es_victima',\n",
       "       'es_desplazado', 'decada_vic', 'fex_c_viv', 'nper', 'li', 'lp', 'pobre',\n",
       "       'indigente', 'npobres', 'nindigentes', 'clase', 'dominio', 'sexo',\n",
       "       'edad', 'ingtot', 'fex_c', 'depto', 'fex_dpto', 'no_victima',\n",
       "       'periodo'],\n",
       "      dtype='object')"
      ]
     },
     "execution_count": 7,
     "metadata": {},
     "output_type": "execute_result"
    }
   ],
   "source": [
    "vic_19_21.columns"
   ]
  },
  {
   "cell_type": "code",
   "execution_count": 8,
   "metadata": {
    "scrolled": true
   },
   "outputs": [
    {
     "data": {
      "text/plain": [
       "5     133714\n",
       "8     132809\n",
       "47    113499\n",
       "76    107857\n",
       "13    105702\n",
       "70    101572\n",
       "44     99425\n",
       "20     99375\n",
       "54     99066\n",
       "19     96203\n",
       "68     92737\n",
       "11     92544\n",
       "17     89718\n",
       "23     86977\n",
       "50     86443\n",
       "63     84754\n",
       "41     84694\n",
       "52     84267\n",
       "18     80981\n",
       "73     80488\n",
       "66     79113\n",
       "15     79037\n",
       "27     78924\n",
       "25     25367\n",
       "Name: depto, dtype: int64"
      ]
     },
     "execution_count": 8,
     "metadata": {},
     "output_type": "execute_result"
    }
   ],
   "source": [
    "vic_19_21[\"depto\"].value_counts()"
   ]
  },
  {
   "cell_type": "code",
   "execution_count": 9,
   "metadata": {
    "scrolled": true
   },
   "outputs": [
    {
     "data": {
      "text/plain": [
       "RESTO URBANO     230554\n",
       "RURAL            213516\n",
       "BARRANQUILLA     117740\n",
       "MEDELLIN         113776\n",
       "SANTA MARTA       92611\n",
       "BOGOTA            92503\n",
       "CARTAGENA         85288\n",
       "SINCELEJO         82163\n",
       "VALLEDUPAR        81727\n",
       "CALI              81706\n",
       "RIOHACHA          78696\n",
       "CUCUTA            75233\n",
       "MANIZALES         74832\n",
       "POPAYAN           72742\n",
       "MONTERIA          72067\n",
       "BUCARAMANGA       71884\n",
       "ARMENIA           69174\n",
       "VILLAVICENCIO     68658\n",
       "NEIVA             67809\n",
       "IBAGUE            66221\n",
       "PEREIRA           64428\n",
       "PASTO             63823\n",
       "FLORENCIA         60780\n",
       "QUIBDO            58751\n",
       "TUNJA             58584\n",
       "Name: dominio, dtype: int64"
      ]
     },
     "execution_count": 9,
     "metadata": {},
     "output_type": "execute_result"
    }
   ],
   "source": [
    "vic_19_21[\"dominio\"].value_counts()"
   ]
  },
  {
   "cell_type": "code",
   "execution_count": 23,
   "metadata": {},
   "outputs": [
    {
     "data": {
      "text/plain": [
       "0.0    1963869\n",
       "1.0     251397\n",
       "Name: indigente, dtype: int64"
      ]
     },
     "execution_count": 23,
     "metadata": {},
     "output_type": "execute_result"
    }
   ],
   "source": [
    "vic_19_21[\"indigente\"].value_counts()"
   ]
  },
  {
   "cell_type": "code",
   "execution_count": 20,
   "metadata": {
    "scrolled": true
   },
   "outputs": [
    {
     "name": "stdout",
     "output_type": "stream",
     "text": [
      "<class 'pandas.core.frame.DataFrame'>\n",
      "RangeIndex: 2215266 entries, 0 to 2215265\n",
      "Data columns (total 25 columns):\n",
      " #   Column         Dtype \n",
      "---  ------         ----- \n",
      " 0   directorio     object\n",
      " 1   secuencia_p    object\n",
      " 2   orden          object\n",
      " 3   mes            int64 \n",
      " 4   es_victima     object\n",
      " 5   es_desplazado  object\n",
      " 6   decada_vic     object\n",
      " 7   fex_c_viv      object\n",
      " 8   nper           object\n",
      " 9   li             object\n",
      " 10  lp             object\n",
      " 11  pobre          object\n",
      " 12  indigente      object\n",
      " 13  npobres        object\n",
      " 14  nindigentes    object\n",
      " 15  clase          int64 \n",
      " 16  dominio        object\n",
      " 17  sexo           object\n",
      " 18  edad           object\n",
      " 19  ingtot         object\n",
      " 20  fex_c          object\n",
      " 21  depto          int64 \n",
      " 22  fex_dpto       object\n",
      " 23  no_victima     int64 \n",
      " 24  periodo        int64 \n",
      "dtypes: int64(5), object(20)\n",
      "memory usage: 422.5+ MB\n"
     ]
    }
   ],
   "source": [
    "vic_19_21.info()"
   ]
  },
  {
   "cell_type": "code",
   "execution_count": 27,
   "metadata": {},
   "outputs": [
    {
     "data": {
      "text/plain": [
       "periodo  depto\n",
       "2020     63       11.464427\n",
       "         66       14.431736\n",
       "         68       16.056317\n",
       "         70       12.109483\n",
       "         73       21.418825\n",
       "         76       24.948881\n",
       "2021     5        14.162042\n",
       "         8         9.814393\n",
       "         11       13.146831\n",
       "         13       16.743243\n",
       "         15       17.479049\n",
       "         17        4.853597\n",
       "         18       10.056051\n",
       "         19       34.899909\n",
       "         20       24.728580\n",
       "         23       23.459243\n",
       "         25        7.933064\n",
       "         27       36.035683\n",
       "         41       14.473404\n",
       "         44       33.527828\n",
       "         47       27.359904\n",
       "         50       13.672628\n",
       "         52       16.308153\n",
       "         54       19.955359\n",
       "         63       13.390459\n",
       "         66        9.974314\n",
       "         68       11.665725\n",
       "         70       14.663439\n",
       "         73       20.516702\n",
       "         76       19.270125\n",
       "dtype: float64"
      ]
     },
     "execution_count": 27,
     "metadata": {},
     "output_type": "execute_result"
    }
   ],
   "source": [
    "# pobreza extrema por departamento. Víctimas desplazamiento\n",
    "dpto_vic_des = vic_19_21.groupby([\"periodo\", \"depto\"]).apply(\n",
    "    lambda x: ((x['indigente'] * x['es_desplazado'] * x['fex_c_viv']).sum() / (x['es_desplazado'] * x['fex_c_viv']).sum() * 100))\n",
    "dpto_vic_des.tail(30)"
   ]
  },
  {
   "cell_type": "code",
   "execution_count": 30,
   "metadata": {
    "scrolled": true
   },
   "outputs": [
    {
     "data": {
      "text/plain": [
       "1.0    222054\n",
       "0.0     18575\n",
       "Name: es_desplazado, dtype: int64"
      ]
     },
     "execution_count": 30,
     "metadata": {},
     "output_type": "execute_result"
    }
   ],
   "source": [
    "vic_19_21['es_desplazado'].value_counts()"
   ]
  },
  {
   "cell_type": "code",
   "execution_count": 3,
   "metadata": {},
   "outputs": [
    {
     "data": {
      "text/plain": [
       "Index(['directorio', 'secuencia_p', 'orden', 'mes', 'es_victima',\n",
       "       'es_desplazado', 'decada_vic', 'fex_c_viv', 'nper', 'li', 'lp', 'pobre',\n",
       "       'indigente', 'npobres', 'nindigentes', 'clase', 'dominio', 'sexo',\n",
       "       'edad', 'ingtot', 'fex_c', 'depto', 'fex_dpto', 'no_victima',\n",
       "       'periodo'],\n",
       "      dtype='object')"
      ]
     },
     "execution_count": 3,
     "metadata": {},
     "output_type": "execute_result"
    }
   ],
   "source": [
    "vic_19_21.columns"
   ]
  },
  {
   "cell_type": "code",
   "execution_count": 5,
   "metadata": {
    "scrolled": true
   },
   "outputs": [
    {
     "name": "stdout",
     "output_type": "stream",
     "text": [
      "22044784.33196556\n"
     ]
    }
   ],
   "source": [
    "# total víctimas desplazamiento por año\n",
    "print((vic_19_21[\"es_desplazado\"] * vic_19_21[\"fex_c_viv\"]).sum())"
   ]
  },
  {
   "cell_type": "code",
   "execution_count": 11,
   "metadata": {},
   "outputs": [
    {
     "data": {
      "text/plain": [
       "periodo\n",
       "2019   7218124\n",
       "2020   7362402\n",
       "2021   7464258\n",
       "dtype: float64"
      ]
     },
     "execution_count": 11,
     "metadata": {},
     "output_type": "execute_result"
    }
   ],
   "source": [
    "pd.options.display.float_format = '{:.0f}'.format \n",
    "# total víctimas desplazamiento por año\n",
    "vic_19_21.groupby([\"periodo\"]).apply(\n",
    "    lambda x: ((x[\"es_desplazado\"]  * vic_19_21[\"fex_c_viv\"]).sum()))"
   ]
  }
 ],
 "metadata": {
  "kernelspec": {
   "display_name": "Python 3",
   "language": "python",
   "name": "python3"
  },
  "language_info": {
   "codemirror_mode": {
    "name": "ipython",
    "version": 3
   },
   "file_extension": ".py",
   "mimetype": "text/x-python",
   "name": "python",
   "nbconvert_exporter": "python",
   "pygments_lexer": "ipython3",
   "version": "3.8.3"
  }
 },
 "nbformat": 4,
 "nbformat_minor": 5
}
