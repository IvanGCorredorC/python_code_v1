{
 "cells": [
  {
   "cell_type": "code",
   "execution_count": 1,
   "metadata": {},
   "outputs": [],
   "source": [
    "import pandas as pd\n",
    "import numpy as np"
   ]
  },
  {
   "cell_type": "markdown",
   "metadata": {},
   "source": [
    "## 2021"
   ]
  },
  {
   "cell_type": "code",
   "execution_count": 2,
   "metadata": {},
   "outputs": [
    {
     "ename": "FileNotFoundError",
     "evalue": "[Errno 2] No such file or directory: 'C:/Users/ivan.corredor/DANE_IPM_ECV/2021/factores_victima_2021'",
     "output_type": "error",
     "traceback": [
      "\u001b[1;31m---------------------------------------------------------------------------\u001b[0m",
      "\u001b[1;31mFileNotFoundError\u001b[0m                         Traceback (most recent call last)",
      "\u001b[1;32m<ipython-input-2-18ddec453533>\u001b[0m in \u001b[0;36m<module>\u001b[1;34m\u001b[0m\n\u001b[0;32m      1\u001b[0m \u001b[1;31m#base 2021\u001b[0m\u001b[1;33m\u001b[0m\u001b[1;33m\u001b[0m\u001b[1;33m\u001b[0m\u001b[0m\n\u001b[0;32m      2\u001b[0m \u001b[1;31m#víctimas nal\u001b[0m\u001b[1;33m\u001b[0m\u001b[1;33m\u001b[0m\u001b[1;33m\u001b[0m\u001b[0m\n\u001b[1;32m----> 3\u001b[1;33m \u001b[0mipm_21_v\u001b[0m \u001b[1;33m=\u001b[0m \u001b[0mpd\u001b[0m\u001b[1;33m.\u001b[0m\u001b[0mread_csv\u001b[0m\u001b[1;33m(\u001b[0m\u001b[1;34m\"C:/Users/ivan.corredor/DANE_IPM_ECV/2021/factores_victima_2021\"\u001b[0m\u001b[1;33m)\u001b[0m\u001b[1;33m\u001b[0m\u001b[1;33m\u001b[0m\u001b[0m\n\u001b[0m\u001b[0;32m      4\u001b[0m \u001b[1;31m# viv nal\u001b[0m\u001b[1;33m\u001b[0m\u001b[1;33m\u001b[0m\u001b[1;33m\u001b[0m\u001b[0m\n\u001b[0;32m      5\u001b[0m \u001b[0mipm_21_viv\u001b[0m \u001b[1;33m=\u001b[0m \u001b[0mpd\u001b[0m\u001b[1;33m.\u001b[0m\u001b[0mread_csv\u001b[0m\u001b[1;33m(\u001b[0m\u001b[1;34m\"C:/Users/ivan.corredor/DANE_IPM_ECV/2021/viviendas_nal_2021.csv\"\u001b[0m\u001b[1;33m)\u001b[0m\u001b[1;33m\u001b[0m\u001b[1;33m\u001b[0m\u001b[0m\n",
      "\u001b[1;32mD:\\anaconda\\lib\\site-packages\\pandas\\util\\_decorators.py\u001b[0m in \u001b[0;36mwrapper\u001b[1;34m(*args, **kwargs)\u001b[0m\n\u001b[0;32m    209\u001b[0m                 \u001b[1;32melse\u001b[0m\u001b[1;33m:\u001b[0m\u001b[1;33m\u001b[0m\u001b[1;33m\u001b[0m\u001b[0m\n\u001b[0;32m    210\u001b[0m                     \u001b[0mkwargs\u001b[0m\u001b[1;33m[\u001b[0m\u001b[0mnew_arg_name\u001b[0m\u001b[1;33m]\u001b[0m \u001b[1;33m=\u001b[0m \u001b[0mnew_arg_value\u001b[0m\u001b[1;33m\u001b[0m\u001b[1;33m\u001b[0m\u001b[0m\n\u001b[1;32m--> 211\u001b[1;33m             \u001b[1;32mreturn\u001b[0m \u001b[0mfunc\u001b[0m\u001b[1;33m(\u001b[0m\u001b[1;33m*\u001b[0m\u001b[0margs\u001b[0m\u001b[1;33m,\u001b[0m \u001b[1;33m**\u001b[0m\u001b[0mkwargs\u001b[0m\u001b[1;33m)\u001b[0m\u001b[1;33m\u001b[0m\u001b[1;33m\u001b[0m\u001b[0m\n\u001b[0m\u001b[0;32m    212\u001b[0m \u001b[1;33m\u001b[0m\u001b[0m\n\u001b[0;32m    213\u001b[0m         \u001b[1;32mreturn\u001b[0m \u001b[0mcast\u001b[0m\u001b[1;33m(\u001b[0m\u001b[0mF\u001b[0m\u001b[1;33m,\u001b[0m \u001b[0mwrapper\u001b[0m\u001b[1;33m)\u001b[0m\u001b[1;33m\u001b[0m\u001b[1;33m\u001b[0m\u001b[0m\n",
      "\u001b[1;32mD:\\anaconda\\lib\\site-packages\\pandas\\util\\_decorators.py\u001b[0m in \u001b[0;36mwrapper\u001b[1;34m(*args, **kwargs)\u001b[0m\n\u001b[0;32m    315\u001b[0m                     \u001b[0mstacklevel\u001b[0m\u001b[1;33m=\u001b[0m\u001b[0mfind_stack_level\u001b[0m\u001b[1;33m(\u001b[0m\u001b[0minspect\u001b[0m\u001b[1;33m.\u001b[0m\u001b[0mcurrentframe\u001b[0m\u001b[1;33m(\u001b[0m\u001b[1;33m)\u001b[0m\u001b[1;33m)\u001b[0m\u001b[1;33m,\u001b[0m\u001b[1;33m\u001b[0m\u001b[1;33m\u001b[0m\u001b[0m\n\u001b[0;32m    316\u001b[0m                 )\n\u001b[1;32m--> 317\u001b[1;33m             \u001b[1;32mreturn\u001b[0m \u001b[0mfunc\u001b[0m\u001b[1;33m(\u001b[0m\u001b[1;33m*\u001b[0m\u001b[0margs\u001b[0m\u001b[1;33m,\u001b[0m \u001b[1;33m**\u001b[0m\u001b[0mkwargs\u001b[0m\u001b[1;33m)\u001b[0m\u001b[1;33m\u001b[0m\u001b[1;33m\u001b[0m\u001b[0m\n\u001b[0m\u001b[0;32m    318\u001b[0m \u001b[1;33m\u001b[0m\u001b[0m\n\u001b[0;32m    319\u001b[0m         \u001b[1;32mreturn\u001b[0m \u001b[0mwrapper\u001b[0m\u001b[1;33m\u001b[0m\u001b[1;33m\u001b[0m\u001b[0m\n",
      "\u001b[1;32mD:\\anaconda\\lib\\site-packages\\pandas\\io\\parsers\\readers.py\u001b[0m in \u001b[0;36mread_csv\u001b[1;34m(filepath_or_buffer, sep, delimiter, header, names, index_col, usecols, squeeze, prefix, mangle_dupe_cols, dtype, engine, converters, true_values, false_values, skipinitialspace, skiprows, skipfooter, nrows, na_values, keep_default_na, na_filter, verbose, skip_blank_lines, parse_dates, infer_datetime_format, keep_date_col, date_parser, dayfirst, cache_dates, iterator, chunksize, compression, thousands, decimal, lineterminator, quotechar, quoting, doublequote, escapechar, comment, encoding, encoding_errors, dialect, error_bad_lines, warn_bad_lines, on_bad_lines, delim_whitespace, low_memory, memory_map, float_precision, storage_options)\u001b[0m\n\u001b[0;32m    948\u001b[0m     \u001b[0mkwds\u001b[0m\u001b[1;33m.\u001b[0m\u001b[0mupdate\u001b[0m\u001b[1;33m(\u001b[0m\u001b[0mkwds_defaults\u001b[0m\u001b[1;33m)\u001b[0m\u001b[1;33m\u001b[0m\u001b[1;33m\u001b[0m\u001b[0m\n\u001b[0;32m    949\u001b[0m \u001b[1;33m\u001b[0m\u001b[0m\n\u001b[1;32m--> 950\u001b[1;33m     \u001b[1;32mreturn\u001b[0m \u001b[0m_read\u001b[0m\u001b[1;33m(\u001b[0m\u001b[0mfilepath_or_buffer\u001b[0m\u001b[1;33m,\u001b[0m \u001b[0mkwds\u001b[0m\u001b[1;33m)\u001b[0m\u001b[1;33m\u001b[0m\u001b[1;33m\u001b[0m\u001b[0m\n\u001b[0m\u001b[0;32m    951\u001b[0m \u001b[1;33m\u001b[0m\u001b[0m\n\u001b[0;32m    952\u001b[0m \u001b[1;33m\u001b[0m\u001b[0m\n",
      "\u001b[1;32mD:\\anaconda\\lib\\site-packages\\pandas\\io\\parsers\\readers.py\u001b[0m in \u001b[0;36m_read\u001b[1;34m(filepath_or_buffer, kwds)\u001b[0m\n\u001b[0;32m    603\u001b[0m \u001b[1;33m\u001b[0m\u001b[0m\n\u001b[0;32m    604\u001b[0m     \u001b[1;31m# Create the parser.\u001b[0m\u001b[1;33m\u001b[0m\u001b[1;33m\u001b[0m\u001b[1;33m\u001b[0m\u001b[0m\n\u001b[1;32m--> 605\u001b[1;33m     \u001b[0mparser\u001b[0m \u001b[1;33m=\u001b[0m \u001b[0mTextFileReader\u001b[0m\u001b[1;33m(\u001b[0m\u001b[0mfilepath_or_buffer\u001b[0m\u001b[1;33m,\u001b[0m \u001b[1;33m**\u001b[0m\u001b[0mkwds\u001b[0m\u001b[1;33m)\u001b[0m\u001b[1;33m\u001b[0m\u001b[1;33m\u001b[0m\u001b[0m\n\u001b[0m\u001b[0;32m    606\u001b[0m \u001b[1;33m\u001b[0m\u001b[0m\n\u001b[0;32m    607\u001b[0m     \u001b[1;32mif\u001b[0m \u001b[0mchunksize\u001b[0m \u001b[1;32mor\u001b[0m \u001b[0miterator\u001b[0m\u001b[1;33m:\u001b[0m\u001b[1;33m\u001b[0m\u001b[1;33m\u001b[0m\u001b[0m\n",
      "\u001b[1;32mD:\\anaconda\\lib\\site-packages\\pandas\\io\\parsers\\readers.py\u001b[0m in \u001b[0;36m__init__\u001b[1;34m(self, f, engine, **kwds)\u001b[0m\n\u001b[0;32m   1440\u001b[0m \u001b[1;33m\u001b[0m\u001b[0m\n\u001b[0;32m   1441\u001b[0m         \u001b[0mself\u001b[0m\u001b[1;33m.\u001b[0m\u001b[0mhandles\u001b[0m\u001b[1;33m:\u001b[0m \u001b[0mIOHandles\u001b[0m \u001b[1;33m|\u001b[0m \u001b[1;32mNone\u001b[0m \u001b[1;33m=\u001b[0m \u001b[1;32mNone\u001b[0m\u001b[1;33m\u001b[0m\u001b[1;33m\u001b[0m\u001b[0m\n\u001b[1;32m-> 1442\u001b[1;33m         \u001b[0mself\u001b[0m\u001b[1;33m.\u001b[0m\u001b[0m_engine\u001b[0m \u001b[1;33m=\u001b[0m \u001b[0mself\u001b[0m\u001b[1;33m.\u001b[0m\u001b[0m_make_engine\u001b[0m\u001b[1;33m(\u001b[0m\u001b[0mf\u001b[0m\u001b[1;33m,\u001b[0m \u001b[0mself\u001b[0m\u001b[1;33m.\u001b[0m\u001b[0mengine\u001b[0m\u001b[1;33m)\u001b[0m\u001b[1;33m\u001b[0m\u001b[1;33m\u001b[0m\u001b[0m\n\u001b[0m\u001b[0;32m   1443\u001b[0m \u001b[1;33m\u001b[0m\u001b[0m\n\u001b[0;32m   1444\u001b[0m     \u001b[1;32mdef\u001b[0m \u001b[0mclose\u001b[0m\u001b[1;33m(\u001b[0m\u001b[0mself\u001b[0m\u001b[1;33m)\u001b[0m \u001b[1;33m->\u001b[0m \u001b[1;32mNone\u001b[0m\u001b[1;33m:\u001b[0m\u001b[1;33m\u001b[0m\u001b[1;33m\u001b[0m\u001b[0m\n",
      "\u001b[1;32mD:\\anaconda\\lib\\site-packages\\pandas\\io\\parsers\\readers.py\u001b[0m in \u001b[0;36m_make_engine\u001b[1;34m(self, f, engine)\u001b[0m\n\u001b[0;32m   1727\u001b[0m                 \u001b[0mis_text\u001b[0m \u001b[1;33m=\u001b[0m \u001b[1;32mFalse\u001b[0m\u001b[1;33m\u001b[0m\u001b[1;33m\u001b[0m\u001b[0m\n\u001b[0;32m   1728\u001b[0m                 \u001b[0mmode\u001b[0m \u001b[1;33m=\u001b[0m \u001b[1;34m\"rb\"\u001b[0m\u001b[1;33m\u001b[0m\u001b[1;33m\u001b[0m\u001b[0m\n\u001b[1;32m-> 1729\u001b[1;33m             self.handles = get_handle(\n\u001b[0m\u001b[0;32m   1730\u001b[0m                 \u001b[0mf\u001b[0m\u001b[1;33m,\u001b[0m\u001b[1;33m\u001b[0m\u001b[1;33m\u001b[0m\u001b[0m\n\u001b[0;32m   1731\u001b[0m                 \u001b[0mmode\u001b[0m\u001b[1;33m,\u001b[0m\u001b[1;33m\u001b[0m\u001b[1;33m\u001b[0m\u001b[0m\n",
      "\u001b[1;32mD:\\anaconda\\lib\\site-packages\\pandas\\io\\common.py\u001b[0m in \u001b[0;36mget_handle\u001b[1;34m(path_or_buf, mode, encoding, compression, memory_map, is_text, errors, storage_options)\u001b[0m\n\u001b[0;32m    855\u001b[0m         \u001b[1;32mif\u001b[0m \u001b[0mioargs\u001b[0m\u001b[1;33m.\u001b[0m\u001b[0mencoding\u001b[0m \u001b[1;32mand\u001b[0m \u001b[1;34m\"b\"\u001b[0m \u001b[1;32mnot\u001b[0m \u001b[1;32min\u001b[0m \u001b[0mioargs\u001b[0m\u001b[1;33m.\u001b[0m\u001b[0mmode\u001b[0m\u001b[1;33m:\u001b[0m\u001b[1;33m\u001b[0m\u001b[1;33m\u001b[0m\u001b[0m\n\u001b[0;32m    856\u001b[0m             \u001b[1;31m# Encoding\u001b[0m\u001b[1;33m\u001b[0m\u001b[1;33m\u001b[0m\u001b[1;33m\u001b[0m\u001b[0m\n\u001b[1;32m--> 857\u001b[1;33m             handle = open(\n\u001b[0m\u001b[0;32m    858\u001b[0m                 \u001b[0mhandle\u001b[0m\u001b[1;33m,\u001b[0m\u001b[1;33m\u001b[0m\u001b[1;33m\u001b[0m\u001b[0m\n\u001b[0;32m    859\u001b[0m                 \u001b[0mioargs\u001b[0m\u001b[1;33m.\u001b[0m\u001b[0mmode\u001b[0m\u001b[1;33m,\u001b[0m\u001b[1;33m\u001b[0m\u001b[1;33m\u001b[0m\u001b[0m\n",
      "\u001b[1;31mFileNotFoundError\u001b[0m: [Errno 2] No such file or directory: 'C:/Users/ivan.corredor/DANE_IPM_ECV/2021/factores_victima_2021'"
     ]
    }
   ],
   "source": [
    "#base 2021\n",
    "#víctimas nal\n",
    "ipm_21_v = pd.read_csv(\"C:/Users/ivan.corredor/DANE_IPM_ECV/2021/factores_victima_2021\")\n",
    "# viv nal\n",
    "ipm_21_viv = pd.read_csv(\"C:/Users/ivan.corredor/DANE_IPM_ECV/2021/viviendas_nal_2021.csv\")\n",
    "# hog nal\n",
    "ipm_21_h = pd.read_csv(\"C:/Users/ivan.corredor/DANE_IPM_ECV/2021/hogares_nal_2021.csv\")\n",
    "# per nal\n",
    "ipm_21_p = pd.read_csv(\"C:/Users/ivan.corredor/DANE_IPM_ECV/2021/personas_nal_2021.csv\")"
   ]
  },
  {
   "cell_type": "code",
   "execution_count": 3,
   "metadata": {
    "scrolled": true
   },
   "outputs": [
    {
     "data": {
      "text/plain": [
       "20210939    80936\n",
       "Name: PERIODO, dtype: int64"
      ]
     },
     "execution_count": 3,
     "metadata": {},
     "output_type": "execute_result"
    }
   ],
   "source": [
    "ipm_21_h[\"PERIODO\"].value_counts()"
   ]
  },
  {
   "cell_type": "code",
   "execution_count": 4,
   "metadata": {},
   "outputs": [],
   "source": [
    "## 5 /15 pricaciones son pobres multidimensionales. El IPM es una cuenta del número de personas con un IPM > 0.33 %. \n",
    "mask = ipm_21_h[\"ipm\"] >= 0.33333\n",
    "ipm_21_h_pobres = ipm_21_h[mask==True]"
   ]
  },
  {
   "cell_type": "markdown",
   "metadata": {},
   "source": [
    "### 1.  Pegar viviendas a hogares. 2. víctimas de muchos a 1 a hog_viv y luego a la personas "
   ]
  },
  {
   "cell_type": "code",
   "execution_count": 5,
   "metadata": {},
   "outputs": [
    {
     "data": {
      "text/plain": [
       "Index(['DIRECTORIO', 'SECUENCIA_ENCUESTA', 'SECUENCIA_P', 'ORDEN', 'P6020',\n",
       "       'P6040', 'FEX_C', 'P6090', 'P5665', 'P8563', 'P51', 'P55', 'P774',\n",
       "       'P6160', 'P8586', 'P8587', 'P8587S1', 'P1088', 'P1088S1', 'P6180',\n",
       "       'P6240', 'P6250', 'P6260', 'P6270', 'P6351', 'P6390', 'P7250', 'P6920',\n",
       "       'P3336S1', 'P3336S2', 'P3336S3', 'P3337'],\n",
       "      dtype='object')"
      ]
     },
     "execution_count": 5,
     "metadata": {},
     "output_type": "execute_result"
    }
   ],
   "source": [
    "ipm_21_p.columns"
   ]
  },
  {
   "cell_type": "code",
   "execution_count": 6,
   "metadata": {},
   "outputs": [
    {
     "data": {
      "text/plain": [
       "Index(['directorio', 'secuencia_encuesta', 'secuencia_p', 'orden',\n",
       "       'es_victima', 'es_desplazado', 'fex_c_victi', 'fex_c_des'],\n",
       "      dtype='object')"
      ]
     },
     "execution_count": 6,
     "metadata": {},
     "output_type": "execute_result"
    }
   ],
   "source": [
    "ipm_21_v.columns"
   ]
  },
  {
   "cell_type": "code",
   "execution_count": 7,
   "metadata": {},
   "outputs": [
    {
     "data": {
      "text/plain": [
       "Index(['DIRECTORIO', 'SECUENCIA_ENCUESTA', 'SECUENCIA_P', 'ORDEN', 'P6020',\n",
       "       'P6040', 'FEX_C', 'P6090', 'P5665', 'P8563', 'P51', 'P55', 'P774',\n",
       "       'P6160', 'P8586', 'P8587', 'P8587S1', 'P1088', 'P1088S1', 'P6180',\n",
       "       'P6240', 'P6250', 'P6260', 'P6270', 'P6351', 'P6390', 'P7250', 'P6920',\n",
       "       'P3336S1', 'P3336S2', 'P3336S3', 'P3337'],\n",
       "      dtype='object')"
      ]
     },
     "execution_count": 7,
     "metadata": {},
     "output_type": "execute_result"
    }
   ],
   "source": [
    "ipm_21_p.columns"
   ]
  },
  {
   "cell_type": "code",
   "execution_count": 8,
   "metadata": {},
   "outputs": [
    {
     "data": {
      "text/plain": [
       "Index(['DIRECTORIO', 'SECUENCIA_ENCUESTA', 'SECUENCIA_P', 'P3', 'P4005',\n",
       "       'P4015', 'P8520S3', 'P8520S5'],\n",
       "      dtype='object')"
      ]
     },
     "execution_count": 8,
     "metadata": {},
     "output_type": "execute_result"
    }
   ],
   "source": [
    "ipm_21_viv.columns"
   ]
  },
  {
   "cell_type": "code",
   "execution_count": 9,
   "metadata": {
    "scrolled": true
   },
   "outputs": [
    {
     "data": {
      "text/plain": [
       "Index(['PERIODO', 'DIRECTORIO', 'SECUENCIA_ENCUESTA', 'SECUENCIA_P', 'P5010',\n",
       "       'P8526', 'P8530', 'fex_c', 'REGION', 'personas', 'paredes', 'pisos',\n",
       "       'alcantarillado', 'acueducto', 'empleo_formal',\n",
       "       'desempleo_larga_duracion', 'barreras_acceso_salud',\n",
       "       'aseguramiento_salud', 'trabajo_infantil', 'atencion_integral',\n",
       "       'inasistencia_escolar', 'rezago_escolar', 'alfabetismo',\n",
       "       'logro_educativo', 'hacinamiento', 'ipm', 'pobre', 'fexp'],\n",
       "      dtype='object')"
      ]
     },
     "execution_count": 9,
     "metadata": {},
     "output_type": "execute_result"
    }
   ],
   "source": [
    "ipm_21_h.columns"
   ]
  },
  {
   "cell_type": "code",
   "execution_count": 10,
   "metadata": {},
   "outputs": [],
   "source": [
    "#Cruce vivienda hogares\n",
    "ipm_21_vh_merge = pd.merge(left=ipm_21_h, right=ipm_21_viv, left_on=['DIRECTORIO', 'SECUENCIA_ENCUESTA'], \n",
    "                        right_on=['DIRECTORIO', 'SECUENCIA_ENCUESTA'], how='left', sort=False, validate='m:1', \n",
    "                        suffixes=(\"_h\", \"_viv\"), indicator = 'indicator_column')"
   ]
  },
  {
   "cell_type": "code",
   "execution_count": 11,
   "metadata": {
    "scrolled": true
   },
   "outputs": [
    {
     "data": {
      "text/plain": [
       "Index(['PERIODO', 'DIRECTORIO', 'SECUENCIA_ENCUESTA', 'SECUENCIA_P_h', 'P5010',\n",
       "       'P8526', 'P8530', 'fex_c', 'REGION', 'personas', 'paredes', 'pisos',\n",
       "       'alcantarillado', 'acueducto', 'empleo_formal',\n",
       "       'desempleo_larga_duracion', 'barreras_acceso_salud',\n",
       "       'aseguramiento_salud', 'trabajo_infantil', 'atencion_integral',\n",
       "       'inasistencia_escolar', 'rezago_escolar', 'alfabetismo',\n",
       "       'logro_educativo', 'hacinamiento', 'ipm', 'pobre', 'fexp',\n",
       "       'SECUENCIA_P_viv', 'P3', 'P4005', 'P4015', 'P8520S3', 'P8520S5',\n",
       "       'indicator_column'],\n",
       "      dtype='object')"
      ]
     },
     "execution_count": 11,
     "metadata": {},
     "output_type": "execute_result"
    }
   ],
   "source": [
    "ipm_21_vh_merge.columns"
   ]
  },
  {
   "cell_type": "code",
   "execution_count": 12,
   "metadata": {},
   "outputs": [],
   "source": [
    "#cruce vivienda_hogares con personas\n",
    "ipm_21_vhper = pd.merge(left=ipm_21_p, right=ipm_21_vh_merge, left_on=['DIRECTORIO', \"SECUENCIA_P\"], \n",
    "                        right_on=['DIRECTORIO', \"SECUENCIA_ENCUESTA\"], how='left', sort=False, validate='m:1', \n",
    "                        suffixes=(\"_per\", \"_ph\"), indicator = 'indicator_column_2')"
   ]
  },
  {
   "cell_type": "code",
   "execution_count": 13,
   "metadata": {},
   "outputs": [
    {
     "data": {
      "text/plain": [
       "Index(['DIRECTORIO', 'SECUENCIA_ENCUESTA_per', 'SECUENCIA_P', 'ORDEN', 'P6020',\n",
       "       'P6040', 'FEX_C', 'P6090', 'P5665', 'P8563', 'P51', 'P55', 'P774',\n",
       "       'P6160', 'P8586', 'P8587', 'P8587S1', 'P1088', 'P1088S1', 'P6180',\n",
       "       'P6240', 'P6250', 'P6260', 'P6270', 'P6351', 'P6390', 'P7250', 'P6920',\n",
       "       'P3336S1', 'P3336S2', 'P3336S3', 'P3337', 'PERIODO',\n",
       "       'SECUENCIA_ENCUESTA_ph', 'SECUENCIA_P_h', 'P5010', 'P8526', 'P8530',\n",
       "       'fex_c', 'REGION', 'personas', 'paredes', 'pisos', 'alcantarillado',\n",
       "       'acueducto', 'empleo_formal', 'desempleo_larga_duracion',\n",
       "       'barreras_acceso_salud', 'aseguramiento_salud', 'trabajo_infantil',\n",
       "       'atencion_integral', 'inasistencia_escolar', 'rezago_escolar',\n",
       "       'alfabetismo', 'logro_educativo', 'hacinamiento', 'ipm', 'pobre',\n",
       "       'fexp', 'SECUENCIA_P_viv', 'P3', 'P4005', 'P4015', 'P8520S3', 'P8520S5',\n",
       "       'indicator_column', 'indicator_column_2'],\n",
       "      dtype='object')"
      ]
     },
     "execution_count": 13,
     "metadata": {},
     "output_type": "execute_result"
    }
   ],
   "source": [
    "ipm_21_vhper.columns"
   ]
  },
  {
   "cell_type": "code",
   "execution_count": 14,
   "metadata": {},
   "outputs": [],
   "source": [
    "#ipm_21_h[\"DIRECTORIO\"].duplicated().sum()"
   ]
  },
  {
   "cell_type": "code",
   "execution_count": 162,
   "metadata": {},
   "outputs": [],
   "source": [
    "#cruce vivienda_hogares_personas con víctimas\n",
    "ipm_21_vhper_vic = pd.merge(left=ipm_21_vhper, right=ipm_21_v, left_on=['DIRECTORIO', \"SECUENCIA_P\", 'ORDEN'], \n",
    "                        right_on=['directorio', 'secuencia_p','orden'], how='left',\n",
    "                            sort=False, validate='1:1', suffixes=(\"_vhper\", \"_vic\"), indicator = 'indicator_column_3')"
   ]
  },
  {
   "cell_type": "markdown",
   "metadata": {},
   "source": [
    "### Limpieza, selección y standarización"
   ]
  },
  {
   "cell_type": "code",
   "execution_count": 163,
   "metadata": {
    "scrolled": true
   },
   "outputs": [],
   "source": [
    "pd.options.display.max_columns = None\n",
    "#ipm_21_vhper_vic[[\"directorio\", \"ipm\", \"fex_c_victi\"]][ipm_21_vhper_vic[\"ipm\"].notnull()].head(10)"
   ]
  },
  {
   "cell_type": "code",
   "execution_count": 164,
   "metadata": {},
   "outputs": [],
   "source": [
    "##rellenar variable víctima\n",
    "def vic(df):\n",
    "    if df[\"es_victima\"]==1:\n",
    "        x = 1\n",
    "    else:\n",
    "        x= 0\n",
    "    return(x)"
   ]
  },
  {
   "cell_type": "code",
   "execution_count": 165,
   "metadata": {},
   "outputs": [],
   "source": [
    "##crear variable no víctima\n",
    "ipm_21_vhper_vic[\"victima\"] = ipm_21_vhper_vic.apply(vic, axis = 1)"
   ]
  },
  {
   "cell_type": "code",
   "execution_count": 166,
   "metadata": {},
   "outputs": [
    {
     "data": {
      "text/plain": [
       "0    192868\n",
       "1     41128\n",
       "Name: victima, dtype: int64"
      ]
     },
     "execution_count": 166,
     "metadata": {},
     "output_type": "execute_result"
    }
   ],
   "source": [
    "#frencuencia de var victima\n",
    "ipm_21_vhper_vic[\"victima\"].value_counts()"
   ]
  },
  {
   "cell_type": "code",
   "execution_count": 167,
   "metadata": {},
   "outputs": [],
   "source": [
    "##crear variable no víctima\n",
    "def novic(df):\n",
    "    if df[\"es_victima\"]!=1:\n",
    "        x = 1\n",
    "    else:\n",
    "        x= 0\n",
    "    return(x)"
   ]
  },
  {
   "cell_type": "code",
   "execution_count": 168,
   "metadata": {},
   "outputs": [],
   "source": [
    "##crear variable no víctima\n",
    "ipm_21_vhper_vic[\"no_victima\"] = ipm_21_vhper_vic.apply(novic, axis = 1)"
   ]
  },
  {
   "cell_type": "code",
   "execution_count": 169,
   "metadata": {},
   "outputs": [
    {
     "data": {
      "text/plain": [
       "1    192868\n",
       "0     41128\n",
       "Name: no_victima, dtype: int64"
      ]
     },
     "execution_count": 169,
     "metadata": {},
     "output_type": "execute_result"
    }
   ],
   "source": [
    "#frencuencia de var no_victima\n",
    "ipm_21_vhper_vic[\"no_victima\"].value_counts()"
   ]
  },
  {
   "cell_type": "code",
   "execution_count": 170,
   "metadata": {},
   "outputs": [],
   "source": [
    "##renombrar variables\n",
    "ipm_21_vhper_vic.rename(columns = {\"p6020\":\"sexo\", \"p6040\":\"edad\"}, inplace = True)"
   ]
  },
  {
   "cell_type": "code",
   "execution_count": 171,
   "metadata": {},
   "outputs": [],
   "source": [
    "#crear variable de año \n",
    "ipm_21_vhper_vic[\"periodo\"] = 2021"
   ]
  },
  {
   "cell_type": "code",
   "execution_count": 172,
   "metadata": {},
   "outputs": [],
   "source": [
    "#export\n",
    "#ipm_21_vhper_vic.to_csv(\"C:/Users/ivan.corredor/DANE_IPM_ECV/2021/Victimas_IPM_2021.csv\", sep=\";\")"
   ]
  },
  {
   "cell_type": "markdown",
   "metadata": {},
   "source": [
    "### Validaciones "
   ]
  },
  {
   "cell_type": "code",
   "execution_count": 49,
   "metadata": {},
   "outputs": [
    {
     "data": {
      "text/html": [
       "<div>\n",
       "<style scoped>\n",
       "    .dataframe tbody tr th:only-of-type {\n",
       "        vertical-align: middle;\n",
       "    }\n",
       "\n",
       "    .dataframe tbody tr th {\n",
       "        vertical-align: top;\n",
       "    }\n",
       "\n",
       "    .dataframe thead th {\n",
       "        text-align: right;\n",
       "    }\n",
       "</style>\n",
       "<table border=\"1\" class=\"dataframe\">\n",
       "  <thead>\n",
       "    <tr style=\"text-align: right;\">\n",
       "      <th></th>\n",
       "      <th>DIRECTORIO</th>\n",
       "      <th>SECUENCIA_ENCUESTA_per</th>\n",
       "      <th>SECUENCIA_P</th>\n",
       "      <th>ORDEN</th>\n",
       "      <th>P6020</th>\n",
       "      <th>P6040</th>\n",
       "      <th>FEX_C</th>\n",
       "      <th>P6090</th>\n",
       "      <th>P5665</th>\n",
       "      <th>P8563</th>\n",
       "      <th>P51</th>\n",
       "      <th>P55</th>\n",
       "      <th>P774</th>\n",
       "      <th>P6160</th>\n",
       "      <th>P8586</th>\n",
       "      <th>P8587</th>\n",
       "      <th>P8587S1</th>\n",
       "      <th>P1088</th>\n",
       "      <th>P1088S1</th>\n",
       "      <th>P6180</th>\n",
       "      <th>P6240</th>\n",
       "      <th>P6250</th>\n",
       "      <th>P6260</th>\n",
       "      <th>P6270</th>\n",
       "      <th>P6351</th>\n",
       "      <th>P6390</th>\n",
       "      <th>P7250</th>\n",
       "      <th>P6920</th>\n",
       "      <th>P3336S1</th>\n",
       "      <th>P3336S2</th>\n",
       "      <th>P3336S3</th>\n",
       "      <th>P3337</th>\n",
       "      <th>PERIODO</th>\n",
       "      <th>SECUENCIA_ENCUESTA_ph</th>\n",
       "      <th>SECUENCIA_P_h</th>\n",
       "      <th>P5010</th>\n",
       "      <th>P8526</th>\n",
       "      <th>P8530</th>\n",
       "      <th>fex_c</th>\n",
       "      <th>REGION</th>\n",
       "      <th>personas</th>\n",
       "      <th>paredes</th>\n",
       "      <th>pisos</th>\n",
       "      <th>alcantarillado</th>\n",
       "      <th>acueducto</th>\n",
       "      <th>empleo_formal</th>\n",
       "      <th>desempleo_larga_duracion</th>\n",
       "      <th>barreras_acceso_salud</th>\n",
       "      <th>aseguramiento_salud</th>\n",
       "      <th>trabajo_infantil</th>\n",
       "      <th>atencion_integral</th>\n",
       "      <th>inasistencia_escolar</th>\n",
       "      <th>rezago_escolar</th>\n",
       "      <th>alfabetismo</th>\n",
       "      <th>logro_educativo</th>\n",
       "      <th>hacinamiento</th>\n",
       "      <th>ipm</th>\n",
       "      <th>pobre</th>\n",
       "      <th>fexp</th>\n",
       "      <th>SECUENCIA_P_viv</th>\n",
       "      <th>P3</th>\n",
       "      <th>P4005</th>\n",
       "      <th>P4015</th>\n",
       "      <th>P8520S3</th>\n",
       "      <th>P8520S5</th>\n",
       "      <th>indicator_column</th>\n",
       "      <th>indicator_column_2</th>\n",
       "      <th>directorio</th>\n",
       "      <th>secuencia_encuesta</th>\n",
       "      <th>secuencia_p</th>\n",
       "      <th>orden</th>\n",
       "      <th>es_victima</th>\n",
       "      <th>es_desplazado</th>\n",
       "      <th>fex_c_victi</th>\n",
       "      <th>fex_c_des</th>\n",
       "      <th>indicator_column_3</th>\n",
       "      <th>victima</th>\n",
       "      <th>no_victima</th>\n",
       "      <th>periodo</th>\n",
       "    </tr>\n",
       "  </thead>\n",
       "  <tbody>\n",
       "    <tr>\n",
       "      <th>0</th>\n",
       "      <td>7566839</td>\n",
       "      <td>1</td>\n",
       "      <td>1</td>\n",
       "      <td>1</td>\n",
       "      <td>2</td>\n",
       "      <td>70</td>\n",
       "      <td>500.083094</td>\n",
       "      <td>1</td>\n",
       "      <td>2</td>\n",
       "      <td>NaN</td>\n",
       "      <td>NaN</td>\n",
       "      <td>NaN</td>\n",
       "      <td>NaN</td>\n",
       "      <td>1.0</td>\n",
       "      <td>2.0</td>\n",
       "      <td>3.0</td>\n",
       "      <td>3.0</td>\n",
       "      <td>NaN</td>\n",
       "      <td>NaN</td>\n",
       "      <td>NaN</td>\n",
       "      <td>1.0</td>\n",
       "      <td>NaN</td>\n",
       "      <td>NaN</td>\n",
       "      <td>NaN</td>\n",
       "      <td>NaN</td>\n",
       "      <td>COMERCIALIZA PRODUCTOS DE BELLEZA</td>\n",
       "      <td>NaN</td>\n",
       "      <td>2.0</td>\n",
       "      <td>NaN</td>\n",
       "      <td>NaN</td>\n",
       "      <td>NaN</td>\n",
       "      <td>NaN</td>\n",
       "      <td>20210939</td>\n",
       "      <td>1</td>\n",
       "      <td>1</td>\n",
       "      <td>3</td>\n",
       "      <td>1</td>\n",
       "      <td>1</td>\n",
       "      <td>500.083094</td>\n",
       "      <td>1</td>\n",
       "      <td>4</td>\n",
       "      <td>0</td>\n",
       "      <td>0</td>\n",
       "      <td>0</td>\n",
       "      <td>0</td>\n",
       "      <td>1</td>\n",
       "      <td>0</td>\n",
       "      <td>0</td>\n",
       "      <td>0</td>\n",
       "      <td>0</td>\n",
       "      <td>0</td>\n",
       "      <td>0</td>\n",
       "      <td>0</td>\n",
       "      <td>0</td>\n",
       "      <td>0</td>\n",
       "      <td>0</td>\n",
       "      <td>0.1</td>\n",
       "      <td>0</td>\n",
       "      <td>2000.332375</td>\n",
       "      <td>1.0</td>\n",
       "      <td>1.0</td>\n",
       "      <td>1.0</td>\n",
       "      <td>4.0</td>\n",
       "      <td>1.0</td>\n",
       "      <td>1.0</td>\n",
       "      <td>both</td>\n",
       "      <td>both</td>\n",
       "      <td>NaN</td>\n",
       "      <td>NaN</td>\n",
       "      <td>NaN</td>\n",
       "      <td>NaN</td>\n",
       "      <td>NaN</td>\n",
       "      <td>NaN</td>\n",
       "      <td>NaN</td>\n",
       "      <td>NaN</td>\n",
       "      <td>left_only</td>\n",
       "      <td>0</td>\n",
       "      <td>1</td>\n",
       "      <td>2021</td>\n",
       "    </tr>\n",
       "    <tr>\n",
       "      <th>1</th>\n",
       "      <td>7566839</td>\n",
       "      <td>2</td>\n",
       "      <td>1</td>\n",
       "      <td>2</td>\n",
       "      <td>2</td>\n",
       "      <td>42</td>\n",
       "      <td>500.083094</td>\n",
       "      <td>1</td>\n",
       "      <td>2</td>\n",
       "      <td>NaN</td>\n",
       "      <td>NaN</td>\n",
       "      <td>NaN</td>\n",
       "      <td>NaN</td>\n",
       "      <td>1.0</td>\n",
       "      <td>2.0</td>\n",
       "      <td>6.0</td>\n",
       "      <td>2.0</td>\n",
       "      <td>NaN</td>\n",
       "      <td>NaN</td>\n",
       "      <td>NaN</td>\n",
       "      <td>1.0</td>\n",
       "      <td>NaN</td>\n",
       "      <td>NaN</td>\n",
       "      <td>NaN</td>\n",
       "      <td>NaN</td>\n",
       "      <td>COMERCIALIZA PRODUCTOS DE BELLEZA</td>\n",
       "      <td>NaN</td>\n",
       "      <td>2.0</td>\n",
       "      <td>NaN</td>\n",
       "      <td>NaN</td>\n",
       "      <td>NaN</td>\n",
       "      <td>NaN</td>\n",
       "      <td>20210939</td>\n",
       "      <td>1</td>\n",
       "      <td>1</td>\n",
       "      <td>3</td>\n",
       "      <td>1</td>\n",
       "      <td>1</td>\n",
       "      <td>500.083094</td>\n",
       "      <td>1</td>\n",
       "      <td>4</td>\n",
       "      <td>0</td>\n",
       "      <td>0</td>\n",
       "      <td>0</td>\n",
       "      <td>0</td>\n",
       "      <td>1</td>\n",
       "      <td>0</td>\n",
       "      <td>0</td>\n",
       "      <td>0</td>\n",
       "      <td>0</td>\n",
       "      <td>0</td>\n",
       "      <td>0</td>\n",
       "      <td>0</td>\n",
       "      <td>0</td>\n",
       "      <td>0</td>\n",
       "      <td>0</td>\n",
       "      <td>0.1</td>\n",
       "      <td>0</td>\n",
       "      <td>2000.332375</td>\n",
       "      <td>1.0</td>\n",
       "      <td>1.0</td>\n",
       "      <td>1.0</td>\n",
       "      <td>4.0</td>\n",
       "      <td>1.0</td>\n",
       "      <td>1.0</td>\n",
       "      <td>both</td>\n",
       "      <td>both</td>\n",
       "      <td>NaN</td>\n",
       "      <td>NaN</td>\n",
       "      <td>NaN</td>\n",
       "      <td>NaN</td>\n",
       "      <td>NaN</td>\n",
       "      <td>NaN</td>\n",
       "      <td>NaN</td>\n",
       "      <td>NaN</td>\n",
       "      <td>left_only</td>\n",
       "      <td>0</td>\n",
       "      <td>1</td>\n",
       "      <td>2021</td>\n",
       "    </tr>\n",
       "    <tr>\n",
       "      <th>2</th>\n",
       "      <td>7566839</td>\n",
       "      <td>3</td>\n",
       "      <td>1</td>\n",
       "      <td>3</td>\n",
       "      <td>2</td>\n",
       "      <td>22</td>\n",
       "      <td>500.083094</td>\n",
       "      <td>1</td>\n",
       "      <td>2</td>\n",
       "      <td>NaN</td>\n",
       "      <td>NaN</td>\n",
       "      <td>NaN</td>\n",
       "      <td>NaN</td>\n",
       "      <td>1.0</td>\n",
       "      <td>2.0</td>\n",
       "      <td>7.0</td>\n",
       "      <td>1.0</td>\n",
       "      <td>NaN</td>\n",
       "      <td>NaN</td>\n",
       "      <td>NaN</td>\n",
       "      <td>1.0</td>\n",
       "      <td>NaN</td>\n",
       "      <td>NaN</td>\n",
       "      <td>NaN</td>\n",
       "      <td>NaN</td>\n",
       "      <td>TRATAMIENTO ESTETICOS Y COSMETOLOGICOS</td>\n",
       "      <td>NaN</td>\n",
       "      <td>2.0</td>\n",
       "      <td>NaN</td>\n",
       "      <td>NaN</td>\n",
       "      <td>NaN</td>\n",
       "      <td>NaN</td>\n",
       "      <td>20210939</td>\n",
       "      <td>1</td>\n",
       "      <td>1</td>\n",
       "      <td>3</td>\n",
       "      <td>1</td>\n",
       "      <td>1</td>\n",
       "      <td>500.083094</td>\n",
       "      <td>1</td>\n",
       "      <td>4</td>\n",
       "      <td>0</td>\n",
       "      <td>0</td>\n",
       "      <td>0</td>\n",
       "      <td>0</td>\n",
       "      <td>1</td>\n",
       "      <td>0</td>\n",
       "      <td>0</td>\n",
       "      <td>0</td>\n",
       "      <td>0</td>\n",
       "      <td>0</td>\n",
       "      <td>0</td>\n",
       "      <td>0</td>\n",
       "      <td>0</td>\n",
       "      <td>0</td>\n",
       "      <td>0</td>\n",
       "      <td>0.1</td>\n",
       "      <td>0</td>\n",
       "      <td>2000.332375</td>\n",
       "      <td>1.0</td>\n",
       "      <td>1.0</td>\n",
       "      <td>1.0</td>\n",
       "      <td>4.0</td>\n",
       "      <td>1.0</td>\n",
       "      <td>1.0</td>\n",
       "      <td>both</td>\n",
       "      <td>both</td>\n",
       "      <td>NaN</td>\n",
       "      <td>NaN</td>\n",
       "      <td>NaN</td>\n",
       "      <td>NaN</td>\n",
       "      <td>NaN</td>\n",
       "      <td>NaN</td>\n",
       "      <td>NaN</td>\n",
       "      <td>NaN</td>\n",
       "      <td>left_only</td>\n",
       "      <td>0</td>\n",
       "      <td>1</td>\n",
       "      <td>2021</td>\n",
       "    </tr>\n",
       "    <tr>\n",
       "      <th>3</th>\n",
       "      <td>7566839</td>\n",
       "      <td>4</td>\n",
       "      <td>1</td>\n",
       "      <td>4</td>\n",
       "      <td>1</td>\n",
       "      <td>21</td>\n",
       "      <td>500.083094</td>\n",
       "      <td>1</td>\n",
       "      <td>2</td>\n",
       "      <td>NaN</td>\n",
       "      <td>NaN</td>\n",
       "      <td>NaN</td>\n",
       "      <td>NaN</td>\n",
       "      <td>1.0</td>\n",
       "      <td>2.0</td>\n",
       "      <td>7.0</td>\n",
       "      <td>1.0</td>\n",
       "      <td>NaN</td>\n",
       "      <td>NaN</td>\n",
       "      <td>NaN</td>\n",
       "      <td>1.0</td>\n",
       "      <td>NaN</td>\n",
       "      <td>NaN</td>\n",
       "      <td>NaN</td>\n",
       "      <td>NaN</td>\n",
       "      <td>CALL CENTER</td>\n",
       "      <td>NaN</td>\n",
       "      <td>1.0</td>\n",
       "      <td>NaN</td>\n",
       "      <td>NaN</td>\n",
       "      <td>NaN</td>\n",
       "      <td>NaN</td>\n",
       "      <td>20210939</td>\n",
       "      <td>1</td>\n",
       "      <td>1</td>\n",
       "      <td>3</td>\n",
       "      <td>1</td>\n",
       "      <td>1</td>\n",
       "      <td>500.083094</td>\n",
       "      <td>1</td>\n",
       "      <td>4</td>\n",
       "      <td>0</td>\n",
       "      <td>0</td>\n",
       "      <td>0</td>\n",
       "      <td>0</td>\n",
       "      <td>1</td>\n",
       "      <td>0</td>\n",
       "      <td>0</td>\n",
       "      <td>0</td>\n",
       "      <td>0</td>\n",
       "      <td>0</td>\n",
       "      <td>0</td>\n",
       "      <td>0</td>\n",
       "      <td>0</td>\n",
       "      <td>0</td>\n",
       "      <td>0</td>\n",
       "      <td>0.1</td>\n",
       "      <td>0</td>\n",
       "      <td>2000.332375</td>\n",
       "      <td>1.0</td>\n",
       "      <td>1.0</td>\n",
       "      <td>1.0</td>\n",
       "      <td>4.0</td>\n",
       "      <td>1.0</td>\n",
       "      <td>1.0</td>\n",
       "      <td>both</td>\n",
       "      <td>both</td>\n",
       "      <td>NaN</td>\n",
       "      <td>NaN</td>\n",
       "      <td>NaN</td>\n",
       "      <td>NaN</td>\n",
       "      <td>NaN</td>\n",
       "      <td>NaN</td>\n",
       "      <td>NaN</td>\n",
       "      <td>NaN</td>\n",
       "      <td>left_only</td>\n",
       "      <td>0</td>\n",
       "      <td>1</td>\n",
       "      <td>2021</td>\n",
       "    </tr>\n",
       "    <tr>\n",
       "      <th>4</th>\n",
       "      <td>7566840</td>\n",
       "      <td>1</td>\n",
       "      <td>1</td>\n",
       "      <td>1</td>\n",
       "      <td>2</td>\n",
       "      <td>55</td>\n",
       "      <td>457.807486</td>\n",
       "      <td>1</td>\n",
       "      <td>2</td>\n",
       "      <td>NaN</td>\n",
       "      <td>NaN</td>\n",
       "      <td>NaN</td>\n",
       "      <td>NaN</td>\n",
       "      <td>1.0</td>\n",
       "      <td>2.0</td>\n",
       "      <td>5.0</td>\n",
       "      <td>11.0</td>\n",
       "      <td>NaN</td>\n",
       "      <td>NaN</td>\n",
       "      <td>NaN</td>\n",
       "      <td>1.0</td>\n",
       "      <td>NaN</td>\n",
       "      <td>NaN</td>\n",
       "      <td>NaN</td>\n",
       "      <td>NaN</td>\n",
       "      <td>OFICIOS DEL HOGAR</td>\n",
       "      <td>NaN</td>\n",
       "      <td>1.0</td>\n",
       "      <td>NaN</td>\n",
       "      <td>NaN</td>\n",
       "      <td>NaN</td>\n",
       "      <td>NaN</td>\n",
       "      <td>20210939</td>\n",
       "      <td>1</td>\n",
       "      <td>1</td>\n",
       "      <td>3</td>\n",
       "      <td>1</td>\n",
       "      <td>1</td>\n",
       "      <td>457.807486</td>\n",
       "      <td>1</td>\n",
       "      <td>3</td>\n",
       "      <td>0</td>\n",
       "      <td>0</td>\n",
       "      <td>0</td>\n",
       "      <td>0</td>\n",
       "      <td>1</td>\n",
       "      <td>0</td>\n",
       "      <td>0</td>\n",
       "      <td>0</td>\n",
       "      <td>0</td>\n",
       "      <td>0</td>\n",
       "      <td>0</td>\n",
       "      <td>0</td>\n",
       "      <td>0</td>\n",
       "      <td>0</td>\n",
       "      <td>0</td>\n",
       "      <td>0.1</td>\n",
       "      <td>0</td>\n",
       "      <td>1373.422459</td>\n",
       "      <td>1.0</td>\n",
       "      <td>1.0</td>\n",
       "      <td>1.0</td>\n",
       "      <td>4.0</td>\n",
       "      <td>1.0</td>\n",
       "      <td>1.0</td>\n",
       "      <td>both</td>\n",
       "      <td>both</td>\n",
       "      <td>NaN</td>\n",
       "      <td>NaN</td>\n",
       "      <td>NaN</td>\n",
       "      <td>NaN</td>\n",
       "      <td>NaN</td>\n",
       "      <td>NaN</td>\n",
       "      <td>NaN</td>\n",
       "      <td>NaN</td>\n",
       "      <td>left_only</td>\n",
       "      <td>0</td>\n",
       "      <td>1</td>\n",
       "      <td>2021</td>\n",
       "    </tr>\n",
       "  </tbody>\n",
       "</table>\n",
       "</div>"
      ],
      "text/plain": [
       "   DIRECTORIO  SECUENCIA_ENCUESTA_per  SECUENCIA_P  ORDEN  P6020  P6040  \\\n",
       "0     7566839                       1            1      1      2     70   \n",
       "1     7566839                       2            1      2      2     42   \n",
       "2     7566839                       3            1      3      2     22   \n",
       "3     7566839                       4            1      4      1     21   \n",
       "4     7566840                       1            1      1      2     55   \n",
       "\n",
       "        FEX_C  P6090  P5665  P8563  P51  P55  P774  P6160  P8586  P8587  \\\n",
       "0  500.083094      1      2    NaN  NaN  NaN   NaN    1.0    2.0    3.0   \n",
       "1  500.083094      1      2    NaN  NaN  NaN   NaN    1.0    2.0    6.0   \n",
       "2  500.083094      1      2    NaN  NaN  NaN   NaN    1.0    2.0    7.0   \n",
       "3  500.083094      1      2    NaN  NaN  NaN   NaN    1.0    2.0    7.0   \n",
       "4  457.807486      1      2    NaN  NaN  NaN   NaN    1.0    2.0    5.0   \n",
       "\n",
       "   P8587S1  P1088  P1088S1  P6180  P6240  P6250  P6260  P6270  P6351  \\\n",
       "0      3.0    NaN      NaN    NaN    1.0    NaN    NaN    NaN    NaN   \n",
       "1      2.0    NaN      NaN    NaN    1.0    NaN    NaN    NaN    NaN   \n",
       "2      1.0    NaN      NaN    NaN    1.0    NaN    NaN    NaN    NaN   \n",
       "3      1.0    NaN      NaN    NaN    1.0    NaN    NaN    NaN    NaN   \n",
       "4     11.0    NaN      NaN    NaN    1.0    NaN    NaN    NaN    NaN   \n",
       "\n",
       "                                    P6390  P7250  P6920  P3336S1  P3336S2  \\\n",
       "0       COMERCIALIZA PRODUCTOS DE BELLEZA    NaN    2.0      NaN      NaN   \n",
       "1       COMERCIALIZA PRODUCTOS DE BELLEZA    NaN    2.0      NaN      NaN   \n",
       "2  TRATAMIENTO ESTETICOS Y COSMETOLOGICOS    NaN    2.0      NaN      NaN   \n",
       "3                             CALL CENTER    NaN    1.0      NaN      NaN   \n",
       "4                       OFICIOS DEL HOGAR    NaN    1.0      NaN      NaN   \n",
       "\n",
       "   P3336S3  P3337   PERIODO  SECUENCIA_ENCUESTA_ph  SECUENCIA_P_h  P5010  \\\n",
       "0      NaN    NaN  20210939                      1              1      3   \n",
       "1      NaN    NaN  20210939                      1              1      3   \n",
       "2      NaN    NaN  20210939                      1              1      3   \n",
       "3      NaN    NaN  20210939                      1              1      3   \n",
       "4      NaN    NaN  20210939                      1              1      3   \n",
       "\n",
       "   P8526  P8530       fex_c  REGION  personas  paredes  pisos  alcantarillado  \\\n",
       "0      1      1  500.083094       1         4        0      0               0   \n",
       "1      1      1  500.083094       1         4        0      0               0   \n",
       "2      1      1  500.083094       1         4        0      0               0   \n",
       "3      1      1  500.083094       1         4        0      0               0   \n",
       "4      1      1  457.807486       1         3        0      0               0   \n",
       "\n",
       "   acueducto  empleo_formal  desempleo_larga_duracion  barreras_acceso_salud  \\\n",
       "0          0              1                         0                      0   \n",
       "1          0              1                         0                      0   \n",
       "2          0              1                         0                      0   \n",
       "3          0              1                         0                      0   \n",
       "4          0              1                         0                      0   \n",
       "\n",
       "   aseguramiento_salud  trabajo_infantil  atencion_integral  \\\n",
       "0                    0                 0                  0   \n",
       "1                    0                 0                  0   \n",
       "2                    0                 0                  0   \n",
       "3                    0                 0                  0   \n",
       "4                    0                 0                  0   \n",
       "\n",
       "   inasistencia_escolar  rezago_escolar  alfabetismo  logro_educativo  \\\n",
       "0                     0               0            0                0   \n",
       "1                     0               0            0                0   \n",
       "2                     0               0            0                0   \n",
       "3                     0               0            0                0   \n",
       "4                     0               0            0                0   \n",
       "\n",
       "   hacinamiento  ipm  pobre         fexp  SECUENCIA_P_viv   P3  P4005  P4015  \\\n",
       "0             0  0.1      0  2000.332375              1.0  1.0    1.0    4.0   \n",
       "1             0  0.1      0  2000.332375              1.0  1.0    1.0    4.0   \n",
       "2             0  0.1      0  2000.332375              1.0  1.0    1.0    4.0   \n",
       "3             0  0.1      0  2000.332375              1.0  1.0    1.0    4.0   \n",
       "4             0  0.1      0  1373.422459              1.0  1.0    1.0    4.0   \n",
       "\n",
       "   P8520S3  P8520S5 indicator_column indicator_column_2  directorio  \\\n",
       "0      1.0      1.0             both               both         NaN   \n",
       "1      1.0      1.0             both               both         NaN   \n",
       "2      1.0      1.0             both               both         NaN   \n",
       "3      1.0      1.0             both               both         NaN   \n",
       "4      1.0      1.0             both               both         NaN   \n",
       "\n",
       "   secuencia_encuesta  secuencia_p  orden  es_victima  es_desplazado  \\\n",
       "0                 NaN          NaN    NaN         NaN            NaN   \n",
       "1                 NaN          NaN    NaN         NaN            NaN   \n",
       "2                 NaN          NaN    NaN         NaN            NaN   \n",
       "3                 NaN          NaN    NaN         NaN            NaN   \n",
       "4                 NaN          NaN    NaN         NaN            NaN   \n",
       "\n",
       "   fex_c_victi  fex_c_des indicator_column_3  victima  no_victima  periodo  \n",
       "0          NaN        NaN          left_only        0           1     2021  \n",
       "1          NaN        NaN          left_only        0           1     2021  \n",
       "2          NaN        NaN          left_only        0           1     2021  \n",
       "3          NaN        NaN          left_only        0           1     2021  \n",
       "4          NaN        NaN          left_only        0           1     2021  "
      ]
     },
     "execution_count": 49,
     "metadata": {},
     "output_type": "execute_result"
    }
   ],
   "source": [
    "ipm_21_vhper_vic.head()"
   ]
  },
  {
   "cell_type": "code",
   "execution_count": 26,
   "metadata": {},
   "outputs": [
    {
     "data": {
      "text/plain": [
       "Index(['DIRECTORIO', 'SECUENCIA_ENCUESTA_per', 'SECUENCIA_P', 'ORDEN', 'P6020',\n",
       "       'P6040', 'FEX_C', 'P6090', 'P5665', 'P8563', 'P51', 'P55', 'P774',\n",
       "       'P6160', 'P8586', 'P8587', 'P8587S1', 'P1088', 'P1088S1', 'P6180',\n",
       "       'P6240', 'P6250', 'P6260', 'P6270', 'P6351', 'P6390', 'P7250', 'P6920',\n",
       "       'P3336S1', 'P3336S2', 'P3336S3', 'P3337', 'PERIODO',\n",
       "       'SECUENCIA_ENCUESTA_ph', 'SECUENCIA_P_h', 'P5010', 'P8526', 'P8530',\n",
       "       'fex_c', 'REGION', 'personas', 'paredes', 'pisos', 'alcantarillado',\n",
       "       'acueducto', 'empleo_formal', 'desempleo_larga_duracion',\n",
       "       'barreras_acceso_salud', 'aseguramiento_salud', 'trabajo_infantil',\n",
       "       'atencion_integral', 'inasistencia_escolar', 'rezago_escolar',\n",
       "       'alfabetismo', 'logro_educativo', 'hacinamiento', 'ipm', 'pobre',\n",
       "       'fexp', 'SECUENCIA_P_viv', 'P3', 'P4005', 'P4015', 'P8520S3', 'P8520S5',\n",
       "       'indicator_column', 'indicator_column_2', 'directorio',\n",
       "       'secuencia_encuesta', 'secuencia_p', 'orden', 'es_victima',\n",
       "       'es_desplazado', 'fex_c_victi', 'fex_c_des', 'indicator_column_3',\n",
       "       'victima', 'no_victima', 'periodo'],\n",
       "      dtype='object')"
      ]
     },
     "execution_count": 26,
     "metadata": {},
     "output_type": "execute_result"
    }
   ],
   "source": [
    "ipm_21_vhper_vic.columns"
   ]
  },
  {
   "cell_type": "code",
   "execution_count": 27,
   "metadata": {},
   "outputs": [
    {
     "name": "stdout",
     "output_type": "stream",
     "text": [
      "1    192868\n",
      "0     41128\n",
      "Name: no_victima, dtype: int64\n",
      "167578165.23853242\n",
      "38986448.10338339\n"
     ]
    }
   ],
   "source": [
    "## número de víctimas muestrales y expandidas\n",
    "print(ipm_21_vhper_vic[\"no_victima\"].value_counts())\n",
    "print((ipm_21_vhper_vic[\"no_victima\"] * ipm_21_vhper_vic[\"fexp\"]).sum())\n",
    "print((ipm_21_vhper_vic[\"pobre\"] * ipm_21_vhper_vic[\"fexp\"]).sum())"
   ]
  },
  {
   "cell_type": "markdown",
   "metadata": {},
   "source": [
    "##### IPM expandido población nacional"
   ]
  },
  {
   "cell_type": "code",
   "execution_count": 173,
   "metadata": {},
   "outputs": [
    {
     "name": "stdout",
     "output_type": "stream",
     "text": [
      "15.97\n"
     ]
    }
   ],
   "source": [
    "print(\n",
    "    round(\n",
    "    ((ipm_21_vhper_vic[\"pobre\"]* ipm_21_vhper_vic[\"FEX_C\"]).sum() / \n",
    "     (ipm_21_vhper_vic[\"FEX_C\"]).sum()*100),2))"
   ]
  },
  {
   "cell_type": "markdown",
   "metadata": {},
   "source": [
    "##### IPM expandido población víctima"
   ]
  },
  {
   "cell_type": "code",
   "execution_count": 174,
   "metadata": {},
   "outputs": [
    {
     "name": "stdout",
     "output_type": "stream",
     "text": [
      "24.41\n"
     ]
    }
   ],
   "source": [
    "print(\n",
    "    round(\n",
    "    ((ipm_21_vhper_vic[\"pobre\"]* ipm_21_vhper_vic[\"fex_c_victi\"]).sum() /\n",
    "      (ipm_21_vhper_vic[\"victima\"] * ipm_21_vhper_vic[\"fex_c_victi\"]).sum()*100),2))"
   ]
  },
  {
   "cell_type": "markdown",
   "metadata": {},
   "source": [
    "##### IPM expandido población víctima desplazamiento"
   ]
  },
  {
   "cell_type": "code",
   "execution_count": 175,
   "metadata": {},
   "outputs": [
    {
     "name": "stdout",
     "output_type": "stream",
     "text": [
      "25.03\n"
     ]
    }
   ],
   "source": [
    "print(\n",
    "    round(\n",
    "    ((ipm_21_vhper_vic[\"pobre\"]* ipm_21_vhper_vic[\"fex_c_des\"]).sum() /\n",
    "      (ipm_21_vhper_vic[\"es_desplazado\"] * ipm_21_vhper_vic[\"fex_c_des\"]).sum()*100),2))"
   ]
  },
  {
   "cell_type": "markdown",
   "metadata": {},
   "source": [
    "##### IPM expandido población no víctima"
   ]
  },
  {
   "cell_type": "code",
   "execution_count": 176,
   "metadata": {},
   "outputs": [
    {
     "name": "stdout",
     "output_type": "stream",
     "text": [
      "18.33\n"
     ]
    }
   ],
   "source": [
    "print(\n",
    "    round(\n",
    "    ((ipm_21_vhper_vic[\"pobre\"]* ipm_21_vhper_vic[\"FEX_C\"]).sum() /\n",
    "      (ipm_21_vhper_vic[\"no_victima\"] * ipm_21_vhper_vic[\"FEX_C\"]).sum()*100),2))"
   ]
  },
  {
   "cell_type": "markdown",
   "metadata": {},
   "source": [
    "## 2020"
   ]
  },
  {
   "cell_type": "code",
   "execution_count": 201,
   "metadata": {},
   "outputs": [],
   "source": [
    "#base 2020\n",
    "#víctimas nal\n",
    "ipm_20_v = pd.read_csv(\"C:/Users/ivan.corredor/DANE_IPM_ECV/2020/factores_victima_2020\")\n",
    "# viv nal\n",
    "ipm_20_viv = pd.read_csv(\"C:/Users/ivan.corredor/DANE_IPM_ECV/2020/viviendas_nal_2020.csv\", sep=\";\", decimal= \",\")\n",
    "# hog nal\n",
    "ipm_20_h = pd.read_csv(\"C:/Users/ivan.corredor/DANE_IPM_ECV/2020/hogares_nal_2020.csv\", sep=\";\", decimal= \",\")\n",
    "# per nal\n",
    "ipm_20_p = pd.read_csv(\"C:/Users/ivan.corredor/DANE_IPM_ECV/2020/personas_nal_2020.csv\", sep=\";\", decimal= \",\")"
   ]
  },
  {
   "cell_type": "code",
   "execution_count": 203,
   "metadata": {},
   "outputs": [],
   "source": [
    "#Cruce vivienda hogares\n",
    "ipm_20_vh_merge = pd.merge(left=ipm_20_h, right=ipm_20_viv, left_on=['DIRECTORIO', 'SECUENCIA_ENCUESTA'], \n",
    "                        right_on=['DIRECTORIO', 'SECUENCIA_ENCUESTA'], how='left', sort=False, validate='m:1', \n",
    "                        suffixes=(\"_h\", \"_viv\"), indicator = 'indicator_column')"
   ]
  },
  {
   "cell_type": "code",
   "execution_count": 204,
   "metadata": {},
   "outputs": [],
   "source": [
    "#cruce vivienda_hogares con personas\n",
    "ipm_20_vhper = pd.merge(left=ipm_20_p, right=ipm_20_vh_merge, left_on=['DIRECTORIO', \"SECUENCIA_P\"], \n",
    "                        right_on=['DIRECTORIO', \"SECUENCIA_ENCUESTA\"], how='left', sort=False, validate='m:1', \n",
    "                        suffixes=(\"_per\", \"_ph\"), indicator = 'indicator_column_2')"
   ]
  },
  {
   "cell_type": "code",
   "execution_count": 282,
   "metadata": {},
   "outputs": [
    {
     "data": {
      "text/plain": [
       "Index(['DIRECTORIO', 'SECUENCIA_ENCUESTA_per', 'SECUENCIA_P', 'ORDEN', 'P6020',\n",
       "       'P6040', 'fex_c_per', 'P6051', 'P6090', 'P5665', 'P8563', 'P51', 'P55',\n",
       "       'P774', 'P6160', 'P8586', 'P8587', 'P8587S1', 'P1088', 'P1088S1',\n",
       "       'P6180', 'P6240', 'P6250', 'P6260', 'P6270', 'P6351', 'P6390', 'P7250',\n",
       "       'P6920', 'PERIODO', 'SECUENCIA_ENCUESTA_ph', 'SECUENCIA_P_h', 'P5010',\n",
       "       'P8526', 'P8530', 'fex_c_ph', 'REGION', 'personas', 'paredes', 'pisos',\n",
       "       'alcantarillado', 'acueducto', 'empleo_formal',\n",
       "       'desempleo_larga_duracion', 'barreras_acceso_salud',\n",
       "       'aseguramiento_salud', 'trabajo_infantil', 'atencion_integral',\n",
       "       'inasistencia_escolar', 'rezago_escolar', 'alfabetismo',\n",
       "       'logro_educativo', 'hacinamiento', 'ipm', 'pobre', 'fexp',\n",
       "       'SECUENCIA_P_viv', 'P3', 'P4005', 'P4015', 'P8520S3', 'P8520S5',\n",
       "       'indicator_column', 'indicator_column_2'],\n",
       "      dtype='object')"
      ]
     },
     "execution_count": 282,
     "metadata": {},
     "output_type": "execute_result"
    }
   ],
   "source": [
    "ipm_20_vhper.columns"
   ]
  },
  {
   "cell_type": "code",
   "execution_count": 299,
   "metadata": {},
   "outputs": [],
   "source": [
    "#cruce vivienda_hogares_personas con víctimas\n",
    "ipm_20_vhper_vic = pd.merge(left=ipm_20_vhper, right=ipm_20_v, left_on=['DIRECTORIO', \"SECUENCIA_P\",\n",
    "                                                                        'ORDEN'], \n",
    "                        right_on=['directorio',  'secuencia_p','orden'], how='left',\n",
    "                            sort=False, validate='1:1', suffixes=(\"_vhper\", \"_vic\"), indicator = 'indicator_column_3')"
   ]
  },
  {
   "cell_type": "code",
   "execution_count": 300,
   "metadata": {
    "scrolled": true
   },
   "outputs": [
    {
     "data": {
      "text/plain": [
       "1.0    41655\n",
       "Name: es_victima, dtype: int64"
      ]
     },
     "execution_count": 300,
     "metadata": {},
     "output_type": "execute_result"
    }
   ],
   "source": [
    "ipm_20_vhper_vic[\"es_victima\"].value_counts()"
   ]
  },
  {
   "cell_type": "code",
   "execution_count": 301,
   "metadata": {
    "scrolled": true
   },
   "outputs": [],
   "source": [
    "pd.options.display.max_columns = None"
   ]
  },
  {
   "cell_type": "code",
   "execution_count": 302,
   "metadata": {},
   "outputs": [],
   "source": [
    "##rellenar variable víctima\n",
    "def vic(df):\n",
    "    if df[\"es_victima\"]==1:\n",
    "        x = 1\n",
    "    else:\n",
    "        x= 0\n",
    "    return(x)"
   ]
  },
  {
   "cell_type": "code",
   "execution_count": 303,
   "metadata": {},
   "outputs": [],
   "source": [
    "##crear variable no víctima\n",
    "ipm_20_vhper_vic[\"victima\"] = ipm_20_vhper_vic.apply(vic, axis = 1)"
   ]
  },
  {
   "cell_type": "code",
   "execution_count": 304,
   "metadata": {},
   "outputs": [
    {
     "data": {
      "text/plain": [
       "0    200074\n",
       "1     41655\n",
       "Name: victima, dtype: int64"
      ]
     },
     "execution_count": 304,
     "metadata": {},
     "output_type": "execute_result"
    }
   ],
   "source": [
    "#frencuencia de var victima\n",
    "ipm_20_vhper_vic[\"victima\"].value_counts()"
   ]
  },
  {
   "cell_type": "code",
   "execution_count": 305,
   "metadata": {},
   "outputs": [],
   "source": [
    "##crear variable no víctima\n",
    "def novic(df):\n",
    "    if df[\"es_victima\"]!=1:\n",
    "        x = 1\n",
    "    else:\n",
    "        x= 0\n",
    "    return(x)"
   ]
  },
  {
   "cell_type": "code",
   "execution_count": 306,
   "metadata": {},
   "outputs": [],
   "source": [
    "##crear variable no víctima\n",
    "ipm_20_vhper_vic[\"no_victima\"] = ipm_20_vhper_vic.apply(novic, axis = 1)"
   ]
  },
  {
   "cell_type": "code",
   "execution_count": 307,
   "metadata": {
    "scrolled": false
   },
   "outputs": [
    {
     "data": {
      "text/plain": [
       "1    200074\n",
       "0     41655\n",
       "Name: no_victima, dtype: int64"
      ]
     },
     "execution_count": 307,
     "metadata": {},
     "output_type": "execute_result"
    }
   ],
   "source": [
    "#frencuencia de var no_victima\n",
    "ipm_20_vhper_vic[\"no_victima\"].value_counts()"
   ]
  },
  {
   "cell_type": "code",
   "execution_count": 308,
   "metadata": {},
   "outputs": [],
   "source": [
    "##renombrar variables\n",
    "ipm_20_vhper_vic.rename(columns = {\"p6020\":\"sexo\", \"p6040\":\"edad\"}, inplace = True)"
   ]
  },
  {
   "cell_type": "code",
   "execution_count": 309,
   "metadata": {},
   "outputs": [],
   "source": [
    "#crear variable de año \n",
    "ipm_20_vhper_vic[\"periodo\"] = 2020"
   ]
  },
  {
   "cell_type": "code",
   "execution_count": 310,
   "metadata": {},
   "outputs": [],
   "source": [
    "#export\n",
    "#ipm_20_vhper_vic.to_csv(\"C:/Users/ivan.corredor/DANE_IPM_ECV/2020/Victimas_IPM_2020.csv\", sep=\";\")"
   ]
  },
  {
   "cell_type": "code",
   "execution_count": 311,
   "metadata": {
    "scrolled": true
   },
   "outputs": [
    {
     "data": {
      "text/plain": [
       "Index(['DIRECTORIO', 'SECUENCIA_ENCUESTA_per', 'SECUENCIA_P', 'ORDEN', 'P6020',\n",
       "       'P6040', 'fex_c_per', 'P6051', 'P6090', 'P5665', 'P8563', 'P51', 'P55',\n",
       "       'P774', 'P6160', 'P8586', 'P8587', 'P8587S1', 'P1088', 'P1088S1',\n",
       "       'P6180', 'P6240', 'P6250', 'P6260', 'P6270', 'P6351', 'P6390', 'P7250',\n",
       "       'P6920', 'PERIODO', 'SECUENCIA_ENCUESTA_ph', 'SECUENCIA_P_h', 'P5010',\n",
       "       'P8526', 'P8530', 'fex_c_ph', 'REGION', 'personas', 'paredes', 'pisos',\n",
       "       'alcantarillado', 'acueducto', 'empleo_formal',\n",
       "       'desempleo_larga_duracion', 'barreras_acceso_salud',\n",
       "       'aseguramiento_salud', 'trabajo_infantil', 'atencion_integral',\n",
       "       'inasistencia_escolar', 'rezago_escolar', 'alfabetismo',\n",
       "       'logro_educativo', 'hacinamiento', 'ipm', 'pobre', 'fexp',\n",
       "       'SECUENCIA_P_viv', 'P3', 'P4005', 'P4015', 'P8520S3', 'P8520S5',\n",
       "       'indicator_column', 'indicator_column_2', 'directorio',\n",
       "       'secuencia_encuesta', 'secuencia_p', 'orden', 'es_victima',\n",
       "       'es_desplazado', 'fex_c_victi', 'fex_c_des', 'indicator_column_3',\n",
       "       'victima', 'no_victima', 'periodo'],\n",
       "      dtype='object')"
      ]
     },
     "execution_count": 311,
     "metadata": {},
     "output_type": "execute_result"
    }
   ],
   "source": [
    "ipm_20_vhper_vic.columns"
   ]
  },
  {
   "cell_type": "markdown",
   "metadata": {},
   "source": [
    "##### IPM expandido población nacional"
   ]
  },
  {
   "cell_type": "code",
   "execution_count": 312,
   "metadata": {},
   "outputs": [
    {
     "name": "stdout",
     "output_type": "stream",
     "text": [
      "18.11\n"
     ]
    }
   ],
   "source": [
    "print(\n",
    "    round(\n",
    "    ((ipm_20_vhper_vic[\"pobre\"]* ipm_20_vhper_vic['fex_c_per']).sum() / \n",
    "     (ipm_20_vhper_vic['fex_c_per']).sum()*100),2))"
   ]
  },
  {
   "cell_type": "markdown",
   "metadata": {},
   "source": [
    "##### IPM expandido población víctima"
   ]
  },
  {
   "cell_type": "code",
   "execution_count": 313,
   "metadata": {},
   "outputs": [
    {
     "name": "stdout",
     "output_type": "stream",
     "text": [
      "30.3\n"
     ]
    }
   ],
   "source": [
    "print(\n",
    "    round(\n",
    "    ((ipm_20_vhper_vic[\"pobre\"]* ipm_20_vhper_vic[\"fex_c_victi\"]).sum() /\n",
    "      (ipm_20_vhper_vic[\"victima\"] * ipm_20_vhper_vic[\"fex_c_victi\"]).sum()*100),1))"
   ]
  },
  {
   "cell_type": "code",
   "execution_count": 314,
   "metadata": {},
   "outputs": [
    {
     "name": "stdout",
     "output_type": "stream",
     "text": [
      "21.5\n"
     ]
    }
   ],
   "source": [
    "#cabecera\n",
    "cab_20 = ipm_20_vhper_vic[ipm_20_vhper_vic[\"P3\"].isin([1])]\n",
    "print(\n",
    "    round(\n",
    "    ((cab_20[\"pobre\"]* cab_20['fex_c_victi']).sum() /\n",
    "      (cab_20['fex_c_victi']).sum()*100),1))"
   ]
  },
  {
   "cell_type": "code",
   "execution_count": 315,
   "metadata": {},
   "outputs": [
    {
     "name": "stdout",
     "output_type": "stream",
     "text": [
      "45.7\n"
     ]
    }
   ],
   "source": [
    "#centro y rural\n",
    "c_r_20 = ipm_20_vhper_vic[ipm_20_vhper_vic[\"P3\"].isin([2,3])]\n",
    "print(\n",
    "    round(\n",
    "    ((c_r_20[\"pobre\"]* c_r_20['fex_c_victi']).sum() /\n",
    "      (c_r_20['fex_c_victi']).sum()*100),1))\n"
   ]
  },
  {
   "cell_type": "markdown",
   "metadata": {},
   "source": [
    "##### IPM expandido población víctima desplazamiento"
   ]
  },
  {
   "cell_type": "code",
   "execution_count": 316,
   "metadata": {
    "scrolled": true
   },
   "outputs": [
    {
     "name": "stdout",
     "output_type": "stream",
     "text": [
      "31.3\n"
     ]
    }
   ],
   "source": [
    "print(\n",
    "    round(\n",
    "    ((ipm_20_vhper_vic[\"pobre\"]* ipm_20_vhper_vic['fex_c_des']).sum() /\n",
    "      (ipm_20_vhper_vic['es_desplazado'] * ipm_20_vhper_vic['fex_c_des']).sum()*100),1))"
   ]
  },
  {
   "cell_type": "code",
   "execution_count": 297,
   "metadata": {},
   "outputs": [
    {
     "name": "stdout",
     "output_type": "stream",
     "text": [
      "46.3\n"
     ]
    }
   ],
   "source": [
    "#centro y rural\n",
    "print(\n",
    "    round(\n",
    "    ((c_r_20[\"pobre\"]* c_r_20['fex_c_des']).sum() /\n",
    "      (c_r_20['fex_c_des']).sum()*100),1))"
   ]
  },
  {
   "cell_type": "code",
   "execution_count": 298,
   "metadata": {},
   "outputs": [
    {
     "name": "stdout",
     "output_type": "stream",
     "text": [
      "22.4\n"
     ]
    }
   ],
   "source": [
    "print(\n",
    "    round(\n",
    "    ((cab_20[\"pobre\"]* cab_20['fex_c_des']).sum() /\n",
    "      (cab_20['fex_c_des']).sum()*100),1))"
   ]
  },
  {
   "cell_type": "markdown",
   "metadata": {},
   "source": [
    "##### IPM expandido población no víctima"
   ]
  },
  {
   "cell_type": "code",
   "execution_count": 215,
   "metadata": {},
   "outputs": [
    {
     "name": "stdout",
     "output_type": "stream",
     "text": [
      "20.71\n"
     ]
    }
   ],
   "source": [
    "print(\n",
    "    round(\n",
    "    ((ipm_20_vhper_vic[\"pobre\"]* ipm_20_vhper_vic[\"fex_c_per\"]).sum() /\n",
    "      (ipm_20_vhper_vic[\"no_victima\"] * ipm_20_vhper_vic[\"fex_c_per\"]).sum()*100),2))"
   ]
  },
  {
   "cell_type": "markdown",
   "metadata": {},
   "source": [
    "## 2019"
   ]
  },
  {
   "cell_type": "code",
   "execution_count": 227,
   "metadata": {},
   "outputs": [],
   "source": [
    "#base 1919\n",
    "#víctimas nal\n",
    "ipm_19_v = pd.read_csv(\"C:/Users/ivan.corredor/DANE_IPM_ECV/2019/factores_victima_2019\")\n",
    "# viv nal\n",
    "ipm_19_viv = pd.read_csv(\"C:/Users/ivan.corredor/DANE_IPM_ECV/2019/viviendas_nal_2019.csv\", sep=\";\", decimal= \",\")\n",
    "# hog nal\n",
    "ipm_19_h = pd.read_csv(\"C:/Users/ivan.corredor/DANE_IPM_ECV/2019/hogares_nal_2019.csv\", sep=\";\", decimal= \",\")\n",
    "# per nal\n",
    "ipm_19_p = pd.read_csv(\"C:/Users/ivan.corredor/DANE_IPM_ECV/2019/personas_nal_2019.csv\", sep=\";\", decimal= \",\")"
   ]
  },
  {
   "cell_type": "code",
   "execution_count": 228,
   "metadata": {},
   "outputs": [],
   "source": [
    "#Cruce vivienda hogares\n",
    "ipm_19_vh_merge = pd.merge(left=ipm_19_h, right=ipm_19_viv, left_on=['DIRECTORIO', 'SECUENCIA_ENCUESTA'], \n",
    "                        right_on=['DIRECTORIO', 'SECUENCIA_ENCUESTA'], how='left', sort=False, validate='m:1', \n",
    "                        suffixes=(\"_h\", \"_viv\"), indicator = 'indicator_column')"
   ]
  },
  {
   "cell_type": "code",
   "execution_count": 229,
   "metadata": {},
   "outputs": [],
   "source": [
    "#cruce vivienda_hogares con personas\n",
    "ipm_19_vhper = pd.merge(left=ipm_19_p, right=ipm_19_vh_merge, left_on=['DIRECTORIO', \"SECUENCIA_P\"], \n",
    "                        right_on=['DIRECTORIO', \"SECUENCIA_ENCUESTA\"], how='left', sort=False, validate='m:1', \n",
    "                        suffixes=(\"_per\", \"_ph\"), indicator = 'indicator_column_2')"
   ]
  },
  {
   "cell_type": "code",
   "execution_count": 230,
   "metadata": {},
   "outputs": [],
   "source": [
    "#cruce vivienda_hogares_personas con víctimas\n",
    "ipm_19_vhper_vic = pd.merge(left=ipm_19_vhper, right=ipm_19_v, left_on=['DIRECTORIO', \"SECUENCIA_P\", 'ORDEN'], \n",
    "                        right_on=['directorio', 'secuencia_p','orden'], how='left',\n",
    "                            sort=False, validate='1:1', suffixes=(\"_vhper\", \"_vic\"), indicator = 'indicator_column_3')"
   ]
  },
  {
   "cell_type": "code",
   "execution_count": 231,
   "metadata": {},
   "outputs": [
    {
     "data": {
      "text/plain": [
       "1.0    45149\n",
       "Name: es_victima, dtype: int64"
      ]
     },
     "execution_count": 231,
     "metadata": {},
     "output_type": "execute_result"
    }
   ],
   "source": [
    "ipm_19_vhper_vic[\"es_victima\"].value_counts()"
   ]
  },
  {
   "cell_type": "code",
   "execution_count": 232,
   "metadata": {
    "scrolled": true
   },
   "outputs": [],
   "source": [
    "pd.options.display.max_columns = None"
   ]
  },
  {
   "cell_type": "code",
   "execution_count": 233,
   "metadata": {},
   "outputs": [],
   "source": [
    "##rellenar variable víctima\n",
    "def vic(df):\n",
    "    if df[\"es_victima\"]==1:\n",
    "        x = 1\n",
    "    else:\n",
    "        x= 0\n",
    "    return(x)"
   ]
  },
  {
   "cell_type": "code",
   "execution_count": 234,
   "metadata": {},
   "outputs": [],
   "source": [
    "##crear variable no víctima\n",
    "ipm_19_vhper_vic[\"victima\"] = ipm_19_vhper_vic.apply(vic, axis = 1)"
   ]
  },
  {
   "cell_type": "code",
   "execution_count": 235,
   "metadata": {},
   "outputs": [
    {
     "data": {
      "text/plain": [
       "0    218664\n",
       "1     45149\n",
       "Name: victima, dtype: int64"
      ]
     },
     "execution_count": 235,
     "metadata": {},
     "output_type": "execute_result"
    }
   ],
   "source": [
    "#frencuencia de var victima\n",
    "ipm_19_vhper_vic[\"victima\"].value_counts()"
   ]
  },
  {
   "cell_type": "code",
   "execution_count": 236,
   "metadata": {},
   "outputs": [],
   "source": [
    "##crear variable no víctima\n",
    "def novic(df):\n",
    "    if df[\"es_victima\"]!=1:\n",
    "        x = 1\n",
    "    else:\n",
    "        x= 0\n",
    "    return(x)"
   ]
  },
  {
   "cell_type": "code",
   "execution_count": 237,
   "metadata": {},
   "outputs": [],
   "source": [
    "##crear variable no víctima\n",
    "ipm_19_vhper_vic[\"no_victima\"] = ipm_19_vhper_vic.apply(novic, axis = 1)"
   ]
  },
  {
   "cell_type": "code",
   "execution_count": 240,
   "metadata": {
    "scrolled": false
   },
   "outputs": [
    {
     "data": {
      "text/plain": [
       "1    218664\n",
       "0     45149\n",
       "Name: no_victima, dtype: int64"
      ]
     },
     "execution_count": 240,
     "metadata": {},
     "output_type": "execute_result"
    }
   ],
   "source": [
    "#frencuencia de var no_victima\n",
    "ipm_19_vhper_vic[\"no_victima\"].value_counts()"
   ]
  },
  {
   "cell_type": "code",
   "execution_count": 241,
   "metadata": {},
   "outputs": [],
   "source": [
    "##renombrar variables\n",
    "ipm_19_vhper_vic.rename(columns = {\"p6020\":\"sexo\", \"p6040\":\"edad\"}, inplace = True)"
   ]
  },
  {
   "cell_type": "code",
   "execution_count": 242,
   "metadata": {},
   "outputs": [],
   "source": [
    "#crear variable de año \n",
    "ipm_19_vhper_vic[\"periodo\"] = 2019"
   ]
  },
  {
   "cell_type": "code",
   "execution_count": 141,
   "metadata": {},
   "outputs": [],
   "source": [
    "#export\n",
    "#ipm_20_vhper_vic.to_csv(\"C:/Users/ivan.corredor/DANE_IPM_ECV/2020/Victimas_IPM_2020.csv\", sep=\";\")"
   ]
  },
  {
   "cell_type": "code",
   "execution_count": 243,
   "metadata": {
    "scrolled": true
   },
   "outputs": [
    {
     "data": {
      "text/plain": [
       "Index(['DIRECTORIO', 'SECUENCIA_ENCUESTA_per', 'SECUENCIA_P', 'ORDEN', 'P6020',\n",
       "       'P6040', 'fex_c_per', 'P6051', 'P6090', 'P5665', 'P8563', 'P51', 'P55',\n",
       "       'P774', 'P6160', 'P8586', 'P8587', 'P8587S1', 'P1088', 'P1088S1',\n",
       "       'P6180', 'P6240', 'P6250', 'P6260', 'P6270', 'P6351', 'P6390S1',\n",
       "       'P7250', 'P6920', 'PERIODO', 'SECUENCIA_ENCUESTA_ph', 'SECUENCIA_P_h',\n",
       "       'P5010', 'P8526', 'P8530', 'fex_c_ph', 'REGION', 'personas', 'paredes',\n",
       "       'pisos', 'alcantarillado', 'acueducto', 'empleo_formal',\n",
       "       'desempleo_larga_duracion', 'barreras_acceso_salud',\n",
       "       'aseguramiento_salud', 'trabajo_infantil', 'atencion_integral',\n",
       "       'inasistencia_escolar', 'rezago_escolar', 'alfabetismo',\n",
       "       'logro_educativo', 'hacinamiento', 'ipm', 'pobre', 'fexp',\n",
       "       'SECUENCIA_P_viv', 'P3', 'P4005', 'P4015', 'P8520S3', 'P8520S5',\n",
       "       'indicator_column', 'indicator_column_2', 'directorio',\n",
       "       'secuencia_encuesta', 'secuencia_p', 'orden', 'es_victima',\n",
       "       'es_desplazado', 'fex_c_victi', 'fex_c_des', 'indicator_column_3',\n",
       "       'victima', 'no_victima', 'periodo'],\n",
       "      dtype='object')"
      ]
     },
     "execution_count": 243,
     "metadata": {},
     "output_type": "execute_result"
    }
   ],
   "source": [
    "ipm_19_vhper_vic.columns"
   ]
  },
  {
   "cell_type": "markdown",
   "metadata": {},
   "source": [
    "##### IPM expandido población nacional"
   ]
  },
  {
   "cell_type": "code",
   "execution_count": 252,
   "metadata": {},
   "outputs": [
    {
     "name": "stdout",
     "output_type": "stream",
     "text": [
      "17.45\n"
     ]
    }
   ],
   "source": [
    "print(\n",
    "    round(\n",
    "    ((ipm_19_vhper_vic[\"pobre\"]* ipm_19_vhper_vic['fex_c_per']).sum() / \n",
    "     (ipm_19_vhper_vic['fex_c_per']).sum()*100),2))"
   ]
  },
  {
   "cell_type": "markdown",
   "metadata": {},
   "source": [
    "##### IPM expandido población víctima"
   ]
  },
  {
   "cell_type": "code",
   "execution_count": 277,
   "metadata": {},
   "outputs": [
    {
     "name": "stdout",
     "output_type": "stream",
     "text": [
      "26.87\n"
     ]
    }
   ],
   "source": [
    "print(\n",
    "    round(\n",
    "    ((ipm_19_vhper_vic[\"pobre\"]* ipm_19_vhper_vic[\"fex_c_victi\"]).sum() /\n",
    "      (ipm_19_vhper_vic[\"victima\"] * ipm_19_vhper_vic[\"fex_c_victi\"]).sum()*100),2))"
   ]
  },
  {
   "cell_type": "code",
   "execution_count": 274,
   "metadata": {},
   "outputs": [
    {
     "name": "stdout",
     "output_type": "stream",
     "text": [
      "21.95\n"
     ]
    }
   ],
   "source": [
    "#cabecera\n",
    "cab_19 = ipm_19_vhper_vic[ipm_19_vhper_vic[\"P3\"].isin([1])]\n",
    "print(\n",
    "    round(\n",
    "    ((cab_19[\"pobre\"]* cab_19['fex_c_victi']).sum() /\n",
    "      (cab_19['victima'] * cab_19['fex_c_victi']).sum()*100),2))"
   ]
  },
  {
   "cell_type": "code",
   "execution_count": 272,
   "metadata": {},
   "outputs": [
    {
     "name": "stdout",
     "output_type": "stream",
     "text": [
      "37.4\n"
     ]
    }
   ],
   "source": [
    "#centro y rural\n",
    "c_r_19 = ipm_19_vhper_vic[ipm_19_vhper_vic[\"P3\"].isin([2,3])]\n",
    "print(\n",
    "    round(\n",
    "    ((c_r_19[\"pobre\"]* c_r_19['fex_c_victi']).sum() /\n",
    "      (c_r_19['victima']* c_r_19['fex_c_victi']).sum()*100),1))\n"
   ]
  },
  {
   "cell_type": "markdown",
   "metadata": {},
   "source": [
    "##### IPM expandido población víctima desplazamiento"
   ]
  },
  {
   "cell_type": "code",
   "execution_count": 248,
   "metadata": {},
   "outputs": [
    {
     "name": "stdout",
     "output_type": "stream",
     "text": [
      "27.532\n"
     ]
    }
   ],
   "source": [
    "print(\n",
    "    round(\n",
    "    ((ipm_19_vhper_vic[\"pobre\"]* ipm_19_vhper_vic['fex_c_des']).sum() /\n",
    "      (ipm_19_vhper_vic['es_desplazado'] * ipm_19_vhper_vic['fex_c_des']).sum()*100),3))"
   ]
  },
  {
   "cell_type": "markdown",
   "metadata": {},
   "source": [
    "##### IPM expandido población no víctima"
   ]
  },
  {
   "cell_type": "code",
   "execution_count": 247,
   "metadata": {},
   "outputs": [
    {
     "name": "stdout",
     "output_type": "stream",
     "text": [
      "19.95\n"
     ]
    }
   ],
   "source": [
    "print(\n",
    "    round(\n",
    "    ((ipm_19_vhper_vic[\"pobre\"]* ipm_19_vhper_vic[\"fex_c_per\"]).sum() /\n",
    "      (ipm_19_vhper_vic[\"no_victima\"] * ipm_19_vhper_vic[\"fex_c_per\"]).sum()*100),2))"
   ]
  },
  {
   "cell_type": "markdown",
   "metadata": {},
   "source": [
    "## Nacional 2019, 2020, 2021"
   ]
  },
  {
   "cell_type": "code",
   "execution_count": 408,
   "metadata": {},
   "outputs": [],
   "source": [
    "# selección de variables\n",
    "var19 = list(ipm_19_vhper_vic.columns)"
   ]
  },
  {
   "cell_type": "code",
   "execution_count": 407,
   "metadata": {},
   "outputs": [],
   "source": [
    "var20 = list(ipm_20_vhper_vic.columns)"
   ]
  },
  {
   "cell_type": "code",
   "execution_count": 406,
   "metadata": {},
   "outputs": [],
   "source": [
    "var21 = list(ipm_21_vhper_vic.columns)"
   ]
  },
  {
   "cell_type": "code",
   "execution_count": 405,
   "metadata": {},
   "outputs": [
    {
     "name": "stdout",
     "output_type": "stream",
     "text": [
      "75 75 79\n"
     ]
    }
   ],
   "source": [
    "print(len(var19), len(var20), len(var21))"
   ]
  },
  {
   "cell_type": "code",
   "execution_count": 325,
   "metadata": {},
   "outputs": [
    {
     "name": "stdout",
     "output_type": "stream",
     "text": [
      "Common elements: {'directorio', 'P1088S1', 'P8587S1', 'P6920', 'REGION', 'personas', 'fex_c_per', 'P6020', 'P8530', 'rezago_escolar', 'barreras_acceso_salud', 'no_victima', 'es_desplazado', 'P774', 'pobre', 'aseguramiento_salud', 'P6270', 'desempleo_larga_duracion', 'indicator_column_3', 'indicator_column_2', 'periodo', 'logro_educativo', 'fex_c_ph', 'secuencia_encuesta', 'ipm', 'orden', 'SECUENCIA_P', 'SECUENCIA_P_h', 'pisos', 'P6090', 'P6240', 'indicator_column', 'P7250', 'acueducto', 'SECUENCIA_ENCUESTA_per', 'P1088', 'P6051', 'hacinamiento', 'alcantarillado', 'P4005', 'P6180', 'fexp', 'P8520S3', 'P6250', 'P5010', 'P8587', 'P6351', 'P6160', 'SECUENCIA_ENCUESTA_ph', 'DIRECTORIO', 'SECUENCIA_P_viv', 'secuencia_p', 'P8526', 'PERIODO', 'empleo_formal', 'ORDEN', 'atencion_integral', 'inasistencia_escolar', 'P3', 'victima', 'P6040', 'alfabetismo', 'P8586', 'P5665', 'fex_c_des', 'fex_c_victi', 'P8520S5', 'P4015', 'trabajo_infantil', 'es_victima', 'P55', 'paredes', 'P51', 'P6260', 'P8563'}\n"
     ]
    }
   ],
   "source": [
    "##idenficar los elementos iguales\n",
    "common_elements = set(var19).intersection(set(var20))\n",
    "print(\"Common elements:\", common_elements)"
   ]
  },
  {
   "cell_type": "code",
   "execution_count": 386,
   "metadata": {},
   "outputs": [
    {
     "name": "stdout",
     "output_type": "stream",
     "text": [
      "Distinct elements in var19: set()\n"
     ]
    }
   ],
   "source": [
    "##idenficar los elementos distintos 19-20\n",
    "distinct_var19 = set(var19).difference(set(var20))\n",
    "print(\"Distinct elements in var19:\", distinct_var19)"
   ]
  },
  {
   "cell_type": "code",
   "execution_count": 337,
   "metadata": {},
   "outputs": [],
   "source": [
    "#renombrar variable\n",
    "ipm_19_vhper_vic.rename(columns= {'P6390S1':'P6390'}, inplace=True)"
   ]
  },
  {
   "cell_type": "code",
   "execution_count": 340,
   "metadata": {},
   "outputs": [
    {
     "name": "stdout",
     "output_type": "stream",
     "text": [
      "Distinct elements in var19: set()\n"
     ]
    }
   ],
   "source": [
    "##idenficar los elementos distintos 19-20\n",
    "distinct_var19 = set(var19).difference(set(var20))\n",
    "print(\"Distinct elements in var19:\", distinct_var19)"
   ]
  },
  {
   "cell_type": "code",
   "execution_count": 353,
   "metadata": {
    "scrolled": true
   },
   "outputs": [
    {
     "name": "stdout",
     "output_type": "stream",
     "text": [
      "Distinct elements in var19: {'fex_c_per', 'fex_c_ph', 'P6051'}\n"
     ]
    }
   ],
   "source": [
    "##idenficar los elementos distintos 19-21\n",
    "distinct_var19 = set(var19).difference(set(var21))\n",
    "print(\"Distinct elements in var19:\", distinct_var19)"
   ]
  },
  {
   "cell_type": "code",
   "execution_count": 352,
   "metadata": {},
   "outputs": [],
   "source": [
    "#borrar variable parentesco p6051 ya que no viene en la base de personas de 2021\n",
    "ipm_19_vhper_vic.drop(columns =\"P6051\", inplace =True)\n",
    "ipm_20_vhper_vic.drop(columns =\"P6051\", inplace =True)"
   ]
  },
  {
   "cell_type": "code",
   "execution_count": 357,
   "metadata": {
    "scrolled": true
   },
   "outputs": [
    {
     "name": "stdout",
     "output_type": "stream",
     "text": [
      "Distinct elements in var19: {'fex_c_per', 'fex_c_ph'}\n"
     ]
    }
   ],
   "source": [
    "##idenficar los elementos distintos 19-21\n",
    "distinct_var19 = set(var19).difference(set(var21))\n",
    "print(\"Distinct elements in var19:\", distinct_var19)"
   ]
  },
  {
   "cell_type": "code",
   "execution_count": 365,
   "metadata": {},
   "outputs": [],
   "source": [
    "## reemplazar nombre de factor 'FEX_C' en base 2021\n",
    "ipm_21_vhper_vic.rename(columns= {'FEX_C':'fex_c_per'}, inplace=True)"
   ]
  },
  {
   "cell_type": "code",
   "execution_count": 368,
   "metadata": {},
   "outputs": [],
   "source": [
    "ipm_21_vhper_vic.rename(columns= {'fex_c':'fex_c_ph'}, inplace=True)"
   ]
  },
  {
   "cell_type": "code",
   "execution_count": 374,
   "metadata": {},
   "outputs": [
    {
     "name": "stdout",
     "output_type": "stream",
     "text": [
      "Distinct elements in var19: set()\n"
     ]
    }
   ],
   "source": [
    "##idenficar los elementos distintos 19-21\n",
    "distinct_var19 = set(var19).difference(set(var21))\n",
    "print(\"Distinct elements in var19:\", distinct_var19)"
   ]
  },
  {
   "cell_type": "code",
   "execution_count": 381,
   "metadata": {},
   "outputs": [
    {
     "name": "stdout",
     "output_type": "stream",
     "text": [
      "Distinct elements in var20: set()\n"
     ]
    }
   ],
   "source": [
    "##idenficar los elementos distintos 20-21\n",
    "distinct_var20 = set(var20).difference(set(var21))\n",
    "print(\"Distinct elements in var20:\", distinct_var20)"
   ]
  },
  {
   "cell_type": "code",
   "execution_count": 387,
   "metadata": {},
   "outputs": [
    {
     "name": "stdout",
     "output_type": "stream",
     "text": [
      "Distinct elements in var19: set()\n"
     ]
    }
   ],
   "source": [
    "##idenficar los elementos distintos 19-21\n",
    "distinct_var19 = set(var19).difference(set(var21))\n",
    "print(\"Distinct elements in var19:\", distinct_var19)"
   ]
  },
  {
   "cell_type": "code",
   "execution_count": 403,
   "metadata": {},
   "outputs": [],
   "source": [
    "###BORRAR 4 VARIABLES QUE NO SE ENCUENTRAN EN 2019 Y 2020\n",
    "ipm_21_vhper_vic.drop(columns =[ 'P3336S1', 'P3336S2','P3336S3', 'P3337'], inplace =True)"
   ]
  },
  {
   "cell_type": "code",
   "execution_count": 409,
   "metadata": {},
   "outputs": [
    {
     "name": "stdout",
     "output_type": "stream",
     "text": [
      "75 75 75\n"
     ]
    }
   ],
   "source": [
    "print(len(var19), len(var20), len(var21))"
   ]
  },
  {
   "cell_type": "code",
   "execution_count": 410,
   "metadata": {},
   "outputs": [],
   "source": [
    "#concatenar periodos 19-21\n",
    "frames = [ipm_19_vhper_vic, ipm_20_vhper_vic, ipm_21_vhper_vic]\n",
    "nal_19_21= pd.concat(frames, axis=0)"
   ]
  },
  {
   "cell_type": "code",
   "execution_count": 414,
   "metadata": {},
   "outputs": [
    {
     "data": {
      "text/plain": [
       "75"
      ]
     },
     "execution_count": 414,
     "metadata": {},
     "output_type": "execute_result"
    }
   ],
   "source": [
    "len(set(nal_19_21.columns))"
   ]
  },
  {
   "cell_type": "markdown",
   "metadata": {},
   "source": [
    "### validación 19-21"
   ]
  },
  {
   "cell_type": "code",
   "execution_count": 419,
   "metadata": {},
   "outputs": [
    {
     "name": "stdout",
     "output_type": "stream",
     "text": [
      "25.03\n"
     ]
    }
   ],
   "source": [
    "nal_21= nal_19_21[nal_19_21['periodo']==2021]\n",
    "print(\n",
    "    round(\n",
    "    ((nal_21[\"pobre\"]* nal_21['fex_c_des']).sum() /\n",
    "      (nal_21['es_desplazado'] * nal_21['fex_c_des']).sum()*100),2))"
   ]
  },
  {
   "cell_type": "code",
   "execution_count": 420,
   "metadata": {},
   "outputs": [],
   "source": [
    "#export\n",
    "#nal_19_21.to_csv(\"C:/Users/ivan.corredor/DANE_IPM_ECV/resultados/nal_19_21.csv\", sep=\";\")"
   ]
  },
  {
   "cell_type": "code",
   "execution_count": null,
   "metadata": {},
   "outputs": [],
   "source": [
    "nal_19_21 = pd.read_csv(\"C:/Users/ivan.corredor/DANE_IPM_ECV/resultados/nal_19_21.csv\", sep=\";\", low_memory=False)"
   ]
  },
  {
   "cell_type": "code",
   "execution_count": null,
   "metadata": {},
   "outputs": [],
   "source": [
    "## etiquetar la variable región\n",
    "nal_19_21[\"REGION\"] = nal_19_21[\"REGION\"].replace([1,2,3,4,5,6,7,8,9], [\"Caribe\", \"Oriental\", \"Central\", \"Pacífica (sin valle)\", \"Bogotá\", \n",
    "                                                                       \"Antioquia\", \"Valle del Cauca\", \n",
    "                                                                        \"San Andrés y Providencia\", \"Orinoquía y Amazonía\"])"
   ]
  },
  {
   "cell_type": "code",
   "execution_count": null,
   "metadata": {},
   "outputs": [],
   "source": [
    "#exportar nuevamente\n",
    "nal_19_21.to_csv(\"C:/Users/ivan.corredor/DANE_IPM_ECV/resultados/nal_19_21.csv\", sep=\";\")"
   ]
  },
  {
   "cell_type": "code",
   "execution_count": null,
   "metadata": {},
   "outputs": [],
   "source": [
    "##comprobación tasa nacional\n",
    "nal_21= nal_19_21[(nal_19_21['periodo']==2021) & (nal_19_21['REGION']==\"Caribe\")]\n",
    "print(\n",
    "    round(\n",
    "    ((nal_21[\"pobre\"]* nal_21['fex_c_des']).sum() /\n",
    "      (nal_21['es_desplazado'] * nal_21['fex_c_des']).sum()*100),2))"
   ]
  },
  {
   "cell_type": "code",
   "execution_count": null,
   "metadata": {},
   "outputs": [],
   "source": [
    "# ipm por regiones. nacional\n",
    "reg_nal = nal_19_21.groupby([\"periodo\", \"REGION\"]).apply(lambda x: ((x['pobre'] * x['fex_c_per']).sum() / x['fex_c_per'].sum()) * 100)\n",
    "reg_nal "
   ]
  },
  {
   "cell_type": "code",
   "execution_count": null,
   "metadata": {},
   "outputs": [],
   "source": [
    "# ipm por regiones. nacional no víctimas\n",
    "reg_nal_nv = nal_19_21.groupby([\"periodo\", \"REGION\"]).apply(\n",
    "    lambda x: ((x['pobre'] * x['fex_c_per']).sum() / (x['no_victima'] * x['fex_c_per']).sum() * 100))\n",
    "reg_nal_nv"
   ]
  },
  {
   "cell_type": "code",
   "execution_count": null,
   "metadata": {},
   "outputs": [],
   "source": [
    "# ipm por regiones. Víctimas todos los hechos\n",
    "reg_vic_tot = nal_19_21.groupby([\"periodo\", \"REGION\"]).apply(\n",
    "    lambda x: ((x['pobre'] * x['fex_c_victi']).sum() / (x['victima'] * x['fex_c_victi']).sum() * 100))\n",
    "reg_vic_tot"
   ]
  },
  {
   "cell_type": "code",
   "execution_count": null,
   "metadata": {},
   "outputs": [],
   "source": [
    "# ipm por regiones. Víctimas desplazamiento\n",
    "reg_vic_des = nal_19_21.groupby([\"periodo\", \"REGION\"]).apply(\n",
    "    lambda x: ((x['pobre'] * x['fex_c_des']).sum() / (x['es_desplazado'] * x['fex_c_des']).sum() * 100))\n",
    "reg_vic_des"
   ]
  },
  {
   "cell_type": "code",
   "execution_count": null,
   "metadata": {},
   "outputs": [],
   "source": [
    "# ipm por regiones. Víctimas desplazamiento\n",
    "reg_vic_des = nal_19_21.groupby([\"periodo\", \"REGION\"]).apply(\n",
    "    lambda x: ((x['pobre'] * x['fex_c_des']).sum() / (x['es_desplazado'] * x['fex_c_des']).sum() * 100))\n",
    "reg_vic_des"
   ]
  },
  {
   "cell_type": "code",
   "execution_count": null,
   "metadata": {},
   "outputs": [],
   "source": [
    "del nal_19_21"
   ]
  },
  {
   "cell_type": "markdown",
   "metadata": {},
   "source": [
    "### bases departamentales 2019-2021"
   ]
  },
  {
   "cell_type": "code",
   "execution_count": null,
   "metadata": {},
   "outputs": [],
   "source": [
    "#cargue y pegue 19-20\n",
    "for i in range(19,21):\n",
    "    exec('vic{} = pd.read_csv(\"C:/Users/ivan.corredor/DANE_IPM_ECV/20{}/factores_victima_20{}\")'.format(i,i,i))\n",
    "    exec('viv{} = pd.read_csv(\"C:/Users/ivan.corredor/DANE_IPM_ECV/20{}/viviendas_dpto_20{}.csv\", sep=\";\", decimal= \",\")'.format(i,i,i))\n",
    "    exec('h{} = pd.read_csv(\"C:/Users/ivan.corredor/DANE_IPM_ECV/20{}/hogares_dpto_20{}.csv\", sep=\";\", decimal= \",\")'.format(i,i,i))\n",
    "    exec('per{} = pd.read_csv(\"C:/Users/ivan.corredor/DANE_IPM_ECV/20{}/personas_dpto_20{}.csv\", sep=\";\", decimal= \",\")'.format(i,i,i))\n",
    "    #cruce vivienda_hogares\n",
    "    exec('dpto_vh{} = pd.merge(left=h{}, right=viv{}, left_on=[\"DIRECTORIO\", \"SECUENCIA_ENCUESTA\"], right_on=[\"DIRECTORIO\", \"SECUENCIA_ENCUESTA\"], how=\"left\", sort=False, validate=\"m:1\", suffixes=(\"_h\", \"_viv\"), indicator = \"indicator_column\")'.format(i,i,i))\n",
    "    #cruce vivienda_hogares con personas\n",
    "    exec('dpto_vhper{} = pd.merge(left=per{}, right=dpto_vh{}, left_on=[\"DIRECTORIO\", \"SECUENCIA_P\"], right_on=[\"DIRECTORIO\", \"SECUENCIA_ENCUESTA\"], how=\"left\", sort=False, validate=\"m:1\", suffixes=(\"_per\", \"_ph\"), indicator = \"indicator_column_2\")'.format(i,i,i))\n",
    "    #cruce vivienda_hogares_personas con víctimas\n",
    "    exec('dpto_vhper_vic{} = pd.merge(left=dpto_vhper{}, right=vic{}, left_on=[\"DIRECTORIO\", \"SECUENCIA_P\", \"ORDEN\"], right_on=[\"directorio\", \"secuencia_p\",\"orden\"], how=\"left\",sort=False, validate=\"1:1\", suffixes=(\"_vhper\", \"_vic\"), indicator = \"indicator_column_3\")'.format(i,i,i))"
   ]
  },
  {
   "cell_type": "code",
   "execution_count": null,
   "metadata": {},
   "outputs": [],
   "source": [
    "#cargue 21\n",
    "for i in range(21,22):\n",
    "    exec('vic{} = pd.read_csv(\"C:/Users/ivan.corredor/DANE_IPM_ECV/20{}/factores_victima_20{}\")'.format(i,i,i))\n",
    "    exec('viv{} = pd.read_csv(\"C:/Users/ivan.corredor/DANE_IPM_ECV/20{}/viviendas_dpto_20{}.csv\")'.format(i,i,i))\n",
    "    exec('h{} = pd.read_csv(\"C:/Users/ivan.corredor/DANE_IPM_ECV/20{}/hogares_dpto_20{}.csv\")'.format(i,i,i))\n",
    "    exec('per{} = pd.read_csv(\"C:/Users/ivan.corredor/DANE_IPM_ECV/20{}/personas_dpto_20{}.csv\")'.format(i,i,i))\n",
    "    #cruce vivienda_hogares\n",
    "    exec('dpto_vh{} = pd.merge(left=h{}, right=viv{}, left_on=[\"DIRECTORIO\", \"SECUENCIA_ENCUESTA\"], right_on=[\"DIRECTORIO\", \"SECUENCIA_ENCUESTA\"], how=\"left\", sort=False, validate=\"m:1\", suffixes=(\"_h\", \"_viv\"), indicator = \"indicator_column\")'.format(i,i,i))\n",
    "    #cruce vivienda_hogares con personas\n",
    "    exec('dpto_vhper{} = pd.merge(left=per{}, right=dpto_vh{}, left_on=[\"DIRECTORIO\", \"SECUENCIA_P\"], right_on=[\"DIRECTORIO\", \"SECUENCIA_ENCUESTA\"], how=\"left\", sort=False, validate=\"m:1\", suffixes=(\"_per\", \"_ph\"), indicator = \"indicator_column_2\")'.format(i,i,i))\n",
    "    #cruce vivienda_hogares_personas con víctimas\n",
    "    exec('dpto_vhper_vic{} = pd.merge(left=dpto_vhper{}, right=vic{}, left_on=[\"DIRECTORIO\", \"SECUENCIA_P\", \"ORDEN\"], right_on=[\"directorio\", \"secuencia_p\",\"orden\"], how=\"left\",sort=False, validate=\"1:1\", suffixes=(\"_vhper\", \"_vic\"), indicator = \"indicator_column_3\")'.format(i,i,i))"
   ]
  },
  {
   "cell_type": "code",
   "execution_count": null,
   "metadata": {},
   "outputs": [],
   "source": [
    "for i in range(19,22):\n",
    "    ##crear variable víctima\n",
    "    exec('dpto_vhper_vic{}[\"victima\"] = dpto_vhper_vic{}.apply(vic, axis = 1)'.format(i,i))\n",
    "    ##crear variable no víctima\n",
    "    exec('dpto_vhper_vic{}[\"no_victima\"] = dpto_vhper_vic{}.apply(novic, axis = 1)'.format(i,i))\n",
    "    #crear variable de año \n",
    "    exec('dpto_vhper_vic{}[\"periodo\"] = 20{}'.format(i,i))\n",
    "    #exec('dpto_vhper_vic{}.rename(columns = {\"p6020\":\"sexo\", \"p6040\":\"edad\"}, inplace = True)'.format(i))"
   ]
  },
  {
   "cell_type": "code",
   "execution_count": null,
   "metadata": {},
   "outputs": [],
   "source": [
    "##renombrar variables\n",
    "dpto_vhper_vic19.rename(columns = {\"p6020\":\"sexo\", \"p6040\":\"edad\"}, inplace = True)\n",
    "dpto_vhper_vic20.rename(columns = {\"p6020\":\"sexo\", \"p6040\":\"edad\"}, inplace = True)\n",
    "dpto_vhper_vic21.rename(columns = {\"p6020\":\"sexo\", \"p6040\":\"edad\"}, inplace = True)"
   ]
  },
  {
   "cell_type": "markdown",
   "metadata": {},
   "source": [
    "#### Homogenización de las bases para concatenación"
   ]
  },
  {
   "cell_type": "code",
   "execution_count": null,
   "metadata": {},
   "outputs": [],
   "source": [
    "# selección de variables\n",
    "vard19 = list(dpto_vhper_vic19.columns)\n",
    "vard20 = list(dpto_vhper_vic20.columns)\n",
    "vard21 = list(dpto_vhper_vic21.columns)\n",
    "print(len(vard19), len(vard20), len(vard21))"
   ]
  },
  {
   "cell_type": "code",
   "execution_count": null,
   "metadata": {},
   "outputs": [],
   "source": [
    "##idenficar los elementos distintos 19-20\n",
    "distinct_vard19 = set(vard19).difference(set(vard20))\n",
    "print(\"Distinct elements in vard19:\", distinct_vard19)"
   ]
  },
  {
   "cell_type": "code",
   "execution_count": null,
   "metadata": {},
   "outputs": [],
   "source": [
    "#renombrar variable\n",
    "dpto_vhper_vic19.rename(columns= {'P6390S1':'P6390'}, inplace=True)"
   ]
  },
  {
   "cell_type": "code",
   "execution_count": null,
   "metadata": {},
   "outputs": [],
   "source": [
    "##idenficar los elementos distintos 19-20\n",
    "distinct_vard19 = set(vard19).difference(set(vard20))\n",
    "print(\"Distinct elements in vard19:\", distinct_vard19)"
   ]
  },
  {
   "cell_type": "code",
   "execution_count": null,
   "metadata": {},
   "outputs": [],
   "source": [
    "###BORRAR 4 VARIABLES QUE NO SE ENCUENTRAN EN 2019 Y 2020\n",
    "dpto_vhper_vic21.drop(columns =['P3336S1', 'P3336S2','P3336S3', 'P3337'], inplace =True)"
   ]
  },
  {
   "cell_type": "code",
   "execution_count": null,
   "metadata": {},
   "outputs": [],
   "source": [
    "dpto_vhper_vic21.rename(columns= {'FEX_C':'fex_c_per'}, inplace=True)\n",
    "dpto_vhper_vic21.rename(columns= {'fex_c':'fex_c_ph'}, inplace=True)"
   ]
  },
  {
   "cell_type": "code",
   "execution_count": null,
   "metadata": {},
   "outputs": [],
   "source": [
    "print(len(vard19), len(vard20), len(vard21))"
   ]
  },
  {
   "cell_type": "code",
   "execution_count": null,
   "metadata": {},
   "outputs": [],
   "source": [
    "#concatenar periodos 19-21\n",
    "frames_dpto = [dpto_vhper_vic19, dpto_vhper_vic20, dpto_vhper_vic21]\n",
    "dpto_19_21= pd.concat(frames_dpto, axis=0)"
   ]
  },
  {
   "cell_type": "code",
   "execution_count": null,
   "metadata": {},
   "outputs": [],
   "source": [
    "#export\n",
    "dpto_19_21.to_csv(\"C:/Users/ivan.corredor/DANE_IPM_ECV/resultados/dpto_19_21.csv\", sep=\";\")"
   ]
  },
  {
   "cell_type": "markdown",
   "metadata": {},
   "source": [
    "### Resultados Departamentos"
   ]
  },
  {
   "cell_type": "code",
   "execution_count": null,
   "metadata": {},
   "outputs": [],
   "source": [
    "pd.options.display.max_rows=None"
   ]
  },
  {
   "cell_type": "code",
   "execution_count": null,
   "metadata": {},
   "outputs": [],
   "source": [
    "## etiquetar la variable región\n",
    "dpto_19_21[\"DEPARTAMENTO\"] = dpto_19_21[\"DEPARTAMENTO\"].replace([5,8,11,13,15,17,18,19,20,23,25,27,41,44,47,50,52,54,63,66,68,\n",
    "                                                                70, 73, 76, 81, 85,86, 88, 91,94, 95,97,99],\n",
    "                                                                [\"Antioquia\", \"Atlántico\", \"Bogotá\", \"Bolívar\",\"Boyacá\", \n",
    "                                                                 \"Caldas\",\"Caquetá\",\"Cauca\", \"Cesar\",\"Córdoba\", \"Cundinamarca\",\n",
    "                                                                \"Chocó\", \"Huila\", \"La Guajira\", \"Magdalena\", \"Meta\", \"Nariño\",\n",
    "                                                                \"Norte de Santander\", \"Quindio\", \"Risaralda\", \"Santander\",\n",
    "                                                                \"Sucre\", \"Tolima\", \"Valle del Cauca\", \"Arauca\", \"Casanare\",\n",
    "                                                                \"Putumayo\", \"Providencia y Santa Catalina\", \"Amazonas\", \n",
    "                                                                \"Guainía\", \"Guaviare\", \"Vaupés\", \"Vichada\"])"
   ]
  },
  {
   "cell_type": "code",
   "execution_count": null,
   "metadata": {},
   "outputs": [],
   "source": [
    "# ipm por regiones. nacional\n",
    "dpto_nal = dpto_19_21.groupby([\"periodo\", \"DEPARTAMENTO\"]).apply(lambda x: ((x['pobre'] * x['fex_c_per']).sum() / x['fex_c_per'].sum()) * 100)\n",
    "dpto_nal "
   ]
  },
  {
   "cell_type": "code",
   "execution_count": null,
   "metadata": {},
   "outputs": [],
   "source": [
    "# ipm por regiones. nacional no víctimas\n",
    "dpto_nal_nv = dpto_19_21.groupby([\"periodo\", \"DEPARTAMENTO\"]).apply(\n",
    "    lambda x: ((x['pobre'] * x['fex_c_per']).sum() / (x['no_victima'] * x['fex_c_per']).sum() * 100))\n",
    "dpto_nal_nv"
   ]
  },
  {
   "cell_type": "code",
   "execution_count": null,
   "metadata": {},
   "outputs": [],
   "source": [
    "# ipm por regiones. Víctimas todos los hechos\n",
    "dpto_vic_tot = dpto_19_21.groupby([\"periodo\", \"DEPARTAMENTO\"]).apply(\n",
    "    lambda x: ((x['pobre'] * x['fex_c_victi']).sum() / (x['victima'] * x['fex_c_victi']).sum() * 100))\n",
    "dpto_vic_tot"
   ]
  },
  {
   "cell_type": "code",
   "execution_count": null,
   "metadata": {},
   "outputs": [],
   "source": [
    "# ipm por regiones. Víctimas desplazamiento\n",
    "dpto_vic_des = dpto_19_21.groupby([\"periodo\", \"DEPARTAMENTO\"]).apply(\n",
    "    lambda x: ((x['pobre'] * x['fex_c_des']).sum() / (x['es_desplazado'] * x['fex_c_des']).sum() * 100))\n",
    "dpto_vic_des"
   ]
  },
  {
   "cell_type": "code",
   "execution_count": null,
   "metadata": {},
   "outputs": [],
   "source": [
    "## exportar resultados de regiones para víctimas \n",
    "salida2 = \"C:/Users/ivan.corredor/DANE_IPM_ECV/resultados/ipm_departamentos.xlsx\"\n",
    "writer = pd.ExcelWriter(salida2)\n",
    "\n",
    "dpto_nal.to_excel(writer, sheet_name = 'ipm_nal_dpto', header = True, index=True)\n",
    "dpto_nal_nv.to_excel(writer, sheet_name = 'ipm_nal_novic_dpto', header = True, index=True)\n",
    "dpto_vic_tot.to_excel(writer, sheet_name = 'ipm_vic_tot_dpto', header = True, index=True)\n",
    "dpto_vic_des.to_excel(writer, sheet_name = 'ipm_vic_des_dpto', header = True, index=True)\n",
    "\n",
    "writer.save()\n",
    "writer.close()"
   ]
  }
 ],
 "metadata": {
  "kernelspec": {
   "display_name": "Python 3",
   "language": "python",
   "name": "python3"
  },
  "language_info": {
   "codemirror_mode": {
    "name": "ipython",
    "version": 3
   },
   "file_extension": ".py",
   "mimetype": "text/x-python",
   "name": "python",
   "nbconvert_exporter": "python",
   "pygments_lexer": "ipython3",
   "version": "3.8.3"
  }
 },
 "nbformat": 4,
 "nbformat_minor": 5
}
