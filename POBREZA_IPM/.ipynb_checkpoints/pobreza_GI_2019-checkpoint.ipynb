{
 "cells": [
  {
   "cell_type": "code",
   "execution_count": 141,
   "metadata": {},
   "outputs": [],
   "source": [
    "import numpy as np\n",
    "import pandas as pd\n",
    "import matplotlib.pyplot as plt"
   ]
  },
  {
   "cell_type": "code",
   "execution_count": 10,
   "metadata": {},
   "outputs": [],
   "source": [
    "### Procesamiento base de pobreza"
   ]
  },
  {
   "cell_type": "code",
   "execution_count": 11,
   "metadata": {},
   "outputs": [],
   "source": [
    "coding: \"latin-1\""
   ]
  },
  {
   "cell_type": "code",
   "execution_count": 272,
   "metadata": {},
   "outputs": [],
   "source": [
    "vic_19 = pd.read_stata(\"C:/Users/Estadistico/Desktop/BACKUP_07_07_2022/ivan/DANE_pobreza/2019/Victimas_GEIH_2019.dta\")"
   ]
  },
  {
   "cell_type": "code",
   "execution_count": 273,
   "metadata": {},
   "outputs": [],
   "source": [
    "per_19 = pd.read_stata(\"C:/Users/Estadistico/Desktop/BACKUP_07_07_2022/ivan/DANE_pobreza/2019/Personas.dta\")"
   ]
  },
  {
   "cell_type": "code",
   "execution_count": 274,
   "metadata": {},
   "outputs": [],
   "source": [
    "hog_19 = pd.read_stata(\"C:/Users/Estadistico/Desktop/BACKUP_07_07_2022/ivan/DANE_pobreza/2019/Hogares.dta\")"
   ]
  },
  {
   "cell_type": "code",
   "execution_count": 275,
   "metadata": {
    "scrolled": true
   },
   "outputs": [
    {
     "name": "stdout",
     "output_type": "stream",
     "text": [
      "<class 'pandas.core.frame.DataFrame'>\n",
      "Int64Index: 231831 entries, 0 to 231830\n",
      "Data columns (total 25 columns):\n",
      " #   Column       Non-Null Count   Dtype  \n",
      "---  ------       --------------   -----  \n",
      " 0   directorio   231831 non-null  float64\n",
      " 1   secuencia_p  231831 non-null  float64\n",
      " 2   mes          231831 non-null  object \n",
      " 3   clase        231831 non-null  object \n",
      " 4   dominio      231831 non-null  object \n",
      " 5   p5000        231831 non-null  float64\n",
      " 6   p5010        231831 non-null  float64\n",
      " 7   p5090        231831 non-null  float64\n",
      " 8   p5100        7971 non-null    float64\n",
      " 9   p5130        139966 non-null  float64\n",
      " 10  p5140        91865 non-null   float64\n",
      " 11  nper         231831 non-null  float64\n",
      " 12  npersug      231831 non-null  float64\n",
      " 13  ingtotug     231829 non-null  float64\n",
      " 14  ingtotugarr  231831 non-null  float64\n",
      " 15  ingpcug      231831 non-null  float64\n",
      " 16  li           231831 non-null  float64\n",
      " 17  lp           231831 non-null  float64\n",
      " 18  pobre        231831 non-null  float64\n",
      " 19  indigente    231831 non-null  float64\n",
      " 20  npobres      231831 non-null  float64\n",
      " 21  nindigentes  231831 non-null  float64\n",
      " 22  fex_c        231831 non-null  float64\n",
      " 23  depto        231831 non-null  object \n",
      " 24  fex_dpto     231831 non-null  float64\n",
      "dtypes: float64(21), object(4)\n",
      "memory usage: 46.0+ MB\n"
     ]
    }
   ],
   "source": [
    "hog_19.info()"
   ]
  },
  {
   "cell_type": "code",
   "execution_count": 276,
   "metadata": {},
   "outputs": [],
   "source": [
    "hog_19_sub = hog_19.iloc[:,[0,1,2,11,16,17,18,19,20,21]]"
   ]
  },
  {
   "cell_type": "code",
   "execution_count": 277,
   "metadata": {},
   "outputs": [
    {
     "name": "stderr",
     "output_type": "stream",
     "text": [
      "C:\\Users\\Estadistico\\anaconda3\\lib\\site-packages\\pandas\\core\\indexing.py:966: SettingWithCopyWarning: \n",
      "A value is trying to be set on a copy of a slice from a DataFrame.\n",
      "Try using .loc[row_indexer,col_indexer] = value instead\n",
      "\n",
      "See the caveats in the documentation: https://pandas.pydata.org/pandas-docs/stable/user_guide/indexing.html#returning-a-view-versus-a-copy\n",
      "  self.obj[item] = s\n"
     ]
    }
   ],
   "source": [
    "hog_19_sub.iloc[:,2] = pd.to_numeric(hog_19_sub.iloc[:,2], downcast = 'integer')"
   ]
  },
  {
   "cell_type": "code",
   "execution_count": 278,
   "metadata": {},
   "outputs": [
    {
     "name": "stdout",
     "output_type": "stream",
     "text": [
      "<class 'pandas.core.frame.DataFrame'>\n",
      "Int64Index: 231831 entries, 0 to 231830\n",
      "Data columns (total 10 columns):\n",
      " #   Column       Non-Null Count   Dtype  \n",
      "---  ------       --------------   -----  \n",
      " 0   directorio   231831 non-null  float64\n",
      " 1   secuencia_p  231831 non-null  float64\n",
      " 2   mes          231831 non-null  int8   \n",
      " 3   nper         231831 non-null  float64\n",
      " 4   li           231831 non-null  float64\n",
      " 5   lp           231831 non-null  float64\n",
      " 6   pobre        231831 non-null  float64\n",
      " 7   indigente    231831 non-null  float64\n",
      " 8   npobres      231831 non-null  float64\n",
      " 9   nindigentes  231831 non-null  float64\n",
      "dtypes: float64(9), int8(1)\n",
      "memory usage: 17.9 MB\n"
     ]
    }
   ],
   "source": [
    "hog_19_sub.info()"
   ]
  },
  {
   "cell_type": "code",
   "execution_count": 279,
   "metadata": {},
   "outputs": [],
   "source": [
    "vic_19_merge = pd.merge(left=vic_19, \n",
    "                        right=hog_19_sub, \n",
    "                        left_on=[\"directorio\", \"secuencia_p\", \"mes\"], \n",
    "                        right_on=[\"directorio\", \"secuencia_p\", \"mes\"],\n",
    "                        how='left', sort=False, \n",
    "                        validate='m:1', \n",
    "                        suffixes=(\"_v\", \"_h\"), \n",
    "                        indicator = 'indicator_column')"
   ]
  },
  {
   "cell_type": "code",
   "execution_count": 26,
   "metadata": {
    "scrolled": false
   },
   "outputs": [
    {
     "name": "stdout",
     "output_type": "stream",
     "text": [
      "<class 'pandas.core.frame.DataFrame'>\n",
      "Int64Index: 756063 entries, 0 to 756062\n",
      "Data columns (total 15 columns):\n",
      " #   Column            Non-Null Count   Dtype   \n",
      "---  ------            --------------   -----   \n",
      " 0   directorio        756063 non-null  float64 \n",
      " 1   secuencia_p       756063 non-null  float64 \n",
      " 2   orden             756063 non-null  float64 \n",
      " 3   mes               756063 non-null  int8    \n",
      " 4   es_victima        69605 non-null   float64 \n",
      " 5   es_desplazado     69605 non-null   float64 \n",
      " 6   decada_vic        756063 non-null  object  \n",
      " 7   fex_c_viv         69605 non-null   float64 \n",
      " 8   li                756063 non-null  float64 \n",
      " 9   lp                756063 non-null  float64 \n",
      " 10  pobre             756063 non-null  float64 \n",
      " 11  indigente         756063 non-null  float64 \n",
      " 12  npobres           756063 non-null  float64 \n",
      " 13  nindigentes       756063 non-null  float64 \n",
      " 14  indicator_column  756063 non-null  category\n",
      "dtypes: category(1), float64(12), int8(1), object(1)\n",
      "memory usage: 82.2+ MB\n"
     ]
    }
   ],
   "source": [
    "vic_19_merge.info()"
   ]
  },
  {
   "cell_type": "code",
   "execution_count": 22,
   "metadata": {},
   "outputs": [],
   "source": [
    "#pd.options.display.max_info_rows= None"
   ]
  },
  {
   "cell_type": "code",
   "execution_count": 27,
   "metadata": {},
   "outputs": [
    {
     "name": "stdout",
     "output_type": "stream",
     "text": [
      "<class 'pandas.core.frame.DataFrame'>\n",
      "Int64Index: 756063 entries, 0 to 756062\n",
      "Data columns (total 137 columns):\n",
      " #   Column       Dtype  \n",
      "---  ------       -----  \n",
      " 0   directorio   float64\n",
      " 1   secuencia_p  float64\n",
      " 2   orden        float64\n",
      " 3   clase        object \n",
      " 4   dominio      object \n",
      " 5   mes          object \n",
      " 6   estrato1     float64\n",
      " 7   p6020        float64\n",
      " 8   p6040        float64\n",
      " 9   p6050        float64\n",
      " 10  p6090        float64\n",
      " 11  p6100        float64\n",
      " 12  p6210        float64\n",
      " 13  p6210s1      float64\n",
      " 14  p6240        float64\n",
      " 15  oficio       object \n",
      " 16  p6426        float64\n",
      " 17  p6430        float64\n",
      " 18  p6500        float64\n",
      " 19  p6510        float64\n",
      " 20  p6510s1      float64\n",
      " 21  p6510s2      float64\n",
      " 22  p6545        float64\n",
      " 23  p6545s1      float64\n",
      " 24  p6545s2      float64\n",
      " 25  p6580        float64\n",
      " 26  p6580s1      float64\n",
      " 27  p6580s2      float64\n",
      " 28  p6585s1      float64\n",
      " 29  p6585s1a1    float64\n",
      " 30  p6585s1a2    float64\n",
      " 31  p6585s2      float64\n",
      " 32  p6585s2a1    float64\n",
      " 33  p6585s2a2    float64\n",
      " 34  p6585s3      float64\n",
      " 35  p6585s3a1    float64\n",
      " 36  p6585s3a2    float64\n",
      " 37  p6585s4      float64\n",
      " 38  p6585s4a1    float64\n",
      " 39  p6585s4a2    float64\n",
      " 40  p6590        float64\n",
      " 41  p6590s1      float64\n",
      " 42  p6600        float64\n",
      " 43  p6600s1      float64\n",
      " 44  p6610        float64\n",
      " 45  p6610s1      float64\n",
      " 46  p6620        float64\n",
      " 47  p6620s1      float64\n",
      " 48  p6630s1      float64\n",
      " 49  p6630s1a1    float64\n",
      " 50  p6630s2      float64\n",
      " 51  p6630s2a1    float64\n",
      " 52  p6630s3      float64\n",
      " 53  p6630s3a1    float64\n",
      " 54  p6630s4      float64\n",
      " 55  p6630s4a1    float64\n",
      " 56  p6630s6      float64\n",
      " 57  p6630s6a1    float64\n",
      " 58  p6750        float64\n",
      " 59  p6760        float64\n",
      " 60  p550         float64\n",
      " 61  p6800        float64\n",
      " 62  p6870        float64\n",
      " 63  p6920        float64\n",
      " 64  p7040        float64\n",
      " 65  p7045        float64\n",
      " 66  p7050        float64\n",
      " 67  p7070        float64\n",
      " 68  p7090        float64\n",
      " 69  p7110        float64\n",
      " 70  p7120        float64\n",
      " 71  p7140s1      float64\n",
      " 72  p7140s2      float64\n",
      " 73  p7150        float64\n",
      " 74  p7160        float64\n",
      " 75  p7310        float64\n",
      " 76  p7350        float64\n",
      " 77  p7422        float64\n",
      " 78  p7422s1      float64\n",
      " 79  p7472        float64\n",
      " 80  p7472s1      float64\n",
      " 81  p7495        float64\n",
      " 82  p7500s1      float64\n",
      " 83  p7500s1a1    float64\n",
      " 84  p7500s2      float64\n",
      " 85  p7500s2a1    float64\n",
      " 86  p7500s3      float64\n",
      " 87  p7500s3a1    float64\n",
      " 88  p7505        float64\n",
      " 89  p7510s1      float64\n",
      " 90  p7510s1a1    float64\n",
      " 91  p7510s2      float64\n",
      " 92  p7510s2a1    float64\n",
      " 93  p7510s3      float64\n",
      " 94  p7510s3a1    float64\n",
      " 95  p7510s5      float64\n",
      " 96  p7510s5a1    float64\n",
      " 97  p7510s6      float64\n",
      " 98  p7510s6a1    float64\n",
      " 99  p7510s7      float64\n",
      " 100 p7510s7a1    float64\n",
      " 101 pet          float64\n",
      " 102 oc           float64\n",
      " 103 des          float64\n",
      " 104 ina          float64\n",
      " 105 impa         float64\n",
      " 106 isa          float64\n",
      " 107 ie           float64\n",
      " 108 imdi         float64\n",
      " 109 iof1         float64\n",
      " 110 iof2         float64\n",
      " 111 iof3h        float64\n",
      " 112 iof3i        float64\n",
      " 113 iof6         float64\n",
      " 114 cclasnr2     float64\n",
      " 115 cclasnr3     float64\n",
      " 116 cclasnr4     float64\n",
      " 117 cclasnr5     float64\n",
      " 118 cclasnr6     float64\n",
      " 119 cclasnr7     float64\n",
      " 120 cclasnr8     float64\n",
      " 121 cclasnr11    float64\n",
      " 122 impaes       float64\n",
      " 123 isaes        float64\n",
      " 124 iees         float64\n",
      " 125 imdies       float64\n",
      " 126 iof1es       float64\n",
      " 127 iof2es       float64\n",
      " 128 iof3hes      float64\n",
      " 129 iof3ies      float64\n",
      " 130 iof6es       float64\n",
      " 131 ingtotob     float64\n",
      " 132 ingtotes     float64\n",
      " 133 ingtot       float64\n",
      " 134 fex_c        float64\n",
      " 135 depto        object \n",
      " 136 fex_dpto     float64\n",
      "dtypes: float64(132), object(5)\n",
      "memory usage: 796.0+ MB\n"
     ]
    }
   ],
   "source": [
    "per_19.info(verbose=True)"
   ]
  },
  {
   "cell_type": "code",
   "execution_count": 280,
   "metadata": {},
   "outputs": [],
   "source": [
    "per_19_sub = per_19.iloc[:,[0,1,2,3,4,5,7,8,133,134,135,136]]"
   ]
  },
  {
   "cell_type": "code",
   "execution_count": 31,
   "metadata": {
    "scrolled": true
   },
   "outputs": [
    {
     "name": "stdout",
     "output_type": "stream",
     "text": [
      "<class 'pandas.core.frame.DataFrame'>\n",
      "Int64Index: 756063 entries, 0 to 756062\n",
      "Data columns (total 12 columns):\n",
      " #   Column       Non-Null Count   Dtype  \n",
      "---  ------       --------------   -----  \n",
      " 0   directorio   756063 non-null  float64\n",
      " 1   secuencia_p  756063 non-null  float64\n",
      " 2   orden        756063 non-null  float64\n",
      " 3   clase        756063 non-null  object \n",
      " 4   dominio      756063 non-null  object \n",
      " 5   mes          756063 non-null  object \n",
      " 6   p6020        756063 non-null  float64\n",
      " 7   p6040        756063 non-null  float64\n",
      " 8   ingtot       625000 non-null  float64\n",
      " 9   fex_c        756063 non-null  float64\n",
      " 10  depto        756063 non-null  object \n",
      " 11  fex_dpto     756063 non-null  float64\n",
      "dtypes: float64(8), object(4)\n",
      "memory usage: 75.0+ MB\n"
     ]
    }
   ],
   "source": [
    "per_19_sub.info()"
   ]
  },
  {
   "cell_type": "code",
   "execution_count": 282,
   "metadata": {},
   "outputs": [],
   "source": [
    "#formato\n",
    "per_19_sub.iloc[:,3] = pd.to_numeric(per_19_sub.iloc[:,3], downcast = 'integer')\n",
    "per_19_sub.iloc[:,5] = pd.to_numeric(per_19_sub.iloc[:,5], downcast = 'integer')"
   ]
  },
  {
   "cell_type": "code",
   "execution_count": 283,
   "metadata": {},
   "outputs": [],
   "source": [
    "vic_19_merge_p = pd.merge(left=vic_19_merge, right=per_19_sub, left_on=[\"directorio\", \"secuencia_p\", \"orden\", \"mes\"], \n",
    "                        right_on=[\"directorio\", \"secuencia_p\", \"orden\", \"mes\"], how='left', sort=False, validate='1:1', \n",
    "                        suffixes=(\"_vh\", \"_p\"), indicator = 'indicator_column_vhp')"
   ]
  },
  {
   "cell_type": "code",
   "execution_count": 284,
   "metadata": {
    "scrolled": true
   },
   "outputs": [
    {
     "name": "stdout",
     "output_type": "stream",
     "text": [
      "<class 'pandas.core.frame.DataFrame'>\n",
      "Int64Index: 756063 entries, 0 to 756062\n",
      "Data columns (total 25 columns):\n",
      " #   Column                Non-Null Count   Dtype   \n",
      "---  ------                --------------   -----   \n",
      " 0   directorio            756063 non-null  float64 \n",
      " 1   secuencia_p           756063 non-null  float64 \n",
      " 2   orden                 756063 non-null  float64 \n",
      " 3   mes                   756063 non-null  int8    \n",
      " 4   es_victima            69605 non-null   float64 \n",
      " 5   es_desplazado         69605 non-null   float64 \n",
      " 6   decada_vic            756063 non-null  object  \n",
      " 7   fex_c_viv             69605 non-null   float64 \n",
      " 8   nper                  756063 non-null  float64 \n",
      " 9   li                    756063 non-null  float64 \n",
      " 10  lp                    756063 non-null  float64 \n",
      " 11  pobre                 756063 non-null  float64 \n",
      " 12  indigente             756063 non-null  float64 \n",
      " 13  npobres               756063 non-null  float64 \n",
      " 14  nindigentes           756063 non-null  float64 \n",
      " 15  indicator_column      756063 non-null  category\n",
      " 16  clase                 756063 non-null  int8    \n",
      " 17  dominio               756063 non-null  object  \n",
      " 18  p6020                 756063 non-null  float64 \n",
      " 19  p6040                 756063 non-null  float64 \n",
      " 20  ingtot                625000 non-null  float64 \n",
      " 21  fex_c                 756063 non-null  float64 \n",
      " 22  depto                 756063 non-null  object  \n",
      " 23  fex_dpto              756063 non-null  float64 \n",
      " 24  indicator_column_vhp  756063 non-null  category\n",
      "dtypes: category(2), float64(18), int8(2), object(3)\n",
      "memory usage: 129.8+ MB\n"
     ]
    }
   ],
   "source": [
    "vic_19_merge_p.info()"
   ]
  },
  {
   "cell_type": "code",
   "execution_count": 35,
   "metadata": {},
   "outputs": [
    {
     "data": {
      "text/plain": [
       "0.0    695669\n",
       "1.0     60394\n",
       "Name: indigente, dtype: int64"
      ]
     },
     "execution_count": 35,
     "metadata": {},
     "output_type": "execute_result"
    }
   ],
   "source": [
    "vic_19_merge_p[\"indigente\"].value_counts()\n"
   ]
  },
  {
   "cell_type": "code",
   "execution_count": 39,
   "metadata": {},
   "outputs": [],
   "source": [
    "pd.options.display.max_columns= None"
   ]
  },
  {
   "cell_type": "code",
   "execution_count": 40,
   "metadata": {
    "scrolled": true
   },
   "outputs": [
    {
     "data": {
      "text/html": [
       "<div>\n",
       "<style scoped>\n",
       "    .dataframe tbody tr th:only-of-type {\n",
       "        vertical-align: middle;\n",
       "    }\n",
       "\n",
       "    .dataframe tbody tr th {\n",
       "        vertical-align: top;\n",
       "    }\n",
       "\n",
       "    .dataframe thead th {\n",
       "        text-align: right;\n",
       "    }\n",
       "</style>\n",
       "<table border=\"1\" class=\"dataframe\">\n",
       "  <thead>\n",
       "    <tr style=\"text-align: right;\">\n",
       "      <th></th>\n",
       "      <th>directorio</th>\n",
       "      <th>secuencia_p</th>\n",
       "      <th>orden</th>\n",
       "      <th>mes</th>\n",
       "      <th>es_victima</th>\n",
       "      <th>es_desplazado</th>\n",
       "      <th>decada_vic</th>\n",
       "      <th>fex_c_viv</th>\n",
       "      <th>li</th>\n",
       "      <th>lp</th>\n",
       "      <th>pobre</th>\n",
       "      <th>indigente</th>\n",
       "      <th>npobres</th>\n",
       "      <th>nindigentes</th>\n",
       "      <th>indicator_column</th>\n",
       "      <th>clase</th>\n",
       "      <th>dominio</th>\n",
       "      <th>p6020</th>\n",
       "      <th>p6040</th>\n",
       "      <th>ingtot</th>\n",
       "      <th>fex_c</th>\n",
       "      <th>depto</th>\n",
       "      <th>fex_dpto</th>\n",
       "      <th>indicator_column_vhp</th>\n",
       "    </tr>\n",
       "  </thead>\n",
       "  <tbody>\n",
       "    <tr>\n",
       "      <th>0</th>\n",
       "      <td>4804535.0</td>\n",
       "      <td>1.0</td>\n",
       "      <td>1.0</td>\n",
       "      <td>1</td>\n",
       "      <td>NaN</td>\n",
       "      <td>NaN</td>\n",
       "      <td></td>\n",
       "      <td>NaN</td>\n",
       "      <td>139923.6438</td>\n",
       "      <td>403378.075839</td>\n",
       "      <td>0.0</td>\n",
       "      <td>0.0</td>\n",
       "      <td>0.0</td>\n",
       "      <td>0.0</td>\n",
       "      <td>both</td>\n",
       "      <td>1</td>\n",
       "      <td>MEDELLIN</td>\n",
       "      <td>2.0</td>\n",
       "      <td>70.0</td>\n",
       "      <td>0.000000e+00</td>\n",
       "      <td>77.552192</td>\n",
       "      <td>05</td>\n",
       "      <td>82.479605</td>\n",
       "      <td>both</td>\n",
       "    </tr>\n",
       "    <tr>\n",
       "      <th>1</th>\n",
       "      <td>4804535.0</td>\n",
       "      <td>1.0</td>\n",
       "      <td>2.0</td>\n",
       "      <td>1</td>\n",
       "      <td>NaN</td>\n",
       "      <td>NaN</td>\n",
       "      <td></td>\n",
       "      <td>NaN</td>\n",
       "      <td>139923.6438</td>\n",
       "      <td>403378.075839</td>\n",
       "      <td>0.0</td>\n",
       "      <td>0.0</td>\n",
       "      <td>0.0</td>\n",
       "      <td>0.0</td>\n",
       "      <td>both</td>\n",
       "      <td>1</td>\n",
       "      <td>MEDELLIN</td>\n",
       "      <td>1.0</td>\n",
       "      <td>38.0</td>\n",
       "      <td>7.812420e+05</td>\n",
       "      <td>77.552192</td>\n",
       "      <td>05</td>\n",
       "      <td>82.479605</td>\n",
       "      <td>both</td>\n",
       "    </tr>\n",
       "    <tr>\n",
       "      <th>2</th>\n",
       "      <td>4804535.0</td>\n",
       "      <td>1.0</td>\n",
       "      <td>3.0</td>\n",
       "      <td>1</td>\n",
       "      <td>NaN</td>\n",
       "      <td>NaN</td>\n",
       "      <td></td>\n",
       "      <td>NaN</td>\n",
       "      <td>139923.6438</td>\n",
       "      <td>403378.075839</td>\n",
       "      <td>0.0</td>\n",
       "      <td>0.0</td>\n",
       "      <td>0.0</td>\n",
       "      <td>0.0</td>\n",
       "      <td>both</td>\n",
       "      <td>1</td>\n",
       "      <td>MEDELLIN</td>\n",
       "      <td>2.0</td>\n",
       "      <td>23.0</td>\n",
       "      <td>1.097909e+06</td>\n",
       "      <td>77.552192</td>\n",
       "      <td>05</td>\n",
       "      <td>82.479605</td>\n",
       "      <td>both</td>\n",
       "    </tr>\n",
       "    <tr>\n",
       "      <th>3</th>\n",
       "      <td>4804536.0</td>\n",
       "      <td>1.0</td>\n",
       "      <td>1.0</td>\n",
       "      <td>1</td>\n",
       "      <td>NaN</td>\n",
       "      <td>NaN</td>\n",
       "      <td></td>\n",
       "      <td>NaN</td>\n",
       "      <td>139923.6438</td>\n",
       "      <td>403378.075839</td>\n",
       "      <td>0.0</td>\n",
       "      <td>0.0</td>\n",
       "      <td>0.0</td>\n",
       "      <td>0.0</td>\n",
       "      <td>both</td>\n",
       "      <td>1</td>\n",
       "      <td>MEDELLIN</td>\n",
       "      <td>2.0</td>\n",
       "      <td>21.0</td>\n",
       "      <td>4.688211e+06</td>\n",
       "      <td>91.434260</td>\n",
       "      <td>05</td>\n",
       "      <td>95.984900</td>\n",
       "      <td>both</td>\n",
       "    </tr>\n",
       "    <tr>\n",
       "      <th>4</th>\n",
       "      <td>4804536.0</td>\n",
       "      <td>1.0</td>\n",
       "      <td>2.0</td>\n",
       "      <td>1</td>\n",
       "      <td>NaN</td>\n",
       "      <td>NaN</td>\n",
       "      <td></td>\n",
       "      <td>NaN</td>\n",
       "      <td>139923.6438</td>\n",
       "      <td>403378.075839</td>\n",
       "      <td>0.0</td>\n",
       "      <td>0.0</td>\n",
       "      <td>0.0</td>\n",
       "      <td>0.0</td>\n",
       "      <td>both</td>\n",
       "      <td>1</td>\n",
       "      <td>MEDELLIN</td>\n",
       "      <td>2.0</td>\n",
       "      <td>4.0</td>\n",
       "      <td>NaN</td>\n",
       "      <td>91.434260</td>\n",
       "      <td>05</td>\n",
       "      <td>95.984900</td>\n",
       "      <td>both</td>\n",
       "    </tr>\n",
       "  </tbody>\n",
       "</table>\n",
       "</div>"
      ],
      "text/plain": [
       "   directorio  secuencia_p  orden  mes  es_victima  es_desplazado decada_vic  \\\n",
       "0   4804535.0          1.0    1.0    1         NaN            NaN              \n",
       "1   4804535.0          1.0    2.0    1         NaN            NaN              \n",
       "2   4804535.0          1.0    3.0    1         NaN            NaN              \n",
       "3   4804536.0          1.0    1.0    1         NaN            NaN              \n",
       "4   4804536.0          1.0    2.0    1         NaN            NaN              \n",
       "\n",
       "   fex_c_viv           li             lp  pobre  indigente  npobres  \\\n",
       "0        NaN  139923.6438  403378.075839    0.0        0.0      0.0   \n",
       "1        NaN  139923.6438  403378.075839    0.0        0.0      0.0   \n",
       "2        NaN  139923.6438  403378.075839    0.0        0.0      0.0   \n",
       "3        NaN  139923.6438  403378.075839    0.0        0.0      0.0   \n",
       "4        NaN  139923.6438  403378.075839    0.0        0.0      0.0   \n",
       "\n",
       "   nindigentes indicator_column  clase   dominio  p6020  p6040        ingtot  \\\n",
       "0          0.0             both      1  MEDELLIN    2.0   70.0  0.000000e+00   \n",
       "1          0.0             both      1  MEDELLIN    1.0   38.0  7.812420e+05   \n",
       "2          0.0             both      1  MEDELLIN    2.0   23.0  1.097909e+06   \n",
       "3          0.0             both      1  MEDELLIN    2.0   21.0  4.688211e+06   \n",
       "4          0.0             both      1  MEDELLIN    2.0    4.0           NaN   \n",
       "\n",
       "       fex_c depto   fex_dpto indicator_column_vhp  \n",
       "0  77.552192    05  82.479605                 both  \n",
       "1  77.552192    05  82.479605                 both  \n",
       "2  77.552192    05  82.479605                 both  \n",
       "3  91.434260    05  95.984900                 both  \n",
       "4  91.434260    05  95.984900                 both  "
      ]
     },
     "execution_count": 40,
     "metadata": {},
     "output_type": "execute_result"
    }
   ],
   "source": [
    "vic_19_merge_p.head()"
   ]
  },
  {
   "cell_type": "code",
   "execution_count": 41,
   "metadata": {
    "scrolled": false
   },
   "outputs": [
    {
     "data": {
      "text/plain": [
       "0.0    166481\n",
       "1.0     65350\n",
       "Name: pobre, dtype: int64"
      ]
     },
     "execution_count": 41,
     "metadata": {},
     "output_type": "execute_result"
    }
   ],
   "source": [
    "hog_19_sub[\"pobre\"].value_counts() "
   ]
  },
  {
   "cell_type": "code",
   "execution_count": 42,
   "metadata": {},
   "outputs": [],
   "source": [
    "mask =hog_19[\"nper\"] > hog_19[\"npobres\"]"
   ]
  },
  {
   "cell_type": "code",
   "execution_count": 43,
   "metadata": {
    "scrolled": true
   },
   "outputs": [
    {
     "data": {
      "text/plain": [
       "166481"
      ]
     },
     "execution_count": 43,
     "metadata": {},
     "output_type": "execute_result"
    }
   ],
   "source": [
    "mask[mask==True].count()"
   ]
  },
  {
   "cell_type": "code",
   "execution_count": 44,
   "metadata": {},
   "outputs": [
    {
     "data": {
      "text/plain": [
       "0.0    166481\n",
       "Name: pobre, dtype: int64"
      ]
     },
     "execution_count": 44,
     "metadata": {},
     "output_type": "execute_result"
    }
   ],
   "source": [
    "hog_19_mask = hog_19[mask==True]\n",
    "hog_19_mask[\"pobre\"].value_counts()"
   ]
  },
  {
   "cell_type": "code",
   "execution_count": 45,
   "metadata": {},
   "outputs": [
    {
     "data": {
      "text/plain": [
       "0.0    493103\n",
       "1.0    262960\n",
       "Name: pobre, dtype: int64"
      ]
     },
     "execution_count": 45,
     "metadata": {},
     "output_type": "execute_result"
    }
   ],
   "source": [
    "vic_19_merge_p[\"pobre\"].value_counts()"
   ]
  },
  {
   "cell_type": "code",
   "execution_count": 46,
   "metadata": {},
   "outputs": [
    {
     "name": "stdout",
     "output_type": "stream",
     "text": [
      "7877114.0000000335\n"
     ]
    }
   ],
   "source": [
    "print((vic_19_merge_p[\"es_victima\"] * vic_19_merge_p[\"fex_c_viv\"]).sum())"
   ]
  },
  {
   "cell_type": "code",
   "execution_count": 285,
   "metadata": {},
   "outputs": [],
   "source": [
    "def novic(df):\n",
    "    if df[\"es_victima\"]!=1:\n",
    "        x = 1\n",
    "    else:\n",
    "        x= 0\n",
    "    return(x)\n",
    "    "
   ]
  },
  {
   "cell_type": "code",
   "execution_count": 286,
   "metadata": {},
   "outputs": [],
   "source": [
    "vic_19_merge_p[\"no_victima\"] = vic_19_merge_p.apply(novic, axis = 1)"
   ]
  },
  {
   "cell_type": "code",
   "execution_count": 287,
   "metadata": {},
   "outputs": [],
   "source": [
    "##renombrar variables\n",
    "vic_19_merge_p.rename(columns = {\"p6020\":\"sexo\", \"p6040\":\"edad\"}, inplace = True)"
   ]
  },
  {
   "cell_type": "code",
   "execution_count": 288,
   "metadata": {},
   "outputs": [],
   "source": [
    "#vic_21_merge_p.drop(columns=[\"index\"], inplace=True) \n",
    "vic_19_merge_p.drop(columns=[\"indicator_column\", \"indicator_column_vhp\"], inplace=True)"
   ]
  },
  {
   "cell_type": "code",
   "execution_count": 289,
   "metadata": {},
   "outputs": [],
   "source": [
    "vic_19_merge_p[\"periodo\"] = 2019"
   ]
  },
  {
   "cell_type": "code",
   "execution_count": 56,
   "metadata": {
    "scrolled": true
   },
   "outputs": [
    {
     "name": "stdout",
     "output_type": "stream",
     "text": [
      "<class 'pandas.core.frame.DataFrame'>\n",
      "Int64Index: 756063 entries, 0 to 756062\n",
      "Data columns (total 24 columns):\n",
      " #   Column         Non-Null Count   Dtype  \n",
      "---  ------         --------------   -----  \n",
      " 0   directorio     756063 non-null  float64\n",
      " 1   secuencia_p    756063 non-null  float64\n",
      " 2   orden          756063 non-null  float64\n",
      " 3   mes            756063 non-null  int8   \n",
      " 4   es_victima     69605 non-null   float64\n",
      " 5   es_desplazado  69605 non-null   float64\n",
      " 6   decada_vic     756063 non-null  object \n",
      " 7   fex_c_viv      69605 non-null   float64\n",
      " 8   li             756063 non-null  float64\n",
      " 9   lp             756063 non-null  float64\n",
      " 10  pobre          756063 non-null  float64\n",
      " 11  indigente      756063 non-null  float64\n",
      " 12  npobres        756063 non-null  float64\n",
      " 13  nindigentes    756063 non-null  float64\n",
      " 14  clase          756063 non-null  int8   \n",
      " 15  dominio        756063 non-null  object \n",
      " 16  sexo           756063 non-null  float64\n",
      " 17  edad           756063 non-null  float64\n",
      " 18  ingtot         625000 non-null  float64\n",
      " 19  fex_c          756063 non-null  float64\n",
      " 20  depto          756063 non-null  object \n",
      " 21  fex_dpto       756063 non-null  float64\n",
      " 22  no_victima     756063 non-null  int64  \n",
      " 23  periodo        756063 non-null  int64  \n",
      "dtypes: float64(17), int64(2), int8(2), object(3)\n",
      "memory usage: 134.1+ MB\n"
     ]
    }
   ],
   "source": [
    "vic_19_merge_p.info()"
   ]
  },
  {
   "cell_type": "markdown",
   "metadata": {},
   "source": [
    "#### Observar etiquetas de variables posiblemente categóricas"
   ]
  },
  {
   "cell_type": "code",
   "execution_count": 54,
   "metadata": {},
   "outputs": [
    {
     "data": {
      "text/plain": [
       "0.0    695669\n",
       "1.0     60394\n",
       "Name: indigente, dtype: int64"
      ]
     },
     "execution_count": 54,
     "metadata": {},
     "output_type": "execute_result"
    }
   ],
   "source": [
    "vic_19_merge_p[\"indigente\"].value_counts() "
   ]
  },
  {
   "cell_type": "code",
   "execution_count": 98,
   "metadata": {},
   "outputs": [
    {
     "data": {
      "text/plain": [
       "1    684230\n",
       "2     71833\n",
       "Name: clase, dtype: int64"
      ]
     },
     "execution_count": 98,
     "metadata": {},
     "output_type": "execute_result"
    }
   ],
   "source": [
    "vic_19_merge_p[\"clase\"].value_counts() "
   ]
  },
  {
   "cell_type": "code",
   "execution_count": 290,
   "metadata": {},
   "outputs": [],
   "source": [
    "#export\n",
    "vic_19_merge_p.to_stata(\"C:/Users/Estadistico/Desktop/BACKUP_07_07_2022/ivan/DANE_pobreza/2019/Victimas_procesada_2019.dta\",write_index=False)"
   ]
  },
  {
   "cell_type": "markdown",
   "metadata": {},
   "source": [
    "## Validaciones"
   ]
  },
  {
   "cell_type": "code",
   "execution_count": 59,
   "metadata": {},
   "outputs": [],
   "source": [
    "vic_19_merge_p = pd.read_stata(\"C:/Users/Estadistico/Desktop/BACKUP_07_07_2022/ivan/DANE_pobreza/2019/Victimas_procesada_2019.dta\")"
   ]
  },
  {
   "cell_type": "code",
   "execution_count": 60,
   "metadata": {
    "scrolled": true
   },
   "outputs": [
    {
     "data": {
      "text/html": [
       "<div>\n",
       "<style scoped>\n",
       "    .dataframe tbody tr th:only-of-type {\n",
       "        vertical-align: middle;\n",
       "    }\n",
       "\n",
       "    .dataframe tbody tr th {\n",
       "        vertical-align: top;\n",
       "    }\n",
       "\n",
       "    .dataframe thead th {\n",
       "        text-align: right;\n",
       "    }\n",
       "</style>\n",
       "<table border=\"1\" class=\"dataframe\">\n",
       "  <thead>\n",
       "    <tr style=\"text-align: right;\">\n",
       "      <th></th>\n",
       "      <th>directorio</th>\n",
       "      <th>secuencia_p</th>\n",
       "      <th>orden</th>\n",
       "      <th>mes</th>\n",
       "      <th>es_victima</th>\n",
       "      <th>es_desplazado</th>\n",
       "      <th>decada_vic</th>\n",
       "      <th>fex_c_viv</th>\n",
       "      <th>li</th>\n",
       "      <th>lp</th>\n",
       "      <th>pobre</th>\n",
       "      <th>indigente</th>\n",
       "      <th>npobres</th>\n",
       "      <th>nindigentes</th>\n",
       "      <th>clase</th>\n",
       "      <th>dominio</th>\n",
       "      <th>sexo</th>\n",
       "      <th>edad</th>\n",
       "      <th>ingtot</th>\n",
       "      <th>fex_c</th>\n",
       "      <th>depto</th>\n",
       "      <th>fex_dpto</th>\n",
       "      <th>no_victima</th>\n",
       "      <th>periodo</th>\n",
       "    </tr>\n",
       "  </thead>\n",
       "  <tbody>\n",
       "    <tr>\n",
       "      <th>0</th>\n",
       "      <td>4804535.0</td>\n",
       "      <td>1.0</td>\n",
       "      <td>1.0</td>\n",
       "      <td>1</td>\n",
       "      <td>NaN</td>\n",
       "      <td>NaN</td>\n",
       "      <td></td>\n",
       "      <td>NaN</td>\n",
       "      <td>139923.6438</td>\n",
       "      <td>403378.075839</td>\n",
       "      <td>0.0</td>\n",
       "      <td>0.0</td>\n",
       "      <td>0.0</td>\n",
       "      <td>0.0</td>\n",
       "      <td>1</td>\n",
       "      <td>MEDELLIN</td>\n",
       "      <td>2.0</td>\n",
       "      <td>70.0</td>\n",
       "      <td>0.000000e+00</td>\n",
       "      <td>77.552192</td>\n",
       "      <td>05</td>\n",
       "      <td>82.479605</td>\n",
       "      <td>1</td>\n",
       "      <td>2019</td>\n",
       "    </tr>\n",
       "    <tr>\n",
       "      <th>1</th>\n",
       "      <td>4804535.0</td>\n",
       "      <td>1.0</td>\n",
       "      <td>2.0</td>\n",
       "      <td>1</td>\n",
       "      <td>NaN</td>\n",
       "      <td>NaN</td>\n",
       "      <td></td>\n",
       "      <td>NaN</td>\n",
       "      <td>139923.6438</td>\n",
       "      <td>403378.075839</td>\n",
       "      <td>0.0</td>\n",
       "      <td>0.0</td>\n",
       "      <td>0.0</td>\n",
       "      <td>0.0</td>\n",
       "      <td>1</td>\n",
       "      <td>MEDELLIN</td>\n",
       "      <td>1.0</td>\n",
       "      <td>38.0</td>\n",
       "      <td>7.812420e+05</td>\n",
       "      <td>77.552192</td>\n",
       "      <td>05</td>\n",
       "      <td>82.479605</td>\n",
       "      <td>1</td>\n",
       "      <td>2019</td>\n",
       "    </tr>\n",
       "    <tr>\n",
       "      <th>2</th>\n",
       "      <td>4804535.0</td>\n",
       "      <td>1.0</td>\n",
       "      <td>3.0</td>\n",
       "      <td>1</td>\n",
       "      <td>NaN</td>\n",
       "      <td>NaN</td>\n",
       "      <td></td>\n",
       "      <td>NaN</td>\n",
       "      <td>139923.6438</td>\n",
       "      <td>403378.075839</td>\n",
       "      <td>0.0</td>\n",
       "      <td>0.0</td>\n",
       "      <td>0.0</td>\n",
       "      <td>0.0</td>\n",
       "      <td>1</td>\n",
       "      <td>MEDELLIN</td>\n",
       "      <td>2.0</td>\n",
       "      <td>23.0</td>\n",
       "      <td>1.097909e+06</td>\n",
       "      <td>77.552192</td>\n",
       "      <td>05</td>\n",
       "      <td>82.479605</td>\n",
       "      <td>1</td>\n",
       "      <td>2019</td>\n",
       "    </tr>\n",
       "    <tr>\n",
       "      <th>3</th>\n",
       "      <td>4804536.0</td>\n",
       "      <td>1.0</td>\n",
       "      <td>1.0</td>\n",
       "      <td>1</td>\n",
       "      <td>NaN</td>\n",
       "      <td>NaN</td>\n",
       "      <td></td>\n",
       "      <td>NaN</td>\n",
       "      <td>139923.6438</td>\n",
       "      <td>403378.075839</td>\n",
       "      <td>0.0</td>\n",
       "      <td>0.0</td>\n",
       "      <td>0.0</td>\n",
       "      <td>0.0</td>\n",
       "      <td>1</td>\n",
       "      <td>MEDELLIN</td>\n",
       "      <td>2.0</td>\n",
       "      <td>21.0</td>\n",
       "      <td>4.688211e+06</td>\n",
       "      <td>91.434260</td>\n",
       "      <td>05</td>\n",
       "      <td>95.984900</td>\n",
       "      <td>1</td>\n",
       "      <td>2019</td>\n",
       "    </tr>\n",
       "    <tr>\n",
       "      <th>4</th>\n",
       "      <td>4804536.0</td>\n",
       "      <td>1.0</td>\n",
       "      <td>2.0</td>\n",
       "      <td>1</td>\n",
       "      <td>NaN</td>\n",
       "      <td>NaN</td>\n",
       "      <td></td>\n",
       "      <td>NaN</td>\n",
       "      <td>139923.6438</td>\n",
       "      <td>403378.075839</td>\n",
       "      <td>0.0</td>\n",
       "      <td>0.0</td>\n",
       "      <td>0.0</td>\n",
       "      <td>0.0</td>\n",
       "      <td>1</td>\n",
       "      <td>MEDELLIN</td>\n",
       "      <td>2.0</td>\n",
       "      <td>4.0</td>\n",
       "      <td>NaN</td>\n",
       "      <td>91.434260</td>\n",
       "      <td>05</td>\n",
       "      <td>95.984900</td>\n",
       "      <td>1</td>\n",
       "      <td>2019</td>\n",
       "    </tr>\n",
       "  </tbody>\n",
       "</table>\n",
       "</div>"
      ],
      "text/plain": [
       "   directorio  secuencia_p  orden  mes  es_victima  es_desplazado decada_vic  \\\n",
       "0   4804535.0          1.0    1.0    1         NaN            NaN              \n",
       "1   4804535.0          1.0    2.0    1         NaN            NaN              \n",
       "2   4804535.0          1.0    3.0    1         NaN            NaN              \n",
       "3   4804536.0          1.0    1.0    1         NaN            NaN              \n",
       "4   4804536.0          1.0    2.0    1         NaN            NaN              \n",
       "\n",
       "   fex_c_viv           li             lp  pobre  indigente  npobres  \\\n",
       "0        NaN  139923.6438  403378.075839    0.0        0.0      0.0   \n",
       "1        NaN  139923.6438  403378.075839    0.0        0.0      0.0   \n",
       "2        NaN  139923.6438  403378.075839    0.0        0.0      0.0   \n",
       "3        NaN  139923.6438  403378.075839    0.0        0.0      0.0   \n",
       "4        NaN  139923.6438  403378.075839    0.0        0.0      0.0   \n",
       "\n",
       "   nindigentes  clase   dominio  sexo  edad        ingtot      fex_c depto  \\\n",
       "0          0.0      1  MEDELLIN   2.0  70.0  0.000000e+00  77.552192    05   \n",
       "1          0.0      1  MEDELLIN   1.0  38.0  7.812420e+05  77.552192    05   \n",
       "2          0.0      1  MEDELLIN   2.0  23.0  1.097909e+06  77.552192    05   \n",
       "3          0.0      1  MEDELLIN   2.0  21.0  4.688211e+06  91.434260    05   \n",
       "4          0.0      1  MEDELLIN   2.0   4.0           NaN  91.434260    05   \n",
       "\n",
       "    fex_dpto  no_victima  periodo  \n",
       "0  82.479605           1     2019  \n",
       "1  82.479605           1     2019  \n",
       "2  82.479605           1     2019  \n",
       "3  95.984900           1     2019  \n",
       "4  95.984900           1     2019  "
      ]
     },
     "execution_count": 60,
     "metadata": {},
     "output_type": "execute_result"
    }
   ],
   "source": [
    "vic_19_merge_p.head()"
   ]
  },
  {
   "cell_type": "markdown",
   "metadata": {},
   "source": [
    "##### Número de víctimas muestrales y expandidas"
   ]
  },
  {
   "cell_type": "code",
   "execution_count": 61,
   "metadata": {
    "scrolled": false
   },
   "outputs": [
    {
     "name": "stdout",
     "output_type": "stream",
     "text": [
      "1    686458\n",
      "0     69605\n",
      "Name: no_victima, dtype: int64\n",
      "44528053.65511414\n",
      "17470041.534954093\n"
     ]
    }
   ],
   "source": [
    "print(vic_19_merge_p[\"no_victima\"].value_counts())\n",
    "print((vic_19_merge_p[\"no_victima\"] * vic_19_merge_p[\"fex_c\"]).sum())\n",
    "print((vic_19_merge_p[\"pobre\"] * vic_19_merge_p[\"fex_c\"]).sum())"
   ]
  },
  {
   "cell_type": "markdown",
   "metadata": {},
   "source": [
    "##### Tasa pobreza expandida población no víctima"
   ]
  },
  {
   "cell_type": "code",
   "execution_count": 63,
   "metadata": {},
   "outputs": [],
   "source": [
    "mask_2= vic_19_merge_p[\"no_victima\"]==1"
   ]
  },
  {
   "cell_type": "code",
   "execution_count": 64,
   "metadata": {},
   "outputs": [],
   "source": [
    "vic_19_merge_p_mask_nv = vic_19_merge_p[mask_2==True]"
   ]
  },
  {
   "cell_type": "code",
   "execution_count": 65,
   "metadata": {},
   "outputs": [
    {
     "name": "stdout",
     "output_type": "stream",
     "text": [
      "35.02\n"
     ]
    }
   ],
   "source": [
    "print(\n",
    "    round(\n",
    "    ((vic_19_merge_p_mask_nv[\"pobre\"] * vic_19_merge_p_mask_nv[\"fex_c\"]).sum() /\n",
    "      (vic_19_merge_p[\"no_victima\"] * vic_19_merge_p[\"fex_c\"]).sum()*100),2))"
   ]
  },
  {
   "cell_type": "markdown",
   "metadata": {},
   "source": [
    "##### Tasa pobreza expandida población víctima "
   ]
  },
  {
   "cell_type": "code",
   "execution_count": 66,
   "metadata": {},
   "outputs": [],
   "source": [
    "mask_3= vic_19_merge_p[\"es_victima\"]==1"
   ]
  },
  {
   "cell_type": "code",
   "execution_count": 67,
   "metadata": {},
   "outputs": [],
   "source": [
    "vic_19_merge_p_mask_v = vic_19_merge_p[mask_3==True]"
   ]
  },
  {
   "cell_type": "code",
   "execution_count": 68,
   "metadata": {
    "scrolled": true
   },
   "outputs": [
    {
     "name": "stdout",
     "output_type": "stream",
     "text": [
      "42.8028296470069\n"
     ]
    }
   ],
   "source": [
    "print(   \n",
    "    ((vic_19_merge_p_mask_v[\"pobre\"] * vic_19_merge_p_mask_v[\"fex_c_viv\"]).sum() /\n",
    "      (round((vic_19_merge_p[\"es_victima\"] * vic_19_merge_p[\"fex_c_viv\"]),2)).sum())*100)"
   ]
  },
  {
   "cell_type": "markdown",
   "metadata": {},
   "source": [
    "##### Tasa pobreza expandida población víctima desplazamiento"
   ]
  },
  {
   "cell_type": "code",
   "execution_count": 69,
   "metadata": {},
   "outputs": [],
   "source": [
    "mask_4= vic_19_merge_p[\"es_desplazado\"]==1"
   ]
  },
  {
   "cell_type": "code",
   "execution_count": 70,
   "metadata": {},
   "outputs": [],
   "source": [
    "vic_19_merge_p_mask_vd = vic_19_merge_p[mask_4==True]"
   ]
  },
  {
   "cell_type": "code",
   "execution_count": 71,
   "metadata": {
    "scrolled": false
   },
   "outputs": [
    {
     "name": "stdout",
     "output_type": "stream",
     "text": [
      "43.83710637863151\n"
     ]
    }
   ],
   "source": [
    "print(   \n",
    "    ((vic_19_merge_p_mask_vd[\"pobre\"] * vic_19_merge_p_mask_vd[\"fex_c_viv\"]).sum() /\n",
    "      ((vic_19_merge_p[\"es_desplazado\"] * vic_19_merge_p[\"fex_c_viv\"])).sum())*100)"
   ]
  },
  {
   "cell_type": "markdown",
   "metadata": {},
   "source": [
    "##### Tasa pobreza extrema expandida población víctima y víctima desplazamiento"
   ]
  },
  {
   "cell_type": "code",
   "execution_count": 72,
   "metadata": {},
   "outputs": [],
   "source": [
    "mask_5= vic_19_merge_p[\"es_victima\"]==1"
   ]
  },
  {
   "cell_type": "code",
   "execution_count": 73,
   "metadata": {},
   "outputs": [],
   "source": [
    "vic_19_merge_p_mask_v = vic_19_merge_p[mask_5==True]"
   ]
  },
  {
   "cell_type": "code",
   "execution_count": 74,
   "metadata": {
    "scrolled": true
   },
   "outputs": [
    {
     "name": "stdout",
     "output_type": "stream",
     "text": [
      "13.225653827751577\n"
     ]
    }
   ],
   "source": [
    "print(   \n",
    "    ((vic_19_merge_p_mask_v[\"indigente\"] * vic_19_merge_p_mask_v[\"fex_c_viv\"]).sum() /\n",
    "      ((vic_19_merge_p[\"es_victima\"] * vic_19_merge_p[\"fex_c_viv\"])).sum())*100)"
   ]
  },
  {
   "cell_type": "code",
   "execution_count": 75,
   "metadata": {},
   "outputs": [],
   "source": [
    "mask_6= vic_19_merge_p[\"es_desplazado\"]==1"
   ]
  },
  {
   "cell_type": "code",
   "execution_count": 76,
   "metadata": {},
   "outputs": [],
   "source": [
    "vic_19_merge_p_mask_vd = vic_19_merge_p[mask_6==True]"
   ]
  },
  {
   "cell_type": "code",
   "execution_count": 77,
   "metadata": {
    "scrolled": true
   },
   "outputs": [
    {
     "name": "stdout",
     "output_type": "stream",
     "text": [
      "13.561604948016093\n"
     ]
    }
   ],
   "source": [
    "print(   \n",
    "    ((vic_19_merge_p_mask_vd[\"indigente\"] * vic_19_merge_p_mask_vd[\"fex_c_viv\"]).sum() /\n",
    "      ((vic_19_merge_p[\"es_desplazado\"] * vic_19_merge_p[\"fex_c_viv\"])).sum())*100)"
   ]
  },
  {
   "cell_type": "markdown",
   "metadata": {},
   "source": [
    "##### Tasa pobreza extrema expandida población víctima desplazamiento (por sexo)"
   ]
  },
  {
   "cell_type": "code",
   "execution_count": 82,
   "metadata": {},
   "outputs": [],
   "source": [
    "mask_7= vic_19_merge_p[\"es_desplazado\"]==1\n",
    "vic_19_merge_p_mask_v_m = vic_19_merge_p[mask_7==True]\n",
    "mask_7= vic_19_merge_p_mask_v_m[\"sexo\"]==1\n",
    "vic_19_merge_p_mask_v_m = vic_19_merge_p_mask_v_m[mask_7==True]"
   ]
  },
  {
   "cell_type": "code",
   "execution_count": 83,
   "metadata": {},
   "outputs": [],
   "source": [
    "mask_8= vic_19_merge_p[\"es_desplazado\"]==1\n",
    "vic_19_merge_p_mask_v_h = vic_19_merge_p[mask_8==True]\n",
    "mask_8= vic_19_merge_p_mask_v_h[\"sexo\"]==2\n",
    "vic_19_merge_p_mask_v_h = vic_19_merge_p_mask_v_h[mask_8==True]"
   ]
  },
  {
   "cell_type": "code",
   "execution_count": 84,
   "metadata": {
    "scrolled": true
   },
   "outputs": [
    {
     "name": "stdout",
     "output_type": "stream",
     "text": [
      "12.91740651385071\n",
      "14.126570823730908\n"
     ]
    }
   ],
   "source": [
    "print(   \n",
    "    ((vic_19_merge_p_mask_v_m[\"indigente\"] * vic_19_merge_p_mask_v_m[\"fex_c_viv\"]).sum() /\n",
    "      ((vic_19_merge_p_mask_v_m[\"es_desplazado\"] * vic_19_merge_p_mask_v_m[\"fex_c_viv\"])).sum())*100)\n",
    "print(   \n",
    "    ((vic_19_merge_p_mask_v_h[\"indigente\"] * vic_19_merge_p_mask_v_h[\"fex_c_viv\"]).sum() /\n",
    "      ((vic_19_merge_p_mask_v_h[\"es_desplazado\"] * vic_19_merge_p_mask_v_h[\"fex_c_viv\"])).sum())*100)"
   ]
  },
  {
   "cell_type": "markdown",
   "metadata": {},
   "source": [
    "##### Tasa pobreza extrema expandida población víctima desplazamiento (por clase)"
   ]
  },
  {
   "cell_type": "code",
   "execution_count": 94,
   "metadata": {},
   "outputs": [],
   "source": [
    "mask_9= vic_19_merge_p[\"es_desplazado\"]==1\n",
    "vic_19_merge_p_mask_v_c = vic_19_merge_p[mask_9==True]\n",
    "mask_9= vic_19_merge_p_mask_v_c[\"clase\"]==1\n",
    "vic_19_merge_p_mask_v_c = vic_19_merge_p_mask_v_c[mask_9==True]"
   ]
  },
  {
   "cell_type": "code",
   "execution_count": 95,
   "metadata": {},
   "outputs": [],
   "source": [
    "mask_9= vic_19_merge_p_mask_v_c[\"clase\"]==1"
   ]
  },
  {
   "cell_type": "code",
   "execution_count": 99,
   "metadata": {},
   "outputs": [],
   "source": [
    "mask_10= vic_19_merge_p[\"es_desplazado\"]==1\n",
    "vic_19_merge_p_mask_v_r = vic_19_merge_p[mask_10==True]\n",
    "mask_11= vic_19_merge_p_mask_v_r[\"clase\"]==2\n",
    "vic_19_merge_p_mask_v_r = vic_19_merge_p_mask_v_r[mask_11==True]"
   ]
  },
  {
   "cell_type": "code",
   "execution_count": 100,
   "metadata": {
    "scrolled": false
   },
   "outputs": [
    {
     "name": "stdout",
     "output_type": "stream",
     "text": [
      "9.507395981244144\n",
      "22.29390560823639\n"
     ]
    }
   ],
   "source": [
    "print(   \n",
    "    ((vic_19_merge_p_mask_v_c[\"indigente\"] * vic_19_merge_p_mask_v_c[\"fex_c_viv\"]).sum() /\n",
    "      ((vic_19_merge_p_mask_v_c[\"es_desplazado\"] * vic_19_merge_p_mask_v_c[\"fex_c_viv\"])).sum())*100)\n",
    "print(   \n",
    "    ((vic_19_merge_p_mask_v_r[\"indigente\"] * vic_19_merge_p_mask_v_r[\"fex_c_viv\"]).sum() /\n",
    "      ((vic_19_merge_p_mask_v_r[\"es_desplazado\"] * vic_19_merge_p_mask_v_r[\"fex_c_viv\"])).sum())*100)"
   ]
  },
  {
   "cell_type": "markdown",
   "metadata": {},
   "source": [
    "#### Pegue de bases 2019-2021 y exportación"
   ]
  },
  {
   "cell_type": "code",
   "execution_count": 291,
   "metadata": {},
   "outputs": [],
   "source": [
    "vic_19_merge_p = pd.read_stata(\"C:/Users/Estadistico/Desktop/BACKUP_07_07_2022/ivan/DANE_pobreza/2019/Victimas_procesada_2019.dta\")"
   ]
  },
  {
   "cell_type": "code",
   "execution_count": 292,
   "metadata": {},
   "outputs": [],
   "source": [
    "vic_20_merge_p = pd.read_stata(\"C:/Users/Estadistico/Desktop/BACKUP_07_07_2022/ivan/DANE_pobreza/2020/Victimas_procesada_2020.dta\")"
   ]
  },
  {
   "cell_type": "code",
   "execution_count": 293,
   "metadata": {},
   "outputs": [],
   "source": [
    "vic_21_merge_p = pd.read_stata(\"C:/Users/Estadistico/Desktop/BACKUP_07_07_2022/ivan/DANE_pobreza/2021/Victimas_procesada_2021.dta\")"
   ]
  },
  {
   "cell_type": "code",
   "execution_count": 294,
   "metadata": {},
   "outputs": [],
   "source": [
    "frames= [vic_19_merge_p,vic_20_merge_p, vic_21_merge_p]"
   ]
  },
  {
   "cell_type": "code",
   "execution_count": 295,
   "metadata": {},
   "outputs": [],
   "source": [
    "vic_3_periodos = pd.concat(frames, axis=0, join = 'outer', sort = False)"
   ]
  },
  {
   "cell_type": "code",
   "execution_count": 296,
   "metadata": {
    "scrolled": true
   },
   "outputs": [
    {
     "name": "stdout",
     "output_type": "stream",
     "text": [
      "<class 'pandas.core.frame.DataFrame'>\n",
      "Int64Index: 2215266 entries, 0 to 711380\n",
      "Data columns (total 25 columns):\n",
      " #   Column         Dtype  \n",
      "---  ------         -----  \n",
      " 0   directorio     float64\n",
      " 1   secuencia_p    float64\n",
      " 2   orden          float64\n",
      " 3   mes            int8   \n",
      " 4   es_victima     float64\n",
      " 5   es_desplazado  float64\n",
      " 6   decada_vic     object \n",
      " 7   fex_c_viv      float64\n",
      " 8   nper           float64\n",
      " 9   li             float64\n",
      " 10  lp             float64\n",
      " 11  pobre          float64\n",
      " 12  indigente      float64\n",
      " 13  npobres        float64\n",
      " 14  nindigentes    float64\n",
      " 15  clase          object \n",
      " 16  dominio        object \n",
      " 17  sexo           float64\n",
      " 18  edad           float64\n",
      " 19  ingtot         float64\n",
      " 20  fex_c          float64\n",
      " 21  depto          object \n",
      " 22  fex_dpto       float64\n",
      " 23  no_victima     int32  \n",
      " 24  periodo        int32  \n",
      "dtypes: float64(18), int32(2), int8(1), object(4)\n",
      "memory usage: 407.7+ MB\n"
     ]
    }
   ],
   "source": [
    "vic_3_periodos.info()"
   ]
  },
  {
   "cell_type": "code",
   "execution_count": 119,
   "metadata": {},
   "outputs": [
    {
     "data": {
      "text/html": [
       "<div>\n",
       "<style scoped>\n",
       "    .dataframe tbody tr th:only-of-type {\n",
       "        vertical-align: middle;\n",
       "    }\n",
       "\n",
       "    .dataframe tbody tr th {\n",
       "        vertical-align: top;\n",
       "    }\n",
       "\n",
       "    .dataframe thead th {\n",
       "        text-align: right;\n",
       "    }\n",
       "</style>\n",
       "<table border=\"1\" class=\"dataframe\">\n",
       "  <thead>\n",
       "    <tr style=\"text-align: right;\">\n",
       "      <th></th>\n",
       "      <th>directorio</th>\n",
       "      <th>secuencia_p</th>\n",
       "      <th>orden</th>\n",
       "      <th>mes</th>\n",
       "      <th>es_victima</th>\n",
       "      <th>es_desplazado</th>\n",
       "      <th>decada_vic</th>\n",
       "      <th>fex_c_viv</th>\n",
       "      <th>li</th>\n",
       "      <th>lp</th>\n",
       "      <th>pobre</th>\n",
       "      <th>indigente</th>\n",
       "      <th>npobres</th>\n",
       "      <th>nindigentes</th>\n",
       "      <th>clase</th>\n",
       "      <th>dominio</th>\n",
       "      <th>sexo</th>\n",
       "      <th>edad</th>\n",
       "      <th>ingtot</th>\n",
       "      <th>fex_c</th>\n",
       "      <th>depto</th>\n",
       "      <th>fex_dpto</th>\n",
       "      <th>no_victima</th>\n",
       "      <th>periodo</th>\n",
       "    </tr>\n",
       "  </thead>\n",
       "  <tbody>\n",
       "    <tr>\n",
       "      <th>0</th>\n",
       "      <td>4804535.0</td>\n",
       "      <td>1.0</td>\n",
       "      <td>1.0</td>\n",
       "      <td>1</td>\n",
       "      <td>NaN</td>\n",
       "      <td>NaN</td>\n",
       "      <td></td>\n",
       "      <td>NaN</td>\n",
       "      <td>139923.6438</td>\n",
       "      <td>403378.075839</td>\n",
       "      <td>0.0</td>\n",
       "      <td>0.0</td>\n",
       "      <td>0.0</td>\n",
       "      <td>0.0</td>\n",
       "      <td>1</td>\n",
       "      <td>MEDELLIN</td>\n",
       "      <td>2.0</td>\n",
       "      <td>70.0</td>\n",
       "      <td>0.000000e+00</td>\n",
       "      <td>77.552192</td>\n",
       "      <td>05</td>\n",
       "      <td>82.479605</td>\n",
       "      <td>1</td>\n",
       "      <td>2019</td>\n",
       "    </tr>\n",
       "    <tr>\n",
       "      <th>1</th>\n",
       "      <td>4804535.0</td>\n",
       "      <td>1.0</td>\n",
       "      <td>2.0</td>\n",
       "      <td>1</td>\n",
       "      <td>NaN</td>\n",
       "      <td>NaN</td>\n",
       "      <td></td>\n",
       "      <td>NaN</td>\n",
       "      <td>139923.6438</td>\n",
       "      <td>403378.075839</td>\n",
       "      <td>0.0</td>\n",
       "      <td>0.0</td>\n",
       "      <td>0.0</td>\n",
       "      <td>0.0</td>\n",
       "      <td>1</td>\n",
       "      <td>MEDELLIN</td>\n",
       "      <td>1.0</td>\n",
       "      <td>38.0</td>\n",
       "      <td>7.812420e+05</td>\n",
       "      <td>77.552192</td>\n",
       "      <td>05</td>\n",
       "      <td>82.479605</td>\n",
       "      <td>1</td>\n",
       "      <td>2019</td>\n",
       "    </tr>\n",
       "    <tr>\n",
       "      <th>2</th>\n",
       "      <td>4804535.0</td>\n",
       "      <td>1.0</td>\n",
       "      <td>3.0</td>\n",
       "      <td>1</td>\n",
       "      <td>NaN</td>\n",
       "      <td>NaN</td>\n",
       "      <td></td>\n",
       "      <td>NaN</td>\n",
       "      <td>139923.6438</td>\n",
       "      <td>403378.075839</td>\n",
       "      <td>0.0</td>\n",
       "      <td>0.0</td>\n",
       "      <td>0.0</td>\n",
       "      <td>0.0</td>\n",
       "      <td>1</td>\n",
       "      <td>MEDELLIN</td>\n",
       "      <td>2.0</td>\n",
       "      <td>23.0</td>\n",
       "      <td>1.097909e+06</td>\n",
       "      <td>77.552192</td>\n",
       "      <td>05</td>\n",
       "      <td>82.479605</td>\n",
       "      <td>1</td>\n",
       "      <td>2019</td>\n",
       "    </tr>\n",
       "    <tr>\n",
       "      <th>3</th>\n",
       "      <td>4804536.0</td>\n",
       "      <td>1.0</td>\n",
       "      <td>1.0</td>\n",
       "      <td>1</td>\n",
       "      <td>NaN</td>\n",
       "      <td>NaN</td>\n",
       "      <td></td>\n",
       "      <td>NaN</td>\n",
       "      <td>139923.6438</td>\n",
       "      <td>403378.075839</td>\n",
       "      <td>0.0</td>\n",
       "      <td>0.0</td>\n",
       "      <td>0.0</td>\n",
       "      <td>0.0</td>\n",
       "      <td>1</td>\n",
       "      <td>MEDELLIN</td>\n",
       "      <td>2.0</td>\n",
       "      <td>21.0</td>\n",
       "      <td>4.688211e+06</td>\n",
       "      <td>91.434260</td>\n",
       "      <td>05</td>\n",
       "      <td>95.984900</td>\n",
       "      <td>1</td>\n",
       "      <td>2019</td>\n",
       "    </tr>\n",
       "    <tr>\n",
       "      <th>4</th>\n",
       "      <td>4804536.0</td>\n",
       "      <td>1.0</td>\n",
       "      <td>2.0</td>\n",
       "      <td>1</td>\n",
       "      <td>NaN</td>\n",
       "      <td>NaN</td>\n",
       "      <td></td>\n",
       "      <td>NaN</td>\n",
       "      <td>139923.6438</td>\n",
       "      <td>403378.075839</td>\n",
       "      <td>0.0</td>\n",
       "      <td>0.0</td>\n",
       "      <td>0.0</td>\n",
       "      <td>0.0</td>\n",
       "      <td>1</td>\n",
       "      <td>MEDELLIN</td>\n",
       "      <td>2.0</td>\n",
       "      <td>4.0</td>\n",
       "      <td>NaN</td>\n",
       "      <td>91.434260</td>\n",
       "      <td>05</td>\n",
       "      <td>95.984900</td>\n",
       "      <td>1</td>\n",
       "      <td>2019</td>\n",
       "    </tr>\n",
       "  </tbody>\n",
       "</table>\n",
       "</div>"
      ],
      "text/plain": [
       "   directorio  secuencia_p  orden  mes  es_victima  es_desplazado decada_vic  \\\n",
       "0   4804535.0          1.0    1.0    1         NaN            NaN              \n",
       "1   4804535.0          1.0    2.0    1         NaN            NaN              \n",
       "2   4804535.0          1.0    3.0    1         NaN            NaN              \n",
       "3   4804536.0          1.0    1.0    1         NaN            NaN              \n",
       "4   4804536.0          1.0    2.0    1         NaN            NaN              \n",
       "\n",
       "   fex_c_viv           li             lp  pobre  indigente  npobres  \\\n",
       "0        NaN  139923.6438  403378.075839    0.0        0.0      0.0   \n",
       "1        NaN  139923.6438  403378.075839    0.0        0.0      0.0   \n",
       "2        NaN  139923.6438  403378.075839    0.0        0.0      0.0   \n",
       "3        NaN  139923.6438  403378.075839    0.0        0.0      0.0   \n",
       "4        NaN  139923.6438  403378.075839    0.0        0.0      0.0   \n",
       "\n",
       "   nindigentes  clase   dominio  sexo  edad        ingtot      fex_c depto  \\\n",
       "0          0.0      1  MEDELLIN   2.0  70.0  0.000000e+00  77.552192    05   \n",
       "1          0.0      1  MEDELLIN   1.0  38.0  7.812420e+05  77.552192    05   \n",
       "2          0.0      1  MEDELLIN   2.0  23.0  1.097909e+06  77.552192    05   \n",
       "3          0.0      1  MEDELLIN   2.0  21.0  4.688211e+06  91.434260    05   \n",
       "4          0.0      1  MEDELLIN   2.0   4.0           NaN  91.434260    05   \n",
       "\n",
       "    fex_dpto  no_victima  periodo  \n",
       "0  82.479605           1     2019  \n",
       "1  82.479605           1     2019  \n",
       "2  82.479605           1     2019  \n",
       "3  95.984900           1     2019  \n",
       "4  95.984900           1     2019  "
      ]
     },
     "execution_count": 119,
     "metadata": {},
     "output_type": "execute_result"
    }
   ],
   "source": [
    "vic_3_periodos.head()"
   ]
  },
  {
   "cell_type": "code",
   "execution_count": 121,
   "metadata": {
    "scrolled": true
   },
   "outputs": [
    {
     "data": {
      "text/plain": [
       "2019    756063\n",
       "2020    747822\n",
       "2021    711381\n",
       "Name: periodo, dtype: int64"
      ]
     },
     "execution_count": 121,
     "metadata": {},
     "output_type": "execute_result"
    }
   ],
   "source": [
    "vic_3_periodos[\"periodo\"].value_counts()"
   ]
  },
  {
   "cell_type": "markdown",
   "metadata": {},
   "source": [
    "##### Tasa pobreza extrema expandida población víctima desplazamiento (por sexo)"
   ]
  },
  {
   "cell_type": "code",
   "execution_count": 312,
   "metadata": {},
   "outputs": [],
   "source": [
    "mask_7= vic_3_periodos[\"es_desplazado\"]==1\n",
    "vic_3_periodos_mask_v_m = vic_3_periodos[mask_7==True]\n",
    "mask_7= vic_3_periodos_mask_v_m[\"sexo\"]==1\n",
    "vic_3_periodos_mask_v_m = vic_3_periodos_mask_v_m[mask_7==True]\n",
    "mask_7=vic_3_periodos_mask_v_m[\"periodo\"]==2019\n",
    "vic_3_periodos_mask_v_m = vic_3_periodos_mask_v_m[mask_7==True]"
   ]
  },
  {
   "cell_type": "code",
   "execution_count": 313,
   "metadata": {},
   "outputs": [],
   "source": [
    "mask_8= vic_3_periodos[\"es_desplazado\"]==1\n",
    "vic_3_periodos_mask_v_h = vic_3_periodos[mask_8==True]\n",
    "mask_8= vic_3_periodos_mask_v_h[\"sexo\"]==2\n",
    "vic_3_periodos_mask_v_h = vic_3_periodos_mask_v_h[mask_8==True]\n",
    "mask_8= vic_3_periodos_mask_v_h[\"periodo\"]==2020\n",
    "vic_3_periodos_mask_v_h = vic_3_periodos_mask_v_h[mask_8==True]"
   ]
  },
  {
   "cell_type": "code",
   "execution_count": 314,
   "metadata": {
    "scrolled": true
   },
   "outputs": [
    {
     "name": "stdout",
     "output_type": "stream",
     "text": [
      "12.91740651385071\n",
      "21.174379535237584\n"
     ]
    }
   ],
   "source": [
    "print(   \n",
    "    ((vic_3_periodos_mask_v_m[\"indigente\"] * vic_3_periodos_mask_v_m[\"fex_c_viv\"]).sum() /\n",
    "      ((vic_3_periodos_mask_v_m[\"es_desplazado\"] * vic_3_periodos_mask_v_m[\"fex_c_viv\"])).sum())*100)\n",
    "print(   \n",
    "    ((vic_3_periodos_mask_v_h[\"indigente\"] * vic_3_periodos_mask_v_h[\"fex_c_viv\"]).sum() /\n",
    "      ((vic_3_periodos_mask_v_h[\"es_desplazado\"] * vic_3_periodos_mask_v_h[\"fex_c_viv\"])).sum())*100)"
   ]
  },
  {
   "cell_type": "markdown",
   "metadata": {},
   "source": [
    "##### Tasa pobreza extrema expandida población víctima desplazamiento (por clase)"
   ]
  },
  {
   "cell_type": "code",
   "execution_count": 317,
   "metadata": {},
   "outputs": [],
   "source": [
    "mask_9= vic_3_periodos[\"es_desplazado\"]==1\n",
    "vic_3_periodos_mask_v_c = vic_3_periodos[mask_9==True]\n",
    "mask_9= vic_3_periodos_mask_v_c[\"clase\"]==1\n",
    "vic_3_periodos_mask_v_c = vic_3_periodos_mask_v_c[mask_9==True]\n",
    "mask_9=vic_3_periodos_mask_v_c[\"periodo\"]==2019\n",
    "vic_3_periodos_mask_v_c = vic_3_periodos_mask_v_c[mask_9==True]"
   ]
  },
  {
   "cell_type": "code",
   "execution_count": 319,
   "metadata": {},
   "outputs": [],
   "source": [
    "mask_10= vic_3_periodos[\"es_desplazado\"]==1\n",
    "vic_3_periodos_mask_v_r = vic_3_periodos[mask_10==True]\n",
    "mask_10= vic_3_periodos_mask_v_r[\"clase\"]==2\n",
    "vic_3_periodos_mask_v_r = vic_3_periodos_mask_v_r[mask_10==True]\n",
    "mask_10=vic_3_periodos_mask_v_r[\"periodo\"]==2019\n",
    "vic_3_periodos_mask_v_r = vic_3_periodos_mask_v_r[mask_10==True]"
   ]
  },
  {
   "cell_type": "code",
   "execution_count": 320,
   "metadata": {
    "scrolled": true
   },
   "outputs": [
    {
     "name": "stdout",
     "output_type": "stream",
     "text": [
      "9.507395981244144\n",
      "22.29390560823639\n"
     ]
    }
   ],
   "source": [
    "print(   \n",
    "    ((vic_3_periodos_mask_v_c[\"indigente\"] * vic_3_periodos_mask_v_c[\"fex_c_viv\"]).sum() /\n",
    "      ((vic_3_periodos_mask_v_c[\"es_desplazado\"] * vic_3_periodos_mask_v_c[\"fex_c_viv\"])).sum())*100)\n",
    "print(   \n",
    "    ((vic_3_periodos_mask_v_r[\"indigente\"] * vic_3_periodos_mask_v_r[\"fex_c_viv\"]).sum() /\n",
    "      ((vic_3_periodos_mask_v_r[\"es_desplazado\"] * vic_3_periodos_mask_v_r[\"fex_c_viv\"])).sum())*100)"
   ]
  },
  {
   "cell_type": "code",
   "execution_count": 338,
   "metadata": {},
   "outputs": [],
   "source": [
    "vic_3_periodos.iloc[:,15] = pd.to_numeric(vic_3_periodos.iloc[:,15], downcast = 'integer')"
   ]
  },
  {
   "cell_type": "code",
   "execution_count": 340,
   "metadata": {},
   "outputs": [
    {
     "name": "stdout",
     "output_type": "stream",
     "text": [
      "<class 'pandas.core.frame.DataFrame'>\n",
      "Int64Index: 2215266 entries, 0 to 711380\n",
      "Data columns (total 25 columns):\n",
      " #   Column         Dtype  \n",
      "---  ------         -----  \n",
      " 0   directorio     float64\n",
      " 1   secuencia_p    float64\n",
      " 2   orden          float64\n",
      " 3   mes            int8   \n",
      " 4   es_victima     float64\n",
      " 5   es_desplazado  float64\n",
      " 6   decada_vic     object \n",
      " 7   fex_c_viv      float64\n",
      " 8   nper           float64\n",
      " 9   li             float64\n",
      " 10  lp             float64\n",
      " 11  pobre          float64\n",
      " 12  indigente      float64\n",
      " 13  npobres        float64\n",
      " 14  nindigentes    float64\n",
      " 15  clase          int8   \n",
      " 16  dominio        object \n",
      " 17  sexo           float64\n",
      " 18  edad           float64\n",
      " 19  ingtot         float64\n",
      " 20  fex_c          float64\n",
      " 21  depto          object \n",
      " 22  fex_dpto       float64\n",
      " 23  no_victima     int32  \n",
      " 24  periodo        int32  \n",
      "dtypes: float64(18), int32(2), int8(2), object(3)\n",
      "memory usage: 393.0+ MB\n"
     ]
    }
   ],
   "source": [
    "vic_3_periodos.info()"
   ]
  },
  {
   "cell_type": "code",
   "execution_count": 341,
   "metadata": {},
   "outputs": [],
   "source": [
    "vic_3_periodos.to_stata(\"C:/Users/Estadistico/Desktop/BACKUP_07_07_2022/ivan/DANE_pobreza/vic_3_periodos.dta\",write_index=False)"
   ]
  },
  {
   "cell_type": "markdown",
   "metadata": {},
   "source": [
    "### Gráfico de tasa pobreza y pobreza extrema víctimas desplazamiento expandida"
   ]
  },
  {
   "cell_type": "markdown",
   "metadata": {},
   "source": [
    "##### Tasa pobreza expandida población no víctima"
   ]
  },
  {
   "cell_type": "code",
   "execution_count": 321,
   "metadata": {},
   "outputs": [],
   "source": [
    "mask_12 = vic_3_periodos[\"no_victima\"]==1\n",
    "p_nv = vic_3_periodos[mask_12==True]\n",
    "mask_12 = p_nv[\"periodo\"]==2019\n",
    "p_nv = p_nv[mask_12==True]"
   ]
  },
  {
   "cell_type": "code",
   "execution_count": 322,
   "metadata": {},
   "outputs": [],
   "source": [
    "mask_13 = vic_3_periodos[\"no_victima\"]==1\n",
    "p_nv2 = vic_3_periodos[mask_13==True]\n",
    "mask_13=p_nv2[\"periodo\"]==2020\n",
    "p_nv2 = p_nv2[mask_13==True]"
   ]
  },
  {
   "cell_type": "code",
   "execution_count": 323,
   "metadata": {},
   "outputs": [],
   "source": [
    "mask_14 = vic_3_periodos[\"no_victima\"]==1\n",
    "p_nv3 = vic_3_periodos[mask_14==True]\n",
    "mask_14 = p_nv3[\"periodo\"]==2021\n",
    "p_nv3 = p_nv3[mask_14==True]"
   ]
  },
  {
   "cell_type": "code",
   "execution_count": 324,
   "metadata": {
    "scrolled": true
   },
   "outputs": [
    {
     "name": "stdout",
     "output_type": "stream",
     "text": [
      "35.02 41.29 37.87\n"
     ]
    }
   ],
   "source": [
    "p_nv_1= round(   \n",
    "    ((p_nv[\"pobre\"] * p_nv[\"fex_c\"]).sum() /\n",
    "      ((p_nv[\"no_victima\"] * p_nv[\"fex_c\"])).sum())*100,2)\n",
    "\n",
    "p_nv_2 = round(   \n",
    "    ((p_nv2[\"pobre\"] * p_nv2[\"fex_c\"]).sum() /\n",
    "      ((p_nv2[\"no_victima\"] * p_nv2[\"fex_c\"])).sum())*100,2)\n",
    "\n",
    "p_nv_3 = round(   \n",
    "    ((p_nv3[\"pobre\"] * p_nv3[\"fex_c\"]).sum() /\n",
    "      ((p_nv3[\"no_victima\"] * p_nv3[\"fex_c\"])).sum())*100,2)\n",
    "print(p_nv_1, p_nv_2, p_nv_3)"
   ]
  },
  {
   "cell_type": "markdown",
   "metadata": {},
   "source": [
    "##### Tasa pobreza expandida población víctima desplazamiento"
   ]
  },
  {
   "cell_type": "code",
   "execution_count": 325,
   "metadata": {},
   "outputs": [],
   "source": [
    "mask_15 = vic_3_periodos[\"es_desplazado\"]==1\n",
    "p_v = vic_3_periodos[mask_15==True]\n",
    "mask_15 = p_v[\"periodo\"]==2019\n",
    "p_v = p_v[mask_15==True]"
   ]
  },
  {
   "cell_type": "code",
   "execution_count": 326,
   "metadata": {},
   "outputs": [],
   "source": [
    "mask_16 = vic_3_periodos[\"es_desplazado\"]==1\n",
    "p_v2 = vic_3_periodos[mask_16==True]\n",
    "mask_16=p_v2[\"periodo\"]==2020\n",
    "p_v2 = p_v2[mask_16==True]"
   ]
  },
  {
   "cell_type": "code",
   "execution_count": 327,
   "metadata": {},
   "outputs": [],
   "source": [
    "mask_17 = vic_3_periodos[\"es_desplazado\"]==1\n",
    "p_v3 = vic_3_periodos[mask_17==True]\n",
    "mask_17 = p_v3[\"periodo\"]==2021\n",
    "p_v3 = p_v3[mask_17==True]"
   ]
  },
  {
   "cell_type": "code",
   "execution_count": 328,
   "metadata": {
    "scrolled": true
   },
   "outputs": [
    {
     "name": "stdout",
     "output_type": "stream",
     "text": [
      "43.84 53.39 51.57\n"
     ]
    }
   ],
   "source": [
    "p_v_1= round(   \n",
    "    ((p_v[\"pobre\"] * p_v[\"fex_c_viv\"]).sum() /\n",
    "      ((p_v[\"es_desplazado\"] * p_v[\"fex_c_viv\"])).sum())*100,2)\n",
    "\n",
    "p_v_2 = round(   \n",
    "    ((p_v2[\"pobre\"] * p_v2[\"fex_c_viv\"]).sum() /\n",
    "      ((p_v2[\"es_desplazado\"] * p_v2[\"fex_c_viv\"])).sum())*100,2)\n",
    "\n",
    "p_v_3 = round(   \n",
    "    ((p_v3[\"pobre\"] * p_v3[\"fex_c_viv\"]).sum() /\n",
    "      ((p_v3[\"es_desplazado\"] * p_v3[\"fex_c_viv\"])).sum())*100,2)\n",
    "print(p_v_1, p_v_2, p_v_3)"
   ]
  },
  {
   "cell_type": "code",
   "execution_count": 329,
   "metadata": {},
   "outputs": [
    {
     "data": {
      "image/png": "[encoded data removed]",
      "text/plain": [
       "<Figure size 432x288 with 1 Axes>"
      ]
     },
     "metadata": {
      "needs_background": "light"
     },
     "output_type": "display_data"
    }
   ],
   "source": [
    "# Scatter plot\n",
    "Año = [2019, 2020, 2021]\n",
    "Pobreza_nv = [p_nv_1, p_nv_2, p_nv_3] \n",
    "Pobreza_v = [p_v_1, p_v_2, p_v_3]\n",
    "Dif =np.array(Pobreza_v) - np.array(Pobreza_nv)\n",
    "vectorize_round = np.vectorize(round)\n",
    "Dif = vectorize_round(Dif,2)\n",
    "\n",
    "plt.plot(Año, Pobreza_nv, label=\"No Víctima\", marker = '.', color = \"green\")\n",
    "plt.plot(Año, Pobreza_v, label=\"Víctima Despl.\", marker = '.', color = \"orange\")\n",
    "plt.plot(Año, Dif, label=\"Diferencia\",ls = '-.', marker = '^', color = \"blue\")\n",
    "plt.legend(loc = \"upper left\")\n",
    "\n",
    "# Previous customizations\n",
    "plt.ylim(5,70)\n",
    "plt.xlabel('Año')\n",
    "plt.ylabel('[%]')\n",
    "plt.title(\"Tasa de pobreza Monetaria. Víctimas Desplazamiento vs No Víctimas\\n\" + \"2019-2021\", \n",
    "    color = \"Black\")\n",
    "#plt.xticks([1000,10000,100000], ['1k','10k','100k'])\n",
    "# Additional customizations\n",
    "#plt.text(1550, 71, 'India')\n",
    "#plt.text(5700, 80, 'China')\n",
    "plt.xticks([2019, 2020, 2021], [\"2019\", \"2020\", \"2021\"] )\n",
    "# Add grid() call\n",
    "#plt.grid(True) #aggregate lines\n",
    "#etiquetar datos\n",
    "for x, y in zip(Año, Pobreza_nv):\n",
    "    plt.text(x, y, y,  ha='center', va='bottom', fontsize=10.5)\n",
    "for x, y in zip(Año, Pobreza_v):\n",
    "    plt.text(x, y, y,  ha='center', va='bottom', fontsize=10.5)\n",
    "for x, y in zip(Año, Dif):\n",
    "    plt.text(x, y, y,  ha='center', va='bottom', fontsize=10.5)\n",
    "# Show the plot\n",
    "plt.show()\n"
   ]
  },
  {
   "cell_type": "code",
   "execution_count": 342,
   "metadata": {},
   "outputs": [
    {
     "name": "stdout",
     "output_type": "stream",
     "text": [
      "<class 'pandas.core.frame.DataFrame'>\n",
      "Int64Index: 2215266 entries, 0 to 711380\n",
      "Data columns (total 25 columns):\n",
      " #   Column         Dtype  \n",
      "---  ------         -----  \n",
      " 0   directorio     float64\n",
      " 1   secuencia_p    float64\n",
      " 2   orden          float64\n",
      " 3   mes            int8   \n",
      " 4   es_victima     float64\n",
      " 5   es_desplazado  float64\n",
      " 6   decada_vic     object \n",
      " 7   fex_c_viv      float64\n",
      " 8   nper           float64\n",
      " 9   li             float64\n",
      " 10  lp             float64\n",
      " 11  pobre          float64\n",
      " 12  indigente      float64\n",
      " 13  npobres        float64\n",
      " 14  nindigentes    float64\n",
      " 15  clase          int8   \n",
      " 16  dominio        object \n",
      " 17  sexo           float64\n",
      " 18  edad           float64\n",
      " 19  ingtot         float64\n",
      " 20  fex_c          float64\n",
      " 21  depto          object \n",
      " 22  fex_dpto       float64\n",
      " 23  no_victima     int32  \n",
      " 24  periodo        int32  \n",
      "dtypes: float64(18), int32(2), int8(2), object(3)\n",
      "memory usage: 393.0+ MB\n"
     ]
    }
   ],
   "source": [
    "vic_3_periodos.info()"
   ]
  }
 ],
 "metadata": {
  "kernelspec": {
   "display_name": "Python 3",
   "language": "python",
   "name": "python3"
  },
  "language_info": {
   "codemirror_mode": {
    "name": "ipython",
    "version": 3
   },
   "file_extension": ".py",
   "mimetype": "text/x-python",
   "name": "python",
   "nbconvert_exporter": "python",
   "pygments_lexer": "ipython3",
   "version": "3.8.3"
  }
 },
 "nbformat": 4,
 "nbformat_minor": 4
}
