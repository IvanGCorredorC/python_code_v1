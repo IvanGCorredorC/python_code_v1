{
 "cells": [
  {
   "cell_type": "code",
   "execution_count": 62,
   "metadata": {},
   "outputs": [],
   "source": [
    "import numpy as np\n",
    "import pandas as pd\n",
    "from numpy import average"
   ]
  },
  {
   "cell_type": "code",
   "execution_count": 63,
   "metadata": {},
   "outputs": [],
   "source": [
    "### Procesamiento base de pobreza"
   ]
  },
  {
   "cell_type": "code",
   "execution_count": 64,
   "metadata": {},
   "outputs": [],
   "source": [
    "vic_21 = pd.read_stata(\"C:/Users/Estadistico/Desktop/BACKUP_07_07_2022/ivan/DANE_pobreza/2021/Victimas_GEIH 2021.dta\")"
   ]
  },
  {
   "cell_type": "code",
   "execution_count": 65,
   "metadata": {},
   "outputs": [],
   "source": [
    "per_21 = pd.read_stata(\"C:/Users/Estadistico/Desktop/BACKUP_07_07_2022/ivan/DANE_pobreza/2021/Personas.dta\")"
   ]
  },
  {
   "cell_type": "code",
   "execution_count": 66,
   "metadata": {},
   "outputs": [],
   "source": [
    "hog_21 = pd.read_stata(\"C:/Users/Estadistico/Desktop/BACKUP_07_07_2022/ivan/DANE_pobreza/2021/Hogares.dta\")"
   ]
  },
  {
   "cell_type": "code",
   "execution_count": 6,
   "metadata": {},
   "outputs": [
    {
     "name": "stdout",
     "output_type": "stream",
     "text": [
      "<class 'pandas.core.frame.DataFrame'>\n",
      "Int64Index: 711381 entries, 0 to 711380\n",
      "Data columns (total 8 columns):\n",
      " #   Column         Non-Null Count   Dtype  \n",
      "---  ------         --------------   -----  \n",
      " 0   directorio     711381 non-null  float64\n",
      " 1   secuencia_p    711381 non-null  float64\n",
      " 2   orden          711381 non-null  float64\n",
      " 3   mes            711381 non-null  int8   \n",
      " 4   es_victima     84419 non-null   float64\n",
      " 5   es_desplazado  84419 non-null   float64\n",
      " 6   decada_vic     711381 non-null  object \n",
      " 7   fex_c_viv      84419 non-null   float64\n",
      "dtypes: float64(6), int8(1), object(1)\n",
      "memory usage: 44.1+ MB\n"
     ]
    }
   ],
   "source": [
    "vic_21.info()"
   ]
  },
  {
   "cell_type": "code",
   "execution_count": 7,
   "metadata": {},
   "outputs": [
    {
     "data": {
      "text/html": [
       "<div>\n",
       "<style scoped>\n",
       "    .dataframe tbody tr th:only-of-type {\n",
       "        vertical-align: middle;\n",
       "    }\n",
       "\n",
       "    .dataframe tbody tr th {\n",
       "        vertical-align: top;\n",
       "    }\n",
       "\n",
       "    .dataframe thead th {\n",
       "        text-align: right;\n",
       "    }\n",
       "</style>\n",
       "<table border=\"1\" class=\"dataframe\">\n",
       "  <thead>\n",
       "    <tr style=\"text-align: right;\">\n",
       "      <th></th>\n",
       "      <th>directorio</th>\n",
       "      <th>secuencia_p</th>\n",
       "      <th>orden</th>\n",
       "      <th>mes</th>\n",
       "      <th>es_victima</th>\n",
       "      <th>es_desplazado</th>\n",
       "      <th>decada_vic</th>\n",
       "      <th>fex_c_viv</th>\n",
       "    </tr>\n",
       "  </thead>\n",
       "  <tbody>\n",
       "    <tr>\n",
       "      <th>0</th>\n",
       "      <td>5332763.0</td>\n",
       "      <td>1.0</td>\n",
       "      <td>1.0</td>\n",
       "      <td>1</td>\n",
       "      <td>1.0</td>\n",
       "      <td>0.0</td>\n",
       "      <td>a. 2010-2021</td>\n",
       "      <td>14.003113</td>\n",
       "    </tr>\n",
       "    <tr>\n",
       "      <th>1</th>\n",
       "      <td>5332763.0</td>\n",
       "      <td>1.0</td>\n",
       "      <td>2.0</td>\n",
       "      <td>1</td>\n",
       "      <td>NaN</td>\n",
       "      <td>NaN</td>\n",
       "      <td></td>\n",
       "      <td>NaN</td>\n",
       "    </tr>\n",
       "    <tr>\n",
       "      <th>2</th>\n",
       "      <td>5332763.0</td>\n",
       "      <td>1.0</td>\n",
       "      <td>3.0</td>\n",
       "      <td>1</td>\n",
       "      <td>NaN</td>\n",
       "      <td>NaN</td>\n",
       "      <td></td>\n",
       "      <td>NaN</td>\n",
       "    </tr>\n",
       "    <tr>\n",
       "      <th>3</th>\n",
       "      <td>5332763.0</td>\n",
       "      <td>1.0</td>\n",
       "      <td>4.0</td>\n",
       "      <td>1</td>\n",
       "      <td>NaN</td>\n",
       "      <td>NaN</td>\n",
       "      <td></td>\n",
       "      <td>NaN</td>\n",
       "    </tr>\n",
       "    <tr>\n",
       "      <th>4</th>\n",
       "      <td>5332764.0</td>\n",
       "      <td>1.0</td>\n",
       "      <td>1.0</td>\n",
       "      <td>1</td>\n",
       "      <td>NaN</td>\n",
       "      <td>NaN</td>\n",
       "      <td></td>\n",
       "      <td>NaN</td>\n",
       "    </tr>\n",
       "  </tbody>\n",
       "</table>\n",
       "</div>"
      ],
      "text/plain": [
       "   directorio  secuencia_p  orden  mes  es_victima  es_desplazado  \\\n",
       "0   5332763.0          1.0    1.0    1         1.0            0.0   \n",
       "1   5332763.0          1.0    2.0    1         NaN            NaN   \n",
       "2   5332763.0          1.0    3.0    1         NaN            NaN   \n",
       "3   5332763.0          1.0    4.0    1         NaN            NaN   \n",
       "4   5332764.0          1.0    1.0    1         NaN            NaN   \n",
       "\n",
       "     decada_vic  fex_c_viv  \n",
       "0  a. 2010-2021  14.003113  \n",
       "1                      NaN  \n",
       "2                      NaN  \n",
       "3                      NaN  \n",
       "4                      NaN  "
      ]
     },
     "execution_count": 7,
     "metadata": {},
     "output_type": "execute_result"
    }
   ],
   "source": [
    "vic_21.head()"
   ]
  },
  {
   "cell_type": "code",
   "execution_count": 8,
   "metadata": {
    "scrolled": true
   },
   "outputs": [
    {
     "name": "stdout",
     "output_type": "stream",
     "text": [
      "1.0    84419\n",
      "Name: es_victima, dtype: int64\n",
      "1.0    78198\n",
      "0.0     6221\n",
      "Name: es_desplazado, dtype: int64\n"
     ]
    }
   ],
   "source": [
    "print(vic_21[\"es_victima\"].value_counts())\n",
    "print(vic_21[\"es_desplazado\"].value_counts())"
   ]
  },
  {
   "cell_type": "code",
   "execution_count": 9,
   "metadata": {
    "scrolled": true
   },
   "outputs": [
    {
     "name": "stdout",
     "output_type": "stream",
     "text": [
      "<class 'pandas.core.frame.DataFrame'>\n",
      "Int64Index: 225853 entries, 0 to 225852\n",
      "Data columns (total 22 columns):\n",
      " #   Column       Non-Null Count   Dtype  \n",
      "---  ------       --------------   -----  \n",
      " 0   directorio   225853 non-null  float64\n",
      " 1   secuencia_p  225853 non-null  float64\n",
      " 2   mes          225853 non-null  object \n",
      " 3   clase        225853 non-null  object \n",
      " 4   dominio      225853 non-null  object \n",
      " 5   p5090        225853 non-null  float64\n",
      " 6   p5100        6471 non-null    float64\n",
      " 7   p5130        132776 non-null  float64\n",
      " 8   nper         225853 non-null  float64\n",
      " 9   npersug      225853 non-null  float64\n",
      " 10  ingtotug     225853 non-null  float64\n",
      " 11  ingtotugarr  225853 non-null  float64\n",
      " 12  ingpcug      225853 non-null  float64\n",
      " 13  li           225853 non-null  float64\n",
      " 14  lp           225853 non-null  float64\n",
      " 15  pobre        225853 non-null  float64\n",
      " 16  indigente    225853 non-null  float64\n",
      " 17  npobres      225853 non-null  float64\n",
      " 18  nindigentes  225853 non-null  float64\n",
      " 19  fex_c        225853 non-null  float64\n",
      " 20  dpto         225853 non-null  object \n",
      " 21  fex_dpto     225853 non-null  float64\n",
      "dtypes: float64(18), object(4)\n",
      "memory usage: 39.6+ MB\n"
     ]
    }
   ],
   "source": [
    "hog_21.info()"
   ]
  },
  {
   "cell_type": "code",
   "execution_count": 10,
   "metadata": {},
   "outputs": [
    {
     "name": "stdout",
     "output_type": "stream",
     "text": [
      "<class 'pandas.core.frame.DataFrame'>\n",
      "Int64Index: 711381 entries, 0 to 711380\n",
      "Columns: 137 entries, directorio to fex_dpto\n",
      "dtypes: float64(132), object(5)\n",
      "memory usage: 749.0+ MB\n"
     ]
    }
   ],
   "source": [
    "per_21.info()"
   ]
  },
  {
   "cell_type": "code",
   "execution_count": 67,
   "metadata": {},
   "outputs": [],
   "source": [
    "hog_21_sub = hog_21.iloc[:,[0,1,2,8,13,14,15,16,17,18]]"
   ]
  },
  {
   "cell_type": "code",
   "execution_count": 69,
   "metadata": {},
   "outputs": [],
   "source": [
    "hog_21_sub.iloc[:,2] = pd.to_numeric(hog_21_sub.iloc[:,2], downcast = 'integer')"
   ]
  },
  {
   "cell_type": "code",
   "execution_count": 13,
   "metadata": {},
   "outputs": [
    {
     "name": "stdout",
     "output_type": "stream",
     "text": [
      "<class 'pandas.core.frame.DataFrame'>\n",
      "Int64Index: 225853 entries, 0 to 225852\n",
      "Data columns (total 9 columns):\n",
      " #   Column       Non-Null Count   Dtype  \n",
      "---  ------       --------------   -----  \n",
      " 0   directorio   225853 non-null  float64\n",
      " 1   secuencia_p  225853 non-null  float64\n",
      " 2   mes          225853 non-null  int8   \n",
      " 3   li           225853 non-null  float64\n",
      " 4   lp           225853 non-null  float64\n",
      " 5   pobre        225853 non-null  float64\n",
      " 6   indigente    225853 non-null  float64\n",
      " 7   npobres      225853 non-null  float64\n",
      " 8   nindigentes  225853 non-null  float64\n",
      "dtypes: float64(8), int8(1)\n",
      "memory usage: 15.7 MB\n"
     ]
    }
   ],
   "source": [
    "hog_21_sub.info()"
   ]
  },
  {
   "cell_type": "code",
   "execution_count": 70,
   "metadata": {},
   "outputs": [],
   "source": [
    "vic_21_merge = pd.merge(left=vic_21, right=hog_21_sub, left_on=[\"directorio\", \"secuencia_p\", \"mes\"], \n",
    "                        right_on=[\"directorio\", \"secuencia_p\", \"mes\"], how='left', sort=False, validate='m:1', \n",
    "                        suffixes=(\"_v\", \"_h\"), indicator = 'indicator_column')"
   ]
  },
  {
   "cell_type": "code",
   "execution_count": 15,
   "metadata": {
    "scrolled": false
   },
   "outputs": [
    {
     "name": "stdout",
     "output_type": "stream",
     "text": [
      "<class 'pandas.core.frame.DataFrame'>\n",
      "Int64Index: 711381 entries, 0 to 711380\n",
      "Data columns (total 15 columns):\n",
      " #   Column            Non-Null Count   Dtype   \n",
      "---  ------            --------------   -----   \n",
      " 0   directorio        711381 non-null  float64 \n",
      " 1   secuencia_p       711381 non-null  float64 \n",
      " 2   orden             711381 non-null  float64 \n",
      " 3   mes               711381 non-null  int8    \n",
      " 4   es_victima        84419 non-null   float64 \n",
      " 5   es_desplazado     84419 non-null   float64 \n",
      " 6   decada_vic        711381 non-null  object  \n",
      " 7   fex_c_viv         84419 non-null   float64 \n",
      " 8   li                711381 non-null  float64 \n",
      " 9   lp                711381 non-null  float64 \n",
      " 10  pobre             711381 non-null  float64 \n",
      " 11  indigente         711381 non-null  float64 \n",
      " 12  npobres           711381 non-null  float64 \n",
      " 13  nindigentes       711381 non-null  float64 \n",
      " 14  indicator_column  711381 non-null  category\n",
      "dtypes: category(1), float64(12), int8(1), object(1)\n",
      "memory usage: 77.3+ MB\n"
     ]
    }
   ],
   "source": [
    "vic_21_merge.info()"
   ]
  },
  {
   "cell_type": "code",
   "execution_count": 22,
   "metadata": {},
   "outputs": [],
   "source": [
    "#pd.options.display.max_info_rows= None"
   ]
  },
  {
   "cell_type": "code",
   "execution_count": 41,
   "metadata": {},
   "outputs": [
    {
     "name": "stdout",
     "output_type": "stream",
     "text": [
      "<class 'pandas.core.frame.DataFrame'>\n",
      "Int64Index: 711381 entries, 0 to 711380\n",
      "Data columns (total 137 columns):\n",
      " #   Column       Dtype  \n",
      "---  ------       -----  \n",
      " 0   directorio   float64\n",
      " 1   secuencia_p  float64\n",
      " 2   orden        float64\n",
      " 3   clase        object \n",
      " 4   dominio      object \n",
      " 5   mes          object \n",
      " 6   p6020        float64\n",
      " 7   p6040        float64\n",
      " 8   p6050        float64\n",
      " 9   p6090        float64\n",
      " 10  p6100        float64\n",
      " 11  p6210        float64\n",
      " 12  p6210s1      float64\n",
      " 13  p6220        float64\n",
      " 14  p6240        float64\n",
      " 15  oficio       object \n",
      " 16  p6426        float64\n",
      " 17  p6430        float64\n",
      " 18  p6500        float64\n",
      " 19  p6510        float64\n",
      " 20  p6510s1      float64\n",
      " 21  p6510s2      float64\n",
      " 22  p6545        float64\n",
      " 23  p6545s1      float64\n",
      " 24  p6545s2      float64\n",
      " 25  p6580        float64\n",
      " 26  p6580s1      float64\n",
      " 27  p6580s2      float64\n",
      " 28  p6585s1      float64\n",
      " 29  p6585s1a1    float64\n",
      " 30  p6585s1a2    float64\n",
      " 31  p6585s2      float64\n",
      " 32  p6585s2a1    float64\n",
      " 33  p6585s2a2    float64\n",
      " 34  p6585s3      float64\n",
      " 35  p6585s3a1    float64\n",
      " 36  p6585s3a2    float64\n",
      " 37  p6585s4      float64\n",
      " 38  p6585s4a1    float64\n",
      " 39  p6585s4a2    float64\n",
      " 40  p6590        float64\n",
      " 41  p6590s1      float64\n",
      " 42  p6600        float64\n",
      " 43  p6600s1      float64\n",
      " 44  p6610        float64\n",
      " 45  p6610s1      float64\n",
      " 46  p6620        float64\n",
      " 47  p6620s1      float64\n",
      " 48  p6630s1      float64\n",
      " 49  p6630s1a1    float64\n",
      " 50  p6630s2      float64\n",
      " 51  p6630s2a1    float64\n",
      " 52  p6630s3      float64\n",
      " 53  p6630s3a1    float64\n",
      " 54  p6630s4      float64\n",
      " 55  p6630s4a1    float64\n",
      " 56  p6630s6      float64\n",
      " 57  p6630s6a1    float64\n",
      " 58  p6750        float64\n",
      " 59  p6760        float64\n",
      " 60  p550         float64\n",
      " 61  p6800        float64\n",
      " 62  p6870        float64\n",
      " 63  p6920        float64\n",
      " 64  p7040        float64\n",
      " 65  p7045        float64\n",
      " 66  p7050        float64\n",
      " 67  p7070        float64\n",
      " 68  p7090        float64\n",
      " 69  p7110        float64\n",
      " 70  p7120        float64\n",
      " 71  p7140s1      float64\n",
      " 72  p7140s2      float64\n",
      " 73  p7150        float64\n",
      " 74  p7160        float64\n",
      " 75  p7310        float64\n",
      " 76  p7350        float64\n",
      " 77  p7422        float64\n",
      " 78  p7422s1      float64\n",
      " 79  p7472        float64\n",
      " 80  p7472s1      float64\n",
      " 81  p7495        float64\n",
      " 82  p7500s1      float64\n",
      " 83  p7500s1a1    float64\n",
      " 84  p7500s2      float64\n",
      " 85  p7500s2a1    float64\n",
      " 86  p7500s3      float64\n",
      " 87  p7500s3a1    float64\n",
      " 88  p7505        float64\n",
      " 89  p7510s1      float64\n",
      " 90  p7510s1a1    float64\n",
      " 91  p7510s2      float64\n",
      " 92  p7510s2a1    float64\n",
      " 93  p7510s3      float64\n",
      " 94  p7510s3a1    float64\n",
      " 95  p7510s5      float64\n",
      " 96  p7510s5a1    float64\n",
      " 97  p7510s6      float64\n",
      " 98  p7510s6a1    float64\n",
      " 99  p7510s7      float64\n",
      " 100 p7510s7a1    float64\n",
      " 101 pet          float64\n",
      " 102 oc           float64\n",
      " 103 des          float64\n",
      " 104 ina          float64\n",
      " 105 impa         float64\n",
      " 106 isa          float64\n",
      " 107 ie           float64\n",
      " 108 imdi         float64\n",
      " 109 iof1         float64\n",
      " 110 iof2         float64\n",
      " 111 iof3h        float64\n",
      " 112 iof3i        float64\n",
      " 113 iof6         float64\n",
      " 114 cclasnr2     float64\n",
      " 115 cclasnr3     float64\n",
      " 116 cclasnr4     float64\n",
      " 117 cclasnr5     float64\n",
      " 118 cclasnr6     float64\n",
      " 119 cclasnr7     float64\n",
      " 120 cclasnr8     float64\n",
      " 121 cclasnr11    float64\n",
      " 122 impaes       float64\n",
      " 123 isaes        float64\n",
      " 124 iees         float64\n",
      " 125 imdies       float64\n",
      " 126 iof1es       float64\n",
      " 127 iof2es       float64\n",
      " 128 iof3hes      float64\n",
      " 129 iof3ies      float64\n",
      " 130 iof6es       float64\n",
      " 131 ingtotob     float64\n",
      " 132 ingtotes     float64\n",
      " 133 ingtot       float64\n",
      " 134 fex_c        float64\n",
      " 135 dpto         object \n",
      " 136 fex_dpto     float64\n",
      "dtypes: float64(132), object(5)\n",
      "memory usage: 749.0+ MB\n"
     ]
    }
   ],
   "source": [
    "#per_21.info(verbose=True)"
   ]
  },
  {
   "cell_type": "code",
   "execution_count": 71,
   "metadata": {},
   "outputs": [],
   "source": [
    "per_21_sub = per_21.iloc[:,[0,1,2,3,4,5,6,7,133,134,135,136]]"
   ]
  },
  {
   "cell_type": "code",
   "execution_count": 17,
   "metadata": {
    "scrolled": true
   },
   "outputs": [
    {
     "name": "stdout",
     "output_type": "stream",
     "text": [
      "<class 'pandas.core.frame.DataFrame'>\n",
      "Int64Index: 711381 entries, 0 to 711380\n",
      "Data columns (total 12 columns):\n",
      " #   Column       Non-Null Count   Dtype  \n",
      "---  ------       --------------   -----  \n",
      " 0   directorio   711381 non-null  float64\n",
      " 1   secuencia_p  711381 non-null  float64\n",
      " 2   orden        711381 non-null  float64\n",
      " 3   clase        711381 non-null  object \n",
      " 4   dominio      711381 non-null  object \n",
      " 5   mes          711381 non-null  object \n",
      " 6   p6020        711381 non-null  float64\n",
      " 7   p6040        711381 non-null  float64\n",
      " 8   ingtot       594246 non-null  float64\n",
      " 9   fex_c        711381 non-null  float64\n",
      " 10  dpto         711381 non-null  object \n",
      " 11  fex_dpto     711381 non-null  float64\n",
      "dtypes: float64(8), object(4)\n",
      "memory usage: 70.6+ MB\n"
     ]
    }
   ],
   "source": [
    "per_21_sub.info()"
   ]
  },
  {
   "cell_type": "code",
   "execution_count": 72,
   "metadata": {},
   "outputs": [],
   "source": [
    "#formato\n",
    "per_21_sub.iloc[:,5] = pd.to_numeric(per_21_sub.iloc[:,5], downcast = 'integer')"
   ]
  },
  {
   "cell_type": "code",
   "execution_count": 73,
   "metadata": {},
   "outputs": [],
   "source": [
    "vic_21_merge_p = pd.merge(left=vic_21_merge, right=per_21_sub, left_on=[\"directorio\", \"secuencia_p\", \"orden\", \"mes\"], \n",
    "                        right_on=[\"directorio\", \"secuencia_p\", \"orden\", \"mes\"], how='left', sort=False, validate='1:1', \n",
    "                        suffixes=(\"_vh\", \"_p\"), indicator = 'indicator_column_vhp')"
   ]
  },
  {
   "cell_type": "code",
   "execution_count": 19,
   "metadata": {
    "scrolled": true
   },
   "outputs": [
    {
     "name": "stdout",
     "output_type": "stream",
     "text": [
      "<class 'pandas.core.frame.DataFrame'>\n",
      "Int64Index: 711381 entries, 0 to 711380\n",
      "Data columns (total 25 columns):\n",
      " #   Column                Non-Null Count   Dtype   \n",
      "---  ------                --------------   -----   \n",
      " 0   directorio            711381 non-null  float64 \n",
      " 1   secuencia_p           711381 non-null  float64 \n",
      " 2   orden                 711381 non-null  float64 \n",
      " 3   mes                   711381 non-null  int8    \n",
      " 4   es_victima            84419 non-null   float64 \n",
      " 5   es_desplazado         84419 non-null   float64 \n",
      " 6   decada_vic            711381 non-null  object  \n",
      " 7   fex_c_viv             84419 non-null   float64 \n",
      " 8   li                    711381 non-null  float64 \n",
      " 9   lp                    711381 non-null  float64 \n",
      " 10  pobre                 711381 non-null  float64 \n",
      " 11  indigente             711381 non-null  float64 \n",
      " 12  npobres               711381 non-null  float64 \n",
      " 13  nindigentes           711381 non-null  float64 \n",
      " 14  indicator_column      711381 non-null  category\n",
      " 15  clase                 711381 non-null  int8    \n",
      " 16  dominio               711381 non-null  object  \n",
      " 17  sexo                  711381 non-null  float64 \n",
      " 18  edad                  711381 non-null  float64 \n",
      " 19  ingtot                594246 non-null  float64 \n",
      " 20  fex_c                 711381 non-null  float64 \n",
      " 21  dpto                  711381 non-null  object  \n",
      " 22  fex_dpto              711381 non-null  float64 \n",
      " 23  indicator_column_vhp  711381 non-null  category\n",
      " 24  no_victima            711381 non-null  int32   \n",
      "dtypes: category(2), float64(17), int32(1), int8(2), object(3)\n",
      "memory usage: 119.4+ MB\n"
     ]
    }
   ],
   "source": [
    "vic_21_merge_p.info()"
   ]
  },
  {
   "cell_type": "code",
   "execution_count": 6,
   "metadata": {},
   "outputs": [],
   "source": [
    "pd.options.display.max_columns= None"
   ]
  },
  {
   "cell_type": "code",
   "execution_count": 75,
   "metadata": {},
   "outputs": [
    {
     "data": {
      "text/plain": [
       "RESTO URBANO     75192\n",
       "RURAL            71074\n",
       "BARRANQUILLA     38695\n",
       "MEDELLIN         36929\n",
       "BOGOTA           28987\n",
       "SANTA MARTA      28616\n",
       "CARTAGENA        27809\n",
       "VALLEDUPAR       26677\n",
       "SINCELEJO        26538\n",
       "CALI             25982\n",
       "RIOHACHA         24828\n",
       "CUCUTA           24184\n",
       "MANIZALES        23580\n",
       "MONTERIA         23078\n",
       "BUCARAMANGA      23034\n",
       "POPAYAN          22633\n",
       "ARMENIA          22315\n",
       "VILLAVICENCIO    21263\n",
       "NEIVA            20824\n",
       "IBAGUE           20697\n",
       "PASTO            20431\n",
       "PEREIRA          20061\n",
       "TUNJA            19759\n",
       "FLORENCIA        19296\n",
       "QUIBDO           18899\n",
       "Name: dominio, dtype: int64"
      ]
     },
     "execution_count": 75,
     "metadata": {},
     "output_type": "execute_result"
    }
   ],
   "source": [
    "vic_21_merge_p[\"dominio\"].value_counts()"
   ]
  },
  {
   "cell_type": "code",
   "execution_count": 72,
   "metadata": {
    "scrolled": true
   },
   "outputs": [
    {
     "data": {
      "text/html": [
       "<div>\n",
       "<style scoped>\n",
       "    .dataframe tbody tr th:only-of-type {\n",
       "        vertical-align: middle;\n",
       "    }\n",
       "\n",
       "    .dataframe tbody tr th {\n",
       "        vertical-align: top;\n",
       "    }\n",
       "\n",
       "    .dataframe thead th {\n",
       "        text-align: right;\n",
       "    }\n",
       "</style>\n",
       "<table border=\"1\" class=\"dataframe\">\n",
       "  <thead>\n",
       "    <tr style=\"text-align: right;\">\n",
       "      <th></th>\n",
       "      <th>directorio</th>\n",
       "      <th>secuencia_p</th>\n",
       "      <th>orden</th>\n",
       "      <th>mes</th>\n",
       "      <th>es_victima</th>\n",
       "      <th>es_desplazado</th>\n",
       "      <th>decada_vic</th>\n",
       "      <th>fex_c_viv</th>\n",
       "      <th>li</th>\n",
       "      <th>lp</th>\n",
       "      <th>pobre</th>\n",
       "      <th>indigente</th>\n",
       "      <th>npobres</th>\n",
       "      <th>nindigentes</th>\n",
       "      <th>indicator_column</th>\n",
       "      <th>clase</th>\n",
       "      <th>dominio</th>\n",
       "      <th>p6020</th>\n",
       "      <th>p6040</th>\n",
       "      <th>ingtot</th>\n",
       "      <th>fex_c</th>\n",
       "      <th>dpto</th>\n",
       "      <th>fex_dpto</th>\n",
       "      <th>indicator_column_vhp</th>\n",
       "      <th>no_victima</th>\n",
       "    </tr>\n",
       "  </thead>\n",
       "  <tbody>\n",
       "    <tr>\n",
       "      <th>0</th>\n",
       "      <td>5332763.0</td>\n",
       "      <td>1.0</td>\n",
       "      <td>1.0</td>\n",
       "      <td>1</td>\n",
       "      <td>1.0</td>\n",
       "      <td>0.0</td>\n",
       "      <td>a. 2010-2021</td>\n",
       "      <td>14.003113</td>\n",
       "      <td>179664.487378</td>\n",
       "      <td>423327.0221</td>\n",
       "      <td>1.0</td>\n",
       "      <td>0.0</td>\n",
       "      <td>4.0</td>\n",
       "      <td>0.0</td>\n",
       "      <td>both</td>\n",
       "      <td>1</td>\n",
       "      <td>ARMENIA</td>\n",
       "      <td>1.0</td>\n",
       "      <td>55.0</td>\n",
       "      <td>900000.000000</td>\n",
       "      <td>10.100768</td>\n",
       "      <td>63</td>\n",
       "      <td>10.209690</td>\n",
       "      <td>both</td>\n",
       "      <td>0</td>\n",
       "    </tr>\n",
       "    <tr>\n",
       "      <th>1</th>\n",
       "      <td>5332763.0</td>\n",
       "      <td>1.0</td>\n",
       "      <td>2.0</td>\n",
       "      <td>1</td>\n",
       "      <td>NaN</td>\n",
       "      <td>NaN</td>\n",
       "      <td></td>\n",
       "      <td>NaN</td>\n",
       "      <td>179664.487378</td>\n",
       "      <td>423327.0221</td>\n",
       "      <td>1.0</td>\n",
       "      <td>0.0</td>\n",
       "      <td>4.0</td>\n",
       "      <td>0.0</td>\n",
       "      <td>both</td>\n",
       "      <td>1</td>\n",
       "      <td>ARMENIA</td>\n",
       "      <td>2.0</td>\n",
       "      <td>44.0</td>\n",
       "      <td>0.000000</td>\n",
       "      <td>10.100768</td>\n",
       "      <td>63</td>\n",
       "      <td>10.209690</td>\n",
       "      <td>both</td>\n",
       "      <td>1</td>\n",
       "    </tr>\n",
       "    <tr>\n",
       "      <th>2</th>\n",
       "      <td>5332763.0</td>\n",
       "      <td>1.0</td>\n",
       "      <td>3.0</td>\n",
       "      <td>1</td>\n",
       "      <td>NaN</td>\n",
       "      <td>NaN</td>\n",
       "      <td></td>\n",
       "      <td>NaN</td>\n",
       "      <td>179664.487378</td>\n",
       "      <td>423327.0221</td>\n",
       "      <td>1.0</td>\n",
       "      <td>0.0</td>\n",
       "      <td>4.0</td>\n",
       "      <td>0.0</td>\n",
       "      <td>both</td>\n",
       "      <td>1</td>\n",
       "      <td>ARMENIA</td>\n",
       "      <td>1.0</td>\n",
       "      <td>20.0</td>\n",
       "      <td>0.000000</td>\n",
       "      <td>10.100768</td>\n",
       "      <td>63</td>\n",
       "      <td>10.209690</td>\n",
       "      <td>both</td>\n",
       "      <td>1</td>\n",
       "    </tr>\n",
       "    <tr>\n",
       "      <th>3</th>\n",
       "      <td>5332763.0</td>\n",
       "      <td>1.0</td>\n",
       "      <td>4.0</td>\n",
       "      <td>1</td>\n",
       "      <td>NaN</td>\n",
       "      <td>NaN</td>\n",
       "      <td></td>\n",
       "      <td>NaN</td>\n",
       "      <td>179664.487378</td>\n",
       "      <td>423327.0221</td>\n",
       "      <td>1.0</td>\n",
       "      <td>0.0</td>\n",
       "      <td>4.0</td>\n",
       "      <td>0.0</td>\n",
       "      <td>both</td>\n",
       "      <td>1</td>\n",
       "      <td>ARMENIA</td>\n",
       "      <td>2.0</td>\n",
       "      <td>18.0</td>\n",
       "      <td>0.000000</td>\n",
       "      <td>10.100768</td>\n",
       "      <td>63</td>\n",
       "      <td>10.209690</td>\n",
       "      <td>both</td>\n",
       "      <td>1</td>\n",
       "    </tr>\n",
       "    <tr>\n",
       "      <th>4</th>\n",
       "      <td>5332764.0</td>\n",
       "      <td>1.0</td>\n",
       "      <td>1.0</td>\n",
       "      <td>1</td>\n",
       "      <td>NaN</td>\n",
       "      <td>NaN</td>\n",
       "      <td></td>\n",
       "      <td>NaN</td>\n",
       "      <td>179664.487378</td>\n",
       "      <td>423327.0221</td>\n",
       "      <td>1.0</td>\n",
       "      <td>1.0</td>\n",
       "      <td>5.0</td>\n",
       "      <td>5.0</td>\n",
       "      <td>both</td>\n",
       "      <td>1</td>\n",
       "      <td>ARMENIA</td>\n",
       "      <td>1.0</td>\n",
       "      <td>65.0</td>\n",
       "      <td>140016.666667</td>\n",
       "      <td>6.203772</td>\n",
       "      <td>63</td>\n",
       "      <td>6.600542</td>\n",
       "      <td>both</td>\n",
       "      <td>1</td>\n",
       "    </tr>\n",
       "  </tbody>\n",
       "</table>\n",
       "</div>"
      ],
      "text/plain": [
       "   directorio  secuencia_p  orden  mes  es_victima  es_desplazado  \\\n",
       "0   5332763.0          1.0    1.0    1         1.0            0.0   \n",
       "1   5332763.0          1.0    2.0    1         NaN            NaN   \n",
       "2   5332763.0          1.0    3.0    1         NaN            NaN   \n",
       "3   5332763.0          1.0    4.0    1         NaN            NaN   \n",
       "4   5332764.0          1.0    1.0    1         NaN            NaN   \n",
       "\n",
       "     decada_vic  fex_c_viv             li           lp  pobre  indigente  \\\n",
       "0  a. 2010-2021  14.003113  179664.487378  423327.0221    1.0        0.0   \n",
       "1                      NaN  179664.487378  423327.0221    1.0        0.0   \n",
       "2                      NaN  179664.487378  423327.0221    1.0        0.0   \n",
       "3                      NaN  179664.487378  423327.0221    1.0        0.0   \n",
       "4                      NaN  179664.487378  423327.0221    1.0        1.0   \n",
       "\n",
       "   npobres  nindigentes indicator_column clase  dominio  p6020  p6040  \\\n",
       "0      4.0          0.0             both     1  ARMENIA    1.0   55.0   \n",
       "1      4.0          0.0             both     1  ARMENIA    2.0   44.0   \n",
       "2      4.0          0.0             both     1  ARMENIA    1.0   20.0   \n",
       "3      4.0          0.0             both     1  ARMENIA    2.0   18.0   \n",
       "4      5.0          5.0             both     1  ARMENIA    1.0   65.0   \n",
       "\n",
       "          ingtot      fex_c dpto   fex_dpto indicator_column_vhp  no_victima  \n",
       "0  900000.000000  10.100768   63  10.209690                 both           0  \n",
       "1       0.000000  10.100768   63  10.209690                 both           1  \n",
       "2       0.000000  10.100768   63  10.209690                 both           1  \n",
       "3       0.000000  10.100768   63  10.209690                 both           1  \n",
       "4  140016.666667   6.203772   63   6.600542                 both           1  "
      ]
     },
     "execution_count": 72,
     "metadata": {},
     "output_type": "execute_result"
    }
   ],
   "source": [
    "vic_21_merge_p.head()"
   ]
  },
  {
   "cell_type": "code",
   "execution_count": 38,
   "metadata": {
    "scrolled": true
   },
   "outputs": [
    {
     "data": {
      "text/plain": [
       "0.0    154376\n",
       "1.0     71477\n",
       "Name: pobre, dtype: int64"
      ]
     },
     "execution_count": 38,
     "metadata": {},
     "output_type": "execute_result"
    }
   ],
   "source": [
    "hog_21_sub[\"pobre\"].value_counts() #225853"
   ]
  },
  {
   "cell_type": "code",
   "execution_count": 46,
   "metadata": {
    "scrolled": true
   },
   "outputs": [
    {
     "name": "stdout",
     "output_type": "stream",
     "text": [
      "0         False\n",
      "1         False\n",
      "2         False\n",
      "3          True\n",
      "4         False\n",
      "          ...  \n",
      "225848     True\n",
      "225849     True\n",
      "225850    False\n",
      "225851     True\n",
      "225852     True\n",
      "Length: 225853, dtype: bool\n"
     ]
    }
   ],
   "source": [
    "#hog_21[[\"nper\",\"pobre\", \"npobres\"]].head(30) #225853\n"
   ]
  },
  {
   "cell_type": "code",
   "execution_count": 54,
   "metadata": {},
   "outputs": [],
   "source": [
    "mask =hog_21[\"nper\"] > hog_21[\"npobres\"]"
   ]
  },
  {
   "cell_type": "code",
   "execution_count": 55,
   "metadata": {},
   "outputs": [
    {
     "data": {
      "text/plain": [
       "154376"
      ]
     },
     "execution_count": 55,
     "metadata": {},
     "output_type": "execute_result"
    }
   ],
   "source": [
    "mask[mask==True].count()"
   ]
  },
  {
   "cell_type": "code",
   "execution_count": 58,
   "metadata": {},
   "outputs": [
    {
     "data": {
      "text/plain": [
       "0.0    154376\n",
       "Name: pobre, dtype: int64"
      ]
     },
     "execution_count": 58,
     "metadata": {},
     "output_type": "execute_result"
    }
   ],
   "source": [
    "hog_21_mask = hog_21[mask==True]\n",
    "hog_21_mask[\"pobre\"].value_counts()"
   ]
  },
  {
   "cell_type": "code",
   "execution_count": 36,
   "metadata": {},
   "outputs": [
    {
     "data": {
      "text/plain": [
       "0.0    433172\n",
       "1.0    278209\n",
       "Name: pobre, dtype: int64"
      ]
     },
     "execution_count": 36,
     "metadata": {},
     "output_type": "execute_result"
    }
   ],
   "source": [
    "vic_21_merge_p[\"pobre\"].value_counts()"
   ]
  },
  {
   "cell_type": "code",
   "execution_count": 30,
   "metadata": {},
   "outputs": [
    {
     "name": "stdout",
     "output_type": "stream",
     "text": [
      "8024313.000000227\n"
     ]
    }
   ],
   "source": [
    "print((vic_21_merge_p[\"es_victima\"] * vic_21_merge_p[\"fex_c_viv\"]).sum())"
   ]
  },
  {
   "cell_type": "code",
   "execution_count": 74,
   "metadata": {},
   "outputs": [],
   "source": [
    "def novic(df):\n",
    "    if df[\"es_victima\"]!=1:\n",
    "        x = 1\n",
    "    else:\n",
    "        x= 0\n",
    "    return(x)\n",
    "    "
   ]
  },
  {
   "cell_type": "code",
   "execution_count": 75,
   "metadata": {},
   "outputs": [],
   "source": [
    "vic_21_merge_p[\"no_victima\"] = vic_21_merge_p.apply(novic, axis = 1)"
   ]
  },
  {
   "cell_type": "code",
   "execution_count": 77,
   "metadata": {},
   "outputs": [],
   "source": [
    "##renombrar variables\n",
    "vic_21_merge_p.rename(columns = {\"p6020\":\"sexo\", \"p6040\":\"edad\"}, inplace = True)"
   ]
  },
  {
   "cell_type": "code",
   "execution_count": 18,
   "metadata": {},
   "outputs": [],
   "source": [
    "#formato\n",
    "#vic_21_merge_p.iloc[:,15] = pd.to_numeric(vic_21_merge_p.iloc[:,15], downcast = 'integer')"
   ]
  },
  {
   "cell_type": "code",
   "execution_count": 78,
   "metadata": {},
   "outputs": [],
   "source": [
    "#vic_21_merge_p.drop(columns=[\"index\"], inplace=True) \n",
    "vic_21_merge_p.drop(columns=[\"indicator_column\", \"indicator_column_vhp\"], inplace=True)"
   ]
  },
  {
   "cell_type": "code",
   "execution_count": 79,
   "metadata": {},
   "outputs": [],
   "source": [
    "vic_21_merge_p[\"periodo\"] = 2021"
   ]
  },
  {
   "cell_type": "code",
   "execution_count": 49,
   "metadata": {},
   "outputs": [],
   "source": [
    "#vic_21_merge_p.rename(columns= {\"a_o\": \"periodo\"}, inplace=True)"
   ]
  },
  {
   "cell_type": "code",
   "execution_count": 80,
   "metadata": {},
   "outputs": [],
   "source": [
    "##renombrar variables\n",
    "vic_21_merge_p.rename(columns = {\"dpto\":\"depto\"}, inplace = True) "
   ]
  },
  {
   "cell_type": "code",
   "execution_count": 50,
   "metadata": {},
   "outputs": [
    {
     "name": "stdout",
     "output_type": "stream",
     "text": [
      "<class 'pandas.core.frame.DataFrame'>\n",
      "Int64Index: 711381 entries, 0 to 711380\n",
      "Data columns (total 24 columns):\n",
      " #   Column         Non-Null Count   Dtype  \n",
      "---  ------         --------------   -----  \n",
      " 0   directorio     711381 non-null  float64\n",
      " 1   secuencia_p    711381 non-null  float64\n",
      " 2   orden          711381 non-null  float64\n",
      " 3   mes            711381 non-null  int8   \n",
      " 4   es_victima     84419 non-null   float64\n",
      " 5   es_desplazado  84419 non-null   float64\n",
      " 6   decada_vic     711381 non-null  object \n",
      " 7   fex_c_viv      84419 non-null   float64\n",
      " 8   li             711381 non-null  float64\n",
      " 9   lp             711381 non-null  float64\n",
      " 10  pobre          711381 non-null  float64\n",
      " 11  indigente      711381 non-null  float64\n",
      " 12  npobres        711381 non-null  float64\n",
      " 13  nindigentes    711381 non-null  float64\n",
      " 14  clase          711381 non-null  int8   \n",
      " 15  dominio        711381 non-null  object \n",
      " 16  sexo           711381 non-null  float64\n",
      " 17  edad           711381 non-null  float64\n",
      " 18  ingtot         594246 non-null  float64\n",
      " 19  fex_c          711381 non-null  float64\n",
      " 20  dpto           711381 non-null  object \n",
      " 21  fex_dpto       711381 non-null  float64\n",
      " 22  no_victima     711381 non-null  int32  \n",
      " 23  periodo        711381 non-null  int32  \n",
      "dtypes: float64(17), int32(2), int8(2), object(3)\n",
      "memory usage: 120.8+ MB\n"
     ]
    }
   ],
   "source": [
    "vic_21_merge_p.info()"
   ]
  },
  {
   "cell_type": "code",
   "execution_count": 81,
   "metadata": {},
   "outputs": [],
   "source": [
    "#export\n",
    "vic_21_merge_p.to_stata(\"C:/Users/Estadistico/Desktop/BACKUP_07_07_2022/ivan/DANE_pobreza/2021/Victimas_procesada_2021.dta\",write_index=False)"
   ]
  },
  {
   "cell_type": "markdown",
   "metadata": {},
   "source": [
    "## Validaciones"
   ]
  },
  {
   "cell_type": "code",
   "execution_count": 59,
   "metadata": {},
   "outputs": [],
   "source": [
    "vic_21_merge_p = pd.read_stata(\"C:/Users/Estadistico/Desktop/BACKUP_07_07_2022/ivan/DANE_pobreza/2021/Victimas_procesada_2021.dta\")"
   ]
  },
  {
   "cell_type": "code",
   "execution_count": 53,
   "metadata": {
    "scrolled": true
   },
   "outputs": [
    {
     "data": {
      "text/html": [
       "<div>\n",
       "<style scoped>\n",
       "    .dataframe tbody tr th:only-of-type {\n",
       "        vertical-align: middle;\n",
       "    }\n",
       "\n",
       "    .dataframe tbody tr th {\n",
       "        vertical-align: top;\n",
       "    }\n",
       "\n",
       "    .dataframe thead th {\n",
       "        text-align: right;\n",
       "    }\n",
       "</style>\n",
       "<table border=\"1\" class=\"dataframe\">\n",
       "  <thead>\n",
       "    <tr style=\"text-align: right;\">\n",
       "      <th></th>\n",
       "      <th>directorio</th>\n",
       "      <th>secuencia_p</th>\n",
       "      <th>orden</th>\n",
       "      <th>mes</th>\n",
       "      <th>es_victima</th>\n",
       "      <th>es_desplazado</th>\n",
       "      <th>decada_vic</th>\n",
       "      <th>fex_c_viv</th>\n",
       "      <th>li</th>\n",
       "      <th>lp</th>\n",
       "      <th>...</th>\n",
       "      <th>clase</th>\n",
       "      <th>dominio</th>\n",
       "      <th>sexo</th>\n",
       "      <th>edad</th>\n",
       "      <th>ingtot</th>\n",
       "      <th>fex_c</th>\n",
       "      <th>dpto</th>\n",
       "      <th>fex_dpto</th>\n",
       "      <th>no_victima</th>\n",
       "      <th>periodo</th>\n",
       "    </tr>\n",
       "  </thead>\n",
       "  <tbody>\n",
       "    <tr>\n",
       "      <th>0</th>\n",
       "      <td>5332763.0</td>\n",
       "      <td>1.0</td>\n",
       "      <td>1.0</td>\n",
       "      <td>1</td>\n",
       "      <td>1.0</td>\n",
       "      <td>0.0</td>\n",
       "      <td>a. 2010-2021</td>\n",
       "      <td>14.003113</td>\n",
       "      <td>179664.487378</td>\n",
       "      <td>423327.0221</td>\n",
       "      <td>...</td>\n",
       "      <td>1</td>\n",
       "      <td>ARMENIA</td>\n",
       "      <td>1.0</td>\n",
       "      <td>55.0</td>\n",
       "      <td>900000.000000</td>\n",
       "      <td>10.100768</td>\n",
       "      <td>63</td>\n",
       "      <td>10.209690</td>\n",
       "      <td>0</td>\n",
       "      <td>2021</td>\n",
       "    </tr>\n",
       "    <tr>\n",
       "      <th>1</th>\n",
       "      <td>5332763.0</td>\n",
       "      <td>1.0</td>\n",
       "      <td>2.0</td>\n",
       "      <td>1</td>\n",
       "      <td>NaN</td>\n",
       "      <td>NaN</td>\n",
       "      <td></td>\n",
       "      <td>NaN</td>\n",
       "      <td>179664.487378</td>\n",
       "      <td>423327.0221</td>\n",
       "      <td>...</td>\n",
       "      <td>1</td>\n",
       "      <td>ARMENIA</td>\n",
       "      <td>2.0</td>\n",
       "      <td>44.0</td>\n",
       "      <td>0.000000</td>\n",
       "      <td>10.100768</td>\n",
       "      <td>63</td>\n",
       "      <td>10.209690</td>\n",
       "      <td>1</td>\n",
       "      <td>2021</td>\n",
       "    </tr>\n",
       "    <tr>\n",
       "      <th>2</th>\n",
       "      <td>5332763.0</td>\n",
       "      <td>1.0</td>\n",
       "      <td>3.0</td>\n",
       "      <td>1</td>\n",
       "      <td>NaN</td>\n",
       "      <td>NaN</td>\n",
       "      <td></td>\n",
       "      <td>NaN</td>\n",
       "      <td>179664.487378</td>\n",
       "      <td>423327.0221</td>\n",
       "      <td>...</td>\n",
       "      <td>1</td>\n",
       "      <td>ARMENIA</td>\n",
       "      <td>1.0</td>\n",
       "      <td>20.0</td>\n",
       "      <td>0.000000</td>\n",
       "      <td>10.100768</td>\n",
       "      <td>63</td>\n",
       "      <td>10.209690</td>\n",
       "      <td>1</td>\n",
       "      <td>2021</td>\n",
       "    </tr>\n",
       "    <tr>\n",
       "      <th>3</th>\n",
       "      <td>5332763.0</td>\n",
       "      <td>1.0</td>\n",
       "      <td>4.0</td>\n",
       "      <td>1</td>\n",
       "      <td>NaN</td>\n",
       "      <td>NaN</td>\n",
       "      <td></td>\n",
       "      <td>NaN</td>\n",
       "      <td>179664.487378</td>\n",
       "      <td>423327.0221</td>\n",
       "      <td>...</td>\n",
       "      <td>1</td>\n",
       "      <td>ARMENIA</td>\n",
       "      <td>2.0</td>\n",
       "      <td>18.0</td>\n",
       "      <td>0.000000</td>\n",
       "      <td>10.100768</td>\n",
       "      <td>63</td>\n",
       "      <td>10.209690</td>\n",
       "      <td>1</td>\n",
       "      <td>2021</td>\n",
       "    </tr>\n",
       "    <tr>\n",
       "      <th>4</th>\n",
       "      <td>5332764.0</td>\n",
       "      <td>1.0</td>\n",
       "      <td>1.0</td>\n",
       "      <td>1</td>\n",
       "      <td>NaN</td>\n",
       "      <td>NaN</td>\n",
       "      <td></td>\n",
       "      <td>NaN</td>\n",
       "      <td>179664.487378</td>\n",
       "      <td>423327.0221</td>\n",
       "      <td>...</td>\n",
       "      <td>1</td>\n",
       "      <td>ARMENIA</td>\n",
       "      <td>1.0</td>\n",
       "      <td>65.0</td>\n",
       "      <td>140016.666667</td>\n",
       "      <td>6.203772</td>\n",
       "      <td>63</td>\n",
       "      <td>6.600542</td>\n",
       "      <td>1</td>\n",
       "      <td>2021</td>\n",
       "    </tr>\n",
       "  </tbody>\n",
       "</table>\n",
       "<p>5 rows × 24 columns</p>\n",
       "</div>"
      ],
      "text/plain": [
       "   directorio  secuencia_p  orden  mes  es_victima  es_desplazado  \\\n",
       "0   5332763.0          1.0    1.0    1         1.0            0.0   \n",
       "1   5332763.0          1.0    2.0    1         NaN            NaN   \n",
       "2   5332763.0          1.0    3.0    1         NaN            NaN   \n",
       "3   5332763.0          1.0    4.0    1         NaN            NaN   \n",
       "4   5332764.0          1.0    1.0    1         NaN            NaN   \n",
       "\n",
       "     decada_vic  fex_c_viv             li           lp  ...  clase  dominio  \\\n",
       "0  a. 2010-2021  14.003113  179664.487378  423327.0221  ...      1  ARMENIA   \n",
       "1                      NaN  179664.487378  423327.0221  ...      1  ARMENIA   \n",
       "2                      NaN  179664.487378  423327.0221  ...      1  ARMENIA   \n",
       "3                      NaN  179664.487378  423327.0221  ...      1  ARMENIA   \n",
       "4                      NaN  179664.487378  423327.0221  ...      1  ARMENIA   \n",
       "\n",
       "   sexo  edad         ingtot      fex_c  dpto   fex_dpto  no_victima  periodo  \n",
       "0   1.0  55.0  900000.000000  10.100768    63  10.209690           0     2021  \n",
       "1   2.0  44.0       0.000000  10.100768    63  10.209690           1     2021  \n",
       "2   1.0  20.0       0.000000  10.100768    63  10.209690           1     2021  \n",
       "3   2.0  18.0       0.000000  10.100768    63  10.209690           1     2021  \n",
       "4   1.0  65.0  140016.666667   6.203772    63   6.600542           1     2021  \n",
       "\n",
       "[5 rows x 24 columns]"
      ]
     },
     "execution_count": 53,
     "metadata": {},
     "output_type": "execute_result"
    }
   ],
   "source": [
    "vic_21_merge_p.head()"
   ]
  },
  {
   "cell_type": "markdown",
   "metadata": {},
   "source": [
    "##### Número de víctimas muestrales y expandidas"
   ]
  },
  {
   "cell_type": "code",
   "execution_count": 13,
   "metadata": {
    "scrolled": true
   },
   "outputs": [
    {
     "name": "stdout",
     "output_type": "stream",
     "text": [
      "1    626962\n",
      "0     84419\n",
      "Name: no_victima, dtype: int64\n",
      "44156055.996016815\n",
      "19621330.123367645\n"
     ]
    }
   ],
   "source": [
    "print(vic_21_merge_p[\"no_victima\"].value_counts())\n",
    "print((vic_21_merge_p[\"no_victima\"] * vic_21_merge_p[\"fex_c\"]).sum())\n",
    "print((vic_21_merge_p[\"pobre\"] * vic_21_merge_p[\"fex_c\"]).sum())"
   ]
  },
  {
   "cell_type": "code",
   "execution_count": 15,
   "metadata": {},
   "outputs": [],
   "source": [
    "mask_2= vic_21_merge_p[\"no_victima\"]==1"
   ]
  },
  {
   "cell_type": "code",
   "execution_count": 16,
   "metadata": {},
   "outputs": [],
   "source": [
    "vic_21_merge_p_mask_nv = vic_21_merge_p[mask_2==True]"
   ]
  },
  {
   "cell_type": "markdown",
   "metadata": {},
   "source": [
    "##### Tasa pobreza expandida población no víctima"
   ]
  },
  {
   "cell_type": "code",
   "execution_count": 17,
   "metadata": {},
   "outputs": [
    {
     "name": "stdout",
     "output_type": "stream",
     "text": [
      "37.87\n"
     ]
    }
   ],
   "source": [
    "print(\n",
    "    round(\n",
    "    ((vic_21_merge_p_mask_nv[\"pobre\"] * vic_21_merge_p_mask_nv[\"fex_c\"]).sum() /\n",
    "      (vic_21_merge_p[\"no_victima\"] * vic_21_merge_p[\"fex_c\"]).sum()*100),2))"
   ]
  },
  {
   "cell_type": "markdown",
   "metadata": {},
   "source": [
    "##### Tasa pobreza expandida población víctima "
   ]
  },
  {
   "cell_type": "code",
   "execution_count": 18,
   "metadata": {},
   "outputs": [],
   "source": [
    "mask_3= vic_21_merge_p[\"es_victima\"]==1"
   ]
  },
  {
   "cell_type": "code",
   "execution_count": 19,
   "metadata": {},
   "outputs": [],
   "source": [
    "vic_21_merge_p_mask_v = vic_21_merge_p[mask_3==True]"
   ]
  },
  {
   "cell_type": "code",
   "execution_count": 20,
   "metadata": {
    "scrolled": true
   },
   "outputs": [
    {
     "name": "stdout",
     "output_type": "stream",
     "text": [
      "50.06160963455146\n"
     ]
    }
   ],
   "source": [
    "print(   \n",
    "    ((vic_21_merge_p_mask_v[\"pobre\"] * vic_21_merge_p_mask_v[\"fex_c_viv\"]).sum() /\n",
    "      (round((vic_21_merge_p[\"es_victima\"] * vic_21_merge_p[\"fex_c_viv\"]),2)).sum())*100)"
   ]
  },
  {
   "cell_type": "markdown",
   "metadata": {},
   "source": [
    "##### Tasa pobreza expandida población víctima desplazamiento"
   ]
  },
  {
   "cell_type": "code",
   "execution_count": 21,
   "metadata": {},
   "outputs": [],
   "source": [
    "mask_4= vic_21_merge_p[\"es_desplazado\"]==1"
   ]
  },
  {
   "cell_type": "code",
   "execution_count": 22,
   "metadata": {},
   "outputs": [],
   "source": [
    "vic_21_merge_p_mask_vd = vic_21_merge_p[mask_4==True]"
   ]
  },
  {
   "cell_type": "code",
   "execution_count": 23,
   "metadata": {
    "scrolled": false
   },
   "outputs": [
    {
     "name": "stdout",
     "output_type": "stream",
     "text": [
      "51.57066651545995\n"
     ]
    }
   ],
   "source": [
    "print(   \n",
    "    ((vic_21_merge_p_mask_vd[\"pobre\"] * vic_21_merge_p_mask_vd[\"fex_c_viv\"]).sum() /\n",
    "      ((vic_21_merge_p[\"es_desplazado\"] * vic_21_merge_p[\"fex_c_viv\"])).sum())*100)"
   ]
  },
  {
   "cell_type": "markdown",
   "metadata": {},
   "source": [
    "##### Tasa pobreza extrema expandida población víctima y víctima desplazamiento"
   ]
  },
  {
   "cell_type": "code",
   "execution_count": 29,
   "metadata": {},
   "outputs": [],
   "source": [
    "mask_5= vic_21_merge_p[\"es_victima\"]==1"
   ]
  },
  {
   "cell_type": "code",
   "execution_count": 30,
   "metadata": {},
   "outputs": [],
   "source": [
    "vic_21_merge_p_mask_v = vic_21_merge_p[mask_5==True]"
   ]
  },
  {
   "cell_type": "code",
   "execution_count": 35,
   "metadata": {
    "scrolled": true
   },
   "outputs": [
    {
     "name": "stdout",
     "output_type": "stream",
     "text": [
      "17.880665601041287\n"
     ]
    }
   ],
   "source": [
    "print(   \n",
    "    ((vic_21_merge_p_mask_v[\"indigente\"] * vic_21_merge_p_mask_v[\"fex_c_viv\"]).sum() /\n",
    "      ((vic_21_merge_p[\"es_victima\"] * vic_21_merge_p[\"fex_c_viv\"])).sum())*100)"
   ]
  },
  {
   "cell_type": "code",
   "execution_count": 32,
   "metadata": {},
   "outputs": [],
   "source": [
    "mask_6= vic_21_merge_p[\"es_desplazado\"]==1"
   ]
  },
  {
   "cell_type": "code",
   "execution_count": 33,
   "metadata": {},
   "outputs": [],
   "source": [
    "vic_21_merge_p_mask_vd = vic_21_merge_p[mask_6==True]"
   ]
  },
  {
   "cell_type": "code",
   "execution_count": 34,
   "metadata": {
    "scrolled": false
   },
   "outputs": [
    {
     "name": "stdout",
     "output_type": "stream",
     "text": [
      "18.54148340311986\n"
     ]
    }
   ],
   "source": [
    "print(   \n",
    "    ((vic_21_merge_p_mask_vd[\"indigente\"] * vic_21_merge_p_mask_vd[\"fex_c_viv\"]).sum() /\n",
    "      ((vic_21_merge_p[\"es_desplazado\"] * vic_21_merge_p[\"fex_c_viv\"])).sum())*100)"
   ]
  },
  {
   "cell_type": "markdown",
   "metadata": {},
   "source": [
    "##### Tasa pobreza extrema expandida población víctima desplazamiento (por sexo)"
   ]
  },
  {
   "cell_type": "code",
   "execution_count": 58,
   "metadata": {},
   "outputs": [],
   "source": [
    "mask_7= vic_21_merge_p[\"es_desplazado\"]==1\n",
    "vic_21_merge_p_mask_v_m = vic_21_merge_p[mask_7==True]\n",
    "mask_7= vic_21_merge_p_mask_v_m[\"sexo\"]==1\n",
    "vic_21_merge_p_mask_v_m = vic_21_merge_p_mask_v_m[mask_7==True]"
   ]
  },
  {
   "cell_type": "code",
   "execution_count": 47,
   "metadata": {},
   "outputs": [],
   "source": [
    "mask_8= vic_21_merge_p[\"es_desplazado\"]==1\n",
    "vic_21_merge_p_mask_v_h = vic_21_merge_p[mask_8==True]\n",
    "mask_8= vic_21_merge_p_mask_v_h[\"sexo\"]==2\n",
    "vic_21_merge_p_mask_v_h = vic_21_merge_p_mask_v_h[mask_8==True]"
   ]
  },
  {
   "cell_type": "code",
   "execution_count": 49,
   "metadata": {
    "scrolled": true
   },
   "outputs": [
    {
     "name": "stdout",
     "output_type": "stream",
     "text": [
      "17.74628300141711\n",
      "19.217903816029096\n"
     ]
    }
   ],
   "source": [
    "print(   \n",
    "    ((vic_21_merge_p_mask_v_m[\"indigente\"] * vic_21_merge_p_mask_v_m[\"fex_c_viv\"]).sum() /\n",
    "      ((vic_21_merge_p_mask_v_m[\"es_desplazado\"] * vic_21_merge_p_mask_v_m[\"fex_c_viv\"])).sum())*100)\n",
    "print(   \n",
    "    ((vic_21_merge_p_mask_v_h[\"indigente\"] * vic_21_merge_p_mask_v_h[\"fex_c_viv\"]).sum() /\n",
    "      ((vic_21_merge_p_mask_v_h[\"es_desplazado\"] * vic_21_merge_p_mask_v_h[\"fex_c_viv\"])).sum())*100)"
   ]
  },
  {
   "cell_type": "markdown",
   "metadata": {},
   "source": [
    "##### Tasa pobreza extrema expandida población víctima y víctima desplazamiento (por clase)"
   ]
  },
  {
   "cell_type": "code",
   "execution_count": 54,
   "metadata": {},
   "outputs": [],
   "source": [
    "mask_9= vic_21_merge_p[\"es_desplazado\"]==1\n",
    "vic_21_merge_p_mask_v_c = vic_21_merge_p[mask_9==True]\n",
    "mask_9= vic_21_merge_p_mask_v_c[\"clase\"]==1\n",
    "vic_21_merge_p_mask_v_c = vic_21_merge_p_mask_v_c[mask_9==True]"
   ]
  },
  {
   "cell_type": "code",
   "execution_count": 55,
   "metadata": {},
   "outputs": [],
   "source": [
    "mask_9= vic_21_merge_p_mask_v_c[\"clase\"]==1"
   ]
  },
  {
   "cell_type": "code",
   "execution_count": 56,
   "metadata": {},
   "outputs": [],
   "source": [
    "mask_10= vic_21_merge_p[\"es_desplazado\"]==1\n",
    "vic_21_merge_p_mask_v_r = vic_21_merge_p[mask_10==True]\n",
    "mask_10= vic_21_merge_p_mask_v_r[\"clase\"]==2\n",
    "vic_21_merge_p_mask_v_r = vic_21_merge_p_mask_v_r[mask_10==True]"
   ]
  },
  {
   "cell_type": "code",
   "execution_count": 57,
   "metadata": {
    "scrolled": true
   },
   "outputs": [
    {
     "name": "stdout",
     "output_type": "stream",
     "text": [
      "17.3677028591577\n",
      "20.59515503957117\n"
     ]
    }
   ],
   "source": [
    "print(   \n",
    "    ((vic_21_merge_p_mask_v_c[\"indigente\"] * vic_21_merge_p_mask_v_c[\"fex_c_viv\"]).sum() /\n",
    "      ((vic_21_merge_p_mask_v_c[\"es_desplazado\"] * vic_21_merge_p_mask_v_c[\"fex_c_viv\"])).sum())*100)\n",
    "print(   \n",
    "    ((vic_21_merge_p_mask_v_r[\"indigente\"] * vic_21_merge_p_mask_v_r[\"fex_c_viv\"]).sum() /\n",
    "      ((vic_21_merge_p_mask_v_r[\"es_desplazado\"] * vic_21_merge_p_mask_v_r[\"fex_c_viv\"])).sum())*100)"
   ]
  }
 ],
 "metadata": {
  "kernelspec": {
   "display_name": "Python 3",
   "language": "python",
   "name": "python3"
  },
  "language_info": {
   "codemirror_mode": {
    "name": "ipython",
    "version": 3
   },
   "file_extension": ".py",
   "mimetype": "text/x-python",
   "name": "python",
   "nbconvert_exporter": "python",
   "pygments_lexer": "ipython3",
   "version": "3.8.3"
  }
 },
 "nbformat": 4,
 "nbformat_minor": 4
}
