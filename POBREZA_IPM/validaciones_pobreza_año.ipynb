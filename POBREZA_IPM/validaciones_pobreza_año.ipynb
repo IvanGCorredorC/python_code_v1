{
 "cells": [
  {
   "cell_type": "code",
   "execution_count": 86,
   "metadata": {},
   "outputs": [],
   "source": [
    "import numpy as np\n",
    "import pandas as pd\n",
    "import matplotlib.pyplot as plt"
   ]
  },
  {
   "cell_type": "code",
   "execution_count": 87,
   "metadata": {},
   "outputs": [],
   "source": [
    "pd.options.display.max_info_rows= None\n",
    "pd.options.display.float_format = '{:.3f}'.format \n",
    "pd.options.display.max_rows = None\n",
    "pd.options.display.max_columns = None\n",
    "#pd.options.display.max_colwidth = 300"
   ]
  },
  {
   "cell_type": "code",
   "execution_count": 88,
   "metadata": {},
   "outputs": [],
   "source": [
    "coding: \"latin-1\""
   ]
  },
  {
   "cell_type": "code",
   "execution_count": 89,
   "metadata": {},
   "outputs": [],
   "source": [
    "#rutas\n",
    "p1 = \"C:/Users/ivan.corredor/pobreza_calculos_2019_2022/2023/pobreza monetaria/\""
   ]
  },
  {
   "cell_type": "markdown",
   "metadata": {},
   "source": [
    "## Validaciones"
   ]
  },
  {
   "cell_type": "code",
   "execution_count": 90,
   "metadata": {},
   "outputs": [],
   "source": [
    "phv_22 = pd.read_stata(p1 + \"Victimas_procesada_2022.dta\")"
   ]
  },
  {
   "cell_type": "code",
   "execution_count": 91,
   "metadata": {},
   "outputs": [
    {
     "data": {
      "text/html": [
       "<div>\n",
       "<style scoped>\n",
       "    .dataframe tbody tr th:only-of-type {\n",
       "        vertical-align: middle;\n",
       "    }\n",
       "\n",
       "    .dataframe tbody tr th {\n",
       "        vertical-align: top;\n",
       "    }\n",
       "\n",
       "    .dataframe thead th {\n",
       "        text-align: right;\n",
       "    }\n",
       "</style>\n",
       "<table border=\"1\" class=\"dataframe\">\n",
       "  <thead>\n",
       "    <tr style=\"text-align: right;\">\n",
       "      <th></th>\n",
       "      <th>directorio</th>\n",
       "      <th>secuencia_p</th>\n",
       "      <th>orden</th>\n",
       "      <th>clase</th>\n",
       "      <th>dominio</th>\n",
       "      <th>mes</th>\n",
       "      <th>sexo</th>\n",
       "      <th>edad</th>\n",
       "      <th>ingtot</th>\n",
       "      <th>fex_c</th>\n",
       "      <th>fex_dpto</th>\n",
       "      <th>dpto</th>\n",
       "      <th>nper</th>\n",
       "      <th>lp</th>\n",
       "      <th>li</th>\n",
       "      <th>pobre</th>\n",
       "      <th>indigente</th>\n",
       "      <th>npobres</th>\n",
       "      <th>nindigentes</th>\n",
       "      <th>es_victima</th>\n",
       "      <th>es_desplazado</th>\n",
       "      <th>decada_vic</th>\n",
       "      <th>fex_c_viv</th>\n",
       "      <th>no_victima</th>\n",
       "      <th>periodo</th>\n",
       "    </tr>\n",
       "  </thead>\n",
       "  <tbody>\n",
       "    <tr>\n",
       "      <th>0</th>\n",
       "      <td>5000000.000</td>\n",
       "      <td>1.000</td>\n",
       "      <td>1.000</td>\n",
       "      <td>1</td>\n",
       "      <td>RESTO URBANO</td>\n",
       "      <td>01</td>\n",
       "      <td>1.000</td>\n",
       "      <td>33.000</td>\n",
       "      <td>768000.000</td>\n",
       "      <td>119.372</td>\n",
       "      <td>189.040</td>\n",
       "      <td>08</td>\n",
       "      <td>6.000</td>\n",
       "      <td>352960.189</td>\n",
       "      <td>185502.396</td>\n",
       "      <td>1.000</td>\n",
       "      <td>1.000</td>\n",
       "      <td>6.000</td>\n",
       "      <td>6.000</td>\n",
       "      <td>NaN</td>\n",
       "      <td>NaN</td>\n",
       "      <td></td>\n",
       "      <td>NaN</td>\n",
       "      <td>1</td>\n",
       "      <td>2022</td>\n",
       "    </tr>\n",
       "    <tr>\n",
       "      <th>1</th>\n",
       "      <td>5000000.000</td>\n",
       "      <td>1.000</td>\n",
       "      <td>2.000</td>\n",
       "      <td>1</td>\n",
       "      <td>RESTO URBANO</td>\n",
       "      <td>01</td>\n",
       "      <td>2.000</td>\n",
       "      <td>31.000</td>\n",
       "      <td>0.000</td>\n",
       "      <td>119.372</td>\n",
       "      <td>189.040</td>\n",
       "      <td>08</td>\n",
       "      <td>6.000</td>\n",
       "      <td>352960.189</td>\n",
       "      <td>185502.396</td>\n",
       "      <td>1.000</td>\n",
       "      <td>1.000</td>\n",
       "      <td>6.000</td>\n",
       "      <td>6.000</td>\n",
       "      <td>NaN</td>\n",
       "      <td>NaN</td>\n",
       "      <td></td>\n",
       "      <td>NaN</td>\n",
       "      <td>1</td>\n",
       "      <td>2022</td>\n",
       "    </tr>\n",
       "    <tr>\n",
       "      <th>2</th>\n",
       "      <td>5000000.000</td>\n",
       "      <td>1.000</td>\n",
       "      <td>3.000</td>\n",
       "      <td>1</td>\n",
       "      <td>RESTO URBANO</td>\n",
       "      <td>01</td>\n",
       "      <td>2.000</td>\n",
       "      <td>11.000</td>\n",
       "      <td>NaN</td>\n",
       "      <td>119.372</td>\n",
       "      <td>189.040</td>\n",
       "      <td>08</td>\n",
       "      <td>6.000</td>\n",
       "      <td>352960.189</td>\n",
       "      <td>185502.396</td>\n",
       "      <td>1.000</td>\n",
       "      <td>1.000</td>\n",
       "      <td>6.000</td>\n",
       "      <td>6.000</td>\n",
       "      <td>NaN</td>\n",
       "      <td>NaN</td>\n",
       "      <td></td>\n",
       "      <td>NaN</td>\n",
       "      <td>1</td>\n",
       "      <td>2022</td>\n",
       "    </tr>\n",
       "    <tr>\n",
       "      <th>3</th>\n",
       "      <td>5000000.000</td>\n",
       "      <td>1.000</td>\n",
       "      <td>4.000</td>\n",
       "      <td>1</td>\n",
       "      <td>RESTO URBANO</td>\n",
       "      <td>01</td>\n",
       "      <td>2.000</td>\n",
       "      <td>5.000</td>\n",
       "      <td>NaN</td>\n",
       "      <td>119.372</td>\n",
       "      <td>189.040</td>\n",
       "      <td>08</td>\n",
       "      <td>6.000</td>\n",
       "      <td>352960.189</td>\n",
       "      <td>185502.396</td>\n",
       "      <td>1.000</td>\n",
       "      <td>1.000</td>\n",
       "      <td>6.000</td>\n",
       "      <td>6.000</td>\n",
       "      <td>NaN</td>\n",
       "      <td>NaN</td>\n",
       "      <td></td>\n",
       "      <td>NaN</td>\n",
       "      <td>1</td>\n",
       "      <td>2022</td>\n",
       "    </tr>\n",
       "    <tr>\n",
       "      <th>4</th>\n",
       "      <td>5000000.000</td>\n",
       "      <td>1.000</td>\n",
       "      <td>5.000</td>\n",
       "      <td>1</td>\n",
       "      <td>RESTO URBANO</td>\n",
       "      <td>01</td>\n",
       "      <td>1.000</td>\n",
       "      <td>3.000</td>\n",
       "      <td>NaN</td>\n",
       "      <td>119.372</td>\n",
       "      <td>189.040</td>\n",
       "      <td>08</td>\n",
       "      <td>6.000</td>\n",
       "      <td>352960.189</td>\n",
       "      <td>185502.396</td>\n",
       "      <td>1.000</td>\n",
       "      <td>1.000</td>\n",
       "      <td>6.000</td>\n",
       "      <td>6.000</td>\n",
       "      <td>NaN</td>\n",
       "      <td>NaN</td>\n",
       "      <td></td>\n",
       "      <td>NaN</td>\n",
       "      <td>1</td>\n",
       "      <td>2022</td>\n",
       "    </tr>\n",
       "  </tbody>\n",
       "</table>\n",
       "</div>"
      ],
      "text/plain": [
       "   directorio  secuencia_p  orden  clase       dominio mes  sexo   edad  \\\n",
       "0 5000000.000        1.000  1.000      1  RESTO URBANO  01 1.000 33.000   \n",
       "1 5000000.000        1.000  2.000      1  RESTO URBANO  01 2.000 31.000   \n",
       "2 5000000.000        1.000  3.000      1  RESTO URBANO  01 2.000 11.000   \n",
       "3 5000000.000        1.000  4.000      1  RESTO URBANO  01 2.000  5.000   \n",
       "4 5000000.000        1.000  5.000      1  RESTO URBANO  01 1.000  3.000   \n",
       "\n",
       "      ingtot   fex_c  fex_dpto dpto  nper         lp         li  pobre  \\\n",
       "0 768000.000 119.372   189.040   08 6.000 352960.189 185502.396  1.000   \n",
       "1      0.000 119.372   189.040   08 6.000 352960.189 185502.396  1.000   \n",
       "2        NaN 119.372   189.040   08 6.000 352960.189 185502.396  1.000   \n",
       "3        NaN 119.372   189.040   08 6.000 352960.189 185502.396  1.000   \n",
       "4        NaN 119.372   189.040   08 6.000 352960.189 185502.396  1.000   \n",
       "\n",
       "   indigente  npobres  nindigentes  es_victima  es_desplazado decada_vic  \\\n",
       "0      1.000    6.000        6.000         NaN            NaN              \n",
       "1      1.000    6.000        6.000         NaN            NaN              \n",
       "2      1.000    6.000        6.000         NaN            NaN              \n",
       "3      1.000    6.000        6.000         NaN            NaN              \n",
       "4      1.000    6.000        6.000         NaN            NaN              \n",
       "\n",
       "   fex_c_viv  no_victima  periodo  \n",
       "0        NaN           1     2022  \n",
       "1        NaN           1     2022  \n",
       "2        NaN           1     2022  \n",
       "3        NaN           1     2022  \n",
       "4        NaN           1     2022  "
      ]
     },
     "execution_count": 91,
     "metadata": {},
     "output_type": "execute_result"
    }
   ],
   "source": [
    "phv_22.head()"
   ]
  },
  {
   "cell_type": "code",
   "execution_count": 92,
   "metadata": {},
   "outputs": [
    {
     "name": "stdout",
     "output_type": "stream",
     "text": [
      "no_victima\n",
      "1    742694\n",
      "0    123269\n",
      "Name: count, dtype: int64\n",
      "43756918.764572896\n",
      "18331940.866275895\n"
     ]
    }
   ],
   "source": [
    "# descripción muestral\n",
    "print(phv_22[\"no_victima\"].value_counts())\n",
    "# no víctimas expandidas\n",
    "print((phv_22[\"no_victima\"] * phv_22[\"fex_c\"]).sum())\n",
    "# no víctimas pobres\n",
    "print((phv_22[\"pobre\"] * phv_22[\"fex_c\"]).sum())"
   ]
  },
  {
   "cell_type": "markdown",
   "metadata": {},
   "source": [
    "##### Tasa pobreza expandida población no víctima"
   ]
  },
  {
   "cell_type": "code",
   "execution_count": 93,
   "metadata": {},
   "outputs": [
    {
     "name": "stdout",
     "output_type": "stream",
     "text": [
      "34.68\n",
      "15176528\n"
     ]
    }
   ],
   "source": [
    "mask_2= phv_22[\"no_victima\"]==1\n",
    "\n",
    "phv_22_mask_nv = phv_22[mask_2==True]\n",
    "\n",
    "print(\n",
    "    round(\n",
    "    ((phv_22_mask_nv[\"pobre\"] * phv_22_mask_nv[\"fex_c\"]).sum() /\n",
    "      (phv_22[\"no_victima\"] * phv_22[\"fex_c\"]).sum()*100),2))\n",
    "\n",
    "## personas pobres no víctimas\n",
    "print(\n",
    "    round(\n",
    "        (phv_22_mask_nv[\"pobre\"] * phv_22_mask_nv[\"fex_c\"]).sum()\n",
    "    )\n",
    ")"
   ]
  },
  {
   "cell_type": "markdown",
   "metadata": {},
   "source": [
    "##### Tasa pobreza expandida población víctima "
   ]
  },
  {
   "cell_type": "code",
   "execution_count": 94,
   "metadata": {},
   "outputs": [
    {
     "name": "stdout",
     "output_type": "stream",
     "text": [
      "50.10270112053984\n"
     ]
    }
   ],
   "source": [
    "mask_3= phv_22[\"es_victima\"]==1\n",
    "\n",
    "phv_22_mask_v = phv_22[mask_3==True]\n",
    "## tasa pobreza víctimas\n",
    "print(   \n",
    "    ((phv_22_mask_v[\"pobre\"] * phv_22_mask_v[\"fex_c_viv\"]).sum() /\n",
    "      (round((phv_22[\"es_victima\"] * phv_22[\"fex_c_viv\"]),2)).sum())*100)"
   ]
  },
  {
   "cell_type": "markdown",
   "metadata": {},
   "source": [
    "##### Tasa pobreza expandida población víctima desplazamiento"
   ]
  },
  {
   "cell_type": "code",
   "execution_count": 95,
   "metadata": {},
   "outputs": [
    {
     "name": "stdout",
     "output_type": "stream",
     "text": [
      "51.63472664204522\n"
     ]
    }
   ],
   "source": [
    "mask_4= phv_22[\"es_desplazado\"]==1\n",
    "phv_22_mask_vd = phv_22[mask_4==True]\n",
    "print(   \n",
    "    ((phv_22_mask_vd[\"pobre\"] * phv_22_mask_vd[\"fex_c_viv\"]).sum() /\n",
    "      ((phv_22[\"es_desplazado\"] * phv_22[\"fex_c_viv\"])).sum())*100)"
   ]
  },
  {
   "cell_type": "markdown",
   "metadata": {},
   "source": [
    "##### Tasa pobreza extrema expandida población víctima y víctima desplazamiento"
   ]
  },
  {
   "cell_type": "code",
   "execution_count": 96,
   "metadata": {},
   "outputs": [
    {
     "name": "stdout",
     "output_type": "stream",
     "text": [
      "21.19759379112321\n",
      "21.86485242035744\n"
     ]
    }
   ],
   "source": [
    "mask_5= phv_22[\"es_victima\"]==1\n",
    "phv_22_mask_v = phv_22[mask_5==True]\n",
    "## pobreza extrema total víctimas\n",
    "print(   \n",
    "    ((phv_22_mask_v[\"indigente\"] * phv_22_mask_v[\"fex_c_viv\"]).sum() /\n",
    "      ((phv_22[\"es_victima\"] * phv_22[\"fex_c_viv\"])).sum())*100)\n",
    "\n",
    "## pobreza extrema desplazamiento\n",
    "\n",
    "mask_6= phv_22[\"es_desplazado\"]==1\n",
    "phv_22_mask_vd = phv_22[mask_6==True]\n",
    "\n",
    "print(   \n",
    "    ((phv_22_mask_vd[\"indigente\"] * phv_22_mask_vd[\"fex_c_viv\"]).sum() /\n",
    "      ((phv_22[\"es_desplazado\"] * phv_22[\"fex_c_viv\"])).sum())*100)"
   ]
  },
  {
   "cell_type": "markdown",
   "metadata": {},
   "source": [
    "##### Tasa pobreza extrema expandida población víctima desplazamiento (por sexo)"
   ]
  },
  {
   "cell_type": "code",
   "execution_count": 97,
   "metadata": {},
   "outputs": [],
   "source": [
    "mask_7= phv_22[\"es_desplazado\"]==1\n",
    "phv_22_mask_v_m = phv_22[mask_7==True]\n",
    "mask_7= phv_22_mask_v_m[\"sexo\"]==1\n",
    "phv_22_mask_v_m = phv_22_mask_v_m[mask_7==True]"
   ]
  },
  {
   "cell_type": "code",
   "execution_count": 98,
   "metadata": {},
   "outputs": [],
   "source": [
    "mask_8= phv_22[\"es_desplazado\"]==1\n",
    "phv_22_mask_v_h = phv_22[mask_8==True]\n",
    "mask_8= phv_22_mask_v_h[\"sexo\"]==2\n",
    "phv_22_mask_v_h = phv_22_mask_v_h[mask_8==True]"
   ]
  },
  {
   "cell_type": "code",
   "execution_count": 99,
   "metadata": {
    "scrolled": true
   },
   "outputs": [
    {
     "name": "stdout",
     "output_type": "stream",
     "text": [
      "20.90526202734143\n",
      "22.683016351173485\n"
     ]
    }
   ],
   "source": [
    "print(   \n",
    "    ((phv_22_mask_v_m[\"indigente\"] * phv_22_mask_v_m[\"fex_c_viv\"]).sum() /\n",
    "      ((phv_22_mask_v_m[\"es_desplazado\"] * phv_22_mask_v_m[\"fex_c_viv\"])).sum())*100)\n",
    "print(   \n",
    "    ((phv_22_mask_v_h[\"indigente\"] * phv_22_mask_v_h[\"fex_c_viv\"]).sum() /\n",
    "      ((phv_22_mask_v_h[\"es_desplazado\"] * phv_22_mask_v_h[\"fex_c_viv\"])).sum())*100)"
   ]
  },
  {
   "cell_type": "markdown",
   "metadata": {},
   "source": [
    "##### Tasa pobreza extrema expandida población víctima desplazamiento (por clase)"
   ]
  },
  {
   "cell_type": "code",
   "execution_count": 100,
   "metadata": {},
   "outputs": [],
   "source": [
    "mask_9= phv_22[\"es_desplazado\"]==1\n",
    "phv_22_mask_v_c = phv_22[mask_9==True]\n",
    "mask_9 = phv_22_mask_v_c[\"clase\"]== 1\n",
    "phv_22_mask_v_c = phv_22_mask_v_c[mask_9==True]\n"
   ]
  },
  {
   "cell_type": "code",
   "execution_count": 101,
   "metadata": {},
   "outputs": [],
   "source": [
    "mask_10= phv_22[\"es_desplazado\"]==1\n",
    "phv_22_mask_v_r = phv_22[mask_10==True]\n",
    "mask_11= phv_22_mask_v_r[\"clase\"]==2\n",
    "phv_22_mask_v_r = phv_22_mask_v_r[mask_11==True]"
   ]
  },
  {
   "cell_type": "code",
   "execution_count": 102,
   "metadata": {
    "scrolled": true
   },
   "outputs": [
    {
     "name": "stdout",
     "output_type": "stream",
     "text": [
      "19.304700487743713\n",
      "26.10983464406592\n"
     ]
    }
   ],
   "source": [
    "print(   \n",
    "    ((phv_22_mask_v_c[\"indigente\"] * phv_22_mask_v_c[\"fex_c_viv\"]).sum() /\n",
    "      ((phv_22_mask_v_c[\"es_desplazado\"] * phv_22_mask_v_c[\"fex_c_viv\"])).sum())*100)\n",
    "print(   \n",
    "    ((phv_22_mask_v_r[\"indigente\"] * phv_22_mask_v_r[\"fex_c_viv\"]).sum() /\n",
    "      ((phv_22_mask_v_r[\"es_desplazado\"] * phv_22_mask_v_r[\"fex_c_viv\"])).sum())*100)"
   ]
  }
 ],
 "metadata": {
  "kernelspec": {
   "display_name": "Python 3 (ipykernel)",
   "language": "python",
   "name": "python3"
  },
  "language_info": {
   "codemirror_mode": {
    "name": "ipython",
    "version": 3
   },
   "file_extension": ".py",
   "mimetype": "text/x-python",
   "name": "python",
   "nbconvert_exporter": "python",
   "pygments_lexer": "ipython3",
   "version": "3.11.5"
  }
 },
 "nbformat": 4,
 "nbformat_minor": 4
}
