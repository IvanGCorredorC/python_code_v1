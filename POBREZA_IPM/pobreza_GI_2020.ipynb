{
 "cells": [
  {
   "cell_type": "code",
   "execution_count": 122,
   "metadata": {},
   "outputs": [],
   "source": [
    "import numpy as np\n",
    "import pandas as pd"
   ]
  },
  {
   "cell_type": "code",
   "execution_count": 123,
   "metadata": {},
   "outputs": [],
   "source": [
    "### Procesamiento base de pobreza"
   ]
  },
  {
   "cell_type": "code",
   "execution_count": 124,
   "metadata": {},
   "outputs": [],
   "source": [
    "coding: \"latin-1\""
   ]
  },
  {
   "cell_type": "code",
   "execution_count": 125,
   "metadata": {},
   "outputs": [],
   "source": [
    "vic_20 = pd.read_stata(\"C:/Users/Estadistico/Desktop/BACKUP_07_07_2022/ivan/DANE_pobreza/2020/Victimas_GEIH_2020.dta\")"
   ]
  },
  {
   "cell_type": "code",
   "execution_count": 126,
   "metadata": {},
   "outputs": [],
   "source": [
    "per_20 = pd.read_stata(\"C:/Users/Estadistico/Desktop/BACKUP_07_07_2022/ivan/DANE_pobreza/2020/Personas.dta\")"
   ]
  },
  {
   "cell_type": "code",
   "execution_count": 127,
   "metadata": {},
   "outputs": [],
   "source": [
    "hog_20 = pd.read_stata(\"C:/Users/Estadistico/Desktop/BACKUP_07_07_2022/ivan/DANE_pobreza/2020/Hogares.dta\")"
   ]
  },
  {
   "cell_type": "code",
   "execution_count": 128,
   "metadata": {
    "scrolled": true
   },
   "outputs": [
    {
     "name": "stdout",
     "output_type": "stream",
     "text": [
      "<class 'pandas.core.frame.DataFrame'>\n",
      "Int64Index: 229834 entries, 0 to 229833\n",
      "Data columns (total 23 columns):\n",
      " #   Column       Non-Null Count   Dtype   \n",
      "---  ------       --------------   -----   \n",
      " 0   directorio   229834 non-null  int32   \n",
      " 1   secuencia_p  229834 non-null  int8    \n",
      " 2   mes          229834 non-null  object  \n",
      " 3   clase        229834 non-null  object  \n",
      " 4   dominio      229834 non-null  object  \n",
      " 5   p5000        229834 non-null  int8    \n",
      " 6   p5090        229834 non-null  category\n",
      " 7   p5100        7045 non-null    float64 \n",
      " 8   p5130        136470 non-null  float64 \n",
      " 9   nper         229834 non-null  int8    \n",
      " 10  npersug      229834 non-null  int8    \n",
      " 11  ingtotug     229834 non-null  float64 \n",
      " 12  ingtotugarr  229834 non-null  float64 \n",
      " 13  ingpcug      229834 non-null  float64 \n",
      " 14  li           229834 non-null  float64 \n",
      " 15  lp           229834 non-null  float64 \n",
      " 16  pobre        229834 non-null  category\n",
      " 17  indigente    229834 non-null  category\n",
      " 18  npobres      229834 non-null  int8    \n",
      " 19  nindigentes  229834 non-null  int8    \n",
      " 20  fex_c        229834 non-null  float64 \n",
      " 21  depto        229834 non-null  object  \n",
      " 22  fex_dpto     229834 non-null  float64 \n",
      "dtypes: category(3), float64(9), int32(1), int8(6), object(4)\n",
      "memory usage: 27.4+ MB\n"
     ]
    }
   ],
   "source": [
    "hog_20.info()"
   ]
  },
  {
   "cell_type": "code",
   "execution_count": 129,
   "metadata": {},
   "outputs": [],
   "source": [
    "hog_20_sub = hog_20.iloc[:,[0,1,2,9,14,15,16,17,18,19]]"
   ]
  },
  {
   "cell_type": "code",
   "execution_count": 130,
   "metadata": {},
   "outputs": [
    {
     "name": "stderr",
     "output_type": "stream",
     "text": [
      "C:\\Users\\Estadistico\\anaconda3\\lib\\site-packages\\pandas\\core\\indexing.py:966: SettingWithCopyWarning: \n",
      "A value is trying to be set on a copy of a slice from a DataFrame.\n",
      "Try using .loc[row_indexer,col_indexer] = value instead\n",
      "\n",
      "See the caveats in the documentation: https://pandas.pydata.org/pandas-docs/stable/user_guide/indexing.html#returning-a-view-versus-a-copy\n",
      "  self.obj[item] = s\n"
     ]
    }
   ],
   "source": [
    "hog_20_sub.iloc[:,2] = pd.to_numeric(hog_20_sub.iloc[:,2], downcast = 'integer')"
   ]
  },
  {
   "cell_type": "code",
   "execution_count": 131,
   "metadata": {},
   "outputs": [
    {
     "name": "stdout",
     "output_type": "stream",
     "text": [
      "<class 'pandas.core.frame.DataFrame'>\n",
      "Int64Index: 229834 entries, 0 to 229833\n",
      "Data columns (total 10 columns):\n",
      " #   Column       Non-Null Count   Dtype   \n",
      "---  ------       --------------   -----   \n",
      " 0   directorio   229834 non-null  int32   \n",
      " 1   secuencia_p  229834 non-null  int8    \n",
      " 2   mes          229834 non-null  int8    \n",
      " 3   nper         229834 non-null  int8    \n",
      " 4   li           229834 non-null  float64 \n",
      " 5   lp           229834 non-null  float64 \n",
      " 6   pobre        229834 non-null  category\n",
      " 7   indigente    229834 non-null  category\n",
      " 8   npobres      229834 non-null  int8    \n",
      " 9   nindigentes  229834 non-null  int8    \n",
      "dtypes: category(2), float64(2), int32(1), int8(5)\n",
      "memory usage: 7.7 MB\n"
     ]
    }
   ],
   "source": [
    "hog_20_sub.info()"
   ]
  },
  {
   "cell_type": "code",
   "execution_count": 132,
   "metadata": {},
   "outputs": [],
   "source": [
    "vic_20_merge = pd.merge(left=vic_20, right=hog_20_sub, left_on=[\"directorio\", \"secuencia_p\", \"mes\"], \n",
    "                        right_on=[\"directorio\", \"secuencia_p\", \"mes\"], how='left', sort=False, validate='m:1', \n",
    "                        suffixes=(\"_v\", \"_h\"), indicator = 'indicator_column')"
   ]
  },
  {
   "cell_type": "code",
   "execution_count": 35,
   "metadata": {
    "scrolled": false
   },
   "outputs": [
    {
     "name": "stdout",
     "output_type": "stream",
     "text": [
      "<class 'pandas.core.frame.DataFrame'>\n",
      "Int64Index: 747822 entries, 0 to 747821\n",
      "Data columns (total 15 columns):\n",
      " #   Column            Non-Null Count   Dtype   \n",
      "---  ------            --------------   -----   \n",
      " 0   directorio        747822 non-null  int32   \n",
      " 1   secuencia_p       747822 non-null  int8    \n",
      " 2   orden             747822 non-null  int8    \n",
      " 3   mes               747822 non-null  int8    \n",
      " 4   es_victima        86605 non-null   float64 \n",
      " 5   es_desplazado     86605 non-null   float64 \n",
      " 6   decada_vic        747822 non-null  object  \n",
      " 7   fex_c_viv         86605 non-null   float64 \n",
      " 8   li                747822 non-null  float64 \n",
      " 9   lp                747822 non-null  float64 \n",
      " 10  pobre             747822 non-null  category\n",
      " 11  indigente         747822 non-null  category\n",
      " 12  npobres           747822 non-null  int8    \n",
      " 13  nindigentes       747822 non-null  int8    \n",
      " 14  indicator_column  747822 non-null  category\n",
      "dtypes: category(3), float64(5), int32(1), int8(5), object(1)\n",
      "memory usage: 48.5+ MB\n"
     ]
    }
   ],
   "source": [
    "vic_20_merge.info()"
   ]
  },
  {
   "cell_type": "code",
   "execution_count": 22,
   "metadata": {},
   "outputs": [],
   "source": [
    "#pd.options.display.max_info_rows= None"
   ]
  },
  {
   "cell_type": "code",
   "execution_count": 36,
   "metadata": {},
   "outputs": [
    {
     "name": "stdout",
     "output_type": "stream",
     "text": [
      "<class 'pandas.core.frame.DataFrame'>\n",
      "Int64Index: 747822 entries, 0 to 747821\n",
      "Data columns (total 137 columns):\n",
      " #   Column       Dtype   \n",
      "---  ------       -----   \n",
      " 0   directorio   int32   \n",
      " 1   secuencia_p  int8    \n",
      " 2   orden        int8    \n",
      " 3   clase        object  \n",
      " 4   dominio      object  \n",
      " 5   mes          object  \n",
      " 6   estrato1     category\n",
      " 7   p6020        category\n",
      " 8   p6040        int16   \n",
      " 9   p6050        category\n",
      " 10  p6090        category\n",
      " 11  p6100        category\n",
      " 12  p6210        category\n",
      " 13  p6210s1      float64 \n",
      " 14  p6240        category\n",
      " 15  oficio       object  \n",
      " 16  p6426        float64 \n",
      " 17  p6430        category\n",
      " 18  p6500        float64 \n",
      " 19  p6510        category\n",
      " 20  p6510s1      float64 \n",
      " 21  p6510s2      category\n",
      " 22  p6545        category\n",
      " 23  p6545s1      float64 \n",
      " 24  p6545s2      category\n",
      " 25  p6580        category\n",
      " 26  p6580s1      float64 \n",
      " 27  p6580s2      category\n",
      " 28  p6585s1      category\n",
      " 29  p6585s1a1    float64 \n",
      " 30  p6585s1a2    category\n",
      " 31  p6585s2      category\n",
      " 32  p6585s2a1    float64 \n",
      " 33  p6585s2a2    category\n",
      " 34  p6585s3      category\n",
      " 35  p6585s3a1    float64 \n",
      " 36  p6585s3a2    category\n",
      " 37  p6585s4      category\n",
      " 38  p6585s4a1    float64 \n",
      " 39  p6585s4a2    category\n",
      " 40  p6590        category\n",
      " 41  p6590s1      float64 \n",
      " 42  p6600        category\n",
      " 43  p6600s1      float64 \n",
      " 44  p6610        category\n",
      " 45  p6610s1      float64 \n",
      " 46  p6620        category\n",
      " 47  p6620s1      float64 \n",
      " 48  p6630s1      category\n",
      " 49  p6630s1a1    float64 \n",
      " 50  p6630s2      category\n",
      " 51  p6630s2a1    float64 \n",
      " 52  p6630s3      category\n",
      " 53  p6630s3a1    float64 \n",
      " 54  p6630s4      category\n",
      " 55  p6630s4a1    float64 \n",
      " 56  p6630s6      category\n",
      " 57  p6630s6a1    float64 \n",
      " 58  p6750        float64 \n",
      " 59  p6760        float64 \n",
      " 60  p550         float64 \n",
      " 61  p6800        float64 \n",
      " 62  p6870        category\n",
      " 63  p6920        category\n",
      " 64  p7040        category\n",
      " 65  p7045        float64 \n",
      " 66  p7050        category\n",
      " 67  p7070        float64 \n",
      " 68  p7090        category\n",
      " 69  p7110        category\n",
      " 70  p7120        category\n",
      " 71  p7140s1      category\n",
      " 72  p7140s2      category\n",
      " 73  p7150        category\n",
      " 74  p7160        category\n",
      " 75  p7310        category\n",
      " 76  p7350        category\n",
      " 77  p7422        category\n",
      " 78  p7422s1      float64 \n",
      " 79  p7472        category\n",
      " 80  p7472s1      float64 \n",
      " 81  p7495        category\n",
      " 82  p7500s1      category\n",
      " 83  p7500s1a1    float64 \n",
      " 84  p7500s2      category\n",
      " 85  p7500s2a1    float64 \n",
      " 86  p7500s3      category\n",
      " 87  p7500s3a1    float64 \n",
      " 88  p7505        category\n",
      " 89  p7510s1      category\n",
      " 90  p7510s1a1    float64 \n",
      " 91  p7510s2      category\n",
      " 92  p7510s2a1    float64 \n",
      " 93  p7510s3      category\n",
      " 94  p7510s3a1    float64 \n",
      " 95  p7510s5      category\n",
      " 96  p7510s5a1    float64 \n",
      " 97  p7510s6      category\n",
      " 98  p7510s6a1    float64 \n",
      " 99  p7510s7      category\n",
      " 100 p7510s7a1    float64 \n",
      " 101 pet          category\n",
      " 102 oc           category\n",
      " 103 des          category\n",
      " 104 ina          category\n",
      " 105 impa         float64 \n",
      " 106 isa          float64 \n",
      " 107 ie           float64 \n",
      " 108 imdi         float64 \n",
      " 109 iof1         float64 \n",
      " 110 iof2         float64 \n",
      " 111 iof3h        float64 \n",
      " 112 iof3i        float64 \n",
      " 113 iof6         float64 \n",
      " 114 cclasnr2     category\n",
      " 115 cclasnr3     category\n",
      " 116 cclasnr4     category\n",
      " 117 cclasnr5     category\n",
      " 118 cclasnr6     category\n",
      " 119 cclasnr7     category\n",
      " 120 cclasnr8     category\n",
      " 121 cclasnr11    category\n",
      " 122 impaes       float64 \n",
      " 123 isaes        float64 \n",
      " 124 iees         float64 \n",
      " 125 imdies       float64 \n",
      " 126 iof1es       float64 \n",
      " 127 iof2es       float64 \n",
      " 128 iof3hes      float64 \n",
      " 129 iof3ies      float64 \n",
      " 130 iof6es       float64 \n",
      " 131 ingtotob     float64 \n",
      " 132 ingtotes     float64 \n",
      " 133 ingtot       float64 \n",
      " 134 fex_c        float64 \n",
      " 135 depto        object  \n",
      " 136 fex_dpto     float64 \n",
      "dtypes: category(69), float64(59), int16(1), int32(1), int8(2), object(5)\n",
      "memory usage: 425.8+ MB\n"
     ]
    }
   ],
   "source": [
    "per_20.info(verbose=True)"
   ]
  },
  {
   "cell_type": "code",
   "execution_count": 133,
   "metadata": {},
   "outputs": [],
   "source": [
    "per_20_sub = per_20.iloc[:,[0,1,2,3,4,5,7,8,133,134,135,136]]"
   ]
  },
  {
   "cell_type": "code",
   "execution_count": 134,
   "metadata": {
    "scrolled": true
   },
   "outputs": [
    {
     "name": "stdout",
     "output_type": "stream",
     "text": [
      "<class 'pandas.core.frame.DataFrame'>\n",
      "Int64Index: 747822 entries, 0 to 747821\n",
      "Data columns (total 12 columns):\n",
      " #   Column       Non-Null Count   Dtype   \n",
      "---  ------       --------------   -----   \n",
      " 0   directorio   747822 non-null  int32   \n",
      " 1   secuencia_p  747822 non-null  int8    \n",
      " 2   orden        747822 non-null  int8    \n",
      " 3   clase        747822 non-null  object  \n",
      " 4   dominio      747822 non-null  object  \n",
      " 5   mes          747822 non-null  object  \n",
      " 6   p6020        747822 non-null  category\n",
      " 7   p6040        747822 non-null  int16   \n",
      " 8   ingtot       747822 non-null  float64 \n",
      " 9   fex_c        747822 non-null  float64 \n",
      " 10  depto        747822 non-null  object  \n",
      " 11  fex_dpto     747822 non-null  float64 \n",
      "dtypes: category(1), float64(3), int16(1), int32(1), int8(2), object(4)\n",
      "memory usage: 52.1+ MB\n"
     ]
    }
   ],
   "source": [
    "per_20_sub.info()"
   ]
  },
  {
   "cell_type": "code",
   "execution_count": 135,
   "metadata": {},
   "outputs": [],
   "source": [
    "#formato\n",
    "per_20_sub.iloc[:,3] = pd.to_numeric(per_20_sub.iloc[:,3], downcast = 'integer')\n",
    "per_20_sub.iloc[:,5] = pd.to_numeric(per_20_sub.iloc[:,5], downcast = 'integer')"
   ]
  },
  {
   "cell_type": "code",
   "execution_count": 136,
   "metadata": {},
   "outputs": [],
   "source": [
    "vic_20_merge_p = pd.merge(left=vic_20_merge, right=per_20_sub, left_on=[\"directorio\", \"secuencia_p\", \"orden\", \"mes\"], \n",
    "                        right_on=[\"directorio\", \"secuencia_p\", \"orden\", \"mes\"], how='left', sort=False, validate='1:1', \n",
    "                        suffixes=(\"_vh\", \"_p\"), indicator = 'indicator_column_vhp')"
   ]
  },
  {
   "cell_type": "code",
   "execution_count": 43,
   "metadata": {
    "scrolled": true
   },
   "outputs": [
    {
     "name": "stdout",
     "output_type": "stream",
     "text": [
      "<class 'pandas.core.frame.DataFrame'>\n",
      "Int64Index: 747822 entries, 0 to 747821\n",
      "Data columns (total 24 columns):\n",
      " #   Column                Non-Null Count   Dtype   \n",
      "---  ------                --------------   -----   \n",
      " 0   directorio            747822 non-null  int32   \n",
      " 1   secuencia_p           747822 non-null  int8    \n",
      " 2   orden                 747822 non-null  int8    \n",
      " 3   mes                   747822 non-null  int8    \n",
      " 4   es_victima            86605 non-null   float64 \n",
      " 5   es_desplazado         86605 non-null   float64 \n",
      " 6   decada_vic            747822 non-null  object  \n",
      " 7   fex_c_viv             86605 non-null   float64 \n",
      " 8   li                    747822 non-null  float64 \n",
      " 9   lp                    747822 non-null  float64 \n",
      " 10  pobre                 747822 non-null  category\n",
      " 11  indigente             747822 non-null  category\n",
      " 12  npobres               747822 non-null  int8    \n",
      " 13  nindigentes           747822 non-null  int8    \n",
      " 14  indicator_column      747822 non-null  category\n",
      " 15  clase                 747822 non-null  int8    \n",
      " 16  dominio               747822 non-null  object  \n",
      " 17  p6020                 747822 non-null  category\n",
      " 18  p6040                 747822 non-null  int16   \n",
      " 19  ingtot                747822 non-null  float64 \n",
      " 20  fex_c                 747822 non-null  float64 \n",
      " 21  depto                 747822 non-null  object  \n",
      " 22  fex_dpto              747822 non-null  float64 \n",
      " 23  indicator_column_vhp  747822 non-null  category\n",
      "dtypes: category(5), float64(8), int16(1), int32(1), int8(6), object(3)\n",
      "memory usage: 80.6+ MB\n"
     ]
    }
   ],
   "source": [
    "vic_20_merge_p.info()"
   ]
  },
  {
   "cell_type": "code",
   "execution_count": 54,
   "metadata": {},
   "outputs": [
    {
     "data": {
      "text/plain": [
       "No indigente    633571\n",
       "Indigente       114251\n",
       "Name: indigente, dtype: int64"
      ]
     },
     "execution_count": 54,
     "metadata": {},
     "output_type": "execute_result"
    }
   ],
   "source": [
    "vic_20_merge_p[\"indigente\"].value_counts()\n"
   ]
  },
  {
   "cell_type": "code",
   "execution_count": 45,
   "metadata": {},
   "outputs": [],
   "source": [
    "pd.options.display.max_columns= None"
   ]
  },
  {
   "cell_type": "code",
   "execution_count": 55,
   "metadata": {
    "scrolled": true
   },
   "outputs": [
    {
     "data": {
      "text/html": [
       "<div>\n",
       "<style scoped>\n",
       "    .dataframe tbody tr th:only-of-type {\n",
       "        vertical-align: middle;\n",
       "    }\n",
       "\n",
       "    .dataframe tbody tr th {\n",
       "        vertical-align: top;\n",
       "    }\n",
       "\n",
       "    .dataframe thead th {\n",
       "        text-align: right;\n",
       "    }\n",
       "</style>\n",
       "<table border=\"1\" class=\"dataframe\">\n",
       "  <thead>\n",
       "    <tr style=\"text-align: right;\">\n",
       "      <th></th>\n",
       "      <th>directorio</th>\n",
       "      <th>secuencia_p</th>\n",
       "      <th>orden</th>\n",
       "      <th>mes</th>\n",
       "      <th>es_victima</th>\n",
       "      <th>es_desplazado</th>\n",
       "      <th>decada_vic</th>\n",
       "      <th>fex_c_viv</th>\n",
       "      <th>li</th>\n",
       "      <th>lp</th>\n",
       "      <th>pobre</th>\n",
       "      <th>indigente</th>\n",
       "      <th>npobres</th>\n",
       "      <th>nindigentes</th>\n",
       "      <th>indicator_column</th>\n",
       "      <th>clase</th>\n",
       "      <th>dominio</th>\n",
       "      <th>p6020</th>\n",
       "      <th>p6040</th>\n",
       "      <th>ingtot</th>\n",
       "      <th>fex_c</th>\n",
       "      <th>depto</th>\n",
       "      <th>fex_dpto</th>\n",
       "      <th>indicator_column_vhp</th>\n",
       "    </tr>\n",
       "  </thead>\n",
       "  <tbody>\n",
       "    <tr>\n",
       "      <th>0</th>\n",
       "      <td>43</td>\n",
       "      <td>8</td>\n",
       "      <td>1</td>\n",
       "      <td>3</td>\n",
       "      <td>NaN</td>\n",
       "      <td>NaN</td>\n",
       "      <td></td>\n",
       "      <td>NaN</td>\n",
       "      <td>179658.525509</td>\n",
       "      <td>452860.476815</td>\n",
       "      <td>Pobre</td>\n",
       "      <td>Indigente</td>\n",
       "      <td>1</td>\n",
       "      <td>1</td>\n",
       "      <td>both</td>\n",
       "      <td>1</td>\n",
       "      <td>BOGOTA</td>\n",
       "      <td>Hombre</td>\n",
       "      <td>47</td>\n",
       "      <td>0.0</td>\n",
       "      <td>135.612943</td>\n",
       "      <td>11</td>\n",
       "      <td>135.612943</td>\n",
       "      <td>both</td>\n",
       "    </tr>\n",
       "    <tr>\n",
       "      <th>1</th>\n",
       "      <td>43</td>\n",
       "      <td>9</td>\n",
       "      <td>1</td>\n",
       "      <td>3</td>\n",
       "      <td>1.0</td>\n",
       "      <td>1.0</td>\n",
       "      <td>b. 2000-2009</td>\n",
       "      <td>187.404085</td>\n",
       "      <td>179658.525509</td>\n",
       "      <td>452860.476815</td>\n",
       "      <td>No pobre</td>\n",
       "      <td>No indigente</td>\n",
       "      <td>0</td>\n",
       "      <td>0</td>\n",
       "      <td>both</td>\n",
       "      <td>1</td>\n",
       "      <td>BOGOTA</td>\n",
       "      <td>Hombre</td>\n",
       "      <td>27</td>\n",
       "      <td>1450000.0</td>\n",
       "      <td>135.612943</td>\n",
       "      <td>11</td>\n",
       "      <td>135.612943</td>\n",
       "      <td>both</td>\n",
       "    </tr>\n",
       "    <tr>\n",
       "      <th>2</th>\n",
       "      <td>43</td>\n",
       "      <td>9</td>\n",
       "      <td>2</td>\n",
       "      <td>3</td>\n",
       "      <td>NaN</td>\n",
       "      <td>NaN</td>\n",
       "      <td></td>\n",
       "      <td>NaN</td>\n",
       "      <td>179658.525509</td>\n",
       "      <td>452860.476815</td>\n",
       "      <td>No pobre</td>\n",
       "      <td>No indigente</td>\n",
       "      <td>0</td>\n",
       "      <td>0</td>\n",
       "      <td>both</td>\n",
       "      <td>1</td>\n",
       "      <td>BOGOTA</td>\n",
       "      <td>Hombre</td>\n",
       "      <td>19</td>\n",
       "      <td>0.0</td>\n",
       "      <td>135.612943</td>\n",
       "      <td>11</td>\n",
       "      <td>135.612943</td>\n",
       "      <td>both</td>\n",
       "    </tr>\n",
       "    <tr>\n",
       "      <th>3</th>\n",
       "      <td>43</td>\n",
       "      <td>10</td>\n",
       "      <td>1</td>\n",
       "      <td>3</td>\n",
       "      <td>NaN</td>\n",
       "      <td>NaN</td>\n",
       "      <td></td>\n",
       "      <td>NaN</td>\n",
       "      <td>179658.525509</td>\n",
       "      <td>452860.476815</td>\n",
       "      <td>Pobre</td>\n",
       "      <td>Indigente</td>\n",
       "      <td>1</td>\n",
       "      <td>1</td>\n",
       "      <td>both</td>\n",
       "      <td>1</td>\n",
       "      <td>BOGOTA</td>\n",
       "      <td>Mujer</td>\n",
       "      <td>57</td>\n",
       "      <td>0.0</td>\n",
       "      <td>135.612943</td>\n",
       "      <td>11</td>\n",
       "      <td>135.612943</td>\n",
       "      <td>both</td>\n",
       "    </tr>\n",
       "    <tr>\n",
       "      <th>4</th>\n",
       "      <td>47</td>\n",
       "      <td>1</td>\n",
       "      <td>1</td>\n",
       "      <td>3</td>\n",
       "      <td>NaN</td>\n",
       "      <td>NaN</td>\n",
       "      <td></td>\n",
       "      <td>NaN</td>\n",
       "      <td>185075.004036</td>\n",
       "      <td>453256.554942</td>\n",
       "      <td>No pobre</td>\n",
       "      <td>No indigente</td>\n",
       "      <td>0</td>\n",
       "      <td>0</td>\n",
       "      <td>both</td>\n",
       "      <td>1</td>\n",
       "      <td>BUCARAMANGA</td>\n",
       "      <td>Hombre</td>\n",
       "      <td>39</td>\n",
       "      <td>2600000.0</td>\n",
       "      <td>32.066951</td>\n",
       "      <td>68</td>\n",
       "      <td>38.393864</td>\n",
       "      <td>both</td>\n",
       "    </tr>\n",
       "  </tbody>\n",
       "</table>\n",
       "</div>"
      ],
      "text/plain": [
       "   directorio  secuencia_p  orden  mes  es_victima  es_desplazado  \\\n",
       "0          43            8      1    3         NaN            NaN   \n",
       "1          43            9      1    3         1.0            1.0   \n",
       "2          43            9      2    3         NaN            NaN   \n",
       "3          43           10      1    3         NaN            NaN   \n",
       "4          47            1      1    3         NaN            NaN   \n",
       "\n",
       "     decada_vic   fex_c_viv             li             lp     pobre  \\\n",
       "0                       NaN  179658.525509  452860.476815     Pobre   \n",
       "1  b. 2000-2009  187.404085  179658.525509  452860.476815  No pobre   \n",
       "2                       NaN  179658.525509  452860.476815  No pobre   \n",
       "3                       NaN  179658.525509  452860.476815     Pobre   \n",
       "4                       NaN  185075.004036  453256.554942  No pobre   \n",
       "\n",
       "      indigente  npobres  nindigentes indicator_column  clase      dominio  \\\n",
       "0     Indigente        1            1             both      1       BOGOTA   \n",
       "1  No indigente        0            0             both      1       BOGOTA   \n",
       "2  No indigente        0            0             both      1       BOGOTA   \n",
       "3     Indigente        1            1             both      1       BOGOTA   \n",
       "4  No indigente        0            0             both      1  BUCARAMANGA   \n",
       "\n",
       "    p6020  p6040     ingtot       fex_c depto    fex_dpto indicator_column_vhp  \n",
       "0  Hombre     47        0.0  135.612943    11  135.612943                 both  \n",
       "1  Hombre     27  1450000.0  135.612943    11  135.612943                 both  \n",
       "2  Hombre     19        0.0  135.612943    11  135.612943                 both  \n",
       "3   Mujer     57        0.0  135.612943    11  135.612943                 both  \n",
       "4  Hombre     39  2600000.0   32.066951    68   38.393864                 both  "
      ]
     },
     "execution_count": 55,
     "metadata": {},
     "output_type": "execute_result"
    }
   ],
   "source": [
    "vic_20_merge_p.head()"
   ]
  },
  {
   "cell_type": "code",
   "execution_count": 47,
   "metadata": {
    "scrolled": true
   },
   "outputs": [
    {
     "data": {
      "text/plain": [
       "No pobre    144452\n",
       "Pobre        85382\n",
       "Name: pobre, dtype: int64"
      ]
     },
     "execution_count": 47,
     "metadata": {},
     "output_type": "execute_result"
    }
   ],
   "source": [
    "#hog_20_sub[\"pobre\"].value_counts() #225853"
   ]
  },
  {
   "cell_type": "code",
   "execution_count": 48,
   "metadata": {},
   "outputs": [],
   "source": [
    "mask =hog_20[\"nper\"] > hog_20[\"npobres\"]"
   ]
  },
  {
   "cell_type": "code",
   "execution_count": 49,
   "metadata": {},
   "outputs": [
    {
     "data": {
      "text/plain": [
       "144452"
      ]
     },
     "execution_count": 49,
     "metadata": {},
     "output_type": "execute_result"
    }
   ],
   "source": [
    "mask[mask==True].count()"
   ]
  },
  {
   "cell_type": "code",
   "execution_count": 50,
   "metadata": {},
   "outputs": [
    {
     "data": {
      "text/plain": [
       "No pobre    144452\n",
       "Pobre            0\n",
       "Name: pobre, dtype: int64"
      ]
     },
     "execution_count": 50,
     "metadata": {},
     "output_type": "execute_result"
    }
   ],
   "source": [
    "hog_20_mask = hog_20[mask==True]\n",
    "hog_20_mask[\"pobre\"].value_counts()"
   ]
  },
  {
   "cell_type": "code",
   "execution_count": 51,
   "metadata": {},
   "outputs": [
    {
     "data": {
      "text/plain": [
       "No pobre    419835\n",
       "Pobre       327987\n",
       "Name: pobre, dtype: int64"
      ]
     },
     "execution_count": 51,
     "metadata": {},
     "output_type": "execute_result"
    }
   ],
   "source": [
    "vic_20_merge_p[\"pobre\"].value_counts()"
   ]
  },
  {
   "cell_type": "code",
   "execution_count": 53,
   "metadata": {},
   "outputs": [
    {
     "name": "stdout",
     "output_type": "stream",
     "text": [
      "7947611.000000213\n"
     ]
    }
   ],
   "source": [
    "print((vic_20_merge_p[\"es_victima\"] * vic_20_merge_p[\"fex_c_viv\"]).sum())"
   ]
  },
  {
   "cell_type": "code",
   "execution_count": 137,
   "metadata": {},
   "outputs": [],
   "source": [
    "def novic(df):\n",
    "    if df[\"es_victima\"]!=1:\n",
    "        x = 1\n",
    "    else:\n",
    "        x= 0\n",
    "    return(x)\n",
    "    "
   ]
  },
  {
   "cell_type": "code",
   "execution_count": 138,
   "metadata": {},
   "outputs": [],
   "source": [
    "vic_20_merge_p[\"no_victima\"] = vic_20_merge_p.apply(novic, axis = 1)"
   ]
  },
  {
   "cell_type": "code",
   "execution_count": 140,
   "metadata": {},
   "outputs": [],
   "source": [
    "##renombrar variables\n",
    "vic_20_merge_p.rename(columns = {\"p6020\":\"sexo\", \"p6040\":\"edad\"}, inplace = True)"
   ]
  },
  {
   "cell_type": "code",
   "execution_count": 141,
   "metadata": {},
   "outputs": [],
   "source": [
    "#vic_21_merge_p.drop(columns=[\"index\"], inplace=True) \n",
    "vic_20_merge_p.drop(columns=[\"indicator_column\", \"indicator_column_vhp\"], inplace=True)"
   ]
  },
  {
   "cell_type": "code",
   "execution_count": 142,
   "metadata": {},
   "outputs": [],
   "source": [
    "vic_20_merge_p[\"periodo\"] = 2020"
   ]
  },
  {
   "cell_type": "code",
   "execution_count": 66,
   "metadata": {},
   "outputs": [],
   "source": [
    "#vic_20_merge_p.rename(columns= {\"año\": \"periodo\"}, inplace=True)"
   ]
  },
  {
   "cell_type": "code",
   "execution_count": 143,
   "metadata": {
    "scrolled": true
   },
   "outputs": [
    {
     "name": "stdout",
     "output_type": "stream",
     "text": [
      "<class 'pandas.core.frame.DataFrame'>\n",
      "Int64Index: 747822 entries, 0 to 747821\n",
      "Data columns (total 25 columns):\n",
      " #   Column         Non-Null Count   Dtype   \n",
      "---  ------         --------------   -----   \n",
      " 0   directorio     747822 non-null  int32   \n",
      " 1   secuencia_p    747822 non-null  int8    \n",
      " 2   orden          747822 non-null  int8    \n",
      " 3   mes            747822 non-null  int8    \n",
      " 4   es_victima     86605 non-null   float64 \n",
      " 5   es_desplazado  86605 non-null   float64 \n",
      " 6   decada_vic     747822 non-null  object  \n",
      " 7   fex_c_viv      86605 non-null   float64 \n",
      " 8   nper           747822 non-null  int8    \n",
      " 9   li             747822 non-null  float64 \n",
      " 10  lp             747822 non-null  float64 \n",
      " 11  pobre          747822 non-null  category\n",
      " 12  indigente      747822 non-null  category\n",
      " 13  npobres        747822 non-null  int8    \n",
      " 14  nindigentes    747822 non-null  int8    \n",
      " 15  clase          747822 non-null  int8    \n",
      " 16  dominio        747822 non-null  object  \n",
      " 17  sexo           747822 non-null  category\n",
      " 18  edad           747822 non-null  int16   \n",
      " 19  ingtot         747822 non-null  float64 \n",
      " 20  fex_c          747822 non-null  float64 \n",
      " 21  depto          747822 non-null  object  \n",
      " 22  fex_dpto       747822 non-null  float64 \n",
      " 23  no_victima     747822 non-null  int64   \n",
      " 24  periodo        747822 non-null  int64   \n",
      "dtypes: category(3), float64(8), int16(1), int32(1), int64(2), int8(7), object(3)\n",
      "memory usage: 91.3+ MB\n"
     ]
    }
   ],
   "source": [
    "vic_20_merge_p.info()"
   ]
  },
  {
   "cell_type": "markdown",
   "metadata": {},
   "source": [
    "#### Reemplazar etiquetas de variables categóricas por valores discretos"
   ]
  },
  {
   "cell_type": "code",
   "execution_count": 144,
   "metadata": {},
   "outputs": [],
   "source": [
    "def pob(df):\n",
    "    if df[\"pobre\"]==\"Pobre\": \n",
    "        x = 1\n",
    "    else:\n",
    "        x= 0\n",
    "    return(x)\n",
    "    "
   ]
  },
  {
   "cell_type": "code",
   "execution_count": 145,
   "metadata": {},
   "outputs": [],
   "source": [
    "vic_20_merge_p[\"pobre\"] = vic_20_merge_p.apply(pob, axis = 1)"
   ]
  },
  {
   "cell_type": "code",
   "execution_count": 146,
   "metadata": {},
   "outputs": [],
   "source": [
    "def ind(df):\n",
    "    if df[\"indigente\"]==\"Indigente\": \n",
    "        x = 1\n",
    "    else:\n",
    "        x= 0\n",
    "    return(x)\n",
    "    "
   ]
  },
  {
   "cell_type": "code",
   "execution_count": 147,
   "metadata": {},
   "outputs": [],
   "source": [
    "vic_20_merge_p[\"indigente\"] = vic_20_merge_p.apply(ind, axis = 1)"
   ]
  },
  {
   "cell_type": "code",
   "execution_count": 148,
   "metadata": {},
   "outputs": [
    {
     "data": {
      "text/plain": [
       "0    633571\n",
       "1    114251\n",
       "Name: indigente, dtype: int64"
      ]
     },
     "execution_count": 148,
     "metadata": {},
     "output_type": "execute_result"
    }
   ],
   "source": [
    "vic_20_merge_p[\"indigente\"].value_counts() "
   ]
  },
  {
   "cell_type": "code",
   "execution_count": 149,
   "metadata": {},
   "outputs": [],
   "source": [
    "def sex(df):\n",
    "    if df[\"sexo\"]==\"Hombre\": \n",
    "        x = 1\n",
    "    else:\n",
    "        x= 2\n",
    "    return(x)\n",
    "    "
   ]
  },
  {
   "cell_type": "code",
   "execution_count": 150,
   "metadata": {},
   "outputs": [],
   "source": [
    "vic_20_merge_p[\"sexo\"] = vic_20_merge_p.apply(sex, axis = 1)"
   ]
  },
  {
   "cell_type": "code",
   "execution_count": 151,
   "metadata": {},
   "outputs": [
    {
     "data": {
      "text/plain": [
       "2    395213\n",
       "1    352609\n",
       "Name: sexo, dtype: int64"
      ]
     },
     "execution_count": 151,
     "metadata": {},
     "output_type": "execute_result"
    }
   ],
   "source": [
    "vic_20_merge_p[\"sexo\"].value_counts() "
   ]
  },
  {
   "cell_type": "code",
   "execution_count": 152,
   "metadata": {},
   "outputs": [],
   "source": [
    "#export\n",
    "vic_20_merge_p.to_stata(\"C:/Users/Estadistico/Desktop/BACKUP_07_07_2022/ivan/DANE_pobreza/2021/Victimas_procesada_2020.dta\",write_index=False)"
   ]
  },
  {
   "cell_type": "markdown",
   "metadata": {},
   "source": [
    "## Validaciones"
   ]
  },
  {
   "cell_type": "code",
   "execution_count": 90,
   "metadata": {},
   "outputs": [],
   "source": [
    "vic_20_merge_p = pd.read_stata(\"C:/Users/Estadistico/Desktop/BACKUP_07_07_2022/ivan/DANE_pobreza/2021/Victimas_procesada_2020.dta\")"
   ]
  },
  {
   "cell_type": "code",
   "execution_count": 91,
   "metadata": {
    "scrolled": true
   },
   "outputs": [
    {
     "data": {
      "text/html": [
       "<div>\n",
       "<style scoped>\n",
       "    .dataframe tbody tr th:only-of-type {\n",
       "        vertical-align: middle;\n",
       "    }\n",
       "\n",
       "    .dataframe tbody tr th {\n",
       "        vertical-align: top;\n",
       "    }\n",
       "\n",
       "    .dataframe thead th {\n",
       "        text-align: right;\n",
       "    }\n",
       "</style>\n",
       "<table border=\"1\" class=\"dataframe\">\n",
       "  <thead>\n",
       "    <tr style=\"text-align: right;\">\n",
       "      <th></th>\n",
       "      <th>directorio</th>\n",
       "      <th>secuencia_p</th>\n",
       "      <th>orden</th>\n",
       "      <th>mes</th>\n",
       "      <th>es_victima</th>\n",
       "      <th>es_desplazado</th>\n",
       "      <th>decada_vic</th>\n",
       "      <th>fex_c_viv</th>\n",
       "      <th>li</th>\n",
       "      <th>lp</th>\n",
       "      <th>pobre</th>\n",
       "      <th>indigente</th>\n",
       "      <th>npobres</th>\n",
       "      <th>nindigentes</th>\n",
       "      <th>clase</th>\n",
       "      <th>dominio</th>\n",
       "      <th>sexo</th>\n",
       "      <th>edad</th>\n",
       "      <th>ingtot</th>\n",
       "      <th>fex_c</th>\n",
       "      <th>depto</th>\n",
       "      <th>fex_dpto</th>\n",
       "      <th>periodo</th>\n",
       "      <th>no_victima</th>\n",
       "    </tr>\n",
       "  </thead>\n",
       "  <tbody>\n",
       "    <tr>\n",
       "      <th>0</th>\n",
       "      <td>43</td>\n",
       "      <td>8</td>\n",
       "      <td>1</td>\n",
       "      <td>3</td>\n",
       "      <td>NaN</td>\n",
       "      <td>NaN</td>\n",
       "      <td></td>\n",
       "      <td>NaN</td>\n",
       "      <td>179658.525509</td>\n",
       "      <td>452860.476815</td>\n",
       "      <td>1</td>\n",
       "      <td>1</td>\n",
       "      <td>1</td>\n",
       "      <td>1</td>\n",
       "      <td>1</td>\n",
       "      <td>BOGOTA</td>\n",
       "      <td>1</td>\n",
       "      <td>47</td>\n",
       "      <td>0.0</td>\n",
       "      <td>135.612943</td>\n",
       "      <td>11</td>\n",
       "      <td>135.612943</td>\n",
       "      <td>2020</td>\n",
       "      <td>1</td>\n",
       "    </tr>\n",
       "    <tr>\n",
       "      <th>1</th>\n",
       "      <td>43</td>\n",
       "      <td>9</td>\n",
       "      <td>1</td>\n",
       "      <td>3</td>\n",
       "      <td>1.0</td>\n",
       "      <td>1.0</td>\n",
       "      <td>b. 2000-2009</td>\n",
       "      <td>187.404085</td>\n",
       "      <td>179658.525509</td>\n",
       "      <td>452860.476815</td>\n",
       "      <td>0</td>\n",
       "      <td>0</td>\n",
       "      <td>0</td>\n",
       "      <td>0</td>\n",
       "      <td>1</td>\n",
       "      <td>BOGOTA</td>\n",
       "      <td>1</td>\n",
       "      <td>27</td>\n",
       "      <td>1450000.0</td>\n",
       "      <td>135.612943</td>\n",
       "      <td>11</td>\n",
       "      <td>135.612943</td>\n",
       "      <td>2020</td>\n",
       "      <td>0</td>\n",
       "    </tr>\n",
       "    <tr>\n",
       "      <th>2</th>\n",
       "      <td>43</td>\n",
       "      <td>9</td>\n",
       "      <td>2</td>\n",
       "      <td>3</td>\n",
       "      <td>NaN</td>\n",
       "      <td>NaN</td>\n",
       "      <td></td>\n",
       "      <td>NaN</td>\n",
       "      <td>179658.525509</td>\n",
       "      <td>452860.476815</td>\n",
       "      <td>0</td>\n",
       "      <td>0</td>\n",
       "      <td>0</td>\n",
       "      <td>0</td>\n",
       "      <td>1</td>\n",
       "      <td>BOGOTA</td>\n",
       "      <td>1</td>\n",
       "      <td>19</td>\n",
       "      <td>0.0</td>\n",
       "      <td>135.612943</td>\n",
       "      <td>11</td>\n",
       "      <td>135.612943</td>\n",
       "      <td>2020</td>\n",
       "      <td>1</td>\n",
       "    </tr>\n",
       "    <tr>\n",
       "      <th>3</th>\n",
       "      <td>43</td>\n",
       "      <td>10</td>\n",
       "      <td>1</td>\n",
       "      <td>3</td>\n",
       "      <td>NaN</td>\n",
       "      <td>NaN</td>\n",
       "      <td></td>\n",
       "      <td>NaN</td>\n",
       "      <td>179658.525509</td>\n",
       "      <td>452860.476815</td>\n",
       "      <td>1</td>\n",
       "      <td>1</td>\n",
       "      <td>1</td>\n",
       "      <td>1</td>\n",
       "      <td>1</td>\n",
       "      <td>BOGOTA</td>\n",
       "      <td>2</td>\n",
       "      <td>57</td>\n",
       "      <td>0.0</td>\n",
       "      <td>135.612943</td>\n",
       "      <td>11</td>\n",
       "      <td>135.612943</td>\n",
       "      <td>2020</td>\n",
       "      <td>1</td>\n",
       "    </tr>\n",
       "    <tr>\n",
       "      <th>4</th>\n",
       "      <td>47</td>\n",
       "      <td>1</td>\n",
       "      <td>1</td>\n",
       "      <td>3</td>\n",
       "      <td>NaN</td>\n",
       "      <td>NaN</td>\n",
       "      <td></td>\n",
       "      <td>NaN</td>\n",
       "      <td>185075.004036</td>\n",
       "      <td>453256.554942</td>\n",
       "      <td>0</td>\n",
       "      <td>0</td>\n",
       "      <td>0</td>\n",
       "      <td>0</td>\n",
       "      <td>1</td>\n",
       "      <td>BUCARAMANGA</td>\n",
       "      <td>1</td>\n",
       "      <td>39</td>\n",
       "      <td>2600000.0</td>\n",
       "      <td>32.066951</td>\n",
       "      <td>68</td>\n",
       "      <td>38.393864</td>\n",
       "      <td>2020</td>\n",
       "      <td>1</td>\n",
       "    </tr>\n",
       "  </tbody>\n",
       "</table>\n",
       "</div>"
      ],
      "text/plain": [
       "   directorio  secuencia_p  orden  mes  es_victima  es_desplazado  \\\n",
       "0          43            8      1    3         NaN            NaN   \n",
       "1          43            9      1    3         1.0            1.0   \n",
       "2          43            9      2    3         NaN            NaN   \n",
       "3          43           10      1    3         NaN            NaN   \n",
       "4          47            1      1    3         NaN            NaN   \n",
       "\n",
       "     decada_vic   fex_c_viv             li             lp  pobre  indigente  \\\n",
       "0                       NaN  179658.525509  452860.476815      1          1   \n",
       "1  b. 2000-2009  187.404085  179658.525509  452860.476815      0          0   \n",
       "2                       NaN  179658.525509  452860.476815      0          0   \n",
       "3                       NaN  179658.525509  452860.476815      1          1   \n",
       "4                       NaN  185075.004036  453256.554942      0          0   \n",
       "\n",
       "   npobres  nindigentes  clase      dominio  sexo  edad     ingtot  \\\n",
       "0        1            1      1       BOGOTA     1    47        0.0   \n",
       "1        0            0      1       BOGOTA     1    27  1450000.0   \n",
       "2        0            0      1       BOGOTA     1    19        0.0   \n",
       "3        1            1      1       BOGOTA     2    57        0.0   \n",
       "4        0            0      1  BUCARAMANGA     1    39  2600000.0   \n",
       "\n",
       "        fex_c depto    fex_dpto  periodo  no_victima  \n",
       "0  135.612943    11  135.612943     2020           1  \n",
       "1  135.612943    11  135.612943     2020           0  \n",
       "2  135.612943    11  135.612943     2020           1  \n",
       "3  135.612943    11  135.612943     2020           1  \n",
       "4   32.066951    68   38.393864     2020           1  "
      ]
     },
     "execution_count": 91,
     "metadata": {},
     "output_type": "execute_result"
    }
   ],
   "source": [
    "vic_20_merge_p.head()"
   ]
  },
  {
   "cell_type": "markdown",
   "metadata": {},
   "source": [
    "##### Número de víctimas muestrales y expandidas"
   ]
  },
  {
   "cell_type": "code",
   "execution_count": 92,
   "metadata": {
    "scrolled": false
   },
   "outputs": [
    {
     "name": "stdout",
     "output_type": "stream",
     "text": [
      "1    661217\n",
      "0     86605\n",
      "Name: no_victima, dtype: int64\n",
      "43676063.118905164\n",
      "21021563.959932372\n"
     ]
    }
   ],
   "source": [
    "print(vic_20_merge_p[\"no_victima\"].value_counts())\n",
    "print((vic_20_merge_p[\"no_victima\"] * vic_20_merge_p[\"fex_c\"]).sum())\n",
    "print((vic_20_merge_p[\"pobre\"] * vic_20_merge_p[\"fex_c\"]).sum())"
   ]
  },
  {
   "cell_type": "markdown",
   "metadata": {},
   "source": [
    "##### Tasa pobreza expandida población no víctima"
   ]
  },
  {
   "cell_type": "code",
   "execution_count": 93,
   "metadata": {},
   "outputs": [],
   "source": [
    "mask_2= vic_20_merge_p[\"no_victima\"]==1"
   ]
  },
  {
   "cell_type": "code",
   "execution_count": 94,
   "metadata": {},
   "outputs": [],
   "source": [
    "vic_20_merge_p_mask_nv = vic_20_merge_p[mask_2==True]"
   ]
  },
  {
   "cell_type": "code",
   "execution_count": 96,
   "metadata": {},
   "outputs": [
    {
     "name": "stdout",
     "output_type": "stream",
     "text": [
      "41.29\n"
     ]
    }
   ],
   "source": [
    "print(\n",
    "    round(\n",
    "    ((vic_20_merge_p_mask_nv[\"pobre\"] * vic_20_merge_p_mask_nv[\"fex_c\"]).sum() /\n",
    "      (vic_20_merge_p[\"no_victima\"] * vic_20_merge_p[\"fex_c\"]).sum()*100),2))"
   ]
  },
  {
   "cell_type": "markdown",
   "metadata": {},
   "source": [
    "##### Tasa pobreza expandida población víctima "
   ]
  },
  {
   "cell_type": "code",
   "execution_count": 97,
   "metadata": {},
   "outputs": [],
   "source": [
    "mask_3= vic_20_merge_p[\"es_victima\"]==1"
   ]
  },
  {
   "cell_type": "code",
   "execution_count": 98,
   "metadata": {},
   "outputs": [],
   "source": [
    "vic_20_merge_p_mask_v = vic_20_merge_p[mask_3==True]"
   ]
  },
  {
   "cell_type": "code",
   "execution_count": 99,
   "metadata": {
    "scrolled": true
   },
   "outputs": [
    {
     "name": "stdout",
     "output_type": "stream",
     "text": [
      "51.925384784245345\n"
     ]
    }
   ],
   "source": [
    "print(   \n",
    "    ((vic_20_merge_p_mask_v[\"pobre\"] * vic_20_merge_p_mask_v[\"fex_c_viv\"]).sum() /\n",
    "      (round((vic_20_merge_p[\"es_victima\"] * vic_20_merge_p[\"fex_c_viv\"]),2)).sum())*100)"
   ]
  },
  {
   "cell_type": "markdown",
   "metadata": {},
   "source": [
    "##### Tasa pobreza expandida población víctima desplazamiento"
   ]
  },
  {
   "cell_type": "code",
   "execution_count": 100,
   "metadata": {},
   "outputs": [],
   "source": [
    "mask_4= vic_20_merge_p[\"es_desplazado\"]==1"
   ]
  },
  {
   "cell_type": "code",
   "execution_count": 101,
   "metadata": {},
   "outputs": [],
   "source": [
    "vic_20_merge_p_mask_vd = vic_20_merge_p[mask_4==True]"
   ]
  },
  {
   "cell_type": "code",
   "execution_count": 102,
   "metadata": {
    "scrolled": false
   },
   "outputs": [
    {
     "name": "stdout",
     "output_type": "stream",
     "text": [
      "53.3923308610067\n"
     ]
    }
   ],
   "source": [
    "print(   \n",
    "    ((vic_20_merge_p_mask_vd[\"pobre\"] * vic_20_merge_p_mask_vd[\"fex_c_viv\"]).sum() /\n",
    "      ((vic_20_merge_p[\"es_desplazado\"] * vic_20_merge_p[\"fex_c_viv\"])).sum())*100)"
   ]
  },
  {
   "cell_type": "markdown",
   "metadata": {},
   "source": [
    "##### Tasa pobreza extrema expandida población víctima y víctima desplazamiento"
   ]
  },
  {
   "cell_type": "code",
   "execution_count": 103,
   "metadata": {},
   "outputs": [],
   "source": [
    "mask_5= vic_20_merge_p[\"es_victima\"]==1"
   ]
  },
  {
   "cell_type": "code",
   "execution_count": 104,
   "metadata": {},
   "outputs": [],
   "source": [
    "vic_20_merge_p_mask_v = vic_20_merge_p[mask_5==True]"
   ]
  },
  {
   "cell_type": "code",
   "execution_count": 105,
   "metadata": {
    "scrolled": true
   },
   "outputs": [
    {
     "name": "stdout",
     "output_type": "stream",
     "text": [
      "19.840278931753723\n"
     ]
    }
   ],
   "source": [
    "print(   \n",
    "    ((vic_20_merge_p_mask_v[\"indigente\"] * vic_20_merge_p_mask_v[\"fex_c_viv\"]).sum() /\n",
    "      ((vic_20_merge_p[\"es_victima\"] * vic_20_merge_p[\"fex_c_viv\"])).sum())*100)"
   ]
  },
  {
   "cell_type": "code",
   "execution_count": 106,
   "metadata": {},
   "outputs": [],
   "source": [
    "mask_6= vic_20_merge_p[\"es_desplazado\"]==1"
   ]
  },
  {
   "cell_type": "code",
   "execution_count": 107,
   "metadata": {},
   "outputs": [],
   "source": [
    "vic_20_merge_p_mask_vd = vic_20_merge_p[mask_6==True]"
   ]
  },
  {
   "cell_type": "code",
   "execution_count": 108,
   "metadata": {
    "scrolled": true
   },
   "outputs": [
    {
     "name": "stdout",
     "output_type": "stream",
     "text": [
      "20.449661281154004\n"
     ]
    }
   ],
   "source": [
    "print(   \n",
    "    ((vic_20_merge_p_mask_vd[\"indigente\"] * vic_20_merge_p_mask_vd[\"fex_c_viv\"]).sum() /\n",
    "      ((vic_20_merge_p[\"es_desplazado\"] * vic_20_merge_p[\"fex_c_viv\"])).sum())*100)"
   ]
  },
  {
   "cell_type": "markdown",
   "metadata": {},
   "source": [
    "##### Tasa pobreza extrema expandida población víctima desplazamiento (por sexo)"
   ]
  },
  {
   "cell_type": "code",
   "execution_count": 109,
   "metadata": {},
   "outputs": [],
   "source": [
    "mask_7= vic_20_merge_p[\"es_desplazado\"]==1\n",
    "vic_20_merge_p_mask_v_m = vic_20_merge_p[mask_7==True]\n",
    "mask_7= vic_20_merge_p_mask_v_m[\"sexo\"]==1\n",
    "vic_20_merge_p_mask_v_m = vic_20_merge_p_mask_v_m[mask_7==True]"
   ]
  },
  {
   "cell_type": "code",
   "execution_count": 110,
   "metadata": {},
   "outputs": [],
   "source": [
    "mask_8= vic_20_merge_p[\"es_desplazado\"]==1\n",
    "vic_20_merge_p_mask_v_h = vic_20_merge_p[mask_8==True]\n",
    "mask_8= vic_20_merge_p_mask_v_h[\"sexo\"]==2\n",
    "vic_20_merge_p_mask_v_h = vic_20_merge_p_mask_v_h[mask_8==True]"
   ]
  },
  {
   "cell_type": "code",
   "execution_count": 111,
   "metadata": {
    "scrolled": true
   },
   "outputs": [
    {
     "name": "stdout",
     "output_type": "stream",
     "text": [
      "19.603343705551197\n",
      "21.174379535237584\n"
     ]
    }
   ],
   "source": [
    "print(   \n",
    "    ((vic_20_merge_p_mask_v_m[\"indigente\"] * vic_20_merge_p_mask_v_m[\"fex_c_viv\"]).sum() /\n",
    "      ((vic_20_merge_p_mask_v_m[\"es_desplazado\"] * vic_20_merge_p_mask_v_m[\"fex_c_viv\"])).sum())*100)\n",
    "print(   \n",
    "    ((vic_20_merge_p_mask_v_h[\"indigente\"] * vic_20_merge_p_mask_v_h[\"fex_c_viv\"]).sum() /\n",
    "      ((vic_20_merge_p_mask_v_h[\"es_desplazado\"] * vic_20_merge_p_mask_v_h[\"fex_c_viv\"])).sum())*100)"
   ]
  },
  {
   "cell_type": "markdown",
   "metadata": {},
   "source": [
    "##### Tasa pobreza extrema expandida población víctima desplazamiento (por clase)"
   ]
  },
  {
   "cell_type": "code",
   "execution_count": 113,
   "metadata": {},
   "outputs": [],
   "source": [
    "mask_9= vic_20_merge_p[\"es_desplazado\"]==1\n",
    "vic_20_merge_p_mask_v_c = vic_20_merge_p[mask_9==True]\n",
    "mask_9= vic_20_merge_p_mask_v_c[\"clase\"]==1\n",
    "vic_20_merge_p_mask_v_c = vic_20_merge_p_mask_v_c[mask_9==True]"
   ]
  },
  {
   "cell_type": "code",
   "execution_count": 114,
   "metadata": {},
   "outputs": [],
   "source": [
    "mask_9= vic_20_merge_p_mask_v_c[\"clase\"]==1"
   ]
  },
  {
   "cell_type": "code",
   "execution_count": 115,
   "metadata": {},
   "outputs": [],
   "source": [
    "mask_10= vic_20_merge_p[\"es_desplazado\"]==1\n",
    "vic_20_merge_p_mask_v_r = vic_20_merge_p[mask_10==True]\n",
    "mask_10= vic_20_merge_p_mask_v_r[\"clase\"]==2\n",
    "vic_20_merge_p_mask_v_r = vic_20_merge_p_mask_v_r[mask_10==True]"
   ]
  },
  {
   "cell_type": "code",
   "execution_count": 116,
   "metadata": {
    "scrolled": true
   },
   "outputs": [
    {
     "name": "stdout",
     "output_type": "stream",
     "text": [
      "20.655420542956413\n",
      "20.066866816989748\n"
     ]
    }
   ],
   "source": [
    "print(   \n",
    "    ((vic_20_merge_p_mask_v_c[\"indigente\"] * vic_20_merge_p_mask_v_c[\"fex_c_viv\"]).sum() /\n",
    "      ((vic_20_merge_p_mask_v_c[\"es_desplazado\"] * vic_20_merge_p_mask_v_c[\"fex_c_viv\"])).sum())*100)\n",
    "print(   \n",
    "    ((vic_20_merge_p_mask_v_r[\"indigente\"] * vic_20_merge_p_mask_v_r[\"fex_c_viv\"]).sum() /\n",
    "      ((vic_20_merge_p_mask_v_r[\"es_desplazado\"] * vic_20_merge_p_mask_v_r[\"fex_c_viv\"])).sum())*100)"
   ]
  }
 ],
 "metadata": {
  "kernelspec": {
   "display_name": "Python 3",
   "language": "python",
   "name": "python3"
  },
  "language_info": {
   "codemirror_mode": {
    "name": "ipython",
    "version": 3
   },
   "file_extension": ".py",
   "mimetype": "text/x-python",
   "name": "python",
   "nbconvert_exporter": "python",
   "pygments_lexer": "ipython3",
   "version": "3.8.3"
  }
 },
 "nbformat": 4,
 "nbformat_minor": 4
}
