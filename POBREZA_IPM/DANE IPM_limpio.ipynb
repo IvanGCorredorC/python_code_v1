{
 "cells": [
  {
   "cell_type": "code",
   "execution_count": 20,
   "id": "06c8e3e7",
   "metadata": {},
   "outputs": [],
   "source": [
    "import pandas as pd\n",
    "import numpy as np"
   ]
  },
  {
   "cell_type": "markdown",
   "id": "f6578b66-d20c-4130-ab67-5c75799ad2e1",
   "metadata": {},
   "source": [
    "## 2022"
   ]
  },
  {
   "cell_type": "code",
   "execution_count": 21,
   "id": "52a0cda6-935a-4a60-bd18-1d5e3466f0d7",
   "metadata": {},
   "outputs": [],
   "source": [
    "## ruta\n",
    "p1 = \"C:/Users/ivan.corredor/pobreza_calculos_2019_2022/2023/multidimensional/\""
   ]
  },
  {
   "cell_type": "code",
   "execution_count": 22,
   "id": "67b061ed-d197-4144-a52e-bef41698c1ec",
   "metadata": {},
   "outputs": [],
   "source": [
    "#base 2021\n",
    "#víctimas nal\n",
    "ipm_22_v = pd.read_csv(p1 + \"factores_victima_2022.csv\")\n",
    "# viv nal\n",
    "ipm_22_viv = pd.read_csv(p1 + \"viviendas_nal_2022.csv\")\n",
    "# hog nal\n",
    "ipm_22_h = pd.read_csv(p1 + \"hogares_nal_2022.csv\")\n",
    "# per nal\n",
    "ipm_22_p = pd.read_csv(p1 + \"personas_nal_2022.csv\")"
   ]
  },
  {
   "cell_type": "markdown",
   "id": "53c54778-3cf4-4df9-ab23-1e3c41508534",
   "metadata": {},
   "source": [
    "### 1. Hogares - viviendas. 2. personas - hog_viv. 3. hog_viv_per - victimas"
   ]
  },
  {
   "cell_type": "code",
   "execution_count": 23,
   "id": "839c5dab-cbba-4be8-989a-92e023c3da92",
   "metadata": {},
   "outputs": [],
   "source": [
    "##volver a mayusculas las variables\n",
    "ipm_22_viv.columns = ipm_22_viv.columns.str.upper()\n",
    "\n",
    "###cruce personas - víctimas\n",
    "per_vic =  pd.merge(left=ipm_22_p, right=ipm_22_v,\n",
    "                           left_on=['DIRECTORIO',  'SECUENCIA_P', 'ORDEN'], \n",
    "                        right_on=['DIRECTORIO', 'SECUENCIA_P', 'ORDEN'],\n",
    "                           how='left',\n",
    "                           sort=False, validate='1:1', \n",
    "                        suffixes=(\"_p\", \"_vic\"), indicator = 'indicator_column')\n",
    "\n",
    "### agrupar personas víctimas por hogar\n",
    "\n",
    "per_vic = per_vic.assign(VIC2 = per_vic.groupby(['DIRECTORIO', 'SECUENCIA_P'])['VICTIMA'].transform(lambda x: 1 if (x.sum() >= 1) else 0),\n",
    "                         DESPLA2 = per_vic.groupby(['DIRECTORIO', 'SECUENCIA_P'])['DESPLAZADO'].transform(lambda x: 1 if (x.sum() >= 1) else 0),\n",
    "                         FEXHOGVIC = per_vic.groupby(['DIRECTORIO', 'SECUENCIA_P'])['FEX_VIC'].transform('mean'))\n",
    "\n",
    "\n",
    "h_per_vic = pd.merge(left=ipm_22_h, right=per_vic,\n",
    "                     left_on=['DIRECTORIO', \"SECUENCIA_ENCUESTA\"], \n",
    "                     right_on=['DIRECTORIO', \"SECUENCIA_P\"], how='inner', \n",
    "                     sort=False, validate='1:m', \n",
    "                      suffixes=(\"_h\", \"_pv\"), indicator = 'indicator_column_2')\n",
    "\n",
    "ipm_22_vhper_vic = pd.merge(left=h_per_vic, right=ipm_22_viv, \n",
    "                            left_on=['DIRECTORIO'], \n",
    "                            right_on=['DIRECTORIO'], \n",
    "                            how='inner',\n",
    "                            sort=False, \n",
    "                            validate='m:1', \n",
    "                            suffixes=(\"_hpv\", \"_viv\"), \n",
    "                            indicator = 'indicator_column_3')"
   ]
  },
  {
   "cell_type": "markdown",
   "id": "eb01dc6e-cf27-4e8e-a035-b83189f8c328",
   "metadata": {},
   "source": [
    "### Limpieza, selección y standarización"
   ]
  },
  {
   "cell_type": "code",
   "execution_count": 24,
   "id": "267c3c62-38e6-4fd9-a1d7-28e9b5a92fed",
   "metadata": {
    "scrolled": true
   },
   "outputs": [],
   "source": [
    "pd.options.display.max_columns = None\n",
    "#ipm_21_vhper_vic[[\"directorio\", \"ipm\", \"fex_c_victi\"]][ipm_21_vhper_vic[\"ipm\"].notnull()].head(10)"
   ]
  },
  {
   "cell_type": "code",
   "execution_count": 25,
   "id": "8b8707fb-5a0b-48c9-84df-9a9c89029313",
   "metadata": {},
   "outputs": [],
   "source": [
    "##renombrar variables\n",
    "ipm_22_vhper_vic.rename(columns = {\"p6020\":\"sexo\", \"p6040\":\"edad\"}, inplace = True)\n",
    "#crear variable de año \n",
    "ipm_22_vhper_vic[\"periodo\"] = 2022"
   ]
  },
  {
   "cell_type": "code",
   "execution_count": 26,
   "id": "ca46d5e9-810e-4851-ada1-811e291c9a59",
   "metadata": {},
   "outputs": [],
   "source": [
    "##crear variable no víctima\n",
    "def novic(df):\n",
    "    if df[\"VIC2\"]!=1:\n",
    "        x = 1\n",
    "    else:\n",
    "        x= 0\n",
    "    return(x)\n",
    "\n",
    "ipm_22_vhper_vic[\"no_victima\"] = ipm_22_vhper_vic.apply(novic, axis = 1)"
   ]
  },
  {
   "cell_type": "code",
   "execution_count": 27,
   "id": "d2eeb5ef-90be-445c-8f82-d4b51629789f",
   "metadata": {},
   "outputs": [],
   "source": [
    "#export\n",
    "#ipm_22_vhper_vic.to_csv(p1 + \"Victimas_IPM_2022.csv\", sep=\";\")"
   ]
  },
  {
   "cell_type": "markdown",
   "id": "6faa668d-43aa-42f8-8c27-b798be631dd0",
   "metadata": {},
   "source": [
    "### Validaciones "
   ]
  },
  {
   "cell_type": "code",
   "execution_count": 28,
   "id": "c7fb1139-8625-45ca-b950-8ccd8c0e2b89",
   "metadata": {},
   "outputs": [
    {
     "name": "stdout",
     "output_type": "stream",
     "text": [
      "VIC2\n",
      "0    161362\n",
      "1     67526\n",
      "Name: count, dtype: int64\n",
      "13511549.086377082\n",
      "3053664.6054707672\n"
     ]
    }
   ],
   "source": [
    "## número de víctimas muestrales y expandidas\n",
    "print(ipm_22_vhper_vic[\"VIC2\"].value_counts())\n",
    "print((ipm_22_vhper_vic[\"DESPLA2\"] * ipm_22_vhper_vic[\"FEXHOGVIC\"]).sum())\n",
    "print((ipm_22_vhper_vic[\"pobre\"] * ipm_22_vhper_vic[\"FEXHOGVIC\"]).sum())"
   ]
  },
  {
   "cell_type": "markdown",
   "id": "9523b093-baeb-4e64-83e3-6f1664fc23b7",
   "metadata": {},
   "source": [
    "##### IPM expandido población nacional"
   ]
  },
  {
   "cell_type": "code",
   "execution_count": 29,
   "id": "752d7b7f-8980-4b38-b498-855711318598",
   "metadata": {},
   "outputs": [
    {
     "name": "stdout",
     "output_type": "stream",
     "text": [
      "12.92\n"
     ]
    }
   ],
   "source": [
    "print(\n",
    "    round(\n",
    "    ((ipm_22_vhper_vic[\"pobre\"]* ipm_22_vhper_vic[\"FEX_C\"]).sum() / \n",
    "     (ipm_22_vhper_vic[\"FEX_C\"]).sum()*100),2))"
   ]
  },
  {
   "cell_type": "markdown",
   "id": "a3b37039-7e5f-4d46-b761-f2c3f9233ead",
   "metadata": {},
   "source": [
    "##### IPM expandido población víctima"
   ]
  },
  {
   "cell_type": "code",
   "execution_count": 30,
   "id": "1f3a5965-152f-4edd-9563-e8f887635ceb",
   "metadata": {},
   "outputs": [
    {
     "name": "stdout",
     "output_type": "stream",
     "text": [
      "20.5\n"
     ]
    }
   ],
   "source": [
    "print(\n",
    "    round(\n",
    "    ((ipm_22_vhper_vic[\"pobre\"]* ipm_22_vhper_vic[\"FEXHOGVIC\"]).sum() /\n",
    "      (ipm_22_vhper_vic[\"VIC2\"] * ipm_22_vhper_vic[\"FEXHOGVIC\"]).sum()*100),1))"
   ]
  },
  {
   "cell_type": "markdown",
   "id": "794a0ca5-45a5-4b29-b5f7-89e5a34bcb3d",
   "metadata": {},
   "source": [
    "##### IPM expandido población víctima desplazamiento por dominio"
   ]
  },
  {
   "cell_type": "code",
   "execution_count": 31,
   "id": "92bddf91-e39f-4dd6-8a73-57ca63710460",
   "metadata": {},
   "outputs": [
    {
     "name": "stdout",
     "output_type": "stream",
     "text": [
      "14.7\n"
     ]
    }
   ],
   "source": [
    "### IPM víctimas por dominio\n",
    "mask_1 = ipm_22_vhper_vic[\"VIC2\"]==1\n",
    "vic_1 = ipm_22_vhper_vic[mask_1==True]\n",
    "mask_1 = vic_1[\"P3\"]== 1\n",
    "vic_1 = vic_1[mask_1==True]\n",
    "\n",
    "print(\n",
    "    round(\n",
    "    ((vic_1[\"pobre\"]* vic_1[\"FEXHOGVIC\"]).sum() /\n",
    "      (vic_1[\"VIC2\"] * vic_1[\"FEXHOGVIC\"]).sum()*100),1))"
   ]
  },
  {
   "cell_type": "markdown",
   "id": "3ac14e13-c638-4ca8-8c20-0a90d4e34189",
   "metadata": {},
   "source": [
    "##### IPM expandido población víctima desplazamiento"
   ]
  },
  {
   "cell_type": "code",
   "execution_count": 32,
   "id": "65505440-b631-481b-ac38-78dddc126a4d",
   "metadata": {},
   "outputs": [
    {
     "name": "stdout",
     "output_type": "stream",
     "text": [
      "21.452\n"
     ]
    }
   ],
   "source": [
    "mask_1 = ipm_22_vhper_vic[\"DESPLA2\"]==1\n",
    "vic_1 = ipm_22_vhper_vic[mask_1==True]\n",
    "\n",
    "print(\n",
    "    round(\n",
    "    ((vic_1[\"pobre\"]* vic_1[\"FEXHOGVIC\"]).sum() /\n",
    "      (vic_1[\"DESPLA2\"] * vic_1[\"FEXHOGVIC\"]).sum()*100),3))"
   ]
  },
  {
   "cell_type": "markdown",
   "id": "69423243-cfac-4b76-9018-88dae4b16fdd",
   "metadata": {},
   "source": [
    "##### IPM expandido población no víctima"
   ]
  },
  {
   "cell_type": "code",
   "execution_count": 33,
   "id": "4e7ae4a5-5e8d-4924-a5b5-408c9ce043b0",
   "metadata": {},
   "outputs": [
    {
     "name": "stdout",
     "output_type": "stream",
     "text": [
      "16.8\n"
     ]
    }
   ],
   "source": [
    "print(\n",
    "    round(\n",
    "    ((ipm_22_vhper_vic[\"pobre\"]* ipm_22_vhper_vic[\"FEX_C\"]).sum() /\n",
    "      (ipm_22_vhper_vic[\"no_victima\"] * ipm_22_vhper_vic[\"FEX_C\"]).sum()*100),2))"
   ]
  },
  {
   "cell_type": "markdown",
   "id": "92f47a99",
   "metadata": {},
   "source": [
    "## 2021"
   ]
  },
  {
   "cell_type": "code",
   "execution_count": 34,
   "id": "46ed38f1",
   "metadata": {},
   "outputs": [],
   "source": [
    "#base 2021\n",
    "#víctimas nal\n",
    "ipm_21_v = pd.read_csv(\"C:/Users/ivan.corredor/DANE_IPM_ECV/2021/factores_victima_2021\")\n",
    "# viv nal\n",
    "ipm_21_viv = pd.read_csv(\"C:/Users/ivan.corredor/DANE_IPM_ECV/2021/viviendas_nal_2021.csv\")\n",
    "# hog nal\n",
    "ipm_21_h = pd.read_csv(\"C:/Users/ivan.corredor/DANE_IPM_ECV/2021/hogares_nal_2021.csv\")\n",
    "# per nal\n",
    "ipm_21_p = pd.read_csv(\"C:/Users/ivan.corredor/DANE_IPM_ECV/2021/personas_nal_2021.csv\")"
   ]
  },
  {
   "cell_type": "markdown",
   "id": "46785577",
   "metadata": {},
   "source": [
    "### 1.  Pegar viviendas a hogares. 2. víctimas de muchos a 1 a hog_viv y luego a la personas "
   ]
  },
  {
   "cell_type": "code",
   "execution_count": 35,
   "id": "93f1dd27",
   "metadata": {},
   "outputs": [],
   "source": [
    "#Cruce vivienda hogares\n",
    "ipm_21_vh_merge = pd.merge(left=ipm_21_h, right=ipm_21_viv, left_on=['DIRECTORIO', 'SECUENCIA_ENCUESTA'], \n",
    "                        right_on=['DIRECTORIO', 'SECUENCIA_ENCUESTA'], how='left', sort=False, validate='m:1', \n",
    "                        suffixes=(\"_h\", \"_viv\"), indicator = 'indicator_column')"
   ]
  },
  {
   "cell_type": "code",
   "execution_count": 36,
   "id": "194352e5",
   "metadata": {},
   "outputs": [],
   "source": [
    "#cruce vivienda_hogares con personas\n",
    "ipm_21_vhper = pd.merge(left=ipm_21_p, right=ipm_21_vh_merge, left_on=['DIRECTORIO', \"SECUENCIA_P\"], \n",
    "                        right_on=['DIRECTORIO', \"SECUENCIA_ENCUESTA\"], how='left', sort=False, validate='m:1', \n",
    "                        suffixes=(\"_per\", \"_ph\"), indicator = 'indicator_column_2')"
   ]
  },
  {
   "cell_type": "code",
   "execution_count": 37,
   "id": "0c995992",
   "metadata": {},
   "outputs": [],
   "source": [
    "#cruce vivienda_hogares_personas con víctimas\n",
    "ipm_21_vhper_vic = pd.merge(left=ipm_21_vhper, right=ipm_21_v, left_on=['DIRECTORIO', \"SECUENCIA_P\", 'ORDEN'], \n",
    "                        right_on=['directorio', 'secuencia_p','orden'], how='left',\n",
    "                            sort=False, validate='1:1', suffixes=(\"_vhper\", \"_vic\"), indicator = 'indicator_column_3')"
   ]
  },
  {
   "cell_type": "markdown",
   "id": "b395d3e5",
   "metadata": {},
   "source": [
    "### Limpieza, selección y standarización"
   ]
  },
  {
   "cell_type": "code",
   "execution_count": 38,
   "id": "8f488df4",
   "metadata": {
    "scrolled": true
   },
   "outputs": [],
   "source": [
    "pd.options.display.max_columns = None\n",
    "#ipm_21_vhper_vic[[\"directorio\", \"ipm\", \"fex_c_victi\"]][ipm_21_vhper_vic[\"ipm\"].notnull()].head(10)"
   ]
  },
  {
   "cell_type": "code",
   "execution_count": 39,
   "id": "f6994716",
   "metadata": {},
   "outputs": [],
   "source": [
    "##rellenar variable víctima\n",
    "def vic(df):\n",
    "    if df[\"es_victima\"]==1:\n",
    "        x = 1\n",
    "    else:\n",
    "        x= 0\n",
    "    return(x)"
   ]
  },
  {
   "cell_type": "code",
   "execution_count": 40,
   "id": "61748eb3",
   "metadata": {},
   "outputs": [],
   "source": [
    "##crear variable no víctima\n",
    "ipm_21_vhper_vic[\"victima\"] = ipm_21_vhper_vic.apply(vic, axis = 1)"
   ]
  },
  {
   "cell_type": "code",
   "execution_count": 41,
   "id": "eb4d55f8",
   "metadata": {},
   "outputs": [],
   "source": [
    "##crear variable no víctima\n",
    "def novic(df):\n",
    "    if df[\"es_victima\"]!=1:\n",
    "        x = 1\n",
    "    else:\n",
    "        x= 0\n",
    "    return(x)"
   ]
  },
  {
   "cell_type": "code",
   "execution_count": 42,
   "id": "8ab734e2",
   "metadata": {},
   "outputs": [],
   "source": [
    "##crear variable no víctima\n",
    "ipm_21_vhper_vic[\"no_victima\"] = ipm_21_vhper_vic.apply(novic, axis = 1)"
   ]
  },
  {
   "cell_type": "code",
   "execution_count": 43,
   "id": "712b5b01",
   "metadata": {},
   "outputs": [],
   "source": [
    "##renombrar variables\n",
    "ipm_21_vhper_vic.rename(columns = {\"p6020\":\"sexo\", \"p6040\":\"edad\"}, inplace = True)"
   ]
  },
  {
   "cell_type": "code",
   "execution_count": 44,
   "id": "e4f883ae",
   "metadata": {},
   "outputs": [],
   "source": [
    "#crear variable de año \n",
    "ipm_21_vhper_vic[\"periodo\"] = 2021"
   ]
  },
  {
   "cell_type": "code",
   "execution_count": 45,
   "id": "b624ae57",
   "metadata": {},
   "outputs": [],
   "source": [
    "#export\n",
    "#ipm_21_vhper_vic.to_csv(\"C:/Users/ivan.corredor/DANE_IPM_ECV/2021/Victimas_IPM_2021.csv\", sep=\";\")"
   ]
  },
  {
   "cell_type": "markdown",
   "id": "d7f92981",
   "metadata": {},
   "source": [
    "### Validaciones "
   ]
  },
  {
   "cell_type": "code",
   "execution_count": 46,
   "id": "f52fd841",
   "metadata": {},
   "outputs": [
    {
     "name": "stdout",
     "output_type": "stream",
     "text": [
      "no_victima\n",
      "1    192868\n",
      "0     41128\n",
      "Name: count, dtype: int64\n",
      "167578165.23853242\n",
      "38986448.10338339\n"
     ]
    }
   ],
   "source": [
    "## número de víctimas muestrales y expandidas\n",
    "print(ipm_21_vhper_vic[\"no_victima\"].value_counts())\n",
    "print((ipm_21_vhper_vic[\"no_victima\"] * ipm_21_vhper_vic[\"fexp\"]).sum())\n",
    "print((ipm_21_vhper_vic[\"pobre\"] * ipm_21_vhper_vic[\"fexp\"]).sum())"
   ]
  },
  {
   "cell_type": "markdown",
   "id": "c82a5953",
   "metadata": {},
   "source": [
    "##### IPM expandido población nacional"
   ]
  },
  {
   "cell_type": "code",
   "execution_count": 47,
   "id": "519550ae",
   "metadata": {},
   "outputs": [
    {
     "name": "stdout",
     "output_type": "stream",
     "text": [
      "15.97\n"
     ]
    }
   ],
   "source": [
    "print(\n",
    "    round(\n",
    "    ((ipm_21_vhper_vic[\"pobre\"]* ipm_21_vhper_vic[\"FEX_C\"]).sum() / \n",
    "     (ipm_21_vhper_vic[\"FEX_C\"]).sum()*100),2))"
   ]
  },
  {
   "cell_type": "markdown",
   "id": "b538ba77",
   "metadata": {},
   "source": [
    "##### IPM expandido población víctima"
   ]
  },
  {
   "cell_type": "code",
   "execution_count": 48,
   "id": "901cf839",
   "metadata": {},
   "outputs": [
    {
     "name": "stdout",
     "output_type": "stream",
     "text": [
      "24.41\n"
     ]
    }
   ],
   "source": [
    "print(\n",
    "    round(\n",
    "    ((ipm_21_vhper_vic[\"pobre\"]* ipm_21_vhper_vic[\"fex_c_victi\"]).sum() /\n",
    "      (ipm_21_vhper_vic[\"victima\"] * ipm_21_vhper_vic[\"fex_c_victi\"]).sum()*100),2))"
   ]
  },
  {
   "cell_type": "markdown",
   "id": "592d1a44",
   "metadata": {},
   "source": [
    "##### IPM expandido población víctima desplazamiento"
   ]
  },
  {
   "cell_type": "code",
   "execution_count": 49,
   "id": "0ae749e2",
   "metadata": {},
   "outputs": [
    {
     "name": "stdout",
     "output_type": "stream",
     "text": [
      "25.03\n"
     ]
    }
   ],
   "source": [
    "print(\n",
    "    round(\n",
    "    ((ipm_21_vhper_vic[\"pobre\"]* ipm_21_vhper_vic[\"fex_c_des\"]).sum() /\n",
    "      (ipm_21_vhper_vic[\"es_desplazado\"] * ipm_21_vhper_vic[\"fex_c_des\"]).sum()*100),2))"
   ]
  },
  {
   "cell_type": "markdown",
   "id": "ac7c2259",
   "metadata": {},
   "source": [
    "##### IPM expandido población no víctima"
   ]
  },
  {
   "cell_type": "code",
   "execution_count": 50,
   "id": "811b0a11",
   "metadata": {},
   "outputs": [
    {
     "name": "stdout",
     "output_type": "stream",
     "text": [
      "18.33\n"
     ]
    }
   ],
   "source": [
    "print(\n",
    "    round(\n",
    "    ((ipm_21_vhper_vic[\"pobre\"]* ipm_21_vhper_vic[\"FEX_C\"]).sum() /\n",
    "      (ipm_21_vhper_vic[\"no_victima\"] * ipm_21_vhper_vic[\"FEX_C\"]).sum()*100),2))"
   ]
  },
  {
   "cell_type": "markdown",
   "id": "85f64fb5",
   "metadata": {},
   "source": [
    "## 2020"
   ]
  },
  {
   "cell_type": "code",
   "execution_count": 51,
   "id": "1c1ebd27",
   "metadata": {},
   "outputs": [],
   "source": [
    "#base 2020\n",
    "#víctimas nal\n",
    "ipm_20_v = pd.read_csv(\"C:/Users/ivan.corredor/DANE_IPM_ECV/2020/factores_victima_2020\")\n",
    "# viv nal\n",
    "ipm_20_viv = pd.read_csv(\"C:/Users/ivan.corredor/DANE_IPM_ECV/2020/viviendas_nal_2020.csv\", sep=\";\", decimal= \",\")\n",
    "# hog nal\n",
    "ipm_20_h = pd.read_csv(\"C:/Users/ivan.corredor/DANE_IPM_ECV/2020/hogares_nal_2020.csv\", sep=\";\", decimal= \",\")\n",
    "# per nal\n",
    "ipm_20_p = pd.read_csv(\"C:/Users/ivan.corredor/DANE_IPM_ECV/2020/personas_nal_2020.csv\", sep=\";\", decimal= \",\")"
   ]
  },
  {
   "cell_type": "code",
   "execution_count": 52,
   "id": "887ee970",
   "metadata": {},
   "outputs": [],
   "source": [
    "#Cruce vivienda hogares\n",
    "ipm_20_vh_merge = pd.merge(left=ipm_20_h, right=ipm_20_viv, left_on=['DIRECTORIO', 'SECUENCIA_ENCUESTA'], \n",
    "                        right_on=['DIRECTORIO', 'SECUENCIA_ENCUESTA'], how='left', sort=False, validate='m:1', \n",
    "                        suffixes=(\"_h\", \"_viv\"), indicator = 'indicator_column')"
   ]
  },
  {
   "cell_type": "code",
   "execution_count": 53,
   "id": "722276f9",
   "metadata": {},
   "outputs": [],
   "source": [
    "#cruce vivienda_hogares con personas\n",
    "ipm_20_vhper = pd.merge(left=ipm_20_p, right=ipm_20_vh_merge, left_on=['DIRECTORIO', \"SECUENCIA_P\"], \n",
    "                        right_on=['DIRECTORIO', \"SECUENCIA_ENCUESTA\"], how='left', sort=False, validate='m:1', \n",
    "                        suffixes=(\"_per\", \"_ph\"), indicator = 'indicator_column_2')"
   ]
  },
  {
   "cell_type": "code",
   "execution_count": 54,
   "id": "77ec6ba1",
   "metadata": {},
   "outputs": [],
   "source": [
    "#cruce vivienda_hogares_personas con víctimas\n",
    "ipm_20_vhper_vic = pd.merge(left=ipm_20_vhper, right=ipm_20_v, left_on=['DIRECTORIO', \"SECUENCIA_P\",\n",
    "                                                                        'ORDEN'], \n",
    "                        right_on=['directorio',  'secuencia_p','orden'], how='left',\n",
    "                            sort=False, validate='1:1', suffixes=(\"_vhper\", \"_vic\"), indicator = 'indicator_column_3')"
   ]
  },
  {
   "cell_type": "code",
   "execution_count": 55,
   "id": "c24de2bc",
   "metadata": {
    "scrolled": true
   },
   "outputs": [],
   "source": [
    "pd.options.display.max_columns = None"
   ]
  },
  {
   "cell_type": "code",
   "execution_count": 56,
   "id": "1e3e3cc4",
   "metadata": {},
   "outputs": [],
   "source": [
    "##rellenar variable víctima\n",
    "def vic(df):\n",
    "    if df[\"es_victima\"]==1:\n",
    "        x = 1\n",
    "    else:\n",
    "        x= 0\n",
    "    return(x)"
   ]
  },
  {
   "cell_type": "code",
   "execution_count": 57,
   "id": "d9d345ef",
   "metadata": {},
   "outputs": [],
   "source": [
    "##crear variable no víctima\n",
    "ipm_20_vhper_vic[\"victima\"] = ipm_20_vhper_vic.apply(vic, axis = 1)"
   ]
  },
  {
   "cell_type": "code",
   "execution_count": 58,
   "id": "3e6c3ba6",
   "metadata": {},
   "outputs": [],
   "source": [
    "##crear variable no víctima\n",
    "def novic(df):\n",
    "    if df[\"es_victima\"]!=1:\n",
    "        x = 1\n",
    "    else:\n",
    "        x= 0\n",
    "    return(x)"
   ]
  },
  {
   "cell_type": "code",
   "execution_count": 59,
   "id": "10070e59",
   "metadata": {},
   "outputs": [],
   "source": [
    "##crear variable no víctima\n",
    "ipm_20_vhper_vic[\"no_victima\"] = ipm_20_vhper_vic.apply(novic, axis = 1)"
   ]
  },
  {
   "cell_type": "code",
   "execution_count": 60,
   "id": "cd7786ef",
   "metadata": {},
   "outputs": [],
   "source": [
    "##renombrar variables\n",
    "ipm_20_vhper_vic.rename(columns = {\"p6020\":\"sexo\", \"p6040\":\"edad\"}, inplace = True)"
   ]
  },
  {
   "cell_type": "code",
   "execution_count": 61,
   "id": "538c424e",
   "metadata": {},
   "outputs": [],
   "source": [
    "#crear variable de año \n",
    "ipm_20_vhper_vic[\"periodo\"] = 2020"
   ]
  },
  {
   "cell_type": "code",
   "execution_count": 62,
   "id": "6caa28a5",
   "metadata": {},
   "outputs": [],
   "source": [
    "#export\n",
    "#ipm_20_vhper_vic.to_csv(\"C:/Users/ivan.corredor/DANE_IPM_ECV/2020/Victimas_IPM_2020.csv\", sep=\";\")"
   ]
  },
  {
   "cell_type": "markdown",
   "id": "62052b29",
   "metadata": {},
   "source": [
    "##### IPM expandido población nacional"
   ]
  },
  {
   "cell_type": "code",
   "execution_count": 63,
   "id": "f447a296",
   "metadata": {},
   "outputs": [
    {
     "name": "stdout",
     "output_type": "stream",
     "text": [
      "18.11\n"
     ]
    }
   ],
   "source": [
    "print(\n",
    "    round(\n",
    "    ((ipm_20_vhper_vic[\"pobre\"]* ipm_20_vhper_vic['fex_c_per']).sum() / \n",
    "     (ipm_20_vhper_vic['fex_c_per']).sum()*100),2))"
   ]
  },
  {
   "cell_type": "markdown",
   "id": "74932aea",
   "metadata": {},
   "source": [
    "##### IPM expandido población víctima"
   ]
  },
  {
   "cell_type": "code",
   "execution_count": 64,
   "id": "856d3fee",
   "metadata": {},
   "outputs": [
    {
     "name": "stdout",
     "output_type": "stream",
     "text": [
      "30.3\n"
     ]
    }
   ],
   "source": [
    "print(\n",
    "    round(\n",
    "    ((ipm_20_vhper_vic[\"pobre\"]* ipm_20_vhper_vic[\"fex_c_victi\"]).sum() /\n",
    "      (ipm_20_vhper_vic[\"victima\"] * ipm_20_vhper_vic[\"fex_c_victi\"]).sum()*100),1))"
   ]
  },
  {
   "cell_type": "code",
   "execution_count": 65,
   "id": "27663866",
   "metadata": {},
   "outputs": [
    {
     "name": "stdout",
     "output_type": "stream",
     "text": [
      "21.5\n"
     ]
    }
   ],
   "source": [
    "#cabecera\n",
    "cab_20 = ipm_20_vhper_vic[ipm_20_vhper_vic[\"P3\"].isin([1])]\n",
    "print(\n",
    "    round(\n",
    "    ((cab_20[\"pobre\"]* cab_20['fex_c_victi']).sum() /\n",
    "      (cab_20['fex_c_victi']).sum()*100),1))"
   ]
  },
  {
   "cell_type": "code",
   "execution_count": 66,
   "id": "61246fd0",
   "metadata": {},
   "outputs": [
    {
     "name": "stdout",
     "output_type": "stream",
     "text": [
      "45.7\n"
     ]
    }
   ],
   "source": [
    "#centro y rural\n",
    "c_r_20 = ipm_20_vhper_vic[ipm_20_vhper_vic[\"P3\"].isin([2,3])]\n",
    "print(\n",
    "    round(\n",
    "    ((c_r_20[\"pobre\"]* c_r_20['fex_c_victi']).sum() /\n",
    "      (c_r_20['fex_c_victi']).sum()*100),1))\n"
   ]
  },
  {
   "cell_type": "markdown",
   "id": "6b7321b1",
   "metadata": {},
   "source": [
    "##### IPM expandido población víctima desplazamiento"
   ]
  },
  {
   "cell_type": "code",
   "execution_count": 67,
   "id": "5815d05e",
   "metadata": {
    "scrolled": true
   },
   "outputs": [
    {
     "name": "stdout",
     "output_type": "stream",
     "text": [
      "31.3\n"
     ]
    }
   ],
   "source": [
    "print(\n",
    "    round(\n",
    "    ((ipm_20_vhper_vic[\"pobre\"]* ipm_20_vhper_vic['fex_c_des']).sum() /\n",
    "      (ipm_20_vhper_vic['es_desplazado'] * ipm_20_vhper_vic['fex_c_des']).sum()*100),1))"
   ]
  },
  {
   "cell_type": "code",
   "execution_count": 68,
   "id": "80634ff6",
   "metadata": {},
   "outputs": [
    {
     "name": "stdout",
     "output_type": "stream",
     "text": [
      "46.3\n"
     ]
    }
   ],
   "source": [
    "#centro y rural\n",
    "print(\n",
    "    round(\n",
    "    ((c_r_20[\"pobre\"]* c_r_20['fex_c_des']).sum() /\n",
    "      (c_r_20['fex_c_des']).sum()*100),1))"
   ]
  },
  {
   "cell_type": "code",
   "execution_count": 69,
   "id": "49a7b129",
   "metadata": {},
   "outputs": [
    {
     "name": "stdout",
     "output_type": "stream",
     "text": [
      "22.4\n"
     ]
    }
   ],
   "source": [
    "print(\n",
    "    round(\n",
    "    ((cab_20[\"pobre\"]* cab_20['fex_c_des']).sum() /\n",
    "      (cab_20['fex_c_des']).sum()*100),1))"
   ]
  },
  {
   "cell_type": "markdown",
   "id": "2eec5c11",
   "metadata": {},
   "source": [
    "##### IPM expandido población no víctima"
   ]
  },
  {
   "cell_type": "code",
   "execution_count": 70,
   "id": "bd1e1d9c",
   "metadata": {},
   "outputs": [
    {
     "name": "stdout",
     "output_type": "stream",
     "text": [
      "20.71\n"
     ]
    }
   ],
   "source": [
    "print(\n",
    "    round(\n",
    "    ((ipm_20_vhper_vic[\"pobre\"]* ipm_20_vhper_vic[\"fex_c_per\"]).sum() /\n",
    "      (ipm_20_vhper_vic[\"no_victima\"] * ipm_20_vhper_vic[\"fex_c_per\"]).sum()*100),2))"
   ]
  },
  {
   "cell_type": "markdown",
   "id": "1e38887f",
   "metadata": {},
   "source": [
    "## 2019"
   ]
  },
  {
   "cell_type": "code",
   "execution_count": 71,
   "id": "73c1e7b5",
   "metadata": {},
   "outputs": [],
   "source": [
    "#base 1919\n",
    "#víctimas nal\n",
    "ipm_19_v = pd.read_csv(\"C:/Users/ivan.corredor/DANE_IPM_ECV/2019/factores_victima_2019\")\n",
    "# viv nal\n",
    "ipm_19_viv = pd.read_csv(\"C:/Users/ivan.corredor/DANE_IPM_ECV/2019/viviendas_nal_2019.csv\", sep=\";\", decimal= \",\")\n",
    "# hog nal\n",
    "ipm_19_h = pd.read_csv(\"C:/Users/ivan.corredor/DANE_IPM_ECV/2019/hogares_nal_2019.csv\", sep=\";\", decimal= \",\")\n",
    "# per nal\n",
    "ipm_19_p = pd.read_csv(\"C:/Users/ivan.corredor/DANE_IPM_ECV/2019/personas_nal_2019.csv\", sep=\";\", decimal= \",\")"
   ]
  },
  {
   "cell_type": "code",
   "execution_count": 72,
   "id": "9e495e75",
   "metadata": {},
   "outputs": [],
   "source": [
    "#Cruce vivienda hogares\n",
    "ipm_19_vh_merge = pd.merge(left=ipm_19_h, right=ipm_19_viv, left_on=['DIRECTORIO', 'SECUENCIA_ENCUESTA'], \n",
    "                        right_on=['DIRECTORIO', 'SECUENCIA_ENCUESTA'], how='left', sort=False, validate='m:1', \n",
    "                        suffixes=(\"_h\", \"_viv\"), indicator = 'indicator_column')"
   ]
  },
  {
   "cell_type": "code",
   "execution_count": 73,
   "id": "0d7ab5f0",
   "metadata": {},
   "outputs": [],
   "source": [
    "#cruce vivienda_hogares con personas\n",
    "ipm_19_vhper = pd.merge(left=ipm_19_p, right=ipm_19_vh_merge, left_on=['DIRECTORIO', \"SECUENCIA_P\"], \n",
    "                        right_on=['DIRECTORIO', \"SECUENCIA_ENCUESTA\"], how='left', sort=False, validate='m:1', \n",
    "                        suffixes=(\"_per\", \"_ph\"), indicator = 'indicator_column_2')"
   ]
  },
  {
   "cell_type": "code",
   "execution_count": 74,
   "id": "f9d98971",
   "metadata": {},
   "outputs": [],
   "source": [
    "#cruce vivienda_hogares_personas con víctimas\n",
    "ipm_19_vhper_vic = pd.merge(left=ipm_19_vhper, right=ipm_19_v, left_on=['DIRECTORIO', \"SECUENCIA_P\", 'ORDEN'], \n",
    "                        right_on=['directorio', 'secuencia_p','orden'], how='left',\n",
    "                            sort=False, validate='1:1', suffixes=(\"_vhper\", \"_vic\"), indicator = 'indicator_column_3')"
   ]
  },
  {
   "cell_type": "code",
   "execution_count": 75,
   "id": "199bca3a",
   "metadata": {
    "scrolled": true
   },
   "outputs": [],
   "source": [
    "pd.options.display.max_columns = None"
   ]
  },
  {
   "cell_type": "code",
   "execution_count": 76,
   "id": "547360cf",
   "metadata": {},
   "outputs": [],
   "source": [
    "##rellenar variable víctima\n",
    "def vic(df):\n",
    "    if df[\"es_victima\"]==1:\n",
    "        x = 1\n",
    "    else:\n",
    "        x= 0\n",
    "    return(x)"
   ]
  },
  {
   "cell_type": "code",
   "execution_count": 77,
   "id": "e22863d7",
   "metadata": {},
   "outputs": [],
   "source": [
    "##crear variable no víctima\n",
    "ipm_19_vhper_vic[\"victima\"] = ipm_19_vhper_vic.apply(vic, axis = 1)"
   ]
  },
  {
   "cell_type": "code",
   "execution_count": 78,
   "id": "df9a337a",
   "metadata": {},
   "outputs": [],
   "source": [
    "##crear variable no víctima\n",
    "def novic(df):\n",
    "    if df[\"es_victima\"]!=1:\n",
    "        x = 1\n",
    "    else:\n",
    "        x= 0\n",
    "    return(x)"
   ]
  },
  {
   "cell_type": "code",
   "execution_count": 79,
   "id": "1b7f3529",
   "metadata": {},
   "outputs": [],
   "source": [
    "##crear variable no víctima\n",
    "ipm_19_vhper_vic[\"no_victima\"] = ipm_19_vhper_vic.apply(novic, axis = 1)"
   ]
  },
  {
   "cell_type": "code",
   "execution_count": 80,
   "id": "7bb91aae",
   "metadata": {},
   "outputs": [],
   "source": [
    "##renombrar variables\n",
    "ipm_19_vhper_vic.rename(columns = {\"p6020\":\"sexo\", \"p6040\":\"edad\"}, inplace = True)"
   ]
  },
  {
   "cell_type": "code",
   "execution_count": 81,
   "id": "1fdb42e0",
   "metadata": {},
   "outputs": [],
   "source": [
    "#crear variable de año \n",
    "ipm_19_vhper_vic[\"periodo\"] = 2019"
   ]
  },
  {
   "cell_type": "code",
   "execution_count": 82,
   "id": "8ab9a19e",
   "metadata": {},
   "outputs": [],
   "source": [
    "#export\n",
    "#ipm_20_vhper_vic.to_csv(\"C:/Users/ivan.corredor/DANE_IPM_ECV/2020/Victimas_IPM_2020.csv\", sep=\";\")"
   ]
  },
  {
   "cell_type": "markdown",
   "id": "72859bb3",
   "metadata": {},
   "source": [
    "##### IPM expandido población nacional"
   ]
  },
  {
   "cell_type": "code",
   "execution_count": 83,
   "id": "5d9af904",
   "metadata": {},
   "outputs": [
    {
     "name": "stdout",
     "output_type": "stream",
     "text": [
      "17.45\n"
     ]
    }
   ],
   "source": [
    "print(\n",
    "    round(\n",
    "    ((ipm_19_vhper_vic[\"pobre\"]* ipm_19_vhper_vic['fex_c_per']).sum() / \n",
    "     (ipm_19_vhper_vic['fex_c_per']).sum()*100),2))"
   ]
  },
  {
   "cell_type": "markdown",
   "id": "482bd357",
   "metadata": {},
   "source": [
    "##### IPM expandido población víctima"
   ]
  },
  {
   "cell_type": "code",
   "execution_count": 84,
   "id": "1b8ac1e3",
   "metadata": {},
   "outputs": [
    {
     "name": "stdout",
     "output_type": "stream",
     "text": [
      "26.87\n"
     ]
    }
   ],
   "source": [
    "print(\n",
    "    round(\n",
    "    ((ipm_19_vhper_vic[\"pobre\"]* ipm_19_vhper_vic[\"fex_c_victi\"]).sum() /\n",
    "      (ipm_19_vhper_vic[\"victima\"] * ipm_19_vhper_vic[\"fex_c_victi\"]).sum()*100),2))"
   ]
  },
  {
   "cell_type": "code",
   "execution_count": 85,
   "id": "0d901bf0",
   "metadata": {},
   "outputs": [
    {
     "name": "stdout",
     "output_type": "stream",
     "text": [
      "21.95\n"
     ]
    }
   ],
   "source": [
    "#cabecera\n",
    "cab_19 = ipm_19_vhper_vic[ipm_19_vhper_vic[\"P3\"].isin([1])]\n",
    "print(\n",
    "    round(\n",
    "    ((cab_19[\"pobre\"]* cab_19['fex_c_victi']).sum() /\n",
    "      (cab_19['victima'] * cab_19['fex_c_victi']).sum()*100),2))"
   ]
  },
  {
   "cell_type": "code",
   "execution_count": 86,
   "id": "a584b9d3",
   "metadata": {},
   "outputs": [
    {
     "name": "stdout",
     "output_type": "stream",
     "text": [
      "37.4\n"
     ]
    }
   ],
   "source": [
    "#centro y rural\n",
    "c_r_19 = ipm_19_vhper_vic[ipm_19_vhper_vic[\"P3\"].isin([2,3])]\n",
    "print(\n",
    "    round(\n",
    "    ((c_r_19[\"pobre\"]* c_r_19['fex_c_victi']).sum() /\n",
    "      (c_r_19['victima']* c_r_19['fex_c_victi']).sum()*100),1))\n"
   ]
  },
  {
   "cell_type": "markdown",
   "id": "40030f00",
   "metadata": {},
   "source": [
    "##### IPM expandido población víctima desplazamiento"
   ]
  },
  {
   "cell_type": "code",
   "execution_count": 87,
   "id": "c1efacd4",
   "metadata": {},
   "outputs": [
    {
     "name": "stdout",
     "output_type": "stream",
     "text": [
      "27.532\n"
     ]
    }
   ],
   "source": [
    "print(\n",
    "    round(\n",
    "    ((ipm_19_vhper_vic[\"pobre\"]* ipm_19_vhper_vic['fex_c_des']).sum() /\n",
    "      (ipm_19_vhper_vic['es_desplazado'] * ipm_19_vhper_vic['fex_c_des']).sum()*100),3))"
   ]
  },
  {
   "cell_type": "markdown",
   "id": "71997d5a",
   "metadata": {},
   "source": [
    "##### IPM expandido población no víctima"
   ]
  },
  {
   "cell_type": "code",
   "execution_count": 88,
   "id": "0e47e424",
   "metadata": {},
   "outputs": [
    {
     "name": "stdout",
     "output_type": "stream",
     "text": [
      "19.95\n"
     ]
    }
   ],
   "source": [
    "print(\n",
    "    round(\n",
    "    ((ipm_19_vhper_vic[\"pobre\"]* ipm_19_vhper_vic[\"fex_c_per\"]).sum() /\n",
    "      (ipm_19_vhper_vic[\"no_victima\"] * ipm_19_vhper_vic[\"fex_c_per\"]).sum()*100),2))"
   ]
  },
  {
   "cell_type": "markdown",
   "id": "58927ca5",
   "metadata": {},
   "source": [
    "## Nacional 2019, 2020, 2021, 2022"
   ]
  },
  {
   "cell_type": "code",
   "execution_count": 94,
   "id": "9199b9b9",
   "metadata": {},
   "outputs": [],
   "source": [
    "# selección de variables\n",
    "var19 = list(ipm_19_vhper_vic.columns)\n",
    "\n",
    "var20 = list(ipm_20_vhper_vic.columns)\n",
    "\n",
    "var21 = list(ipm_21_vhper_vic.columns)\n",
    "\n",
    "var22 = list(ipm_22_vhper_vic.columns)"
   ]
  },
  {
   "cell_type": "code",
   "execution_count": 90,
   "id": "54c44130-eb0c-4da4-b98a-68112b45a286",
   "metadata": {},
   "outputs": [
    {
     "name": "stdout",
     "output_type": "stream",
     "text": [
      "76 76 79 84\n"
     ]
    }
   ],
   "source": [
    "print(len(var19), len(var20), len(var21), len(var22))"
   ]
  },
  {
   "cell_type": "code",
   "execution_count": 93,
   "id": "e4653543-39b6-4b6b-8159-0856c8d15ca4",
   "metadata": {},
   "outputs": [],
   "source": [
    "#renombrar variable\n",
    "ipm_19_vhper_vic.rename(columns= {'P6390S1':'P6390'}, inplace=True)\n",
    "\n",
    "#borrar variable parentesco p6051 ya que no viene en la base de personas de 2021\n",
    "ipm_19_vhper_vic.drop(columns =\"P6051\", inplace =True)\n",
    "ipm_20_vhper_vic.drop(columns =\"P6051\", inplace =True)\n",
    "\n",
    "## reemplazar nombre de factor 'FEX_C' en base 2021\n",
    "ipm_21_vhper_vic.rename(columns= {'FEX_C':'fex_c_per', 'fex_c':'fex_c_ph'}, inplace=True)\n",
    "\n",
    "###BORRAR 4 VARIABLES de 2021 QUE NO SE ENCUENTRAN EN 2019 Y 2020\n",
    "ipm_21_vhper_vic.drop(columns =[ 'P3336S1', 'P3336S2','P3336S3', 'P3337'], inplace =True)\n",
    "\n",
    "###BORRAR 4 VARIABLES de 2022 QUE NO SE ENCUENTRAN EN 2019 Y 2020\n",
    "ipm_22_vhper_vic.drop(columns =[ 'P3336S1', 'P3336S2','P3336S3', 'P3337'], inplace =True)\n",
    "\n",
    "#renombrar variables de tabla 2022:\n",
    "ipm_22_vhper_vic.rename(columns= { 'VIC2': 'es_victima', \n",
    "                                   'FEX_C':'fex_c_per',\n",
    "                                   'FEXHOGVIC': 'fex_c_victi',\n",
    "                                   'DESPLA2': 'es_desplazado',\n",
    "                                   'VICTIMA': 'victima',\n",
    "                                   'FEX_VIC': 'fex_c_victi2',\n",
    "                                   'DESPLAZADO': 'es_desplazado2' \n",
    "                                   }, inplace=True)"
   ]
  },
  {
   "cell_type": "code",
   "execution_count": 96,
   "id": "50af37ca-5137-4efe-bcb8-f8de4467a686",
   "metadata": {},
   "outputs": [
    {
     "name": "stdout",
     "output_type": "stream",
     "text": [
      "75 75 75 80\n"
     ]
    }
   ],
   "source": [
    "print(len(var19), len(var20), len(var21), len(var22))"
   ]
  },
  {
   "cell_type": "code",
   "execution_count": 97,
   "id": "ad84318d-45d7-4316-ae00-78c81cc6e02d",
   "metadata": {},
   "outputs": [],
   "source": [
    "#concatenar periodos 19-22\n",
    "frames = [ipm_19_vhper_vic, ipm_20_vhper_vic, ipm_21_vhper_vic, ipm_22_vhper_vic]\n",
    "nal_19_22= pd.concat(frames, axis=0)"
   ]
  },
  {
   "cell_type": "code",
   "execution_count": 98,
   "id": "fd21d375",
   "metadata": {},
   "outputs": [
    {
     "name": "stdout",
     "output_type": "stream",
     "text": [
      "Distinct elements in var19: set()\n"
     ]
    }
   ],
   "source": [
    "##idenficar los elementos distintos 19-20\n",
    "distinct_var19 = set(var19).difference(set(var20))\n",
    "print(\"Distinct elements in var19:\", distinct_var19)"
   ]
  },
  {
   "cell_type": "code",
   "execution_count": 99,
   "id": "e4c98f97",
   "metadata": {
    "scrolled": true
   },
   "outputs": [
    {
     "name": "stdout",
     "output_type": "stream",
     "text": [
      "Distinct elements in var19: set()\n"
     ]
    }
   ],
   "source": [
    "##idenficar los elementos distintos 19-21\n",
    "distinct_var19 = set(var19).difference(set(var21))\n",
    "print(\"Distinct elements in var19:\", distinct_var19)"
   ]
  },
  {
   "cell_type": "code",
   "execution_count": 605,
   "id": "2b9c11e9",
   "metadata": {},
   "outputs": [
    {
     "name": "stdout",
     "output_type": "stream",
     "text": [
      "Distinct elements in var20: {'fex_c_per', 'P6051', 'fex_c_ph'}\n"
     ]
    }
   ],
   "source": [
    "##idenficar los elementos distintos 20-21\n",
    "distinct_var20 = set(var20).difference(set(var21))\n",
    "print(\"Distinct elements in var20:\", distinct_var20)"
   ]
  },
  {
   "cell_type": "markdown",
   "id": "b419e437-c5d4-40eb-9023-b7827d6540fa",
   "metadata": {},
   "source": [
    "### Alistamiento base 2022"
   ]
  },
  {
   "cell_type": "code",
   "execution_count": 95,
   "id": "4009776d-e1e0-48a9-8f37-e4ffc432cf0d",
   "metadata": {},
   "outputs": [
    {
     "name": "stdout",
     "output_type": "stream",
     "text": [
      "Distinct elements in var19 - var22: {'SECUENCIA_P_pv', 'SECUENCIA_ENCUESTA_hpv', 'P1077S21', 'P1075', 'P6051', 'SECUENCIA_ENCUESTA_viv', 'P1077S23', 'es_desplazado2', 'SECUENCIA_ENCUESTA_vic', 'SECUENCIA_ENCUESTA_p', 'P1082S2', 'fex_c', 'P1077S22', 'fex_c_victi2'}\n"
     ]
    }
   ],
   "source": [
    "##idenficar los elementos distintos 19-21\n",
    "print(\"Distinct elements in var19 - var22:\", set(var22).difference(set(var19)))"
   ]
  },
  {
   "cell_type": "markdown",
   "id": "d758a069",
   "metadata": {},
   "source": [
    "### validación 19-22"
   ]
  },
  {
   "cell_type": "code",
   "execution_count": 100,
   "id": "86cdba73-cda6-4e06-9dc5-b38f379508e9",
   "metadata": {},
   "outputs": [
    {
     "data": {
      "text/plain": [
       "Index(['DIRECTORIO', 'SECUENCIA_ENCUESTA_per', 'SECUENCIA_P', 'ORDEN', 'P6020',\n",
       "       'P6040', 'fex_c_per', 'P6090', 'P5665', 'P8563', 'P51', 'P55', 'P774',\n",
       "       'P6160', 'P8586', 'P8587', 'P8587S1', 'P1088', 'P1088S1', 'P6180',\n",
       "       'P6240', 'P6250', 'P6260', 'P6270', 'P6351', 'P6390', 'P7250', 'P6920',\n",
       "       'PERIODO', 'SECUENCIA_ENCUESTA_ph', 'SECUENCIA_P_h', 'P5010', 'P8526',\n",
       "       'P8530', 'fex_c_ph', 'REGION', 'personas', 'paredes', 'pisos',\n",
       "       'alcantarillado', 'acueducto', 'empleo_formal',\n",
       "       'desempleo_larga_duracion', 'barreras_acceso_salud',\n",
       "       'aseguramiento_salud', 'trabajo_infantil', 'atencion_integral',\n",
       "       'inasistencia_escolar', 'rezago_escolar', 'alfabetismo',\n",
       "       'logro_educativo', 'hacinamiento', 'ipm', 'pobre', 'fexp',\n",
       "       'SECUENCIA_P_viv', 'P3', 'P4005', 'P4015', 'P8520S3', 'P8520S5',\n",
       "       'indicator_column', 'indicator_column_2', 'directorio',\n",
       "       'secuencia_encuesta', 'secuencia_p', 'orden', 'es_victima',\n",
       "       'es_desplazado', 'fex_c_victi', 'fex_c_des', 'indicator_column_3',\n",
       "       'victima', 'no_victima', 'periodo', 'SECUENCIA_ENCUESTA_hpv', 'P1075',\n",
       "       'P1077S21', 'P1077S22', 'P1077S23', 'fex_c', 'SECUENCIA_ENCUESTA_p',\n",
       "       'SECUENCIA_P_pv', 'P6051', 'P1082S2', 'SECUENCIA_ENCUESTA_vic',\n",
       "       'es_desplazado2', 'fex_c_victi2', 'SECUENCIA_ENCUESTA_viv'],\n",
       "      dtype='object')"
      ]
     },
     "execution_count": 100,
     "metadata": {},
     "output_type": "execute_result"
    }
   ],
   "source": [
    "nal_19_22.columns"
   ]
  },
  {
   "cell_type": "code",
   "execution_count": 103,
   "id": "a52279f4",
   "metadata": {},
   "outputs": [
    {
     "name": "stdout",
     "output_type": "stream",
     "text": [
      "21.45\n"
     ]
    }
   ],
   "source": [
    "nal_22= nal_19_22[(nal_19_22['periodo']==2022) & (nal_19_22['es_desplazado']==1)]\n",
    "print(\n",
    "    round(\n",
    "    ((nal_22[\"pobre\"]* nal_22['fex_c_victi']).sum() /\n",
    "      (nal_22['es_desplazado'] * nal_22['fex_c_victi']).sum()*100),2))"
   ]
  },
  {
   "cell_type": "code",
   "execution_count": 134,
   "id": "c7ad07d4-e0b3-46ff-94b6-24f86423883f",
   "metadata": {},
   "outputs": [
    {
     "data": {
      "text/plain": [
       "es_victima\n",
       "0.0    161362\n",
       "1.0     67526\n",
       "Name: count, dtype: int64"
      ]
     },
     "execution_count": 134,
     "metadata": {},
     "output_type": "execute_result"
    }
   ],
   "source": [
    "nal_19_22[(nal_19_22['periodo']==2022)][\"es_victima\"] .value_counts()"
   ]
  },
  {
   "cell_type": "code",
   "execution_count": 135,
   "id": "36ff5e07",
   "metadata": {},
   "outputs": [],
   "source": [
    "#export\n",
    "nal_19_22.to_csv(p1+ \"nal_19_22.csv\", sep=\";\")"
   ]
  },
  {
   "cell_type": "code",
   "execution_count": null,
   "id": "fe7389ba",
   "metadata": {},
   "outputs": [],
   "source": [
    "#nal_19_22 = pd.read_csv(p1 + \"nal_19_22.csv\", sep=\";\", low_memory=False)"
   ]
  },
  {
   "cell_type": "code",
   "execution_count": 136,
   "id": "f492e0d2",
   "metadata": {},
   "outputs": [],
   "source": [
    "## etiquetar la variable región\n",
    "nal_19_22[\"REGION\"] = nal_19_22[\"REGION\"].replace([1,2,3,4,5,6,7,8,9], [\"Caribe\", \"Oriental\", \"Central\", \"Pacífica (sin valle)\", \"Bogotá\", \n",
    "                                                                       \"Antioquia\", \"Valle del Cauca\", \n",
    "                                                                        \"San Andrés y Providencia\", \"Orinoquía y Amazonía\"])"
   ]
  },
  {
   "cell_type": "code",
   "execution_count": 137,
   "id": "0d33d6fc",
   "metadata": {},
   "outputs": [],
   "source": [
    "#exportar nuevamente\n",
    "nal_19_22.to_csv(p1+ \"nal_19_22.csv\", sep=\";\")"
   ]
  },
  {
   "cell_type": "code",
   "execution_count": 107,
   "id": "44635318",
   "metadata": {},
   "outputs": [
    {
     "name": "stdout",
     "output_type": "stream",
     "text": [
      "26.52\n"
     ]
    }
   ],
   "source": [
    "##comprobación tasa nacional\n",
    "nal_22= nal_19_22[(nal_19_22['periodo']==2022) & (nal_19_22['REGION']==\"Caribe\") & (nal_19_22['es_desplazado']==1)]\n",
    "print(\n",
    "    round(\n",
    "    ((nal_22[\"pobre\"]* nal_22['fex_c_victi']).sum() /\n",
    "      (nal_22['es_desplazado'] * nal_22['fex_c_victi']).sum()*100),2))"
   ]
  },
  {
   "cell_type": "code",
   "execution_count": 152,
   "id": "b4f222c1",
   "metadata": {},
   "outputs": [
    {
     "data": {
      "text/plain": [
       "periodo  REGION                  \n",
       "2019     Antioquia                   15.698502\n",
       "         Bogotá                       7.052955\n",
       "         Caribe                      28.128625\n",
       "         Central                     15.213249\n",
       "         Oriental                    15.218896\n",
       "         Orinoquía y Amazonía        20.224209\n",
       "         Pacífica (sin valle)        26.332730\n",
       "         San Andrés y Providencia     8.170257\n",
       "         Valle del Cauca             10.794780\n",
       "2020     Antioquia                   14.877727\n",
       "         Bogotá                       7.506987\n",
       "         Caribe                      28.747925\n",
       "         Central                     17.925735\n",
       "         Oriental                    14.508147\n",
       "         Orinoquía y Amazonía        21.469713\n",
       "         Pacífica (sin valle)        30.888642\n",
       "         San Andrés y Providencia    11.910315\n",
       "         Valle del Cauca             11.130451\n",
       "2021     Antioquia                   14.273028\n",
       "         Bogotá                       5.676359\n",
       "         Caribe                      26.806047\n",
       "         Central                     14.683123\n",
       "         Oriental                    13.745668\n",
       "         Orinoquía y Amazonía        20.958772\n",
       "         Pacífica (sin valle)        22.739187\n",
       "         San Andrés y Providencia     7.028286\n",
       "         Valle del Cauca              8.577695\n",
       "2022     Antioquia                   10.745205\n",
       "         Bogotá                       3.786221\n",
       "         Caribe                      21.373976\n",
       "         Central                     11.650429\n",
       "         Oriental                    10.658645\n",
       "         Orinoquía y Amazonía        17.214433\n",
       "         Pacífica (sin valle)        20.747177\n",
       "         San Andrés y Providencia     8.750780\n",
       "         Valle del Cauca              9.661405\n",
       "dtype: float64"
      ]
     },
     "execution_count": 152,
     "metadata": {},
     "output_type": "execute_result"
    }
   ],
   "source": [
    "# ipm por regiones. nacional\n",
    "reg_nal = nal_19_22.groupby([\"periodo\", \"REGION\"]).apply(lambda x: ((x['pobre'] * x['fex_c_per']).sum() / x['fex_c_per'].sum()) * 100)\n",
    "reg_nal "
   ]
  },
  {
   "cell_type": "code",
   "execution_count": 109,
   "id": "60ad2fee",
   "metadata": {},
   "outputs": [
    {
     "data": {
      "text/plain": [
       "periodo  REGION                  \n",
       "2019     Antioquia                   19.348020\n",
       "         Bogotá                       7.243587\n",
       "         Caribe                      33.130440\n",
       "         Central                     17.412757\n",
       "         Oriental                    16.557472\n",
       "         Orinoquía y Amazonía        25.577040\n",
       "         Pacífica (sin valle)        35.259168\n",
       "         San Andrés y Providencia     8.258068\n",
       "         Valle del Cauca             12.094639\n",
       "2020     Antioquia                   17.930120\n",
       "         Bogotá                       7.775595\n",
       "         Caribe                      33.962981\n",
       "         Central                     20.525757\n",
       "         Oriental                    15.812521\n",
       "         Orinoquía y Amazonía        27.255708\n",
       "         Pacífica (sin valle)        42.028958\n",
       "         San Andrés y Providencia    12.044836\n",
       "         Valle del Cauca             12.435986\n",
       "2021     Antioquia                   17.480578\n",
       "         Bogotá                       5.861561\n",
       "         Caribe                      31.830823\n",
       "         Central                     16.792906\n",
       "         Oriental                    15.015485\n",
       "         Orinoquía y Amazonía        26.888711\n",
       "         Pacífica (sin valle)        31.728643\n",
       "         San Andrés y Providencia     7.107366\n",
       "         Valle del Cauca              9.529663\n",
       "2022     Antioquia                   15.166902\n",
       "         Bogotá                       4.095121\n",
       "         Caribe                      30.719311\n",
       "         Central                     15.174595\n",
       "         Oriental                    12.613138\n",
       "         Orinoquía y Amazonía        26.950058\n",
       "         Pacífica (sin valle)        36.267772\n",
       "         San Andrés y Providencia     9.031706\n",
       "         Valle del Cauca             12.048241\n",
       "dtype: float64"
      ]
     },
     "execution_count": 109,
     "metadata": {},
     "output_type": "execute_result"
    }
   ],
   "source": [
    "# ipm por regiones. nacional no víctimas\n",
    "reg_nal_nv = nal_19_22.groupby([\"periodo\", \"REGION\"]).apply(\n",
    "    lambda x: ((x['pobre'] * x['fex_c_per']).sum() / (x['no_victima'] * x['fex_c_per']).sum() * 100))\n",
    "reg_nal_nv"
   ]
  },
  {
   "cell_type": "code",
   "execution_count": 111,
   "id": "ea785047",
   "metadata": {},
   "outputs": [
    {
     "data": {
      "text/plain": [
       "periodo  REGION                  \n",
       "2019     Antioquia                   21.494652\n",
       "         Bogotá                      12.349230\n",
       "         Caribe                      33.203663\n",
       "         Central                     22.929137\n",
       "         Oriental                    22.278850\n",
       "         Orinoquía y Amazonía        23.789535\n",
       "         Pacífica (sin valle)        34.785937\n",
       "         San Andrés y Providencia     0.000000\n",
       "         Valle del Cauca             22.795928\n",
       "2020     Antioquia                   25.445537\n",
       "         Bogotá                      18.002321\n",
       "         Caribe                      34.870252\n",
       "         Central                     28.414497\n",
       "         Oriental                    23.792685\n",
       "         Orinoquía y Amazonía        22.887194\n",
       "         Pacífica (sin valle)        44.165051\n",
       "         San Andrés y Providencia     0.000000\n",
       "         Valle del Cauca             19.529599\n",
       "2021     Antioquia                   19.528957\n",
       "         Bogotá                      10.475636\n",
       "         Caribe                      31.075708\n",
       "         Central                     21.464460\n",
       "         Oriental                    19.171552\n",
       "         Orinoquía y Amazonía        22.765844\n",
       "         Pacífica (sin valle)        32.792662\n",
       "         San Andrés y Providencia     0.000000\n",
       "         Valle del Cauca             13.956035\n",
       "2022     Antioquia                   16.961966\n",
       "         Bogotá                       1.915601\n",
       "         Caribe                      25.795505\n",
       "         Central                     17.212324\n",
       "         Oriental                    15.293957\n",
       "         Orinoquía y Amazonía        18.015062\n",
       "         Pacífica (sin valle)        30.518730\n",
       "         San Andrés y Providencia     1.993641\n",
       "         Valle del Cauca             17.147046\n",
       "dtype: float64"
      ]
     },
     "execution_count": 111,
     "metadata": {},
     "output_type": "execute_result"
    }
   ],
   "source": [
    "# ipm por regiones. Víctimas todos los hechos\n",
    "reg_vic_tot = nal_19_22.groupby([\"periodo\", \"REGION\"]).apply(\n",
    "    lambda x: ((x['pobre'] * x['fex_c_victi']).sum() / (x['es_victima'] * x['fex_c_victi']).sum() * 100))\n",
    "reg_vic_tot"
   ]
  },
  {
   "cell_type": "code",
   "execution_count": 112,
   "id": "90abf4fd",
   "metadata": {},
   "outputs": [
    {
     "data": {
      "text/plain": [
       "periodo  REGION                  \n",
       "2019     Antioquia                   22.768412\n",
       "         Bogotá                      11.320394\n",
       "         Caribe                      33.546396\n",
       "         Central                     23.209571\n",
       "         Oriental                    22.546469\n",
       "         Orinoquía y Amazonía        24.607070\n",
       "         Pacífica (sin valle)        35.185805\n",
       "         San Andrés y Providencia     0.000000\n",
       "         Valle del Cauca             23.508782\n",
       "2020     Antioquia                   27.082699\n",
       "         Bogotá                      19.102597\n",
       "         Caribe                      35.173624\n",
       "         Central                     29.727878\n",
       "         Oriental                    24.403565\n",
       "         Orinoquía y Amazonía        23.349356\n",
       "         Pacífica (sin valle)        45.347031\n",
       "         San Andrés y Providencia     0.000000\n",
       "         Valle del Cauca             20.146365\n",
       "2021     Antioquia                   20.213834\n",
       "         Bogotá                      10.748052\n",
       "         Caribe                      31.236890\n",
       "         Central                     21.999048\n",
       "         Oriental                    19.611325\n",
       "         Orinoquía y Amazonía        23.252163\n",
       "         Pacífica (sin valle)        33.274008\n",
       "         San Andrés y Providencia     0.000000\n",
       "         Valle del Cauca             15.115812\n",
       "2022     Antioquia                   18.605648\n",
       "         Bogotá                       2.192485\n",
       "         Caribe                      26.521200\n",
       "         Central                     17.527109\n",
       "         Oriental                    15.813040\n",
       "         Orinoquía y Amazonía        18.427432\n",
       "         Pacífica (sin valle)        30.850706\n",
       "         San Andrés y Providencia     2.177653\n",
       "         Valle del Cauca             18.156460\n",
       "dtype: float64"
      ]
     },
     "execution_count": 112,
     "metadata": {},
     "output_type": "execute_result"
    }
   ],
   "source": [
    "# ipm por regiones. Víctimas desplazamiento\n",
    "reg_vic_des = nal_19_22[nal_19_22['es_desplazado']==1].groupby([\"periodo\", \"REGION\"]).apply(\n",
    "    lambda x: ((x['pobre'] * x['fex_c_victi']).sum() / (x['es_desplazado'] * x['fex_c_victi']).sum() * 100))\n",
    "reg_vic_des"
   ]
  },
  {
   "cell_type": "markdown",
   "id": "bff18367",
   "metadata": {},
   "source": [
    "### bases departamentales 2019-2022"
   ]
  },
  {
   "cell_type": "code",
   "execution_count": 138,
   "id": "52ca0557",
   "metadata": {},
   "outputs": [],
   "source": [
    "#cargue y pegue 19-20\n",
    "for i in range(19,21):\n",
    "    exec('vic{} = pd.read_csv(\"C:/Users/ivan.corredor/DANE_IPM_ECV/20{}/factores_victima_20{}\")'.format(i,i,i))\n",
    "    exec('viv{} = pd.read_csv(\"C:/Users/ivan.corredor/DANE_IPM_ECV/20{}/viviendas_dpto_20{}.csv\", sep=\";\", decimal= \",\")'.format(i,i,i))\n",
    "    exec('h{} = pd.read_csv(\"C:/Users/ivan.corredor/DANE_IPM_ECV/20{}/hogares_dpto_20{}.csv\", sep=\";\", decimal= \",\")'.format(i,i,i))\n",
    "    exec('per{} = pd.read_csv(\"C:/Users/ivan.corredor/DANE_IPM_ECV/20{}/personas_dpto_20{}.csv\", sep=\";\", decimal= \",\")'.format(i,i,i))\n",
    "    #cruce vivienda_hogares\n",
    "    exec('dpto_vh{} = pd.merge(left=h{}, right=viv{}, left_on=[\"DIRECTORIO\", \"SECUENCIA_ENCUESTA\"], right_on=[\"DIRECTORIO\", \"SECUENCIA_ENCUESTA\"], how=\"left\", sort=False, validate=\"m:1\", suffixes=(\"_h\", \"_viv\"), indicator = \"indicator_column\")'.format(i,i,i))\n",
    "    #cruce vivienda_hogares con personas\n",
    "    exec('dpto_vhper{} = pd.merge(left=per{}, right=dpto_vh{}, left_on=[\"DIRECTORIO\", \"SECUENCIA_P\"], right_on=[\"DIRECTORIO\", \"SECUENCIA_ENCUESTA\"], how=\"left\", sort=False, validate=\"m:1\", suffixes=(\"_per\", \"_ph\"), indicator = \"indicator_column_2\")'.format(i,i,i))\n",
    "    #cruce vivienda_hogares_personas con víctimas\n",
    "    exec('dpto_vhper_vic{} = pd.merge(left=dpto_vhper{}, right=vic{}, left_on=[\"DIRECTORIO\", \"SECUENCIA_P\", \"ORDEN\"], right_on=[\"directorio\", \"secuencia_p\",\"orden\"], how=\"left\",sort=False, validate=\"1:1\", suffixes=(\"_vhper\", \"_vic\"), indicator = \"indicator_column_3\")'.format(i,i,i))"
   ]
  },
  {
   "cell_type": "code",
   "execution_count": 139,
   "id": "0622bffa",
   "metadata": {},
   "outputs": [],
   "source": [
    "#cargue 21\n",
    "for i in range(21,22):\n",
    "    exec('vic{} = pd.read_csv(\"C:/Users/ivan.corredor/DANE_IPM_ECV/20{}/factores_victima_20{}\")'.format(i,i,i))\n",
    "    exec('viv{} = pd.read_csv(\"C:/Users/ivan.corredor/DANE_IPM_ECV/20{}/viviendas_dpto_20{}.csv\")'.format(i,i,i))\n",
    "    exec('h{} = pd.read_csv(\"C:/Users/ivan.corredor/DANE_IPM_ECV/20{}/hogares_dpto_20{}.csv\")'.format(i,i,i))\n",
    "    exec('per{} = pd.read_csv(\"C:/Users/ivan.corredor/DANE_IPM_ECV/20{}/personas_dpto_20{}.csv\")'.format(i,i,i))\n",
    "    #cruce vivienda_hogares\n",
    "    exec('dpto_vh{} = pd.merge(left=h{}, right=viv{}, left_on=[\"DIRECTORIO\", \"SECUENCIA_ENCUESTA\"], right_on=[\"DIRECTORIO\", \"SECUENCIA_ENCUESTA\"], how=\"left\", sort=False, validate=\"m:1\", suffixes=(\"_h\", \"_viv\"), indicator = \"indicator_column\")'.format(i,i,i))\n",
    "    #cruce vivienda_hogares con personas\n",
    "    exec('dpto_vhper{} = pd.merge(left=per{}, right=dpto_vh{}, left_on=[\"DIRECTORIO\", \"SECUENCIA_P\"], right_on=[\"DIRECTORIO\", \"SECUENCIA_ENCUESTA\"], how=\"left\", sort=False, validate=\"m:1\", suffixes=(\"_per\", \"_ph\"), indicator = \"indicator_column_2\")'.format(i,i,i))\n",
    "    #cruce vivienda_hogares_personas con víctimas\n",
    "    exec('dpto_vhper_vic{} = pd.merge(left=dpto_vhper{}, right=vic{}, left_on=[\"DIRECTORIO\", \"SECUENCIA_P\", \"ORDEN\"], right_on=[\"directorio\", \"secuencia_p\",\"orden\"], how=\"left\",sort=False, validate=\"1:1\", suffixes=(\"_vhper\", \"_vic\"), indicator = \"indicator_column_3\")'.format(i,i,i))"
   ]
  },
  {
   "cell_type": "code",
   "execution_count": 140,
   "id": "c08e44de-db16-4470-932a-bafc896f3952",
   "metadata": {},
   "outputs": [],
   "source": [
    "#cargue 22\n",
    "vic22 = pd.read_csv(p1 + \"factores_victima_2022.csv\")\n",
    "viv22 = pd.read_csv(p1 + \"viviendas_dpto_2022.csv\")\n",
    "viv22.columns = viv22.columns.str.upper()\n",
    "h22 = pd.read_csv(p1 + \"hogares_dpto_2022.csv\")\n",
    "per22 = pd.read_csv(p1 + \"personas_dpto_2022.csv\")"
   ]
  },
  {
   "cell_type": "code",
   "execution_count": 141,
   "id": "15243760-467d-4fe3-b2c1-1b7560572ab8",
   "metadata": {},
   "outputs": [],
   "source": [
    "###cruce personas - víctimas\n",
    "dpto_per_vic =  pd.merge(left=per22, right=vic22,\n",
    "                           left_on=['DIRECTORIO',  'SECUENCIA_P', 'ORDEN'], \n",
    "                        right_on=['DIRECTORIO', 'SECUENCIA_P', 'ORDEN'],\n",
    "                           how='left',\n",
    "                           sort=False, validate='1:1', \n",
    "                        suffixes=(\"_p\", \"_vic\"), indicator = 'indicator_column')\n",
    "\n",
    "### agrupar personas víctimas por hogar\n",
    "\n",
    "dpto_per_vic = per_vic.assign(VIC2 = dpto_per_vic.groupby(['DIRECTORIO', 'SECUENCIA_P'])['VICTIMA'].transform(lambda x: 1 if (x.sum() >= 1) else 0),\n",
    "                         DESPLA2 = dpto_per_vic.groupby(['DIRECTORIO', 'SECUENCIA_P'])['DESPLAZADO'].transform(lambda x: 1 if (x.sum() >= 1) else 0),\n",
    "                         FEXHOGVIC = dpto_per_vic.groupby(['DIRECTORIO', 'SECUENCIA_P'])['FEX_VIC'].transform('mean'))\n",
    "\n",
    "### hogares - personas victimas \n",
    "dpto_h_per_vic = pd.merge(left=h22, right = dpto_per_vic,\n",
    "                     left_on=['DIRECTORIO', \"SECUENCIA_ENCUESTA\"], \n",
    "                     right_on=['DIRECTORIO', \"SECUENCIA_P\"], how='inner', \n",
    "                     sort=False, validate='1:m', \n",
    "                      suffixes=(\"_h\", \"_pv\"), indicator='indicator_column_2')\n",
    "### hogares personas victimas - vivienda\n",
    "dpto_vhper_vic22 = pd.merge(left=dpto_h_per_vic, right=viv22, \n",
    "                            left_on=['DIRECTORIO'], \n",
    "                            right_on=['DIRECTORIO'], \n",
    "                            how='inner',\n",
    "                            sort=False, \n",
    "                            validate='m:1', \n",
    "                            suffixes=(\"_hpv\", \"_viv\"), \n",
    "                            indicator = 'indicator_column_3')"
   ]
  },
  {
   "cell_type": "code",
   "execution_count": 142,
   "id": "e9b85cf8-75b3-4540-a670-f1aba889517e",
   "metadata": {},
   "outputs": [],
   "source": [
    "### renombrar variables del año 2022\n",
    "dpto_vhper_vic22.rename(columns= { 'VIC2': 'es_victima', \n",
    "                                   'FEX_C':'fex_c_per',\n",
    "                                   'FEXHOGVIC': 'fex_c_victi',\n",
    "                                   'DESPLA2': 'es_desplazado',\n",
    "                                   'VICTIMA': 'victima',\n",
    "                                   'FEX_VIC': 'fex_c_victi2',\n",
    "                                   'DESPLAZADO': 'es_desplazado2' \n",
    "                                   }, inplace=True)"
   ]
  },
  {
   "cell_type": "code",
   "execution_count": 143,
   "id": "83f41cfb-fabf-45f8-a7f0-8fd1ef1c6125",
   "metadata": {},
   "outputs": [],
   "source": [
    "##crear variable no víctima\n",
    "def novic(df):\n",
    "    if df[\"es_victima\"]!=1:\n",
    "        x = 1\n",
    "    else:\n",
    "        x= 0\n",
    "    return(x)"
   ]
  },
  {
   "cell_type": "code",
   "execution_count": 144,
   "id": "43275aee",
   "metadata": {},
   "outputs": [],
   "source": [
    "for i in range(19,23):\n",
    "    ##crear variable víctima\n",
    "    exec('dpto_vhper_vic{}[\"victima\"] = dpto_vhper_vic{}.apply(vic, axis = 1)'.format(i,i))\n",
    "    ##crear variable no víctima\n",
    "    exec('dpto_vhper_vic{}[\"no_victima\"] = dpto_vhper_vic{}.apply(novic, axis = 1)'.format(i,i))\n",
    "    #crear variable de año \n",
    "    exec('dpto_vhper_vic{}[\"periodo\"] = 20{}'.format(i,i))\n",
    "    #exec('dpto_vhper_vic{}.rename(columns = {\"p6020\":\"sexo\", \"p6040\":\"edad\"}, inplace = True)'.format(i))"
   ]
  },
  {
   "cell_type": "code",
   "execution_count": 145,
   "id": "1e390b82",
   "metadata": {},
   "outputs": [],
   "source": [
    "##renombrar variables\n",
    "dpto_vhper_vic19.rename(columns = {\"p6020\":\"sexo\", \"p6040\":\"edad\"}, inplace = True)\n",
    "dpto_vhper_vic20.rename(columns = {\"p6020\":\"sexo\", \"p6040\":\"edad\"}, inplace = True)\n",
    "dpto_vhper_vic21.rename(columns = {\"p6020\":\"sexo\", \"p6040\":\"edad\"}, inplace = True)\n",
    "dpto_vhper_vic22.rename(columns = {\"p6020\":\"sexo\", \"p6040\":\"edad\"}, inplace = True)"
   ]
  },
  {
   "cell_type": "markdown",
   "id": "3dc27740",
   "metadata": {},
   "source": [
    "#### Homogenización de las bases para concatenación"
   ]
  },
  {
   "cell_type": "code",
   "execution_count": 146,
   "id": "c7ebc1b8",
   "metadata": {},
   "outputs": [
    {
     "name": "stdout",
     "output_type": "stream",
     "text": [
      "77 77 80 85\n"
     ]
    }
   ],
   "source": [
    "# selección de variables\n",
    "vard19 = list(dpto_vhper_vic19.columns)\n",
    "vard20 = list(dpto_vhper_vic20.columns)\n",
    "vard21 = list(dpto_vhper_vic21.columns)\n",
    "vard22 = list(dpto_vhper_vic22.columns)\n",
    "print(len(vard19), len(vard20), len(vard21), len(vard22))"
   ]
  },
  {
   "cell_type": "code",
   "execution_count": 147,
   "id": "5b410404-b834-49f4-9e5b-fbfe4cdcabf3",
   "metadata": {},
   "outputs": [],
   "source": [
    "#renombrar variable\n",
    "dpto_vhper_vic19.rename(columns= {'P6390S1':'P6390'}, inplace=True)\n",
    "dpto_vhper_vic21.rename(columns= {'FEX_C':'fex_c_per', 'fex_c':'fex_c_ph'}, inplace=True)\n",
    "\n",
    "###BORRAR 4 VARIABLES QUE NO SE ENCUENTRAN EN 2019 Y 2020\n",
    "dpto_vhper_vic21.drop(columns =['P3336S1', 'P3336S2','P3336S3', 'P3337'], inplace =True)\n",
    "###BORRAR 4 VARIABLES QUE NO SE ENCUENTRAN EN 2019 Y 2020\n",
    "dpto_vhper_vic22.drop(columns =['P3336S1', 'P3336S2','P3336S3', 'P3337'], inplace =True)\n"
   ]
  },
  {
   "cell_type": "code",
   "execution_count": 148,
   "id": "eb2f5e17-aa9c-4c1c-b0ee-6dd25114b284",
   "metadata": {},
   "outputs": [],
   "source": [
    "#concatenar periodos 19-22\n",
    "frames_dpto = [dpto_vhper_vic19, dpto_vhper_vic20, dpto_vhper_vic21, dpto_vhper_vic22]\n",
    "dpto_19_22= pd.concat(frames_dpto, axis=0)"
   ]
  },
  {
   "cell_type": "code",
   "execution_count": 149,
   "id": "8bb3a6b2",
   "metadata": {},
   "outputs": [
    {
     "name": "stdout",
     "output_type": "stream",
     "text": [
      "Distinct elements in vard19: {'P6390S1'}\n"
     ]
    }
   ],
   "source": [
    "##idenficar los elementos distintos 19-20\n",
    "distinct_vard19 = set(vard19).difference(set(vard20))\n",
    "print(\"Distinct elements in vard19:\", distinct_vard19)"
   ]
  },
  {
   "cell_type": "code",
   "execution_count": 150,
   "id": "3771c25b",
   "metadata": {},
   "outputs": [
    {
     "name": "stdout",
     "output_type": "stream",
     "text": [
      "Distinct elements in vard19: {'P6390S1'}\n"
     ]
    }
   ],
   "source": [
    "##idenficar los elementos distintos 19-20\n",
    "distinct_vard19 = set(vard19).difference(set(vard20))\n",
    "print(\"Distinct elements in vard19:\", distinct_vard19)"
   ]
  },
  {
   "cell_type": "code",
   "execution_count": 151,
   "id": "517201fe",
   "metadata": {},
   "outputs": [],
   "source": [
    "#export\n",
    "dpto_19_22.to_csv(p1 + \"dpto_19_22.csv\", sep=\";\")"
   ]
  },
  {
   "cell_type": "markdown",
   "id": "72197dbe",
   "metadata": {},
   "source": [
    "### Resultados Departamentos\n",
    "\n",
    "Esta sección de código se corre en el script pobreza_por_dpto"
   ]
  },
  {
   "cell_type": "code",
   "execution_count": null,
   "id": "64f45ae1",
   "metadata": {},
   "outputs": [],
   "source": [
    "pd.options.display.max_rows=None"
   ]
  },
  {
   "cell_type": "code",
   "execution_count": 219,
   "id": "1034b3f3-277f-4126-b03d-6699b5ae17bf",
   "metadata": {},
   "outputs": [
    {
     "name": "stdout",
     "output_type": "stream",
     "text": [
      "[5, 8, 11, 13, 15, 17, 18, 19, 20, 23, 25, 27, 41, 44, 47, 50, 52, 54, 63, 66, 68, 70, 73, 76, 81, 85, 86, 88, 91, 94, 95, 97, 99]\n"
     ]
    }
   ],
   "source": [
    "print(list(sorted(dpto_19_22[\"DEPARTAMENTO\"].unique())))"
   ]
  },
  {
   "cell_type": "code",
   "execution_count": 220,
   "id": "67c8a0e6",
   "metadata": {},
   "outputs": [],
   "source": [
    "## etiquetar la variable región\n",
    "dpto_19_22[\"DEPARTAMENTO\"] = dpto_19_22[\"DEPARTAMENTO\"].replace([5,8,11,13,15,17,18,19,20,23,25,27,41,44,47,50,52,54,63,66,68,\n",
    "                                                                70, 73, 76, 81, 85,86, 88, 91,94, 95,97,99],\n",
    "                                                                [\"Antioquia\", \"Atlántico\", \"Bogotá\", \"Bolívar\",\"Boyacá\", \n",
    "                                                                 \"Caldas\",\"Caquetá\",\"Cauca\", \"Cesar\",\"Córdoba\", \"Cundinamarca\",\n",
    "                                                                \"Chocó\", \"Huila\", \"La Guajira\", \"Magdalena\", \"Meta\", \"Nariño\",\n",
    "                                                                \"Norte de Santander\", \"Quindio\", \"Risaralda\", \"Santander\",\n",
    "                                                                \"Sucre\", \"Tolima\", \"Valle del Cauca\", \"Arauca\", \"Casanare\",\n",
    "                                                                \"Putumayo\", \"Providencia y Santa Catalina\", \"Amazonas\", \n",
    "                                                                \"Guainía\", \"Guaviare\", \"Vaupés\", \"Vichada\"])"
   ]
  },
  {
   "cell_type": "code",
   "execution_count": 221,
   "id": "bc1b0266",
   "metadata": {},
   "outputs": [
    {
     "data": {
      "text/plain": [
       "periodo  DEPARTAMENTO   \n",
       "2019     Amazonas           35.647439\n",
       "         Antioquia          15.698502\n",
       "         Arauca             23.312620\n",
       "         Atlántico          14.939818\n",
       "         Bogotá              7.086484\n",
       "                              ...    \n",
       "2022     Sucre              26.015727\n",
       "         Tolima             10.541457\n",
       "         Valle del Cauca     9.661405\n",
       "         Vaupés             47.100273\n",
       "         Vichada            75.396661\n",
       "Length: 132, dtype: float64"
      ]
     },
     "execution_count": 221,
     "metadata": {},
     "output_type": "execute_result"
    }
   ],
   "source": [
    "# ipm por regiones. nacional\n",
    "dpto_nal = dpto_19_22.groupby([\"periodo\", \"DEPARTAMENTO\"]).apply(lambda x: ((x['pobre'] * x['fex_c_per']).sum() / x['fex_c_per'].sum()) * 100)\n",
    "dpto_nal "
   ]
  },
  {
   "cell_type": "code",
   "execution_count": 222,
   "id": "34bbbc07",
   "metadata": {},
   "outputs": [
    {
     "data": {
      "text/plain": [
       "periodo  DEPARTAMENTO   \n",
       "2019     Amazonas           36.601344\n",
       "         Antioquia          19.348020\n",
       "         Arauca             29.763298\n",
       "         Atlántico          15.919329\n",
       "         Bogotá              7.278477\n",
       "                              ...    \n",
       "2022     Sucre              37.254039\n",
       "         Tolima             12.002864\n",
       "         Valle del Cauca    10.757918\n",
       "         Vaupés             55.941077\n",
       "         Vichada            80.444868\n",
       "Length: 132, dtype: float64"
      ]
     },
     "execution_count": 222,
     "metadata": {},
     "output_type": "execute_result"
    }
   ],
   "source": [
    "# ipm por regiones. nacional no víctimas\n",
    "dpto_nal_nv = dpto_19_22.groupby([\"periodo\", \"DEPARTAMENTO\"]).apply(\n",
    "    lambda x: ((x['pobre'] * x['fex_c_per']).sum() / (x['no_victima'] * x['fex_c_per']).sum() * 100))\n",
    "dpto_nal_nv"
   ]
  },
  {
   "cell_type": "code",
   "execution_count": 223,
   "id": "68318098",
   "metadata": {},
   "outputs": [
    {
     "data": {
      "text/plain": [
       "periodo  DEPARTAMENTO   \n",
       "2019     Amazonas           28.577279\n",
       "         Antioquia          21.494652\n",
       "         Arauca             23.228410\n",
       "         Atlántico          14.074379\n",
       "         Bogotá             12.403749\n",
       "                              ...    \n",
       "2022     Sucre              29.860493\n",
       "         Tolima             12.498105\n",
       "         Valle del Cauca    16.678370\n",
       "         Vaupés             25.660977\n",
       "         Vichada            52.795148\n",
       "Length: 132, dtype: float64"
      ]
     },
     "execution_count": 223,
     "metadata": {},
     "output_type": "execute_result"
    }
   ],
   "source": [
    "# ipm por regiones. Víctimas todos los hechos\n",
    "dpto_vic_tot = dpto_19_22.groupby([\"periodo\", \"DEPARTAMENTO\"]).apply(\n",
    "    lambda x: ((x['pobre'] * x['fex_c_victi']).sum() / (x['victima'] * x['fex_c_victi']).sum() * 100))\n",
    "dpto_vic_tot"
   ]
  },
  {
   "cell_type": "code",
   "execution_count": 224,
   "id": "c4185868",
   "metadata": {},
   "outputs": [
    {
     "data": {
      "text/plain": [
       "periodo  DEPARTAMENTO   \n",
       "2019     Amazonas           30.145604\n",
       "         Antioquia          24.329313\n",
       "         Arauca             24.830980\n",
       "         Atlántico          14.923832\n",
       "         Bogotá             13.599601\n",
       "                              ...    \n",
       "2022     Sucre              30.394196\n",
       "         Tolima             13.103182\n",
       "         Valle del Cauca    18.257646\n",
       "         Vaupés             28.925578\n",
       "         Vichada            55.528837\n",
       "Length: 132, dtype: float64"
      ]
     },
     "execution_count": 224,
     "metadata": {},
     "output_type": "execute_result"
    }
   ],
   "source": [
    "# ipm por regiones. Víctimas desplazamiento\n",
    "dpto_vic_des = dpto_19_22.groupby([\"periodo\", \"DEPARTAMENTO\"]).apply(\n",
    "    lambda x: ((x['pobre'] * x['fex_c_victi']).sum() / (x['es_desplazado'] * x['fex_c_victi']).sum() * 100))\n",
    "dpto_vic_des"
   ]
  },
  {
   "cell_type": "code",
   "execution_count": 226,
   "id": "2d014281",
   "metadata": {},
   "outputs": [],
   "source": [
    "## exportar resultados de regiones para víctimas \n",
    "salida2 = p1 + \"ipm_departamentos.xlsx\"\n",
    "writer = pd.ExcelWriter(salida2)\n",
    "\n",
    "dpto_nal.to_excel(writer, sheet_name = 'ipm_nal_dpto', header = True, index=True)\n",
    "dpto_nal_nv.to_excel(writer, sheet_name = 'ipm_nal_novic_dpto', header = True, index=True)\n",
    "dpto_vic_tot.to_excel(writer, sheet_name = 'ipm_vic_tot_dpto', header = True, index=True)\n",
    "dpto_vic_des.to_excel(writer, sheet_name = 'ipm_vic_des_dpto', header = True, index=True)\n",
    "\n",
    "writer.close()"
   ]
  },
  {
   "cell_type": "code",
   "execution_count": null,
   "id": "29658fa0-ef42-442a-9348-2a6a8793451a",
   "metadata": {},
   "outputs": [],
   "source": [
    "\n",
    "#Cruce vivienda hogares\n",
    "# ipm_22_vh_merge = pd.merge(left=ipm_22_h, right=ipm_22_viv,\n",
    "#                            left_on=['DIRECTORIO', 'SECUENCIA_ENCUESTA', 'SECUENCIA_P'], \n",
    "#                         right_on=['DIRECTORIO', 'SECUENCIA_ENCUESTA', 'SECUENCIA_P'],\n",
    "#                            how='left',\n",
    "#                            sort=False, validate='m:1', \n",
    "#                         suffixes=(\"_h\", \"_viv\"), indicator = 'indicator_column')\n",
    "\n",
    "# #cruce vivienda_hogares con personas\n",
    "# ipm_22_vhper = pd.merge(left=ipm_22_p, right=ipm_22_vh_merge, left_on=['DIRECTORIO', \"SECUENCIA_P\"], \n",
    "#                         right_on=['DIRECTORIO', \"SECUENCIA_ENCUESTA\"], how='left', \n",
    "#                         sort=False, validate='m:1', \n",
    "#                         suffixes=(\"_per\", \"_ph\"), indicator = 'indicator_column_2')\n",
    "\n",
    "# #cruce vivienda_hogares_personas con víctimas\n",
    "# ipm_22_vhper_vic = pd.merge(left=ipm_22_vhper, right=ipm_22_v, \n",
    "#                             left_on=['DIRECTORIO', 'SECUENCIA_P_per', 'ORDEN'], \n",
    "#                             right_on=['DIRECTORIO', 'SECUENCIA_P', 'ORDEN'], \n",
    "#                             how='outer',\n",
    "#                             sort=False, \n",
    "#                             validate='1:1', \n",
    "#                             suffixes=(\"_vhper\", \"_vic\"), \n",
    "#                             indicator = 'indicator_column_3')\n",
    "##rellenar variable víctima\n",
    "# def vic(df):\n",
    "#     if df[\"VICTIMA\"]==1:\n",
    "#         x = 1\n",
    "#     else:\n",
    "#         x= 0\n",
    "#     return(x)\n",
    "\n",
    "# ##crear variable no víctima\n",
    "# ipm_22_vhper_vic[\"no_victima\"] = ipm_22_vhper_vic.apply(novic, axis = 1)"
   ]
  },
  {
   "cell_type": "code",
   "execution_count": null,
   "id": "eb3cea2c-697e-4274-9f83-884a7fcbc1fb",
   "metadata": {},
   "outputs": [],
   "source": [
    "### departamentos\n",
    "\n",
    "#----------\n",
    "#cruce vivienda_hogares\n",
    "# dpto_vh22 = pd.merge(left=h22, right=viv22, \n",
    "#                      left_on=[\"DIRECTORIO\", \"SECUENCIA_ENCUESTA\"], \n",
    "#                      right_on=[\"DIRECTORIO\", \"SECUENCIA_ENCUESTA\"], \n",
    "#                      how=\"left\",sort=False, validate=\"m:1\", \n",
    "#                      suffixes=(\"_h\", \"_viv\"), \n",
    "#                      indicator = \"indicator_column\")\n",
    "# #cruce vivienda_hogares con personas\n",
    "# dpto_vhper22 = pd.merge(left=per22, right=dpto_vh22, \n",
    "#                         left_on=[\"DIRECTORIO\", \"SECUENCIA_P\"], \n",
    "#                         right_on=[\"DIRECTORIO\", \"SECUENCIA_ENCUESTA\"], \n",
    "#                         how=\"left\", sort=False, \n",
    "#                         validate=\"m:1\", suffixes=(\"_per\", \"_ph\"), \n",
    "#                         indicator = \"indicator_column_2\")\n",
    "# #cruce vivienda_hogares_personas con víctimas\n",
    "# dpto_vhper_vic22 = pd.merge(left=dpto_vhper22, \n",
    "#                             right=vic22, left_on=[\"DIRECTORIO\", \"SECUENCIA_P\", \"ORDEN\"], \n",
    "#                             right_on=[\"DIRECTORIO\", \"SECUENCIA_P\",\"ORDEN\"], how=\"left\",\n",
    "#                             sort=False, validate=\"1:1\", suffixes=(\"_vhper\", \"_vic\"), \n",
    "#                             indicator = \"indicator_column_3\")"
   ]
  }
 ],
 "metadata": {
  "kernelspec": {
   "display_name": "Python 3 (ipykernel)",
   "language": "python",
   "name": "python3"
  },
  "language_info": {
   "codemirror_mode": {
    "name": "ipython",
    "version": 3
   },
   "file_extension": ".py",
   "mimetype": "text/x-python",
   "name": "python",
   "nbconvert_exporter": "python",
   "pygments_lexer": "ipython3",
   "version": "3.11.5"
  }
 },
 "nbformat": 4,
 "nbformat_minor": 5
}
