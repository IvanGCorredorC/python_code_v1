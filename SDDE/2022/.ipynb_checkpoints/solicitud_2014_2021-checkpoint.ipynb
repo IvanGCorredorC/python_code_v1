{
 "cells": [
  {
   "cell_type": "code",
   "execution_count": 153,
   "metadata": {},
   "outputs": [],
   "source": [
    "import pandas as pd\n",
    "import numpy as np"
   ]
  },
  {
   "cell_type": "markdown",
   "metadata": {},
   "source": [
    "#### Trimestre"
   ]
  },
  {
   "cell_type": "code",
   "execution_count": 154,
   "metadata": {},
   "outputs": [],
   "source": [
    "raw1 = \"G:/Unidades compartidas/Mercado laboral/Datos/4_Output/ml_pob_impu_01_22.xlsx\"\n",
    "raw2 = \"G:/Unidades compartidas/Mercado laboral/Datos/4_Output/t05_completa.xlsx\""
   ]
  },
  {
   "cell_type": "code",
   "execution_count": 155,
   "metadata": {},
   "outputs": [],
   "source": [
    "#cargar archivos\n",
    "cols = [\"Periodo\", \"Trimestre\", \"Población en edad de trabajar\", \"valor Imputado\"]\n",
    "mlg18_14_22= pd.read_excel(raw1,     \n",
    "                       sheet_name = \"bogotá trim movil\", header = 0, usecols= \"A,B,I,O\", names=cols)\n",
    "mlg05_14_22= pd.read_excel(raw2,     \n",
    "                       sheet_name = \"bogotá_trimmovil_m05\", header = 0, usecols= \"A,B,H\")"
   ]
  },
  {
   "cell_type": "code",
   "execution_count": 156,
   "metadata": {},
   "outputs": [
    {
     "name": "stderr",
     "output_type": "stream",
     "text": [
      "<ipython-input-156-4ca1713ab5db>:5: UserWarning: Boolean Series key will be reindexed to match DataFrame index.\n",
      "  mlg05_14_22 = mlg05_14_22[msk14==True]\n"
     ]
    }
   ],
   "source": [
    "#filtrar cada base\n",
    "msk14 = mlg18_14_22[\"Periodo\"] >= 2014\n",
    "mlg18_14_22 = mlg18_14_22[msk14==True]\n",
    "mlg18_14_22.reset_index(drop =True, inplace = True)\n",
    "mlg05_14_22 = mlg05_14_22[msk14==True]\n",
    "mlg05_14_22.reset_index(drop =True, inplace = True)"
   ]
  },
  {
   "cell_type": "code",
   "execution_count": 157,
   "metadata": {},
   "outputs": [],
   "source": [
    "#imprimir el número completo\n",
    "#pd.set_option('float_format', '{:f}'.format)"
   ]
  },
  {
   "cell_type": "code",
   "execution_count": 158,
   "metadata": {},
   "outputs": [],
   "source": [
    "#llevar a miles\n",
    "mlg05_14_22[\"Población en edad de trabajar\"] = mlg05_14_22[\"Población en edad de trabajar\"]*1000"
   ]
  },
  {
   "cell_type": "code",
   "execution_count": 159,
   "metadata": {},
   "outputs": [],
   "source": [
    "##guardar en un solo archivo excel con distintas pestañas\n",
    "writer = pd.ExcelWriter(\"G:/Unidades compartidas/Mercado laboral/Datos/4_Output/PET_mlg_14_22.xlsx\")\n",
    "\n",
    "mlg18_14_22.to_excel(writer,     \n",
    "                       sheet_name = \"PET_trimmovil_imp_m18\", header = True, index=False)\n",
    "mlg05_14_22.to_excel(writer, sheet_name = \"PET_trimmovil_m05\", header = True, index=False)"
   ]
  },
  {
   "cell_type": "markdown",
   "metadata": {},
   "source": [
    "#### Anual"
   ]
  },
  {
   "cell_type": "code",
   "execution_count": 160,
   "metadata": {},
   "outputs": [],
   "source": [
    "#msk19 = (mlg18_14_22[\"Periodo\"] == 2014) & (mlg18_14_22[\"Trimestre\"] == \"ene-mar\")"
   ]
  },
  {
   "cell_type": "code",
   "execution_count": 161,
   "metadata": {
    "scrolled": true
   },
   "outputs": [],
   "source": [
    "##serie imputada\n",
    "mlg18_14_22_a = mlg18_14_22.iloc[::3,:]\n",
    "mlg18_14_22_a.reset_index(drop = True, inplace=True)"
   ]
  },
  {
   "cell_type": "code",
   "execution_count": 162,
   "metadata": {},
   "outputs": [],
   "source": [
    "#Agrupar\n",
    "mlg18_14_22_an= mlg18_14_22_a.groupby([\"Periodo\"]).mean()\n",
    "mlg18_14_22_an.reset_index( inplace=True)"
   ]
  },
  {
   "cell_type": "code",
   "execution_count": 163,
   "metadata": {},
   "outputs": [],
   "source": [
    "##serie marco 2005\n",
    "mlg05_14_22_a = mlg05_14_22.iloc[::3,:]\n",
    "mlg05_14_22_a.reset_index(drop = True, inplace=True)"
   ]
  },
  {
   "cell_type": "code",
   "execution_count": 164,
   "metadata": {},
   "outputs": [],
   "source": [
    "#Agrupar\n",
    "mlg05_14_22_an= mlg05_14_22_a.groupby([\"Periodo\"]).mean()\n",
    "mlg05_14_22_an.reset_index( inplace=True)"
   ]
  },
  {
   "cell_type": "code",
   "execution_count": 165,
   "metadata": {},
   "outputs": [],
   "source": [
    "mlg18_14_22_an.to_excel(writer,     \n",
    "                       sheet_name = \"PET_anual_imp_m18\", header = True, index=False)\n",
    "mlg05_14_22_an.to_excel(writer, sheet_name = \"PET_anual_m05\", header = True, index=False)\n",
    "writer.save()\n",
    "writer.close()"
   ]
  }
 ],
 "metadata": {
  "kernelspec": {
   "display_name": "Python 3",
   "language": "python",
   "name": "python3"
  },
  "language_info": {
   "codemirror_mode": {
    "name": "ipython",
    "version": 3
   },
   "file_extension": ".py",
   "mimetype": "text/x-python",
   "name": "python",
   "nbconvert_exporter": "python",
   "pygments_lexer": "ipython3",
   "version": "3.8.3"
  }
 },
 "nbformat": 4,
 "nbformat_minor": 4
}
