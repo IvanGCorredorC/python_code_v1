{
 "cells": [
  {
   "cell_type": "markdown",
   "metadata": {},
   "source": [
    "## Emprendimiento migración - CCB"
   ]
  },
  {
   "cell_type": "code",
   "execution_count": 1,
   "metadata": {},
   "outputs": [],
   "source": [
    "import pandas as pd\n",
    "import numpy as np"
   ]
  },
  {
   "cell_type": "code",
   "execution_count": 2,
   "metadata": {},
   "outputs": [],
   "source": [
    "coding: \"latin-1\""
   ]
  },
  {
   "cell_type": "code",
   "execution_count": 1,
   "metadata": {},
   "outputs": [
    {
     "data": {
      "text/plain": [
       "'2.7.3'"
      ]
     },
     "execution_count": 1,
     "metadata": {},
     "output_type": "execute_result"
    }
   ],
   "source": [
    "#actualizar\n",
    "# import numexpr as nm\n",
    "# nm.__version__"
   ]
  },
  {
   "cell_type": "code",
   "execution_count": 6,
   "metadata": {},
   "outputs": [
    {
     "name": "stdout",
     "output_type": "stream",
     "text": [
      "Collecting numexpr==2.7.3\n",
      "  Downloading numexpr-2.7.3-cp38-cp38-win_amd64.whl (93 kB)\n",
      "Requirement already satisfied, skipping upgrade: numpy>=1.7 in d:\\anaconda\\lib\\site-packages (from numexpr==2.7.3) (1.23.3)\n",
      "Installing collected packages: numexpr\n",
      "  Attempting uninstall: numexpr\n",
      "    Found existing installation: numexpr 2.7.1\n",
      "    Uninstalling numexpr-2.7.1:\n",
      "      Successfully uninstalled numexpr-2.7.1\n"
     ]
    },
    {
     "name": "stderr",
     "output_type": "stream",
     "text": [
      "ERROR: Could not install packages due to an EnvironmentError: [WinError 5] Acceso denegado: 'D:\\\\anaconda\\\\Lib\\\\site-packages\\\\~umexpr\\\\interpreter.cp38-win_amd64.pyd'\n",
      "Consider using the `--user` option or check the permissions.\n",
      "\n"
     ]
    }
   ],
   "source": [
    "#!pip install numexpr==2.7.3 --upgrade\n",
    "#versión pandas luego de la actualización\n",
    "#pd.__version__"
   ]
  },
  {
   "cell_type": "code",
   "execution_count": 4,
   "metadata": {
    "scrolled": false
   },
   "outputs": [
    {
     "name": "stdout",
     "output_type": "stream",
     "text": [
      "Requirement already up-to-date: pandas in d:\\anaconda\\lib\\site-packages (1.5.0)\n",
      "Requirement already satisfied, skipping upgrade: pytz>=2020.1 in d:\\anaconda\\lib\\site-packages (from pandas) (2020.1)\n",
      "Requirement already satisfied, skipping upgrade: numpy>=1.20.3; python_version < \"3.10\" in d:\\anaconda\\lib\\site-packages (from pandas) (1.23.3)\n",
      "Requirement already satisfied, skipping upgrade: python-dateutil>=2.8.1 in d:\\anaconda\\lib\\site-packages (from pandas) (2.8.1)\n",
      "Requirement already satisfied, skipping upgrade: six>=1.5 in d:\\anaconda\\lib\\site-packages (from python-dateutil>=2.8.1->pandas) (1.15.0)\n"
     ]
    }
   ],
   "source": [
    "##soluciona el error [Errno 22] Invalid argument\n",
    "!pip3 install --upgrade pandas"
   ]
  },
  {
   "cell_type": "code",
   "execution_count": 2,
   "metadata": {},
   "outputs": [],
   "source": [
    "#cargue desde el escritorio\n",
    "#p = \"C:/Users/IVAN CORREDOR/OneDrive - Universidad Nacional de Colombia/Escritorio/CCB_DIC2019.dta\""
   ]
  },
  {
   "cell_type": "code",
   "execution_count": 3,
   "metadata": {},
   "outputs": [],
   "source": [
    "p1= \"G:/Unidades compartidas/Datos y procesamientos 2023/CCB/Datos/3_Clean/CCB_DIC2021.dta\"\n",
    "p2= \"G:/Unidades compartidas/Datos y procesamientos 2023/CCB/Datos/3_Clean/CCB_DIC2020.dta\"\n",
    "p3= \"G:/Unidades compartidas/Datos y procesamientos 2023/CCB/Datos/3_Clean/CCB_DIC2019.dta\""
   ]
  },
  {
   "cell_type": "markdown",
   "metadata": {},
   "source": [
    "#### Creación de Empresas"
   ]
  },
  {
   "cell_type": "markdown",
   "metadata": {},
   "source": [
    "#### 2021"
   ]
  },
  {
   "cell_type": "code",
   "execution_count": 4,
   "metadata": {},
   "outputs": [],
   "source": [
    "##Cargar base de matriculas activas y canceladas 2021\n",
    "#primero debo copiar la base en mi escritorio y cargarla, posteriormente cargarla desde el google drive\n",
    "CCB_21= pd.read_stata(p1)"
   ]
  },
  {
   "cell_type": "code",
   "execution_count": 7,
   "metadata": {},
   "outputs": [
    {
     "data": {
      "text/plain": [
       "Index(['num_matricula', 'fec_matricula', 'nombre', 'tipo_persona', 'nit', 'dv',\n",
       "       'admon_dian_id', 'admon_dian', 'direccion_comercial',\n",
       "       'id_municipio_comercial', 'direccion_notifica', 'id_municipio_notifica',\n",
       "       'num_tel1', 'num_tel2', 'email', 'cantidad_establecimientos',\n",
       "       'organizacion_juridica', 'clase_generica_esal',\n",
       "       'fec_inicio_actividad_ppal', 'num_doc', 'fec_doc', 'id_munip_doc',\n",
       "       'rep_legal', 'tipo_id_replegal', 'num_id_replegal', 'rep_legal_sup',\n",
       "       'tipo_id_replegal_sup', 'num_id_replegal_sup', 'revisor_fiscal',\n",
       "       'tipo_id_revisor', 'num_id_revisor', 'fec_vigencia',\n",
       "       'importador_exportador', 'estado_matricula', 'fec_cancelacion',\n",
       "       'tipo_disolucion', 'fec_disolucion', 'fec_renova', 'ano_renova',\n",
       "       'numero_empleados', 'activo_corriente', 'activo_no_corriente',\n",
       "       'activo_total', 'pasivo_corriente', 'pasivo_no_corriente',\n",
       "       'pasivo_total', 'patrimonio_neto', 'pasivo_mas_patrimonio',\n",
       "       'balance_social', 'ingreso_actividad_ordinaria', 'otros_ingresos',\n",
       "       'costo_ventas', 'gastos_operacionales', 'otros_gastos',\n",
       "       'gatos_impuestos', 'utilidad_perdida_operacional', 'resultado_periodo',\n",
       "       'tamano_activos', 'tamano_ingresos', 'pct_nal_total', 'pct_nal_privado',\n",
       "       'pct_nal_publico', 'pct_ext_total', 'pct_ext_privado',\n",
       "       'pct_ext_publico', 'vr_cap_autoriza', 'vr_cap_suscrito',\n",
       "       'vr_cap_pagado', 'vr_cap_social', 'ciiu_1', 'ciiu_2', 'ciiu_3',\n",
       "       'ciiu_4', 'direccion', 'estado', 'dirtrad', 'diraprox',\n",
       "       'tipo_direccion', 'codloc', 'localidad', 'codupz', 'nomupz',\n",
       "       'codseccat', 'nomseccat', 'cpocodigo', 'mancodigo', 'lotcodigo',\n",
       "       'longitude', 'latitude', 'primero', 'inicial', 'año_matricula',\n",
       "       'div_ciiu', 'sectores_pib', 'sectores_14', 'año_cancelacion',\n",
       "       'macro_sec', 'vigencia'],\n",
       "      dtype='object')"
      ]
     },
     "execution_count": 7,
     "metadata": {},
     "output_type": "execute_result"
    }
   ],
   "source": [
    "CCB_21.columns"
   ]
  },
  {
   "cell_type": "code",
   "execution_count": 6,
   "metadata": {},
   "outputs": [
    {
     "data": {
      "text/plain": [
       "                   619286\n",
       "9002654083             48\n",
       "000000003227092        45\n",
       "000001069726096        36\n",
       "000001023899716        35\n",
       "                    ...  \n",
       "000000019494133         1\n",
       "000000052783194         1\n",
       "000001129571442         1\n",
       "000000080196790         1\n",
       "80398769                1\n",
       "Name: num_id_replegal, Length: 289150, dtype: int64"
      ]
     },
     "execution_count": 6,
     "metadata": {},
     "output_type": "execute_result"
    }
   ],
   "source": [
    "CCB_21[\"num_id_replegal\"].value_counts()"
   ]
  },
  {
   "cell_type": "code",
   "execution_count": 11,
   "metadata": {},
   "outputs": [],
   "source": [
    "#seleccionar variables necesarias y filtrar por año de matricula 2021. \n",
    "msk1 = CCB_21[\"año_matricula\"]==2021\n",
    "CCB_21a = CCB_21[msk1==True]"
   ]
  },
  {
   "cell_type": "code",
   "execution_count": 8,
   "metadata": {},
   "outputs": [],
   "source": [
    "#variables\n",
    "var = [\"num_matricula\", \"vigencia\", \"fec_matricula\", \"año_matricula\", \"fec_vigencia\",\n",
    "                   \"fec_cancelacion\",\"año_cancelacion\",\"tipo_disolucion\",\"fec_disolucion\", \"fec_renova\",\n",
    "                   \"ano_renova\", \"nombre\", \"tipo_persona\", \"direccion_comercial\", \n",
    "                   \"id_municipio_comercial\", \"cantidad_establecimientos\",\n",
    "                   \"organizacion_juridica\", \"rep_legal\", \"tipo_id_replegal\", \"estado_matricula\",\n",
    "                   \"resultado_periodo\", \"utilidad_perdida_operacional\",\n",
    "                   \"activo_total\", \"pasivo_total\", \"patrimonio_neto\", \"tamano_activos\", \"tamano_ingresos\",\n",
    "                   \"numero_empleados\",\"importador_exportador\", \"ciiu_1\", \"sectores_pib\",\"sectores_14\",\n",
    "                   \"macro_sec\",  \"codloc\", \"localidad\", \"codupz\", \"nomupz\", \"longitude\",\"latitude\"]"
   ]
  },
  {
   "cell_type": "code",
   "execution_count": 296,
   "metadata": {},
   "outputs": [],
   "source": [
    "##seleccionar solo las variables deseadas\n",
    "CCB_21a = CCB_21[var]"
   ]
  },
  {
   "cell_type": "code",
   "execution_count": 297,
   "metadata": {},
   "outputs": [],
   "source": [
    "CCB_21a.to_csv(\"G:/Unidades compartidas/Datos y procesamientos 2023/CCB/Datos/3_Clean/CCB_21.csv\",\n",
    "             sep = ';', index = False, date_format= \"yyyy-mm-dd\")"
   ]
  },
  {
   "cell_type": "markdown",
   "metadata": {},
   "source": [
    "#### 2020"
   ]
  },
  {
   "cell_type": "code",
   "execution_count": 340,
   "metadata": {},
   "outputs": [],
   "source": [
    "#2020\n",
    "CCB_20= pd.read_stata(p2)"
   ]
  },
  {
   "cell_type": "code",
   "execution_count": 108,
   "metadata": {},
   "outputs": [],
   "source": [
    "#filtro 2020\n",
    "msk2 = CCB_20[\"año_matricula\"]==2020\n",
    "CCB_20a = CCB_20[msk2==True]"
   ]
  },
  {
   "cell_type": "code",
   "execution_count": 341,
   "metadata": {},
   "outputs": [],
   "source": [
    "CCB_20.rename(columns={\"nro_matricula\":\"num_matricula\"}, inplace = True)"
   ]
  },
  {
   "cell_type": "code",
   "execution_count": 374,
   "metadata": {},
   "outputs": [],
   "source": [
    "#EXTRACCIÓN VARIABLES 2020\n",
    "CCB_20a = CCB_20[var]"
   ]
  },
  {
   "cell_type": "code",
   "execution_count": 370,
   "metadata": {},
   "outputs": [],
   "source": [
    "#para pasar de float a entero no deben existir nulos\n",
    "#CCB_20a[\"año_cancelacion\"]  = CCB_20a[\"año_cancelacion\"].fillna(-1).astype(\"int32\")"
   ]
  },
  {
   "cell_type": "code",
   "execution_count": 459,
   "metadata": {},
   "outputs": [],
   "source": [
    "#del CCB_20a"
   ]
  },
  {
   "cell_type": "code",
   "execution_count": 375,
   "metadata": {},
   "outputs": [],
   "source": [
    "CCB_20a.to_csv(\"G:/Unidades compartidas/Datos y procesamientos 2023/CCB/Datos/3_Clean/CCB_20.csv\",\n",
    "             sep = ';', index = False, date_format= \"yyyy-mm-dd\", decimal=\",\")"
   ]
  },
  {
   "cell_type": "markdown",
   "metadata": {},
   "source": [
    "#### 2019"
   ]
  },
  {
   "cell_type": "code",
   "execution_count": 382,
   "metadata": {},
   "outputs": [],
   "source": [
    "#2019\n",
    "CCB_19= pd.read_stata(p3)"
   ]
  },
  {
   "cell_type": "code",
   "execution_count": 102,
   "metadata": {},
   "outputs": [],
   "source": [
    "#filtro 2019\n",
    "msk3 = CCB_19[\"año_matricula\"]==2019\n",
    "CCB_19a = CCB_19[msk3==True]"
   ]
  },
  {
   "cell_type": "code",
   "execution_count": 383,
   "metadata": {
    "scrolled": true
   },
   "outputs": [],
   "source": [
    "CCB_19.rename(columns={\"nro_matricula\":\"num_matricula\"}, inplace = True)"
   ]
  },
  {
   "cell_type": "code",
   "execution_count": 384,
   "metadata": {},
   "outputs": [],
   "source": [
    "#EXTRACCIÓN VARIABLES 2019\n",
    "CCB_19a = CCB_19[var]"
   ]
  },
  {
   "cell_type": "code",
   "execution_count": 387,
   "metadata": {},
   "outputs": [],
   "source": [
    "del CCB_19a"
   ]
  },
  {
   "cell_type": "code",
   "execution_count": 385,
   "metadata": {},
   "outputs": [],
   "source": [
    "CCB_19a.to_csv(\"G:/Unidades compartidas/Datos y procesamientos 2023/CCB/Datos/3_Clean/CCB_19.csv\",\n",
    "             sep = ';', index = False, date_format= \"yyyy-mm-dd\", decimal=\",\")"
   ]
  },
  {
   "cell_type": "code",
   "execution_count": 335,
   "metadata": {
    "scrolled": false
   },
   "outputs": [
    {
     "name": "stdout",
     "output_type": "stream",
     "text": [
      "<class 'pandas.core.frame.DataFrame'>\n",
      "Int64Index: 865856 entries, 0 to 865855\n",
      "Data columns (total 39 columns):\n",
      " #   Column                        Non-Null Count   Dtype  \n",
      "---  ------                        --------------   -----  \n",
      " 0   num_matricula                 865852 non-null  float64\n",
      " 1   vigencia                      865856 non-null  object \n",
      " 2   fec_matricula                 865856 non-null  int32  \n",
      " 3   año_matricula                 865856 non-null  float64\n",
      " 4   fec_vigencia                  58515 non-null   float64\n",
      " 5   fec_cancelacion               231302 non-null  float64\n",
      " 6   año_cancelacion               231302 non-null  float64\n",
      " 7   tipo_disolucion               0 non-null       float64\n",
      " 8   fec_disolucion                10996 non-null   float64\n",
      " 9   fec_renova                    865856 non-null  int32  \n",
      " 10  ano_renova                    865856 non-null  int16  \n",
      " 11  nombre                        865856 non-null  object \n",
      " 12  tipo_persona                  865856 non-null  int8   \n",
      " 13  direccion_comercial           865856 non-null  object \n",
      " 14  id_municipio_comercial        865856 non-null  int16  \n",
      " 15  cantidad_establecimientos     865856 non-null  int16  \n",
      " 16  organizacion_juridica         865856 non-null  object \n",
      " 17  rep_legal                     865856 non-null  object \n",
      " 18  tipo_id_replegal              865856 non-null  object \n",
      " 19  estado_matricula              865856 non-null  object \n",
      " 20  resultado_periodo             859959 non-null  float64\n",
      " 21  utilidad_perdida_operacional  864776 non-null  float64\n",
      " 22  activo_total                  865845 non-null  float64\n",
      " 23  pasivo_total                  864765 non-null  float64\n",
      " 24  patrimonio_neto               865234 non-null  float64\n",
      " 25  tamano_activos                865856 non-null  object \n",
      " 26  tamano_ingresos               865856 non-null  object \n",
      " 27  numero_empleados              864611 non-null  float64\n",
      " 28  importador_exportador         865856 non-null  object \n",
      " 29  ciiu_1                        859520 non-null  float64\n",
      " 30  sectores_pib                  865856 non-null  object \n",
      " 31  sectores_14                   865856 non-null  object \n",
      " 32  macro_sec                     865856 non-null  object \n",
      " 33  codloc                        802941 non-null  float64\n",
      " 34  localidad                     865856 non-null  object \n",
      " 35  codupz                        865856 non-null  object \n",
      " 36  nomupz                        865856 non-null  object \n",
      " 37  longitude                     802948 non-null  float64\n",
      " 38  latitude                      802948 non-null  float64\n",
      "dtypes: float64(17), int16(3), int32(2), int8(1), object(16)\n",
      "memory usage: 237.0+ MB\n"
     ]
    }
   ],
   "source": [
    "#CCB_19a.info() ## 2021: 963126 datos, 97 variable; 2020: 865856, 104 variables; 2019"
   ]
  },
  {
   "cell_type": "code",
   "execution_count": 112,
   "metadata": {},
   "outputs": [],
   "source": [
    "#reindexar\n",
    "frames = [CCB_21a, CCB_20a, CCB_19a]\n",
    "for i in frames:\n",
    "    i.reset_index(drop=True, inplace=True)"
   ]
  },
  {
   "cell_type": "code",
   "execution_count": 113,
   "metadata": {},
   "outputs": [],
   "source": [
    "#concatenar\n",
    "CBB_19_21 = pd.concat(frames, axis = 0, join = 'outer', sort = False)"
   ]
  },
  {
   "cell_type": "code",
   "execution_count": 394,
   "metadata": {},
   "outputs": [],
   "source": [
    "#exportar a cvs para visor\n",
    "CBB_19_21.to_csv(\"G:/Unidades compartidas/Datos y procesamientos 2023/CCB/Datos/3_Clean/CCB_19_21.csv\",\n",
    "                 sep = ';', index = False, date_format= \"yyyy-mm-dd\")"
   ]
  },
  {
   "cell_type": "markdown",
   "metadata": {},
   "source": [
    "#### cargue de la base procesada de creación de empresas"
   ]
  },
  {
   "cell_type": "code",
   "execution_count": 3,
   "metadata": {},
   "outputs": [],
   "source": [
    "p4= \"G:/Unidades compartidas/Datos y procesamientos 2023/CCB/Datos/3_Clean/CCB_19_21.csv\""
   ]
  },
  {
   "cell_type": "code",
   "execution_count": 389,
   "metadata": {},
   "outputs": [],
   "source": [
    "ccb_f= pd.read_csv(p4, sep = \";\", low_memory=False)"
   ]
  },
  {
   "cell_type": "code",
   "execution_count": 395,
   "metadata": {},
   "outputs": [
    {
     "data": {
      "text/plain": [
       "0    4.600717\n",
       "1    4.623026\n",
       "2    4.599316\n",
       "3    4.704900\n",
       "4    4.765529\n",
       "Name: latitude, dtype: float64"
      ]
     },
     "execution_count": 395,
     "metadata": {},
     "output_type": "execute_result"
    }
   ],
   "source": [
    "ccb_f[\"latitude\"].head()"
   ]
  },
  {
   "cell_type": "code",
   "execution_count": 396,
   "metadata": {},
   "outputs": [],
   "source": [
    "ccb_f = ccb_f[var]"
   ]
  },
  {
   "cell_type": "code",
   "execution_count": 397,
   "metadata": {},
   "outputs": [
    {
     "data": {
      "text/plain": [
       "Index(['num_matricula', 'vigencia', 'fec_matricula', 'año_matricula',\n",
       "       'fec_vigencia', 'fec_cancelacion', 'año_cancelacion', 'tipo_disolucion',\n",
       "       'fec_disolucion', 'fec_renova', 'ano_renova', 'nombre', 'tipo_persona',\n",
       "       'direccion_comercial', 'id_municipio_comercial',\n",
       "       'cantidad_establecimientos', 'organizacion_juridica', 'rep_legal',\n",
       "       'tipo_id_replegal', 'estado_matricula', 'resultado_periodo',\n",
       "       'utilidad_perdida_operacional', 'activo_total', 'pasivo_total',\n",
       "       'patrimonio_neto', 'tamano_activos', 'tamano_ingresos',\n",
       "       'numero_empleados', 'importador_exportador', 'ciiu_1', 'sectores_pib',\n",
       "       'sectores_14', 'macro_sec', 'codloc', 'localidad', 'codupz', 'nomupz',\n",
       "       'longitude', 'latitude'],\n",
       "      dtype='object')"
      ]
     },
     "execution_count": 397,
     "metadata": {},
     "output_type": "execute_result"
    }
   ],
   "source": [
    "ccb_f.columns"
   ]
  },
  {
   "cell_type": "code",
   "execution_count": 270,
   "metadata": {},
   "outputs": [
    {
     "data": {
      "text/plain": [
       "estado_matricula\n",
       "MA                  211577\n",
       "MC                    1723\n",
       "IA                    1452\n",
       "IC                       7\n",
       "dtype: int64"
      ]
     },
     "execution_count": 270,
     "metadata": {},
     "output_type": "execute_result"
    }
   ],
   "source": [
    "ccb_f[['estado_matricula']].value_counts()"
   ]
  },
  {
   "cell_type": "code",
   "execution_count": 10,
   "metadata": {
    "scrolled": false
   },
   "outputs": [
    {
     "data": {
      "text/plain": [
       "MA    78904\n",
       "Name: estado_matricula, dtype: int64"
      ]
     },
     "execution_count": 10,
     "metadata": {},
     "output_type": "execute_result"
    }
   ],
   "source": [
    "ccb_f[ccb_f['año_matricula']==2019]['estado_matricula'].value_counts()"
   ]
  },
  {
   "cell_type": "code",
   "execution_count": 34,
   "metadata": {
    "scrolled": true
   },
   "outputs": [
    {
     "data": {
      "text/html": [
       "<div>\n",
       "<style scoped>\n",
       "    .dataframe tbody tr th:only-of-type {\n",
       "        vertical-align: middle;\n",
       "    }\n",
       "\n",
       "    .dataframe tbody tr th {\n",
       "        vertical-align: top;\n",
       "    }\n",
       "\n",
       "    .dataframe thead th {\n",
       "        text-align: right;\n",
       "    }\n",
       "</style>\n",
       "<table border=\"1\" class=\"dataframe\">\n",
       "  <thead>\n",
       "    <tr style=\"text-align: right;\">\n",
       "      <th></th>\n",
       "      <th>estado_matricula</th>\n",
       "      <th>fec_matricula</th>\n",
       "      <th>fec_cancelacion</th>\n",
       "      <th>fec_renova</th>\n",
       "      <th>vigencia</th>\n",
       "      <th>ano_renova</th>\n",
       "    </tr>\n",
       "  </thead>\n",
       "  <tbody>\n",
       "    <tr>\n",
       "      <th>71908</th>\n",
       "      <td>MC</td>\n",
       "      <td>20210813</td>\n",
       "      <td>20210824.0</td>\n",
       "      <td>20210813.0</td>\n",
       "      <td>Vigente</td>\n",
       "      <td>2021.0</td>\n",
       "    </tr>\n",
       "    <tr>\n",
       "      <th>71909</th>\n",
       "      <td>MC</td>\n",
       "      <td>20210301</td>\n",
       "      <td>20210615.0</td>\n",
       "      <td>20210301.0</td>\n",
       "      <td>Vigente</td>\n",
       "      <td>2021.0</td>\n",
       "    </tr>\n",
       "    <tr>\n",
       "      <th>71910</th>\n",
       "      <td>MC</td>\n",
       "      <td>20210809</td>\n",
       "      <td>20211129.0</td>\n",
       "      <td>20210809.0</td>\n",
       "      <td>Vigente</td>\n",
       "      <td>2021.0</td>\n",
       "    </tr>\n",
       "    <tr>\n",
       "      <th>71911</th>\n",
       "      <td>MC</td>\n",
       "      <td>20210121</td>\n",
       "      <td>20210413.0</td>\n",
       "      <td>20210121.0</td>\n",
       "      <td>Vigente</td>\n",
       "      <td>2021.0</td>\n",
       "    </tr>\n",
       "    <tr>\n",
       "      <th>71912</th>\n",
       "      <td>MC</td>\n",
       "      <td>20210319</td>\n",
       "      <td>20210405.0</td>\n",
       "      <td>20210319.0</td>\n",
       "      <td>Vigente</td>\n",
       "      <td>2021.0</td>\n",
       "    </tr>\n",
       "    <tr>\n",
       "      <th>...</th>\n",
       "      <td>...</td>\n",
       "      <td>...</td>\n",
       "      <td>...</td>\n",
       "      <td>...</td>\n",
       "      <td>...</td>\n",
       "      <td>...</td>\n",
       "    </tr>\n",
       "    <tr>\n",
       "      <th>135850</th>\n",
       "      <td>MC</td>\n",
       "      <td>20200303</td>\n",
       "      <td>20200813.0</td>\n",
       "      <td>20200303.0</td>\n",
       "      <td>Vigente</td>\n",
       "      <td>2020.0</td>\n",
       "    </tr>\n",
       "    <tr>\n",
       "      <th>135851</th>\n",
       "      <td>MC</td>\n",
       "      <td>20200310</td>\n",
       "      <td>20201120.0</td>\n",
       "      <td>20200310.0</td>\n",
       "      <td>Vigente</td>\n",
       "      <td>2020.0</td>\n",
       "    </tr>\n",
       "    <tr>\n",
       "      <th>135852</th>\n",
       "      <td>MC</td>\n",
       "      <td>20200316</td>\n",
       "      <td>20201215.0</td>\n",
       "      <td>20200316.0</td>\n",
       "      <td>Vigente</td>\n",
       "      <td>2020.0</td>\n",
       "    </tr>\n",
       "    <tr>\n",
       "      <th>135853</th>\n",
       "      <td>MC</td>\n",
       "      <td>20200429</td>\n",
       "      <td>20200929.0</td>\n",
       "      <td>20200429.0</td>\n",
       "      <td>Vigente</td>\n",
       "      <td>2020.0</td>\n",
       "    </tr>\n",
       "    <tr>\n",
       "      <th>135854</th>\n",
       "      <td>MC</td>\n",
       "      <td>20200731</td>\n",
       "      <td>20200907.0</td>\n",
       "      <td>20200731.0</td>\n",
       "      <td>Vigente</td>\n",
       "      <td>2020.0</td>\n",
       "    </tr>\n",
       "  </tbody>\n",
       "</table>\n",
       "<p>1723 rows × 6 columns</p>\n",
       "</div>"
      ],
      "text/plain": [
       "       estado_matricula  fec_matricula  fec_cancelacion  fec_renova vigencia  \\\n",
       "71908                MC       20210813       20210824.0  20210813.0  Vigente   \n",
       "71909                MC       20210301       20210615.0  20210301.0  Vigente   \n",
       "71910                MC       20210809       20211129.0  20210809.0  Vigente   \n",
       "71911                MC       20210121       20210413.0  20210121.0  Vigente   \n",
       "71912                MC       20210319       20210405.0  20210319.0  Vigente   \n",
       "...                 ...            ...              ...         ...      ...   \n",
       "135850               MC       20200303       20200813.0  20200303.0  Vigente   \n",
       "135851               MC       20200310       20201120.0  20200310.0  Vigente   \n",
       "135852               MC       20200316       20201215.0  20200316.0  Vigente   \n",
       "135853               MC       20200429       20200929.0  20200429.0  Vigente   \n",
       "135854               MC       20200731       20200907.0  20200731.0  Vigente   \n",
       "\n",
       "        ano_renova  \n",
       "71908       2021.0  \n",
       "71909       2021.0  \n",
       "71910       2021.0  \n",
       "71911       2021.0  \n",
       "71912       2021.0  \n",
       "...            ...  \n",
       "135850      2020.0  \n",
       "135851      2020.0  \n",
       "135852      2020.0  \n",
       "135853      2020.0  \n",
       "135854      2020.0  \n",
       "\n",
       "[1723 rows x 6 columns]"
      ]
     },
     "execution_count": 34,
     "metadata": {},
     "output_type": "execute_result"
    }
   ],
   "source": [
    "#la variable vigencia presenta problemas ya que el estado de matrícula aparece cancelado pero también aparece como vigente, pues no se controla por la fecha de cancelación. \n",
    "#para la variable vigente se debe incoporar la condición de que el Estado de matricula sea MA\n",
    "ccb_f[ccb_f['estado_matricula']==\"MC\"][['estado_matricula','fec_matricula', 'fec_cancelacion', 'fec_renova','vigencia','ano_renova']]"
   ]
  },
  {
   "cell_type": "code",
   "execution_count": 398,
   "metadata": {},
   "outputs": [],
   "source": [
    "#exportar a cvs para visor con coma como separadpr de decimales \n",
    "ccb_f.to_csv(\"G:/Unidades compartidas/Datos y procesamientos 2023/CCB/Datos/3_Clean/CCB_19_21.csv\",\n",
    "             sep = ';', index = False, date_format= \"yyyy-mm-dd\", decimal=\",\")"
   ]
  },
  {
   "cell_type": "markdown",
   "metadata": {},
   "source": [
    "### Cancelación de empresas"
   ]
  },
  {
   "cell_type": "code",
   "execution_count": 426,
   "metadata": {},
   "outputs": [],
   "source": [
    "paths = [p3, p2, p1]\n",
    "per = [2019, 2020, 2021]\n",
    "\n",
    "for i, j, k in zip(paths, range(19,22), per):\n",
    "    exec('CCB_{}= pd.read_stata(i)'.format(j))\n",
    "    exec('msk = CCB_{}[\"año_cancelacion\"]== k'.format(j))\n",
    "    exec('CCB_{}a = CCB_{}[msk==True]'.format(j,j))\n",
    "    exec('del CCB_{}'.format(j))\n",
    "    exec('CCB_{}a.reset_index(drop =True, inplace = True)'.format(j)) "
   ]
  },
  {
   "cell_type": "code",
   "execution_count": 427,
   "metadata": {},
   "outputs": [],
   "source": [
    "#cambiar nombres de variables\n",
    "for l in range(19,21):\n",
    "    names = {'nro_matricula':'num_matricula'}\n",
    "    exec('CCB_{}a = CCB_{}a.rename(columns= names)'.format(l,l))"
   ]
  },
  {
   "cell_type": "code",
   "execution_count": 429,
   "metadata": {},
   "outputs": [],
   "source": [
    "#sustraer variables \n",
    "for j in range(19,22):\n",
    "    exec('CCB_{}a = CCB_{}a[var]'.format(j,j))"
   ]
  },
  {
   "cell_type": "code",
   "execution_count": 430,
   "metadata": {},
   "outputs": [],
   "source": [
    "frames = [CCB_19a, CCB_20a,CCB_21a]\n",
    "#concatenar\n",
    "CBB_19_21_canceladas = pd.concat(frames, axis = 0, join = 'outer', sort = False)"
   ]
  },
  {
   "cell_type": "code",
   "execution_count": 432,
   "metadata": {},
   "outputs": [],
   "source": [
    "#crear variable canceladas\n",
    "CBB_19_21_canceladas.insert(39, \"tipo empresa\", \"canceladas\")"
   ]
  },
  {
   "cell_type": "code",
   "execution_count": 437,
   "metadata": {},
   "outputs": [],
   "source": [
    "#exportar a cvs para visor\n",
    "CBB_19_21_canceladas.to_csv(\"G:/Unidades compartidas/Datos y procesamientos 2023/CCB/Datos/3_Clean/CCB_19_21_cancel.csv\",\n",
    "             sep = ';', index = False, date_format= \"yyyy-mm-dd\", decimal = \",\")"
   ]
  },
  {
   "cell_type": "code",
   "execution_count": 444,
   "metadata": {
    "scrolled": true
   },
   "outputs": [
    {
     "data": {
      "text/plain": [
       "2021.0    42313\n",
       "2020.0    41528\n",
       "2019.0    37526\n",
       "Name: año_cancelacion, dtype: int64"
      ]
     },
     "execution_count": 444,
     "metadata": {},
     "output_type": "execute_result"
    }
   ],
   "source": [
    "#matriculas canceladas por año\n",
    "CBB_19_21_canceladas[CBB_19_21_canceladas['estado_matricula']==\"MC\"][\"año_cancelacion\"].value_counts()"
   ]
  },
  {
   "cell_type": "code",
   "execution_count": 449,
   "metadata": {},
   "outputs": [],
   "source": [
    "#borrar elemntos para obterner más ram\n",
    "#del CCB_19a\n",
    "#del CCB_20a\n",
    "#del CCB_21a\n",
    "# del frames\n",
    "# del CBB_19_21_canceladas"
   ]
  },
  {
   "cell_type": "markdown",
   "metadata": {},
   "source": [
    "#### Renovación de empresas"
   ]
  },
  {
   "cell_type": "code",
   "execution_count": 464,
   "metadata": {},
   "outputs": [],
   "source": [
    "paths = [p3, p2, p1]\n",
    "per = [2019, 2020, 2021]\n",
    "\n",
    "for i, j, k in zip(paths, range(19,22), per):\n",
    "    exec('CCB_{}= pd.read_stata(i)'.format(j))\n",
    "    exec('msk = CCB_{}[\"ano_renova\"]== k'.format(j))\n",
    "    exec('CCB_{}ar = CCB_{}[msk==True]'.format(j,j))\n",
    "    exec('del CCB_{}'.format(j))\n",
    "    exec('CCB_{}ar.reset_index(drop =True, inplace = True)'.format(j)) "
   ]
  },
  {
   "cell_type": "code",
   "execution_count": 465,
   "metadata": {},
   "outputs": [],
   "source": [
    "#cambiar nombres de variables\n",
    "for l in range(19,21):\n",
    "    names = {'nro_matricula':'num_matricula'}\n",
    "    exec('CCB_{}ar = CCB_{}ar.rename(columns= names)'.format(l,l))"
   ]
  },
  {
   "cell_type": "code",
   "execution_count": 466,
   "metadata": {},
   "outputs": [],
   "source": [
    "#sustraer variables \n",
    "for j in range(19,22):\n",
    "    exec('CCB_{}ar = CCB_{}ar[var]'.format(j,j))"
   ]
  },
  {
   "cell_type": "code",
   "execution_count": 467,
   "metadata": {},
   "outputs": [],
   "source": [
    "framesr = [CCB_19ar, CCB_20ar,CCB_21ar]\n",
    "#concatenar\n",
    "CBB_19_21_renovadas = pd.concat(framesr, axis = 0, join = 'outer', sort = False)"
   ]
  },
  {
   "cell_type": "code",
   "execution_count": 468,
   "metadata": {},
   "outputs": [],
   "source": [
    "#crear variable canceladas\n",
    "CBB_19_21_renovadas.insert(39, \"tipo empresa\", \"renovadas\")"
   ]
  },
  {
   "cell_type": "code",
   "execution_count": 469,
   "metadata": {},
   "outputs": [],
   "source": [
    "#exportar a cvs para visor\n",
    "CBB_19_21_renovadas.to_csv(\"G:/Unidades compartidas/Datos y procesamientos 2023/CCB/Datos/3_Clean/CCB_19_21_reno.csv\",\n",
    "             sep = ';', index = False, date_format= \"yyyy-mm-dd\", decimal = \",\")"
   ]
  },
  {
   "cell_type": "code",
   "execution_count": 471,
   "metadata": {},
   "outputs": [
    {
     "data": {
      "text/plain": [
       "2019.0    441715\n",
       "2021.0    405380\n",
       "2020.0    387217\n",
       "Name: ano_renova, dtype: int64"
      ]
     },
     "execution_count": 471,
     "metadata": {},
     "output_type": "execute_result"
    }
   ],
   "source": [
    "#matriculas canceladas por año\n",
    "CBB_19_21_renovadas[CBB_19_21_renovadas['estado_matricula']==\"MA\"][\"ano_renova\"].value_counts()"
   ]
  },
  {
   "cell_type": "code",
   "execution_count": 473,
   "metadata": {},
   "outputs": [],
   "source": [
    "#borrar elemntos para obterner más ram\n",
    "# del CCB_19ar\n",
    "# del CCB_20ar\n",
    "# del CCB_21ar\n",
    "# del framesr\n",
    "# del CBB_19_21_renovadas"
   ]
  },
  {
   "cell_type": "markdown",
   "metadata": {},
   "source": [
    "### Cargar bases creadas, canceladas y renovadas"
   ]
  },
  {
   "cell_type": "code",
   "execution_count": 4,
   "metadata": {},
   "outputs": [],
   "source": [
    "p4= \"G:/Unidades compartidas/Datos y procesamientos 2023/CCB/Datos/3_Clean/CCB_19_21.csv\"\n",
    "p5 = \"G:/Unidades compartidas/Datos y procesamientos 2023/CCB/Datos/3_Clean/CCB_19_21_cancel.csv\"\n",
    "p6 = \"G:/Unidades compartidas/Datos y procesamientos 2023/CCB/Datos/3_Clean/CCB_19_21_reno.csv\""
   ]
  },
  {
   "cell_type": "code",
   "execution_count": 5,
   "metadata": {},
   "outputs": [],
   "source": [
    "paths2 = [p4, p5, p6]\n",
    "l1 = [\"cr\", \"can\", \"re\"]\n",
    "for i, j in zip(paths2, l1):\n",
    "    exec('CCB_{}= pd.read_csv(i, sep = \";\", low_memory=False, decimal= \",\")'.format(j))"
   ]
  },
  {
   "cell_type": "code",
   "execution_count": 6,
   "metadata": {},
   "outputs": [],
   "source": [
    "#crear variable canceladas\n",
    "CCB_cr.insert(39, \"tipo empresa\", \"creadas\")"
   ]
  },
  {
   "cell_type": "code",
   "execution_count": 7,
   "metadata": {},
   "outputs": [],
   "source": [
    "framesp = [CCB_cr, CCB_can,CCB_re]\n",
    "#concatenar\n",
    "CBB_19_21_cr_can_re = pd.concat(framesp, axis = 0, join = 'outer', sort = False)"
   ]
  },
  {
   "cell_type": "code",
   "execution_count": 10,
   "metadata": {},
   "outputs": [
    {
     "data": {
      "text/plain": [
       "renovadas     1273844\n",
       "creadas        214759\n",
       "canceladas     121752\n",
       "Name: tipo empresa, dtype: int64"
      ]
     },
     "execution_count": 10,
     "metadata": {},
     "output_type": "execute_result"
    }
   ],
   "source": [
    "CBB_19_21_cr_can_re[\"tipo empresa\"].value_counts()"
   ]
  },
  {
   "cell_type": "code",
   "execution_count": null,
   "metadata": {},
   "outputs": [],
   "source": [
    "CBB_19_21_cr_can_re.info()"
   ]
  },
  {
   "cell_type": "code",
   "execution_count": 11,
   "metadata": {},
   "outputs": [],
   "source": [
    "#exportar a cvs para visor\n",
    "CBB_19_21_cr_can_re.to_csv(\"G:/Unidades compartidas/Datos y procesamientos 2023/CCB/Datos/3_Clean/CBB_19_21_cr_can_re.csv\",\n",
    "             sep = ';', index = False, date_format= \"yyyy-mm-dd\", decimal = \",\")"
   ]
  },
  {
   "cell_type": "markdown",
   "metadata": {},
   "source": [
    "### Procesar corte 2022"
   ]
  },
  {
   "cell_type": "code",
   "execution_count": 3,
   "metadata": {},
   "outputs": [],
   "source": [
    "p7 =  \"G:/Unidades compartidas/Datos y procesamientos 2023/CCB/Datos/3_Clean/MA_AUG2022.csv\" \n",
    "p8 = \"G:/Unidades compartidas/Datos y procesamientos 2023/CCB/Datos/3_Clean/G:/Unidades compartidas/Datos y procesamientos 2023/CCB/Datos/3_Clean/MC_AUG2022.csv\""
   ]
  },
  {
   "cell_type": "code",
   "execution_count": 4,
   "metadata": {},
   "outputs": [],
   "source": [
    "#cargar base\n",
    "#CCB_22 = pd.read_csv(p7, sep = \";\", low_memory=False, decimal= \",\")\n",
    "#nombres de columnas a minusculas\n",
    "#CCB_22.columns = CCB_22.columns.str.lower() #df= df.rename(columns=str.lower)\n",
    "#CCB_22prueba[[\"ano_renova\", \"utilidad_perdida_operacional\", \"activo_total\",\"resultado_periodo\", \"patrimonio_neto\"]].head(20)\n",
    "#CCB_22['vigencia'].value_counts()\n",
    "#CCB_22.rename(columns = names, inplace =True)\n",
    "#print(list(CCB_22.columns)) # \"loccodigo\":\"codloc\", \"locnombre\":\"localidad\""
   ]
  },
  {
   "cell_type": "code",
   "execution_count": 5,
   "metadata": {},
   "outputs": [],
   "source": [
    "##renombrar variables\n",
    "names = {\"nro_matricula\":\"num_matricula\", \"ano_cancelacion\": \"año_cancelacion\", \n",
    "         \"ano_creacion\":\"año_matricula\", \"loccodigo\":\"codloc\", \"locnombre\":\"localidad\",\n",
    "         \"cod_upz\":\"codupz\", \"nom_upz\":\"nomupz\"}"
   ]
  },
  {
   "cell_type": "code",
   "execution_count": 6,
   "metadata": {},
   "outputs": [],
   "source": [
    "### se deben crear las variables: \"sectores_pib\",\"sectores_14\",\"macro_sec\" despues de concatenar la base MA y MC\n",
    "var2 = [\"num_matricula\", \"vigencia\", \"fec_matricula\", \"año_matricula\", \"fec_vigencia\",\n",
    "                   \"fec_cancelacion\",\"año_cancelacion\",\"tipo_disolucion\",\"fec_disolucion\", \"fec_renova\",\n",
    "                   \"ano_renova\", \"nombre\", \"tipo_persona\", \"direccion_comercial\", \n",
    "                   \"id_municipio_comercial\", \"cantidad_establecimientos\",\n",
    "                   \"organizacion_juridica\", \"rep_legal\", \"tipo_id_replegal\", \"estado_matricula\",\n",
    "                   \"resultado_periodo\", \"utilidad_perdida_operacional\",\n",
    "                   \"activo_total\", \"pasivo_total\", \"patrimonio_neto\", \"tamano_activos\", \"tamano_ingresos\",\n",
    "                   \"numero_empleados\",\"importador_exportador\", \"ciiu_1\", \"codloc\", \"localidad\", \"codupz\", \"nomupz\", \"longitude\",\"latitude\", \"sexo\"]"
   ]
  },
  {
   "cell_type": "code",
   "execution_count": 7,
   "metadata": {},
   "outputs": [],
   "source": [
    "# cargar ma y mc 2022, esandarizar variables, subset y eliminación de objetos primarios\n",
    "paths3 = [p7, p8]\n",
    "l2 = [\"MA\", \"MC\"]\n",
    "for i, j in zip(paths3, l2):\n",
    "    exec('CCB_22{}= pd.read_csv(i, sep = \";\", low_memory=False, decimal= \",\")'.format(j))\n",
    "    exec('CCB_22{}.columns = CCB_22{}.columns.str.lower()'.format(j,j))\n",
    "    exec('CCB_22{} = CCB_22{}.rename(columns= names)'.format(j,j))\n",
    "    exec('CCB_22{}a = CCB_22{}[var2]'.format(j,j))\n",
    "    exec('del CCB_22{}'.format(j))"
   ]
  },
  {
   "cell_type": "code",
   "execution_count": 8,
   "metadata": {},
   "outputs": [],
   "source": [
    "#concatenar\n",
    "frames_22 = [CCB_22MAa, CCB_22MCa]\n",
    "CCB_22 = pd.concat(frames_22)"
   ]
  },
  {
   "cell_type": "code",
   "execution_count": 10,
   "metadata": {},
   "outputs": [],
   "source": [
    "##crear variables faltantes\n",
    "CCB_22[\"div_ciiu\"] = np.trunc(CCB_22[\"ciiu_1\"]/100)\n",
    "CCB_22[\"div_ciiu\"] = CCB_22[\"div_ciiu\"].astype(\"Int8\", errors='ignore')\n",
    "CCB_22[\"div_ciiu\"] = pd.Series(CCB_22[\"div_ciiu\"], dtype = \"int\").replace(np.nan, -1)"
   ]
  },
  {
   "cell_type": "code",
   "execution_count": 15,
   "metadata": {},
   "outputs": [],
   "source": [
    "def sec_pib(df):\n",
    "    if df[\"div_ciiu\"] >=1 and df[\"div_ciiu\"]<=3:\n",
    "        x = \"A\"\n",
    "    elif df[\"div_ciiu\"]>=5 and df[\"div_ciiu\"]<=9:\n",
    "        x = \"B\"\n",
    "    elif df[\"div_ciiu\"]>=10 and df[\"div_ciiu\"]<=12:\n",
    "        x = \"C01\"\n",
    "    elif df[\"div_ciiu\"]>=13 and df[\"div_ciiu\"]<=15:\n",
    "        x = \"C02\"\n",
    "    elif df[\"div_ciiu\"]>=16 and df[\"div_ciiu\"]<=18:\n",
    "        x = \"C03\"\n",
    "    elif df[\"div_ciiu\"]>=19 and df[\"div_ciiu\"]<=23:\n",
    "        x = \"C04\"\n",
    "    elif ((df[\"div_ciiu\"]>=24 and df[\"div_ciiu\"]<=30) or (df[\"div_ciiu\"]==33)):\n",
    "        x = \"C05\"\n",
    "    elif df[\"div_ciiu\"]>=31 and df[\"div_ciiu\"]<=32:\n",
    "        x = \"C06\"\n",
    "    elif df[\"div_ciiu\"]==35:\n",
    "        x = \"D\"\n",
    "    elif df[\"div_ciiu\"]>=36 and df[\"div_ciiu\"]<=39:\n",
    "        x = \"E\"\n",
    "    elif df[\"div_ciiu\"]==41:\n",
    "        x = \"F01\"\n",
    "    elif df[\"div_ciiu\"]==42:\n",
    "        x = \"F02\"\n",
    "    elif df[\"div_ciiu\"]==43:\n",
    "        x = \"F03\"\n",
    "    elif df[\"div_ciiu\"]>=44 and df[\"div_ciiu\"]<=47:\n",
    "        x = \"G\"\n",
    "    elif df[\"div_ciiu\"]>=49 and df[\"div_ciiu\"]<=53:\n",
    "        x = \"H\"\n",
    "    elif df[\"div_ciiu\"]>=55 and df[\"div_ciiu\"]<=56:\n",
    "        x = \"I\"\n",
    "    elif df[\"div_ciiu\"]>=58 and df[\"div_ciiu\"]<=63:\n",
    "        x = \"J\"\n",
    "    elif df[\"div_ciiu\"]>=64 and df[\"div_ciiu\"]<=66:\n",
    "        x = \"K\"\n",
    "    elif df[\"div_ciiu\"]==68:\n",
    "        x = \"L\"\n",
    "    elif df[\"div_ciiu\"]>=69 and df[\"div_ciiu\"]<=82:\n",
    "        x = \"M&N\"\n",
    "    elif df[\"div_ciiu\"]==84:\n",
    "        x = \"O\"\n",
    "    elif df[\"div_ciiu\"]==85:\n",
    "        x = \"P\"\n",
    "    elif df[\"div_ciiu\"]>=86 and df[\"div_ciiu\"]<=88:\n",
    "        x = \"Q\"\n",
    "    elif df[\"div_ciiu\"]>=90 and df[\"div_ciiu\"]<=96:\n",
    "        x = \"R&S\"\n",
    "    elif df[\"div_ciiu\"]==97:\n",
    "        x = \"T\"\n",
    "    else:\n",
    "        x = np.nan\n",
    "    return(x)"
   ]
  },
  {
   "cell_type": "code",
   "execution_count": 16,
   "metadata": {},
   "outputs": [],
   "source": [
    "CCB_22[\"sectores_pib\"] = CCB_22.apply(sec_pib, axis=1)"
   ]
  },
  {
   "cell_type": "code",
   "execution_count": 17,
   "metadata": {},
   "outputs": [],
   "source": [
    "def sec_14(df):\n",
    "    if df[\"sectores_pib\"] in (\"A\", \"B\"):\n",
    "        x = \"A&B\"\n",
    "    elif df[\"sectores_pib\"]==\"C01\":\n",
    "        x = \"C01\"\n",
    "    elif df[\"sectores_pib\"]==\"C02\":\n",
    "        x = \"C02\"\n",
    "    elif df[\"sectores_pib\"] in (\"C03\", \"C04\", \"C05\", \"C06\"):\n",
    "        x = \"C07\"\n",
    "    elif df[\"sectores_pib\"] in (\"D\",\"E\"):\n",
    "            x = \"D&E\"\n",
    "    elif df[\"sectores_pib\"] in (\"F01\",\"F02\",\"F03\"):\n",
    "            x = \"F\"\n",
    "    elif df[\"sectores_pib\"]==\"G\":\n",
    "        x = \"G\"\n",
    "    elif df[\"sectores_pib\"]==\"H\":\n",
    "        x = \"H\"\n",
    "    elif df[\"sectores_pib\"]==\"I\":\n",
    "        x = \"I\"\n",
    "    elif df[\"sectores_pib\"]==\"J\":\n",
    "        x = \"J\"\n",
    "    elif df[\"sectores_pib\"]==\"K\":\n",
    "        x = \"K\"\n",
    "    elif df[\"sectores_pib\"]==\"L\":\n",
    "        x = \"L\"\n",
    "    elif df[\"sectores_pib\"]==\"M&N\":\n",
    "        x = \"M&N\"\n",
    "    elif df[\"sectores_pib\"] in (\"O\",\"P\",\"Q\"):\n",
    "            x = \"O&P&Q\"\n",
    "    elif df[\"sectores_pib\"]==\"R&S\":\n",
    "        x = \"R&S\"\n",
    "    elif df[\"sectores_pib\"]==\"T\":\n",
    "        x = \"T\"\n",
    "    else:\n",
    "        x = np.nan\n",
    "    return(x)"
   ]
  },
  {
   "cell_type": "code",
   "execution_count": 18,
   "metadata": {},
   "outputs": [],
   "source": [
    "CCB_22[\"sectores_14\"] = CCB_22.apply(sec_14, axis=1)"
   ]
  },
  {
   "cell_type": "code",
   "execution_count": 20,
   "metadata": {},
   "outputs": [],
   "source": [
    "def sec_macro(df):\n",
    "    if df[\"sectores_14\"]==\"A&B\":\n",
    "        x = \"Agricultura\" \n",
    "    elif df[\"sectores_14\"] in (\"C01\", \"C02\", \"C07\"):\n",
    "            x = \"Industria\"\n",
    "    elif df[\"sectores_14\"]==\"F\":\n",
    "        x = \"Construcción\"\n",
    "    elif df[\"sectores_14\"] in (\"G\", \"H\", \"I\"):\n",
    "            x = \"Comercio\"\n",
    "    elif df[\"sectores_14\"] in (\"D&E\", \"J\", \"K\", \"L\", \"M&N\", \"O&P&Q\", \"R&S\", \"T\"):\n",
    "            x = \"Servicios\"\n",
    "    else:\n",
    "        x = np.nan\n",
    "    return(x)"
   ]
  },
  {
   "cell_type": "code",
   "execution_count": 21,
   "metadata": {},
   "outputs": [],
   "source": [
    "CCB_22[\"macro_sec\"] = CCB_22.apply(sec_macro, axis=1)"
   ]
  },
  {
   "cell_type": "code",
   "execution_count": 22,
   "metadata": {},
   "outputs": [],
   "source": [
    "#borrar div_ciuu\n",
    "CCB_22.drop(columns =\"div_ciiu\", inplace =True)"
   ]
  },
  {
   "cell_type": "code",
   "execution_count": 26,
   "metadata": {},
   "outputs": [],
   "source": [
    "#exportar base CCB_22\n",
    "CCB_22.to_csv(\"G:/Unidades compartidas/Datos y procesamientos 2023/CCB/Datos/3_Clean/CCB_22.csv\",\n",
    "             sep = ';', index = False, date_format= \"yyyy-mm-dd\", decimal = \",\")"
   ]
  },
  {
   "cell_type": "markdown",
   "metadata": {},
   "source": [
    "##### creadas, canceladas y renovadas 2022"
   ]
  },
  {
   "cell_type": "code",
   "execution_count": 32,
   "metadata": {},
   "outputs": [],
   "source": [
    "#filtar creadas, canceladas, renovadas y almacenar en un objeto cada filtro\n",
    "fec = [\"año_matricula\", \"año_cancelacion\", \"ano_renova\"]\n",
    "per3 = [2022, 2022, 2022]\n",
    "l1 = [\"cr\", \"can\", \"re\"]\n",
    "tipo = [\"creadas\", \"canceladas\", \"renovadas\"]\n",
    "for i, j, k, l in zip(fec, per3, l1, tipo):\n",
    "    msk = CCB_22[i]==j\n",
    "    exec('CCB_22{} = CCB_22[msk==True]'.format(k))\n",
    "    exec('CCB_22{}.reset_index(drop =True, inplace = True)'.format(k))\n",
    "    exec('CCB_22{}.insert(40,\"tipo empresa\",l)'.format(k))"
   ]
  },
  {
   "cell_type": "code",
   "execution_count": 33,
   "metadata": {},
   "outputs": [],
   "source": [
    "##concatenar\n",
    "frames4 = [CCB_22cr, CCB_22can , CCB_22re]\n",
    "CBB_22_cr_can_re = pd.concat(frames4)"
   ]
  },
  {
   "cell_type": "code",
   "execution_count": 4,
   "metadata": {},
   "outputs": [],
   "source": [
    "p9 = \"G:/Unidades compartidas/Datos y procesamientos 2023/CCB/Datos/3_Clean/CBB_19_21_cr_can_re.csv\""
   ]
  },
  {
   "cell_type": "code",
   "execution_count": 5,
   "metadata": {},
   "outputs": [],
   "source": [
    "#cargar base anterior y concatenar nueva base\n",
    "CBB_19_21_cr_can_re_b = pd.read_csv(p9, sep = \";\", low_memory=False, decimal= \",\")"
   ]
  },
  {
   "cell_type": "code",
   "execution_count": 54,
   "metadata": {},
   "outputs": [],
   "source": [
    "#transformar a minusculas los nombres de las variables de CBB_19_21_cr_can_re_b\n",
    "CBB_19_21_cr_can_re_b.columns = CBB_19_21_cr_can_re_b.columns.str.lower()"
   ]
  },
  {
   "cell_type": "code",
   "execution_count": 56,
   "metadata": {},
   "outputs": [],
   "source": [
    "#pasar categorías de masuclino a hombre y de femenino a mujer\n",
    "CBB_22_cr_can_re[\"sexo\"] = CBB_22_cr_can_re[\"sexo\"].replace(\"Femenino\",\"Mujer\", regex=True)\n",
    "# pasar categorías de masuclino a hombre\n",
    "CBB_22_cr_can_re[\"sexo\"] = CBB_22_cr_can_re[\"sexo\"].replace(\"Masculino\",\"Hombre\", regex=True)"
   ]
  },
  {
   "cell_type": "code",
   "execution_count": 60,
   "metadata": {},
   "outputs": [],
   "source": [
    "##concatenar\n",
    "frames5 = [CBB_19_21_cr_can_re_b, CBB_22_cr_can_re]\n",
    "CBB_19_22_cr_can_re = pd.concat(frames5)"
   ]
  },
  {
   "cell_type": "code",
   "execution_count": 61,
   "metadata": {},
   "outputs": [],
   "source": [
    "#exportar\n",
    "CBB_19_22_cr_can_re.to_csv(\"G:/Unidades compartidas/Datos y procesamientos 2023/CCB/Datos/3_Clean/CBB_19_22_cr_can_re.csv\",\n",
    "                           sep = ';', index = False, date_format= \"yyyy-mm-dd\", decimal = \",\")"
   ]
  },
  {
   "cell_type": "code",
   "execution_count": null,
   "metadata": {},
   "outputs": [],
   "source": [
    "# Cargar cortes agosto 2022 MA y MC\n",
    "# limpiar y hacer subset de ambas bases\n",
    "## concatenarlas\n",
    "##crear variables faltantes\n",
    "###exportar base CCB_22 (agosto)\n",
    "### filtar creadas, canceladas, renovadas y almacenar en un objeto cada filtro\n",
    "#### concatenar cada objeto y almacenar en uno nuevo CBB_22_cr_can_re\n",
    "##### cargar base CBB_19_21_cr_can_re\n",
    "###### concatenar CBB_22_cr_can_re a  CBB_19_21_cr_can_re_b (b de base), generando CBB_19_22_cr_can_re\n",
    "#exportar"
   ]
  },
  {
   "cell_type": "markdown",
   "metadata": {},
   "source": [
    "### outliers"
   ]
  },
  {
   "cell_type": "code",
   "execution_count": 4,
   "metadata": {},
   "outputs": [],
   "source": [
    "# cargue de base\n",
    "bc = pd.read_csv(\"G:/Unidades compartidas/Datos y procesamientos 2023/CCB/Datos/3_Clean/CBB_19_22_cr_can_re.csv\",\n",
    "                           sep = ';', decimal = \",\", low_memory=False)"
   ]
  },
  {
   "cell_type": "code",
   "execution_count": 5,
   "metadata": {
    "scrolled": true
   },
   "outputs": [
    {
     "data": {
      "text/html": [
       "<div>\n",
       "<style scoped>\n",
       "    .dataframe tbody tr th:only-of-type {\n",
       "        vertical-align: middle;\n",
       "    }\n",
       "\n",
       "    .dataframe tbody tr th {\n",
       "        vertical-align: top;\n",
       "    }\n",
       "\n",
       "    .dataframe thead th {\n",
       "        text-align: right;\n",
       "    }\n",
       "</style>\n",
       "<table border=\"1\" class=\"dataframe\">\n",
       "  <thead>\n",
       "    <tr style=\"text-align: right;\">\n",
       "      <th></th>\n",
       "      <th>resultado_periodo</th>\n",
       "    </tr>\n",
       "  </thead>\n",
       "  <tbody>\n",
       "    <tr>\n",
       "      <th>120385</th>\n",
       "      <td>1170287000000,0</td>\n",
       "    </tr>\n",
       "    <tr>\n",
       "      <th>1070086</th>\n",
       "      <td>1170287000000,0</td>\n",
       "    </tr>\n",
       "  </tbody>\n",
       "</table>\n",
       "</div>"
      ],
      "text/plain": [
       "        resultado_periodo\n",
       "120385    1170287000000,0\n",
       "1070086   1170287000000,0"
      ]
     },
     "execution_count": 5,
     "metadata": {},
     "output_type": "execute_result"
    }
   ],
   "source": [
    "    bc[bc[\"num_matricula\"]==\"3308039.0\"][[\"resultado_periodo\"]].head() #"
   ]
  },
  {
   "cell_type": "code",
   "execution_count": 37,
   "metadata": {},
   "outputs": [
    {
     "data": {
      "text/plain": [
       "0    03320638\n",
       "1    03320654\n",
       "2    03320668\n",
       "3    03320669\n",
       "4    03320686\n",
       "Name: num_matricula, dtype: object"
      ]
     },
     "execution_count": 37,
     "metadata": {},
     "output_type": "execute_result"
    }
   ],
   "source": [
    "bc[\"num_matricula\"].head()"
   ]
  },
  {
   "cell_type": "code",
   "execution_count": 7,
   "metadata": {},
   "outputs": [],
   "source": [
    "#imprimir el número completo\n",
    "#resultado_periodo\n",
    "# 1.170.287.000.000 : 2020\n",
    "# 905.832.615.732.777 : 2022\n",
    "pd.set_option('float_format', '{:f}'.format)"
   ]
  },
  {
   "cell_type": "code",
   "execution_count": 2,
   "metadata": {},
   "outputs": [],
   "source": [
    "bc[(bc[\"año_matricula\"]==2020) & (bc[\"fec_matricula\"]==\"20201110\") & (bc[\"num_matricula\"]==\"3308039.0\")][[\"resultado_periodo\"]].tail(20)"
   ]
  }
 ],
 "metadata": {
  "kernelspec": {
   "display_name": "Python 3",
   "language": "python",
   "name": "python3"
  },
  "language_info": {
   "codemirror_mode": {
    "name": "ipython",
    "version": 3
   },
   "file_extension": ".py",
   "mimetype": "text/x-python",
   "name": "python",
   "nbconvert_exporter": "python",
   "pygments_lexer": "ipython3",
   "version": "3.8.3"
  }
 },
 "nbformat": 4,
 "nbformat_minor": 4
}
