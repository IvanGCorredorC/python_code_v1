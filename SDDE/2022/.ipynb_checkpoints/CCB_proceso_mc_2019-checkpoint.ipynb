{
 "cells": [
  {
   "cell_type": "markdown",
   "metadata": {},
   "source": [
    "## Emprendimiento migración - CCB"
   ]
  },
  {
   "cell_type": "code",
   "execution_count": 2,
   "metadata": {},
   "outputs": [],
   "source": [
    "import pandas as pd\n",
    "import numpy as np"
   ]
  },
  {
   "cell_type": "code",
   "execution_count": 3,
   "metadata": {},
   "outputs": [],
   "source": [
    "coding: \"latin-1\""
   ]
  },
  {
   "cell_type": "markdown",
   "metadata": {},
   "source": [
    "#### MC 2019"
   ]
  },
  {
   "cell_type": "code",
   "execution_count": null,
   "metadata": {},
   "outputs": [],
   "source": [
    "#a la base procesada le faltan las matriculas canceladas del año 2019.\n",
    "# por ello se debe crear en la base de de canceladas de 2019 las variables: \"vigencia\", \"sectores_pib\",\"sectores_14\", \"macro_sec\".\n",
    "# posteriormente se appendiza a la base final procesada. "
   ]
  },
  {
   "cell_type": "code",
   "execution_count": 255,
   "metadata": {},
   "outputs": [],
   "source": [
    "p5= \"G:/Unidades compartidas/CCB datos/Datos/2_Temp/MC_DIC2019.dta\""
   ]
  },
  {
   "cell_type": "code",
   "execution_count": 256,
   "metadata": {},
   "outputs": [],
   "source": [
    "ccb_19_mc= pd.read_stata(p5)"
   ]
  },
  {
   "cell_type": "code",
   "execution_count": 218,
   "metadata": {},
   "outputs": [],
   "source": [
    "#ccb_19_mc.info()"
   ]
  },
  {
   "cell_type": "code",
   "execution_count": 219,
   "metadata": {},
   "outputs": [],
   "source": [
    "# crear lasa variables \"sectores_pib\",\"sectores_14\", \"macro_sec\" en base MC 2019\n",
    "## eliminar la variable vigencia de la base final debido a que presenta fallos \n",
    "### appendizar Mc 2019 a base final\n",
    "#### crear variable \"vigencia\" en la base appendizada"
   ]
  },
  {
   "cell_type": "code",
   "execution_count": 220,
   "metadata": {},
   "outputs": [],
   "source": [
    "# \"sectores_pib\"\n",
    "ccb_19_mc[\"div_ciiu\"] = np.trunc(ccb_19_mc[\"ciiu_1\"]/100)"
   ]
  },
  {
   "cell_type": "code",
   "execution_count": 221,
   "metadata": {},
   "outputs": [],
   "source": [
    "ccb_19_mc[\"div_ciiu\"] = ccb_19_mc[\"div_ciiu\"].astype(\"Int8\", errors='ignore')"
   ]
  },
  {
   "cell_type": "code",
   "execution_count": 222,
   "metadata": {},
   "outputs": [],
   "source": [
    "ccb_19_mc[\"div_ciiu\"] = pd.Series(ccb_19_mc[\"div_ciiu\"], dtype = \"int\").replace(np.nan, -1)"
   ]
  },
  {
   "cell_type": "code",
   "execution_count": 223,
   "metadata": {
    "scrolled": true
   },
   "outputs": [
    {
     "data": {
      "text/plain": [
       "113603    -1\n",
       "63208     -1\n",
       "63192     -1\n",
       "164173    -1\n",
       "99676     -1\n",
       "          ..\n",
       "138933    98\n",
       "99404     98\n",
       "100492    98\n",
       "76842     98\n",
       "20437     99\n",
       "Name: div_ciiu, Length: 175980, dtype: Int8"
      ]
     },
     "execution_count": 223,
     "metadata": {},
     "output_type": "execute_result"
    }
   ],
   "source": [
    "ccb_19_mc[\"div_ciiu\"].sort_values(ascending=True)"
   ]
  },
  {
   "cell_type": "code",
   "execution_count": 224,
   "metadata": {},
   "outputs": [],
   "source": [
    "def sec_pib(df):\n",
    "    if df[\"div_ciiu\"] >=1 and df[\"div_ciiu\"]<=3:\n",
    "        x = \"A\"\n",
    "    elif df[\"div_ciiu\"]>=5 and df[\"div_ciiu\"]<=9:\n",
    "        x = \"B\"\n",
    "    elif df[\"div_ciiu\"]>=10 and df[\"div_ciiu\"]<=12:\n",
    "        x = \"C01\"\n",
    "    elif df[\"div_ciiu\"]>=13 and df[\"div_ciiu\"]<=15:\n",
    "        x = \"C02\"\n",
    "    elif df[\"div_ciiu\"]>=16 and df[\"div_ciiu\"]<=18:\n",
    "        x = \"C03\"\n",
    "    elif df[\"div_ciiu\"]>=19 and df[\"div_ciiu\"]<=23:\n",
    "        x = \"C04\"\n",
    "    elif ((df[\"div_ciiu\"]>=24 and df[\"div_ciiu\"]<=30) or (df[\"div_ciiu\"]==33)):\n",
    "        x = \"C05\"\n",
    "    elif df[\"div_ciiu\"]>=31 and df[\"div_ciiu\"]<=32:\n",
    "        x = \"C06\"\n",
    "    elif df[\"div_ciiu\"]==35:\n",
    "        x = \"D\"\n",
    "    elif df[\"div_ciiu\"]>=36 and df[\"div_ciiu\"]<=39:\n",
    "        x = \"E\"\n",
    "    elif df[\"div_ciiu\"]==41:\n",
    "        x = \"F01\"\n",
    "    elif df[\"div_ciiu\"]==42:\n",
    "        x = \"F02\"\n",
    "    elif df[\"div_ciiu\"]==43:\n",
    "        x = \"F03\"\n",
    "    elif df[\"div_ciiu\"]>=44 and df[\"div_ciiu\"]<=47:\n",
    "        x = \"G\"\n",
    "    elif df[\"div_ciiu\"]>=49 and df[\"div_ciiu\"]<=53:\n",
    "        x = \"H\"\n",
    "    elif df[\"div_ciiu\"]>=55 and df[\"div_ciiu\"]<=56:\n",
    "        x = \"I\"\n",
    "    elif df[\"div_ciiu\"]>=58 and df[\"div_ciiu\"]<=63:\n",
    "        x = \"J\"\n",
    "    elif df[\"div_ciiu\"]>=64 and df[\"div_ciiu\"]<=66:\n",
    "        x = \"K\"\n",
    "    elif df[\"div_ciiu\"]==68:\n",
    "        x = \"L\"\n",
    "    elif df[\"div_ciiu\"]>=69 and df[\"div_ciiu\"]<=82:\n",
    "        x = \"M&N\"\n",
    "    elif df[\"div_ciiu\"]==84:\n",
    "        x = \"O\"\n",
    "    elif df[\"div_ciiu\"]==85:\n",
    "        x = \"P\"\n",
    "    elif df[\"div_ciiu\"]>=86 and df[\"div_ciiu\"]<=88:\n",
    "        x = \"Q\"\n",
    "    elif df[\"div_ciiu\"]>=90 and df[\"div_ciiu\"]<=96:\n",
    "        x = \"R&S\"\n",
    "    elif df[\"div_ciiu\"]==97:\n",
    "        x = \"T\"\n",
    "    else:\n",
    "        x = np.nan\n",
    "    return(x)"
   ]
  },
  {
   "cell_type": "code",
   "execution_count": 225,
   "metadata": {},
   "outputs": [],
   "source": [
    "ccb_19_mc[\"sectores_pib\"] = ccb_19_mc.apply(sec_pib, axis=1)"
   ]
  },
  {
   "cell_type": "code",
   "execution_count": 226,
   "metadata": {},
   "outputs": [],
   "source": [
    "def sec_14(df):\n",
    "    if df[\"sectores_pib\"] in (\"A\", \"B\"):\n",
    "        x = \"A&B\"\n",
    "    elif df[\"sectores_pib\"]==\"C01\":\n",
    "        x = \"C01\"\n",
    "    elif df[\"sectores_pib\"]==\"C02\":\n",
    "        x = \"C02\"\n",
    "    elif df[\"sectores_pib\"] in (\"C03\", \"C04\", \"C05\", \"C06\"):\n",
    "        x = \"C07\"\n",
    "    elif df[\"sectores_pib\"] in (\"D\",\"E\"):\n",
    "            x = \"D&E\"\n",
    "    elif df[\"sectores_pib\"] in (\"F01\",\"F02\",\"F03\"):\n",
    "            x = \"F\"\n",
    "    elif df[\"sectores_pib\"]==\"G\":\n",
    "        x = \"G\"\n",
    "    elif df[\"sectores_pib\"]==\"H\":\n",
    "        x = \"H\"\n",
    "    elif df[\"sectores_pib\"]==\"I\":\n",
    "        x = \"I\"\n",
    "    elif df[\"sectores_pib\"]==\"J\":\n",
    "        x = \"J\"\n",
    "    elif df[\"sectores_pib\"]==\"K\":\n",
    "        x = \"K\"\n",
    "    elif df[\"sectores_pib\"]==\"L\":\n",
    "        x = \"L\"\n",
    "    elif df[\"sectores_pib\"]==\"M&N\":\n",
    "        x = \"M&N\"\n",
    "    elif df[\"sectores_pib\"] in (\"O\",\"P\",\"Q\"):\n",
    "            x = \"O&P&Q\"\n",
    "    elif df[\"sectores_pib\"]==\"R&S\":\n",
    "        x = \"R&S\"\n",
    "    elif df[\"sectores_pib\"]==\"T\":\n",
    "        x = \"T\"\n",
    "    else:\n",
    "        x = np.nan\n",
    "    return(x)"
   ]
  },
  {
   "cell_type": "code",
   "execution_count": 227,
   "metadata": {},
   "outputs": [],
   "source": [
    "ccb_19_mc[\"sectores_14\"] = ccb_19_mc.apply(sec_14, axis=1)"
   ]
  },
  {
   "cell_type": "code",
   "execution_count": 228,
   "metadata": {},
   "outputs": [],
   "source": [
    "#macro sectores"
   ]
  },
  {
   "cell_type": "code",
   "execution_count": 229,
   "metadata": {},
   "outputs": [],
   "source": [
    "def sec_macro(df):\n",
    "    if df[\"sectores_14\"]==\"A&B\":\n",
    "        x = \"Agricultura\" \n",
    "    elif df[\"sectores_14\"] in (\"C01\", \"C02\", \"C07\"):\n",
    "            x = \"Industria\"\n",
    "    elif df[\"sectores_14\"]==\"F\":\n",
    "        x = \"Construcción\"\n",
    "    elif df[\"sectores_14\"] in (\"G\", \"H\", \"I\"):\n",
    "            x = \"Comercio\"\n",
    "    elif df[\"sectores_14\"] in (\"D&E\", \"J\", \"K\", \"L\", \"M&N\", \"O&P&Q\", \"R&S\", \"T\"):\n",
    "            x = \"Servicios\"\n",
    "    else:\n",
    "        x = np.nan\n",
    "    return(x)"
   ]
  },
  {
   "cell_type": "code",
   "execution_count": 230,
   "metadata": {},
   "outputs": [],
   "source": [
    "ccb_19_mc[\"macro_sec\"] = ccb_19_mc.apply(sec_macro, axis=1)"
   ]
  },
  {
   "cell_type": "code",
   "execution_count": 231,
   "metadata": {},
   "outputs": [],
   "source": [
    "ccb_19_mc.rename(columns={\"nro_matricula\":\"num_matricula\"}, inplace = True)"
   ]
  },
  {
   "cell_type": "code",
   "execution_count": 234,
   "metadata": {},
   "outputs": [],
   "source": [
    "# borrar variablke vigencia base final\n",
    "#ccb_f.drop(columns=\"vigencia\", inplace=True)"
   ]
  },
  {
   "cell_type": "code",
   "execution_count": 235,
   "metadata": {},
   "outputs": [],
   "source": [
    "###seleccionar variables\n",
    "ccb_19_mc = ccb_19_mc[var]"
   ]
  },
  {
   "cell_type": "code",
   "execution_count": 244,
   "metadata": {},
   "outputs": [],
   "source": [
    "#filtro año matricula 2019\n",
    "msk4 = ccb_19_mc[\"año_cancelacion\"]==2019\n",
    "ccb_19_mc_a = ccb_19_mc[msk4==True]"
   ]
  },
  {
   "cell_type": "code",
   "execution_count": 254,
   "metadata": {
    "scrolled": true
   },
   "outputs": [
    {
     "data": {
      "text/plain": [
       "MA    591878\n",
       "MC    175980\n",
       "Name: estado_matricula, dtype: int64"
      ]
     },
     "execution_count": 254,
     "metadata": {},
     "output_type": "execute_result"
    }
   ],
   "source": [
    "CCB_19[\"estado_matricula\"].value_counts()"
   ]
  },
  {
   "cell_type": "code",
   "execution_count": 257,
   "metadata": {
    "scrolled": true
   },
   "outputs": [
    {
     "data": {
      "text/plain": [
       "MC    175980\n",
       "Name: estado_matricula, dtype: int64"
      ]
     },
     "execution_count": 257,
     "metadata": {},
     "output_type": "execute_result"
    }
   ],
   "source": [
    "ccb_19_mc[\"estado_matricula\"].value_counts()"
   ]
  },
  {
   "cell_type": "code",
   "execution_count": 213,
   "metadata": {},
   "outputs": [
    {
     "data": {
      "text/plain": [
       "RangeIndex(start=0, stop=175980, step=1)"
      ]
     },
     "execution_count": 213,
     "metadata": {},
     "output_type": "execute_result"
    }
   ],
   "source": [
    "ccb_19_mc.index"
   ]
  },
  {
   "cell_type": "code",
   "execution_count": 211,
   "metadata": {},
   "outputs": [],
   "source": [
    "# reidexar\n",
    "frames2 = [ccb_f, ccb_19_mc]\n",
    "for i in frames2:\n",
    "    i.reset_index(drop=True, inplace=True)"
   ]
  },
  {
   "cell_type": "code",
   "execution_count": 212,
   "metadata": {},
   "outputs": [
    {
     "ename": "InvalidIndexError",
     "evalue": "Reindexing only valid with uniquely valued Index objects",
     "output_type": "error",
     "traceback": [
      "\u001b[1;31m---------------------------------------------------------------------------\u001b[0m",
      "\u001b[1;31mInvalidIndexError\u001b[0m                         Traceback (most recent call last)",
      "\u001b[1;32m<ipython-input-212-c4c1df311f10>\u001b[0m in \u001b[0;36m<module>\u001b[1;34m\u001b[0m\n\u001b[0;32m      1\u001b[0m \u001b[1;31m# concater a base final\u001b[0m\u001b[1;33m\u001b[0m\u001b[1;33m\u001b[0m\u001b[1;33m\u001b[0m\u001b[0m\n\u001b[1;32m----> 2\u001b[1;33m \u001b[0mCBB_19_21_ajus\u001b[0m \u001b[1;33m=\u001b[0m \u001b[0mpd\u001b[0m\u001b[1;33m.\u001b[0m\u001b[0mconcat\u001b[0m\u001b[1;33m(\u001b[0m\u001b[0mframes2\u001b[0m\u001b[1;33m,\u001b[0m \u001b[0maxis\u001b[0m \u001b[1;33m=\u001b[0m \u001b[1;36m0\u001b[0m\u001b[1;33m,\u001b[0m \u001b[0mjoin\u001b[0m \u001b[1;33m=\u001b[0m \u001b[1;34m'outer'\u001b[0m\u001b[1;33m,\u001b[0m \u001b[0msort\u001b[0m \u001b[1;33m=\u001b[0m \u001b[1;32mFalse\u001b[0m\u001b[1;33m)\u001b[0m\u001b[1;33m\u001b[0m\u001b[1;33m\u001b[0m\u001b[0m\n\u001b[0m",
      "\u001b[1;32mD:\\anaconda\\lib\\site-packages\\pandas\\util\\_decorators.py\u001b[0m in \u001b[0;36mwrapper\u001b[1;34m(*args, **kwargs)\u001b[0m\n\u001b[0;32m    315\u001b[0m                     \u001b[0mstacklevel\u001b[0m\u001b[1;33m=\u001b[0m\u001b[0mfind_stack_level\u001b[0m\u001b[1;33m(\u001b[0m\u001b[0minspect\u001b[0m\u001b[1;33m.\u001b[0m\u001b[0mcurrentframe\u001b[0m\u001b[1;33m(\u001b[0m\u001b[1;33m)\u001b[0m\u001b[1;33m)\u001b[0m\u001b[1;33m,\u001b[0m\u001b[1;33m\u001b[0m\u001b[1;33m\u001b[0m\u001b[0m\n\u001b[0;32m    316\u001b[0m                 )\n\u001b[1;32m--> 317\u001b[1;33m             \u001b[1;32mreturn\u001b[0m \u001b[0mfunc\u001b[0m\u001b[1;33m(\u001b[0m\u001b[1;33m*\u001b[0m\u001b[0margs\u001b[0m\u001b[1;33m,\u001b[0m \u001b[1;33m**\u001b[0m\u001b[0mkwargs\u001b[0m\u001b[1;33m)\u001b[0m\u001b[1;33m\u001b[0m\u001b[1;33m\u001b[0m\u001b[0m\n\u001b[0m\u001b[0;32m    318\u001b[0m \u001b[1;33m\u001b[0m\u001b[0m\n\u001b[0;32m    319\u001b[0m         \u001b[1;32mreturn\u001b[0m \u001b[0mwrapper\u001b[0m\u001b[1;33m\u001b[0m\u001b[1;33m\u001b[0m\u001b[0m\n",
      "\u001b[1;32mD:\\anaconda\\lib\\site-packages\\pandas\\core\\reshape\\concat.py\u001b[0m in \u001b[0;36mconcat\u001b[1;34m(objs, axis, join, ignore_index, keys, levels, names, verify_integrity, sort, copy)\u001b[0m\n\u001b[0;32m    380\u001b[0m     )\n\u001b[0;32m    381\u001b[0m \u001b[1;33m\u001b[0m\u001b[0m\n\u001b[1;32m--> 382\u001b[1;33m     \u001b[1;32mreturn\u001b[0m \u001b[0mop\u001b[0m\u001b[1;33m.\u001b[0m\u001b[0mget_result\u001b[0m\u001b[1;33m(\u001b[0m\u001b[1;33m)\u001b[0m\u001b[1;33m\u001b[0m\u001b[1;33m\u001b[0m\u001b[0m\n\u001b[0m\u001b[0;32m    383\u001b[0m \u001b[1;33m\u001b[0m\u001b[0m\n\u001b[0;32m    384\u001b[0m \u001b[1;33m\u001b[0m\u001b[0m\n",
      "\u001b[1;32mD:\\anaconda\\lib\\site-packages\\pandas\\core\\reshape\\concat.py\u001b[0m in \u001b[0;36mget_result\u001b[1;34m(self)\u001b[0m\n\u001b[0;32m    611\u001b[0m                     \u001b[0mobj_labels\u001b[0m \u001b[1;33m=\u001b[0m \u001b[0mobj\u001b[0m\u001b[1;33m.\u001b[0m\u001b[0maxes\u001b[0m\u001b[1;33m[\u001b[0m\u001b[1;36m1\u001b[0m \u001b[1;33m-\u001b[0m \u001b[0max\u001b[0m\u001b[1;33m]\u001b[0m\u001b[1;33m\u001b[0m\u001b[1;33m\u001b[0m\u001b[0m\n\u001b[0;32m    612\u001b[0m                     \u001b[1;32mif\u001b[0m \u001b[1;32mnot\u001b[0m \u001b[0mnew_labels\u001b[0m\u001b[1;33m.\u001b[0m\u001b[0mequals\u001b[0m\u001b[1;33m(\u001b[0m\u001b[0mobj_labels\u001b[0m\u001b[1;33m)\u001b[0m\u001b[1;33m:\u001b[0m\u001b[1;33m\u001b[0m\u001b[1;33m\u001b[0m\u001b[0m\n\u001b[1;32m--> 613\u001b[1;33m                         \u001b[0mindexers\u001b[0m\u001b[1;33m[\u001b[0m\u001b[0max\u001b[0m\u001b[1;33m]\u001b[0m \u001b[1;33m=\u001b[0m \u001b[0mobj_labels\u001b[0m\u001b[1;33m.\u001b[0m\u001b[0mget_indexer\u001b[0m\u001b[1;33m(\u001b[0m\u001b[0mnew_labels\u001b[0m\u001b[1;33m)\u001b[0m\u001b[1;33m\u001b[0m\u001b[1;33m\u001b[0m\u001b[0m\n\u001b[0m\u001b[0;32m    614\u001b[0m \u001b[1;33m\u001b[0m\u001b[0m\n\u001b[0;32m    615\u001b[0m                 \u001b[0mmgrs_indexers\u001b[0m\u001b[1;33m.\u001b[0m\u001b[0mappend\u001b[0m\u001b[1;33m(\u001b[0m\u001b[1;33m(\u001b[0m\u001b[0mobj\u001b[0m\u001b[1;33m.\u001b[0m\u001b[0m_mgr\u001b[0m\u001b[1;33m,\u001b[0m \u001b[0mindexers\u001b[0m\u001b[1;33m)\u001b[0m\u001b[1;33m)\u001b[0m\u001b[1;33m\u001b[0m\u001b[1;33m\u001b[0m\u001b[0m\n",
      "\u001b[1;32mD:\\anaconda\\lib\\site-packages\\pandas\\core\\indexes\\base.py\u001b[0m in \u001b[0;36mget_indexer\u001b[1;34m(self, target, method, limit, tolerance)\u001b[0m\n\u001b[0;32m   3900\u001b[0m \u001b[1;33m\u001b[0m\u001b[0m\n\u001b[0;32m   3901\u001b[0m         \u001b[1;32mif\u001b[0m \u001b[1;32mnot\u001b[0m \u001b[0mself\u001b[0m\u001b[1;33m.\u001b[0m\u001b[0m_index_as_unique\u001b[0m\u001b[1;33m:\u001b[0m\u001b[1;33m\u001b[0m\u001b[1;33m\u001b[0m\u001b[0m\n\u001b[1;32m-> 3902\u001b[1;33m             \u001b[1;32mraise\u001b[0m \u001b[0mInvalidIndexError\u001b[0m\u001b[1;33m(\u001b[0m\u001b[0mself\u001b[0m\u001b[1;33m.\u001b[0m\u001b[0m_requires_unique_msg\u001b[0m\u001b[1;33m)\u001b[0m\u001b[1;33m\u001b[0m\u001b[1;33m\u001b[0m\u001b[0m\n\u001b[0m\u001b[0;32m   3903\u001b[0m \u001b[1;33m\u001b[0m\u001b[0m\n\u001b[0;32m   3904\u001b[0m         \u001b[1;32mif\u001b[0m \u001b[0mlen\u001b[0m\u001b[1;33m(\u001b[0m\u001b[0mtarget\u001b[0m\u001b[1;33m)\u001b[0m \u001b[1;33m==\u001b[0m \u001b[1;36m0\u001b[0m\u001b[1;33m:\u001b[0m\u001b[1;33m\u001b[0m\u001b[1;33m\u001b[0m\u001b[0m\n",
      "\u001b[1;31mInvalidIndexError\u001b[0m: Reindexing only valid with uniquely valued Index objects"
     ]
    }
   ],
   "source": [
    "# concater a base final\n",
    "CBB_19_21_ajus = pd.concat(frames2, axis = 0, join = 'outer', sort = False)"
   ]
  },
  {
   "cell_type": "code",
   "execution_count": 115,
   "metadata": {},
   "outputs": [],
   "source": [
    "#exportar a cvs para visor\n",
    "CBB_19_21_ajus.to_csv(\"G:/Unidades compartidas/CCB datos/Datos/3_Clean/CCB_19_21_ajus.csv\",\n",
    "             sep = ';', index = False, date_format= \"yyyy-mm-dd\")"
   ]
  }
 ],
 "metadata": {
  "kernelspec": {
   "display_name": "Python 3",
   "language": "python",
   "name": "python3"
  },
  "language_info": {
   "codemirror_mode": {
    "name": "ipython",
    "version": 3
   },
   "file_extension": ".py",
   "mimetype": "text/x-python",
   "name": "python",
   "nbconvert_exporter": "python",
   "pygments_lexer": "ipython3",
   "version": "3.8.3"
  }
 },
 "nbformat": 4,
 "nbformat_minor": 4
}
