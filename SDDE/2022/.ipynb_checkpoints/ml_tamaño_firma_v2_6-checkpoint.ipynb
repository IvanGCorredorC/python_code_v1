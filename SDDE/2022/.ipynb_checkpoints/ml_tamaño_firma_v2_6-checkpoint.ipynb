{
 "cells": [
  {
   "cell_type": "code",
   "execution_count": 24,
   "metadata": {},
   "outputs": [],
   "source": [
    "import pandas as pd\n",
    "import numpy as np"
   ]
  },
  {
   "cell_type": "markdown",
   "metadata": {},
   "source": [
    "### Marco muestral 2005"
   ]
  },
  {
   "cell_type": "code",
   "execution_count": 25,
   "metadata": {},
   "outputs": [],
   "source": [
    "coding: \"latin-1\""
   ]
  },
  {
   "cell_type": "code",
   "execution_count": 26,
   "metadata": {},
   "outputs": [],
   "source": [
    "#datos 2019, 2020, 2021\n",
    "cols= [\"Periodo\", \"Trimestre\", \"Tamaño\", \"Ocupados\"]\n",
    "t05_19_21 = pd.read_excel(\"G:/Unidades compartidas/Mercado laboral/Datos/1_Raw/tema_1_v2.xlsx\",                      \n",
    "                        sheet_name = \"GEIH marco 2005\", header = 0, nrows = 111, \n",
    "                        usecols = \"B:E\", names = cols)"
   ]
  },
  {
   "cell_type": "code",
   "execution_count": 27,
   "metadata": {},
   "outputs": [],
   "source": [
    "##limpiar variable trimestre\n",
    "t05_19_21[\"Trimestre\"] = (pd.Series(t05_19_21[\"Trimestre\"],                                \n",
    "                                         dtype = \"string\").str.split( r'\\d\\s', expand = True).get(1))"
   ]
  },
  {
   "cell_type": "markdown",
   "metadata": {},
   "source": [
    "#### Crear Rangos"
   ]
  },
  {
   "cell_type": "code",
   "execution_count": 28,
   "metadata": {},
   "outputs": [
    {
     "data": {
      "text/plain": [
       "1.0    12\n",
       "2.0    12\n",
       "3.0    12\n",
       "4.0    12\n",
       "5.0    12\n",
       "6.0    12\n",
       "7.0    12\n",
       "8.0    12\n",
       "9.0    12\n",
       "Name: Tamaño, dtype: int64"
      ]
     },
     "execution_count": 28,
     "metadata": {},
     "output_type": "execute_result"
    }
   ],
   "source": [
    "t05_19_21[\"Tamaño\"].value_counts()\t\n",
    "# 1. Trabaja solo = 1\n",
    "#2. 2 a 3 personas #3. 4 a 5 personas  #4. 6 a 10 personas = 2, 3, 4\n",
    "#5. 11 a 19 personas #6. 20 a 30 personas #7. 31 a 50 personas = 5, 6, 7\n",
    "#8. 51 a 100 personas = 8\n",
    "#9. 101 o más personas = 9\n",
    "#uni, 2-10, 11-50, 51-100, 100+"
   ]
  },
  {
   "cell_type": "code",
   "execution_count": 29,
   "metadata": {},
   "outputs": [],
   "source": [
    "def rang(df):\n",
    "    if df[\"Tamaño\"]==1:\n",
    "        x = \"Unipersonal\"\n",
    "    elif (df[\"Tamaño\"]==2 or df[\"Tamaño\"]==3 or df[\"Tamaño\"]==4):\n",
    "        x = \"Entre 2 y 10\"\n",
    "    elif (df[\"Tamaño\"]==5 or df[\"Tamaño\"]==6 or df[\"Tamaño\"]==7):\n",
    "        x = \"Entre 11 y 50\"\n",
    "    elif df[\"Tamaño\"]==8:\n",
    "        x = \"Entre 51 y 100\"\n",
    "    elif df[\"Tamaño\"]==9:\n",
    "        x = \"Más de 100\"\n",
    "    else:\n",
    "        x = np.nan\n",
    "    return(x)    "
   ]
  },
  {
   "cell_type": "code",
   "execution_count": 30,
   "metadata": {},
   "outputs": [],
   "source": [
    "#aplicar función\n",
    "t05_19_21[\"Tamaño2\"] = t05_19_21.apply(rang, axis=1)"
   ]
  },
  {
   "cell_type": "markdown",
   "metadata": {},
   "source": [
    "#### Slice"
   ]
  },
  {
   "cell_type": "code",
   "execution_count": 31,
   "metadata": {},
   "outputs": [],
   "source": [
    "##filtrar ara cada categoria y crear dataframes\n",
    "cat = [\"Unipersonal\", \"Entre 2 y 10\", \"Entre 11 y 50\", \"Entre 51 y 100\", \"Más de 100\"]\n",
    "lf = [\"u\", \"mi\", \"pe\", \"me\", \"gr\"]\n",
    "\n",
    "for i, j in zip(cat, lf):\n",
    "    msk19 = t05_19_21[\"Tamaño2\"] == i\n",
    "    exec('t05_19_21_{} = t05_19_21[msk19==True]'.format(j))\n",
    "    # class Lista(object):\n",
    "#     pass\n",
    "# i = 1\n",
    "# lista1 = Lista()\n",
    "# for fram in [\"t05_19_21_u\", \"t05_19_21_mi\", \"t05_19_21_pe\", \"t05_19_21_me\", \"t05_19_21_gr\"]:\n",
    "#     setattr(lista1, \"producto\" + str(i), fram)\n",
    "#     i = i + 1\n",
    "# lista1.producto1\n",
    "# lista1.producto2"
   ]
  },
  {
   "cell_type": "code",
   "execution_count": 32,
   "metadata": {
    "scrolled": true
   },
   "outputs": [
    {
     "name": "stderr",
     "output_type": "stream",
     "text": [
      "D:\\anaconda\\lib\\site-packages\\pandas\\core\\frame.py:4906: SettingWithCopyWarning: \n",
      "A value is trying to be set on a copy of a slice from a DataFrame\n",
      "\n",
      "See the caveats in the documentation: https://pandas.pydata.org/pandas-docs/stable/user_guide/indexing.html#returning-a-view-versus-a-copy\n",
      "  return super().drop(\n",
      "D:\\anaconda\\lib\\site-packages\\pandas\\core\\frame.py:5039: SettingWithCopyWarning: \n",
      "A value is trying to be set on a copy of a slice from a DataFrame\n",
      "\n",
      "See the caveats in the documentation: https://pandas.pydata.org/pandas-docs/stable/user_guide/indexing.html#returning-a-view-versus-a-copy\n",
      "  return super().rename(\n"
     ]
    }
   ],
   "source": [
    "#Estandarizar\n",
    "fam = [t05_19_21_u, t05_19_21_mi, t05_19_21_pe, t05_19_21_me, t05_19_21_gr]\n",
    "\n",
    "for i, j in zip(fam, cat):\n",
    "    i.drop(columns=[\"Tamaño\", \"Tamaño2\"], axis=1, inplace =True)\n",
    "    i.reset_index(drop =True, inplace = True)\n",
    "    i.rename(columns = {'Ocupados': j}, inplace =True)"
   ]
  },
  {
   "cell_type": "code",
   "execution_count": 33,
   "metadata": {},
   "outputs": [],
   "source": [
    "#agrupar mi \n",
    "t05_19_21_mi = t05_19_21_mi.groupby([\"Periodo\", \"Trimestre\"]).sum()\n",
    "t05_19_21_mi.reset_index(inplace=True)\n",
    "#agrupar pe\n",
    "t05_19_21_pe = t05_19_21_pe.groupby([\"Periodo\", \"Trimestre\"]).sum()\n",
    "t05_19_21_pe.reset_index(inplace=True)"
   ]
  },
  {
   "cell_type": "code",
   "execution_count": 34,
   "metadata": {},
   "outputs": [
    {
     "data": {
      "text/html": [
       "<div>\n",
       "<style scoped>\n",
       "    .dataframe tbody tr th:only-of-type {\n",
       "        vertical-align: middle;\n",
       "    }\n",
       "\n",
       "    .dataframe tbody tr th {\n",
       "        vertical-align: top;\n",
       "    }\n",
       "\n",
       "    .dataframe thead th {\n",
       "        text-align: right;\n",
       "    }\n",
       "</style>\n",
       "<table border=\"1\" class=\"dataframe\">\n",
       "  <thead>\n",
       "    <tr style=\"text-align: right;\">\n",
       "      <th></th>\n",
       "      <th>Periodo</th>\n",
       "      <th>Trimestre</th>\n",
       "      <th>Unipersonal</th>\n",
       "      <th>Entre 2 y 10</th>\n",
       "      <th>Entre 11 y 50</th>\n",
       "      <th>Entre 51 y 100</th>\n",
       "      <th>Más de 100</th>\n",
       "    </tr>\n",
       "  </thead>\n",
       "  <tbody>\n",
       "    <tr>\n",
       "      <th>0</th>\n",
       "      <td>2019</td>\n",
       "      <td>ene-mar</td>\n",
       "      <td>8.753068e+05</td>\n",
       "      <td>1.032173e+06</td>\n",
       "      <td>443372.592510</td>\n",
       "      <td>162019.178582</td>\n",
       "      <td>1.342270e+06</td>\n",
       "    </tr>\n",
       "    <tr>\n",
       "      <th>1</th>\n",
       "      <td>2019</td>\n",
       "      <td>abr-jun</td>\n",
       "      <td>1.002749e+06</td>\n",
       "      <td>1.071837e+06</td>\n",
       "      <td>511676.679232</td>\n",
       "      <td>114742.666352</td>\n",
       "      <td>1.291795e+06</td>\n",
       "    </tr>\n",
       "    <tr>\n",
       "      <th>2</th>\n",
       "      <td>2019</td>\n",
       "      <td>jul-sep</td>\n",
       "      <td>9.732548e+05</td>\n",
       "      <td>1.005822e+06</td>\n",
       "      <td>571283.343161</td>\n",
       "      <td>144725.485996</td>\n",
       "      <td>1.299133e+06</td>\n",
       "    </tr>\n",
       "    <tr>\n",
       "      <th>3</th>\n",
       "      <td>2019</td>\n",
       "      <td>oct-dic</td>\n",
       "      <td>1.035854e+06</td>\n",
       "      <td>1.033858e+06</td>\n",
       "      <td>536030.780755</td>\n",
       "      <td>150331.759203</td>\n",
       "      <td>1.308229e+06</td>\n",
       "    </tr>\n",
       "    <tr>\n",
       "      <th>4</th>\n",
       "      <td>2020</td>\n",
       "      <td>ene-mar</td>\n",
       "      <td>6.807197e+05</td>\n",
       "      <td>6.588039e+05</td>\n",
       "      <td>327197.346353</td>\n",
       "      <td>108888.700105</td>\n",
       "      <td>8.689104e+05</td>\n",
       "    </tr>\n",
       "    <tr>\n",
       "      <th>5</th>\n",
       "      <td>2020</td>\n",
       "      <td>abr-jun</td>\n",
       "      <td>5.150993e+05</td>\n",
       "      <td>4.749200e+05</td>\n",
       "      <td>322557.035746</td>\n",
       "      <td>101252.762503</td>\n",
       "      <td>6.424434e+05</td>\n",
       "    </tr>\n",
       "    <tr>\n",
       "      <th>6</th>\n",
       "      <td>2020</td>\n",
       "      <td>jul-sep</td>\n",
       "      <td>9.017886e+05</td>\n",
       "      <td>8.058164e+05</td>\n",
       "      <td>435280.476826</td>\n",
       "      <td>163249.919347</td>\n",
       "      <td>1.061212e+06</td>\n",
       "    </tr>\n",
       "    <tr>\n",
       "      <th>7</th>\n",
       "      <td>2020</td>\n",
       "      <td>oct-dic</td>\n",
       "      <td>1.039139e+06</td>\n",
       "      <td>8.845279e+05</td>\n",
       "      <td>421768.190269</td>\n",
       "      <td>151707.120749</td>\n",
       "      <td>1.258420e+06</td>\n",
       "    </tr>\n",
       "    <tr>\n",
       "      <th>8</th>\n",
       "      <td>2021</td>\n",
       "      <td>ene-mar</td>\n",
       "      <td>9.773486e+05</td>\n",
       "      <td>9.124515e+05</td>\n",
       "      <td>389445.666556</td>\n",
       "      <td>137092.036416</td>\n",
       "      <td>1.185865e+06</td>\n",
       "    </tr>\n",
       "    <tr>\n",
       "      <th>9</th>\n",
       "      <td>2021</td>\n",
       "      <td>abr-jun</td>\n",
       "      <td>9.326691e+05</td>\n",
       "      <td>9.159196e+05</td>\n",
       "      <td>489240.179514</td>\n",
       "      <td>181509.393717</td>\n",
       "      <td>1.077746e+06</td>\n",
       "    </tr>\n",
       "    <tr>\n",
       "      <th>10</th>\n",
       "      <td>2021</td>\n",
       "      <td>jul-sep</td>\n",
       "      <td>9.838751e+05</td>\n",
       "      <td>9.869910e+05</td>\n",
       "      <td>455735.456460</td>\n",
       "      <td>184371.372154</td>\n",
       "      <td>1.210275e+06</td>\n",
       "    </tr>\n",
       "    <tr>\n",
       "      <th>11</th>\n",
       "      <td>2021</td>\n",
       "      <td>oct-dic</td>\n",
       "      <td>1.027249e+06</td>\n",
       "      <td>9.562336e+05</td>\n",
       "      <td>548281.519469</td>\n",
       "      <td>240916.646559</td>\n",
       "      <td>1.052625e+06</td>\n",
       "    </tr>\n",
       "  </tbody>\n",
       "</table>\n",
       "</div>"
      ],
      "text/plain": [
       "    Periodo Trimestre   Unipersonal  Entre 2 y 10  Entre 11 y 50  \\\n",
       "0      2019   ene-mar  8.753068e+05  1.032173e+06  443372.592510   \n",
       "1      2019   abr-jun  1.002749e+06  1.071837e+06  511676.679232   \n",
       "2      2019   jul-sep  9.732548e+05  1.005822e+06  571283.343161   \n",
       "3      2019   oct-dic  1.035854e+06  1.033858e+06  536030.780755   \n",
       "4      2020   ene-mar  6.807197e+05  6.588039e+05  327197.346353   \n",
       "5      2020   abr-jun  5.150993e+05  4.749200e+05  322557.035746   \n",
       "6      2020   jul-sep  9.017886e+05  8.058164e+05  435280.476826   \n",
       "7      2020   oct-dic  1.039139e+06  8.845279e+05  421768.190269   \n",
       "8      2021   ene-mar  9.773486e+05  9.124515e+05  389445.666556   \n",
       "9      2021   abr-jun  9.326691e+05  9.159196e+05  489240.179514   \n",
       "10     2021   jul-sep  9.838751e+05  9.869910e+05  455735.456460   \n",
       "11     2021   oct-dic  1.027249e+06  9.562336e+05  548281.519469   \n",
       "\n",
       "    Entre 51 y 100    Más de 100  \n",
       "0    162019.178582  1.342270e+06  \n",
       "1    114742.666352  1.291795e+06  \n",
       "2    144725.485996  1.299133e+06  \n",
       "3    150331.759203  1.308229e+06  \n",
       "4    108888.700105  8.689104e+05  \n",
       "5    101252.762503  6.424434e+05  \n",
       "6    163249.919347  1.061212e+06  \n",
       "7    151707.120749  1.258420e+06  \n",
       "8    137092.036416  1.185865e+06  \n",
       "9    181509.393717  1.077746e+06  \n",
       "10   184371.372154  1.210275e+06  \n",
       "11   240916.646559  1.052625e+06  "
      ]
     },
     "execution_count": 34,
     "metadata": {},
     "output_type": "execute_result"
    }
   ],
   "source": [
    "#merge\n",
    "t05_19_21_merg = t05_19_21_u.merge(t05_19_21_mi,on=['Periodo', 'Trimestre'],validate = '1:1'\n",
    "                          ).merge(t05_19_21_pe, on=['Periodo', 'Trimestre'],validate = '1:1'\n",
    "                                 ).merge(t05_19_21_me,on=['Periodo', 'Trimestre'],validate = '1:1'\n",
    "                                        ).merge(t05_19_21_gr,on=['Periodo', 'Trimestre'],validate = '1:1')\n",
    "t05_19_21_merg"
   ]
  },
  {
   "cell_type": "code",
   "execution_count": 35,
   "metadata": {},
   "outputs": [],
   "source": [
    "##filtro periodos y creación dataframe\n",
    "per = [2019, 2020, 2021]\n",
    "\n",
    "for i, j in zip(per, range(19,22)):\n",
    "    msk19 = t05_19_21_merg[\"Periodo\"] == i\n",
    "    exec('t05_{} = t05_19_21_merg[msk19==True]'.format(j))\n",
    "    exec('t05_{}.reset_index(drop =True, inplace = True)'.format(j))  "
   ]
  },
  {
   "cell_type": "markdown",
   "metadata": {},
   "source": [
    "### Marco muestral 2018"
   ]
  },
  {
   "cell_type": "code",
   "execution_count": 36,
   "metadata": {
    "scrolled": true
   },
   "outputs": [],
   "source": [
    "#datos\n",
    "t18_21_22 = pd.read_excel(\"G:/Unidades compartidas/Mercado laboral/Datos/1_Raw/tema_1_v2.xlsx\",                      \n",
    "                        sheet_name = \"GEIH marco 2018\", header = 0, nrows = 61, \n",
    "                        usecols = \"B:E\", names = cols)"
   ]
  },
  {
   "cell_type": "code",
   "execution_count": 37,
   "metadata": {},
   "outputs": [],
   "source": [
    "#limpiar variable trimestre\n",
    "t18_21_22[\"Trimestre\"] = (pd.Series(t18_21_22[\"Trimestre\"],                                \n",
    "                                         dtype = \"string\").str.split( r'\\d\\s', expand = True).get(1))"
   ]
  },
  {
   "cell_type": "code",
   "execution_count": 38,
   "metadata": {},
   "outputs": [],
   "source": [
    "#aplicar función\n",
    "t18_21_22[\"Tamaño2\"] = t18_21_22.apply(rang, axis=1)"
   ]
  },
  {
   "cell_type": "markdown",
   "metadata": {},
   "source": [
    "#### Slice"
   ]
  },
  {
   "cell_type": "code",
   "execution_count": 39,
   "metadata": {},
   "outputs": [],
   "source": [
    "#filtros por categoria\n",
    "for i, j in zip(cat, lf):\n",
    "    msk19 = t18_21_22[\"Tamaño2\"] == i\n",
    "    exec('t18_21_22_{} = t18_21_22[msk19==True]'.format(j))"
   ]
  },
  {
   "cell_type": "code",
   "execution_count": 40,
   "metadata": {},
   "outputs": [
    {
     "name": "stderr",
     "output_type": "stream",
     "text": [
      "D:\\anaconda\\lib\\site-packages\\pandas\\core\\frame.py:4906: SettingWithCopyWarning: \n",
      "A value is trying to be set on a copy of a slice from a DataFrame\n",
      "\n",
      "See the caveats in the documentation: https://pandas.pydata.org/pandas-docs/stable/user_guide/indexing.html#returning-a-view-versus-a-copy\n",
      "  return super().drop(\n",
      "D:\\anaconda\\lib\\site-packages\\pandas\\core\\frame.py:5039: SettingWithCopyWarning: \n",
      "A value is trying to be set on a copy of a slice from a DataFrame\n",
      "\n",
      "See the caveats in the documentation: https://pandas.pydata.org/pandas-docs/stable/user_guide/indexing.html#returning-a-view-versus-a-copy\n",
      "  return super().rename(\n"
     ]
    }
   ],
   "source": [
    "#Estandarizar\n",
    "fam = [t18_21_22_u, t18_21_22_mi, t18_21_22_pe, t18_21_22_me, t18_21_22_gr]\n",
    "for i, j in zip(fam, cat):\n",
    "    i.drop(columns=[\"Tamaño\", \"Tamaño2\"], axis=1, inplace =True)\n",
    "    i.reset_index(drop =True, inplace = True)\n",
    "    i.rename(columns = {'Ocupados': j}, inplace =True)"
   ]
  },
  {
   "cell_type": "code",
   "execution_count": 41,
   "metadata": {},
   "outputs": [],
   "source": [
    "#agrupar mi \n",
    "t18_21_22_mi = t18_21_22_mi.groupby([\"Periodo\", \"Trimestre\"]).sum()\n",
    "t18_21_22_mi.reset_index(inplace=True)\n",
    "#agrupar pe\n",
    "t18_21_22_pe = t18_21_22_pe.groupby([\"Periodo\", \"Trimestre\"]).sum()\n",
    "t18_21_22_pe.reset_index(inplace=True)"
   ]
  },
  {
   "cell_type": "code",
   "execution_count": 42,
   "metadata": {
    "scrolled": false
   },
   "outputs": [
    {
     "data": {
      "text/html": [
       "<div>\n",
       "<style scoped>\n",
       "    .dataframe tbody tr th:only-of-type {\n",
       "        vertical-align: middle;\n",
       "    }\n",
       "\n",
       "    .dataframe tbody tr th {\n",
       "        vertical-align: top;\n",
       "    }\n",
       "\n",
       "    .dataframe thead th {\n",
       "        text-align: right;\n",
       "    }\n",
       "</style>\n",
       "<table border=\"1\" class=\"dataframe\">\n",
       "  <thead>\n",
       "    <tr style=\"text-align: right;\">\n",
       "      <th></th>\n",
       "      <th>Periodo</th>\n",
       "      <th>Trimestre</th>\n",
       "      <th>Unipersonal</th>\n",
       "      <th>Entre 2 y 10</th>\n",
       "      <th>Entre 11 y 50</th>\n",
       "      <th>Entre 51 y 100</th>\n",
       "      <th>Más de 100</th>\n",
       "    </tr>\n",
       "  </thead>\n",
       "  <tbody>\n",
       "    <tr>\n",
       "      <th>0</th>\n",
       "      <td>2021</td>\n",
       "      <td>ene-mar</td>\n",
       "      <td>794875.391591</td>\n",
       "      <td>946881.980736</td>\n",
       "      <td>524308.820517</td>\n",
       "      <td>208014.749949</td>\n",
       "      <td>197838.141475</td>\n",
       "    </tr>\n",
       "    <tr>\n",
       "      <th>1</th>\n",
       "      <td>2021</td>\n",
       "      <td>abr-jun</td>\n",
       "      <td>849878.478061</td>\n",
       "      <td>791168.599531</td>\n",
       "      <td>526604.495642</td>\n",
       "      <td>250267.848647</td>\n",
       "      <td>301902.341818</td>\n",
       "    </tr>\n",
       "    <tr>\n",
       "      <th>2</th>\n",
       "      <td>2021</td>\n",
       "      <td>jul-sep</td>\n",
       "      <td>901891.900921</td>\n",
       "      <td>810373.634838</td>\n",
       "      <td>515356.218098</td>\n",
       "      <td>280365.433190</td>\n",
       "      <td>237567.334568</td>\n",
       "    </tr>\n",
       "    <tr>\n",
       "      <th>3</th>\n",
       "      <td>2021</td>\n",
       "      <td>oct-dic</td>\n",
       "      <td>861309.147197</td>\n",
       "      <td>665097.135337</td>\n",
       "      <td>517588.745522</td>\n",
       "      <td>239824.086370</td>\n",
       "      <td>318869.839729</td>\n",
       "    </tr>\n",
       "    <tr>\n",
       "      <th>4</th>\n",
       "      <td>2022</td>\n",
       "      <td>ene-mar</td>\n",
       "      <td>762517.729364</td>\n",
       "      <td>745263.287140</td>\n",
       "      <td>543444.164460</td>\n",
       "      <td>233112.875058</td>\n",
       "      <td>237233.295195</td>\n",
       "    </tr>\n",
       "    <tr>\n",
       "      <th>5</th>\n",
       "      <td>2022</td>\n",
       "      <td>abr-jun</td>\n",
       "      <td>834744.077707</td>\n",
       "      <td>731415.624518</td>\n",
       "      <td>473142.945984</td>\n",
       "      <td>205847.994287</td>\n",
       "      <td>232020.974309</td>\n",
       "    </tr>\n",
       "  </tbody>\n",
       "</table>\n",
       "</div>"
      ],
      "text/plain": [
       "   Periodo Trimestre    Unipersonal   Entre 2 y 10  Entre 11 y 50  \\\n",
       "0     2021   ene-mar  794875.391591  946881.980736  524308.820517   \n",
       "1     2021   abr-jun  849878.478061  791168.599531  526604.495642   \n",
       "2     2021   jul-sep  901891.900921  810373.634838  515356.218098   \n",
       "3     2021   oct-dic  861309.147197  665097.135337  517588.745522   \n",
       "4     2022   ene-mar  762517.729364  745263.287140  543444.164460   \n",
       "5     2022   abr-jun  834744.077707  731415.624518  473142.945984   \n",
       "\n",
       "   Entre 51 y 100     Más de 100  \n",
       "0   208014.749949  197838.141475  \n",
       "1   250267.848647  301902.341818  \n",
       "2   280365.433190  237567.334568  \n",
       "3   239824.086370  318869.839729  \n",
       "4   233112.875058  237233.295195  \n",
       "5   205847.994287  232020.974309  "
      ]
     },
     "execution_count": 42,
     "metadata": {},
     "output_type": "execute_result"
    }
   ],
   "source": [
    "#merge\n",
    "t18_21_22_merg = t18_21_22_u.merge(t18_21_22_mi,on=['Periodo', 'Trimestre'],validate = '1:1'\n",
    "                          ).merge(t18_21_22_pe, on=['Periodo', 'Trimestre'],validate = '1:1'\n",
    "                                 ).merge(t18_21_22_me,on=['Periodo', 'Trimestre'],validate = '1:1'\n",
    "                                        ).merge(t18_21_22_gr,on=['Periodo', 'Trimestre'],validate = '1:1')\n",
    "t18_21_22_merg"
   ]
  },
  {
   "cell_type": "code",
   "execution_count": 43,
   "metadata": {},
   "outputs": [],
   "source": [
    " ###fragmentar para 2021 y 2022\n",
    "per2 = [2021, 2022]\n",
    "\n",
    "for i, j in zip(per2, range(21,23)):\n",
    "    msk19 = t18_21_22_merg[\"Periodo\"] == i\n",
    "    exec('t18_{} = t18_21_22_merg[msk19==True]'.format(j))\n",
    "    exec('t18_{}.reset_index(drop =True, inplace = True)'.format(j))  "
   ]
  },
  {
   "cell_type": "markdown",
   "metadata": {},
   "source": [
    "#### Imputar 2019 y 2020"
   ]
  },
  {
   "cell_type": "markdown",
   "metadata": {},
   "source": [
    "##### Variables poblacionales"
   ]
  },
  {
   "cell_type": "code",
   "execution_count": 44,
   "metadata": {},
   "outputs": [],
   "source": [
    "###cargue de totales \n",
    "#cargue totales 2019-2022 \n",
    "names_grl = [\"Periodo\", \"Trimestre\",  \"Ocupados_T\"]\n",
    "t18_Tot = pd.read_excel(\"G:/Unidades compartidas/Mercado laboral/Datos/4_Output/ml_pob_impu_19_22.xlsx\",     \n",
    "                       sheet_name = \"bogotá trim movil\", header = 0,\n",
    "                         nrows = 40, usecols = \"A,B,L\", names = names_grl)"
   ]
  },
  {
   "cell_type": "code",
   "execution_count": 45,
   "metadata": {},
   "outputs": [],
   "source": [
    "#Fragmentar, establecer indice, segmentar\n",
    "per3 = [2019, 2020]\n",
    "\n",
    "for i, j in zip(per3, range(19,21)):\n",
    "    msk_T = t18_Tot[\"Periodo\"] == i\n",
    "    exec('t18_{}_Tot = t18_Tot[msk_T==True]'.format(j))\n",
    "    exec('t18_{}_Tot.reset_index(drop =True, inplace = True)'.format(j))\n",
    "    exec('t18_{}_Tot = t18_{}_Tot.iloc[0:12:3]'.format(j,j)) #para cada {} un valor\n",
    "    exec('t18_{}_Tot.reset_index(drop =True, inplace = True)'.format(j))"
   ]
  },
  {
   "cell_type": "code",
   "execution_count": 46,
   "metadata": {
    "scrolled": true
   },
   "outputs": [
    {
     "name": "stderr",
     "output_type": "stream",
     "text": [
      "<ipython-input-46-1fb1f44db088>:4: SettingWithCopyWarning: \n",
      "A value is trying to be set on a copy of a slice from a DataFrame.\n",
      "Try using .loc[row_indexer,col_indexer] = value instead\n",
      "\n",
      "See the caveats in the documentation: https://pandas.pydata.org/pandas-docs/stable/user_guide/indexing.html#returning-a-view-versus-a-copy\n",
      "  i[\"Ocupados\"] = np.sum(i.iloc[:,2:7], axis=1)\n"
     ]
    }
   ],
   "source": [
    "#crear variable total ocupados en las 4 tablas\n",
    "fram = [t05_19, t05_20, t18_21, t18_22]\n",
    "for i in (fram):\n",
    "    i[\"Ocupados\"] = np.sum(i.iloc[:,2:7], axis=1)"
   ]
  },
  {
   "cell_type": "code",
   "execution_count": 47,
   "metadata": {
    "scrolled": false
   },
   "outputs": [],
   "source": [
    "#imputar nan quedan nan\n",
    "#x_19_imp= (x_19/(ocupados_19)) * ocu_t_imp_19\n",
    "cat = cat + [\"Ocupados\"]\n",
    "t05_19_imp = t05_19.copy()\n",
    "t05_20_imp = t05_20.copy()\n",
    "\n",
    "for i in (cat):\n",
    "    t05_19_imp[i] = ((t05_19[i] / (t05_19[\"Ocupados\"])) * (t18_19_Tot[\"Ocupados_T\"])).astype(np.double)\n",
    "    t05_20_imp[i] = ((t05_19_imp[i] *\n",
    "                              (1 + ((t05_20[i] - t05_19[i]) / t05_19[i])))).astype(np.double)     "
   ]
  },
  {
   "cell_type": "markdown",
   "metadata": {},
   "source": [
    "#### Concatenar"
   ]
  },
  {
   "cell_type": "code",
   "execution_count": 48,
   "metadata": {},
   "outputs": [],
   "source": [
    "#concat 2019-2022\n",
    "f_frames = [t05_19_imp, t05_20_imp, t18_21, t18_22]\n",
    "t05_18_19_22b = pd.concat(f_frames)\n",
    "t05_18_19_22b.reset_index(drop =True, inplace = True)"
   ]
  },
  {
   "cell_type": "code",
   "execution_count": 49,
   "metadata": {},
   "outputs": [],
   "source": [
    "### marca valores imputados\n",
    "def m_imp(df):\n",
    "    if ((df[\"Periodo\"] == 2019 or df[\"Periodo\"] == 2020) \n",
    "        and (pd.notnull(df[\"Unipersonal\"]))): \n",
    "        x = 1\n",
    "    elif ((df[\"Periodo\"] == 2019 or df[\"Periodo\"] == 2020) \n",
    "        and (pd.isnull(df[\"Unipersonal\"]))):\n",
    "        x = np.nan\n",
    "    else:\n",
    "        x = 0\n",
    "    return(x)"
   ]
  },
  {
   "cell_type": "code",
   "execution_count": 50,
   "metadata": {},
   "outputs": [],
   "source": [
    "t05_18_19_22b[\"valor Imputado\"] = t05_18_19_22b.apply(m_imp, axis=1)"
   ]
  },
  {
   "cell_type": "code",
   "execution_count": 51,
   "metadata": {},
   "outputs": [
    {
     "name": "stdout",
     "output_type": "stream",
     "text": [
      "<class 'pandas.core.frame.DataFrame'>\n",
      "RangeIndex: 14 entries, 0 to 13\n",
      "Data columns (total 9 columns):\n",
      " #   Column          Non-Null Count  Dtype  \n",
      "---  ------          --------------  -----  \n",
      " 0   Periodo         14 non-null     int64  \n",
      " 1   Trimestre       14 non-null     object \n",
      " 2   Unipersonal     14 non-null     float64\n",
      " 3   Entre 2 y 10    14 non-null     float64\n",
      " 4   Entre 11 y 50   14 non-null     float64\n",
      " 5   Entre 51 y 100  14 non-null     float64\n",
      " 6   Más de 100      14 non-null     float64\n",
      " 7   Ocupados        14 non-null     float64\n",
      " 8   valor Imputado  14 non-null     int64  \n",
      "dtypes: float64(6), int64(2), object(1)\n",
      "memory usage: 1.1+ KB\n"
     ]
    }
   ],
   "source": [
    "t05_18_19_22b.info()"
   ]
  },
  {
   "cell_type": "code",
   "execution_count": 52,
   "metadata": {},
   "outputs": [],
   "source": [
    "##guardar en un solo archivo excel con distintas pestañas\n",
    "tamaño_empresa = pd.read_excel(\"G:/Unidades compartidas/Mercado laboral/Datos/4_Output/tamaño_empresa.xlsx\",     \n",
    "                       sheet_name = \"tamaño_empresa\", header = 0)\n",
    "writer = pd.ExcelWriter(\"G:/Unidades compartidas/Mercado laboral/Datos/4_Output/tamaño_empresa.xlsx\")\n",
    "tamaño_empresa.to_excel(writer, sheet_name = \"tamaño_empresa\", header = True, index=False)\n",
    "t05_18_19_22b.to_excel(writer, sheet_name = \"tamaño_empresa_vs\", header = True, index=False)\n",
    "writer.save()\n",
    "writer.close()"
   ]
  }
 ],
 "metadata": {
  "kernelspec": {
   "display_name": "Python 3",
   "language": "python",
   "name": "python3"
  },
  "language_info": {
   "codemirror_mode": {
    "name": "ipython",
    "version": 3
   },
   "file_extension": ".py",
   "mimetype": "text/x-python",
   "name": "python",
   "nbconvert_exporter": "python",
   "pygments_lexer": "ipython3",
   "version": "3.8.3"
  }
 },
 "nbformat": 4,
 "nbformat_minor": 4
}
