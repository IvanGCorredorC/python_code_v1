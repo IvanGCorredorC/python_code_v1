{
 "cells": [
  {
   "cell_type": "markdown",
   "metadata": {},
   "source": [
    "## Master - Main\n",
    "#### Empalme de series"
   ]
  },
  {
   "cell_type": "code",
   "execution_count": 1,
   "metadata": {},
   "outputs": [],
   "source": [
    "# !pip3 install xlrd==2.0.1 --upgrade\n",
    "# import xlrd\n",
    "# xlrd.__version__"
   ]
  },
  {
   "cell_type": "code",
   "execution_count": 2,
   "metadata": {},
   "outputs": [
    {
     "name": "stderr",
     "output_type": "stream",
     "text": [
      "<ipython-input-2-96ad4d31473d>:7: FutureWarning: Defining usecols with out of bounds indices is deprecated and will raise a ParserError in a future version.\n",
      "  t05_21 = pd.read_excel(raw3,\n",
      "<ipython-input-2-96ad4d31473d>:7: ParserWarning: Length of header or names does not match length of data. This leads to a loss of data with index_col=False.\n",
      "  t05_21 = pd.read_excel(raw3,\n"
     ]
    },
    {
     "name": "stdout",
     "output_type": "stream",
     "text": [
      "          Ocupados\n",
      "0      3602203.101\n",
      "1   3626247.613667\n",
      "2   3646383.055667\n",
      "3   3597084.276333\n",
      "4   3687325.227667\n",
      "5   3725169.323667\n",
      "6   3821248.085333\n",
      "7   3882599.249333\n",
      "8      3871197.685\n",
      "9   3825305.171333\n",
      "10             NaN\n",
      "11             NaN\n",
      "           TO         TD\n",
      "0   57.000793  19.615274\n",
      "1   57.310627  18.714925\n",
      "2   57.560152   17.71942\n",
      "3   56.713582  17.664468\n",
      "4   58.068958  16.673301\n",
      "5   58.598122  15.559071\n",
      "6   60.043039  14.089686\n",
      "7   60.941459  12.747072\n",
      "8   60.698892  12.009742\n",
      "9   59.918648  10.820269\n",
      "10        NaN        NaN\n",
      "11        NaN        NaN\n"
     ]
    }
   ],
   "source": [
    "#Mercado laboral general\n",
    "%run ml_grl_1.ipynb"
   ]
  },
  {
   "cell_type": "code",
   "execution_count": 3,
   "metadata": {},
   "outputs": [
    {
     "name": "stderr",
     "output_type": "stream",
     "text": [
      "<ipython-input-3-20217ed1f43a>:5: FutureWarning: Defining usecols with out of bounds indices is deprecated and will raise a ParserError in a future version.\n",
      "  t05_21 = pd.read_excel(\"G:/Unidades compartidas/Mercado laboral/Datos/1_Raw/marco_muestral 2005_proyec_CNPV2018.xlsx\",\n",
      "<ipython-input-3-20217ed1f43a>:5: ParserWarning: Length of header or names does not match length of data. This leads to a loss of data with index_col=False.\n",
      "  t05_21 = pd.read_excel(\"G:/Unidades compartidas/Mercado laboral/Datos/1_Raw/marco_muestral 2005_proyec_CNPV2018.xlsx\",\n"
     ]
    }
   ],
   "source": [
    "#Mercado laboral sectores\n",
    "%run ml_sectores_2.ipynb"
   ]
  },
  {
   "cell_type": "code",
   "execution_count": 4,
   "metadata": {},
   "outputs": [],
   "source": [
    "#Mercado laboral sexo\n",
    "%run ml_sexo_3.ipynb"
   ]
  },
  {
   "cell_type": "code",
   "execution_count": 5,
   "metadata": {},
   "outputs": [],
   "source": [
    "#Mercado laboral jovenes\n",
    "%run ml_jovenes_4.ipynb"
   ]
  },
  {
   "cell_type": "markdown",
   "metadata": {},
   "source": [
    "#### empalme series tamaño firma"
   ]
  },
  {
   "cell_type": "code",
   "execution_count": 6,
   "metadata": {},
   "outputs": [
    {
     "name": "stdout",
     "output_type": "stream",
     "text": [
      "<class 'pandas.core.frame.DataFrame'>\n",
      "RangeIndex: 14 entries, 0 to 13\n",
      "Data columns (total 8 columns):\n",
      " #   Column                  Non-Null Count  Dtype  \n",
      "---  ------                  --------------  -----  \n",
      " 0   Periodo                 14 non-null     int64  \n",
      " 1   Trimestre               14 non-null     string \n",
      " 2   Unipersonal             14 non-null     float64\n",
      " 3   Entre 2 y 10 personas   14 non-null     float64\n",
      " 4   Entre 11 y 50 personas  14 non-null     float64\n",
      " 5   Más de 50 personas      14 non-null     float64\n",
      " 6   Ocupados                14 non-null     float64\n",
      " 7   valor Imputado          14 non-null     int64  \n",
      "dtypes: float64(5), int64(2), string(1)\n",
      "memory usage: 1.0 KB\n"
     ]
    },
    {
     "name": "stderr",
     "output_type": "stream",
     "text": [
      "<ipython-input-6-bb3d9318932b>:4: SettingWithCopyWarning: \n",
      "A value is trying to be set on a copy of a slice from a DataFrame.\n",
      "Try using .loc[row_indexer,col_indexer] = value instead\n",
      "\n",
      "See the caveats in the documentation: https://pandas.pydata.org/pandas-docs/stable/user_guide/indexing.html#returning-a-view-versus-a-copy\n",
      "  i[\"Ocupados\"] = np.sum(i.iloc[:,2:7], axis=1)\n",
      "<ipython-input-6-bb3d9318932b>:4: SettingWithCopyWarning: \n",
      "A value is trying to be set on a copy of a slice from a DataFrame.\n",
      "Try using .loc[row_indexer,col_indexer] = value instead\n",
      "\n",
      "See the caveats in the documentation: https://pandas.pydata.org/pandas-docs/stable/user_guide/indexing.html#returning-a-view-versus-a-copy\n",
      "  i[\"Ocupados\"] = np.sum(i.iloc[:,2:7], axis=1)\n",
      "<ipython-input-6-bb3d9318932b>:4: SettingWithCopyWarning: \n",
      "A value is trying to be set on a copy of a slice from a DataFrame.\n",
      "Try using .loc[row_indexer,col_indexer] = value instead\n",
      "\n",
      "See the caveats in the documentation: https://pandas.pydata.org/pandas-docs/stable/user_guide/indexing.html#returning-a-view-versus-a-copy\n",
      "  i[\"Ocupados\"] = np.sum(i.iloc[:,2:7], axis=1)\n",
      "<ipython-input-6-bb3d9318932b>:4: SettingWithCopyWarning: \n",
      "A value is trying to be set on a copy of a slice from a DataFrame.\n",
      "Try using .loc[row_indexer,col_indexer] = value instead\n",
      "\n",
      "See the caveats in the documentation: https://pandas.pydata.org/pandas-docs/stable/user_guide/indexing.html#returning-a-view-versus-a-copy\n",
      "  i[\"Ocupados\"] = np.sum(i.iloc[:,2:7], axis=1)\n"
     ]
    }
   ],
   "source": [
    "#Mercado laboral tamaño de firma rangos aziz\n",
    "%run ml_tamaño_firma_5.ipynb "
   ]
  },
  {
   "cell_type": "code",
   "execution_count": 7,
   "metadata": {
    "scrolled": true
   },
   "outputs": [
    {
     "name": "stderr",
     "output_type": "stream",
     "text": [
      "<ipython-input-7-103849d6c92a>:5: SettingWithCopyWarning: \n",
      "A value is trying to be set on a copy of a slice from a DataFrame\n",
      "\n",
      "See the caveats in the documentation: https://pandas.pydata.org/pandas-docs/stable/user_guide/indexing.html#returning-a-view-versus-a-copy\n",
      "  i.drop(columns=[\"Tamaño\", \"Tamaño2\"], axis=1, inplace =True)\n",
      "<ipython-input-7-103849d6c92a>:7: SettingWithCopyWarning: \n",
      "A value is trying to be set on a copy of a slice from a DataFrame\n",
      "\n",
      "See the caveats in the documentation: https://pandas.pydata.org/pandas-docs/stable/user_guide/indexing.html#returning-a-view-versus-a-copy\n",
      "  i.rename(columns = {'Ocupados': j}, inplace =True)\n",
      "<ipython-input-7-103849d6c92a>:5: SettingWithCopyWarning: \n",
      "A value is trying to be set on a copy of a slice from a DataFrame\n",
      "\n",
      "See the caveats in the documentation: https://pandas.pydata.org/pandas-docs/stable/user_guide/indexing.html#returning-a-view-versus-a-copy\n",
      "  i.drop(columns=[\"Tamaño\", \"Tamaño2\"], axis=1, inplace =True)\n",
      "<ipython-input-7-103849d6c92a>:7: SettingWithCopyWarning: \n",
      "A value is trying to be set on a copy of a slice from a DataFrame\n",
      "\n",
      "See the caveats in the documentation: https://pandas.pydata.org/pandas-docs/stable/user_guide/indexing.html#returning-a-view-versus-a-copy\n",
      "  i.rename(columns = {'Ocupados': j}, inplace =True)\n",
      "<ipython-input-7-103849d6c92a>:5: SettingWithCopyWarning: \n",
      "A value is trying to be set on a copy of a slice from a DataFrame\n",
      "\n",
      "See the caveats in the documentation: https://pandas.pydata.org/pandas-docs/stable/user_guide/indexing.html#returning-a-view-versus-a-copy\n",
      "  i.drop(columns=[\"Tamaño\", \"Tamaño2\"], axis=1, inplace =True)\n",
      "<ipython-input-7-103849d6c92a>:7: SettingWithCopyWarning: \n",
      "A value is trying to be set on a copy of a slice from a DataFrame\n",
      "\n",
      "See the caveats in the documentation: https://pandas.pydata.org/pandas-docs/stable/user_guide/indexing.html#returning-a-view-versus-a-copy\n",
      "  i.rename(columns = {'Ocupados': j}, inplace =True)\n",
      "<ipython-input-7-103849d6c92a>:5: SettingWithCopyWarning: \n",
      "A value is trying to be set on a copy of a slice from a DataFrame\n",
      "\n",
      "See the caveats in the documentation: https://pandas.pydata.org/pandas-docs/stable/user_guide/indexing.html#returning-a-view-versus-a-copy\n",
      "  i.drop(columns=[\"Tamaño\", \"Tamaño2\"], axis=1, inplace =True)\n",
      "<ipython-input-7-103849d6c92a>:7: SettingWithCopyWarning: \n",
      "A value is trying to be set on a copy of a slice from a DataFrame\n",
      "\n",
      "See the caveats in the documentation: https://pandas.pydata.org/pandas-docs/stable/user_guide/indexing.html#returning-a-view-versus-a-copy\n",
      "  i.rename(columns = {'Ocupados': j}, inplace =True)\n",
      "<ipython-input-7-103849d6c92a>:5: SettingWithCopyWarning: \n",
      "A value is trying to be set on a copy of a slice from a DataFrame\n",
      "\n",
      "See the caveats in the documentation: https://pandas.pydata.org/pandas-docs/stable/user_guide/indexing.html#returning-a-view-versus-a-copy\n",
      "  i.drop(columns=[\"Tamaño\", \"Tamaño2\"], axis=1, inplace =True)\n",
      "<ipython-input-7-103849d6c92a>:7: SettingWithCopyWarning: \n",
      "A value is trying to be set on a copy of a slice from a DataFrame\n",
      "\n",
      "See the caveats in the documentation: https://pandas.pydata.org/pandas-docs/stable/user_guide/indexing.html#returning-a-view-versus-a-copy\n",
      "  i.rename(columns = {'Ocupados': j}, inplace =True)\n",
      "<ipython-input-7-a0e1d1dc08c9>:4: SettingWithCopyWarning: \n",
      "A value is trying to be set on a copy of a slice from a DataFrame\n",
      "\n",
      "See the caveats in the documentation: https://pandas.pydata.org/pandas-docs/stable/user_guide/indexing.html#returning-a-view-versus-a-copy\n",
      "  i.drop(columns=[\"Tamaño\", \"Tamaño2\"], axis=1, inplace =True)\n",
      "<ipython-input-7-a0e1d1dc08c9>:6: SettingWithCopyWarning: \n",
      "A value is trying to be set on a copy of a slice from a DataFrame\n",
      "\n",
      "See the caveats in the documentation: https://pandas.pydata.org/pandas-docs/stable/user_guide/indexing.html#returning-a-view-versus-a-copy\n",
      "  i.rename(columns = {'Ocupados': j}, inplace =True)\n",
      "<ipython-input-7-a0e1d1dc08c9>:4: SettingWithCopyWarning: \n",
      "A value is trying to be set on a copy of a slice from a DataFrame\n",
      "\n",
      "See the caveats in the documentation: https://pandas.pydata.org/pandas-docs/stable/user_guide/indexing.html#returning-a-view-versus-a-copy\n",
      "  i.drop(columns=[\"Tamaño\", \"Tamaño2\"], axis=1, inplace =True)\n",
      "<ipython-input-7-a0e1d1dc08c9>:6: SettingWithCopyWarning: \n",
      "A value is trying to be set on a copy of a slice from a DataFrame\n",
      "\n",
      "See the caveats in the documentation: https://pandas.pydata.org/pandas-docs/stable/user_guide/indexing.html#returning-a-view-versus-a-copy\n",
      "  i.rename(columns = {'Ocupados': j}, inplace =True)\n",
      "<ipython-input-7-a0e1d1dc08c9>:4: SettingWithCopyWarning: \n",
      "A value is trying to be set on a copy of a slice from a DataFrame\n",
      "\n",
      "See the caveats in the documentation: https://pandas.pydata.org/pandas-docs/stable/user_guide/indexing.html#returning-a-view-versus-a-copy\n",
      "  i.drop(columns=[\"Tamaño\", \"Tamaño2\"], axis=1, inplace =True)\n",
      "<ipython-input-7-a0e1d1dc08c9>:6: SettingWithCopyWarning: \n",
      "A value is trying to be set on a copy of a slice from a DataFrame\n",
      "\n",
      "See the caveats in the documentation: https://pandas.pydata.org/pandas-docs/stable/user_guide/indexing.html#returning-a-view-versus-a-copy\n",
      "  i.rename(columns = {'Ocupados': j}, inplace =True)\n",
      "<ipython-input-7-a0e1d1dc08c9>:4: SettingWithCopyWarning: \n",
      "A value is trying to be set on a copy of a slice from a DataFrame\n",
      "\n",
      "See the caveats in the documentation: https://pandas.pydata.org/pandas-docs/stable/user_guide/indexing.html#returning-a-view-versus-a-copy\n",
      "  i.drop(columns=[\"Tamaño\", \"Tamaño2\"], axis=1, inplace =True)\n",
      "<ipython-input-7-a0e1d1dc08c9>:6: SettingWithCopyWarning: \n",
      "A value is trying to be set on a copy of a slice from a DataFrame\n",
      "\n",
      "See the caveats in the documentation: https://pandas.pydata.org/pandas-docs/stable/user_guide/indexing.html#returning-a-view-versus-a-copy\n",
      "  i.rename(columns = {'Ocupados': j}, inplace =True)\n",
      "<ipython-input-7-a0e1d1dc08c9>:4: SettingWithCopyWarning: \n",
      "A value is trying to be set on a copy of a slice from a DataFrame\n",
      "\n",
      "See the caveats in the documentation: https://pandas.pydata.org/pandas-docs/stable/user_guide/indexing.html#returning-a-view-versus-a-copy\n",
      "  i.drop(columns=[\"Tamaño\", \"Tamaño2\"], axis=1, inplace =True)\n",
      "<ipython-input-7-a0e1d1dc08c9>:6: SettingWithCopyWarning: \n",
      "A value is trying to be set on a copy of a slice from a DataFrame\n",
      "\n",
      "See the caveats in the documentation: https://pandas.pydata.org/pandas-docs/stable/user_guide/indexing.html#returning-a-view-versus-a-copy\n",
      "  i.rename(columns = {'Ocupados': j}, inplace =True)\n",
      "<ipython-input-7-1fb1f44db088>:4: SettingWithCopyWarning: \n",
      "A value is trying to be set on a copy of a slice from a DataFrame.\n",
      "Try using .loc[row_indexer,col_indexer] = value instead\n",
      "\n",
      "See the caveats in the documentation: https://pandas.pydata.org/pandas-docs/stable/user_guide/indexing.html#returning-a-view-versus-a-copy\n",
      "  i[\"Ocupados\"] = np.sum(i.iloc[:,2:7], axis=1)\n",
      "<ipython-input-7-1fb1f44db088>:4: SettingWithCopyWarning: \n",
      "A value is trying to be set on a copy of a slice from a DataFrame.\n",
      "Try using .loc[row_indexer,col_indexer] = value instead\n",
      "\n",
      "See the caveats in the documentation: https://pandas.pydata.org/pandas-docs/stable/user_guide/indexing.html#returning-a-view-versus-a-copy\n",
      "  i[\"Ocupados\"] = np.sum(i.iloc[:,2:7], axis=1)\n",
      "<ipython-input-7-1fb1f44db088>:4: SettingWithCopyWarning: \n",
      "A value is trying to be set on a copy of a slice from a DataFrame.\n",
      "Try using .loc[row_indexer,col_indexer] = value instead\n",
      "\n",
      "See the caveats in the documentation: https://pandas.pydata.org/pandas-docs/stable/user_guide/indexing.html#returning-a-view-versus-a-copy\n",
      "  i[\"Ocupados\"] = np.sum(i.iloc[:,2:7], axis=1)\n",
      "<ipython-input-7-1fb1f44db088>:4: SettingWithCopyWarning: \n",
      "A value is trying to be set on a copy of a slice from a DataFrame.\n",
      "Try using .loc[row_indexer,col_indexer] = value instead\n",
      "\n",
      "See the caveats in the documentation: https://pandas.pydata.org/pandas-docs/stable/user_guide/indexing.html#returning-a-view-versus-a-copy\n",
      "  i[\"Ocupados\"] = np.sum(i.iloc[:,2:7], axis=1)\n"
     ]
    },
    {
     "name": "stdout",
     "output_type": "stream",
     "text": [
      "<class 'pandas.core.frame.DataFrame'>\n",
      "RangeIndex: 14 entries, 0 to 13\n",
      "Data columns (total 9 columns):\n",
      " #   Column          Non-Null Count  Dtype  \n",
      "---  ------          --------------  -----  \n",
      " 0   Periodo         14 non-null     int64  \n",
      " 1   Trimestre       14 non-null     string \n",
      " 2   Unipersonal     14 non-null     float64\n",
      " 3   Entre 2 y 10    14 non-null     float64\n",
      " 4   Entre 11 y 50   14 non-null     float64\n",
      " 5   Entre 51 y 100  14 non-null     float64\n",
      " 6   Más de 100      14 non-null     float64\n",
      " 7   Ocupados        14 non-null     float64\n",
      " 8   valor Imputado  14 non-null     int64  \n",
      "dtypes: float64(6), int64(2), string(1)\n",
      "memory usage: 1.1 KB\n"
     ]
    }
   ],
   "source": [
    "##Mercado laboral tamaño de firma rangos GEIH\n",
    "%run ml_tamaño_firma_v2_6.ipynb"
   ]
  },
  {
   "cell_type": "markdown",
   "metadata": {},
   "source": [
    "### Tabla Resumen Despacho"
   ]
  },
  {
   "cell_type": "markdown",
   "metadata": {},
   "source": [
    "#### Trimestre"
   ]
  },
  {
   "cell_type": "code",
   "execution_count": 8,
   "metadata": {},
   "outputs": [],
   "source": [
    "## estandarizar llaves\n",
    "objts = [ml_pob_impu_19_22, ml_pob_impu_19_22_sec, desag_impu_19_22, j_nj_impu_19_22,\n",
    "         t05_18_19_22, t05_18_19_22b]\n",
    "for i in (objts):\n",
    "    i.reset_index(drop = True, inplace =True)\n",
    "    i[\"Trimestre\"] = i[\"Trimestre\"].str.strip().str.replace(\" \", \"\").str.lower()"
   ]
  },
  {
   "cell_type": "code",
   "execution_count": 9,
   "metadata": {},
   "outputs": [],
   "source": [
    "#merge\n",
    "resumen = ml_pob_impu_19_22.merge(ml_pob_impu_19_22_sec,on=['Periodo', 'Trimestre'],validate = '1:1',\n",
    "                                  how= 'outer', suffixes = [None,\"_sec\"]\n",
    "                           ).merge(desag_impu_19_22, on=['Periodo', 'Trimestre'], validate = '1:1',\n",
    "                                   how= 'outer', suffixes = [None,\"_sex\"]\n",
    "                                 ).merge(j_nj_impu_19_22, on=['Periodo', 'Trimestre'],validate = '1:1', \n",
    "                                         how= 'outer', suffixes =[None,\"_jov\"]\n",
    "                                         ).merge(t05_18_19_22, on=['Periodo', 'Trimestre'], validate = '1:1',\n",
    "                                                how= 'outer', suffixes =[None,\"_inf\"]\n",
    "                                                ).merge(t05_18_19_22b,on=['Periodo', 'Trimestre'], validate = '1:1', \n",
    "                                                        how= 'outer', suffixes = [None,\"_infb\"]) "
   ]
  },
  {
   "cell_type": "code",
   "execution_count": 10,
   "metadata": {},
   "outputs": [],
   "source": [
    "##borrar var duplicadas##borrar var duplicadas\n",
    "resumen.drop(columns=[\"Ocupados_sec\", \"valor Imputado_sec\",\"valor Imputado_sex\", \"valor Imputado_jov\",\n",
    "                      \"valor Imputado_inf\",\"valor Imputado_infb\"], inplace =True)"
   ]
  },
  {
   "cell_type": "code",
   "execution_count": 11,
   "metadata": {},
   "outputs": [],
   "source": [
    "#nuevas variables\n",
    "resumen[\"% Ocupados_h\"] = resumen[\"Ocupados_h\"] / (resumen[\"Ocupados_h\"] + resumen[\"Ocupados_m\"]) *100\n",
    "resumen[\"% Ocupados_m\"] = resumen[\"Ocupados_m\"] / (resumen[\"Ocupados_h\"] + resumen[\"Ocupados_m\"]) *100\n",
    "resumen['%Desocupados_h'] = resumen['Desocupados_h'] /(resumen['Desocupados_h'] + resumen['Desocupados_m']) *100\n",
    "resumen['%Desocupados_m'] = resumen['Desocupados_m'] / (resumen['Desocupados_h'] + resumen['Desocupados_m']) *100"
   ]
  },
  {
   "cell_type": "code",
   "execution_count": 12,
   "metadata": {},
   "outputs": [],
   "source": [
    "#reorderar columnas\n",
    "resumen = resumen.reindex(columns=['Periodo', 'Trimestre','valor Imputado',\n",
    "                                   '% población en edad de trabajar ',                                 'TGP', 'TO',\n",
    "       'TD', 'TS', 'TI', 'Población total', 'Población en edad de trabajar',\n",
    "       'Fuerza de trabajo', 'Ocupados', 'Desocupados',\n",
    "       'Población fuera de la fuerza laboral', 'Subocupados', 'Informales',\n",
    "       'No informa',\n",
    "       'Agricultura, ganadería, caza, silvicultura y pesca',\n",
    "       'Explotación de minas y canteras', 'Industrias manufactureras',\n",
    "       'Suministro de electricidad gas, agua y gestión de desechos',\n",
    "       'Construcción', 'Comercio y reparación de vehículos',\n",
    "       'Alojamiento y servicios de comida', 'Transporte y almacenamiento',\n",
    "       'Información y comunicaciones', 'Actividades financieras y de seguros',\n",
    "       'Actividades inmobiliarias',  \n",
    "        'Actividades profesionales, científicas, técnicas y servicios administrativos',\n",
    "       'Administración pública y defensa, educación y atención de la salud humana',\n",
    "       'Actividades artísticas, entretenimiento recreación y otras actividades de servicios',\n",
    "       'PET_h', 'FT_h', 'Desocupados_h', '%Desocupados_h', 'Ocupados_h','% Ocupados_h', 'Informal_h', 'TO_h',\n",
    "       'TD_h', 'PET_m', 'FT_m', 'Desocupados_m', '%Desocupados_m', 'Ocupados_m', '% Ocupados_m', 'Informal_m',\n",
    "       'TO_m', 'TD_m', 'TGP_h', 'TGP_m', 'PET_j', 'FT_j', 'Desocupados_j',\n",
    "       'Ocupados_j', 'Informal_j', 'TO_j', 'TD_j', 'PET_nj', 'FT_nj',\n",
    "       'Desocupados_nj', 'Ocupados_nj', 'Informal_nj', 'TO_nj', 'TD_nj',\n",
    "       'TGP_j', 'TGP_nj', 'Unipersonal', 'Entre 2 y 10 personas',\n",
    "       'Entre 11 y 50 personas', 'Más de 50 personas', 'Ocupados_inf',\n",
    "       'Unipersonal_infb', 'Entre 2 y 10', 'Entre 11 y 50', 'Entre 51 y 100',\n",
    "       'Más de 100', 'Ocupados_infb'])"
   ]
  },
  {
   "cell_type": "code",
   "execution_count": 13,
   "metadata": {
    "scrolled": true
   },
   "outputs": [
    {
     "data": {
      "text/plain": [
       "['1: ene-mar',\n",
       " '2: feb-abr',\n",
       " '3: mar-may',\n",
       " '4: abr-jun',\n",
       " '5: may-jul',\n",
       " '6: jun-ago',\n",
       " '7: jul-sep',\n",
       " '8: ago-oct',\n",
       " '9: sep-nov',\n",
       " '10: oct-dic',\n",
       " '11: nov19-ene20',\n",
       " '12: dic19-feb20',\n",
       " '13: nov20-ene21',\n",
       " '14: dic20-feb21',\n",
       " '15: nov21-ene22',\n",
       " '16: dic21-feb22']"
      ]
     },
     "execution_count": 13,
     "metadata": {},
     "output_type": "execute_result"
    }
   ],
   "source": [
    "#lista de opciones\n",
    "lt = ['1: ene-mar','2: feb-abr', '3: mar-may','4: abr-jun','5: may-jul','6: jun-ago','7: jul-sep',\n",
    " '8: ago-oct','9: sep-nov','10: oct-dic','11: nov19-ene20','12: dic19-feb20','13: nov20-ene21',\n",
    "      '14: dic20-feb21', '15: nov21-ene22','16: dic21-feb22']\n",
    "lt"
   ]
  },
  {
   "cell_type": "code",
   "execution_count": 14,
   "metadata": {
    "scrolled": false
   },
   "outputs": [
    {
     "name": "stdout",
     "output_type": "stream",
     "text": [
      "De acuerdo con la siguiente lista, inserta el número correspondiente al trimestre que quieres obtener: \n",
      "\n",
      "['1: ene-mar', '2: feb-abr', '3: mar-may', '4: abr-jun', '5: may-jul', '6: jun-ago', '7: jul-sep', '8: ago-oct', '9: sep-nov', '10: oct-dic', '11: nov19-ene20', '12: dic19-feb20', '13: nov20-ene21', '14: dic20-feb21', '15: nov21-ene22', '16: dic21-feb22']\n",
      "5\n"
     ]
    }
   ],
   "source": [
    "print('De acuerdo con la siguiente lista, inserta el número correspondiente al trimestre que quieres obtener:', \"\\n\")\n",
    "print(lt)\n",
    "trim = int(input())"
   ]
  },
  {
   "cell_type": "code",
   "execution_count": 15,
   "metadata": {},
   "outputs": [],
   "source": [
    "#Trimestres\n",
    "lt1 = ['ene-mar','feb-abr', 'mar-may','abr-jun','may-jul','jun-ago','jul-sep','ago-oct',\n",
    "       'sep-nov','oct-dic','nov19-ene20','dic19-feb20','nov20-ene21','dic20-feb21', \n",
    "       'nov21-ene22','dic21-feb22'] #mirar excepciones: 'nov21-ene22','dic21-feb22'"
   ]
  },
  {
   "cell_type": "code",
   "execution_count": 16,
   "metadata": {},
   "outputs": [
    {
     "data": {
      "text/plain": [
       "'may-jul'"
      ]
     },
     "execution_count": 16,
     "metadata": {},
     "output_type": "execute_result"
    }
   ],
   "source": [
    "#convertir input en cadena\n",
    "for i, j in zip(range(1,17), lt1):\n",
    "    if trim == i:\n",
    "        trim = j\n",
    "trim"
   ]
  },
  {
   "cell_type": "code",
   "execution_count": 17,
   "metadata": {},
   "outputs": [],
   "source": [
    "#filtar trimestre\n",
    "#if trim <4\n",
    "mk1 = resumen[\"Trimestre\"] == trim\n",
    "resumen = resumen[mk1==True]"
   ]
  },
  {
   "cell_type": "code",
   "execution_count": 18,
   "metadata": {},
   "outputs": [],
   "source": [
    "#Transponer\n",
    "resument = resumen.set_index(\"Periodo\").transpose()#.reset_index()#.rename(columns={\"index\":\"Trimestre\"})\n",
    "resument.columns.name = \"Variables\""
   ]
  },
  {
   "cell_type": "code",
   "execution_count": 19,
   "metadata": {},
   "outputs": [],
   "source": [
    "#slice\n",
    "resument = resument.iloc[1:,:]"
   ]
  },
  {
   "cell_type": "code",
   "execution_count": 20,
   "metadata": {},
   "outputs": [],
   "source": [
    "##reemplazar cero para división\n",
    "resument[2019] = resument[2019].replace({0 : np.nan})"
   ]
  },
  {
   "cell_type": "code",
   "execution_count": 21,
   "metadata": {},
   "outputs": [
    {
     "data": {
      "text/plain": [
       "Int64Index([2019, 2020, 2021, 2022], dtype='int64', name='Variables')"
      ]
     },
     "execution_count": 21,
     "metadata": {},
     "output_type": "execute_result"
    }
   ],
   "source": [
    "resument.columns"
   ]
  },
  {
   "cell_type": "code",
   "execution_count": 22,
   "metadata": {},
   "outputs": [],
   "source": [
    "#variables nuevas\n",
    "per1 = [2020, 2021, 2022]\n",
    "per2 = [2020, 2021]\n",
    "for i, j, k,l in zip(range(20,23), per1, range(20,22), per2):\n",
    "#for i, j in zip(range(20,23), per1):\n",
    "    if (resument.columns == 2022).any():\n",
    "        exec(\"resument['Dif_19-{}'] = resument[j] - resument[2019]\".format(i))\n",
    "        exec(\"resument['Recuperación_19/{}'] = resument[j] / (resument[2019])\".format(i))\n",
    "        resument['Dif_19-22'] = resument[2022] - resument[2019]\n",
    "        resument['Recuperación_19/22'] = resument[2022] / (resument[2019])\n",
    "    else:\n",
    "        exec(\"resument['Dif_19-{}'] = resument[l] - resument[2019]\".format(k))\n",
    "        exec(\"resument['Recuperación_19/{}'] = resument[l] / (resument[2019])\".format(k))"
   ]
  },
  {
   "cell_type": "code",
   "execution_count": 23,
   "metadata": {
    "scrolled": true
   },
   "outputs": [],
   "source": [
    "# #variables nuevas\n",
    "# per = [2020, 2021, 2022]\n",
    "# for i, j in zip(range(20,23), per):\n",
    "#     exec(\"resument['Dif_19-{}'] = resument[j] - resument[2019]\".format(i))\n",
    "#     exec(\"resument['Recuperación_19/{}'] = resument[j] / (resument[2019])\".format(i))\n",
    "# ##establecer excepciones cuando no hay trimesre para 2022"
   ]
  },
  {
   "cell_type": "code",
   "execution_count": 24,
   "metadata": {},
   "outputs": [],
   "source": [
    "#Exportar pestaña por trimestre\n",
    "resument.to_excel(\"G:/Unidades compartidas/Mercado laboral/Datos/4_Output/tabla_resumen_{}.xlsx\".format(trim),     \n",
    "                        sheet_name = '{}'.format(trim), header = True, index=True)"
   ]
  },
  {
   "cell_type": "code",
   "execution_count": 25,
   "metadata": {},
   "outputs": [],
   "source": [
    "##guardar en un solo archivo excel con distintas pestañas\n",
    "# rest_base= pd.read_excel(\"G:/Unidades compartidas/Mercado laboral/Datos/4_Output/tabla_resumen.xlsx\",\n",
    "#                         sheet_name = 'abr-jun', header = 0)\n",
    "\n",
    "# writer_f = pd.ExcelWriter(\"G:/Unidades compartidas/Mercado laboral/Datos/4_Output/tabla_resumen.xlsx\")\n",
    "\n",
    "# rest_base.to_excel(\"G:/Unidades compartidas/Mercado laboral/Datos/4_Output/tabla_resumen.xlsx\",     \n",
    "#                         sheet_name = 'abr-jun', header = True, index=True)\n",
    "\n",
    "# resument.to_excel(\"G:/Unidades compartidas/Mercado laboral/Datos/4_Output/tabla_resumen.xlsx\",     \n",
    "#                         sheet_name = '{}'.format(trim), header = True, index=True)\n",
    "# # for i, j in zip(range(1,17), lt1):\n",
    "# #     if trim == j:\n",
    "# #         exec(\"resument'{}'.to_excel(writer_f, sheet_name = '{}'.format(trim), header = True, index=True)\").format(i,j)\n",
    "# writer.save()\n",
    "# writer.close()"
   ]
  },
  {
   "cell_type": "code",
   "execution_count": 26,
   "metadata": {
    "scrolled": true
   },
   "outputs": [],
   "source": [
    "# print(resument.index.name)\n",
    "# print(resument.columns.name)"
   ]
  },
  {
   "cell_type": "code",
   "execution_count": 27,
   "metadata": {
    "scrolled": true
   },
   "outputs": [],
   "source": [
    "#comparar columnas\n",
    "# resumen[[\"Periodo\", \"Trimestre\"]].compare(j_nj_impu_19_22[[\"Periodo\", \"Trimestre\"]], \n",
    "#                                           keep_shape=True, keep_equal= False)"
   ]
  }
 ],
 "metadata": {
  "kernelspec": {
   "display_name": "Python 3",
   "language": "python",
   "name": "python3"
  },
  "language_info": {
   "codemirror_mode": {
    "name": "ipython",
    "version": 3
   },
   "file_extension": ".py",
   "mimetype": "text/x-python",
   "name": "python",
   "nbconvert_exporter": "python",
   "pygments_lexer": "ipython3",
   "version": "3.8.3"
  }
 },
 "nbformat": 4,
 "nbformat_minor": 4
}
