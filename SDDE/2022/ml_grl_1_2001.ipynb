{
 "cells": [
  {
   "cell_type": "code",
   "execution_count": 704,
   "metadata": {},
   "outputs": [],
   "source": [
    "import pandas as pd\n",
    "import numpy as np"
   ]
  },
  {
   "cell_type": "markdown",
   "metadata": {},
   "source": [
    "### Marco muestral 2005"
   ]
  },
  {
   "cell_type": "code",
   "execution_count": 705,
   "metadata": {},
   "outputs": [],
   "source": [
    "#principl objects\n",
    "raw1 = \"G:/Unidades compartidas/Mercado laboral/Datos/1_Raw/marco_muestral 2005_proyec_CNPV2018.xlsx\""
   ]
  },
  {
   "cell_type": "code",
   "execution_count": 706,
   "metadata": {},
   "outputs": [],
   "source": [
    "#datos 2019\n",
    "t05_comp = pd.read_excel(raw1,     \n",
    "                       sheet_name = \"areas trim movil\", header = 0,\n",
    "                       skiprows = range(58), nrows = 28)#,  usecols = \"A:IS\")#, names=names_col_19)"
   ]
  },
  {
   "cell_type": "code",
   "execution_count": 707,
   "metadata": {
    "scrolled": true
   },
   "outputs": [],
   "source": [
    "#borrar filas innecesarias y reindexar\n",
    "t05_comp.drop(t05_comp.index[4:15], inplace = True)\n",
    "t05_comp.reset_index(drop =True, inplace = True) \n",
    "t05_comp.drop(t05_comp.index[[9,10]],inplace = True) \n",
    "t05_comp.reset_index(drop =True, inplace = True) \n",
    "t05_comp.drop(t05_comp.index[11:14], inplace = True)"
   ]
  },
  {
   "cell_type": "code",
   "execution_count": 708,
   "metadata": {},
   "outputs": [],
   "source": [
    "##cambiar nombre de variable\n",
    "t05_comp = t05_comp.rename(columns = {\"Unnamed: 0\":\"Poblaciones\"})"
   ]
  },
  {
   "cell_type": "code",
   "execution_count": 709,
   "metadata": {},
   "outputs": [
    {
     "data": {
      "text/plain": [
       "Index(['Poblaciones', 'Ene -Mar', 'Feb -Abr', 'Mar - May', 'Abr - Jun',\n",
       "       'May - Jul', 'Jun - Ago', 'Jul - Sep', 'Ago -Oct', 'Sep - Nov',\n",
       "       ...\n",
       "       'Ene - Mar.12', 'Feb - Abr.10', 'Mar - May.18', 'Abr - Jun ',\n",
       "       'May - Jul.18', 'Jun - Ago.19', 'Jul - Sep.19', 'Ago - Oct.13',\n",
       "       'Sep - Nov.20', 'Oct - Dic.20'],\n",
       "      dtype='object', length=251)"
      ]
     },
     "execution_count": 709,
     "metadata": {},
     "output_type": "execute_result"
    }
   ],
   "source": [
    "t05_comp.columns"
   ]
  },
  {
   "cell_type": "code",
   "execution_count": 710,
   "metadata": {},
   "outputs": [],
   "source": [
    "###insertar columnas vacías al final para la división \"Nov 21 - Ene 22\", \"Dic 21 - Feb 22\"\n",
    "t05_comp.insert(251, 'Nov 21 - Ene 22', np.nan)\n",
    "t05_comp.insert(252, 'Dic 21 - Feb 22', np.nan)"
   ]
  },
  {
   "cell_type": "markdown",
   "metadata": {},
   "source": [
    "#### Transponer"
   ]
  },
  {
   "cell_type": "code",
   "execution_count": 711,
   "metadata": {},
   "outputs": [],
   "source": [
    "#establecer indice\n",
    "t05_comp = t05_comp.set_index(\"Poblaciones\")"
   ]
  },
  {
   "cell_type": "code",
   "execution_count": 712,
   "metadata": {},
   "outputs": [],
   "source": [
    "t05_comp = t05_comp.transpose().reset_index()"
   ]
  },
  {
   "cell_type": "code",
   "execution_count": 713,
   "metadata": {},
   "outputs": [],
   "source": [
    "#renombrar columnas\n",
    "names =  {\"index\":\"Trimestre\",\"Fuerza de trabajo (población económicamente activa)\":\"Fuerza de trabajo\", \"Población fuera de la fuerza de trabajo (inactivos)\": \"Población fuera de la fuerza laboral\"}\n",
    "t05_comp = t05_comp.rename(columns= names)"
   ]
  },
  {
   "cell_type": "code",
   "execution_count": 714,
   "metadata": {},
   "outputs": [],
   "source": [
    "# for i in (range(0,250, 12)):\n",
    "#     print(i) "
   ]
  },
  {
   "cell_type": "code",
   "execution_count": 715,
   "metadata": {},
   "outputs": [],
   "source": [
    "#crear variable de periodo\n",
    "per = list(range(2001,2022))\n",
    "t05_comp.insert(0, 'Periodo',  pd.Series(per, index= range(0,250, 12)))"
   ]
  },
  {
   "cell_type": "code",
   "execution_count": 716,
   "metadata": {},
   "outputs": [],
   "source": [
    "#rellenar\n",
    "t05_comp[\"Periodo\"].ffill(inplace=True)"
   ]
  },
  {
   "cell_type": "code",
   "execution_count": 717,
   "metadata": {},
   "outputs": [],
   "source": [
    "#limpiar variable trimestre\n",
    "t05_comp[\"Trimestre\"] = t05_comp[\"Trimestre\"].str.strip().str.replace(\" \", \"\").str.lower()"
   ]
  },
  {
   "cell_type": "code",
   "execution_count": 718,
   "metadata": {
    "scrolled": true
   },
   "outputs": [],
   "source": [
    "### crear variable Subocupados y borrar variables subempleo sub y obj.\n",
    "t05_comp[\"Subocupados\"] = t05_comp[\"Subempleados Subjetivos\"] + t05_comp[\"Subempleados Objetivos\"]\n",
    "t05_comp.drop(columns = [\"Subempleados Subjetivos\", \"Subempleados Objetivos\"], inplace = True)"
   ]
  },
  {
   "cell_type": "code",
   "execution_count": 719,
   "metadata": {},
   "outputs": [],
   "source": [
    "t05_comp[\"Trimestre\"] = (pd.Series(t05_comp[\"Trimestre\"],                                \n",
    "                                          dtype = \"string\").str.split(r'\\.\\d', expand = True).get(0))"
   ]
  },
  {
   "cell_type": "code",
   "execution_count": 720,
   "metadata": {},
   "outputs": [],
   "source": [
    "#imprimir el número completo\n",
    "# pd.set_option('float_format', '{:f}'.format)"
   ]
  },
  {
   "cell_type": "code",
   "execution_count": 721,
   "metadata": {},
   "outputs": [],
   "source": [
    "t05_comp.to_excel(\"G:/Unidades compartidas/Mercado laboral/Datos/4_Output/t05_completa.xlsx\",     \n",
    "                       sheet_name = \"bogotá_trimmovil_m05\", header = True, index=False)"
   ]
  },
  {
   "cell_type": "markdown",
   "metadata": {},
   "source": [
    "### Marco muestral 2018"
   ]
  },
  {
   "cell_type": "code",
   "execution_count": 722,
   "metadata": {},
   "outputs": [],
   "source": [
    "#datos 2021\n",
    "raw5 = \"G:/Unidades compartidas/Mercado laboral/Datos/1_Raw/anexo_empleo_jul_22.xlsx\"\n",
    "names_col_21= [\"Poblaciones\", \"Ene - Mar\",\"Feb - Abr\", \"Mar - May\",\"Abr - Jun\", \"May - Jul\",\n",
    "             \"Jun - Ago\", \"Jul - Sep\", \"Ago - Oct\", \"Sep - Nov\", \"Oct - Dic\",\"Nov 21 - Ene 22\", \n",
    "             \"Dic 21 - Feb 22\"]\n",
    "t18_21 = pd.read_excel(raw5,     \n",
    "                       sheet_name = \"Total 23 ciudades A.M. Trim\", header = 0,\n",
    "                       skiprows = range(31), nrows = 13, usecols = \"A:M\", names =names_col_21)\n",
    "t18_21.drop([5], inplace = True)   "
   ]
  },
  {
   "cell_type": "code",
   "execution_count": 723,
   "metadata": {},
   "outputs": [],
   "source": [
    "#datos 2022\n",
    "names_col_22= [\"Poblaciones\", \"Ene - Mar\",\"Feb - Abr\", \"Mar - May\",\"Abr - Jun\", \"May - Jul\"]\n",
    "t18_22 = pd.read_excel(raw5,     \n",
    "                       sheet_name = \"Total 23 ciudades A.M. Trim\", header = 0,\n",
    "                       skiprows = range(31), nrows = 13,  usecols = \"A, N:R\", names = names_col_22)\n",
    "t18_22.drop([5], inplace = True) "
   ]
  },
  {
   "cell_type": "markdown",
   "metadata": {},
   "source": [
    "#### Transponer"
   ]
  },
  {
   "cell_type": "code",
   "execution_count": 724,
   "metadata": {},
   "outputs": [],
   "source": [
    "#establecer indice, renombrar columnas, crear variable de periodo\n",
    "dfs_18 = [t18_21, t18_22]\n",
    "per2 = [2021, 2022]\n",
    "\n",
    "for i, j, k in zip(dfs_18, range(21,23), per2):\n",
    "    i = i.set_index(\"Poblaciones\")\n",
    "    exec('t18_{}t = i.transpose().reset_index()'.format(j))\n",
    "    names =  {'index':'Trimestre', 'Fuerza de trabajo  ': 'Fuerza de trabajo'}\n",
    "    exec('t18_{}t = t18_{}t.rename(columns= names)'.format(j,j))\n",
    "    exec(\"t18_{}t.insert(0, 'Periodo',  k)\".format(j))\n",
    "    exec('t18_{}t[\"Trimestre\"] = t18_{}t[\"Trimestre\"].str.strip().str.replace(\" \", \"\").str.lower()'.format(j,j))"
   ]
  },
  {
   "cell_type": "code",
   "execution_count": 743,
   "metadata": {},
   "outputs": [
    {
     "data": {
      "text/html": [
       "<div>\n",
       "<style scoped>\n",
       "    .dataframe tbody tr th:only-of-type {\n",
       "        vertical-align: middle;\n",
       "    }\n",
       "\n",
       "    .dataframe tbody tr th {\n",
       "        vertical-align: top;\n",
       "    }\n",
       "\n",
       "    .dataframe thead th {\n",
       "        text-align: right;\n",
       "    }\n",
       "</style>\n",
       "<table border=\"1\" class=\"dataframe\">\n",
       "  <thead>\n",
       "    <tr style=\"text-align: right;\">\n",
       "      <th>Poblaciones</th>\n",
       "      <th>Periodo</th>\n",
       "      <th>Trimestre</th>\n",
       "      <th>% población en edad de trabajar</th>\n",
       "      <th>TGP</th>\n",
       "      <th>TO</th>\n",
       "      <th>TD</th>\n",
       "      <th>TS</th>\n",
       "      <th>Población total</th>\n",
       "      <th>Población en edad de trabajar</th>\n",
       "      <th>Fuerza de trabajo</th>\n",
       "      <th>Ocupados</th>\n",
       "      <th>Desocupados</th>\n",
       "      <th>Población fuera de la fuerza laboral</th>\n",
       "      <th>Subocupados</th>\n",
       "    </tr>\n",
       "  </thead>\n",
       "  <tbody>\n",
       "    <tr>\n",
       "      <th>0</th>\n",
       "      <td>2021</td>\n",
       "      <td>ene-mar</td>\n",
       "      <td>81.293586</td>\n",
       "      <td>69.185176</td>\n",
       "      <td>55.385997</td>\n",
       "      <td>19.945283</td>\n",
       "      <td>8.312239</td>\n",
       "      <td>7773.758000</td>\n",
       "      <td>6319.566667</td>\n",
       "      <td>4372.203333</td>\n",
       "      <td>3500.155000</td>\n",
       "      <td>872.048333</td>\n",
       "      <td>1947.363333</td>\n",
       "      <td>363.428000</td>\n",
       "    </tr>\n",
       "    <tr>\n",
       "      <th>1</th>\n",
       "      <td>2021</td>\n",
       "      <td>feb-abr</td>\n",
       "      <td>81.319192</td>\n",
       "      <td>69.492535</td>\n",
       "      <td>56.427774</td>\n",
       "      <td>18.800237</td>\n",
       "      <td>7.635219</td>\n",
       "      <td>7780.889333</td>\n",
       "      <td>6327.356333</td>\n",
       "      <td>4397.040333</td>\n",
       "      <td>3570.386333</td>\n",
       "      <td>826.654000</td>\n",
       "      <td>1930.316000</td>\n",
       "      <td>335.723667</td>\n",
       "    </tr>\n",
       "    <tr>\n",
       "      <th>2</th>\n",
       "      <td>2021</td>\n",
       "      <td>mar-may</td>\n",
       "      <td>81.344322</td>\n",
       "      <td>68.464891</td>\n",
       "      <td>56.388879</td>\n",
       "      <td>17.638255</td>\n",
       "      <td>7.327873</td>\n",
       "      <td>7787.770000</td>\n",
       "      <td>6334.908667</td>\n",
       "      <td>4337.188333</td>\n",
       "      <td>3572.184000</td>\n",
       "      <td>765.004333</td>\n",
       "      <td>1997.720333</td>\n",
       "      <td>317.823667</td>\n",
       "    </tr>\n",
       "    <tr>\n",
       "      <th>3</th>\n",
       "      <td>2021</td>\n",
       "      <td>abr-jun</td>\n",
       "      <td>81.370083</td>\n",
       "      <td>67.995643</td>\n",
       "      <td>55.988653</td>\n",
       "      <td>17.658469</td>\n",
       "      <td>7.117056</td>\n",
       "      <td>7794.688667</td>\n",
       "      <td>6342.544667</td>\n",
       "      <td>4312.654000</td>\n",
       "      <td>3551.105333</td>\n",
       "      <td>761.548667</td>\n",
       "      <td>2029.890667</td>\n",
       "      <td>306.934000</td>\n",
       "    </tr>\n",
       "    <tr>\n",
       "      <th>4</th>\n",
       "      <td>2021</td>\n",
       "      <td>may-jul</td>\n",
       "      <td>81.395350</td>\n",
       "      <td>67.220825</td>\n",
       "      <td>55.953433</td>\n",
       "      <td>16.761758</td>\n",
       "      <td>7.189931</td>\n",
       "      <td>7801.315000</td>\n",
       "      <td>6349.907667</td>\n",
       "      <td>4268.460333</td>\n",
       "      <td>3552.991333</td>\n",
       "      <td>715.469000</td>\n",
       "      <td>2081.447333</td>\n",
       "      <td>306.899333</td>\n",
       "    </tr>\n",
       "    <tr>\n",
       "      <th>5</th>\n",
       "      <td>2021</td>\n",
       "      <td>jun-ago</td>\n",
       "      <td>81.420651</td>\n",
       "      <td>67.536973</td>\n",
       "      <td>56.868394</td>\n",
       "      <td>15.796649</td>\n",
       "      <td>7.301583</td>\n",
       "      <td>7807.783333</td>\n",
       "      <td>6357.148000</td>\n",
       "      <td>4293.425333</td>\n",
       "      <td>3615.208000</td>\n",
       "      <td>678.217333</td>\n",
       "      <td>2063.722667</td>\n",
       "      <td>313.488000</td>\n",
       "    </tr>\n",
       "    <tr>\n",
       "      <th>6</th>\n",
       "      <td>2021</td>\n",
       "      <td>jul-sep</td>\n",
       "      <td>81.445700</td>\n",
       "      <td>67.379702</td>\n",
       "      <td>57.965494</td>\n",
       "      <td>13.971876</td>\n",
       "      <td>7.030744</td>\n",
       "      <td>7814.018000</td>\n",
       "      <td>6364.181667</td>\n",
       "      <td>4288.166667</td>\n",
       "      <td>3689.029333</td>\n",
       "      <td>599.137333</td>\n",
       "      <td>2076.015000</td>\n",
       "      <td>301.490000</td>\n",
       "    </tr>\n",
       "    <tr>\n",
       "      <th>7</th>\n",
       "      <td>2021</td>\n",
       "      <td>ago-oct</td>\n",
       "      <td>81.470498</td>\n",
       "      <td>67.022104</td>\n",
       "      <td>58.002894</td>\n",
       "      <td>13.457068</td>\n",
       "      <td>6.448393</td>\n",
       "      <td>7820.046667</td>\n",
       "      <td>6371.031000</td>\n",
       "      <td>4269.999000</td>\n",
       "      <td>3695.382333</td>\n",
       "      <td>574.616667</td>\n",
       "      <td>2101.032000</td>\n",
       "      <td>275.346333</td>\n",
       "    </tr>\n",
       "    <tr>\n",
       "      <th>8</th>\n",
       "      <td>2021</td>\n",
       "      <td>sep-nov</td>\n",
       "      <td>81.495037</td>\n",
       "      <td>66.432352</td>\n",
       "      <td>57.773640</td>\n",
       "      <td>13.033879</td>\n",
       "      <td>5.469104</td>\n",
       "      <td>7825.884333</td>\n",
       "      <td>6377.707333</td>\n",
       "      <td>4236.861000</td>\n",
       "      <td>3684.633667</td>\n",
       "      <td>552.227333</td>\n",
       "      <td>2140.846333</td>\n",
       "      <td>231.718333</td>\n",
       "    </tr>\n",
       "    <tr>\n",
       "      <th>9</th>\n",
       "      <td>2021</td>\n",
       "      <td>oct-dic</td>\n",
       "      <td>81.519053</td>\n",
       "      <td>65.527153</td>\n",
       "      <td>57.068902</td>\n",
       "      <td>12.908001</td>\n",
       "      <td>4.767155</td>\n",
       "      <td>7831.500000</td>\n",
       "      <td>6384.164667</td>\n",
       "      <td>4183.361333</td>\n",
       "      <td>3643.372667</td>\n",
       "      <td>539.988333</td>\n",
       "      <td>2200.803333</td>\n",
       "      <td>199.427333</td>\n",
       "    </tr>\n",
       "    <tr>\n",
       "      <th>10</th>\n",
       "      <td>2021</td>\n",
       "      <td>nov21-ene22</td>\n",
       "      <td>81.543071</td>\n",
       "      <td>66.192299</td>\n",
       "      <td>57.002160</td>\n",
       "      <td>13.883984</td>\n",
       "      <td>4.137600</td>\n",
       "      <td>7837.040667</td>\n",
       "      <td>6390.563667</td>\n",
       "      <td>4230.061000</td>\n",
       "      <td>3642.759333</td>\n",
       "      <td>587.301000</td>\n",
       "      <td>2160.502667</td>\n",
       "      <td>175.023000</td>\n",
       "    </tr>\n",
       "    <tr>\n",
       "      <th>11</th>\n",
       "      <td>2021</td>\n",
       "      <td>dic21-feb22</td>\n",
       "      <td>81.566819</td>\n",
       "      <td>66.668103</td>\n",
       "      <td>57.205338</td>\n",
       "      <td>14.193826</td>\n",
       "      <td>4.946934</td>\n",
       "      <td>7842.471667</td>\n",
       "      <td>6396.854667</td>\n",
       "      <td>4264.661667</td>\n",
       "      <td>3659.342333</td>\n",
       "      <td>605.318667</td>\n",
       "      <td>2132.193000</td>\n",
       "      <td>210.970000</td>\n",
       "    </tr>\n",
       "  </tbody>\n",
       "</table>\n",
       "</div>"
      ],
      "text/plain": [
       "Poblaciones  Periodo    Trimestre  % población en edad de trabajar   \\\n",
       "0               2021      ene-mar                         81.293586   \n",
       "1               2021      feb-abr                         81.319192   \n",
       "2               2021      mar-may                         81.344322   \n",
       "3               2021      abr-jun                         81.370083   \n",
       "4               2021      may-jul                         81.395350   \n",
       "5               2021      jun-ago                         81.420651   \n",
       "6               2021      jul-sep                         81.445700   \n",
       "7               2021      ago-oct                         81.470498   \n",
       "8               2021      sep-nov                         81.495037   \n",
       "9               2021      oct-dic                         81.519053   \n",
       "10              2021  nov21-ene22                         81.543071   \n",
       "11              2021  dic21-feb22                         81.566819   \n",
       "\n",
       "Poblaciones        TGP         TO         TD        TS  Población total  \\\n",
       "0            69.185176  55.385997  19.945283  8.312239      7773.758000   \n",
       "1            69.492535  56.427774  18.800237  7.635219      7780.889333   \n",
       "2            68.464891  56.388879  17.638255  7.327873      7787.770000   \n",
       "3            67.995643  55.988653  17.658469  7.117056      7794.688667   \n",
       "4            67.220825  55.953433  16.761758  7.189931      7801.315000   \n",
       "5            67.536973  56.868394  15.796649  7.301583      7807.783333   \n",
       "6            67.379702  57.965494  13.971876  7.030744      7814.018000   \n",
       "7            67.022104  58.002894  13.457068  6.448393      7820.046667   \n",
       "8            66.432352  57.773640  13.033879  5.469104      7825.884333   \n",
       "9            65.527153  57.068902  12.908001  4.767155      7831.500000   \n",
       "10           66.192299  57.002160  13.883984  4.137600      7837.040667   \n",
       "11           66.668103  57.205338  14.193826  4.946934      7842.471667   \n",
       "\n",
       "Poblaciones  Población en edad de trabajar  Fuerza de trabajo     Ocupados  \\\n",
       "0                              6319.566667        4372.203333  3500.155000   \n",
       "1                              6327.356333        4397.040333  3570.386333   \n",
       "2                              6334.908667        4337.188333  3572.184000   \n",
       "3                              6342.544667        4312.654000  3551.105333   \n",
       "4                              6349.907667        4268.460333  3552.991333   \n",
       "5                              6357.148000        4293.425333  3615.208000   \n",
       "6                              6364.181667        4288.166667  3689.029333   \n",
       "7                              6371.031000        4269.999000  3695.382333   \n",
       "8                              6377.707333        4236.861000  3684.633667   \n",
       "9                              6384.164667        4183.361333  3643.372667   \n",
       "10                             6390.563667        4230.061000  3642.759333   \n",
       "11                             6396.854667        4264.661667  3659.342333   \n",
       "\n",
       "Poblaciones  Desocupados  Población fuera de la fuerza laboral  Subocupados  \n",
       "0             872.048333                           1947.363333   363.428000  \n",
       "1             826.654000                           1930.316000   335.723667  \n",
       "2             765.004333                           1997.720333   317.823667  \n",
       "3             761.548667                           2029.890667   306.934000  \n",
       "4             715.469000                           2081.447333   306.899333  \n",
       "5             678.217333                           2063.722667   313.488000  \n",
       "6             599.137333                           2076.015000   301.490000  \n",
       "7             574.616667                           2101.032000   275.346333  \n",
       "8             552.227333                           2140.846333   231.718333  \n",
       "9             539.988333                           2200.803333   199.427333  \n",
       "10            587.301000                           2160.502667   175.023000  \n",
       "11            605.318667                           2132.193000   210.970000  "
      ]
     },
     "execution_count": 743,
     "metadata": {},
     "output_type": "execute_result"
    }
   ],
   "source": [
    "t18_21t"
   ]
  },
  {
   "cell_type": "markdown",
   "metadata": {},
   "source": [
    "#### Imputar 2001-2020"
   ]
  },
  {
   "cell_type": "markdown",
   "metadata": {},
   "source": [
    "##### Variables poblacionales"
   ]
  },
  {
   "cell_type": "code",
   "execution_count": 725,
   "metadata": {
    "scrolled": false
   },
   "outputs": [
    {
     "data": {
      "text/plain": [
       "Index(['Periodo', 'Trimestre', '% población en edad de trabajar ', 'TGP', 'TO',\n",
       "       'TD', 'Población total', 'Población en edad de trabajar',\n",
       "       'Fuerza de trabajo', 'Ocupados', 'Desocupados',\n",
       "       'Población fuera de la fuerza laboral', 'Subocupados'],\n",
       "      dtype='object', name='Poblaciones')"
      ]
     },
     "execution_count": 725,
     "metadata": {},
     "output_type": "execute_result"
    }
   ],
   "source": [
    "t05_comp.columns"
   ]
  },
  {
   "cell_type": "code",
   "execution_count": 726,
   "metadata": {},
   "outputs": [],
   "source": [
    "#variables\n",
    "l1 = ['Población en edad de trabajar', 'Fuerza de trabajo',\n",
    "       'Ocupados', 'Desocupados', 'Población fuera de la fuerza laboral',\n",
    "       'Subocupados']"
   ]
  },
  {
   "cell_type": "markdown",
   "metadata": {},
   "source": [
    "### Slice"
   ]
  },
  {
   "cell_type": "code",
   "execution_count": 727,
   "metadata": {},
   "outputs": [],
   "source": [
    "##filtrar por año y crear dataframe\n",
    "per = list(range(2001,2022))\n",
    "lf = list(range(1,22))\n",
    "for i, j in zip(per, lf):\n",
    "    msk19 = t05_comp[\"Periodo\"] == i\n",
    "    exec('t05_com_{} = t05_comp[msk19==True]'.format(j))\n",
    "    exec('t05_com_{}.reset_index(drop =True, inplace = True)'.format(j))"
   ]
  },
  {
   "cell_type": "code",
   "execution_count": 728,
   "metadata": {
    "scrolled": true
   },
   "outputs": [],
   "source": [
    "lf1 = list(range(1,20))\n",
    "lf2 = list(range(2,21))   \n",
    "# for j, k in zip(lf1, lf2):\n",
    "#     print('{}, {}, {}, {},{}'.format(k, j, k, j, j))"
   ]
  },
  {
   "cell_type": "code",
   "execution_count": 729,
   "metadata": {},
   "outputs": [],
   "source": [
    "#imputar valores 2001\n",
    "t05_imp_1 = t05_com_1.copy()\n",
    "for i in l1: \n",
    "    t05_imp_1[i] =((np.divide(t18_21t[i], np.asarray(t05_com_21[i])) * t05_com_1[i])).astype(np.double)"
   ]
  },
  {
   "cell_type": "code",
   "execution_count": 730,
   "metadata": {},
   "outputs": [],
   "source": [
    "##copiar daraframe para reempazarlos e imputar valores para los otros años\n",
    "for j, k in zip(lf1, lf2):\n",
    "    exec('t05_imp_{} = t05_com_{}.copy()'.format(k, k))\n",
    "    for i in l1:\n",
    "        exec('t05_imp_{}[i] = ((t05_imp_{}[i] * (1 + ((t05_com_{}[i]- t05_com_{}[i]) / t05_com_{}[i])))).astype(np.double)'.format(k, j, k, j, j))"
   ]
  },
  {
   "cell_type": "markdown",
   "metadata": {},
   "source": [
    "##### Tasas"
   ]
  },
  {
   "cell_type": "code",
   "execution_count": 731,
   "metadata": {},
   "outputs": [],
   "source": [
    "#variables\n",
    "l2 = [\"% población en edad de trabajar \", \"TGP\",\"TO\",\"TD\", \"TS\"]\n",
    "l3_n = [\"Población en edad de trabajar\", \"Fuerza de trabajo\",\"Ocupados\",\n",
    "        \"Desocupados\", \"Subocupados\"]\n",
    "l4_d = [\"Población total\", \"Población en edad de trabajar\",\"Población en edad de trabajar\",\n",
    "        \"Fuerza de trabajo\", \"Ocupados\", \"Ocupados\"]"
   ]
  },
  {
   "cell_type": "code",
   "execution_count": 732,
   "metadata": {
    "scrolled": false
   },
   "outputs": [],
   "source": [
    "#calcular tasas\n",
    "lf3 = list(range(1,21))  \n",
    "for i in lf3:\n",
    "    for j, k, l in zip(l2, l3_n, l4_d):\n",
    "        exec('t05_imp_{}[j] = (t05_imp_{}[k] / t05_imp_{}[l]*100).astype(np.double)'.format(i,i,i))"
   ]
  },
  {
   "cell_type": "code",
   "execution_count": 733,
   "metadata": {},
   "outputs": [],
   "source": [
    "#reindexar variables, cambiar de posición. \n",
    "for i in lf3:\n",
    "    exec(\"t05_imp_{} = t05_imp_{}.reindex(columns= ['Periodo', 'Trimestre', '% población en edad de trabajar ', 'TGP', 'TO', 'TD','TS', 'Población total','Población en edad de trabajar','Fuerza de trabajo','Ocupados', 'Desocupados','Población fuera de la fuerza laboral', 'Subocupados'])\".format(i,i))"
   ]
  },
  {
   "cell_type": "markdown",
   "metadata": {},
   "source": [
    "#### Concatenar"
   ]
  },
  {
   "cell_type": "code",
   "execution_count": 734,
   "metadata": {},
   "outputs": [],
   "source": [
    "lframe = [t05_imp_1, t05_imp_2, t05_imp_3, t05_imp_4, t05_imp_5, t05_imp_6,\n",
    "          t05_imp_7, t05_imp_8, t05_imp_9, t05_imp_10, t05_imp_11, t05_imp_12,\n",
    "         t05_imp_13, t05_imp_14, t05_imp_15, t05_imp_16, t05_imp_17, t05_imp_18, \n",
    "          t05_imp_19, t05_imp_20,t18_21t, t18_22t]"
   ]
  },
  {
   "cell_type": "code",
   "execution_count": 735,
   "metadata": {},
   "outputs": [],
   "source": [
    "ml_pob_impu_01_22 = pd.concat(lframe, axis = 0, join = 'outer', sort = False)"
   ]
  },
  {
   "cell_type": "code",
   "execution_count": 736,
   "metadata": {
    "scrolled": true
   },
   "outputs": [],
   "source": [
    "#poblaciones a millones enteros\n",
    "l_5 = ['Población total', 'Población en edad de trabajar', 'Fuerza de trabajo',\n",
    "       'Ocupados', 'Desocupados', 'Población fuera de la fuerza laboral',\n",
    "       'Subocupados']\n",
    "for i in (l_5):\n",
    "    ml_pob_impu_01_22[i] = ml_pob_impu_01_22[i]*1000 "
   ]
  },
  {
   "cell_type": "code",
   "execution_count": 737,
   "metadata": {},
   "outputs": [],
   "source": [
    "#ml_pob_impu_01_22[\"Periodo\"] = pd.Series(ml_pob_impu_01_22[\"Periodo\"], dtype = \"int\")"
   ]
  },
  {
   "cell_type": "code",
   "execution_count": 738,
   "metadata": {},
   "outputs": [],
   "source": [
    "### marca valores imputados\n",
    "def m_imp(df):\n",
    "    if ((df[\"Periodo\"] == 2021 or df[\"Periodo\"] == 2022) \n",
    "        and (pd.notnull(df[\"Población en edad de trabajar\"]))): \n",
    "        x = 0\n",
    "    elif pd.isnull(df[\"Población en edad de trabajar\"]):\n",
    "        x = np.nan\n",
    "    else:\n",
    "        x = 1\n",
    "    return(x)"
   ]
  },
  {
   "cell_type": "code",
   "execution_count": 739,
   "metadata": {},
   "outputs": [],
   "source": [
    "ml_pob_impu_01_22[\"valor Imputado\"] = ml_pob_impu_01_22.apply(m_imp, axis=1)"
   ]
  },
  {
   "cell_type": "code",
   "execution_count": 740,
   "metadata": {},
   "outputs": [],
   "source": [
    "ml_pob_impu_01_22[\"Trimestre\"] = (pd.Series(ml_pob_impu_01_22[\"Trimestre\"],                                \n",
    "                                          dtype = \"string\").str.split(r'\\.\\d', expand = True).get(0))"
   ]
  },
  {
   "cell_type": "code",
   "execution_count": 741,
   "metadata": {},
   "outputs": [],
   "source": [
    "ml_pob_impu_01_22.to_excel(\"G:/Unidades compartidas/Mercado laboral/Datos/4_Output/ml_pob_impu_01_22.xlsx\",     \n",
    "                       sheet_name = \"bogotá trim movil\", header = True, index=False)"
   ]
  }
 ],
 "metadata": {
  "kernelspec": {
   "display_name": "Python 3",
   "language": "python",
   "name": "python3"
  },
  "language_info": {
   "codemirror_mode": {
    "name": "ipython",
    "version": 3
   },
   "file_extension": ".py",
   "mimetype": "text/x-python",
   "name": "python",
   "nbconvert_exporter": "python",
   "pygments_lexer": "ipython3",
   "version": "3.8.3"
  }
 },
 "nbformat": 4,
 "nbformat_minor": 4
}
