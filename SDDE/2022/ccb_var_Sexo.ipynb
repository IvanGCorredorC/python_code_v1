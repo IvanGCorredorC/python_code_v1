{
 "cells": [
  {
   "cell_type": "code",
   "execution_count": 2,
   "metadata": {},
   "outputs": [],
   "source": [
    "#!/usr/bin/env python\n",
    "# -*- coding: utf-8 -*-\n",
    "import os\n",
    "import csv"
   ]
  },
  {
   "cell_type": "code",
   "execution_count": 3,
   "metadata": {
    "scrolled": true
   },
   "outputs": [
    {
     "name": "stdout",
     "output_type": "stream",
     "text": [
      "[]\n",
      "[]\n"
     ]
    }
   ],
   "source": [
    "def main():\n",
    "    archivos = [\"CCB_20\",\"CCB_19\"] #se corrio primero sobre estas dos bases: \"CCB_21\",\"CBB_19_21_cr_can_re\", 27 minutos. las bases 19 Y 20: 35 minutos\"\n",
    "    carpeta = \"G:\\\\Unidades compartidas\\\\CCB datos\\\\Datos\\\\3_Clean\\\\\"\n",
    "    for archivo in archivos:\n",
    "            csv_sexo(carpeta, archivo)\n",
    "\n",
    "#Método que le agrega la columna sexo al archivo csv que se encuenta en carpeta    \n",
    "def csv_sexo(carpeta, archivo):\n",
    "    carpeta_nombres = \"G:\\\\Unidades compartidas\\\\CCB datos\\\\Datos\\\\3_Clean\\\\\"\n",
    "    lista_mujeres = \"Nombres_mujeres\"\n",
    "    lista_hombres = \"Nombres_hombres\"\n",
    "\n",
    "    mujeres = []\n",
    "    hombres = []\n",
    "    #Cargue base con nombres de mujeres\n",
    "    with open(os.path.join(carpeta_nombres, lista_mujeres) + \".csv\", 'r', encoding=\"utf8\") as file:\n",
    "        mujeres_file = csv.DictReader(file, delimiter=';')\n",
    "        for m in mujeres_file:\n",
    "            mujeres.append(m['\\ufeffMUJER'])\n",
    "        file.close()\n",
    "    #Cargue base con nombres de mujeres\n",
    "    with open(os.path.join(carpeta_nombres, lista_hombres) + \".csv\", 'r', encoding=\"utf8\") as file:\n",
    "        hombres_file = csv.DictReader(file, delimiter=';')\n",
    "        for h in hombres_file:\n",
    "            hombres.append(h['\\ufeffHOMBRE'])\n",
    "        file.close()\n",
    "    #Chequeo para ver que no hayan nombres duplicados en ambas listas\n",
    "    print(common_data(mujeres,hombres))\n",
    "    \n",
    "    empresas_con_sexo = []\n",
    "    header = []\n",
    "    #Nombre variable con el nombre del representante\n",
    "    col_nombre = \"rep_legal\"\n",
    "    col_nombre2 = \"nombre\"\n",
    "    \n",
    "    with open(os.path.join(carpeta, archivo) + \".csv\", 'r', encoding=\"utf8\") as file:\n",
    "        \n",
    "        empresas = csv.DictReader(file, delimiter=';')\n",
    "\n",
    "        for e in empresas:\n",
    "            header = list(e) #Para tomar los headers\n",
    "            f = 0\n",
    "            m = 0\n",
    "            #rompe el nombre completo por espacios\n",
    "            nombre = e[col_nombre].split(' ') if len(e[col_nombre]) > 4 else e[col_nombre2].split(' ') \n",
    "            for i in range(0,len(nombre)):\n",
    "                if nombre[i] in mujeres:\n",
    "                    f += 1\n",
    "\n",
    "                elif nombre[i] in hombres:\n",
    "                    m += 1\n",
    "            #Condicionales para saber cuál fue el predominante\n",
    "            e['sexo'] = \"Mujer\"\n",
    "            if f == m:\n",
    "                e['sexo'] = \"Indeterminado\"\n",
    "            elif m > f:\n",
    "                e['sexo'] = \"Hombre\"\n",
    "\n",
    "            empresas_con_sexo.append(e)\n",
    "            \n",
    "        file.close()\n",
    "        \n",
    "    #Imprimir salida    \n",
    "    with open(carpeta + 'Sexo ' + archivo + '.csv', 'w', encoding=\"utf8\", newline='') as file:\n",
    "        writer = csv.writer(file, delimiter=';')\n",
    "\n",
    "        header.append('SEXO')\n",
    "        writer.writerow(header)\n",
    "        for es in empresas_con_sexo:\n",
    "            writer.writerow(es.values())\n",
    "        file.close()\n",
    "\n",
    "#Método de apoyo\n",
    "def common_data(list1, list2):\n",
    "    result = []\n",
    "    # traverse in the 1st list\n",
    "    for x in list1:\n",
    "        # traverse in the 2nd list\n",
    "        for y in list2:\n",
    "            # if one common\n",
    "            if x == y:\n",
    "                result.append(y)\n",
    "                print(str(y))\n",
    "\n",
    "    return result\n",
    "\n",
    "if __name__ == \"__main__\":\n",
    "    main()"
   ]
  },
  {
   "cell_type": "code",
   "execution_count": 4,
   "metadata": {},
   "outputs": [],
   "source": [
    "#import pandas as pd #27 minutos duro en correr"
   ]
  },
  {
   "cell_type": "code",
   "execution_count": 5,
   "metadata": {},
   "outputs": [],
   "source": [
    "#sex = pd.read_csv(\"G:\\\\Unidades compartidas\\\\CCB datos\\\\Datos\\\\3_CleanSexo CCB_21.csv\", sep = \";\", low_memory=False)"
   ]
  },
  {
   "cell_type": "code",
   "execution_count": 4,
   "metadata": {},
   "outputs": [
    {
     "ename": "NameError",
     "evalue": "name 'sex' is not defined",
     "output_type": "error",
     "traceback": [
      "\u001b[1;31m---------------------------------------------------------------------------\u001b[0m",
      "\u001b[1;31mNameError\u001b[0m                                 Traceback (most recent call last)",
      "\u001b[1;32m<ipython-input-4-ddf86d7113d2>\u001b[0m in \u001b[0;36m<module>\u001b[1;34m\u001b[0m\n\u001b[1;32m----> 1\u001b[1;33m \u001b[0msex\u001b[0m\u001b[1;33m[\u001b[0m\u001b[1;34m\"SEXO\"\u001b[0m\u001b[1;33m]\u001b[0m\u001b[1;33m.\u001b[0m\u001b[0mvalue_counts\u001b[0m\u001b[1;33m(\u001b[0m\u001b[1;33m)\u001b[0m\u001b[1;33m\u001b[0m\u001b[1;33m\u001b[0m\u001b[0m\n\u001b[0m",
      "\u001b[1;31mNameError\u001b[0m: name 'sex' is not defined"
     ]
    }
   ],
   "source": [
    "#sex[\"SEXO\"].value_counts()"
   ]
  }
 ],
 "metadata": {
  "kernelspec": {
   "display_name": "Python 3",
   "language": "python",
   "name": "python3"
  },
  "language_info": {
   "codemirror_mode": {
    "name": "ipython",
    "version": 3
   },
   "file_extension": ".py",
   "mimetype": "text/x-python",
   "name": "python",
   "nbconvert_exporter": "python",
   "pygments_lexer": "ipython3",
   "version": "3.8.3"
  }
 },
 "nbformat": 4,
 "nbformat_minor": 4
}
