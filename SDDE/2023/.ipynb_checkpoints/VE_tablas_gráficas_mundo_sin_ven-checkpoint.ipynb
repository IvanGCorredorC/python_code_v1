{
 "cells": [
  {
   "cell_type": "markdown",
   "metadata": {},
   "source": [
    "# Vocación Exportadora"
   ]
  },
  {
   "cell_type": "code",
   "execution_count": 243,
   "metadata": {},
   "outputs": [],
   "source": [
    "import pandas as pd\n",
    "import numpy as np\n",
    "import matplotlib.pyplot as plt\n",
    "import seaborn as sns\n",
    "import dtale\n",
    "import matplotlib.ticker as ticker"
   ]
  },
  {
   "cell_type": "code",
   "execution_count": 244,
   "metadata": {},
   "outputs": [],
   "source": [
    "expo_08_21 = pd.read_stata(\"G:/Mi unidad/SDDE/secretaria_desarrollo_economico_2022/2023/vocación_exportadora/BD_EXPO_2008_2021.dta\")"
   ]
  },
  {
   "cell_type": "code",
   "execution_count": 245,
   "metadata": {
    "scrolled": true
   },
   "outputs": [
    {
     "name": "stdout",
     "output_type": "stream",
     "text": [
      "<class 'pandas.core.frame.DataFrame'>\n",
      "Int64Index: 490029 entries, 0 to 490028\n",
      "Data columns (total 7 columns):\n",
      " #   Column                  Non-Null Count   Dtype  \n",
      "---  ------                  --------------   -----  \n",
      " 0   ANIO                    490029 non-null  float64\n",
      " 1   DEPARTAMENTO_ORIGEN     490029 non-null  object \n",
      " 2   PAIS_DESTINO            490029 non-null  object \n",
      " 3   CODIGO_PARTIDA          490029 non-null  object \n",
      " 4   NOMBRE_PARTIDA          490029 non-null  object \n",
      " 5   DOLARES_FOB_CORRIENTES  490025 non-null  float64\n",
      " 6   KGS_NETOS               490029 non-null  float64\n",
      "dtypes: float64(3), object(4)\n",
      "memory usage: 29.9+ MB\n"
     ]
    }
   ],
   "source": [
    "expo_08_21.info()"
   ]
  },
  {
   "cell_type": "code",
   "execution_count": 246,
   "metadata": {},
   "outputs": [
    {
     "data": {
      "text/plain": [
       "1280"
      ]
     },
     "execution_count": 246,
     "metadata": {},
     "output_type": "execute_result"
    }
   ],
   "source": [
    "## número de elementos únicos de la partida arancelaria\n",
    "len(expo_08_21[\"CODIGO_PARTIDA\"].unique())"
   ]
  },
  {
   "cell_type": "code",
   "execution_count": 247,
   "metadata": {
    "scrolled": false
   },
   "outputs": [],
   "source": [
    "# d = dtale.show(expo_08_21, ignore_duplicate = True)\n",
    "# d"
   ]
  },
  {
   "cell_type": "markdown",
   "metadata": {},
   "source": [
    "## Deflactar el valor exportado"
   ]
  },
  {
   "cell_type": "code",
   "execution_count": 248,
   "metadata": {},
   "outputs": [],
   "source": [
    "### IPP exportados\n",
    "# IPP_exp = [72.97, 82.41, 88.42, 103.16, 92.05, 94.26,\n",
    "#             100, 104.15, 101.84, 107.35, 108.3, 117.04, 110.67, 161.79]\n",
    "#IPC_usa = [210.228,215.949,219.179,225.672,229.601,233.049,234.812,236.525,241.432,246.524,251.233,256.974,260.474, 278.802]\n"
   ]
  },
  {
   "cell_type": "code",
   "execution_count": 249,
   "metadata": {},
   "outputs": [],
   "source": [
    "# Ingreso deflactado ipc USA normalizado\n",
    "def ipp_e(df):\n",
    "    if (df[\"ANIO\"]==2021):\n",
    "        x =100\n",
    "    elif (df[\"ANIO\"]==2020):\n",
    "        x = round((260.474/278.802)*100,2)\n",
    "    elif (df[\"ANIO\"]==2019):\n",
    "        x = round((256.974/278.802)*100,2)\n",
    "    elif (df[\"ANIO\"]==2018):\n",
    "        x = round((251.233/278.802)*100,2)\n",
    "    elif (df[\"ANIO\"]==2017):\n",
    "        x = round((246.524/278.802)*100,2)\n",
    "    elif (df[\"ANIO\"]==2016):\n",
    "        x = round((241.432/278.802)*100,2)\n",
    "    elif (df[\"ANIO\"]==2015):\n",
    "        x = round((236.525/278.802)*100,2)\n",
    "    elif (df[\"ANIO\"]==2014):\n",
    "        x = round((234.812/278.802)*100,2)\n",
    "    elif (df[\"ANIO\"]==2013):\n",
    "        x = round((233.049/278.802)*100,2)\n",
    "    elif (df[\"ANIO\"]==2012):\n",
    "        x = round((229.601/278.802)*100,2)\n",
    "    elif (df[\"ANIO\"]==2011):\n",
    "        x = round((225.672/278.802)*100,2)\n",
    "    elif (df[\"ANIO\"]==2010):\n",
    "        x = round((219.179/278.802)*100,2)\n",
    "    elif (df[\"ANIO\"]==2009):\n",
    "        x = round((215.949/278.8029)*100,2)\n",
    "    elif (df[\"ANIO\"]==2008):\n",
    "        x = round((210.228/278.802)*100,2)\n",
    "    else:\n",
    "        x = np.nan\n",
    "    return(x)"
   ]
  },
  {
   "cell_type": "code",
   "execution_count": 250,
   "metadata": {},
   "outputs": [],
   "source": [
    "### normalizar IPC DOLARES_FOB_CORRIENTES \n",
    "expo_08_21[\"ipp_e_norm\"]= expo_08_21.apply(ipp_e,axis = 1)"
   ]
  },
  {
   "cell_type": "code",
   "execution_count": 251,
   "metadata": {},
   "outputs": [],
   "source": [
    "# Construir deflactor\n",
    "expo_08_21[\"deflactor\"]= round((100/expo_08_21[\"ipp_e_norm\"]),2)"
   ]
  },
  {
   "cell_type": "code",
   "execution_count": 252,
   "metadata": {},
   "outputs": [],
   "source": [
    "## crear variable deflactada\n",
    "expo_08_21[\"DOLARES_FOB_CONSTANTES\"]= round((expo_08_21[\"DOLARES_FOB_CORRIENTES\"]*expo_08_21[\"deflactor\"]),2)"
   ]
  },
  {
   "cell_type": "code",
   "execution_count": 253,
   "metadata": {},
   "outputs": [
    {
     "data": {
      "text/plain": [
       "<Figure size 576x396 with 0 Axes>"
      ]
     },
     "metadata": {},
     "output_type": "display_data"
    }
   ],
   "source": [
    "plt.clf()"
   ]
  },
  {
   "cell_type": "code",
   "execution_count": 281,
   "metadata": {
    "scrolled": true
   },
   "outputs": [
    {
     "data": {
      "image/png": "[encoded data removed]",
      "text/plain": [
       "<Figure size 576x396 with 1 Axes>"
      ]
     },
     "metadata": {},
     "output_type": "display_data"
    }
   ],
   "source": [
    "#Comparación de precios constantes y corrientes\n",
    "plt.style.use('seaborn') #otros estilos default, 'seaborn', 'ggplot' o 'bmh'.\n",
    "a = sns.lineplot(x=\"ANIO\", y=\"DOLARES_FOB_CONSTANTES\",  data =expo_08_21, ci = None,\n",
    "                 label =\"Constantes\", estimator='sum')\n",
    "b = sns.lineplot(x=\"ANIO\", y=\"DOLARES_FOB_CORRIENTES\", data =expo_08_21,ci = None, ax =a, \n",
    "                 label =\"Corrientes\", estimator='sum')\n",
    "b.yaxis.set_major_formatter(ticker.StrMethodFormatter('{x:,.0f}'))\n",
    "b.set_title(\"Exportaciones Totales. 2008-2021\") #b.fig.suptitle\n",
    "# Add x-axis and y-axis labels\n",
    "b.set_xlabel(None)\n",
    "b.set_ylabel(\"Dolares constantes (base 2021) y corrientes\") #b.set(xlabel= None, ylabel=\"Dolares constantes y corrientes\")\n",
    "plt.legend()\n",
    "#plt.close()\n",
    "plt.savefig(\"G:/Mi unidad/SDDE/secretaria_desarrollo_economico_2022/2023/vocación_exportadora/a1.png\", bbox_inches=\"tight\")\n",
    "plt.show()\n"
   ]
  },
  {
   "cell_type": "code",
   "execution_count": 255,
   "metadata": {
    "scrolled": true
   },
   "outputs": [],
   "source": [
    "#hacia_ven_bog[hacia_ven_bog[\"ANIO\"]==2018][\"DOLARES_FOB_CONSTANTES\"].sum()"
   ]
  },
  {
   "cell_type": "markdown",
   "metadata": {},
   "source": [
    "### A. Exportaciones colombianas y bogotanas a venezuela\n",
    "participación de venezuela dentro del total exportado"
   ]
  },
  {
   "cell_type": "code",
   "execution_count": 256,
   "metadata": {},
   "outputs": [],
   "source": [
    "##filtros\n",
    "hacia_ven = expo_08_21[expo_08_21[\"PAIS_DESTINO\"]==\"Venezuela\"] #de colombia hacia venezuela\n",
    "hacia_ven_bog = hacia_ven[hacia_ven[\"DEPARTAMENTO_ORIGEN\"]==\"Bogotá\"] # de bogotá hacia venezuela"
   ]
  },
  {
   "cell_type": "code",
   "execution_count": 257,
   "metadata": {},
   "outputs": [],
   "source": [
    "##agrupación expor hacía venezuela\n",
    "c_1 = hacia_ven.groupby([\"ANIO\"]).aggregate({\"DOLARES_FOB_CONSTANTES\":np.sum})"
   ]
  },
  {
   "cell_type": "code",
   "execution_count": 258,
   "metadata": {},
   "outputs": [],
   "source": [
    "##agrupación expor totales\n",
    "c_2 = expo_08_21.groupby([\"ANIO\"]).aggregate({\"DOLARES_FOB_CONSTANTES\":np.sum})"
   ]
  },
  {
   "cell_type": "code",
   "execution_count": 259,
   "metadata": {
    "scrolled": false
   },
   "outputs": [
    {
     "data": {
      "text/html": [
       "<div>\n",
       "<style scoped>\n",
       "    .dataframe tbody tr th:only-of-type {\n",
       "        vertical-align: middle;\n",
       "    }\n",
       "\n",
       "    .dataframe tbody tr th {\n",
       "        vertical-align: top;\n",
       "    }\n",
       "\n",
       "    .dataframe thead th {\n",
       "        text-align: right;\n",
       "    }\n",
       "</style>\n",
       "<table border=\"1\" class=\"dataframe\">\n",
       "  <thead>\n",
       "    <tr style=\"text-align: right;\">\n",
       "      <th></th>\n",
       "      <th>ANIO</th>\n",
       "      <th>DOLARES_FOB_CONSTANTES</th>\n",
       "    </tr>\n",
       "  </thead>\n",
       "  <tbody>\n",
       "    <tr>\n",
       "      <th>0</th>\n",
       "      <td>2008</td>\n",
       "      <td>16</td>\n",
       "    </tr>\n",
       "    <tr>\n",
       "      <th>1</th>\n",
       "      <td>2009</td>\n",
       "      <td>12</td>\n",
       "    </tr>\n",
       "    <tr>\n",
       "      <th>2</th>\n",
       "      <td>2010</td>\n",
       "      <td>4</td>\n",
       "    </tr>\n",
       "    <tr>\n",
       "      <th>3</th>\n",
       "      <td>2011</td>\n",
       "      <td>3</td>\n",
       "    </tr>\n",
       "    <tr>\n",
       "      <th>4</th>\n",
       "      <td>2012</td>\n",
       "      <td>4</td>\n",
       "    </tr>\n",
       "    <tr>\n",
       "      <th>5</th>\n",
       "      <td>2013</td>\n",
       "      <td>4</td>\n",
       "    </tr>\n",
       "    <tr>\n",
       "      <th>6</th>\n",
       "      <td>2014</td>\n",
       "      <td>4</td>\n",
       "    </tr>\n",
       "    <tr>\n",
       "      <th>7</th>\n",
       "      <td>2015</td>\n",
       "      <td>3</td>\n",
       "    </tr>\n",
       "    <tr>\n",
       "      <th>8</th>\n",
       "      <td>2016</td>\n",
       "      <td>2</td>\n",
       "    </tr>\n",
       "    <tr>\n",
       "      <th>9</th>\n",
       "      <td>2017</td>\n",
       "      <td>1</td>\n",
       "    </tr>\n",
       "    <tr>\n",
       "      <th>10</th>\n",
       "      <td>2018</td>\n",
       "      <td>1</td>\n",
       "    </tr>\n",
       "    <tr>\n",
       "      <th>11</th>\n",
       "      <td>2019</td>\n",
       "      <td>0</td>\n",
       "    </tr>\n",
       "    <tr>\n",
       "      <th>12</th>\n",
       "      <td>2020</td>\n",
       "      <td>1</td>\n",
       "    </tr>\n",
       "    <tr>\n",
       "      <th>13</th>\n",
       "      <td>2021</td>\n",
       "      <td>1</td>\n",
       "    </tr>\n",
       "  </tbody>\n",
       "</table>\n",
       "</div>"
      ],
      "text/plain": [
       "    ANIO  DOLARES_FOB_CONSTANTES\n",
       "0   2008                      16\n",
       "1   2009                      12\n",
       "2   2010                       4\n",
       "3   2011                       3\n",
       "4   2012                       4\n",
       "5   2013                       4\n",
       "6   2014                       4\n",
       "7   2015                       3\n",
       "8   2016                       2\n",
       "9   2017                       1\n",
       "10  2018                       1\n",
       "11  2019                       0\n",
       "12  2020                       1\n",
       "13  2021                       1"
      ]
     },
     "execution_count": 259,
     "metadata": {},
     "output_type": "execute_result"
    }
   ],
   "source": [
    "#agrupación participación de venezuela en el total exportado\n",
    "c = round((c_1/c_2)*100,1)\n",
    "c = c.reset_index()\n",
    "c"
   ]
  },
  {
   "cell_type": "code",
   "execution_count": 280,
   "metadata": {
    "scrolled": true
   },
   "outputs": [
    {
     "data": {
      "image/png": "[encoded data removed]",
      "text/plain": [
       "<Figure size 576x396 with 2 Axes>"
      ]
     },
     "metadata": {},
     "output_type": "display_data"
    }
   ],
   "source": [
    "#gráfica\n",
    "sns.lineplot(x=\"ANIO\", y=\"DOLARES_FOB_CONSTANTES\", data =hacia_ven, \n",
    "             ci = None, label =\"Colombia\", estimator='sum')\n",
    "#se guarda como objeto para espcificar los valores del eje y, el titulo del gráfico y del eje. Esto se puede hacer en cualquiera de los gráficos sobrepuestos. Con uno es sufiente. \n",
    "b=sns.lineplot(x=\"ANIO\", y=\"DOLARES_FOB_CONSTANTES\",  \n",
    "               data =hacia_ven_bog, ci = None, label =\"Bogotá\", estimator='sum')\n",
    "# Crear un eje secundario para la tercera variable\n",
    "ax = plt.gca()\n",
    "ax2 = ax.twinx()\n",
    "# crear la tercera variable y asignarla en objeto para cambiar tipo de linea\n",
    "d = sns.lineplot(x=\"ANIO\", y=\"DOLARES_FOB_CONSTANTES\",  data =c, ci = None, \n",
    "             label =\"Bog. / Col\", estimator=None,color='red', ax=ax2)  \n",
    "##cambiar tupo de linea en eje secundario\n",
    "for line in d.lines:\n",
    "    line.set_linestyle(\"dotted\")\n",
    "#hacer que la leyenda tenga el mismo estilo que la linea\n",
    "legend = d.get_legend()\n",
    "legend_line = legend.legendHandles[0]\n",
    "legend_line.set_linestyle(\"dotted\") #\"solid\", \"dotted\", \"dashed\", y \"dashdot\n",
    "# Establecer la escala en el eje secundario\n",
    "ax2.set_ylim(0, 60)\n",
    "#mostrar leyenda en la posición deseada:\n",
    "ax.legend(loc='upper left', bbox_to_anchor=(0.75, 0.95), ncol=1)  #leyenda eje principal\n",
    "ax2.legend(loc='upper left', bbox_to_anchor=(0.75, 0.85), ncol=1) #leyenda eje secundario\n",
    "\n",
    "#par_2.set_yticklabels(np.arange(0,max(c[\"DOLARES_FOB_CONSTANTES\"]),4)) #establece las etiqauetas desde cero hasta el maximo de 10 en 10.\n",
    "#par_2.set_yticks(np.arange(0, max(c[\"DOLARES_FOB_CONSTANTES\"]), 4)) #Establece las posiciones númericas dónde se mostraran las etiquetas del eje\n",
    "\n",
    "#establecer titulo del eje y\n",
    "ax2.set_ylabel(\"Porcentaje de expo. bogotanas hacia venezuela\")\n",
    "# asigna valores del eje y en el formato espcificado\n",
    "#import matplotlib.ticker as ticker\n",
    "b.yaxis.set_major_formatter(ticker.StrMethodFormatter('{x:,.0f}'))\n",
    "b.set_title(\"Exportaciones hacía Venezuela. 2008-2021\") #b.fig.suptitle\n",
    "# Add x-axis and y-axis labels\n",
    "b.set_xlabel(None)\n",
    "b.set_ylabel(\"Dolares constantes (base 2021)\") #b.set(xlabel= None, ylabel=\"Dolares constantes y corrientes\")\n",
    "#plt.legend()\n",
    "plt.savefig(\"G:/Mi unidad/SDDE/secretaria_desarrollo_economico_2022/2023/vocación_exportadora/a2.png\", bbox_inches=\"tight\")\n",
    "plt.show()"
   ]
  },
  {
   "cell_type": "code",
   "execution_count": 261,
   "metadata": {},
   "outputs": [],
   "source": [
    "#exportaciones de bogotá al resto del mundo sin venezuela\n",
    "bog_mundo = expo_08_21[(expo_08_21[\"DEPARTAMENTO_ORIGEN\"]==\"Bogotá\") & (expo_08_21[\"PAIS_DESTINO\"]!=\"Venezuela\")]"
   ]
  },
  {
   "cell_type": "code",
   "execution_count": 262,
   "metadata": {},
   "outputs": [],
   "source": [
    "#exportaciones de colombia a venezuela con respecto a las exportaciónes de colombia al resto del mundo sin venezuela\n",
    "#colombia hacia_ven\n",
    "col_mundo = expo_08_21[expo_08_21[\"PAIS_DESTINO\"]!=\"Venezuela\"]"
   ]
  },
  {
   "cell_type": "code",
   "execution_count": 263,
   "metadata": {},
   "outputs": [],
   "source": [
    "# Proporción de exportaciones de bogotá a venezuela con respecto a las exportaciones bogotanas al resto del mundo.\n",
    "\n",
    "b_v = hacia_ven_bog.groupby([\"ANIO\"]).aggregate({\"DOLARES_FOB_CONSTANTES\":np.sum}) # bogotá a vene.\n",
    "b_m = bog_mundo.groupby([\"ANIO\"]).aggregate({\"DOLARES_FOB_CONSTANTES\":np.sum}) #bogotá al mundo sin vene.\n",
    "vm = round((b_v/b_m)*100,1)\n",
    "vm = vm.reset_index()\n",
    "#exportaciones de colombia a venezuela con respecto a las exportaciónes de colombia al resto del mundo sin venezuela\n",
    "c_v = hacia_ven.groupby([\"ANIO\"]).aggregate({\"DOLARES_FOB_CONSTANTES\":np.sum}) # bogotá a vene.\n",
    "c_m = col_mundo.groupby([\"ANIO\"]).aggregate({\"DOLARES_FOB_CONSTANTES\":np.sum}) #bogotá al mundo sin vene.\n",
    "cm = round((c_v/c_m)*100,1)\n",
    "cm = cm.reset_index()"
   ]
  },
  {
   "cell_type": "code",
   "execution_count": 264,
   "metadata": {},
   "outputs": [
    {
     "data": {
      "image/png": "[encoded data removed]",
      "text/plain": [
       "<Figure size 576x396 with 1 Axes>"
      ]
     },
     "metadata": {},
     "output_type": "display_data"
    }
   ],
   "source": [
    "#grafíca\n",
    "e = sns.lineplot(x=\"ANIO\", y=\"DOLARES_FOB_CONSTANTES\",  \n",
    "               data =vm, ci = None, label =\"Bog Ven / Bog mun\", estimator='sum')\n",
    "f = sns.lineplot(x=\"ANIO\", y=\"DOLARES_FOB_CONSTANTES\",  \n",
    "               data =cm, ci = None, label =\"Col Ven / Col mun\", estimator='sum', color ='red')\n",
    "#put to labels on line e\n",
    "xe=e.get_lines()[0].get_data()[0] #get_lines()[] 0 para bogotá al mundo, 1 para bogotá; get_data()[] 0 eje x, 1 eje y\n",
    "ye=e.get_lines()[0].get_data()[1]\n",
    "for i,j in zip(xe,ye):\n",
    "    e.annotate(j, xy=(i,j), textcoords=\"offset points\", \n",
    "             xytext=(-5, 8), ha='left', fontsize=9)\n",
    "#put to labels on line f\n",
    "xf=f.get_lines()[1].get_data()[0] #get_lines()[] 0 para línea 1, 1 para línea 2; get_data()[] 0 eje x, 1 eje y\n",
    "yf=f.get_lines()[1].get_data()[1]\n",
    "for i,j in zip(xf,yf):\n",
    "    f.annotate(j, xy=(i,j), textcoords=\"offset points\", \n",
    "             xytext=(-8, -15), ha='left', fontsize=9)\n",
    "##cambiar tipo de las dos lineas\n",
    "for line_e, line_f in zip(e.lines,f.lines):\n",
    "    line_e.set_linestyle(\"dotted\")\n",
    "    line_f.set_linestyle(\"dotted\")\n",
    "#hacer que la leyenda tenga el mismo estilo que la linea 1\n",
    "legend = e.get_legend()\n",
    "legend_line = legend.legendHandles[0]\n",
    "legend_line.set_linestyle(\"dotted\") #\"solid\", \"dotted\", \"dashed\", y \"dashdot\n",
    "#hacer que la leyenda tenga el mismo estilo que la linea 2\n",
    "legend_f = f.get_legend()\n",
    "legend_line_f = legend_f.legendHandles[1] #1 para la línea 2\n",
    "legend_line_f.set_linestyle(\"dotted\") #\"solid\", \"dotted\", \"dashed\", y \"dashdot\n",
    "# Establecer la escala en el eje secundario\n",
    "e.set_ylim(-5, 70)\n",
    "#e.set_xticks(range(2008, 2022, 1)) #ajusta la periodicidad delintervalo del eje x , y\n",
    "e.yaxis.set_major_formatter(ticker.StrMethodFormatter('{x:,.1f}'))\n",
    "e.set_title(\"Participación de venezuela dentro del total exportado. 2008-2021\") #b.fig.suptitle\n",
    "# Add x-axis and y-axis labels\n",
    "e.set_xlabel(None)\n",
    "e.set_ylabel(\"Porcentaje del valor exportado\") #b.set(xlabel= None, ylabel=\"Dolares constantes y corrientes\")\n",
    "plt.savefig(\"G:/Mi unidad/SDDE/secretaria_desarrollo_economico_2022/2023/vocación_exportadora/a3.png\", bbox_inches=\"tight\")\n",
    "plt.show()"
   ]
  },
  {
   "cell_type": "markdown",
   "metadata": {},
   "source": [
    "### B. No. de productos totales exportados y con destino a Venezuela"
   ]
  },
  {
   "cell_type": "code",
   "execution_count": 265,
   "metadata": {},
   "outputs": [
    {
     "data": {
      "text/plain": [
       "<Figure size 576x396 with 0 Axes>"
      ]
     },
     "metadata": {},
     "output_type": "display_data"
    }
   ],
   "source": [
    "plt.clf()"
   ]
  },
  {
   "cell_type": "code",
   "execution_count": 266,
   "metadata": {
    "scrolled": true
   },
   "outputs": [
    {
     "data": {
      "image/png": "[encoded data removed]",
      "text/plain": [
       "<Figure size 576x396 with 1 Axes>"
      ]
     },
     "metadata": {},
     "output_type": "display_data"
    }
   ],
   "source": [
    "#Bogotá al resto del mundo sin venezuela\n",
    "a=sns.lineplot(x=\"ANIO\", y=\"CODIGO_PARTIDA\", data=bog_mundo, ci=None, \n",
    "             label=\"Bogotá al mundo\", estimator=lambda x: len(set(x))) #para valores únicos string; para valores únicos numericos unique()\n",
    "#se guarda como objeto para espcificar los valores del eje y, el titulo del gráfico y del eje. Esto se puede hacer en cualquiera de los gráficos sobrepuestos. Con uno es sufiente. \n",
    "b=sns.lineplot(x=\"ANIO\", y=\"CODIGO_PARTIDA\",  \n",
    "               data =hacia_ven_bog, ci = None, label =\"Bogotá a Venezuela\",\n",
    "               estimator=lambda x: len(set(x)))\n",
    "#etiquetas gráfica a\n",
    "xa=a.get_lines()[0].get_data()[0] #get_lines()[] 0 para bogotá al mundo 1 para bogotá a venezuela; get_data()[] 0 eje x, 1 eje y\n",
    "ya=a.get_lines()[0].get_data()[1]\n",
    "for i,j in zip(xa,ya):\n",
    "    b.annotate(j, xy=(i,j), textcoords=\"offset points\", \n",
    "             xytext=(-5, 8), ha='left', fontsize=10)\n",
    "#etiquetas gráfica b\n",
    "xb=b.get_lines()[1].get_data()[0]\n",
    "yb=b.get_lines()[1].get_data()[1]\n",
    "for i,j in zip(xb,yb):\n",
    "    b.annotate(j, xy=(i,j), textcoords=\"offset points\", \n",
    "             xytext=(-5, 8), ha='left', fontsize=10)\n",
    "# asigna valores del eje y en el formato espcificado\n",
    "import matplotlib.ticker as ticker\n",
    "b.yaxis.set_major_formatter(ticker.StrMethodFormatter('{x:,.0f}'))\n",
    "b.set_ylim(0, 1100)\n",
    "b.set_title(\"Número de productos exportados desde Bogotá. 2008-2021\") #b.fig.suptitle\n",
    "# Add x-axis and y-axis labels\n",
    "b.set_xlabel(None)\n",
    "b.set_ylabel(\"Número de productos\") #b.set(xlabel= None, ylabel=\"Dolares constantes y corrientes\")\n",
    "plt.legend(loc='lower left')\n",
    "plt.savefig(\"G:/Mi unidad/SDDE/secretaria_desarrollo_economico_2022/2023/vocación_exportadora/b1.png\", bbox_inches=\"tight\")\n",
    "plt.show()"
   ]
  },
  {
   "cell_type": "markdown",
   "metadata": {},
   "source": [
    "### Participación de los tres principales destinos de exportación, venezuela y otros, periodo 2008 - 2021"
   ]
  },
  {
   "cell_type": "code",
   "execution_count": 267,
   "metadata": {
    "scrolled": true
   },
   "outputs": [
    {
     "data": {
      "text/plain": [
       "Index(['ANIO', 'DEPARTAMENTO_ORIGEN', 'PAIS_DESTINO', 'CODIGO_PARTIDA',\n",
       "       'NOMBRE_PARTIDA', 'DOLARES_FOB_CORRIENTES', 'KGS_NETOS', 'ipp_e_norm',\n",
       "       'deflactor', 'DOLARES_FOB_CONSTANTES'],\n",
       "      dtype='object')"
      ]
     },
     "execution_count": 267,
     "metadata": {},
     "output_type": "execute_result"
    }
   ],
   "source": [
    "expo_08_21.columns"
   ]
  },
  {
   "cell_type": "code",
   "execution_count": 268,
   "metadata": {},
   "outputs": [],
   "source": [
    "bog_total = expo_08_21[expo_08_21[\"DEPARTAMENTO_ORIGEN\"]==\"Bogotá\"]\n",
    "bt = bog_total.groupby([\"ANIO\", \"PAIS_DESTINO\"]).aggregate({\"DOLARES_FOB_CONSTANTES\":np.sum})\n",
    "bt = bt.reset_index()\n",
    "bt = bt.sort_values(by=['ANIO', 'DOLARES_FOB_CONSTANTES'], ascending=[True, False])\n",
    "bt = bt.reset_index(drop =True)\n",
    "#obtener los primeros tres valores por año\n",
    "first_three = bt.groupby(\"ANIO\").head(3)\n",
    "first_three = first_three.reset_index(drop=True)"
   ]
  },
  {
   "cell_type": "code",
   "execution_count": 269,
   "metadata": {
    "scrolled": true
   },
   "outputs": [
    {
     "data": {
      "text/html": [
       "<div>\n",
       "<style scoped>\n",
       "    .dataframe tbody tr th:only-of-type {\n",
       "        vertical-align: middle;\n",
       "    }\n",
       "\n",
       "    .dataframe tbody tr th {\n",
       "        vertical-align: top;\n",
       "    }\n",
       "\n",
       "    .dataframe thead th {\n",
       "        text-align: right;\n",
       "    }\n",
       "</style>\n",
       "<table border=\"1\" class=\"dataframe\">\n",
       "  <thead>\n",
       "    <tr style=\"text-align: right;\">\n",
       "      <th></th>\n",
       "      <th>ANIO</th>\n",
       "      <th>PAIS_DESTINO</th>\n",
       "      <th>DOLARES_FOB_CONSTANTES_x</th>\n",
       "      <th>DOLARES_FOB_CONSTANTES_y</th>\n",
       "      <th>PART_DOL_CONS</th>\n",
       "    </tr>\n",
       "  </thead>\n",
       "  <tbody>\n",
       "    <tr>\n",
       "      <th>0</th>\n",
       "      <td>2008</td>\n",
       "      <td>Venezuela</td>\n",
       "      <td>1766601254</td>\n",
       "      <td>4769150709</td>\n",
       "      <td>37</td>\n",
       "    </tr>\n",
       "    <tr>\n",
       "      <th>1</th>\n",
       "      <td>2008</td>\n",
       "      <td>Estados Unidos</td>\n",
       "      <td>797159405</td>\n",
       "      <td>4769150709</td>\n",
       "      <td>17</td>\n",
       "    </tr>\n",
       "    <tr>\n",
       "      <th>2</th>\n",
       "      <td>2008</td>\n",
       "      <td>Ecuador</td>\n",
       "      <td>560657312</td>\n",
       "      <td>4769150709</td>\n",
       "      <td>12</td>\n",
       "    </tr>\n",
       "    <tr>\n",
       "      <th>3</th>\n",
       "      <td>2009</td>\n",
       "      <td>Venezuela</td>\n",
       "      <td>1059752672</td>\n",
       "      <td>3722160523</td>\n",
       "      <td>28</td>\n",
       "    </tr>\n",
       "    <tr>\n",
       "      <th>4</th>\n",
       "      <td>2009</td>\n",
       "      <td>Estados Unidos</td>\n",
       "      <td>626094613</td>\n",
       "      <td>3722160523</td>\n",
       "      <td>17</td>\n",
       "    </tr>\n",
       "    <tr>\n",
       "      <th>5</th>\n",
       "      <td>2009</td>\n",
       "      <td>Ecuador</td>\n",
       "      <td>448248830</td>\n",
       "      <td>3722160523</td>\n",
       "      <td>12</td>\n",
       "    </tr>\n",
       "    <tr>\n",
       "      <th>6</th>\n",
       "      <td>2010</td>\n",
       "      <td>Estados Unidos</td>\n",
       "      <td>905872078</td>\n",
       "      <td>3740204916</td>\n",
       "      <td>24</td>\n",
       "    </tr>\n",
       "    <tr>\n",
       "      <th>7</th>\n",
       "      <td>2010</td>\n",
       "      <td>Ecuador</td>\n",
       "      <td>581707864</td>\n",
       "      <td>3740204916</td>\n",
       "      <td>16</td>\n",
       "    </tr>\n",
       "    <tr>\n",
       "      <th>8</th>\n",
       "      <td>2010</td>\n",
       "      <td>Venezuela</td>\n",
       "      <td>438633442</td>\n",
       "      <td>3740204916</td>\n",
       "      <td>12</td>\n",
       "    </tr>\n",
       "    <tr>\n",
       "      <th>9</th>\n",
       "      <td>2011</td>\n",
       "      <td>Estados Unidos</td>\n",
       "      <td>1011788952</td>\n",
       "      <td>4640466155</td>\n",
       "      <td>22</td>\n",
       "    </tr>\n",
       "    <tr>\n",
       "      <th>10</th>\n",
       "      <td>2011</td>\n",
       "      <td>Ecuador</td>\n",
       "      <td>511144251</td>\n",
       "      <td>4640466155</td>\n",
       "      <td>11</td>\n",
       "    </tr>\n",
       "    <tr>\n",
       "      <th>11</th>\n",
       "      <td>2011</td>\n",
       "      <td>Venezuela</td>\n",
       "      <td>453824226</td>\n",
       "      <td>4640466155</td>\n",
       "      <td>10</td>\n",
       "    </tr>\n",
       "    <tr>\n",
       "      <th>12</th>\n",
       "      <td>2012</td>\n",
       "      <td>Estados Unidos</td>\n",
       "      <td>985843148</td>\n",
       "      <td>3980661034</td>\n",
       "      <td>25</td>\n",
       "    </tr>\n",
       "    <tr>\n",
       "      <th>13</th>\n",
       "      <td>2012</td>\n",
       "      <td>Ecuador</td>\n",
       "      <td>541874628</td>\n",
       "      <td>3980661034</td>\n",
       "      <td>14</td>\n",
       "    </tr>\n",
       "    <tr>\n",
       "      <th>14</th>\n",
       "      <td>2012</td>\n",
       "      <td>Venezuela</td>\n",
       "      <td>537630495</td>\n",
       "      <td>3980661034</td>\n",
       "      <td>14</td>\n",
       "    </tr>\n",
       "    <tr>\n",
       "      <th>15</th>\n",
       "      <td>2013</td>\n",
       "      <td>Estados Unidos</td>\n",
       "      <td>1077691506</td>\n",
       "      <td>3878243707</td>\n",
       "      <td>28</td>\n",
       "    </tr>\n",
       "    <tr>\n",
       "      <th>16</th>\n",
       "      <td>2013</td>\n",
       "      <td>Ecuador</td>\n",
       "      <td>575491036</td>\n",
       "      <td>3878243707</td>\n",
       "      <td>15</td>\n",
       "    </tr>\n",
       "    <tr>\n",
       "      <th>17</th>\n",
       "      <td>2013</td>\n",
       "      <td>Venezuela</td>\n",
       "      <td>346565003</td>\n",
       "      <td>3878243707</td>\n",
       "      <td>9</td>\n",
       "    </tr>\n",
       "    <tr>\n",
       "      <th>18</th>\n",
       "      <td>2014</td>\n",
       "      <td>Estados Unidos</td>\n",
       "      <td>1127741416</td>\n",
       "      <td>3694336871</td>\n",
       "      <td>30</td>\n",
       "    </tr>\n",
       "    <tr>\n",
       "      <th>19</th>\n",
       "      <td>2014</td>\n",
       "      <td>Ecuador</td>\n",
       "      <td>530011792</td>\n",
       "      <td>3694336871</td>\n",
       "      <td>14</td>\n",
       "    </tr>\n",
       "    <tr>\n",
       "      <th>20</th>\n",
       "      <td>2014</td>\n",
       "      <td>Venezuela</td>\n",
       "      <td>317503536</td>\n",
       "      <td>3694336871</td>\n",
       "      <td>9</td>\n",
       "    </tr>\n",
       "    <tr>\n",
       "      <th>21</th>\n",
       "      <td>2015</td>\n",
       "      <td>Estados Unidos</td>\n",
       "      <td>1000098564</td>\n",
       "      <td>3202508930</td>\n",
       "      <td>31</td>\n",
       "    </tr>\n",
       "    <tr>\n",
       "      <th>22</th>\n",
       "      <td>2015</td>\n",
       "      <td>Ecuador</td>\n",
       "      <td>406042630</td>\n",
       "      <td>3202508930</td>\n",
       "      <td>13</td>\n",
       "    </tr>\n",
       "    <tr>\n",
       "      <th>23</th>\n",
       "      <td>2015</td>\n",
       "      <td>Venezuela</td>\n",
       "      <td>260517763</td>\n",
       "      <td>3202508930</td>\n",
       "      <td>8</td>\n",
       "    </tr>\n",
       "    <tr>\n",
       "      <th>24</th>\n",
       "      <td>2016</td>\n",
       "      <td>Estados Unidos</td>\n",
       "      <td>945297671</td>\n",
       "      <td>2815820443</td>\n",
       "      <td>34</td>\n",
       "    </tr>\n",
       "    <tr>\n",
       "      <th>25</th>\n",
       "      <td>2016</td>\n",
       "      <td>Ecuador</td>\n",
       "      <td>325791613</td>\n",
       "      <td>2815820443</td>\n",
       "      <td>12</td>\n",
       "    </tr>\n",
       "    <tr>\n",
       "      <th>26</th>\n",
       "      <td>2016</td>\n",
       "      <td>Perú</td>\n",
       "      <td>178800793</td>\n",
       "      <td>2815820443</td>\n",
       "      <td>6</td>\n",
       "    </tr>\n",
       "    <tr>\n",
       "      <th>27</th>\n",
       "      <td>2017</td>\n",
       "      <td>Estados Unidos</td>\n",
       "      <td>1005632900</td>\n",
       "      <td>2793571275</td>\n",
       "      <td>36</td>\n",
       "    </tr>\n",
       "    <tr>\n",
       "      <th>28</th>\n",
       "      <td>2017</td>\n",
       "      <td>Ecuador</td>\n",
       "      <td>388761474</td>\n",
       "      <td>2793571275</td>\n",
       "      <td>14</td>\n",
       "    </tr>\n",
       "    <tr>\n",
       "      <th>29</th>\n",
       "      <td>2017</td>\n",
       "      <td>Perú</td>\n",
       "      <td>168737793</td>\n",
       "      <td>2793571275</td>\n",
       "      <td>6</td>\n",
       "    </tr>\n",
       "    <tr>\n",
       "      <th>30</th>\n",
       "      <td>2018</td>\n",
       "      <td>Estados Unidos</td>\n",
       "      <td>993319992</td>\n",
       "      <td>2884923963</td>\n",
       "      <td>34</td>\n",
       "    </tr>\n",
       "    <tr>\n",
       "      <th>31</th>\n",
       "      <td>2018</td>\n",
       "      <td>Ecuador</td>\n",
       "      <td>474199603</td>\n",
       "      <td>2884923963</td>\n",
       "      <td>16</td>\n",
       "    </tr>\n",
       "    <tr>\n",
       "      <th>32</th>\n",
       "      <td>2018</td>\n",
       "      <td>México</td>\n",
       "      <td>181467903</td>\n",
       "      <td>2884923963</td>\n",
       "      <td>6</td>\n",
       "    </tr>\n",
       "    <tr>\n",
       "      <th>33</th>\n",
       "      <td>2019</td>\n",
       "      <td>Estados Unidos</td>\n",
       "      <td>828253250</td>\n",
       "      <td>2662634364</td>\n",
       "      <td>31</td>\n",
       "    </tr>\n",
       "    <tr>\n",
       "      <th>34</th>\n",
       "      <td>2019</td>\n",
       "      <td>Ecuador</td>\n",
       "      <td>488210194</td>\n",
       "      <td>2662634364</td>\n",
       "      <td>18</td>\n",
       "    </tr>\n",
       "    <tr>\n",
       "      <th>35</th>\n",
       "      <td>2019</td>\n",
       "      <td>Perú</td>\n",
       "      <td>180923209</td>\n",
       "      <td>2662634364</td>\n",
       "      <td>7</td>\n",
       "    </tr>\n",
       "    <tr>\n",
       "      <th>36</th>\n",
       "      <td>2020</td>\n",
       "      <td>Estados Unidos</td>\n",
       "      <td>927840550</td>\n",
       "      <td>2484825015</td>\n",
       "      <td>37</td>\n",
       "    </tr>\n",
       "    <tr>\n",
       "      <th>37</th>\n",
       "      <td>2020</td>\n",
       "      <td>Ecuador</td>\n",
       "      <td>306212707</td>\n",
       "      <td>2484825015</td>\n",
       "      <td>12</td>\n",
       "    </tr>\n",
       "    <tr>\n",
       "      <th>38</th>\n",
       "      <td>2020</td>\n",
       "      <td>Perú</td>\n",
       "      <td>163058965</td>\n",
       "      <td>2484825015</td>\n",
       "      <td>7</td>\n",
       "    </tr>\n",
       "    <tr>\n",
       "      <th>39</th>\n",
       "      <td>2021</td>\n",
       "      <td>Estados Unidos</td>\n",
       "      <td>1301178852</td>\n",
       "      <td>3344861594</td>\n",
       "      <td>39</td>\n",
       "    </tr>\n",
       "    <tr>\n",
       "      <th>40</th>\n",
       "      <td>2021</td>\n",
       "      <td>Ecuador</td>\n",
       "      <td>376095513</td>\n",
       "      <td>3344861594</td>\n",
       "      <td>11</td>\n",
       "    </tr>\n",
       "    <tr>\n",
       "      <th>41</th>\n",
       "      <td>2021</td>\n",
       "      <td>México</td>\n",
       "      <td>257941894</td>\n",
       "      <td>3344861594</td>\n",
       "      <td>8</td>\n",
       "    </tr>\n",
       "  </tbody>\n",
       "</table>\n",
       "</div>"
      ],
      "text/plain": [
       "    ANIO    PAIS_DESTINO  DOLARES_FOB_CONSTANTES_x  DOLARES_FOB_CONSTANTES_y  \\\n",
       "0   2008       Venezuela                1766601254                4769150709   \n",
       "1   2008  Estados Unidos                 797159405                4769150709   \n",
       "2   2008         Ecuador                 560657312                4769150709   \n",
       "3   2009       Venezuela                1059752672                3722160523   \n",
       "4   2009  Estados Unidos                 626094613                3722160523   \n",
       "5   2009         Ecuador                 448248830                3722160523   \n",
       "6   2010  Estados Unidos                 905872078                3740204916   \n",
       "7   2010         Ecuador                 581707864                3740204916   \n",
       "8   2010       Venezuela                 438633442                3740204916   \n",
       "9   2011  Estados Unidos                1011788952                4640466155   \n",
       "10  2011         Ecuador                 511144251                4640466155   \n",
       "11  2011       Venezuela                 453824226                4640466155   \n",
       "12  2012  Estados Unidos                 985843148                3980661034   \n",
       "13  2012         Ecuador                 541874628                3980661034   \n",
       "14  2012       Venezuela                 537630495                3980661034   \n",
       "15  2013  Estados Unidos                1077691506                3878243707   \n",
       "16  2013         Ecuador                 575491036                3878243707   \n",
       "17  2013       Venezuela                 346565003                3878243707   \n",
       "18  2014  Estados Unidos                1127741416                3694336871   \n",
       "19  2014         Ecuador                 530011792                3694336871   \n",
       "20  2014       Venezuela                 317503536                3694336871   \n",
       "21  2015  Estados Unidos                1000098564                3202508930   \n",
       "22  2015         Ecuador                 406042630                3202508930   \n",
       "23  2015       Venezuela                 260517763                3202508930   \n",
       "24  2016  Estados Unidos                 945297671                2815820443   \n",
       "25  2016         Ecuador                 325791613                2815820443   \n",
       "26  2016            Perú                 178800793                2815820443   \n",
       "27  2017  Estados Unidos                1005632900                2793571275   \n",
       "28  2017         Ecuador                 388761474                2793571275   \n",
       "29  2017            Perú                 168737793                2793571275   \n",
       "30  2018  Estados Unidos                 993319992                2884923963   \n",
       "31  2018         Ecuador                 474199603                2884923963   \n",
       "32  2018          México                 181467903                2884923963   \n",
       "33  2019  Estados Unidos                 828253250                2662634364   \n",
       "34  2019         Ecuador                 488210194                2662634364   \n",
       "35  2019            Perú                 180923209                2662634364   \n",
       "36  2020  Estados Unidos                 927840550                2484825015   \n",
       "37  2020         Ecuador                 306212707                2484825015   \n",
       "38  2020            Perú                 163058965                2484825015   \n",
       "39  2021  Estados Unidos                1301178852                3344861594   \n",
       "40  2021         Ecuador                 376095513                3344861594   \n",
       "41  2021          México                 257941894                3344861594   \n",
       "\n",
       "    PART_DOL_CONS  \n",
       "0              37  \n",
       "1              17  \n",
       "2              12  \n",
       "3              28  \n",
       "4              17  \n",
       "5              12  \n",
       "6              24  \n",
       "7              16  \n",
       "8              12  \n",
       "9              22  \n",
       "10             11  \n",
       "11             10  \n",
       "12             25  \n",
       "13             14  \n",
       "14             14  \n",
       "15             28  \n",
       "16             15  \n",
       "17              9  \n",
       "18             30  \n",
       "19             14  \n",
       "20              9  \n",
       "21             31  \n",
       "22             13  \n",
       "23              8  \n",
       "24             34  \n",
       "25             12  \n",
       "26              6  \n",
       "27             36  \n",
       "28             14  \n",
       "29              6  \n",
       "30             34  \n",
       "31             16  \n",
       "32              6  \n",
       "33             31  \n",
       "34             18  \n",
       "35              7  \n",
       "36             37  \n",
       "37             12  \n",
       "38              7  \n",
       "39             39  \n",
       "40             11  \n",
       "41              8  "
      ]
     },
     "execution_count": 269,
     "metadata": {},
     "output_type": "execute_result"
    }
   ],
   "source": [
    "#total de las exportaciones por año\"PART_DOL_CONS\"\n",
    "bta= bog_total.groupby([\"ANIO\"]).aggregate({\"DOLARES_FOB_CONSTANTES\":np.sum}) #bogotá al mundo sin vene.\n",
    "bta = bta.reset_index()\n",
    "first_three_m = first_three.merge(bta, on = \"ANIO\")\n",
    "first_three_m[\"PART_DOL_CONS\"] = round((first_three_m[\"DOLARES_FOB_CONSTANTES_x\"]/first_three_m[\"DOLARES_FOB_CONSTANTES_y\"])*100,1)\n",
    "first_three_m"
   ]
  },
  {
   "cell_type": "code",
   "execution_count": 270,
   "metadata": {},
   "outputs": [
    {
     "data": {
      "text/plain": [
       "Estados Unidos    14\n",
       "Ecuador           14\n",
       "Venezuela          8\n",
       "Perú               4\n",
       "México             2\n",
       "Name: PAIS_DESTINO, dtype: int64"
      ]
     },
     "execution_count": 270,
     "metadata": {},
     "output_type": "execute_result"
    }
   ],
   "source": [
    "first_three_m[\"PAIS_DESTINO\"].value_counts()"
   ]
  },
  {
   "cell_type": "code",
   "execution_count": 271,
   "metadata": {
    "scrolled": true
   },
   "outputs": [
    {
     "data": {
      "image/png": "[encoded data removed]",
      "text/plain": [
       "<Figure size 543.1x396 with 1 Axes>"
      ]
     },
     "metadata": {},
     "output_type": "display_data"
    }
   ],
   "source": [
    "## gráfica \n",
    "# g = sns.catplot(x=\"ANIO\", y=\"PART_DOL_CONS\", data=first_three_m, kind=\"bar\",\n",
    "#                 hue= \"PAIS_DESTINO\")\n",
    "g = sns.relplot(x=\"ANIO\", y=\"PART_DOL_CONS\", data=first_three_m, kind=\"line\", \n",
    "                ci=None, hue= \"PAIS_DESTINO\", style=\"PAIS_DESTINO\", markers=True, dashes=True,\n",
    "               height=5.5, aspect=1.1) #leyend=\"brief\", \"full\"\n",
    "g.fig.suptitle(\"Participación de los principales destinos de las exportaciones bogotanas. 2008-2021\",x=0.44, y = 1.01,\n",
    "              horizontalalignment=\"center\")\n",
    "g.set(xlabel=None, \n",
    "       ylabel=\"Porcentaje del valor exportado\")\n",
    "g._legend.texts[0].set_text(\"\")\n",
    "g._legend.set_title(\"Pais destino\")\n",
    "#g.add_legend(title=\"Pais destino\")\n",
    "plt.savefig(\"G:/Mi unidad/SDDE/secretaria_desarrollo_economico_2022/2023/vocación_exportadora/c1.png\", bbox_inches=\"tight\")\n",
    "plt.show()"
   ]
  },
  {
   "cell_type": "markdown",
   "metadata": {},
   "source": [
    "### E. Top 20 de los productos exportados por bogotá al mundo y a Venezuela 2008 y 2020."
   ]
  },
  {
   "cell_type": "code",
   "execution_count": 272,
   "metadata": {},
   "outputs": [
    {
     "data": {
      "text/plain": [
       "Index(['ANIO', 'DEPARTAMENTO_ORIGEN', 'PAIS_DESTINO', 'CODIGO_PARTIDA',\n",
       "       'NOMBRE_PARTIDA', 'DOLARES_FOB_CORRIENTES', 'KGS_NETOS', 'ipp_e_norm',\n",
       "       'deflactor', 'DOLARES_FOB_CONSTANTES'],\n",
       "      dtype='object')"
      ]
     },
     "execution_count": 272,
     "metadata": {},
     "output_type": "execute_result"
    }
   ],
   "source": [
    "hacia_ven_bog.columns"
   ]
  },
  {
   "cell_type": "code",
   "execution_count": 273,
   "metadata": {},
   "outputs": [],
   "source": [
    "# productos exportados de bogotá a venezuela\n",
    "pro_bv = hacia_ven_bog.groupby([\"ANIO\", \"CODIGO_PARTIDA\", \"NOMBRE_PARTIDA\"]).aggregate({\"DOLARES_FOB_CONSTANTES\":np.sum}) # bogotá a vene.\n",
    "pro_bv = pro_bv.reset_index()\n",
    "pro_bv = pro_bv.sort_values(by=['ANIO', 'DOLARES_FOB_CONSTANTES'], ascending=[True, False])\n",
    "pro_bv = pro_bv.reset_index(drop =True)\n",
    "pro_bv_20 = pro_bv.groupby(\"ANIO\").head(20)\n",
    "pro_bv_20 = pro_bv_20.reset_index(drop=True)"
   ]
  },
  {
   "cell_type": "code",
   "execution_count": 274,
   "metadata": {},
   "outputs": [
    {
     "data": {
      "text/html": [
       "<div>\n",
       "<style scoped>\n",
       "    .dataframe tbody tr th:only-of-type {\n",
       "        vertical-align: middle;\n",
       "    }\n",
       "\n",
       "    .dataframe tbody tr th {\n",
       "        vertical-align: top;\n",
       "    }\n",
       "\n",
       "    .dataframe thead th {\n",
       "        text-align: right;\n",
       "    }\n",
       "</style>\n",
       "<table border=\"1\" class=\"dataframe\">\n",
       "  <thead>\n",
       "    <tr style=\"text-align: right;\">\n",
       "      <th></th>\n",
       "      <th>ANIO</th>\n",
       "      <th>CODIGO_PARTIDA</th>\n",
       "      <th>NOMBRE_PARTIDA</th>\n",
       "      <th>DOLARES_FOB_CONSTANTES</th>\n",
       "    </tr>\n",
       "  </thead>\n",
       "  <tbody>\n",
       "    <tr>\n",
       "      <th>0</th>\n",
       "      <td>2008</td>\n",
       "      <td>6004</td>\n",
       "      <td>Tejidos de punto de anchura superior a 30 cm, con un contenido de hilados de elastómeros o de hilos de caucho superior o igual al 5% en peso, excepto los de la partida 60.01.</td>\n",
       "      <td>112291952</td>\n",
       "    </tr>\n",
       "    <tr>\n",
       "      <th>1</th>\n",
       "      <td>2008</td>\n",
       "      <td>8703</td>\n",
       "      <td>Automóviles de turismo y demás vehículos automóviles concebidos principalmente para el transporte de personas (excepto los de la partida 87.02), incluidos los del tipo familiar («break» o «station wagon») y los de carreras.</td>\n",
       "      <td>108922149</td>\n",
       "    </tr>\n",
       "    <tr>\n",
       "      <th>2</th>\n",
       "      <td>2008</td>\n",
       "      <td>3004</td>\n",
       "      <td>Medicamentos (excepto los productos de las partidas 30.02, 30.05 ó 30.06) constituidos por productos mezclados o sin mezclar, preparados para usos terapéuticos o profilácticos, dosificados (incluidos los administrados por vía trans-dérmica) o acondicionados para la venta al por menor.</td>\n",
       "      <td>83702770</td>\n",
       "    </tr>\n",
       "    <tr>\n",
       "      <th>3</th>\n",
       "      <td>2008</td>\n",
       "      <td>8504</td>\n",
       "      <td>Transformadores eléctricos, convertidores eléctricos estáticos (por ejemplo: rectificadores) y bobinas de reactancia (autoinducción).</td>\n",
       "      <td>65943126</td>\n",
       "    </tr>\n",
       "    <tr>\n",
       "      <th>4</th>\n",
       "      <td>2008</td>\n",
       "      <td>3302</td>\n",
       "      <td>Mezclas de sustancias odoríferas y mezclas (incluidas las disoluciones alcohólicas) a base de una o varias de estas sustancias, de los tipos utilizados como materias básicas para la industria; las demás preparaciones a base de sustancias odoríferas, de los tipos utilizados para la elaboración de bebidas.</td>\n",
       "      <td>50583697</td>\n",
       "    </tr>\n",
       "  </tbody>\n",
       "</table>\n",
       "</div>"
      ],
      "text/plain": [
       "   ANIO CODIGO_PARTIDA  \\\n",
       "0  2008           6004   \n",
       "1  2008           8703   \n",
       "2  2008           3004   \n",
       "3  2008           8504   \n",
       "4  2008           3302   \n",
       "\n",
       "                                                                                                                                                                                                                                                                                                      NOMBRE_PARTIDA  \\\n",
       "0                                                                                                                                     Tejidos de punto de anchura superior a 30 cm, con un contenido de hilados de elastómeros o de hilos de caucho superior o igual al 5% en peso, excepto los de la partida 60.01.   \n",
       "1                                                                                    Automóviles de turismo y demás vehículos automóviles concebidos principalmente para el transporte de personas (excepto los de la partida 87.02), incluidos los del tipo familiar («break» o «station wagon») y los de carreras.   \n",
       "2                      Medicamentos (excepto los productos de las partidas 30.02, 30.05 ó 30.06) constituidos por productos mezclados o sin mezclar, preparados para usos terapéuticos o profilácticos, dosificados (incluidos los administrados por vía trans-dérmica) o acondicionados para la venta al por menor.   \n",
       "3                                                                                                                                                                              Transformadores eléctricos, convertidores eléctricos estáticos (por ejemplo: rectificadores) y bobinas de reactancia (autoinducción).   \n",
       "4  Mezclas de sustancias odoríferas y mezclas (incluidas las disoluciones alcohólicas) a base de una o varias de estas sustancias, de los tipos utilizados como materias básicas para la industria; las demás preparaciones a base de sustancias odoríferas, de los tipos utilizados para la elaboración de bebidas.   \n",
       "\n",
       "   DOLARES_FOB_CONSTANTES  \n",
       "0               112291952  \n",
       "1               108922149  \n",
       "2                83702770  \n",
       "3                65943126  \n",
       "4                50583697  "
      ]
     },
     "execution_count": 274,
     "metadata": {},
     "output_type": "execute_result"
    }
   ],
   "source": [
    "pd.options.display.max_colwidth = 400\n",
    "pd.options.display.float_format = '{:.0f}'.format #pd.options.display.max_columns, max_info_columns,precision, .float_format = '{:.2f}%'.format\n",
    "pro_bv_20.head(5)"
   ]
  },
  {
   "cell_type": "code",
   "execution_count": 275,
   "metadata": {},
   "outputs": [
    {
     "data": {
      "text/html": [
       "<div>\n",
       "<style scoped>\n",
       "    .dataframe tbody tr th:only-of-type {\n",
       "        vertical-align: middle;\n",
       "    }\n",
       "\n",
       "    .dataframe tbody tr th {\n",
       "        vertical-align: top;\n",
       "    }\n",
       "\n",
       "    .dataframe thead th {\n",
       "        text-align: right;\n",
       "    }\n",
       "</style>\n",
       "<table border=\"1\" class=\"dataframe\">\n",
       "  <thead>\n",
       "    <tr style=\"text-align: right;\">\n",
       "      <th></th>\n",
       "      <th>ANIO</th>\n",
       "      <th>CODIGO_PARTIDA</th>\n",
       "      <th>NOMBRE_PARTIDA</th>\n",
       "      <th>DOLARES_FOB_CONSTANTES</th>\n",
       "    </tr>\n",
       "  </thead>\n",
       "  <tbody>\n",
       "    <tr>\n",
       "      <th>0</th>\n",
       "      <td>2008</td>\n",
       "      <td>7306</td>\n",
       "      <td>Los demás tubos y perfiles huecos (por ejemplo: soldados, remachados, grapados o con los bordes simplemente aproximados), de hierro o acero.</td>\n",
       "      <td>174461878</td>\n",
       "    </tr>\n",
       "    <tr>\n",
       "      <th>1</th>\n",
       "      <td>2008</td>\n",
       "      <td>1511</td>\n",
       "      <td>Aceite de palma y sus fracciones, incluso refinado, pero sin modificar químicamente.</td>\n",
       "      <td>172045254</td>\n",
       "    </tr>\n",
       "    <tr>\n",
       "      <th>2</th>\n",
       "      <td>2008</td>\n",
       "      <td>2710</td>\n",
       "      <td>Aceites de petróleo o de mineral bituminoso, excepto los aceites crudos; preparaciones no expresadas ni comprendidas en otra parte, con un contenido de aceites de petróleo o de mineral bituminoso superior o igual al 70 % en peso, en las que estos aceites constituyan el elemento base; desechos de aceites.</td>\n",
       "      <td>163905867</td>\n",
       "    </tr>\n",
       "    <tr>\n",
       "      <th>3</th>\n",
       "      <td>2008</td>\n",
       "      <td>0901</td>\n",
       "      <td>Café, incluso tostado o descafeinado; cáscara y cascarilla de café; sucedáneos del café que contengan café en cualquier proporción.</td>\n",
       "      <td>133448218</td>\n",
       "    </tr>\n",
       "    <tr>\n",
       "      <th>4</th>\n",
       "      <td>2008</td>\n",
       "      <td>3004</td>\n",
       "      <td>Medicamentos (excepto los productos de las partidas 30.02, 30.05 ó 30.06) constituidos por productos mezclados o sin mezclar, preparados para usos terapéuticos o profilácticos, dosificados (incluidos los administrados por vía trans-dérmica) o acondicionados para la venta al por menor.</td>\n",
       "      <td>118257632</td>\n",
       "    </tr>\n",
       "  </tbody>\n",
       "</table>\n",
       "</div>"
      ],
      "text/plain": [
       "   ANIO CODIGO_PARTIDA  \\\n",
       "0  2008           7306   \n",
       "1  2008           1511   \n",
       "2  2008           2710   \n",
       "3  2008           0901   \n",
       "4  2008           3004   \n",
       "\n",
       "                                                                                                                                                                                                                                                                                                      NOMBRE_PARTIDA  \\\n",
       "0                                                                                                                                                                       Los demás tubos y perfiles huecos (por ejemplo: soldados, remachados, grapados o con los bordes simplemente aproximados), de hierro o acero.   \n",
       "1                                                                                                                                                                                                                               Aceite de palma y sus fracciones, incluso refinado, pero sin modificar químicamente.   \n",
       "2  Aceites de petróleo o de mineral bituminoso, excepto los aceites crudos; preparaciones no expresadas ni comprendidas en otra parte, con un contenido de aceites de petróleo o de mineral bituminoso superior o igual al 70 % en peso, en las que estos aceites constituyan el elemento base; desechos de aceites.   \n",
       "3                                                                                                                                                                                Café, incluso tostado o descafeinado; cáscara y cascarilla de café; sucedáneos del café que contengan café en cualquier proporción.   \n",
       "4                      Medicamentos (excepto los productos de las partidas 30.02, 30.05 ó 30.06) constituidos por productos mezclados o sin mezclar, preparados para usos terapéuticos o profilácticos, dosificados (incluidos los administrados por vía trans-dérmica) o acondicionados para la venta al por menor.   \n",
       "\n",
       "   DOLARES_FOB_CONSTANTES  \n",
       "0               174461878  \n",
       "1               172045254  \n",
       "2               163905867  \n",
       "3               133448218  \n",
       "4               118257632  "
      ]
     },
     "execution_count": 275,
     "metadata": {},
     "output_type": "execute_result"
    }
   ],
   "source": [
    "# productos exportados de bogotá al mundo sin venezuela\n",
    "pro_bm = bog_mundo.groupby([\"ANIO\", \"CODIGO_PARTIDA\", \"NOMBRE_PARTIDA\"]).aggregate({\"DOLARES_FOB_CONSTANTES\":np.sum}) # bogotá a vene.\n",
    "pro_bm = pro_bm.reset_index()\n",
    "pro_bm = pro_bm.sort_values(by=['ANIO', 'DOLARES_FOB_CONSTANTES'], ascending=[True, False])\n",
    "pro_bm = pro_bm.reset_index(drop =True)\n",
    "pro_bm_20 = pro_bm.groupby(\"ANIO\").head(20)\n",
    "pro_bm_20 = pro_bm_20.reset_index(drop=True)\n",
    "pro_bm_20.head(5)"
   ]
  },
  {
   "cell_type": "code",
   "execution_count": 276,
   "metadata": {},
   "outputs": [
    {
     "name": "stderr",
     "output_type": "stream",
     "text": [
      "<ipython-input-276-ac83854d45ba>:3: UserWarning:\n",
      "\n",
      "Pandas requires version '1.4.3' or newer of 'xlsxwriter' (version '1.2.9' currently installed).\n",
      "\n"
     ]
    }
   ],
   "source": [
    "#concatenar y exportar\n",
    "pro_20 = pd.concat([pro_bm_20, pro_bv_20])\n",
    "pro_20.to_excel(\"G:/Mi unidad/SDDE/secretaria_desarrollo_economico_2022/2023/vocación_exportadora/pro_20_bm_bv.xlsx\", index =False)"
   ]
  },
  {
   "cell_type": "code",
   "execution_count": 277,
   "metadata": {},
   "outputs": [],
   "source": [
    "###quintiles de ingreso\n",
    "#df8[j]=pd.qcut(df8[i], 5, labels=[1,2,3,4,5])"
   ]
  },
  {
   "cell_type": "code",
   "execution_count": 278,
   "metadata": {},
   "outputs": [],
   "source": [
    "##pivot\n",
    "# des_retro = dfprueba.pivot_table(values= [\"tiempo_empleo\"],\n",
    "#                                   index=[\"tiempo_desemp\", \"ano_encuesta\"],\n",
    "#                                   columns=[\"camino\"], aggfunc= [\"count\",\"mean\"], margins = False, sort = True)\n",
    "# round(des_retro ,2)#, 2).iloc[:, [1,4,]]]"
   ]
  },
  {
   "cell_type": "code",
   "execution_count": 279,
   "metadata": {},
   "outputs": [],
   "source": [
    "## group by\n",
    "# prueba2= df7.groupby(by=[\"Fecha\",\"clasif_lab\"]).aggregate({\"edad\": [np.size]})#, np.max, np.min, np.mean, np.std]})\n",
    "# scar_table_1= dfprueba.groupby(by=[\"tiempo_desemp\", \"scar\"]).aggregate({\"edad\": [np.size, np.max, np.min, np.mean, np.std],\n",
    "#                                                                         \"estrato\": np.mean})\n",
    "# t1= round(dfgroups.groupby([\"ano\", \"scar2\"], dropna=False).apply(\n",
    "#     lambda x: pd.Series([np.ma.sum(np.ma.masked_array(\n",
    "#         x[\"factorex_plong\"], np.isnan(x[\"factorex_plong\"]))), \n",
    "#                           x[\"id\"].nunique()])),0).unstack().iloc[:,[0,2,1,3]]"
   ]
  }
 ],
 "metadata": {
  "kernelspec": {
   "display_name": "Python 3",
   "language": "python",
   "name": "python3"
  },
  "language_info": {
   "codemirror_mode": {
    "name": "ipython",
    "version": 3
   },
   "file_extension": ".py",
   "mimetype": "text/x-python",
   "name": "python",
   "nbconvert_exporter": "python",
   "pygments_lexer": "ipython3",
   "version": "3.8.3"
  }
 },
 "nbformat": 4,
 "nbformat_minor": 4
}
