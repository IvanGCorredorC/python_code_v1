{
 "cells": [
  {
   "cell_type": "markdown",
   "id": "828845a5-4d9c-48e5-ba99-7730a2f43bd3",
   "metadata": {},
   "source": [
    "# Bogotá D.C. SISBEN IV víctima vs no víctima\n",
    "Creado por ivan gabriel corredor\n",
    "05_11_2024"
   ]
  },
  {
   "cell_type": "code",
   "execution_count": null,
   "id": "168579fd-1bf2-4042-9589-2ecd05e86e6f",
   "metadata": {},
   "outputs": [],
   "source": [
    "import numpy as np\n",
    "import pandas as pd"
   ]
  },
  {
   "cell_type": "code",
   "execution_count": null,
   "id": "558178cd-36ff-4b05-bc49-4bd845a502da",
   "metadata": {},
   "outputs": [],
   "source": [
    "coding: \"latin-1\"\n",
    "\n",
    "#pd.options.display.max_info_rows= 50\n",
    "pd.options.display.float_format = '{:.2f}'.format \n",
    "pd.options.display.max_rows = None\n",
    "pd.options.display.max_columns = None\n",
    "#pd.options.display.max_colwidth = 300"
   ]
  },
  {
   "cell_type": "markdown",
   "id": "cd3f0569-5d97-4d44-848e-a7d4b9f908ad",
   "metadata": {},
   "source": [
    "## Cargue información"
   ]
  },
  {
   "cell_type": "code",
   "execution_count": null,
   "id": "26da97c5-67c9-4e39-a403-4e9a94befe7e",
   "metadata": {},
   "outputs": [],
   "source": [
    "## ruta entrada\n",
    "p1 = \"D:/one_drive_unal/OneDrive - Universidad Nacional de Colombia/2025/víctimas bogotá/\"\n",
    "## ruta salida\n",
    "p2 = \"D:/one_drive_unal/OneDrive - Universidad Nacional de Colombia/2025/víctimas bogotá/salidas\""
   ]
  },
  {
   "cell_type": "code",
   "execution_count": null,
   "id": "9cd99423-a8f8-43c2-bb33-33fcdff50079",
   "metadata": {},
   "outputs": [],
   "source": [
    "# cargue base 2022\n",
    "df_vic = pd.read_excel(p1 + \"SISBEN LUCERO.xlsx\", decimal=\",\")"
   ]
  },
  {
   "cell_type": "code",
   "execution_count": null,
   "id": "a95b15b3-45eb-485e-87a7-8a99eaf9c6e3",
   "metadata": {},
   "outputs": [],
   "source": [
    "df_vic.info(verbose=True)"
   ]
  },
  {
   "cell_type": "code",
   "execution_count": null,
   "id": "3a44068c-0d80-4c03-b1f5-163359686878",
   "metadata": {},
   "outputs": [],
   "source": [
    "df_vic.head(5)"
   ]
  },
  {
   "cell_type": "code",
   "execution_count": null,
   "id": "d3b9d604-169d-4bf4-aff1-c24b3bfe0817",
   "metadata": {
    "editable": true,
    "slideshow": {
     "slide_type": "notes"
    },
    "tags": []
   },
   "outputs": [],
   "source": [
    "print(list(df_vic.columns))"
   ]
  },
  {
   "cell_type": "markdown",
   "id": "406fe001-f160-4eec-aa01-81cdbbcb8cb2",
   "metadata": {},
   "source": [
    "## Selección de variables"
   ]
  },
  {
   "cell_type": "code",
   "execution_count": null,
   "id": "ddaed8a0-3483-4eca-9c5d-b25a9fe3920c",
   "metadata": {},
   "outputs": [],
   "source": [
    "# seleccionar las variables para el analisis\n",
    "df_vic_subselect = df_vic[[\n",
    "                 # ubicación \n",
    "                 'FTE_NOMBARRIO19', 'FTE_CODCLASE4',\n",
    "                 # vivienda\n",
    "                 'FTE_IDEFICHAORIGEN1',\n",
    "                 'FTE_TIPVIVIENDA23', 'FTE_TIPMATPAREDES24',\n",
    "                 'FTE_TIPMATPISOS25', 'FTE_INDTIENEENERGIA26','FTE_INDTIENEALCANTARILLADO27',\n",
    "                 'FTE_INDTIENEGAS28', 'FTE_INDTIENERECOLECCION29', 'FTE_INDTIENEACUEDUCTO30',\n",
    "                 'FTE_TIPSANITARIO39', 'FTE_TIPORIGENAGUA42', 'FTE_TIPPREPARAALIMENTOS46',\n",
    "                 'FTE_TOTHOGARES6', 'FTE_NUMPERSONASHOGAR81', 'FTE_NUMCUARTOSEXCLUSIVOS36',\n",
    "                 'FTE_NUMCUARTOSUNICOSDORMIR38',\n",
    "                  # hogar\n",
    "                'FTE_IDEHOGAR34',\n",
    "                  # caracteristicas de la persona\n",
    "                  'FTE_SEXOPERSONA89', 'FTE_FECNACIMIENTO92', 'FTE_FECDIGITACION7', 'FTE_TIPPARENTESCO93', 'FTE_TIPESTADOCIVIL94',\n",
    "                  #discapacidad\n",
    "                  'FTE_INDDISCAPNINGUNA108',\n",
    "                  # educación\n",
    "                  'FTE_INDLEERESCRIBIR116', 'FTE_INDESTUDIA117', 'FTE_NIVEDUCATIVO118', 'FTE_GRADOALCANZADO119', \n",
    "                  # pensiones\n",
    "                  'FTE_INDFONDOPENSIONES120',\n",
    "                   #pobreza monetaria\n",
    "                  'FTE_GRUPO174', 'FTE_NIVEL175', 'FTE_CLASIFICACION176',\n",
    "                  #pobreza multidimensional \n",
    "                  'FTE_H5157', 'FTE_I1158', 'FTE_I2159', 'FTE_I3160', 'FTE_I4161', 'FTE_I5162', 'FTE_I6163', 'FTE_I7164', 'FTE_I8165',\n",
    "                  'FTE_I9166', 'FTE_I10167', 'FTE_I11168', 'FTE_I12169', 'FTE_I13170', 'FTE_I14171', 'FTE_I15172', 'FTE_C173',\n",
    "                    # víctimas\n",
    "                    'FIX_CONS_UARIV', 'VICTIMA'   \n",
    "                    ]].copy()"
   ]
  },
  {
   "cell_type": "code",
   "execution_count": null,
   "id": "ccac10d5-2ef1-4418-82f9-b51d0f97fd7a",
   "metadata": {},
   "outputs": [],
   "source": [
    "df_vic_subselect.head()"
   ]
  },
  {
   "cell_type": "code",
   "execution_count": null,
   "id": "d73c7dcd-1930-4862-8612-2cb31499302a",
   "metadata": {},
   "outputs": [],
   "source": [
    "# verificar datos nulos para corroborar que todos tengan edad\n",
    "print(df_vic_subselect['FTE_FECDIGITACION7'].isna().sum(), df_vic_subselect['FTE_FECNACIMIENTO92'].isna().sum())"
   ]
  },
  {
   "cell_type": "code",
   "execution_count": null,
   "id": "439019c1-6296-4bcf-a11d-d2938c96e4e2",
   "metadata": {},
   "outputs": [],
   "source": [
    "# Convertir las columnas de tipo objeto a tipo datetime\n",
    "df_vic_subselect['FTE_FECDIGITACION7'] = pd.to_datetime(df_vic_subselect['FTE_FECDIGITACION7'], errors='coerce')\n",
    "df_vic_subselect['FTE_FECNACIMIENTO92'] = pd.to_datetime(df_vic_subselect['FTE_FECNACIMIENTO92'], errors='coerce')\n",
    "\n",
    "# Calcular la edad en años\n",
    "#dt.days convierte la diferencia en dias y usamos // para división entera\n",
    "df_vic_subselect.loc[:, 'EDAD'] = (df_vic_subselect['FTE_FECDIGITACION7'] - df_vic_subselect['FTE_FECNACIMIENTO92']).dt.days // 365\n",
    "\n",
    "# Verificar los resultados\n",
    "print(df_vic_subselect[['FTE_FECDIGITACION7', 'FTE_FECNACIMIENTO92', 'EDAD']].head())"
   ]
  },
  {
   "cell_type": "code",
   "execution_count": null,
   "id": "89338756-d9d3-4d4b-a288-aec8cdfc9013",
   "metadata": {},
   "outputs": [],
   "source": [
    "### crear rangos de edad\n",
    "def rang_ed(df):\n",
    "    if df[\"EDAD\"]<=5:\n",
    "        x = \"Entre 0 y 5 años\"\n",
    "    elif (df[\"EDAD\"]>5 and df[\"EDAD\"]<=11):\n",
    "        x = \"Entre 6 y 11 años\"\n",
    "    elif (df[\"EDAD\"]>11 and df[\"EDAD\"]<=17):\n",
    "        x = \"Entre 12 y 17 años\"\n",
    "    elif (df[\"EDAD\"]>17 and df[\"EDAD\"]<=28):\n",
    "        x = \"Entre 18 y 28 años\"\n",
    "    elif (df[\"EDAD\"]>28 and df[\"EDAD\"]<=59):\n",
    "        x = \"Entre 29 y 59 años\"\n",
    "    else:\n",
    "        x = \"60 años o más\"\n",
    "    return x\n",
    "                                                                                                                        \n",
    "df_vic_subselect.loc[: , \"GRUPO_ETARIO\"] = df_vic_subselect.apply(rang_ed, axis = 1)"
   ]
  },
  {
   "cell_type": "markdown",
   "id": "13c82a47-fac4-4efd-bf55-713fd18a0e96",
   "metadata": {},
   "source": [
    "## filtro"
   ]
  },
  {
   "cell_type": "code",
   "execution_count": null,
   "id": "0371d51f-5b5d-4d0b-bcf0-522dd645e329",
   "metadata": {},
   "outputs": [],
   "source": [
    "# filtrar la base para los 4 barrios \n",
    "df_vic_barrios = df_vic_subselect[df_vic_subselect[\"FTE_NOMBARRIO19\"].isin([\"BELLA FLOR\", \"BELLA FLOR SUR\", \"EL MIRADOR\", \"PARAISO QUIBA\"])].copy()"
   ]
  },
  {
   "cell_type": "code",
   "execution_count": null,
   "id": "b2e5ee1f-872e-4d46-9b02-d3aa5a61d735",
   "metadata": {},
   "outputs": [],
   "source": [
    "# seleccionar las variables a analizar\n",
    "df_vic_barrios[\"FTE_NOMBARRIO19\"].value_counts() "
   ]
  },
  {
   "cell_type": "code",
   "execution_count": null,
   "id": "e2f61ad7-9f97-4a18-8925-ae29097ed12d",
   "metadata": {},
   "outputs": [],
   "source": [
    "# # asignar formato correcto a las variables\n",
    "# names = ['CAMPESINA', 'P2059', 'ES_VICTIMA', 'FEX_C_VIV', 'ES_DESPLAZADO', 'FEX_C18', \n",
    "#          'PET', 'FT_x', 'FFT_x', 'FFT_y', 'FT_y', 'OCI', 'DSI', 'P6920', 'P1519']\n",
    "# for i in names:\n",
    "#     df_vic[i] = pd.to_numeric(df_vic[i], errors='coerce')"
   ]
  },
  {
   "cell_type": "code",
   "execution_count": null,
   "id": "3081ee92-fef6-4b41-848a-837d5eada6e6",
   "metadata": {},
   "outputs": [],
   "source": [
    "# #renombrar variables educación\n",
    "# df_vic.rename(columns= {\"P6160\": \"LEER_ESCRIBIR\", \"P6170\":\"ASISTE_EDU\", \n",
    "#                          \"P3041\":\"INSTITUCION\", \"P3042\":\"NIVEL_EDU\",\n",
    "#                          \"P3043\": \"TITULO_EDU\"}, inplace = True)"
   ]
  },
  {
   "cell_type": "markdown",
   "id": "c91b573a-c4fd-41e8-a697-eddd400ba342",
   "metadata": {},
   "source": [
    "## General"
   ]
  },
  {
   "cell_type": "code",
   "execution_count": null,
   "id": "9730eae5-7812-4c56-a463-977a973b5d1f",
   "metadata": {},
   "outputs": [],
   "source": [
    "sex1 = df_vic_barrios.pivot_table(values= [\"FIX_CONS_UARIV\"], \n",
    "                                  index=[\"VICTIMA\", \"FTE_NOMBARRIO19\"],\n",
    "                                  columns=\"FTE_SEXOPERSONA89\", aggfunc= \"count\", margins = True)\n",
    "round(sex1,2)#.iloc[:, [1,4]]"
   ]
  },
  {
   "cell_type": "code",
   "execution_count": null,
   "id": "71f79bb0-1397-465a-b586-f1c2be19fa8c",
   "metadata": {},
   "outputs": [],
   "source": [
    "rang_edad = df_vic_barrios.pivot_table(values= [\"FIX_CONS_UARIV\"], \n",
    "                                  index=[\"VICTIMA\", \"FTE_NOMBARRIO19\"],\n",
    "                                  columns=\"GRUPO_ETARIO\", aggfunc= \"count\", margins = True)\n",
    "round(rang_edad,2)#.iloc[:, [1,4]]"
   ]
  },
  {
   "cell_type": "markdown",
   "id": "c78d26e0-caf7-43ff-935f-38b68ad33ad3",
   "metadata": {},
   "source": [
    "## Generación de ingresos"
   ]
  },
  {
   "cell_type": "code",
   "execution_count": null,
   "id": "98efeb87-ebc4-4172-ac35-7bfde036e435",
   "metadata": {},
   "outputs": [],
   "source": [
    "pobreza_mon = df_vic_barrios.pivot_table(values= [\"FIX_CONS_UARIV\"], \n",
    "                                  index=[\"FTE_GRUPO174\"],\n",
    "                                  columns=\"VICTIMA\", aggfunc= \"count\", margins = True)\n",
    "round(pobreza_mon,2)#.iloc[:, [1,4]]"
   ]
  },
  {
   "cell_type": "code",
   "execution_count": null,
   "id": "771f3fb6-bf37-4c0c-84a5-1d71bd3bffc2",
   "metadata": {},
   "outputs": [],
   "source": [
    "# multidimensional\n",
    "pobreza_mult = df_vic_barrios.pivot_table(values= [\"FIX_CONS_UARIV\"], \n",
    "                                  index=[\"FTE_H5157\"],\n",
    "                                  columns=\"VICTIMA\", aggfunc= \"count\", margins = True)\n",
    "round(pobreza_mult,2)#.iloc[:, [1,4]]"
   ]
  },
  {
   "cell_type": "code",
   "execution_count": null,
   "id": "540962bc-5b27-4fbb-9695-6311e876b99e",
   "metadata": {},
   "outputs": [],
   "source": [
    "df_vic_barrios[\"FTE_H5157\"].value_counts()"
   ]
  },
  {
   "cell_type": "markdown",
   "id": "6cfa2f59-26d2-472d-be97-0ab890ba4c58",
   "metadata": {},
   "source": [
    "### sexo"
   ]
  },
  {
   "cell_type": "code",
   "execution_count": null,
   "id": "7af8ed14-b99e-4df5-8a16-f15d2553bb98",
   "metadata": {},
   "outputs": [],
   "source": [
    "# monetaria por sexo\n",
    "pobreza_mon_sexo = df_vic_barrios[df_vic_barrios[\"FTE_GRUPO174\"]==\"B\"].pivot_table(values= [\"FIX_CONS_UARIV\"],\n",
    "                                  index=[\"VICTIMA\"],\n",
    "                                  columns=\"FTE_SEXOPERSONA89\", aggfunc= \"count\", margins = True)\n",
    "round(pobreza_mon_sexo,2)#.iloc[:, [1,4]]"
   ]
  },
  {
   "cell_type": "code",
   "execution_count": null,
   "id": "f67f0d1c-37b2-4e4f-b6a1-4b0ecce9f5d0",
   "metadata": {},
   "outputs": [],
   "source": [
    "# extrema por sexo\n",
    "pobreza_ext_sexo = df_vic_barrios[df_vic_barrios[\"FTE_GRUPO174\"]==\"A\"].pivot_table(values= [\"FIX_CONS_UARIV\"],\n",
    "                                  index=[\"VICTIMA\"],\n",
    "                                  columns=\"FTE_SEXOPERSONA89\", aggfunc= \"count\", margins = True)\n",
    "round(pobreza_ext_sexo,2)#.iloc[:, [1,4]]"
   ]
  },
  {
   "cell_type": "code",
   "execution_count": null,
   "id": "55c6b8e1-8cdd-425f-890e-6652736a0e7c",
   "metadata": {},
   "outputs": [],
   "source": [
    "# multidimensional por sexo\n",
    "pobreza_mult_sex = df_vic_barrios[df_vic_barrios[\"FTE_H5157\"]==1].pivot_table(values= [\"FIX_CONS_UARIV\"],\n",
    "                                  index=[\"VICTIMA\"],\n",
    "                                  columns=\"FTE_SEXOPERSONA89\", aggfunc= \"count\", margins = True)\n",
    "round(pobreza_mult_sex ,2)#.iloc[:, [1,4]]"
   ]
  },
  {
   "cell_type": "markdown",
   "id": "2b56ad51-df27-46e7-85ed-e5fdcb61ebba",
   "metadata": {},
   "source": [
    "### Privaciones"
   ]
  },
  {
   "cell_type": "code",
   "execution_count": null,
   "id": "bf4d9b91-0451-4497-b170-e44be539b40a",
   "metadata": {},
   "outputs": [],
   "source": [
    "# privaciones\n",
    "#store them in a list\n",
    "pivot_tables = []\n",
    "\n",
    "# List of columns to create separate pivot tables for\n",
    "fte_columns = ['FTE_I1158', 'FTE_I2159', 'FTE_I3160', 'FTE_I4161', 'FTE_I5162', \n",
    "               'FTE_I6163', 'FTE_I7164', 'FTE_I8165', 'FTE_I9166', 'FTE_I10167', \n",
    "               'FTE_I11168', 'FTE_I12169', 'FTE_I13170', 'FTE_I14171', \n",
    "               'FTE_I15172']\n",
    "\n",
    "# Loop through each column to create a pivot table\n",
    "for column in fte_columns:\n",
    "    # Create a pivot table for the current column\n",
    "    pivot_table = df_vic_barrios.pivot_table(values=[\"FIX_CONS_UARIV\"], \n",
    "                                              index=[\"VICTIMA\"],\n",
    "                                              columns=[column], \n",
    "                                              aggfunc=\"count\", \n",
    "                                              margins=False)\n",
    "    # Add a new column to the pivot table indicating the variable name\n",
    "    pivot_table['Variable'] = column\n",
    "    # Append the pivot table to the list\n",
    "    pivot_tables.append(pivot_table)\n",
    "\n",
    "# Concatenate all the individual pivot tables along the columns\n",
    "# This will create a single DataFrame with all the pivot tables combined\n",
    "pobreza_priv = pd.concat(pivot_tables, axis=1)\n",
    "\n",
    "# Round the resulting concatenated pivot table to 2 decimal places for better readability\n",
    "pobreza_priv = round(pobreza_priv, 2)\n",
    "\n",
    "# Invert the columns and rows of the DataFrame\n",
    "pobreza_priv = pobreza_priv.transpose() \n",
    "pobreza_priv"
   ]
  },
  {
   "cell_type": "markdown",
   "id": "a299e0c7-5bba-4f3b-8a8a-6626aa9abf52",
   "metadata": {},
   "source": [
    "### Pobreza por barrio"
   ]
  },
  {
   "cell_type": "code",
   "execution_count": null,
   "id": "c80e7e01-2b9e-4425-b59a-7ed0c6157788",
   "metadata": {},
   "outputs": [],
   "source": [
    "# privaciones\n",
    "#store them in a list\n",
    "pivot_tables = []\n",
    "\n",
    "# List of columns to create separate pivot tables for\n",
    "fte_columns = [\"FTE_GRUPO174\", \"FTE_H5157\"]\n",
    "\n",
    "# Loop through each column to create a pivot table\n",
    "for column in fte_columns:\n",
    "    # Create a pivot table for the current column\n",
    "    pivot_table = df_vic_barrios.pivot_table(values=[\"FIX_CONS_UARIV\"], \n",
    "                                              index=[\"VICTIMA\"],\n",
    "                                              columns=[\"FTE_NOMBARRIO19\", column], \n",
    "                                              aggfunc=\"count\", \n",
    "                                              margins=True)\n",
    "    # Add a new column to the pivot table indicating the variable name\n",
    "    pivot_table['Variable'] = column\n",
    "    # Append the pivot table to the list\n",
    "    pivot_tables.append(pivot_table)\n",
    "\n",
    "# Concatenate all the individual pivot tables along the columns\n",
    "# This will create a single DataFrame with all the pivot tables combined\n",
    "pobreza_barrio = pd.concat(pivot_tables, axis=1)\n",
    "\n",
    "# Round the resulting concatenated pivot table to 2 decimal places for better readability\n",
    "pobreza_barrio = round(pobreza_barrio, 2)\n",
    "\n",
    "# Invert the columns and rows of the DataFrame\n",
    "pobreza_barrio = pobreza_barrio.transpose() \n",
    "pobreza_barrio"
   ]
  },
  {
   "cell_type": "markdown",
   "id": "e42bf130-1779-4d7a-8356-70ec7af79600",
   "metadata": {},
   "source": [
    "## Vivienda"
   ]
  },
  {
   "cell_type": "code",
   "execution_count": null,
   "id": "32f62798-17e3-4f55-b059-dfbe15b2bd69",
   "metadata": {},
   "outputs": [],
   "source": [
    "## descripción variables:\n",
    "# FTE_CODCLASE4: 1 cabecera, 2 centro poblado, 3 rural disperso \n",
    "# FTE_IDEHOGAR34: posición del hogar en la vivienda\n",
    "# FTE_TIPVIVIENDA23: tipo de vivienda, se exlucye la Vivienda indígena op (5)\n",
    "# FTE_TIPMATPAREDES24: material de las paredes exteriores\n",
    "# FTE_TIPMATPISOS25: material de los pisos\n",
    "# servicios con que cuenta la vivienda:\n",
    "# FTE_INDTIENEENERGIA26: energía eléctrica\n",
    "# FTE_INDTIENEALCANTARILLADO27: alcantarillado\n",
    "# FTE_INDTIENEGAS28: gas natural domiciliario\n",
    "# FTE_INDTIENERECOLECCION29: recoelcción de basura\n",
    "# FTE_INDTIENEACUEDUCTO30: acueducto\n",
    "# FTE_TIPSANITARIO39: servicio sanitario del hogar\n",
    "# FTE_TIPORIGENAGUA42: de donde obtiene el hogar el agua para consumo humano\n",
    "# FTE_TIPPREPARAALIMENTOS46: lugar donde el hogar prepara alimentos\n",
    "# FTE_TOTHOGARES6: No. hogares en la vivienda\n",
    "# FTE_NUMPERSONASHOGAR81: total de personas en el hogar\n",
    "# FTE_NUMCUARTOSEXCLUSIVOS36: total de cuartos que dispone el hogar\n",
    "# FTE_NUMCUARTOSUNICOSDORMIR38: No. cuartos usados por el hogar para dormir"
   ]
  },
  {
   "cell_type": "code",
   "execution_count": null,
   "id": "d5a9598d-324b-41d9-b35c-0de03ab2f7db",
   "metadata": {},
   "outputs": [],
   "source": [
    "df_vic_barrios[\"FTE_TIPVIVIENDA23\"].value_counts() "
   ]
  },
  {
   "cell_type": "markdown",
   "id": "d21c4a7f-521f-4afb-90ad-302b2119c86b",
   "metadata": {},
   "source": [
    "### Componentes cuanti"
   ]
  },
  {
   "cell_type": "code",
   "execution_count": null,
   "id": "b29125d4-b4d4-41c7-ba7b-b9e5eda67fa8",
   "metadata": {},
   "outputs": [],
   "source": [
    "### Estructura – Tipo de vivienda\n",
    "# op 6: Otra vivienda (carpa, vagón, embarcación, cueva, refugio natural, etc.)\n",
    "df_vic_barrios.loc[:, \"TIPO_VIVIENDA\"] = (df_vic_barrios[\"FTE_TIPVIVIENDA23\"] == 4).astype(int)\n",
    "\n",
    "### Material paredes exteriores\n",
    "df_vic_barrios.loc[:, \"MATERIAL_PAREDES\"] = ((df_vic_barrios[\"FTE_TIPMATPAREDES24\"].isin([5, 6, 7, 0])) & (df_vic_barrios[\"FTE_TIPVIVIENDA23\"]!=5)).astype(int)\n",
    "\n",
    "### Cohabitación\n",
    "\n",
    "# Se consideran en déficit los hogares que habitan en una vivienda en la que\n",
    "# hay tres o más hogares.\n",
    "\n",
    "# En cabeceras y centros poblados:\n",
    "# hay más de 6 personas en total en la vivienda. \n",
    "\n",
    "# En los dos casos, no se consideran los hogares principales y unipersonales\n",
    "\n",
    "group_sizes = df_vic_barrios.groupby(\"FTE_IDEFICHAORIGEN1\").size()\n",
    "\n",
    "def coha(row: pd.Series, group_sizes: pd.Series) -> int:\n",
    "    \"\"\"\n",
    "    Determines cohabitation status based on specific conditions.\n",
    "\n",
    "    Args:\n",
    "    row (pd.Series): A row from the DataFrame containing relevant fields.\n",
    "    group_sizes (pd.Series): A Series containing the sizes of groups based on \"FTE_IDEFICHAORIGEN1\".\n",
    "\n",
    "    Returns:\n",
    "    int: Returns 1 if the conditions for cohabitation are met, otherwise returns 0.\n",
    "    \"\"\"\n",
    "    # Check conditions for cohabitation\n",
    "    if (row[\"FTE_TIPVIVIENDA23\"] != 5 and \n",
    "        row[\"FTE_TOTHOGARES6\"] >= 3 and \n",
    "        row[\"FTE_IDEHOGAR34\"] != 1 and \n",
    "        row[\"FTE_NUMPERSONASHOGAR81\"] != 1):\n",
    "        return 1\n",
    "    elif (row[\"FTE_TIPVIVIENDA23\"] != 5 and \n",
    "          row[\"FTE_TOTHOGARES6\"] == 2 and \n",
    "          row[\"FTE_CODCLASE4\"] in [1, 2] and \n",
    "          group_sizes[row[\"FTE_IDEFICHAORIGEN1\"]] > 6 and \n",
    "          row[\"FTE_IDEHOGAR34\"] != 1 and \n",
    "          row[\"FTE_NUMPERSONASHOGAR81\"] != 1):\n",
    "        return 1\n",
    "    else:\n",
    "        return 0\n",
    "\n",
    "# # lambda actua para que apply solo reciba un argumento, pero coha recibe dos dataframes, el completo y el agrupado\n",
    "df_vic_barrios[\"COHABITACION\"] = df_vic_barrios.apply(lambda row: coha(row, group_sizes), axis=1)\n",
    "\n",
    "### Hacinamiento no mitigable\n",
    "# personas por cuarto\n",
    "df_vic_barrios.loc[:, \"PER_CUARTO\"] = df_vic_barrios[\"FTE_NUMPERSONASHOGAR81\"] / df_vic_barrios[\"FTE_NUMCUARTOSUNICOSDORMIR38\"]\n",
    "\n",
    "df_vic_barrios.loc[:, \"HACI_NO_MITI\"] = ((df_vic_barrios[\"FTE_CODCLASE4\"].isin([1,2])) & (df_vic_barrios[\"PER_CUARTO\"] > 4)  & (df_vic_barrios[\"FTE_TIPVIVIENDA23\"]!=5)).astype(int)"
   ]
  },
  {
   "cell_type": "markdown",
   "id": "e32c30e3-b790-4b73-a12c-5cd8380ddd3f",
   "metadata": {},
   "source": [
    "### Deficit cuantitativo"
   ]
  },
  {
   "cell_type": "code",
   "execution_count": null,
   "id": "9211768a-f3c9-4a3f-b470-da9305f54e9f",
   "metadata": {},
   "outputs": [],
   "source": [
    "df_vic_barrios.loc[:, \"DEF_CUANTI\"] = ((df_vic_barrios.loc[:,\"TIPO_VIVIENDA\"]== 1) |\n",
    "                        (df_vic_barrios.loc[:,\"MATERIAL_PAREDES\"]== 1) | \n",
    "                        (df_vic_barrios.loc[:,\"COHABITACION\"]== 1) | \n",
    "                        (df_vic_barrios.loc[:,\"HACI_NO_MITI\"]== 1)).astype(int)"
   ]
  },
  {
   "cell_type": "code",
   "execution_count": null,
   "id": "bcd7635e-239a-433c-a5fa-97c1562ce46f",
   "metadata": {},
   "outputs": [],
   "source": [
    "df_vic_barrios[\"DEF_CUANTI\"].value_counts()"
   ]
  },
  {
   "cell_type": "markdown",
   "id": "7923a797-fe71-4d9c-9bba-f1f6b0650272",
   "metadata": {},
   "source": [
    "### Componentes cuali"
   ]
  },
  {
   "cell_type": "code",
   "execution_count": null,
   "id": "7b1078c1-5119-44a2-baf7-005eb666b941",
   "metadata": {},
   "outputs": [],
   "source": [
    "### Hacinamiento mitigable\n",
    "condicion1 = ((df_vic_barrios[\"FTE_CODCLASE4\"].isin([1,2])) & \n",
    "              ## para variables discretas usar between\n",
    "              #(df_vic_barrios[\"PER_CUARTO\"].between(3, 4, inclusive=\"both\")) &\n",
    "              ((df_vic_barrios[\"PER_CUARTO\"]>2) & (df_vic_barrios[\"PER_CUARTO\"]<=4)) & \n",
    "              (df_vic_barrios[\"FTE_TIPVIVIENDA23\"]!=5))\n",
    "\n",
    "condition2 = ((df_vic_barrios[\"FTE_CODCLASE4\"] == 3) &\n",
    "              (df_vic_barrios[\"FTE_TIPVIVIENDA23\"]!=5) &\n",
    "              (df_vic_barrios[\"PER_CUARTO\"] > 2))\n",
    "\n",
    "df_vic_barrios.loc[:, \"HACI_MITI\"] = (condicion1 | condition2).astype(int)\n",
    "\n",
    "### Material de los pisos\n",
    "df_vic_barrios.loc[:, \"MAT_PISOS\"] = ((df_vic_barrios[\"FTE_TIPVIVIENDA23\"]!=5) & (df_vic_barrios[\"FTE_TIPMATPISOS25\"].isin([5,6]))).astype(int)\n",
    "\n",
    "### Cocina\n",
    "con_coci1 = ((df_vic_barrios[\"FTE_CODCLASE4\"] == 1) & \n",
    "              (df_vic_barrios[\"FTE_TIPPREPARAALIMENTOS46\"].isin([2, 3, 4])) &\n",
    "              (df_vic_barrios[\"FTE_TIPVIVIENDA23\"]!=5))\n",
    "con_coci2 = ((df_vic_barrios[\"FTE_CODCLASE4\"].isin([2,3])) & \n",
    "              (df_vic_barrios[\"FTE_TIPPREPARAALIMENTOS46\"].isin([2, 3])) &\n",
    "              (df_vic_barrios[\"FTE_TIPVIVIENDA23\"]!=5))\n",
    "df_vic_barrios.loc[:, \"COCINA\"] = (con_coci1 | con_coci2).astype(int)\n",
    "\n",
    "### Acueducto\n",
    "con_acue1 = ((df_vic_barrios[\"FTE_CODCLASE4\"] == 1) & \n",
    "              (df_vic_barrios[\"FTE_INDTIENEACUEDUCTO30\"]==2) &\n",
    "              (df_vic_barrios[\"FTE_TIPVIVIENDA23\"]!=5))\n",
    "\n",
    "con_acue2 = ((df_vic_barrios[\"FTE_CODCLASE4\"].isin([2,3])) & \n",
    "              (df_vic_barrios[\"FTE_TIPORIGENAGUA42\"].isin([3,4,5,7,8,9])) & \n",
    "              (df_vic_barrios[\"FTE_TIPVIVIENDA23\"]!=5))\n",
    "\n",
    "df_vic_barrios.loc[:, \"ACUEDUCTO\"] = (con_acue1 | con_acue2).astype(int)\n",
    "\n",
    "# Alcantarillado\n",
    "con_alca1 = ((df_vic_barrios[\"FTE_CODCLASE4\"] == 1) & \n",
    "              (df_vic_barrios[\"FTE_INDTIENEALCANTARILLADO27\"]==2) &\n",
    "              (df_vic_barrios[\"FTE_TIPVIVIENDA23\"]!=5))\n",
    "\n",
    "con_alca2 = ((df_vic_barrios[\"FTE_CODCLASE4\"] == 1) & \n",
    "              (df_vic_barrios[\"FTE_INDTIENEALCANTARILLADO27\"]==1) &\n",
    "             (df_vic_barrios[\"FTE_TIPSANITARIO39\"].isin([2,3,4,5])) &\n",
    "              (df_vic_barrios[\"FTE_TIPVIVIENDA23\"]!=5))\n",
    "\n",
    "con_alca3 = ((df_vic_barrios[\"FTE_CODCLASE4\"].isin([2,3])) & \n",
    "              (df_vic_barrios[\"FTE_TIPSANITARIO39\"].isin([3,4,5])) &\n",
    "              (df_vic_barrios[\"FTE_TIPVIVIENDA23\"]!=5))\n",
    "\n",
    "df_vic_barrios.loc[:, \"ALCANTARILLADO\"] = (con_alca1 | con_alca2 | con_alca3).astype(int)\n",
    "\n",
    "### Energía\n",
    "df_vic_barrios.loc[:, \"ENERGIA\"] = ((df_vic_barrios[\"FTE_TIPVIVIENDA23\"]!=5)  & \n",
    "                     (df_vic_barrios[\"FTE_INDTIENEENERGIA26\"]==2)).astype(int)\n",
    "\n",
    "## Recolección de basuras\n",
    "df_vic_barrios.loc[:, \"BASURAS\"] = ((df_vic_barrios[\"FTE_TIPVIVIENDA23\"]!=5) & \n",
    "                     (df_vic_barrios[\"FTE_CODCLASE4\"].isin([1,2])) &\n",
    "                     (df_vic_barrios[\"FTE_INDTIENERECOLECCION29\"]==2)).astype(int)"
   ]
  },
  {
   "cell_type": "markdown",
   "id": "129704dd-db9c-430f-8ff3-84257aa1215c",
   "metadata": {},
   "source": [
    "### Déficit cualitativo"
   ]
  },
  {
   "cell_type": "code",
   "execution_count": null,
   "id": "41ed057d-d157-4df5-ba07-f7e31dc5de7e",
   "metadata": {},
   "outputs": [],
   "source": [
    "df_vic_barrios.loc[:,\"DEF_CUALI\"] = ((df_vic_barrios.loc[:,\"HACI_MITI\"]== 1) |\n",
    "                        (df_vic_barrios.loc[:,\"MAT_PISOS\"]== 1) | \n",
    "                        (df_vic_barrios.loc[:,\"COCINA\"]== 1) | \n",
    "                        (df_vic_barrios.loc[:,\"ACUEDUCTO\"]== 1) |\n",
    "                        (df_vic_barrios.loc[:,\"ALCANTARILLADO\"]== 1) |\n",
    "                        (df_vic_barrios.loc[:,\"ENERGIA\"]== 1) |\n",
    "                        (df_vic_barrios.loc[:,\"BASURAS\"]== 1) ).astype(int)\n",
    "# reemplazar los valores del deficit cualitativo en los hogares con doble déficit\n",
    "df_vic_barrios.loc[(df_vic_barrios.loc[:,\"DEF_CUALI\"] == 1) & (df_vic_barrios.loc[:,\"DEF_CUANTI\"] == 1), \"DEF_CUALI\"] = 0"
   ]
  },
  {
   "cell_type": "code",
   "execution_count": null,
   "id": "c3a413fe-fc17-4ddb-9144-618757f5536c",
   "metadata": {},
   "outputs": [],
   "source": [
    "df_vic_barrios[\"DEF_CUALI\"].value_counts()"
   ]
  },
  {
   "cell_type": "markdown",
   "id": "ff339b93-bfd5-4ecd-a35d-0cafb65d0fcc",
   "metadata": {},
   "source": [
    "### Déficit Habitacional"
   ]
  },
  {
   "cell_type": "code",
   "execution_count": null,
   "id": "812b9965-3d18-4c9b-aaed-bbcbfcb3b2a7",
   "metadata": {},
   "outputs": [],
   "source": [
    "def df_hab(row):\n",
    "    if row[\"DEF_CUANTI\"]==1 and row[\"DEF_CUALI\"]==0:\n",
    "        x = 1\n",
    "    elif row[\"DEF_CUANTI\"]==0 and row[\"DEF_CUALI\"]== 1:\n",
    "        x = 1\n",
    "    else:\n",
    "        x = 0\n",
    "    return x\n",
    "\n",
    "df_vic_barrios.loc[:, \"DEF_HABITACIONAL\"] = df_vic_barrios.apply(df_hab, axis=1)"
   ]
  },
  {
   "cell_type": "code",
   "execution_count": null,
   "id": "53dda909-e47b-4263-b4a3-2bec5c782a10",
   "metadata": {},
   "outputs": [],
   "source": [
    "df_vic_barrios[\"DEF_HABITACIONAL\"].value_counts()"
   ]
  },
  {
   "cell_type": "markdown",
   "id": "e9604431-2f2d-45e7-a0ab-97ce5ad8086e",
   "metadata": {},
   "source": [
    "### Construir base de hogares"
   ]
  },
  {
   "cell_type": "code",
   "execution_count": null,
   "id": "f5b8cae9-e973-44d7-b287-3002cbf08d04",
   "metadata": {},
   "outputs": [],
   "source": [
    "# pasar la variable víctima númerica\n",
    "df_vic_barrios.loc[:, \"VICTIMA\"] = (df_vic_barrios.loc[:, \"VICTIMA\"]==\"SI\").astype(int) \n",
    "# crear variable no víctima\n",
    "df_vic_barrios.loc[:, \"NO_VICTIMA\"] = (df_vic_barrios.loc[:, \"VICTIMA\"]==0).astype(int) "
   ]
  },
  {
   "cell_type": "code",
   "execution_count": null,
   "id": "8b25260b-93f5-4a46-a52d-c6f40de6d642",
   "metadata": {},
   "outputs": [],
   "source": [
    "df_vic_barrios[\"VICTIMA\"].value_counts()"
   ]
  },
  {
   "cell_type": "code",
   "execution_count": null,
   "id": "2f73f4aa-95f7-4899-a17a-80fe8206f1bb",
   "metadata": {},
   "outputs": [],
   "source": [
    "df_vic_barrios[\"NO_VICTIMA\"].value_counts()"
   ]
  },
  {
   "cell_type": "code",
   "execution_count": null,
   "id": "94aec5d7-f1b0-4e05-93fd-d55c29fb70e9",
   "metadata": {},
   "outputs": [],
   "source": [
    "df_vic_barrios_h = df_vic_barrios.groupby(['FTE_IDEFICHAORIGEN1', 'FTE_IDEHOGAR34']).apply(\n",
    "    lambda x: pd.Series({\n",
    "        # deficit habitacional\n",
    "        'DEF_HABITACIONAL': x['DEF_HABITACIONAL'].max(),\n",
    "        #deficit cuantitativo\n",
    "        'DEF_CUANTI': x['DEF_CUANTI'].max(), \n",
    "        'TIPO_VIVIENDA': x['TIPO_VIVIENDA'].max(), \n",
    "        'MATERIAL_PAREDES': x['MATERIAL_PAREDES'].max(),\n",
    "        'COHABITACION': x['COHABITACION'].max(),\n",
    "        'HACI_NO_MITI': x['HACI_NO_MITI'].max(),\n",
    "        # deficit cualitativo\n",
    "        'DEF_CUALI': x['DEF_CUALI'].max(),\n",
    "        'HACI_MITI': x['HACI_MITI'].max(), \n",
    "        'MAT_PISOS': x['MAT_PISOS'].max(), \n",
    "        'COCINA': x['COCINA'].max(),\n",
    "        'ACUEDUCTO': x['ACUEDUCTO'].max(), \n",
    "        'ALCANTARILLADO': x['ALCANTARILLADO'].max(), \n",
    "        'ENERGIA': x['ENERGIA'].max(), \n",
    "        'BASURAS': x['BASURAS'].max(),\n",
    "        # víctimas\n",
    "        'ES_VICTIMA': x['VICTIMA'].max(),\n",
    "        'NO_VICTIMA': 1 if x['NO_VICTIMA'].mean() == 1 else 0,\n",
    "        # enfoques del jefe de hogar\n",
    "        'JEFE': x['FTE_TIPPARENTESCO93'].min(),\n",
    "        'SEXO': x.loc[x['FTE_TIPPARENTESCO93'].idxmin(), 'FTE_SEXOPERSONA89'],\n",
    "        'GRUPO_ETARIO': x.loc[x['FTE_TIPPARENTESCO93'].idxmin(), 'GRUPO_ETARIO'],\n",
    "        'DISCAPACIDAD': x.loc[x['FTE_TIPPARENTESCO93'].idxmin(), 'FTE_INDDISCAPNINGUNA108'], \n",
    "        # Territorial\n",
    "        'BARRIO': x.loc[x['FTE_TIPPARENTESCO93'].idxmin(), 'FTE_NOMBARRIO19'],\n",
    "        'CLASE': x.loc[x['FTE_TIPPARENTESCO93'].idxmin(), 'FTE_CODCLASE4']\n",
    "    })\n",
    ").reset_index()  "
   ]
  },
  {
   "cell_type": "code",
   "execution_count": 531,
   "id": "91112e40-b209-47a1-86be-26d4dee73cff",
   "metadata": {},
   "outputs": [
    {
     "name": "stdout",
     "output_type": "stream",
     "text": [
      "<class 'pandas.core.frame.DataFrame'>\n",
      "RangeIndex: 9839 entries, 0 to 9838\n",
      "Data columns (total 24 columns):\n",
      " #   Column               Non-Null Count  Dtype \n",
      "---  ------               --------------  ----- \n",
      " 0   FTE_IDEFICHAORIGEN1  9839 non-null   object\n",
      " 1   FTE_IDEHOGAR34       9839 non-null   int64 \n",
      " 2   DEF_HABITACIONAL     9839 non-null   int64 \n",
      " 3   DEF_CUANTI           9839 non-null   int64 \n",
      " 4   TIPO_VIVIENDA        9839 non-null   int64 \n",
      " 5   MATERIAL_PAREDES     9839 non-null   int64 \n",
      " 6   COHABITACION         9839 non-null   int64 \n",
      " 7   HACI_NO_MITI         9839 non-null   int64 \n",
      " 8   DEF_CUALI            9839 non-null   int64 \n",
      " 9   HACI_MITI            9839 non-null   int64 \n",
      " 10  MAT_PISOS            9839 non-null   int64 \n",
      " 11  COCINA               9839 non-null   int64 \n",
      " 12  ACUEDUCTO            9839 non-null   int64 \n",
      " 13  ALCANTARILLADO       9839 non-null   int64 \n",
      " 14  ENERGIA              9839 non-null   int64 \n",
      " 15  BASURAS              9839 non-null   int64 \n",
      " 16  ES_VICTIMA           9839 non-null   int64 \n",
      " 17  NO_VICTIMA           9839 non-null   int64 \n",
      " 18  JEFE                 9839 non-null   int64 \n",
      " 19  SEXO                 9839 non-null   int64 \n",
      " 20  GRUPO_ETARIO         9839 non-null   object\n",
      " 21  DISCAPACIDAD         9839 non-null   int64 \n",
      " 22  BARRIO               9839 non-null   object\n",
      " 23  CLASE                9839 non-null   int64 \n",
      "dtypes: int64(21), object(3)\n",
      "memory usage: 1.8+ MB\n"
     ]
    }
   ],
   "source": [
    "df_vic_barrios_h.info()"
   ]
  },
  {
   "cell_type": "markdown",
   "id": "3058007c-7920-4c57-9fb8-777cc0c6cc50",
   "metadata": {},
   "source": [
    "### Resultados"
   ]
  },
  {
   "cell_type": "code",
   "execution_count": 600,
   "id": "fc3d073d-0174-45a6-b4b2-653b918815c4",
   "metadata": {},
   "outputs": [
    {
     "data": {
      "text/html": [
       "<div>\n",
       "<style scoped>\n",
       "    .dataframe tbody tr th:only-of-type {\n",
       "        vertical-align: middle;\n",
       "    }\n",
       "\n",
       "    .dataframe tbody tr th {\n",
       "        vertical-align: top;\n",
       "    }\n",
       "\n",
       "    .dataframe thead tr th {\n",
       "        text-align: left;\n",
       "    }\n",
       "\n",
       "    .dataframe thead tr:last-of-type th {\n",
       "        text-align: right;\n",
       "    }\n",
       "</style>\n",
       "<table border=\"1\" class=\"dataframe\">\n",
       "  <thead>\n",
       "    <tr>\n",
       "      <th></th>\n",
       "      <th colspan=\"3\" halign=\"left\">FTE_IDEHOGAR34</th>\n",
       "    </tr>\n",
       "    <tr>\n",
       "      <th>ES_VICTIMA</th>\n",
       "      <th>All</th>\n",
       "      <th>1</th>\n",
       "      <th>0</th>\n",
       "    </tr>\n",
       "    <tr>\n",
       "      <th>DEF_HABITACIONAL</th>\n",
       "      <th></th>\n",
       "      <th></th>\n",
       "      <th></th>\n",
       "    </tr>\n",
       "  </thead>\n",
       "  <tbody>\n",
       "    <tr>\n",
       "      <th>0</th>\n",
       "      <td>4783</td>\n",
       "      <td>774</td>\n",
       "      <td>4009</td>\n",
       "    </tr>\n",
       "    <tr>\n",
       "      <th>1</th>\n",
       "      <td>5056</td>\n",
       "      <td>1338</td>\n",
       "      <td>3718</td>\n",
       "    </tr>\n",
       "    <tr>\n",
       "      <th>All</th>\n",
       "      <td>9839</td>\n",
       "      <td>2112</td>\n",
       "      <td>7727</td>\n",
       "    </tr>\n",
       "  </tbody>\n",
       "</table>\n",
       "</div>"
      ],
      "text/plain": [
       "                 FTE_IDEHOGAR34            \n",
       "ES_VICTIMA                  All     1     0\n",
       "DEF_HABITACIONAL                           \n",
       "0                          4783   774  4009\n",
       "1                          5056  1338  3718\n",
       "All                        9839  2112  7727"
      ]
     },
     "execution_count": 600,
     "metadata": {},
     "output_type": "execute_result"
    }
   ],
   "source": [
    "#Resultados generales\n",
    "def_hab_g = df_vic_barrios_h.pivot_table(values= [\"FTE_IDEHOGAR34\"],\n",
    "                                  index=[\"DEF_HABITACIONAL\"],\n",
    "                                  columns=\"ES_VICTIMA\", aggfunc= \"count\", margins = True)\n",
    "#ordena primero la columna y después el indice\n",
    "def_hab_g = def_hab_g.sort_index(axis=1, ascending=False)\n",
    "round(def_hab_g ,2)"
   ]
  },
  {
   "cell_type": "code",
   "execution_count": 598,
   "id": "68eb45ca-176c-4162-9e1f-e5ec8bc00282",
   "metadata": {},
   "outputs": [
    {
     "data": {
      "text/html": [
       "<div>\n",
       "<style scoped>\n",
       "    .dataframe tbody tr th:only-of-type {\n",
       "        vertical-align: middle;\n",
       "    }\n",
       "\n",
       "    .dataframe tbody tr th {\n",
       "        vertical-align: top;\n",
       "    }\n",
       "\n",
       "    .dataframe thead tr th {\n",
       "        text-align: left;\n",
       "    }\n",
       "\n",
       "    .dataframe thead tr:last-of-type th {\n",
       "        text-align: right;\n",
       "    }\n",
       "</style>\n",
       "<table border=\"1\" class=\"dataframe\">\n",
       "  <thead>\n",
       "    <tr>\n",
       "      <th></th>\n",
       "      <th></th>\n",
       "      <th colspan=\"3\" halign=\"left\">FTE_IDEHOGAR34</th>\n",
       "    </tr>\n",
       "    <tr>\n",
       "      <th></th>\n",
       "      <th>DEF_HABITACIONAL</th>\n",
       "      <th>All</th>\n",
       "      <th>1</th>\n",
       "      <th>0</th>\n",
       "    </tr>\n",
       "    <tr>\n",
       "      <th>ES_VICTIMA</th>\n",
       "      <th>BARRIO</th>\n",
       "      <th></th>\n",
       "      <th></th>\n",
       "      <th></th>\n",
       "    </tr>\n",
       "  </thead>\n",
       "  <tbody>\n",
       "    <tr>\n",
       "      <th>All</th>\n",
       "      <th></th>\n",
       "      <td>9839</td>\n",
       "      <td>5056</td>\n",
       "      <td>4783</td>\n",
       "    </tr>\n",
       "    <tr>\n",
       "      <th rowspan=\"4\" valign=\"top\">1</th>\n",
       "      <th>PARAISO QUIBA</th>\n",
       "      <td>1072</td>\n",
       "      <td>643</td>\n",
       "      <td>429</td>\n",
       "    </tr>\n",
       "    <tr>\n",
       "      <th>EL MIRADOR</th>\n",
       "      <td>300</td>\n",
       "      <td>138</td>\n",
       "      <td>162</td>\n",
       "    </tr>\n",
       "    <tr>\n",
       "      <th>BELLA FLOR SUR</th>\n",
       "      <td>377</td>\n",
       "      <td>316</td>\n",
       "      <td>61</td>\n",
       "    </tr>\n",
       "    <tr>\n",
       "      <th>BELLA FLOR</th>\n",
       "      <td>363</td>\n",
       "      <td>241</td>\n",
       "      <td>122</td>\n",
       "    </tr>\n",
       "    <tr>\n",
       "      <th rowspan=\"4\" valign=\"top\">0</th>\n",
       "      <th>PARAISO QUIBA</th>\n",
       "      <td>3807</td>\n",
       "      <td>1703</td>\n",
       "      <td>2104</td>\n",
       "    </tr>\n",
       "    <tr>\n",
       "      <th>EL MIRADOR</th>\n",
       "      <td>1474</td>\n",
       "      <td>502</td>\n",
       "      <td>972</td>\n",
       "    </tr>\n",
       "    <tr>\n",
       "      <th>BELLA FLOR SUR</th>\n",
       "      <td>1085</td>\n",
       "      <td>786</td>\n",
       "      <td>299</td>\n",
       "    </tr>\n",
       "    <tr>\n",
       "      <th>BELLA FLOR</th>\n",
       "      <td>1361</td>\n",
       "      <td>727</td>\n",
       "      <td>634</td>\n",
       "    </tr>\n",
       "  </tbody>\n",
       "</table>\n",
       "</div>"
      ],
      "text/plain": [
       "                          FTE_IDEHOGAR34            \n",
       "DEF_HABITACIONAL                     All     1     0\n",
       "ES_VICTIMA BARRIO                                   \n",
       "All                                 9839  5056  4783\n",
       "1          PARAISO QUIBA            1072   643   429\n",
       "           EL MIRADOR                300   138   162\n",
       "           BELLA FLOR SUR            377   316    61\n",
       "           BELLA FLOR                363   241   122\n",
       "0          PARAISO QUIBA            3807  1703  2104\n",
       "           EL MIRADOR               1474   502   972\n",
       "           BELLA FLOR SUR           1085   786   299\n",
       "           BELLA FLOR               1361   727   634"
      ]
     },
     "execution_count": 598,
     "metadata": {},
     "output_type": "execute_result"
    }
   ],
   "source": [
    "#Resultados barrio\n",
    "def_hab = df_vic_barrios_h.pivot_table(values= [\"FTE_IDEHOGAR34\"],\n",
    "                                  index=[\"ES_VICTIMA\", \"BARRIO\"],\n",
    "                                  columns=\"DEF_HABITACIONAL\", aggfunc= \"count\", margins = True)\n",
    "#ordena primero la columna y después el indice\n",
    "def_hab = def_hab.sort_index(axis=1, ascending=False).sort_index(axis=0, level=0, ascending=False)\n",
    "round(def_hab ,2)"
   ]
  },
  {
   "cell_type": "code",
   "execution_count": 620,
   "id": "19f870e7-5b1e-4042-923f-3c5206e07024",
   "metadata": {},
   "outputs": [
    {
     "data": {
      "text/html": [
       "<div>\n",
       "<style scoped>\n",
       "    .dataframe tbody tr th:only-of-type {\n",
       "        vertical-align: middle;\n",
       "    }\n",
       "\n",
       "    .dataframe tbody tr th {\n",
       "        vertical-align: top;\n",
       "    }\n",
       "\n",
       "    .dataframe thead tr th {\n",
       "        text-align: left;\n",
       "    }\n",
       "\n",
       "    .dataframe thead tr:last-of-type th {\n",
       "        text-align: right;\n",
       "    }\n",
       "</style>\n",
       "<table border=\"1\" class=\"dataframe\">\n",
       "  <thead>\n",
       "    <tr>\n",
       "      <th></th>\n",
       "      <th colspan=\"2\" halign=\"left\">FTE_IDEHOGAR34</th>\n",
       "    </tr>\n",
       "    <tr>\n",
       "      <th>ES_VICTIMA</th>\n",
       "      <th>1</th>\n",
       "      <th>0</th>\n",
       "    </tr>\n",
       "    <tr>\n",
       "      <th>DEF_CUALI</th>\n",
       "      <th></th>\n",
       "      <th></th>\n",
       "    </tr>\n",
       "  </thead>\n",
       "  <tbody>\n",
       "    <tr>\n",
       "      <th>1</th>\n",
       "      <td>677</td>\n",
       "      <td>2046</td>\n",
       "    </tr>\n",
       "    <tr>\n",
       "      <th>0</th>\n",
       "      <td>1435</td>\n",
       "      <td>5681</td>\n",
       "    </tr>\n",
       "  </tbody>\n",
       "</table>\n",
       "</div>"
      ],
      "text/plain": [
       "           FTE_IDEHOGAR34      \n",
       "ES_VICTIMA              1     0\n",
       "DEF_CUALI                      \n",
       "1                     677  2046\n",
       "0                    1435  5681"
      ]
     },
     "execution_count": 620,
     "metadata": {},
     "output_type": "execute_result"
    }
   ],
   "source": [
    "# Resultados tipo\n",
    "def_hab_t = df_vic_barrios_h.pivot_table(values= [\"FTE_IDEHOGAR34\"],\n",
    "                                  index=[\"DEF_CUALI\"], # CUANTI\n",
    "                                  columns=\"ES_VICTIMA\", aggfunc= \"count\", margins = False)\n",
    "# #ordena primero la columna y después el indice\n",
    "def_hab_t = def_hab_t.sort_index(axis=1, ascending=False).sort_index(axis=0, level=0, ascending=False)\n",
    "# round(def_hab_g ,2)\n",
    "def_hab_t"
   ]
  },
  {
   "cell_type": "code",
   "execution_count": 624,
   "id": "0b3c8434-3ea1-4a08-a6a0-48cc47c60ec0",
   "metadata": {},
   "outputs": [
    {
     "data": {
      "text/html": [
       "<div>\n",
       "<style scoped>\n",
       "    .dataframe tbody tr th:only-of-type {\n",
       "        vertical-align: middle;\n",
       "    }\n",
       "\n",
       "    .dataframe tbody tr th {\n",
       "        vertical-align: top;\n",
       "    }\n",
       "\n",
       "    .dataframe thead tr th {\n",
       "        text-align: left;\n",
       "    }\n",
       "\n",
       "    .dataframe thead tr:last-of-type th {\n",
       "        text-align: right;\n",
       "    }\n",
       "</style>\n",
       "<table border=\"1\" class=\"dataframe\">\n",
       "  <thead>\n",
       "    <tr>\n",
       "      <th></th>\n",
       "      <th colspan=\"2\" halign=\"left\">FTE_IDEHOGAR34</th>\n",
       "    </tr>\n",
       "    <tr>\n",
       "      <th>SEXO</th>\n",
       "      <th>1</th>\n",
       "      <th>2</th>\n",
       "    </tr>\n",
       "    <tr>\n",
       "      <th>ES_VICTIMA</th>\n",
       "      <th></th>\n",
       "      <th></th>\n",
       "    </tr>\n",
       "  </thead>\n",
       "  <tbody>\n",
       "    <tr>\n",
       "      <th>1</th>\n",
       "      <td>501</td>\n",
       "      <td>837</td>\n",
       "    </tr>\n",
       "    <tr>\n",
       "      <th>0</th>\n",
       "      <td>1570</td>\n",
       "      <td>2148</td>\n",
       "    </tr>\n",
       "  </tbody>\n",
       "</table>\n",
       "</div>"
      ],
      "text/plain": [
       "           FTE_IDEHOGAR34      \n",
       "SEXO                    1     2\n",
       "ES_VICTIMA                     \n",
       "1                     501   837\n",
       "0                    1570  2148"
      ]
     },
     "execution_count": 624,
     "metadata": {},
     "output_type": "execute_result"
    }
   ],
   "source": [
    "# Resultados por sexo del jefe del hogar\n",
    "def_hab_sex = df_vic_barrios_h[df_vic_barrios_h[\"DEF_HABITACIONAL\"]==1].pivot_table(values= [\"FTE_IDEHOGAR34\"],\n",
    "                                  index=[\"ES_VICTIMA\"], # CUANTI\n",
    "                                  columns=\"SEXO\", aggfunc= \"count\", margins = False)\n",
    "# #ordena primero la columna y después el indice\n",
    "def_hab_sex = def_hab_sex.sort_index(axis=1, ascending=True).sort_index(axis=0, level=0, ascending=False)\n",
    "# round(def_hab_g ,2)\n",
    "def_hab_sex"
   ]
  },
  {
   "cell_type": "markdown",
   "id": "71aa7b63-7cd5-45c8-abe1-8141188ad9b6",
   "metadata": {},
   "source": [
    "## Cargue información"
   ]
  },
  {
   "cell_type": "code",
   "execution_count": null,
   "id": "3509eebd-0592-4869-b765-49cec472dd00",
   "metadata": {},
   "outputs": [],
   "source": [
    "#ruta entrada\n",
    "p1 = \"C:/Users/ivan.corredor/visor_pobreza/\""
   ]
  },
  {
   "cell_type": "code",
   "execution_count": null,
   "id": "c1365529-017e-4996-8dad-7ea60edf91e7",
   "metadata": {},
   "outputs": [],
   "source": [
    "#cargue base 2022\n",
    "df_pobreza = pd.read_csv(p1 + \"vic_4_periodos.csv\", sep = \";\", decimal=\",\")"
   ]
  },
  {
   "cell_type": "code",
   "execution_count": null,
   "id": "99263672-f75b-4cec-8893-d79269416226",
   "metadata": {},
   "outputs": [],
   "source": [
    "# mayúsculas\n",
    "df_pobreza.columns = df_pobreza.columns.str.upper()"
   ]
  },
  {
   "cell_type": "code",
   "execution_count": null,
   "id": "59cb82be-12e7-47de-97cc-ee6855e25f2d",
   "metadata": {},
   "outputs": [],
   "source": [
    "# asignar formato correcto a las variables\n",
    "names = ['DIRECTORIO',\t'SECUENCIA_P',\t'ORDEN']\n",
    "for i in names:\n",
    "    df_pobreza[i] = pd.to_numeric(df_pobreza[i], errors='coerce', downcast= 'integer')"
   ]
  },
  {
   "cell_type": "code",
   "execution_count": null,
   "id": "b2effb2d-7fdc-4bc2-872c-8275ca85f510",
   "metadata": {},
   "outputs": [],
   "source": [
    "# concatenar variables de identificación\n",
    "df_pobreza[\"ID_PER\"] = df_pobreza[['DIRECTORIO', 'SECUENCIA_P', 'ORDEN']].apply(lambda row: f\"{row['DIRECTORIO']}_{row['SECUENCIA_P']}_{row['ORDEN']}\", axis=1)"
   ]
  },
  {
   "cell_type": "code",
   "execution_count": null,
   "id": "042e779c-ba07-4506-9fc5-f48a80a44a8a",
   "metadata": {},
   "outputs": [],
   "source": [
    "df_pobreza.head()"
   ]
  },
  {
   "cell_type": "markdown",
   "id": "f13072e8-479c-4305-81d1-f9600b35a25b",
   "metadata": {},
   "source": [
    "## cruce geih víctimas con pobreza"
   ]
  },
  {
   "cell_type": "code",
   "execution_count": null,
   "id": "1d3184e7-3de7-4457-a44e-9532732feb75",
   "metadata": {},
   "outputs": [],
   "source": [
    "df_pobreza_GEIH =   pd.merge(left= df_pobreza, right = df_vic2,\n",
    "                            left_on=['ID_PER'], \n",
    "                            right_on=['ID_PER'],\n",
    "                            how='inner', sort=False, validate='m:1',\n",
    "                            suffixes=('_POB', '_GEIH'), \n",
    "                            indicator = 'INDICATOR_COLUMN2')"
   ]
  },
  {
   "cell_type": "code",
   "execution_count": null,
   "id": "2ddf975d-be3c-4be2-a56f-2747379398ab",
   "metadata": {},
   "outputs": [],
   "source": [
    "df_pobreza_GEIH.head()"
   ]
  },
  {
   "cell_type": "code",
   "execution_count": null,
   "id": "175e792d-7313-4e09-90fe-67db1456be7d",
   "metadata": {},
   "outputs": [],
   "source": [
    "df_pobreza_GEIH.info()"
   ]
  },
  {
   "cell_type": "code",
   "execution_count": null,
   "id": "3799370f-6cc2-4ec6-839f-21cdc2c1e06c",
   "metadata": {},
   "outputs": [],
   "source": [
    "df_pobreza_GEIH[\"PERIODO\"].value_counts()"
   ]
  },
  {
   "cell_type": "code",
   "execution_count": null,
   "id": "b375660b-1d5e-4c35-8c31-dcab5d2cad0d",
   "metadata": {},
   "outputs": [],
   "source": [
    "## hacer filtro solo para 2022\n",
    "df_pobreza_GEIH = df_pobreza_GEIH[df_pobreza_GEIH[\"PERIODO\"]==2022]"
   ]
  },
  {
   "cell_type": "code",
   "execution_count": null,
   "id": "873e480e-1c20-4470-aa37-5a0a727cd43f",
   "metadata": {},
   "outputs": [],
   "source": [
    "df_pobreza_GEIH[\"PERIODO\"].value_counts()"
   ]
  },
  {
   "cell_type": "code",
   "execution_count": null,
   "id": "55bd8016-a810-476c-a5ca-f25a8efa7e81",
   "metadata": {},
   "outputs": [],
   "source": [
    "# contar duplicados\n",
    "df_pobreza_GEIH.duplicated().sum()"
   ]
  },
  {
   "cell_type": "markdown",
   "id": "dfb3228c-f621-42b7-b2ff-7df535721584",
   "metadata": {},
   "source": [
    "## Pobreza monetaria"
   ]
  },
  {
   "cell_type": "markdown",
   "id": "3134ff18-287e-4114-8d63-bb11a215b79b",
   "metadata": {},
   "source": [
    "### prueba nacional"
   ]
  },
  {
   "cell_type": "code",
   "execution_count": null,
   "id": "c64e903b-96f6-43ec-bf32-9159784670a7",
   "metadata": {},
   "outputs": [],
   "source": [
    "nal = df_pobreza_GEIH.groupby([\"PERIODO\"]).apply(\n",
    "    lambda x: pd.Series({\n",
    "        # vic des ipm\n",
    "        '%_nacional': round((x['POBRE'] * x['FEX_C']).sum() / (x[\"FEX_C\"]).sum() * 100, 1),\n",
    "        'nacional': round((x['POBRE'] * x[\"FEX_C\"]).sum(), 0)\n",
    "    })\n",
    ").reset_index()\n",
    "nal"
   ]
  },
  {
   "cell_type": "markdown",
   "id": "93870c93-f88c-4af4-b49d-ad0245c584a3",
   "metadata": {},
   "source": [
    "### Resultados muestrales"
   ]
  },
  {
   "cell_type": "code",
   "execution_count": null,
   "id": "83bf7379-6893-477e-8304-f3e92d897d04",
   "metadata": {},
   "outputs": [],
   "source": [
    "### agrupar los datos para sacar tabla y gráfica\n",
    "disca_h = df_pobreza_GEIH.groupby([\"DISCAPACIDAD\"]).apply(\n",
    "    lambda x: pd.Series({\n",
    "        # vic tot ipm\n",
    "        '%_vic_hechos': round((x['POBRE'] * x['ES_VICTIMA_POB']).sum() / (x['ES_VICTIMA_POB']).sum() * 100, 1),\n",
    "        'vic_hechos': round((x['POBRE']).sum(), 0)})\n",
    ").reset_index()\n",
    "\n",
    "disca_d = df_pobreza_GEIH.groupby([\"DISCAPACIDAD\"]).apply(\n",
    "    lambda x: pd.Series({\n",
    "        # vic des ipm\n",
    "        '%_des': round((x['POBRE'] * x['ES_DESPLAZADO_POB']).sum() / (x['ES_DESPLAZADO_POB']).sum() * 100, 1),\n",
    "        'des': round((x['POBRE'] * x['ES_DESPLAZADO_POB']).sum(), 0)\n",
    "    })\n",
    ").reset_index()\n",
    "\n",
    "\n",
    "disca_nv = df_pobreza_GEIH.groupby([\"DISCAPACIDAD\"]).apply(\n",
    "    lambda x: pd.Series({\n",
    "        # vic des ipm\n",
    "        '%_nv': round((x['POBRE'] * x[\"NO_VICTIMA_POB\"]).sum() / (x[\"NO_VICTIMA_POB\"]).sum() * 100, 1),\n",
    "        'no_vic': round((x['POBRE'] * x[\"NO_VICTIMA_POB\"]).sum(), 0)\n",
    "    })\n",
    ").reset_index()\n",
    "\n",
    "disca_nal = df_pobreza_GEIH.groupby([\"DISCAPACIDAD\"]).apply(\n",
    "    lambda x: pd.Series({\n",
    "        # vic des ipm\n",
    "        'nal': round((x['POBRE']).sum(), 0)\n",
    "    })\n",
    ").reset_index()\n",
    "\n",
    "frames_disca = [disca_h, disca_d, disca_nv, disca_nal]\n",
    "\n",
    "disca = reduce(lambda left, right: pd.merge(left, right, on =[\"DISCAPACIDAD\"]), frames_disca)\n",
    "disca "
   ]
  },
  {
   "cell_type": "markdown",
   "id": "e27f865f-08ab-4aff-8574-18282eacc349",
   "metadata": {},
   "source": [
    "### Resultados poblacionales"
   ]
  },
  {
   "cell_type": "code",
   "execution_count": null,
   "id": "6d4b75c5-9e0d-4906-982b-ae68a01b4ca9",
   "metadata": {},
   "outputs": [],
   "source": [
    "### agrupar los datos para sacar tabla y gráfica\n",
    "disca_h = df_pobreza_GEIH.groupby([\"DISCAPACIDAD\"]).apply(\n",
    "    lambda x: pd.Series({\n",
    "        # vic tot ipm\n",
    "        '%_vic_hechos': round((x['POBRE'] * x['ES_VICTIMA_POB']* x['FEX_C_VIV_POB']).sum() / (x['ES_VICTIMA_POB'] * x['FEX_C_VIV_POB']).sum() * 100, 1),\n",
    "        'vic_hechos': round((x['POBRE'] * x['FEX_C_VIV_POB']).sum(), 0)})\n",
    ").reset_index()\n",
    "\n",
    "disca_d = df_pobreza_GEIH.groupby([\"DISCAPACIDAD\"]).apply(\n",
    "    lambda x: pd.Series({\n",
    "        # vic des ipm\n",
    "        '%_des': round((x['POBRE'] * x['ES_DESPLAZADO_POB'] * x['FEX_C_VIV_POB']).sum() / (x['ES_DESPLAZADO_POB'] * x['FEX_C_VIV_POB']).sum() * 100, 1),\n",
    "        'des': round((x['POBRE'] * x['ES_DESPLAZADO_POB'] *  x['FEX_C_VIV_POB']).sum(), 0)\n",
    "    })\n",
    ").reset_index()\n",
    "\n",
    "\n",
    "disca_nv = df_pobreza_GEIH.groupby([\"DISCAPACIDAD\"]).apply(\n",
    "    lambda x: pd.Series({\n",
    "        # vic des ipm\n",
    "        '%_nv': round((x['POBRE'] * x[\"NO_VICTIMA_POB\"] * x['FEX_C']).sum() / (x[\"NO_VICTIMA_POB\"] * x[\"FEX_C\"]).sum() * 100, 1),\n",
    "        'no_vic': round((x['POBRE'] * x[\"NO_VICTIMA_POB\"]* x[\"FEX_C\"]).sum(), 0)\n",
    "    })\n",
    ").reset_index()\n",
    "\n",
    "\n",
    "disca_nal = df_pobreza_GEIH.groupby([\"DISCAPACIDAD\"]).apply(\n",
    "    lambda x: pd.Series({\n",
    "        # vic des ipm\n",
    "        '%_nal': round((x['POBRE'] * x['FEX_C']).sum() / (x[\"FEX_C\"]).sum() * 100, 1),\n",
    "        'nal': round((x['POBRE'] * x[\"FEX_C\"]).sum(), 0)\n",
    "    })\n",
    ").reset_index()\n",
    "\n",
    "frames_disca = [disca_h, disca_d, disca_nv, disca_nal]\n",
    "\n",
    "monetaria_discag = reduce(lambda left, right: pd.merge(left, right, on =[\"DISCAPACIDAD\"]), frames_disca)\n",
    "monetaria_discag"
   ]
  },
  {
   "cell_type": "markdown",
   "id": "343037be-9e96-45e7-9740-3305a2422b44",
   "metadata": {},
   "source": [
    "## Pobreza Extrema"
   ]
  },
  {
   "cell_type": "markdown",
   "id": "2620fe8e-64a8-4b49-a136-ed7c3401419d",
   "metadata": {},
   "source": [
    "### prueba nacional"
   ]
  },
  {
   "cell_type": "code",
   "execution_count": null,
   "id": "2d89fde0-6216-4ab8-a7f5-322e6f400739",
   "metadata": {},
   "outputs": [],
   "source": [
    "nal = df_pobreza_GEIH.groupby([\"PERIODO\"]).apply(\n",
    "    lambda x: pd.Series({\n",
    "        # vic des ipm\n",
    "        '%_nacional': round((x['INDIGENTE'] * x['FEX_C']).sum() / (x[\"FEX_C\"]).sum() * 100, 1),\n",
    "        'nacional': round((x['INDIGENTE'] * x[\"FEX_C\"]).sum(), 0)\n",
    "    })\n",
    ").reset_index()\n",
    "nal"
   ]
  },
  {
   "cell_type": "markdown",
   "id": "5296b935-9458-4d34-8e33-302411493686",
   "metadata": {},
   "source": [
    "### resultados poblacionales"
   ]
  },
  {
   "cell_type": "code",
   "execution_count": null,
   "id": "fa243990-09ba-4382-9378-5703f2690921",
   "metadata": {},
   "outputs": [],
   "source": [
    "### agrupar los datos para sacar tabla y gráfica\n",
    "disca_h_e = df_pobreza_GEIH.groupby([\"DISCAPACIDAD\"]).apply(\n",
    "    lambda x: pd.Series({\n",
    "        # vic tot ipm\n",
    "        '%_vic_hechos': round((x['INDIGENTE'] * x['ES_VICTIMA_POB']* x['FEX_C_VIV_POB']).sum() / (x['ES_VICTIMA_POB'] * x['FEX_C_VIV_POB']).sum() * 100, 1),\n",
    "        'vic_hechos': round((x['INDIGENTE'] * x['FEX_C_VIV_POB']).sum(), 0)})\n",
    ").reset_index()\n",
    "\n",
    "disca_d_e = df_pobreza_GEIH.groupby([\"DISCAPACIDAD\"]).apply(\n",
    "    lambda x: pd.Series({\n",
    "        # vic des ipm\n",
    "        '%_des': round((x['INDIGENTE'] * x['ES_DESPLAZADO_POB'] * x['FEX_C_VIV_POB']).sum() / (x['ES_DESPLAZADO_POB'] * x['FEX_C_VIV_POB']).sum() * 100, 1),\n",
    "        'des': round((x['INDIGENTE'] * x['ES_DESPLAZADO_POB'] *  x['FEX_C_VIV_POB']).sum(), 0)\n",
    "    })\n",
    ").reset_index()\n",
    "\n",
    "\n",
    "disca_nv_e = df_pobreza_GEIH.groupby([\"DISCAPACIDAD\"]).apply(\n",
    "    lambda x: pd.Series({\n",
    "        # vic des ipm\n",
    "        '%_nv': round((x['INDIGENTE'] * x[\"NO_VICTIMA_POB\"] * x['FEX_C']).sum() / (x[\"NO_VICTIMA_POB\"] * x[\"FEX_C\"]).sum() * 100, 1),\n",
    "        'no_vic': round((x['INDIGENTE'] * x[\"NO_VICTIMA_POB\"]* x[\"FEX_C\"]).sum(), 0)\n",
    "    })\n",
    ").reset_index()\n",
    "\n",
    "\n",
    "disca_nal_e = df_pobreza_GEIH.groupby([\"DISCAPACIDAD\"]).apply(\n",
    "    lambda x: pd.Series({\n",
    "        # vic des ipm\n",
    "        '%_nal': round((x['INDIGENTE'] * x['FEX_C']).sum() / (x['FEX_C']).sum() * 100, 1),\n",
    "        'nal': round((x['INDIGENTE'] * x['FEX_C']).sum(), 0)\n",
    "    })\n",
    ").reset_index()\n",
    "\n",
    "frames_disca_e = [disca_h_e, disca_d_e, disca_nv_e, disca_nal_e]\n",
    "\n",
    "extrema_discag = reduce(lambda left, right: pd.merge(left, right, on =[\"DISCAPACIDAD\"]), frames_disca_e)\n",
    "extrema_discag"
   ]
  },
  {
   "cell_type": "markdown",
   "id": "2c3b4c2c-828a-4755-9817-f22b589a9b59",
   "metadata": {},
   "source": [
    "## Exportar tablas"
   ]
  },
  {
   "cell_type": "code",
   "execution_count": null,
   "id": "7d0bf994-dd8d-4f02-b2a6-59169627ddfe",
   "metadata": {},
   "outputs": [],
   "source": [
    "salida = p2 + \"vic_ML_sexo_22.xlsx\"\n",
    "writer = pd.ExcelWriter(salida)\n",
    "\n",
    "# nombres de objetos de salida\n",
    "tab_out = [\n",
    "    # general            \n",
    "    \"sex\",\n",
    "    # laboral enfoques\n",
    "    #\"pob_lab_enf_disca\",\n",
    "    \"pob_lab_enf_sex\"]\n",
    "    #pobreza disca\n",
    "    #\"monetaria_disca\", \n",
    "    #\"extrema_disca\"]\n",
    "# listas vacias\n",
    "tablas = []\n",
    "pestañas = []\n",
    "\n",
    "for k in tab_out:\n",
    "    # nombre de tablas y pestañas\n",
    "   #The extend() method allows you to append elements from an iterable (like a list)\n",
    "   #to the end of another list.\n",
    "    tablas.extend([eval(f\"{k}g\")])\n",
    "    pestañas.extend([f\"{k}\"])\n",
    "\n",
    "#exportar cada tabla como una pestaña del archivo excel\n",
    "for i,j in zip(tablas, pestañas):\n",
    "    i.to_excel(writer, sheet_name = j, header = True, index= True)\n",
    "\n",
    "writer.close()"
   ]
  },
  {
   "cell_type": "code",
   "execution_count": null,
   "id": "fe5dad32-c8be-4e19-a480-8d9ffb7b8595",
   "metadata": {},
   "outputs": [],
   "source": []
  }
 ],
 "metadata": {
  "kernelspec": {
   "display_name": "Python 3 (ipykernel)",
   "language": "python",
   "name": "python3"
  },
  "language_info": {
   "codemirror_mode": {
    "name": "ipython",
    "version": 3
   },
   "file_extension": ".py",
   "mimetype": "text/x-python",
   "name": "python",
   "nbconvert_exporter": "python",
   "pygments_lexer": "ipython3",
   "version": "3.12.7"
  }
 },
 "nbformat": 4,
 "nbformat_minor": 5
}
